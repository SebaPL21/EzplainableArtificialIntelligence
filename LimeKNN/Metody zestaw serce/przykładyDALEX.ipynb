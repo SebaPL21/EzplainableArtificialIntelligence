{
 "cells": [
  {
   "cell_type": "code",
   "execution_count": 2,
   "metadata": {},
   "outputs": [
    {
     "name": "stdout",
     "output_type": "stream",
     "text": [
      "Preparation of a new explainer is initiated\n",
      "\n",
      "  -> data              : 81 rows 13 cols\n",
      "  -> target variable   : Parameter 'y' was a pandas.Series. Converted to a numpy.ndarray.\n",
      "  -> target variable   : 81 values\n",
      "  -> model_class       : sklearn.ensemble._forest.RandomForestClassifier (default)\n",
      "  -> label             : Model RandomForest dla danych serca\n",
      "  -> predict function  : <function yhat_proba_default at 0x0000027BCEF4D440> will be used (default)\n",
      "  -> predict function  : Accepts pandas.DataFrame and numpy.ndarray.\n",
      "  -> predicted values  : min = 0.02, mean = 0.375, max = 0.95\n",
      "  -> model type        : classification will be used (default)\n",
      "  -> residual function : difference between y and yhat (default)\n",
      "  -> residuals         : min = 0.41, mean = 1.02, max = 1.87\n",
      "  -> model_info        : package sklearn\n",
      "\n",
      "A new explainer has been created!\n"
     ]
    },
    {
     "data": {
      "application/vnd.plotly.v1+json": {
       "config": {
        "displaylogo": false,
        "modeBarButtonsToRemove": [
         "sendDataToCloud",
         "lasso2d",
         "autoScale2d",
         "select2d",
         "zoom2d",
         "pan2d",
         "zoomIn2d",
         "zoomOut2d",
         "resetScale2d",
         "toggleSpikelines",
         "hoverCompareCartesian",
         "hoverClosestCartesian"
        ],
        "plotlyServerURL": "https://plot.ly",
        "staticPlot": false,
        "toImageButtonOptions": {
         "height": null,
         "width": null
        }
       },
       "data": [
        {
         "base": 0.3746913580246914,
         "connector": {
          "line": {
           "color": "#371ea3",
           "dash": "solid",
           "width": 1
          },
          "mode": "spanning"
         },
         "decreasing": {
          "marker": {
           "color": "#f05a71"
          }
         },
         "hoverinfo": "text+delta",
         "hoverlabel": {
          "bgcolor": "rgba(0,0,0,0.8)"
         },
         "hovertext": [
          "Average response: 0.375<br>Prediction: 0.42",
          "proba_ta = 7.0<br>increases average response by",
          "zwapnienia_miazdzycowe = 1.0<br>increases average response by",
          "przebieg_st_szczyt = 2.0<br>increases average response by",
          "plec = 1.0<br>increases average response by",
          "cukier_we_krwi = 0.0<br>increases average response by",
          "wynik_ekg_spoczynek = 2.0<br>increases average response by",
          "wiek = 57.0<br>increases average response by",
          "ilosc_uderzen_serca = 150.0<br>decreases average response by",
          "cholesterol_we_krwi = 229.0<br>decreases average response by",
          "cisnienie_krwi_spoczynek = 128.0<br>decreases average response by",
          "+ all other factors<br>decreases average response by",
          "Average response: 0.375<br>Prediction: 0.42"
         ],
         "increasing": {
          "marker": {
           "color": "#8bdcbe"
          }
         },
         "measure": [
          "relative",
          "relative",
          "relative",
          "relative",
          "relative",
          "relative",
          "relative",
          "relative",
          "relative",
          "relative",
          "relative",
          "relative",
          "total"
         ],
         "orientation": "h",
         "showlegend": false,
         "text": [
          "0.375",
          "+0.117",
          "+0.054",
          "+0.048",
          "+0.033",
          "+0.002",
          "+0.008",
          "+0.029",
          "-0.032",
          "-0.016",
          "-0.014",
          "-0.184",
          "0.42"
         ],
         "textposition": "outside",
         "totals": {
          "marker": {
           "color": "#371ea3"
          }
         },
         "type": "waterfall",
         "x": [
          0,
          0.117,
          0.054,
          0.048,
          0.033,
          0.002,
          0.008,
          0.029,
          -0.032,
          -0.016,
          -0.014,
          -0.184,
          0.045
         ],
         "xaxis": "x",
         "y": [
          "intercept",
          "proba_ta = 7.0",
          "zwapnienia_miazdzycowe = 1.0",
          "przebieg_st_szczyt = 2.0",
          "plec = 1.0",
          "cukier_we_krwi = 0.0",
          "wynik_ekg_spoczynek = 2.0",
          "wiek = 57.0",
          "ilosc_uderzen_serca = 150.0",
          "cholesterol_we_krwi = 229.0",
          "cisnienie_krwi_spoczynek = 128.0",
          "+ all other factors",
          "prediction"
         ],
         "yaxis": "y"
        }
       ],
       "layout": {
        "annotations": [
         {
          "font": {
           "size": 16
          },
          "showarrow": false,
          "text": "Model RandomForest dla danych serca",
          "x": 0.5,
          "xanchor": "center",
          "xref": "paper",
          "y": 1,
          "yanchor": "bottom",
          "yref": "paper"
         },
         {
          "font": {
           "size": 16
          },
          "showarrow": false,
          "text": "contribution",
          "x": 0.5,
          "xanchor": "center",
          "xref": "paper",
          "y": 0,
          "yanchor": "top",
          "yref": "paper",
          "yshift": -30
         }
        ],
        "font": {
         "color": "#371ea3"
        },
        "height": 413,
        "margin": {
         "b": 71,
         "r": 30,
         "t": 78
        },
        "shapes": [
         {
          "line": {
           "color": "#371ea3",
           "dash": "dot",
           "width": 1.5
          },
          "type": "line",
          "x0": 0.3746913580246914,
          "x1": 0.3746913580246914,
          "xref": "x",
          "y0": -1,
          "y1": 13,
          "yref": "y"
         }
        ],
        "template": {
         "data": {
          "scatter": [
           {
            "type": "scatter"
           }
          ]
         }
        },
        "title": {
         "text": "Break Down",
         "x": 0.15
        },
        "xaxis": {
         "anchor": "y",
         "automargin": true,
         "domain": [
          0,
          1
         ],
         "fixedrange": true,
         "gridwidth": 2,
         "range": [
          0.33135,
          0.70965
         ],
         "tickcolor": "white",
         "ticklen": 3,
         "ticks": "outside",
         "type": "linear",
         "zeroline": false
        },
        "yaxis": {
         "anchor": "x",
         "automargin": true,
         "autorange": "reversed",
         "domain": [
          0,
          1
         ],
         "fixedrange": true,
         "gridwidth": 2,
         "tickcolor": "white",
         "ticklen": 10,
         "ticks": "outside",
         "type": "category"
        }
       }
      }
     },
     "metadata": {},
     "output_type": "display_data"
    },
    {
     "name": "stdout",
     "output_type": "stream",
     "text": [
      "Progi klasyfikacji dla pierwszej obserwacji: {'Klasa 0': 0.58, 'Klasa 1': 0.42}\n"
     ]
    },
    {
     "data": {
      "application/vnd.plotly.v1+json": {
       "config": {
        "displaylogo": false,
        "modeBarButtonsToRemove": [
         "sendDataToCloud",
         "lasso2d",
         "autoScale2d",
         "select2d",
         "zoom2d",
         "pan2d",
         "zoomIn2d",
         "zoomOut2d",
         "resetScale2d",
         "toggleSpikelines",
         "hoverCompareCartesian",
         "hoverClosestCartesian"
        ],
        "plotlyServerURL": "https://plot.ly",
        "staticPlot": false,
        "toImageButtonOptions": {
         "height": null,
         "width": null
        }
       },
       "data": [
        {
         "base": 0.6648230088495575,
         "hoverinfo": "text",
         "hoverlabel": {
          "bgcolor": "rgba(0,0,0,0.8)"
         },
         "hovertext": [
          "Model: Model RandomForest dla danych serca loss after<br>variable: przebieg_st_szczyt is permuted: 0.671<br>Drop-out loss change: +0.007",
          "Model: Model RandomForest dla danych serca loss after<br>variable: cisnienie_krwi_spoczynek is permuted: 0.665<br>Drop-out loss change: +0.0",
          "Model: Model RandomForest dla danych serca loss after<br>variable: bol_klatka_wysilek is permuted: 0.664<br>Drop-out loss change: -0.0",
          "Model: Model RandomForest dla danych serca loss after<br>variable: wynik_ekg_spoczynek is permuted: 0.664<br>Drop-out loss change: -0.001",
          "Model: Model RandomForest dla danych serca loss after<br>variable: max_obnizka_st is permuted: 0.664<br>Drop-out loss change: -0.001",
          "Model: Model RandomForest dla danych serca loss after<br>variable: cukier_we_krwi is permuted: 0.664<br>Drop-out loss change: -0.001",
          "Model: Model RandomForest dla danych serca loss after<br>variable: wiek is permuted: 0.663<br>Drop-out loss change: -0.002",
          "Model: Model RandomForest dla danych serca loss after<br>variable: cholesterol_we_krwi is permuted: 0.66<br>Drop-out loss change: -0.005",
          "Model: Model RandomForest dla danych serca loss after<br>variable: plec is permuted: 0.658<br>Drop-out loss change: -0.007",
          "Model: Model RandomForest dla danych serca loss after<br>variable: ilosc_uderzen_serca is permuted: 0.658<br>Drop-out loss change: -0.007"
         ],
         "marker": {
          "color": "#46bac2"
         },
         "orientation": "h",
         "showlegend": false,
         "text": [
          "+0.007",
          "+0.0",
          "0.0",
          "0.001",
          "0.001",
          "0.001",
          "0.002",
          "0.005",
          "0.007",
          "0.007"
         ],
         "textposition": "outside",
         "type": "bar",
         "x": [
          0.006650995575221308,
          0.00020741150442482592,
          -0.0004424778761061843,
          -0.0007328539823008295,
          -0.0009402654867254334,
          -0.001216814159291868,
          -0.0023091814159292845,
          -0.004770464601769886,
          -0.007134955752212235,
          -0.007190265486725633
         ],
         "xaxis": "x",
         "y": [
          "przebieg_st_szczyt",
          "cisnienie_krwi_spoczynek",
          "bol_klatka_wysilek",
          "wynik_ekg_spoczynek",
          "max_obnizka_st",
          "cukier_we_krwi",
          "wiek",
          "cholesterol_we_krwi",
          "plec",
          "ilosc_uderzen_serca"
         ],
         "yaxis": "y"
        }
       ],
       "layout": {
        "annotations": [
         {
          "font": {
           "size": 16
          },
          "showarrow": false,
          "text": "Model RandomForest dla danych serca",
          "x": 0.5,
          "xanchor": "center",
          "xref": "paper",
          "y": 1,
          "yanchor": "bottom",
          "yref": "paper"
         },
         {
          "font": {
           "size": 16
          },
          "showarrow": false,
          "text": "drop-out loss",
          "x": 0.5,
          "xanchor": "center",
          "xref": "paper",
          "y": 0,
          "yanchor": "top",
          "yref": "paper",
          "yshift": -30
         }
        ],
        "font": {
         "color": "#371ea3"
        },
        "height": 383,
        "margin": {
         "b": 71,
         "r": 30,
         "t": 78
        },
        "shapes": [
         {
          "line": {
           "color": "#371ea3",
           "dash": "dot",
           "width": 1.5
          },
          "type": "line",
          "x0": 0.6648230088495575,
          "x1": 0.6648230088495575,
          "xref": "x",
          "y0": -1,
          "y1": 10,
          "yref": "y"
         }
        ],
        "template": {
         "data": {
          "scatter": [
           {
            "type": "scatter"
           }
          ]
         }
        },
        "title": {
         "text": "Variable Importance",
         "x": 0.15
        },
        "xaxis": {
         "anchor": "y",
         "automargin": true,
         "domain": [
          0,
          1
         ],
         "fixedrange": true,
         "gridwidth": 2,
         "range": [
          0.6268860619469027,
          0.6772898230088495
         ],
         "tickcolor": "white",
         "ticklen": 3,
         "ticks": "outside",
         "type": "linear",
         "zeroline": false
        },
        "yaxis": {
         "anchor": "x",
         "automargin": true,
         "autorange": "reversed",
         "domain": [
          0,
          1
         ],
         "fixedrange": true,
         "gridwidth": 2,
         "tickcolor": "white",
         "ticklen": 10,
         "ticks": "outside",
         "type": "category"
        }
       }
      }
     },
     "metadata": {},
     "output_type": "display_data"
    },
    {
     "name": "stdout",
     "output_type": "stream",
     "text": [
      "Partial Dependence Plots\n"
     ]
    },
    {
     "name": "stderr",
     "output_type": "stream",
     "text": [
      "Calculating ceteris paribus: 100%|██████████| 1/1 [00:00<00:00, 13.93it/s]\n"
     ]
    },
    {
     "data": {
      "application/vnd.plotly.v1+json": {
       "config": {
        "displaylogo": false,
        "modeBarButtonsToRemove": [
         "sendDataToCloud",
         "lasso2d",
         "autoScale2d",
         "select2d",
         "zoom2d",
         "pan2d",
         "zoomIn2d",
         "zoomOut2d",
         "resetScale2d",
         "toggleSpikelines",
         "hoverCompareCartesian",
         "hoverClosestCartesian"
        ],
        "plotlyServerURL": "https://plot.ly",
        "staticPlot": false,
        "toImageButtonOptions": {
         "height": null,
         "width": null
        }
       },
       "data": [
        {
         "customdata": [
          [
           0.37469135802469145,
           "Model RandomForest dla danych serca",
           "wiek"
          ],
          [
           0.37469135802469145,
           "Model RandomForest dla danych serca",
           "wiek"
          ],
          [
           0.37469135802469145,
           "Model RandomForest dla danych serca",
           "wiek"
          ],
          [
           0.37469135802469145,
           "Model RandomForest dla danych serca",
           "wiek"
          ],
          [
           0.37469135802469145,
           "Model RandomForest dla danych serca",
           "wiek"
          ],
          [
           0.37469135802469145,
           "Model RandomForest dla danych serca",
           "wiek"
          ],
          [
           0.37469135802469145,
           "Model RandomForest dla danych serca",
           "wiek"
          ],
          [
           0.37469135802469145,
           "Model RandomForest dla danych serca",
           "wiek"
          ],
          [
           0.37469135802469145,
           "Model RandomForest dla danych serca",
           "wiek"
          ],
          [
           0.37469135802469145,
           "Model RandomForest dla danych serca",
           "wiek"
          ],
          [
           0.37469135802469145,
           "Model RandomForest dla danych serca",
           "wiek"
          ],
          [
           0.37469135802469145,
           "Model RandomForest dla danych serca",
           "wiek"
          ],
          [
           0.37469135802469145,
           "Model RandomForest dla danych serca",
           "wiek"
          ],
          [
           0.37469135802469145,
           "Model RandomForest dla danych serca",
           "wiek"
          ],
          [
           0.37469135802469145,
           "Model RandomForest dla danych serca",
           "wiek"
          ],
          [
           0.37469135802469145,
           "Model RandomForest dla danych serca",
           "wiek"
          ],
          [
           0.37469135802469145,
           "Model RandomForest dla danych serca",
           "wiek"
          ],
          [
           0.37469135802469145,
           "Model RandomForest dla danych serca",
           "wiek"
          ],
          [
           0.37469135802469145,
           "Model RandomForest dla danych serca",
           "wiek"
          ],
          [
           0.37469135802469145,
           "Model RandomForest dla danych serca",
           "wiek"
          ],
          [
           0.37469135802469145,
           "Model RandomForest dla danych serca",
           "wiek"
          ],
          [
           0.37469135802469145,
           "Model RandomForest dla danych serca",
           "wiek"
          ],
          [
           0.37469135802469145,
           "Model RandomForest dla danych serca",
           "wiek"
          ],
          [
           0.37469135802469145,
           "Model RandomForest dla danych serca",
           "wiek"
          ],
          [
           0.37469135802469145,
           "Model RandomForest dla danych serca",
           "wiek"
          ],
          [
           0.37469135802469145,
           "Model RandomForest dla danych serca",
           "wiek"
          ],
          [
           0.37469135802469145,
           "Model RandomForest dla danych serca",
           "wiek"
          ],
          [
           0.37469135802469145,
           "Model RandomForest dla danych serca",
           "wiek"
          ],
          [
           0.37469135802469145,
           "Model RandomForest dla danych serca",
           "wiek"
          ],
          [
           0.37469135802469145,
           "Model RandomForest dla danych serca",
           "wiek"
          ],
          [
           0.37469135802469145,
           "Model RandomForest dla danych serca",
           "wiek"
          ],
          [
           0.37469135802469145,
           "Model RandomForest dla danych serca",
           "wiek"
          ],
          [
           0.37469135802469145,
           "Model RandomForest dla danych serca",
           "wiek"
          ],
          [
           0.37469135802469145,
           "Model RandomForest dla danych serca",
           "wiek"
          ],
          [
           0.37469135802469145,
           "Model RandomForest dla danych serca",
           "wiek"
          ],
          [
           0.37469135802469145,
           "Model RandomForest dla danych serca",
           "wiek"
          ],
          [
           0.37469135802469145,
           "Model RandomForest dla danych serca",
           "wiek"
          ],
          [
           0.37469135802469145,
           "Model RandomForest dla danych serca",
           "wiek"
          ],
          [
           0.37469135802469145,
           "Model RandomForest dla danych serca",
           "wiek"
          ],
          [
           0.37469135802469145,
           "Model RandomForest dla danych serca",
           "wiek"
          ],
          [
           0.37469135802469145,
           "Model RandomForest dla danych serca",
           "wiek"
          ],
          [
           0.37469135802469145,
           "Model RandomForest dla danych serca",
           "wiek"
          ],
          [
           0.37469135802469145,
           "Model RandomForest dla danych serca",
           "wiek"
          ],
          [
           0.37469135802469145,
           "Model RandomForest dla danych serca",
           "wiek"
          ],
          [
           0.37469135802469145,
           "Model RandomForest dla danych serca",
           "wiek"
          ],
          [
           0.37469135802469145,
           "Model RandomForest dla danych serca",
           "wiek"
          ],
          [
           0.37469135802469145,
           "Model RandomForest dla danych serca",
           "wiek"
          ],
          [
           0.37469135802469145,
           "Model RandomForest dla danych serca",
           "wiek"
          ],
          [
           0.37469135802469145,
           "Model RandomForest dla danych serca",
           "wiek"
          ],
          [
           0.37469135802469145,
           "Model RandomForest dla danych serca",
           "wiek"
          ],
          [
           0.37469135802469145,
           "Model RandomForest dla danych serca",
           "wiek"
          ],
          [
           0.37469135802469145,
           "Model RandomForest dla danych serca",
           "wiek"
          ],
          [
           0.37469135802469145,
           "Model RandomForest dla danych serca",
           "wiek"
          ],
          [
           0.37469135802469145,
           "Model RandomForest dla danych serca",
           "wiek"
          ],
          [
           0.37469135802469145,
           "Model RandomForest dla danych serca",
           "wiek"
          ],
          [
           0.37469135802469145,
           "Model RandomForest dla danych serca",
           "wiek"
          ],
          [
           0.37469135802469145,
           "Model RandomForest dla danych serca",
           "wiek"
          ],
          [
           0.37469135802469145,
           "Model RandomForest dla danych serca",
           "wiek"
          ],
          [
           0.37469135802469145,
           "Model RandomForest dla danych serca",
           "wiek"
          ],
          [
           0.37469135802469145,
           "Model RandomForest dla danych serca",
           "wiek"
          ],
          [
           0.37469135802469145,
           "Model RandomForest dla danych serca",
           "wiek"
          ],
          [
           0.37469135802469145,
           "Model RandomForest dla danych serca",
           "wiek"
          ],
          [
           0.37469135802469145,
           "Model RandomForest dla danych serca",
           "wiek"
          ],
          [
           0.37469135802469145,
           "Model RandomForest dla danych serca",
           "wiek"
          ],
          [
           0.37469135802469145,
           "Model RandomForest dla danych serca",
           "wiek"
          ],
          [
           0.37469135802469145,
           "Model RandomForest dla danych serca",
           "wiek"
          ],
          [
           0.37469135802469145,
           "Model RandomForest dla danych serca",
           "wiek"
          ],
          [
           0.37469135802469145,
           "Model RandomForest dla danych serca",
           "wiek"
          ],
          [
           0.37469135802469145,
           "Model RandomForest dla danych serca",
           "wiek"
          ],
          [
           0.37469135802469145,
           "Model RandomForest dla danych serca",
           "wiek"
          ],
          [
           0.37469135802469145,
           "Model RandomForest dla danych serca",
           "wiek"
          ],
          [
           0.37469135802469145,
           "Model RandomForest dla danych serca",
           "wiek"
          ],
          [
           0.37469135802469145,
           "Model RandomForest dla danych serca",
           "wiek"
          ],
          [
           0.37469135802469145,
           "Model RandomForest dla danych serca",
           "wiek"
          ],
          [
           0.37469135802469145,
           "Model RandomForest dla danych serca",
           "wiek"
          ],
          [
           0.37469135802469145,
           "Model RandomForest dla danych serca",
           "wiek"
          ],
          [
           0.37469135802469145,
           "Model RandomForest dla danych serca",
           "wiek"
          ],
          [
           0.37469135802469145,
           "Model RandomForest dla danych serca",
           "wiek"
          ],
          [
           0.37469135802469145,
           "Model RandomForest dla danych serca",
           "wiek"
          ],
          [
           0.37469135802469145,
           "Model RandomForest dla danych serca",
           "wiek"
          ],
          [
           0.37469135802469145,
           "Model RandomForest dla danych serca",
           "wiek"
          ],
          [
           0.37469135802469145,
           "Model RandomForest dla danych serca",
           "wiek"
          ],
          [
           0.37469135802469145,
           "Model RandomForest dla danych serca",
           "wiek"
          ],
          [
           0.37469135802469145,
           "Model RandomForest dla danych serca",
           "wiek"
          ],
          [
           0.37469135802469145,
           "Model RandomForest dla danych serca",
           "wiek"
          ],
          [
           0.37469135802469145,
           "Model RandomForest dla danych serca",
           "wiek"
          ],
          [
           0.37469135802469145,
           "Model RandomForest dla danych serca",
           "wiek"
          ],
          [
           0.37469135802469145,
           "Model RandomForest dla danych serca",
           "wiek"
          ],
          [
           0.37469135802469145,
           "Model RandomForest dla danych serca",
           "wiek"
          ],
          [
           0.37469135802469145,
           "Model RandomForest dla danych serca",
           "wiek"
          ],
          [
           0.37469135802469145,
           "Model RandomForest dla danych serca",
           "wiek"
          ],
          [
           0.37469135802469145,
           "Model RandomForest dla danych serca",
           "wiek"
          ],
          [
           0.37469135802469145,
           "Model RandomForest dla danych serca",
           "wiek"
          ],
          [
           0.37469135802469145,
           "Model RandomForest dla danych serca",
           "wiek"
          ],
          [
           0.37469135802469145,
           "Model RandomForest dla danych serca",
           "wiek"
          ],
          [
           0.37469135802469145,
           "Model RandomForest dla danych serca",
           "wiek"
          ],
          [
           0.37469135802469145,
           "Model RandomForest dla danych serca",
           "wiek"
          ],
          [
           0.37469135802469145,
           "Model RandomForest dla danych serca",
           "wiek"
          ],
          [
           0.37469135802469145,
           "Model RandomForest dla danych serca",
           "wiek"
          ],
          [
           0.37469135802469145,
           "Model RandomForest dla danych serca",
           "wiek"
          ],
          [
           0.37469135802469145,
           "Model RandomForest dla danych serca",
           "wiek"
          ]
         ],
         "hovertemplate": "<b>%{hovertext}</b><br><br>prediction=%{y:.3f}<br>mean_prediction=%{customdata[0]:.3f}<extra></extra>",
         "hovertext": [
          "Model RandomForest dla danych serca",
          "Model RandomForest dla danych serca",
          "Model RandomForest dla danych serca",
          "Model RandomForest dla danych serca",
          "Model RandomForest dla danych serca",
          "Model RandomForest dla danych serca",
          "Model RandomForest dla danych serca",
          "Model RandomForest dla danych serca",
          "Model RandomForest dla danych serca",
          "Model RandomForest dla danych serca",
          "Model RandomForest dla danych serca",
          "Model RandomForest dla danych serca",
          "Model RandomForest dla danych serca",
          "Model RandomForest dla danych serca",
          "Model RandomForest dla danych serca",
          "Model RandomForest dla danych serca",
          "Model RandomForest dla danych serca",
          "Model RandomForest dla danych serca",
          "Model RandomForest dla danych serca",
          "Model RandomForest dla danych serca",
          "Model RandomForest dla danych serca",
          "Model RandomForest dla danych serca",
          "Model RandomForest dla danych serca",
          "Model RandomForest dla danych serca",
          "Model RandomForest dla danych serca",
          "Model RandomForest dla danych serca",
          "Model RandomForest dla danych serca",
          "Model RandomForest dla danych serca",
          "Model RandomForest dla danych serca",
          "Model RandomForest dla danych serca",
          "Model RandomForest dla danych serca",
          "Model RandomForest dla danych serca",
          "Model RandomForest dla danych serca",
          "Model RandomForest dla danych serca",
          "Model RandomForest dla danych serca",
          "Model RandomForest dla danych serca",
          "Model RandomForest dla danych serca",
          "Model RandomForest dla danych serca",
          "Model RandomForest dla danych serca",
          "Model RandomForest dla danych serca",
          "Model RandomForest dla danych serca",
          "Model RandomForest dla danych serca",
          "Model RandomForest dla danych serca",
          "Model RandomForest dla danych serca",
          "Model RandomForest dla danych serca",
          "Model RandomForest dla danych serca",
          "Model RandomForest dla danych serca",
          "Model RandomForest dla danych serca",
          "Model RandomForest dla danych serca",
          "Model RandomForest dla danych serca",
          "Model RandomForest dla danych serca",
          "Model RandomForest dla danych serca",
          "Model RandomForest dla danych serca",
          "Model RandomForest dla danych serca",
          "Model RandomForest dla danych serca",
          "Model RandomForest dla danych serca",
          "Model RandomForest dla danych serca",
          "Model RandomForest dla danych serca",
          "Model RandomForest dla danych serca",
          "Model RandomForest dla danych serca",
          "Model RandomForest dla danych serca",
          "Model RandomForest dla danych serca",
          "Model RandomForest dla danych serca",
          "Model RandomForest dla danych serca",
          "Model RandomForest dla danych serca",
          "Model RandomForest dla danych serca",
          "Model RandomForest dla danych serca",
          "Model RandomForest dla danych serca",
          "Model RandomForest dla danych serca",
          "Model RandomForest dla danych serca",
          "Model RandomForest dla danych serca",
          "Model RandomForest dla danych serca",
          "Model RandomForest dla danych serca",
          "Model RandomForest dla danych serca",
          "Model RandomForest dla danych serca",
          "Model RandomForest dla danych serca",
          "Model RandomForest dla danych serca",
          "Model RandomForest dla danych serca",
          "Model RandomForest dla danych serca",
          "Model RandomForest dla danych serca",
          "Model RandomForest dla danych serca",
          "Model RandomForest dla danych serca",
          "Model RandomForest dla danych serca",
          "Model RandomForest dla danych serca",
          "Model RandomForest dla danych serca",
          "Model RandomForest dla danych serca",
          "Model RandomForest dla danych serca",
          "Model RandomForest dla danych serca",
          "Model RandomForest dla danych serca",
          "Model RandomForest dla danych serca",
          "Model RandomForest dla danych serca",
          "Model RandomForest dla danych serca",
          "Model RandomForest dla danych serca",
          "Model RandomForest dla danych serca",
          "Model RandomForest dla danych serca",
          "Model RandomForest dla danych serca",
          "Model RandomForest dla danych serca",
          "Model RandomForest dla danych serca",
          "Model RandomForest dla danych serca",
          "Model RandomForest dla danych serca",
          "Model RandomForest dla danych serca"
         ],
         "legendgroup": "Model RandomForest dla danych serca",
         "line": {
          "color": "#46bac2",
          "dash": "solid",
          "width": 2
         },
         "marker": {
          "symbol": "circle"
         },
         "mode": "lines",
         "name": "Model RandomForest dla danych serca",
         "opacity": 1,
         "orientation": "v",
         "showlegend": true,
         "type": "scatter",
         "x": [
          35,
          35.42,
          35.84,
          36.26,
          36.68,
          37.1,
          37.52,
          37.94,
          38.36,
          38.78,
          39.2,
          39.62,
          40.04,
          40.46,
          40.88,
          41.3,
          41.72,
          42.14,
          42.56,
          42.98,
          43.4,
          43.82,
          44.24,
          44.66,
          45.08,
          45.5,
          45.92,
          46.34,
          46.76,
          47.18,
          47.6,
          48.019999999999996,
          48.44,
          48.86,
          49.28,
          49.7,
          50.12,
          50.54,
          50.96,
          51.379999999999995,
          51.8,
          52.22,
          52.64,
          53.06,
          53.480000000000004,
          53.9,
          54.32,
          54.739999999999995,
          55.16,
          55.58,
          56,
          56.42,
          56.84,
          57.26,
          57.68,
          58.099999999999994,
          58.519999999999996,
          58.94,
          59.36,
          59.78,
          60.2,
          60.62,
          61.04,
          61.459999999999994,
          61.879999999999995,
          62.3,
          62.72,
          63.14,
          63.56,
          63.980000000000004,
          64.4,
          64.82,
          65.24,
          65.66,
          66.08,
          66.5,
          66.92,
          67.34,
          67.75999999999999,
          68.18,
          68.6,
          69.02,
          69.44,
          69.86,
          70.28,
          70.69999999999999,
          71.12,
          71.53999999999999,
          71.96000000000001,
          72.38,
          72.8,
          73.22,
          73.64,
          74.06,
          74.47999999999999,
          74.9,
          75.32,
          75.74000000000001,
          76.16,
          76.58,
          77
         ],
         "xaxis": "x",
         "y": [
          0.3928395061728395,
          0.3928395061728395,
          0.3928395061728395,
          0.3925925925925926,
          0.3925925925925926,
          0.3925925925925926,
          0.3925925925925926,
          0.3925925925925926,
          0.38839506172839505,
          0.38839506172839505,
          0.3882716049382716,
          0.3890123456790124,
          0.3869135802469136,
          0.3869135802469136,
          0.3745679012345679,
          0.3693827160493827,
          0.3639506172839506,
          0.36209876543209873,
          0.36320987654320985,
          0.36320987654320985,
          0.3630864197530864,
          0.36296296296296293,
          0.36333333333333334,
          0.3632098765432099,
          0.3623456790123457,
          0.3623456790123457,
          0.36839506172839503,
          0.3685185185185185,
          0.37234567901234567,
          0.37061728395061727,
          0.36592592592592593,
          0.3628395061728395,
          0.3628395061728395,
          0.3591358024691358,
          0.3569135802469136,
          0.35234567901234565,
          0.3483950617283951,
          0.3477777777777778,
          0.3477777777777778,
          0.34703703703703703,
          0.3448148148148148,
          0.344320987654321,
          0.3449382716049383,
          0.3458024691358024,
          0.3458024691358024,
          0.3434567901234568,
          0.34530864197530864,
          0.3538271604938272,
          0.3569135802469136,
          0.3639506172839506,
          0.3639506172839506,
          0.3692592592592593,
          0.37308641975308643,
          0.3746913580246914,
          0.38037037037037036,
          0.3845679012345679,
          0.3893827160493827,
          0.3893827160493827,
          0.38666666666666666,
          0.39382716049382716,
          0.3980246913580247,
          0.4066666666666666,
          0.40506172839506177,
          0.40506172839506177,
          0.4012345679012346,
          0.40469135802469136,
          0.4001234567901235,
          0.39481481481481484,
          0.4001234567901234,
          0.4001234567901234,
          0.3987654320987654,
          0.39901234567901234,
          0.4022222222222222,
          0.4033333333333334,
          0.40283950617283953,
          0.40283950617283953,
          0.4034567901234568,
          0.4065432098765432,
          0.4049382716049382,
          0.40592592592592597,
          0.40592592592592597,
          0.40592592592592597,
          0.40592592592592597,
          0.40444444444444444,
          0.4034567901234568,
          0.39641975308641975,
          0.39641975308641975,
          0.39641975308641975,
          0.39641975308641975,
          0.39641975308641975,
          0.39641975308641975,
          0.39641975308641975,
          0.39641975308641975,
          0.39641975308641975,
          0.39641975308641975,
          0.39641975308641975,
          0.39641975308641975,
          0.39641975308641975,
          0.39641975308641975,
          0.39641975308641975,
          0.39641975308641975
         ],
         "yaxis": "y"
        }
       ],
       "layout": {
        "annotations": [
         {
          "font": {
           "size": 13
          },
          "showarrow": false,
          "text": "wiek",
          "x": 0.5,
          "xanchor": "center",
          "xref": "paper",
          "y": 1,
          "yanchor": "bottom",
          "yref": "paper"
         },
         {
          "font": {
           "size": 13
          },
          "showarrow": false,
          "text": "prediction",
          "textangle": -90,
          "x": -0.07,
          "xref": "paper",
          "y": 0.5,
          "yref": "paper"
         }
        ],
        "font": {
         "color": "#371ea3"
        },
        "height": 489,
        "hovermode": "x unified",
        "legend": {
         "font": {
          "size": 11
         },
         "itemsizing": "constant",
         "orientation": "h",
         "title": {
          "font": {
           "size": 12
          },
          "text": "label"
         },
         "tracegroupgap": 0,
         "x": 1,
         "xanchor": "right",
         "y": 1.0613496932515338,
         "yanchor": "bottom"
        },
        "margin": {
         "b": 71,
         "r": 30,
         "t": 78
        },
        "template": {
         "data": {
          "scatter": [
           {
            "type": "scatter"
           }
          ]
         }
        },
        "title": {
         "font": {
          "size": 16
         },
         "text": "Aggregated Profiles",
         "x": 0.15
        },
        "xaxis": {
         "anchor": "y",
         "automargin": true,
         "domain": [
          0,
          1
         ],
         "fixedrange": true,
         "gridwidth": 2,
         "showticklabels": true,
         "tickcolor": "white",
         "ticklen": 3,
         "ticks": "outside",
         "title": {
          "text": ""
         },
         "type": "linear",
         "zeroline": false
        },
        "yaxis": {
         "anchor": "x",
         "automargin": true,
         "domain": [
          0,
          1
         ],
         "fixedrange": true,
         "gridwidth": 2,
         "range": [
          0.3371358024691358,
          0.4129876543209876
         ],
         "tickcolor": "white",
         "ticklen": 3,
         "ticks": "outside",
         "title": {
          "text": ""
         },
         "type": "linear",
         "zeroline": false
        }
       }
      }
     },
     "metadata": {},
     "output_type": "display_data"
    },
    {
     "name": "stdout",
     "output_type": "stream",
     "text": [
      "Ceteris Paribus\n"
     ]
    },
    {
     "name": "stderr",
     "output_type": "stream",
     "text": [
      "Calculating ceteris paribus: 100%|██████████| 13/13 [00:00<00:00, 78.73it/s]\n"
     ]
    },
    {
     "data": {
      "application/vnd.plotly.v1+json": {
       "config": {
        "displaylogo": false,
        "modeBarButtonsToRemove": [
         "sendDataToCloud",
         "lasso2d",
         "autoScale2d",
         "select2d",
         "zoom2d",
         "pan2d",
         "zoomIn2d",
         "zoomOut2d",
         "resetScale2d",
         "toggleSpikelines",
         "hoverCompareCartesian",
         "hoverClosestCartesian"
        ],
        "plotlyServerURL": "https://plot.ly",
        "staticPlot": false,
        "toImageButtonOptions": {
         "height": null,
         "width": null
        }
       },
       "data": [
        {
         "customdata": [
          [
           "</br>id: 30</br>prediction: 0.4</br>wiek: 35.0</br></br>plec: 1.0</br>typ_bolu_klatka: 3.0</br>cisnienie_krwi_spoczynek: 128.0</br>cholesterol_we_krwi: 229.0</br>cukier_we_krwi: 0.0</br>wynik_ekg_spoczynek: 2.0</br>ilosc_uderzen_serca: 150.0</br>bol_klatka_wysilek: 0.0</br>max_obnizka_st: 0.4</br>przebieg_st_szczyt: 2.0</br>zwapnienia_miazdzycowe: 1.0</br>proba_ta: 7.0</br>_original_yhat_: 0.42</br>"
          ],
          [
           "</br>id: 30</br>prediction: 0.4</br>wiek: 35.42</br></br>plec: 1.0</br>typ_bolu_klatka: 3.0</br>cisnienie_krwi_spoczynek: 128.0</br>cholesterol_we_krwi: 229.0</br>cukier_we_krwi: 0.0</br>wynik_ekg_spoczynek: 2.0</br>ilosc_uderzen_serca: 150.0</br>bol_klatka_wysilek: 0.0</br>max_obnizka_st: 0.4</br>przebieg_st_szczyt: 2.0</br>zwapnienia_miazdzycowe: 1.0</br>proba_ta: 7.0</br>_original_yhat_: 0.42</br>"
          ],
          [
           "</br>id: 30</br>prediction: 0.4</br>wiek: 35.84</br></br>plec: 1.0</br>typ_bolu_klatka: 3.0</br>cisnienie_krwi_spoczynek: 128.0</br>cholesterol_we_krwi: 229.0</br>cukier_we_krwi: 0.0</br>wynik_ekg_spoczynek: 2.0</br>ilosc_uderzen_serca: 150.0</br>bol_klatka_wysilek: 0.0</br>max_obnizka_st: 0.4</br>przebieg_st_szczyt: 2.0</br>zwapnienia_miazdzycowe: 1.0</br>proba_ta: 7.0</br>_original_yhat_: 0.42</br>"
          ],
          [
           "</br>id: 30</br>prediction: 0.4</br>wiek: 36.26</br></br>plec: 1.0</br>typ_bolu_klatka: 3.0</br>cisnienie_krwi_spoczynek: 128.0</br>cholesterol_we_krwi: 229.0</br>cukier_we_krwi: 0.0</br>wynik_ekg_spoczynek: 2.0</br>ilosc_uderzen_serca: 150.0</br>bol_klatka_wysilek: 0.0</br>max_obnizka_st: 0.4</br>przebieg_st_szczyt: 2.0</br>zwapnienia_miazdzycowe: 1.0</br>proba_ta: 7.0</br>_original_yhat_: 0.42</br>"
          ],
          [
           "</br>id: 30</br>prediction: 0.4</br>wiek: 36.68</br></br>plec: 1.0</br>typ_bolu_klatka: 3.0</br>cisnienie_krwi_spoczynek: 128.0</br>cholesterol_we_krwi: 229.0</br>cukier_we_krwi: 0.0</br>wynik_ekg_spoczynek: 2.0</br>ilosc_uderzen_serca: 150.0</br>bol_klatka_wysilek: 0.0</br>max_obnizka_st: 0.4</br>przebieg_st_szczyt: 2.0</br>zwapnienia_miazdzycowe: 1.0</br>proba_ta: 7.0</br>_original_yhat_: 0.42</br>"
          ],
          [
           "</br>id: 30</br>prediction: 0.4</br>wiek: 37.1</br></br>plec: 1.0</br>typ_bolu_klatka: 3.0</br>cisnienie_krwi_spoczynek: 128.0</br>cholesterol_we_krwi: 229.0</br>cukier_we_krwi: 0.0</br>wynik_ekg_spoczynek: 2.0</br>ilosc_uderzen_serca: 150.0</br>bol_klatka_wysilek: 0.0</br>max_obnizka_st: 0.4</br>przebieg_st_szczyt: 2.0</br>zwapnienia_miazdzycowe: 1.0</br>proba_ta: 7.0</br>_original_yhat_: 0.42</br>"
          ],
          [
           "</br>id: 30</br>prediction: 0.4</br>wiek: 37.52</br></br>plec: 1.0</br>typ_bolu_klatka: 3.0</br>cisnienie_krwi_spoczynek: 128.0</br>cholesterol_we_krwi: 229.0</br>cukier_we_krwi: 0.0</br>wynik_ekg_spoczynek: 2.0</br>ilosc_uderzen_serca: 150.0</br>bol_klatka_wysilek: 0.0</br>max_obnizka_st: 0.4</br>przebieg_st_szczyt: 2.0</br>zwapnienia_miazdzycowe: 1.0</br>proba_ta: 7.0</br>_original_yhat_: 0.42</br>"
          ],
          [
           "</br>id: 30</br>prediction: 0.4</br>wiek: 37.94</br></br>plec: 1.0</br>typ_bolu_klatka: 3.0</br>cisnienie_krwi_spoczynek: 128.0</br>cholesterol_we_krwi: 229.0</br>cukier_we_krwi: 0.0</br>wynik_ekg_spoczynek: 2.0</br>ilosc_uderzen_serca: 150.0</br>bol_klatka_wysilek: 0.0</br>max_obnizka_st: 0.4</br>przebieg_st_szczyt: 2.0</br>zwapnienia_miazdzycowe: 1.0</br>proba_ta: 7.0</br>_original_yhat_: 0.42</br>"
          ],
          [
           "</br>id: 30</br>prediction: 0.4</br>wiek: 38.36</br></br>plec: 1.0</br>typ_bolu_klatka: 3.0</br>cisnienie_krwi_spoczynek: 128.0</br>cholesterol_we_krwi: 229.0</br>cukier_we_krwi: 0.0</br>wynik_ekg_spoczynek: 2.0</br>ilosc_uderzen_serca: 150.0</br>bol_klatka_wysilek: 0.0</br>max_obnizka_st: 0.4</br>przebieg_st_szczyt: 2.0</br>zwapnienia_miazdzycowe: 1.0</br>proba_ta: 7.0</br>_original_yhat_: 0.42</br>"
          ],
          [
           "</br>id: 30</br>prediction: 0.4</br>wiek: 38.78</br></br>plec: 1.0</br>typ_bolu_klatka: 3.0</br>cisnienie_krwi_spoczynek: 128.0</br>cholesterol_we_krwi: 229.0</br>cukier_we_krwi: 0.0</br>wynik_ekg_spoczynek: 2.0</br>ilosc_uderzen_serca: 150.0</br>bol_klatka_wysilek: 0.0</br>max_obnizka_st: 0.4</br>przebieg_st_szczyt: 2.0</br>zwapnienia_miazdzycowe: 1.0</br>proba_ta: 7.0</br>_original_yhat_: 0.42</br>"
          ],
          [
           "</br>id: 30</br>prediction: 0.4</br>wiek: 39.2</br></br>plec: 1.0</br>typ_bolu_klatka: 3.0</br>cisnienie_krwi_spoczynek: 128.0</br>cholesterol_we_krwi: 229.0</br>cukier_we_krwi: 0.0</br>wynik_ekg_spoczynek: 2.0</br>ilosc_uderzen_serca: 150.0</br>bol_klatka_wysilek: 0.0</br>max_obnizka_st: 0.4</br>przebieg_st_szczyt: 2.0</br>zwapnienia_miazdzycowe: 1.0</br>proba_ta: 7.0</br>_original_yhat_: 0.42</br>"
          ],
          [
           "</br>id: 30</br>prediction: 0.4</br>wiek: 39.62</br></br>plec: 1.0</br>typ_bolu_klatka: 3.0</br>cisnienie_krwi_spoczynek: 128.0</br>cholesterol_we_krwi: 229.0</br>cukier_we_krwi: 0.0</br>wynik_ekg_spoczynek: 2.0</br>ilosc_uderzen_serca: 150.0</br>bol_klatka_wysilek: 0.0</br>max_obnizka_st: 0.4</br>przebieg_st_szczyt: 2.0</br>zwapnienia_miazdzycowe: 1.0</br>proba_ta: 7.0</br>_original_yhat_: 0.42</br>"
          ],
          [
           "</br>id: 30</br>prediction: 0.4</br>wiek: 40.04</br></br>plec: 1.0</br>typ_bolu_klatka: 3.0</br>cisnienie_krwi_spoczynek: 128.0</br>cholesterol_we_krwi: 229.0</br>cukier_we_krwi: 0.0</br>wynik_ekg_spoczynek: 2.0</br>ilosc_uderzen_serca: 150.0</br>bol_klatka_wysilek: 0.0</br>max_obnizka_st: 0.4</br>przebieg_st_szczyt: 2.0</br>zwapnienia_miazdzycowe: 1.0</br>proba_ta: 7.0</br>_original_yhat_: 0.42</br>"
          ],
          [
           "</br>id: 30</br>prediction: 0.4</br>wiek: 40.46</br></br>plec: 1.0</br>typ_bolu_klatka: 3.0</br>cisnienie_krwi_spoczynek: 128.0</br>cholesterol_we_krwi: 229.0</br>cukier_we_krwi: 0.0</br>wynik_ekg_spoczynek: 2.0</br>ilosc_uderzen_serca: 150.0</br>bol_klatka_wysilek: 0.0</br>max_obnizka_st: 0.4</br>przebieg_st_szczyt: 2.0</br>zwapnienia_miazdzycowe: 1.0</br>proba_ta: 7.0</br>_original_yhat_: 0.42</br>"
          ],
          [
           "</br>id: 30</br>prediction: 0.4</br>wiek: 40.88</br></br>plec: 1.0</br>typ_bolu_klatka: 3.0</br>cisnienie_krwi_spoczynek: 128.0</br>cholesterol_we_krwi: 229.0</br>cukier_we_krwi: 0.0</br>wynik_ekg_spoczynek: 2.0</br>ilosc_uderzen_serca: 150.0</br>bol_klatka_wysilek: 0.0</br>max_obnizka_st: 0.4</br>przebieg_st_szczyt: 2.0</br>zwapnienia_miazdzycowe: 1.0</br>proba_ta: 7.0</br>_original_yhat_: 0.42</br>"
          ],
          [
           "</br>id: 30</br>prediction: 0.4</br>wiek: 41.3</br></br>plec: 1.0</br>typ_bolu_klatka: 3.0</br>cisnienie_krwi_spoczynek: 128.0</br>cholesterol_we_krwi: 229.0</br>cukier_we_krwi: 0.0</br>wynik_ekg_spoczynek: 2.0</br>ilosc_uderzen_serca: 150.0</br>bol_klatka_wysilek: 0.0</br>max_obnizka_st: 0.4</br>przebieg_st_szczyt: 2.0</br>zwapnienia_miazdzycowe: 1.0</br>proba_ta: 7.0</br>_original_yhat_: 0.42</br>"
          ],
          [
           "</br>id: 30</br>prediction: 0.39</br>wiek: 41.72</br></br>plec: 1.0</br>typ_bolu_klatka: 3.0</br>cisnienie_krwi_spoczynek: 128.0</br>cholesterol_we_krwi: 229.0</br>cukier_we_krwi: 0.0</br>wynik_ekg_spoczynek: 2.0</br>ilosc_uderzen_serca: 150.0</br>bol_klatka_wysilek: 0.0</br>max_obnizka_st: 0.4</br>przebieg_st_szczyt: 2.0</br>zwapnienia_miazdzycowe: 1.0</br>proba_ta: 7.0</br>_original_yhat_: 0.42</br>"
          ],
          [
           "</br>id: 30</br>prediction: 0.38</br>wiek: 42.14</br></br>plec: 1.0</br>typ_bolu_klatka: 3.0</br>cisnienie_krwi_spoczynek: 128.0</br>cholesterol_we_krwi: 229.0</br>cukier_we_krwi: 0.0</br>wynik_ekg_spoczynek: 2.0</br>ilosc_uderzen_serca: 150.0</br>bol_klatka_wysilek: 0.0</br>max_obnizka_st: 0.4</br>przebieg_st_szczyt: 2.0</br>zwapnienia_miazdzycowe: 1.0</br>proba_ta: 7.0</br>_original_yhat_: 0.42</br>"
          ],
          [
           "</br>id: 30</br>prediction: 0.38</br>wiek: 42.56</br></br>plec: 1.0</br>typ_bolu_klatka: 3.0</br>cisnienie_krwi_spoczynek: 128.0</br>cholesterol_we_krwi: 229.0</br>cukier_we_krwi: 0.0</br>wynik_ekg_spoczynek: 2.0</br>ilosc_uderzen_serca: 150.0</br>bol_klatka_wysilek: 0.0</br>max_obnizka_st: 0.4</br>przebieg_st_szczyt: 2.0</br>zwapnienia_miazdzycowe: 1.0</br>proba_ta: 7.0</br>_original_yhat_: 0.42</br>"
          ],
          [
           "</br>id: 30</br>prediction: 0.38</br>wiek: 42.98</br></br>plec: 1.0</br>typ_bolu_klatka: 3.0</br>cisnienie_krwi_spoczynek: 128.0</br>cholesterol_we_krwi: 229.0</br>cukier_we_krwi: 0.0</br>wynik_ekg_spoczynek: 2.0</br>ilosc_uderzen_serca: 150.0</br>bol_klatka_wysilek: 0.0</br>max_obnizka_st: 0.4</br>przebieg_st_szczyt: 2.0</br>zwapnienia_miazdzycowe: 1.0</br>proba_ta: 7.0</br>_original_yhat_: 0.42</br>"
          ],
          [
           "</br>id: 30</br>prediction: 0.38</br>wiek: 43.4</br></br>plec: 1.0</br>typ_bolu_klatka: 3.0</br>cisnienie_krwi_spoczynek: 128.0</br>cholesterol_we_krwi: 229.0</br>cukier_we_krwi: 0.0</br>wynik_ekg_spoczynek: 2.0</br>ilosc_uderzen_serca: 150.0</br>bol_klatka_wysilek: 0.0</br>max_obnizka_st: 0.4</br>przebieg_st_szczyt: 2.0</br>zwapnienia_miazdzycowe: 1.0</br>proba_ta: 7.0</br>_original_yhat_: 0.42</br>"
          ],
          [
           "</br>id: 30</br>prediction: 0.38</br>wiek: 43.82</br></br>plec: 1.0</br>typ_bolu_klatka: 3.0</br>cisnienie_krwi_spoczynek: 128.0</br>cholesterol_we_krwi: 229.0</br>cukier_we_krwi: 0.0</br>wynik_ekg_spoczynek: 2.0</br>ilosc_uderzen_serca: 150.0</br>bol_klatka_wysilek: 0.0</br>max_obnizka_st: 0.4</br>przebieg_st_szczyt: 2.0</br>zwapnienia_miazdzycowe: 1.0</br>proba_ta: 7.0</br>_original_yhat_: 0.42</br>"
          ],
          [
           "</br>id: 30</br>prediction: 0.38</br>wiek: 44.24</br></br>plec: 1.0</br>typ_bolu_klatka: 3.0</br>cisnienie_krwi_spoczynek: 128.0</br>cholesterol_we_krwi: 229.0</br>cukier_we_krwi: 0.0</br>wynik_ekg_spoczynek: 2.0</br>ilosc_uderzen_serca: 150.0</br>bol_klatka_wysilek: 0.0</br>max_obnizka_st: 0.4</br>przebieg_st_szczyt: 2.0</br>zwapnienia_miazdzycowe: 1.0</br>proba_ta: 7.0</br>_original_yhat_: 0.42</br>"
          ],
          [
           "</br>id: 30</br>prediction: 0.37</br>wiek: 44.66</br></br>plec: 1.0</br>typ_bolu_klatka: 3.0</br>cisnienie_krwi_spoczynek: 128.0</br>cholesterol_we_krwi: 229.0</br>cukier_we_krwi: 0.0</br>wynik_ekg_spoczynek: 2.0</br>ilosc_uderzen_serca: 150.0</br>bol_klatka_wysilek: 0.0</br>max_obnizka_st: 0.4</br>przebieg_st_szczyt: 2.0</br>zwapnienia_miazdzycowe: 1.0</br>proba_ta: 7.0</br>_original_yhat_: 0.42</br>"
          ],
          [
           "</br>id: 30</br>prediction: 0.37</br>wiek: 45.08</br></br>plec: 1.0</br>typ_bolu_klatka: 3.0</br>cisnienie_krwi_spoczynek: 128.0</br>cholesterol_we_krwi: 229.0</br>cukier_we_krwi: 0.0</br>wynik_ekg_spoczynek: 2.0</br>ilosc_uderzen_serca: 150.0</br>bol_klatka_wysilek: 0.0</br>max_obnizka_st: 0.4</br>przebieg_st_szczyt: 2.0</br>zwapnienia_miazdzycowe: 1.0</br>proba_ta: 7.0</br>_original_yhat_: 0.42</br>"
          ],
          [
           "</br>id: 30</br>prediction: 0.37</br>wiek: 45.5</br></br>plec: 1.0</br>typ_bolu_klatka: 3.0</br>cisnienie_krwi_spoczynek: 128.0</br>cholesterol_we_krwi: 229.0</br>cukier_we_krwi: 0.0</br>wynik_ekg_spoczynek: 2.0</br>ilosc_uderzen_serca: 150.0</br>bol_klatka_wysilek: 0.0</br>max_obnizka_st: 0.4</br>przebieg_st_szczyt: 2.0</br>zwapnienia_miazdzycowe: 1.0</br>proba_ta: 7.0</br>_original_yhat_: 0.42</br>"
          ],
          [
           "</br>id: 30</br>prediction: 0.38</br>wiek: 45.92</br></br>plec: 1.0</br>typ_bolu_klatka: 3.0</br>cisnienie_krwi_spoczynek: 128.0</br>cholesterol_we_krwi: 229.0</br>cukier_we_krwi: 0.0</br>wynik_ekg_spoczynek: 2.0</br>ilosc_uderzen_serca: 150.0</br>bol_klatka_wysilek: 0.0</br>max_obnizka_st: 0.4</br>przebieg_st_szczyt: 2.0</br>zwapnienia_miazdzycowe: 1.0</br>proba_ta: 7.0</br>_original_yhat_: 0.42</br>"
          ],
          [
           "</br>id: 30</br>prediction: 0.38</br>wiek: 46.34</br></br>plec: 1.0</br>typ_bolu_klatka: 3.0</br>cisnienie_krwi_spoczynek: 128.0</br>cholesterol_we_krwi: 229.0</br>cukier_we_krwi: 0.0</br>wynik_ekg_spoczynek: 2.0</br>ilosc_uderzen_serca: 150.0</br>bol_klatka_wysilek: 0.0</br>max_obnizka_st: 0.4</br>przebieg_st_szczyt: 2.0</br>zwapnienia_miazdzycowe: 1.0</br>proba_ta: 7.0</br>_original_yhat_: 0.42</br>"
          ],
          [
           "</br>id: 30</br>prediction: 0.38</br>wiek: 46.76</br></br>plec: 1.0</br>typ_bolu_klatka: 3.0</br>cisnienie_krwi_spoczynek: 128.0</br>cholesterol_we_krwi: 229.0</br>cukier_we_krwi: 0.0</br>wynik_ekg_spoczynek: 2.0</br>ilosc_uderzen_serca: 150.0</br>bol_klatka_wysilek: 0.0</br>max_obnizka_st: 0.4</br>przebieg_st_szczyt: 2.0</br>zwapnienia_miazdzycowe: 1.0</br>proba_ta: 7.0</br>_original_yhat_: 0.42</br>"
          ],
          [
           "</br>id: 30</br>prediction: 0.37</br>wiek: 47.18</br></br>plec: 1.0</br>typ_bolu_klatka: 3.0</br>cisnienie_krwi_spoczynek: 128.0</br>cholesterol_we_krwi: 229.0</br>cukier_we_krwi: 0.0</br>wynik_ekg_spoczynek: 2.0</br>ilosc_uderzen_serca: 150.0</br>bol_klatka_wysilek: 0.0</br>max_obnizka_st: 0.4</br>przebieg_st_szczyt: 2.0</br>zwapnienia_miazdzycowe: 1.0</br>proba_ta: 7.0</br>_original_yhat_: 0.42</br>"
          ],
          [
           "</br>id: 30</br>prediction: 0.37</br>wiek: 47.6</br></br>plec: 1.0</br>typ_bolu_klatka: 3.0</br>cisnienie_krwi_spoczynek: 128.0</br>cholesterol_we_krwi: 229.0</br>cukier_we_krwi: 0.0</br>wynik_ekg_spoczynek: 2.0</br>ilosc_uderzen_serca: 150.0</br>bol_klatka_wysilek: 0.0</br>max_obnizka_st: 0.4</br>przebieg_st_szczyt: 2.0</br>zwapnienia_miazdzycowe: 1.0</br>proba_ta: 7.0</br>_original_yhat_: 0.42</br>"
          ],
          [
           "</br>id: 30</br>prediction: 0.37</br>wiek: 48.019999999999996</br></br>plec: 1.0</br>typ_bolu_klatka: 3.0</br>cisnienie_krwi_spoczynek: 128.0</br>cholesterol_we_krwi: 229.0</br>cukier_we_krwi: 0.0</br>wynik_ekg_spoczynek: 2.0</br>ilosc_uderzen_serca: 150.0</br>bol_klatka_wysilek: 0.0</br>max_obnizka_st: 0.4</br>przebieg_st_szczyt: 2.0</br>zwapnienia_miazdzycowe: 1.0</br>proba_ta: 7.0</br>_original_yhat_: 0.42</br>"
          ],
          [
           "</br>id: 30</br>prediction: 0.37</br>wiek: 48.44</br></br>plec: 1.0</br>typ_bolu_klatka: 3.0</br>cisnienie_krwi_spoczynek: 128.0</br>cholesterol_we_krwi: 229.0</br>cukier_we_krwi: 0.0</br>wynik_ekg_spoczynek: 2.0</br>ilosc_uderzen_serca: 150.0</br>bol_klatka_wysilek: 0.0</br>max_obnizka_st: 0.4</br>przebieg_st_szczyt: 2.0</br>zwapnienia_miazdzycowe: 1.0</br>proba_ta: 7.0</br>_original_yhat_: 0.42</br>"
          ],
          [
           "</br>id: 30</br>prediction: 0.36</br>wiek: 48.86</br></br>plec: 1.0</br>typ_bolu_klatka: 3.0</br>cisnienie_krwi_spoczynek: 128.0</br>cholesterol_we_krwi: 229.0</br>cukier_we_krwi: 0.0</br>wynik_ekg_spoczynek: 2.0</br>ilosc_uderzen_serca: 150.0</br>bol_klatka_wysilek: 0.0</br>max_obnizka_st: 0.4</br>przebieg_st_szczyt: 2.0</br>zwapnienia_miazdzycowe: 1.0</br>proba_ta: 7.0</br>_original_yhat_: 0.42</br>"
          ],
          [
           "</br>id: 30</br>prediction: 0.35</br>wiek: 49.28</br></br>plec: 1.0</br>typ_bolu_klatka: 3.0</br>cisnienie_krwi_spoczynek: 128.0</br>cholesterol_we_krwi: 229.0</br>cukier_we_krwi: 0.0</br>wynik_ekg_spoczynek: 2.0</br>ilosc_uderzen_serca: 150.0</br>bol_klatka_wysilek: 0.0</br>max_obnizka_st: 0.4</br>przebieg_st_szczyt: 2.0</br>zwapnienia_miazdzycowe: 1.0</br>proba_ta: 7.0</br>_original_yhat_: 0.42</br>"
          ],
          [
           "</br>id: 30</br>prediction: 0.33</br>wiek: 49.7</br></br>plec: 1.0</br>typ_bolu_klatka: 3.0</br>cisnienie_krwi_spoczynek: 128.0</br>cholesterol_we_krwi: 229.0</br>cukier_we_krwi: 0.0</br>wynik_ekg_spoczynek: 2.0</br>ilosc_uderzen_serca: 150.0</br>bol_klatka_wysilek: 0.0</br>max_obnizka_st: 0.4</br>przebieg_st_szczyt: 2.0</br>zwapnienia_miazdzycowe: 1.0</br>proba_ta: 7.0</br>_original_yhat_: 0.42</br>"
          ],
          [
           "</br>id: 30</br>prediction: 0.3</br>wiek: 50.12</br></br>plec: 1.0</br>typ_bolu_klatka: 3.0</br>cisnienie_krwi_spoczynek: 128.0</br>cholesterol_we_krwi: 229.0</br>cukier_we_krwi: 0.0</br>wynik_ekg_spoczynek: 2.0</br>ilosc_uderzen_serca: 150.0</br>bol_klatka_wysilek: 0.0</br>max_obnizka_st: 0.4</br>przebieg_st_szczyt: 2.0</br>zwapnienia_miazdzycowe: 1.0</br>proba_ta: 7.0</br>_original_yhat_: 0.42</br>"
          ],
          [
           "</br>id: 30</br>prediction: 0.3</br>wiek: 50.54</br></br>plec: 1.0</br>typ_bolu_klatka: 3.0</br>cisnienie_krwi_spoczynek: 128.0</br>cholesterol_we_krwi: 229.0</br>cukier_we_krwi: 0.0</br>wynik_ekg_spoczynek: 2.0</br>ilosc_uderzen_serca: 150.0</br>bol_klatka_wysilek: 0.0</br>max_obnizka_st: 0.4</br>przebieg_st_szczyt: 2.0</br>zwapnienia_miazdzycowe: 1.0</br>proba_ta: 7.0</br>_original_yhat_: 0.42</br>"
          ],
          [
           "</br>id: 30</br>prediction: 0.3</br>wiek: 50.96</br></br>plec: 1.0</br>typ_bolu_klatka: 3.0</br>cisnienie_krwi_spoczynek: 128.0</br>cholesterol_we_krwi: 229.0</br>cukier_we_krwi: 0.0</br>wynik_ekg_spoczynek: 2.0</br>ilosc_uderzen_serca: 150.0</br>bol_klatka_wysilek: 0.0</br>max_obnizka_st: 0.4</br>przebieg_st_szczyt: 2.0</br>zwapnienia_miazdzycowe: 1.0</br>proba_ta: 7.0</br>_original_yhat_: 0.42</br>"
          ],
          [
           "</br>id: 30</br>prediction: 0.28</br>wiek: 51.379999999999995</br></br>plec: 1.0</br>typ_bolu_klatka: 3.0</br>cisnienie_krwi_spoczynek: 128.0</br>cholesterol_we_krwi: 229.0</br>cukier_we_krwi: 0.0</br>wynik_ekg_spoczynek: 2.0</br>ilosc_uderzen_serca: 150.0</br>bol_klatka_wysilek: 0.0</br>max_obnizka_st: 0.4</br>przebieg_st_szczyt: 2.0</br>zwapnienia_miazdzycowe: 1.0</br>proba_ta: 7.0</br>_original_yhat_: 0.42</br>"
          ],
          [
           "</br>id: 30</br>prediction: 0.27</br>wiek: 51.8</br></br>plec: 1.0</br>typ_bolu_klatka: 3.0</br>cisnienie_krwi_spoczynek: 128.0</br>cholesterol_we_krwi: 229.0</br>cukier_we_krwi: 0.0</br>wynik_ekg_spoczynek: 2.0</br>ilosc_uderzen_serca: 150.0</br>bol_klatka_wysilek: 0.0</br>max_obnizka_st: 0.4</br>przebieg_st_szczyt: 2.0</br>zwapnienia_miazdzycowe: 1.0</br>proba_ta: 7.0</br>_original_yhat_: 0.42</br>"
          ],
          [
           "</br>id: 30</br>prediction: 0.27</br>wiek: 52.22</br></br>plec: 1.0</br>typ_bolu_klatka: 3.0</br>cisnienie_krwi_spoczynek: 128.0</br>cholesterol_we_krwi: 229.0</br>cukier_we_krwi: 0.0</br>wynik_ekg_spoczynek: 2.0</br>ilosc_uderzen_serca: 150.0</br>bol_klatka_wysilek: 0.0</br>max_obnizka_st: 0.4</br>przebieg_st_szczyt: 2.0</br>zwapnienia_miazdzycowe: 1.0</br>proba_ta: 7.0</br>_original_yhat_: 0.42</br>"
          ],
          [
           "</br>id: 30</br>prediction: 0.3</br>wiek: 52.64</br></br>plec: 1.0</br>typ_bolu_klatka: 3.0</br>cisnienie_krwi_spoczynek: 128.0</br>cholesterol_we_krwi: 229.0</br>cukier_we_krwi: 0.0</br>wynik_ekg_spoczynek: 2.0</br>ilosc_uderzen_serca: 150.0</br>bol_klatka_wysilek: 0.0</br>max_obnizka_st: 0.4</br>przebieg_st_szczyt: 2.0</br>zwapnienia_miazdzycowe: 1.0</br>proba_ta: 7.0</br>_original_yhat_: 0.42</br>"
          ],
          [
           "</br>id: 30</br>prediction: 0.3</br>wiek: 53.06</br></br>plec: 1.0</br>typ_bolu_klatka: 3.0</br>cisnienie_krwi_spoczynek: 128.0</br>cholesterol_we_krwi: 229.0</br>cukier_we_krwi: 0.0</br>wynik_ekg_spoczynek: 2.0</br>ilosc_uderzen_serca: 150.0</br>bol_klatka_wysilek: 0.0</br>max_obnizka_st: 0.4</br>przebieg_st_szczyt: 2.0</br>zwapnienia_miazdzycowe: 1.0</br>proba_ta: 7.0</br>_original_yhat_: 0.42</br>"
          ],
          [
           "</br>id: 30</br>prediction: 0.3</br>wiek: 53.480000000000004</br></br>plec: 1.0</br>typ_bolu_klatka: 3.0</br>cisnienie_krwi_spoczynek: 128.0</br>cholesterol_we_krwi: 229.0</br>cukier_we_krwi: 0.0</br>wynik_ekg_spoczynek: 2.0</br>ilosc_uderzen_serca: 150.0</br>bol_klatka_wysilek: 0.0</br>max_obnizka_st: 0.4</br>przebieg_st_szczyt: 2.0</br>zwapnienia_miazdzycowe: 1.0</br>proba_ta: 7.0</br>_original_yhat_: 0.42</br>"
          ],
          [
           "</br>id: 30</br>prediction: 0.29</br>wiek: 53.9</br></br>plec: 1.0</br>typ_bolu_klatka: 3.0</br>cisnienie_krwi_spoczynek: 128.0</br>cholesterol_we_krwi: 229.0</br>cukier_we_krwi: 0.0</br>wynik_ekg_spoczynek: 2.0</br>ilosc_uderzen_serca: 150.0</br>bol_klatka_wysilek: 0.0</br>max_obnizka_st: 0.4</br>przebieg_st_szczyt: 2.0</br>zwapnienia_miazdzycowe: 1.0</br>proba_ta: 7.0</br>_original_yhat_: 0.42</br>"
          ],
          [
           "</br>id: 30</br>prediction: 0.29</br>wiek: 54.32</br></br>plec: 1.0</br>typ_bolu_klatka: 3.0</br>cisnienie_krwi_spoczynek: 128.0</br>cholesterol_we_krwi: 229.0</br>cukier_we_krwi: 0.0</br>wynik_ekg_spoczynek: 2.0</br>ilosc_uderzen_serca: 150.0</br>bol_klatka_wysilek: 0.0</br>max_obnizka_st: 0.4</br>przebieg_st_szczyt: 2.0</br>zwapnienia_miazdzycowe: 1.0</br>proba_ta: 7.0</br>_original_yhat_: 0.42</br>"
          ],
          [
           "</br>id: 30</br>prediction: 0.31</br>wiek: 54.739999999999995</br></br>plec: 1.0</br>typ_bolu_klatka: 3.0</br>cisnienie_krwi_spoczynek: 128.0</br>cholesterol_we_krwi: 229.0</br>cukier_we_krwi: 0.0</br>wynik_ekg_spoczynek: 2.0</br>ilosc_uderzen_serca: 150.0</br>bol_klatka_wysilek: 0.0</br>max_obnizka_st: 0.4</br>przebieg_st_szczyt: 2.0</br>zwapnienia_miazdzycowe: 1.0</br>proba_ta: 7.0</br>_original_yhat_: 0.42</br>"
          ],
          [
           "</br>id: 30</br>prediction: 0.31</br>wiek: 55.16</br></br>plec: 1.0</br>typ_bolu_klatka: 3.0</br>cisnienie_krwi_spoczynek: 128.0</br>cholesterol_we_krwi: 229.0</br>cukier_we_krwi: 0.0</br>wynik_ekg_spoczynek: 2.0</br>ilosc_uderzen_serca: 150.0</br>bol_klatka_wysilek: 0.0</br>max_obnizka_st: 0.4</br>przebieg_st_szczyt: 2.0</br>zwapnienia_miazdzycowe: 1.0</br>proba_ta: 7.0</br>_original_yhat_: 0.42</br>"
          ],
          [
           "</br>id: 30</br>prediction: 0.36</br>wiek: 55.58</br></br>plec: 1.0</br>typ_bolu_klatka: 3.0</br>cisnienie_krwi_spoczynek: 128.0</br>cholesterol_we_krwi: 229.0</br>cukier_we_krwi: 0.0</br>wynik_ekg_spoczynek: 2.0</br>ilosc_uderzen_serca: 150.0</br>bol_klatka_wysilek: 0.0</br>max_obnizka_st: 0.4</br>przebieg_st_szczyt: 2.0</br>zwapnienia_miazdzycowe: 1.0</br>proba_ta: 7.0</br>_original_yhat_: 0.42</br>"
          ],
          [
           "</br>id: 30</br>prediction: 0.36</br>wiek: 56.0</br></br>plec: 1.0</br>typ_bolu_klatka: 3.0</br>cisnienie_krwi_spoczynek: 128.0</br>cholesterol_we_krwi: 229.0</br>cukier_we_krwi: 0.0</br>wynik_ekg_spoczynek: 2.0</br>ilosc_uderzen_serca: 150.0</br>bol_klatka_wysilek: 0.0</br>max_obnizka_st: 0.4</br>przebieg_st_szczyt: 2.0</br>zwapnienia_miazdzycowe: 1.0</br>proba_ta: 7.0</br>_original_yhat_: 0.42</br>"
          ],
          [
           "</br>id: 30</br>prediction: 0.4</br>wiek: 56.42</br></br>plec: 1.0</br>typ_bolu_klatka: 3.0</br>cisnienie_krwi_spoczynek: 128.0</br>cholesterol_we_krwi: 229.0</br>cukier_we_krwi: 0.0</br>wynik_ekg_spoczynek: 2.0</br>ilosc_uderzen_serca: 150.0</br>bol_klatka_wysilek: 0.0</br>max_obnizka_st: 0.4</br>przebieg_st_szczyt: 2.0</br>zwapnienia_miazdzycowe: 1.0</br>proba_ta: 7.0</br>_original_yhat_: 0.42</br>"
          ],
          [
           "</br>id: 30</br>prediction: 0.42</br>wiek: 56.84</br></br>plec: 1.0</br>typ_bolu_klatka: 3.0</br>cisnienie_krwi_spoczynek: 128.0</br>cholesterol_we_krwi: 229.0</br>cukier_we_krwi: 0.0</br>wynik_ekg_spoczynek: 2.0</br>ilosc_uderzen_serca: 150.0</br>bol_klatka_wysilek: 0.0</br>max_obnizka_st: 0.4</br>przebieg_st_szczyt: 2.0</br>zwapnienia_miazdzycowe: 1.0</br>proba_ta: 7.0</br>_original_yhat_: 0.42</br>"
          ],
          [
           "</br>id: 30</br>prediction: 0.42</br>wiek: 57.0</br></br>plec: 1.0</br>typ_bolu_klatka: 3.0</br>cisnienie_krwi_spoczynek: 128.0</br>cholesterol_we_krwi: 229.0</br>cukier_we_krwi: 0.0</br>wynik_ekg_spoczynek: 2.0</br>ilosc_uderzen_serca: 150.0</br>bol_klatka_wysilek: 0.0</br>max_obnizka_st: 0.4</br>przebieg_st_szczyt: 2.0</br>zwapnienia_miazdzycowe: 1.0</br>proba_ta: 7.0</br>_original_yhat_: 0.42</br>"
          ],
          [
           "</br>id: 30</br>prediction: 0.43</br>wiek: 57.26</br></br>plec: 1.0</br>typ_bolu_klatka: 3.0</br>cisnienie_krwi_spoczynek: 128.0</br>cholesterol_we_krwi: 229.0</br>cukier_we_krwi: 0.0</br>wynik_ekg_spoczynek: 2.0</br>ilosc_uderzen_serca: 150.0</br>bol_klatka_wysilek: 0.0</br>max_obnizka_st: 0.4</br>przebieg_st_szczyt: 2.0</br>zwapnienia_miazdzycowe: 1.0</br>proba_ta: 7.0</br>_original_yhat_: 0.42</br>"
          ],
          [
           "</br>id: 30</br>prediction: 0.43</br>wiek: 57.68</br></br>plec: 1.0</br>typ_bolu_klatka: 3.0</br>cisnienie_krwi_spoczynek: 128.0</br>cholesterol_we_krwi: 229.0</br>cukier_we_krwi: 0.0</br>wynik_ekg_spoczynek: 2.0</br>ilosc_uderzen_serca: 150.0</br>bol_klatka_wysilek: 0.0</br>max_obnizka_st: 0.4</br>przebieg_st_szczyt: 2.0</br>zwapnienia_miazdzycowe: 1.0</br>proba_ta: 7.0</br>_original_yhat_: 0.42</br>"
          ],
          [
           "</br>id: 30</br>prediction: 0.43</br>wiek: 58.099999999999994</br></br>plec: 1.0</br>typ_bolu_klatka: 3.0</br>cisnienie_krwi_spoczynek: 128.0</br>cholesterol_we_krwi: 229.0</br>cukier_we_krwi: 0.0</br>wynik_ekg_spoczynek: 2.0</br>ilosc_uderzen_serca: 150.0</br>bol_klatka_wysilek: 0.0</br>max_obnizka_st: 0.4</br>przebieg_st_szczyt: 2.0</br>zwapnienia_miazdzycowe: 1.0</br>proba_ta: 7.0</br>_original_yhat_: 0.42</br>"
          ],
          [
           "</br>id: 30</br>prediction: 0.44</br>wiek: 58.519999999999996</br></br>plec: 1.0</br>typ_bolu_klatka: 3.0</br>cisnienie_krwi_spoczynek: 128.0</br>cholesterol_we_krwi: 229.0</br>cukier_we_krwi: 0.0</br>wynik_ekg_spoczynek: 2.0</br>ilosc_uderzen_serca: 150.0</br>bol_klatka_wysilek: 0.0</br>max_obnizka_st: 0.4</br>przebieg_st_szczyt: 2.0</br>zwapnienia_miazdzycowe: 1.0</br>proba_ta: 7.0</br>_original_yhat_: 0.42</br>"
          ],
          [
           "</br>id: 30</br>prediction: 0.44</br>wiek: 58.94</br></br>plec: 1.0</br>typ_bolu_klatka: 3.0</br>cisnienie_krwi_spoczynek: 128.0</br>cholesterol_we_krwi: 229.0</br>cukier_we_krwi: 0.0</br>wynik_ekg_spoczynek: 2.0</br>ilosc_uderzen_serca: 150.0</br>bol_klatka_wysilek: 0.0</br>max_obnizka_st: 0.4</br>przebieg_st_szczyt: 2.0</br>zwapnienia_miazdzycowe: 1.0</br>proba_ta: 7.0</br>_original_yhat_: 0.42</br>"
          ],
          [
           "</br>id: 30</br>prediction: 0.44</br>wiek: 59.36</br></br>plec: 1.0</br>typ_bolu_klatka: 3.0</br>cisnienie_krwi_spoczynek: 128.0</br>cholesterol_we_krwi: 229.0</br>cukier_we_krwi: 0.0</br>wynik_ekg_spoczynek: 2.0</br>ilosc_uderzen_serca: 150.0</br>bol_klatka_wysilek: 0.0</br>max_obnizka_st: 0.4</br>przebieg_st_szczyt: 2.0</br>zwapnienia_miazdzycowe: 1.0</br>proba_ta: 7.0</br>_original_yhat_: 0.42</br>"
          ],
          [
           "</br>id: 30</br>prediction: 0.44</br>wiek: 59.78</br></br>plec: 1.0</br>typ_bolu_klatka: 3.0</br>cisnienie_krwi_spoczynek: 128.0</br>cholesterol_we_krwi: 229.0</br>cukier_we_krwi: 0.0</br>wynik_ekg_spoczynek: 2.0</br>ilosc_uderzen_serca: 150.0</br>bol_klatka_wysilek: 0.0</br>max_obnizka_st: 0.4</br>przebieg_st_szczyt: 2.0</br>zwapnienia_miazdzycowe: 1.0</br>proba_ta: 7.0</br>_original_yhat_: 0.42</br>"
          ],
          [
           "</br>id: 30</br>prediction: 0.44</br>wiek: 60.2</br></br>plec: 1.0</br>typ_bolu_klatka: 3.0</br>cisnienie_krwi_spoczynek: 128.0</br>cholesterol_we_krwi: 229.0</br>cukier_we_krwi: 0.0</br>wynik_ekg_spoczynek: 2.0</br>ilosc_uderzen_serca: 150.0</br>bol_klatka_wysilek: 0.0</br>max_obnizka_st: 0.4</br>przebieg_st_szczyt: 2.0</br>zwapnienia_miazdzycowe: 1.0</br>proba_ta: 7.0</br>_original_yhat_: 0.42</br>"
          ],
          [
           "</br>id: 30</br>prediction: 0.42</br>wiek: 60.62</br></br>plec: 1.0</br>typ_bolu_klatka: 3.0</br>cisnienie_krwi_spoczynek: 128.0</br>cholesterol_we_krwi: 229.0</br>cukier_we_krwi: 0.0</br>wynik_ekg_spoczynek: 2.0</br>ilosc_uderzen_serca: 150.0</br>bol_klatka_wysilek: 0.0</br>max_obnizka_st: 0.4</br>przebieg_st_szczyt: 2.0</br>zwapnienia_miazdzycowe: 1.0</br>proba_ta: 7.0</br>_original_yhat_: 0.42</br>"
          ],
          [
           "</br>id: 30</br>prediction: 0.41</br>wiek: 61.04</br></br>plec: 1.0</br>typ_bolu_klatka: 3.0</br>cisnienie_krwi_spoczynek: 128.0</br>cholesterol_we_krwi: 229.0</br>cukier_we_krwi: 0.0</br>wynik_ekg_spoczynek: 2.0</br>ilosc_uderzen_serca: 150.0</br>bol_klatka_wysilek: 0.0</br>max_obnizka_st: 0.4</br>przebieg_st_szczyt: 2.0</br>zwapnienia_miazdzycowe: 1.0</br>proba_ta: 7.0</br>_original_yhat_: 0.42</br>"
          ],
          [
           "</br>id: 30</br>prediction: 0.41</br>wiek: 61.459999999999994</br></br>plec: 1.0</br>typ_bolu_klatka: 3.0</br>cisnienie_krwi_spoczynek: 128.0</br>cholesterol_we_krwi: 229.0</br>cukier_we_krwi: 0.0</br>wynik_ekg_spoczynek: 2.0</br>ilosc_uderzen_serca: 150.0</br>bol_klatka_wysilek: 0.0</br>max_obnizka_st: 0.4</br>przebieg_st_szczyt: 2.0</br>zwapnienia_miazdzycowe: 1.0</br>proba_ta: 7.0</br>_original_yhat_: 0.42</br>"
          ],
          [
           "</br>id: 30</br>prediction: 0.41</br>wiek: 61.879999999999995</br></br>plec: 1.0</br>typ_bolu_klatka: 3.0</br>cisnienie_krwi_spoczynek: 128.0</br>cholesterol_we_krwi: 229.0</br>cukier_we_krwi: 0.0</br>wynik_ekg_spoczynek: 2.0</br>ilosc_uderzen_serca: 150.0</br>bol_klatka_wysilek: 0.0</br>max_obnizka_st: 0.4</br>przebieg_st_szczyt: 2.0</br>zwapnienia_miazdzycowe: 1.0</br>proba_ta: 7.0</br>_original_yhat_: 0.42</br>"
          ],
          [
           "</br>id: 30</br>prediction: 0.41</br>wiek: 62.3</br></br>plec: 1.0</br>typ_bolu_klatka: 3.0</br>cisnienie_krwi_spoczynek: 128.0</br>cholesterol_we_krwi: 229.0</br>cukier_we_krwi: 0.0</br>wynik_ekg_spoczynek: 2.0</br>ilosc_uderzen_serca: 150.0</br>bol_klatka_wysilek: 0.0</br>max_obnizka_st: 0.4</br>przebieg_st_szczyt: 2.0</br>zwapnienia_miazdzycowe: 1.0</br>proba_ta: 7.0</br>_original_yhat_: 0.42</br>"
          ],
          [
           "</br>id: 30</br>prediction: 0.4</br>wiek: 62.72</br></br>plec: 1.0</br>typ_bolu_klatka: 3.0</br>cisnienie_krwi_spoczynek: 128.0</br>cholesterol_we_krwi: 229.0</br>cukier_we_krwi: 0.0</br>wynik_ekg_spoczynek: 2.0</br>ilosc_uderzen_serca: 150.0</br>bol_klatka_wysilek: 0.0</br>max_obnizka_st: 0.4</br>przebieg_st_szczyt: 2.0</br>zwapnienia_miazdzycowe: 1.0</br>proba_ta: 7.0</br>_original_yhat_: 0.42</br>"
          ],
          [
           "</br>id: 30</br>prediction: 0.39</br>wiek: 63.14</br></br>plec: 1.0</br>typ_bolu_klatka: 3.0</br>cisnienie_krwi_spoczynek: 128.0</br>cholesterol_we_krwi: 229.0</br>cukier_we_krwi: 0.0</br>wynik_ekg_spoczynek: 2.0</br>ilosc_uderzen_serca: 150.0</br>bol_klatka_wysilek: 0.0</br>max_obnizka_st: 0.4</br>przebieg_st_szczyt: 2.0</br>zwapnienia_miazdzycowe: 1.0</br>proba_ta: 7.0</br>_original_yhat_: 0.42</br>"
          ],
          [
           "</br>id: 30</br>prediction: 0.42</br>wiek: 63.56</br></br>plec: 1.0</br>typ_bolu_klatka: 3.0</br>cisnienie_krwi_spoczynek: 128.0</br>cholesterol_we_krwi: 229.0</br>cukier_we_krwi: 0.0</br>wynik_ekg_spoczynek: 2.0</br>ilosc_uderzen_serca: 150.0</br>bol_klatka_wysilek: 0.0</br>max_obnizka_st: 0.4</br>przebieg_st_szczyt: 2.0</br>zwapnienia_miazdzycowe: 1.0</br>proba_ta: 7.0</br>_original_yhat_: 0.42</br>"
          ],
          [
           "</br>id: 30</br>prediction: 0.42</br>wiek: 63.980000000000004</br></br>plec: 1.0</br>typ_bolu_klatka: 3.0</br>cisnienie_krwi_spoczynek: 128.0</br>cholesterol_we_krwi: 229.0</br>cukier_we_krwi: 0.0</br>wynik_ekg_spoczynek: 2.0</br>ilosc_uderzen_serca: 150.0</br>bol_klatka_wysilek: 0.0</br>max_obnizka_st: 0.4</br>przebieg_st_szczyt: 2.0</br>zwapnienia_miazdzycowe: 1.0</br>proba_ta: 7.0</br>_original_yhat_: 0.42</br>"
          ],
          [
           "</br>id: 30</br>prediction: 0.42</br>wiek: 64.4</br></br>plec: 1.0</br>typ_bolu_klatka: 3.0</br>cisnienie_krwi_spoczynek: 128.0</br>cholesterol_we_krwi: 229.0</br>cukier_we_krwi: 0.0</br>wynik_ekg_spoczynek: 2.0</br>ilosc_uderzen_serca: 150.0</br>bol_klatka_wysilek: 0.0</br>max_obnizka_st: 0.4</br>przebieg_st_szczyt: 2.0</br>zwapnienia_miazdzycowe: 1.0</br>proba_ta: 7.0</br>_original_yhat_: 0.42</br>"
          ],
          [
           "</br>id: 30</br>prediction: 0.42</br>wiek: 64.82</br></br>plec: 1.0</br>typ_bolu_klatka: 3.0</br>cisnienie_krwi_spoczynek: 128.0</br>cholesterol_we_krwi: 229.0</br>cukier_we_krwi: 0.0</br>wynik_ekg_spoczynek: 2.0</br>ilosc_uderzen_serca: 150.0</br>bol_klatka_wysilek: 0.0</br>max_obnizka_st: 0.4</br>przebieg_st_szczyt: 2.0</br>zwapnienia_miazdzycowe: 1.0</br>proba_ta: 7.0</br>_original_yhat_: 0.42</br>"
          ],
          [
           "</br>id: 30</br>prediction: 0.42</br>wiek: 65.24</br></br>plec: 1.0</br>typ_bolu_klatka: 3.0</br>cisnienie_krwi_spoczynek: 128.0</br>cholesterol_we_krwi: 229.0</br>cukier_we_krwi: 0.0</br>wynik_ekg_spoczynek: 2.0</br>ilosc_uderzen_serca: 150.0</br>bol_klatka_wysilek: 0.0</br>max_obnizka_st: 0.4</br>przebieg_st_szczyt: 2.0</br>zwapnienia_miazdzycowe: 1.0</br>proba_ta: 7.0</br>_original_yhat_: 0.42</br>"
          ],
          [
           "</br>id: 30</br>prediction: 0.45</br>wiek: 65.66</br></br>plec: 1.0</br>typ_bolu_klatka: 3.0</br>cisnienie_krwi_spoczynek: 128.0</br>cholesterol_we_krwi: 229.0</br>cukier_we_krwi: 0.0</br>wynik_ekg_spoczynek: 2.0</br>ilosc_uderzen_serca: 150.0</br>bol_klatka_wysilek: 0.0</br>max_obnizka_st: 0.4</br>przebieg_st_szczyt: 2.0</br>zwapnienia_miazdzycowe: 1.0</br>proba_ta: 7.0</br>_original_yhat_: 0.42</br>"
          ],
          [
           "</br>id: 30</br>prediction: 0.45</br>wiek: 66.08</br></br>plec: 1.0</br>typ_bolu_klatka: 3.0</br>cisnienie_krwi_spoczynek: 128.0</br>cholesterol_we_krwi: 229.0</br>cukier_we_krwi: 0.0</br>wynik_ekg_spoczynek: 2.0</br>ilosc_uderzen_serca: 150.0</br>bol_klatka_wysilek: 0.0</br>max_obnizka_st: 0.4</br>przebieg_st_szczyt: 2.0</br>zwapnienia_miazdzycowe: 1.0</br>proba_ta: 7.0</br>_original_yhat_: 0.42</br>"
          ],
          [
           "</br>id: 30</br>prediction: 0.45</br>wiek: 66.5</br></br>plec: 1.0</br>typ_bolu_klatka: 3.0</br>cisnienie_krwi_spoczynek: 128.0</br>cholesterol_we_krwi: 229.0</br>cukier_we_krwi: 0.0</br>wynik_ekg_spoczynek: 2.0</br>ilosc_uderzen_serca: 150.0</br>bol_klatka_wysilek: 0.0</br>max_obnizka_st: 0.4</br>przebieg_st_szczyt: 2.0</br>zwapnienia_miazdzycowe: 1.0</br>proba_ta: 7.0</br>_original_yhat_: 0.42</br>"
          ],
          [
           "</br>id: 30</br>prediction: 0.46</br>wiek: 66.92</br></br>plec: 1.0</br>typ_bolu_klatka: 3.0</br>cisnienie_krwi_spoczynek: 128.0</br>cholesterol_we_krwi: 229.0</br>cukier_we_krwi: 0.0</br>wynik_ekg_spoczynek: 2.0</br>ilosc_uderzen_serca: 150.0</br>bol_klatka_wysilek: 0.0</br>max_obnizka_st: 0.4</br>przebieg_st_szczyt: 2.0</br>zwapnienia_miazdzycowe: 1.0</br>proba_ta: 7.0</br>_original_yhat_: 0.42</br>"
          ],
          [
           "</br>id: 30</br>prediction: 0.46</br>wiek: 67.34</br></br>plec: 1.0</br>typ_bolu_klatka: 3.0</br>cisnienie_krwi_spoczynek: 128.0</br>cholesterol_we_krwi: 229.0</br>cukier_we_krwi: 0.0</br>wynik_ekg_spoczynek: 2.0</br>ilosc_uderzen_serca: 150.0</br>bol_klatka_wysilek: 0.0</br>max_obnizka_st: 0.4</br>przebieg_st_szczyt: 2.0</br>zwapnienia_miazdzycowe: 1.0</br>proba_ta: 7.0</br>_original_yhat_: 0.42</br>"
          ],
          [
           "</br>id: 30</br>prediction: 0.47</br>wiek: 67.75999999999999</br></br>plec: 1.0</br>typ_bolu_klatka: 3.0</br>cisnienie_krwi_spoczynek: 128.0</br>cholesterol_we_krwi: 229.0</br>cukier_we_krwi: 0.0</br>wynik_ekg_spoczynek: 2.0</br>ilosc_uderzen_serca: 150.0</br>bol_klatka_wysilek: 0.0</br>max_obnizka_st: 0.4</br>przebieg_st_szczyt: 2.0</br>zwapnienia_miazdzycowe: 1.0</br>proba_ta: 7.0</br>_original_yhat_: 0.42</br>"
          ],
          [
           "</br>id: 30</br>prediction: 0.47</br>wiek: 68.18</br></br>plec: 1.0</br>typ_bolu_klatka: 3.0</br>cisnienie_krwi_spoczynek: 128.0</br>cholesterol_we_krwi: 229.0</br>cukier_we_krwi: 0.0</br>wynik_ekg_spoczynek: 2.0</br>ilosc_uderzen_serca: 150.0</br>bol_klatka_wysilek: 0.0</br>max_obnizka_st: 0.4</br>przebieg_st_szczyt: 2.0</br>zwapnienia_miazdzycowe: 1.0</br>proba_ta: 7.0</br>_original_yhat_: 0.42</br>"
          ],
          [
           "</br>id: 30</br>prediction: 0.47</br>wiek: 68.6</br></br>plec: 1.0</br>typ_bolu_klatka: 3.0</br>cisnienie_krwi_spoczynek: 128.0</br>cholesterol_we_krwi: 229.0</br>cukier_we_krwi: 0.0</br>wynik_ekg_spoczynek: 2.0</br>ilosc_uderzen_serca: 150.0</br>bol_klatka_wysilek: 0.0</br>max_obnizka_st: 0.4</br>przebieg_st_szczyt: 2.0</br>zwapnienia_miazdzycowe: 1.0</br>proba_ta: 7.0</br>_original_yhat_: 0.42</br>"
          ],
          [
           "</br>id: 30</br>prediction: 0.47</br>wiek: 69.02</br></br>plec: 1.0</br>typ_bolu_klatka: 3.0</br>cisnienie_krwi_spoczynek: 128.0</br>cholesterol_we_krwi: 229.0</br>cukier_we_krwi: 0.0</br>wynik_ekg_spoczynek: 2.0</br>ilosc_uderzen_serca: 150.0</br>bol_klatka_wysilek: 0.0</br>max_obnizka_st: 0.4</br>przebieg_st_szczyt: 2.0</br>zwapnienia_miazdzycowe: 1.0</br>proba_ta: 7.0</br>_original_yhat_: 0.42</br>"
          ],
          [
           "</br>id: 30</br>prediction: 0.47</br>wiek: 69.44</br></br>plec: 1.0</br>typ_bolu_klatka: 3.0</br>cisnienie_krwi_spoczynek: 128.0</br>cholesterol_we_krwi: 229.0</br>cukier_we_krwi: 0.0</br>wynik_ekg_spoczynek: 2.0</br>ilosc_uderzen_serca: 150.0</br>bol_klatka_wysilek: 0.0</br>max_obnizka_st: 0.4</br>przebieg_st_szczyt: 2.0</br>zwapnienia_miazdzycowe: 1.0</br>proba_ta: 7.0</br>_original_yhat_: 0.42</br>"
          ],
          [
           "</br>id: 30</br>prediction: 0.47</br>wiek: 69.86</br></br>plec: 1.0</br>typ_bolu_klatka: 3.0</br>cisnienie_krwi_spoczynek: 128.0</br>cholesterol_we_krwi: 229.0</br>cukier_we_krwi: 0.0</br>wynik_ekg_spoczynek: 2.0</br>ilosc_uderzen_serca: 150.0</br>bol_klatka_wysilek: 0.0</br>max_obnizka_st: 0.4</br>przebieg_st_szczyt: 2.0</br>zwapnienia_miazdzycowe: 1.0</br>proba_ta: 7.0</br>_original_yhat_: 0.42</br>"
          ],
          [
           "</br>id: 30</br>prediction: 0.47</br>wiek: 70.28</br></br>plec: 1.0</br>typ_bolu_klatka: 3.0</br>cisnienie_krwi_spoczynek: 128.0</br>cholesterol_we_krwi: 229.0</br>cukier_we_krwi: 0.0</br>wynik_ekg_spoczynek: 2.0</br>ilosc_uderzen_serca: 150.0</br>bol_klatka_wysilek: 0.0</br>max_obnizka_st: 0.4</br>przebieg_st_szczyt: 2.0</br>zwapnienia_miazdzycowe: 1.0</br>proba_ta: 7.0</br>_original_yhat_: 0.42</br>"
          ],
          [
           "</br>id: 30</br>prediction: 0.46</br>wiek: 70.69999999999999</br></br>plec: 1.0</br>typ_bolu_klatka: 3.0</br>cisnienie_krwi_spoczynek: 128.0</br>cholesterol_we_krwi: 229.0</br>cukier_we_krwi: 0.0</br>wynik_ekg_spoczynek: 2.0</br>ilosc_uderzen_serca: 150.0</br>bol_klatka_wysilek: 0.0</br>max_obnizka_st: 0.4</br>przebieg_st_szczyt: 2.0</br>zwapnienia_miazdzycowe: 1.0</br>proba_ta: 7.0</br>_original_yhat_: 0.42</br>"
          ],
          [
           "</br>id: 30</br>prediction: 0.46</br>wiek: 71.12</br></br>plec: 1.0</br>typ_bolu_klatka: 3.0</br>cisnienie_krwi_spoczynek: 128.0</br>cholesterol_we_krwi: 229.0</br>cukier_we_krwi: 0.0</br>wynik_ekg_spoczynek: 2.0</br>ilosc_uderzen_serca: 150.0</br>bol_klatka_wysilek: 0.0</br>max_obnizka_st: 0.4</br>przebieg_st_szczyt: 2.0</br>zwapnienia_miazdzycowe: 1.0</br>proba_ta: 7.0</br>_original_yhat_: 0.42</br>"
          ],
          [
           "</br>id: 30</br>prediction: 0.46</br>wiek: 71.53999999999999</br></br>plec: 1.0</br>typ_bolu_klatka: 3.0</br>cisnienie_krwi_spoczynek: 128.0</br>cholesterol_we_krwi: 229.0</br>cukier_we_krwi: 0.0</br>wynik_ekg_spoczynek: 2.0</br>ilosc_uderzen_serca: 150.0</br>bol_klatka_wysilek: 0.0</br>max_obnizka_st: 0.4</br>przebieg_st_szczyt: 2.0</br>zwapnienia_miazdzycowe: 1.0</br>proba_ta: 7.0</br>_original_yhat_: 0.42</br>"
          ],
          [
           "</br>id: 30</br>prediction: 0.46</br>wiek: 71.96000000000001</br></br>plec: 1.0</br>typ_bolu_klatka: 3.0</br>cisnienie_krwi_spoczynek: 128.0</br>cholesterol_we_krwi: 229.0</br>cukier_we_krwi: 0.0</br>wynik_ekg_spoczynek: 2.0</br>ilosc_uderzen_serca: 150.0</br>bol_klatka_wysilek: 0.0</br>max_obnizka_st: 0.4</br>przebieg_st_szczyt: 2.0</br>zwapnienia_miazdzycowe: 1.0</br>proba_ta: 7.0</br>_original_yhat_: 0.42</br>"
          ],
          [
           "</br>id: 30</br>prediction: 0.46</br>wiek: 72.38</br></br>plec: 1.0</br>typ_bolu_klatka: 3.0</br>cisnienie_krwi_spoczynek: 128.0</br>cholesterol_we_krwi: 229.0</br>cukier_we_krwi: 0.0</br>wynik_ekg_spoczynek: 2.0</br>ilosc_uderzen_serca: 150.0</br>bol_klatka_wysilek: 0.0</br>max_obnizka_st: 0.4</br>przebieg_st_szczyt: 2.0</br>zwapnienia_miazdzycowe: 1.0</br>proba_ta: 7.0</br>_original_yhat_: 0.42</br>"
          ],
          [
           "</br>id: 30</br>prediction: 0.46</br>wiek: 72.8</br></br>plec: 1.0</br>typ_bolu_klatka: 3.0</br>cisnienie_krwi_spoczynek: 128.0</br>cholesterol_we_krwi: 229.0</br>cukier_we_krwi: 0.0</br>wynik_ekg_spoczynek: 2.0</br>ilosc_uderzen_serca: 150.0</br>bol_klatka_wysilek: 0.0</br>max_obnizka_st: 0.4</br>przebieg_st_szczyt: 2.0</br>zwapnienia_miazdzycowe: 1.0</br>proba_ta: 7.0</br>_original_yhat_: 0.42</br>"
          ],
          [
           "</br>id: 30</br>prediction: 0.46</br>wiek: 73.22</br></br>plec: 1.0</br>typ_bolu_klatka: 3.0</br>cisnienie_krwi_spoczynek: 128.0</br>cholesterol_we_krwi: 229.0</br>cukier_we_krwi: 0.0</br>wynik_ekg_spoczynek: 2.0</br>ilosc_uderzen_serca: 150.0</br>bol_klatka_wysilek: 0.0</br>max_obnizka_st: 0.4</br>przebieg_st_szczyt: 2.0</br>zwapnienia_miazdzycowe: 1.0</br>proba_ta: 7.0</br>_original_yhat_: 0.42</br>"
          ],
          [
           "</br>id: 30</br>prediction: 0.46</br>wiek: 73.64</br></br>plec: 1.0</br>typ_bolu_klatka: 3.0</br>cisnienie_krwi_spoczynek: 128.0</br>cholesterol_we_krwi: 229.0</br>cukier_we_krwi: 0.0</br>wynik_ekg_spoczynek: 2.0</br>ilosc_uderzen_serca: 150.0</br>bol_klatka_wysilek: 0.0</br>max_obnizka_st: 0.4</br>przebieg_st_szczyt: 2.0</br>zwapnienia_miazdzycowe: 1.0</br>proba_ta: 7.0</br>_original_yhat_: 0.42</br>"
          ],
          [
           "</br>id: 30</br>prediction: 0.46</br>wiek: 74.06</br></br>plec: 1.0</br>typ_bolu_klatka: 3.0</br>cisnienie_krwi_spoczynek: 128.0</br>cholesterol_we_krwi: 229.0</br>cukier_we_krwi: 0.0</br>wynik_ekg_spoczynek: 2.0</br>ilosc_uderzen_serca: 150.0</br>bol_klatka_wysilek: 0.0</br>max_obnizka_st: 0.4</br>przebieg_st_szczyt: 2.0</br>zwapnienia_miazdzycowe: 1.0</br>proba_ta: 7.0</br>_original_yhat_: 0.42</br>"
          ],
          [
           "</br>id: 30</br>prediction: 0.46</br>wiek: 74.47999999999999</br></br>plec: 1.0</br>typ_bolu_klatka: 3.0</br>cisnienie_krwi_spoczynek: 128.0</br>cholesterol_we_krwi: 229.0</br>cukier_we_krwi: 0.0</br>wynik_ekg_spoczynek: 2.0</br>ilosc_uderzen_serca: 150.0</br>bol_klatka_wysilek: 0.0</br>max_obnizka_st: 0.4</br>przebieg_st_szczyt: 2.0</br>zwapnienia_miazdzycowe: 1.0</br>proba_ta: 7.0</br>_original_yhat_: 0.42</br>"
          ],
          [
           "</br>id: 30</br>prediction: 0.46</br>wiek: 74.9</br></br>plec: 1.0</br>typ_bolu_klatka: 3.0</br>cisnienie_krwi_spoczynek: 128.0</br>cholesterol_we_krwi: 229.0</br>cukier_we_krwi: 0.0</br>wynik_ekg_spoczynek: 2.0</br>ilosc_uderzen_serca: 150.0</br>bol_klatka_wysilek: 0.0</br>max_obnizka_st: 0.4</br>przebieg_st_szczyt: 2.0</br>zwapnienia_miazdzycowe: 1.0</br>proba_ta: 7.0</br>_original_yhat_: 0.42</br>"
          ],
          [
           "</br>id: 30</br>prediction: 0.46</br>wiek: 75.32</br></br>plec: 1.0</br>typ_bolu_klatka: 3.0</br>cisnienie_krwi_spoczynek: 128.0</br>cholesterol_we_krwi: 229.0</br>cukier_we_krwi: 0.0</br>wynik_ekg_spoczynek: 2.0</br>ilosc_uderzen_serca: 150.0</br>bol_klatka_wysilek: 0.0</br>max_obnizka_st: 0.4</br>przebieg_st_szczyt: 2.0</br>zwapnienia_miazdzycowe: 1.0</br>proba_ta: 7.0</br>_original_yhat_: 0.42</br>"
          ],
          [
           "</br>id: 30</br>prediction: 0.46</br>wiek: 75.74000000000001</br></br>plec: 1.0</br>typ_bolu_klatka: 3.0</br>cisnienie_krwi_spoczynek: 128.0</br>cholesterol_we_krwi: 229.0</br>cukier_we_krwi: 0.0</br>wynik_ekg_spoczynek: 2.0</br>ilosc_uderzen_serca: 150.0</br>bol_klatka_wysilek: 0.0</br>max_obnizka_st: 0.4</br>przebieg_st_szczyt: 2.0</br>zwapnienia_miazdzycowe: 1.0</br>proba_ta: 7.0</br>_original_yhat_: 0.42</br>"
          ],
          [
           "</br>id: 30</br>prediction: 0.46</br>wiek: 76.16</br></br>plec: 1.0</br>typ_bolu_klatka: 3.0</br>cisnienie_krwi_spoczynek: 128.0</br>cholesterol_we_krwi: 229.0</br>cukier_we_krwi: 0.0</br>wynik_ekg_spoczynek: 2.0</br>ilosc_uderzen_serca: 150.0</br>bol_klatka_wysilek: 0.0</br>max_obnizka_st: 0.4</br>przebieg_st_szczyt: 2.0</br>zwapnienia_miazdzycowe: 1.0</br>proba_ta: 7.0</br>_original_yhat_: 0.42</br>"
          ],
          [
           "</br>id: 30</br>prediction: 0.46</br>wiek: 76.58</br></br>plec: 1.0</br>typ_bolu_klatka: 3.0</br>cisnienie_krwi_spoczynek: 128.0</br>cholesterol_we_krwi: 229.0</br>cukier_we_krwi: 0.0</br>wynik_ekg_spoczynek: 2.0</br>ilosc_uderzen_serca: 150.0</br>bol_klatka_wysilek: 0.0</br>max_obnizka_st: 0.4</br>przebieg_st_szczyt: 2.0</br>zwapnienia_miazdzycowe: 1.0</br>proba_ta: 7.0</br>_original_yhat_: 0.42</br>"
          ],
          [
           "</br>id: 30</br>prediction: 0.46</br>wiek: 77.0</br></br>plec: 1.0</br>typ_bolu_klatka: 3.0</br>cisnienie_krwi_spoczynek: 128.0</br>cholesterol_we_krwi: 229.0</br>cukier_we_krwi: 0.0</br>wynik_ekg_spoczynek: 2.0</br>ilosc_uderzen_serca: 150.0</br>bol_klatka_wysilek: 0.0</br>max_obnizka_st: 0.4</br>przebieg_st_szczyt: 2.0</br>zwapnienia_miazdzycowe: 1.0</br>proba_ta: 7.0</br>_original_yhat_: 0.42</br>"
          ]
         ],
         "hovertemplate": "%{customdata[0]}<extra></extra>",
         "legendgroup": "Model RandomForest dla danych serca",
         "line": {
          "color": "#46bac2",
          "dash": "solid",
          "width": 2
         },
         "marker": {
          "symbol": "circle"
         },
         "mode": "lines",
         "name": "Model RandomForest dla danych serca",
         "opacity": 1,
         "showlegend": true,
         "type": "scattergl",
         "x": [
          35,
          35.42,
          35.84,
          36.26,
          36.68,
          37.1,
          37.52,
          37.94,
          38.36,
          38.78,
          39.2,
          39.62,
          40.04,
          40.46,
          40.88,
          41.3,
          41.72,
          42.14,
          42.56,
          42.98,
          43.4,
          43.82,
          44.24,
          44.66,
          45.08,
          45.5,
          45.92,
          46.34,
          46.76,
          47.18,
          47.6,
          48.019999999999996,
          48.44,
          48.86,
          49.28,
          49.7,
          50.12,
          50.54,
          50.96,
          51.379999999999995,
          51.8,
          52.22,
          52.64,
          53.06,
          53.480000000000004,
          53.9,
          54.32,
          54.739999999999995,
          55.16,
          55.58,
          56,
          56.42,
          56.84,
          57,
          57.26,
          57.68,
          58.099999999999994,
          58.519999999999996,
          58.94,
          59.36,
          59.78,
          60.2,
          60.62,
          61.04,
          61.459999999999994,
          61.879999999999995,
          62.3,
          62.72,
          63.14,
          63.56,
          63.980000000000004,
          64.4,
          64.82,
          65.24,
          65.66,
          66.08,
          66.5,
          66.92,
          67.34,
          67.75999999999999,
          68.18,
          68.6,
          69.02,
          69.44,
          69.86,
          70.28,
          70.69999999999999,
          71.12,
          71.53999999999999,
          71.96000000000001,
          72.38,
          72.8,
          73.22,
          73.64,
          74.06,
          74.47999999999999,
          74.9,
          75.32,
          75.74000000000001,
          76.16,
          76.58,
          77
         ],
         "xaxis": "x13",
         "y": [
          0.4,
          0.4,
          0.4,
          0.4,
          0.4,
          0.4,
          0.4,
          0.4,
          0.4,
          0.4,
          0.4,
          0.4,
          0.4,
          0.4,
          0.4,
          0.4,
          0.39,
          0.38,
          0.38,
          0.38,
          0.38,
          0.38,
          0.38,
          0.37,
          0.37,
          0.37,
          0.38,
          0.38,
          0.38,
          0.37,
          0.37,
          0.37,
          0.37,
          0.36,
          0.35,
          0.33,
          0.3,
          0.3,
          0.3,
          0.28,
          0.27,
          0.27,
          0.3,
          0.3,
          0.3,
          0.29,
          0.29,
          0.31,
          0.31,
          0.36,
          0.36,
          0.4,
          0.42,
          0.42,
          0.43,
          0.43,
          0.43,
          0.44,
          0.44,
          0.44,
          0.44,
          0.44,
          0.42,
          0.41,
          0.41,
          0.41,
          0.41,
          0.4,
          0.39,
          0.42,
          0.42,
          0.42,
          0.42,
          0.42,
          0.45,
          0.45,
          0.45,
          0.46,
          0.46,
          0.47,
          0.47,
          0.47,
          0.47,
          0.47,
          0.47,
          0.47,
          0.46,
          0.46,
          0.46,
          0.46,
          0.46,
          0.46,
          0.46,
          0.46,
          0.46,
          0.46,
          0.46,
          0.46,
          0.46,
          0.46,
          0.46,
          0.46
         ],
         "yaxis": "y13"
        },
        {
         "customdata": [
          [
           "</br>id: 30</br>prediction: 0.32</br>plec: 0.0</br></br>wiek: 57.0</br>typ_bolu_klatka: 3.0</br>cisnienie_krwi_spoczynek: 128.0</br>cholesterol_we_krwi: 229.0</br>cukier_we_krwi: 0.0</br>wynik_ekg_spoczynek: 2.0</br>ilosc_uderzen_serca: 150.0</br>bol_klatka_wysilek: 0.0</br>max_obnizka_st: 0.4</br>przebieg_st_szczyt: 2.0</br>zwapnienia_miazdzycowe: 1.0</br>proba_ta: 7.0</br>_original_yhat_: 0.42</br>"
          ],
          [
           "</br>id: 30</br>prediction: 0.32</br>plec: 0.01</br></br>wiek: 57.0</br>typ_bolu_klatka: 3.0</br>cisnienie_krwi_spoczynek: 128.0</br>cholesterol_we_krwi: 229.0</br>cukier_we_krwi: 0.0</br>wynik_ekg_spoczynek: 2.0</br>ilosc_uderzen_serca: 150.0</br>bol_klatka_wysilek: 0.0</br>max_obnizka_st: 0.4</br>przebieg_st_szczyt: 2.0</br>zwapnienia_miazdzycowe: 1.0</br>proba_ta: 7.0</br>_original_yhat_: 0.42</br>"
          ],
          [
           "</br>id: 30</br>prediction: 0.32</br>plec: 0.02</br></br>wiek: 57.0</br>typ_bolu_klatka: 3.0</br>cisnienie_krwi_spoczynek: 128.0</br>cholesterol_we_krwi: 229.0</br>cukier_we_krwi: 0.0</br>wynik_ekg_spoczynek: 2.0</br>ilosc_uderzen_serca: 150.0</br>bol_klatka_wysilek: 0.0</br>max_obnizka_st: 0.4</br>przebieg_st_szczyt: 2.0</br>zwapnienia_miazdzycowe: 1.0</br>proba_ta: 7.0</br>_original_yhat_: 0.42</br>"
          ],
          [
           "</br>id: 30</br>prediction: 0.32</br>plec: 0.03</br></br>wiek: 57.0</br>typ_bolu_klatka: 3.0</br>cisnienie_krwi_spoczynek: 128.0</br>cholesterol_we_krwi: 229.0</br>cukier_we_krwi: 0.0</br>wynik_ekg_spoczynek: 2.0</br>ilosc_uderzen_serca: 150.0</br>bol_klatka_wysilek: 0.0</br>max_obnizka_st: 0.4</br>przebieg_st_szczyt: 2.0</br>zwapnienia_miazdzycowe: 1.0</br>proba_ta: 7.0</br>_original_yhat_: 0.42</br>"
          ],
          [
           "</br>id: 30</br>prediction: 0.32</br>plec: 0.04</br></br>wiek: 57.0</br>typ_bolu_klatka: 3.0</br>cisnienie_krwi_spoczynek: 128.0</br>cholesterol_we_krwi: 229.0</br>cukier_we_krwi: 0.0</br>wynik_ekg_spoczynek: 2.0</br>ilosc_uderzen_serca: 150.0</br>bol_klatka_wysilek: 0.0</br>max_obnizka_st: 0.4</br>przebieg_st_szczyt: 2.0</br>zwapnienia_miazdzycowe: 1.0</br>proba_ta: 7.0</br>_original_yhat_: 0.42</br>"
          ],
          [
           "</br>id: 30</br>prediction: 0.32</br>plec: 0.05</br></br>wiek: 57.0</br>typ_bolu_klatka: 3.0</br>cisnienie_krwi_spoczynek: 128.0</br>cholesterol_we_krwi: 229.0</br>cukier_we_krwi: 0.0</br>wynik_ekg_spoczynek: 2.0</br>ilosc_uderzen_serca: 150.0</br>bol_klatka_wysilek: 0.0</br>max_obnizka_st: 0.4</br>przebieg_st_szczyt: 2.0</br>zwapnienia_miazdzycowe: 1.0</br>proba_ta: 7.0</br>_original_yhat_: 0.42</br>"
          ],
          [
           "</br>id: 30</br>prediction: 0.32</br>plec: 0.06</br></br>wiek: 57.0</br>typ_bolu_klatka: 3.0</br>cisnienie_krwi_spoczynek: 128.0</br>cholesterol_we_krwi: 229.0</br>cukier_we_krwi: 0.0</br>wynik_ekg_spoczynek: 2.0</br>ilosc_uderzen_serca: 150.0</br>bol_klatka_wysilek: 0.0</br>max_obnizka_st: 0.4</br>przebieg_st_szczyt: 2.0</br>zwapnienia_miazdzycowe: 1.0</br>proba_ta: 7.0</br>_original_yhat_: 0.42</br>"
          ],
          [
           "</br>id: 30</br>prediction: 0.32</br>plec: 0.07</br></br>wiek: 57.0</br>typ_bolu_klatka: 3.0</br>cisnienie_krwi_spoczynek: 128.0</br>cholesterol_we_krwi: 229.0</br>cukier_we_krwi: 0.0</br>wynik_ekg_spoczynek: 2.0</br>ilosc_uderzen_serca: 150.0</br>bol_klatka_wysilek: 0.0</br>max_obnizka_st: 0.4</br>przebieg_st_szczyt: 2.0</br>zwapnienia_miazdzycowe: 1.0</br>proba_ta: 7.0</br>_original_yhat_: 0.42</br>"
          ],
          [
           "</br>id: 30</br>prediction: 0.32</br>plec: 0.08</br></br>wiek: 57.0</br>typ_bolu_klatka: 3.0</br>cisnienie_krwi_spoczynek: 128.0</br>cholesterol_we_krwi: 229.0</br>cukier_we_krwi: 0.0</br>wynik_ekg_spoczynek: 2.0</br>ilosc_uderzen_serca: 150.0</br>bol_klatka_wysilek: 0.0</br>max_obnizka_st: 0.4</br>przebieg_st_szczyt: 2.0</br>zwapnienia_miazdzycowe: 1.0</br>proba_ta: 7.0</br>_original_yhat_: 0.42</br>"
          ],
          [
           "</br>id: 30</br>prediction: 0.32</br>plec: 0.09</br></br>wiek: 57.0</br>typ_bolu_klatka: 3.0</br>cisnienie_krwi_spoczynek: 128.0</br>cholesterol_we_krwi: 229.0</br>cukier_we_krwi: 0.0</br>wynik_ekg_spoczynek: 2.0</br>ilosc_uderzen_serca: 150.0</br>bol_klatka_wysilek: 0.0</br>max_obnizka_st: 0.4</br>przebieg_st_szczyt: 2.0</br>zwapnienia_miazdzycowe: 1.0</br>proba_ta: 7.0</br>_original_yhat_: 0.42</br>"
          ],
          [
           "</br>id: 30</br>prediction: 0.32</br>plec: 0.1</br></br>wiek: 57.0</br>typ_bolu_klatka: 3.0</br>cisnienie_krwi_spoczynek: 128.0</br>cholesterol_we_krwi: 229.0</br>cukier_we_krwi: 0.0</br>wynik_ekg_spoczynek: 2.0</br>ilosc_uderzen_serca: 150.0</br>bol_klatka_wysilek: 0.0</br>max_obnizka_st: 0.4</br>przebieg_st_szczyt: 2.0</br>zwapnienia_miazdzycowe: 1.0</br>proba_ta: 7.0</br>_original_yhat_: 0.42</br>"
          ],
          [
           "</br>id: 30</br>prediction: 0.32</br>plec: 0.11</br></br>wiek: 57.0</br>typ_bolu_klatka: 3.0</br>cisnienie_krwi_spoczynek: 128.0</br>cholesterol_we_krwi: 229.0</br>cukier_we_krwi: 0.0</br>wynik_ekg_spoczynek: 2.0</br>ilosc_uderzen_serca: 150.0</br>bol_klatka_wysilek: 0.0</br>max_obnizka_st: 0.4</br>przebieg_st_szczyt: 2.0</br>zwapnienia_miazdzycowe: 1.0</br>proba_ta: 7.0</br>_original_yhat_: 0.42</br>"
          ],
          [
           "</br>id: 30</br>prediction: 0.32</br>plec: 0.12</br></br>wiek: 57.0</br>typ_bolu_klatka: 3.0</br>cisnienie_krwi_spoczynek: 128.0</br>cholesterol_we_krwi: 229.0</br>cukier_we_krwi: 0.0</br>wynik_ekg_spoczynek: 2.0</br>ilosc_uderzen_serca: 150.0</br>bol_klatka_wysilek: 0.0</br>max_obnizka_st: 0.4</br>przebieg_st_szczyt: 2.0</br>zwapnienia_miazdzycowe: 1.0</br>proba_ta: 7.0</br>_original_yhat_: 0.42</br>"
          ],
          [
           "</br>id: 30</br>prediction: 0.32</br>plec: 0.13</br></br>wiek: 57.0</br>typ_bolu_klatka: 3.0</br>cisnienie_krwi_spoczynek: 128.0</br>cholesterol_we_krwi: 229.0</br>cukier_we_krwi: 0.0</br>wynik_ekg_spoczynek: 2.0</br>ilosc_uderzen_serca: 150.0</br>bol_klatka_wysilek: 0.0</br>max_obnizka_st: 0.4</br>przebieg_st_szczyt: 2.0</br>zwapnienia_miazdzycowe: 1.0</br>proba_ta: 7.0</br>_original_yhat_: 0.42</br>"
          ],
          [
           "</br>id: 30</br>prediction: 0.32</br>plec: 0.14</br></br>wiek: 57.0</br>typ_bolu_klatka: 3.0</br>cisnienie_krwi_spoczynek: 128.0</br>cholesterol_we_krwi: 229.0</br>cukier_we_krwi: 0.0</br>wynik_ekg_spoczynek: 2.0</br>ilosc_uderzen_serca: 150.0</br>bol_klatka_wysilek: 0.0</br>max_obnizka_st: 0.4</br>przebieg_st_szczyt: 2.0</br>zwapnienia_miazdzycowe: 1.0</br>proba_ta: 7.0</br>_original_yhat_: 0.42</br>"
          ],
          [
           "</br>id: 30</br>prediction: 0.32</br>plec: 0.15</br></br>wiek: 57.0</br>typ_bolu_klatka: 3.0</br>cisnienie_krwi_spoczynek: 128.0</br>cholesterol_we_krwi: 229.0</br>cukier_we_krwi: 0.0</br>wynik_ekg_spoczynek: 2.0</br>ilosc_uderzen_serca: 150.0</br>bol_klatka_wysilek: 0.0</br>max_obnizka_st: 0.4</br>przebieg_st_szczyt: 2.0</br>zwapnienia_miazdzycowe: 1.0</br>proba_ta: 7.0</br>_original_yhat_: 0.42</br>"
          ],
          [
           "</br>id: 30</br>prediction: 0.32</br>plec: 0.16</br></br>wiek: 57.0</br>typ_bolu_klatka: 3.0</br>cisnienie_krwi_spoczynek: 128.0</br>cholesterol_we_krwi: 229.0</br>cukier_we_krwi: 0.0</br>wynik_ekg_spoczynek: 2.0</br>ilosc_uderzen_serca: 150.0</br>bol_klatka_wysilek: 0.0</br>max_obnizka_st: 0.4</br>przebieg_st_szczyt: 2.0</br>zwapnienia_miazdzycowe: 1.0</br>proba_ta: 7.0</br>_original_yhat_: 0.42</br>"
          ],
          [
           "</br>id: 30</br>prediction: 0.32</br>plec: 0.17</br></br>wiek: 57.0</br>typ_bolu_klatka: 3.0</br>cisnienie_krwi_spoczynek: 128.0</br>cholesterol_we_krwi: 229.0</br>cukier_we_krwi: 0.0</br>wynik_ekg_spoczynek: 2.0</br>ilosc_uderzen_serca: 150.0</br>bol_klatka_wysilek: 0.0</br>max_obnizka_st: 0.4</br>przebieg_st_szczyt: 2.0</br>zwapnienia_miazdzycowe: 1.0</br>proba_ta: 7.0</br>_original_yhat_: 0.42</br>"
          ],
          [
           "</br>id: 30</br>prediction: 0.32</br>plec: 0.18</br></br>wiek: 57.0</br>typ_bolu_klatka: 3.0</br>cisnienie_krwi_spoczynek: 128.0</br>cholesterol_we_krwi: 229.0</br>cukier_we_krwi: 0.0</br>wynik_ekg_spoczynek: 2.0</br>ilosc_uderzen_serca: 150.0</br>bol_klatka_wysilek: 0.0</br>max_obnizka_st: 0.4</br>przebieg_st_szczyt: 2.0</br>zwapnienia_miazdzycowe: 1.0</br>proba_ta: 7.0</br>_original_yhat_: 0.42</br>"
          ],
          [
           "</br>id: 30</br>prediction: 0.32</br>plec: 0.19</br></br>wiek: 57.0</br>typ_bolu_klatka: 3.0</br>cisnienie_krwi_spoczynek: 128.0</br>cholesterol_we_krwi: 229.0</br>cukier_we_krwi: 0.0</br>wynik_ekg_spoczynek: 2.0</br>ilosc_uderzen_serca: 150.0</br>bol_klatka_wysilek: 0.0</br>max_obnizka_st: 0.4</br>przebieg_st_szczyt: 2.0</br>zwapnienia_miazdzycowe: 1.0</br>proba_ta: 7.0</br>_original_yhat_: 0.42</br>"
          ],
          [
           "</br>id: 30</br>prediction: 0.32</br>plec: 0.2</br></br>wiek: 57.0</br>typ_bolu_klatka: 3.0</br>cisnienie_krwi_spoczynek: 128.0</br>cholesterol_we_krwi: 229.0</br>cukier_we_krwi: 0.0</br>wynik_ekg_spoczynek: 2.0</br>ilosc_uderzen_serca: 150.0</br>bol_klatka_wysilek: 0.0</br>max_obnizka_st: 0.4</br>przebieg_st_szczyt: 2.0</br>zwapnienia_miazdzycowe: 1.0</br>proba_ta: 7.0</br>_original_yhat_: 0.42</br>"
          ],
          [
           "</br>id: 30</br>prediction: 0.32</br>plec: 0.21</br></br>wiek: 57.0</br>typ_bolu_klatka: 3.0</br>cisnienie_krwi_spoczynek: 128.0</br>cholesterol_we_krwi: 229.0</br>cukier_we_krwi: 0.0</br>wynik_ekg_spoczynek: 2.0</br>ilosc_uderzen_serca: 150.0</br>bol_klatka_wysilek: 0.0</br>max_obnizka_st: 0.4</br>przebieg_st_szczyt: 2.0</br>zwapnienia_miazdzycowe: 1.0</br>proba_ta: 7.0</br>_original_yhat_: 0.42</br>"
          ],
          [
           "</br>id: 30</br>prediction: 0.32</br>plec: 0.22</br></br>wiek: 57.0</br>typ_bolu_klatka: 3.0</br>cisnienie_krwi_spoczynek: 128.0</br>cholesterol_we_krwi: 229.0</br>cukier_we_krwi: 0.0</br>wynik_ekg_spoczynek: 2.0</br>ilosc_uderzen_serca: 150.0</br>bol_klatka_wysilek: 0.0</br>max_obnizka_st: 0.4</br>przebieg_st_szczyt: 2.0</br>zwapnienia_miazdzycowe: 1.0</br>proba_ta: 7.0</br>_original_yhat_: 0.42</br>"
          ],
          [
           "</br>id: 30</br>prediction: 0.32</br>plec: 0.23</br></br>wiek: 57.0</br>typ_bolu_klatka: 3.0</br>cisnienie_krwi_spoczynek: 128.0</br>cholesterol_we_krwi: 229.0</br>cukier_we_krwi: 0.0</br>wynik_ekg_spoczynek: 2.0</br>ilosc_uderzen_serca: 150.0</br>bol_klatka_wysilek: 0.0</br>max_obnizka_st: 0.4</br>przebieg_st_szczyt: 2.0</br>zwapnienia_miazdzycowe: 1.0</br>proba_ta: 7.0</br>_original_yhat_: 0.42</br>"
          ],
          [
           "</br>id: 30</br>prediction: 0.32</br>plec: 0.24</br></br>wiek: 57.0</br>typ_bolu_klatka: 3.0</br>cisnienie_krwi_spoczynek: 128.0</br>cholesterol_we_krwi: 229.0</br>cukier_we_krwi: 0.0</br>wynik_ekg_spoczynek: 2.0</br>ilosc_uderzen_serca: 150.0</br>bol_klatka_wysilek: 0.0</br>max_obnizka_st: 0.4</br>przebieg_st_szczyt: 2.0</br>zwapnienia_miazdzycowe: 1.0</br>proba_ta: 7.0</br>_original_yhat_: 0.42</br>"
          ],
          [
           "</br>id: 30</br>prediction: 0.32</br>plec: 0.25</br></br>wiek: 57.0</br>typ_bolu_klatka: 3.0</br>cisnienie_krwi_spoczynek: 128.0</br>cholesterol_we_krwi: 229.0</br>cukier_we_krwi: 0.0</br>wynik_ekg_spoczynek: 2.0</br>ilosc_uderzen_serca: 150.0</br>bol_klatka_wysilek: 0.0</br>max_obnizka_st: 0.4</br>przebieg_st_szczyt: 2.0</br>zwapnienia_miazdzycowe: 1.0</br>proba_ta: 7.0</br>_original_yhat_: 0.42</br>"
          ],
          [
           "</br>id: 30</br>prediction: 0.32</br>plec: 0.26</br></br>wiek: 57.0</br>typ_bolu_klatka: 3.0</br>cisnienie_krwi_spoczynek: 128.0</br>cholesterol_we_krwi: 229.0</br>cukier_we_krwi: 0.0</br>wynik_ekg_spoczynek: 2.0</br>ilosc_uderzen_serca: 150.0</br>bol_klatka_wysilek: 0.0</br>max_obnizka_st: 0.4</br>przebieg_st_szczyt: 2.0</br>zwapnienia_miazdzycowe: 1.0</br>proba_ta: 7.0</br>_original_yhat_: 0.42</br>"
          ],
          [
           "</br>id: 30</br>prediction: 0.32</br>plec: 0.27</br></br>wiek: 57.0</br>typ_bolu_klatka: 3.0</br>cisnienie_krwi_spoczynek: 128.0</br>cholesterol_we_krwi: 229.0</br>cukier_we_krwi: 0.0</br>wynik_ekg_spoczynek: 2.0</br>ilosc_uderzen_serca: 150.0</br>bol_klatka_wysilek: 0.0</br>max_obnizka_st: 0.4</br>przebieg_st_szczyt: 2.0</br>zwapnienia_miazdzycowe: 1.0</br>proba_ta: 7.0</br>_original_yhat_: 0.42</br>"
          ],
          [
           "</br>id: 30</br>prediction: 0.32</br>plec: 0.28</br></br>wiek: 57.0</br>typ_bolu_klatka: 3.0</br>cisnienie_krwi_spoczynek: 128.0</br>cholesterol_we_krwi: 229.0</br>cukier_we_krwi: 0.0</br>wynik_ekg_spoczynek: 2.0</br>ilosc_uderzen_serca: 150.0</br>bol_klatka_wysilek: 0.0</br>max_obnizka_st: 0.4</br>przebieg_st_szczyt: 2.0</br>zwapnienia_miazdzycowe: 1.0</br>proba_ta: 7.0</br>_original_yhat_: 0.42</br>"
          ],
          [
           "</br>id: 30</br>prediction: 0.32</br>plec: 0.29</br></br>wiek: 57.0</br>typ_bolu_klatka: 3.0</br>cisnienie_krwi_spoczynek: 128.0</br>cholesterol_we_krwi: 229.0</br>cukier_we_krwi: 0.0</br>wynik_ekg_spoczynek: 2.0</br>ilosc_uderzen_serca: 150.0</br>bol_klatka_wysilek: 0.0</br>max_obnizka_st: 0.4</br>przebieg_st_szczyt: 2.0</br>zwapnienia_miazdzycowe: 1.0</br>proba_ta: 7.0</br>_original_yhat_: 0.42</br>"
          ],
          [
           "</br>id: 30</br>prediction: 0.32</br>plec: 0.3</br></br>wiek: 57.0</br>typ_bolu_klatka: 3.0</br>cisnienie_krwi_spoczynek: 128.0</br>cholesterol_we_krwi: 229.0</br>cukier_we_krwi: 0.0</br>wynik_ekg_spoczynek: 2.0</br>ilosc_uderzen_serca: 150.0</br>bol_klatka_wysilek: 0.0</br>max_obnizka_st: 0.4</br>przebieg_st_szczyt: 2.0</br>zwapnienia_miazdzycowe: 1.0</br>proba_ta: 7.0</br>_original_yhat_: 0.42</br>"
          ],
          [
           "</br>id: 30</br>prediction: 0.32</br>plec: 0.31</br></br>wiek: 57.0</br>typ_bolu_klatka: 3.0</br>cisnienie_krwi_spoczynek: 128.0</br>cholesterol_we_krwi: 229.0</br>cukier_we_krwi: 0.0</br>wynik_ekg_spoczynek: 2.0</br>ilosc_uderzen_serca: 150.0</br>bol_klatka_wysilek: 0.0</br>max_obnizka_st: 0.4</br>przebieg_st_szczyt: 2.0</br>zwapnienia_miazdzycowe: 1.0</br>proba_ta: 7.0</br>_original_yhat_: 0.42</br>"
          ],
          [
           "</br>id: 30</br>prediction: 0.32</br>plec: 0.32</br></br>wiek: 57.0</br>typ_bolu_klatka: 3.0</br>cisnienie_krwi_spoczynek: 128.0</br>cholesterol_we_krwi: 229.0</br>cukier_we_krwi: 0.0</br>wynik_ekg_spoczynek: 2.0</br>ilosc_uderzen_serca: 150.0</br>bol_klatka_wysilek: 0.0</br>max_obnizka_st: 0.4</br>przebieg_st_szczyt: 2.0</br>zwapnienia_miazdzycowe: 1.0</br>proba_ta: 7.0</br>_original_yhat_: 0.42</br>"
          ],
          [
           "</br>id: 30</br>prediction: 0.32</br>plec: 0.33</br></br>wiek: 57.0</br>typ_bolu_klatka: 3.0</br>cisnienie_krwi_spoczynek: 128.0</br>cholesterol_we_krwi: 229.0</br>cukier_we_krwi: 0.0</br>wynik_ekg_spoczynek: 2.0</br>ilosc_uderzen_serca: 150.0</br>bol_klatka_wysilek: 0.0</br>max_obnizka_st: 0.4</br>przebieg_st_szczyt: 2.0</br>zwapnienia_miazdzycowe: 1.0</br>proba_ta: 7.0</br>_original_yhat_: 0.42</br>"
          ],
          [
           "</br>id: 30</br>prediction: 0.32</br>plec: 0.34</br></br>wiek: 57.0</br>typ_bolu_klatka: 3.0</br>cisnienie_krwi_spoczynek: 128.0</br>cholesterol_we_krwi: 229.0</br>cukier_we_krwi: 0.0</br>wynik_ekg_spoczynek: 2.0</br>ilosc_uderzen_serca: 150.0</br>bol_klatka_wysilek: 0.0</br>max_obnizka_st: 0.4</br>przebieg_st_szczyt: 2.0</br>zwapnienia_miazdzycowe: 1.0</br>proba_ta: 7.0</br>_original_yhat_: 0.42</br>"
          ],
          [
           "</br>id: 30</br>prediction: 0.32</br>plec: 0.35000000000000003</br></br>wiek: 57.0</br>typ_bolu_klatka: 3.0</br>cisnienie_krwi_spoczynek: 128.0</br>cholesterol_we_krwi: 229.0</br>cukier_we_krwi: 0.0</br>wynik_ekg_spoczynek: 2.0</br>ilosc_uderzen_serca: 150.0</br>bol_klatka_wysilek: 0.0</br>max_obnizka_st: 0.4</br>przebieg_st_szczyt: 2.0</br>zwapnienia_miazdzycowe: 1.0</br>proba_ta: 7.0</br>_original_yhat_: 0.42</br>"
          ],
          [
           "</br>id: 30</br>prediction: 0.32</br>plec: 0.36</br></br>wiek: 57.0</br>typ_bolu_klatka: 3.0</br>cisnienie_krwi_spoczynek: 128.0</br>cholesterol_we_krwi: 229.0</br>cukier_we_krwi: 0.0</br>wynik_ekg_spoczynek: 2.0</br>ilosc_uderzen_serca: 150.0</br>bol_klatka_wysilek: 0.0</br>max_obnizka_st: 0.4</br>przebieg_st_szczyt: 2.0</br>zwapnienia_miazdzycowe: 1.0</br>proba_ta: 7.0</br>_original_yhat_: 0.42</br>"
          ],
          [
           "</br>id: 30</br>prediction: 0.32</br>plec: 0.37</br></br>wiek: 57.0</br>typ_bolu_klatka: 3.0</br>cisnienie_krwi_spoczynek: 128.0</br>cholesterol_we_krwi: 229.0</br>cukier_we_krwi: 0.0</br>wynik_ekg_spoczynek: 2.0</br>ilosc_uderzen_serca: 150.0</br>bol_klatka_wysilek: 0.0</br>max_obnizka_st: 0.4</br>przebieg_st_szczyt: 2.0</br>zwapnienia_miazdzycowe: 1.0</br>proba_ta: 7.0</br>_original_yhat_: 0.42</br>"
          ],
          [
           "</br>id: 30</br>prediction: 0.32</br>plec: 0.38</br></br>wiek: 57.0</br>typ_bolu_klatka: 3.0</br>cisnienie_krwi_spoczynek: 128.0</br>cholesterol_we_krwi: 229.0</br>cukier_we_krwi: 0.0</br>wynik_ekg_spoczynek: 2.0</br>ilosc_uderzen_serca: 150.0</br>bol_klatka_wysilek: 0.0</br>max_obnizka_st: 0.4</br>przebieg_st_szczyt: 2.0</br>zwapnienia_miazdzycowe: 1.0</br>proba_ta: 7.0</br>_original_yhat_: 0.42</br>"
          ],
          [
           "</br>id: 30</br>prediction: 0.32</br>plec: 0.39</br></br>wiek: 57.0</br>typ_bolu_klatka: 3.0</br>cisnienie_krwi_spoczynek: 128.0</br>cholesterol_we_krwi: 229.0</br>cukier_we_krwi: 0.0</br>wynik_ekg_spoczynek: 2.0</br>ilosc_uderzen_serca: 150.0</br>bol_klatka_wysilek: 0.0</br>max_obnizka_st: 0.4</br>przebieg_st_szczyt: 2.0</br>zwapnienia_miazdzycowe: 1.0</br>proba_ta: 7.0</br>_original_yhat_: 0.42</br>"
          ],
          [
           "</br>id: 30</br>prediction: 0.32</br>plec: 0.4</br></br>wiek: 57.0</br>typ_bolu_klatka: 3.0</br>cisnienie_krwi_spoczynek: 128.0</br>cholesterol_we_krwi: 229.0</br>cukier_we_krwi: 0.0</br>wynik_ekg_spoczynek: 2.0</br>ilosc_uderzen_serca: 150.0</br>bol_klatka_wysilek: 0.0</br>max_obnizka_st: 0.4</br>przebieg_st_szczyt: 2.0</br>zwapnienia_miazdzycowe: 1.0</br>proba_ta: 7.0</br>_original_yhat_: 0.42</br>"
          ],
          [
           "</br>id: 30</br>prediction: 0.32</br>plec: 0.41000000000000003</br></br>wiek: 57.0</br>typ_bolu_klatka: 3.0</br>cisnienie_krwi_spoczynek: 128.0</br>cholesterol_we_krwi: 229.0</br>cukier_we_krwi: 0.0</br>wynik_ekg_spoczynek: 2.0</br>ilosc_uderzen_serca: 150.0</br>bol_klatka_wysilek: 0.0</br>max_obnizka_st: 0.4</br>przebieg_st_szczyt: 2.0</br>zwapnienia_miazdzycowe: 1.0</br>proba_ta: 7.0</br>_original_yhat_: 0.42</br>"
          ],
          [
           "</br>id: 30</br>prediction: 0.32</br>plec: 0.42</br></br>wiek: 57.0</br>typ_bolu_klatka: 3.0</br>cisnienie_krwi_spoczynek: 128.0</br>cholesterol_we_krwi: 229.0</br>cukier_we_krwi: 0.0</br>wynik_ekg_spoczynek: 2.0</br>ilosc_uderzen_serca: 150.0</br>bol_klatka_wysilek: 0.0</br>max_obnizka_st: 0.4</br>przebieg_st_szczyt: 2.0</br>zwapnienia_miazdzycowe: 1.0</br>proba_ta: 7.0</br>_original_yhat_: 0.42</br>"
          ],
          [
           "</br>id: 30</br>prediction: 0.32</br>plec: 0.43</br></br>wiek: 57.0</br>typ_bolu_klatka: 3.0</br>cisnienie_krwi_spoczynek: 128.0</br>cholesterol_we_krwi: 229.0</br>cukier_we_krwi: 0.0</br>wynik_ekg_spoczynek: 2.0</br>ilosc_uderzen_serca: 150.0</br>bol_klatka_wysilek: 0.0</br>max_obnizka_st: 0.4</br>przebieg_st_szczyt: 2.0</br>zwapnienia_miazdzycowe: 1.0</br>proba_ta: 7.0</br>_original_yhat_: 0.42</br>"
          ],
          [
           "</br>id: 30</br>prediction: 0.32</br>plec: 0.44</br></br>wiek: 57.0</br>typ_bolu_klatka: 3.0</br>cisnienie_krwi_spoczynek: 128.0</br>cholesterol_we_krwi: 229.0</br>cukier_we_krwi: 0.0</br>wynik_ekg_spoczynek: 2.0</br>ilosc_uderzen_serca: 150.0</br>bol_klatka_wysilek: 0.0</br>max_obnizka_st: 0.4</br>przebieg_st_szczyt: 2.0</br>zwapnienia_miazdzycowe: 1.0</br>proba_ta: 7.0</br>_original_yhat_: 0.42</br>"
          ],
          [
           "</br>id: 30</br>prediction: 0.32</br>plec: 0.45</br></br>wiek: 57.0</br>typ_bolu_klatka: 3.0</br>cisnienie_krwi_spoczynek: 128.0</br>cholesterol_we_krwi: 229.0</br>cukier_we_krwi: 0.0</br>wynik_ekg_spoczynek: 2.0</br>ilosc_uderzen_serca: 150.0</br>bol_klatka_wysilek: 0.0</br>max_obnizka_st: 0.4</br>przebieg_st_szczyt: 2.0</br>zwapnienia_miazdzycowe: 1.0</br>proba_ta: 7.0</br>_original_yhat_: 0.42</br>"
          ],
          [
           "</br>id: 30</br>prediction: 0.32</br>plec: 0.46</br></br>wiek: 57.0</br>typ_bolu_klatka: 3.0</br>cisnienie_krwi_spoczynek: 128.0</br>cholesterol_we_krwi: 229.0</br>cukier_we_krwi: 0.0</br>wynik_ekg_spoczynek: 2.0</br>ilosc_uderzen_serca: 150.0</br>bol_klatka_wysilek: 0.0</br>max_obnizka_st: 0.4</br>przebieg_st_szczyt: 2.0</br>zwapnienia_miazdzycowe: 1.0</br>proba_ta: 7.0</br>_original_yhat_: 0.42</br>"
          ],
          [
           "</br>id: 30</br>prediction: 0.32</br>plec: 0.47000000000000003</br></br>wiek: 57.0</br>typ_bolu_klatka: 3.0</br>cisnienie_krwi_spoczynek: 128.0</br>cholesterol_we_krwi: 229.0</br>cukier_we_krwi: 0.0</br>wynik_ekg_spoczynek: 2.0</br>ilosc_uderzen_serca: 150.0</br>bol_klatka_wysilek: 0.0</br>max_obnizka_st: 0.4</br>przebieg_st_szczyt: 2.0</br>zwapnienia_miazdzycowe: 1.0</br>proba_ta: 7.0</br>_original_yhat_: 0.42</br>"
          ],
          [
           "</br>id: 30</br>prediction: 0.32</br>plec: 0.48</br></br>wiek: 57.0</br>typ_bolu_klatka: 3.0</br>cisnienie_krwi_spoczynek: 128.0</br>cholesterol_we_krwi: 229.0</br>cukier_we_krwi: 0.0</br>wynik_ekg_spoczynek: 2.0</br>ilosc_uderzen_serca: 150.0</br>bol_klatka_wysilek: 0.0</br>max_obnizka_st: 0.4</br>przebieg_st_szczyt: 2.0</br>zwapnienia_miazdzycowe: 1.0</br>proba_ta: 7.0</br>_original_yhat_: 0.42</br>"
          ],
          [
           "</br>id: 30</br>prediction: 0.32</br>plec: 0.49</br></br>wiek: 57.0</br>typ_bolu_klatka: 3.0</br>cisnienie_krwi_spoczynek: 128.0</br>cholesterol_we_krwi: 229.0</br>cukier_we_krwi: 0.0</br>wynik_ekg_spoczynek: 2.0</br>ilosc_uderzen_serca: 150.0</br>bol_klatka_wysilek: 0.0</br>max_obnizka_st: 0.4</br>przebieg_st_szczyt: 2.0</br>zwapnienia_miazdzycowe: 1.0</br>proba_ta: 7.0</br>_original_yhat_: 0.42</br>"
          ],
          [
           "</br>id: 30</br>prediction: 0.32</br>plec: 0.5</br></br>wiek: 57.0</br>typ_bolu_klatka: 3.0</br>cisnienie_krwi_spoczynek: 128.0</br>cholesterol_we_krwi: 229.0</br>cukier_we_krwi: 0.0</br>wynik_ekg_spoczynek: 2.0</br>ilosc_uderzen_serca: 150.0</br>bol_klatka_wysilek: 0.0</br>max_obnizka_st: 0.4</br>przebieg_st_szczyt: 2.0</br>zwapnienia_miazdzycowe: 1.0</br>proba_ta: 7.0</br>_original_yhat_: 0.42</br>"
          ],
          [
           "</br>id: 30</br>prediction: 0.42</br>plec: 0.51</br></br>wiek: 57.0</br>typ_bolu_klatka: 3.0</br>cisnienie_krwi_spoczynek: 128.0</br>cholesterol_we_krwi: 229.0</br>cukier_we_krwi: 0.0</br>wynik_ekg_spoczynek: 2.0</br>ilosc_uderzen_serca: 150.0</br>bol_klatka_wysilek: 0.0</br>max_obnizka_st: 0.4</br>przebieg_st_szczyt: 2.0</br>zwapnienia_miazdzycowe: 1.0</br>proba_ta: 7.0</br>_original_yhat_: 0.42</br>"
          ],
          [
           "</br>id: 30</br>prediction: 0.42</br>plec: 0.52</br></br>wiek: 57.0</br>typ_bolu_klatka: 3.0</br>cisnienie_krwi_spoczynek: 128.0</br>cholesterol_we_krwi: 229.0</br>cukier_we_krwi: 0.0</br>wynik_ekg_spoczynek: 2.0</br>ilosc_uderzen_serca: 150.0</br>bol_klatka_wysilek: 0.0</br>max_obnizka_st: 0.4</br>przebieg_st_szczyt: 2.0</br>zwapnienia_miazdzycowe: 1.0</br>proba_ta: 7.0</br>_original_yhat_: 0.42</br>"
          ],
          [
           "</br>id: 30</br>prediction: 0.42</br>plec: 0.53</br></br>wiek: 57.0</br>typ_bolu_klatka: 3.0</br>cisnienie_krwi_spoczynek: 128.0</br>cholesterol_we_krwi: 229.0</br>cukier_we_krwi: 0.0</br>wynik_ekg_spoczynek: 2.0</br>ilosc_uderzen_serca: 150.0</br>bol_klatka_wysilek: 0.0</br>max_obnizka_st: 0.4</br>przebieg_st_szczyt: 2.0</br>zwapnienia_miazdzycowe: 1.0</br>proba_ta: 7.0</br>_original_yhat_: 0.42</br>"
          ],
          [
           "</br>id: 30</br>prediction: 0.42</br>plec: 0.54</br></br>wiek: 57.0</br>typ_bolu_klatka: 3.0</br>cisnienie_krwi_spoczynek: 128.0</br>cholesterol_we_krwi: 229.0</br>cukier_we_krwi: 0.0</br>wynik_ekg_spoczynek: 2.0</br>ilosc_uderzen_serca: 150.0</br>bol_klatka_wysilek: 0.0</br>max_obnizka_st: 0.4</br>przebieg_st_szczyt: 2.0</br>zwapnienia_miazdzycowe: 1.0</br>proba_ta: 7.0</br>_original_yhat_: 0.42</br>"
          ],
          [
           "</br>id: 30</br>prediction: 0.42</br>plec: 0.55</br></br>wiek: 57.0</br>typ_bolu_klatka: 3.0</br>cisnienie_krwi_spoczynek: 128.0</br>cholesterol_we_krwi: 229.0</br>cukier_we_krwi: 0.0</br>wynik_ekg_spoczynek: 2.0</br>ilosc_uderzen_serca: 150.0</br>bol_klatka_wysilek: 0.0</br>max_obnizka_st: 0.4</br>przebieg_st_szczyt: 2.0</br>zwapnienia_miazdzycowe: 1.0</br>proba_ta: 7.0</br>_original_yhat_: 0.42</br>"
          ],
          [
           "</br>id: 30</br>prediction: 0.42</br>plec: 0.56</br></br>wiek: 57.0</br>typ_bolu_klatka: 3.0</br>cisnienie_krwi_spoczynek: 128.0</br>cholesterol_we_krwi: 229.0</br>cukier_we_krwi: 0.0</br>wynik_ekg_spoczynek: 2.0</br>ilosc_uderzen_serca: 150.0</br>bol_klatka_wysilek: 0.0</br>max_obnizka_st: 0.4</br>przebieg_st_szczyt: 2.0</br>zwapnienia_miazdzycowe: 1.0</br>proba_ta: 7.0</br>_original_yhat_: 0.42</br>"
          ],
          [
           "</br>id: 30</br>prediction: 0.42</br>plec: 0.5700000000000001</br></br>wiek: 57.0</br>typ_bolu_klatka: 3.0</br>cisnienie_krwi_spoczynek: 128.0</br>cholesterol_we_krwi: 229.0</br>cukier_we_krwi: 0.0</br>wynik_ekg_spoczynek: 2.0</br>ilosc_uderzen_serca: 150.0</br>bol_klatka_wysilek: 0.0</br>max_obnizka_st: 0.4</br>przebieg_st_szczyt: 2.0</br>zwapnienia_miazdzycowe: 1.0</br>proba_ta: 7.0</br>_original_yhat_: 0.42</br>"
          ],
          [
           "</br>id: 30</br>prediction: 0.42</br>plec: 0.58</br></br>wiek: 57.0</br>typ_bolu_klatka: 3.0</br>cisnienie_krwi_spoczynek: 128.0</br>cholesterol_we_krwi: 229.0</br>cukier_we_krwi: 0.0</br>wynik_ekg_spoczynek: 2.0</br>ilosc_uderzen_serca: 150.0</br>bol_klatka_wysilek: 0.0</br>max_obnizka_st: 0.4</br>przebieg_st_szczyt: 2.0</br>zwapnienia_miazdzycowe: 1.0</br>proba_ta: 7.0</br>_original_yhat_: 0.42</br>"
          ],
          [
           "</br>id: 30</br>prediction: 0.42</br>plec: 0.59</br></br>wiek: 57.0</br>typ_bolu_klatka: 3.0</br>cisnienie_krwi_spoczynek: 128.0</br>cholesterol_we_krwi: 229.0</br>cukier_we_krwi: 0.0</br>wynik_ekg_spoczynek: 2.0</br>ilosc_uderzen_serca: 150.0</br>bol_klatka_wysilek: 0.0</br>max_obnizka_st: 0.4</br>przebieg_st_szczyt: 2.0</br>zwapnienia_miazdzycowe: 1.0</br>proba_ta: 7.0</br>_original_yhat_: 0.42</br>"
          ],
          [
           "</br>id: 30</br>prediction: 0.42</br>plec: 0.6</br></br>wiek: 57.0</br>typ_bolu_klatka: 3.0</br>cisnienie_krwi_spoczynek: 128.0</br>cholesterol_we_krwi: 229.0</br>cukier_we_krwi: 0.0</br>wynik_ekg_spoczynek: 2.0</br>ilosc_uderzen_serca: 150.0</br>bol_klatka_wysilek: 0.0</br>max_obnizka_st: 0.4</br>przebieg_st_szczyt: 2.0</br>zwapnienia_miazdzycowe: 1.0</br>proba_ta: 7.0</br>_original_yhat_: 0.42</br>"
          ],
          [
           "</br>id: 30</br>prediction: 0.42</br>plec: 0.61</br></br>wiek: 57.0</br>typ_bolu_klatka: 3.0</br>cisnienie_krwi_spoczynek: 128.0</br>cholesterol_we_krwi: 229.0</br>cukier_we_krwi: 0.0</br>wynik_ekg_spoczynek: 2.0</br>ilosc_uderzen_serca: 150.0</br>bol_klatka_wysilek: 0.0</br>max_obnizka_st: 0.4</br>przebieg_st_szczyt: 2.0</br>zwapnienia_miazdzycowe: 1.0</br>proba_ta: 7.0</br>_original_yhat_: 0.42</br>"
          ],
          [
           "</br>id: 30</br>prediction: 0.42</br>plec: 0.62</br></br>wiek: 57.0</br>typ_bolu_klatka: 3.0</br>cisnienie_krwi_spoczynek: 128.0</br>cholesterol_we_krwi: 229.0</br>cukier_we_krwi: 0.0</br>wynik_ekg_spoczynek: 2.0</br>ilosc_uderzen_serca: 150.0</br>bol_klatka_wysilek: 0.0</br>max_obnizka_st: 0.4</br>przebieg_st_szczyt: 2.0</br>zwapnienia_miazdzycowe: 1.0</br>proba_ta: 7.0</br>_original_yhat_: 0.42</br>"
          ],
          [
           "</br>id: 30</br>prediction: 0.42</br>plec: 0.63</br></br>wiek: 57.0</br>typ_bolu_klatka: 3.0</br>cisnienie_krwi_spoczynek: 128.0</br>cholesterol_we_krwi: 229.0</br>cukier_we_krwi: 0.0</br>wynik_ekg_spoczynek: 2.0</br>ilosc_uderzen_serca: 150.0</br>bol_klatka_wysilek: 0.0</br>max_obnizka_st: 0.4</br>przebieg_st_szczyt: 2.0</br>zwapnienia_miazdzycowe: 1.0</br>proba_ta: 7.0</br>_original_yhat_: 0.42</br>"
          ],
          [
           "</br>id: 30</br>prediction: 0.42</br>plec: 0.64</br></br>wiek: 57.0</br>typ_bolu_klatka: 3.0</br>cisnienie_krwi_spoczynek: 128.0</br>cholesterol_we_krwi: 229.0</br>cukier_we_krwi: 0.0</br>wynik_ekg_spoczynek: 2.0</br>ilosc_uderzen_serca: 150.0</br>bol_klatka_wysilek: 0.0</br>max_obnizka_st: 0.4</br>przebieg_st_szczyt: 2.0</br>zwapnienia_miazdzycowe: 1.0</br>proba_ta: 7.0</br>_original_yhat_: 0.42</br>"
          ],
          [
           "</br>id: 30</br>prediction: 0.42</br>plec: 0.65</br></br>wiek: 57.0</br>typ_bolu_klatka: 3.0</br>cisnienie_krwi_spoczynek: 128.0</br>cholesterol_we_krwi: 229.0</br>cukier_we_krwi: 0.0</br>wynik_ekg_spoczynek: 2.0</br>ilosc_uderzen_serca: 150.0</br>bol_klatka_wysilek: 0.0</br>max_obnizka_st: 0.4</br>przebieg_st_szczyt: 2.0</br>zwapnienia_miazdzycowe: 1.0</br>proba_ta: 7.0</br>_original_yhat_: 0.42</br>"
          ],
          [
           "</br>id: 30</br>prediction: 0.42</br>plec: 0.66</br></br>wiek: 57.0</br>typ_bolu_klatka: 3.0</br>cisnienie_krwi_spoczynek: 128.0</br>cholesterol_we_krwi: 229.0</br>cukier_we_krwi: 0.0</br>wynik_ekg_spoczynek: 2.0</br>ilosc_uderzen_serca: 150.0</br>bol_klatka_wysilek: 0.0</br>max_obnizka_st: 0.4</br>przebieg_st_szczyt: 2.0</br>zwapnienia_miazdzycowe: 1.0</br>proba_ta: 7.0</br>_original_yhat_: 0.42</br>"
          ],
          [
           "</br>id: 30</br>prediction: 0.42</br>plec: 0.67</br></br>wiek: 57.0</br>typ_bolu_klatka: 3.0</br>cisnienie_krwi_spoczynek: 128.0</br>cholesterol_we_krwi: 229.0</br>cukier_we_krwi: 0.0</br>wynik_ekg_spoczynek: 2.0</br>ilosc_uderzen_serca: 150.0</br>bol_klatka_wysilek: 0.0</br>max_obnizka_st: 0.4</br>przebieg_st_szczyt: 2.0</br>zwapnienia_miazdzycowe: 1.0</br>proba_ta: 7.0</br>_original_yhat_: 0.42</br>"
          ],
          [
           "</br>id: 30</br>prediction: 0.42</br>plec: 0.68</br></br>wiek: 57.0</br>typ_bolu_klatka: 3.0</br>cisnienie_krwi_spoczynek: 128.0</br>cholesterol_we_krwi: 229.0</br>cukier_we_krwi: 0.0</br>wynik_ekg_spoczynek: 2.0</br>ilosc_uderzen_serca: 150.0</br>bol_klatka_wysilek: 0.0</br>max_obnizka_st: 0.4</br>przebieg_st_szczyt: 2.0</br>zwapnienia_miazdzycowe: 1.0</br>proba_ta: 7.0</br>_original_yhat_: 0.42</br>"
          ],
          [
           "</br>id: 30</br>prediction: 0.42</br>plec: 0.6900000000000001</br></br>wiek: 57.0</br>typ_bolu_klatka: 3.0</br>cisnienie_krwi_spoczynek: 128.0</br>cholesterol_we_krwi: 229.0</br>cukier_we_krwi: 0.0</br>wynik_ekg_spoczynek: 2.0</br>ilosc_uderzen_serca: 150.0</br>bol_klatka_wysilek: 0.0</br>max_obnizka_st: 0.4</br>przebieg_st_szczyt: 2.0</br>zwapnienia_miazdzycowe: 1.0</br>proba_ta: 7.0</br>_original_yhat_: 0.42</br>"
          ],
          [
           "</br>id: 30</br>prediction: 0.42</br>plec: 0.7000000000000001</br></br>wiek: 57.0</br>typ_bolu_klatka: 3.0</br>cisnienie_krwi_spoczynek: 128.0</br>cholesterol_we_krwi: 229.0</br>cukier_we_krwi: 0.0</br>wynik_ekg_spoczynek: 2.0</br>ilosc_uderzen_serca: 150.0</br>bol_klatka_wysilek: 0.0</br>max_obnizka_st: 0.4</br>przebieg_st_szczyt: 2.0</br>zwapnienia_miazdzycowe: 1.0</br>proba_ta: 7.0</br>_original_yhat_: 0.42</br>"
          ],
          [
           "</br>id: 30</br>prediction: 0.42</br>plec: 0.71</br></br>wiek: 57.0</br>typ_bolu_klatka: 3.0</br>cisnienie_krwi_spoczynek: 128.0</br>cholesterol_we_krwi: 229.0</br>cukier_we_krwi: 0.0</br>wynik_ekg_spoczynek: 2.0</br>ilosc_uderzen_serca: 150.0</br>bol_klatka_wysilek: 0.0</br>max_obnizka_st: 0.4</br>przebieg_st_szczyt: 2.0</br>zwapnienia_miazdzycowe: 1.0</br>proba_ta: 7.0</br>_original_yhat_: 0.42</br>"
          ],
          [
           "</br>id: 30</br>prediction: 0.42</br>plec: 0.72</br></br>wiek: 57.0</br>typ_bolu_klatka: 3.0</br>cisnienie_krwi_spoczynek: 128.0</br>cholesterol_we_krwi: 229.0</br>cukier_we_krwi: 0.0</br>wynik_ekg_spoczynek: 2.0</br>ilosc_uderzen_serca: 150.0</br>bol_klatka_wysilek: 0.0</br>max_obnizka_st: 0.4</br>przebieg_st_szczyt: 2.0</br>zwapnienia_miazdzycowe: 1.0</br>proba_ta: 7.0</br>_original_yhat_: 0.42</br>"
          ],
          [
           "</br>id: 30</br>prediction: 0.42</br>plec: 0.73</br></br>wiek: 57.0</br>typ_bolu_klatka: 3.0</br>cisnienie_krwi_spoczynek: 128.0</br>cholesterol_we_krwi: 229.0</br>cukier_we_krwi: 0.0</br>wynik_ekg_spoczynek: 2.0</br>ilosc_uderzen_serca: 150.0</br>bol_klatka_wysilek: 0.0</br>max_obnizka_st: 0.4</br>przebieg_st_szczyt: 2.0</br>zwapnienia_miazdzycowe: 1.0</br>proba_ta: 7.0</br>_original_yhat_: 0.42</br>"
          ],
          [
           "</br>id: 30</br>prediction: 0.42</br>plec: 0.74</br></br>wiek: 57.0</br>typ_bolu_klatka: 3.0</br>cisnienie_krwi_spoczynek: 128.0</br>cholesterol_we_krwi: 229.0</br>cukier_we_krwi: 0.0</br>wynik_ekg_spoczynek: 2.0</br>ilosc_uderzen_serca: 150.0</br>bol_klatka_wysilek: 0.0</br>max_obnizka_st: 0.4</br>przebieg_st_szczyt: 2.0</br>zwapnienia_miazdzycowe: 1.0</br>proba_ta: 7.0</br>_original_yhat_: 0.42</br>"
          ],
          [
           "</br>id: 30</br>prediction: 0.42</br>plec: 0.75</br></br>wiek: 57.0</br>typ_bolu_klatka: 3.0</br>cisnienie_krwi_spoczynek: 128.0</br>cholesterol_we_krwi: 229.0</br>cukier_we_krwi: 0.0</br>wynik_ekg_spoczynek: 2.0</br>ilosc_uderzen_serca: 150.0</br>bol_klatka_wysilek: 0.0</br>max_obnizka_st: 0.4</br>przebieg_st_szczyt: 2.0</br>zwapnienia_miazdzycowe: 1.0</br>proba_ta: 7.0</br>_original_yhat_: 0.42</br>"
          ],
          [
           "</br>id: 30</br>prediction: 0.42</br>plec: 0.76</br></br>wiek: 57.0</br>typ_bolu_klatka: 3.0</br>cisnienie_krwi_spoczynek: 128.0</br>cholesterol_we_krwi: 229.0</br>cukier_we_krwi: 0.0</br>wynik_ekg_spoczynek: 2.0</br>ilosc_uderzen_serca: 150.0</br>bol_klatka_wysilek: 0.0</br>max_obnizka_st: 0.4</br>przebieg_st_szczyt: 2.0</br>zwapnienia_miazdzycowe: 1.0</br>proba_ta: 7.0</br>_original_yhat_: 0.42</br>"
          ],
          [
           "</br>id: 30</br>prediction: 0.42</br>plec: 0.77</br></br>wiek: 57.0</br>typ_bolu_klatka: 3.0</br>cisnienie_krwi_spoczynek: 128.0</br>cholesterol_we_krwi: 229.0</br>cukier_we_krwi: 0.0</br>wynik_ekg_spoczynek: 2.0</br>ilosc_uderzen_serca: 150.0</br>bol_klatka_wysilek: 0.0</br>max_obnizka_st: 0.4</br>przebieg_st_szczyt: 2.0</br>zwapnienia_miazdzycowe: 1.0</br>proba_ta: 7.0</br>_original_yhat_: 0.42</br>"
          ],
          [
           "</br>id: 30</br>prediction: 0.42</br>plec: 0.78</br></br>wiek: 57.0</br>typ_bolu_klatka: 3.0</br>cisnienie_krwi_spoczynek: 128.0</br>cholesterol_we_krwi: 229.0</br>cukier_we_krwi: 0.0</br>wynik_ekg_spoczynek: 2.0</br>ilosc_uderzen_serca: 150.0</br>bol_klatka_wysilek: 0.0</br>max_obnizka_st: 0.4</br>przebieg_st_szczyt: 2.0</br>zwapnienia_miazdzycowe: 1.0</br>proba_ta: 7.0</br>_original_yhat_: 0.42</br>"
          ],
          [
           "</br>id: 30</br>prediction: 0.42</br>plec: 0.79</br></br>wiek: 57.0</br>typ_bolu_klatka: 3.0</br>cisnienie_krwi_spoczynek: 128.0</br>cholesterol_we_krwi: 229.0</br>cukier_we_krwi: 0.0</br>wynik_ekg_spoczynek: 2.0</br>ilosc_uderzen_serca: 150.0</br>bol_klatka_wysilek: 0.0</br>max_obnizka_st: 0.4</br>przebieg_st_szczyt: 2.0</br>zwapnienia_miazdzycowe: 1.0</br>proba_ta: 7.0</br>_original_yhat_: 0.42</br>"
          ],
          [
           "</br>id: 30</br>prediction: 0.42</br>plec: 0.8</br></br>wiek: 57.0</br>typ_bolu_klatka: 3.0</br>cisnienie_krwi_spoczynek: 128.0</br>cholesterol_we_krwi: 229.0</br>cukier_we_krwi: 0.0</br>wynik_ekg_spoczynek: 2.0</br>ilosc_uderzen_serca: 150.0</br>bol_klatka_wysilek: 0.0</br>max_obnizka_st: 0.4</br>przebieg_st_szczyt: 2.0</br>zwapnienia_miazdzycowe: 1.0</br>proba_ta: 7.0</br>_original_yhat_: 0.42</br>"
          ],
          [
           "</br>id: 30</br>prediction: 0.42</br>plec: 0.81</br></br>wiek: 57.0</br>typ_bolu_klatka: 3.0</br>cisnienie_krwi_spoczynek: 128.0</br>cholesterol_we_krwi: 229.0</br>cukier_we_krwi: 0.0</br>wynik_ekg_spoczynek: 2.0</br>ilosc_uderzen_serca: 150.0</br>bol_klatka_wysilek: 0.0</br>max_obnizka_st: 0.4</br>przebieg_st_szczyt: 2.0</br>zwapnienia_miazdzycowe: 1.0</br>proba_ta: 7.0</br>_original_yhat_: 0.42</br>"
          ],
          [
           "</br>id: 30</br>prediction: 0.42</br>plec: 0.8200000000000001</br></br>wiek: 57.0</br>typ_bolu_klatka: 3.0</br>cisnienie_krwi_spoczynek: 128.0</br>cholesterol_we_krwi: 229.0</br>cukier_we_krwi: 0.0</br>wynik_ekg_spoczynek: 2.0</br>ilosc_uderzen_serca: 150.0</br>bol_klatka_wysilek: 0.0</br>max_obnizka_st: 0.4</br>przebieg_st_szczyt: 2.0</br>zwapnienia_miazdzycowe: 1.0</br>proba_ta: 7.0</br>_original_yhat_: 0.42</br>"
          ],
          [
           "</br>id: 30</br>prediction: 0.42</br>plec: 0.8300000000000001</br></br>wiek: 57.0</br>typ_bolu_klatka: 3.0</br>cisnienie_krwi_spoczynek: 128.0</br>cholesterol_we_krwi: 229.0</br>cukier_we_krwi: 0.0</br>wynik_ekg_spoczynek: 2.0</br>ilosc_uderzen_serca: 150.0</br>bol_klatka_wysilek: 0.0</br>max_obnizka_st: 0.4</br>przebieg_st_szczyt: 2.0</br>zwapnienia_miazdzycowe: 1.0</br>proba_ta: 7.0</br>_original_yhat_: 0.42</br>"
          ],
          [
           "</br>id: 30</br>prediction: 0.42</br>plec: 0.84</br></br>wiek: 57.0</br>typ_bolu_klatka: 3.0</br>cisnienie_krwi_spoczynek: 128.0</br>cholesterol_we_krwi: 229.0</br>cukier_we_krwi: 0.0</br>wynik_ekg_spoczynek: 2.0</br>ilosc_uderzen_serca: 150.0</br>bol_klatka_wysilek: 0.0</br>max_obnizka_st: 0.4</br>przebieg_st_szczyt: 2.0</br>zwapnienia_miazdzycowe: 1.0</br>proba_ta: 7.0</br>_original_yhat_: 0.42</br>"
          ],
          [
           "</br>id: 30</br>prediction: 0.42</br>plec: 0.85</br></br>wiek: 57.0</br>typ_bolu_klatka: 3.0</br>cisnienie_krwi_spoczynek: 128.0</br>cholesterol_we_krwi: 229.0</br>cukier_we_krwi: 0.0</br>wynik_ekg_spoczynek: 2.0</br>ilosc_uderzen_serca: 150.0</br>bol_klatka_wysilek: 0.0</br>max_obnizka_st: 0.4</br>przebieg_st_szczyt: 2.0</br>zwapnienia_miazdzycowe: 1.0</br>proba_ta: 7.0</br>_original_yhat_: 0.42</br>"
          ],
          [
           "</br>id: 30</br>prediction: 0.42</br>plec: 0.86</br></br>wiek: 57.0</br>typ_bolu_klatka: 3.0</br>cisnienie_krwi_spoczynek: 128.0</br>cholesterol_we_krwi: 229.0</br>cukier_we_krwi: 0.0</br>wynik_ekg_spoczynek: 2.0</br>ilosc_uderzen_serca: 150.0</br>bol_klatka_wysilek: 0.0</br>max_obnizka_st: 0.4</br>przebieg_st_szczyt: 2.0</br>zwapnienia_miazdzycowe: 1.0</br>proba_ta: 7.0</br>_original_yhat_: 0.42</br>"
          ],
          [
           "</br>id: 30</br>prediction: 0.42</br>plec: 0.87</br></br>wiek: 57.0</br>typ_bolu_klatka: 3.0</br>cisnienie_krwi_spoczynek: 128.0</br>cholesterol_we_krwi: 229.0</br>cukier_we_krwi: 0.0</br>wynik_ekg_spoczynek: 2.0</br>ilosc_uderzen_serca: 150.0</br>bol_klatka_wysilek: 0.0</br>max_obnizka_st: 0.4</br>przebieg_st_szczyt: 2.0</br>zwapnienia_miazdzycowe: 1.0</br>proba_ta: 7.0</br>_original_yhat_: 0.42</br>"
          ],
          [
           "</br>id: 30</br>prediction: 0.42</br>plec: 0.88</br></br>wiek: 57.0</br>typ_bolu_klatka: 3.0</br>cisnienie_krwi_spoczynek: 128.0</br>cholesterol_we_krwi: 229.0</br>cukier_we_krwi: 0.0</br>wynik_ekg_spoczynek: 2.0</br>ilosc_uderzen_serca: 150.0</br>bol_klatka_wysilek: 0.0</br>max_obnizka_st: 0.4</br>przebieg_st_szczyt: 2.0</br>zwapnienia_miazdzycowe: 1.0</br>proba_ta: 7.0</br>_original_yhat_: 0.42</br>"
          ],
          [
           "</br>id: 30</br>prediction: 0.42</br>plec: 0.89</br></br>wiek: 57.0</br>typ_bolu_klatka: 3.0</br>cisnienie_krwi_spoczynek: 128.0</br>cholesterol_we_krwi: 229.0</br>cukier_we_krwi: 0.0</br>wynik_ekg_spoczynek: 2.0</br>ilosc_uderzen_serca: 150.0</br>bol_klatka_wysilek: 0.0</br>max_obnizka_st: 0.4</br>przebieg_st_szczyt: 2.0</br>zwapnienia_miazdzycowe: 1.0</br>proba_ta: 7.0</br>_original_yhat_: 0.42</br>"
          ],
          [
           "</br>id: 30</br>prediction: 0.42</br>plec: 0.9</br></br>wiek: 57.0</br>typ_bolu_klatka: 3.0</br>cisnienie_krwi_spoczynek: 128.0</br>cholesterol_we_krwi: 229.0</br>cukier_we_krwi: 0.0</br>wynik_ekg_spoczynek: 2.0</br>ilosc_uderzen_serca: 150.0</br>bol_klatka_wysilek: 0.0</br>max_obnizka_st: 0.4</br>przebieg_st_szczyt: 2.0</br>zwapnienia_miazdzycowe: 1.0</br>proba_ta: 7.0</br>_original_yhat_: 0.42</br>"
          ],
          [
           "</br>id: 30</br>prediction: 0.42</br>plec: 0.91</br></br>wiek: 57.0</br>typ_bolu_klatka: 3.0</br>cisnienie_krwi_spoczynek: 128.0</br>cholesterol_we_krwi: 229.0</br>cukier_we_krwi: 0.0</br>wynik_ekg_spoczynek: 2.0</br>ilosc_uderzen_serca: 150.0</br>bol_klatka_wysilek: 0.0</br>max_obnizka_st: 0.4</br>przebieg_st_szczyt: 2.0</br>zwapnienia_miazdzycowe: 1.0</br>proba_ta: 7.0</br>_original_yhat_: 0.42</br>"
          ],
          [
           "</br>id: 30</br>prediction: 0.42</br>plec: 0.92</br></br>wiek: 57.0</br>typ_bolu_klatka: 3.0</br>cisnienie_krwi_spoczynek: 128.0</br>cholesterol_we_krwi: 229.0</br>cukier_we_krwi: 0.0</br>wynik_ekg_spoczynek: 2.0</br>ilosc_uderzen_serca: 150.0</br>bol_klatka_wysilek: 0.0</br>max_obnizka_st: 0.4</br>przebieg_st_szczyt: 2.0</br>zwapnienia_miazdzycowe: 1.0</br>proba_ta: 7.0</br>_original_yhat_: 0.42</br>"
          ],
          [
           "</br>id: 30</br>prediction: 0.42</br>plec: 0.93</br></br>wiek: 57.0</br>typ_bolu_klatka: 3.0</br>cisnienie_krwi_spoczynek: 128.0</br>cholesterol_we_krwi: 229.0</br>cukier_we_krwi: 0.0</br>wynik_ekg_spoczynek: 2.0</br>ilosc_uderzen_serca: 150.0</br>bol_klatka_wysilek: 0.0</br>max_obnizka_st: 0.4</br>przebieg_st_szczyt: 2.0</br>zwapnienia_miazdzycowe: 1.0</br>proba_ta: 7.0</br>_original_yhat_: 0.42</br>"
          ],
          [
           "</br>id: 30</br>prediction: 0.42</br>plec: 0.9400000000000001</br></br>wiek: 57.0</br>typ_bolu_klatka: 3.0</br>cisnienie_krwi_spoczynek: 128.0</br>cholesterol_we_krwi: 229.0</br>cukier_we_krwi: 0.0</br>wynik_ekg_spoczynek: 2.0</br>ilosc_uderzen_serca: 150.0</br>bol_klatka_wysilek: 0.0</br>max_obnizka_st: 0.4</br>przebieg_st_szczyt: 2.0</br>zwapnienia_miazdzycowe: 1.0</br>proba_ta: 7.0</br>_original_yhat_: 0.42</br>"
          ],
          [
           "</br>id: 30</br>prediction: 0.42</br>plec: 0.9500000000000001</br></br>wiek: 57.0</br>typ_bolu_klatka: 3.0</br>cisnienie_krwi_spoczynek: 128.0</br>cholesterol_we_krwi: 229.0</br>cukier_we_krwi: 0.0</br>wynik_ekg_spoczynek: 2.0</br>ilosc_uderzen_serca: 150.0</br>bol_klatka_wysilek: 0.0</br>max_obnizka_st: 0.4</br>przebieg_st_szczyt: 2.0</br>zwapnienia_miazdzycowe: 1.0</br>proba_ta: 7.0</br>_original_yhat_: 0.42</br>"
          ],
          [
           "</br>id: 30</br>prediction: 0.42</br>plec: 0.96</br></br>wiek: 57.0</br>typ_bolu_klatka: 3.0</br>cisnienie_krwi_spoczynek: 128.0</br>cholesterol_we_krwi: 229.0</br>cukier_we_krwi: 0.0</br>wynik_ekg_spoczynek: 2.0</br>ilosc_uderzen_serca: 150.0</br>bol_klatka_wysilek: 0.0</br>max_obnizka_st: 0.4</br>przebieg_st_szczyt: 2.0</br>zwapnienia_miazdzycowe: 1.0</br>proba_ta: 7.0</br>_original_yhat_: 0.42</br>"
          ],
          [
           "</br>id: 30</br>prediction: 0.42</br>plec: 0.97</br></br>wiek: 57.0</br>typ_bolu_klatka: 3.0</br>cisnienie_krwi_spoczynek: 128.0</br>cholesterol_we_krwi: 229.0</br>cukier_we_krwi: 0.0</br>wynik_ekg_spoczynek: 2.0</br>ilosc_uderzen_serca: 150.0</br>bol_klatka_wysilek: 0.0</br>max_obnizka_st: 0.4</br>przebieg_st_szczyt: 2.0</br>zwapnienia_miazdzycowe: 1.0</br>proba_ta: 7.0</br>_original_yhat_: 0.42</br>"
          ],
          [
           "</br>id: 30</br>prediction: 0.42</br>plec: 0.98</br></br>wiek: 57.0</br>typ_bolu_klatka: 3.0</br>cisnienie_krwi_spoczynek: 128.0</br>cholesterol_we_krwi: 229.0</br>cukier_we_krwi: 0.0</br>wynik_ekg_spoczynek: 2.0</br>ilosc_uderzen_serca: 150.0</br>bol_klatka_wysilek: 0.0</br>max_obnizka_st: 0.4</br>przebieg_st_szczyt: 2.0</br>zwapnienia_miazdzycowe: 1.0</br>proba_ta: 7.0</br>_original_yhat_: 0.42</br>"
          ],
          [
           "</br>id: 30</br>prediction: 0.42</br>plec: 0.99</br></br>wiek: 57.0</br>typ_bolu_klatka: 3.0</br>cisnienie_krwi_spoczynek: 128.0</br>cholesterol_we_krwi: 229.0</br>cukier_we_krwi: 0.0</br>wynik_ekg_spoczynek: 2.0</br>ilosc_uderzen_serca: 150.0</br>bol_klatka_wysilek: 0.0</br>max_obnizka_st: 0.4</br>przebieg_st_szczyt: 2.0</br>zwapnienia_miazdzycowe: 1.0</br>proba_ta: 7.0</br>_original_yhat_: 0.42</br>"
          ],
          [
           "</br>id: 30</br>prediction: 0.42</br>plec: 1.0</br></br>wiek: 57.0</br>typ_bolu_klatka: 3.0</br>cisnienie_krwi_spoczynek: 128.0</br>cholesterol_we_krwi: 229.0</br>cukier_we_krwi: 0.0</br>wynik_ekg_spoczynek: 2.0</br>ilosc_uderzen_serca: 150.0</br>bol_klatka_wysilek: 0.0</br>max_obnizka_st: 0.4</br>przebieg_st_szczyt: 2.0</br>zwapnienia_miazdzycowe: 1.0</br>proba_ta: 7.0</br>_original_yhat_: 0.42</br>"
          ]
         ],
         "hovertemplate": "%{customdata[0]}<extra></extra>",
         "legendgroup": "Model RandomForest dla danych serca",
         "line": {
          "color": "#46bac2",
          "dash": "solid",
          "width": 2
         },
         "marker": {
          "symbol": "circle"
         },
         "mode": "lines",
         "name": "Model RandomForest dla danych serca",
         "opacity": 1,
         "showlegend": false,
         "type": "scattergl",
         "x": [
          0,
          0.01,
          0.02,
          0.03,
          0.04,
          0.05,
          0.06,
          0.07,
          0.08,
          0.09,
          0.1,
          0.11,
          0.12,
          0.13,
          0.14,
          0.15,
          0.16,
          0.17,
          0.18,
          0.19,
          0.2,
          0.21,
          0.22,
          0.23,
          0.24,
          0.25,
          0.26,
          0.27,
          0.28,
          0.29,
          0.3,
          0.31,
          0.32,
          0.33,
          0.34,
          0.35000000000000003,
          0.36,
          0.37,
          0.38,
          0.39,
          0.4,
          0.41000000000000003,
          0.42,
          0.43,
          0.44,
          0.45,
          0.46,
          0.47000000000000003,
          0.48,
          0.49,
          0.5,
          0.51,
          0.52,
          0.53,
          0.54,
          0.55,
          0.56,
          0.5700000000000001,
          0.58,
          0.59,
          0.6,
          0.61,
          0.62,
          0.63,
          0.64,
          0.65,
          0.66,
          0.67,
          0.68,
          0.6900000000000001,
          0.7000000000000001,
          0.71,
          0.72,
          0.73,
          0.74,
          0.75,
          0.76,
          0.77,
          0.78,
          0.79,
          0.8,
          0.81,
          0.8200000000000001,
          0.8300000000000001,
          0.84,
          0.85,
          0.86,
          0.87,
          0.88,
          0.89,
          0.9,
          0.91,
          0.92,
          0.93,
          0.9400000000000001,
          0.9500000000000001,
          0.96,
          0.97,
          0.98,
          0.99,
          1
         ],
         "xaxis": "x14",
         "y": [
          0.32,
          0.32,
          0.32,
          0.32,
          0.32,
          0.32,
          0.32,
          0.32,
          0.32,
          0.32,
          0.32,
          0.32,
          0.32,
          0.32,
          0.32,
          0.32,
          0.32,
          0.32,
          0.32,
          0.32,
          0.32,
          0.32,
          0.32,
          0.32,
          0.32,
          0.32,
          0.32,
          0.32,
          0.32,
          0.32,
          0.32,
          0.32,
          0.32,
          0.32,
          0.32,
          0.32,
          0.32,
          0.32,
          0.32,
          0.32,
          0.32,
          0.32,
          0.32,
          0.32,
          0.32,
          0.32,
          0.32,
          0.32,
          0.32,
          0.32,
          0.32,
          0.42,
          0.42,
          0.42,
          0.42,
          0.42,
          0.42,
          0.42,
          0.42,
          0.42,
          0.42,
          0.42,
          0.42,
          0.42,
          0.42,
          0.42,
          0.42,
          0.42,
          0.42,
          0.42,
          0.42,
          0.42,
          0.42,
          0.42,
          0.42,
          0.42,
          0.42,
          0.42,
          0.42,
          0.42,
          0.42,
          0.42,
          0.42,
          0.42,
          0.42,
          0.42,
          0.42,
          0.42,
          0.42,
          0.42,
          0.42,
          0.42,
          0.42,
          0.42,
          0.42,
          0.42,
          0.42,
          0.42,
          0.42,
          0.42,
          0.42
         ],
         "yaxis": "y14"
        },
        {
         "customdata": [
          [
           "</br>id: 30</br>prediction: 0.52</br>typ_bolu_klatka: 1.0</br></br>wiek: 57.0</br>plec: 1.0</br>cisnienie_krwi_spoczynek: 128.0</br>cholesterol_we_krwi: 229.0</br>cukier_we_krwi: 0.0</br>wynik_ekg_spoczynek: 2.0</br>ilosc_uderzen_serca: 150.0</br>bol_klatka_wysilek: 0.0</br>max_obnizka_st: 0.4</br>przebieg_st_szczyt: 2.0</br>zwapnienia_miazdzycowe: 1.0</br>proba_ta: 7.0</br>_original_yhat_: 0.42</br>"
          ],
          [
           "</br>id: 30</br>prediction: 0.52</br>typ_bolu_klatka: 1.03</br></br>wiek: 57.0</br>plec: 1.0</br>cisnienie_krwi_spoczynek: 128.0</br>cholesterol_we_krwi: 229.0</br>cukier_we_krwi: 0.0</br>wynik_ekg_spoczynek: 2.0</br>ilosc_uderzen_serca: 150.0</br>bol_klatka_wysilek: 0.0</br>max_obnizka_st: 0.4</br>przebieg_st_szczyt: 2.0</br>zwapnienia_miazdzycowe: 1.0</br>proba_ta: 7.0</br>_original_yhat_: 0.42</br>"
          ],
          [
           "</br>id: 30</br>prediction: 0.52</br>typ_bolu_klatka: 1.06</br></br>wiek: 57.0</br>plec: 1.0</br>cisnienie_krwi_spoczynek: 128.0</br>cholesterol_we_krwi: 229.0</br>cukier_we_krwi: 0.0</br>wynik_ekg_spoczynek: 2.0</br>ilosc_uderzen_serca: 150.0</br>bol_klatka_wysilek: 0.0</br>max_obnizka_st: 0.4</br>przebieg_st_szczyt: 2.0</br>zwapnienia_miazdzycowe: 1.0</br>proba_ta: 7.0</br>_original_yhat_: 0.42</br>"
          ],
          [
           "</br>id: 30</br>prediction: 0.52</br>typ_bolu_klatka: 1.09</br></br>wiek: 57.0</br>plec: 1.0</br>cisnienie_krwi_spoczynek: 128.0</br>cholesterol_we_krwi: 229.0</br>cukier_we_krwi: 0.0</br>wynik_ekg_spoczynek: 2.0</br>ilosc_uderzen_serca: 150.0</br>bol_klatka_wysilek: 0.0</br>max_obnizka_st: 0.4</br>przebieg_st_szczyt: 2.0</br>zwapnienia_miazdzycowe: 1.0</br>proba_ta: 7.0</br>_original_yhat_: 0.42</br>"
          ],
          [
           "</br>id: 30</br>prediction: 0.52</br>typ_bolu_klatka: 1.12</br></br>wiek: 57.0</br>plec: 1.0</br>cisnienie_krwi_spoczynek: 128.0</br>cholesterol_we_krwi: 229.0</br>cukier_we_krwi: 0.0</br>wynik_ekg_spoczynek: 2.0</br>ilosc_uderzen_serca: 150.0</br>bol_klatka_wysilek: 0.0</br>max_obnizka_st: 0.4</br>przebieg_st_szczyt: 2.0</br>zwapnienia_miazdzycowe: 1.0</br>proba_ta: 7.0</br>_original_yhat_: 0.42</br>"
          ],
          [
           "</br>id: 30</br>prediction: 0.52</br>typ_bolu_klatka: 1.15</br></br>wiek: 57.0</br>plec: 1.0</br>cisnienie_krwi_spoczynek: 128.0</br>cholesterol_we_krwi: 229.0</br>cukier_we_krwi: 0.0</br>wynik_ekg_spoczynek: 2.0</br>ilosc_uderzen_serca: 150.0</br>bol_klatka_wysilek: 0.0</br>max_obnizka_st: 0.4</br>przebieg_st_szczyt: 2.0</br>zwapnienia_miazdzycowe: 1.0</br>proba_ta: 7.0</br>_original_yhat_: 0.42</br>"
          ],
          [
           "</br>id: 30</br>prediction: 0.52</br>typ_bolu_klatka: 1.18</br></br>wiek: 57.0</br>plec: 1.0</br>cisnienie_krwi_spoczynek: 128.0</br>cholesterol_we_krwi: 229.0</br>cukier_we_krwi: 0.0</br>wynik_ekg_spoczynek: 2.0</br>ilosc_uderzen_serca: 150.0</br>bol_klatka_wysilek: 0.0</br>max_obnizka_st: 0.4</br>przebieg_st_szczyt: 2.0</br>zwapnienia_miazdzycowe: 1.0</br>proba_ta: 7.0</br>_original_yhat_: 0.42</br>"
          ],
          [
           "</br>id: 30</br>prediction: 0.52</br>typ_bolu_klatka: 1.21</br></br>wiek: 57.0</br>plec: 1.0</br>cisnienie_krwi_spoczynek: 128.0</br>cholesterol_we_krwi: 229.0</br>cukier_we_krwi: 0.0</br>wynik_ekg_spoczynek: 2.0</br>ilosc_uderzen_serca: 150.0</br>bol_klatka_wysilek: 0.0</br>max_obnizka_st: 0.4</br>przebieg_st_szczyt: 2.0</br>zwapnienia_miazdzycowe: 1.0</br>proba_ta: 7.0</br>_original_yhat_: 0.42</br>"
          ],
          [
           "</br>id: 30</br>prediction: 0.52</br>typ_bolu_klatka: 1.24</br></br>wiek: 57.0</br>plec: 1.0</br>cisnienie_krwi_spoczynek: 128.0</br>cholesterol_we_krwi: 229.0</br>cukier_we_krwi: 0.0</br>wynik_ekg_spoczynek: 2.0</br>ilosc_uderzen_serca: 150.0</br>bol_klatka_wysilek: 0.0</br>max_obnizka_st: 0.4</br>przebieg_st_szczyt: 2.0</br>zwapnienia_miazdzycowe: 1.0</br>proba_ta: 7.0</br>_original_yhat_: 0.42</br>"
          ],
          [
           "</br>id: 30</br>prediction: 0.52</br>typ_bolu_klatka: 1.27</br></br>wiek: 57.0</br>plec: 1.0</br>cisnienie_krwi_spoczynek: 128.0</br>cholesterol_we_krwi: 229.0</br>cukier_we_krwi: 0.0</br>wynik_ekg_spoczynek: 2.0</br>ilosc_uderzen_serca: 150.0</br>bol_klatka_wysilek: 0.0</br>max_obnizka_st: 0.4</br>przebieg_st_szczyt: 2.0</br>zwapnienia_miazdzycowe: 1.0</br>proba_ta: 7.0</br>_original_yhat_: 0.42</br>"
          ],
          [
           "</br>id: 30</br>prediction: 0.52</br>typ_bolu_klatka: 1.3</br></br>wiek: 57.0</br>plec: 1.0</br>cisnienie_krwi_spoczynek: 128.0</br>cholesterol_we_krwi: 229.0</br>cukier_we_krwi: 0.0</br>wynik_ekg_spoczynek: 2.0</br>ilosc_uderzen_serca: 150.0</br>bol_klatka_wysilek: 0.0</br>max_obnizka_st: 0.4</br>przebieg_st_szczyt: 2.0</br>zwapnienia_miazdzycowe: 1.0</br>proba_ta: 7.0</br>_original_yhat_: 0.42</br>"
          ],
          [
           "</br>id: 30</br>prediction: 0.52</br>typ_bolu_klatka: 1.33</br></br>wiek: 57.0</br>plec: 1.0</br>cisnienie_krwi_spoczynek: 128.0</br>cholesterol_we_krwi: 229.0</br>cukier_we_krwi: 0.0</br>wynik_ekg_spoczynek: 2.0</br>ilosc_uderzen_serca: 150.0</br>bol_klatka_wysilek: 0.0</br>max_obnizka_st: 0.4</br>przebieg_st_szczyt: 2.0</br>zwapnienia_miazdzycowe: 1.0</br>proba_ta: 7.0</br>_original_yhat_: 0.42</br>"
          ],
          [
           "</br>id: 30</br>prediction: 0.52</br>typ_bolu_klatka: 1.3599999999999999</br></br>wiek: 57.0</br>plec: 1.0</br>cisnienie_krwi_spoczynek: 128.0</br>cholesterol_we_krwi: 229.0</br>cukier_we_krwi: 0.0</br>wynik_ekg_spoczynek: 2.0</br>ilosc_uderzen_serca: 150.0</br>bol_klatka_wysilek: 0.0</br>max_obnizka_st: 0.4</br>przebieg_st_szczyt: 2.0</br>zwapnienia_miazdzycowe: 1.0</br>proba_ta: 7.0</br>_original_yhat_: 0.42</br>"
          ],
          [
           "</br>id: 30</br>prediction: 0.52</br>typ_bolu_klatka: 1.3900000000000001</br></br>wiek: 57.0</br>plec: 1.0</br>cisnienie_krwi_spoczynek: 128.0</br>cholesterol_we_krwi: 229.0</br>cukier_we_krwi: 0.0</br>wynik_ekg_spoczynek: 2.0</br>ilosc_uderzen_serca: 150.0</br>bol_klatka_wysilek: 0.0</br>max_obnizka_st: 0.4</br>przebieg_st_szczyt: 2.0</br>zwapnienia_miazdzycowe: 1.0</br>proba_ta: 7.0</br>_original_yhat_: 0.42</br>"
          ],
          [
           "</br>id: 30</br>prediction: 0.52</br>typ_bolu_klatka: 1.42</br></br>wiek: 57.0</br>plec: 1.0</br>cisnienie_krwi_spoczynek: 128.0</br>cholesterol_we_krwi: 229.0</br>cukier_we_krwi: 0.0</br>wynik_ekg_spoczynek: 2.0</br>ilosc_uderzen_serca: 150.0</br>bol_klatka_wysilek: 0.0</br>max_obnizka_st: 0.4</br>przebieg_st_szczyt: 2.0</br>zwapnienia_miazdzycowe: 1.0</br>proba_ta: 7.0</br>_original_yhat_: 0.42</br>"
          ],
          [
           "</br>id: 30</br>prediction: 0.52</br>typ_bolu_klatka: 1.45</br></br>wiek: 57.0</br>plec: 1.0</br>cisnienie_krwi_spoczynek: 128.0</br>cholesterol_we_krwi: 229.0</br>cukier_we_krwi: 0.0</br>wynik_ekg_spoczynek: 2.0</br>ilosc_uderzen_serca: 150.0</br>bol_klatka_wysilek: 0.0</br>max_obnizka_st: 0.4</br>przebieg_st_szczyt: 2.0</br>zwapnienia_miazdzycowe: 1.0</br>proba_ta: 7.0</br>_original_yhat_: 0.42</br>"
          ],
          [
           "</br>id: 30</br>prediction: 0.52</br>typ_bolu_klatka: 1.48</br></br>wiek: 57.0</br>plec: 1.0</br>cisnienie_krwi_spoczynek: 128.0</br>cholesterol_we_krwi: 229.0</br>cukier_we_krwi: 0.0</br>wynik_ekg_spoczynek: 2.0</br>ilosc_uderzen_serca: 150.0</br>bol_klatka_wysilek: 0.0</br>max_obnizka_st: 0.4</br>przebieg_st_szczyt: 2.0</br>zwapnienia_miazdzycowe: 1.0</br>proba_ta: 7.0</br>_original_yhat_: 0.42</br>"
          ],
          [
           "</br>id: 30</br>prediction: 0.53</br>typ_bolu_klatka: 1.51</br></br>wiek: 57.0</br>plec: 1.0</br>cisnienie_krwi_spoczynek: 128.0</br>cholesterol_we_krwi: 229.0</br>cukier_we_krwi: 0.0</br>wynik_ekg_spoczynek: 2.0</br>ilosc_uderzen_serca: 150.0</br>bol_klatka_wysilek: 0.0</br>max_obnizka_st: 0.4</br>przebieg_st_szczyt: 2.0</br>zwapnienia_miazdzycowe: 1.0</br>proba_ta: 7.0</br>_original_yhat_: 0.42</br>"
          ],
          [
           "</br>id: 30</br>prediction: 0.53</br>typ_bolu_klatka: 1.54</br></br>wiek: 57.0</br>plec: 1.0</br>cisnienie_krwi_spoczynek: 128.0</br>cholesterol_we_krwi: 229.0</br>cukier_we_krwi: 0.0</br>wynik_ekg_spoczynek: 2.0</br>ilosc_uderzen_serca: 150.0</br>bol_klatka_wysilek: 0.0</br>max_obnizka_st: 0.4</br>przebieg_st_szczyt: 2.0</br>zwapnienia_miazdzycowe: 1.0</br>proba_ta: 7.0</br>_original_yhat_: 0.42</br>"
          ],
          [
           "</br>id: 30</br>prediction: 0.53</br>typ_bolu_klatka: 1.5699999999999998</br></br>wiek: 57.0</br>plec: 1.0</br>cisnienie_krwi_spoczynek: 128.0</br>cholesterol_we_krwi: 229.0</br>cukier_we_krwi: 0.0</br>wynik_ekg_spoczynek: 2.0</br>ilosc_uderzen_serca: 150.0</br>bol_klatka_wysilek: 0.0</br>max_obnizka_st: 0.4</br>przebieg_st_szczyt: 2.0</br>zwapnienia_miazdzycowe: 1.0</br>proba_ta: 7.0</br>_original_yhat_: 0.42</br>"
          ],
          [
           "</br>id: 30</br>prediction: 0.53</br>typ_bolu_klatka: 1.6</br></br>wiek: 57.0</br>plec: 1.0</br>cisnienie_krwi_spoczynek: 128.0</br>cholesterol_we_krwi: 229.0</br>cukier_we_krwi: 0.0</br>wynik_ekg_spoczynek: 2.0</br>ilosc_uderzen_serca: 150.0</br>bol_klatka_wysilek: 0.0</br>max_obnizka_st: 0.4</br>przebieg_st_szczyt: 2.0</br>zwapnienia_miazdzycowe: 1.0</br>proba_ta: 7.0</br>_original_yhat_: 0.42</br>"
          ],
          [
           "</br>id: 30</br>prediction: 0.53</br>typ_bolu_klatka: 1.63</br></br>wiek: 57.0</br>plec: 1.0</br>cisnienie_krwi_spoczynek: 128.0</br>cholesterol_we_krwi: 229.0</br>cukier_we_krwi: 0.0</br>wynik_ekg_spoczynek: 2.0</br>ilosc_uderzen_serca: 150.0</br>bol_klatka_wysilek: 0.0</br>max_obnizka_st: 0.4</br>przebieg_st_szczyt: 2.0</br>zwapnienia_miazdzycowe: 1.0</br>proba_ta: 7.0</br>_original_yhat_: 0.42</br>"
          ],
          [
           "</br>id: 30</br>prediction: 0.53</br>typ_bolu_klatka: 1.66</br></br>wiek: 57.0</br>plec: 1.0</br>cisnienie_krwi_spoczynek: 128.0</br>cholesterol_we_krwi: 229.0</br>cukier_we_krwi: 0.0</br>wynik_ekg_spoczynek: 2.0</br>ilosc_uderzen_serca: 150.0</br>bol_klatka_wysilek: 0.0</br>max_obnizka_st: 0.4</br>przebieg_st_szczyt: 2.0</br>zwapnienia_miazdzycowe: 1.0</br>proba_ta: 7.0</br>_original_yhat_: 0.42</br>"
          ],
          [
           "</br>id: 30</br>prediction: 0.53</br>typ_bolu_klatka: 1.69</br></br>wiek: 57.0</br>plec: 1.0</br>cisnienie_krwi_spoczynek: 128.0</br>cholesterol_we_krwi: 229.0</br>cukier_we_krwi: 0.0</br>wynik_ekg_spoczynek: 2.0</br>ilosc_uderzen_serca: 150.0</br>bol_klatka_wysilek: 0.0</br>max_obnizka_st: 0.4</br>przebieg_st_szczyt: 2.0</br>zwapnienia_miazdzycowe: 1.0</br>proba_ta: 7.0</br>_original_yhat_: 0.42</br>"
          ],
          [
           "</br>id: 30</br>prediction: 0.53</br>typ_bolu_klatka: 1.72</br></br>wiek: 57.0</br>plec: 1.0</br>cisnienie_krwi_spoczynek: 128.0</br>cholesterol_we_krwi: 229.0</br>cukier_we_krwi: 0.0</br>wynik_ekg_spoczynek: 2.0</br>ilosc_uderzen_serca: 150.0</br>bol_klatka_wysilek: 0.0</br>max_obnizka_st: 0.4</br>przebieg_st_szczyt: 2.0</br>zwapnienia_miazdzycowe: 1.0</br>proba_ta: 7.0</br>_original_yhat_: 0.42</br>"
          ],
          [
           "</br>id: 30</br>prediction: 0.53</br>typ_bolu_klatka: 1.75</br></br>wiek: 57.0</br>plec: 1.0</br>cisnienie_krwi_spoczynek: 128.0</br>cholesterol_we_krwi: 229.0</br>cukier_we_krwi: 0.0</br>wynik_ekg_spoczynek: 2.0</br>ilosc_uderzen_serca: 150.0</br>bol_klatka_wysilek: 0.0</br>max_obnizka_st: 0.4</br>przebieg_st_szczyt: 2.0</br>zwapnienia_miazdzycowe: 1.0</br>proba_ta: 7.0</br>_original_yhat_: 0.42</br>"
          ],
          [
           "</br>id: 30</br>prediction: 0.53</br>typ_bolu_klatka: 1.78</br></br>wiek: 57.0</br>plec: 1.0</br>cisnienie_krwi_spoczynek: 128.0</br>cholesterol_we_krwi: 229.0</br>cukier_we_krwi: 0.0</br>wynik_ekg_spoczynek: 2.0</br>ilosc_uderzen_serca: 150.0</br>bol_klatka_wysilek: 0.0</br>max_obnizka_st: 0.4</br>przebieg_st_szczyt: 2.0</br>zwapnienia_miazdzycowe: 1.0</br>proba_ta: 7.0</br>_original_yhat_: 0.42</br>"
          ],
          [
           "</br>id: 30</br>prediction: 0.53</br>typ_bolu_klatka: 1.81</br></br>wiek: 57.0</br>plec: 1.0</br>cisnienie_krwi_spoczynek: 128.0</br>cholesterol_we_krwi: 229.0</br>cukier_we_krwi: 0.0</br>wynik_ekg_spoczynek: 2.0</br>ilosc_uderzen_serca: 150.0</br>bol_klatka_wysilek: 0.0</br>max_obnizka_st: 0.4</br>przebieg_st_szczyt: 2.0</br>zwapnienia_miazdzycowe: 1.0</br>proba_ta: 7.0</br>_original_yhat_: 0.42</br>"
          ],
          [
           "</br>id: 30</br>prediction: 0.53</br>typ_bolu_klatka: 1.8399999999999999</br></br>wiek: 57.0</br>plec: 1.0</br>cisnienie_krwi_spoczynek: 128.0</br>cholesterol_we_krwi: 229.0</br>cukier_we_krwi: 0.0</br>wynik_ekg_spoczynek: 2.0</br>ilosc_uderzen_serca: 150.0</br>bol_klatka_wysilek: 0.0</br>max_obnizka_st: 0.4</br>przebieg_st_szczyt: 2.0</br>zwapnienia_miazdzycowe: 1.0</br>proba_ta: 7.0</br>_original_yhat_: 0.42</br>"
          ],
          [
           "</br>id: 30</br>prediction: 0.53</br>typ_bolu_klatka: 1.87</br></br>wiek: 57.0</br>plec: 1.0</br>cisnienie_krwi_spoczynek: 128.0</br>cholesterol_we_krwi: 229.0</br>cukier_we_krwi: 0.0</br>wynik_ekg_spoczynek: 2.0</br>ilosc_uderzen_serca: 150.0</br>bol_klatka_wysilek: 0.0</br>max_obnizka_st: 0.4</br>przebieg_st_szczyt: 2.0</br>zwapnienia_miazdzycowe: 1.0</br>proba_ta: 7.0</br>_original_yhat_: 0.42</br>"
          ],
          [
           "</br>id: 30</br>prediction: 0.53</br>typ_bolu_klatka: 1.9</br></br>wiek: 57.0</br>plec: 1.0</br>cisnienie_krwi_spoczynek: 128.0</br>cholesterol_we_krwi: 229.0</br>cukier_we_krwi: 0.0</br>wynik_ekg_spoczynek: 2.0</br>ilosc_uderzen_serca: 150.0</br>bol_klatka_wysilek: 0.0</br>max_obnizka_st: 0.4</br>przebieg_st_szczyt: 2.0</br>zwapnienia_miazdzycowe: 1.0</br>proba_ta: 7.0</br>_original_yhat_: 0.42</br>"
          ],
          [
           "</br>id: 30</br>prediction: 0.53</br>typ_bolu_klatka: 1.93</br></br>wiek: 57.0</br>plec: 1.0</br>cisnienie_krwi_spoczynek: 128.0</br>cholesterol_we_krwi: 229.0</br>cukier_we_krwi: 0.0</br>wynik_ekg_spoczynek: 2.0</br>ilosc_uderzen_serca: 150.0</br>bol_klatka_wysilek: 0.0</br>max_obnizka_st: 0.4</br>przebieg_st_szczyt: 2.0</br>zwapnienia_miazdzycowe: 1.0</br>proba_ta: 7.0</br>_original_yhat_: 0.42</br>"
          ],
          [
           "</br>id: 30</br>prediction: 0.53</br>typ_bolu_klatka: 1.96</br></br>wiek: 57.0</br>plec: 1.0</br>cisnienie_krwi_spoczynek: 128.0</br>cholesterol_we_krwi: 229.0</br>cukier_we_krwi: 0.0</br>wynik_ekg_spoczynek: 2.0</br>ilosc_uderzen_serca: 150.0</br>bol_klatka_wysilek: 0.0</br>max_obnizka_st: 0.4</br>przebieg_st_szczyt: 2.0</br>zwapnienia_miazdzycowe: 1.0</br>proba_ta: 7.0</br>_original_yhat_: 0.42</br>"
          ],
          [
           "</br>id: 30</br>prediction: 0.53</br>typ_bolu_klatka: 1.99</br></br>wiek: 57.0</br>plec: 1.0</br>cisnienie_krwi_spoczynek: 128.0</br>cholesterol_we_krwi: 229.0</br>cukier_we_krwi: 0.0</br>wynik_ekg_spoczynek: 2.0</br>ilosc_uderzen_serca: 150.0</br>bol_klatka_wysilek: 0.0</br>max_obnizka_st: 0.4</br>przebieg_st_szczyt: 2.0</br>zwapnienia_miazdzycowe: 1.0</br>proba_ta: 7.0</br>_original_yhat_: 0.42</br>"
          ],
          [
           "</br>id: 30</br>prediction: 0.51</br>typ_bolu_klatka: 2.02</br></br>wiek: 57.0</br>plec: 1.0</br>cisnienie_krwi_spoczynek: 128.0</br>cholesterol_we_krwi: 229.0</br>cukier_we_krwi: 0.0</br>wynik_ekg_spoczynek: 2.0</br>ilosc_uderzen_serca: 150.0</br>bol_klatka_wysilek: 0.0</br>max_obnizka_st: 0.4</br>przebieg_st_szczyt: 2.0</br>zwapnienia_miazdzycowe: 1.0</br>proba_ta: 7.0</br>_original_yhat_: 0.42</br>"
          ],
          [
           "</br>id: 30</br>prediction: 0.51</br>typ_bolu_klatka: 2.05</br></br>wiek: 57.0</br>plec: 1.0</br>cisnienie_krwi_spoczynek: 128.0</br>cholesterol_we_krwi: 229.0</br>cukier_we_krwi: 0.0</br>wynik_ekg_spoczynek: 2.0</br>ilosc_uderzen_serca: 150.0</br>bol_klatka_wysilek: 0.0</br>max_obnizka_st: 0.4</br>przebieg_st_szczyt: 2.0</br>zwapnienia_miazdzycowe: 1.0</br>proba_ta: 7.0</br>_original_yhat_: 0.42</br>"
          ],
          [
           "</br>id: 30</br>prediction: 0.51</br>typ_bolu_klatka: 2.08</br></br>wiek: 57.0</br>plec: 1.0</br>cisnienie_krwi_spoczynek: 128.0</br>cholesterol_we_krwi: 229.0</br>cukier_we_krwi: 0.0</br>wynik_ekg_spoczynek: 2.0</br>ilosc_uderzen_serca: 150.0</br>bol_klatka_wysilek: 0.0</br>max_obnizka_st: 0.4</br>przebieg_st_szczyt: 2.0</br>zwapnienia_miazdzycowe: 1.0</br>proba_ta: 7.0</br>_original_yhat_: 0.42</br>"
          ],
          [
           "</br>id: 30</br>prediction: 0.51</br>typ_bolu_klatka: 2.11</br></br>wiek: 57.0</br>plec: 1.0</br>cisnienie_krwi_spoczynek: 128.0</br>cholesterol_we_krwi: 229.0</br>cukier_we_krwi: 0.0</br>wynik_ekg_spoczynek: 2.0</br>ilosc_uderzen_serca: 150.0</br>bol_klatka_wysilek: 0.0</br>max_obnizka_st: 0.4</br>przebieg_st_szczyt: 2.0</br>zwapnienia_miazdzycowe: 1.0</br>proba_ta: 7.0</br>_original_yhat_: 0.42</br>"
          ],
          [
           "</br>id: 30</br>prediction: 0.51</br>typ_bolu_klatka: 2.1399999999999997</br></br>wiek: 57.0</br>plec: 1.0</br>cisnienie_krwi_spoczynek: 128.0</br>cholesterol_we_krwi: 229.0</br>cukier_we_krwi: 0.0</br>wynik_ekg_spoczynek: 2.0</br>ilosc_uderzen_serca: 150.0</br>bol_klatka_wysilek: 0.0</br>max_obnizka_st: 0.4</br>przebieg_st_szczyt: 2.0</br>zwapnienia_miazdzycowe: 1.0</br>proba_ta: 7.0</br>_original_yhat_: 0.42</br>"
          ],
          [
           "</br>id: 30</br>prediction: 0.51</br>typ_bolu_klatka: 2.17</br></br>wiek: 57.0</br>plec: 1.0</br>cisnienie_krwi_spoczynek: 128.0</br>cholesterol_we_krwi: 229.0</br>cukier_we_krwi: 0.0</br>wynik_ekg_spoczynek: 2.0</br>ilosc_uderzen_serca: 150.0</br>bol_klatka_wysilek: 0.0</br>max_obnizka_st: 0.4</br>przebieg_st_szczyt: 2.0</br>zwapnienia_miazdzycowe: 1.0</br>proba_ta: 7.0</br>_original_yhat_: 0.42</br>"
          ],
          [
           "</br>id: 30</br>prediction: 0.51</br>typ_bolu_klatka: 2.2</br></br>wiek: 57.0</br>plec: 1.0</br>cisnienie_krwi_spoczynek: 128.0</br>cholesterol_we_krwi: 229.0</br>cukier_we_krwi: 0.0</br>wynik_ekg_spoczynek: 2.0</br>ilosc_uderzen_serca: 150.0</br>bol_klatka_wysilek: 0.0</br>max_obnizka_st: 0.4</br>przebieg_st_szczyt: 2.0</br>zwapnienia_miazdzycowe: 1.0</br>proba_ta: 7.0</br>_original_yhat_: 0.42</br>"
          ],
          [
           "</br>id: 30</br>prediction: 0.51</br>typ_bolu_klatka: 2.23</br></br>wiek: 57.0</br>plec: 1.0</br>cisnienie_krwi_spoczynek: 128.0</br>cholesterol_we_krwi: 229.0</br>cukier_we_krwi: 0.0</br>wynik_ekg_spoczynek: 2.0</br>ilosc_uderzen_serca: 150.0</br>bol_klatka_wysilek: 0.0</br>max_obnizka_st: 0.4</br>przebieg_st_szczyt: 2.0</br>zwapnienia_miazdzycowe: 1.0</br>proba_ta: 7.0</br>_original_yhat_: 0.42</br>"
          ],
          [
           "</br>id: 30</br>prediction: 0.51</br>typ_bolu_klatka: 2.26</br></br>wiek: 57.0</br>plec: 1.0</br>cisnienie_krwi_spoczynek: 128.0</br>cholesterol_we_krwi: 229.0</br>cukier_we_krwi: 0.0</br>wynik_ekg_spoczynek: 2.0</br>ilosc_uderzen_serca: 150.0</br>bol_klatka_wysilek: 0.0</br>max_obnizka_st: 0.4</br>przebieg_st_szczyt: 2.0</br>zwapnienia_miazdzycowe: 1.0</br>proba_ta: 7.0</br>_original_yhat_: 0.42</br>"
          ],
          [
           "</br>id: 30</br>prediction: 0.51</br>typ_bolu_klatka: 2.29</br></br>wiek: 57.0</br>plec: 1.0</br>cisnienie_krwi_spoczynek: 128.0</br>cholesterol_we_krwi: 229.0</br>cukier_we_krwi: 0.0</br>wynik_ekg_spoczynek: 2.0</br>ilosc_uderzen_serca: 150.0</br>bol_klatka_wysilek: 0.0</br>max_obnizka_st: 0.4</br>przebieg_st_szczyt: 2.0</br>zwapnienia_miazdzycowe: 1.0</br>proba_ta: 7.0</br>_original_yhat_: 0.42</br>"
          ],
          [
           "</br>id: 30</br>prediction: 0.51</br>typ_bolu_klatka: 2.32</br></br>wiek: 57.0</br>plec: 1.0</br>cisnienie_krwi_spoczynek: 128.0</br>cholesterol_we_krwi: 229.0</br>cukier_we_krwi: 0.0</br>wynik_ekg_spoczynek: 2.0</br>ilosc_uderzen_serca: 150.0</br>bol_klatka_wysilek: 0.0</br>max_obnizka_st: 0.4</br>przebieg_st_szczyt: 2.0</br>zwapnienia_miazdzycowe: 1.0</br>proba_ta: 7.0</br>_original_yhat_: 0.42</br>"
          ],
          [
           "</br>id: 30</br>prediction: 0.51</br>typ_bolu_klatka: 2.3499999999999996</br></br>wiek: 57.0</br>plec: 1.0</br>cisnienie_krwi_spoczynek: 128.0</br>cholesterol_we_krwi: 229.0</br>cukier_we_krwi: 0.0</br>wynik_ekg_spoczynek: 2.0</br>ilosc_uderzen_serca: 150.0</br>bol_klatka_wysilek: 0.0</br>max_obnizka_st: 0.4</br>przebieg_st_szczyt: 2.0</br>zwapnienia_miazdzycowe: 1.0</br>proba_ta: 7.0</br>_original_yhat_: 0.42</br>"
          ],
          [
           "</br>id: 30</br>prediction: 0.51</br>typ_bolu_klatka: 2.38</br></br>wiek: 57.0</br>plec: 1.0</br>cisnienie_krwi_spoczynek: 128.0</br>cholesterol_we_krwi: 229.0</br>cukier_we_krwi: 0.0</br>wynik_ekg_spoczynek: 2.0</br>ilosc_uderzen_serca: 150.0</br>bol_klatka_wysilek: 0.0</br>max_obnizka_st: 0.4</br>przebieg_st_szczyt: 2.0</br>zwapnienia_miazdzycowe: 1.0</br>proba_ta: 7.0</br>_original_yhat_: 0.42</br>"
          ],
          [
           "</br>id: 30</br>prediction: 0.51</br>typ_bolu_klatka: 2.41</br></br>wiek: 57.0</br>plec: 1.0</br>cisnienie_krwi_spoczynek: 128.0</br>cholesterol_we_krwi: 229.0</br>cukier_we_krwi: 0.0</br>wynik_ekg_spoczynek: 2.0</br>ilosc_uderzen_serca: 150.0</br>bol_klatka_wysilek: 0.0</br>max_obnizka_st: 0.4</br>przebieg_st_szczyt: 2.0</br>zwapnienia_miazdzycowe: 1.0</br>proba_ta: 7.0</br>_original_yhat_: 0.42</br>"
          ],
          [
           "</br>id: 30</br>prediction: 0.51</br>typ_bolu_klatka: 2.44</br></br>wiek: 57.0</br>plec: 1.0</br>cisnienie_krwi_spoczynek: 128.0</br>cholesterol_we_krwi: 229.0</br>cukier_we_krwi: 0.0</br>wynik_ekg_spoczynek: 2.0</br>ilosc_uderzen_serca: 150.0</br>bol_klatka_wysilek: 0.0</br>max_obnizka_st: 0.4</br>przebieg_st_szczyt: 2.0</br>zwapnienia_miazdzycowe: 1.0</br>proba_ta: 7.0</br>_original_yhat_: 0.42</br>"
          ],
          [
           "</br>id: 30</br>prediction: 0.51</br>typ_bolu_klatka: 2.4699999999999998</br></br>wiek: 57.0</br>plec: 1.0</br>cisnienie_krwi_spoczynek: 128.0</br>cholesterol_we_krwi: 229.0</br>cukier_we_krwi: 0.0</br>wynik_ekg_spoczynek: 2.0</br>ilosc_uderzen_serca: 150.0</br>bol_klatka_wysilek: 0.0</br>max_obnizka_st: 0.4</br>przebieg_st_szczyt: 2.0</br>zwapnienia_miazdzycowe: 1.0</br>proba_ta: 7.0</br>_original_yhat_: 0.42</br>"
          ],
          [
           "</br>id: 30</br>prediction: 0.51</br>typ_bolu_klatka: 2.5</br></br>wiek: 57.0</br>plec: 1.0</br>cisnienie_krwi_spoczynek: 128.0</br>cholesterol_we_krwi: 229.0</br>cukier_we_krwi: 0.0</br>wynik_ekg_spoczynek: 2.0</br>ilosc_uderzen_serca: 150.0</br>bol_klatka_wysilek: 0.0</br>max_obnizka_st: 0.4</br>przebieg_st_szczyt: 2.0</br>zwapnienia_miazdzycowe: 1.0</br>proba_ta: 7.0</br>_original_yhat_: 0.42</br>"
          ],
          [
           "</br>id: 30</br>prediction: 0.42</br>typ_bolu_klatka: 2.5300000000000002</br></br>wiek: 57.0</br>plec: 1.0</br>cisnienie_krwi_spoczynek: 128.0</br>cholesterol_we_krwi: 229.0</br>cukier_we_krwi: 0.0</br>wynik_ekg_spoczynek: 2.0</br>ilosc_uderzen_serca: 150.0</br>bol_klatka_wysilek: 0.0</br>max_obnizka_st: 0.4</br>przebieg_st_szczyt: 2.0</br>zwapnienia_miazdzycowe: 1.0</br>proba_ta: 7.0</br>_original_yhat_: 0.42</br>"
          ],
          [
           "</br>id: 30</br>prediction: 0.42</br>typ_bolu_klatka: 2.56</br></br>wiek: 57.0</br>plec: 1.0</br>cisnienie_krwi_spoczynek: 128.0</br>cholesterol_we_krwi: 229.0</br>cukier_we_krwi: 0.0</br>wynik_ekg_spoczynek: 2.0</br>ilosc_uderzen_serca: 150.0</br>bol_klatka_wysilek: 0.0</br>max_obnizka_st: 0.4</br>przebieg_st_szczyt: 2.0</br>zwapnienia_miazdzycowe: 1.0</br>proba_ta: 7.0</br>_original_yhat_: 0.42</br>"
          ],
          [
           "</br>id: 30</br>prediction: 0.42</br>typ_bolu_klatka: 2.59</br></br>wiek: 57.0</br>plec: 1.0</br>cisnienie_krwi_spoczynek: 128.0</br>cholesterol_we_krwi: 229.0</br>cukier_we_krwi: 0.0</br>wynik_ekg_spoczynek: 2.0</br>ilosc_uderzen_serca: 150.0</br>bol_klatka_wysilek: 0.0</br>max_obnizka_st: 0.4</br>przebieg_st_szczyt: 2.0</br>zwapnienia_miazdzycowe: 1.0</br>proba_ta: 7.0</br>_original_yhat_: 0.42</br>"
          ],
          [
           "</br>id: 30</br>prediction: 0.42</br>typ_bolu_klatka: 2.62</br></br>wiek: 57.0</br>plec: 1.0</br>cisnienie_krwi_spoczynek: 128.0</br>cholesterol_we_krwi: 229.0</br>cukier_we_krwi: 0.0</br>wynik_ekg_spoczynek: 2.0</br>ilosc_uderzen_serca: 150.0</br>bol_klatka_wysilek: 0.0</br>max_obnizka_st: 0.4</br>przebieg_st_szczyt: 2.0</br>zwapnienia_miazdzycowe: 1.0</br>proba_ta: 7.0</br>_original_yhat_: 0.42</br>"
          ],
          [
           "</br>id: 30</br>prediction: 0.42</br>typ_bolu_klatka: 2.65</br></br>wiek: 57.0</br>plec: 1.0</br>cisnienie_krwi_spoczynek: 128.0</br>cholesterol_we_krwi: 229.0</br>cukier_we_krwi: 0.0</br>wynik_ekg_spoczynek: 2.0</br>ilosc_uderzen_serca: 150.0</br>bol_klatka_wysilek: 0.0</br>max_obnizka_st: 0.4</br>przebieg_st_szczyt: 2.0</br>zwapnienia_miazdzycowe: 1.0</br>proba_ta: 7.0</br>_original_yhat_: 0.42</br>"
          ],
          [
           "</br>id: 30</br>prediction: 0.42</br>typ_bolu_klatka: 2.6799999999999997</br></br>wiek: 57.0</br>plec: 1.0</br>cisnienie_krwi_spoczynek: 128.0</br>cholesterol_we_krwi: 229.0</br>cukier_we_krwi: 0.0</br>wynik_ekg_spoczynek: 2.0</br>ilosc_uderzen_serca: 150.0</br>bol_klatka_wysilek: 0.0</br>max_obnizka_st: 0.4</br>przebieg_st_szczyt: 2.0</br>zwapnienia_miazdzycowe: 1.0</br>proba_ta: 7.0</br>_original_yhat_: 0.42</br>"
          ],
          [
           "</br>id: 30</br>prediction: 0.42</br>typ_bolu_klatka: 2.71</br></br>wiek: 57.0</br>plec: 1.0</br>cisnienie_krwi_spoczynek: 128.0</br>cholesterol_we_krwi: 229.0</br>cukier_we_krwi: 0.0</br>wynik_ekg_spoczynek: 2.0</br>ilosc_uderzen_serca: 150.0</br>bol_klatka_wysilek: 0.0</br>max_obnizka_st: 0.4</br>przebieg_st_szczyt: 2.0</br>zwapnienia_miazdzycowe: 1.0</br>proba_ta: 7.0</br>_original_yhat_: 0.42</br>"
          ],
          [
           "</br>id: 30</br>prediction: 0.42</br>typ_bolu_klatka: 2.74</br></br>wiek: 57.0</br>plec: 1.0</br>cisnienie_krwi_spoczynek: 128.0</br>cholesterol_we_krwi: 229.0</br>cukier_we_krwi: 0.0</br>wynik_ekg_spoczynek: 2.0</br>ilosc_uderzen_serca: 150.0</br>bol_klatka_wysilek: 0.0</br>max_obnizka_st: 0.4</br>przebieg_st_szczyt: 2.0</br>zwapnienia_miazdzycowe: 1.0</br>proba_ta: 7.0</br>_original_yhat_: 0.42</br>"
          ],
          [
           "</br>id: 30</br>prediction: 0.42</br>typ_bolu_klatka: 2.77</br></br>wiek: 57.0</br>plec: 1.0</br>cisnienie_krwi_spoczynek: 128.0</br>cholesterol_we_krwi: 229.0</br>cukier_we_krwi: 0.0</br>wynik_ekg_spoczynek: 2.0</br>ilosc_uderzen_serca: 150.0</br>bol_klatka_wysilek: 0.0</br>max_obnizka_st: 0.4</br>przebieg_st_szczyt: 2.0</br>zwapnienia_miazdzycowe: 1.0</br>proba_ta: 7.0</br>_original_yhat_: 0.42</br>"
          ],
          [
           "</br>id: 30</br>prediction: 0.42</br>typ_bolu_klatka: 2.8</br></br>wiek: 57.0</br>plec: 1.0</br>cisnienie_krwi_spoczynek: 128.0</br>cholesterol_we_krwi: 229.0</br>cukier_we_krwi: 0.0</br>wynik_ekg_spoczynek: 2.0</br>ilosc_uderzen_serca: 150.0</br>bol_klatka_wysilek: 0.0</br>max_obnizka_st: 0.4</br>przebieg_st_szczyt: 2.0</br>zwapnienia_miazdzycowe: 1.0</br>proba_ta: 7.0</br>_original_yhat_: 0.42</br>"
          ],
          [
           "</br>id: 30</br>prediction: 0.42</br>typ_bolu_klatka: 2.83</br></br>wiek: 57.0</br>plec: 1.0</br>cisnienie_krwi_spoczynek: 128.0</br>cholesterol_we_krwi: 229.0</br>cukier_we_krwi: 0.0</br>wynik_ekg_spoczynek: 2.0</br>ilosc_uderzen_serca: 150.0</br>bol_klatka_wysilek: 0.0</br>max_obnizka_st: 0.4</br>przebieg_st_szczyt: 2.0</br>zwapnienia_miazdzycowe: 1.0</br>proba_ta: 7.0</br>_original_yhat_: 0.42</br>"
          ],
          [
           "</br>id: 30</br>prediction: 0.42</br>typ_bolu_klatka: 2.86</br></br>wiek: 57.0</br>plec: 1.0</br>cisnienie_krwi_spoczynek: 128.0</br>cholesterol_we_krwi: 229.0</br>cukier_we_krwi: 0.0</br>wynik_ekg_spoczynek: 2.0</br>ilosc_uderzen_serca: 150.0</br>bol_klatka_wysilek: 0.0</br>max_obnizka_st: 0.4</br>przebieg_st_szczyt: 2.0</br>zwapnienia_miazdzycowe: 1.0</br>proba_ta: 7.0</br>_original_yhat_: 0.42</br>"
          ],
          [
           "</br>id: 30</br>prediction: 0.42</br>typ_bolu_klatka: 2.8899999999999997</br></br>wiek: 57.0</br>plec: 1.0</br>cisnienie_krwi_spoczynek: 128.0</br>cholesterol_we_krwi: 229.0</br>cukier_we_krwi: 0.0</br>wynik_ekg_spoczynek: 2.0</br>ilosc_uderzen_serca: 150.0</br>bol_klatka_wysilek: 0.0</br>max_obnizka_st: 0.4</br>przebieg_st_szczyt: 2.0</br>zwapnienia_miazdzycowe: 1.0</br>proba_ta: 7.0</br>_original_yhat_: 0.42</br>"
          ],
          [
           "</br>id: 30</br>prediction: 0.42</br>typ_bolu_klatka: 2.92</br></br>wiek: 57.0</br>plec: 1.0</br>cisnienie_krwi_spoczynek: 128.0</br>cholesterol_we_krwi: 229.0</br>cukier_we_krwi: 0.0</br>wynik_ekg_spoczynek: 2.0</br>ilosc_uderzen_serca: 150.0</br>bol_klatka_wysilek: 0.0</br>max_obnizka_st: 0.4</br>przebieg_st_szczyt: 2.0</br>zwapnienia_miazdzycowe: 1.0</br>proba_ta: 7.0</br>_original_yhat_: 0.42</br>"
          ],
          [
           "</br>id: 30</br>prediction: 0.42</br>typ_bolu_klatka: 2.95</br></br>wiek: 57.0</br>plec: 1.0</br>cisnienie_krwi_spoczynek: 128.0</br>cholesterol_we_krwi: 229.0</br>cukier_we_krwi: 0.0</br>wynik_ekg_spoczynek: 2.0</br>ilosc_uderzen_serca: 150.0</br>bol_klatka_wysilek: 0.0</br>max_obnizka_st: 0.4</br>przebieg_st_szczyt: 2.0</br>zwapnienia_miazdzycowe: 1.0</br>proba_ta: 7.0</br>_original_yhat_: 0.42</br>"
          ],
          [
           "</br>id: 30</br>prediction: 0.42</br>typ_bolu_klatka: 2.98</br></br>wiek: 57.0</br>plec: 1.0</br>cisnienie_krwi_spoczynek: 128.0</br>cholesterol_we_krwi: 229.0</br>cukier_we_krwi: 0.0</br>wynik_ekg_spoczynek: 2.0</br>ilosc_uderzen_serca: 150.0</br>bol_klatka_wysilek: 0.0</br>max_obnizka_st: 0.4</br>przebieg_st_szczyt: 2.0</br>zwapnienia_miazdzycowe: 1.0</br>proba_ta: 7.0</br>_original_yhat_: 0.42</br>"
          ],
          [
           "</br>id: 30</br>prediction: 0.42</br>typ_bolu_klatka: 3.0</br></br>wiek: 57.0</br>plec: 1.0</br>cisnienie_krwi_spoczynek: 128.0</br>cholesterol_we_krwi: 229.0</br>cukier_we_krwi: 0.0</br>wynik_ekg_spoczynek: 2.0</br>ilosc_uderzen_serca: 150.0</br>bol_klatka_wysilek: 0.0</br>max_obnizka_st: 0.4</br>przebieg_st_szczyt: 2.0</br>zwapnienia_miazdzycowe: 1.0</br>proba_ta: 7.0</br>_original_yhat_: 0.42</br>"
          ],
          [
           "</br>id: 30</br>prediction: 0.42</br>typ_bolu_klatka: 3.01</br></br>wiek: 57.0</br>plec: 1.0</br>cisnienie_krwi_spoczynek: 128.0</br>cholesterol_we_krwi: 229.0</br>cukier_we_krwi: 0.0</br>wynik_ekg_spoczynek: 2.0</br>ilosc_uderzen_serca: 150.0</br>bol_klatka_wysilek: 0.0</br>max_obnizka_st: 0.4</br>przebieg_st_szczyt: 2.0</br>zwapnienia_miazdzycowe: 1.0</br>proba_ta: 7.0</br>_original_yhat_: 0.42</br>"
          ],
          [
           "</br>id: 30</br>prediction: 0.42</br>typ_bolu_klatka: 3.04</br></br>wiek: 57.0</br>plec: 1.0</br>cisnienie_krwi_spoczynek: 128.0</br>cholesterol_we_krwi: 229.0</br>cukier_we_krwi: 0.0</br>wynik_ekg_spoczynek: 2.0</br>ilosc_uderzen_serca: 150.0</br>bol_klatka_wysilek: 0.0</br>max_obnizka_st: 0.4</br>przebieg_st_szczyt: 2.0</br>zwapnienia_miazdzycowe: 1.0</br>proba_ta: 7.0</br>_original_yhat_: 0.42</br>"
          ],
          [
           "</br>id: 30</br>prediction: 0.42</br>typ_bolu_klatka: 3.07</br></br>wiek: 57.0</br>plec: 1.0</br>cisnienie_krwi_spoczynek: 128.0</br>cholesterol_we_krwi: 229.0</br>cukier_we_krwi: 0.0</br>wynik_ekg_spoczynek: 2.0</br>ilosc_uderzen_serca: 150.0</br>bol_klatka_wysilek: 0.0</br>max_obnizka_st: 0.4</br>przebieg_st_szczyt: 2.0</br>zwapnienia_miazdzycowe: 1.0</br>proba_ta: 7.0</br>_original_yhat_: 0.42</br>"
          ],
          [
           "</br>id: 30</br>prediction: 0.42</br>typ_bolu_klatka: 3.1</br></br>wiek: 57.0</br>plec: 1.0</br>cisnienie_krwi_spoczynek: 128.0</br>cholesterol_we_krwi: 229.0</br>cukier_we_krwi: 0.0</br>wynik_ekg_spoczynek: 2.0</br>ilosc_uderzen_serca: 150.0</br>bol_klatka_wysilek: 0.0</br>max_obnizka_st: 0.4</br>przebieg_st_szczyt: 2.0</br>zwapnienia_miazdzycowe: 1.0</br>proba_ta: 7.0</br>_original_yhat_: 0.42</br>"
          ],
          [
           "</br>id: 30</br>prediction: 0.42</br>typ_bolu_klatka: 3.13</br></br>wiek: 57.0</br>plec: 1.0</br>cisnienie_krwi_spoczynek: 128.0</br>cholesterol_we_krwi: 229.0</br>cukier_we_krwi: 0.0</br>wynik_ekg_spoczynek: 2.0</br>ilosc_uderzen_serca: 150.0</br>bol_klatka_wysilek: 0.0</br>max_obnizka_st: 0.4</br>przebieg_st_szczyt: 2.0</br>zwapnienia_miazdzycowe: 1.0</br>proba_ta: 7.0</br>_original_yhat_: 0.42</br>"
          ],
          [
           "</br>id: 30</br>prediction: 0.42</br>typ_bolu_klatka: 3.16</br></br>wiek: 57.0</br>plec: 1.0</br>cisnienie_krwi_spoczynek: 128.0</br>cholesterol_we_krwi: 229.0</br>cukier_we_krwi: 0.0</br>wynik_ekg_spoczynek: 2.0</br>ilosc_uderzen_serca: 150.0</br>bol_klatka_wysilek: 0.0</br>max_obnizka_st: 0.4</br>przebieg_st_szczyt: 2.0</br>zwapnienia_miazdzycowe: 1.0</br>proba_ta: 7.0</br>_original_yhat_: 0.42</br>"
          ],
          [
           "</br>id: 30</br>prediction: 0.42</br>typ_bolu_klatka: 3.19</br></br>wiek: 57.0</br>plec: 1.0</br>cisnienie_krwi_spoczynek: 128.0</br>cholesterol_we_krwi: 229.0</br>cukier_we_krwi: 0.0</br>wynik_ekg_spoczynek: 2.0</br>ilosc_uderzen_serca: 150.0</br>bol_klatka_wysilek: 0.0</br>max_obnizka_st: 0.4</br>przebieg_st_szczyt: 2.0</br>zwapnienia_miazdzycowe: 1.0</br>proba_ta: 7.0</br>_original_yhat_: 0.42</br>"
          ],
          [
           "</br>id: 30</br>prediction: 0.42</br>typ_bolu_klatka: 3.2199999999999998</br></br>wiek: 57.0</br>plec: 1.0</br>cisnienie_krwi_spoczynek: 128.0</br>cholesterol_we_krwi: 229.0</br>cukier_we_krwi: 0.0</br>wynik_ekg_spoczynek: 2.0</br>ilosc_uderzen_serca: 150.0</br>bol_klatka_wysilek: 0.0</br>max_obnizka_st: 0.4</br>przebieg_st_szczyt: 2.0</br>zwapnienia_miazdzycowe: 1.0</br>proba_ta: 7.0</br>_original_yhat_: 0.42</br>"
          ],
          [
           "</br>id: 30</br>prediction: 0.42</br>typ_bolu_klatka: 3.25</br></br>wiek: 57.0</br>plec: 1.0</br>cisnienie_krwi_spoczynek: 128.0</br>cholesterol_we_krwi: 229.0</br>cukier_we_krwi: 0.0</br>wynik_ekg_spoczynek: 2.0</br>ilosc_uderzen_serca: 150.0</br>bol_klatka_wysilek: 0.0</br>max_obnizka_st: 0.4</br>przebieg_st_szczyt: 2.0</br>zwapnienia_miazdzycowe: 1.0</br>proba_ta: 7.0</br>_original_yhat_: 0.42</br>"
          ],
          [
           "</br>id: 30</br>prediction: 0.42</br>typ_bolu_klatka: 3.28</br></br>wiek: 57.0</br>plec: 1.0</br>cisnienie_krwi_spoczynek: 128.0</br>cholesterol_we_krwi: 229.0</br>cukier_we_krwi: 0.0</br>wynik_ekg_spoczynek: 2.0</br>ilosc_uderzen_serca: 150.0</br>bol_klatka_wysilek: 0.0</br>max_obnizka_st: 0.4</br>przebieg_st_szczyt: 2.0</br>zwapnienia_miazdzycowe: 1.0</br>proba_ta: 7.0</br>_original_yhat_: 0.42</br>"
          ],
          [
           "</br>id: 30</br>prediction: 0.42</br>typ_bolu_klatka: 3.31</br></br>wiek: 57.0</br>plec: 1.0</br>cisnienie_krwi_spoczynek: 128.0</br>cholesterol_we_krwi: 229.0</br>cukier_we_krwi: 0.0</br>wynik_ekg_spoczynek: 2.0</br>ilosc_uderzen_serca: 150.0</br>bol_klatka_wysilek: 0.0</br>max_obnizka_st: 0.4</br>przebieg_st_szczyt: 2.0</br>zwapnienia_miazdzycowe: 1.0</br>proba_ta: 7.0</br>_original_yhat_: 0.42</br>"
          ],
          [
           "</br>id: 30</br>prediction: 0.42</br>typ_bolu_klatka: 3.34</br></br>wiek: 57.0</br>plec: 1.0</br>cisnienie_krwi_spoczynek: 128.0</br>cholesterol_we_krwi: 229.0</br>cukier_we_krwi: 0.0</br>wynik_ekg_spoczynek: 2.0</br>ilosc_uderzen_serca: 150.0</br>bol_klatka_wysilek: 0.0</br>max_obnizka_st: 0.4</br>przebieg_st_szczyt: 2.0</br>zwapnienia_miazdzycowe: 1.0</br>proba_ta: 7.0</br>_original_yhat_: 0.42</br>"
          ],
          [
           "</br>id: 30</br>prediction: 0.42</br>typ_bolu_klatka: 3.37</br></br>wiek: 57.0</br>plec: 1.0</br>cisnienie_krwi_spoczynek: 128.0</br>cholesterol_we_krwi: 229.0</br>cukier_we_krwi: 0.0</br>wynik_ekg_spoczynek: 2.0</br>ilosc_uderzen_serca: 150.0</br>bol_klatka_wysilek: 0.0</br>max_obnizka_st: 0.4</br>przebieg_st_szczyt: 2.0</br>zwapnienia_miazdzycowe: 1.0</br>proba_ta: 7.0</br>_original_yhat_: 0.42</br>"
          ],
          [
           "</br>id: 30</br>prediction: 0.42</br>typ_bolu_klatka: 3.4</br></br>wiek: 57.0</br>plec: 1.0</br>cisnienie_krwi_spoczynek: 128.0</br>cholesterol_we_krwi: 229.0</br>cukier_we_krwi: 0.0</br>wynik_ekg_spoczynek: 2.0</br>ilosc_uderzen_serca: 150.0</br>bol_klatka_wysilek: 0.0</br>max_obnizka_st: 0.4</br>przebieg_st_szczyt: 2.0</br>zwapnienia_miazdzycowe: 1.0</br>proba_ta: 7.0</br>_original_yhat_: 0.42</br>"
          ],
          [
           "</br>id: 30</br>prediction: 0.42</br>typ_bolu_klatka: 3.4299999999999997</br></br>wiek: 57.0</br>plec: 1.0</br>cisnienie_krwi_spoczynek: 128.0</br>cholesterol_we_krwi: 229.0</br>cukier_we_krwi: 0.0</br>wynik_ekg_spoczynek: 2.0</br>ilosc_uderzen_serca: 150.0</br>bol_klatka_wysilek: 0.0</br>max_obnizka_st: 0.4</br>przebieg_st_szczyt: 2.0</br>zwapnienia_miazdzycowe: 1.0</br>proba_ta: 7.0</br>_original_yhat_: 0.42</br>"
          ],
          [
           "</br>id: 30</br>prediction: 0.42</br>typ_bolu_klatka: 3.46</br></br>wiek: 57.0</br>plec: 1.0</br>cisnienie_krwi_spoczynek: 128.0</br>cholesterol_we_krwi: 229.0</br>cukier_we_krwi: 0.0</br>wynik_ekg_spoczynek: 2.0</br>ilosc_uderzen_serca: 150.0</br>bol_klatka_wysilek: 0.0</br>max_obnizka_st: 0.4</br>przebieg_st_szczyt: 2.0</br>zwapnienia_miazdzycowe: 1.0</br>proba_ta: 7.0</br>_original_yhat_: 0.42</br>"
          ],
          [
           "</br>id: 30</br>prediction: 0.42</br>typ_bolu_klatka: 3.4899999999999998</br></br>wiek: 57.0</br>plec: 1.0</br>cisnienie_krwi_spoczynek: 128.0</br>cholesterol_we_krwi: 229.0</br>cukier_we_krwi: 0.0</br>wynik_ekg_spoczynek: 2.0</br>ilosc_uderzen_serca: 150.0</br>bol_klatka_wysilek: 0.0</br>max_obnizka_st: 0.4</br>przebieg_st_szczyt: 2.0</br>zwapnienia_miazdzycowe: 1.0</br>proba_ta: 7.0</br>_original_yhat_: 0.42</br>"
          ],
          [
           "</br>id: 30</br>prediction: 0.63</br>typ_bolu_klatka: 3.52</br></br>wiek: 57.0</br>plec: 1.0</br>cisnienie_krwi_spoczynek: 128.0</br>cholesterol_we_krwi: 229.0</br>cukier_we_krwi: 0.0</br>wynik_ekg_spoczynek: 2.0</br>ilosc_uderzen_serca: 150.0</br>bol_klatka_wysilek: 0.0</br>max_obnizka_st: 0.4</br>przebieg_st_szczyt: 2.0</br>zwapnienia_miazdzycowe: 1.0</br>proba_ta: 7.0</br>_original_yhat_: 0.42</br>"
          ],
          [
           "</br>id: 30</br>prediction: 0.63</br>typ_bolu_klatka: 3.55</br></br>wiek: 57.0</br>plec: 1.0</br>cisnienie_krwi_spoczynek: 128.0</br>cholesterol_we_krwi: 229.0</br>cukier_we_krwi: 0.0</br>wynik_ekg_spoczynek: 2.0</br>ilosc_uderzen_serca: 150.0</br>bol_klatka_wysilek: 0.0</br>max_obnizka_st: 0.4</br>przebieg_st_szczyt: 2.0</br>zwapnienia_miazdzycowe: 1.0</br>proba_ta: 7.0</br>_original_yhat_: 0.42</br>"
          ],
          [
           "</br>id: 30</br>prediction: 0.63</br>typ_bolu_klatka: 3.58</br></br>wiek: 57.0</br>plec: 1.0</br>cisnienie_krwi_spoczynek: 128.0</br>cholesterol_we_krwi: 229.0</br>cukier_we_krwi: 0.0</br>wynik_ekg_spoczynek: 2.0</br>ilosc_uderzen_serca: 150.0</br>bol_klatka_wysilek: 0.0</br>max_obnizka_st: 0.4</br>przebieg_st_szczyt: 2.0</br>zwapnienia_miazdzycowe: 1.0</br>proba_ta: 7.0</br>_original_yhat_: 0.42</br>"
          ],
          [
           "</br>id: 30</br>prediction: 0.63</br>typ_bolu_klatka: 3.61</br></br>wiek: 57.0</br>plec: 1.0</br>cisnienie_krwi_spoczynek: 128.0</br>cholesterol_we_krwi: 229.0</br>cukier_we_krwi: 0.0</br>wynik_ekg_spoczynek: 2.0</br>ilosc_uderzen_serca: 150.0</br>bol_klatka_wysilek: 0.0</br>max_obnizka_st: 0.4</br>przebieg_st_szczyt: 2.0</br>zwapnienia_miazdzycowe: 1.0</br>proba_ta: 7.0</br>_original_yhat_: 0.42</br>"
          ],
          [
           "</br>id: 30</br>prediction: 0.63</br>typ_bolu_klatka: 3.6399999999999997</br></br>wiek: 57.0</br>plec: 1.0</br>cisnienie_krwi_spoczynek: 128.0</br>cholesterol_we_krwi: 229.0</br>cukier_we_krwi: 0.0</br>wynik_ekg_spoczynek: 2.0</br>ilosc_uderzen_serca: 150.0</br>bol_klatka_wysilek: 0.0</br>max_obnizka_st: 0.4</br>przebieg_st_szczyt: 2.0</br>zwapnienia_miazdzycowe: 1.0</br>proba_ta: 7.0</br>_original_yhat_: 0.42</br>"
          ],
          [
           "</br>id: 30</br>prediction: 0.63</br>typ_bolu_klatka: 3.67</br></br>wiek: 57.0</br>plec: 1.0</br>cisnienie_krwi_spoczynek: 128.0</br>cholesterol_we_krwi: 229.0</br>cukier_we_krwi: 0.0</br>wynik_ekg_spoczynek: 2.0</br>ilosc_uderzen_serca: 150.0</br>bol_klatka_wysilek: 0.0</br>max_obnizka_st: 0.4</br>przebieg_st_szczyt: 2.0</br>zwapnienia_miazdzycowe: 1.0</br>proba_ta: 7.0</br>_original_yhat_: 0.42</br>"
          ],
          [
           "</br>id: 30</br>prediction: 0.63</br>typ_bolu_klatka: 3.6999999999999997</br></br>wiek: 57.0</br>plec: 1.0</br>cisnienie_krwi_spoczynek: 128.0</br>cholesterol_we_krwi: 229.0</br>cukier_we_krwi: 0.0</br>wynik_ekg_spoczynek: 2.0</br>ilosc_uderzen_serca: 150.0</br>bol_klatka_wysilek: 0.0</br>max_obnizka_st: 0.4</br>przebieg_st_szczyt: 2.0</br>zwapnienia_miazdzycowe: 1.0</br>proba_ta: 7.0</br>_original_yhat_: 0.42</br>"
          ],
          [
           "</br>id: 30</br>prediction: 0.63</br>typ_bolu_klatka: 3.73</br></br>wiek: 57.0</br>plec: 1.0</br>cisnienie_krwi_spoczynek: 128.0</br>cholesterol_we_krwi: 229.0</br>cukier_we_krwi: 0.0</br>wynik_ekg_spoczynek: 2.0</br>ilosc_uderzen_serca: 150.0</br>bol_klatka_wysilek: 0.0</br>max_obnizka_st: 0.4</br>przebieg_st_szczyt: 2.0</br>zwapnienia_miazdzycowe: 1.0</br>proba_ta: 7.0</br>_original_yhat_: 0.42</br>"
          ],
          [
           "</br>id: 30</br>prediction: 0.63</br>typ_bolu_klatka: 3.76</br></br>wiek: 57.0</br>plec: 1.0</br>cisnienie_krwi_spoczynek: 128.0</br>cholesterol_we_krwi: 229.0</br>cukier_we_krwi: 0.0</br>wynik_ekg_spoczynek: 2.0</br>ilosc_uderzen_serca: 150.0</br>bol_klatka_wysilek: 0.0</br>max_obnizka_st: 0.4</br>przebieg_st_szczyt: 2.0</br>zwapnienia_miazdzycowe: 1.0</br>proba_ta: 7.0</br>_original_yhat_: 0.42</br>"
          ],
          [
           "</br>id: 30</br>prediction: 0.63</br>typ_bolu_klatka: 3.79</br></br>wiek: 57.0</br>plec: 1.0</br>cisnienie_krwi_spoczynek: 128.0</br>cholesterol_we_krwi: 229.0</br>cukier_we_krwi: 0.0</br>wynik_ekg_spoczynek: 2.0</br>ilosc_uderzen_serca: 150.0</br>bol_klatka_wysilek: 0.0</br>max_obnizka_st: 0.4</br>przebieg_st_szczyt: 2.0</br>zwapnienia_miazdzycowe: 1.0</br>proba_ta: 7.0</br>_original_yhat_: 0.42</br>"
          ],
          [
           "</br>id: 30</br>prediction: 0.63</br>typ_bolu_klatka: 3.82</br></br>wiek: 57.0</br>plec: 1.0</br>cisnienie_krwi_spoczynek: 128.0</br>cholesterol_we_krwi: 229.0</br>cukier_we_krwi: 0.0</br>wynik_ekg_spoczynek: 2.0</br>ilosc_uderzen_serca: 150.0</br>bol_klatka_wysilek: 0.0</br>max_obnizka_st: 0.4</br>przebieg_st_szczyt: 2.0</br>zwapnienia_miazdzycowe: 1.0</br>proba_ta: 7.0</br>_original_yhat_: 0.42</br>"
          ],
          [
           "</br>id: 30</br>prediction: 0.63</br>typ_bolu_klatka: 3.85</br></br>wiek: 57.0</br>plec: 1.0</br>cisnienie_krwi_spoczynek: 128.0</br>cholesterol_we_krwi: 229.0</br>cukier_we_krwi: 0.0</br>wynik_ekg_spoczynek: 2.0</br>ilosc_uderzen_serca: 150.0</br>bol_klatka_wysilek: 0.0</br>max_obnizka_st: 0.4</br>przebieg_st_szczyt: 2.0</br>zwapnienia_miazdzycowe: 1.0</br>proba_ta: 7.0</br>_original_yhat_: 0.42</br>"
          ],
          [
           "</br>id: 30</br>prediction: 0.63</br>typ_bolu_klatka: 3.88</br></br>wiek: 57.0</br>plec: 1.0</br>cisnienie_krwi_spoczynek: 128.0</br>cholesterol_we_krwi: 229.0</br>cukier_we_krwi: 0.0</br>wynik_ekg_spoczynek: 2.0</br>ilosc_uderzen_serca: 150.0</br>bol_klatka_wysilek: 0.0</br>max_obnizka_st: 0.4</br>przebieg_st_szczyt: 2.0</br>zwapnienia_miazdzycowe: 1.0</br>proba_ta: 7.0</br>_original_yhat_: 0.42</br>"
          ],
          [
           "</br>id: 30</br>prediction: 0.63</br>typ_bolu_klatka: 3.9099999999999997</br></br>wiek: 57.0</br>plec: 1.0</br>cisnienie_krwi_spoczynek: 128.0</br>cholesterol_we_krwi: 229.0</br>cukier_we_krwi: 0.0</br>wynik_ekg_spoczynek: 2.0</br>ilosc_uderzen_serca: 150.0</br>bol_klatka_wysilek: 0.0</br>max_obnizka_st: 0.4</br>przebieg_st_szczyt: 2.0</br>zwapnienia_miazdzycowe: 1.0</br>proba_ta: 7.0</br>_original_yhat_: 0.42</br>"
          ],
          [
           "</br>id: 30</br>prediction: 0.63</br>typ_bolu_klatka: 3.94</br></br>wiek: 57.0</br>plec: 1.0</br>cisnienie_krwi_spoczynek: 128.0</br>cholesterol_we_krwi: 229.0</br>cukier_we_krwi: 0.0</br>wynik_ekg_spoczynek: 2.0</br>ilosc_uderzen_serca: 150.0</br>bol_klatka_wysilek: 0.0</br>max_obnizka_st: 0.4</br>przebieg_st_szczyt: 2.0</br>zwapnienia_miazdzycowe: 1.0</br>proba_ta: 7.0</br>_original_yhat_: 0.42</br>"
          ],
          [
           "</br>id: 30</br>prediction: 0.63</br>typ_bolu_klatka: 3.9699999999999998</br></br>wiek: 57.0</br>plec: 1.0</br>cisnienie_krwi_spoczynek: 128.0</br>cholesterol_we_krwi: 229.0</br>cukier_we_krwi: 0.0</br>wynik_ekg_spoczynek: 2.0</br>ilosc_uderzen_serca: 150.0</br>bol_klatka_wysilek: 0.0</br>max_obnizka_st: 0.4</br>przebieg_st_szczyt: 2.0</br>zwapnienia_miazdzycowe: 1.0</br>proba_ta: 7.0</br>_original_yhat_: 0.42</br>"
          ],
          [
           "</br>id: 30</br>prediction: 0.63</br>typ_bolu_klatka: 4.0</br></br>wiek: 57.0</br>plec: 1.0</br>cisnienie_krwi_spoczynek: 128.0</br>cholesterol_we_krwi: 229.0</br>cukier_we_krwi: 0.0</br>wynik_ekg_spoczynek: 2.0</br>ilosc_uderzen_serca: 150.0</br>bol_klatka_wysilek: 0.0</br>max_obnizka_st: 0.4</br>przebieg_st_szczyt: 2.0</br>zwapnienia_miazdzycowe: 1.0</br>proba_ta: 7.0</br>_original_yhat_: 0.42</br>"
          ]
         ],
         "hovertemplate": "%{customdata[0]}<extra></extra>",
         "legendgroup": "Model RandomForest dla danych serca",
         "line": {
          "color": "#46bac2",
          "dash": "solid",
          "width": 2
         },
         "marker": {
          "symbol": "circle"
         },
         "mode": "lines",
         "name": "Model RandomForest dla danych serca",
         "opacity": 1,
         "showlegend": false,
         "type": "scattergl",
         "x": [
          1,
          1.03,
          1.06,
          1.09,
          1.12,
          1.15,
          1.18,
          1.21,
          1.24,
          1.27,
          1.3,
          1.33,
          1.3599999999999999,
          1.3900000000000001,
          1.42,
          1.45,
          1.48,
          1.51,
          1.54,
          1.5699999999999998,
          1.6,
          1.63,
          1.66,
          1.69,
          1.72,
          1.75,
          1.78,
          1.81,
          1.8399999999999999,
          1.87,
          1.9,
          1.93,
          1.96,
          1.99,
          2.02,
          2.05,
          2.08,
          2.11,
          2.1399999999999997,
          2.17,
          2.2,
          2.23,
          2.26,
          2.29,
          2.32,
          2.3499999999999996,
          2.38,
          2.41,
          2.44,
          2.4699999999999998,
          2.5,
          2.5300000000000002,
          2.56,
          2.59,
          2.62,
          2.65,
          2.6799999999999997,
          2.71,
          2.74,
          2.77,
          2.8,
          2.83,
          2.86,
          2.8899999999999997,
          2.92,
          2.95,
          2.98,
          3,
          3.01,
          3.04,
          3.07,
          3.1,
          3.13,
          3.16,
          3.19,
          3.2199999999999998,
          3.25,
          3.28,
          3.31,
          3.34,
          3.37,
          3.4,
          3.4299999999999997,
          3.46,
          3.4899999999999998,
          3.52,
          3.55,
          3.58,
          3.61,
          3.6399999999999997,
          3.67,
          3.6999999999999997,
          3.73,
          3.76,
          3.79,
          3.82,
          3.85,
          3.88,
          3.9099999999999997,
          3.94,
          3.9699999999999998,
          4
         ],
         "xaxis": "x11",
         "y": [
          0.52,
          0.52,
          0.52,
          0.52,
          0.52,
          0.52,
          0.52,
          0.52,
          0.52,
          0.52,
          0.52,
          0.52,
          0.52,
          0.52,
          0.52,
          0.52,
          0.52,
          0.53,
          0.53,
          0.53,
          0.53,
          0.53,
          0.53,
          0.53,
          0.53,
          0.53,
          0.53,
          0.53,
          0.53,
          0.53,
          0.53,
          0.53,
          0.53,
          0.53,
          0.51,
          0.51,
          0.51,
          0.51,
          0.51,
          0.51,
          0.51,
          0.51,
          0.51,
          0.51,
          0.51,
          0.51,
          0.51,
          0.51,
          0.51,
          0.51,
          0.51,
          0.42,
          0.42,
          0.42,
          0.42,
          0.42,
          0.42,
          0.42,
          0.42,
          0.42,
          0.42,
          0.42,
          0.42,
          0.42,
          0.42,
          0.42,
          0.42,
          0.42,
          0.42,
          0.42,
          0.42,
          0.42,
          0.42,
          0.42,
          0.42,
          0.42,
          0.42,
          0.42,
          0.42,
          0.42,
          0.42,
          0.42,
          0.42,
          0.42,
          0.42,
          0.63,
          0.63,
          0.63,
          0.63,
          0.63,
          0.63,
          0.63,
          0.63,
          0.63,
          0.63,
          0.63,
          0.63,
          0.63,
          0.63,
          0.63,
          0.63,
          0.63
         ],
         "yaxis": "y11"
        },
        {
         "customdata": [
          [
           "</br>id: 30</br>prediction: 0.36</br>cisnienie_krwi_spoczynek: 94.0</br></br>wiek: 57.0</br>plec: 1.0</br>typ_bolu_klatka: 3.0</br>cholesterol_we_krwi: 229.0</br>cukier_we_krwi: 0.0</br>wynik_ekg_spoczynek: 2.0</br>ilosc_uderzen_serca: 150.0</br>bol_klatka_wysilek: 0.0</br>max_obnizka_st: 0.4</br>przebieg_st_szczyt: 2.0</br>zwapnienia_miazdzycowe: 1.0</br>proba_ta: 7.0</br>_original_yhat_: 0.42</br>"
          ],
          [
           "</br>id: 30</br>prediction: 0.36</br>cisnienie_krwi_spoczynek: 94.98</br></br>wiek: 57.0</br>plec: 1.0</br>typ_bolu_klatka: 3.0</br>cholesterol_we_krwi: 229.0</br>cukier_we_krwi: 0.0</br>wynik_ekg_spoczynek: 2.0</br>ilosc_uderzen_serca: 150.0</br>bol_klatka_wysilek: 0.0</br>max_obnizka_st: 0.4</br>przebieg_st_szczyt: 2.0</br>zwapnienia_miazdzycowe: 1.0</br>proba_ta: 7.0</br>_original_yhat_: 0.42</br>"
          ],
          [
           "</br>id: 30</br>prediction: 0.36</br>cisnienie_krwi_spoczynek: 95.96</br></br>wiek: 57.0</br>plec: 1.0</br>typ_bolu_klatka: 3.0</br>cholesterol_we_krwi: 229.0</br>cukier_we_krwi: 0.0</br>wynik_ekg_spoczynek: 2.0</br>ilosc_uderzen_serca: 150.0</br>bol_klatka_wysilek: 0.0</br>max_obnizka_st: 0.4</br>przebieg_st_szczyt: 2.0</br>zwapnienia_miazdzycowe: 1.0</br>proba_ta: 7.0</br>_original_yhat_: 0.42</br>"
          ],
          [
           "</br>id: 30</br>prediction: 0.36</br>cisnienie_krwi_spoczynek: 96.94</br></br>wiek: 57.0</br>plec: 1.0</br>typ_bolu_klatka: 3.0</br>cholesterol_we_krwi: 229.0</br>cukier_we_krwi: 0.0</br>wynik_ekg_spoczynek: 2.0</br>ilosc_uderzen_serca: 150.0</br>bol_klatka_wysilek: 0.0</br>max_obnizka_st: 0.4</br>przebieg_st_szczyt: 2.0</br>zwapnienia_miazdzycowe: 1.0</br>proba_ta: 7.0</br>_original_yhat_: 0.42</br>"
          ],
          [
           "</br>id: 30</br>prediction: 0.36</br>cisnienie_krwi_spoczynek: 97.92</br></br>wiek: 57.0</br>plec: 1.0</br>typ_bolu_klatka: 3.0</br>cholesterol_we_krwi: 229.0</br>cukier_we_krwi: 0.0</br>wynik_ekg_spoczynek: 2.0</br>ilosc_uderzen_serca: 150.0</br>bol_klatka_wysilek: 0.0</br>max_obnizka_st: 0.4</br>przebieg_st_szczyt: 2.0</br>zwapnienia_miazdzycowe: 1.0</br>proba_ta: 7.0</br>_original_yhat_: 0.42</br>"
          ],
          [
           "</br>id: 30</br>prediction: 0.36</br>cisnienie_krwi_spoczynek: 98.9</br></br>wiek: 57.0</br>plec: 1.0</br>typ_bolu_klatka: 3.0</br>cholesterol_we_krwi: 229.0</br>cukier_we_krwi: 0.0</br>wynik_ekg_spoczynek: 2.0</br>ilosc_uderzen_serca: 150.0</br>bol_klatka_wysilek: 0.0</br>max_obnizka_st: 0.4</br>przebieg_st_szczyt: 2.0</br>zwapnienia_miazdzycowe: 1.0</br>proba_ta: 7.0</br>_original_yhat_: 0.42</br>"
          ],
          [
           "</br>id: 30</br>prediction: 0.36</br>cisnienie_krwi_spoczynek: 99.88</br></br>wiek: 57.0</br>plec: 1.0</br>typ_bolu_klatka: 3.0</br>cholesterol_we_krwi: 229.0</br>cukier_we_krwi: 0.0</br>wynik_ekg_spoczynek: 2.0</br>ilosc_uderzen_serca: 150.0</br>bol_klatka_wysilek: 0.0</br>max_obnizka_st: 0.4</br>przebieg_st_szczyt: 2.0</br>zwapnienia_miazdzycowe: 1.0</br>proba_ta: 7.0</br>_original_yhat_: 0.42</br>"
          ],
          [
           "</br>id: 30</br>prediction: 0.36</br>cisnienie_krwi_spoczynek: 100.86</br></br>wiek: 57.0</br>plec: 1.0</br>typ_bolu_klatka: 3.0</br>cholesterol_we_krwi: 229.0</br>cukier_we_krwi: 0.0</br>wynik_ekg_spoczynek: 2.0</br>ilosc_uderzen_serca: 150.0</br>bol_klatka_wysilek: 0.0</br>max_obnizka_st: 0.4</br>przebieg_st_szczyt: 2.0</br>zwapnienia_miazdzycowe: 1.0</br>proba_ta: 7.0</br>_original_yhat_: 0.42</br>"
          ],
          [
           "</br>id: 30</br>prediction: 0.36</br>cisnienie_krwi_spoczynek: 101.84</br></br>wiek: 57.0</br>plec: 1.0</br>typ_bolu_klatka: 3.0</br>cholesterol_we_krwi: 229.0</br>cukier_we_krwi: 0.0</br>wynik_ekg_spoczynek: 2.0</br>ilosc_uderzen_serca: 150.0</br>bol_klatka_wysilek: 0.0</br>max_obnizka_st: 0.4</br>przebieg_st_szczyt: 2.0</br>zwapnienia_miazdzycowe: 1.0</br>proba_ta: 7.0</br>_original_yhat_: 0.42</br>"
          ],
          [
           "</br>id: 30</br>prediction: 0.36</br>cisnienie_krwi_spoczynek: 102.82</br></br>wiek: 57.0</br>plec: 1.0</br>typ_bolu_klatka: 3.0</br>cholesterol_we_krwi: 229.0</br>cukier_we_krwi: 0.0</br>wynik_ekg_spoczynek: 2.0</br>ilosc_uderzen_serca: 150.0</br>bol_klatka_wysilek: 0.0</br>max_obnizka_st: 0.4</br>przebieg_st_szczyt: 2.0</br>zwapnienia_miazdzycowe: 1.0</br>proba_ta: 7.0</br>_original_yhat_: 0.42</br>"
          ],
          [
           "</br>id: 30</br>prediction: 0.37</br>cisnienie_krwi_spoczynek: 103.8</br></br>wiek: 57.0</br>plec: 1.0</br>typ_bolu_klatka: 3.0</br>cholesterol_we_krwi: 229.0</br>cukier_we_krwi: 0.0</br>wynik_ekg_spoczynek: 2.0</br>ilosc_uderzen_serca: 150.0</br>bol_klatka_wysilek: 0.0</br>max_obnizka_st: 0.4</br>przebieg_st_szczyt: 2.0</br>zwapnienia_miazdzycowe: 1.0</br>proba_ta: 7.0</br>_original_yhat_: 0.42</br>"
          ],
          [
           "</br>id: 30</br>prediction: 0.37</br>cisnienie_krwi_spoczynek: 104.78</br></br>wiek: 57.0</br>plec: 1.0</br>typ_bolu_klatka: 3.0</br>cholesterol_we_krwi: 229.0</br>cukier_we_krwi: 0.0</br>wynik_ekg_spoczynek: 2.0</br>ilosc_uderzen_serca: 150.0</br>bol_klatka_wysilek: 0.0</br>max_obnizka_st: 0.4</br>przebieg_st_szczyt: 2.0</br>zwapnienia_miazdzycowe: 1.0</br>proba_ta: 7.0</br>_original_yhat_: 0.42</br>"
          ],
          [
           "</br>id: 30</br>prediction: 0.38</br>cisnienie_krwi_spoczynek: 105.76</br></br>wiek: 57.0</br>plec: 1.0</br>typ_bolu_klatka: 3.0</br>cholesterol_we_krwi: 229.0</br>cukier_we_krwi: 0.0</br>wynik_ekg_spoczynek: 2.0</br>ilosc_uderzen_serca: 150.0</br>bol_klatka_wysilek: 0.0</br>max_obnizka_st: 0.4</br>przebieg_st_szczyt: 2.0</br>zwapnienia_miazdzycowe: 1.0</br>proba_ta: 7.0</br>_original_yhat_: 0.42</br>"
          ],
          [
           "</br>id: 30</br>prediction: 0.38</br>cisnienie_krwi_spoczynek: 106.74</br></br>wiek: 57.0</br>plec: 1.0</br>typ_bolu_klatka: 3.0</br>cholesterol_we_krwi: 229.0</br>cukier_we_krwi: 0.0</br>wynik_ekg_spoczynek: 2.0</br>ilosc_uderzen_serca: 150.0</br>bol_klatka_wysilek: 0.0</br>max_obnizka_st: 0.4</br>przebieg_st_szczyt: 2.0</br>zwapnienia_miazdzycowe: 1.0</br>proba_ta: 7.0</br>_original_yhat_: 0.42</br>"
          ],
          [
           "</br>id: 30</br>prediction: 0.38</br>cisnienie_krwi_spoczynek: 107.72</br></br>wiek: 57.0</br>plec: 1.0</br>typ_bolu_klatka: 3.0</br>cholesterol_we_krwi: 229.0</br>cukier_we_krwi: 0.0</br>wynik_ekg_spoczynek: 2.0</br>ilosc_uderzen_serca: 150.0</br>bol_klatka_wysilek: 0.0</br>max_obnizka_st: 0.4</br>przebieg_st_szczyt: 2.0</br>zwapnienia_miazdzycowe: 1.0</br>proba_ta: 7.0</br>_original_yhat_: 0.42</br>"
          ],
          [
           "</br>id: 30</br>prediction: 0.39</br>cisnienie_krwi_spoczynek: 108.7</br></br>wiek: 57.0</br>plec: 1.0</br>typ_bolu_klatka: 3.0</br>cholesterol_we_krwi: 229.0</br>cukier_we_krwi: 0.0</br>wynik_ekg_spoczynek: 2.0</br>ilosc_uderzen_serca: 150.0</br>bol_klatka_wysilek: 0.0</br>max_obnizka_st: 0.4</br>przebieg_st_szczyt: 2.0</br>zwapnienia_miazdzycowe: 1.0</br>proba_ta: 7.0</br>_original_yhat_: 0.42</br>"
          ],
          [
           "</br>id: 30</br>prediction: 0.43</br>cisnienie_krwi_spoczynek: 109.68</br></br>wiek: 57.0</br>plec: 1.0</br>typ_bolu_klatka: 3.0</br>cholesterol_we_krwi: 229.0</br>cukier_we_krwi: 0.0</br>wynik_ekg_spoczynek: 2.0</br>ilosc_uderzen_serca: 150.0</br>bol_klatka_wysilek: 0.0</br>max_obnizka_st: 0.4</br>przebieg_st_szczyt: 2.0</br>zwapnienia_miazdzycowe: 1.0</br>proba_ta: 7.0</br>_original_yhat_: 0.42</br>"
          ],
          [
           "</br>id: 30</br>prediction: 0.43</br>cisnienie_krwi_spoczynek: 110.66</br></br>wiek: 57.0</br>plec: 1.0</br>typ_bolu_klatka: 3.0</br>cholesterol_we_krwi: 229.0</br>cukier_we_krwi: 0.0</br>wynik_ekg_spoczynek: 2.0</br>ilosc_uderzen_serca: 150.0</br>bol_klatka_wysilek: 0.0</br>max_obnizka_st: 0.4</br>przebieg_st_szczyt: 2.0</br>zwapnienia_miazdzycowe: 1.0</br>proba_ta: 7.0</br>_original_yhat_: 0.42</br>"
          ],
          [
           "</br>id: 30</br>prediction: 0.45</br>cisnienie_krwi_spoczynek: 111.64</br></br>wiek: 57.0</br>plec: 1.0</br>typ_bolu_klatka: 3.0</br>cholesterol_we_krwi: 229.0</br>cukier_we_krwi: 0.0</br>wynik_ekg_spoczynek: 2.0</br>ilosc_uderzen_serca: 150.0</br>bol_klatka_wysilek: 0.0</br>max_obnizka_st: 0.4</br>przebieg_st_szczyt: 2.0</br>zwapnienia_miazdzycowe: 1.0</br>proba_ta: 7.0</br>_original_yhat_: 0.42</br>"
          ],
          [
           "</br>id: 30</br>prediction: 0.44</br>cisnienie_krwi_spoczynek: 112.62</br></br>wiek: 57.0</br>plec: 1.0</br>typ_bolu_klatka: 3.0</br>cholesterol_we_krwi: 229.0</br>cukier_we_krwi: 0.0</br>wynik_ekg_spoczynek: 2.0</br>ilosc_uderzen_serca: 150.0</br>bol_klatka_wysilek: 0.0</br>max_obnizka_st: 0.4</br>przebieg_st_szczyt: 2.0</br>zwapnienia_miazdzycowe: 1.0</br>proba_ta: 7.0</br>_original_yhat_: 0.42</br>"
          ],
          [
           "</br>id: 30</br>prediction: 0.44</br>cisnienie_krwi_spoczynek: 113.6</br></br>wiek: 57.0</br>plec: 1.0</br>typ_bolu_klatka: 3.0</br>cholesterol_we_krwi: 229.0</br>cukier_we_krwi: 0.0</br>wynik_ekg_spoczynek: 2.0</br>ilosc_uderzen_serca: 150.0</br>bol_klatka_wysilek: 0.0</br>max_obnizka_st: 0.4</br>przebieg_st_szczyt: 2.0</br>zwapnienia_miazdzycowe: 1.0</br>proba_ta: 7.0</br>_original_yhat_: 0.42</br>"
          ],
          [
           "</br>id: 30</br>prediction: 0.45</br>cisnienie_krwi_spoczynek: 114.58</br></br>wiek: 57.0</br>plec: 1.0</br>typ_bolu_klatka: 3.0</br>cholesterol_we_krwi: 229.0</br>cukier_we_krwi: 0.0</br>wynik_ekg_spoczynek: 2.0</br>ilosc_uderzen_serca: 150.0</br>bol_klatka_wysilek: 0.0</br>max_obnizka_st: 0.4</br>przebieg_st_szczyt: 2.0</br>zwapnienia_miazdzycowe: 1.0</br>proba_ta: 7.0</br>_original_yhat_: 0.42</br>"
          ],
          [
           "</br>id: 30</br>prediction: 0.44</br>cisnienie_krwi_spoczynek: 115.56</br></br>wiek: 57.0</br>plec: 1.0</br>typ_bolu_klatka: 3.0</br>cholesterol_we_krwi: 229.0</br>cukier_we_krwi: 0.0</br>wynik_ekg_spoczynek: 2.0</br>ilosc_uderzen_serca: 150.0</br>bol_klatka_wysilek: 0.0</br>max_obnizka_st: 0.4</br>przebieg_st_szczyt: 2.0</br>zwapnienia_miazdzycowe: 1.0</br>proba_ta: 7.0</br>_original_yhat_: 0.42</br>"
          ],
          [
           "</br>id: 30</br>prediction: 0.43</br>cisnienie_krwi_spoczynek: 116.53999999999999</br></br>wiek: 57.0</br>plec: 1.0</br>typ_bolu_klatka: 3.0</br>cholesterol_we_krwi: 229.0</br>cukier_we_krwi: 0.0</br>wynik_ekg_spoczynek: 2.0</br>ilosc_uderzen_serca: 150.0</br>bol_klatka_wysilek: 0.0</br>max_obnizka_st: 0.4</br>przebieg_st_szczyt: 2.0</br>zwapnienia_miazdzycowe: 1.0</br>proba_ta: 7.0</br>_original_yhat_: 0.42</br>"
          ],
          [
           "</br>id: 30</br>prediction: 0.41</br>cisnienie_krwi_spoczynek: 117.52</br></br>wiek: 57.0</br>plec: 1.0</br>typ_bolu_klatka: 3.0</br>cholesterol_we_krwi: 229.0</br>cukier_we_krwi: 0.0</br>wynik_ekg_spoczynek: 2.0</br>ilosc_uderzen_serca: 150.0</br>bol_klatka_wysilek: 0.0</br>max_obnizka_st: 0.4</br>przebieg_st_szczyt: 2.0</br>zwapnienia_miazdzycowe: 1.0</br>proba_ta: 7.0</br>_original_yhat_: 0.42</br>"
          ],
          [
           "</br>id: 30</br>prediction: 0.41</br>cisnienie_krwi_spoczynek: 118.5</br></br>wiek: 57.0</br>plec: 1.0</br>typ_bolu_klatka: 3.0</br>cholesterol_we_krwi: 229.0</br>cukier_we_krwi: 0.0</br>wynik_ekg_spoczynek: 2.0</br>ilosc_uderzen_serca: 150.0</br>bol_klatka_wysilek: 0.0</br>max_obnizka_st: 0.4</br>przebieg_st_szczyt: 2.0</br>zwapnienia_miazdzycowe: 1.0</br>proba_ta: 7.0</br>_original_yhat_: 0.42</br>"
          ],
          [
           "</br>id: 30</br>prediction: 0.41</br>cisnienie_krwi_spoczynek: 119.48</br></br>wiek: 57.0</br>plec: 1.0</br>typ_bolu_klatka: 3.0</br>cholesterol_we_krwi: 229.0</br>cukier_we_krwi: 0.0</br>wynik_ekg_spoczynek: 2.0</br>ilosc_uderzen_serca: 150.0</br>bol_klatka_wysilek: 0.0</br>max_obnizka_st: 0.4</br>przebieg_st_szczyt: 2.0</br>zwapnienia_miazdzycowe: 1.0</br>proba_ta: 7.0</br>_original_yhat_: 0.42</br>"
          ],
          [
           "</br>id: 30</br>prediction: 0.41</br>cisnienie_krwi_spoczynek: 120.46000000000001</br></br>wiek: 57.0</br>plec: 1.0</br>typ_bolu_klatka: 3.0</br>cholesterol_we_krwi: 229.0</br>cukier_we_krwi: 0.0</br>wynik_ekg_spoczynek: 2.0</br>ilosc_uderzen_serca: 150.0</br>bol_klatka_wysilek: 0.0</br>max_obnizka_st: 0.4</br>przebieg_st_szczyt: 2.0</br>zwapnienia_miazdzycowe: 1.0</br>proba_ta: 7.0</br>_original_yhat_: 0.42</br>"
          ],
          [
           "</br>id: 30</br>prediction: 0.41</br>cisnienie_krwi_spoczynek: 121.44</br></br>wiek: 57.0</br>plec: 1.0</br>typ_bolu_klatka: 3.0</br>cholesterol_we_krwi: 229.0</br>cukier_we_krwi: 0.0</br>wynik_ekg_spoczynek: 2.0</br>ilosc_uderzen_serca: 150.0</br>bol_klatka_wysilek: 0.0</br>max_obnizka_st: 0.4</br>przebieg_st_szczyt: 2.0</br>zwapnienia_miazdzycowe: 1.0</br>proba_ta: 7.0</br>_original_yhat_: 0.42</br>"
          ],
          [
           "</br>id: 30</br>prediction: 0.43</br>cisnienie_krwi_spoczynek: 122.42</br></br>wiek: 57.0</br>plec: 1.0</br>typ_bolu_klatka: 3.0</br>cholesterol_we_krwi: 229.0</br>cukier_we_krwi: 0.0</br>wynik_ekg_spoczynek: 2.0</br>ilosc_uderzen_serca: 150.0</br>bol_klatka_wysilek: 0.0</br>max_obnizka_st: 0.4</br>przebieg_st_szczyt: 2.0</br>zwapnienia_miazdzycowe: 1.0</br>proba_ta: 7.0</br>_original_yhat_: 0.42</br>"
          ],
          [
           "</br>id: 30</br>prediction: 0.42</br>cisnienie_krwi_spoczynek: 123.4</br></br>wiek: 57.0</br>plec: 1.0</br>typ_bolu_klatka: 3.0</br>cholesterol_we_krwi: 229.0</br>cukier_we_krwi: 0.0</br>wynik_ekg_spoczynek: 2.0</br>ilosc_uderzen_serca: 150.0</br>bol_klatka_wysilek: 0.0</br>max_obnizka_st: 0.4</br>przebieg_st_szczyt: 2.0</br>zwapnienia_miazdzycowe: 1.0</br>proba_ta: 7.0</br>_original_yhat_: 0.42</br>"
          ],
          [
           "</br>id: 30</br>prediction: 0.42</br>cisnienie_krwi_spoczynek: 124.38</br></br>wiek: 57.0</br>plec: 1.0</br>typ_bolu_klatka: 3.0</br>cholesterol_we_krwi: 229.0</br>cukier_we_krwi: 0.0</br>wynik_ekg_spoczynek: 2.0</br>ilosc_uderzen_serca: 150.0</br>bol_klatka_wysilek: 0.0</br>max_obnizka_st: 0.4</br>przebieg_st_szczyt: 2.0</br>zwapnienia_miazdzycowe: 1.0</br>proba_ta: 7.0</br>_original_yhat_: 0.42</br>"
          ],
          [
           "</br>id: 30</br>prediction: 0.41</br>cisnienie_krwi_spoczynek: 125.36</br></br>wiek: 57.0</br>plec: 1.0</br>typ_bolu_klatka: 3.0</br>cholesterol_we_krwi: 229.0</br>cukier_we_krwi: 0.0</br>wynik_ekg_spoczynek: 2.0</br>ilosc_uderzen_serca: 150.0</br>bol_klatka_wysilek: 0.0</br>max_obnizka_st: 0.4</br>przebieg_st_szczyt: 2.0</br>zwapnienia_miazdzycowe: 1.0</br>proba_ta: 7.0</br>_original_yhat_: 0.42</br>"
          ],
          [
           "</br>id: 30</br>prediction: 0.41</br>cisnienie_krwi_spoczynek: 126.34</br></br>wiek: 57.0</br>plec: 1.0</br>typ_bolu_klatka: 3.0</br>cholesterol_we_krwi: 229.0</br>cukier_we_krwi: 0.0</br>wynik_ekg_spoczynek: 2.0</br>ilosc_uderzen_serca: 150.0</br>bol_klatka_wysilek: 0.0</br>max_obnizka_st: 0.4</br>przebieg_st_szczyt: 2.0</br>zwapnienia_miazdzycowe: 1.0</br>proba_ta: 7.0</br>_original_yhat_: 0.42</br>"
          ],
          [
           "</br>id: 30</br>prediction: 0.41</br>cisnienie_krwi_spoczynek: 127.32</br></br>wiek: 57.0</br>plec: 1.0</br>typ_bolu_klatka: 3.0</br>cholesterol_we_krwi: 229.0</br>cukier_we_krwi: 0.0</br>wynik_ekg_spoczynek: 2.0</br>ilosc_uderzen_serca: 150.0</br>bol_klatka_wysilek: 0.0</br>max_obnizka_st: 0.4</br>przebieg_st_szczyt: 2.0</br>zwapnienia_miazdzycowe: 1.0</br>proba_ta: 7.0</br>_original_yhat_: 0.42</br>"
          ],
          [
           "</br>id: 30</br>prediction: 0.42</br>cisnienie_krwi_spoczynek: 128.0</br></br>wiek: 57.0</br>plec: 1.0</br>typ_bolu_klatka: 3.0</br>cholesterol_we_krwi: 229.0</br>cukier_we_krwi: 0.0</br>wynik_ekg_spoczynek: 2.0</br>ilosc_uderzen_serca: 150.0</br>bol_klatka_wysilek: 0.0</br>max_obnizka_st: 0.4</br>przebieg_st_szczyt: 2.0</br>zwapnienia_miazdzycowe: 1.0</br>proba_ta: 7.0</br>_original_yhat_: 0.42</br>"
          ],
          [
           "</br>id: 30</br>prediction: 0.41</br>cisnienie_krwi_spoczynek: 128.3</br></br>wiek: 57.0</br>plec: 1.0</br>typ_bolu_klatka: 3.0</br>cholesterol_we_krwi: 229.0</br>cukier_we_krwi: 0.0</br>wynik_ekg_spoczynek: 2.0</br>ilosc_uderzen_serca: 150.0</br>bol_klatka_wysilek: 0.0</br>max_obnizka_st: 0.4</br>przebieg_st_szczyt: 2.0</br>zwapnienia_miazdzycowe: 1.0</br>proba_ta: 7.0</br>_original_yhat_: 0.42</br>"
          ],
          [
           "</br>id: 30</br>prediction: 0.4</br>cisnienie_krwi_spoczynek: 129.28</br></br>wiek: 57.0</br>plec: 1.0</br>typ_bolu_klatka: 3.0</br>cholesterol_we_krwi: 229.0</br>cukier_we_krwi: 0.0</br>wynik_ekg_spoczynek: 2.0</br>ilosc_uderzen_serca: 150.0</br>bol_klatka_wysilek: 0.0</br>max_obnizka_st: 0.4</br>przebieg_st_szczyt: 2.0</br>zwapnienia_miazdzycowe: 1.0</br>proba_ta: 7.0</br>_original_yhat_: 0.42</br>"
          ],
          [
           "</br>id: 30</br>prediction: 0.4</br>cisnienie_krwi_spoczynek: 130.26</br></br>wiek: 57.0</br>plec: 1.0</br>typ_bolu_klatka: 3.0</br>cholesterol_we_krwi: 229.0</br>cukier_we_krwi: 0.0</br>wynik_ekg_spoczynek: 2.0</br>ilosc_uderzen_serca: 150.0</br>bol_klatka_wysilek: 0.0</br>max_obnizka_st: 0.4</br>przebieg_st_szczyt: 2.0</br>zwapnienia_miazdzycowe: 1.0</br>proba_ta: 7.0</br>_original_yhat_: 0.42</br>"
          ],
          [
           "</br>id: 30</br>prediction: 0.4</br>cisnienie_krwi_spoczynek: 131.24</br></br>wiek: 57.0</br>plec: 1.0</br>typ_bolu_klatka: 3.0</br>cholesterol_we_krwi: 229.0</br>cukier_we_krwi: 0.0</br>wynik_ekg_spoczynek: 2.0</br>ilosc_uderzen_serca: 150.0</br>bol_klatka_wysilek: 0.0</br>max_obnizka_st: 0.4</br>przebieg_st_szczyt: 2.0</br>zwapnienia_miazdzycowe: 1.0</br>proba_ta: 7.0</br>_original_yhat_: 0.42</br>"
          ],
          [
           "</br>id: 30</br>prediction: 0.4</br>cisnienie_krwi_spoczynek: 132.22</br></br>wiek: 57.0</br>plec: 1.0</br>typ_bolu_klatka: 3.0</br>cholesterol_we_krwi: 229.0</br>cukier_we_krwi: 0.0</br>wynik_ekg_spoczynek: 2.0</br>ilosc_uderzen_serca: 150.0</br>bol_klatka_wysilek: 0.0</br>max_obnizka_st: 0.4</br>przebieg_st_szczyt: 2.0</br>zwapnienia_miazdzycowe: 1.0</br>proba_ta: 7.0</br>_original_yhat_: 0.42</br>"
          ],
          [
           "</br>id: 30</br>prediction: 0.4</br>cisnienie_krwi_spoczynek: 133.2</br></br>wiek: 57.0</br>plec: 1.0</br>typ_bolu_klatka: 3.0</br>cholesterol_we_krwi: 229.0</br>cukier_we_krwi: 0.0</br>wynik_ekg_spoczynek: 2.0</br>ilosc_uderzen_serca: 150.0</br>bol_klatka_wysilek: 0.0</br>max_obnizka_st: 0.4</br>przebieg_st_szczyt: 2.0</br>zwapnienia_miazdzycowe: 1.0</br>proba_ta: 7.0</br>_original_yhat_: 0.42</br>"
          ],
          [
           "</br>id: 30</br>prediction: 0.44</br>cisnienie_krwi_spoczynek: 134.18</br></br>wiek: 57.0</br>plec: 1.0</br>typ_bolu_klatka: 3.0</br>cholesterol_we_krwi: 229.0</br>cukier_we_krwi: 0.0</br>wynik_ekg_spoczynek: 2.0</br>ilosc_uderzen_serca: 150.0</br>bol_klatka_wysilek: 0.0</br>max_obnizka_st: 0.4</br>przebieg_st_szczyt: 2.0</br>zwapnienia_miazdzycowe: 1.0</br>proba_ta: 7.0</br>_original_yhat_: 0.42</br>"
          ],
          [
           "</br>id: 30</br>prediction: 0.46</br>cisnienie_krwi_spoczynek: 135.16</br></br>wiek: 57.0</br>plec: 1.0</br>typ_bolu_klatka: 3.0</br>cholesterol_we_krwi: 229.0</br>cukier_we_krwi: 0.0</br>wynik_ekg_spoczynek: 2.0</br>ilosc_uderzen_serca: 150.0</br>bol_klatka_wysilek: 0.0</br>max_obnizka_st: 0.4</br>przebieg_st_szczyt: 2.0</br>zwapnienia_miazdzycowe: 1.0</br>proba_ta: 7.0</br>_original_yhat_: 0.42</br>"
          ],
          [
           "</br>id: 30</br>prediction: 0.47</br>cisnienie_krwi_spoczynek: 136.14</br></br>wiek: 57.0</br>plec: 1.0</br>typ_bolu_klatka: 3.0</br>cholesterol_we_krwi: 229.0</br>cukier_we_krwi: 0.0</br>wynik_ekg_spoczynek: 2.0</br>ilosc_uderzen_serca: 150.0</br>bol_klatka_wysilek: 0.0</br>max_obnizka_st: 0.4</br>przebieg_st_szczyt: 2.0</br>zwapnienia_miazdzycowe: 1.0</br>proba_ta: 7.0</br>_original_yhat_: 0.42</br>"
          ],
          [
           "</br>id: 30</br>prediction: 0.47</br>cisnienie_krwi_spoczynek: 137.12</br></br>wiek: 57.0</br>plec: 1.0</br>typ_bolu_klatka: 3.0</br>cholesterol_we_krwi: 229.0</br>cukier_we_krwi: 0.0</br>wynik_ekg_spoczynek: 2.0</br>ilosc_uderzen_serca: 150.0</br>bol_klatka_wysilek: 0.0</br>max_obnizka_st: 0.4</br>przebieg_st_szczyt: 2.0</br>zwapnienia_miazdzycowe: 1.0</br>proba_ta: 7.0</br>_original_yhat_: 0.42</br>"
          ],
          [
           "</br>id: 30</br>prediction: 0.47</br>cisnienie_krwi_spoczynek: 138.1</br></br>wiek: 57.0</br>plec: 1.0</br>typ_bolu_klatka: 3.0</br>cholesterol_we_krwi: 229.0</br>cukier_we_krwi: 0.0</br>wynik_ekg_spoczynek: 2.0</br>ilosc_uderzen_serca: 150.0</br>bol_klatka_wysilek: 0.0</br>max_obnizka_st: 0.4</br>przebieg_st_szczyt: 2.0</br>zwapnienia_miazdzycowe: 1.0</br>proba_ta: 7.0</br>_original_yhat_: 0.42</br>"
          ],
          [
           "</br>id: 30</br>prediction: 0.47</br>cisnienie_krwi_spoczynek: 139.07999999999998</br></br>wiek: 57.0</br>plec: 1.0</br>typ_bolu_klatka: 3.0</br>cholesterol_we_krwi: 229.0</br>cukier_we_krwi: 0.0</br>wynik_ekg_spoczynek: 2.0</br>ilosc_uderzen_serca: 150.0</br>bol_klatka_wysilek: 0.0</br>max_obnizka_st: 0.4</br>przebieg_st_szczyt: 2.0</br>zwapnienia_miazdzycowe: 1.0</br>proba_ta: 7.0</br>_original_yhat_: 0.42</br>"
          ],
          [
           "</br>id: 30</br>prediction: 0.48</br>cisnienie_krwi_spoczynek: 140.06</br></br>wiek: 57.0</br>plec: 1.0</br>typ_bolu_klatka: 3.0</br>cholesterol_we_krwi: 229.0</br>cukier_we_krwi: 0.0</br>wynik_ekg_spoczynek: 2.0</br>ilosc_uderzen_serca: 150.0</br>bol_klatka_wysilek: 0.0</br>max_obnizka_st: 0.4</br>przebieg_st_szczyt: 2.0</br>zwapnienia_miazdzycowe: 1.0</br>proba_ta: 7.0</br>_original_yhat_: 0.42</br>"
          ],
          [
           "</br>id: 30</br>prediction: 0.48</br>cisnienie_krwi_spoczynek: 141.04</br></br>wiek: 57.0</br>plec: 1.0</br>typ_bolu_klatka: 3.0</br>cholesterol_we_krwi: 229.0</br>cukier_we_krwi: 0.0</br>wynik_ekg_spoczynek: 2.0</br>ilosc_uderzen_serca: 150.0</br>bol_klatka_wysilek: 0.0</br>max_obnizka_st: 0.4</br>przebieg_st_szczyt: 2.0</br>zwapnienia_miazdzycowe: 1.0</br>proba_ta: 7.0</br>_original_yhat_: 0.42</br>"
          ],
          [
           "</br>id: 30</br>prediction: 0.48</br>cisnienie_krwi_spoczynek: 142.01999999999998</br></br>wiek: 57.0</br>plec: 1.0</br>typ_bolu_klatka: 3.0</br>cholesterol_we_krwi: 229.0</br>cukier_we_krwi: 0.0</br>wynik_ekg_spoczynek: 2.0</br>ilosc_uderzen_serca: 150.0</br>bol_klatka_wysilek: 0.0</br>max_obnizka_st: 0.4</br>przebieg_st_szczyt: 2.0</br>zwapnienia_miazdzycowe: 1.0</br>proba_ta: 7.0</br>_original_yhat_: 0.42</br>"
          ],
          [
           "</br>id: 30</br>prediction: 0.47</br>cisnienie_krwi_spoczynek: 143.0</br></br>wiek: 57.0</br>plec: 1.0</br>typ_bolu_klatka: 3.0</br>cholesterol_we_krwi: 229.0</br>cukier_we_krwi: 0.0</br>wynik_ekg_spoczynek: 2.0</br>ilosc_uderzen_serca: 150.0</br>bol_klatka_wysilek: 0.0</br>max_obnizka_st: 0.4</br>przebieg_st_szczyt: 2.0</br>zwapnienia_miazdzycowe: 1.0</br>proba_ta: 7.0</br>_original_yhat_: 0.42</br>"
          ],
          [
           "</br>id: 30</br>prediction: 0.48</br>cisnienie_krwi_spoczynek: 143.98</br></br>wiek: 57.0</br>plec: 1.0</br>typ_bolu_klatka: 3.0</br>cholesterol_we_krwi: 229.0</br>cukier_we_krwi: 0.0</br>wynik_ekg_spoczynek: 2.0</br>ilosc_uderzen_serca: 150.0</br>bol_klatka_wysilek: 0.0</br>max_obnizka_st: 0.4</br>przebieg_st_szczyt: 2.0</br>zwapnienia_miazdzycowe: 1.0</br>proba_ta: 7.0</br>_original_yhat_: 0.42</br>"
          ],
          [
           "</br>id: 30</br>prediction: 0.48</br>cisnienie_krwi_spoczynek: 144.96</br></br>wiek: 57.0</br>plec: 1.0</br>typ_bolu_klatka: 3.0</br>cholesterol_we_krwi: 229.0</br>cukier_we_krwi: 0.0</br>wynik_ekg_spoczynek: 2.0</br>ilosc_uderzen_serca: 150.0</br>bol_klatka_wysilek: 0.0</br>max_obnizka_st: 0.4</br>przebieg_st_szczyt: 2.0</br>zwapnienia_miazdzycowe: 1.0</br>proba_ta: 7.0</br>_original_yhat_: 0.42</br>"
          ],
          [
           "</br>id: 30</br>prediction: 0.5</br>cisnienie_krwi_spoczynek: 145.94</br></br>wiek: 57.0</br>plec: 1.0</br>typ_bolu_klatka: 3.0</br>cholesterol_we_krwi: 229.0</br>cukier_we_krwi: 0.0</br>wynik_ekg_spoczynek: 2.0</br>ilosc_uderzen_serca: 150.0</br>bol_klatka_wysilek: 0.0</br>max_obnizka_st: 0.4</br>przebieg_st_szczyt: 2.0</br>zwapnienia_miazdzycowe: 1.0</br>proba_ta: 7.0</br>_original_yhat_: 0.42</br>"
          ],
          [
           "</br>id: 30</br>prediction: 0.5</br>cisnienie_krwi_spoczynek: 146.92000000000002</br></br>wiek: 57.0</br>plec: 1.0</br>typ_bolu_klatka: 3.0</br>cholesterol_we_krwi: 229.0</br>cukier_we_krwi: 0.0</br>wynik_ekg_spoczynek: 2.0</br>ilosc_uderzen_serca: 150.0</br>bol_klatka_wysilek: 0.0</br>max_obnizka_st: 0.4</br>przebieg_st_szczyt: 2.0</br>zwapnienia_miazdzycowe: 1.0</br>proba_ta: 7.0</br>_original_yhat_: 0.42</br>"
          ],
          [
           "</br>id: 30</br>prediction: 0.51</br>cisnienie_krwi_spoczynek: 147.9</br></br>wiek: 57.0</br>plec: 1.0</br>typ_bolu_klatka: 3.0</br>cholesterol_we_krwi: 229.0</br>cukier_we_krwi: 0.0</br>wynik_ekg_spoczynek: 2.0</br>ilosc_uderzen_serca: 150.0</br>bol_klatka_wysilek: 0.0</br>max_obnizka_st: 0.4</br>przebieg_st_szczyt: 2.0</br>zwapnienia_miazdzycowe: 1.0</br>proba_ta: 7.0</br>_original_yhat_: 0.42</br>"
          ],
          [
           "</br>id: 30</br>prediction: 0.51</br>cisnienie_krwi_spoczynek: 148.88</br></br>wiek: 57.0</br>plec: 1.0</br>typ_bolu_klatka: 3.0</br>cholesterol_we_krwi: 229.0</br>cukier_we_krwi: 0.0</br>wynik_ekg_spoczynek: 2.0</br>ilosc_uderzen_serca: 150.0</br>bol_klatka_wysilek: 0.0</br>max_obnizka_st: 0.4</br>przebieg_st_szczyt: 2.0</br>zwapnienia_miazdzycowe: 1.0</br>proba_ta: 7.0</br>_original_yhat_: 0.42</br>"
          ],
          [
           "</br>id: 30</br>prediction: 0.51</br>cisnienie_krwi_spoczynek: 149.86</br></br>wiek: 57.0</br>plec: 1.0</br>typ_bolu_klatka: 3.0</br>cholesterol_we_krwi: 229.0</br>cukier_we_krwi: 0.0</br>wynik_ekg_spoczynek: 2.0</br>ilosc_uderzen_serca: 150.0</br>bol_klatka_wysilek: 0.0</br>max_obnizka_st: 0.4</br>przebieg_st_szczyt: 2.0</br>zwapnienia_miazdzycowe: 1.0</br>proba_ta: 7.0</br>_original_yhat_: 0.42</br>"
          ],
          [
           "</br>id: 30</br>prediction: 0.51</br>cisnienie_krwi_spoczynek: 150.84</br></br>wiek: 57.0</br>plec: 1.0</br>typ_bolu_klatka: 3.0</br>cholesterol_we_krwi: 229.0</br>cukier_we_krwi: 0.0</br>wynik_ekg_spoczynek: 2.0</br>ilosc_uderzen_serca: 150.0</br>bol_klatka_wysilek: 0.0</br>max_obnizka_st: 0.4</br>przebieg_st_szczyt: 2.0</br>zwapnienia_miazdzycowe: 1.0</br>proba_ta: 7.0</br>_original_yhat_: 0.42</br>"
          ],
          [
           "</br>id: 30</br>prediction: 0.51</br>cisnienie_krwi_spoczynek: 151.82</br></br>wiek: 57.0</br>plec: 1.0</br>typ_bolu_klatka: 3.0</br>cholesterol_we_krwi: 229.0</br>cukier_we_krwi: 0.0</br>wynik_ekg_spoczynek: 2.0</br>ilosc_uderzen_serca: 150.0</br>bol_klatka_wysilek: 0.0</br>max_obnizka_st: 0.4</br>przebieg_st_szczyt: 2.0</br>zwapnienia_miazdzycowe: 1.0</br>proba_ta: 7.0</br>_original_yhat_: 0.42</br>"
          ],
          [
           "</br>id: 30</br>prediction: 0.51</br>cisnienie_krwi_spoczynek: 152.8</br></br>wiek: 57.0</br>plec: 1.0</br>typ_bolu_klatka: 3.0</br>cholesterol_we_krwi: 229.0</br>cukier_we_krwi: 0.0</br>wynik_ekg_spoczynek: 2.0</br>ilosc_uderzen_serca: 150.0</br>bol_klatka_wysilek: 0.0</br>max_obnizka_st: 0.4</br>przebieg_st_szczyt: 2.0</br>zwapnienia_miazdzycowe: 1.0</br>proba_ta: 7.0</br>_original_yhat_: 0.42</br>"
          ],
          [
           "</br>id: 30</br>prediction: 0.51</br>cisnienie_krwi_spoczynek: 153.78</br></br>wiek: 57.0</br>plec: 1.0</br>typ_bolu_klatka: 3.0</br>cholesterol_we_krwi: 229.0</br>cukier_we_krwi: 0.0</br>wynik_ekg_spoczynek: 2.0</br>ilosc_uderzen_serca: 150.0</br>bol_klatka_wysilek: 0.0</br>max_obnizka_st: 0.4</br>przebieg_st_szczyt: 2.0</br>zwapnienia_miazdzycowe: 1.0</br>proba_ta: 7.0</br>_original_yhat_: 0.42</br>"
          ],
          [
           "</br>id: 30</br>prediction: 0.51</br>cisnienie_krwi_spoczynek: 154.76</br></br>wiek: 57.0</br>plec: 1.0</br>typ_bolu_klatka: 3.0</br>cholesterol_we_krwi: 229.0</br>cukier_we_krwi: 0.0</br>wynik_ekg_spoczynek: 2.0</br>ilosc_uderzen_serca: 150.0</br>bol_klatka_wysilek: 0.0</br>max_obnizka_st: 0.4</br>przebieg_st_szczyt: 2.0</br>zwapnienia_miazdzycowe: 1.0</br>proba_ta: 7.0</br>_original_yhat_: 0.42</br>"
          ],
          [
           "</br>id: 30</br>prediction: 0.51</br>cisnienie_krwi_spoczynek: 155.74</br></br>wiek: 57.0</br>plec: 1.0</br>typ_bolu_klatka: 3.0</br>cholesterol_we_krwi: 229.0</br>cukier_we_krwi: 0.0</br>wynik_ekg_spoczynek: 2.0</br>ilosc_uderzen_serca: 150.0</br>bol_klatka_wysilek: 0.0</br>max_obnizka_st: 0.4</br>przebieg_st_szczyt: 2.0</br>zwapnienia_miazdzycowe: 1.0</br>proba_ta: 7.0</br>_original_yhat_: 0.42</br>"
          ],
          [
           "</br>id: 30</br>prediction: 0.52</br>cisnienie_krwi_spoczynek: 156.72</br></br>wiek: 57.0</br>plec: 1.0</br>typ_bolu_klatka: 3.0</br>cholesterol_we_krwi: 229.0</br>cukier_we_krwi: 0.0</br>wynik_ekg_spoczynek: 2.0</br>ilosc_uderzen_serca: 150.0</br>bol_klatka_wysilek: 0.0</br>max_obnizka_st: 0.4</br>przebieg_st_szczyt: 2.0</br>zwapnienia_miazdzycowe: 1.0</br>proba_ta: 7.0</br>_original_yhat_: 0.42</br>"
          ],
          [
           "</br>id: 30</br>prediction: 0.52</br>cisnienie_krwi_spoczynek: 157.7</br></br>wiek: 57.0</br>plec: 1.0</br>typ_bolu_klatka: 3.0</br>cholesterol_we_krwi: 229.0</br>cukier_we_krwi: 0.0</br>wynik_ekg_spoczynek: 2.0</br>ilosc_uderzen_serca: 150.0</br>bol_klatka_wysilek: 0.0</br>max_obnizka_st: 0.4</br>przebieg_st_szczyt: 2.0</br>zwapnienia_miazdzycowe: 1.0</br>proba_ta: 7.0</br>_original_yhat_: 0.42</br>"
          ],
          [
           "</br>id: 30</br>prediction: 0.55</br>cisnienie_krwi_spoczynek: 158.68</br></br>wiek: 57.0</br>plec: 1.0</br>typ_bolu_klatka: 3.0</br>cholesterol_we_krwi: 229.0</br>cukier_we_krwi: 0.0</br>wynik_ekg_spoczynek: 2.0</br>ilosc_uderzen_serca: 150.0</br>bol_klatka_wysilek: 0.0</br>max_obnizka_st: 0.4</br>przebieg_st_szczyt: 2.0</br>zwapnienia_miazdzycowe: 1.0</br>proba_ta: 7.0</br>_original_yhat_: 0.42</br>"
          ],
          [
           "</br>id: 30</br>prediction: 0.55</br>cisnienie_krwi_spoczynek: 159.66</br></br>wiek: 57.0</br>plec: 1.0</br>typ_bolu_klatka: 3.0</br>cholesterol_we_krwi: 229.0</br>cukier_we_krwi: 0.0</br>wynik_ekg_spoczynek: 2.0</br>ilosc_uderzen_serca: 150.0</br>bol_klatka_wysilek: 0.0</br>max_obnizka_st: 0.4</br>przebieg_st_szczyt: 2.0</br>zwapnienia_miazdzycowe: 1.0</br>proba_ta: 7.0</br>_original_yhat_: 0.42</br>"
          ],
          [
           "</br>id: 30</br>prediction: 0.55</br>cisnienie_krwi_spoczynek: 160.64</br></br>wiek: 57.0</br>plec: 1.0</br>typ_bolu_klatka: 3.0</br>cholesterol_we_krwi: 229.0</br>cukier_we_krwi: 0.0</br>wynik_ekg_spoczynek: 2.0</br>ilosc_uderzen_serca: 150.0</br>bol_klatka_wysilek: 0.0</br>max_obnizka_st: 0.4</br>przebieg_st_szczyt: 2.0</br>zwapnienia_miazdzycowe: 1.0</br>proba_ta: 7.0</br>_original_yhat_: 0.42</br>"
          ],
          [
           "</br>id: 30</br>prediction: 0.56</br>cisnienie_krwi_spoczynek: 161.62</br></br>wiek: 57.0</br>plec: 1.0</br>typ_bolu_klatka: 3.0</br>cholesterol_we_krwi: 229.0</br>cukier_we_krwi: 0.0</br>wynik_ekg_spoczynek: 2.0</br>ilosc_uderzen_serca: 150.0</br>bol_klatka_wysilek: 0.0</br>max_obnizka_st: 0.4</br>przebieg_st_szczyt: 2.0</br>zwapnienia_miazdzycowe: 1.0</br>proba_ta: 7.0</br>_original_yhat_: 0.42</br>"
          ],
          [
           "</br>id: 30</br>prediction: 0.56</br>cisnienie_krwi_spoczynek: 162.6</br></br>wiek: 57.0</br>plec: 1.0</br>typ_bolu_klatka: 3.0</br>cholesterol_we_krwi: 229.0</br>cukier_we_krwi: 0.0</br>wynik_ekg_spoczynek: 2.0</br>ilosc_uderzen_serca: 150.0</br>bol_klatka_wysilek: 0.0</br>max_obnizka_st: 0.4</br>przebieg_st_szczyt: 2.0</br>zwapnienia_miazdzycowe: 1.0</br>proba_ta: 7.0</br>_original_yhat_: 0.42</br>"
          ],
          [
           "</br>id: 30</br>prediction: 0.56</br>cisnienie_krwi_spoczynek: 163.57999999999998</br></br>wiek: 57.0</br>plec: 1.0</br>typ_bolu_klatka: 3.0</br>cholesterol_we_krwi: 229.0</br>cukier_we_krwi: 0.0</br>wynik_ekg_spoczynek: 2.0</br>ilosc_uderzen_serca: 150.0</br>bol_klatka_wysilek: 0.0</br>max_obnizka_st: 0.4</br>przebieg_st_szczyt: 2.0</br>zwapnienia_miazdzycowe: 1.0</br>proba_ta: 7.0</br>_original_yhat_: 0.42</br>"
          ],
          [
           "</br>id: 30</br>prediction: 0.56</br>cisnienie_krwi_spoczynek: 164.56</br></br>wiek: 57.0</br>plec: 1.0</br>typ_bolu_klatka: 3.0</br>cholesterol_we_krwi: 229.0</br>cukier_we_krwi: 0.0</br>wynik_ekg_spoczynek: 2.0</br>ilosc_uderzen_serca: 150.0</br>bol_klatka_wysilek: 0.0</br>max_obnizka_st: 0.4</br>przebieg_st_szczyt: 2.0</br>zwapnienia_miazdzycowe: 1.0</br>proba_ta: 7.0</br>_original_yhat_: 0.42</br>"
          ],
          [
           "</br>id: 30</br>prediction: 0.56</br>cisnienie_krwi_spoczynek: 165.54</br></br>wiek: 57.0</br>plec: 1.0</br>typ_bolu_klatka: 3.0</br>cholesterol_we_krwi: 229.0</br>cukier_we_krwi: 0.0</br>wynik_ekg_spoczynek: 2.0</br>ilosc_uderzen_serca: 150.0</br>bol_klatka_wysilek: 0.0</br>max_obnizka_st: 0.4</br>przebieg_st_szczyt: 2.0</br>zwapnienia_miazdzycowe: 1.0</br>proba_ta: 7.0</br>_original_yhat_: 0.42</br>"
          ],
          [
           "</br>id: 30</br>prediction: 0.56</br>cisnienie_krwi_spoczynek: 166.51999999999998</br></br>wiek: 57.0</br>plec: 1.0</br>typ_bolu_klatka: 3.0</br>cholesterol_we_krwi: 229.0</br>cukier_we_krwi: 0.0</br>wynik_ekg_spoczynek: 2.0</br>ilosc_uderzen_serca: 150.0</br>bol_klatka_wysilek: 0.0</br>max_obnizka_st: 0.4</br>przebieg_st_szczyt: 2.0</br>zwapnienia_miazdzycowe: 1.0</br>proba_ta: 7.0</br>_original_yhat_: 0.42</br>"
          ],
          [
           "</br>id: 30</br>prediction: 0.56</br>cisnienie_krwi_spoczynek: 167.5</br></br>wiek: 57.0</br>plec: 1.0</br>typ_bolu_klatka: 3.0</br>cholesterol_we_krwi: 229.0</br>cukier_we_krwi: 0.0</br>wynik_ekg_spoczynek: 2.0</br>ilosc_uderzen_serca: 150.0</br>bol_klatka_wysilek: 0.0</br>max_obnizka_st: 0.4</br>przebieg_st_szczyt: 2.0</br>zwapnienia_miazdzycowe: 1.0</br>proba_ta: 7.0</br>_original_yhat_: 0.42</br>"
          ],
          [
           "</br>id: 30</br>prediction: 0.56</br>cisnienie_krwi_spoczynek: 168.48000000000002</br></br>wiek: 57.0</br>plec: 1.0</br>typ_bolu_klatka: 3.0</br>cholesterol_we_krwi: 229.0</br>cukier_we_krwi: 0.0</br>wynik_ekg_spoczynek: 2.0</br>ilosc_uderzen_serca: 150.0</br>bol_klatka_wysilek: 0.0</br>max_obnizka_st: 0.4</br>przebieg_st_szczyt: 2.0</br>zwapnienia_miazdzycowe: 1.0</br>proba_ta: 7.0</br>_original_yhat_: 0.42</br>"
          ],
          [
           "</br>id: 30</br>prediction: 0.56</br>cisnienie_krwi_spoczynek: 169.45999999999998</br></br>wiek: 57.0</br>plec: 1.0</br>typ_bolu_klatka: 3.0</br>cholesterol_we_krwi: 229.0</br>cukier_we_krwi: 0.0</br>wynik_ekg_spoczynek: 2.0</br>ilosc_uderzen_serca: 150.0</br>bol_klatka_wysilek: 0.0</br>max_obnizka_st: 0.4</br>przebieg_st_szczyt: 2.0</br>zwapnienia_miazdzycowe: 1.0</br>proba_ta: 7.0</br>_original_yhat_: 0.42</br>"
          ],
          [
           "</br>id: 30</br>prediction: 0.56</br>cisnienie_krwi_spoczynek: 170.44</br></br>wiek: 57.0</br>plec: 1.0</br>typ_bolu_klatka: 3.0</br>cholesterol_we_krwi: 229.0</br>cukier_we_krwi: 0.0</br>wynik_ekg_spoczynek: 2.0</br>ilosc_uderzen_serca: 150.0</br>bol_klatka_wysilek: 0.0</br>max_obnizka_st: 0.4</br>przebieg_st_szczyt: 2.0</br>zwapnienia_miazdzycowe: 1.0</br>proba_ta: 7.0</br>_original_yhat_: 0.42</br>"
          ],
          [
           "</br>id: 30</br>prediction: 0.55</br>cisnienie_krwi_spoczynek: 171.42000000000002</br></br>wiek: 57.0</br>plec: 1.0</br>typ_bolu_klatka: 3.0</br>cholesterol_we_krwi: 229.0</br>cukier_we_krwi: 0.0</br>wynik_ekg_spoczynek: 2.0</br>ilosc_uderzen_serca: 150.0</br>bol_klatka_wysilek: 0.0</br>max_obnizka_st: 0.4</br>przebieg_st_szczyt: 2.0</br>zwapnienia_miazdzycowe: 1.0</br>proba_ta: 7.0</br>_original_yhat_: 0.42</br>"
          ],
          [
           "</br>id: 30</br>prediction: 0.55</br>cisnienie_krwi_spoczynek: 172.4</br></br>wiek: 57.0</br>plec: 1.0</br>typ_bolu_klatka: 3.0</br>cholesterol_we_krwi: 229.0</br>cukier_we_krwi: 0.0</br>wynik_ekg_spoczynek: 2.0</br>ilosc_uderzen_serca: 150.0</br>bol_klatka_wysilek: 0.0</br>max_obnizka_st: 0.4</br>przebieg_st_szczyt: 2.0</br>zwapnienia_miazdzycowe: 1.0</br>proba_ta: 7.0</br>_original_yhat_: 0.42</br>"
          ],
          [
           "</br>id: 30</br>prediction: 0.55</br>cisnienie_krwi_spoczynek: 173.38</br></br>wiek: 57.0</br>plec: 1.0</br>typ_bolu_klatka: 3.0</br>cholesterol_we_krwi: 229.0</br>cukier_we_krwi: 0.0</br>wynik_ekg_spoczynek: 2.0</br>ilosc_uderzen_serca: 150.0</br>bol_klatka_wysilek: 0.0</br>max_obnizka_st: 0.4</br>przebieg_st_szczyt: 2.0</br>zwapnienia_miazdzycowe: 1.0</br>proba_ta: 7.0</br>_original_yhat_: 0.42</br>"
          ],
          [
           "</br>id: 30</br>prediction: 0.53</br>cisnienie_krwi_spoczynek: 174.36</br></br>wiek: 57.0</br>plec: 1.0</br>typ_bolu_klatka: 3.0</br>cholesterol_we_krwi: 229.0</br>cukier_we_krwi: 0.0</br>wynik_ekg_spoczynek: 2.0</br>ilosc_uderzen_serca: 150.0</br>bol_klatka_wysilek: 0.0</br>max_obnizka_st: 0.4</br>przebieg_st_szczyt: 2.0</br>zwapnienia_miazdzycowe: 1.0</br>proba_ta: 7.0</br>_original_yhat_: 0.42</br>"
          ],
          [
           "</br>id: 30</br>prediction: 0.53</br>cisnienie_krwi_spoczynek: 175.34</br></br>wiek: 57.0</br>plec: 1.0</br>typ_bolu_klatka: 3.0</br>cholesterol_we_krwi: 229.0</br>cukier_we_krwi: 0.0</br>wynik_ekg_spoczynek: 2.0</br>ilosc_uderzen_serca: 150.0</br>bol_klatka_wysilek: 0.0</br>max_obnizka_st: 0.4</br>przebieg_st_szczyt: 2.0</br>zwapnienia_miazdzycowe: 1.0</br>proba_ta: 7.0</br>_original_yhat_: 0.42</br>"
          ],
          [
           "</br>id: 30</br>prediction: 0.54</br>cisnienie_krwi_spoczynek: 176.32</br></br>wiek: 57.0</br>plec: 1.0</br>typ_bolu_klatka: 3.0</br>cholesterol_we_krwi: 229.0</br>cukier_we_krwi: 0.0</br>wynik_ekg_spoczynek: 2.0</br>ilosc_uderzen_serca: 150.0</br>bol_klatka_wysilek: 0.0</br>max_obnizka_st: 0.4</br>przebieg_st_szczyt: 2.0</br>zwapnienia_miazdzycowe: 1.0</br>proba_ta: 7.0</br>_original_yhat_: 0.42</br>"
          ],
          [
           "</br>id: 30</br>prediction: 0.54</br>cisnienie_krwi_spoczynek: 177.3</br></br>wiek: 57.0</br>plec: 1.0</br>typ_bolu_klatka: 3.0</br>cholesterol_we_krwi: 229.0</br>cukier_we_krwi: 0.0</br>wynik_ekg_spoczynek: 2.0</br>ilosc_uderzen_serca: 150.0</br>bol_klatka_wysilek: 0.0</br>max_obnizka_st: 0.4</br>przebieg_st_szczyt: 2.0</br>zwapnienia_miazdzycowe: 1.0</br>proba_ta: 7.0</br>_original_yhat_: 0.42</br>"
          ],
          [
           "</br>id: 30</br>prediction: 0.54</br>cisnienie_krwi_spoczynek: 178.28</br></br>wiek: 57.0</br>plec: 1.0</br>typ_bolu_klatka: 3.0</br>cholesterol_we_krwi: 229.0</br>cukier_we_krwi: 0.0</br>wynik_ekg_spoczynek: 2.0</br>ilosc_uderzen_serca: 150.0</br>bol_klatka_wysilek: 0.0</br>max_obnizka_st: 0.4</br>przebieg_st_szczyt: 2.0</br>zwapnienia_miazdzycowe: 1.0</br>proba_ta: 7.0</br>_original_yhat_: 0.42</br>"
          ],
          [
           "</br>id: 30</br>prediction: 0.55</br>cisnienie_krwi_spoczynek: 179.26</br></br>wiek: 57.0</br>plec: 1.0</br>typ_bolu_klatka: 3.0</br>cholesterol_we_krwi: 229.0</br>cukier_we_krwi: 0.0</br>wynik_ekg_spoczynek: 2.0</br>ilosc_uderzen_serca: 150.0</br>bol_klatka_wysilek: 0.0</br>max_obnizka_st: 0.4</br>przebieg_st_szczyt: 2.0</br>zwapnienia_miazdzycowe: 1.0</br>proba_ta: 7.0</br>_original_yhat_: 0.42</br>"
          ],
          [
           "</br>id: 30</br>prediction: 0.55</br>cisnienie_krwi_spoczynek: 180.24</br></br>wiek: 57.0</br>plec: 1.0</br>typ_bolu_klatka: 3.0</br>cholesterol_we_krwi: 229.0</br>cukier_we_krwi: 0.0</br>wynik_ekg_spoczynek: 2.0</br>ilosc_uderzen_serca: 150.0</br>bol_klatka_wysilek: 0.0</br>max_obnizka_st: 0.4</br>przebieg_st_szczyt: 2.0</br>zwapnienia_miazdzycowe: 1.0</br>proba_ta: 7.0</br>_original_yhat_: 0.42</br>"
          ],
          [
           "</br>id: 30</br>prediction: 0.55</br>cisnienie_krwi_spoczynek: 181.22</br></br>wiek: 57.0</br>plec: 1.0</br>typ_bolu_klatka: 3.0</br>cholesterol_we_krwi: 229.0</br>cukier_we_krwi: 0.0</br>wynik_ekg_spoczynek: 2.0</br>ilosc_uderzen_serca: 150.0</br>bol_klatka_wysilek: 0.0</br>max_obnizka_st: 0.4</br>przebieg_st_szczyt: 2.0</br>zwapnienia_miazdzycowe: 1.0</br>proba_ta: 7.0</br>_original_yhat_: 0.42</br>"
          ],
          [
           "</br>id: 30</br>prediction: 0.55</br>cisnienie_krwi_spoczynek: 182.2</br></br>wiek: 57.0</br>plec: 1.0</br>typ_bolu_klatka: 3.0</br>cholesterol_we_krwi: 229.0</br>cukier_we_krwi: 0.0</br>wynik_ekg_spoczynek: 2.0</br>ilosc_uderzen_serca: 150.0</br>bol_klatka_wysilek: 0.0</br>max_obnizka_st: 0.4</br>przebieg_st_szczyt: 2.0</br>zwapnienia_miazdzycowe: 1.0</br>proba_ta: 7.0</br>_original_yhat_: 0.42</br>"
          ],
          [
           "</br>id: 30</br>prediction: 0.55</br>cisnienie_krwi_spoczynek: 183.18</br></br>wiek: 57.0</br>plec: 1.0</br>typ_bolu_klatka: 3.0</br>cholesterol_we_krwi: 229.0</br>cukier_we_krwi: 0.0</br>wynik_ekg_spoczynek: 2.0</br>ilosc_uderzen_serca: 150.0</br>bol_klatka_wysilek: 0.0</br>max_obnizka_st: 0.4</br>przebieg_st_szczyt: 2.0</br>zwapnienia_miazdzycowe: 1.0</br>proba_ta: 7.0</br>_original_yhat_: 0.42</br>"
          ],
          [
           "</br>id: 30</br>prediction: 0.55</br>cisnienie_krwi_spoczynek: 184.16</br></br>wiek: 57.0</br>plec: 1.0</br>typ_bolu_klatka: 3.0</br>cholesterol_we_krwi: 229.0</br>cukier_we_krwi: 0.0</br>wynik_ekg_spoczynek: 2.0</br>ilosc_uderzen_serca: 150.0</br>bol_klatka_wysilek: 0.0</br>max_obnizka_st: 0.4</br>przebieg_st_szczyt: 2.0</br>zwapnienia_miazdzycowe: 1.0</br>proba_ta: 7.0</br>_original_yhat_: 0.42</br>"
          ],
          [
           "</br>id: 30</br>prediction: 0.55</br>cisnienie_krwi_spoczynek: 185.14</br></br>wiek: 57.0</br>plec: 1.0</br>typ_bolu_klatka: 3.0</br>cholesterol_we_krwi: 229.0</br>cukier_we_krwi: 0.0</br>wynik_ekg_spoczynek: 2.0</br>ilosc_uderzen_serca: 150.0</br>bol_klatka_wysilek: 0.0</br>max_obnizka_st: 0.4</br>przebieg_st_szczyt: 2.0</br>zwapnienia_miazdzycowe: 1.0</br>proba_ta: 7.0</br>_original_yhat_: 0.42</br>"
          ],
          [
           "</br>id: 30</br>prediction: 0.55</br>cisnienie_krwi_spoczynek: 186.12</br></br>wiek: 57.0</br>plec: 1.0</br>typ_bolu_klatka: 3.0</br>cholesterol_we_krwi: 229.0</br>cukier_we_krwi: 0.0</br>wynik_ekg_spoczynek: 2.0</br>ilosc_uderzen_serca: 150.0</br>bol_klatka_wysilek: 0.0</br>max_obnizka_st: 0.4</br>przebieg_st_szczyt: 2.0</br>zwapnienia_miazdzycowe: 1.0</br>proba_ta: 7.0</br>_original_yhat_: 0.42</br>"
          ],
          [
           "</br>id: 30</br>prediction: 0.55</br>cisnienie_krwi_spoczynek: 187.1</br></br>wiek: 57.0</br>plec: 1.0</br>typ_bolu_klatka: 3.0</br>cholesterol_we_krwi: 229.0</br>cukier_we_krwi: 0.0</br>wynik_ekg_spoczynek: 2.0</br>ilosc_uderzen_serca: 150.0</br>bol_klatka_wysilek: 0.0</br>max_obnizka_st: 0.4</br>przebieg_st_szczyt: 2.0</br>zwapnienia_miazdzycowe: 1.0</br>proba_ta: 7.0</br>_original_yhat_: 0.42</br>"
          ],
          [
           "</br>id: 30</br>prediction: 0.55</br>cisnienie_krwi_spoczynek: 188.07999999999998</br></br>wiek: 57.0</br>plec: 1.0</br>typ_bolu_klatka: 3.0</br>cholesterol_we_krwi: 229.0</br>cukier_we_krwi: 0.0</br>wynik_ekg_spoczynek: 2.0</br>ilosc_uderzen_serca: 150.0</br>bol_klatka_wysilek: 0.0</br>max_obnizka_st: 0.4</br>przebieg_st_szczyt: 2.0</br>zwapnienia_miazdzycowe: 1.0</br>proba_ta: 7.0</br>_original_yhat_: 0.42</br>"
          ],
          [
           "</br>id: 30</br>prediction: 0.55</br>cisnienie_krwi_spoczynek: 189.06</br></br>wiek: 57.0</br>plec: 1.0</br>typ_bolu_klatka: 3.0</br>cholesterol_we_krwi: 229.0</br>cukier_we_krwi: 0.0</br>wynik_ekg_spoczynek: 2.0</br>ilosc_uderzen_serca: 150.0</br>bol_klatka_wysilek: 0.0</br>max_obnizka_st: 0.4</br>przebieg_st_szczyt: 2.0</br>zwapnienia_miazdzycowe: 1.0</br>proba_ta: 7.0</br>_original_yhat_: 0.42</br>"
          ],
          [
           "</br>id: 30</br>prediction: 0.55</br>cisnienie_krwi_spoczynek: 190.04</br></br>wiek: 57.0</br>plec: 1.0</br>typ_bolu_klatka: 3.0</br>cholesterol_we_krwi: 229.0</br>cukier_we_krwi: 0.0</br>wynik_ekg_spoczynek: 2.0</br>ilosc_uderzen_serca: 150.0</br>bol_klatka_wysilek: 0.0</br>max_obnizka_st: 0.4</br>przebieg_st_szczyt: 2.0</br>zwapnienia_miazdzycowe: 1.0</br>proba_ta: 7.0</br>_original_yhat_: 0.42</br>"
          ],
          [
           "</br>id: 30</br>prediction: 0.55</br>cisnienie_krwi_spoczynek: 191.01999999999998</br></br>wiek: 57.0</br>plec: 1.0</br>typ_bolu_klatka: 3.0</br>cholesterol_we_krwi: 229.0</br>cukier_we_krwi: 0.0</br>wynik_ekg_spoczynek: 2.0</br>ilosc_uderzen_serca: 150.0</br>bol_klatka_wysilek: 0.0</br>max_obnizka_st: 0.4</br>przebieg_st_szczyt: 2.0</br>zwapnienia_miazdzycowe: 1.0</br>proba_ta: 7.0</br>_original_yhat_: 0.42</br>"
          ],
          [
           "</br>id: 30</br>prediction: 0.55</br>cisnienie_krwi_spoczynek: 192.0</br></br>wiek: 57.0</br>plec: 1.0</br>typ_bolu_klatka: 3.0</br>cholesterol_we_krwi: 229.0</br>cukier_we_krwi: 0.0</br>wynik_ekg_spoczynek: 2.0</br>ilosc_uderzen_serca: 150.0</br>bol_klatka_wysilek: 0.0</br>max_obnizka_st: 0.4</br>przebieg_st_szczyt: 2.0</br>zwapnienia_miazdzycowe: 1.0</br>proba_ta: 7.0</br>_original_yhat_: 0.42</br>"
          ]
         ],
         "hovertemplate": "%{customdata[0]}<extra></extra>",
         "legendgroup": "Model RandomForest dla danych serca",
         "line": {
          "color": "#46bac2",
          "dash": "solid",
          "width": 2
         },
         "marker": {
          "symbol": "circle"
         },
         "mode": "lines",
         "name": "Model RandomForest dla danych serca",
         "opacity": 1,
         "showlegend": false,
         "type": "scattergl",
         "x": [
          94,
          94.98,
          95.96,
          96.94,
          97.92,
          98.9,
          99.88,
          100.86,
          101.84,
          102.82,
          103.8,
          104.78,
          105.76,
          106.74,
          107.72,
          108.7,
          109.68,
          110.66,
          111.64,
          112.62,
          113.6,
          114.58,
          115.56,
          116.53999999999999,
          117.52,
          118.5,
          119.48,
          120.46000000000001,
          121.44,
          122.42,
          123.4,
          124.38,
          125.36,
          126.34,
          127.32,
          128,
          128.3,
          129.28,
          130.26,
          131.24,
          132.22,
          133.2,
          134.18,
          135.16,
          136.14,
          137.12,
          138.1,
          139.07999999999998,
          140.06,
          141.04,
          142.01999999999998,
          143,
          143.98,
          144.96,
          145.94,
          146.92000000000002,
          147.9,
          148.88,
          149.86,
          150.84,
          151.82,
          152.8,
          153.78,
          154.76,
          155.74,
          156.72,
          157.7,
          158.68,
          159.66,
          160.64,
          161.62,
          162.6,
          163.57999999999998,
          164.56,
          165.54,
          166.51999999999998,
          167.5,
          168.48000000000002,
          169.45999999999998,
          170.44,
          171.42000000000002,
          172.4,
          173.38,
          174.36,
          175.34,
          176.32,
          177.3,
          178.28,
          179.26,
          180.24,
          181.22,
          182.2,
          183.18,
          184.16,
          185.14,
          186.12,
          187.1,
          188.07999999999998,
          189.06,
          190.04,
          191.01999999999998,
          192
         ],
         "xaxis": "x12",
         "y": [
          0.36,
          0.36,
          0.36,
          0.36,
          0.36,
          0.36,
          0.36,
          0.36,
          0.36,
          0.36,
          0.37,
          0.37,
          0.38,
          0.38,
          0.38,
          0.39,
          0.43,
          0.43,
          0.45,
          0.44,
          0.44,
          0.45,
          0.44,
          0.43,
          0.41,
          0.41,
          0.41,
          0.41,
          0.41,
          0.43,
          0.42,
          0.42,
          0.41,
          0.41,
          0.41,
          0.42,
          0.41,
          0.4,
          0.4,
          0.4,
          0.4,
          0.4,
          0.44,
          0.46,
          0.47,
          0.47,
          0.47,
          0.47,
          0.48,
          0.48,
          0.48,
          0.47,
          0.48,
          0.48,
          0.5,
          0.5,
          0.51,
          0.51,
          0.51,
          0.51,
          0.51,
          0.51,
          0.51,
          0.51,
          0.51,
          0.52,
          0.52,
          0.55,
          0.55,
          0.55,
          0.56,
          0.56,
          0.56,
          0.56,
          0.56,
          0.56,
          0.56,
          0.56,
          0.56,
          0.56,
          0.55,
          0.55,
          0.55,
          0.53,
          0.53,
          0.54,
          0.54,
          0.54,
          0.55,
          0.55,
          0.55,
          0.55,
          0.55,
          0.55,
          0.55,
          0.55,
          0.55,
          0.55,
          0.55,
          0.55,
          0.55,
          0.55
         ],
         "yaxis": "y12"
        },
        {
         "customdata": [
          [
           "</br>id: 30</br>prediction: 0.44</br>cholesterol_we_krwi: 126.0</br></br>wiek: 57.0</br>plec: 1.0</br>typ_bolu_klatka: 3.0</br>cisnienie_krwi_spoczynek: 128.0</br>cukier_we_krwi: 0.0</br>wynik_ekg_spoczynek: 2.0</br>ilosc_uderzen_serca: 150.0</br>bol_klatka_wysilek: 0.0</br>max_obnizka_st: 0.4</br>przebieg_st_szczyt: 2.0</br>zwapnienia_miazdzycowe: 1.0</br>proba_ta: 7.0</br>_original_yhat_: 0.42</br>"
          ],
          [
           "</br>id: 30</br>prediction: 0.44</br>cholesterol_we_krwi: 128.81</br></br>wiek: 57.0</br>plec: 1.0</br>typ_bolu_klatka: 3.0</br>cisnienie_krwi_spoczynek: 128.0</br>cukier_we_krwi: 0.0</br>wynik_ekg_spoczynek: 2.0</br>ilosc_uderzen_serca: 150.0</br>bol_klatka_wysilek: 0.0</br>max_obnizka_st: 0.4</br>przebieg_st_szczyt: 2.0</br>zwapnienia_miazdzycowe: 1.0</br>proba_ta: 7.0</br>_original_yhat_: 0.42</br>"
          ],
          [
           "</br>id: 30</br>prediction: 0.44</br>cholesterol_we_krwi: 131.62</br></br>wiek: 57.0</br>plec: 1.0</br>typ_bolu_klatka: 3.0</br>cisnienie_krwi_spoczynek: 128.0</br>cukier_we_krwi: 0.0</br>wynik_ekg_spoczynek: 2.0</br>ilosc_uderzen_serca: 150.0</br>bol_klatka_wysilek: 0.0</br>max_obnizka_st: 0.4</br>przebieg_st_szczyt: 2.0</br>zwapnienia_miazdzycowe: 1.0</br>proba_ta: 7.0</br>_original_yhat_: 0.42</br>"
          ],
          [
           "</br>id: 30</br>prediction: 0.44</br>cholesterol_we_krwi: 134.43</br></br>wiek: 57.0</br>plec: 1.0</br>typ_bolu_klatka: 3.0</br>cisnienie_krwi_spoczynek: 128.0</br>cukier_we_krwi: 0.0</br>wynik_ekg_spoczynek: 2.0</br>ilosc_uderzen_serca: 150.0</br>bol_klatka_wysilek: 0.0</br>max_obnizka_st: 0.4</br>przebieg_st_szczyt: 2.0</br>zwapnienia_miazdzycowe: 1.0</br>proba_ta: 7.0</br>_original_yhat_: 0.42</br>"
          ],
          [
           "</br>id: 30</br>prediction: 0.44</br>cholesterol_we_krwi: 137.24</br></br>wiek: 57.0</br>plec: 1.0</br>typ_bolu_klatka: 3.0</br>cisnienie_krwi_spoczynek: 128.0</br>cukier_we_krwi: 0.0</br>wynik_ekg_spoczynek: 2.0</br>ilosc_uderzen_serca: 150.0</br>bol_klatka_wysilek: 0.0</br>max_obnizka_st: 0.4</br>przebieg_st_szczyt: 2.0</br>zwapnienia_miazdzycowe: 1.0</br>proba_ta: 7.0</br>_original_yhat_: 0.42</br>"
          ],
          [
           "</br>id: 30</br>prediction: 0.44</br>cholesterol_we_krwi: 140.05</br></br>wiek: 57.0</br>plec: 1.0</br>typ_bolu_klatka: 3.0</br>cisnienie_krwi_spoczynek: 128.0</br>cukier_we_krwi: 0.0</br>wynik_ekg_spoczynek: 2.0</br>ilosc_uderzen_serca: 150.0</br>bol_klatka_wysilek: 0.0</br>max_obnizka_st: 0.4</br>przebieg_st_szczyt: 2.0</br>zwapnienia_miazdzycowe: 1.0</br>proba_ta: 7.0</br>_original_yhat_: 0.42</br>"
          ],
          [
           "</br>id: 30</br>prediction: 0.44</br>cholesterol_we_krwi: 142.86</br></br>wiek: 57.0</br>plec: 1.0</br>typ_bolu_klatka: 3.0</br>cisnienie_krwi_spoczynek: 128.0</br>cukier_we_krwi: 0.0</br>wynik_ekg_spoczynek: 2.0</br>ilosc_uderzen_serca: 150.0</br>bol_klatka_wysilek: 0.0</br>max_obnizka_st: 0.4</br>przebieg_st_szczyt: 2.0</br>zwapnienia_miazdzycowe: 1.0</br>proba_ta: 7.0</br>_original_yhat_: 0.42</br>"
          ],
          [
           "</br>id: 30</br>prediction: 0.44</br>cholesterol_we_krwi: 145.67000000000002</br></br>wiek: 57.0</br>plec: 1.0</br>typ_bolu_klatka: 3.0</br>cisnienie_krwi_spoczynek: 128.0</br>cukier_we_krwi: 0.0</br>wynik_ekg_spoczynek: 2.0</br>ilosc_uderzen_serca: 150.0</br>bol_klatka_wysilek: 0.0</br>max_obnizka_st: 0.4</br>przebieg_st_szczyt: 2.0</br>zwapnienia_miazdzycowe: 1.0</br>proba_ta: 7.0</br>_original_yhat_: 0.42</br>"
          ],
          [
           "</br>id: 30</br>prediction: 0.44</br>cholesterol_we_krwi: 148.48</br></br>wiek: 57.0</br>plec: 1.0</br>typ_bolu_klatka: 3.0</br>cisnienie_krwi_spoczynek: 128.0</br>cukier_we_krwi: 0.0</br>wynik_ekg_spoczynek: 2.0</br>ilosc_uderzen_serca: 150.0</br>bol_klatka_wysilek: 0.0</br>max_obnizka_st: 0.4</br>przebieg_st_szczyt: 2.0</br>zwapnienia_miazdzycowe: 1.0</br>proba_ta: 7.0</br>_original_yhat_: 0.42</br>"
          ],
          [
           "</br>id: 30</br>prediction: 0.44</br>cholesterol_we_krwi: 151.29</br></br>wiek: 57.0</br>plec: 1.0</br>typ_bolu_klatka: 3.0</br>cisnienie_krwi_spoczynek: 128.0</br>cukier_we_krwi: 0.0</br>wynik_ekg_spoczynek: 2.0</br>ilosc_uderzen_serca: 150.0</br>bol_klatka_wysilek: 0.0</br>max_obnizka_st: 0.4</br>przebieg_st_szczyt: 2.0</br>zwapnienia_miazdzycowe: 1.0</br>proba_ta: 7.0</br>_original_yhat_: 0.42</br>"
          ],
          [
           "</br>id: 30</br>prediction: 0.44</br>cholesterol_we_krwi: 154.1</br></br>wiek: 57.0</br>plec: 1.0</br>typ_bolu_klatka: 3.0</br>cisnienie_krwi_spoczynek: 128.0</br>cukier_we_krwi: 0.0</br>wynik_ekg_spoczynek: 2.0</br>ilosc_uderzen_serca: 150.0</br>bol_klatka_wysilek: 0.0</br>max_obnizka_st: 0.4</br>przebieg_st_szczyt: 2.0</br>zwapnienia_miazdzycowe: 1.0</br>proba_ta: 7.0</br>_original_yhat_: 0.42</br>"
          ],
          [
           "</br>id: 30</br>prediction: 0.44</br>cholesterol_we_krwi: 156.91</br></br>wiek: 57.0</br>plec: 1.0</br>typ_bolu_klatka: 3.0</br>cisnienie_krwi_spoczynek: 128.0</br>cukier_we_krwi: 0.0</br>wynik_ekg_spoczynek: 2.0</br>ilosc_uderzen_serca: 150.0</br>bol_klatka_wysilek: 0.0</br>max_obnizka_st: 0.4</br>przebieg_st_szczyt: 2.0</br>zwapnienia_miazdzycowe: 1.0</br>proba_ta: 7.0</br>_original_yhat_: 0.42</br>"
          ],
          [
           "</br>id: 30</br>prediction: 0.44</br>cholesterol_we_krwi: 159.72</br></br>wiek: 57.0</br>plec: 1.0</br>typ_bolu_klatka: 3.0</br>cisnienie_krwi_spoczynek: 128.0</br>cukier_we_krwi: 0.0</br>wynik_ekg_spoczynek: 2.0</br>ilosc_uderzen_serca: 150.0</br>bol_klatka_wysilek: 0.0</br>max_obnizka_st: 0.4</br>przebieg_st_szczyt: 2.0</br>zwapnienia_miazdzycowe: 1.0</br>proba_ta: 7.0</br>_original_yhat_: 0.42</br>"
          ],
          [
           "</br>id: 30</br>prediction: 0.44</br>cholesterol_we_krwi: 162.53</br></br>wiek: 57.0</br>plec: 1.0</br>typ_bolu_klatka: 3.0</br>cisnienie_krwi_spoczynek: 128.0</br>cukier_we_krwi: 0.0</br>wynik_ekg_spoczynek: 2.0</br>ilosc_uderzen_serca: 150.0</br>bol_klatka_wysilek: 0.0</br>max_obnizka_st: 0.4</br>przebieg_st_szczyt: 2.0</br>zwapnienia_miazdzycowe: 1.0</br>proba_ta: 7.0</br>_original_yhat_: 0.42</br>"
          ],
          [
           "</br>id: 30</br>prediction: 0.44</br>cholesterol_we_krwi: 165.34</br></br>wiek: 57.0</br>plec: 1.0</br>typ_bolu_klatka: 3.0</br>cisnienie_krwi_spoczynek: 128.0</br>cukier_we_krwi: 0.0</br>wynik_ekg_spoczynek: 2.0</br>ilosc_uderzen_serca: 150.0</br>bol_klatka_wysilek: 0.0</br>max_obnizka_st: 0.4</br>przebieg_st_szczyt: 2.0</br>zwapnienia_miazdzycowe: 1.0</br>proba_ta: 7.0</br>_original_yhat_: 0.42</br>"
          ],
          [
           "</br>id: 30</br>prediction: 0.44</br>cholesterol_we_krwi: 168.15</br></br>wiek: 57.0</br>plec: 1.0</br>typ_bolu_klatka: 3.0</br>cisnienie_krwi_spoczynek: 128.0</br>cukier_we_krwi: 0.0</br>wynik_ekg_spoczynek: 2.0</br>ilosc_uderzen_serca: 150.0</br>bol_klatka_wysilek: 0.0</br>max_obnizka_st: 0.4</br>przebieg_st_szczyt: 2.0</br>zwapnienia_miazdzycowe: 1.0</br>proba_ta: 7.0</br>_original_yhat_: 0.42</br>"
          ],
          [
           "</br>id: 30</br>prediction: 0.44</br>cholesterol_we_krwi: 170.96</br></br>wiek: 57.0</br>plec: 1.0</br>typ_bolu_klatka: 3.0</br>cisnienie_krwi_spoczynek: 128.0</br>cukier_we_krwi: 0.0</br>wynik_ekg_spoczynek: 2.0</br>ilosc_uderzen_serca: 150.0</br>bol_klatka_wysilek: 0.0</br>max_obnizka_st: 0.4</br>przebieg_st_szczyt: 2.0</br>zwapnienia_miazdzycowe: 1.0</br>proba_ta: 7.0</br>_original_yhat_: 0.42</br>"
          ],
          [
           "</br>id: 30</br>prediction: 0.44</br>cholesterol_we_krwi: 173.77</br></br>wiek: 57.0</br>plec: 1.0</br>typ_bolu_klatka: 3.0</br>cisnienie_krwi_spoczynek: 128.0</br>cukier_we_krwi: 0.0</br>wynik_ekg_spoczynek: 2.0</br>ilosc_uderzen_serca: 150.0</br>bol_klatka_wysilek: 0.0</br>max_obnizka_st: 0.4</br>przebieg_st_szczyt: 2.0</br>zwapnienia_miazdzycowe: 1.0</br>proba_ta: 7.0</br>_original_yhat_: 0.42</br>"
          ],
          [
           "</br>id: 30</br>prediction: 0.44</br>cholesterol_we_krwi: 176.57999999999998</br></br>wiek: 57.0</br>plec: 1.0</br>typ_bolu_klatka: 3.0</br>cisnienie_krwi_spoczynek: 128.0</br>cukier_we_krwi: 0.0</br>wynik_ekg_spoczynek: 2.0</br>ilosc_uderzen_serca: 150.0</br>bol_klatka_wysilek: 0.0</br>max_obnizka_st: 0.4</br>przebieg_st_szczyt: 2.0</br>zwapnienia_miazdzycowe: 1.0</br>proba_ta: 7.0</br>_original_yhat_: 0.42</br>"
          ],
          [
           "</br>id: 30</br>prediction: 0.44</br>cholesterol_we_krwi: 179.39</br></br>wiek: 57.0</br>plec: 1.0</br>typ_bolu_klatka: 3.0</br>cisnienie_krwi_spoczynek: 128.0</br>cukier_we_krwi: 0.0</br>wynik_ekg_spoczynek: 2.0</br>ilosc_uderzen_serca: 150.0</br>bol_klatka_wysilek: 0.0</br>max_obnizka_st: 0.4</br>przebieg_st_szczyt: 2.0</br>zwapnienia_miazdzycowe: 1.0</br>proba_ta: 7.0</br>_original_yhat_: 0.42</br>"
          ],
          [
           "</br>id: 30</br>prediction: 0.44</br>cholesterol_we_krwi: 182.2</br></br>wiek: 57.0</br>plec: 1.0</br>typ_bolu_klatka: 3.0</br>cisnienie_krwi_spoczynek: 128.0</br>cukier_we_krwi: 0.0</br>wynik_ekg_spoczynek: 2.0</br>ilosc_uderzen_serca: 150.0</br>bol_klatka_wysilek: 0.0</br>max_obnizka_st: 0.4</br>przebieg_st_szczyt: 2.0</br>zwapnienia_miazdzycowe: 1.0</br>proba_ta: 7.0</br>_original_yhat_: 0.42</br>"
          ],
          [
           "</br>id: 30</br>prediction: 0.44</br>cholesterol_we_krwi: 185.01</br></br>wiek: 57.0</br>plec: 1.0</br>typ_bolu_klatka: 3.0</br>cisnienie_krwi_spoczynek: 128.0</br>cukier_we_krwi: 0.0</br>wynik_ekg_spoczynek: 2.0</br>ilosc_uderzen_serca: 150.0</br>bol_klatka_wysilek: 0.0</br>max_obnizka_st: 0.4</br>przebieg_st_szczyt: 2.0</br>zwapnienia_miazdzycowe: 1.0</br>proba_ta: 7.0</br>_original_yhat_: 0.42</br>"
          ],
          [
           "</br>id: 30</br>prediction: 0.44</br>cholesterol_we_krwi: 187.82</br></br>wiek: 57.0</br>plec: 1.0</br>typ_bolu_klatka: 3.0</br>cisnienie_krwi_spoczynek: 128.0</br>cukier_we_krwi: 0.0</br>wynik_ekg_spoczynek: 2.0</br>ilosc_uderzen_serca: 150.0</br>bol_klatka_wysilek: 0.0</br>max_obnizka_st: 0.4</br>przebieg_st_szczyt: 2.0</br>zwapnienia_miazdzycowe: 1.0</br>proba_ta: 7.0</br>_original_yhat_: 0.42</br>"
          ],
          [
           "</br>id: 30</br>prediction: 0.44</br>cholesterol_we_krwi: 190.63</br></br>wiek: 57.0</br>plec: 1.0</br>typ_bolu_klatka: 3.0</br>cisnienie_krwi_spoczynek: 128.0</br>cukier_we_krwi: 0.0</br>wynik_ekg_spoczynek: 2.0</br>ilosc_uderzen_serca: 150.0</br>bol_klatka_wysilek: 0.0</br>max_obnizka_st: 0.4</br>przebieg_st_szczyt: 2.0</br>zwapnienia_miazdzycowe: 1.0</br>proba_ta: 7.0</br>_original_yhat_: 0.42</br>"
          ],
          [
           "</br>id: 30</br>prediction: 0.42</br>cholesterol_we_krwi: 193.44</br></br>wiek: 57.0</br>plec: 1.0</br>typ_bolu_klatka: 3.0</br>cisnienie_krwi_spoczynek: 128.0</br>cukier_we_krwi: 0.0</br>wynik_ekg_spoczynek: 2.0</br>ilosc_uderzen_serca: 150.0</br>bol_klatka_wysilek: 0.0</br>max_obnizka_st: 0.4</br>przebieg_st_szczyt: 2.0</br>zwapnienia_miazdzycowe: 1.0</br>proba_ta: 7.0</br>_original_yhat_: 0.42</br>"
          ],
          [
           "</br>id: 30</br>prediction: 0.42</br>cholesterol_we_krwi: 196.25</br></br>wiek: 57.0</br>plec: 1.0</br>typ_bolu_klatka: 3.0</br>cisnienie_krwi_spoczynek: 128.0</br>cukier_we_krwi: 0.0</br>wynik_ekg_spoczynek: 2.0</br>ilosc_uderzen_serca: 150.0</br>bol_klatka_wysilek: 0.0</br>max_obnizka_st: 0.4</br>przebieg_st_szczyt: 2.0</br>zwapnienia_miazdzycowe: 1.0</br>proba_ta: 7.0</br>_original_yhat_: 0.42</br>"
          ],
          [
           "</br>id: 30</br>prediction: 0.42</br>cholesterol_we_krwi: 199.06</br></br>wiek: 57.0</br>plec: 1.0</br>typ_bolu_klatka: 3.0</br>cisnienie_krwi_spoczynek: 128.0</br>cukier_we_krwi: 0.0</br>wynik_ekg_spoczynek: 2.0</br>ilosc_uderzen_serca: 150.0</br>bol_klatka_wysilek: 0.0</br>max_obnizka_st: 0.4</br>przebieg_st_szczyt: 2.0</br>zwapnienia_miazdzycowe: 1.0</br>proba_ta: 7.0</br>_original_yhat_: 0.42</br>"
          ],
          [
           "</br>id: 30</br>prediction: 0.42</br>cholesterol_we_krwi: 201.87</br></br>wiek: 57.0</br>plec: 1.0</br>typ_bolu_klatka: 3.0</br>cisnienie_krwi_spoczynek: 128.0</br>cukier_we_krwi: 0.0</br>wynik_ekg_spoczynek: 2.0</br>ilosc_uderzen_serca: 150.0</br>bol_klatka_wysilek: 0.0</br>max_obnizka_st: 0.4</br>przebieg_st_szczyt: 2.0</br>zwapnienia_miazdzycowe: 1.0</br>proba_ta: 7.0</br>_original_yhat_: 0.42</br>"
          ],
          [
           "</br>id: 30</br>prediction: 0.43</br>cholesterol_we_krwi: 204.68</br></br>wiek: 57.0</br>plec: 1.0</br>typ_bolu_klatka: 3.0</br>cisnienie_krwi_spoczynek: 128.0</br>cukier_we_krwi: 0.0</br>wynik_ekg_spoczynek: 2.0</br>ilosc_uderzen_serca: 150.0</br>bol_klatka_wysilek: 0.0</br>max_obnizka_st: 0.4</br>przebieg_st_szczyt: 2.0</br>zwapnienia_miazdzycowe: 1.0</br>proba_ta: 7.0</br>_original_yhat_: 0.42</br>"
          ],
          [
           "</br>id: 30</br>prediction: 0.43</br>cholesterol_we_krwi: 207.49</br></br>wiek: 57.0</br>plec: 1.0</br>typ_bolu_klatka: 3.0</br>cisnienie_krwi_spoczynek: 128.0</br>cukier_we_krwi: 0.0</br>wynik_ekg_spoczynek: 2.0</br>ilosc_uderzen_serca: 150.0</br>bol_klatka_wysilek: 0.0</br>max_obnizka_st: 0.4</br>przebieg_st_szczyt: 2.0</br>zwapnienia_miazdzycowe: 1.0</br>proba_ta: 7.0</br>_original_yhat_: 0.42</br>"
          ],
          [
           "</br>id: 30</br>prediction: 0.42</br>cholesterol_we_krwi: 210.3</br></br>wiek: 57.0</br>plec: 1.0</br>typ_bolu_klatka: 3.0</br>cisnienie_krwi_spoczynek: 128.0</br>cukier_we_krwi: 0.0</br>wynik_ekg_spoczynek: 2.0</br>ilosc_uderzen_serca: 150.0</br>bol_klatka_wysilek: 0.0</br>max_obnizka_st: 0.4</br>przebieg_st_szczyt: 2.0</br>zwapnienia_miazdzycowe: 1.0</br>proba_ta: 7.0</br>_original_yhat_: 0.42</br>"
          ],
          [
           "</br>id: 30</br>prediction: 0.42</br>cholesterol_we_krwi: 213.11</br></br>wiek: 57.0</br>plec: 1.0</br>typ_bolu_klatka: 3.0</br>cisnienie_krwi_spoczynek: 128.0</br>cukier_we_krwi: 0.0</br>wynik_ekg_spoczynek: 2.0</br>ilosc_uderzen_serca: 150.0</br>bol_klatka_wysilek: 0.0</br>max_obnizka_st: 0.4</br>przebieg_st_szczyt: 2.0</br>zwapnienia_miazdzycowe: 1.0</br>proba_ta: 7.0</br>_original_yhat_: 0.42</br>"
          ],
          [
           "</br>id: 30</br>prediction: 0.42</br>cholesterol_we_krwi: 215.92000000000002</br></br>wiek: 57.0</br>plec: 1.0</br>typ_bolu_klatka: 3.0</br>cisnienie_krwi_spoczynek: 128.0</br>cukier_we_krwi: 0.0</br>wynik_ekg_spoczynek: 2.0</br>ilosc_uderzen_serca: 150.0</br>bol_klatka_wysilek: 0.0</br>max_obnizka_st: 0.4</br>przebieg_st_szczyt: 2.0</br>zwapnienia_miazdzycowe: 1.0</br>proba_ta: 7.0</br>_original_yhat_: 0.42</br>"
          ],
          [
           "</br>id: 30</br>prediction: 0.42</br>cholesterol_we_krwi: 218.73000000000002</br></br>wiek: 57.0</br>plec: 1.0</br>typ_bolu_klatka: 3.0</br>cisnienie_krwi_spoczynek: 128.0</br>cukier_we_krwi: 0.0</br>wynik_ekg_spoczynek: 2.0</br>ilosc_uderzen_serca: 150.0</br>bol_klatka_wysilek: 0.0</br>max_obnizka_st: 0.4</br>przebieg_st_szczyt: 2.0</br>zwapnienia_miazdzycowe: 1.0</br>proba_ta: 7.0</br>_original_yhat_: 0.42</br>"
          ],
          [
           "</br>id: 30</br>prediction: 0.42</br>cholesterol_we_krwi: 221.54000000000002</br></br>wiek: 57.0</br>plec: 1.0</br>typ_bolu_klatka: 3.0</br>cisnienie_krwi_spoczynek: 128.0</br>cukier_we_krwi: 0.0</br>wynik_ekg_spoczynek: 2.0</br>ilosc_uderzen_serca: 150.0</br>bol_klatka_wysilek: 0.0</br>max_obnizka_st: 0.4</br>przebieg_st_szczyt: 2.0</br>zwapnienia_miazdzycowe: 1.0</br>proba_ta: 7.0</br>_original_yhat_: 0.42</br>"
          ],
          [
           "</br>id: 30</br>prediction: 0.42</br>cholesterol_we_krwi: 224.35000000000002</br></br>wiek: 57.0</br>plec: 1.0</br>typ_bolu_klatka: 3.0</br>cisnienie_krwi_spoczynek: 128.0</br>cukier_we_krwi: 0.0</br>wynik_ekg_spoczynek: 2.0</br>ilosc_uderzen_serca: 150.0</br>bol_klatka_wysilek: 0.0</br>max_obnizka_st: 0.4</br>przebieg_st_szczyt: 2.0</br>zwapnienia_miazdzycowe: 1.0</br>proba_ta: 7.0</br>_original_yhat_: 0.42</br>"
          ],
          [
           "</br>id: 30</br>prediction: 0.42</br>cholesterol_we_krwi: 227.16</br></br>wiek: 57.0</br>plec: 1.0</br>typ_bolu_klatka: 3.0</br>cisnienie_krwi_spoczynek: 128.0</br>cukier_we_krwi: 0.0</br>wynik_ekg_spoczynek: 2.0</br>ilosc_uderzen_serca: 150.0</br>bol_klatka_wysilek: 0.0</br>max_obnizka_st: 0.4</br>przebieg_st_szczyt: 2.0</br>zwapnienia_miazdzycowe: 1.0</br>proba_ta: 7.0</br>_original_yhat_: 0.42</br>"
          ],
          [
           "</br>id: 30</br>prediction: 0.42</br>cholesterol_we_krwi: 229.0</br></br>wiek: 57.0</br>plec: 1.0</br>typ_bolu_klatka: 3.0</br>cisnienie_krwi_spoczynek: 128.0</br>cukier_we_krwi: 0.0</br>wynik_ekg_spoczynek: 2.0</br>ilosc_uderzen_serca: 150.0</br>bol_klatka_wysilek: 0.0</br>max_obnizka_st: 0.4</br>przebieg_st_szczyt: 2.0</br>zwapnienia_miazdzycowe: 1.0</br>proba_ta: 7.0</br>_original_yhat_: 0.42</br>"
          ],
          [
           "</br>id: 30</br>prediction: 0.42</br>cholesterol_we_krwi: 229.97</br></br>wiek: 57.0</br>plec: 1.0</br>typ_bolu_klatka: 3.0</br>cisnienie_krwi_spoczynek: 128.0</br>cukier_we_krwi: 0.0</br>wynik_ekg_spoczynek: 2.0</br>ilosc_uderzen_serca: 150.0</br>bol_klatka_wysilek: 0.0</br>max_obnizka_st: 0.4</br>przebieg_st_szczyt: 2.0</br>zwapnienia_miazdzycowe: 1.0</br>proba_ta: 7.0</br>_original_yhat_: 0.42</br>"
          ],
          [
           "</br>id: 30</br>prediction: 0.41</br>cholesterol_we_krwi: 232.78</br></br>wiek: 57.0</br>plec: 1.0</br>typ_bolu_klatka: 3.0</br>cisnienie_krwi_spoczynek: 128.0</br>cukier_we_krwi: 0.0</br>wynik_ekg_spoczynek: 2.0</br>ilosc_uderzen_serca: 150.0</br>bol_klatka_wysilek: 0.0</br>max_obnizka_st: 0.4</br>przebieg_st_szczyt: 2.0</br>zwapnienia_miazdzycowe: 1.0</br>proba_ta: 7.0</br>_original_yhat_: 0.42</br>"
          ],
          [
           "</br>id: 30</br>prediction: 0.41</br>cholesterol_we_krwi: 235.59</br></br>wiek: 57.0</br>plec: 1.0</br>typ_bolu_klatka: 3.0</br>cisnienie_krwi_spoczynek: 128.0</br>cukier_we_krwi: 0.0</br>wynik_ekg_spoczynek: 2.0</br>ilosc_uderzen_serca: 150.0</br>bol_klatka_wysilek: 0.0</br>max_obnizka_st: 0.4</br>przebieg_st_szczyt: 2.0</br>zwapnienia_miazdzycowe: 1.0</br>proba_ta: 7.0</br>_original_yhat_: 0.42</br>"
          ],
          [
           "</br>id: 30</br>prediction: 0.41</br>cholesterol_we_krwi: 238.4</br></br>wiek: 57.0</br>plec: 1.0</br>typ_bolu_klatka: 3.0</br>cisnienie_krwi_spoczynek: 128.0</br>cukier_we_krwi: 0.0</br>wynik_ekg_spoczynek: 2.0</br>ilosc_uderzen_serca: 150.0</br>bol_klatka_wysilek: 0.0</br>max_obnizka_st: 0.4</br>przebieg_st_szczyt: 2.0</br>zwapnienia_miazdzycowe: 1.0</br>proba_ta: 7.0</br>_original_yhat_: 0.42</br>"
          ],
          [
           "</br>id: 30</br>prediction: 0.42</br>cholesterol_we_krwi: 241.21</br></br>wiek: 57.0</br>plec: 1.0</br>typ_bolu_klatka: 3.0</br>cisnienie_krwi_spoczynek: 128.0</br>cukier_we_krwi: 0.0</br>wynik_ekg_spoczynek: 2.0</br>ilosc_uderzen_serca: 150.0</br>bol_klatka_wysilek: 0.0</br>max_obnizka_st: 0.4</br>przebieg_st_szczyt: 2.0</br>zwapnienia_miazdzycowe: 1.0</br>proba_ta: 7.0</br>_original_yhat_: 0.42</br>"
          ],
          [
           "</br>id: 30</br>prediction: 0.43</br>cholesterol_we_krwi: 244.01999999999998</br></br>wiek: 57.0</br>plec: 1.0</br>typ_bolu_klatka: 3.0</br>cisnienie_krwi_spoczynek: 128.0</br>cukier_we_krwi: 0.0</br>wynik_ekg_spoczynek: 2.0</br>ilosc_uderzen_serca: 150.0</br>bol_klatka_wysilek: 0.0</br>max_obnizka_st: 0.4</br>przebieg_st_szczyt: 2.0</br>zwapnienia_miazdzycowe: 1.0</br>proba_ta: 7.0</br>_original_yhat_: 0.42</br>"
          ],
          [
           "</br>id: 30</br>prediction: 0.43</br>cholesterol_we_krwi: 246.82999999999998</br></br>wiek: 57.0</br>plec: 1.0</br>typ_bolu_klatka: 3.0</br>cisnienie_krwi_spoczynek: 128.0</br>cukier_we_krwi: 0.0</br>wynik_ekg_spoczynek: 2.0</br>ilosc_uderzen_serca: 150.0</br>bol_klatka_wysilek: 0.0</br>max_obnizka_st: 0.4</br>przebieg_st_szczyt: 2.0</br>zwapnienia_miazdzycowe: 1.0</br>proba_ta: 7.0</br>_original_yhat_: 0.42</br>"
          ],
          [
           "</br>id: 30</br>prediction: 0.44</br>cholesterol_we_krwi: 249.64</br></br>wiek: 57.0</br>plec: 1.0</br>typ_bolu_klatka: 3.0</br>cisnienie_krwi_spoczynek: 128.0</br>cukier_we_krwi: 0.0</br>wynik_ekg_spoczynek: 2.0</br>ilosc_uderzen_serca: 150.0</br>bol_klatka_wysilek: 0.0</br>max_obnizka_st: 0.4</br>przebieg_st_szczyt: 2.0</br>zwapnienia_miazdzycowe: 1.0</br>proba_ta: 7.0</br>_original_yhat_: 0.42</br>"
          ],
          [
           "</br>id: 30</br>prediction: 0.44</br>cholesterol_we_krwi: 252.45</br></br>wiek: 57.0</br>plec: 1.0</br>typ_bolu_klatka: 3.0</br>cisnienie_krwi_spoczynek: 128.0</br>cukier_we_krwi: 0.0</br>wynik_ekg_spoczynek: 2.0</br>ilosc_uderzen_serca: 150.0</br>bol_klatka_wysilek: 0.0</br>max_obnizka_st: 0.4</br>przebieg_st_szczyt: 2.0</br>zwapnienia_miazdzycowe: 1.0</br>proba_ta: 7.0</br>_original_yhat_: 0.42</br>"
          ],
          [
           "</br>id: 30</br>prediction: 0.44</br>cholesterol_we_krwi: 255.26</br></br>wiek: 57.0</br>plec: 1.0</br>typ_bolu_klatka: 3.0</br>cisnienie_krwi_spoczynek: 128.0</br>cukier_we_krwi: 0.0</br>wynik_ekg_spoczynek: 2.0</br>ilosc_uderzen_serca: 150.0</br>bol_klatka_wysilek: 0.0</br>max_obnizka_st: 0.4</br>przebieg_st_szczyt: 2.0</br>zwapnienia_miazdzycowe: 1.0</br>proba_ta: 7.0</br>_original_yhat_: 0.42</br>"
          ],
          [
           "</br>id: 30</br>prediction: 0.43</br>cholesterol_we_krwi: 258.07</br></br>wiek: 57.0</br>plec: 1.0</br>typ_bolu_klatka: 3.0</br>cisnienie_krwi_spoczynek: 128.0</br>cukier_we_krwi: 0.0</br>wynik_ekg_spoczynek: 2.0</br>ilosc_uderzen_serca: 150.0</br>bol_klatka_wysilek: 0.0</br>max_obnizka_st: 0.4</br>przebieg_st_szczyt: 2.0</br>zwapnienia_miazdzycowe: 1.0</br>proba_ta: 7.0</br>_original_yhat_: 0.42</br>"
          ],
          [
           "</br>id: 30</br>prediction: 0.43</br>cholesterol_we_krwi: 260.88</br></br>wiek: 57.0</br>plec: 1.0</br>typ_bolu_klatka: 3.0</br>cisnienie_krwi_spoczynek: 128.0</br>cukier_we_krwi: 0.0</br>wynik_ekg_spoczynek: 2.0</br>ilosc_uderzen_serca: 150.0</br>bol_klatka_wysilek: 0.0</br>max_obnizka_st: 0.4</br>przebieg_st_szczyt: 2.0</br>zwapnienia_miazdzycowe: 1.0</br>proba_ta: 7.0</br>_original_yhat_: 0.42</br>"
          ],
          [
           "</br>id: 30</br>prediction: 0.43</br>cholesterol_we_krwi: 263.69</br></br>wiek: 57.0</br>plec: 1.0</br>typ_bolu_klatka: 3.0</br>cisnienie_krwi_spoczynek: 128.0</br>cukier_we_krwi: 0.0</br>wynik_ekg_spoczynek: 2.0</br>ilosc_uderzen_serca: 150.0</br>bol_klatka_wysilek: 0.0</br>max_obnizka_st: 0.4</br>przebieg_st_szczyt: 2.0</br>zwapnienia_miazdzycowe: 1.0</br>proba_ta: 7.0</br>_original_yhat_: 0.42</br>"
          ],
          [
           "</br>id: 30</br>prediction: 0.46</br>cholesterol_we_krwi: 266.5</br></br>wiek: 57.0</br>plec: 1.0</br>typ_bolu_klatka: 3.0</br>cisnienie_krwi_spoczynek: 128.0</br>cukier_we_krwi: 0.0</br>wynik_ekg_spoczynek: 2.0</br>ilosc_uderzen_serca: 150.0</br>bol_klatka_wysilek: 0.0</br>max_obnizka_st: 0.4</br>przebieg_st_szczyt: 2.0</br>zwapnienia_miazdzycowe: 1.0</br>proba_ta: 7.0</br>_original_yhat_: 0.42</br>"
          ],
          [
           "</br>id: 30</br>prediction: 0.46</br>cholesterol_we_krwi: 269.31</br></br>wiek: 57.0</br>plec: 1.0</br>typ_bolu_klatka: 3.0</br>cisnienie_krwi_spoczynek: 128.0</br>cukier_we_krwi: 0.0</br>wynik_ekg_spoczynek: 2.0</br>ilosc_uderzen_serca: 150.0</br>bol_klatka_wysilek: 0.0</br>max_obnizka_st: 0.4</br>przebieg_st_szczyt: 2.0</br>zwapnienia_miazdzycowe: 1.0</br>proba_ta: 7.0</br>_original_yhat_: 0.42</br>"
          ],
          [
           "</br>id: 30</br>prediction: 0.48</br>cholesterol_we_krwi: 272.12</br></br>wiek: 57.0</br>plec: 1.0</br>typ_bolu_klatka: 3.0</br>cisnienie_krwi_spoczynek: 128.0</br>cukier_we_krwi: 0.0</br>wynik_ekg_spoczynek: 2.0</br>ilosc_uderzen_serca: 150.0</br>bol_klatka_wysilek: 0.0</br>max_obnizka_st: 0.4</br>przebieg_st_szczyt: 2.0</br>zwapnienia_miazdzycowe: 1.0</br>proba_ta: 7.0</br>_original_yhat_: 0.42</br>"
          ],
          [
           "</br>id: 30</br>prediction: 0.51</br>cholesterol_we_krwi: 274.93</br></br>wiek: 57.0</br>plec: 1.0</br>typ_bolu_klatka: 3.0</br>cisnienie_krwi_spoczynek: 128.0</br>cukier_we_krwi: 0.0</br>wynik_ekg_spoczynek: 2.0</br>ilosc_uderzen_serca: 150.0</br>bol_klatka_wysilek: 0.0</br>max_obnizka_st: 0.4</br>przebieg_st_szczyt: 2.0</br>zwapnienia_miazdzycowe: 1.0</br>proba_ta: 7.0</br>_original_yhat_: 0.42</br>"
          ],
          [
           "</br>id: 30</br>prediction: 0.52</br>cholesterol_we_krwi: 277.74</br></br>wiek: 57.0</br>plec: 1.0</br>typ_bolu_klatka: 3.0</br>cisnienie_krwi_spoczynek: 128.0</br>cukier_we_krwi: 0.0</br>wynik_ekg_spoczynek: 2.0</br>ilosc_uderzen_serca: 150.0</br>bol_klatka_wysilek: 0.0</br>max_obnizka_st: 0.4</br>przebieg_st_szczyt: 2.0</br>zwapnienia_miazdzycowe: 1.0</br>proba_ta: 7.0</br>_original_yhat_: 0.42</br>"
          ],
          [
           "</br>id: 30</br>prediction: 0.52</br>cholesterol_we_krwi: 280.55</br></br>wiek: 57.0</br>plec: 1.0</br>typ_bolu_klatka: 3.0</br>cisnienie_krwi_spoczynek: 128.0</br>cukier_we_krwi: 0.0</br>wynik_ekg_spoczynek: 2.0</br>ilosc_uderzen_serca: 150.0</br>bol_klatka_wysilek: 0.0</br>max_obnizka_st: 0.4</br>przebieg_st_szczyt: 2.0</br>zwapnienia_miazdzycowe: 1.0</br>proba_ta: 7.0</br>_original_yhat_: 0.42</br>"
          ],
          [
           "</br>id: 30</br>prediction: 0.53</br>cholesterol_we_krwi: 283.36</br></br>wiek: 57.0</br>plec: 1.0</br>typ_bolu_klatka: 3.0</br>cisnienie_krwi_spoczynek: 128.0</br>cukier_we_krwi: 0.0</br>wynik_ekg_spoczynek: 2.0</br>ilosc_uderzen_serca: 150.0</br>bol_klatka_wysilek: 0.0</br>max_obnizka_st: 0.4</br>przebieg_st_szczyt: 2.0</br>zwapnienia_miazdzycowe: 1.0</br>proba_ta: 7.0</br>_original_yhat_: 0.42</br>"
          ],
          [
           "</br>id: 30</br>prediction: 0.54</br>cholesterol_we_krwi: 286.17</br></br>wiek: 57.0</br>plec: 1.0</br>typ_bolu_klatka: 3.0</br>cisnienie_krwi_spoczynek: 128.0</br>cukier_we_krwi: 0.0</br>wynik_ekg_spoczynek: 2.0</br>ilosc_uderzen_serca: 150.0</br>bol_klatka_wysilek: 0.0</br>max_obnizka_st: 0.4</br>przebieg_st_szczyt: 2.0</br>zwapnienia_miazdzycowe: 1.0</br>proba_ta: 7.0</br>_original_yhat_: 0.42</br>"
          ],
          [
           "</br>id: 30</br>prediction: 0.54</br>cholesterol_we_krwi: 288.98</br></br>wiek: 57.0</br>plec: 1.0</br>typ_bolu_klatka: 3.0</br>cisnienie_krwi_spoczynek: 128.0</br>cukier_we_krwi: 0.0</br>wynik_ekg_spoczynek: 2.0</br>ilosc_uderzen_serca: 150.0</br>bol_klatka_wysilek: 0.0</br>max_obnizka_st: 0.4</br>przebieg_st_szczyt: 2.0</br>zwapnienia_miazdzycowe: 1.0</br>proba_ta: 7.0</br>_original_yhat_: 0.42</br>"
          ],
          [
           "</br>id: 30</br>prediction: 0.54</br>cholesterol_we_krwi: 291.78999999999996</br></br>wiek: 57.0</br>plec: 1.0</br>typ_bolu_klatka: 3.0</br>cisnienie_krwi_spoczynek: 128.0</br>cukier_we_krwi: 0.0</br>wynik_ekg_spoczynek: 2.0</br>ilosc_uderzen_serca: 150.0</br>bol_klatka_wysilek: 0.0</br>max_obnizka_st: 0.4</br>przebieg_st_szczyt: 2.0</br>zwapnienia_miazdzycowe: 1.0</br>proba_ta: 7.0</br>_original_yhat_: 0.42</br>"
          ],
          [
           "</br>id: 30</br>prediction: 0.52</br>cholesterol_we_krwi: 294.6</br></br>wiek: 57.0</br>plec: 1.0</br>typ_bolu_klatka: 3.0</br>cisnienie_krwi_spoczynek: 128.0</br>cukier_we_krwi: 0.0</br>wynik_ekg_spoczynek: 2.0</br>ilosc_uderzen_serca: 150.0</br>bol_klatka_wysilek: 0.0</br>max_obnizka_st: 0.4</br>przebieg_st_szczyt: 2.0</br>zwapnienia_miazdzycowe: 1.0</br>proba_ta: 7.0</br>_original_yhat_: 0.42</br>"
          ],
          [
           "</br>id: 30</br>prediction: 0.52</br>cholesterol_we_krwi: 297.40999999999997</br></br>wiek: 57.0</br>plec: 1.0</br>typ_bolu_klatka: 3.0</br>cisnienie_krwi_spoczynek: 128.0</br>cukier_we_krwi: 0.0</br>wynik_ekg_spoczynek: 2.0</br>ilosc_uderzen_serca: 150.0</br>bol_klatka_wysilek: 0.0</br>max_obnizka_st: 0.4</br>przebieg_st_szczyt: 2.0</br>zwapnienia_miazdzycowe: 1.0</br>proba_ta: 7.0</br>_original_yhat_: 0.42</br>"
          ],
          [
           "</br>id: 30</br>prediction: 0.52</br>cholesterol_we_krwi: 300.22</br></br>wiek: 57.0</br>plec: 1.0</br>typ_bolu_klatka: 3.0</br>cisnienie_krwi_spoczynek: 128.0</br>cukier_we_krwi: 0.0</br>wynik_ekg_spoczynek: 2.0</br>ilosc_uderzen_serca: 150.0</br>bol_klatka_wysilek: 0.0</br>max_obnizka_st: 0.4</br>przebieg_st_szczyt: 2.0</br>zwapnienia_miazdzycowe: 1.0</br>proba_ta: 7.0</br>_original_yhat_: 0.42</br>"
          ],
          [
           "</br>id: 30</br>prediction: 0.52</br>cholesterol_we_krwi: 303.03</br></br>wiek: 57.0</br>plec: 1.0</br>typ_bolu_klatka: 3.0</br>cisnienie_krwi_spoczynek: 128.0</br>cukier_we_krwi: 0.0</br>wynik_ekg_spoczynek: 2.0</br>ilosc_uderzen_serca: 150.0</br>bol_klatka_wysilek: 0.0</br>max_obnizka_st: 0.4</br>przebieg_st_szczyt: 2.0</br>zwapnienia_miazdzycowe: 1.0</br>proba_ta: 7.0</br>_original_yhat_: 0.42</br>"
          ],
          [
           "</br>id: 30</br>prediction: 0.51</br>cholesterol_we_krwi: 305.84000000000003</br></br>wiek: 57.0</br>plec: 1.0</br>typ_bolu_klatka: 3.0</br>cisnienie_krwi_spoczynek: 128.0</br>cukier_we_krwi: 0.0</br>wynik_ekg_spoczynek: 2.0</br>ilosc_uderzen_serca: 150.0</br>bol_klatka_wysilek: 0.0</br>max_obnizka_st: 0.4</br>przebieg_st_szczyt: 2.0</br>zwapnienia_miazdzycowe: 1.0</br>proba_ta: 7.0</br>_original_yhat_: 0.42</br>"
          ],
          [
           "</br>id: 30</br>prediction: 0.5</br>cholesterol_we_krwi: 308.65</br></br>wiek: 57.0</br>plec: 1.0</br>typ_bolu_klatka: 3.0</br>cisnienie_krwi_spoczynek: 128.0</br>cukier_we_krwi: 0.0</br>wynik_ekg_spoczynek: 2.0</br>ilosc_uderzen_serca: 150.0</br>bol_klatka_wysilek: 0.0</br>max_obnizka_st: 0.4</br>przebieg_st_szczyt: 2.0</br>zwapnienia_miazdzycowe: 1.0</br>proba_ta: 7.0</br>_original_yhat_: 0.42</br>"
          ],
          [
           "</br>id: 30</br>prediction: 0.5</br>cholesterol_we_krwi: 311.46000000000004</br></br>wiek: 57.0</br>plec: 1.0</br>typ_bolu_klatka: 3.0</br>cisnienie_krwi_spoczynek: 128.0</br>cukier_we_krwi: 0.0</br>wynik_ekg_spoczynek: 2.0</br>ilosc_uderzen_serca: 150.0</br>bol_klatka_wysilek: 0.0</br>max_obnizka_st: 0.4</br>przebieg_st_szczyt: 2.0</br>zwapnienia_miazdzycowe: 1.0</br>proba_ta: 7.0</br>_original_yhat_: 0.42</br>"
          ],
          [
           "</br>id: 30</br>prediction: 0.5</br>cholesterol_we_krwi: 314.27</br></br>wiek: 57.0</br>plec: 1.0</br>typ_bolu_klatka: 3.0</br>cisnienie_krwi_spoczynek: 128.0</br>cukier_we_krwi: 0.0</br>wynik_ekg_spoczynek: 2.0</br>ilosc_uderzen_serca: 150.0</br>bol_klatka_wysilek: 0.0</br>max_obnizka_st: 0.4</br>przebieg_st_szczyt: 2.0</br>zwapnienia_miazdzycowe: 1.0</br>proba_ta: 7.0</br>_original_yhat_: 0.42</br>"
          ],
          [
           "</br>id: 30</br>prediction: 0.5</br>cholesterol_we_krwi: 317.08000000000004</br></br>wiek: 57.0</br>plec: 1.0</br>typ_bolu_klatka: 3.0</br>cisnienie_krwi_spoczynek: 128.0</br>cukier_we_krwi: 0.0</br>wynik_ekg_spoczynek: 2.0</br>ilosc_uderzen_serca: 150.0</br>bol_klatka_wysilek: 0.0</br>max_obnizka_st: 0.4</br>przebieg_st_szczyt: 2.0</br>zwapnienia_miazdzycowe: 1.0</br>proba_ta: 7.0</br>_original_yhat_: 0.42</br>"
          ],
          [
           "</br>id: 30</br>prediction: 0.5</br>cholesterol_we_krwi: 319.89</br></br>wiek: 57.0</br>plec: 1.0</br>typ_bolu_klatka: 3.0</br>cisnienie_krwi_spoczynek: 128.0</br>cukier_we_krwi: 0.0</br>wynik_ekg_spoczynek: 2.0</br>ilosc_uderzen_serca: 150.0</br>bol_klatka_wysilek: 0.0</br>max_obnizka_st: 0.4</br>przebieg_st_szczyt: 2.0</br>zwapnienia_miazdzycowe: 1.0</br>proba_ta: 7.0</br>_original_yhat_: 0.42</br>"
          ],
          [
           "</br>id: 30</br>prediction: 0.5</br>cholesterol_we_krwi: 322.70000000000005</br></br>wiek: 57.0</br>plec: 1.0</br>typ_bolu_klatka: 3.0</br>cisnienie_krwi_spoczynek: 128.0</br>cukier_we_krwi: 0.0</br>wynik_ekg_spoczynek: 2.0</br>ilosc_uderzen_serca: 150.0</br>bol_klatka_wysilek: 0.0</br>max_obnizka_st: 0.4</br>przebieg_st_szczyt: 2.0</br>zwapnienia_miazdzycowe: 1.0</br>proba_ta: 7.0</br>_original_yhat_: 0.42</br>"
          ],
          [
           "</br>id: 30</br>prediction: 0.5</br>cholesterol_we_krwi: 325.51</br></br>wiek: 57.0</br>plec: 1.0</br>typ_bolu_klatka: 3.0</br>cisnienie_krwi_spoczynek: 128.0</br>cukier_we_krwi: 0.0</br>wynik_ekg_spoczynek: 2.0</br>ilosc_uderzen_serca: 150.0</br>bol_klatka_wysilek: 0.0</br>max_obnizka_st: 0.4</br>przebieg_st_szczyt: 2.0</br>zwapnienia_miazdzycowe: 1.0</br>proba_ta: 7.0</br>_original_yhat_: 0.42</br>"
          ],
          [
           "</br>id: 30</br>prediction: 0.5</br>cholesterol_we_krwi: 328.32</br></br>wiek: 57.0</br>plec: 1.0</br>typ_bolu_klatka: 3.0</br>cisnienie_krwi_spoczynek: 128.0</br>cukier_we_krwi: 0.0</br>wynik_ekg_spoczynek: 2.0</br>ilosc_uderzen_serca: 150.0</br>bol_klatka_wysilek: 0.0</br>max_obnizka_st: 0.4</br>przebieg_st_szczyt: 2.0</br>zwapnienia_miazdzycowe: 1.0</br>proba_ta: 7.0</br>_original_yhat_: 0.42</br>"
          ],
          [
           "</br>id: 30</br>prediction: 0.5</br>cholesterol_we_krwi: 331.13</br></br>wiek: 57.0</br>plec: 1.0</br>typ_bolu_klatka: 3.0</br>cisnienie_krwi_spoczynek: 128.0</br>cukier_we_krwi: 0.0</br>wynik_ekg_spoczynek: 2.0</br>ilosc_uderzen_serca: 150.0</br>bol_klatka_wysilek: 0.0</br>max_obnizka_st: 0.4</br>przebieg_st_szczyt: 2.0</br>zwapnienia_miazdzycowe: 1.0</br>proba_ta: 7.0</br>_original_yhat_: 0.42</br>"
          ],
          [
           "</br>id: 30</br>prediction: 0.5</br>cholesterol_we_krwi: 333.94</br></br>wiek: 57.0</br>plec: 1.0</br>typ_bolu_klatka: 3.0</br>cisnienie_krwi_spoczynek: 128.0</br>cukier_we_krwi: 0.0</br>wynik_ekg_spoczynek: 2.0</br>ilosc_uderzen_serca: 150.0</br>bol_klatka_wysilek: 0.0</br>max_obnizka_st: 0.4</br>przebieg_st_szczyt: 2.0</br>zwapnienia_miazdzycowe: 1.0</br>proba_ta: 7.0</br>_original_yhat_: 0.42</br>"
          ],
          [
           "</br>id: 30</br>prediction: 0.5</br>cholesterol_we_krwi: 336.75</br></br>wiek: 57.0</br>plec: 1.0</br>typ_bolu_klatka: 3.0</br>cisnienie_krwi_spoczynek: 128.0</br>cukier_we_krwi: 0.0</br>wynik_ekg_spoczynek: 2.0</br>ilosc_uderzen_serca: 150.0</br>bol_klatka_wysilek: 0.0</br>max_obnizka_st: 0.4</br>przebieg_st_szczyt: 2.0</br>zwapnienia_miazdzycowe: 1.0</br>proba_ta: 7.0</br>_original_yhat_: 0.42</br>"
          ],
          [
           "</br>id: 30</br>prediction: 0.5</br>cholesterol_we_krwi: 339.56</br></br>wiek: 57.0</br>plec: 1.0</br>typ_bolu_klatka: 3.0</br>cisnienie_krwi_spoczynek: 128.0</br>cukier_we_krwi: 0.0</br>wynik_ekg_spoczynek: 2.0</br>ilosc_uderzen_serca: 150.0</br>bol_klatka_wysilek: 0.0</br>max_obnizka_st: 0.4</br>przebieg_st_szczyt: 2.0</br>zwapnienia_miazdzycowe: 1.0</br>proba_ta: 7.0</br>_original_yhat_: 0.42</br>"
          ],
          [
           "</br>id: 30</br>prediction: 0.5</br>cholesterol_we_krwi: 342.37</br></br>wiek: 57.0</br>plec: 1.0</br>typ_bolu_klatka: 3.0</br>cisnienie_krwi_spoczynek: 128.0</br>cukier_we_krwi: 0.0</br>wynik_ekg_spoczynek: 2.0</br>ilosc_uderzen_serca: 150.0</br>bol_klatka_wysilek: 0.0</br>max_obnizka_st: 0.4</br>przebieg_st_szczyt: 2.0</br>zwapnienia_miazdzycowe: 1.0</br>proba_ta: 7.0</br>_original_yhat_: 0.42</br>"
          ],
          [
           "</br>id: 30</br>prediction: 0.5</br>cholesterol_we_krwi: 345.18</br></br>wiek: 57.0</br>plec: 1.0</br>typ_bolu_klatka: 3.0</br>cisnienie_krwi_spoczynek: 128.0</br>cukier_we_krwi: 0.0</br>wynik_ekg_spoczynek: 2.0</br>ilosc_uderzen_serca: 150.0</br>bol_klatka_wysilek: 0.0</br>max_obnizka_st: 0.4</br>przebieg_st_szczyt: 2.0</br>zwapnienia_miazdzycowe: 1.0</br>proba_ta: 7.0</br>_original_yhat_: 0.42</br>"
          ],
          [
           "</br>id: 30</br>prediction: 0.5</br>cholesterol_we_krwi: 347.99</br></br>wiek: 57.0</br>plec: 1.0</br>typ_bolu_klatka: 3.0</br>cisnienie_krwi_spoczynek: 128.0</br>cukier_we_krwi: 0.0</br>wynik_ekg_spoczynek: 2.0</br>ilosc_uderzen_serca: 150.0</br>bol_klatka_wysilek: 0.0</br>max_obnizka_st: 0.4</br>przebieg_st_szczyt: 2.0</br>zwapnienia_miazdzycowe: 1.0</br>proba_ta: 7.0</br>_original_yhat_: 0.42</br>"
          ],
          [
           "</br>id: 30</br>prediction: 0.5</br>cholesterol_we_krwi: 350.8</br></br>wiek: 57.0</br>plec: 1.0</br>typ_bolu_klatka: 3.0</br>cisnienie_krwi_spoczynek: 128.0</br>cukier_we_krwi: 0.0</br>wynik_ekg_spoczynek: 2.0</br>ilosc_uderzen_serca: 150.0</br>bol_klatka_wysilek: 0.0</br>max_obnizka_st: 0.4</br>przebieg_st_szczyt: 2.0</br>zwapnienia_miazdzycowe: 1.0</br>proba_ta: 7.0</br>_original_yhat_: 0.42</br>"
          ],
          [
           "</br>id: 30</br>prediction: 0.5</br>cholesterol_we_krwi: 353.61</br></br>wiek: 57.0</br>plec: 1.0</br>typ_bolu_klatka: 3.0</br>cisnienie_krwi_spoczynek: 128.0</br>cukier_we_krwi: 0.0</br>wynik_ekg_spoczynek: 2.0</br>ilosc_uderzen_serca: 150.0</br>bol_klatka_wysilek: 0.0</br>max_obnizka_st: 0.4</br>przebieg_st_szczyt: 2.0</br>zwapnienia_miazdzycowe: 1.0</br>proba_ta: 7.0</br>_original_yhat_: 0.42</br>"
          ],
          [
           "</br>id: 30</br>prediction: 0.5</br>cholesterol_we_krwi: 356.42</br></br>wiek: 57.0</br>plec: 1.0</br>typ_bolu_klatka: 3.0</br>cisnienie_krwi_spoczynek: 128.0</br>cukier_we_krwi: 0.0</br>wynik_ekg_spoczynek: 2.0</br>ilosc_uderzen_serca: 150.0</br>bol_klatka_wysilek: 0.0</br>max_obnizka_st: 0.4</br>przebieg_st_szczyt: 2.0</br>zwapnienia_miazdzycowe: 1.0</br>proba_ta: 7.0</br>_original_yhat_: 0.42</br>"
          ],
          [
           "</br>id: 30</br>prediction: 0.5</br>cholesterol_we_krwi: 359.23</br></br>wiek: 57.0</br>plec: 1.0</br>typ_bolu_klatka: 3.0</br>cisnienie_krwi_spoczynek: 128.0</br>cukier_we_krwi: 0.0</br>wynik_ekg_spoczynek: 2.0</br>ilosc_uderzen_serca: 150.0</br>bol_klatka_wysilek: 0.0</br>max_obnizka_st: 0.4</br>przebieg_st_szczyt: 2.0</br>zwapnienia_miazdzycowe: 1.0</br>proba_ta: 7.0</br>_original_yhat_: 0.42</br>"
          ],
          [
           "</br>id: 30</br>prediction: 0.5</br>cholesterol_we_krwi: 362.03999999999996</br></br>wiek: 57.0</br>plec: 1.0</br>typ_bolu_klatka: 3.0</br>cisnienie_krwi_spoczynek: 128.0</br>cukier_we_krwi: 0.0</br>wynik_ekg_spoczynek: 2.0</br>ilosc_uderzen_serca: 150.0</br>bol_klatka_wysilek: 0.0</br>max_obnizka_st: 0.4</br>przebieg_st_szczyt: 2.0</br>zwapnienia_miazdzycowe: 1.0</br>proba_ta: 7.0</br>_original_yhat_: 0.42</br>"
          ],
          [
           "</br>id: 30</br>prediction: 0.5</br>cholesterol_we_krwi: 364.85</br></br>wiek: 57.0</br>plec: 1.0</br>typ_bolu_klatka: 3.0</br>cisnienie_krwi_spoczynek: 128.0</br>cukier_we_krwi: 0.0</br>wynik_ekg_spoczynek: 2.0</br>ilosc_uderzen_serca: 150.0</br>bol_klatka_wysilek: 0.0</br>max_obnizka_st: 0.4</br>przebieg_st_szczyt: 2.0</br>zwapnienia_miazdzycowe: 1.0</br>proba_ta: 7.0</br>_original_yhat_: 0.42</br>"
          ],
          [
           "</br>id: 30</br>prediction: 0.5</br>cholesterol_we_krwi: 367.65999999999997</br></br>wiek: 57.0</br>plec: 1.0</br>typ_bolu_klatka: 3.0</br>cisnienie_krwi_spoczynek: 128.0</br>cukier_we_krwi: 0.0</br>wynik_ekg_spoczynek: 2.0</br>ilosc_uderzen_serca: 150.0</br>bol_klatka_wysilek: 0.0</br>max_obnizka_st: 0.4</br>przebieg_st_szczyt: 2.0</br>zwapnienia_miazdzycowe: 1.0</br>proba_ta: 7.0</br>_original_yhat_: 0.42</br>"
          ],
          [
           "</br>id: 30</br>prediction: 0.5</br>cholesterol_we_krwi: 370.47</br></br>wiek: 57.0</br>plec: 1.0</br>typ_bolu_klatka: 3.0</br>cisnienie_krwi_spoczynek: 128.0</br>cukier_we_krwi: 0.0</br>wynik_ekg_spoczynek: 2.0</br>ilosc_uderzen_serca: 150.0</br>bol_klatka_wysilek: 0.0</br>max_obnizka_st: 0.4</br>przebieg_st_szczyt: 2.0</br>zwapnienia_miazdzycowe: 1.0</br>proba_ta: 7.0</br>_original_yhat_: 0.42</br>"
          ],
          [
           "</br>id: 30</br>prediction: 0.5</br>cholesterol_we_krwi: 373.28</br></br>wiek: 57.0</br>plec: 1.0</br>typ_bolu_klatka: 3.0</br>cisnienie_krwi_spoczynek: 128.0</br>cukier_we_krwi: 0.0</br>wynik_ekg_spoczynek: 2.0</br>ilosc_uderzen_serca: 150.0</br>bol_klatka_wysilek: 0.0</br>max_obnizka_st: 0.4</br>przebieg_st_szczyt: 2.0</br>zwapnienia_miazdzycowe: 1.0</br>proba_ta: 7.0</br>_original_yhat_: 0.42</br>"
          ],
          [
           "</br>id: 30</br>prediction: 0.5</br>cholesterol_we_krwi: 376.09000000000003</br></br>wiek: 57.0</br>plec: 1.0</br>typ_bolu_klatka: 3.0</br>cisnienie_krwi_spoczynek: 128.0</br>cukier_we_krwi: 0.0</br>wynik_ekg_spoczynek: 2.0</br>ilosc_uderzen_serca: 150.0</br>bol_klatka_wysilek: 0.0</br>max_obnizka_st: 0.4</br>przebieg_st_szczyt: 2.0</br>zwapnienia_miazdzycowe: 1.0</br>proba_ta: 7.0</br>_original_yhat_: 0.42</br>"
          ],
          [
           "</br>id: 30</br>prediction: 0.5</br>cholesterol_we_krwi: 378.9</br></br>wiek: 57.0</br>plec: 1.0</br>typ_bolu_klatka: 3.0</br>cisnienie_krwi_spoczynek: 128.0</br>cukier_we_krwi: 0.0</br>wynik_ekg_spoczynek: 2.0</br>ilosc_uderzen_serca: 150.0</br>bol_klatka_wysilek: 0.0</br>max_obnizka_st: 0.4</br>przebieg_st_szczyt: 2.0</br>zwapnienia_miazdzycowe: 1.0</br>proba_ta: 7.0</br>_original_yhat_: 0.42</br>"
          ],
          [
           "</br>id: 30</br>prediction: 0.5</br>cholesterol_we_krwi: 381.71000000000004</br></br>wiek: 57.0</br>plec: 1.0</br>typ_bolu_klatka: 3.0</br>cisnienie_krwi_spoczynek: 128.0</br>cukier_we_krwi: 0.0</br>wynik_ekg_spoczynek: 2.0</br>ilosc_uderzen_serca: 150.0</br>bol_klatka_wysilek: 0.0</br>max_obnizka_st: 0.4</br>przebieg_st_szczyt: 2.0</br>zwapnienia_miazdzycowe: 1.0</br>proba_ta: 7.0</br>_original_yhat_: 0.42</br>"
          ],
          [
           "</br>id: 30</br>prediction: 0.5</br>cholesterol_we_krwi: 384.52</br></br>wiek: 57.0</br>plec: 1.0</br>typ_bolu_klatka: 3.0</br>cisnienie_krwi_spoczynek: 128.0</br>cukier_we_krwi: 0.0</br>wynik_ekg_spoczynek: 2.0</br>ilosc_uderzen_serca: 150.0</br>bol_klatka_wysilek: 0.0</br>max_obnizka_st: 0.4</br>przebieg_st_szczyt: 2.0</br>zwapnienia_miazdzycowe: 1.0</br>proba_ta: 7.0</br>_original_yhat_: 0.42</br>"
          ],
          [
           "</br>id: 30</br>prediction: 0.5</br>cholesterol_we_krwi: 387.33</br></br>wiek: 57.0</br>plec: 1.0</br>typ_bolu_klatka: 3.0</br>cisnienie_krwi_spoczynek: 128.0</br>cukier_we_krwi: 0.0</br>wynik_ekg_spoczynek: 2.0</br>ilosc_uderzen_serca: 150.0</br>bol_klatka_wysilek: 0.0</br>max_obnizka_st: 0.4</br>przebieg_st_szczyt: 2.0</br>zwapnienia_miazdzycowe: 1.0</br>proba_ta: 7.0</br>_original_yhat_: 0.42</br>"
          ],
          [
           "</br>id: 30</br>prediction: 0.5</br>cholesterol_we_krwi: 390.14</br></br>wiek: 57.0</br>plec: 1.0</br>typ_bolu_klatka: 3.0</br>cisnienie_krwi_spoczynek: 128.0</br>cukier_we_krwi: 0.0</br>wynik_ekg_spoczynek: 2.0</br>ilosc_uderzen_serca: 150.0</br>bol_klatka_wysilek: 0.0</br>max_obnizka_st: 0.4</br>przebieg_st_szczyt: 2.0</br>zwapnienia_miazdzycowe: 1.0</br>proba_ta: 7.0</br>_original_yhat_: 0.42</br>"
          ],
          [
           "</br>id: 30</br>prediction: 0.5</br>cholesterol_we_krwi: 392.95</br></br>wiek: 57.0</br>plec: 1.0</br>typ_bolu_klatka: 3.0</br>cisnienie_krwi_spoczynek: 128.0</br>cukier_we_krwi: 0.0</br>wynik_ekg_spoczynek: 2.0</br>ilosc_uderzen_serca: 150.0</br>bol_klatka_wysilek: 0.0</br>max_obnizka_st: 0.4</br>przebieg_st_szczyt: 2.0</br>zwapnienia_miazdzycowe: 1.0</br>proba_ta: 7.0</br>_original_yhat_: 0.42</br>"
          ],
          [
           "</br>id: 30</br>prediction: 0.5</br>cholesterol_we_krwi: 395.76</br></br>wiek: 57.0</br>plec: 1.0</br>typ_bolu_klatka: 3.0</br>cisnienie_krwi_spoczynek: 128.0</br>cukier_we_krwi: 0.0</br>wynik_ekg_spoczynek: 2.0</br>ilosc_uderzen_serca: 150.0</br>bol_klatka_wysilek: 0.0</br>max_obnizka_st: 0.4</br>przebieg_st_szczyt: 2.0</br>zwapnienia_miazdzycowe: 1.0</br>proba_ta: 7.0</br>_original_yhat_: 0.42</br>"
          ],
          [
           "</br>id: 30</br>prediction: 0.5</br>cholesterol_we_krwi: 398.57</br></br>wiek: 57.0</br>plec: 1.0</br>typ_bolu_klatka: 3.0</br>cisnienie_krwi_spoczynek: 128.0</br>cukier_we_krwi: 0.0</br>wynik_ekg_spoczynek: 2.0</br>ilosc_uderzen_serca: 150.0</br>bol_klatka_wysilek: 0.0</br>max_obnizka_st: 0.4</br>przebieg_st_szczyt: 2.0</br>zwapnienia_miazdzycowe: 1.0</br>proba_ta: 7.0</br>_original_yhat_: 0.42</br>"
          ],
          [
           "</br>id: 30</br>prediction: 0.5</br>cholesterol_we_krwi: 401.38</br></br>wiek: 57.0</br>plec: 1.0</br>typ_bolu_klatka: 3.0</br>cisnienie_krwi_spoczynek: 128.0</br>cukier_we_krwi: 0.0</br>wynik_ekg_spoczynek: 2.0</br>ilosc_uderzen_serca: 150.0</br>bol_klatka_wysilek: 0.0</br>max_obnizka_st: 0.4</br>przebieg_st_szczyt: 2.0</br>zwapnienia_miazdzycowe: 1.0</br>proba_ta: 7.0</br>_original_yhat_: 0.42</br>"
          ],
          [
           "</br>id: 30</br>prediction: 0.5</br>cholesterol_we_krwi: 404.19</br></br>wiek: 57.0</br>plec: 1.0</br>typ_bolu_klatka: 3.0</br>cisnienie_krwi_spoczynek: 128.0</br>cukier_we_krwi: 0.0</br>wynik_ekg_spoczynek: 2.0</br>ilosc_uderzen_serca: 150.0</br>bol_klatka_wysilek: 0.0</br>max_obnizka_st: 0.4</br>przebieg_st_szczyt: 2.0</br>zwapnienia_miazdzycowe: 1.0</br>proba_ta: 7.0</br>_original_yhat_: 0.42</br>"
          ],
          [
           "</br>id: 30</br>prediction: 0.5</br>cholesterol_we_krwi: 407.0</br></br>wiek: 57.0</br>plec: 1.0</br>typ_bolu_klatka: 3.0</br>cisnienie_krwi_spoczynek: 128.0</br>cukier_we_krwi: 0.0</br>wynik_ekg_spoczynek: 2.0</br>ilosc_uderzen_serca: 150.0</br>bol_klatka_wysilek: 0.0</br>max_obnizka_st: 0.4</br>przebieg_st_szczyt: 2.0</br>zwapnienia_miazdzycowe: 1.0</br>proba_ta: 7.0</br>_original_yhat_: 0.42</br>"
          ]
         ],
         "hovertemplate": "%{customdata[0]}<extra></extra>",
         "legendgroup": "Model RandomForest dla danych serca",
         "line": {
          "color": "#46bac2",
          "dash": "solid",
          "width": 2
         },
         "marker": {
          "symbol": "circle"
         },
         "mode": "lines",
         "name": "Model RandomForest dla danych serca",
         "opacity": 1,
         "showlegend": false,
         "type": "scattergl",
         "x": [
          126,
          128.81,
          131.62,
          134.43,
          137.24,
          140.05,
          142.86,
          145.67000000000002,
          148.48,
          151.29,
          154.1,
          156.91,
          159.72,
          162.53,
          165.34,
          168.15,
          170.96,
          173.77,
          176.57999999999998,
          179.39,
          182.2,
          185.01,
          187.82,
          190.63,
          193.44,
          196.25,
          199.06,
          201.87,
          204.68,
          207.49,
          210.3,
          213.11,
          215.92000000000002,
          218.73000000000002,
          221.54000000000002,
          224.35000000000002,
          227.16,
          229,
          229.97,
          232.78,
          235.59,
          238.4,
          241.21,
          244.01999999999998,
          246.82999999999998,
          249.64,
          252.45,
          255.26,
          258.07,
          260.88,
          263.69,
          266.5,
          269.31,
          272.12,
          274.93,
          277.74,
          280.55,
          283.36,
          286.17,
          288.98,
          291.78999999999996,
          294.6,
          297.40999999999997,
          300.22,
          303.03,
          305.84000000000003,
          308.65,
          311.46000000000004,
          314.27,
          317.08000000000004,
          319.89,
          322.70000000000005,
          325.51,
          328.32,
          331.13,
          333.94,
          336.75,
          339.56,
          342.37,
          345.18,
          347.99,
          350.8,
          353.61,
          356.42,
          359.23,
          362.03999999999996,
          364.85,
          367.65999999999997,
          370.47,
          373.28,
          376.09000000000003,
          378.9,
          381.71000000000004,
          384.52,
          387.33,
          390.14,
          392.95,
          395.76,
          398.57,
          401.38,
          404.19,
          407
         ],
         "xaxis": "x9",
         "y": [
          0.44,
          0.44,
          0.44,
          0.44,
          0.44,
          0.44,
          0.44,
          0.44,
          0.44,
          0.44,
          0.44,
          0.44,
          0.44,
          0.44,
          0.44,
          0.44,
          0.44,
          0.44,
          0.44,
          0.44,
          0.44,
          0.44,
          0.44,
          0.44,
          0.42,
          0.42,
          0.42,
          0.42,
          0.43,
          0.43,
          0.42,
          0.42,
          0.42,
          0.42,
          0.42,
          0.42,
          0.42,
          0.42,
          0.42,
          0.41,
          0.41,
          0.41,
          0.42,
          0.43,
          0.43,
          0.44,
          0.44,
          0.44,
          0.43,
          0.43,
          0.43,
          0.46,
          0.46,
          0.48,
          0.51,
          0.52,
          0.52,
          0.53,
          0.54,
          0.54,
          0.54,
          0.52,
          0.52,
          0.52,
          0.52,
          0.51,
          0.5,
          0.5,
          0.5,
          0.5,
          0.5,
          0.5,
          0.5,
          0.5,
          0.5,
          0.5,
          0.5,
          0.5,
          0.5,
          0.5,
          0.5,
          0.5,
          0.5,
          0.5,
          0.5,
          0.5,
          0.5,
          0.5,
          0.5,
          0.5,
          0.5,
          0.5,
          0.5,
          0.5,
          0.5,
          0.5,
          0.5,
          0.5,
          0.5,
          0.5,
          0.5,
          0.5
         ],
         "yaxis": "y9"
        },
        {
         "customdata": [
          [
           "</br>id: 30</br>prediction: 0.42</br>cukier_we_krwi: 0.0</br></br>wiek: 57.0</br>plec: 1.0</br>typ_bolu_klatka: 3.0</br>cisnienie_krwi_spoczynek: 128.0</br>cholesterol_we_krwi: 229.0</br>wynik_ekg_spoczynek: 2.0</br>ilosc_uderzen_serca: 150.0</br>bol_klatka_wysilek: 0.0</br>max_obnizka_st: 0.4</br>przebieg_st_szczyt: 2.0</br>zwapnienia_miazdzycowe: 1.0</br>proba_ta: 7.0</br>_original_yhat_: 0.42</br>"
          ],
          [
           "</br>id: 30</br>prediction: 0.42</br>cukier_we_krwi: 0.01</br></br>wiek: 57.0</br>plec: 1.0</br>typ_bolu_klatka: 3.0</br>cisnienie_krwi_spoczynek: 128.0</br>cholesterol_we_krwi: 229.0</br>wynik_ekg_spoczynek: 2.0</br>ilosc_uderzen_serca: 150.0</br>bol_klatka_wysilek: 0.0</br>max_obnizka_st: 0.4</br>przebieg_st_szczyt: 2.0</br>zwapnienia_miazdzycowe: 1.0</br>proba_ta: 7.0</br>_original_yhat_: 0.42</br>"
          ],
          [
           "</br>id: 30</br>prediction: 0.42</br>cukier_we_krwi: 0.02</br></br>wiek: 57.0</br>plec: 1.0</br>typ_bolu_klatka: 3.0</br>cisnienie_krwi_spoczynek: 128.0</br>cholesterol_we_krwi: 229.0</br>wynik_ekg_spoczynek: 2.0</br>ilosc_uderzen_serca: 150.0</br>bol_klatka_wysilek: 0.0</br>max_obnizka_st: 0.4</br>przebieg_st_szczyt: 2.0</br>zwapnienia_miazdzycowe: 1.0</br>proba_ta: 7.0</br>_original_yhat_: 0.42</br>"
          ],
          [
           "</br>id: 30</br>prediction: 0.42</br>cukier_we_krwi: 0.03</br></br>wiek: 57.0</br>plec: 1.0</br>typ_bolu_klatka: 3.0</br>cisnienie_krwi_spoczynek: 128.0</br>cholesterol_we_krwi: 229.0</br>wynik_ekg_spoczynek: 2.0</br>ilosc_uderzen_serca: 150.0</br>bol_klatka_wysilek: 0.0</br>max_obnizka_st: 0.4</br>przebieg_st_szczyt: 2.0</br>zwapnienia_miazdzycowe: 1.0</br>proba_ta: 7.0</br>_original_yhat_: 0.42</br>"
          ],
          [
           "</br>id: 30</br>prediction: 0.42</br>cukier_we_krwi: 0.04</br></br>wiek: 57.0</br>plec: 1.0</br>typ_bolu_klatka: 3.0</br>cisnienie_krwi_spoczynek: 128.0</br>cholesterol_we_krwi: 229.0</br>wynik_ekg_spoczynek: 2.0</br>ilosc_uderzen_serca: 150.0</br>bol_klatka_wysilek: 0.0</br>max_obnizka_st: 0.4</br>przebieg_st_szczyt: 2.0</br>zwapnienia_miazdzycowe: 1.0</br>proba_ta: 7.0</br>_original_yhat_: 0.42</br>"
          ],
          [
           "</br>id: 30</br>prediction: 0.42</br>cukier_we_krwi: 0.05</br></br>wiek: 57.0</br>plec: 1.0</br>typ_bolu_klatka: 3.0</br>cisnienie_krwi_spoczynek: 128.0</br>cholesterol_we_krwi: 229.0</br>wynik_ekg_spoczynek: 2.0</br>ilosc_uderzen_serca: 150.0</br>bol_klatka_wysilek: 0.0</br>max_obnizka_st: 0.4</br>przebieg_st_szczyt: 2.0</br>zwapnienia_miazdzycowe: 1.0</br>proba_ta: 7.0</br>_original_yhat_: 0.42</br>"
          ],
          [
           "</br>id: 30</br>prediction: 0.42</br>cukier_we_krwi: 0.06</br></br>wiek: 57.0</br>plec: 1.0</br>typ_bolu_klatka: 3.0</br>cisnienie_krwi_spoczynek: 128.0</br>cholesterol_we_krwi: 229.0</br>wynik_ekg_spoczynek: 2.0</br>ilosc_uderzen_serca: 150.0</br>bol_klatka_wysilek: 0.0</br>max_obnizka_st: 0.4</br>przebieg_st_szczyt: 2.0</br>zwapnienia_miazdzycowe: 1.0</br>proba_ta: 7.0</br>_original_yhat_: 0.42</br>"
          ],
          [
           "</br>id: 30</br>prediction: 0.42</br>cukier_we_krwi: 0.07</br></br>wiek: 57.0</br>plec: 1.0</br>typ_bolu_klatka: 3.0</br>cisnienie_krwi_spoczynek: 128.0</br>cholesterol_we_krwi: 229.0</br>wynik_ekg_spoczynek: 2.0</br>ilosc_uderzen_serca: 150.0</br>bol_klatka_wysilek: 0.0</br>max_obnizka_st: 0.4</br>przebieg_st_szczyt: 2.0</br>zwapnienia_miazdzycowe: 1.0</br>proba_ta: 7.0</br>_original_yhat_: 0.42</br>"
          ],
          [
           "</br>id: 30</br>prediction: 0.42</br>cukier_we_krwi: 0.08</br></br>wiek: 57.0</br>plec: 1.0</br>typ_bolu_klatka: 3.0</br>cisnienie_krwi_spoczynek: 128.0</br>cholesterol_we_krwi: 229.0</br>wynik_ekg_spoczynek: 2.0</br>ilosc_uderzen_serca: 150.0</br>bol_klatka_wysilek: 0.0</br>max_obnizka_st: 0.4</br>przebieg_st_szczyt: 2.0</br>zwapnienia_miazdzycowe: 1.0</br>proba_ta: 7.0</br>_original_yhat_: 0.42</br>"
          ],
          [
           "</br>id: 30</br>prediction: 0.42</br>cukier_we_krwi: 0.09</br></br>wiek: 57.0</br>plec: 1.0</br>typ_bolu_klatka: 3.0</br>cisnienie_krwi_spoczynek: 128.0</br>cholesterol_we_krwi: 229.0</br>wynik_ekg_spoczynek: 2.0</br>ilosc_uderzen_serca: 150.0</br>bol_klatka_wysilek: 0.0</br>max_obnizka_st: 0.4</br>przebieg_st_szczyt: 2.0</br>zwapnienia_miazdzycowe: 1.0</br>proba_ta: 7.0</br>_original_yhat_: 0.42</br>"
          ],
          [
           "</br>id: 30</br>prediction: 0.42</br>cukier_we_krwi: 0.1</br></br>wiek: 57.0</br>plec: 1.0</br>typ_bolu_klatka: 3.0</br>cisnienie_krwi_spoczynek: 128.0</br>cholesterol_we_krwi: 229.0</br>wynik_ekg_spoczynek: 2.0</br>ilosc_uderzen_serca: 150.0</br>bol_klatka_wysilek: 0.0</br>max_obnizka_st: 0.4</br>przebieg_st_szczyt: 2.0</br>zwapnienia_miazdzycowe: 1.0</br>proba_ta: 7.0</br>_original_yhat_: 0.42</br>"
          ],
          [
           "</br>id: 30</br>prediction: 0.42</br>cukier_we_krwi: 0.11</br></br>wiek: 57.0</br>plec: 1.0</br>typ_bolu_klatka: 3.0</br>cisnienie_krwi_spoczynek: 128.0</br>cholesterol_we_krwi: 229.0</br>wynik_ekg_spoczynek: 2.0</br>ilosc_uderzen_serca: 150.0</br>bol_klatka_wysilek: 0.0</br>max_obnizka_st: 0.4</br>przebieg_st_szczyt: 2.0</br>zwapnienia_miazdzycowe: 1.0</br>proba_ta: 7.0</br>_original_yhat_: 0.42</br>"
          ],
          [
           "</br>id: 30</br>prediction: 0.42</br>cukier_we_krwi: 0.12</br></br>wiek: 57.0</br>plec: 1.0</br>typ_bolu_klatka: 3.0</br>cisnienie_krwi_spoczynek: 128.0</br>cholesterol_we_krwi: 229.0</br>wynik_ekg_spoczynek: 2.0</br>ilosc_uderzen_serca: 150.0</br>bol_klatka_wysilek: 0.0</br>max_obnizka_st: 0.4</br>przebieg_st_szczyt: 2.0</br>zwapnienia_miazdzycowe: 1.0</br>proba_ta: 7.0</br>_original_yhat_: 0.42</br>"
          ],
          [
           "</br>id: 30</br>prediction: 0.42</br>cukier_we_krwi: 0.13</br></br>wiek: 57.0</br>plec: 1.0</br>typ_bolu_klatka: 3.0</br>cisnienie_krwi_spoczynek: 128.0</br>cholesterol_we_krwi: 229.0</br>wynik_ekg_spoczynek: 2.0</br>ilosc_uderzen_serca: 150.0</br>bol_klatka_wysilek: 0.0</br>max_obnizka_st: 0.4</br>przebieg_st_szczyt: 2.0</br>zwapnienia_miazdzycowe: 1.0</br>proba_ta: 7.0</br>_original_yhat_: 0.42</br>"
          ],
          [
           "</br>id: 30</br>prediction: 0.42</br>cukier_we_krwi: 0.14</br></br>wiek: 57.0</br>plec: 1.0</br>typ_bolu_klatka: 3.0</br>cisnienie_krwi_spoczynek: 128.0</br>cholesterol_we_krwi: 229.0</br>wynik_ekg_spoczynek: 2.0</br>ilosc_uderzen_serca: 150.0</br>bol_klatka_wysilek: 0.0</br>max_obnizka_st: 0.4</br>przebieg_st_szczyt: 2.0</br>zwapnienia_miazdzycowe: 1.0</br>proba_ta: 7.0</br>_original_yhat_: 0.42</br>"
          ],
          [
           "</br>id: 30</br>prediction: 0.42</br>cukier_we_krwi: 0.15</br></br>wiek: 57.0</br>plec: 1.0</br>typ_bolu_klatka: 3.0</br>cisnienie_krwi_spoczynek: 128.0</br>cholesterol_we_krwi: 229.0</br>wynik_ekg_spoczynek: 2.0</br>ilosc_uderzen_serca: 150.0</br>bol_klatka_wysilek: 0.0</br>max_obnizka_st: 0.4</br>przebieg_st_szczyt: 2.0</br>zwapnienia_miazdzycowe: 1.0</br>proba_ta: 7.0</br>_original_yhat_: 0.42</br>"
          ],
          [
           "</br>id: 30</br>prediction: 0.42</br>cukier_we_krwi: 0.16</br></br>wiek: 57.0</br>plec: 1.0</br>typ_bolu_klatka: 3.0</br>cisnienie_krwi_spoczynek: 128.0</br>cholesterol_we_krwi: 229.0</br>wynik_ekg_spoczynek: 2.0</br>ilosc_uderzen_serca: 150.0</br>bol_klatka_wysilek: 0.0</br>max_obnizka_st: 0.4</br>przebieg_st_szczyt: 2.0</br>zwapnienia_miazdzycowe: 1.0</br>proba_ta: 7.0</br>_original_yhat_: 0.42</br>"
          ],
          [
           "</br>id: 30</br>prediction: 0.42</br>cukier_we_krwi: 0.17</br></br>wiek: 57.0</br>plec: 1.0</br>typ_bolu_klatka: 3.0</br>cisnienie_krwi_spoczynek: 128.0</br>cholesterol_we_krwi: 229.0</br>wynik_ekg_spoczynek: 2.0</br>ilosc_uderzen_serca: 150.0</br>bol_klatka_wysilek: 0.0</br>max_obnizka_st: 0.4</br>przebieg_st_szczyt: 2.0</br>zwapnienia_miazdzycowe: 1.0</br>proba_ta: 7.0</br>_original_yhat_: 0.42</br>"
          ],
          [
           "</br>id: 30</br>prediction: 0.42</br>cukier_we_krwi: 0.18</br></br>wiek: 57.0</br>plec: 1.0</br>typ_bolu_klatka: 3.0</br>cisnienie_krwi_spoczynek: 128.0</br>cholesterol_we_krwi: 229.0</br>wynik_ekg_spoczynek: 2.0</br>ilosc_uderzen_serca: 150.0</br>bol_klatka_wysilek: 0.0</br>max_obnizka_st: 0.4</br>przebieg_st_szczyt: 2.0</br>zwapnienia_miazdzycowe: 1.0</br>proba_ta: 7.0</br>_original_yhat_: 0.42</br>"
          ],
          [
           "</br>id: 30</br>prediction: 0.42</br>cukier_we_krwi: 0.19</br></br>wiek: 57.0</br>plec: 1.0</br>typ_bolu_klatka: 3.0</br>cisnienie_krwi_spoczynek: 128.0</br>cholesterol_we_krwi: 229.0</br>wynik_ekg_spoczynek: 2.0</br>ilosc_uderzen_serca: 150.0</br>bol_klatka_wysilek: 0.0</br>max_obnizka_st: 0.4</br>przebieg_st_szczyt: 2.0</br>zwapnienia_miazdzycowe: 1.0</br>proba_ta: 7.0</br>_original_yhat_: 0.42</br>"
          ],
          [
           "</br>id: 30</br>prediction: 0.42</br>cukier_we_krwi: 0.2</br></br>wiek: 57.0</br>plec: 1.0</br>typ_bolu_klatka: 3.0</br>cisnienie_krwi_spoczynek: 128.0</br>cholesterol_we_krwi: 229.0</br>wynik_ekg_spoczynek: 2.0</br>ilosc_uderzen_serca: 150.0</br>bol_klatka_wysilek: 0.0</br>max_obnizka_st: 0.4</br>przebieg_st_szczyt: 2.0</br>zwapnienia_miazdzycowe: 1.0</br>proba_ta: 7.0</br>_original_yhat_: 0.42</br>"
          ],
          [
           "</br>id: 30</br>prediction: 0.42</br>cukier_we_krwi: 0.21</br></br>wiek: 57.0</br>plec: 1.0</br>typ_bolu_klatka: 3.0</br>cisnienie_krwi_spoczynek: 128.0</br>cholesterol_we_krwi: 229.0</br>wynik_ekg_spoczynek: 2.0</br>ilosc_uderzen_serca: 150.0</br>bol_klatka_wysilek: 0.0</br>max_obnizka_st: 0.4</br>przebieg_st_szczyt: 2.0</br>zwapnienia_miazdzycowe: 1.0</br>proba_ta: 7.0</br>_original_yhat_: 0.42</br>"
          ],
          [
           "</br>id: 30</br>prediction: 0.42</br>cukier_we_krwi: 0.22</br></br>wiek: 57.0</br>plec: 1.0</br>typ_bolu_klatka: 3.0</br>cisnienie_krwi_spoczynek: 128.0</br>cholesterol_we_krwi: 229.0</br>wynik_ekg_spoczynek: 2.0</br>ilosc_uderzen_serca: 150.0</br>bol_klatka_wysilek: 0.0</br>max_obnizka_st: 0.4</br>przebieg_st_szczyt: 2.0</br>zwapnienia_miazdzycowe: 1.0</br>proba_ta: 7.0</br>_original_yhat_: 0.42</br>"
          ],
          [
           "</br>id: 30</br>prediction: 0.42</br>cukier_we_krwi: 0.23</br></br>wiek: 57.0</br>plec: 1.0</br>typ_bolu_klatka: 3.0</br>cisnienie_krwi_spoczynek: 128.0</br>cholesterol_we_krwi: 229.0</br>wynik_ekg_spoczynek: 2.0</br>ilosc_uderzen_serca: 150.0</br>bol_klatka_wysilek: 0.0</br>max_obnizka_st: 0.4</br>przebieg_st_szczyt: 2.0</br>zwapnienia_miazdzycowe: 1.0</br>proba_ta: 7.0</br>_original_yhat_: 0.42</br>"
          ],
          [
           "</br>id: 30</br>prediction: 0.42</br>cukier_we_krwi: 0.24</br></br>wiek: 57.0</br>plec: 1.0</br>typ_bolu_klatka: 3.0</br>cisnienie_krwi_spoczynek: 128.0</br>cholesterol_we_krwi: 229.0</br>wynik_ekg_spoczynek: 2.0</br>ilosc_uderzen_serca: 150.0</br>bol_klatka_wysilek: 0.0</br>max_obnizka_st: 0.4</br>przebieg_st_szczyt: 2.0</br>zwapnienia_miazdzycowe: 1.0</br>proba_ta: 7.0</br>_original_yhat_: 0.42</br>"
          ],
          [
           "</br>id: 30</br>prediction: 0.42</br>cukier_we_krwi: 0.25</br></br>wiek: 57.0</br>plec: 1.0</br>typ_bolu_klatka: 3.0</br>cisnienie_krwi_spoczynek: 128.0</br>cholesterol_we_krwi: 229.0</br>wynik_ekg_spoczynek: 2.0</br>ilosc_uderzen_serca: 150.0</br>bol_klatka_wysilek: 0.0</br>max_obnizka_st: 0.4</br>przebieg_st_szczyt: 2.0</br>zwapnienia_miazdzycowe: 1.0</br>proba_ta: 7.0</br>_original_yhat_: 0.42</br>"
          ],
          [
           "</br>id: 30</br>prediction: 0.42</br>cukier_we_krwi: 0.26</br></br>wiek: 57.0</br>plec: 1.0</br>typ_bolu_klatka: 3.0</br>cisnienie_krwi_spoczynek: 128.0</br>cholesterol_we_krwi: 229.0</br>wynik_ekg_spoczynek: 2.0</br>ilosc_uderzen_serca: 150.0</br>bol_klatka_wysilek: 0.0</br>max_obnizka_st: 0.4</br>przebieg_st_szczyt: 2.0</br>zwapnienia_miazdzycowe: 1.0</br>proba_ta: 7.0</br>_original_yhat_: 0.42</br>"
          ],
          [
           "</br>id: 30</br>prediction: 0.42</br>cukier_we_krwi: 0.27</br></br>wiek: 57.0</br>plec: 1.0</br>typ_bolu_klatka: 3.0</br>cisnienie_krwi_spoczynek: 128.0</br>cholesterol_we_krwi: 229.0</br>wynik_ekg_spoczynek: 2.0</br>ilosc_uderzen_serca: 150.0</br>bol_klatka_wysilek: 0.0</br>max_obnizka_st: 0.4</br>przebieg_st_szczyt: 2.0</br>zwapnienia_miazdzycowe: 1.0</br>proba_ta: 7.0</br>_original_yhat_: 0.42</br>"
          ],
          [
           "</br>id: 30</br>prediction: 0.42</br>cukier_we_krwi: 0.28</br></br>wiek: 57.0</br>plec: 1.0</br>typ_bolu_klatka: 3.0</br>cisnienie_krwi_spoczynek: 128.0</br>cholesterol_we_krwi: 229.0</br>wynik_ekg_spoczynek: 2.0</br>ilosc_uderzen_serca: 150.0</br>bol_klatka_wysilek: 0.0</br>max_obnizka_st: 0.4</br>przebieg_st_szczyt: 2.0</br>zwapnienia_miazdzycowe: 1.0</br>proba_ta: 7.0</br>_original_yhat_: 0.42</br>"
          ],
          [
           "</br>id: 30</br>prediction: 0.42</br>cukier_we_krwi: 0.29</br></br>wiek: 57.0</br>plec: 1.0</br>typ_bolu_klatka: 3.0</br>cisnienie_krwi_spoczynek: 128.0</br>cholesterol_we_krwi: 229.0</br>wynik_ekg_spoczynek: 2.0</br>ilosc_uderzen_serca: 150.0</br>bol_klatka_wysilek: 0.0</br>max_obnizka_st: 0.4</br>przebieg_st_szczyt: 2.0</br>zwapnienia_miazdzycowe: 1.0</br>proba_ta: 7.0</br>_original_yhat_: 0.42</br>"
          ],
          [
           "</br>id: 30</br>prediction: 0.42</br>cukier_we_krwi: 0.3</br></br>wiek: 57.0</br>plec: 1.0</br>typ_bolu_klatka: 3.0</br>cisnienie_krwi_spoczynek: 128.0</br>cholesterol_we_krwi: 229.0</br>wynik_ekg_spoczynek: 2.0</br>ilosc_uderzen_serca: 150.0</br>bol_klatka_wysilek: 0.0</br>max_obnizka_st: 0.4</br>przebieg_st_szczyt: 2.0</br>zwapnienia_miazdzycowe: 1.0</br>proba_ta: 7.0</br>_original_yhat_: 0.42</br>"
          ],
          [
           "</br>id: 30</br>prediction: 0.42</br>cukier_we_krwi: 0.31</br></br>wiek: 57.0</br>plec: 1.0</br>typ_bolu_klatka: 3.0</br>cisnienie_krwi_spoczynek: 128.0</br>cholesterol_we_krwi: 229.0</br>wynik_ekg_spoczynek: 2.0</br>ilosc_uderzen_serca: 150.0</br>bol_klatka_wysilek: 0.0</br>max_obnizka_st: 0.4</br>przebieg_st_szczyt: 2.0</br>zwapnienia_miazdzycowe: 1.0</br>proba_ta: 7.0</br>_original_yhat_: 0.42</br>"
          ],
          [
           "</br>id: 30</br>prediction: 0.42</br>cukier_we_krwi: 0.32</br></br>wiek: 57.0</br>plec: 1.0</br>typ_bolu_klatka: 3.0</br>cisnienie_krwi_spoczynek: 128.0</br>cholesterol_we_krwi: 229.0</br>wynik_ekg_spoczynek: 2.0</br>ilosc_uderzen_serca: 150.0</br>bol_klatka_wysilek: 0.0</br>max_obnizka_st: 0.4</br>przebieg_st_szczyt: 2.0</br>zwapnienia_miazdzycowe: 1.0</br>proba_ta: 7.0</br>_original_yhat_: 0.42</br>"
          ],
          [
           "</br>id: 30</br>prediction: 0.42</br>cukier_we_krwi: 0.33</br></br>wiek: 57.0</br>plec: 1.0</br>typ_bolu_klatka: 3.0</br>cisnienie_krwi_spoczynek: 128.0</br>cholesterol_we_krwi: 229.0</br>wynik_ekg_spoczynek: 2.0</br>ilosc_uderzen_serca: 150.0</br>bol_klatka_wysilek: 0.0</br>max_obnizka_st: 0.4</br>przebieg_st_szczyt: 2.0</br>zwapnienia_miazdzycowe: 1.0</br>proba_ta: 7.0</br>_original_yhat_: 0.42</br>"
          ],
          [
           "</br>id: 30</br>prediction: 0.42</br>cukier_we_krwi: 0.34</br></br>wiek: 57.0</br>plec: 1.0</br>typ_bolu_klatka: 3.0</br>cisnienie_krwi_spoczynek: 128.0</br>cholesterol_we_krwi: 229.0</br>wynik_ekg_spoczynek: 2.0</br>ilosc_uderzen_serca: 150.0</br>bol_klatka_wysilek: 0.0</br>max_obnizka_st: 0.4</br>przebieg_st_szczyt: 2.0</br>zwapnienia_miazdzycowe: 1.0</br>proba_ta: 7.0</br>_original_yhat_: 0.42</br>"
          ],
          [
           "</br>id: 30</br>prediction: 0.42</br>cukier_we_krwi: 0.35000000000000003</br></br>wiek: 57.0</br>plec: 1.0</br>typ_bolu_klatka: 3.0</br>cisnienie_krwi_spoczynek: 128.0</br>cholesterol_we_krwi: 229.0</br>wynik_ekg_spoczynek: 2.0</br>ilosc_uderzen_serca: 150.0</br>bol_klatka_wysilek: 0.0</br>max_obnizka_st: 0.4</br>przebieg_st_szczyt: 2.0</br>zwapnienia_miazdzycowe: 1.0</br>proba_ta: 7.0</br>_original_yhat_: 0.42</br>"
          ],
          [
           "</br>id: 30</br>prediction: 0.42</br>cukier_we_krwi: 0.36</br></br>wiek: 57.0</br>plec: 1.0</br>typ_bolu_klatka: 3.0</br>cisnienie_krwi_spoczynek: 128.0</br>cholesterol_we_krwi: 229.0</br>wynik_ekg_spoczynek: 2.0</br>ilosc_uderzen_serca: 150.0</br>bol_klatka_wysilek: 0.0</br>max_obnizka_st: 0.4</br>przebieg_st_szczyt: 2.0</br>zwapnienia_miazdzycowe: 1.0</br>proba_ta: 7.0</br>_original_yhat_: 0.42</br>"
          ],
          [
           "</br>id: 30</br>prediction: 0.42</br>cukier_we_krwi: 0.37</br></br>wiek: 57.0</br>plec: 1.0</br>typ_bolu_klatka: 3.0</br>cisnienie_krwi_spoczynek: 128.0</br>cholesterol_we_krwi: 229.0</br>wynik_ekg_spoczynek: 2.0</br>ilosc_uderzen_serca: 150.0</br>bol_klatka_wysilek: 0.0</br>max_obnizka_st: 0.4</br>przebieg_st_szczyt: 2.0</br>zwapnienia_miazdzycowe: 1.0</br>proba_ta: 7.0</br>_original_yhat_: 0.42</br>"
          ],
          [
           "</br>id: 30</br>prediction: 0.42</br>cukier_we_krwi: 0.38</br></br>wiek: 57.0</br>plec: 1.0</br>typ_bolu_klatka: 3.0</br>cisnienie_krwi_spoczynek: 128.0</br>cholesterol_we_krwi: 229.0</br>wynik_ekg_spoczynek: 2.0</br>ilosc_uderzen_serca: 150.0</br>bol_klatka_wysilek: 0.0</br>max_obnizka_st: 0.4</br>przebieg_st_szczyt: 2.0</br>zwapnienia_miazdzycowe: 1.0</br>proba_ta: 7.0</br>_original_yhat_: 0.42</br>"
          ],
          [
           "</br>id: 30</br>prediction: 0.42</br>cukier_we_krwi: 0.39</br></br>wiek: 57.0</br>plec: 1.0</br>typ_bolu_klatka: 3.0</br>cisnienie_krwi_spoczynek: 128.0</br>cholesterol_we_krwi: 229.0</br>wynik_ekg_spoczynek: 2.0</br>ilosc_uderzen_serca: 150.0</br>bol_klatka_wysilek: 0.0</br>max_obnizka_st: 0.4</br>przebieg_st_szczyt: 2.0</br>zwapnienia_miazdzycowe: 1.0</br>proba_ta: 7.0</br>_original_yhat_: 0.42</br>"
          ],
          [
           "</br>id: 30</br>prediction: 0.42</br>cukier_we_krwi: 0.4</br></br>wiek: 57.0</br>plec: 1.0</br>typ_bolu_klatka: 3.0</br>cisnienie_krwi_spoczynek: 128.0</br>cholesterol_we_krwi: 229.0</br>wynik_ekg_spoczynek: 2.0</br>ilosc_uderzen_serca: 150.0</br>bol_klatka_wysilek: 0.0</br>max_obnizka_st: 0.4</br>przebieg_st_szczyt: 2.0</br>zwapnienia_miazdzycowe: 1.0</br>proba_ta: 7.0</br>_original_yhat_: 0.42</br>"
          ],
          [
           "</br>id: 30</br>prediction: 0.42</br>cukier_we_krwi: 0.41000000000000003</br></br>wiek: 57.0</br>plec: 1.0</br>typ_bolu_klatka: 3.0</br>cisnienie_krwi_spoczynek: 128.0</br>cholesterol_we_krwi: 229.0</br>wynik_ekg_spoczynek: 2.0</br>ilosc_uderzen_serca: 150.0</br>bol_klatka_wysilek: 0.0</br>max_obnizka_st: 0.4</br>przebieg_st_szczyt: 2.0</br>zwapnienia_miazdzycowe: 1.0</br>proba_ta: 7.0</br>_original_yhat_: 0.42</br>"
          ],
          [
           "</br>id: 30</br>prediction: 0.42</br>cukier_we_krwi: 0.42</br></br>wiek: 57.0</br>plec: 1.0</br>typ_bolu_klatka: 3.0</br>cisnienie_krwi_spoczynek: 128.0</br>cholesterol_we_krwi: 229.0</br>wynik_ekg_spoczynek: 2.0</br>ilosc_uderzen_serca: 150.0</br>bol_klatka_wysilek: 0.0</br>max_obnizka_st: 0.4</br>przebieg_st_szczyt: 2.0</br>zwapnienia_miazdzycowe: 1.0</br>proba_ta: 7.0</br>_original_yhat_: 0.42</br>"
          ],
          [
           "</br>id: 30</br>prediction: 0.42</br>cukier_we_krwi: 0.43</br></br>wiek: 57.0</br>plec: 1.0</br>typ_bolu_klatka: 3.0</br>cisnienie_krwi_spoczynek: 128.0</br>cholesterol_we_krwi: 229.0</br>wynik_ekg_spoczynek: 2.0</br>ilosc_uderzen_serca: 150.0</br>bol_klatka_wysilek: 0.0</br>max_obnizka_st: 0.4</br>przebieg_st_szczyt: 2.0</br>zwapnienia_miazdzycowe: 1.0</br>proba_ta: 7.0</br>_original_yhat_: 0.42</br>"
          ],
          [
           "</br>id: 30</br>prediction: 0.42</br>cukier_we_krwi: 0.44</br></br>wiek: 57.0</br>plec: 1.0</br>typ_bolu_klatka: 3.0</br>cisnienie_krwi_spoczynek: 128.0</br>cholesterol_we_krwi: 229.0</br>wynik_ekg_spoczynek: 2.0</br>ilosc_uderzen_serca: 150.0</br>bol_klatka_wysilek: 0.0</br>max_obnizka_st: 0.4</br>przebieg_st_szczyt: 2.0</br>zwapnienia_miazdzycowe: 1.0</br>proba_ta: 7.0</br>_original_yhat_: 0.42</br>"
          ],
          [
           "</br>id: 30</br>prediction: 0.42</br>cukier_we_krwi: 0.45</br></br>wiek: 57.0</br>plec: 1.0</br>typ_bolu_klatka: 3.0</br>cisnienie_krwi_spoczynek: 128.0</br>cholesterol_we_krwi: 229.0</br>wynik_ekg_spoczynek: 2.0</br>ilosc_uderzen_serca: 150.0</br>bol_klatka_wysilek: 0.0</br>max_obnizka_st: 0.4</br>przebieg_st_szczyt: 2.0</br>zwapnienia_miazdzycowe: 1.0</br>proba_ta: 7.0</br>_original_yhat_: 0.42</br>"
          ],
          [
           "</br>id: 30</br>prediction: 0.42</br>cukier_we_krwi: 0.46</br></br>wiek: 57.0</br>plec: 1.0</br>typ_bolu_klatka: 3.0</br>cisnienie_krwi_spoczynek: 128.0</br>cholesterol_we_krwi: 229.0</br>wynik_ekg_spoczynek: 2.0</br>ilosc_uderzen_serca: 150.0</br>bol_klatka_wysilek: 0.0</br>max_obnizka_st: 0.4</br>przebieg_st_szczyt: 2.0</br>zwapnienia_miazdzycowe: 1.0</br>proba_ta: 7.0</br>_original_yhat_: 0.42</br>"
          ],
          [
           "</br>id: 30</br>prediction: 0.42</br>cukier_we_krwi: 0.47000000000000003</br></br>wiek: 57.0</br>plec: 1.0</br>typ_bolu_klatka: 3.0</br>cisnienie_krwi_spoczynek: 128.0</br>cholesterol_we_krwi: 229.0</br>wynik_ekg_spoczynek: 2.0</br>ilosc_uderzen_serca: 150.0</br>bol_klatka_wysilek: 0.0</br>max_obnizka_st: 0.4</br>przebieg_st_szczyt: 2.0</br>zwapnienia_miazdzycowe: 1.0</br>proba_ta: 7.0</br>_original_yhat_: 0.42</br>"
          ],
          [
           "</br>id: 30</br>prediction: 0.42</br>cukier_we_krwi: 0.48</br></br>wiek: 57.0</br>plec: 1.0</br>typ_bolu_klatka: 3.0</br>cisnienie_krwi_spoczynek: 128.0</br>cholesterol_we_krwi: 229.0</br>wynik_ekg_spoczynek: 2.0</br>ilosc_uderzen_serca: 150.0</br>bol_klatka_wysilek: 0.0</br>max_obnizka_st: 0.4</br>przebieg_st_szczyt: 2.0</br>zwapnienia_miazdzycowe: 1.0</br>proba_ta: 7.0</br>_original_yhat_: 0.42</br>"
          ],
          [
           "</br>id: 30</br>prediction: 0.42</br>cukier_we_krwi: 0.49</br></br>wiek: 57.0</br>plec: 1.0</br>typ_bolu_klatka: 3.0</br>cisnienie_krwi_spoczynek: 128.0</br>cholesterol_we_krwi: 229.0</br>wynik_ekg_spoczynek: 2.0</br>ilosc_uderzen_serca: 150.0</br>bol_klatka_wysilek: 0.0</br>max_obnizka_st: 0.4</br>przebieg_st_szczyt: 2.0</br>zwapnienia_miazdzycowe: 1.0</br>proba_ta: 7.0</br>_original_yhat_: 0.42</br>"
          ],
          [
           "</br>id: 30</br>prediction: 0.42</br>cukier_we_krwi: 0.5</br></br>wiek: 57.0</br>plec: 1.0</br>typ_bolu_klatka: 3.0</br>cisnienie_krwi_spoczynek: 128.0</br>cholesterol_we_krwi: 229.0</br>wynik_ekg_spoczynek: 2.0</br>ilosc_uderzen_serca: 150.0</br>bol_klatka_wysilek: 0.0</br>max_obnizka_st: 0.4</br>przebieg_st_szczyt: 2.0</br>zwapnienia_miazdzycowe: 1.0</br>proba_ta: 7.0</br>_original_yhat_: 0.42</br>"
          ],
          [
           "</br>id: 30</br>prediction: 0.42</br>cukier_we_krwi: 0.51</br></br>wiek: 57.0</br>plec: 1.0</br>typ_bolu_klatka: 3.0</br>cisnienie_krwi_spoczynek: 128.0</br>cholesterol_we_krwi: 229.0</br>wynik_ekg_spoczynek: 2.0</br>ilosc_uderzen_serca: 150.0</br>bol_klatka_wysilek: 0.0</br>max_obnizka_st: 0.4</br>przebieg_st_szczyt: 2.0</br>zwapnienia_miazdzycowe: 1.0</br>proba_ta: 7.0</br>_original_yhat_: 0.42</br>"
          ],
          [
           "</br>id: 30</br>prediction: 0.42</br>cukier_we_krwi: 0.52</br></br>wiek: 57.0</br>plec: 1.0</br>typ_bolu_klatka: 3.0</br>cisnienie_krwi_spoczynek: 128.0</br>cholesterol_we_krwi: 229.0</br>wynik_ekg_spoczynek: 2.0</br>ilosc_uderzen_serca: 150.0</br>bol_klatka_wysilek: 0.0</br>max_obnizka_st: 0.4</br>przebieg_st_szczyt: 2.0</br>zwapnienia_miazdzycowe: 1.0</br>proba_ta: 7.0</br>_original_yhat_: 0.42</br>"
          ],
          [
           "</br>id: 30</br>prediction: 0.42</br>cukier_we_krwi: 0.53</br></br>wiek: 57.0</br>plec: 1.0</br>typ_bolu_klatka: 3.0</br>cisnienie_krwi_spoczynek: 128.0</br>cholesterol_we_krwi: 229.0</br>wynik_ekg_spoczynek: 2.0</br>ilosc_uderzen_serca: 150.0</br>bol_klatka_wysilek: 0.0</br>max_obnizka_st: 0.4</br>przebieg_st_szczyt: 2.0</br>zwapnienia_miazdzycowe: 1.0</br>proba_ta: 7.0</br>_original_yhat_: 0.42</br>"
          ],
          [
           "</br>id: 30</br>prediction: 0.42</br>cukier_we_krwi: 0.54</br></br>wiek: 57.0</br>plec: 1.0</br>typ_bolu_klatka: 3.0</br>cisnienie_krwi_spoczynek: 128.0</br>cholesterol_we_krwi: 229.0</br>wynik_ekg_spoczynek: 2.0</br>ilosc_uderzen_serca: 150.0</br>bol_klatka_wysilek: 0.0</br>max_obnizka_st: 0.4</br>przebieg_st_szczyt: 2.0</br>zwapnienia_miazdzycowe: 1.0</br>proba_ta: 7.0</br>_original_yhat_: 0.42</br>"
          ],
          [
           "</br>id: 30</br>prediction: 0.42</br>cukier_we_krwi: 0.55</br></br>wiek: 57.0</br>plec: 1.0</br>typ_bolu_klatka: 3.0</br>cisnienie_krwi_spoczynek: 128.0</br>cholesterol_we_krwi: 229.0</br>wynik_ekg_spoczynek: 2.0</br>ilosc_uderzen_serca: 150.0</br>bol_klatka_wysilek: 0.0</br>max_obnizka_st: 0.4</br>przebieg_st_szczyt: 2.0</br>zwapnienia_miazdzycowe: 1.0</br>proba_ta: 7.0</br>_original_yhat_: 0.42</br>"
          ],
          [
           "</br>id: 30</br>prediction: 0.42</br>cukier_we_krwi: 0.56</br></br>wiek: 57.0</br>plec: 1.0</br>typ_bolu_klatka: 3.0</br>cisnienie_krwi_spoczynek: 128.0</br>cholesterol_we_krwi: 229.0</br>wynik_ekg_spoczynek: 2.0</br>ilosc_uderzen_serca: 150.0</br>bol_klatka_wysilek: 0.0</br>max_obnizka_st: 0.4</br>przebieg_st_szczyt: 2.0</br>zwapnienia_miazdzycowe: 1.0</br>proba_ta: 7.0</br>_original_yhat_: 0.42</br>"
          ],
          [
           "</br>id: 30</br>prediction: 0.42</br>cukier_we_krwi: 0.5700000000000001</br></br>wiek: 57.0</br>plec: 1.0</br>typ_bolu_klatka: 3.0</br>cisnienie_krwi_spoczynek: 128.0</br>cholesterol_we_krwi: 229.0</br>wynik_ekg_spoczynek: 2.0</br>ilosc_uderzen_serca: 150.0</br>bol_klatka_wysilek: 0.0</br>max_obnizka_st: 0.4</br>przebieg_st_szczyt: 2.0</br>zwapnienia_miazdzycowe: 1.0</br>proba_ta: 7.0</br>_original_yhat_: 0.42</br>"
          ],
          [
           "</br>id: 30</br>prediction: 0.42</br>cukier_we_krwi: 0.58</br></br>wiek: 57.0</br>plec: 1.0</br>typ_bolu_klatka: 3.0</br>cisnienie_krwi_spoczynek: 128.0</br>cholesterol_we_krwi: 229.0</br>wynik_ekg_spoczynek: 2.0</br>ilosc_uderzen_serca: 150.0</br>bol_klatka_wysilek: 0.0</br>max_obnizka_st: 0.4</br>przebieg_st_szczyt: 2.0</br>zwapnienia_miazdzycowe: 1.0</br>proba_ta: 7.0</br>_original_yhat_: 0.42</br>"
          ],
          [
           "</br>id: 30</br>prediction: 0.42</br>cukier_we_krwi: 0.59</br></br>wiek: 57.0</br>plec: 1.0</br>typ_bolu_klatka: 3.0</br>cisnienie_krwi_spoczynek: 128.0</br>cholesterol_we_krwi: 229.0</br>wynik_ekg_spoczynek: 2.0</br>ilosc_uderzen_serca: 150.0</br>bol_klatka_wysilek: 0.0</br>max_obnizka_st: 0.4</br>przebieg_st_szczyt: 2.0</br>zwapnienia_miazdzycowe: 1.0</br>proba_ta: 7.0</br>_original_yhat_: 0.42</br>"
          ],
          [
           "</br>id: 30</br>prediction: 0.42</br>cukier_we_krwi: 0.6</br></br>wiek: 57.0</br>plec: 1.0</br>typ_bolu_klatka: 3.0</br>cisnienie_krwi_spoczynek: 128.0</br>cholesterol_we_krwi: 229.0</br>wynik_ekg_spoczynek: 2.0</br>ilosc_uderzen_serca: 150.0</br>bol_klatka_wysilek: 0.0</br>max_obnizka_st: 0.4</br>przebieg_st_szczyt: 2.0</br>zwapnienia_miazdzycowe: 1.0</br>proba_ta: 7.0</br>_original_yhat_: 0.42</br>"
          ],
          [
           "</br>id: 30</br>prediction: 0.42</br>cukier_we_krwi: 0.61</br></br>wiek: 57.0</br>plec: 1.0</br>typ_bolu_klatka: 3.0</br>cisnienie_krwi_spoczynek: 128.0</br>cholesterol_we_krwi: 229.0</br>wynik_ekg_spoczynek: 2.0</br>ilosc_uderzen_serca: 150.0</br>bol_klatka_wysilek: 0.0</br>max_obnizka_st: 0.4</br>przebieg_st_szczyt: 2.0</br>zwapnienia_miazdzycowe: 1.0</br>proba_ta: 7.0</br>_original_yhat_: 0.42</br>"
          ],
          [
           "</br>id: 30</br>prediction: 0.42</br>cukier_we_krwi: 0.62</br></br>wiek: 57.0</br>plec: 1.0</br>typ_bolu_klatka: 3.0</br>cisnienie_krwi_spoczynek: 128.0</br>cholesterol_we_krwi: 229.0</br>wynik_ekg_spoczynek: 2.0</br>ilosc_uderzen_serca: 150.0</br>bol_klatka_wysilek: 0.0</br>max_obnizka_st: 0.4</br>przebieg_st_szczyt: 2.0</br>zwapnienia_miazdzycowe: 1.0</br>proba_ta: 7.0</br>_original_yhat_: 0.42</br>"
          ],
          [
           "</br>id: 30</br>prediction: 0.42</br>cukier_we_krwi: 0.63</br></br>wiek: 57.0</br>plec: 1.0</br>typ_bolu_klatka: 3.0</br>cisnienie_krwi_spoczynek: 128.0</br>cholesterol_we_krwi: 229.0</br>wynik_ekg_spoczynek: 2.0</br>ilosc_uderzen_serca: 150.0</br>bol_klatka_wysilek: 0.0</br>max_obnizka_st: 0.4</br>przebieg_st_szczyt: 2.0</br>zwapnienia_miazdzycowe: 1.0</br>proba_ta: 7.0</br>_original_yhat_: 0.42</br>"
          ],
          [
           "</br>id: 30</br>prediction: 0.42</br>cukier_we_krwi: 0.64</br></br>wiek: 57.0</br>plec: 1.0</br>typ_bolu_klatka: 3.0</br>cisnienie_krwi_spoczynek: 128.0</br>cholesterol_we_krwi: 229.0</br>wynik_ekg_spoczynek: 2.0</br>ilosc_uderzen_serca: 150.0</br>bol_klatka_wysilek: 0.0</br>max_obnizka_st: 0.4</br>przebieg_st_szczyt: 2.0</br>zwapnienia_miazdzycowe: 1.0</br>proba_ta: 7.0</br>_original_yhat_: 0.42</br>"
          ],
          [
           "</br>id: 30</br>prediction: 0.42</br>cukier_we_krwi: 0.65</br></br>wiek: 57.0</br>plec: 1.0</br>typ_bolu_klatka: 3.0</br>cisnienie_krwi_spoczynek: 128.0</br>cholesterol_we_krwi: 229.0</br>wynik_ekg_spoczynek: 2.0</br>ilosc_uderzen_serca: 150.0</br>bol_klatka_wysilek: 0.0</br>max_obnizka_st: 0.4</br>przebieg_st_szczyt: 2.0</br>zwapnienia_miazdzycowe: 1.0</br>proba_ta: 7.0</br>_original_yhat_: 0.42</br>"
          ],
          [
           "</br>id: 30</br>prediction: 0.42</br>cukier_we_krwi: 0.66</br></br>wiek: 57.0</br>plec: 1.0</br>typ_bolu_klatka: 3.0</br>cisnienie_krwi_spoczynek: 128.0</br>cholesterol_we_krwi: 229.0</br>wynik_ekg_spoczynek: 2.0</br>ilosc_uderzen_serca: 150.0</br>bol_klatka_wysilek: 0.0</br>max_obnizka_st: 0.4</br>przebieg_st_szczyt: 2.0</br>zwapnienia_miazdzycowe: 1.0</br>proba_ta: 7.0</br>_original_yhat_: 0.42</br>"
          ],
          [
           "</br>id: 30</br>prediction: 0.42</br>cukier_we_krwi: 0.67</br></br>wiek: 57.0</br>plec: 1.0</br>typ_bolu_klatka: 3.0</br>cisnienie_krwi_spoczynek: 128.0</br>cholesterol_we_krwi: 229.0</br>wynik_ekg_spoczynek: 2.0</br>ilosc_uderzen_serca: 150.0</br>bol_klatka_wysilek: 0.0</br>max_obnizka_st: 0.4</br>przebieg_st_szczyt: 2.0</br>zwapnienia_miazdzycowe: 1.0</br>proba_ta: 7.0</br>_original_yhat_: 0.42</br>"
          ],
          [
           "</br>id: 30</br>prediction: 0.42</br>cukier_we_krwi: 0.68</br></br>wiek: 57.0</br>plec: 1.0</br>typ_bolu_klatka: 3.0</br>cisnienie_krwi_spoczynek: 128.0</br>cholesterol_we_krwi: 229.0</br>wynik_ekg_spoczynek: 2.0</br>ilosc_uderzen_serca: 150.0</br>bol_klatka_wysilek: 0.0</br>max_obnizka_st: 0.4</br>przebieg_st_szczyt: 2.0</br>zwapnienia_miazdzycowe: 1.0</br>proba_ta: 7.0</br>_original_yhat_: 0.42</br>"
          ],
          [
           "</br>id: 30</br>prediction: 0.42</br>cukier_we_krwi: 0.6900000000000001</br></br>wiek: 57.0</br>plec: 1.0</br>typ_bolu_klatka: 3.0</br>cisnienie_krwi_spoczynek: 128.0</br>cholesterol_we_krwi: 229.0</br>wynik_ekg_spoczynek: 2.0</br>ilosc_uderzen_serca: 150.0</br>bol_klatka_wysilek: 0.0</br>max_obnizka_st: 0.4</br>przebieg_st_szczyt: 2.0</br>zwapnienia_miazdzycowe: 1.0</br>proba_ta: 7.0</br>_original_yhat_: 0.42</br>"
          ],
          [
           "</br>id: 30</br>prediction: 0.42</br>cukier_we_krwi: 0.7000000000000001</br></br>wiek: 57.0</br>plec: 1.0</br>typ_bolu_klatka: 3.0</br>cisnienie_krwi_spoczynek: 128.0</br>cholesterol_we_krwi: 229.0</br>wynik_ekg_spoczynek: 2.0</br>ilosc_uderzen_serca: 150.0</br>bol_klatka_wysilek: 0.0</br>max_obnizka_st: 0.4</br>przebieg_st_szczyt: 2.0</br>zwapnienia_miazdzycowe: 1.0</br>proba_ta: 7.0</br>_original_yhat_: 0.42</br>"
          ],
          [
           "</br>id: 30</br>prediction: 0.42</br>cukier_we_krwi: 0.71</br></br>wiek: 57.0</br>plec: 1.0</br>typ_bolu_klatka: 3.0</br>cisnienie_krwi_spoczynek: 128.0</br>cholesterol_we_krwi: 229.0</br>wynik_ekg_spoczynek: 2.0</br>ilosc_uderzen_serca: 150.0</br>bol_klatka_wysilek: 0.0</br>max_obnizka_st: 0.4</br>przebieg_st_szczyt: 2.0</br>zwapnienia_miazdzycowe: 1.0</br>proba_ta: 7.0</br>_original_yhat_: 0.42</br>"
          ],
          [
           "</br>id: 30</br>prediction: 0.42</br>cukier_we_krwi: 0.72</br></br>wiek: 57.0</br>plec: 1.0</br>typ_bolu_klatka: 3.0</br>cisnienie_krwi_spoczynek: 128.0</br>cholesterol_we_krwi: 229.0</br>wynik_ekg_spoczynek: 2.0</br>ilosc_uderzen_serca: 150.0</br>bol_klatka_wysilek: 0.0</br>max_obnizka_st: 0.4</br>przebieg_st_szczyt: 2.0</br>zwapnienia_miazdzycowe: 1.0</br>proba_ta: 7.0</br>_original_yhat_: 0.42</br>"
          ],
          [
           "</br>id: 30</br>prediction: 0.42</br>cukier_we_krwi: 0.73</br></br>wiek: 57.0</br>plec: 1.0</br>typ_bolu_klatka: 3.0</br>cisnienie_krwi_spoczynek: 128.0</br>cholesterol_we_krwi: 229.0</br>wynik_ekg_spoczynek: 2.0</br>ilosc_uderzen_serca: 150.0</br>bol_klatka_wysilek: 0.0</br>max_obnizka_st: 0.4</br>przebieg_st_szczyt: 2.0</br>zwapnienia_miazdzycowe: 1.0</br>proba_ta: 7.0</br>_original_yhat_: 0.42</br>"
          ],
          [
           "</br>id: 30</br>prediction: 0.42</br>cukier_we_krwi: 0.74</br></br>wiek: 57.0</br>plec: 1.0</br>typ_bolu_klatka: 3.0</br>cisnienie_krwi_spoczynek: 128.0</br>cholesterol_we_krwi: 229.0</br>wynik_ekg_spoczynek: 2.0</br>ilosc_uderzen_serca: 150.0</br>bol_klatka_wysilek: 0.0</br>max_obnizka_st: 0.4</br>przebieg_st_szczyt: 2.0</br>zwapnienia_miazdzycowe: 1.0</br>proba_ta: 7.0</br>_original_yhat_: 0.42</br>"
          ],
          [
           "</br>id: 30</br>prediction: 0.42</br>cukier_we_krwi: 0.75</br></br>wiek: 57.0</br>plec: 1.0</br>typ_bolu_klatka: 3.0</br>cisnienie_krwi_spoczynek: 128.0</br>cholesterol_we_krwi: 229.0</br>wynik_ekg_spoczynek: 2.0</br>ilosc_uderzen_serca: 150.0</br>bol_klatka_wysilek: 0.0</br>max_obnizka_st: 0.4</br>przebieg_st_szczyt: 2.0</br>zwapnienia_miazdzycowe: 1.0</br>proba_ta: 7.0</br>_original_yhat_: 0.42</br>"
          ],
          [
           "</br>id: 30</br>prediction: 0.42</br>cukier_we_krwi: 0.76</br></br>wiek: 57.0</br>plec: 1.0</br>typ_bolu_klatka: 3.0</br>cisnienie_krwi_spoczynek: 128.0</br>cholesterol_we_krwi: 229.0</br>wynik_ekg_spoczynek: 2.0</br>ilosc_uderzen_serca: 150.0</br>bol_klatka_wysilek: 0.0</br>max_obnizka_st: 0.4</br>przebieg_st_szczyt: 2.0</br>zwapnienia_miazdzycowe: 1.0</br>proba_ta: 7.0</br>_original_yhat_: 0.42</br>"
          ],
          [
           "</br>id: 30</br>prediction: 0.42</br>cukier_we_krwi: 0.77</br></br>wiek: 57.0</br>plec: 1.0</br>typ_bolu_klatka: 3.0</br>cisnienie_krwi_spoczynek: 128.0</br>cholesterol_we_krwi: 229.0</br>wynik_ekg_spoczynek: 2.0</br>ilosc_uderzen_serca: 150.0</br>bol_klatka_wysilek: 0.0</br>max_obnizka_st: 0.4</br>przebieg_st_szczyt: 2.0</br>zwapnienia_miazdzycowe: 1.0</br>proba_ta: 7.0</br>_original_yhat_: 0.42</br>"
          ],
          [
           "</br>id: 30</br>prediction: 0.42</br>cukier_we_krwi: 0.78</br></br>wiek: 57.0</br>plec: 1.0</br>typ_bolu_klatka: 3.0</br>cisnienie_krwi_spoczynek: 128.0</br>cholesterol_we_krwi: 229.0</br>wynik_ekg_spoczynek: 2.0</br>ilosc_uderzen_serca: 150.0</br>bol_klatka_wysilek: 0.0</br>max_obnizka_st: 0.4</br>przebieg_st_szczyt: 2.0</br>zwapnienia_miazdzycowe: 1.0</br>proba_ta: 7.0</br>_original_yhat_: 0.42</br>"
          ],
          [
           "</br>id: 30</br>prediction: 0.42</br>cukier_we_krwi: 0.79</br></br>wiek: 57.0</br>plec: 1.0</br>typ_bolu_klatka: 3.0</br>cisnienie_krwi_spoczynek: 128.0</br>cholesterol_we_krwi: 229.0</br>wynik_ekg_spoczynek: 2.0</br>ilosc_uderzen_serca: 150.0</br>bol_klatka_wysilek: 0.0</br>max_obnizka_st: 0.4</br>przebieg_st_szczyt: 2.0</br>zwapnienia_miazdzycowe: 1.0</br>proba_ta: 7.0</br>_original_yhat_: 0.42</br>"
          ],
          [
           "</br>id: 30</br>prediction: 0.42</br>cukier_we_krwi: 0.8</br></br>wiek: 57.0</br>plec: 1.0</br>typ_bolu_klatka: 3.0</br>cisnienie_krwi_spoczynek: 128.0</br>cholesterol_we_krwi: 229.0</br>wynik_ekg_spoczynek: 2.0</br>ilosc_uderzen_serca: 150.0</br>bol_klatka_wysilek: 0.0</br>max_obnizka_st: 0.4</br>przebieg_st_szczyt: 2.0</br>zwapnienia_miazdzycowe: 1.0</br>proba_ta: 7.0</br>_original_yhat_: 0.42</br>"
          ],
          [
           "</br>id: 30</br>prediction: 0.42</br>cukier_we_krwi: 0.81</br></br>wiek: 57.0</br>plec: 1.0</br>typ_bolu_klatka: 3.0</br>cisnienie_krwi_spoczynek: 128.0</br>cholesterol_we_krwi: 229.0</br>wynik_ekg_spoczynek: 2.0</br>ilosc_uderzen_serca: 150.0</br>bol_klatka_wysilek: 0.0</br>max_obnizka_st: 0.4</br>przebieg_st_szczyt: 2.0</br>zwapnienia_miazdzycowe: 1.0</br>proba_ta: 7.0</br>_original_yhat_: 0.42</br>"
          ],
          [
           "</br>id: 30</br>prediction: 0.42</br>cukier_we_krwi: 0.8200000000000001</br></br>wiek: 57.0</br>plec: 1.0</br>typ_bolu_klatka: 3.0</br>cisnienie_krwi_spoczynek: 128.0</br>cholesterol_we_krwi: 229.0</br>wynik_ekg_spoczynek: 2.0</br>ilosc_uderzen_serca: 150.0</br>bol_klatka_wysilek: 0.0</br>max_obnizka_st: 0.4</br>przebieg_st_szczyt: 2.0</br>zwapnienia_miazdzycowe: 1.0</br>proba_ta: 7.0</br>_original_yhat_: 0.42</br>"
          ],
          [
           "</br>id: 30</br>prediction: 0.42</br>cukier_we_krwi: 0.8300000000000001</br></br>wiek: 57.0</br>plec: 1.0</br>typ_bolu_klatka: 3.0</br>cisnienie_krwi_spoczynek: 128.0</br>cholesterol_we_krwi: 229.0</br>wynik_ekg_spoczynek: 2.0</br>ilosc_uderzen_serca: 150.0</br>bol_klatka_wysilek: 0.0</br>max_obnizka_st: 0.4</br>przebieg_st_szczyt: 2.0</br>zwapnienia_miazdzycowe: 1.0</br>proba_ta: 7.0</br>_original_yhat_: 0.42</br>"
          ],
          [
           "</br>id: 30</br>prediction: 0.42</br>cukier_we_krwi: 0.84</br></br>wiek: 57.0</br>plec: 1.0</br>typ_bolu_klatka: 3.0</br>cisnienie_krwi_spoczynek: 128.0</br>cholesterol_we_krwi: 229.0</br>wynik_ekg_spoczynek: 2.0</br>ilosc_uderzen_serca: 150.0</br>bol_klatka_wysilek: 0.0</br>max_obnizka_st: 0.4</br>przebieg_st_szczyt: 2.0</br>zwapnienia_miazdzycowe: 1.0</br>proba_ta: 7.0</br>_original_yhat_: 0.42</br>"
          ],
          [
           "</br>id: 30</br>prediction: 0.42</br>cukier_we_krwi: 0.85</br></br>wiek: 57.0</br>plec: 1.0</br>typ_bolu_klatka: 3.0</br>cisnienie_krwi_spoczynek: 128.0</br>cholesterol_we_krwi: 229.0</br>wynik_ekg_spoczynek: 2.0</br>ilosc_uderzen_serca: 150.0</br>bol_klatka_wysilek: 0.0</br>max_obnizka_st: 0.4</br>przebieg_st_szczyt: 2.0</br>zwapnienia_miazdzycowe: 1.0</br>proba_ta: 7.0</br>_original_yhat_: 0.42</br>"
          ],
          [
           "</br>id: 30</br>prediction: 0.42</br>cukier_we_krwi: 0.86</br></br>wiek: 57.0</br>plec: 1.0</br>typ_bolu_klatka: 3.0</br>cisnienie_krwi_spoczynek: 128.0</br>cholesterol_we_krwi: 229.0</br>wynik_ekg_spoczynek: 2.0</br>ilosc_uderzen_serca: 150.0</br>bol_klatka_wysilek: 0.0</br>max_obnizka_st: 0.4</br>przebieg_st_szczyt: 2.0</br>zwapnienia_miazdzycowe: 1.0</br>proba_ta: 7.0</br>_original_yhat_: 0.42</br>"
          ],
          [
           "</br>id: 30</br>prediction: 0.42</br>cukier_we_krwi: 0.87</br></br>wiek: 57.0</br>plec: 1.0</br>typ_bolu_klatka: 3.0</br>cisnienie_krwi_spoczynek: 128.0</br>cholesterol_we_krwi: 229.0</br>wynik_ekg_spoczynek: 2.0</br>ilosc_uderzen_serca: 150.0</br>bol_klatka_wysilek: 0.0</br>max_obnizka_st: 0.4</br>przebieg_st_szczyt: 2.0</br>zwapnienia_miazdzycowe: 1.0</br>proba_ta: 7.0</br>_original_yhat_: 0.42</br>"
          ],
          [
           "</br>id: 30</br>prediction: 0.42</br>cukier_we_krwi: 0.88</br></br>wiek: 57.0</br>plec: 1.0</br>typ_bolu_klatka: 3.0</br>cisnienie_krwi_spoczynek: 128.0</br>cholesterol_we_krwi: 229.0</br>wynik_ekg_spoczynek: 2.0</br>ilosc_uderzen_serca: 150.0</br>bol_klatka_wysilek: 0.0</br>max_obnizka_st: 0.4</br>przebieg_st_szczyt: 2.0</br>zwapnienia_miazdzycowe: 1.0</br>proba_ta: 7.0</br>_original_yhat_: 0.42</br>"
          ],
          [
           "</br>id: 30</br>prediction: 0.42</br>cukier_we_krwi: 0.89</br></br>wiek: 57.0</br>plec: 1.0</br>typ_bolu_klatka: 3.0</br>cisnienie_krwi_spoczynek: 128.0</br>cholesterol_we_krwi: 229.0</br>wynik_ekg_spoczynek: 2.0</br>ilosc_uderzen_serca: 150.0</br>bol_klatka_wysilek: 0.0</br>max_obnizka_st: 0.4</br>przebieg_st_szczyt: 2.0</br>zwapnienia_miazdzycowe: 1.0</br>proba_ta: 7.0</br>_original_yhat_: 0.42</br>"
          ],
          [
           "</br>id: 30</br>prediction: 0.42</br>cukier_we_krwi: 0.9</br></br>wiek: 57.0</br>plec: 1.0</br>typ_bolu_klatka: 3.0</br>cisnienie_krwi_spoczynek: 128.0</br>cholesterol_we_krwi: 229.0</br>wynik_ekg_spoczynek: 2.0</br>ilosc_uderzen_serca: 150.0</br>bol_klatka_wysilek: 0.0</br>max_obnizka_st: 0.4</br>przebieg_st_szczyt: 2.0</br>zwapnienia_miazdzycowe: 1.0</br>proba_ta: 7.0</br>_original_yhat_: 0.42</br>"
          ],
          [
           "</br>id: 30</br>prediction: 0.42</br>cukier_we_krwi: 0.91</br></br>wiek: 57.0</br>plec: 1.0</br>typ_bolu_klatka: 3.0</br>cisnienie_krwi_spoczynek: 128.0</br>cholesterol_we_krwi: 229.0</br>wynik_ekg_spoczynek: 2.0</br>ilosc_uderzen_serca: 150.0</br>bol_klatka_wysilek: 0.0</br>max_obnizka_st: 0.4</br>przebieg_st_szczyt: 2.0</br>zwapnienia_miazdzycowe: 1.0</br>proba_ta: 7.0</br>_original_yhat_: 0.42</br>"
          ],
          [
           "</br>id: 30</br>prediction: 0.42</br>cukier_we_krwi: 0.92</br></br>wiek: 57.0</br>plec: 1.0</br>typ_bolu_klatka: 3.0</br>cisnienie_krwi_spoczynek: 128.0</br>cholesterol_we_krwi: 229.0</br>wynik_ekg_spoczynek: 2.0</br>ilosc_uderzen_serca: 150.0</br>bol_klatka_wysilek: 0.0</br>max_obnizka_st: 0.4</br>przebieg_st_szczyt: 2.0</br>zwapnienia_miazdzycowe: 1.0</br>proba_ta: 7.0</br>_original_yhat_: 0.42</br>"
          ],
          [
           "</br>id: 30</br>prediction: 0.42</br>cukier_we_krwi: 0.93</br></br>wiek: 57.0</br>plec: 1.0</br>typ_bolu_klatka: 3.0</br>cisnienie_krwi_spoczynek: 128.0</br>cholesterol_we_krwi: 229.0</br>wynik_ekg_spoczynek: 2.0</br>ilosc_uderzen_serca: 150.0</br>bol_klatka_wysilek: 0.0</br>max_obnizka_st: 0.4</br>przebieg_st_szczyt: 2.0</br>zwapnienia_miazdzycowe: 1.0</br>proba_ta: 7.0</br>_original_yhat_: 0.42</br>"
          ],
          [
           "</br>id: 30</br>prediction: 0.42</br>cukier_we_krwi: 0.9400000000000001</br></br>wiek: 57.0</br>plec: 1.0</br>typ_bolu_klatka: 3.0</br>cisnienie_krwi_spoczynek: 128.0</br>cholesterol_we_krwi: 229.0</br>wynik_ekg_spoczynek: 2.0</br>ilosc_uderzen_serca: 150.0</br>bol_klatka_wysilek: 0.0</br>max_obnizka_st: 0.4</br>przebieg_st_szczyt: 2.0</br>zwapnienia_miazdzycowe: 1.0</br>proba_ta: 7.0</br>_original_yhat_: 0.42</br>"
          ],
          [
           "</br>id: 30</br>prediction: 0.42</br>cukier_we_krwi: 0.9500000000000001</br></br>wiek: 57.0</br>plec: 1.0</br>typ_bolu_klatka: 3.0</br>cisnienie_krwi_spoczynek: 128.0</br>cholesterol_we_krwi: 229.0</br>wynik_ekg_spoczynek: 2.0</br>ilosc_uderzen_serca: 150.0</br>bol_klatka_wysilek: 0.0</br>max_obnizka_st: 0.4</br>przebieg_st_szczyt: 2.0</br>zwapnienia_miazdzycowe: 1.0</br>proba_ta: 7.0</br>_original_yhat_: 0.42</br>"
          ],
          [
           "</br>id: 30</br>prediction: 0.42</br>cukier_we_krwi: 0.96</br></br>wiek: 57.0</br>plec: 1.0</br>typ_bolu_klatka: 3.0</br>cisnienie_krwi_spoczynek: 128.0</br>cholesterol_we_krwi: 229.0</br>wynik_ekg_spoczynek: 2.0</br>ilosc_uderzen_serca: 150.0</br>bol_klatka_wysilek: 0.0</br>max_obnizka_st: 0.4</br>przebieg_st_szczyt: 2.0</br>zwapnienia_miazdzycowe: 1.0</br>proba_ta: 7.0</br>_original_yhat_: 0.42</br>"
          ],
          [
           "</br>id: 30</br>prediction: 0.42</br>cukier_we_krwi: 0.97</br></br>wiek: 57.0</br>plec: 1.0</br>typ_bolu_klatka: 3.0</br>cisnienie_krwi_spoczynek: 128.0</br>cholesterol_we_krwi: 229.0</br>wynik_ekg_spoczynek: 2.0</br>ilosc_uderzen_serca: 150.0</br>bol_klatka_wysilek: 0.0</br>max_obnizka_st: 0.4</br>przebieg_st_szczyt: 2.0</br>zwapnienia_miazdzycowe: 1.0</br>proba_ta: 7.0</br>_original_yhat_: 0.42</br>"
          ],
          [
           "</br>id: 30</br>prediction: 0.42</br>cukier_we_krwi: 0.98</br></br>wiek: 57.0</br>plec: 1.0</br>typ_bolu_klatka: 3.0</br>cisnienie_krwi_spoczynek: 128.0</br>cholesterol_we_krwi: 229.0</br>wynik_ekg_spoczynek: 2.0</br>ilosc_uderzen_serca: 150.0</br>bol_klatka_wysilek: 0.0</br>max_obnizka_st: 0.4</br>przebieg_st_szczyt: 2.0</br>zwapnienia_miazdzycowe: 1.0</br>proba_ta: 7.0</br>_original_yhat_: 0.42</br>"
          ],
          [
           "</br>id: 30</br>prediction: 0.42</br>cukier_we_krwi: 0.99</br></br>wiek: 57.0</br>plec: 1.0</br>typ_bolu_klatka: 3.0</br>cisnienie_krwi_spoczynek: 128.0</br>cholesterol_we_krwi: 229.0</br>wynik_ekg_spoczynek: 2.0</br>ilosc_uderzen_serca: 150.0</br>bol_klatka_wysilek: 0.0</br>max_obnizka_st: 0.4</br>przebieg_st_szczyt: 2.0</br>zwapnienia_miazdzycowe: 1.0</br>proba_ta: 7.0</br>_original_yhat_: 0.42</br>"
          ],
          [
           "</br>id: 30</br>prediction: 0.42</br>cukier_we_krwi: 1.0</br></br>wiek: 57.0</br>plec: 1.0</br>typ_bolu_klatka: 3.0</br>cisnienie_krwi_spoczynek: 128.0</br>cholesterol_we_krwi: 229.0</br>wynik_ekg_spoczynek: 2.0</br>ilosc_uderzen_serca: 150.0</br>bol_klatka_wysilek: 0.0</br>max_obnizka_st: 0.4</br>przebieg_st_szczyt: 2.0</br>zwapnienia_miazdzycowe: 1.0</br>proba_ta: 7.0</br>_original_yhat_: 0.42</br>"
          ]
         ],
         "hovertemplate": "%{customdata[0]}<extra></extra>",
         "legendgroup": "Model RandomForest dla danych serca",
         "line": {
          "color": "#46bac2",
          "dash": "solid",
          "width": 2
         },
         "marker": {
          "symbol": "circle"
         },
         "mode": "lines",
         "name": "Model RandomForest dla danych serca",
         "opacity": 1,
         "showlegend": false,
         "type": "scattergl",
         "x": [
          0,
          0.01,
          0.02,
          0.03,
          0.04,
          0.05,
          0.06,
          0.07,
          0.08,
          0.09,
          0.1,
          0.11,
          0.12,
          0.13,
          0.14,
          0.15,
          0.16,
          0.17,
          0.18,
          0.19,
          0.2,
          0.21,
          0.22,
          0.23,
          0.24,
          0.25,
          0.26,
          0.27,
          0.28,
          0.29,
          0.3,
          0.31,
          0.32,
          0.33,
          0.34,
          0.35000000000000003,
          0.36,
          0.37,
          0.38,
          0.39,
          0.4,
          0.41000000000000003,
          0.42,
          0.43,
          0.44,
          0.45,
          0.46,
          0.47000000000000003,
          0.48,
          0.49,
          0.5,
          0.51,
          0.52,
          0.53,
          0.54,
          0.55,
          0.56,
          0.5700000000000001,
          0.58,
          0.59,
          0.6,
          0.61,
          0.62,
          0.63,
          0.64,
          0.65,
          0.66,
          0.67,
          0.68,
          0.6900000000000001,
          0.7000000000000001,
          0.71,
          0.72,
          0.73,
          0.74,
          0.75,
          0.76,
          0.77,
          0.78,
          0.79,
          0.8,
          0.81,
          0.8200000000000001,
          0.8300000000000001,
          0.84,
          0.85,
          0.86,
          0.87,
          0.88,
          0.89,
          0.9,
          0.91,
          0.92,
          0.93,
          0.9400000000000001,
          0.9500000000000001,
          0.96,
          0.97,
          0.98,
          0.99,
          1
         ],
         "xaxis": "x10",
         "y": [
          0.42,
          0.42,
          0.42,
          0.42,
          0.42,
          0.42,
          0.42,
          0.42,
          0.42,
          0.42,
          0.42,
          0.42,
          0.42,
          0.42,
          0.42,
          0.42,
          0.42,
          0.42,
          0.42,
          0.42,
          0.42,
          0.42,
          0.42,
          0.42,
          0.42,
          0.42,
          0.42,
          0.42,
          0.42,
          0.42,
          0.42,
          0.42,
          0.42,
          0.42,
          0.42,
          0.42,
          0.42,
          0.42,
          0.42,
          0.42,
          0.42,
          0.42,
          0.42,
          0.42,
          0.42,
          0.42,
          0.42,
          0.42,
          0.42,
          0.42,
          0.42,
          0.42,
          0.42,
          0.42,
          0.42,
          0.42,
          0.42,
          0.42,
          0.42,
          0.42,
          0.42,
          0.42,
          0.42,
          0.42,
          0.42,
          0.42,
          0.42,
          0.42,
          0.42,
          0.42,
          0.42,
          0.42,
          0.42,
          0.42,
          0.42,
          0.42,
          0.42,
          0.42,
          0.42,
          0.42,
          0.42,
          0.42,
          0.42,
          0.42,
          0.42,
          0.42,
          0.42,
          0.42,
          0.42,
          0.42,
          0.42,
          0.42,
          0.42,
          0.42,
          0.42,
          0.42,
          0.42,
          0.42,
          0.42,
          0.42,
          0.42
         ],
         "yaxis": "y10"
        },
        {
         "customdata": [
          [
           "</br>id: 30</br>prediction: 0.41</br>wynik_ekg_spoczynek: 0.0</br></br>wiek: 57.0</br>plec: 1.0</br>typ_bolu_klatka: 3.0</br>cisnienie_krwi_spoczynek: 128.0</br>cholesterol_we_krwi: 229.0</br>cukier_we_krwi: 0.0</br>ilosc_uderzen_serca: 150.0</br>bol_klatka_wysilek: 0.0</br>max_obnizka_st: 0.4</br>przebieg_st_szczyt: 2.0</br>zwapnienia_miazdzycowe: 1.0</br>proba_ta: 7.0</br>_original_yhat_: 0.42</br>"
          ],
          [
           "</br>id: 30</br>prediction: 0.41</br>wynik_ekg_spoczynek: 0.02</br></br>wiek: 57.0</br>plec: 1.0</br>typ_bolu_klatka: 3.0</br>cisnienie_krwi_spoczynek: 128.0</br>cholesterol_we_krwi: 229.0</br>cukier_we_krwi: 0.0</br>ilosc_uderzen_serca: 150.0</br>bol_klatka_wysilek: 0.0</br>max_obnizka_st: 0.4</br>przebieg_st_szczyt: 2.0</br>zwapnienia_miazdzycowe: 1.0</br>proba_ta: 7.0</br>_original_yhat_: 0.42</br>"
          ],
          [
           "</br>id: 30</br>prediction: 0.41</br>wynik_ekg_spoczynek: 0.04</br></br>wiek: 57.0</br>plec: 1.0</br>typ_bolu_klatka: 3.0</br>cisnienie_krwi_spoczynek: 128.0</br>cholesterol_we_krwi: 229.0</br>cukier_we_krwi: 0.0</br>ilosc_uderzen_serca: 150.0</br>bol_klatka_wysilek: 0.0</br>max_obnizka_st: 0.4</br>przebieg_st_szczyt: 2.0</br>zwapnienia_miazdzycowe: 1.0</br>proba_ta: 7.0</br>_original_yhat_: 0.42</br>"
          ],
          [
           "</br>id: 30</br>prediction: 0.41</br>wynik_ekg_spoczynek: 0.06</br></br>wiek: 57.0</br>plec: 1.0</br>typ_bolu_klatka: 3.0</br>cisnienie_krwi_spoczynek: 128.0</br>cholesterol_we_krwi: 229.0</br>cukier_we_krwi: 0.0</br>ilosc_uderzen_serca: 150.0</br>bol_klatka_wysilek: 0.0</br>max_obnizka_st: 0.4</br>przebieg_st_szczyt: 2.0</br>zwapnienia_miazdzycowe: 1.0</br>proba_ta: 7.0</br>_original_yhat_: 0.42</br>"
          ],
          [
           "</br>id: 30</br>prediction: 0.41</br>wynik_ekg_spoczynek: 0.08</br></br>wiek: 57.0</br>plec: 1.0</br>typ_bolu_klatka: 3.0</br>cisnienie_krwi_spoczynek: 128.0</br>cholesterol_we_krwi: 229.0</br>cukier_we_krwi: 0.0</br>ilosc_uderzen_serca: 150.0</br>bol_klatka_wysilek: 0.0</br>max_obnizka_st: 0.4</br>przebieg_st_szczyt: 2.0</br>zwapnienia_miazdzycowe: 1.0</br>proba_ta: 7.0</br>_original_yhat_: 0.42</br>"
          ],
          [
           "</br>id: 30</br>prediction: 0.41</br>wynik_ekg_spoczynek: 0.1</br></br>wiek: 57.0</br>plec: 1.0</br>typ_bolu_klatka: 3.0</br>cisnienie_krwi_spoczynek: 128.0</br>cholesterol_we_krwi: 229.0</br>cukier_we_krwi: 0.0</br>ilosc_uderzen_serca: 150.0</br>bol_klatka_wysilek: 0.0</br>max_obnizka_st: 0.4</br>przebieg_st_szczyt: 2.0</br>zwapnienia_miazdzycowe: 1.0</br>proba_ta: 7.0</br>_original_yhat_: 0.42</br>"
          ],
          [
           "</br>id: 30</br>prediction: 0.41</br>wynik_ekg_spoczynek: 0.12</br></br>wiek: 57.0</br>plec: 1.0</br>typ_bolu_klatka: 3.0</br>cisnienie_krwi_spoczynek: 128.0</br>cholesterol_we_krwi: 229.0</br>cukier_we_krwi: 0.0</br>ilosc_uderzen_serca: 150.0</br>bol_klatka_wysilek: 0.0</br>max_obnizka_st: 0.4</br>przebieg_st_szczyt: 2.0</br>zwapnienia_miazdzycowe: 1.0</br>proba_ta: 7.0</br>_original_yhat_: 0.42</br>"
          ],
          [
           "</br>id: 30</br>prediction: 0.41</br>wynik_ekg_spoczynek: 0.14</br></br>wiek: 57.0</br>plec: 1.0</br>typ_bolu_klatka: 3.0</br>cisnienie_krwi_spoczynek: 128.0</br>cholesterol_we_krwi: 229.0</br>cukier_we_krwi: 0.0</br>ilosc_uderzen_serca: 150.0</br>bol_klatka_wysilek: 0.0</br>max_obnizka_st: 0.4</br>przebieg_st_szczyt: 2.0</br>zwapnienia_miazdzycowe: 1.0</br>proba_ta: 7.0</br>_original_yhat_: 0.42</br>"
          ],
          [
           "</br>id: 30</br>prediction: 0.41</br>wynik_ekg_spoczynek: 0.16</br></br>wiek: 57.0</br>plec: 1.0</br>typ_bolu_klatka: 3.0</br>cisnienie_krwi_spoczynek: 128.0</br>cholesterol_we_krwi: 229.0</br>cukier_we_krwi: 0.0</br>ilosc_uderzen_serca: 150.0</br>bol_klatka_wysilek: 0.0</br>max_obnizka_st: 0.4</br>przebieg_st_szczyt: 2.0</br>zwapnienia_miazdzycowe: 1.0</br>proba_ta: 7.0</br>_original_yhat_: 0.42</br>"
          ],
          [
           "</br>id: 30</br>prediction: 0.41</br>wynik_ekg_spoczynek: 0.18</br></br>wiek: 57.0</br>plec: 1.0</br>typ_bolu_klatka: 3.0</br>cisnienie_krwi_spoczynek: 128.0</br>cholesterol_we_krwi: 229.0</br>cukier_we_krwi: 0.0</br>ilosc_uderzen_serca: 150.0</br>bol_klatka_wysilek: 0.0</br>max_obnizka_st: 0.4</br>przebieg_st_szczyt: 2.0</br>zwapnienia_miazdzycowe: 1.0</br>proba_ta: 7.0</br>_original_yhat_: 0.42</br>"
          ],
          [
           "</br>id: 30</br>prediction: 0.41</br>wynik_ekg_spoczynek: 0.2</br></br>wiek: 57.0</br>plec: 1.0</br>typ_bolu_klatka: 3.0</br>cisnienie_krwi_spoczynek: 128.0</br>cholesterol_we_krwi: 229.0</br>cukier_we_krwi: 0.0</br>ilosc_uderzen_serca: 150.0</br>bol_klatka_wysilek: 0.0</br>max_obnizka_st: 0.4</br>przebieg_st_szczyt: 2.0</br>zwapnienia_miazdzycowe: 1.0</br>proba_ta: 7.0</br>_original_yhat_: 0.42</br>"
          ],
          [
           "</br>id: 30</br>prediction: 0.41</br>wynik_ekg_spoczynek: 0.22</br></br>wiek: 57.0</br>plec: 1.0</br>typ_bolu_klatka: 3.0</br>cisnienie_krwi_spoczynek: 128.0</br>cholesterol_we_krwi: 229.0</br>cukier_we_krwi: 0.0</br>ilosc_uderzen_serca: 150.0</br>bol_klatka_wysilek: 0.0</br>max_obnizka_st: 0.4</br>przebieg_st_szczyt: 2.0</br>zwapnienia_miazdzycowe: 1.0</br>proba_ta: 7.0</br>_original_yhat_: 0.42</br>"
          ],
          [
           "</br>id: 30</br>prediction: 0.41</br>wynik_ekg_spoczynek: 0.24</br></br>wiek: 57.0</br>plec: 1.0</br>typ_bolu_klatka: 3.0</br>cisnienie_krwi_spoczynek: 128.0</br>cholesterol_we_krwi: 229.0</br>cukier_we_krwi: 0.0</br>ilosc_uderzen_serca: 150.0</br>bol_klatka_wysilek: 0.0</br>max_obnizka_st: 0.4</br>przebieg_st_szczyt: 2.0</br>zwapnienia_miazdzycowe: 1.0</br>proba_ta: 7.0</br>_original_yhat_: 0.42</br>"
          ],
          [
           "</br>id: 30</br>prediction: 0.41</br>wynik_ekg_spoczynek: 0.26</br></br>wiek: 57.0</br>plec: 1.0</br>typ_bolu_klatka: 3.0</br>cisnienie_krwi_spoczynek: 128.0</br>cholesterol_we_krwi: 229.0</br>cukier_we_krwi: 0.0</br>ilosc_uderzen_serca: 150.0</br>bol_klatka_wysilek: 0.0</br>max_obnizka_st: 0.4</br>przebieg_st_szczyt: 2.0</br>zwapnienia_miazdzycowe: 1.0</br>proba_ta: 7.0</br>_original_yhat_: 0.42</br>"
          ],
          [
           "</br>id: 30</br>prediction: 0.41</br>wynik_ekg_spoczynek: 0.28</br></br>wiek: 57.0</br>plec: 1.0</br>typ_bolu_klatka: 3.0</br>cisnienie_krwi_spoczynek: 128.0</br>cholesterol_we_krwi: 229.0</br>cukier_we_krwi: 0.0</br>ilosc_uderzen_serca: 150.0</br>bol_klatka_wysilek: 0.0</br>max_obnizka_st: 0.4</br>przebieg_st_szczyt: 2.0</br>zwapnienia_miazdzycowe: 1.0</br>proba_ta: 7.0</br>_original_yhat_: 0.42</br>"
          ],
          [
           "</br>id: 30</br>prediction: 0.41</br>wynik_ekg_spoczynek: 0.3</br></br>wiek: 57.0</br>plec: 1.0</br>typ_bolu_klatka: 3.0</br>cisnienie_krwi_spoczynek: 128.0</br>cholesterol_we_krwi: 229.0</br>cukier_we_krwi: 0.0</br>ilosc_uderzen_serca: 150.0</br>bol_klatka_wysilek: 0.0</br>max_obnizka_st: 0.4</br>przebieg_st_szczyt: 2.0</br>zwapnienia_miazdzycowe: 1.0</br>proba_ta: 7.0</br>_original_yhat_: 0.42</br>"
          ],
          [
           "</br>id: 30</br>prediction: 0.41</br>wynik_ekg_spoczynek: 0.32</br></br>wiek: 57.0</br>plec: 1.0</br>typ_bolu_klatka: 3.0</br>cisnienie_krwi_spoczynek: 128.0</br>cholesterol_we_krwi: 229.0</br>cukier_we_krwi: 0.0</br>ilosc_uderzen_serca: 150.0</br>bol_klatka_wysilek: 0.0</br>max_obnizka_st: 0.4</br>przebieg_st_szczyt: 2.0</br>zwapnienia_miazdzycowe: 1.0</br>proba_ta: 7.0</br>_original_yhat_: 0.42</br>"
          ],
          [
           "</br>id: 30</br>prediction: 0.41</br>wynik_ekg_spoczynek: 0.34</br></br>wiek: 57.0</br>plec: 1.0</br>typ_bolu_klatka: 3.0</br>cisnienie_krwi_spoczynek: 128.0</br>cholesterol_we_krwi: 229.0</br>cukier_we_krwi: 0.0</br>ilosc_uderzen_serca: 150.0</br>bol_klatka_wysilek: 0.0</br>max_obnizka_st: 0.4</br>przebieg_st_szczyt: 2.0</br>zwapnienia_miazdzycowe: 1.0</br>proba_ta: 7.0</br>_original_yhat_: 0.42</br>"
          ],
          [
           "</br>id: 30</br>prediction: 0.41</br>wynik_ekg_spoczynek: 0.36</br></br>wiek: 57.0</br>plec: 1.0</br>typ_bolu_klatka: 3.0</br>cisnienie_krwi_spoczynek: 128.0</br>cholesterol_we_krwi: 229.0</br>cukier_we_krwi: 0.0</br>ilosc_uderzen_serca: 150.0</br>bol_klatka_wysilek: 0.0</br>max_obnizka_st: 0.4</br>przebieg_st_szczyt: 2.0</br>zwapnienia_miazdzycowe: 1.0</br>proba_ta: 7.0</br>_original_yhat_: 0.42</br>"
          ],
          [
           "</br>id: 30</br>prediction: 0.41</br>wynik_ekg_spoczynek: 0.38</br></br>wiek: 57.0</br>plec: 1.0</br>typ_bolu_klatka: 3.0</br>cisnienie_krwi_spoczynek: 128.0</br>cholesterol_we_krwi: 229.0</br>cukier_we_krwi: 0.0</br>ilosc_uderzen_serca: 150.0</br>bol_klatka_wysilek: 0.0</br>max_obnizka_st: 0.4</br>przebieg_st_szczyt: 2.0</br>zwapnienia_miazdzycowe: 1.0</br>proba_ta: 7.0</br>_original_yhat_: 0.42</br>"
          ],
          [
           "</br>id: 30</br>prediction: 0.41</br>wynik_ekg_spoczynek: 0.4</br></br>wiek: 57.0</br>plec: 1.0</br>typ_bolu_klatka: 3.0</br>cisnienie_krwi_spoczynek: 128.0</br>cholesterol_we_krwi: 229.0</br>cukier_we_krwi: 0.0</br>ilosc_uderzen_serca: 150.0</br>bol_klatka_wysilek: 0.0</br>max_obnizka_st: 0.4</br>przebieg_st_szczyt: 2.0</br>zwapnienia_miazdzycowe: 1.0</br>proba_ta: 7.0</br>_original_yhat_: 0.42</br>"
          ],
          [
           "</br>id: 30</br>prediction: 0.41</br>wynik_ekg_spoczynek: 0.42</br></br>wiek: 57.0</br>plec: 1.0</br>typ_bolu_klatka: 3.0</br>cisnienie_krwi_spoczynek: 128.0</br>cholesterol_we_krwi: 229.0</br>cukier_we_krwi: 0.0</br>ilosc_uderzen_serca: 150.0</br>bol_klatka_wysilek: 0.0</br>max_obnizka_st: 0.4</br>przebieg_st_szczyt: 2.0</br>zwapnienia_miazdzycowe: 1.0</br>proba_ta: 7.0</br>_original_yhat_: 0.42</br>"
          ],
          [
           "</br>id: 30</br>prediction: 0.41</br>wynik_ekg_spoczynek: 0.44</br></br>wiek: 57.0</br>plec: 1.0</br>typ_bolu_klatka: 3.0</br>cisnienie_krwi_spoczynek: 128.0</br>cholesterol_we_krwi: 229.0</br>cukier_we_krwi: 0.0</br>ilosc_uderzen_serca: 150.0</br>bol_klatka_wysilek: 0.0</br>max_obnizka_st: 0.4</br>przebieg_st_szczyt: 2.0</br>zwapnienia_miazdzycowe: 1.0</br>proba_ta: 7.0</br>_original_yhat_: 0.42</br>"
          ],
          [
           "</br>id: 30</br>prediction: 0.41</br>wynik_ekg_spoczynek: 0.46</br></br>wiek: 57.0</br>plec: 1.0</br>typ_bolu_klatka: 3.0</br>cisnienie_krwi_spoczynek: 128.0</br>cholesterol_we_krwi: 229.0</br>cukier_we_krwi: 0.0</br>ilosc_uderzen_serca: 150.0</br>bol_klatka_wysilek: 0.0</br>max_obnizka_st: 0.4</br>przebieg_st_szczyt: 2.0</br>zwapnienia_miazdzycowe: 1.0</br>proba_ta: 7.0</br>_original_yhat_: 0.42</br>"
          ],
          [
           "</br>id: 30</br>prediction: 0.41</br>wynik_ekg_spoczynek: 0.48</br></br>wiek: 57.0</br>plec: 1.0</br>typ_bolu_klatka: 3.0</br>cisnienie_krwi_spoczynek: 128.0</br>cholesterol_we_krwi: 229.0</br>cukier_we_krwi: 0.0</br>ilosc_uderzen_serca: 150.0</br>bol_klatka_wysilek: 0.0</br>max_obnizka_st: 0.4</br>przebieg_st_szczyt: 2.0</br>zwapnienia_miazdzycowe: 1.0</br>proba_ta: 7.0</br>_original_yhat_: 0.42</br>"
          ],
          [
           "</br>id: 30</br>prediction: 0.41</br>wynik_ekg_spoczynek: 0.5</br></br>wiek: 57.0</br>plec: 1.0</br>typ_bolu_klatka: 3.0</br>cisnienie_krwi_spoczynek: 128.0</br>cholesterol_we_krwi: 229.0</br>cukier_we_krwi: 0.0</br>ilosc_uderzen_serca: 150.0</br>bol_klatka_wysilek: 0.0</br>max_obnizka_st: 0.4</br>przebieg_st_szczyt: 2.0</br>zwapnienia_miazdzycowe: 1.0</br>proba_ta: 7.0</br>_original_yhat_: 0.42</br>"
          ],
          [
           "</br>id: 30</br>prediction: 0.39</br>wynik_ekg_spoczynek: 0.52</br></br>wiek: 57.0</br>plec: 1.0</br>typ_bolu_klatka: 3.0</br>cisnienie_krwi_spoczynek: 128.0</br>cholesterol_we_krwi: 229.0</br>cukier_we_krwi: 0.0</br>ilosc_uderzen_serca: 150.0</br>bol_klatka_wysilek: 0.0</br>max_obnizka_st: 0.4</br>przebieg_st_szczyt: 2.0</br>zwapnienia_miazdzycowe: 1.0</br>proba_ta: 7.0</br>_original_yhat_: 0.42</br>"
          ],
          [
           "</br>id: 30</br>prediction: 0.39</br>wynik_ekg_spoczynek: 0.54</br></br>wiek: 57.0</br>plec: 1.0</br>typ_bolu_klatka: 3.0</br>cisnienie_krwi_spoczynek: 128.0</br>cholesterol_we_krwi: 229.0</br>cukier_we_krwi: 0.0</br>ilosc_uderzen_serca: 150.0</br>bol_klatka_wysilek: 0.0</br>max_obnizka_st: 0.4</br>przebieg_st_szczyt: 2.0</br>zwapnienia_miazdzycowe: 1.0</br>proba_ta: 7.0</br>_original_yhat_: 0.42</br>"
          ],
          [
           "</br>id: 30</br>prediction: 0.39</br>wynik_ekg_spoczynek: 0.56</br></br>wiek: 57.0</br>plec: 1.0</br>typ_bolu_klatka: 3.0</br>cisnienie_krwi_spoczynek: 128.0</br>cholesterol_we_krwi: 229.0</br>cukier_we_krwi: 0.0</br>ilosc_uderzen_serca: 150.0</br>bol_klatka_wysilek: 0.0</br>max_obnizka_st: 0.4</br>przebieg_st_szczyt: 2.0</br>zwapnienia_miazdzycowe: 1.0</br>proba_ta: 7.0</br>_original_yhat_: 0.42</br>"
          ],
          [
           "</br>id: 30</br>prediction: 0.39</br>wynik_ekg_spoczynek: 0.58</br></br>wiek: 57.0</br>plec: 1.0</br>typ_bolu_klatka: 3.0</br>cisnienie_krwi_spoczynek: 128.0</br>cholesterol_we_krwi: 229.0</br>cukier_we_krwi: 0.0</br>ilosc_uderzen_serca: 150.0</br>bol_klatka_wysilek: 0.0</br>max_obnizka_st: 0.4</br>przebieg_st_szczyt: 2.0</br>zwapnienia_miazdzycowe: 1.0</br>proba_ta: 7.0</br>_original_yhat_: 0.42</br>"
          ],
          [
           "</br>id: 30</br>prediction: 0.39</br>wynik_ekg_spoczynek: 0.6</br></br>wiek: 57.0</br>plec: 1.0</br>typ_bolu_klatka: 3.0</br>cisnienie_krwi_spoczynek: 128.0</br>cholesterol_we_krwi: 229.0</br>cukier_we_krwi: 0.0</br>ilosc_uderzen_serca: 150.0</br>bol_klatka_wysilek: 0.0</br>max_obnizka_st: 0.4</br>przebieg_st_szczyt: 2.0</br>zwapnienia_miazdzycowe: 1.0</br>proba_ta: 7.0</br>_original_yhat_: 0.42</br>"
          ],
          [
           "</br>id: 30</br>prediction: 0.39</br>wynik_ekg_spoczynek: 0.62</br></br>wiek: 57.0</br>plec: 1.0</br>typ_bolu_klatka: 3.0</br>cisnienie_krwi_spoczynek: 128.0</br>cholesterol_we_krwi: 229.0</br>cukier_we_krwi: 0.0</br>ilosc_uderzen_serca: 150.0</br>bol_klatka_wysilek: 0.0</br>max_obnizka_st: 0.4</br>przebieg_st_szczyt: 2.0</br>zwapnienia_miazdzycowe: 1.0</br>proba_ta: 7.0</br>_original_yhat_: 0.42</br>"
          ],
          [
           "</br>id: 30</br>prediction: 0.39</br>wynik_ekg_spoczynek: 0.64</br></br>wiek: 57.0</br>plec: 1.0</br>typ_bolu_klatka: 3.0</br>cisnienie_krwi_spoczynek: 128.0</br>cholesterol_we_krwi: 229.0</br>cukier_we_krwi: 0.0</br>ilosc_uderzen_serca: 150.0</br>bol_klatka_wysilek: 0.0</br>max_obnizka_st: 0.4</br>przebieg_st_szczyt: 2.0</br>zwapnienia_miazdzycowe: 1.0</br>proba_ta: 7.0</br>_original_yhat_: 0.42</br>"
          ],
          [
           "</br>id: 30</br>prediction: 0.39</br>wynik_ekg_spoczynek: 0.66</br></br>wiek: 57.0</br>plec: 1.0</br>typ_bolu_klatka: 3.0</br>cisnienie_krwi_spoczynek: 128.0</br>cholesterol_we_krwi: 229.0</br>cukier_we_krwi: 0.0</br>ilosc_uderzen_serca: 150.0</br>bol_klatka_wysilek: 0.0</br>max_obnizka_st: 0.4</br>przebieg_st_szczyt: 2.0</br>zwapnienia_miazdzycowe: 1.0</br>proba_ta: 7.0</br>_original_yhat_: 0.42</br>"
          ],
          [
           "</br>id: 30</br>prediction: 0.39</br>wynik_ekg_spoczynek: 0.68</br></br>wiek: 57.0</br>plec: 1.0</br>typ_bolu_klatka: 3.0</br>cisnienie_krwi_spoczynek: 128.0</br>cholesterol_we_krwi: 229.0</br>cukier_we_krwi: 0.0</br>ilosc_uderzen_serca: 150.0</br>bol_klatka_wysilek: 0.0</br>max_obnizka_st: 0.4</br>przebieg_st_szczyt: 2.0</br>zwapnienia_miazdzycowe: 1.0</br>proba_ta: 7.0</br>_original_yhat_: 0.42</br>"
          ],
          [
           "</br>id: 30</br>prediction: 0.39</br>wynik_ekg_spoczynek: 0.7000000000000001</br></br>wiek: 57.0</br>plec: 1.0</br>typ_bolu_klatka: 3.0</br>cisnienie_krwi_spoczynek: 128.0</br>cholesterol_we_krwi: 229.0</br>cukier_we_krwi: 0.0</br>ilosc_uderzen_serca: 150.0</br>bol_klatka_wysilek: 0.0</br>max_obnizka_st: 0.4</br>przebieg_st_szczyt: 2.0</br>zwapnienia_miazdzycowe: 1.0</br>proba_ta: 7.0</br>_original_yhat_: 0.42</br>"
          ],
          [
           "</br>id: 30</br>prediction: 0.39</br>wynik_ekg_spoczynek: 0.72</br></br>wiek: 57.0</br>plec: 1.0</br>typ_bolu_klatka: 3.0</br>cisnienie_krwi_spoczynek: 128.0</br>cholesterol_we_krwi: 229.0</br>cukier_we_krwi: 0.0</br>ilosc_uderzen_serca: 150.0</br>bol_klatka_wysilek: 0.0</br>max_obnizka_st: 0.4</br>przebieg_st_szczyt: 2.0</br>zwapnienia_miazdzycowe: 1.0</br>proba_ta: 7.0</br>_original_yhat_: 0.42</br>"
          ],
          [
           "</br>id: 30</br>prediction: 0.39</br>wynik_ekg_spoczynek: 0.74</br></br>wiek: 57.0</br>plec: 1.0</br>typ_bolu_klatka: 3.0</br>cisnienie_krwi_spoczynek: 128.0</br>cholesterol_we_krwi: 229.0</br>cukier_we_krwi: 0.0</br>ilosc_uderzen_serca: 150.0</br>bol_klatka_wysilek: 0.0</br>max_obnizka_st: 0.4</br>przebieg_st_szczyt: 2.0</br>zwapnienia_miazdzycowe: 1.0</br>proba_ta: 7.0</br>_original_yhat_: 0.42</br>"
          ],
          [
           "</br>id: 30</br>prediction: 0.39</br>wynik_ekg_spoczynek: 0.76</br></br>wiek: 57.0</br>plec: 1.0</br>typ_bolu_klatka: 3.0</br>cisnienie_krwi_spoczynek: 128.0</br>cholesterol_we_krwi: 229.0</br>cukier_we_krwi: 0.0</br>ilosc_uderzen_serca: 150.0</br>bol_klatka_wysilek: 0.0</br>max_obnizka_st: 0.4</br>przebieg_st_szczyt: 2.0</br>zwapnienia_miazdzycowe: 1.0</br>proba_ta: 7.0</br>_original_yhat_: 0.42</br>"
          ],
          [
           "</br>id: 30</br>prediction: 0.39</br>wynik_ekg_spoczynek: 0.78</br></br>wiek: 57.0</br>plec: 1.0</br>typ_bolu_klatka: 3.0</br>cisnienie_krwi_spoczynek: 128.0</br>cholesterol_we_krwi: 229.0</br>cukier_we_krwi: 0.0</br>ilosc_uderzen_serca: 150.0</br>bol_klatka_wysilek: 0.0</br>max_obnizka_st: 0.4</br>przebieg_st_szczyt: 2.0</br>zwapnienia_miazdzycowe: 1.0</br>proba_ta: 7.0</br>_original_yhat_: 0.42</br>"
          ],
          [
           "</br>id: 30</br>prediction: 0.39</br>wynik_ekg_spoczynek: 0.8</br></br>wiek: 57.0</br>plec: 1.0</br>typ_bolu_klatka: 3.0</br>cisnienie_krwi_spoczynek: 128.0</br>cholesterol_we_krwi: 229.0</br>cukier_we_krwi: 0.0</br>ilosc_uderzen_serca: 150.0</br>bol_klatka_wysilek: 0.0</br>max_obnizka_st: 0.4</br>przebieg_st_szczyt: 2.0</br>zwapnienia_miazdzycowe: 1.0</br>proba_ta: 7.0</br>_original_yhat_: 0.42</br>"
          ],
          [
           "</br>id: 30</br>prediction: 0.39</br>wynik_ekg_spoczynek: 0.8200000000000001</br></br>wiek: 57.0</br>plec: 1.0</br>typ_bolu_klatka: 3.0</br>cisnienie_krwi_spoczynek: 128.0</br>cholesterol_we_krwi: 229.0</br>cukier_we_krwi: 0.0</br>ilosc_uderzen_serca: 150.0</br>bol_klatka_wysilek: 0.0</br>max_obnizka_st: 0.4</br>przebieg_st_szczyt: 2.0</br>zwapnienia_miazdzycowe: 1.0</br>proba_ta: 7.0</br>_original_yhat_: 0.42</br>"
          ],
          [
           "</br>id: 30</br>prediction: 0.39</br>wynik_ekg_spoczynek: 0.84</br></br>wiek: 57.0</br>plec: 1.0</br>typ_bolu_klatka: 3.0</br>cisnienie_krwi_spoczynek: 128.0</br>cholesterol_we_krwi: 229.0</br>cukier_we_krwi: 0.0</br>ilosc_uderzen_serca: 150.0</br>bol_klatka_wysilek: 0.0</br>max_obnizka_st: 0.4</br>przebieg_st_szczyt: 2.0</br>zwapnienia_miazdzycowe: 1.0</br>proba_ta: 7.0</br>_original_yhat_: 0.42</br>"
          ],
          [
           "</br>id: 30</br>prediction: 0.39</br>wynik_ekg_spoczynek: 0.86</br></br>wiek: 57.0</br>plec: 1.0</br>typ_bolu_klatka: 3.0</br>cisnienie_krwi_spoczynek: 128.0</br>cholesterol_we_krwi: 229.0</br>cukier_we_krwi: 0.0</br>ilosc_uderzen_serca: 150.0</br>bol_klatka_wysilek: 0.0</br>max_obnizka_st: 0.4</br>przebieg_st_szczyt: 2.0</br>zwapnienia_miazdzycowe: 1.0</br>proba_ta: 7.0</br>_original_yhat_: 0.42</br>"
          ],
          [
           "</br>id: 30</br>prediction: 0.39</br>wynik_ekg_spoczynek: 0.88</br></br>wiek: 57.0</br>plec: 1.0</br>typ_bolu_klatka: 3.0</br>cisnienie_krwi_spoczynek: 128.0</br>cholesterol_we_krwi: 229.0</br>cukier_we_krwi: 0.0</br>ilosc_uderzen_serca: 150.0</br>bol_klatka_wysilek: 0.0</br>max_obnizka_st: 0.4</br>przebieg_st_szczyt: 2.0</br>zwapnienia_miazdzycowe: 1.0</br>proba_ta: 7.0</br>_original_yhat_: 0.42</br>"
          ],
          [
           "</br>id: 30</br>prediction: 0.39</br>wynik_ekg_spoczynek: 0.9</br></br>wiek: 57.0</br>plec: 1.0</br>typ_bolu_klatka: 3.0</br>cisnienie_krwi_spoczynek: 128.0</br>cholesterol_we_krwi: 229.0</br>cukier_we_krwi: 0.0</br>ilosc_uderzen_serca: 150.0</br>bol_klatka_wysilek: 0.0</br>max_obnizka_st: 0.4</br>przebieg_st_szczyt: 2.0</br>zwapnienia_miazdzycowe: 1.0</br>proba_ta: 7.0</br>_original_yhat_: 0.42</br>"
          ],
          [
           "</br>id: 30</br>prediction: 0.39</br>wynik_ekg_spoczynek: 0.92</br></br>wiek: 57.0</br>plec: 1.0</br>typ_bolu_klatka: 3.0</br>cisnienie_krwi_spoczynek: 128.0</br>cholesterol_we_krwi: 229.0</br>cukier_we_krwi: 0.0</br>ilosc_uderzen_serca: 150.0</br>bol_klatka_wysilek: 0.0</br>max_obnizka_st: 0.4</br>przebieg_st_szczyt: 2.0</br>zwapnienia_miazdzycowe: 1.0</br>proba_ta: 7.0</br>_original_yhat_: 0.42</br>"
          ],
          [
           "</br>id: 30</br>prediction: 0.39</br>wynik_ekg_spoczynek: 0.9400000000000001</br></br>wiek: 57.0</br>plec: 1.0</br>typ_bolu_klatka: 3.0</br>cisnienie_krwi_spoczynek: 128.0</br>cholesterol_we_krwi: 229.0</br>cukier_we_krwi: 0.0</br>ilosc_uderzen_serca: 150.0</br>bol_klatka_wysilek: 0.0</br>max_obnizka_st: 0.4</br>przebieg_st_szczyt: 2.0</br>zwapnienia_miazdzycowe: 1.0</br>proba_ta: 7.0</br>_original_yhat_: 0.42</br>"
          ],
          [
           "</br>id: 30</br>prediction: 0.39</br>wynik_ekg_spoczynek: 0.96</br></br>wiek: 57.0</br>plec: 1.0</br>typ_bolu_klatka: 3.0</br>cisnienie_krwi_spoczynek: 128.0</br>cholesterol_we_krwi: 229.0</br>cukier_we_krwi: 0.0</br>ilosc_uderzen_serca: 150.0</br>bol_klatka_wysilek: 0.0</br>max_obnizka_st: 0.4</br>przebieg_st_szczyt: 2.0</br>zwapnienia_miazdzycowe: 1.0</br>proba_ta: 7.0</br>_original_yhat_: 0.42</br>"
          ],
          [
           "</br>id: 30</br>prediction: 0.39</br>wynik_ekg_spoczynek: 0.98</br></br>wiek: 57.0</br>plec: 1.0</br>typ_bolu_klatka: 3.0</br>cisnienie_krwi_spoczynek: 128.0</br>cholesterol_we_krwi: 229.0</br>cukier_we_krwi: 0.0</br>ilosc_uderzen_serca: 150.0</br>bol_klatka_wysilek: 0.0</br>max_obnizka_st: 0.4</br>przebieg_st_szczyt: 2.0</br>zwapnienia_miazdzycowe: 1.0</br>proba_ta: 7.0</br>_original_yhat_: 0.42</br>"
          ],
          [
           "</br>id: 30</br>prediction: 0.39</br>wynik_ekg_spoczynek: 1.0</br></br>wiek: 57.0</br>plec: 1.0</br>typ_bolu_klatka: 3.0</br>cisnienie_krwi_spoczynek: 128.0</br>cholesterol_we_krwi: 229.0</br>cukier_we_krwi: 0.0</br>ilosc_uderzen_serca: 150.0</br>bol_klatka_wysilek: 0.0</br>max_obnizka_st: 0.4</br>przebieg_st_szczyt: 2.0</br>zwapnienia_miazdzycowe: 1.0</br>proba_ta: 7.0</br>_original_yhat_: 0.42</br>"
          ],
          [
           "</br>id: 30</br>prediction: 0.42</br>wynik_ekg_spoczynek: 1.02</br></br>wiek: 57.0</br>plec: 1.0</br>typ_bolu_klatka: 3.0</br>cisnienie_krwi_spoczynek: 128.0</br>cholesterol_we_krwi: 229.0</br>cukier_we_krwi: 0.0</br>ilosc_uderzen_serca: 150.0</br>bol_klatka_wysilek: 0.0</br>max_obnizka_st: 0.4</br>przebieg_st_szczyt: 2.0</br>zwapnienia_miazdzycowe: 1.0</br>proba_ta: 7.0</br>_original_yhat_: 0.42</br>"
          ],
          [
           "</br>id: 30</br>prediction: 0.42</br>wynik_ekg_spoczynek: 1.04</br></br>wiek: 57.0</br>plec: 1.0</br>typ_bolu_klatka: 3.0</br>cisnienie_krwi_spoczynek: 128.0</br>cholesterol_we_krwi: 229.0</br>cukier_we_krwi: 0.0</br>ilosc_uderzen_serca: 150.0</br>bol_klatka_wysilek: 0.0</br>max_obnizka_st: 0.4</br>przebieg_st_szczyt: 2.0</br>zwapnienia_miazdzycowe: 1.0</br>proba_ta: 7.0</br>_original_yhat_: 0.42</br>"
          ],
          [
           "</br>id: 30</br>prediction: 0.42</br>wynik_ekg_spoczynek: 1.06</br></br>wiek: 57.0</br>plec: 1.0</br>typ_bolu_klatka: 3.0</br>cisnienie_krwi_spoczynek: 128.0</br>cholesterol_we_krwi: 229.0</br>cukier_we_krwi: 0.0</br>ilosc_uderzen_serca: 150.0</br>bol_klatka_wysilek: 0.0</br>max_obnizka_st: 0.4</br>przebieg_st_szczyt: 2.0</br>zwapnienia_miazdzycowe: 1.0</br>proba_ta: 7.0</br>_original_yhat_: 0.42</br>"
          ],
          [
           "</br>id: 30</br>prediction: 0.42</br>wynik_ekg_spoczynek: 1.08</br></br>wiek: 57.0</br>plec: 1.0</br>typ_bolu_klatka: 3.0</br>cisnienie_krwi_spoczynek: 128.0</br>cholesterol_we_krwi: 229.0</br>cukier_we_krwi: 0.0</br>ilosc_uderzen_serca: 150.0</br>bol_klatka_wysilek: 0.0</br>max_obnizka_st: 0.4</br>przebieg_st_szczyt: 2.0</br>zwapnienia_miazdzycowe: 1.0</br>proba_ta: 7.0</br>_original_yhat_: 0.42</br>"
          ],
          [
           "</br>id: 30</br>prediction: 0.42</br>wynik_ekg_spoczynek: 1.1</br></br>wiek: 57.0</br>plec: 1.0</br>typ_bolu_klatka: 3.0</br>cisnienie_krwi_spoczynek: 128.0</br>cholesterol_we_krwi: 229.0</br>cukier_we_krwi: 0.0</br>ilosc_uderzen_serca: 150.0</br>bol_klatka_wysilek: 0.0</br>max_obnizka_st: 0.4</br>przebieg_st_szczyt: 2.0</br>zwapnienia_miazdzycowe: 1.0</br>proba_ta: 7.0</br>_original_yhat_: 0.42</br>"
          ],
          [
           "</br>id: 30</br>prediction: 0.42</br>wynik_ekg_spoczynek: 1.12</br></br>wiek: 57.0</br>plec: 1.0</br>typ_bolu_klatka: 3.0</br>cisnienie_krwi_spoczynek: 128.0</br>cholesterol_we_krwi: 229.0</br>cukier_we_krwi: 0.0</br>ilosc_uderzen_serca: 150.0</br>bol_klatka_wysilek: 0.0</br>max_obnizka_st: 0.4</br>przebieg_st_szczyt: 2.0</br>zwapnienia_miazdzycowe: 1.0</br>proba_ta: 7.0</br>_original_yhat_: 0.42</br>"
          ],
          [
           "</br>id: 30</br>prediction: 0.42</br>wynik_ekg_spoczynek: 1.1400000000000001</br></br>wiek: 57.0</br>plec: 1.0</br>typ_bolu_klatka: 3.0</br>cisnienie_krwi_spoczynek: 128.0</br>cholesterol_we_krwi: 229.0</br>cukier_we_krwi: 0.0</br>ilosc_uderzen_serca: 150.0</br>bol_klatka_wysilek: 0.0</br>max_obnizka_st: 0.4</br>przebieg_st_szczyt: 2.0</br>zwapnienia_miazdzycowe: 1.0</br>proba_ta: 7.0</br>_original_yhat_: 0.42</br>"
          ],
          [
           "</br>id: 30</br>prediction: 0.42</br>wynik_ekg_spoczynek: 1.16</br></br>wiek: 57.0</br>plec: 1.0</br>typ_bolu_klatka: 3.0</br>cisnienie_krwi_spoczynek: 128.0</br>cholesterol_we_krwi: 229.0</br>cukier_we_krwi: 0.0</br>ilosc_uderzen_serca: 150.0</br>bol_klatka_wysilek: 0.0</br>max_obnizka_st: 0.4</br>przebieg_st_szczyt: 2.0</br>zwapnienia_miazdzycowe: 1.0</br>proba_ta: 7.0</br>_original_yhat_: 0.42</br>"
          ],
          [
           "</br>id: 30</br>prediction: 0.42</br>wynik_ekg_spoczynek: 1.18</br></br>wiek: 57.0</br>plec: 1.0</br>typ_bolu_klatka: 3.0</br>cisnienie_krwi_spoczynek: 128.0</br>cholesterol_we_krwi: 229.0</br>cukier_we_krwi: 0.0</br>ilosc_uderzen_serca: 150.0</br>bol_klatka_wysilek: 0.0</br>max_obnizka_st: 0.4</br>przebieg_st_szczyt: 2.0</br>zwapnienia_miazdzycowe: 1.0</br>proba_ta: 7.0</br>_original_yhat_: 0.42</br>"
          ],
          [
           "</br>id: 30</br>prediction: 0.42</br>wynik_ekg_spoczynek: 1.2</br></br>wiek: 57.0</br>plec: 1.0</br>typ_bolu_klatka: 3.0</br>cisnienie_krwi_spoczynek: 128.0</br>cholesterol_we_krwi: 229.0</br>cukier_we_krwi: 0.0</br>ilosc_uderzen_serca: 150.0</br>bol_klatka_wysilek: 0.0</br>max_obnizka_st: 0.4</br>przebieg_st_szczyt: 2.0</br>zwapnienia_miazdzycowe: 1.0</br>proba_ta: 7.0</br>_original_yhat_: 0.42</br>"
          ],
          [
           "</br>id: 30</br>prediction: 0.42</br>wynik_ekg_spoczynek: 1.22</br></br>wiek: 57.0</br>plec: 1.0</br>typ_bolu_klatka: 3.0</br>cisnienie_krwi_spoczynek: 128.0</br>cholesterol_we_krwi: 229.0</br>cukier_we_krwi: 0.0</br>ilosc_uderzen_serca: 150.0</br>bol_klatka_wysilek: 0.0</br>max_obnizka_st: 0.4</br>przebieg_st_szczyt: 2.0</br>zwapnienia_miazdzycowe: 1.0</br>proba_ta: 7.0</br>_original_yhat_: 0.42</br>"
          ],
          [
           "</br>id: 30</br>prediction: 0.42</br>wynik_ekg_spoczynek: 1.24</br></br>wiek: 57.0</br>plec: 1.0</br>typ_bolu_klatka: 3.0</br>cisnienie_krwi_spoczynek: 128.0</br>cholesterol_we_krwi: 229.0</br>cukier_we_krwi: 0.0</br>ilosc_uderzen_serca: 150.0</br>bol_klatka_wysilek: 0.0</br>max_obnizka_st: 0.4</br>przebieg_st_szczyt: 2.0</br>zwapnienia_miazdzycowe: 1.0</br>proba_ta: 7.0</br>_original_yhat_: 0.42</br>"
          ],
          [
           "</br>id: 30</br>prediction: 0.42</br>wynik_ekg_spoczynek: 1.26</br></br>wiek: 57.0</br>plec: 1.0</br>typ_bolu_klatka: 3.0</br>cisnienie_krwi_spoczynek: 128.0</br>cholesterol_we_krwi: 229.0</br>cukier_we_krwi: 0.0</br>ilosc_uderzen_serca: 150.0</br>bol_klatka_wysilek: 0.0</br>max_obnizka_st: 0.4</br>przebieg_st_szczyt: 2.0</br>zwapnienia_miazdzycowe: 1.0</br>proba_ta: 7.0</br>_original_yhat_: 0.42</br>"
          ],
          [
           "</br>id: 30</br>prediction: 0.42</br>wynik_ekg_spoczynek: 1.28</br></br>wiek: 57.0</br>plec: 1.0</br>typ_bolu_klatka: 3.0</br>cisnienie_krwi_spoczynek: 128.0</br>cholesterol_we_krwi: 229.0</br>cukier_we_krwi: 0.0</br>ilosc_uderzen_serca: 150.0</br>bol_klatka_wysilek: 0.0</br>max_obnizka_st: 0.4</br>przebieg_st_szczyt: 2.0</br>zwapnienia_miazdzycowe: 1.0</br>proba_ta: 7.0</br>_original_yhat_: 0.42</br>"
          ],
          [
           "</br>id: 30</br>prediction: 0.42</br>wynik_ekg_spoczynek: 1.3</br></br>wiek: 57.0</br>plec: 1.0</br>typ_bolu_klatka: 3.0</br>cisnienie_krwi_spoczynek: 128.0</br>cholesterol_we_krwi: 229.0</br>cukier_we_krwi: 0.0</br>ilosc_uderzen_serca: 150.0</br>bol_klatka_wysilek: 0.0</br>max_obnizka_st: 0.4</br>przebieg_st_szczyt: 2.0</br>zwapnienia_miazdzycowe: 1.0</br>proba_ta: 7.0</br>_original_yhat_: 0.42</br>"
          ],
          [
           "</br>id: 30</br>prediction: 0.42</br>wynik_ekg_spoczynek: 1.32</br></br>wiek: 57.0</br>plec: 1.0</br>typ_bolu_klatka: 3.0</br>cisnienie_krwi_spoczynek: 128.0</br>cholesterol_we_krwi: 229.0</br>cukier_we_krwi: 0.0</br>ilosc_uderzen_serca: 150.0</br>bol_klatka_wysilek: 0.0</br>max_obnizka_st: 0.4</br>przebieg_st_szczyt: 2.0</br>zwapnienia_miazdzycowe: 1.0</br>proba_ta: 7.0</br>_original_yhat_: 0.42</br>"
          ],
          [
           "</br>id: 30</br>prediction: 0.42</br>wynik_ekg_spoczynek: 1.34</br></br>wiek: 57.0</br>plec: 1.0</br>typ_bolu_klatka: 3.0</br>cisnienie_krwi_spoczynek: 128.0</br>cholesterol_we_krwi: 229.0</br>cukier_we_krwi: 0.0</br>ilosc_uderzen_serca: 150.0</br>bol_klatka_wysilek: 0.0</br>max_obnizka_st: 0.4</br>przebieg_st_szczyt: 2.0</br>zwapnienia_miazdzycowe: 1.0</br>proba_ta: 7.0</br>_original_yhat_: 0.42</br>"
          ],
          [
           "</br>id: 30</br>prediction: 0.42</br>wynik_ekg_spoczynek: 1.36</br></br>wiek: 57.0</br>plec: 1.0</br>typ_bolu_klatka: 3.0</br>cisnienie_krwi_spoczynek: 128.0</br>cholesterol_we_krwi: 229.0</br>cukier_we_krwi: 0.0</br>ilosc_uderzen_serca: 150.0</br>bol_klatka_wysilek: 0.0</br>max_obnizka_st: 0.4</br>przebieg_st_szczyt: 2.0</br>zwapnienia_miazdzycowe: 1.0</br>proba_ta: 7.0</br>_original_yhat_: 0.42</br>"
          ],
          [
           "</br>id: 30</br>prediction: 0.42</br>wynik_ekg_spoczynek: 1.3800000000000001</br></br>wiek: 57.0</br>plec: 1.0</br>typ_bolu_klatka: 3.0</br>cisnienie_krwi_spoczynek: 128.0</br>cholesterol_we_krwi: 229.0</br>cukier_we_krwi: 0.0</br>ilosc_uderzen_serca: 150.0</br>bol_klatka_wysilek: 0.0</br>max_obnizka_st: 0.4</br>przebieg_st_szczyt: 2.0</br>zwapnienia_miazdzycowe: 1.0</br>proba_ta: 7.0</br>_original_yhat_: 0.42</br>"
          ],
          [
           "</br>id: 30</br>prediction: 0.42</br>wynik_ekg_spoczynek: 1.4000000000000001</br></br>wiek: 57.0</br>plec: 1.0</br>typ_bolu_klatka: 3.0</br>cisnienie_krwi_spoczynek: 128.0</br>cholesterol_we_krwi: 229.0</br>cukier_we_krwi: 0.0</br>ilosc_uderzen_serca: 150.0</br>bol_klatka_wysilek: 0.0</br>max_obnizka_st: 0.4</br>przebieg_st_szczyt: 2.0</br>zwapnienia_miazdzycowe: 1.0</br>proba_ta: 7.0</br>_original_yhat_: 0.42</br>"
          ],
          [
           "</br>id: 30</br>prediction: 0.42</br>wynik_ekg_spoczynek: 1.42</br></br>wiek: 57.0</br>plec: 1.0</br>typ_bolu_klatka: 3.0</br>cisnienie_krwi_spoczynek: 128.0</br>cholesterol_we_krwi: 229.0</br>cukier_we_krwi: 0.0</br>ilosc_uderzen_serca: 150.0</br>bol_klatka_wysilek: 0.0</br>max_obnizka_st: 0.4</br>przebieg_st_szczyt: 2.0</br>zwapnienia_miazdzycowe: 1.0</br>proba_ta: 7.0</br>_original_yhat_: 0.42</br>"
          ],
          [
           "</br>id: 30</br>prediction: 0.42</br>wynik_ekg_spoczynek: 1.44</br></br>wiek: 57.0</br>plec: 1.0</br>typ_bolu_klatka: 3.0</br>cisnienie_krwi_spoczynek: 128.0</br>cholesterol_we_krwi: 229.0</br>cukier_we_krwi: 0.0</br>ilosc_uderzen_serca: 150.0</br>bol_klatka_wysilek: 0.0</br>max_obnizka_st: 0.4</br>przebieg_st_szczyt: 2.0</br>zwapnienia_miazdzycowe: 1.0</br>proba_ta: 7.0</br>_original_yhat_: 0.42</br>"
          ],
          [
           "</br>id: 30</br>prediction: 0.42</br>wynik_ekg_spoczynek: 1.46</br></br>wiek: 57.0</br>plec: 1.0</br>typ_bolu_klatka: 3.0</br>cisnienie_krwi_spoczynek: 128.0</br>cholesterol_we_krwi: 229.0</br>cukier_we_krwi: 0.0</br>ilosc_uderzen_serca: 150.0</br>bol_klatka_wysilek: 0.0</br>max_obnizka_st: 0.4</br>przebieg_st_szczyt: 2.0</br>zwapnienia_miazdzycowe: 1.0</br>proba_ta: 7.0</br>_original_yhat_: 0.42</br>"
          ],
          [
           "</br>id: 30</br>prediction: 0.42</br>wynik_ekg_spoczynek: 1.48</br></br>wiek: 57.0</br>plec: 1.0</br>typ_bolu_klatka: 3.0</br>cisnienie_krwi_spoczynek: 128.0</br>cholesterol_we_krwi: 229.0</br>cukier_we_krwi: 0.0</br>ilosc_uderzen_serca: 150.0</br>bol_klatka_wysilek: 0.0</br>max_obnizka_st: 0.4</br>przebieg_st_szczyt: 2.0</br>zwapnienia_miazdzycowe: 1.0</br>proba_ta: 7.0</br>_original_yhat_: 0.42</br>"
          ],
          [
           "</br>id: 30</br>prediction: 0.42</br>wynik_ekg_spoczynek: 1.5</br></br>wiek: 57.0</br>plec: 1.0</br>typ_bolu_klatka: 3.0</br>cisnienie_krwi_spoczynek: 128.0</br>cholesterol_we_krwi: 229.0</br>cukier_we_krwi: 0.0</br>ilosc_uderzen_serca: 150.0</br>bol_klatka_wysilek: 0.0</br>max_obnizka_st: 0.4</br>przebieg_st_szczyt: 2.0</br>zwapnienia_miazdzycowe: 1.0</br>proba_ta: 7.0</br>_original_yhat_: 0.42</br>"
          ],
          [
           "</br>id: 30</br>prediction: 0.42</br>wynik_ekg_spoczynek: 1.52</br></br>wiek: 57.0</br>plec: 1.0</br>typ_bolu_klatka: 3.0</br>cisnienie_krwi_spoczynek: 128.0</br>cholesterol_we_krwi: 229.0</br>cukier_we_krwi: 0.0</br>ilosc_uderzen_serca: 150.0</br>bol_klatka_wysilek: 0.0</br>max_obnizka_st: 0.4</br>przebieg_st_szczyt: 2.0</br>zwapnienia_miazdzycowe: 1.0</br>proba_ta: 7.0</br>_original_yhat_: 0.42</br>"
          ],
          [
           "</br>id: 30</br>prediction: 0.42</br>wynik_ekg_spoczynek: 1.54</br></br>wiek: 57.0</br>plec: 1.0</br>typ_bolu_klatka: 3.0</br>cisnienie_krwi_spoczynek: 128.0</br>cholesterol_we_krwi: 229.0</br>cukier_we_krwi: 0.0</br>ilosc_uderzen_serca: 150.0</br>bol_klatka_wysilek: 0.0</br>max_obnizka_st: 0.4</br>przebieg_st_szczyt: 2.0</br>zwapnienia_miazdzycowe: 1.0</br>proba_ta: 7.0</br>_original_yhat_: 0.42</br>"
          ],
          [
           "</br>id: 30</br>prediction: 0.42</br>wynik_ekg_spoczynek: 1.56</br></br>wiek: 57.0</br>plec: 1.0</br>typ_bolu_klatka: 3.0</br>cisnienie_krwi_spoczynek: 128.0</br>cholesterol_we_krwi: 229.0</br>cukier_we_krwi: 0.0</br>ilosc_uderzen_serca: 150.0</br>bol_klatka_wysilek: 0.0</br>max_obnizka_st: 0.4</br>przebieg_st_szczyt: 2.0</br>zwapnienia_miazdzycowe: 1.0</br>proba_ta: 7.0</br>_original_yhat_: 0.42</br>"
          ],
          [
           "</br>id: 30</br>prediction: 0.42</br>wynik_ekg_spoczynek: 1.58</br></br>wiek: 57.0</br>plec: 1.0</br>typ_bolu_klatka: 3.0</br>cisnienie_krwi_spoczynek: 128.0</br>cholesterol_we_krwi: 229.0</br>cukier_we_krwi: 0.0</br>ilosc_uderzen_serca: 150.0</br>bol_klatka_wysilek: 0.0</br>max_obnizka_st: 0.4</br>przebieg_st_szczyt: 2.0</br>zwapnienia_miazdzycowe: 1.0</br>proba_ta: 7.0</br>_original_yhat_: 0.42</br>"
          ],
          [
           "</br>id: 30</br>prediction: 0.42</br>wynik_ekg_spoczynek: 1.6</br></br>wiek: 57.0</br>plec: 1.0</br>typ_bolu_klatka: 3.0</br>cisnienie_krwi_spoczynek: 128.0</br>cholesterol_we_krwi: 229.0</br>cukier_we_krwi: 0.0</br>ilosc_uderzen_serca: 150.0</br>bol_klatka_wysilek: 0.0</br>max_obnizka_st: 0.4</br>przebieg_st_szczyt: 2.0</br>zwapnienia_miazdzycowe: 1.0</br>proba_ta: 7.0</br>_original_yhat_: 0.42</br>"
          ],
          [
           "</br>id: 30</br>prediction: 0.42</br>wynik_ekg_spoczynek: 1.62</br></br>wiek: 57.0</br>plec: 1.0</br>typ_bolu_klatka: 3.0</br>cisnienie_krwi_spoczynek: 128.0</br>cholesterol_we_krwi: 229.0</br>cukier_we_krwi: 0.0</br>ilosc_uderzen_serca: 150.0</br>bol_klatka_wysilek: 0.0</br>max_obnizka_st: 0.4</br>przebieg_st_szczyt: 2.0</br>zwapnienia_miazdzycowe: 1.0</br>proba_ta: 7.0</br>_original_yhat_: 0.42</br>"
          ],
          [
           "</br>id: 30</br>prediction: 0.42</br>wynik_ekg_spoczynek: 1.6400000000000001</br></br>wiek: 57.0</br>plec: 1.0</br>typ_bolu_klatka: 3.0</br>cisnienie_krwi_spoczynek: 128.0</br>cholesterol_we_krwi: 229.0</br>cukier_we_krwi: 0.0</br>ilosc_uderzen_serca: 150.0</br>bol_klatka_wysilek: 0.0</br>max_obnizka_st: 0.4</br>przebieg_st_szczyt: 2.0</br>zwapnienia_miazdzycowe: 1.0</br>proba_ta: 7.0</br>_original_yhat_: 0.42</br>"
          ],
          [
           "</br>id: 30</br>prediction: 0.42</br>wynik_ekg_spoczynek: 1.6600000000000001</br></br>wiek: 57.0</br>plec: 1.0</br>typ_bolu_klatka: 3.0</br>cisnienie_krwi_spoczynek: 128.0</br>cholesterol_we_krwi: 229.0</br>cukier_we_krwi: 0.0</br>ilosc_uderzen_serca: 150.0</br>bol_klatka_wysilek: 0.0</br>max_obnizka_st: 0.4</br>przebieg_st_szczyt: 2.0</br>zwapnienia_miazdzycowe: 1.0</br>proba_ta: 7.0</br>_original_yhat_: 0.42</br>"
          ],
          [
           "</br>id: 30</br>prediction: 0.42</br>wynik_ekg_spoczynek: 1.68</br></br>wiek: 57.0</br>plec: 1.0</br>typ_bolu_klatka: 3.0</br>cisnienie_krwi_spoczynek: 128.0</br>cholesterol_we_krwi: 229.0</br>cukier_we_krwi: 0.0</br>ilosc_uderzen_serca: 150.0</br>bol_klatka_wysilek: 0.0</br>max_obnizka_st: 0.4</br>przebieg_st_szczyt: 2.0</br>zwapnienia_miazdzycowe: 1.0</br>proba_ta: 7.0</br>_original_yhat_: 0.42</br>"
          ],
          [
           "</br>id: 30</br>prediction: 0.42</br>wynik_ekg_spoczynek: 1.7</br></br>wiek: 57.0</br>plec: 1.0</br>typ_bolu_klatka: 3.0</br>cisnienie_krwi_spoczynek: 128.0</br>cholesterol_we_krwi: 229.0</br>cukier_we_krwi: 0.0</br>ilosc_uderzen_serca: 150.0</br>bol_klatka_wysilek: 0.0</br>max_obnizka_st: 0.4</br>przebieg_st_szczyt: 2.0</br>zwapnienia_miazdzycowe: 1.0</br>proba_ta: 7.0</br>_original_yhat_: 0.42</br>"
          ],
          [
           "</br>id: 30</br>prediction: 0.42</br>wynik_ekg_spoczynek: 1.72</br></br>wiek: 57.0</br>plec: 1.0</br>typ_bolu_klatka: 3.0</br>cisnienie_krwi_spoczynek: 128.0</br>cholesterol_we_krwi: 229.0</br>cukier_we_krwi: 0.0</br>ilosc_uderzen_serca: 150.0</br>bol_klatka_wysilek: 0.0</br>max_obnizka_st: 0.4</br>przebieg_st_szczyt: 2.0</br>zwapnienia_miazdzycowe: 1.0</br>proba_ta: 7.0</br>_original_yhat_: 0.42</br>"
          ],
          [
           "</br>id: 30</br>prediction: 0.42</br>wynik_ekg_spoczynek: 1.74</br></br>wiek: 57.0</br>plec: 1.0</br>typ_bolu_klatka: 3.0</br>cisnienie_krwi_spoczynek: 128.0</br>cholesterol_we_krwi: 229.0</br>cukier_we_krwi: 0.0</br>ilosc_uderzen_serca: 150.0</br>bol_klatka_wysilek: 0.0</br>max_obnizka_st: 0.4</br>przebieg_st_szczyt: 2.0</br>zwapnienia_miazdzycowe: 1.0</br>proba_ta: 7.0</br>_original_yhat_: 0.42</br>"
          ],
          [
           "</br>id: 30</br>prediction: 0.42</br>wynik_ekg_spoczynek: 1.76</br></br>wiek: 57.0</br>plec: 1.0</br>typ_bolu_klatka: 3.0</br>cisnienie_krwi_spoczynek: 128.0</br>cholesterol_we_krwi: 229.0</br>cukier_we_krwi: 0.0</br>ilosc_uderzen_serca: 150.0</br>bol_klatka_wysilek: 0.0</br>max_obnizka_st: 0.4</br>przebieg_st_szczyt: 2.0</br>zwapnienia_miazdzycowe: 1.0</br>proba_ta: 7.0</br>_original_yhat_: 0.42</br>"
          ],
          [
           "</br>id: 30</br>prediction: 0.42</br>wynik_ekg_spoczynek: 1.78</br></br>wiek: 57.0</br>plec: 1.0</br>typ_bolu_klatka: 3.0</br>cisnienie_krwi_spoczynek: 128.0</br>cholesterol_we_krwi: 229.0</br>cukier_we_krwi: 0.0</br>ilosc_uderzen_serca: 150.0</br>bol_klatka_wysilek: 0.0</br>max_obnizka_st: 0.4</br>przebieg_st_szczyt: 2.0</br>zwapnienia_miazdzycowe: 1.0</br>proba_ta: 7.0</br>_original_yhat_: 0.42</br>"
          ],
          [
           "</br>id: 30</br>prediction: 0.42</br>wynik_ekg_spoczynek: 1.8</br></br>wiek: 57.0</br>plec: 1.0</br>typ_bolu_klatka: 3.0</br>cisnienie_krwi_spoczynek: 128.0</br>cholesterol_we_krwi: 229.0</br>cukier_we_krwi: 0.0</br>ilosc_uderzen_serca: 150.0</br>bol_klatka_wysilek: 0.0</br>max_obnizka_st: 0.4</br>przebieg_st_szczyt: 2.0</br>zwapnienia_miazdzycowe: 1.0</br>proba_ta: 7.0</br>_original_yhat_: 0.42</br>"
          ],
          [
           "</br>id: 30</br>prediction: 0.42</br>wynik_ekg_spoczynek: 1.82</br></br>wiek: 57.0</br>plec: 1.0</br>typ_bolu_klatka: 3.0</br>cisnienie_krwi_spoczynek: 128.0</br>cholesterol_we_krwi: 229.0</br>cukier_we_krwi: 0.0</br>ilosc_uderzen_serca: 150.0</br>bol_klatka_wysilek: 0.0</br>max_obnizka_st: 0.4</br>przebieg_st_szczyt: 2.0</br>zwapnienia_miazdzycowe: 1.0</br>proba_ta: 7.0</br>_original_yhat_: 0.42</br>"
          ],
          [
           "</br>id: 30</br>prediction: 0.42</br>wynik_ekg_spoczynek: 1.84</br></br>wiek: 57.0</br>plec: 1.0</br>typ_bolu_klatka: 3.0</br>cisnienie_krwi_spoczynek: 128.0</br>cholesterol_we_krwi: 229.0</br>cukier_we_krwi: 0.0</br>ilosc_uderzen_serca: 150.0</br>bol_klatka_wysilek: 0.0</br>max_obnizka_st: 0.4</br>przebieg_st_szczyt: 2.0</br>zwapnienia_miazdzycowe: 1.0</br>proba_ta: 7.0</br>_original_yhat_: 0.42</br>"
          ],
          [
           "</br>id: 30</br>prediction: 0.42</br>wynik_ekg_spoczynek: 1.86</br></br>wiek: 57.0</br>plec: 1.0</br>typ_bolu_klatka: 3.0</br>cisnienie_krwi_spoczynek: 128.0</br>cholesterol_we_krwi: 229.0</br>cukier_we_krwi: 0.0</br>ilosc_uderzen_serca: 150.0</br>bol_klatka_wysilek: 0.0</br>max_obnizka_st: 0.4</br>przebieg_st_szczyt: 2.0</br>zwapnienia_miazdzycowe: 1.0</br>proba_ta: 7.0</br>_original_yhat_: 0.42</br>"
          ],
          [
           "</br>id: 30</br>prediction: 0.42</br>wynik_ekg_spoczynek: 1.8800000000000001</br></br>wiek: 57.0</br>plec: 1.0</br>typ_bolu_klatka: 3.0</br>cisnienie_krwi_spoczynek: 128.0</br>cholesterol_we_krwi: 229.0</br>cukier_we_krwi: 0.0</br>ilosc_uderzen_serca: 150.0</br>bol_klatka_wysilek: 0.0</br>max_obnizka_st: 0.4</br>przebieg_st_szczyt: 2.0</br>zwapnienia_miazdzycowe: 1.0</br>proba_ta: 7.0</br>_original_yhat_: 0.42</br>"
          ],
          [
           "</br>id: 30</br>prediction: 0.42</br>wynik_ekg_spoczynek: 1.9000000000000001</br></br>wiek: 57.0</br>plec: 1.0</br>typ_bolu_klatka: 3.0</br>cisnienie_krwi_spoczynek: 128.0</br>cholesterol_we_krwi: 229.0</br>cukier_we_krwi: 0.0</br>ilosc_uderzen_serca: 150.0</br>bol_klatka_wysilek: 0.0</br>max_obnizka_st: 0.4</br>przebieg_st_szczyt: 2.0</br>zwapnienia_miazdzycowe: 1.0</br>proba_ta: 7.0</br>_original_yhat_: 0.42</br>"
          ],
          [
           "</br>id: 30</br>prediction: 0.42</br>wynik_ekg_spoczynek: 1.92</br></br>wiek: 57.0</br>plec: 1.0</br>typ_bolu_klatka: 3.0</br>cisnienie_krwi_spoczynek: 128.0</br>cholesterol_we_krwi: 229.0</br>cukier_we_krwi: 0.0</br>ilosc_uderzen_serca: 150.0</br>bol_klatka_wysilek: 0.0</br>max_obnizka_st: 0.4</br>przebieg_st_szczyt: 2.0</br>zwapnienia_miazdzycowe: 1.0</br>proba_ta: 7.0</br>_original_yhat_: 0.42</br>"
          ],
          [
           "</br>id: 30</br>prediction: 0.42</br>wynik_ekg_spoczynek: 1.94</br></br>wiek: 57.0</br>plec: 1.0</br>typ_bolu_klatka: 3.0</br>cisnienie_krwi_spoczynek: 128.0</br>cholesterol_we_krwi: 229.0</br>cukier_we_krwi: 0.0</br>ilosc_uderzen_serca: 150.0</br>bol_klatka_wysilek: 0.0</br>max_obnizka_st: 0.4</br>przebieg_st_szczyt: 2.0</br>zwapnienia_miazdzycowe: 1.0</br>proba_ta: 7.0</br>_original_yhat_: 0.42</br>"
          ],
          [
           "</br>id: 30</br>prediction: 0.42</br>wynik_ekg_spoczynek: 1.96</br></br>wiek: 57.0</br>plec: 1.0</br>typ_bolu_klatka: 3.0</br>cisnienie_krwi_spoczynek: 128.0</br>cholesterol_we_krwi: 229.0</br>cukier_we_krwi: 0.0</br>ilosc_uderzen_serca: 150.0</br>bol_klatka_wysilek: 0.0</br>max_obnizka_st: 0.4</br>przebieg_st_szczyt: 2.0</br>zwapnienia_miazdzycowe: 1.0</br>proba_ta: 7.0</br>_original_yhat_: 0.42</br>"
          ],
          [
           "</br>id: 30</br>prediction: 0.42</br>wynik_ekg_spoczynek: 1.98</br></br>wiek: 57.0</br>plec: 1.0</br>typ_bolu_klatka: 3.0</br>cisnienie_krwi_spoczynek: 128.0</br>cholesterol_we_krwi: 229.0</br>cukier_we_krwi: 0.0</br>ilosc_uderzen_serca: 150.0</br>bol_klatka_wysilek: 0.0</br>max_obnizka_st: 0.4</br>przebieg_st_szczyt: 2.0</br>zwapnienia_miazdzycowe: 1.0</br>proba_ta: 7.0</br>_original_yhat_: 0.42</br>"
          ],
          [
           "</br>id: 30</br>prediction: 0.42</br>wynik_ekg_spoczynek: 2.0</br></br>wiek: 57.0</br>plec: 1.0</br>typ_bolu_klatka: 3.0</br>cisnienie_krwi_spoczynek: 128.0</br>cholesterol_we_krwi: 229.0</br>cukier_we_krwi: 0.0</br>ilosc_uderzen_serca: 150.0</br>bol_klatka_wysilek: 0.0</br>max_obnizka_st: 0.4</br>przebieg_st_szczyt: 2.0</br>zwapnienia_miazdzycowe: 1.0</br>proba_ta: 7.0</br>_original_yhat_: 0.42</br>"
          ]
         ],
         "hovertemplate": "%{customdata[0]}<extra></extra>",
         "legendgroup": "Model RandomForest dla danych serca",
         "line": {
          "color": "#46bac2",
          "dash": "solid",
          "width": 2
         },
         "marker": {
          "symbol": "circle"
         },
         "mode": "lines",
         "name": "Model RandomForest dla danych serca",
         "opacity": 1,
         "showlegend": false,
         "type": "scattergl",
         "x": [
          0,
          0.02,
          0.04,
          0.06,
          0.08,
          0.1,
          0.12,
          0.14,
          0.16,
          0.18,
          0.2,
          0.22,
          0.24,
          0.26,
          0.28,
          0.3,
          0.32,
          0.34,
          0.36,
          0.38,
          0.4,
          0.42,
          0.44,
          0.46,
          0.48,
          0.5,
          0.52,
          0.54,
          0.56,
          0.58,
          0.6,
          0.62,
          0.64,
          0.66,
          0.68,
          0.7000000000000001,
          0.72,
          0.74,
          0.76,
          0.78,
          0.8,
          0.8200000000000001,
          0.84,
          0.86,
          0.88,
          0.9,
          0.92,
          0.9400000000000001,
          0.96,
          0.98,
          1,
          1.02,
          1.04,
          1.06,
          1.08,
          1.1,
          1.12,
          1.1400000000000001,
          1.16,
          1.18,
          1.2,
          1.22,
          1.24,
          1.26,
          1.28,
          1.3,
          1.32,
          1.34,
          1.36,
          1.3800000000000001,
          1.4000000000000001,
          1.42,
          1.44,
          1.46,
          1.48,
          1.5,
          1.52,
          1.54,
          1.56,
          1.58,
          1.6,
          1.62,
          1.6400000000000001,
          1.6600000000000001,
          1.68,
          1.7,
          1.72,
          1.74,
          1.76,
          1.78,
          1.8,
          1.82,
          1.84,
          1.86,
          1.8800000000000001,
          1.9000000000000001,
          1.92,
          1.94,
          1.96,
          1.98,
          2
         ],
         "xaxis": "x7",
         "y": [
          0.41,
          0.41,
          0.41,
          0.41,
          0.41,
          0.41,
          0.41,
          0.41,
          0.41,
          0.41,
          0.41,
          0.41,
          0.41,
          0.41,
          0.41,
          0.41,
          0.41,
          0.41,
          0.41,
          0.41,
          0.41,
          0.41,
          0.41,
          0.41,
          0.41,
          0.41,
          0.39,
          0.39,
          0.39,
          0.39,
          0.39,
          0.39,
          0.39,
          0.39,
          0.39,
          0.39,
          0.39,
          0.39,
          0.39,
          0.39,
          0.39,
          0.39,
          0.39,
          0.39,
          0.39,
          0.39,
          0.39,
          0.39,
          0.39,
          0.39,
          0.39,
          0.42,
          0.42,
          0.42,
          0.42,
          0.42,
          0.42,
          0.42,
          0.42,
          0.42,
          0.42,
          0.42,
          0.42,
          0.42,
          0.42,
          0.42,
          0.42,
          0.42,
          0.42,
          0.42,
          0.42,
          0.42,
          0.42,
          0.42,
          0.42,
          0.42,
          0.42,
          0.42,
          0.42,
          0.42,
          0.42,
          0.42,
          0.42,
          0.42,
          0.42,
          0.42,
          0.42,
          0.42,
          0.42,
          0.42,
          0.42,
          0.42,
          0.42,
          0.42,
          0.42,
          0.42,
          0.42,
          0.42,
          0.42,
          0.42,
          0.42
         ],
         "yaxis": "y7"
        },
        {
         "customdata": [
          [
           "</br>id: 30</br>prediction: 0.55</br>ilosc_uderzen_serca: 71.0</br></br>wiek: 57.0</br>plec: 1.0</br>typ_bolu_klatka: 3.0</br>cisnienie_krwi_spoczynek: 128.0</br>cholesterol_we_krwi: 229.0</br>cukier_we_krwi: 0.0</br>wynik_ekg_spoczynek: 2.0</br>bol_klatka_wysilek: 0.0</br>max_obnizka_st: 0.4</br>przebieg_st_szczyt: 2.0</br>zwapnienia_miazdzycowe: 1.0</br>proba_ta: 7.0</br>_original_yhat_: 0.42</br>"
          ],
          [
           "</br>id: 30</br>prediction: 0.55</br>ilosc_uderzen_serca: 72.24</br></br>wiek: 57.0</br>plec: 1.0</br>typ_bolu_klatka: 3.0</br>cisnienie_krwi_spoczynek: 128.0</br>cholesterol_we_krwi: 229.0</br>cukier_we_krwi: 0.0</br>wynik_ekg_spoczynek: 2.0</br>bol_klatka_wysilek: 0.0</br>max_obnizka_st: 0.4</br>przebieg_st_szczyt: 2.0</br>zwapnienia_miazdzycowe: 1.0</br>proba_ta: 7.0</br>_original_yhat_: 0.42</br>"
          ],
          [
           "</br>id: 30</br>prediction: 0.55</br>ilosc_uderzen_serca: 73.48</br></br>wiek: 57.0</br>plec: 1.0</br>typ_bolu_klatka: 3.0</br>cisnienie_krwi_spoczynek: 128.0</br>cholesterol_we_krwi: 229.0</br>cukier_we_krwi: 0.0</br>wynik_ekg_spoczynek: 2.0</br>bol_klatka_wysilek: 0.0</br>max_obnizka_st: 0.4</br>przebieg_st_szczyt: 2.0</br>zwapnienia_miazdzycowe: 1.0</br>proba_ta: 7.0</br>_original_yhat_: 0.42</br>"
          ],
          [
           "</br>id: 30</br>prediction: 0.55</br>ilosc_uderzen_serca: 74.72</br></br>wiek: 57.0</br>plec: 1.0</br>typ_bolu_klatka: 3.0</br>cisnienie_krwi_spoczynek: 128.0</br>cholesterol_we_krwi: 229.0</br>cukier_we_krwi: 0.0</br>wynik_ekg_spoczynek: 2.0</br>bol_klatka_wysilek: 0.0</br>max_obnizka_st: 0.4</br>przebieg_st_szczyt: 2.0</br>zwapnienia_miazdzycowe: 1.0</br>proba_ta: 7.0</br>_original_yhat_: 0.42</br>"
          ],
          [
           "</br>id: 30</br>prediction: 0.55</br>ilosc_uderzen_serca: 75.96</br></br>wiek: 57.0</br>plec: 1.0</br>typ_bolu_klatka: 3.0</br>cisnienie_krwi_spoczynek: 128.0</br>cholesterol_we_krwi: 229.0</br>cukier_we_krwi: 0.0</br>wynik_ekg_spoczynek: 2.0</br>bol_klatka_wysilek: 0.0</br>max_obnizka_st: 0.4</br>przebieg_st_szczyt: 2.0</br>zwapnienia_miazdzycowe: 1.0</br>proba_ta: 7.0</br>_original_yhat_: 0.42</br>"
          ],
          [
           "</br>id: 30</br>prediction: 0.55</br>ilosc_uderzen_serca: 77.2</br></br>wiek: 57.0</br>plec: 1.0</br>typ_bolu_klatka: 3.0</br>cisnienie_krwi_spoczynek: 128.0</br>cholesterol_we_krwi: 229.0</br>cukier_we_krwi: 0.0</br>wynik_ekg_spoczynek: 2.0</br>bol_klatka_wysilek: 0.0</br>max_obnizka_st: 0.4</br>przebieg_st_szczyt: 2.0</br>zwapnienia_miazdzycowe: 1.0</br>proba_ta: 7.0</br>_original_yhat_: 0.42</br>"
          ],
          [
           "</br>id: 30</br>prediction: 0.55</br>ilosc_uderzen_serca: 78.44</br></br>wiek: 57.0</br>plec: 1.0</br>typ_bolu_klatka: 3.0</br>cisnienie_krwi_spoczynek: 128.0</br>cholesterol_we_krwi: 229.0</br>cukier_we_krwi: 0.0</br>wynik_ekg_spoczynek: 2.0</br>bol_klatka_wysilek: 0.0</br>max_obnizka_st: 0.4</br>przebieg_st_szczyt: 2.0</br>zwapnienia_miazdzycowe: 1.0</br>proba_ta: 7.0</br>_original_yhat_: 0.42</br>"
          ],
          [
           "</br>id: 30</br>prediction: 0.55</br>ilosc_uderzen_serca: 79.68</br></br>wiek: 57.0</br>plec: 1.0</br>typ_bolu_klatka: 3.0</br>cisnienie_krwi_spoczynek: 128.0</br>cholesterol_we_krwi: 229.0</br>cukier_we_krwi: 0.0</br>wynik_ekg_spoczynek: 2.0</br>bol_klatka_wysilek: 0.0</br>max_obnizka_st: 0.4</br>przebieg_st_szczyt: 2.0</br>zwapnienia_miazdzycowe: 1.0</br>proba_ta: 7.0</br>_original_yhat_: 0.42</br>"
          ],
          [
           "</br>id: 30</br>prediction: 0.55</br>ilosc_uderzen_serca: 80.92</br></br>wiek: 57.0</br>plec: 1.0</br>typ_bolu_klatka: 3.0</br>cisnienie_krwi_spoczynek: 128.0</br>cholesterol_we_krwi: 229.0</br>cukier_we_krwi: 0.0</br>wynik_ekg_spoczynek: 2.0</br>bol_klatka_wysilek: 0.0</br>max_obnizka_st: 0.4</br>przebieg_st_szczyt: 2.0</br>zwapnienia_miazdzycowe: 1.0</br>proba_ta: 7.0</br>_original_yhat_: 0.42</br>"
          ],
          [
           "</br>id: 30</br>prediction: 0.55</br>ilosc_uderzen_serca: 82.16</br></br>wiek: 57.0</br>plec: 1.0</br>typ_bolu_klatka: 3.0</br>cisnienie_krwi_spoczynek: 128.0</br>cholesterol_we_krwi: 229.0</br>cukier_we_krwi: 0.0</br>wynik_ekg_spoczynek: 2.0</br>bol_klatka_wysilek: 0.0</br>max_obnizka_st: 0.4</br>przebieg_st_szczyt: 2.0</br>zwapnienia_miazdzycowe: 1.0</br>proba_ta: 7.0</br>_original_yhat_: 0.42</br>"
          ],
          [
           "</br>id: 30</br>prediction: 0.55</br>ilosc_uderzen_serca: 83.4</br></br>wiek: 57.0</br>plec: 1.0</br>typ_bolu_klatka: 3.0</br>cisnienie_krwi_spoczynek: 128.0</br>cholesterol_we_krwi: 229.0</br>cukier_we_krwi: 0.0</br>wynik_ekg_spoczynek: 2.0</br>bol_klatka_wysilek: 0.0</br>max_obnizka_st: 0.4</br>przebieg_st_szczyt: 2.0</br>zwapnienia_miazdzycowe: 1.0</br>proba_ta: 7.0</br>_original_yhat_: 0.42</br>"
          ],
          [
           "</br>id: 30</br>prediction: 0.55</br>ilosc_uderzen_serca: 84.64</br></br>wiek: 57.0</br>plec: 1.0</br>typ_bolu_klatka: 3.0</br>cisnienie_krwi_spoczynek: 128.0</br>cholesterol_we_krwi: 229.0</br>cukier_we_krwi: 0.0</br>wynik_ekg_spoczynek: 2.0</br>bol_klatka_wysilek: 0.0</br>max_obnizka_st: 0.4</br>przebieg_st_szczyt: 2.0</br>zwapnienia_miazdzycowe: 1.0</br>proba_ta: 7.0</br>_original_yhat_: 0.42</br>"
          ],
          [
           "</br>id: 30</br>prediction: 0.55</br>ilosc_uderzen_serca: 85.88</br></br>wiek: 57.0</br>plec: 1.0</br>typ_bolu_klatka: 3.0</br>cisnienie_krwi_spoczynek: 128.0</br>cholesterol_we_krwi: 229.0</br>cukier_we_krwi: 0.0</br>wynik_ekg_spoczynek: 2.0</br>bol_klatka_wysilek: 0.0</br>max_obnizka_st: 0.4</br>przebieg_st_szczyt: 2.0</br>zwapnienia_miazdzycowe: 1.0</br>proba_ta: 7.0</br>_original_yhat_: 0.42</br>"
          ],
          [
           "</br>id: 30</br>prediction: 0.55</br>ilosc_uderzen_serca: 87.12</br></br>wiek: 57.0</br>plec: 1.0</br>typ_bolu_klatka: 3.0</br>cisnienie_krwi_spoczynek: 128.0</br>cholesterol_we_krwi: 229.0</br>cukier_we_krwi: 0.0</br>wynik_ekg_spoczynek: 2.0</br>bol_klatka_wysilek: 0.0</br>max_obnizka_st: 0.4</br>przebieg_st_szczyt: 2.0</br>zwapnienia_miazdzycowe: 1.0</br>proba_ta: 7.0</br>_original_yhat_: 0.42</br>"
          ],
          [
           "</br>id: 30</br>prediction: 0.55</br>ilosc_uderzen_serca: 88.36</br></br>wiek: 57.0</br>plec: 1.0</br>typ_bolu_klatka: 3.0</br>cisnienie_krwi_spoczynek: 128.0</br>cholesterol_we_krwi: 229.0</br>cukier_we_krwi: 0.0</br>wynik_ekg_spoczynek: 2.0</br>bol_klatka_wysilek: 0.0</br>max_obnizka_st: 0.4</br>przebieg_st_szczyt: 2.0</br>zwapnienia_miazdzycowe: 1.0</br>proba_ta: 7.0</br>_original_yhat_: 0.42</br>"
          ],
          [
           "</br>id: 30</br>prediction: 0.55</br>ilosc_uderzen_serca: 89.6</br></br>wiek: 57.0</br>plec: 1.0</br>typ_bolu_klatka: 3.0</br>cisnienie_krwi_spoczynek: 128.0</br>cholesterol_we_krwi: 229.0</br>cukier_we_krwi: 0.0</br>wynik_ekg_spoczynek: 2.0</br>bol_klatka_wysilek: 0.0</br>max_obnizka_st: 0.4</br>przebieg_st_szczyt: 2.0</br>zwapnienia_miazdzycowe: 1.0</br>proba_ta: 7.0</br>_original_yhat_: 0.42</br>"
          ],
          [
           "</br>id: 30</br>prediction: 0.55</br>ilosc_uderzen_serca: 90.84</br></br>wiek: 57.0</br>plec: 1.0</br>typ_bolu_klatka: 3.0</br>cisnienie_krwi_spoczynek: 128.0</br>cholesterol_we_krwi: 229.0</br>cukier_we_krwi: 0.0</br>wynik_ekg_spoczynek: 2.0</br>bol_klatka_wysilek: 0.0</br>max_obnizka_st: 0.4</br>przebieg_st_szczyt: 2.0</br>zwapnienia_miazdzycowe: 1.0</br>proba_ta: 7.0</br>_original_yhat_: 0.42</br>"
          ],
          [
           "</br>id: 30</br>prediction: 0.55</br>ilosc_uderzen_serca: 92.08</br></br>wiek: 57.0</br>plec: 1.0</br>typ_bolu_klatka: 3.0</br>cisnienie_krwi_spoczynek: 128.0</br>cholesterol_we_krwi: 229.0</br>cukier_we_krwi: 0.0</br>wynik_ekg_spoczynek: 2.0</br>bol_klatka_wysilek: 0.0</br>max_obnizka_st: 0.4</br>przebieg_st_szczyt: 2.0</br>zwapnienia_miazdzycowe: 1.0</br>proba_ta: 7.0</br>_original_yhat_: 0.42</br>"
          ],
          [
           "</br>id: 30</br>prediction: 0.55</br>ilosc_uderzen_serca: 93.32</br></br>wiek: 57.0</br>plec: 1.0</br>typ_bolu_klatka: 3.0</br>cisnienie_krwi_spoczynek: 128.0</br>cholesterol_we_krwi: 229.0</br>cukier_we_krwi: 0.0</br>wynik_ekg_spoczynek: 2.0</br>bol_klatka_wysilek: 0.0</br>max_obnizka_st: 0.4</br>przebieg_st_szczyt: 2.0</br>zwapnienia_miazdzycowe: 1.0</br>proba_ta: 7.0</br>_original_yhat_: 0.42</br>"
          ],
          [
           "</br>id: 30</br>prediction: 0.55</br>ilosc_uderzen_serca: 94.56</br></br>wiek: 57.0</br>plec: 1.0</br>typ_bolu_klatka: 3.0</br>cisnienie_krwi_spoczynek: 128.0</br>cholesterol_we_krwi: 229.0</br>cukier_we_krwi: 0.0</br>wynik_ekg_spoczynek: 2.0</br>bol_klatka_wysilek: 0.0</br>max_obnizka_st: 0.4</br>przebieg_st_szczyt: 2.0</br>zwapnienia_miazdzycowe: 1.0</br>proba_ta: 7.0</br>_original_yhat_: 0.42</br>"
          ],
          [
           "</br>id: 30</br>prediction: 0.55</br>ilosc_uderzen_serca: 95.8</br></br>wiek: 57.0</br>plec: 1.0</br>typ_bolu_klatka: 3.0</br>cisnienie_krwi_spoczynek: 128.0</br>cholesterol_we_krwi: 229.0</br>cukier_we_krwi: 0.0</br>wynik_ekg_spoczynek: 2.0</br>bol_klatka_wysilek: 0.0</br>max_obnizka_st: 0.4</br>przebieg_st_szczyt: 2.0</br>zwapnienia_miazdzycowe: 1.0</br>proba_ta: 7.0</br>_original_yhat_: 0.42</br>"
          ],
          [
           "</br>id: 30</br>prediction: 0.55</br>ilosc_uderzen_serca: 97.03999999999999</br></br>wiek: 57.0</br>plec: 1.0</br>typ_bolu_klatka: 3.0</br>cisnienie_krwi_spoczynek: 128.0</br>cholesterol_we_krwi: 229.0</br>cukier_we_krwi: 0.0</br>wynik_ekg_spoczynek: 2.0</br>bol_klatka_wysilek: 0.0</br>max_obnizka_st: 0.4</br>przebieg_st_szczyt: 2.0</br>zwapnienia_miazdzycowe: 1.0</br>proba_ta: 7.0</br>_original_yhat_: 0.42</br>"
          ],
          [
           "</br>id: 30</br>prediction: 0.55</br>ilosc_uderzen_serca: 98.28</br></br>wiek: 57.0</br>plec: 1.0</br>typ_bolu_klatka: 3.0</br>cisnienie_krwi_spoczynek: 128.0</br>cholesterol_we_krwi: 229.0</br>cukier_we_krwi: 0.0</br>wynik_ekg_spoczynek: 2.0</br>bol_klatka_wysilek: 0.0</br>max_obnizka_st: 0.4</br>przebieg_st_szczyt: 2.0</br>zwapnienia_miazdzycowe: 1.0</br>proba_ta: 7.0</br>_original_yhat_: 0.42</br>"
          ],
          [
           "</br>id: 30</br>prediction: 0.55</br>ilosc_uderzen_serca: 99.52</br></br>wiek: 57.0</br>plec: 1.0</br>typ_bolu_klatka: 3.0</br>cisnienie_krwi_spoczynek: 128.0</br>cholesterol_we_krwi: 229.0</br>cukier_we_krwi: 0.0</br>wynik_ekg_spoczynek: 2.0</br>bol_klatka_wysilek: 0.0</br>max_obnizka_st: 0.4</br>przebieg_st_szczyt: 2.0</br>zwapnienia_miazdzycowe: 1.0</br>proba_ta: 7.0</br>_original_yhat_: 0.42</br>"
          ],
          [
           "</br>id: 30</br>prediction: 0.55</br>ilosc_uderzen_serca: 100.75999999999999</br></br>wiek: 57.0</br>plec: 1.0</br>typ_bolu_klatka: 3.0</br>cisnienie_krwi_spoczynek: 128.0</br>cholesterol_we_krwi: 229.0</br>cukier_we_krwi: 0.0</br>wynik_ekg_spoczynek: 2.0</br>bol_klatka_wysilek: 0.0</br>max_obnizka_st: 0.4</br>przebieg_st_szczyt: 2.0</br>zwapnienia_miazdzycowe: 1.0</br>proba_ta: 7.0</br>_original_yhat_: 0.42</br>"
          ],
          [
           "</br>id: 30</br>prediction: 0.55</br>ilosc_uderzen_serca: 102.0</br></br>wiek: 57.0</br>plec: 1.0</br>typ_bolu_klatka: 3.0</br>cisnienie_krwi_spoczynek: 128.0</br>cholesterol_we_krwi: 229.0</br>cukier_we_krwi: 0.0</br>wynik_ekg_spoczynek: 2.0</br>bol_klatka_wysilek: 0.0</br>max_obnizka_st: 0.4</br>przebieg_st_szczyt: 2.0</br>zwapnienia_miazdzycowe: 1.0</br>proba_ta: 7.0</br>_original_yhat_: 0.42</br>"
          ],
          [
           "</br>id: 30</br>prediction: 0.55</br>ilosc_uderzen_serca: 103.24000000000001</br></br>wiek: 57.0</br>plec: 1.0</br>typ_bolu_klatka: 3.0</br>cisnienie_krwi_spoczynek: 128.0</br>cholesterol_we_krwi: 229.0</br>cukier_we_krwi: 0.0</br>wynik_ekg_spoczynek: 2.0</br>bol_klatka_wysilek: 0.0</br>max_obnizka_st: 0.4</br>przebieg_st_szczyt: 2.0</br>zwapnienia_miazdzycowe: 1.0</br>proba_ta: 7.0</br>_original_yhat_: 0.42</br>"
          ],
          [
           "</br>id: 30</br>prediction: 0.55</br>ilosc_uderzen_serca: 104.47999999999999</br></br>wiek: 57.0</br>plec: 1.0</br>typ_bolu_klatka: 3.0</br>cisnienie_krwi_spoczynek: 128.0</br>cholesterol_we_krwi: 229.0</br>cukier_we_krwi: 0.0</br>wynik_ekg_spoczynek: 2.0</br>bol_klatka_wysilek: 0.0</br>max_obnizka_st: 0.4</br>przebieg_st_szczyt: 2.0</br>zwapnienia_miazdzycowe: 1.0</br>proba_ta: 7.0</br>_original_yhat_: 0.42</br>"
          ],
          [
           "</br>id: 30</br>prediction: 0.55</br>ilosc_uderzen_serca: 105.72</br></br>wiek: 57.0</br>plec: 1.0</br>typ_bolu_klatka: 3.0</br>cisnienie_krwi_spoczynek: 128.0</br>cholesterol_we_krwi: 229.0</br>cukier_we_krwi: 0.0</br>wynik_ekg_spoczynek: 2.0</br>bol_klatka_wysilek: 0.0</br>max_obnizka_st: 0.4</br>przebieg_st_szczyt: 2.0</br>zwapnienia_miazdzycowe: 1.0</br>proba_ta: 7.0</br>_original_yhat_: 0.42</br>"
          ],
          [
           "</br>id: 30</br>prediction: 0.55</br>ilosc_uderzen_serca: 106.96000000000001</br></br>wiek: 57.0</br>plec: 1.0</br>typ_bolu_klatka: 3.0</br>cisnienie_krwi_spoczynek: 128.0</br>cholesterol_we_krwi: 229.0</br>cukier_we_krwi: 0.0</br>wynik_ekg_spoczynek: 2.0</br>bol_klatka_wysilek: 0.0</br>max_obnizka_st: 0.4</br>przebieg_st_szczyt: 2.0</br>zwapnienia_miazdzycowe: 1.0</br>proba_ta: 7.0</br>_original_yhat_: 0.42</br>"
          ],
          [
           "</br>id: 30</br>prediction: 0.55</br>ilosc_uderzen_serca: 108.2</br></br>wiek: 57.0</br>plec: 1.0</br>typ_bolu_klatka: 3.0</br>cisnienie_krwi_spoczynek: 128.0</br>cholesterol_we_krwi: 229.0</br>cukier_we_krwi: 0.0</br>wynik_ekg_spoczynek: 2.0</br>bol_klatka_wysilek: 0.0</br>max_obnizka_st: 0.4</br>przebieg_st_szczyt: 2.0</br>zwapnienia_miazdzycowe: 1.0</br>proba_ta: 7.0</br>_original_yhat_: 0.42</br>"
          ],
          [
           "</br>id: 30</br>prediction: 0.55</br>ilosc_uderzen_serca: 109.44</br></br>wiek: 57.0</br>plec: 1.0</br>typ_bolu_klatka: 3.0</br>cisnienie_krwi_spoczynek: 128.0</br>cholesterol_we_krwi: 229.0</br>cukier_we_krwi: 0.0</br>wynik_ekg_spoczynek: 2.0</br>bol_klatka_wysilek: 0.0</br>max_obnizka_st: 0.4</br>przebieg_st_szczyt: 2.0</br>zwapnienia_miazdzycowe: 1.0</br>proba_ta: 7.0</br>_original_yhat_: 0.42</br>"
          ],
          [
           "</br>id: 30</br>prediction: 0.56</br>ilosc_uderzen_serca: 110.68</br></br>wiek: 57.0</br>plec: 1.0</br>typ_bolu_klatka: 3.0</br>cisnienie_krwi_spoczynek: 128.0</br>cholesterol_we_krwi: 229.0</br>cukier_we_krwi: 0.0</br>wynik_ekg_spoczynek: 2.0</br>bol_klatka_wysilek: 0.0</br>max_obnizka_st: 0.4</br>przebieg_st_szczyt: 2.0</br>zwapnienia_miazdzycowe: 1.0</br>proba_ta: 7.0</br>_original_yhat_: 0.42</br>"
          ],
          [
           "</br>id: 30</br>prediction: 0.56</br>ilosc_uderzen_serca: 111.92</br></br>wiek: 57.0</br>plec: 1.0</br>typ_bolu_klatka: 3.0</br>cisnienie_krwi_spoczynek: 128.0</br>cholesterol_we_krwi: 229.0</br>cukier_we_krwi: 0.0</br>wynik_ekg_spoczynek: 2.0</br>bol_klatka_wysilek: 0.0</br>max_obnizka_st: 0.4</br>przebieg_st_szczyt: 2.0</br>zwapnienia_miazdzycowe: 1.0</br>proba_ta: 7.0</br>_original_yhat_: 0.42</br>"
          ],
          [
           "</br>id: 30</br>prediction: 0.57</br>ilosc_uderzen_serca: 113.16</br></br>wiek: 57.0</br>plec: 1.0</br>typ_bolu_klatka: 3.0</br>cisnienie_krwi_spoczynek: 128.0</br>cholesterol_we_krwi: 229.0</br>cukier_we_krwi: 0.0</br>wynik_ekg_spoczynek: 2.0</br>bol_klatka_wysilek: 0.0</br>max_obnizka_st: 0.4</br>przebieg_st_szczyt: 2.0</br>zwapnienia_miazdzycowe: 1.0</br>proba_ta: 7.0</br>_original_yhat_: 0.42</br>"
          ],
          [
           "</br>id: 30</br>prediction: 0.56</br>ilosc_uderzen_serca: 114.4</br></br>wiek: 57.0</br>plec: 1.0</br>typ_bolu_klatka: 3.0</br>cisnienie_krwi_spoczynek: 128.0</br>cholesterol_we_krwi: 229.0</br>cukier_we_krwi: 0.0</br>wynik_ekg_spoczynek: 2.0</br>bol_klatka_wysilek: 0.0</br>max_obnizka_st: 0.4</br>przebieg_st_szczyt: 2.0</br>zwapnienia_miazdzycowe: 1.0</br>proba_ta: 7.0</br>_original_yhat_: 0.42</br>"
          ],
          [
           "</br>id: 30</br>prediction: 0.56</br>ilosc_uderzen_serca: 115.64</br></br>wiek: 57.0</br>plec: 1.0</br>typ_bolu_klatka: 3.0</br>cisnienie_krwi_spoczynek: 128.0</br>cholesterol_we_krwi: 229.0</br>cukier_we_krwi: 0.0</br>wynik_ekg_spoczynek: 2.0</br>bol_klatka_wysilek: 0.0</br>max_obnizka_st: 0.4</br>przebieg_st_szczyt: 2.0</br>zwapnienia_miazdzycowe: 1.0</br>proba_ta: 7.0</br>_original_yhat_: 0.42</br>"
          ],
          [
           "</br>id: 30</br>prediction: 0.56</br>ilosc_uderzen_serca: 116.88</br></br>wiek: 57.0</br>plec: 1.0</br>typ_bolu_klatka: 3.0</br>cisnienie_krwi_spoczynek: 128.0</br>cholesterol_we_krwi: 229.0</br>cukier_we_krwi: 0.0</br>wynik_ekg_spoczynek: 2.0</br>bol_klatka_wysilek: 0.0</br>max_obnizka_st: 0.4</br>przebieg_st_szczyt: 2.0</br>zwapnienia_miazdzycowe: 1.0</br>proba_ta: 7.0</br>_original_yhat_: 0.42</br>"
          ],
          [
           "</br>id: 30</br>prediction: 0.56</br>ilosc_uderzen_serca: 118.12</br></br>wiek: 57.0</br>plec: 1.0</br>typ_bolu_klatka: 3.0</br>cisnienie_krwi_spoczynek: 128.0</br>cholesterol_we_krwi: 229.0</br>cukier_we_krwi: 0.0</br>wynik_ekg_spoczynek: 2.0</br>bol_klatka_wysilek: 0.0</br>max_obnizka_st: 0.4</br>przebieg_st_szczyt: 2.0</br>zwapnienia_miazdzycowe: 1.0</br>proba_ta: 7.0</br>_original_yhat_: 0.42</br>"
          ],
          [
           "</br>id: 30</br>prediction: 0.56</br>ilosc_uderzen_serca: 119.36</br></br>wiek: 57.0</br>plec: 1.0</br>typ_bolu_klatka: 3.0</br>cisnienie_krwi_spoczynek: 128.0</br>cholesterol_we_krwi: 229.0</br>cukier_we_krwi: 0.0</br>wynik_ekg_spoczynek: 2.0</br>bol_klatka_wysilek: 0.0</br>max_obnizka_st: 0.4</br>przebieg_st_szczyt: 2.0</br>zwapnienia_miazdzycowe: 1.0</br>proba_ta: 7.0</br>_original_yhat_: 0.42</br>"
          ],
          [
           "</br>id: 30</br>prediction: 0.56</br>ilosc_uderzen_serca: 120.6</br></br>wiek: 57.0</br>plec: 1.0</br>typ_bolu_klatka: 3.0</br>cisnienie_krwi_spoczynek: 128.0</br>cholesterol_we_krwi: 229.0</br>cukier_we_krwi: 0.0</br>wynik_ekg_spoczynek: 2.0</br>bol_klatka_wysilek: 0.0</br>max_obnizka_st: 0.4</br>przebieg_st_szczyt: 2.0</br>zwapnienia_miazdzycowe: 1.0</br>proba_ta: 7.0</br>_original_yhat_: 0.42</br>"
          ],
          [
           "</br>id: 30</br>prediction: 0.56</br>ilosc_uderzen_serca: 121.84</br></br>wiek: 57.0</br>plec: 1.0</br>typ_bolu_klatka: 3.0</br>cisnienie_krwi_spoczynek: 128.0</br>cholesterol_we_krwi: 229.0</br>cukier_we_krwi: 0.0</br>wynik_ekg_spoczynek: 2.0</br>bol_klatka_wysilek: 0.0</br>max_obnizka_st: 0.4</br>przebieg_st_szczyt: 2.0</br>zwapnienia_miazdzycowe: 1.0</br>proba_ta: 7.0</br>_original_yhat_: 0.42</br>"
          ],
          [
           "</br>id: 30</br>prediction: 0.56</br>ilosc_uderzen_serca: 123.08</br></br>wiek: 57.0</br>plec: 1.0</br>typ_bolu_klatka: 3.0</br>cisnienie_krwi_spoczynek: 128.0</br>cholesterol_we_krwi: 229.0</br>cukier_we_krwi: 0.0</br>wynik_ekg_spoczynek: 2.0</br>bol_klatka_wysilek: 0.0</br>max_obnizka_st: 0.4</br>przebieg_st_szczyt: 2.0</br>zwapnienia_miazdzycowe: 1.0</br>proba_ta: 7.0</br>_original_yhat_: 0.42</br>"
          ],
          [
           "</br>id: 30</br>prediction: 0.56</br>ilosc_uderzen_serca: 124.32</br></br>wiek: 57.0</br>plec: 1.0</br>typ_bolu_klatka: 3.0</br>cisnienie_krwi_spoczynek: 128.0</br>cholesterol_we_krwi: 229.0</br>cukier_we_krwi: 0.0</br>wynik_ekg_spoczynek: 2.0</br>bol_klatka_wysilek: 0.0</br>max_obnizka_st: 0.4</br>przebieg_st_szczyt: 2.0</br>zwapnienia_miazdzycowe: 1.0</br>proba_ta: 7.0</br>_original_yhat_: 0.42</br>"
          ],
          [
           "</br>id: 30</br>prediction: 0.56</br>ilosc_uderzen_serca: 125.56</br></br>wiek: 57.0</br>plec: 1.0</br>typ_bolu_klatka: 3.0</br>cisnienie_krwi_spoczynek: 128.0</br>cholesterol_we_krwi: 229.0</br>cukier_we_krwi: 0.0</br>wynik_ekg_spoczynek: 2.0</br>bol_klatka_wysilek: 0.0</br>max_obnizka_st: 0.4</br>przebieg_st_szczyt: 2.0</br>zwapnienia_miazdzycowe: 1.0</br>proba_ta: 7.0</br>_original_yhat_: 0.42</br>"
          ],
          [
           "</br>id: 30</br>prediction: 0.56</br>ilosc_uderzen_serca: 126.8</br></br>wiek: 57.0</br>plec: 1.0</br>typ_bolu_klatka: 3.0</br>cisnienie_krwi_spoczynek: 128.0</br>cholesterol_we_krwi: 229.0</br>cukier_we_krwi: 0.0</br>wynik_ekg_spoczynek: 2.0</br>bol_klatka_wysilek: 0.0</br>max_obnizka_st: 0.4</br>przebieg_st_szczyt: 2.0</br>zwapnienia_miazdzycowe: 1.0</br>proba_ta: 7.0</br>_original_yhat_: 0.42</br>"
          ],
          [
           "</br>id: 30</br>prediction: 0.56</br>ilosc_uderzen_serca: 128.04</br></br>wiek: 57.0</br>plec: 1.0</br>typ_bolu_klatka: 3.0</br>cisnienie_krwi_spoczynek: 128.0</br>cholesterol_we_krwi: 229.0</br>cukier_we_krwi: 0.0</br>wynik_ekg_spoczynek: 2.0</br>bol_klatka_wysilek: 0.0</br>max_obnizka_st: 0.4</br>przebieg_st_szczyt: 2.0</br>zwapnienia_miazdzycowe: 1.0</br>proba_ta: 7.0</br>_original_yhat_: 0.42</br>"
          ],
          [
           "</br>id: 30</br>prediction: 0.57</br>ilosc_uderzen_serca: 129.28</br></br>wiek: 57.0</br>plec: 1.0</br>typ_bolu_klatka: 3.0</br>cisnienie_krwi_spoczynek: 128.0</br>cholesterol_we_krwi: 229.0</br>cukier_we_krwi: 0.0</br>wynik_ekg_spoczynek: 2.0</br>bol_klatka_wysilek: 0.0</br>max_obnizka_st: 0.4</br>przebieg_st_szczyt: 2.0</br>zwapnienia_miazdzycowe: 1.0</br>proba_ta: 7.0</br>_original_yhat_: 0.42</br>"
          ],
          [
           "</br>id: 30</br>prediction: 0.56</br>ilosc_uderzen_serca: 130.51999999999998</br></br>wiek: 57.0</br>plec: 1.0</br>typ_bolu_klatka: 3.0</br>cisnienie_krwi_spoczynek: 128.0</br>cholesterol_we_krwi: 229.0</br>cukier_we_krwi: 0.0</br>wynik_ekg_spoczynek: 2.0</br>bol_klatka_wysilek: 0.0</br>max_obnizka_st: 0.4</br>przebieg_st_szczyt: 2.0</br>zwapnienia_miazdzycowe: 1.0</br>proba_ta: 7.0</br>_original_yhat_: 0.42</br>"
          ],
          [
           "</br>id: 30</br>prediction: 0.56</br>ilosc_uderzen_serca: 131.76</br></br>wiek: 57.0</br>plec: 1.0</br>typ_bolu_klatka: 3.0</br>cisnienie_krwi_spoczynek: 128.0</br>cholesterol_we_krwi: 229.0</br>cukier_we_krwi: 0.0</br>wynik_ekg_spoczynek: 2.0</br>bol_klatka_wysilek: 0.0</br>max_obnizka_st: 0.4</br>przebieg_st_szczyt: 2.0</br>zwapnienia_miazdzycowe: 1.0</br>proba_ta: 7.0</br>_original_yhat_: 0.42</br>"
          ],
          [
           "</br>id: 30</br>prediction: 0.56</br>ilosc_uderzen_serca: 133.0</br></br>wiek: 57.0</br>plec: 1.0</br>typ_bolu_klatka: 3.0</br>cisnienie_krwi_spoczynek: 128.0</br>cholesterol_we_krwi: 229.0</br>cukier_we_krwi: 0.0</br>wynik_ekg_spoczynek: 2.0</br>bol_klatka_wysilek: 0.0</br>max_obnizka_st: 0.4</br>przebieg_st_szczyt: 2.0</br>zwapnienia_miazdzycowe: 1.0</br>proba_ta: 7.0</br>_original_yhat_: 0.42</br>"
          ],
          [
           "</br>id: 30</br>prediction: 0.54</br>ilosc_uderzen_serca: 134.24</br></br>wiek: 57.0</br>plec: 1.0</br>typ_bolu_klatka: 3.0</br>cisnienie_krwi_spoczynek: 128.0</br>cholesterol_we_krwi: 229.0</br>cukier_we_krwi: 0.0</br>wynik_ekg_spoczynek: 2.0</br>bol_klatka_wysilek: 0.0</br>max_obnizka_st: 0.4</br>przebieg_st_szczyt: 2.0</br>zwapnienia_miazdzycowe: 1.0</br>proba_ta: 7.0</br>_original_yhat_: 0.42</br>"
          ],
          [
           "</br>id: 30</br>prediction: 0.54</br>ilosc_uderzen_serca: 135.48000000000002</br></br>wiek: 57.0</br>plec: 1.0</br>typ_bolu_klatka: 3.0</br>cisnienie_krwi_spoczynek: 128.0</br>cholesterol_we_krwi: 229.0</br>cukier_we_krwi: 0.0</br>wynik_ekg_spoczynek: 2.0</br>bol_klatka_wysilek: 0.0</br>max_obnizka_st: 0.4</br>przebieg_st_szczyt: 2.0</br>zwapnienia_miazdzycowe: 1.0</br>proba_ta: 7.0</br>_original_yhat_: 0.42</br>"
          ],
          [
           "</br>id: 30</br>prediction: 0.52</br>ilosc_uderzen_serca: 136.72</br></br>wiek: 57.0</br>plec: 1.0</br>typ_bolu_klatka: 3.0</br>cisnienie_krwi_spoczynek: 128.0</br>cholesterol_we_krwi: 229.0</br>cukier_we_krwi: 0.0</br>wynik_ekg_spoczynek: 2.0</br>bol_klatka_wysilek: 0.0</br>max_obnizka_st: 0.4</br>przebieg_st_szczyt: 2.0</br>zwapnienia_miazdzycowe: 1.0</br>proba_ta: 7.0</br>_original_yhat_: 0.42</br>"
          ],
          [
           "</br>id: 30</br>prediction: 0.51</br>ilosc_uderzen_serca: 137.95999999999998</br></br>wiek: 57.0</br>plec: 1.0</br>typ_bolu_klatka: 3.0</br>cisnienie_krwi_spoczynek: 128.0</br>cholesterol_we_krwi: 229.0</br>cukier_we_krwi: 0.0</br>wynik_ekg_spoczynek: 2.0</br>bol_klatka_wysilek: 0.0</br>max_obnizka_st: 0.4</br>przebieg_st_szczyt: 2.0</br>zwapnienia_miazdzycowe: 1.0</br>proba_ta: 7.0</br>_original_yhat_: 0.42</br>"
          ],
          [
           "</br>id: 30</br>prediction: 0.52</br>ilosc_uderzen_serca: 139.2</br></br>wiek: 57.0</br>plec: 1.0</br>typ_bolu_klatka: 3.0</br>cisnienie_krwi_spoczynek: 128.0</br>cholesterol_we_krwi: 229.0</br>cukier_we_krwi: 0.0</br>wynik_ekg_spoczynek: 2.0</br>bol_klatka_wysilek: 0.0</br>max_obnizka_st: 0.4</br>przebieg_st_szczyt: 2.0</br>zwapnienia_miazdzycowe: 1.0</br>proba_ta: 7.0</br>_original_yhat_: 0.42</br>"
          ],
          [
           "</br>id: 30</br>prediction: 0.51</br>ilosc_uderzen_serca: 140.44</br></br>wiek: 57.0</br>plec: 1.0</br>typ_bolu_klatka: 3.0</br>cisnienie_krwi_spoczynek: 128.0</br>cholesterol_we_krwi: 229.0</br>cukier_we_krwi: 0.0</br>wynik_ekg_spoczynek: 2.0</br>bol_klatka_wysilek: 0.0</br>max_obnizka_st: 0.4</br>przebieg_st_szczyt: 2.0</br>zwapnienia_miazdzycowe: 1.0</br>proba_ta: 7.0</br>_original_yhat_: 0.42</br>"
          ],
          [
           "</br>id: 30</br>prediction: 0.5</br>ilosc_uderzen_serca: 141.68</br></br>wiek: 57.0</br>plec: 1.0</br>typ_bolu_klatka: 3.0</br>cisnienie_krwi_spoczynek: 128.0</br>cholesterol_we_krwi: 229.0</br>cukier_we_krwi: 0.0</br>wynik_ekg_spoczynek: 2.0</br>bol_klatka_wysilek: 0.0</br>max_obnizka_st: 0.4</br>przebieg_st_szczyt: 2.0</br>zwapnienia_miazdzycowe: 1.0</br>proba_ta: 7.0</br>_original_yhat_: 0.42</br>"
          ],
          [
           "</br>id: 30</br>prediction: 0.48</br>ilosc_uderzen_serca: 142.92000000000002</br></br>wiek: 57.0</br>plec: 1.0</br>typ_bolu_klatka: 3.0</br>cisnienie_krwi_spoczynek: 128.0</br>cholesterol_we_krwi: 229.0</br>cukier_we_krwi: 0.0</br>wynik_ekg_spoczynek: 2.0</br>bol_klatka_wysilek: 0.0</br>max_obnizka_st: 0.4</br>przebieg_st_szczyt: 2.0</br>zwapnienia_miazdzycowe: 1.0</br>proba_ta: 7.0</br>_original_yhat_: 0.42</br>"
          ],
          [
           "</br>id: 30</br>prediction: 0.45</br>ilosc_uderzen_serca: 144.16</br></br>wiek: 57.0</br>plec: 1.0</br>typ_bolu_klatka: 3.0</br>cisnienie_krwi_spoczynek: 128.0</br>cholesterol_we_krwi: 229.0</br>cukier_we_krwi: 0.0</br>wynik_ekg_spoczynek: 2.0</br>bol_klatka_wysilek: 0.0</br>max_obnizka_st: 0.4</br>przebieg_st_szczyt: 2.0</br>zwapnienia_miazdzycowe: 1.0</br>proba_ta: 7.0</br>_original_yhat_: 0.42</br>"
          ],
          [
           "</br>id: 30</br>prediction: 0.45</br>ilosc_uderzen_serca: 145.4</br></br>wiek: 57.0</br>plec: 1.0</br>typ_bolu_klatka: 3.0</br>cisnienie_krwi_spoczynek: 128.0</br>cholesterol_we_krwi: 229.0</br>cukier_we_krwi: 0.0</br>wynik_ekg_spoczynek: 2.0</br>bol_klatka_wysilek: 0.0</br>max_obnizka_st: 0.4</br>przebieg_st_szczyt: 2.0</br>zwapnienia_miazdzycowe: 1.0</br>proba_ta: 7.0</br>_original_yhat_: 0.42</br>"
          ],
          [
           "</br>id: 30</br>prediction: 0.42</br>ilosc_uderzen_serca: 146.64</br></br>wiek: 57.0</br>plec: 1.0</br>typ_bolu_klatka: 3.0</br>cisnienie_krwi_spoczynek: 128.0</br>cholesterol_we_krwi: 229.0</br>cukier_we_krwi: 0.0</br>wynik_ekg_spoczynek: 2.0</br>bol_klatka_wysilek: 0.0</br>max_obnizka_st: 0.4</br>przebieg_st_szczyt: 2.0</br>zwapnienia_miazdzycowe: 1.0</br>proba_ta: 7.0</br>_original_yhat_: 0.42</br>"
          ],
          [
           "</br>id: 30</br>prediction: 0.42</br>ilosc_uderzen_serca: 147.88</br></br>wiek: 57.0</br>plec: 1.0</br>typ_bolu_klatka: 3.0</br>cisnienie_krwi_spoczynek: 128.0</br>cholesterol_we_krwi: 229.0</br>cukier_we_krwi: 0.0</br>wynik_ekg_spoczynek: 2.0</br>bol_klatka_wysilek: 0.0</br>max_obnizka_st: 0.4</br>przebieg_st_szczyt: 2.0</br>zwapnienia_miazdzycowe: 1.0</br>proba_ta: 7.0</br>_original_yhat_: 0.42</br>"
          ],
          [
           "</br>id: 30</br>prediction: 0.42</br>ilosc_uderzen_serca: 149.12</br></br>wiek: 57.0</br>plec: 1.0</br>typ_bolu_klatka: 3.0</br>cisnienie_krwi_spoczynek: 128.0</br>cholesterol_we_krwi: 229.0</br>cukier_we_krwi: 0.0</br>wynik_ekg_spoczynek: 2.0</br>bol_klatka_wysilek: 0.0</br>max_obnizka_st: 0.4</br>przebieg_st_szczyt: 2.0</br>zwapnienia_miazdzycowe: 1.0</br>proba_ta: 7.0</br>_original_yhat_: 0.42</br>"
          ],
          [
           "</br>id: 30</br>prediction: 0.42</br>ilosc_uderzen_serca: 150.0</br></br>wiek: 57.0</br>plec: 1.0</br>typ_bolu_klatka: 3.0</br>cisnienie_krwi_spoczynek: 128.0</br>cholesterol_we_krwi: 229.0</br>cukier_we_krwi: 0.0</br>wynik_ekg_spoczynek: 2.0</br>bol_klatka_wysilek: 0.0</br>max_obnizka_st: 0.4</br>przebieg_st_szczyt: 2.0</br>zwapnienia_miazdzycowe: 1.0</br>proba_ta: 7.0</br>_original_yhat_: 0.42</br>"
          ],
          [
           "</br>id: 30</br>prediction: 0.42</br>ilosc_uderzen_serca: 150.36</br></br>wiek: 57.0</br>plec: 1.0</br>typ_bolu_klatka: 3.0</br>cisnienie_krwi_spoczynek: 128.0</br>cholesterol_we_krwi: 229.0</br>cukier_we_krwi: 0.0</br>wynik_ekg_spoczynek: 2.0</br>bol_klatka_wysilek: 0.0</br>max_obnizka_st: 0.4</br>przebieg_st_szczyt: 2.0</br>zwapnienia_miazdzycowe: 1.0</br>proba_ta: 7.0</br>_original_yhat_: 0.42</br>"
          ],
          [
           "</br>id: 30</br>prediction: 0.39</br>ilosc_uderzen_serca: 151.6</br></br>wiek: 57.0</br>plec: 1.0</br>typ_bolu_klatka: 3.0</br>cisnienie_krwi_spoczynek: 128.0</br>cholesterol_we_krwi: 229.0</br>cukier_we_krwi: 0.0</br>wynik_ekg_spoczynek: 2.0</br>bol_klatka_wysilek: 0.0</br>max_obnizka_st: 0.4</br>przebieg_st_szczyt: 2.0</br>zwapnienia_miazdzycowe: 1.0</br>proba_ta: 7.0</br>_original_yhat_: 0.42</br>"
          ],
          [
           "</br>id: 30</br>prediction: 0.39</br>ilosc_uderzen_serca: 152.84</br></br>wiek: 57.0</br>plec: 1.0</br>typ_bolu_klatka: 3.0</br>cisnienie_krwi_spoczynek: 128.0</br>cholesterol_we_krwi: 229.0</br>cukier_we_krwi: 0.0</br>wynik_ekg_spoczynek: 2.0</br>bol_klatka_wysilek: 0.0</br>max_obnizka_st: 0.4</br>przebieg_st_szczyt: 2.0</br>zwapnienia_miazdzycowe: 1.0</br>proba_ta: 7.0</br>_original_yhat_: 0.42</br>"
          ],
          [
           "</br>id: 30</br>prediction: 0.41</br>ilosc_uderzen_serca: 154.07999999999998</br></br>wiek: 57.0</br>plec: 1.0</br>typ_bolu_klatka: 3.0</br>cisnienie_krwi_spoczynek: 128.0</br>cholesterol_we_krwi: 229.0</br>cukier_we_krwi: 0.0</br>wynik_ekg_spoczynek: 2.0</br>bol_klatka_wysilek: 0.0</br>max_obnizka_st: 0.4</br>przebieg_st_szczyt: 2.0</br>zwapnienia_miazdzycowe: 1.0</br>proba_ta: 7.0</br>_original_yhat_: 0.42</br>"
          ],
          [
           "</br>id: 30</br>prediction: 0.43</br>ilosc_uderzen_serca: 155.32</br></br>wiek: 57.0</br>plec: 1.0</br>typ_bolu_klatka: 3.0</br>cisnienie_krwi_spoczynek: 128.0</br>cholesterol_we_krwi: 229.0</br>cukier_we_krwi: 0.0</br>wynik_ekg_spoczynek: 2.0</br>bol_klatka_wysilek: 0.0</br>max_obnizka_st: 0.4</br>przebieg_st_szczyt: 2.0</br>zwapnienia_miazdzycowe: 1.0</br>proba_ta: 7.0</br>_original_yhat_: 0.42</br>"
          ],
          [
           "</br>id: 30</br>prediction: 0.45</br>ilosc_uderzen_serca: 156.56</br></br>wiek: 57.0</br>plec: 1.0</br>typ_bolu_klatka: 3.0</br>cisnienie_krwi_spoczynek: 128.0</br>cholesterol_we_krwi: 229.0</br>cukier_we_krwi: 0.0</br>wynik_ekg_spoczynek: 2.0</br>bol_klatka_wysilek: 0.0</br>max_obnizka_st: 0.4</br>przebieg_st_szczyt: 2.0</br>zwapnienia_miazdzycowe: 1.0</br>proba_ta: 7.0</br>_original_yhat_: 0.42</br>"
          ],
          [
           "</br>id: 30</br>prediction: 0.46</br>ilosc_uderzen_serca: 157.8</br></br>wiek: 57.0</br>plec: 1.0</br>typ_bolu_klatka: 3.0</br>cisnienie_krwi_spoczynek: 128.0</br>cholesterol_we_krwi: 229.0</br>cukier_we_krwi: 0.0</br>wynik_ekg_spoczynek: 2.0</br>bol_klatka_wysilek: 0.0</br>max_obnizka_st: 0.4</br>przebieg_st_szczyt: 2.0</br>zwapnienia_miazdzycowe: 1.0</br>proba_ta: 7.0</br>_original_yhat_: 0.42</br>"
          ],
          [
           "</br>id: 30</br>prediction: 0.48</br>ilosc_uderzen_serca: 159.04000000000002</br></br>wiek: 57.0</br>plec: 1.0</br>typ_bolu_klatka: 3.0</br>cisnienie_krwi_spoczynek: 128.0</br>cholesterol_we_krwi: 229.0</br>cukier_we_krwi: 0.0</br>wynik_ekg_spoczynek: 2.0</br>bol_klatka_wysilek: 0.0</br>max_obnizka_st: 0.4</br>przebieg_st_szczyt: 2.0</br>zwapnienia_miazdzycowe: 1.0</br>proba_ta: 7.0</br>_original_yhat_: 0.42</br>"
          ],
          [
           "</br>id: 30</br>prediction: 0.47</br>ilosc_uderzen_serca: 160.28</br></br>wiek: 57.0</br>plec: 1.0</br>typ_bolu_klatka: 3.0</br>cisnienie_krwi_spoczynek: 128.0</br>cholesterol_we_krwi: 229.0</br>cukier_we_krwi: 0.0</br>wynik_ekg_spoczynek: 2.0</br>bol_klatka_wysilek: 0.0</br>max_obnizka_st: 0.4</br>przebieg_st_szczyt: 2.0</br>zwapnienia_miazdzycowe: 1.0</br>proba_ta: 7.0</br>_original_yhat_: 0.42</br>"
          ],
          [
           "</br>id: 30</br>prediction: 0.46</br>ilosc_uderzen_serca: 161.51999999999998</br></br>wiek: 57.0</br>plec: 1.0</br>typ_bolu_klatka: 3.0</br>cisnienie_krwi_spoczynek: 128.0</br>cholesterol_we_krwi: 229.0</br>cukier_we_krwi: 0.0</br>wynik_ekg_spoczynek: 2.0</br>bol_klatka_wysilek: 0.0</br>max_obnizka_st: 0.4</br>przebieg_st_szczyt: 2.0</br>zwapnienia_miazdzycowe: 1.0</br>proba_ta: 7.0</br>_original_yhat_: 0.42</br>"
          ],
          [
           "</br>id: 30</br>prediction: 0.46</br>ilosc_uderzen_serca: 162.76</br></br>wiek: 57.0</br>plec: 1.0</br>typ_bolu_klatka: 3.0</br>cisnienie_krwi_spoczynek: 128.0</br>cholesterol_we_krwi: 229.0</br>cukier_we_krwi: 0.0</br>wynik_ekg_spoczynek: 2.0</br>bol_klatka_wysilek: 0.0</br>max_obnizka_st: 0.4</br>przebieg_st_szczyt: 2.0</br>zwapnienia_miazdzycowe: 1.0</br>proba_ta: 7.0</br>_original_yhat_: 0.42</br>"
          ],
          [
           "</br>id: 30</br>prediction: 0.46</br>ilosc_uderzen_serca: 164.0</br></br>wiek: 57.0</br>plec: 1.0</br>typ_bolu_klatka: 3.0</br>cisnienie_krwi_spoczynek: 128.0</br>cholesterol_we_krwi: 229.0</br>cukier_we_krwi: 0.0</br>wynik_ekg_spoczynek: 2.0</br>bol_klatka_wysilek: 0.0</br>max_obnizka_st: 0.4</br>przebieg_st_szczyt: 2.0</br>zwapnienia_miazdzycowe: 1.0</br>proba_ta: 7.0</br>_original_yhat_: 0.42</br>"
          ],
          [
           "</br>id: 30</br>prediction: 0.46</br>ilosc_uderzen_serca: 165.24</br></br>wiek: 57.0</br>plec: 1.0</br>typ_bolu_klatka: 3.0</br>cisnienie_krwi_spoczynek: 128.0</br>cholesterol_we_krwi: 229.0</br>cukier_we_krwi: 0.0</br>wynik_ekg_spoczynek: 2.0</br>bol_klatka_wysilek: 0.0</br>max_obnizka_st: 0.4</br>przebieg_st_szczyt: 2.0</br>zwapnienia_miazdzycowe: 1.0</br>proba_ta: 7.0</br>_original_yhat_: 0.42</br>"
          ],
          [
           "</br>id: 30</br>prediction: 0.46</br>ilosc_uderzen_serca: 166.48000000000002</br></br>wiek: 57.0</br>plec: 1.0</br>typ_bolu_klatka: 3.0</br>cisnienie_krwi_spoczynek: 128.0</br>cholesterol_we_krwi: 229.0</br>cukier_we_krwi: 0.0</br>wynik_ekg_spoczynek: 2.0</br>bol_klatka_wysilek: 0.0</br>max_obnizka_st: 0.4</br>przebieg_st_szczyt: 2.0</br>zwapnienia_miazdzycowe: 1.0</br>proba_ta: 7.0</br>_original_yhat_: 0.42</br>"
          ],
          [
           "</br>id: 30</br>prediction: 0.46</br>ilosc_uderzen_serca: 167.72</br></br>wiek: 57.0</br>plec: 1.0</br>typ_bolu_klatka: 3.0</br>cisnienie_krwi_spoczynek: 128.0</br>cholesterol_we_krwi: 229.0</br>cukier_we_krwi: 0.0</br>wynik_ekg_spoczynek: 2.0</br>bol_klatka_wysilek: 0.0</br>max_obnizka_st: 0.4</br>przebieg_st_szczyt: 2.0</br>zwapnienia_miazdzycowe: 1.0</br>proba_ta: 7.0</br>_original_yhat_: 0.42</br>"
          ],
          [
           "</br>id: 30</br>prediction: 0.46</br>ilosc_uderzen_serca: 168.95999999999998</br></br>wiek: 57.0</br>plec: 1.0</br>typ_bolu_klatka: 3.0</br>cisnienie_krwi_spoczynek: 128.0</br>cholesterol_we_krwi: 229.0</br>cukier_we_krwi: 0.0</br>wynik_ekg_spoczynek: 2.0</br>bol_klatka_wysilek: 0.0</br>max_obnizka_st: 0.4</br>przebieg_st_szczyt: 2.0</br>zwapnienia_miazdzycowe: 1.0</br>proba_ta: 7.0</br>_original_yhat_: 0.42</br>"
          ],
          [
           "</br>id: 30</br>prediction: 0.46</br>ilosc_uderzen_serca: 170.2</br></br>wiek: 57.0</br>plec: 1.0</br>typ_bolu_klatka: 3.0</br>cisnienie_krwi_spoczynek: 128.0</br>cholesterol_we_krwi: 229.0</br>cukier_we_krwi: 0.0</br>wynik_ekg_spoczynek: 2.0</br>bol_klatka_wysilek: 0.0</br>max_obnizka_st: 0.4</br>przebieg_st_szczyt: 2.0</br>zwapnienia_miazdzycowe: 1.0</br>proba_ta: 7.0</br>_original_yhat_: 0.42</br>"
          ],
          [
           "</br>id: 30</br>prediction: 0.46</br>ilosc_uderzen_serca: 171.44</br></br>wiek: 57.0</br>plec: 1.0</br>typ_bolu_klatka: 3.0</br>cisnienie_krwi_spoczynek: 128.0</br>cholesterol_we_krwi: 229.0</br>cukier_we_krwi: 0.0</br>wynik_ekg_spoczynek: 2.0</br>bol_klatka_wysilek: 0.0</br>max_obnizka_st: 0.4</br>przebieg_st_szczyt: 2.0</br>zwapnienia_miazdzycowe: 1.0</br>proba_ta: 7.0</br>_original_yhat_: 0.42</br>"
          ],
          [
           "</br>id: 30</br>prediction: 0.46</br>ilosc_uderzen_serca: 172.68</br></br>wiek: 57.0</br>plec: 1.0</br>typ_bolu_klatka: 3.0</br>cisnienie_krwi_spoczynek: 128.0</br>cholesterol_we_krwi: 229.0</br>cukier_we_krwi: 0.0</br>wynik_ekg_spoczynek: 2.0</br>bol_klatka_wysilek: 0.0</br>max_obnizka_st: 0.4</br>przebieg_st_szczyt: 2.0</br>zwapnienia_miazdzycowe: 1.0</br>proba_ta: 7.0</br>_original_yhat_: 0.42</br>"
          ],
          [
           "</br>id: 30</br>prediction: 0.46</br>ilosc_uderzen_serca: 173.92000000000002</br></br>wiek: 57.0</br>plec: 1.0</br>typ_bolu_klatka: 3.0</br>cisnienie_krwi_spoczynek: 128.0</br>cholesterol_we_krwi: 229.0</br>cukier_we_krwi: 0.0</br>wynik_ekg_spoczynek: 2.0</br>bol_klatka_wysilek: 0.0</br>max_obnizka_st: 0.4</br>przebieg_st_szczyt: 2.0</br>zwapnienia_miazdzycowe: 1.0</br>proba_ta: 7.0</br>_original_yhat_: 0.42</br>"
          ],
          [
           "</br>id: 30</br>prediction: 0.43</br>ilosc_uderzen_serca: 175.16</br></br>wiek: 57.0</br>plec: 1.0</br>typ_bolu_klatka: 3.0</br>cisnienie_krwi_spoczynek: 128.0</br>cholesterol_we_krwi: 229.0</br>cukier_we_krwi: 0.0</br>wynik_ekg_spoczynek: 2.0</br>bol_klatka_wysilek: 0.0</br>max_obnizka_st: 0.4</br>przebieg_st_szczyt: 2.0</br>zwapnienia_miazdzycowe: 1.0</br>proba_ta: 7.0</br>_original_yhat_: 0.42</br>"
          ],
          [
           "</br>id: 30</br>prediction: 0.43</br>ilosc_uderzen_serca: 176.4</br></br>wiek: 57.0</br>plec: 1.0</br>typ_bolu_klatka: 3.0</br>cisnienie_krwi_spoczynek: 128.0</br>cholesterol_we_krwi: 229.0</br>cukier_we_krwi: 0.0</br>wynik_ekg_spoczynek: 2.0</br>bol_klatka_wysilek: 0.0</br>max_obnizka_st: 0.4</br>przebieg_st_szczyt: 2.0</br>zwapnienia_miazdzycowe: 1.0</br>proba_ta: 7.0</br>_original_yhat_: 0.42</br>"
          ],
          [
           "</br>id: 30</br>prediction: 0.42</br>ilosc_uderzen_serca: 177.64</br></br>wiek: 57.0</br>plec: 1.0</br>typ_bolu_klatka: 3.0</br>cisnienie_krwi_spoczynek: 128.0</br>cholesterol_we_krwi: 229.0</br>cukier_we_krwi: 0.0</br>wynik_ekg_spoczynek: 2.0</br>bol_klatka_wysilek: 0.0</br>max_obnizka_st: 0.4</br>przebieg_st_szczyt: 2.0</br>zwapnienia_miazdzycowe: 1.0</br>proba_ta: 7.0</br>_original_yhat_: 0.42</br>"
          ],
          [
           "</br>id: 30</br>prediction: 0.42</br>ilosc_uderzen_serca: 178.88</br></br>wiek: 57.0</br>plec: 1.0</br>typ_bolu_klatka: 3.0</br>cisnienie_krwi_spoczynek: 128.0</br>cholesterol_we_krwi: 229.0</br>cukier_we_krwi: 0.0</br>wynik_ekg_spoczynek: 2.0</br>bol_klatka_wysilek: 0.0</br>max_obnizka_st: 0.4</br>przebieg_st_szczyt: 2.0</br>zwapnienia_miazdzycowe: 1.0</br>proba_ta: 7.0</br>_original_yhat_: 0.42</br>"
          ],
          [
           "</br>id: 30</br>prediction: 0.42</br>ilosc_uderzen_serca: 180.12</br></br>wiek: 57.0</br>plec: 1.0</br>typ_bolu_klatka: 3.0</br>cisnienie_krwi_spoczynek: 128.0</br>cholesterol_we_krwi: 229.0</br>cukier_we_krwi: 0.0</br>wynik_ekg_spoczynek: 2.0</br>bol_klatka_wysilek: 0.0</br>max_obnizka_st: 0.4</br>przebieg_st_szczyt: 2.0</br>zwapnienia_miazdzycowe: 1.0</br>proba_ta: 7.0</br>_original_yhat_: 0.42</br>"
          ],
          [
           "</br>id: 30</br>prediction: 0.43</br>ilosc_uderzen_serca: 181.36</br></br>wiek: 57.0</br>plec: 1.0</br>typ_bolu_klatka: 3.0</br>cisnienie_krwi_spoczynek: 128.0</br>cholesterol_we_krwi: 229.0</br>cukier_we_krwi: 0.0</br>wynik_ekg_spoczynek: 2.0</br>bol_klatka_wysilek: 0.0</br>max_obnizka_st: 0.4</br>przebieg_st_szczyt: 2.0</br>zwapnienia_miazdzycowe: 1.0</br>proba_ta: 7.0</br>_original_yhat_: 0.42</br>"
          ],
          [
           "</br>id: 30</br>prediction: 0.43</br>ilosc_uderzen_serca: 182.6</br></br>wiek: 57.0</br>plec: 1.0</br>typ_bolu_klatka: 3.0</br>cisnienie_krwi_spoczynek: 128.0</br>cholesterol_we_krwi: 229.0</br>cukier_we_krwi: 0.0</br>wynik_ekg_spoczynek: 2.0</br>bol_klatka_wysilek: 0.0</br>max_obnizka_st: 0.4</br>przebieg_st_szczyt: 2.0</br>zwapnienia_miazdzycowe: 1.0</br>proba_ta: 7.0</br>_original_yhat_: 0.42</br>"
          ],
          [
           "</br>id: 30</br>prediction: 0.43</br>ilosc_uderzen_serca: 183.84</br></br>wiek: 57.0</br>plec: 1.0</br>typ_bolu_klatka: 3.0</br>cisnienie_krwi_spoczynek: 128.0</br>cholesterol_we_krwi: 229.0</br>cukier_we_krwi: 0.0</br>wynik_ekg_spoczynek: 2.0</br>bol_klatka_wysilek: 0.0</br>max_obnizka_st: 0.4</br>przebieg_st_szczyt: 2.0</br>zwapnienia_miazdzycowe: 1.0</br>proba_ta: 7.0</br>_original_yhat_: 0.42</br>"
          ],
          [
           "</br>id: 30</br>prediction: 0.43</br>ilosc_uderzen_serca: 185.07999999999998</br></br>wiek: 57.0</br>plec: 1.0</br>typ_bolu_klatka: 3.0</br>cisnienie_krwi_spoczynek: 128.0</br>cholesterol_we_krwi: 229.0</br>cukier_we_krwi: 0.0</br>wynik_ekg_spoczynek: 2.0</br>bol_klatka_wysilek: 0.0</br>max_obnizka_st: 0.4</br>przebieg_st_szczyt: 2.0</br>zwapnienia_miazdzycowe: 1.0</br>proba_ta: 7.0</br>_original_yhat_: 0.42</br>"
          ],
          [
           "</br>id: 30</br>prediction: 0.43</br>ilosc_uderzen_serca: 186.32</br></br>wiek: 57.0</br>plec: 1.0</br>typ_bolu_klatka: 3.0</br>cisnienie_krwi_spoczynek: 128.0</br>cholesterol_we_krwi: 229.0</br>cukier_we_krwi: 0.0</br>wynik_ekg_spoczynek: 2.0</br>bol_klatka_wysilek: 0.0</br>max_obnizka_st: 0.4</br>przebieg_st_szczyt: 2.0</br>zwapnienia_miazdzycowe: 1.0</br>proba_ta: 7.0</br>_original_yhat_: 0.42</br>"
          ],
          [
           "</br>id: 30</br>prediction: 0.43</br>ilosc_uderzen_serca: 187.56</br></br>wiek: 57.0</br>plec: 1.0</br>typ_bolu_klatka: 3.0</br>cisnienie_krwi_spoczynek: 128.0</br>cholesterol_we_krwi: 229.0</br>cukier_we_krwi: 0.0</br>wynik_ekg_spoczynek: 2.0</br>bol_klatka_wysilek: 0.0</br>max_obnizka_st: 0.4</br>przebieg_st_szczyt: 2.0</br>zwapnienia_miazdzycowe: 1.0</br>proba_ta: 7.0</br>_original_yhat_: 0.42</br>"
          ],
          [
           "</br>id: 30</br>prediction: 0.43</br>ilosc_uderzen_serca: 188.8</br></br>wiek: 57.0</br>plec: 1.0</br>typ_bolu_klatka: 3.0</br>cisnienie_krwi_spoczynek: 128.0</br>cholesterol_we_krwi: 229.0</br>cukier_we_krwi: 0.0</br>wynik_ekg_spoczynek: 2.0</br>bol_klatka_wysilek: 0.0</br>max_obnizka_st: 0.4</br>przebieg_st_szczyt: 2.0</br>zwapnienia_miazdzycowe: 1.0</br>proba_ta: 7.0</br>_original_yhat_: 0.42</br>"
          ],
          [
           "</br>id: 30</br>prediction: 0.43</br>ilosc_uderzen_serca: 190.04</br></br>wiek: 57.0</br>plec: 1.0</br>typ_bolu_klatka: 3.0</br>cisnienie_krwi_spoczynek: 128.0</br>cholesterol_we_krwi: 229.0</br>cukier_we_krwi: 0.0</br>wynik_ekg_spoczynek: 2.0</br>bol_klatka_wysilek: 0.0</br>max_obnizka_st: 0.4</br>przebieg_st_szczyt: 2.0</br>zwapnienia_miazdzycowe: 1.0</br>proba_ta: 7.0</br>_original_yhat_: 0.42</br>"
          ],
          [
           "</br>id: 30</br>prediction: 0.43</br>ilosc_uderzen_serca: 191.28</br></br>wiek: 57.0</br>plec: 1.0</br>typ_bolu_klatka: 3.0</br>cisnienie_krwi_spoczynek: 128.0</br>cholesterol_we_krwi: 229.0</br>cukier_we_krwi: 0.0</br>wynik_ekg_spoczynek: 2.0</br>bol_klatka_wysilek: 0.0</br>max_obnizka_st: 0.4</br>przebieg_st_szczyt: 2.0</br>zwapnienia_miazdzycowe: 1.0</br>proba_ta: 7.0</br>_original_yhat_: 0.42</br>"
          ],
          [
           "</br>id: 30</br>prediction: 0.43</br>ilosc_uderzen_serca: 192.51999999999998</br></br>wiek: 57.0</br>plec: 1.0</br>typ_bolu_klatka: 3.0</br>cisnienie_krwi_spoczynek: 128.0</br>cholesterol_we_krwi: 229.0</br>cukier_we_krwi: 0.0</br>wynik_ekg_spoczynek: 2.0</br>bol_klatka_wysilek: 0.0</br>max_obnizka_st: 0.4</br>przebieg_st_szczyt: 2.0</br>zwapnienia_miazdzycowe: 1.0</br>proba_ta: 7.0</br>_original_yhat_: 0.42</br>"
          ],
          [
           "</br>id: 30</br>prediction: 0.43</br>ilosc_uderzen_serca: 193.76</br></br>wiek: 57.0</br>plec: 1.0</br>typ_bolu_klatka: 3.0</br>cisnienie_krwi_spoczynek: 128.0</br>cholesterol_we_krwi: 229.0</br>cukier_we_krwi: 0.0</br>wynik_ekg_spoczynek: 2.0</br>bol_klatka_wysilek: 0.0</br>max_obnizka_st: 0.4</br>przebieg_st_szczyt: 2.0</br>zwapnienia_miazdzycowe: 1.0</br>proba_ta: 7.0</br>_original_yhat_: 0.42</br>"
          ],
          [
           "</br>id: 30</br>prediction: 0.43</br>ilosc_uderzen_serca: 195.0</br></br>wiek: 57.0</br>plec: 1.0</br>typ_bolu_klatka: 3.0</br>cisnienie_krwi_spoczynek: 128.0</br>cholesterol_we_krwi: 229.0</br>cukier_we_krwi: 0.0</br>wynik_ekg_spoczynek: 2.0</br>bol_klatka_wysilek: 0.0</br>max_obnizka_st: 0.4</br>przebieg_st_szczyt: 2.0</br>zwapnienia_miazdzycowe: 1.0</br>proba_ta: 7.0</br>_original_yhat_: 0.42</br>"
          ]
         ],
         "hovertemplate": "%{customdata[0]}<extra></extra>",
         "legendgroup": "Model RandomForest dla danych serca",
         "line": {
          "color": "#46bac2",
          "dash": "solid",
          "width": 2
         },
         "marker": {
          "symbol": "circle"
         },
         "mode": "lines",
         "name": "Model RandomForest dla danych serca",
         "opacity": 1,
         "showlegend": false,
         "type": "scattergl",
         "x": [
          71,
          72.24,
          73.48,
          74.72,
          75.96,
          77.2,
          78.44,
          79.68,
          80.92,
          82.16,
          83.4,
          84.64,
          85.88,
          87.12,
          88.36,
          89.6,
          90.84,
          92.08,
          93.32,
          94.56,
          95.8,
          97.03999999999999,
          98.28,
          99.52,
          100.75999999999999,
          102,
          103.24000000000001,
          104.47999999999999,
          105.72,
          106.96000000000001,
          108.2,
          109.44,
          110.68,
          111.92,
          113.16,
          114.4,
          115.64,
          116.88,
          118.12,
          119.36,
          120.6,
          121.84,
          123.08,
          124.32,
          125.56,
          126.8,
          128.04,
          129.28,
          130.51999999999998,
          131.76,
          133,
          134.24,
          135.48000000000002,
          136.72,
          137.95999999999998,
          139.2,
          140.44,
          141.68,
          142.92000000000002,
          144.16,
          145.4,
          146.64,
          147.88,
          149.12,
          150,
          150.36,
          151.6,
          152.84,
          154.07999999999998,
          155.32,
          156.56,
          157.8,
          159.04000000000002,
          160.28,
          161.51999999999998,
          162.76,
          164,
          165.24,
          166.48000000000002,
          167.72,
          168.95999999999998,
          170.2,
          171.44,
          172.68,
          173.92000000000002,
          175.16,
          176.4,
          177.64,
          178.88,
          180.12,
          181.36,
          182.6,
          183.84,
          185.07999999999998,
          186.32,
          187.56,
          188.8,
          190.04,
          191.28,
          192.51999999999998,
          193.76,
          195
         ],
         "xaxis": "x8",
         "y": [
          0.55,
          0.55,
          0.55,
          0.55,
          0.55,
          0.55,
          0.55,
          0.55,
          0.55,
          0.55,
          0.55,
          0.55,
          0.55,
          0.55,
          0.55,
          0.55,
          0.55,
          0.55,
          0.55,
          0.55,
          0.55,
          0.55,
          0.55,
          0.55,
          0.55,
          0.55,
          0.55,
          0.55,
          0.55,
          0.55,
          0.55,
          0.55,
          0.56,
          0.56,
          0.57,
          0.56,
          0.56,
          0.56,
          0.56,
          0.56,
          0.56,
          0.56,
          0.56,
          0.56,
          0.56,
          0.56,
          0.56,
          0.57,
          0.56,
          0.56,
          0.56,
          0.54,
          0.54,
          0.52,
          0.51,
          0.52,
          0.51,
          0.5,
          0.48,
          0.45,
          0.45,
          0.42,
          0.42,
          0.42,
          0.42,
          0.42,
          0.39,
          0.39,
          0.41,
          0.43,
          0.45,
          0.46,
          0.48,
          0.47,
          0.46,
          0.46,
          0.46,
          0.46,
          0.46,
          0.46,
          0.46,
          0.46,
          0.46,
          0.46,
          0.46,
          0.43,
          0.43,
          0.42,
          0.42,
          0.42,
          0.43,
          0.43,
          0.43,
          0.43,
          0.43,
          0.43,
          0.43,
          0.43,
          0.43,
          0.43,
          0.43,
          0.43
         ],
         "yaxis": "y8"
        },
        {
         "customdata": [
          [
           "</br>id: 30</br>prediction: 0.42</br>bol_klatka_wysilek: 0.0</br></br>wiek: 57.0</br>plec: 1.0</br>typ_bolu_klatka: 3.0</br>cisnienie_krwi_spoczynek: 128.0</br>cholesterol_we_krwi: 229.0</br>cukier_we_krwi: 0.0</br>wynik_ekg_spoczynek: 2.0</br>ilosc_uderzen_serca: 150.0</br>max_obnizka_st: 0.4</br>przebieg_st_szczyt: 2.0</br>zwapnienia_miazdzycowe: 1.0</br>proba_ta: 7.0</br>_original_yhat_: 0.42</br>"
          ],
          [
           "</br>id: 30</br>prediction: 0.42</br>bol_klatka_wysilek: 0.01</br></br>wiek: 57.0</br>plec: 1.0</br>typ_bolu_klatka: 3.0</br>cisnienie_krwi_spoczynek: 128.0</br>cholesterol_we_krwi: 229.0</br>cukier_we_krwi: 0.0</br>wynik_ekg_spoczynek: 2.0</br>ilosc_uderzen_serca: 150.0</br>max_obnizka_st: 0.4</br>przebieg_st_szczyt: 2.0</br>zwapnienia_miazdzycowe: 1.0</br>proba_ta: 7.0</br>_original_yhat_: 0.42</br>"
          ],
          [
           "</br>id: 30</br>prediction: 0.42</br>bol_klatka_wysilek: 0.02</br></br>wiek: 57.0</br>plec: 1.0</br>typ_bolu_klatka: 3.0</br>cisnienie_krwi_spoczynek: 128.0</br>cholesterol_we_krwi: 229.0</br>cukier_we_krwi: 0.0</br>wynik_ekg_spoczynek: 2.0</br>ilosc_uderzen_serca: 150.0</br>max_obnizka_st: 0.4</br>przebieg_st_szczyt: 2.0</br>zwapnienia_miazdzycowe: 1.0</br>proba_ta: 7.0</br>_original_yhat_: 0.42</br>"
          ],
          [
           "</br>id: 30</br>prediction: 0.42</br>bol_klatka_wysilek: 0.03</br></br>wiek: 57.0</br>plec: 1.0</br>typ_bolu_klatka: 3.0</br>cisnienie_krwi_spoczynek: 128.0</br>cholesterol_we_krwi: 229.0</br>cukier_we_krwi: 0.0</br>wynik_ekg_spoczynek: 2.0</br>ilosc_uderzen_serca: 150.0</br>max_obnizka_st: 0.4</br>przebieg_st_szczyt: 2.0</br>zwapnienia_miazdzycowe: 1.0</br>proba_ta: 7.0</br>_original_yhat_: 0.42</br>"
          ],
          [
           "</br>id: 30</br>prediction: 0.42</br>bol_klatka_wysilek: 0.04</br></br>wiek: 57.0</br>plec: 1.0</br>typ_bolu_klatka: 3.0</br>cisnienie_krwi_spoczynek: 128.0</br>cholesterol_we_krwi: 229.0</br>cukier_we_krwi: 0.0</br>wynik_ekg_spoczynek: 2.0</br>ilosc_uderzen_serca: 150.0</br>max_obnizka_st: 0.4</br>przebieg_st_szczyt: 2.0</br>zwapnienia_miazdzycowe: 1.0</br>proba_ta: 7.0</br>_original_yhat_: 0.42</br>"
          ],
          [
           "</br>id: 30</br>prediction: 0.42</br>bol_klatka_wysilek: 0.05</br></br>wiek: 57.0</br>plec: 1.0</br>typ_bolu_klatka: 3.0</br>cisnienie_krwi_spoczynek: 128.0</br>cholesterol_we_krwi: 229.0</br>cukier_we_krwi: 0.0</br>wynik_ekg_spoczynek: 2.0</br>ilosc_uderzen_serca: 150.0</br>max_obnizka_st: 0.4</br>przebieg_st_szczyt: 2.0</br>zwapnienia_miazdzycowe: 1.0</br>proba_ta: 7.0</br>_original_yhat_: 0.42</br>"
          ],
          [
           "</br>id: 30</br>prediction: 0.42</br>bol_klatka_wysilek: 0.06</br></br>wiek: 57.0</br>plec: 1.0</br>typ_bolu_klatka: 3.0</br>cisnienie_krwi_spoczynek: 128.0</br>cholesterol_we_krwi: 229.0</br>cukier_we_krwi: 0.0</br>wynik_ekg_spoczynek: 2.0</br>ilosc_uderzen_serca: 150.0</br>max_obnizka_st: 0.4</br>przebieg_st_szczyt: 2.0</br>zwapnienia_miazdzycowe: 1.0</br>proba_ta: 7.0</br>_original_yhat_: 0.42</br>"
          ],
          [
           "</br>id: 30</br>prediction: 0.42</br>bol_klatka_wysilek: 0.07</br></br>wiek: 57.0</br>plec: 1.0</br>typ_bolu_klatka: 3.0</br>cisnienie_krwi_spoczynek: 128.0</br>cholesterol_we_krwi: 229.0</br>cukier_we_krwi: 0.0</br>wynik_ekg_spoczynek: 2.0</br>ilosc_uderzen_serca: 150.0</br>max_obnizka_st: 0.4</br>przebieg_st_szczyt: 2.0</br>zwapnienia_miazdzycowe: 1.0</br>proba_ta: 7.0</br>_original_yhat_: 0.42</br>"
          ],
          [
           "</br>id: 30</br>prediction: 0.42</br>bol_klatka_wysilek: 0.08</br></br>wiek: 57.0</br>plec: 1.0</br>typ_bolu_klatka: 3.0</br>cisnienie_krwi_spoczynek: 128.0</br>cholesterol_we_krwi: 229.0</br>cukier_we_krwi: 0.0</br>wynik_ekg_spoczynek: 2.0</br>ilosc_uderzen_serca: 150.0</br>max_obnizka_st: 0.4</br>przebieg_st_szczyt: 2.0</br>zwapnienia_miazdzycowe: 1.0</br>proba_ta: 7.0</br>_original_yhat_: 0.42</br>"
          ],
          [
           "</br>id: 30</br>prediction: 0.42</br>bol_klatka_wysilek: 0.09</br></br>wiek: 57.0</br>plec: 1.0</br>typ_bolu_klatka: 3.0</br>cisnienie_krwi_spoczynek: 128.0</br>cholesterol_we_krwi: 229.0</br>cukier_we_krwi: 0.0</br>wynik_ekg_spoczynek: 2.0</br>ilosc_uderzen_serca: 150.0</br>max_obnizka_st: 0.4</br>przebieg_st_szczyt: 2.0</br>zwapnienia_miazdzycowe: 1.0</br>proba_ta: 7.0</br>_original_yhat_: 0.42</br>"
          ],
          [
           "</br>id: 30</br>prediction: 0.42</br>bol_klatka_wysilek: 0.1</br></br>wiek: 57.0</br>plec: 1.0</br>typ_bolu_klatka: 3.0</br>cisnienie_krwi_spoczynek: 128.0</br>cholesterol_we_krwi: 229.0</br>cukier_we_krwi: 0.0</br>wynik_ekg_spoczynek: 2.0</br>ilosc_uderzen_serca: 150.0</br>max_obnizka_st: 0.4</br>przebieg_st_szczyt: 2.0</br>zwapnienia_miazdzycowe: 1.0</br>proba_ta: 7.0</br>_original_yhat_: 0.42</br>"
          ],
          [
           "</br>id: 30</br>prediction: 0.42</br>bol_klatka_wysilek: 0.11</br></br>wiek: 57.0</br>plec: 1.0</br>typ_bolu_klatka: 3.0</br>cisnienie_krwi_spoczynek: 128.0</br>cholesterol_we_krwi: 229.0</br>cukier_we_krwi: 0.0</br>wynik_ekg_spoczynek: 2.0</br>ilosc_uderzen_serca: 150.0</br>max_obnizka_st: 0.4</br>przebieg_st_szczyt: 2.0</br>zwapnienia_miazdzycowe: 1.0</br>proba_ta: 7.0</br>_original_yhat_: 0.42</br>"
          ],
          [
           "</br>id: 30</br>prediction: 0.42</br>bol_klatka_wysilek: 0.12</br></br>wiek: 57.0</br>plec: 1.0</br>typ_bolu_klatka: 3.0</br>cisnienie_krwi_spoczynek: 128.0</br>cholesterol_we_krwi: 229.0</br>cukier_we_krwi: 0.0</br>wynik_ekg_spoczynek: 2.0</br>ilosc_uderzen_serca: 150.0</br>max_obnizka_st: 0.4</br>przebieg_st_szczyt: 2.0</br>zwapnienia_miazdzycowe: 1.0</br>proba_ta: 7.0</br>_original_yhat_: 0.42</br>"
          ],
          [
           "</br>id: 30</br>prediction: 0.42</br>bol_klatka_wysilek: 0.13</br></br>wiek: 57.0</br>plec: 1.0</br>typ_bolu_klatka: 3.0</br>cisnienie_krwi_spoczynek: 128.0</br>cholesterol_we_krwi: 229.0</br>cukier_we_krwi: 0.0</br>wynik_ekg_spoczynek: 2.0</br>ilosc_uderzen_serca: 150.0</br>max_obnizka_st: 0.4</br>przebieg_st_szczyt: 2.0</br>zwapnienia_miazdzycowe: 1.0</br>proba_ta: 7.0</br>_original_yhat_: 0.42</br>"
          ],
          [
           "</br>id: 30</br>prediction: 0.42</br>bol_klatka_wysilek: 0.14</br></br>wiek: 57.0</br>plec: 1.0</br>typ_bolu_klatka: 3.0</br>cisnienie_krwi_spoczynek: 128.0</br>cholesterol_we_krwi: 229.0</br>cukier_we_krwi: 0.0</br>wynik_ekg_spoczynek: 2.0</br>ilosc_uderzen_serca: 150.0</br>max_obnizka_st: 0.4</br>przebieg_st_szczyt: 2.0</br>zwapnienia_miazdzycowe: 1.0</br>proba_ta: 7.0</br>_original_yhat_: 0.42</br>"
          ],
          [
           "</br>id: 30</br>prediction: 0.42</br>bol_klatka_wysilek: 0.15</br></br>wiek: 57.0</br>plec: 1.0</br>typ_bolu_klatka: 3.0</br>cisnienie_krwi_spoczynek: 128.0</br>cholesterol_we_krwi: 229.0</br>cukier_we_krwi: 0.0</br>wynik_ekg_spoczynek: 2.0</br>ilosc_uderzen_serca: 150.0</br>max_obnizka_st: 0.4</br>przebieg_st_szczyt: 2.0</br>zwapnienia_miazdzycowe: 1.0</br>proba_ta: 7.0</br>_original_yhat_: 0.42</br>"
          ],
          [
           "</br>id: 30</br>prediction: 0.42</br>bol_klatka_wysilek: 0.16</br></br>wiek: 57.0</br>plec: 1.0</br>typ_bolu_klatka: 3.0</br>cisnienie_krwi_spoczynek: 128.0</br>cholesterol_we_krwi: 229.0</br>cukier_we_krwi: 0.0</br>wynik_ekg_spoczynek: 2.0</br>ilosc_uderzen_serca: 150.0</br>max_obnizka_st: 0.4</br>przebieg_st_szczyt: 2.0</br>zwapnienia_miazdzycowe: 1.0</br>proba_ta: 7.0</br>_original_yhat_: 0.42</br>"
          ],
          [
           "</br>id: 30</br>prediction: 0.42</br>bol_klatka_wysilek: 0.17</br></br>wiek: 57.0</br>plec: 1.0</br>typ_bolu_klatka: 3.0</br>cisnienie_krwi_spoczynek: 128.0</br>cholesterol_we_krwi: 229.0</br>cukier_we_krwi: 0.0</br>wynik_ekg_spoczynek: 2.0</br>ilosc_uderzen_serca: 150.0</br>max_obnizka_st: 0.4</br>przebieg_st_szczyt: 2.0</br>zwapnienia_miazdzycowe: 1.0</br>proba_ta: 7.0</br>_original_yhat_: 0.42</br>"
          ],
          [
           "</br>id: 30</br>prediction: 0.42</br>bol_klatka_wysilek: 0.18</br></br>wiek: 57.0</br>plec: 1.0</br>typ_bolu_klatka: 3.0</br>cisnienie_krwi_spoczynek: 128.0</br>cholesterol_we_krwi: 229.0</br>cukier_we_krwi: 0.0</br>wynik_ekg_spoczynek: 2.0</br>ilosc_uderzen_serca: 150.0</br>max_obnizka_st: 0.4</br>przebieg_st_szczyt: 2.0</br>zwapnienia_miazdzycowe: 1.0</br>proba_ta: 7.0</br>_original_yhat_: 0.42</br>"
          ],
          [
           "</br>id: 30</br>prediction: 0.42</br>bol_klatka_wysilek: 0.19</br></br>wiek: 57.0</br>plec: 1.0</br>typ_bolu_klatka: 3.0</br>cisnienie_krwi_spoczynek: 128.0</br>cholesterol_we_krwi: 229.0</br>cukier_we_krwi: 0.0</br>wynik_ekg_spoczynek: 2.0</br>ilosc_uderzen_serca: 150.0</br>max_obnizka_st: 0.4</br>przebieg_st_szczyt: 2.0</br>zwapnienia_miazdzycowe: 1.0</br>proba_ta: 7.0</br>_original_yhat_: 0.42</br>"
          ],
          [
           "</br>id: 30</br>prediction: 0.42</br>bol_klatka_wysilek: 0.2</br></br>wiek: 57.0</br>plec: 1.0</br>typ_bolu_klatka: 3.0</br>cisnienie_krwi_spoczynek: 128.0</br>cholesterol_we_krwi: 229.0</br>cukier_we_krwi: 0.0</br>wynik_ekg_spoczynek: 2.0</br>ilosc_uderzen_serca: 150.0</br>max_obnizka_st: 0.4</br>przebieg_st_szczyt: 2.0</br>zwapnienia_miazdzycowe: 1.0</br>proba_ta: 7.0</br>_original_yhat_: 0.42</br>"
          ],
          [
           "</br>id: 30</br>prediction: 0.42</br>bol_klatka_wysilek: 0.21</br></br>wiek: 57.0</br>plec: 1.0</br>typ_bolu_klatka: 3.0</br>cisnienie_krwi_spoczynek: 128.0</br>cholesterol_we_krwi: 229.0</br>cukier_we_krwi: 0.0</br>wynik_ekg_spoczynek: 2.0</br>ilosc_uderzen_serca: 150.0</br>max_obnizka_st: 0.4</br>przebieg_st_szczyt: 2.0</br>zwapnienia_miazdzycowe: 1.0</br>proba_ta: 7.0</br>_original_yhat_: 0.42</br>"
          ],
          [
           "</br>id: 30</br>prediction: 0.42</br>bol_klatka_wysilek: 0.22</br></br>wiek: 57.0</br>plec: 1.0</br>typ_bolu_klatka: 3.0</br>cisnienie_krwi_spoczynek: 128.0</br>cholesterol_we_krwi: 229.0</br>cukier_we_krwi: 0.0</br>wynik_ekg_spoczynek: 2.0</br>ilosc_uderzen_serca: 150.0</br>max_obnizka_st: 0.4</br>przebieg_st_szczyt: 2.0</br>zwapnienia_miazdzycowe: 1.0</br>proba_ta: 7.0</br>_original_yhat_: 0.42</br>"
          ],
          [
           "</br>id: 30</br>prediction: 0.42</br>bol_klatka_wysilek: 0.23</br></br>wiek: 57.0</br>plec: 1.0</br>typ_bolu_klatka: 3.0</br>cisnienie_krwi_spoczynek: 128.0</br>cholesterol_we_krwi: 229.0</br>cukier_we_krwi: 0.0</br>wynik_ekg_spoczynek: 2.0</br>ilosc_uderzen_serca: 150.0</br>max_obnizka_st: 0.4</br>przebieg_st_szczyt: 2.0</br>zwapnienia_miazdzycowe: 1.0</br>proba_ta: 7.0</br>_original_yhat_: 0.42</br>"
          ],
          [
           "</br>id: 30</br>prediction: 0.42</br>bol_klatka_wysilek: 0.24</br></br>wiek: 57.0</br>plec: 1.0</br>typ_bolu_klatka: 3.0</br>cisnienie_krwi_spoczynek: 128.0</br>cholesterol_we_krwi: 229.0</br>cukier_we_krwi: 0.0</br>wynik_ekg_spoczynek: 2.0</br>ilosc_uderzen_serca: 150.0</br>max_obnizka_st: 0.4</br>przebieg_st_szczyt: 2.0</br>zwapnienia_miazdzycowe: 1.0</br>proba_ta: 7.0</br>_original_yhat_: 0.42</br>"
          ],
          [
           "</br>id: 30</br>prediction: 0.42</br>bol_klatka_wysilek: 0.25</br></br>wiek: 57.0</br>plec: 1.0</br>typ_bolu_klatka: 3.0</br>cisnienie_krwi_spoczynek: 128.0</br>cholesterol_we_krwi: 229.0</br>cukier_we_krwi: 0.0</br>wynik_ekg_spoczynek: 2.0</br>ilosc_uderzen_serca: 150.0</br>max_obnizka_st: 0.4</br>przebieg_st_szczyt: 2.0</br>zwapnienia_miazdzycowe: 1.0</br>proba_ta: 7.0</br>_original_yhat_: 0.42</br>"
          ],
          [
           "</br>id: 30</br>prediction: 0.42</br>bol_klatka_wysilek: 0.26</br></br>wiek: 57.0</br>plec: 1.0</br>typ_bolu_klatka: 3.0</br>cisnienie_krwi_spoczynek: 128.0</br>cholesterol_we_krwi: 229.0</br>cukier_we_krwi: 0.0</br>wynik_ekg_spoczynek: 2.0</br>ilosc_uderzen_serca: 150.0</br>max_obnizka_st: 0.4</br>przebieg_st_szczyt: 2.0</br>zwapnienia_miazdzycowe: 1.0</br>proba_ta: 7.0</br>_original_yhat_: 0.42</br>"
          ],
          [
           "</br>id: 30</br>prediction: 0.42</br>bol_klatka_wysilek: 0.27</br></br>wiek: 57.0</br>plec: 1.0</br>typ_bolu_klatka: 3.0</br>cisnienie_krwi_spoczynek: 128.0</br>cholesterol_we_krwi: 229.0</br>cukier_we_krwi: 0.0</br>wynik_ekg_spoczynek: 2.0</br>ilosc_uderzen_serca: 150.0</br>max_obnizka_st: 0.4</br>przebieg_st_szczyt: 2.0</br>zwapnienia_miazdzycowe: 1.0</br>proba_ta: 7.0</br>_original_yhat_: 0.42</br>"
          ],
          [
           "</br>id: 30</br>prediction: 0.42</br>bol_klatka_wysilek: 0.28</br></br>wiek: 57.0</br>plec: 1.0</br>typ_bolu_klatka: 3.0</br>cisnienie_krwi_spoczynek: 128.0</br>cholesterol_we_krwi: 229.0</br>cukier_we_krwi: 0.0</br>wynik_ekg_spoczynek: 2.0</br>ilosc_uderzen_serca: 150.0</br>max_obnizka_st: 0.4</br>przebieg_st_szczyt: 2.0</br>zwapnienia_miazdzycowe: 1.0</br>proba_ta: 7.0</br>_original_yhat_: 0.42</br>"
          ],
          [
           "</br>id: 30</br>prediction: 0.42</br>bol_klatka_wysilek: 0.29</br></br>wiek: 57.0</br>plec: 1.0</br>typ_bolu_klatka: 3.0</br>cisnienie_krwi_spoczynek: 128.0</br>cholesterol_we_krwi: 229.0</br>cukier_we_krwi: 0.0</br>wynik_ekg_spoczynek: 2.0</br>ilosc_uderzen_serca: 150.0</br>max_obnizka_st: 0.4</br>przebieg_st_szczyt: 2.0</br>zwapnienia_miazdzycowe: 1.0</br>proba_ta: 7.0</br>_original_yhat_: 0.42</br>"
          ],
          [
           "</br>id: 30</br>prediction: 0.42</br>bol_klatka_wysilek: 0.3</br></br>wiek: 57.0</br>plec: 1.0</br>typ_bolu_klatka: 3.0</br>cisnienie_krwi_spoczynek: 128.0</br>cholesterol_we_krwi: 229.0</br>cukier_we_krwi: 0.0</br>wynik_ekg_spoczynek: 2.0</br>ilosc_uderzen_serca: 150.0</br>max_obnizka_st: 0.4</br>przebieg_st_szczyt: 2.0</br>zwapnienia_miazdzycowe: 1.0</br>proba_ta: 7.0</br>_original_yhat_: 0.42</br>"
          ],
          [
           "</br>id: 30</br>prediction: 0.42</br>bol_klatka_wysilek: 0.31</br></br>wiek: 57.0</br>plec: 1.0</br>typ_bolu_klatka: 3.0</br>cisnienie_krwi_spoczynek: 128.0</br>cholesterol_we_krwi: 229.0</br>cukier_we_krwi: 0.0</br>wynik_ekg_spoczynek: 2.0</br>ilosc_uderzen_serca: 150.0</br>max_obnizka_st: 0.4</br>przebieg_st_szczyt: 2.0</br>zwapnienia_miazdzycowe: 1.0</br>proba_ta: 7.0</br>_original_yhat_: 0.42</br>"
          ],
          [
           "</br>id: 30</br>prediction: 0.42</br>bol_klatka_wysilek: 0.32</br></br>wiek: 57.0</br>plec: 1.0</br>typ_bolu_klatka: 3.0</br>cisnienie_krwi_spoczynek: 128.0</br>cholesterol_we_krwi: 229.0</br>cukier_we_krwi: 0.0</br>wynik_ekg_spoczynek: 2.0</br>ilosc_uderzen_serca: 150.0</br>max_obnizka_st: 0.4</br>przebieg_st_szczyt: 2.0</br>zwapnienia_miazdzycowe: 1.0</br>proba_ta: 7.0</br>_original_yhat_: 0.42</br>"
          ],
          [
           "</br>id: 30</br>prediction: 0.42</br>bol_klatka_wysilek: 0.33</br></br>wiek: 57.0</br>plec: 1.0</br>typ_bolu_klatka: 3.0</br>cisnienie_krwi_spoczynek: 128.0</br>cholesterol_we_krwi: 229.0</br>cukier_we_krwi: 0.0</br>wynik_ekg_spoczynek: 2.0</br>ilosc_uderzen_serca: 150.0</br>max_obnizka_st: 0.4</br>przebieg_st_szczyt: 2.0</br>zwapnienia_miazdzycowe: 1.0</br>proba_ta: 7.0</br>_original_yhat_: 0.42</br>"
          ],
          [
           "</br>id: 30</br>prediction: 0.42</br>bol_klatka_wysilek: 0.34</br></br>wiek: 57.0</br>plec: 1.0</br>typ_bolu_klatka: 3.0</br>cisnienie_krwi_spoczynek: 128.0</br>cholesterol_we_krwi: 229.0</br>cukier_we_krwi: 0.0</br>wynik_ekg_spoczynek: 2.0</br>ilosc_uderzen_serca: 150.0</br>max_obnizka_st: 0.4</br>przebieg_st_szczyt: 2.0</br>zwapnienia_miazdzycowe: 1.0</br>proba_ta: 7.0</br>_original_yhat_: 0.42</br>"
          ],
          [
           "</br>id: 30</br>prediction: 0.42</br>bol_klatka_wysilek: 0.35000000000000003</br></br>wiek: 57.0</br>plec: 1.0</br>typ_bolu_klatka: 3.0</br>cisnienie_krwi_spoczynek: 128.0</br>cholesterol_we_krwi: 229.0</br>cukier_we_krwi: 0.0</br>wynik_ekg_spoczynek: 2.0</br>ilosc_uderzen_serca: 150.0</br>max_obnizka_st: 0.4</br>przebieg_st_szczyt: 2.0</br>zwapnienia_miazdzycowe: 1.0</br>proba_ta: 7.0</br>_original_yhat_: 0.42</br>"
          ],
          [
           "</br>id: 30</br>prediction: 0.42</br>bol_klatka_wysilek: 0.36</br></br>wiek: 57.0</br>plec: 1.0</br>typ_bolu_klatka: 3.0</br>cisnienie_krwi_spoczynek: 128.0</br>cholesterol_we_krwi: 229.0</br>cukier_we_krwi: 0.0</br>wynik_ekg_spoczynek: 2.0</br>ilosc_uderzen_serca: 150.0</br>max_obnizka_st: 0.4</br>przebieg_st_szczyt: 2.0</br>zwapnienia_miazdzycowe: 1.0</br>proba_ta: 7.0</br>_original_yhat_: 0.42</br>"
          ],
          [
           "</br>id: 30</br>prediction: 0.42</br>bol_klatka_wysilek: 0.37</br></br>wiek: 57.0</br>plec: 1.0</br>typ_bolu_klatka: 3.0</br>cisnienie_krwi_spoczynek: 128.0</br>cholesterol_we_krwi: 229.0</br>cukier_we_krwi: 0.0</br>wynik_ekg_spoczynek: 2.0</br>ilosc_uderzen_serca: 150.0</br>max_obnizka_st: 0.4</br>przebieg_st_szczyt: 2.0</br>zwapnienia_miazdzycowe: 1.0</br>proba_ta: 7.0</br>_original_yhat_: 0.42</br>"
          ],
          [
           "</br>id: 30</br>prediction: 0.42</br>bol_klatka_wysilek: 0.38</br></br>wiek: 57.0</br>plec: 1.0</br>typ_bolu_klatka: 3.0</br>cisnienie_krwi_spoczynek: 128.0</br>cholesterol_we_krwi: 229.0</br>cukier_we_krwi: 0.0</br>wynik_ekg_spoczynek: 2.0</br>ilosc_uderzen_serca: 150.0</br>max_obnizka_st: 0.4</br>przebieg_st_szczyt: 2.0</br>zwapnienia_miazdzycowe: 1.0</br>proba_ta: 7.0</br>_original_yhat_: 0.42</br>"
          ],
          [
           "</br>id: 30</br>prediction: 0.42</br>bol_klatka_wysilek: 0.39</br></br>wiek: 57.0</br>plec: 1.0</br>typ_bolu_klatka: 3.0</br>cisnienie_krwi_spoczynek: 128.0</br>cholesterol_we_krwi: 229.0</br>cukier_we_krwi: 0.0</br>wynik_ekg_spoczynek: 2.0</br>ilosc_uderzen_serca: 150.0</br>max_obnizka_st: 0.4</br>przebieg_st_szczyt: 2.0</br>zwapnienia_miazdzycowe: 1.0</br>proba_ta: 7.0</br>_original_yhat_: 0.42</br>"
          ],
          [
           "</br>id: 30</br>prediction: 0.42</br>bol_klatka_wysilek: 0.4</br></br>wiek: 57.0</br>plec: 1.0</br>typ_bolu_klatka: 3.0</br>cisnienie_krwi_spoczynek: 128.0</br>cholesterol_we_krwi: 229.0</br>cukier_we_krwi: 0.0</br>wynik_ekg_spoczynek: 2.0</br>ilosc_uderzen_serca: 150.0</br>max_obnizka_st: 0.4</br>przebieg_st_szczyt: 2.0</br>zwapnienia_miazdzycowe: 1.0</br>proba_ta: 7.0</br>_original_yhat_: 0.42</br>"
          ],
          [
           "</br>id: 30</br>prediction: 0.42</br>bol_klatka_wysilek: 0.41000000000000003</br></br>wiek: 57.0</br>plec: 1.0</br>typ_bolu_klatka: 3.0</br>cisnienie_krwi_spoczynek: 128.0</br>cholesterol_we_krwi: 229.0</br>cukier_we_krwi: 0.0</br>wynik_ekg_spoczynek: 2.0</br>ilosc_uderzen_serca: 150.0</br>max_obnizka_st: 0.4</br>przebieg_st_szczyt: 2.0</br>zwapnienia_miazdzycowe: 1.0</br>proba_ta: 7.0</br>_original_yhat_: 0.42</br>"
          ],
          [
           "</br>id: 30</br>prediction: 0.42</br>bol_klatka_wysilek: 0.42</br></br>wiek: 57.0</br>plec: 1.0</br>typ_bolu_klatka: 3.0</br>cisnienie_krwi_spoczynek: 128.0</br>cholesterol_we_krwi: 229.0</br>cukier_we_krwi: 0.0</br>wynik_ekg_spoczynek: 2.0</br>ilosc_uderzen_serca: 150.0</br>max_obnizka_st: 0.4</br>przebieg_st_szczyt: 2.0</br>zwapnienia_miazdzycowe: 1.0</br>proba_ta: 7.0</br>_original_yhat_: 0.42</br>"
          ],
          [
           "</br>id: 30</br>prediction: 0.42</br>bol_klatka_wysilek: 0.43</br></br>wiek: 57.0</br>plec: 1.0</br>typ_bolu_klatka: 3.0</br>cisnienie_krwi_spoczynek: 128.0</br>cholesterol_we_krwi: 229.0</br>cukier_we_krwi: 0.0</br>wynik_ekg_spoczynek: 2.0</br>ilosc_uderzen_serca: 150.0</br>max_obnizka_st: 0.4</br>przebieg_st_szczyt: 2.0</br>zwapnienia_miazdzycowe: 1.0</br>proba_ta: 7.0</br>_original_yhat_: 0.42</br>"
          ],
          [
           "</br>id: 30</br>prediction: 0.42</br>bol_klatka_wysilek: 0.44</br></br>wiek: 57.0</br>plec: 1.0</br>typ_bolu_klatka: 3.0</br>cisnienie_krwi_spoczynek: 128.0</br>cholesterol_we_krwi: 229.0</br>cukier_we_krwi: 0.0</br>wynik_ekg_spoczynek: 2.0</br>ilosc_uderzen_serca: 150.0</br>max_obnizka_st: 0.4</br>przebieg_st_szczyt: 2.0</br>zwapnienia_miazdzycowe: 1.0</br>proba_ta: 7.0</br>_original_yhat_: 0.42</br>"
          ],
          [
           "</br>id: 30</br>prediction: 0.42</br>bol_klatka_wysilek: 0.45</br></br>wiek: 57.0</br>plec: 1.0</br>typ_bolu_klatka: 3.0</br>cisnienie_krwi_spoczynek: 128.0</br>cholesterol_we_krwi: 229.0</br>cukier_we_krwi: 0.0</br>wynik_ekg_spoczynek: 2.0</br>ilosc_uderzen_serca: 150.0</br>max_obnizka_st: 0.4</br>przebieg_st_szczyt: 2.0</br>zwapnienia_miazdzycowe: 1.0</br>proba_ta: 7.0</br>_original_yhat_: 0.42</br>"
          ],
          [
           "</br>id: 30</br>prediction: 0.42</br>bol_klatka_wysilek: 0.46</br></br>wiek: 57.0</br>plec: 1.0</br>typ_bolu_klatka: 3.0</br>cisnienie_krwi_spoczynek: 128.0</br>cholesterol_we_krwi: 229.0</br>cukier_we_krwi: 0.0</br>wynik_ekg_spoczynek: 2.0</br>ilosc_uderzen_serca: 150.0</br>max_obnizka_st: 0.4</br>przebieg_st_szczyt: 2.0</br>zwapnienia_miazdzycowe: 1.0</br>proba_ta: 7.0</br>_original_yhat_: 0.42</br>"
          ],
          [
           "</br>id: 30</br>prediction: 0.42</br>bol_klatka_wysilek: 0.47000000000000003</br></br>wiek: 57.0</br>plec: 1.0</br>typ_bolu_klatka: 3.0</br>cisnienie_krwi_spoczynek: 128.0</br>cholesterol_we_krwi: 229.0</br>cukier_we_krwi: 0.0</br>wynik_ekg_spoczynek: 2.0</br>ilosc_uderzen_serca: 150.0</br>max_obnizka_st: 0.4</br>przebieg_st_szczyt: 2.0</br>zwapnienia_miazdzycowe: 1.0</br>proba_ta: 7.0</br>_original_yhat_: 0.42</br>"
          ],
          [
           "</br>id: 30</br>prediction: 0.42</br>bol_klatka_wysilek: 0.48</br></br>wiek: 57.0</br>plec: 1.0</br>typ_bolu_klatka: 3.0</br>cisnienie_krwi_spoczynek: 128.0</br>cholesterol_we_krwi: 229.0</br>cukier_we_krwi: 0.0</br>wynik_ekg_spoczynek: 2.0</br>ilosc_uderzen_serca: 150.0</br>max_obnizka_st: 0.4</br>przebieg_st_szczyt: 2.0</br>zwapnienia_miazdzycowe: 1.0</br>proba_ta: 7.0</br>_original_yhat_: 0.42</br>"
          ],
          [
           "</br>id: 30</br>prediction: 0.42</br>bol_klatka_wysilek: 0.49</br></br>wiek: 57.0</br>plec: 1.0</br>typ_bolu_klatka: 3.0</br>cisnienie_krwi_spoczynek: 128.0</br>cholesterol_we_krwi: 229.0</br>cukier_we_krwi: 0.0</br>wynik_ekg_spoczynek: 2.0</br>ilosc_uderzen_serca: 150.0</br>max_obnizka_st: 0.4</br>przebieg_st_szczyt: 2.0</br>zwapnienia_miazdzycowe: 1.0</br>proba_ta: 7.0</br>_original_yhat_: 0.42</br>"
          ],
          [
           "</br>id: 30</br>prediction: 0.42</br>bol_klatka_wysilek: 0.5</br></br>wiek: 57.0</br>plec: 1.0</br>typ_bolu_klatka: 3.0</br>cisnienie_krwi_spoczynek: 128.0</br>cholesterol_we_krwi: 229.0</br>cukier_we_krwi: 0.0</br>wynik_ekg_spoczynek: 2.0</br>ilosc_uderzen_serca: 150.0</br>max_obnizka_st: 0.4</br>przebieg_st_szczyt: 2.0</br>zwapnienia_miazdzycowe: 1.0</br>proba_ta: 7.0</br>_original_yhat_: 0.42</br>"
          ],
          [
           "</br>id: 30</br>prediction: 0.48</br>bol_klatka_wysilek: 0.51</br></br>wiek: 57.0</br>plec: 1.0</br>typ_bolu_klatka: 3.0</br>cisnienie_krwi_spoczynek: 128.0</br>cholesterol_we_krwi: 229.0</br>cukier_we_krwi: 0.0</br>wynik_ekg_spoczynek: 2.0</br>ilosc_uderzen_serca: 150.0</br>max_obnizka_st: 0.4</br>przebieg_st_szczyt: 2.0</br>zwapnienia_miazdzycowe: 1.0</br>proba_ta: 7.0</br>_original_yhat_: 0.42</br>"
          ],
          [
           "</br>id: 30</br>prediction: 0.48</br>bol_klatka_wysilek: 0.52</br></br>wiek: 57.0</br>plec: 1.0</br>typ_bolu_klatka: 3.0</br>cisnienie_krwi_spoczynek: 128.0</br>cholesterol_we_krwi: 229.0</br>cukier_we_krwi: 0.0</br>wynik_ekg_spoczynek: 2.0</br>ilosc_uderzen_serca: 150.0</br>max_obnizka_st: 0.4</br>przebieg_st_szczyt: 2.0</br>zwapnienia_miazdzycowe: 1.0</br>proba_ta: 7.0</br>_original_yhat_: 0.42</br>"
          ],
          [
           "</br>id: 30</br>prediction: 0.48</br>bol_klatka_wysilek: 0.53</br></br>wiek: 57.0</br>plec: 1.0</br>typ_bolu_klatka: 3.0</br>cisnienie_krwi_spoczynek: 128.0</br>cholesterol_we_krwi: 229.0</br>cukier_we_krwi: 0.0</br>wynik_ekg_spoczynek: 2.0</br>ilosc_uderzen_serca: 150.0</br>max_obnizka_st: 0.4</br>przebieg_st_szczyt: 2.0</br>zwapnienia_miazdzycowe: 1.0</br>proba_ta: 7.0</br>_original_yhat_: 0.42</br>"
          ],
          [
           "</br>id: 30</br>prediction: 0.48</br>bol_klatka_wysilek: 0.54</br></br>wiek: 57.0</br>plec: 1.0</br>typ_bolu_klatka: 3.0</br>cisnienie_krwi_spoczynek: 128.0</br>cholesterol_we_krwi: 229.0</br>cukier_we_krwi: 0.0</br>wynik_ekg_spoczynek: 2.0</br>ilosc_uderzen_serca: 150.0</br>max_obnizka_st: 0.4</br>przebieg_st_szczyt: 2.0</br>zwapnienia_miazdzycowe: 1.0</br>proba_ta: 7.0</br>_original_yhat_: 0.42</br>"
          ],
          [
           "</br>id: 30</br>prediction: 0.48</br>bol_klatka_wysilek: 0.55</br></br>wiek: 57.0</br>plec: 1.0</br>typ_bolu_klatka: 3.0</br>cisnienie_krwi_spoczynek: 128.0</br>cholesterol_we_krwi: 229.0</br>cukier_we_krwi: 0.0</br>wynik_ekg_spoczynek: 2.0</br>ilosc_uderzen_serca: 150.0</br>max_obnizka_st: 0.4</br>przebieg_st_szczyt: 2.0</br>zwapnienia_miazdzycowe: 1.0</br>proba_ta: 7.0</br>_original_yhat_: 0.42</br>"
          ],
          [
           "</br>id: 30</br>prediction: 0.48</br>bol_klatka_wysilek: 0.56</br></br>wiek: 57.0</br>plec: 1.0</br>typ_bolu_klatka: 3.0</br>cisnienie_krwi_spoczynek: 128.0</br>cholesterol_we_krwi: 229.0</br>cukier_we_krwi: 0.0</br>wynik_ekg_spoczynek: 2.0</br>ilosc_uderzen_serca: 150.0</br>max_obnizka_st: 0.4</br>przebieg_st_szczyt: 2.0</br>zwapnienia_miazdzycowe: 1.0</br>proba_ta: 7.0</br>_original_yhat_: 0.42</br>"
          ],
          [
           "</br>id: 30</br>prediction: 0.48</br>bol_klatka_wysilek: 0.5700000000000001</br></br>wiek: 57.0</br>plec: 1.0</br>typ_bolu_klatka: 3.0</br>cisnienie_krwi_spoczynek: 128.0</br>cholesterol_we_krwi: 229.0</br>cukier_we_krwi: 0.0</br>wynik_ekg_spoczynek: 2.0</br>ilosc_uderzen_serca: 150.0</br>max_obnizka_st: 0.4</br>przebieg_st_szczyt: 2.0</br>zwapnienia_miazdzycowe: 1.0</br>proba_ta: 7.0</br>_original_yhat_: 0.42</br>"
          ],
          [
           "</br>id: 30</br>prediction: 0.48</br>bol_klatka_wysilek: 0.58</br></br>wiek: 57.0</br>plec: 1.0</br>typ_bolu_klatka: 3.0</br>cisnienie_krwi_spoczynek: 128.0</br>cholesterol_we_krwi: 229.0</br>cukier_we_krwi: 0.0</br>wynik_ekg_spoczynek: 2.0</br>ilosc_uderzen_serca: 150.0</br>max_obnizka_st: 0.4</br>przebieg_st_szczyt: 2.0</br>zwapnienia_miazdzycowe: 1.0</br>proba_ta: 7.0</br>_original_yhat_: 0.42</br>"
          ],
          [
           "</br>id: 30</br>prediction: 0.48</br>bol_klatka_wysilek: 0.59</br></br>wiek: 57.0</br>plec: 1.0</br>typ_bolu_klatka: 3.0</br>cisnienie_krwi_spoczynek: 128.0</br>cholesterol_we_krwi: 229.0</br>cukier_we_krwi: 0.0</br>wynik_ekg_spoczynek: 2.0</br>ilosc_uderzen_serca: 150.0</br>max_obnizka_st: 0.4</br>przebieg_st_szczyt: 2.0</br>zwapnienia_miazdzycowe: 1.0</br>proba_ta: 7.0</br>_original_yhat_: 0.42</br>"
          ],
          [
           "</br>id: 30</br>prediction: 0.48</br>bol_klatka_wysilek: 0.6</br></br>wiek: 57.0</br>plec: 1.0</br>typ_bolu_klatka: 3.0</br>cisnienie_krwi_spoczynek: 128.0</br>cholesterol_we_krwi: 229.0</br>cukier_we_krwi: 0.0</br>wynik_ekg_spoczynek: 2.0</br>ilosc_uderzen_serca: 150.0</br>max_obnizka_st: 0.4</br>przebieg_st_szczyt: 2.0</br>zwapnienia_miazdzycowe: 1.0</br>proba_ta: 7.0</br>_original_yhat_: 0.42</br>"
          ],
          [
           "</br>id: 30</br>prediction: 0.48</br>bol_klatka_wysilek: 0.61</br></br>wiek: 57.0</br>plec: 1.0</br>typ_bolu_klatka: 3.0</br>cisnienie_krwi_spoczynek: 128.0</br>cholesterol_we_krwi: 229.0</br>cukier_we_krwi: 0.0</br>wynik_ekg_spoczynek: 2.0</br>ilosc_uderzen_serca: 150.0</br>max_obnizka_st: 0.4</br>przebieg_st_szczyt: 2.0</br>zwapnienia_miazdzycowe: 1.0</br>proba_ta: 7.0</br>_original_yhat_: 0.42</br>"
          ],
          [
           "</br>id: 30</br>prediction: 0.48</br>bol_klatka_wysilek: 0.62</br></br>wiek: 57.0</br>plec: 1.0</br>typ_bolu_klatka: 3.0</br>cisnienie_krwi_spoczynek: 128.0</br>cholesterol_we_krwi: 229.0</br>cukier_we_krwi: 0.0</br>wynik_ekg_spoczynek: 2.0</br>ilosc_uderzen_serca: 150.0</br>max_obnizka_st: 0.4</br>przebieg_st_szczyt: 2.0</br>zwapnienia_miazdzycowe: 1.0</br>proba_ta: 7.0</br>_original_yhat_: 0.42</br>"
          ],
          [
           "</br>id: 30</br>prediction: 0.48</br>bol_klatka_wysilek: 0.63</br></br>wiek: 57.0</br>plec: 1.0</br>typ_bolu_klatka: 3.0</br>cisnienie_krwi_spoczynek: 128.0</br>cholesterol_we_krwi: 229.0</br>cukier_we_krwi: 0.0</br>wynik_ekg_spoczynek: 2.0</br>ilosc_uderzen_serca: 150.0</br>max_obnizka_st: 0.4</br>przebieg_st_szczyt: 2.0</br>zwapnienia_miazdzycowe: 1.0</br>proba_ta: 7.0</br>_original_yhat_: 0.42</br>"
          ],
          [
           "</br>id: 30</br>prediction: 0.48</br>bol_klatka_wysilek: 0.64</br></br>wiek: 57.0</br>plec: 1.0</br>typ_bolu_klatka: 3.0</br>cisnienie_krwi_spoczynek: 128.0</br>cholesterol_we_krwi: 229.0</br>cukier_we_krwi: 0.0</br>wynik_ekg_spoczynek: 2.0</br>ilosc_uderzen_serca: 150.0</br>max_obnizka_st: 0.4</br>przebieg_st_szczyt: 2.0</br>zwapnienia_miazdzycowe: 1.0</br>proba_ta: 7.0</br>_original_yhat_: 0.42</br>"
          ],
          [
           "</br>id: 30</br>prediction: 0.48</br>bol_klatka_wysilek: 0.65</br></br>wiek: 57.0</br>plec: 1.0</br>typ_bolu_klatka: 3.0</br>cisnienie_krwi_spoczynek: 128.0</br>cholesterol_we_krwi: 229.0</br>cukier_we_krwi: 0.0</br>wynik_ekg_spoczynek: 2.0</br>ilosc_uderzen_serca: 150.0</br>max_obnizka_st: 0.4</br>przebieg_st_szczyt: 2.0</br>zwapnienia_miazdzycowe: 1.0</br>proba_ta: 7.0</br>_original_yhat_: 0.42</br>"
          ],
          [
           "</br>id: 30</br>prediction: 0.48</br>bol_klatka_wysilek: 0.66</br></br>wiek: 57.0</br>plec: 1.0</br>typ_bolu_klatka: 3.0</br>cisnienie_krwi_spoczynek: 128.0</br>cholesterol_we_krwi: 229.0</br>cukier_we_krwi: 0.0</br>wynik_ekg_spoczynek: 2.0</br>ilosc_uderzen_serca: 150.0</br>max_obnizka_st: 0.4</br>przebieg_st_szczyt: 2.0</br>zwapnienia_miazdzycowe: 1.0</br>proba_ta: 7.0</br>_original_yhat_: 0.42</br>"
          ],
          [
           "</br>id: 30</br>prediction: 0.48</br>bol_klatka_wysilek: 0.67</br></br>wiek: 57.0</br>plec: 1.0</br>typ_bolu_klatka: 3.0</br>cisnienie_krwi_spoczynek: 128.0</br>cholesterol_we_krwi: 229.0</br>cukier_we_krwi: 0.0</br>wynik_ekg_spoczynek: 2.0</br>ilosc_uderzen_serca: 150.0</br>max_obnizka_st: 0.4</br>przebieg_st_szczyt: 2.0</br>zwapnienia_miazdzycowe: 1.0</br>proba_ta: 7.0</br>_original_yhat_: 0.42</br>"
          ],
          [
           "</br>id: 30</br>prediction: 0.48</br>bol_klatka_wysilek: 0.68</br></br>wiek: 57.0</br>plec: 1.0</br>typ_bolu_klatka: 3.0</br>cisnienie_krwi_spoczynek: 128.0</br>cholesterol_we_krwi: 229.0</br>cukier_we_krwi: 0.0</br>wynik_ekg_spoczynek: 2.0</br>ilosc_uderzen_serca: 150.0</br>max_obnizka_st: 0.4</br>przebieg_st_szczyt: 2.0</br>zwapnienia_miazdzycowe: 1.0</br>proba_ta: 7.0</br>_original_yhat_: 0.42</br>"
          ],
          [
           "</br>id: 30</br>prediction: 0.48</br>bol_klatka_wysilek: 0.6900000000000001</br></br>wiek: 57.0</br>plec: 1.0</br>typ_bolu_klatka: 3.0</br>cisnienie_krwi_spoczynek: 128.0</br>cholesterol_we_krwi: 229.0</br>cukier_we_krwi: 0.0</br>wynik_ekg_spoczynek: 2.0</br>ilosc_uderzen_serca: 150.0</br>max_obnizka_st: 0.4</br>przebieg_st_szczyt: 2.0</br>zwapnienia_miazdzycowe: 1.0</br>proba_ta: 7.0</br>_original_yhat_: 0.42</br>"
          ],
          [
           "</br>id: 30</br>prediction: 0.48</br>bol_klatka_wysilek: 0.7000000000000001</br></br>wiek: 57.0</br>plec: 1.0</br>typ_bolu_klatka: 3.0</br>cisnienie_krwi_spoczynek: 128.0</br>cholesterol_we_krwi: 229.0</br>cukier_we_krwi: 0.0</br>wynik_ekg_spoczynek: 2.0</br>ilosc_uderzen_serca: 150.0</br>max_obnizka_st: 0.4</br>przebieg_st_szczyt: 2.0</br>zwapnienia_miazdzycowe: 1.0</br>proba_ta: 7.0</br>_original_yhat_: 0.42</br>"
          ],
          [
           "</br>id: 30</br>prediction: 0.48</br>bol_klatka_wysilek: 0.71</br></br>wiek: 57.0</br>plec: 1.0</br>typ_bolu_klatka: 3.0</br>cisnienie_krwi_spoczynek: 128.0</br>cholesterol_we_krwi: 229.0</br>cukier_we_krwi: 0.0</br>wynik_ekg_spoczynek: 2.0</br>ilosc_uderzen_serca: 150.0</br>max_obnizka_st: 0.4</br>przebieg_st_szczyt: 2.0</br>zwapnienia_miazdzycowe: 1.0</br>proba_ta: 7.0</br>_original_yhat_: 0.42</br>"
          ],
          [
           "</br>id: 30</br>prediction: 0.48</br>bol_klatka_wysilek: 0.72</br></br>wiek: 57.0</br>plec: 1.0</br>typ_bolu_klatka: 3.0</br>cisnienie_krwi_spoczynek: 128.0</br>cholesterol_we_krwi: 229.0</br>cukier_we_krwi: 0.0</br>wynik_ekg_spoczynek: 2.0</br>ilosc_uderzen_serca: 150.0</br>max_obnizka_st: 0.4</br>przebieg_st_szczyt: 2.0</br>zwapnienia_miazdzycowe: 1.0</br>proba_ta: 7.0</br>_original_yhat_: 0.42</br>"
          ],
          [
           "</br>id: 30</br>prediction: 0.48</br>bol_klatka_wysilek: 0.73</br></br>wiek: 57.0</br>plec: 1.0</br>typ_bolu_klatka: 3.0</br>cisnienie_krwi_spoczynek: 128.0</br>cholesterol_we_krwi: 229.0</br>cukier_we_krwi: 0.0</br>wynik_ekg_spoczynek: 2.0</br>ilosc_uderzen_serca: 150.0</br>max_obnizka_st: 0.4</br>przebieg_st_szczyt: 2.0</br>zwapnienia_miazdzycowe: 1.0</br>proba_ta: 7.0</br>_original_yhat_: 0.42</br>"
          ],
          [
           "</br>id: 30</br>prediction: 0.48</br>bol_klatka_wysilek: 0.74</br></br>wiek: 57.0</br>plec: 1.0</br>typ_bolu_klatka: 3.0</br>cisnienie_krwi_spoczynek: 128.0</br>cholesterol_we_krwi: 229.0</br>cukier_we_krwi: 0.0</br>wynik_ekg_spoczynek: 2.0</br>ilosc_uderzen_serca: 150.0</br>max_obnizka_st: 0.4</br>przebieg_st_szczyt: 2.0</br>zwapnienia_miazdzycowe: 1.0</br>proba_ta: 7.0</br>_original_yhat_: 0.42</br>"
          ],
          [
           "</br>id: 30</br>prediction: 0.48</br>bol_klatka_wysilek: 0.75</br></br>wiek: 57.0</br>plec: 1.0</br>typ_bolu_klatka: 3.0</br>cisnienie_krwi_spoczynek: 128.0</br>cholesterol_we_krwi: 229.0</br>cukier_we_krwi: 0.0</br>wynik_ekg_spoczynek: 2.0</br>ilosc_uderzen_serca: 150.0</br>max_obnizka_st: 0.4</br>przebieg_st_szczyt: 2.0</br>zwapnienia_miazdzycowe: 1.0</br>proba_ta: 7.0</br>_original_yhat_: 0.42</br>"
          ],
          [
           "</br>id: 30</br>prediction: 0.48</br>bol_klatka_wysilek: 0.76</br></br>wiek: 57.0</br>plec: 1.0</br>typ_bolu_klatka: 3.0</br>cisnienie_krwi_spoczynek: 128.0</br>cholesterol_we_krwi: 229.0</br>cukier_we_krwi: 0.0</br>wynik_ekg_spoczynek: 2.0</br>ilosc_uderzen_serca: 150.0</br>max_obnizka_st: 0.4</br>przebieg_st_szczyt: 2.0</br>zwapnienia_miazdzycowe: 1.0</br>proba_ta: 7.0</br>_original_yhat_: 0.42</br>"
          ],
          [
           "</br>id: 30</br>prediction: 0.48</br>bol_klatka_wysilek: 0.77</br></br>wiek: 57.0</br>plec: 1.0</br>typ_bolu_klatka: 3.0</br>cisnienie_krwi_spoczynek: 128.0</br>cholesterol_we_krwi: 229.0</br>cukier_we_krwi: 0.0</br>wynik_ekg_spoczynek: 2.0</br>ilosc_uderzen_serca: 150.0</br>max_obnizka_st: 0.4</br>przebieg_st_szczyt: 2.0</br>zwapnienia_miazdzycowe: 1.0</br>proba_ta: 7.0</br>_original_yhat_: 0.42</br>"
          ],
          [
           "</br>id: 30</br>prediction: 0.48</br>bol_klatka_wysilek: 0.78</br></br>wiek: 57.0</br>plec: 1.0</br>typ_bolu_klatka: 3.0</br>cisnienie_krwi_spoczynek: 128.0</br>cholesterol_we_krwi: 229.0</br>cukier_we_krwi: 0.0</br>wynik_ekg_spoczynek: 2.0</br>ilosc_uderzen_serca: 150.0</br>max_obnizka_st: 0.4</br>przebieg_st_szczyt: 2.0</br>zwapnienia_miazdzycowe: 1.0</br>proba_ta: 7.0</br>_original_yhat_: 0.42</br>"
          ],
          [
           "</br>id: 30</br>prediction: 0.48</br>bol_klatka_wysilek: 0.79</br></br>wiek: 57.0</br>plec: 1.0</br>typ_bolu_klatka: 3.0</br>cisnienie_krwi_spoczynek: 128.0</br>cholesterol_we_krwi: 229.0</br>cukier_we_krwi: 0.0</br>wynik_ekg_spoczynek: 2.0</br>ilosc_uderzen_serca: 150.0</br>max_obnizka_st: 0.4</br>przebieg_st_szczyt: 2.0</br>zwapnienia_miazdzycowe: 1.0</br>proba_ta: 7.0</br>_original_yhat_: 0.42</br>"
          ],
          [
           "</br>id: 30</br>prediction: 0.48</br>bol_klatka_wysilek: 0.8</br></br>wiek: 57.0</br>plec: 1.0</br>typ_bolu_klatka: 3.0</br>cisnienie_krwi_spoczynek: 128.0</br>cholesterol_we_krwi: 229.0</br>cukier_we_krwi: 0.0</br>wynik_ekg_spoczynek: 2.0</br>ilosc_uderzen_serca: 150.0</br>max_obnizka_st: 0.4</br>przebieg_st_szczyt: 2.0</br>zwapnienia_miazdzycowe: 1.0</br>proba_ta: 7.0</br>_original_yhat_: 0.42</br>"
          ],
          [
           "</br>id: 30</br>prediction: 0.48</br>bol_klatka_wysilek: 0.81</br></br>wiek: 57.0</br>plec: 1.0</br>typ_bolu_klatka: 3.0</br>cisnienie_krwi_spoczynek: 128.0</br>cholesterol_we_krwi: 229.0</br>cukier_we_krwi: 0.0</br>wynik_ekg_spoczynek: 2.0</br>ilosc_uderzen_serca: 150.0</br>max_obnizka_st: 0.4</br>przebieg_st_szczyt: 2.0</br>zwapnienia_miazdzycowe: 1.0</br>proba_ta: 7.0</br>_original_yhat_: 0.42</br>"
          ],
          [
           "</br>id: 30</br>prediction: 0.48</br>bol_klatka_wysilek: 0.8200000000000001</br></br>wiek: 57.0</br>plec: 1.0</br>typ_bolu_klatka: 3.0</br>cisnienie_krwi_spoczynek: 128.0</br>cholesterol_we_krwi: 229.0</br>cukier_we_krwi: 0.0</br>wynik_ekg_spoczynek: 2.0</br>ilosc_uderzen_serca: 150.0</br>max_obnizka_st: 0.4</br>przebieg_st_szczyt: 2.0</br>zwapnienia_miazdzycowe: 1.0</br>proba_ta: 7.0</br>_original_yhat_: 0.42</br>"
          ],
          [
           "</br>id: 30</br>prediction: 0.48</br>bol_klatka_wysilek: 0.8300000000000001</br></br>wiek: 57.0</br>plec: 1.0</br>typ_bolu_klatka: 3.0</br>cisnienie_krwi_spoczynek: 128.0</br>cholesterol_we_krwi: 229.0</br>cukier_we_krwi: 0.0</br>wynik_ekg_spoczynek: 2.0</br>ilosc_uderzen_serca: 150.0</br>max_obnizka_st: 0.4</br>przebieg_st_szczyt: 2.0</br>zwapnienia_miazdzycowe: 1.0</br>proba_ta: 7.0</br>_original_yhat_: 0.42</br>"
          ],
          [
           "</br>id: 30</br>prediction: 0.48</br>bol_klatka_wysilek: 0.84</br></br>wiek: 57.0</br>plec: 1.0</br>typ_bolu_klatka: 3.0</br>cisnienie_krwi_spoczynek: 128.0</br>cholesterol_we_krwi: 229.0</br>cukier_we_krwi: 0.0</br>wynik_ekg_spoczynek: 2.0</br>ilosc_uderzen_serca: 150.0</br>max_obnizka_st: 0.4</br>przebieg_st_szczyt: 2.0</br>zwapnienia_miazdzycowe: 1.0</br>proba_ta: 7.0</br>_original_yhat_: 0.42</br>"
          ],
          [
           "</br>id: 30</br>prediction: 0.48</br>bol_klatka_wysilek: 0.85</br></br>wiek: 57.0</br>plec: 1.0</br>typ_bolu_klatka: 3.0</br>cisnienie_krwi_spoczynek: 128.0</br>cholesterol_we_krwi: 229.0</br>cukier_we_krwi: 0.0</br>wynik_ekg_spoczynek: 2.0</br>ilosc_uderzen_serca: 150.0</br>max_obnizka_st: 0.4</br>przebieg_st_szczyt: 2.0</br>zwapnienia_miazdzycowe: 1.0</br>proba_ta: 7.0</br>_original_yhat_: 0.42</br>"
          ],
          [
           "</br>id: 30</br>prediction: 0.48</br>bol_klatka_wysilek: 0.86</br></br>wiek: 57.0</br>plec: 1.0</br>typ_bolu_klatka: 3.0</br>cisnienie_krwi_spoczynek: 128.0</br>cholesterol_we_krwi: 229.0</br>cukier_we_krwi: 0.0</br>wynik_ekg_spoczynek: 2.0</br>ilosc_uderzen_serca: 150.0</br>max_obnizka_st: 0.4</br>przebieg_st_szczyt: 2.0</br>zwapnienia_miazdzycowe: 1.0</br>proba_ta: 7.0</br>_original_yhat_: 0.42</br>"
          ],
          [
           "</br>id: 30</br>prediction: 0.48</br>bol_klatka_wysilek: 0.87</br></br>wiek: 57.0</br>plec: 1.0</br>typ_bolu_klatka: 3.0</br>cisnienie_krwi_spoczynek: 128.0</br>cholesterol_we_krwi: 229.0</br>cukier_we_krwi: 0.0</br>wynik_ekg_spoczynek: 2.0</br>ilosc_uderzen_serca: 150.0</br>max_obnizka_st: 0.4</br>przebieg_st_szczyt: 2.0</br>zwapnienia_miazdzycowe: 1.0</br>proba_ta: 7.0</br>_original_yhat_: 0.42</br>"
          ],
          [
           "</br>id: 30</br>prediction: 0.48</br>bol_klatka_wysilek: 0.88</br></br>wiek: 57.0</br>plec: 1.0</br>typ_bolu_klatka: 3.0</br>cisnienie_krwi_spoczynek: 128.0</br>cholesterol_we_krwi: 229.0</br>cukier_we_krwi: 0.0</br>wynik_ekg_spoczynek: 2.0</br>ilosc_uderzen_serca: 150.0</br>max_obnizka_st: 0.4</br>przebieg_st_szczyt: 2.0</br>zwapnienia_miazdzycowe: 1.0</br>proba_ta: 7.0</br>_original_yhat_: 0.42</br>"
          ],
          [
           "</br>id: 30</br>prediction: 0.48</br>bol_klatka_wysilek: 0.89</br></br>wiek: 57.0</br>plec: 1.0</br>typ_bolu_klatka: 3.0</br>cisnienie_krwi_spoczynek: 128.0</br>cholesterol_we_krwi: 229.0</br>cukier_we_krwi: 0.0</br>wynik_ekg_spoczynek: 2.0</br>ilosc_uderzen_serca: 150.0</br>max_obnizka_st: 0.4</br>przebieg_st_szczyt: 2.0</br>zwapnienia_miazdzycowe: 1.0</br>proba_ta: 7.0</br>_original_yhat_: 0.42</br>"
          ],
          [
           "</br>id: 30</br>prediction: 0.48</br>bol_klatka_wysilek: 0.9</br></br>wiek: 57.0</br>plec: 1.0</br>typ_bolu_klatka: 3.0</br>cisnienie_krwi_spoczynek: 128.0</br>cholesterol_we_krwi: 229.0</br>cukier_we_krwi: 0.0</br>wynik_ekg_spoczynek: 2.0</br>ilosc_uderzen_serca: 150.0</br>max_obnizka_st: 0.4</br>przebieg_st_szczyt: 2.0</br>zwapnienia_miazdzycowe: 1.0</br>proba_ta: 7.0</br>_original_yhat_: 0.42</br>"
          ],
          [
           "</br>id: 30</br>prediction: 0.48</br>bol_klatka_wysilek: 0.91</br></br>wiek: 57.0</br>plec: 1.0</br>typ_bolu_klatka: 3.0</br>cisnienie_krwi_spoczynek: 128.0</br>cholesterol_we_krwi: 229.0</br>cukier_we_krwi: 0.0</br>wynik_ekg_spoczynek: 2.0</br>ilosc_uderzen_serca: 150.0</br>max_obnizka_st: 0.4</br>przebieg_st_szczyt: 2.0</br>zwapnienia_miazdzycowe: 1.0</br>proba_ta: 7.0</br>_original_yhat_: 0.42</br>"
          ],
          [
           "</br>id: 30</br>prediction: 0.48</br>bol_klatka_wysilek: 0.92</br></br>wiek: 57.0</br>plec: 1.0</br>typ_bolu_klatka: 3.0</br>cisnienie_krwi_spoczynek: 128.0</br>cholesterol_we_krwi: 229.0</br>cukier_we_krwi: 0.0</br>wynik_ekg_spoczynek: 2.0</br>ilosc_uderzen_serca: 150.0</br>max_obnizka_st: 0.4</br>przebieg_st_szczyt: 2.0</br>zwapnienia_miazdzycowe: 1.0</br>proba_ta: 7.0</br>_original_yhat_: 0.42</br>"
          ],
          [
           "</br>id: 30</br>prediction: 0.48</br>bol_klatka_wysilek: 0.93</br></br>wiek: 57.0</br>plec: 1.0</br>typ_bolu_klatka: 3.0</br>cisnienie_krwi_spoczynek: 128.0</br>cholesterol_we_krwi: 229.0</br>cukier_we_krwi: 0.0</br>wynik_ekg_spoczynek: 2.0</br>ilosc_uderzen_serca: 150.0</br>max_obnizka_st: 0.4</br>przebieg_st_szczyt: 2.0</br>zwapnienia_miazdzycowe: 1.0</br>proba_ta: 7.0</br>_original_yhat_: 0.42</br>"
          ],
          [
           "</br>id: 30</br>prediction: 0.48</br>bol_klatka_wysilek: 0.9400000000000001</br></br>wiek: 57.0</br>plec: 1.0</br>typ_bolu_klatka: 3.0</br>cisnienie_krwi_spoczynek: 128.0</br>cholesterol_we_krwi: 229.0</br>cukier_we_krwi: 0.0</br>wynik_ekg_spoczynek: 2.0</br>ilosc_uderzen_serca: 150.0</br>max_obnizka_st: 0.4</br>przebieg_st_szczyt: 2.0</br>zwapnienia_miazdzycowe: 1.0</br>proba_ta: 7.0</br>_original_yhat_: 0.42</br>"
          ],
          [
           "</br>id: 30</br>prediction: 0.48</br>bol_klatka_wysilek: 0.9500000000000001</br></br>wiek: 57.0</br>plec: 1.0</br>typ_bolu_klatka: 3.0</br>cisnienie_krwi_spoczynek: 128.0</br>cholesterol_we_krwi: 229.0</br>cukier_we_krwi: 0.0</br>wynik_ekg_spoczynek: 2.0</br>ilosc_uderzen_serca: 150.0</br>max_obnizka_st: 0.4</br>przebieg_st_szczyt: 2.0</br>zwapnienia_miazdzycowe: 1.0</br>proba_ta: 7.0</br>_original_yhat_: 0.42</br>"
          ],
          [
           "</br>id: 30</br>prediction: 0.48</br>bol_klatka_wysilek: 0.96</br></br>wiek: 57.0</br>plec: 1.0</br>typ_bolu_klatka: 3.0</br>cisnienie_krwi_spoczynek: 128.0</br>cholesterol_we_krwi: 229.0</br>cukier_we_krwi: 0.0</br>wynik_ekg_spoczynek: 2.0</br>ilosc_uderzen_serca: 150.0</br>max_obnizka_st: 0.4</br>przebieg_st_szczyt: 2.0</br>zwapnienia_miazdzycowe: 1.0</br>proba_ta: 7.0</br>_original_yhat_: 0.42</br>"
          ],
          [
           "</br>id: 30</br>prediction: 0.48</br>bol_klatka_wysilek: 0.97</br></br>wiek: 57.0</br>plec: 1.0</br>typ_bolu_klatka: 3.0</br>cisnienie_krwi_spoczynek: 128.0</br>cholesterol_we_krwi: 229.0</br>cukier_we_krwi: 0.0</br>wynik_ekg_spoczynek: 2.0</br>ilosc_uderzen_serca: 150.0</br>max_obnizka_st: 0.4</br>przebieg_st_szczyt: 2.0</br>zwapnienia_miazdzycowe: 1.0</br>proba_ta: 7.0</br>_original_yhat_: 0.42</br>"
          ],
          [
           "</br>id: 30</br>prediction: 0.48</br>bol_klatka_wysilek: 0.98</br></br>wiek: 57.0</br>plec: 1.0</br>typ_bolu_klatka: 3.0</br>cisnienie_krwi_spoczynek: 128.0</br>cholesterol_we_krwi: 229.0</br>cukier_we_krwi: 0.0</br>wynik_ekg_spoczynek: 2.0</br>ilosc_uderzen_serca: 150.0</br>max_obnizka_st: 0.4</br>przebieg_st_szczyt: 2.0</br>zwapnienia_miazdzycowe: 1.0</br>proba_ta: 7.0</br>_original_yhat_: 0.42</br>"
          ],
          [
           "</br>id: 30</br>prediction: 0.48</br>bol_klatka_wysilek: 0.99</br></br>wiek: 57.0</br>plec: 1.0</br>typ_bolu_klatka: 3.0</br>cisnienie_krwi_spoczynek: 128.0</br>cholesterol_we_krwi: 229.0</br>cukier_we_krwi: 0.0</br>wynik_ekg_spoczynek: 2.0</br>ilosc_uderzen_serca: 150.0</br>max_obnizka_st: 0.4</br>przebieg_st_szczyt: 2.0</br>zwapnienia_miazdzycowe: 1.0</br>proba_ta: 7.0</br>_original_yhat_: 0.42</br>"
          ],
          [
           "</br>id: 30</br>prediction: 0.48</br>bol_klatka_wysilek: 1.0</br></br>wiek: 57.0</br>plec: 1.0</br>typ_bolu_klatka: 3.0</br>cisnienie_krwi_spoczynek: 128.0</br>cholesterol_we_krwi: 229.0</br>cukier_we_krwi: 0.0</br>wynik_ekg_spoczynek: 2.0</br>ilosc_uderzen_serca: 150.0</br>max_obnizka_st: 0.4</br>przebieg_st_szczyt: 2.0</br>zwapnienia_miazdzycowe: 1.0</br>proba_ta: 7.0</br>_original_yhat_: 0.42</br>"
          ]
         ],
         "hovertemplate": "%{customdata[0]}<extra></extra>",
         "legendgroup": "Model RandomForest dla danych serca",
         "line": {
          "color": "#46bac2",
          "dash": "solid",
          "width": 2
         },
         "marker": {
          "symbol": "circle"
         },
         "mode": "lines",
         "name": "Model RandomForest dla danych serca",
         "opacity": 1,
         "showlegend": false,
         "type": "scattergl",
         "x": [
          0,
          0.01,
          0.02,
          0.03,
          0.04,
          0.05,
          0.06,
          0.07,
          0.08,
          0.09,
          0.1,
          0.11,
          0.12,
          0.13,
          0.14,
          0.15,
          0.16,
          0.17,
          0.18,
          0.19,
          0.2,
          0.21,
          0.22,
          0.23,
          0.24,
          0.25,
          0.26,
          0.27,
          0.28,
          0.29,
          0.3,
          0.31,
          0.32,
          0.33,
          0.34,
          0.35000000000000003,
          0.36,
          0.37,
          0.38,
          0.39,
          0.4,
          0.41000000000000003,
          0.42,
          0.43,
          0.44,
          0.45,
          0.46,
          0.47000000000000003,
          0.48,
          0.49,
          0.5,
          0.51,
          0.52,
          0.53,
          0.54,
          0.55,
          0.56,
          0.5700000000000001,
          0.58,
          0.59,
          0.6,
          0.61,
          0.62,
          0.63,
          0.64,
          0.65,
          0.66,
          0.67,
          0.68,
          0.6900000000000001,
          0.7000000000000001,
          0.71,
          0.72,
          0.73,
          0.74,
          0.75,
          0.76,
          0.77,
          0.78,
          0.79,
          0.8,
          0.81,
          0.8200000000000001,
          0.8300000000000001,
          0.84,
          0.85,
          0.86,
          0.87,
          0.88,
          0.89,
          0.9,
          0.91,
          0.92,
          0.93,
          0.9400000000000001,
          0.9500000000000001,
          0.96,
          0.97,
          0.98,
          0.99,
          1
         ],
         "xaxis": "x5",
         "y": [
          0.42,
          0.42,
          0.42,
          0.42,
          0.42,
          0.42,
          0.42,
          0.42,
          0.42,
          0.42,
          0.42,
          0.42,
          0.42,
          0.42,
          0.42,
          0.42,
          0.42,
          0.42,
          0.42,
          0.42,
          0.42,
          0.42,
          0.42,
          0.42,
          0.42,
          0.42,
          0.42,
          0.42,
          0.42,
          0.42,
          0.42,
          0.42,
          0.42,
          0.42,
          0.42,
          0.42,
          0.42,
          0.42,
          0.42,
          0.42,
          0.42,
          0.42,
          0.42,
          0.42,
          0.42,
          0.42,
          0.42,
          0.42,
          0.42,
          0.42,
          0.42,
          0.48,
          0.48,
          0.48,
          0.48,
          0.48,
          0.48,
          0.48,
          0.48,
          0.48,
          0.48,
          0.48,
          0.48,
          0.48,
          0.48,
          0.48,
          0.48,
          0.48,
          0.48,
          0.48,
          0.48,
          0.48,
          0.48,
          0.48,
          0.48,
          0.48,
          0.48,
          0.48,
          0.48,
          0.48,
          0.48,
          0.48,
          0.48,
          0.48,
          0.48,
          0.48,
          0.48,
          0.48,
          0.48,
          0.48,
          0.48,
          0.48,
          0.48,
          0.48,
          0.48,
          0.48,
          0.48,
          0.48,
          0.48,
          0.48,
          0.48
         ],
         "yaxis": "y5"
        },
        {
         "customdata": [
          [
           "</br>id: 30</br>prediction: 0.41</br>max_obnizka_st: 0.0</br></br>wiek: 57.0</br>plec: 1.0</br>typ_bolu_klatka: 3.0</br>cisnienie_krwi_spoczynek: 128.0</br>cholesterol_we_krwi: 229.0</br>cukier_we_krwi: 0.0</br>wynik_ekg_spoczynek: 2.0</br>ilosc_uderzen_serca: 150.0</br>bol_klatka_wysilek: 0.0</br>przebieg_st_szczyt: 2.0</br>zwapnienia_miazdzycowe: 1.0</br>proba_ta: 7.0</br>_original_yhat_: 0.42</br>"
          ],
          [
           "</br>id: 30</br>prediction: 0.41</br>max_obnizka_st: 0.04</br></br>wiek: 57.0</br>plec: 1.0</br>typ_bolu_klatka: 3.0</br>cisnienie_krwi_spoczynek: 128.0</br>cholesterol_we_krwi: 229.0</br>cukier_we_krwi: 0.0</br>wynik_ekg_spoczynek: 2.0</br>ilosc_uderzen_serca: 150.0</br>bol_klatka_wysilek: 0.0</br>przebieg_st_szczyt: 2.0</br>zwapnienia_miazdzycowe: 1.0</br>proba_ta: 7.0</br>_original_yhat_: 0.42</br>"
          ],
          [
           "</br>id: 30</br>prediction: 0.41</br>max_obnizka_st: 0.08</br></br>wiek: 57.0</br>plec: 1.0</br>typ_bolu_klatka: 3.0</br>cisnienie_krwi_spoczynek: 128.0</br>cholesterol_we_krwi: 229.0</br>cukier_we_krwi: 0.0</br>wynik_ekg_spoczynek: 2.0</br>ilosc_uderzen_serca: 150.0</br>bol_klatka_wysilek: 0.0</br>przebieg_st_szczyt: 2.0</br>zwapnienia_miazdzycowe: 1.0</br>proba_ta: 7.0</br>_original_yhat_: 0.42</br>"
          ],
          [
           "</br>id: 30</br>prediction: 0.42</br>max_obnizka_st: 0.12</br></br>wiek: 57.0</br>plec: 1.0</br>typ_bolu_klatka: 3.0</br>cisnienie_krwi_spoczynek: 128.0</br>cholesterol_we_krwi: 229.0</br>cukier_we_krwi: 0.0</br>wynik_ekg_spoczynek: 2.0</br>ilosc_uderzen_serca: 150.0</br>bol_klatka_wysilek: 0.0</br>przebieg_st_szczyt: 2.0</br>zwapnienia_miazdzycowe: 1.0</br>proba_ta: 7.0</br>_original_yhat_: 0.42</br>"
          ],
          [
           "</br>id: 30</br>prediction: 0.43</br>max_obnizka_st: 0.16</br></br>wiek: 57.0</br>plec: 1.0</br>typ_bolu_klatka: 3.0</br>cisnienie_krwi_spoczynek: 128.0</br>cholesterol_we_krwi: 229.0</br>cukier_we_krwi: 0.0</br>wynik_ekg_spoczynek: 2.0</br>ilosc_uderzen_serca: 150.0</br>bol_klatka_wysilek: 0.0</br>przebieg_st_szczyt: 2.0</br>zwapnienia_miazdzycowe: 1.0</br>proba_ta: 7.0</br>_original_yhat_: 0.42</br>"
          ],
          [
           "</br>id: 30</br>prediction: 0.43</br>max_obnizka_st: 0.2</br></br>wiek: 57.0</br>plec: 1.0</br>typ_bolu_klatka: 3.0</br>cisnienie_krwi_spoczynek: 128.0</br>cholesterol_we_krwi: 229.0</br>cukier_we_krwi: 0.0</br>wynik_ekg_spoczynek: 2.0</br>ilosc_uderzen_serca: 150.0</br>bol_klatka_wysilek: 0.0</br>przebieg_st_szczyt: 2.0</br>zwapnienia_miazdzycowe: 1.0</br>proba_ta: 7.0</br>_original_yhat_: 0.42</br>"
          ],
          [
           "</br>id: 30</br>prediction: 0.43</br>max_obnizka_st: 0.24</br></br>wiek: 57.0</br>plec: 1.0</br>typ_bolu_klatka: 3.0</br>cisnienie_krwi_spoczynek: 128.0</br>cholesterol_we_krwi: 229.0</br>cukier_we_krwi: 0.0</br>wynik_ekg_spoczynek: 2.0</br>ilosc_uderzen_serca: 150.0</br>bol_klatka_wysilek: 0.0</br>przebieg_st_szczyt: 2.0</br>zwapnienia_miazdzycowe: 1.0</br>proba_ta: 7.0</br>_original_yhat_: 0.42</br>"
          ],
          [
           "</br>id: 30</br>prediction: 0.43</br>max_obnizka_st: 0.28</br></br>wiek: 57.0</br>plec: 1.0</br>typ_bolu_klatka: 3.0</br>cisnienie_krwi_spoczynek: 128.0</br>cholesterol_we_krwi: 229.0</br>cukier_we_krwi: 0.0</br>wynik_ekg_spoczynek: 2.0</br>ilosc_uderzen_serca: 150.0</br>bol_klatka_wysilek: 0.0</br>przebieg_st_szczyt: 2.0</br>zwapnienia_miazdzycowe: 1.0</br>proba_ta: 7.0</br>_original_yhat_: 0.42</br>"
          ],
          [
           "</br>id: 30</br>prediction: 0.43</br>max_obnizka_st: 0.32</br></br>wiek: 57.0</br>plec: 1.0</br>typ_bolu_klatka: 3.0</br>cisnienie_krwi_spoczynek: 128.0</br>cholesterol_we_krwi: 229.0</br>cukier_we_krwi: 0.0</br>wynik_ekg_spoczynek: 2.0</br>ilosc_uderzen_serca: 150.0</br>bol_klatka_wysilek: 0.0</br>przebieg_st_szczyt: 2.0</br>zwapnienia_miazdzycowe: 1.0</br>proba_ta: 7.0</br>_original_yhat_: 0.42</br>"
          ],
          [
           "</br>id: 30</br>prediction: 0.42</br>max_obnizka_st: 0.36</br></br>wiek: 57.0</br>plec: 1.0</br>typ_bolu_klatka: 3.0</br>cisnienie_krwi_spoczynek: 128.0</br>cholesterol_we_krwi: 229.0</br>cukier_we_krwi: 0.0</br>wynik_ekg_spoczynek: 2.0</br>ilosc_uderzen_serca: 150.0</br>bol_klatka_wysilek: 0.0</br>przebieg_st_szczyt: 2.0</br>zwapnienia_miazdzycowe: 1.0</br>proba_ta: 7.0</br>_original_yhat_: 0.42</br>"
          ],
          [
           "</br>id: 30</br>prediction: 0.42</br>max_obnizka_st: 0.4</br></br>wiek: 57.0</br>plec: 1.0</br>typ_bolu_klatka: 3.0</br>cisnienie_krwi_spoczynek: 128.0</br>cholesterol_we_krwi: 229.0</br>cukier_we_krwi: 0.0</br>wynik_ekg_spoczynek: 2.0</br>ilosc_uderzen_serca: 150.0</br>bol_klatka_wysilek: 0.0</br>przebieg_st_szczyt: 2.0</br>zwapnienia_miazdzycowe: 1.0</br>proba_ta: 7.0</br>_original_yhat_: 0.42</br>"
          ],
          [
           "</br>id: 30</br>prediction: 0.42</br>max_obnizka_st: 0.44</br></br>wiek: 57.0</br>plec: 1.0</br>typ_bolu_klatka: 3.0</br>cisnienie_krwi_spoczynek: 128.0</br>cholesterol_we_krwi: 229.0</br>cukier_we_krwi: 0.0</br>wynik_ekg_spoczynek: 2.0</br>ilosc_uderzen_serca: 150.0</br>bol_klatka_wysilek: 0.0</br>przebieg_st_szczyt: 2.0</br>zwapnienia_miazdzycowe: 1.0</br>proba_ta: 7.0</br>_original_yhat_: 0.42</br>"
          ],
          [
           "</br>id: 30</br>prediction: 0.44</br>max_obnizka_st: 0.48</br></br>wiek: 57.0</br>plec: 1.0</br>typ_bolu_klatka: 3.0</br>cisnienie_krwi_spoczynek: 128.0</br>cholesterol_we_krwi: 229.0</br>cukier_we_krwi: 0.0</br>wynik_ekg_spoczynek: 2.0</br>ilosc_uderzen_serca: 150.0</br>bol_klatka_wysilek: 0.0</br>przebieg_st_szczyt: 2.0</br>zwapnienia_miazdzycowe: 1.0</br>proba_ta: 7.0</br>_original_yhat_: 0.42</br>"
          ],
          [
           "</br>id: 30</br>prediction: 0.44</br>max_obnizka_st: 0.52</br></br>wiek: 57.0</br>plec: 1.0</br>typ_bolu_klatka: 3.0</br>cisnienie_krwi_spoczynek: 128.0</br>cholesterol_we_krwi: 229.0</br>cukier_we_krwi: 0.0</br>wynik_ekg_spoczynek: 2.0</br>ilosc_uderzen_serca: 150.0</br>bol_klatka_wysilek: 0.0</br>przebieg_st_szczyt: 2.0</br>zwapnienia_miazdzycowe: 1.0</br>proba_ta: 7.0</br>_original_yhat_: 0.42</br>"
          ],
          [
           "</br>id: 30</br>prediction: 0.45</br>max_obnizka_st: 0.56</br></br>wiek: 57.0</br>plec: 1.0</br>typ_bolu_klatka: 3.0</br>cisnienie_krwi_spoczynek: 128.0</br>cholesterol_we_krwi: 229.0</br>cukier_we_krwi: 0.0</br>wynik_ekg_spoczynek: 2.0</br>ilosc_uderzen_serca: 150.0</br>bol_klatka_wysilek: 0.0</br>przebieg_st_szczyt: 2.0</br>zwapnienia_miazdzycowe: 1.0</br>proba_ta: 7.0</br>_original_yhat_: 0.42</br>"
          ],
          [
           "</br>id: 30</br>prediction: 0.46</br>max_obnizka_st: 0.6</br></br>wiek: 57.0</br>plec: 1.0</br>typ_bolu_klatka: 3.0</br>cisnienie_krwi_spoczynek: 128.0</br>cholesterol_we_krwi: 229.0</br>cukier_we_krwi: 0.0</br>wynik_ekg_spoczynek: 2.0</br>ilosc_uderzen_serca: 150.0</br>bol_klatka_wysilek: 0.0</br>przebieg_st_szczyt: 2.0</br>zwapnienia_miazdzycowe: 1.0</br>proba_ta: 7.0</br>_original_yhat_: 0.42</br>"
          ],
          [
           "</br>id: 30</br>prediction: 0.46</br>max_obnizka_st: 0.64</br></br>wiek: 57.0</br>plec: 1.0</br>typ_bolu_klatka: 3.0</br>cisnienie_krwi_spoczynek: 128.0</br>cholesterol_we_krwi: 229.0</br>cukier_we_krwi: 0.0</br>wynik_ekg_spoczynek: 2.0</br>ilosc_uderzen_serca: 150.0</br>bol_klatka_wysilek: 0.0</br>przebieg_st_szczyt: 2.0</br>zwapnienia_miazdzycowe: 1.0</br>proba_ta: 7.0</br>_original_yhat_: 0.42</br>"
          ],
          [
           "</br>id: 30</br>prediction: 0.45</br>max_obnizka_st: 0.68</br></br>wiek: 57.0</br>plec: 1.0</br>typ_bolu_klatka: 3.0</br>cisnienie_krwi_spoczynek: 128.0</br>cholesterol_we_krwi: 229.0</br>cukier_we_krwi: 0.0</br>wynik_ekg_spoczynek: 2.0</br>ilosc_uderzen_serca: 150.0</br>bol_klatka_wysilek: 0.0</br>przebieg_st_szczyt: 2.0</br>zwapnienia_miazdzycowe: 1.0</br>proba_ta: 7.0</br>_original_yhat_: 0.42</br>"
          ],
          [
           "</br>id: 30</br>prediction: 0.46</br>max_obnizka_st: 0.72</br></br>wiek: 57.0</br>plec: 1.0</br>typ_bolu_klatka: 3.0</br>cisnienie_krwi_spoczynek: 128.0</br>cholesterol_we_krwi: 229.0</br>cukier_we_krwi: 0.0</br>wynik_ekg_spoczynek: 2.0</br>ilosc_uderzen_serca: 150.0</br>bol_klatka_wysilek: 0.0</br>przebieg_st_szczyt: 2.0</br>zwapnienia_miazdzycowe: 1.0</br>proba_ta: 7.0</br>_original_yhat_: 0.42</br>"
          ],
          [
           "</br>id: 30</br>prediction: 0.47</br>max_obnizka_st: 0.76</br></br>wiek: 57.0</br>plec: 1.0</br>typ_bolu_klatka: 3.0</br>cisnienie_krwi_spoczynek: 128.0</br>cholesterol_we_krwi: 229.0</br>cukier_we_krwi: 0.0</br>wynik_ekg_spoczynek: 2.0</br>ilosc_uderzen_serca: 150.0</br>bol_klatka_wysilek: 0.0</br>przebieg_st_szczyt: 2.0</br>zwapnienia_miazdzycowe: 1.0</br>proba_ta: 7.0</br>_original_yhat_: 0.42</br>"
          ],
          [
           "</br>id: 30</br>prediction: 0.47</br>max_obnizka_st: 0.8</br></br>wiek: 57.0</br>plec: 1.0</br>typ_bolu_klatka: 3.0</br>cisnienie_krwi_spoczynek: 128.0</br>cholesterol_we_krwi: 229.0</br>cukier_we_krwi: 0.0</br>wynik_ekg_spoczynek: 2.0</br>ilosc_uderzen_serca: 150.0</br>bol_klatka_wysilek: 0.0</br>przebieg_st_szczyt: 2.0</br>zwapnienia_miazdzycowe: 1.0</br>proba_ta: 7.0</br>_original_yhat_: 0.42</br>"
          ],
          [
           "</br>id: 30</br>prediction: 0.49</br>max_obnizka_st: 0.84</br></br>wiek: 57.0</br>plec: 1.0</br>typ_bolu_klatka: 3.0</br>cisnienie_krwi_spoczynek: 128.0</br>cholesterol_we_krwi: 229.0</br>cukier_we_krwi: 0.0</br>wynik_ekg_spoczynek: 2.0</br>ilosc_uderzen_serca: 150.0</br>bol_klatka_wysilek: 0.0</br>przebieg_st_szczyt: 2.0</br>zwapnienia_miazdzycowe: 1.0</br>proba_ta: 7.0</br>_original_yhat_: 0.42</br>"
          ],
          [
           "</br>id: 30</br>prediction: 0.53</br>max_obnizka_st: 0.88</br></br>wiek: 57.0</br>plec: 1.0</br>typ_bolu_klatka: 3.0</br>cisnienie_krwi_spoczynek: 128.0</br>cholesterol_we_krwi: 229.0</br>cukier_we_krwi: 0.0</br>wynik_ekg_spoczynek: 2.0</br>ilosc_uderzen_serca: 150.0</br>bol_klatka_wysilek: 0.0</br>przebieg_st_szczyt: 2.0</br>zwapnienia_miazdzycowe: 1.0</br>proba_ta: 7.0</br>_original_yhat_: 0.42</br>"
          ],
          [
           "</br>id: 30</br>prediction: 0.53</br>max_obnizka_st: 0.92</br></br>wiek: 57.0</br>plec: 1.0</br>typ_bolu_klatka: 3.0</br>cisnienie_krwi_spoczynek: 128.0</br>cholesterol_we_krwi: 229.0</br>cukier_we_krwi: 0.0</br>wynik_ekg_spoczynek: 2.0</br>ilosc_uderzen_serca: 150.0</br>bol_klatka_wysilek: 0.0</br>przebieg_st_szczyt: 2.0</br>zwapnienia_miazdzycowe: 1.0</br>proba_ta: 7.0</br>_original_yhat_: 0.42</br>"
          ],
          [
           "</br>id: 30</br>prediction: 0.53</br>max_obnizka_st: 0.96</br></br>wiek: 57.0</br>plec: 1.0</br>typ_bolu_klatka: 3.0</br>cisnienie_krwi_spoczynek: 128.0</br>cholesterol_we_krwi: 229.0</br>cukier_we_krwi: 0.0</br>wynik_ekg_spoczynek: 2.0</br>ilosc_uderzen_serca: 150.0</br>bol_klatka_wysilek: 0.0</br>przebieg_st_szczyt: 2.0</br>zwapnienia_miazdzycowe: 1.0</br>proba_ta: 7.0</br>_original_yhat_: 0.42</br>"
          ],
          [
           "</br>id: 30</br>prediction: 0.53</br>max_obnizka_st: 1.0</br></br>wiek: 57.0</br>plec: 1.0</br>typ_bolu_klatka: 3.0</br>cisnienie_krwi_spoczynek: 128.0</br>cholesterol_we_krwi: 229.0</br>cukier_we_krwi: 0.0</br>wynik_ekg_spoczynek: 2.0</br>ilosc_uderzen_serca: 150.0</br>bol_klatka_wysilek: 0.0</br>przebieg_st_szczyt: 2.0</br>zwapnienia_miazdzycowe: 1.0</br>proba_ta: 7.0</br>_original_yhat_: 0.42</br>"
          ],
          [
           "</br>id: 30</br>prediction: 0.53</br>max_obnizka_st: 1.04</br></br>wiek: 57.0</br>plec: 1.0</br>typ_bolu_klatka: 3.0</br>cisnienie_krwi_spoczynek: 128.0</br>cholesterol_we_krwi: 229.0</br>cukier_we_krwi: 0.0</br>wynik_ekg_spoczynek: 2.0</br>ilosc_uderzen_serca: 150.0</br>bol_klatka_wysilek: 0.0</br>przebieg_st_szczyt: 2.0</br>zwapnienia_miazdzycowe: 1.0</br>proba_ta: 7.0</br>_original_yhat_: 0.42</br>"
          ],
          [
           "</br>id: 30</br>prediction: 0.53</br>max_obnizka_st: 1.08</br></br>wiek: 57.0</br>plec: 1.0</br>typ_bolu_klatka: 3.0</br>cisnienie_krwi_spoczynek: 128.0</br>cholesterol_we_krwi: 229.0</br>cukier_we_krwi: 0.0</br>wynik_ekg_spoczynek: 2.0</br>ilosc_uderzen_serca: 150.0</br>bol_klatka_wysilek: 0.0</br>przebieg_st_szczyt: 2.0</br>zwapnienia_miazdzycowe: 1.0</br>proba_ta: 7.0</br>_original_yhat_: 0.42</br>"
          ],
          [
           "</br>id: 30</br>prediction: 0.53</br>max_obnizka_st: 1.12</br></br>wiek: 57.0</br>plec: 1.0</br>typ_bolu_klatka: 3.0</br>cisnienie_krwi_spoczynek: 128.0</br>cholesterol_we_krwi: 229.0</br>cukier_we_krwi: 0.0</br>wynik_ekg_spoczynek: 2.0</br>ilosc_uderzen_serca: 150.0</br>bol_klatka_wysilek: 0.0</br>przebieg_st_szczyt: 2.0</br>zwapnienia_miazdzycowe: 1.0</br>proba_ta: 7.0</br>_original_yhat_: 0.42</br>"
          ],
          [
           "</br>id: 30</br>prediction: 0.53</br>max_obnizka_st: 1.16</br></br>wiek: 57.0</br>plec: 1.0</br>typ_bolu_klatka: 3.0</br>cisnienie_krwi_spoczynek: 128.0</br>cholesterol_we_krwi: 229.0</br>cukier_we_krwi: 0.0</br>wynik_ekg_spoczynek: 2.0</br>ilosc_uderzen_serca: 150.0</br>bol_klatka_wysilek: 0.0</br>przebieg_st_szczyt: 2.0</br>zwapnienia_miazdzycowe: 1.0</br>proba_ta: 7.0</br>_original_yhat_: 0.42</br>"
          ],
          [
           "</br>id: 30</br>prediction: 0.53</br>max_obnizka_st: 1.2</br></br>wiek: 57.0</br>plec: 1.0</br>typ_bolu_klatka: 3.0</br>cisnienie_krwi_spoczynek: 128.0</br>cholesterol_we_krwi: 229.0</br>cukier_we_krwi: 0.0</br>wynik_ekg_spoczynek: 2.0</br>ilosc_uderzen_serca: 150.0</br>bol_klatka_wysilek: 0.0</br>przebieg_st_szczyt: 2.0</br>zwapnienia_miazdzycowe: 1.0</br>proba_ta: 7.0</br>_original_yhat_: 0.42</br>"
          ],
          [
           "</br>id: 30</br>prediction: 0.53</br>max_obnizka_st: 1.24</br></br>wiek: 57.0</br>plec: 1.0</br>typ_bolu_klatka: 3.0</br>cisnienie_krwi_spoczynek: 128.0</br>cholesterol_we_krwi: 229.0</br>cukier_we_krwi: 0.0</br>wynik_ekg_spoczynek: 2.0</br>ilosc_uderzen_serca: 150.0</br>bol_klatka_wysilek: 0.0</br>przebieg_st_szczyt: 2.0</br>zwapnienia_miazdzycowe: 1.0</br>proba_ta: 7.0</br>_original_yhat_: 0.42</br>"
          ],
          [
           "</br>id: 30</br>prediction: 0.53</br>max_obnizka_st: 1.28</br></br>wiek: 57.0</br>plec: 1.0</br>typ_bolu_klatka: 3.0</br>cisnienie_krwi_spoczynek: 128.0</br>cholesterol_we_krwi: 229.0</br>cukier_we_krwi: 0.0</br>wynik_ekg_spoczynek: 2.0</br>ilosc_uderzen_serca: 150.0</br>bol_klatka_wysilek: 0.0</br>przebieg_st_szczyt: 2.0</br>zwapnienia_miazdzycowe: 1.0</br>proba_ta: 7.0</br>_original_yhat_: 0.42</br>"
          ],
          [
           "</br>id: 30</br>prediction: 0.54</br>max_obnizka_st: 1.32</br></br>wiek: 57.0</br>plec: 1.0</br>typ_bolu_klatka: 3.0</br>cisnienie_krwi_spoczynek: 128.0</br>cholesterol_we_krwi: 229.0</br>cukier_we_krwi: 0.0</br>wynik_ekg_spoczynek: 2.0</br>ilosc_uderzen_serca: 150.0</br>bol_klatka_wysilek: 0.0</br>przebieg_st_szczyt: 2.0</br>zwapnienia_miazdzycowe: 1.0</br>proba_ta: 7.0</br>_original_yhat_: 0.42</br>"
          ],
          [
           "</br>id: 30</br>prediction: 0.53</br>max_obnizka_st: 1.36</br></br>wiek: 57.0</br>plec: 1.0</br>typ_bolu_klatka: 3.0</br>cisnienie_krwi_spoczynek: 128.0</br>cholesterol_we_krwi: 229.0</br>cukier_we_krwi: 0.0</br>wynik_ekg_spoczynek: 2.0</br>ilosc_uderzen_serca: 150.0</br>bol_klatka_wysilek: 0.0</br>przebieg_st_szczyt: 2.0</br>zwapnienia_miazdzycowe: 1.0</br>proba_ta: 7.0</br>_original_yhat_: 0.42</br>"
          ],
          [
           "</br>id: 30</br>prediction: 0.53</br>max_obnizka_st: 1.4000000000000001</br></br>wiek: 57.0</br>plec: 1.0</br>typ_bolu_klatka: 3.0</br>cisnienie_krwi_spoczynek: 128.0</br>cholesterol_we_krwi: 229.0</br>cukier_we_krwi: 0.0</br>wynik_ekg_spoczynek: 2.0</br>ilosc_uderzen_serca: 150.0</br>bol_klatka_wysilek: 0.0</br>przebieg_st_szczyt: 2.0</br>zwapnienia_miazdzycowe: 1.0</br>proba_ta: 7.0</br>_original_yhat_: 0.42</br>"
          ],
          [
           "</br>id: 30</br>prediction: 0.53</br>max_obnizka_st: 1.44</br></br>wiek: 57.0</br>plec: 1.0</br>typ_bolu_klatka: 3.0</br>cisnienie_krwi_spoczynek: 128.0</br>cholesterol_we_krwi: 229.0</br>cukier_we_krwi: 0.0</br>wynik_ekg_spoczynek: 2.0</br>ilosc_uderzen_serca: 150.0</br>bol_klatka_wysilek: 0.0</br>przebieg_st_szczyt: 2.0</br>zwapnienia_miazdzycowe: 1.0</br>proba_ta: 7.0</br>_original_yhat_: 0.42</br>"
          ],
          [
           "</br>id: 30</br>prediction: 0.54</br>max_obnizka_st: 1.48</br></br>wiek: 57.0</br>plec: 1.0</br>typ_bolu_klatka: 3.0</br>cisnienie_krwi_spoczynek: 128.0</br>cholesterol_we_krwi: 229.0</br>cukier_we_krwi: 0.0</br>wynik_ekg_spoczynek: 2.0</br>ilosc_uderzen_serca: 150.0</br>bol_klatka_wysilek: 0.0</br>przebieg_st_szczyt: 2.0</br>zwapnienia_miazdzycowe: 1.0</br>proba_ta: 7.0</br>_original_yhat_: 0.42</br>"
          ],
          [
           "</br>id: 30</br>prediction: 0.54</br>max_obnizka_st: 1.52</br></br>wiek: 57.0</br>plec: 1.0</br>typ_bolu_klatka: 3.0</br>cisnienie_krwi_spoczynek: 128.0</br>cholesterol_we_krwi: 229.0</br>cukier_we_krwi: 0.0</br>wynik_ekg_spoczynek: 2.0</br>ilosc_uderzen_serca: 150.0</br>bol_klatka_wysilek: 0.0</br>przebieg_st_szczyt: 2.0</br>zwapnienia_miazdzycowe: 1.0</br>proba_ta: 7.0</br>_original_yhat_: 0.42</br>"
          ],
          [
           "</br>id: 30</br>prediction: 0.55</br>max_obnizka_st: 1.56</br></br>wiek: 57.0</br>plec: 1.0</br>typ_bolu_klatka: 3.0</br>cisnienie_krwi_spoczynek: 128.0</br>cholesterol_we_krwi: 229.0</br>cukier_we_krwi: 0.0</br>wynik_ekg_spoczynek: 2.0</br>ilosc_uderzen_serca: 150.0</br>bol_klatka_wysilek: 0.0</br>przebieg_st_szczyt: 2.0</br>zwapnienia_miazdzycowe: 1.0</br>proba_ta: 7.0</br>_original_yhat_: 0.42</br>"
          ],
          [
           "</br>id: 30</br>prediction: 0.54</br>max_obnizka_st: 1.6</br></br>wiek: 57.0</br>plec: 1.0</br>typ_bolu_klatka: 3.0</br>cisnienie_krwi_spoczynek: 128.0</br>cholesterol_we_krwi: 229.0</br>cukier_we_krwi: 0.0</br>wynik_ekg_spoczynek: 2.0</br>ilosc_uderzen_serca: 150.0</br>bol_klatka_wysilek: 0.0</br>przebieg_st_szczyt: 2.0</br>zwapnienia_miazdzycowe: 1.0</br>proba_ta: 7.0</br>_original_yhat_: 0.42</br>"
          ],
          [
           "</br>id: 30</br>prediction: 0.54</br>max_obnizka_st: 1.6400000000000001</br></br>wiek: 57.0</br>plec: 1.0</br>typ_bolu_klatka: 3.0</br>cisnienie_krwi_spoczynek: 128.0</br>cholesterol_we_krwi: 229.0</br>cukier_we_krwi: 0.0</br>wynik_ekg_spoczynek: 2.0</br>ilosc_uderzen_serca: 150.0</br>bol_klatka_wysilek: 0.0</br>przebieg_st_szczyt: 2.0</br>zwapnienia_miazdzycowe: 1.0</br>proba_ta: 7.0</br>_original_yhat_: 0.42</br>"
          ],
          [
           "</br>id: 30</br>prediction: 0.54</br>max_obnizka_st: 1.68</br></br>wiek: 57.0</br>plec: 1.0</br>typ_bolu_klatka: 3.0</br>cisnienie_krwi_spoczynek: 128.0</br>cholesterol_we_krwi: 229.0</br>cukier_we_krwi: 0.0</br>wynik_ekg_spoczynek: 2.0</br>ilosc_uderzen_serca: 150.0</br>bol_klatka_wysilek: 0.0</br>przebieg_st_szczyt: 2.0</br>zwapnienia_miazdzycowe: 1.0</br>proba_ta: 7.0</br>_original_yhat_: 0.42</br>"
          ],
          [
           "</br>id: 30</br>prediction: 0.56</br>max_obnizka_st: 1.72</br></br>wiek: 57.0</br>plec: 1.0</br>typ_bolu_klatka: 3.0</br>cisnienie_krwi_spoczynek: 128.0</br>cholesterol_we_krwi: 229.0</br>cukier_we_krwi: 0.0</br>wynik_ekg_spoczynek: 2.0</br>ilosc_uderzen_serca: 150.0</br>bol_klatka_wysilek: 0.0</br>przebieg_st_szczyt: 2.0</br>zwapnienia_miazdzycowe: 1.0</br>proba_ta: 7.0</br>_original_yhat_: 0.42</br>"
          ],
          [
           "</br>id: 30</br>prediction: 0.56</br>max_obnizka_st: 1.76</br></br>wiek: 57.0</br>plec: 1.0</br>typ_bolu_klatka: 3.0</br>cisnienie_krwi_spoczynek: 128.0</br>cholesterol_we_krwi: 229.0</br>cukier_we_krwi: 0.0</br>wynik_ekg_spoczynek: 2.0</br>ilosc_uderzen_serca: 150.0</br>bol_klatka_wysilek: 0.0</br>przebieg_st_szczyt: 2.0</br>zwapnienia_miazdzycowe: 1.0</br>proba_ta: 7.0</br>_original_yhat_: 0.42</br>"
          ],
          [
           "</br>id: 30</br>prediction: 0.56</br>max_obnizka_st: 1.8</br></br>wiek: 57.0</br>plec: 1.0</br>typ_bolu_klatka: 3.0</br>cisnienie_krwi_spoczynek: 128.0</br>cholesterol_we_krwi: 229.0</br>cukier_we_krwi: 0.0</br>wynik_ekg_spoczynek: 2.0</br>ilosc_uderzen_serca: 150.0</br>bol_klatka_wysilek: 0.0</br>przebieg_st_szczyt: 2.0</br>zwapnienia_miazdzycowe: 1.0</br>proba_ta: 7.0</br>_original_yhat_: 0.42</br>"
          ],
          [
           "</br>id: 30</br>prediction: 0.56</br>max_obnizka_st: 1.84</br></br>wiek: 57.0</br>plec: 1.0</br>typ_bolu_klatka: 3.0</br>cisnienie_krwi_spoczynek: 128.0</br>cholesterol_we_krwi: 229.0</br>cukier_we_krwi: 0.0</br>wynik_ekg_spoczynek: 2.0</br>ilosc_uderzen_serca: 150.0</br>bol_klatka_wysilek: 0.0</br>przebieg_st_szczyt: 2.0</br>zwapnienia_miazdzycowe: 1.0</br>proba_ta: 7.0</br>_original_yhat_: 0.42</br>"
          ],
          [
           "</br>id: 30</br>prediction: 0.6</br>max_obnizka_st: 1.8800000000000001</br></br>wiek: 57.0</br>plec: 1.0</br>typ_bolu_klatka: 3.0</br>cisnienie_krwi_spoczynek: 128.0</br>cholesterol_we_krwi: 229.0</br>cukier_we_krwi: 0.0</br>wynik_ekg_spoczynek: 2.0</br>ilosc_uderzen_serca: 150.0</br>bol_klatka_wysilek: 0.0</br>przebieg_st_szczyt: 2.0</br>zwapnienia_miazdzycowe: 1.0</br>proba_ta: 7.0</br>_original_yhat_: 0.42</br>"
          ],
          [
           "</br>id: 30</br>prediction: 0.66</br>max_obnizka_st: 1.92</br></br>wiek: 57.0</br>plec: 1.0</br>typ_bolu_klatka: 3.0</br>cisnienie_krwi_spoczynek: 128.0</br>cholesterol_we_krwi: 229.0</br>cukier_we_krwi: 0.0</br>wynik_ekg_spoczynek: 2.0</br>ilosc_uderzen_serca: 150.0</br>bol_klatka_wysilek: 0.0</br>przebieg_st_szczyt: 2.0</br>zwapnienia_miazdzycowe: 1.0</br>proba_ta: 7.0</br>_original_yhat_: 0.42</br>"
          ],
          [
           "</br>id: 30</br>prediction: 0.66</br>max_obnizka_st: 1.96</br></br>wiek: 57.0</br>plec: 1.0</br>typ_bolu_klatka: 3.0</br>cisnienie_krwi_spoczynek: 128.0</br>cholesterol_we_krwi: 229.0</br>cukier_we_krwi: 0.0</br>wynik_ekg_spoczynek: 2.0</br>ilosc_uderzen_serca: 150.0</br>bol_klatka_wysilek: 0.0</br>przebieg_st_szczyt: 2.0</br>zwapnienia_miazdzycowe: 1.0</br>proba_ta: 7.0</br>_original_yhat_: 0.42</br>"
          ],
          [
           "</br>id: 30</br>prediction: 0.66</br>max_obnizka_st: 2.0</br></br>wiek: 57.0</br>plec: 1.0</br>typ_bolu_klatka: 3.0</br>cisnienie_krwi_spoczynek: 128.0</br>cholesterol_we_krwi: 229.0</br>cukier_we_krwi: 0.0</br>wynik_ekg_spoczynek: 2.0</br>ilosc_uderzen_serca: 150.0</br>bol_klatka_wysilek: 0.0</br>przebieg_st_szczyt: 2.0</br>zwapnienia_miazdzycowe: 1.0</br>proba_ta: 7.0</br>_original_yhat_: 0.42</br>"
          ],
          [
           "</br>id: 30</br>prediction: 0.69</br>max_obnizka_st: 2.04</br></br>wiek: 57.0</br>plec: 1.0</br>typ_bolu_klatka: 3.0</br>cisnienie_krwi_spoczynek: 128.0</br>cholesterol_we_krwi: 229.0</br>cukier_we_krwi: 0.0</br>wynik_ekg_spoczynek: 2.0</br>ilosc_uderzen_serca: 150.0</br>bol_klatka_wysilek: 0.0</br>przebieg_st_szczyt: 2.0</br>zwapnienia_miazdzycowe: 1.0</br>proba_ta: 7.0</br>_original_yhat_: 0.42</br>"
          ],
          [
           "</br>id: 30</br>prediction: 0.69</br>max_obnizka_st: 2.08</br></br>wiek: 57.0</br>plec: 1.0</br>typ_bolu_klatka: 3.0</br>cisnienie_krwi_spoczynek: 128.0</br>cholesterol_we_krwi: 229.0</br>cukier_we_krwi: 0.0</br>wynik_ekg_spoczynek: 2.0</br>ilosc_uderzen_serca: 150.0</br>bol_klatka_wysilek: 0.0</br>przebieg_st_szczyt: 2.0</br>zwapnienia_miazdzycowe: 1.0</br>proba_ta: 7.0</br>_original_yhat_: 0.42</br>"
          ],
          [
           "</br>id: 30</br>prediction: 0.69</br>max_obnizka_st: 2.12</br></br>wiek: 57.0</br>plec: 1.0</br>typ_bolu_klatka: 3.0</br>cisnienie_krwi_spoczynek: 128.0</br>cholesterol_we_krwi: 229.0</br>cukier_we_krwi: 0.0</br>wynik_ekg_spoczynek: 2.0</br>ilosc_uderzen_serca: 150.0</br>bol_klatka_wysilek: 0.0</br>przebieg_st_szczyt: 2.0</br>zwapnienia_miazdzycowe: 1.0</br>proba_ta: 7.0</br>_original_yhat_: 0.42</br>"
          ],
          [
           "</br>id: 30</br>prediction: 0.69</br>max_obnizka_st: 2.16</br></br>wiek: 57.0</br>plec: 1.0</br>typ_bolu_klatka: 3.0</br>cisnienie_krwi_spoczynek: 128.0</br>cholesterol_we_krwi: 229.0</br>cukier_we_krwi: 0.0</br>wynik_ekg_spoczynek: 2.0</br>ilosc_uderzen_serca: 150.0</br>bol_klatka_wysilek: 0.0</br>przebieg_st_szczyt: 2.0</br>zwapnienia_miazdzycowe: 1.0</br>proba_ta: 7.0</br>_original_yhat_: 0.42</br>"
          ],
          [
           "</br>id: 30</br>prediction: 0.7</br>max_obnizka_st: 2.2</br></br>wiek: 57.0</br>plec: 1.0</br>typ_bolu_klatka: 3.0</br>cisnienie_krwi_spoczynek: 128.0</br>cholesterol_we_krwi: 229.0</br>cukier_we_krwi: 0.0</br>wynik_ekg_spoczynek: 2.0</br>ilosc_uderzen_serca: 150.0</br>bol_klatka_wysilek: 0.0</br>przebieg_st_szczyt: 2.0</br>zwapnienia_miazdzycowe: 1.0</br>proba_ta: 7.0</br>_original_yhat_: 0.42</br>"
          ],
          [
           "</br>id: 30</br>prediction: 0.7</br>max_obnizka_st: 2.24</br></br>wiek: 57.0</br>plec: 1.0</br>typ_bolu_klatka: 3.0</br>cisnienie_krwi_spoczynek: 128.0</br>cholesterol_we_krwi: 229.0</br>cukier_we_krwi: 0.0</br>wynik_ekg_spoczynek: 2.0</br>ilosc_uderzen_serca: 150.0</br>bol_klatka_wysilek: 0.0</br>przebieg_st_szczyt: 2.0</br>zwapnienia_miazdzycowe: 1.0</br>proba_ta: 7.0</br>_original_yhat_: 0.42</br>"
          ],
          [
           "</br>id: 30</br>prediction: 0.69</br>max_obnizka_st: 2.2800000000000002</br></br>wiek: 57.0</br>plec: 1.0</br>typ_bolu_klatka: 3.0</br>cisnienie_krwi_spoczynek: 128.0</br>cholesterol_we_krwi: 229.0</br>cukier_we_krwi: 0.0</br>wynik_ekg_spoczynek: 2.0</br>ilosc_uderzen_serca: 150.0</br>bol_klatka_wysilek: 0.0</br>przebieg_st_szczyt: 2.0</br>zwapnienia_miazdzycowe: 1.0</br>proba_ta: 7.0</br>_original_yhat_: 0.42</br>"
          ],
          [
           "</br>id: 30</br>prediction: 0.69</br>max_obnizka_st: 2.32</br></br>wiek: 57.0</br>plec: 1.0</br>typ_bolu_klatka: 3.0</br>cisnienie_krwi_spoczynek: 128.0</br>cholesterol_we_krwi: 229.0</br>cukier_we_krwi: 0.0</br>wynik_ekg_spoczynek: 2.0</br>ilosc_uderzen_serca: 150.0</br>bol_klatka_wysilek: 0.0</br>przebieg_st_szczyt: 2.0</br>zwapnienia_miazdzycowe: 1.0</br>proba_ta: 7.0</br>_original_yhat_: 0.42</br>"
          ],
          [
           "</br>id: 30</br>prediction: 0.69</br>max_obnizka_st: 2.36</br></br>wiek: 57.0</br>plec: 1.0</br>typ_bolu_klatka: 3.0</br>cisnienie_krwi_spoczynek: 128.0</br>cholesterol_we_krwi: 229.0</br>cukier_we_krwi: 0.0</br>wynik_ekg_spoczynek: 2.0</br>ilosc_uderzen_serca: 150.0</br>bol_klatka_wysilek: 0.0</br>przebieg_st_szczyt: 2.0</br>zwapnienia_miazdzycowe: 1.0</br>proba_ta: 7.0</br>_original_yhat_: 0.42</br>"
          ],
          [
           "</br>id: 30</br>prediction: 0.69</br>max_obnizka_st: 2.4</br></br>wiek: 57.0</br>plec: 1.0</br>typ_bolu_klatka: 3.0</br>cisnienie_krwi_spoczynek: 128.0</br>cholesterol_we_krwi: 229.0</br>cukier_we_krwi: 0.0</br>wynik_ekg_spoczynek: 2.0</br>ilosc_uderzen_serca: 150.0</br>bol_klatka_wysilek: 0.0</br>przebieg_st_szczyt: 2.0</br>zwapnienia_miazdzycowe: 1.0</br>proba_ta: 7.0</br>_original_yhat_: 0.42</br>"
          ],
          [
           "</br>id: 30</br>prediction: 0.69</br>max_obnizka_st: 2.44</br></br>wiek: 57.0</br>plec: 1.0</br>typ_bolu_klatka: 3.0</br>cisnienie_krwi_spoczynek: 128.0</br>cholesterol_we_krwi: 229.0</br>cukier_we_krwi: 0.0</br>wynik_ekg_spoczynek: 2.0</br>ilosc_uderzen_serca: 150.0</br>bol_klatka_wysilek: 0.0</br>przebieg_st_szczyt: 2.0</br>zwapnienia_miazdzycowe: 1.0</br>proba_ta: 7.0</br>_original_yhat_: 0.42</br>"
          ],
          [
           "</br>id: 30</br>prediction: 0.73</br>max_obnizka_st: 2.48</br></br>wiek: 57.0</br>plec: 1.0</br>typ_bolu_klatka: 3.0</br>cisnienie_krwi_spoczynek: 128.0</br>cholesterol_we_krwi: 229.0</br>cukier_we_krwi: 0.0</br>wynik_ekg_spoczynek: 2.0</br>ilosc_uderzen_serca: 150.0</br>bol_klatka_wysilek: 0.0</br>przebieg_st_szczyt: 2.0</br>zwapnienia_miazdzycowe: 1.0</br>proba_ta: 7.0</br>_original_yhat_: 0.42</br>"
          ],
          [
           "</br>id: 30</br>prediction: 0.74</br>max_obnizka_st: 2.52</br></br>wiek: 57.0</br>plec: 1.0</br>typ_bolu_klatka: 3.0</br>cisnienie_krwi_spoczynek: 128.0</br>cholesterol_we_krwi: 229.0</br>cukier_we_krwi: 0.0</br>wynik_ekg_spoczynek: 2.0</br>ilosc_uderzen_serca: 150.0</br>bol_klatka_wysilek: 0.0</br>przebieg_st_szczyt: 2.0</br>zwapnienia_miazdzycowe: 1.0</br>proba_ta: 7.0</br>_original_yhat_: 0.42</br>"
          ],
          [
           "</br>id: 30</br>prediction: 0.74</br>max_obnizka_st: 2.56</br></br>wiek: 57.0</br>plec: 1.0</br>typ_bolu_klatka: 3.0</br>cisnienie_krwi_spoczynek: 128.0</br>cholesterol_we_krwi: 229.0</br>cukier_we_krwi: 0.0</br>wynik_ekg_spoczynek: 2.0</br>ilosc_uderzen_serca: 150.0</br>bol_klatka_wysilek: 0.0</br>przebieg_st_szczyt: 2.0</br>zwapnienia_miazdzycowe: 1.0</br>proba_ta: 7.0</br>_original_yhat_: 0.42</br>"
          ],
          [
           "</br>id: 30</br>prediction: 0.74</br>max_obnizka_st: 2.6</br></br>wiek: 57.0</br>plec: 1.0</br>typ_bolu_klatka: 3.0</br>cisnienie_krwi_spoczynek: 128.0</br>cholesterol_we_krwi: 229.0</br>cukier_we_krwi: 0.0</br>wynik_ekg_spoczynek: 2.0</br>ilosc_uderzen_serca: 150.0</br>bol_klatka_wysilek: 0.0</br>przebieg_st_szczyt: 2.0</br>zwapnienia_miazdzycowe: 1.0</br>proba_ta: 7.0</br>_original_yhat_: 0.42</br>"
          ],
          [
           "</br>id: 30</br>prediction: 0.74</br>max_obnizka_st: 2.64</br></br>wiek: 57.0</br>plec: 1.0</br>typ_bolu_klatka: 3.0</br>cisnienie_krwi_spoczynek: 128.0</br>cholesterol_we_krwi: 229.0</br>cukier_we_krwi: 0.0</br>wynik_ekg_spoczynek: 2.0</br>ilosc_uderzen_serca: 150.0</br>bol_klatka_wysilek: 0.0</br>przebieg_st_szczyt: 2.0</br>zwapnienia_miazdzycowe: 1.0</br>proba_ta: 7.0</br>_original_yhat_: 0.42</br>"
          ],
          [
           "</br>id: 30</br>prediction: 0.74</br>max_obnizka_st: 2.68</br></br>wiek: 57.0</br>plec: 1.0</br>typ_bolu_klatka: 3.0</br>cisnienie_krwi_spoczynek: 128.0</br>cholesterol_we_krwi: 229.0</br>cukier_we_krwi: 0.0</br>wynik_ekg_spoczynek: 2.0</br>ilosc_uderzen_serca: 150.0</br>bol_klatka_wysilek: 0.0</br>przebieg_st_szczyt: 2.0</br>zwapnienia_miazdzycowe: 1.0</br>proba_ta: 7.0</br>_original_yhat_: 0.42</br>"
          ],
          [
           "</br>id: 30</br>prediction: 0.75</br>max_obnizka_st: 2.72</br></br>wiek: 57.0</br>plec: 1.0</br>typ_bolu_klatka: 3.0</br>cisnienie_krwi_spoczynek: 128.0</br>cholesterol_we_krwi: 229.0</br>cukier_we_krwi: 0.0</br>wynik_ekg_spoczynek: 2.0</br>ilosc_uderzen_serca: 150.0</br>bol_klatka_wysilek: 0.0</br>przebieg_st_szczyt: 2.0</br>zwapnienia_miazdzycowe: 1.0</br>proba_ta: 7.0</br>_original_yhat_: 0.42</br>"
          ],
          [
           "</br>id: 30</br>prediction: 0.75</br>max_obnizka_st: 2.7600000000000002</br></br>wiek: 57.0</br>plec: 1.0</br>typ_bolu_klatka: 3.0</br>cisnienie_krwi_spoczynek: 128.0</br>cholesterol_we_krwi: 229.0</br>cukier_we_krwi: 0.0</br>wynik_ekg_spoczynek: 2.0</br>ilosc_uderzen_serca: 150.0</br>bol_klatka_wysilek: 0.0</br>przebieg_st_szczyt: 2.0</br>zwapnienia_miazdzycowe: 1.0</br>proba_ta: 7.0</br>_original_yhat_: 0.42</br>"
          ],
          [
           "</br>id: 30</br>prediction: 0.75</br>max_obnizka_st: 2.8000000000000003</br></br>wiek: 57.0</br>plec: 1.0</br>typ_bolu_klatka: 3.0</br>cisnienie_krwi_spoczynek: 128.0</br>cholesterol_we_krwi: 229.0</br>cukier_we_krwi: 0.0</br>wynik_ekg_spoczynek: 2.0</br>ilosc_uderzen_serca: 150.0</br>bol_klatka_wysilek: 0.0</br>przebieg_st_szczyt: 2.0</br>zwapnienia_miazdzycowe: 1.0</br>proba_ta: 7.0</br>_original_yhat_: 0.42</br>"
          ],
          [
           "</br>id: 30</br>prediction: 0.75</br>max_obnizka_st: 2.84</br></br>wiek: 57.0</br>plec: 1.0</br>typ_bolu_klatka: 3.0</br>cisnienie_krwi_spoczynek: 128.0</br>cholesterol_we_krwi: 229.0</br>cukier_we_krwi: 0.0</br>wynik_ekg_spoczynek: 2.0</br>ilosc_uderzen_serca: 150.0</br>bol_klatka_wysilek: 0.0</br>przebieg_st_szczyt: 2.0</br>zwapnienia_miazdzycowe: 1.0</br>proba_ta: 7.0</br>_original_yhat_: 0.42</br>"
          ],
          [
           "</br>id: 30</br>prediction: 0.75</br>max_obnizka_st: 2.88</br></br>wiek: 57.0</br>plec: 1.0</br>typ_bolu_klatka: 3.0</br>cisnienie_krwi_spoczynek: 128.0</br>cholesterol_we_krwi: 229.0</br>cukier_we_krwi: 0.0</br>wynik_ekg_spoczynek: 2.0</br>ilosc_uderzen_serca: 150.0</br>bol_klatka_wysilek: 0.0</br>przebieg_st_szczyt: 2.0</br>zwapnienia_miazdzycowe: 1.0</br>proba_ta: 7.0</br>_original_yhat_: 0.42</br>"
          ],
          [
           "</br>id: 30</br>prediction: 0.75</br>max_obnizka_st: 2.92</br></br>wiek: 57.0</br>plec: 1.0</br>typ_bolu_klatka: 3.0</br>cisnienie_krwi_spoczynek: 128.0</br>cholesterol_we_krwi: 229.0</br>cukier_we_krwi: 0.0</br>wynik_ekg_spoczynek: 2.0</br>ilosc_uderzen_serca: 150.0</br>bol_klatka_wysilek: 0.0</br>przebieg_st_szczyt: 2.0</br>zwapnienia_miazdzycowe: 1.0</br>proba_ta: 7.0</br>_original_yhat_: 0.42</br>"
          ],
          [
           "</br>id: 30</br>prediction: 0.75</br>max_obnizka_st: 2.96</br></br>wiek: 57.0</br>plec: 1.0</br>typ_bolu_klatka: 3.0</br>cisnienie_krwi_spoczynek: 128.0</br>cholesterol_we_krwi: 229.0</br>cukier_we_krwi: 0.0</br>wynik_ekg_spoczynek: 2.0</br>ilosc_uderzen_serca: 150.0</br>bol_klatka_wysilek: 0.0</br>przebieg_st_szczyt: 2.0</br>zwapnienia_miazdzycowe: 1.0</br>proba_ta: 7.0</br>_original_yhat_: 0.42</br>"
          ],
          [
           "</br>id: 30</br>prediction: 0.75</br>max_obnizka_st: 3.0</br></br>wiek: 57.0</br>plec: 1.0</br>typ_bolu_klatka: 3.0</br>cisnienie_krwi_spoczynek: 128.0</br>cholesterol_we_krwi: 229.0</br>cukier_we_krwi: 0.0</br>wynik_ekg_spoczynek: 2.0</br>ilosc_uderzen_serca: 150.0</br>bol_klatka_wysilek: 0.0</br>przebieg_st_szczyt: 2.0</br>zwapnienia_miazdzycowe: 1.0</br>proba_ta: 7.0</br>_original_yhat_: 0.42</br>"
          ],
          [
           "</br>id: 30</br>prediction: 0.75</br>max_obnizka_st: 3.04</br></br>wiek: 57.0</br>plec: 1.0</br>typ_bolu_klatka: 3.0</br>cisnienie_krwi_spoczynek: 128.0</br>cholesterol_we_krwi: 229.0</br>cukier_we_krwi: 0.0</br>wynik_ekg_spoczynek: 2.0</br>ilosc_uderzen_serca: 150.0</br>bol_klatka_wysilek: 0.0</br>przebieg_st_szczyt: 2.0</br>zwapnienia_miazdzycowe: 1.0</br>proba_ta: 7.0</br>_original_yhat_: 0.42</br>"
          ],
          [
           "</br>id: 30</br>prediction: 0.76</br>max_obnizka_st: 3.08</br></br>wiek: 57.0</br>plec: 1.0</br>typ_bolu_klatka: 3.0</br>cisnienie_krwi_spoczynek: 128.0</br>cholesterol_we_krwi: 229.0</br>cukier_we_krwi: 0.0</br>wynik_ekg_spoczynek: 2.0</br>ilosc_uderzen_serca: 150.0</br>bol_klatka_wysilek: 0.0</br>przebieg_st_szczyt: 2.0</br>zwapnienia_miazdzycowe: 1.0</br>proba_ta: 7.0</br>_original_yhat_: 0.42</br>"
          ],
          [
           "</br>id: 30</br>prediction: 0.76</br>max_obnizka_st: 3.12</br></br>wiek: 57.0</br>plec: 1.0</br>typ_bolu_klatka: 3.0</br>cisnienie_krwi_spoczynek: 128.0</br>cholesterol_we_krwi: 229.0</br>cukier_we_krwi: 0.0</br>wynik_ekg_spoczynek: 2.0</br>ilosc_uderzen_serca: 150.0</br>bol_klatka_wysilek: 0.0</br>przebieg_st_szczyt: 2.0</br>zwapnienia_miazdzycowe: 1.0</br>proba_ta: 7.0</br>_original_yhat_: 0.42</br>"
          ],
          [
           "</br>id: 30</br>prediction: 0.76</br>max_obnizka_st: 3.16</br></br>wiek: 57.0</br>plec: 1.0</br>typ_bolu_klatka: 3.0</br>cisnienie_krwi_spoczynek: 128.0</br>cholesterol_we_krwi: 229.0</br>cukier_we_krwi: 0.0</br>wynik_ekg_spoczynek: 2.0</br>ilosc_uderzen_serca: 150.0</br>bol_klatka_wysilek: 0.0</br>przebieg_st_szczyt: 2.0</br>zwapnienia_miazdzycowe: 1.0</br>proba_ta: 7.0</br>_original_yhat_: 0.42</br>"
          ],
          [
           "</br>id: 30</br>prediction: 0.75</br>max_obnizka_st: 3.2</br></br>wiek: 57.0</br>plec: 1.0</br>typ_bolu_klatka: 3.0</br>cisnienie_krwi_spoczynek: 128.0</br>cholesterol_we_krwi: 229.0</br>cukier_we_krwi: 0.0</br>wynik_ekg_spoczynek: 2.0</br>ilosc_uderzen_serca: 150.0</br>bol_klatka_wysilek: 0.0</br>przebieg_st_szczyt: 2.0</br>zwapnienia_miazdzycowe: 1.0</br>proba_ta: 7.0</br>_original_yhat_: 0.42</br>"
          ],
          [
           "</br>id: 30</br>prediction: 0.75</br>max_obnizka_st: 3.24</br></br>wiek: 57.0</br>plec: 1.0</br>typ_bolu_klatka: 3.0</br>cisnienie_krwi_spoczynek: 128.0</br>cholesterol_we_krwi: 229.0</br>cukier_we_krwi: 0.0</br>wynik_ekg_spoczynek: 2.0</br>ilosc_uderzen_serca: 150.0</br>bol_klatka_wysilek: 0.0</br>przebieg_st_szczyt: 2.0</br>zwapnienia_miazdzycowe: 1.0</br>proba_ta: 7.0</br>_original_yhat_: 0.42</br>"
          ],
          [
           "</br>id: 30</br>prediction: 0.75</br>max_obnizka_st: 3.2800000000000002</br></br>wiek: 57.0</br>plec: 1.0</br>typ_bolu_klatka: 3.0</br>cisnienie_krwi_spoczynek: 128.0</br>cholesterol_we_krwi: 229.0</br>cukier_we_krwi: 0.0</br>wynik_ekg_spoczynek: 2.0</br>ilosc_uderzen_serca: 150.0</br>bol_klatka_wysilek: 0.0</br>przebieg_st_szczyt: 2.0</br>zwapnienia_miazdzycowe: 1.0</br>proba_ta: 7.0</br>_original_yhat_: 0.42</br>"
          ],
          [
           "</br>id: 30</br>prediction: 0.75</br>max_obnizka_st: 3.3200000000000003</br></br>wiek: 57.0</br>plec: 1.0</br>typ_bolu_klatka: 3.0</br>cisnienie_krwi_spoczynek: 128.0</br>cholesterol_we_krwi: 229.0</br>cukier_we_krwi: 0.0</br>wynik_ekg_spoczynek: 2.0</br>ilosc_uderzen_serca: 150.0</br>bol_klatka_wysilek: 0.0</br>przebieg_st_szczyt: 2.0</br>zwapnienia_miazdzycowe: 1.0</br>proba_ta: 7.0</br>_original_yhat_: 0.42</br>"
          ],
          [
           "</br>id: 30</br>prediction: 0.75</br>max_obnizka_st: 3.36</br></br>wiek: 57.0</br>plec: 1.0</br>typ_bolu_klatka: 3.0</br>cisnienie_krwi_spoczynek: 128.0</br>cholesterol_we_krwi: 229.0</br>cukier_we_krwi: 0.0</br>wynik_ekg_spoczynek: 2.0</br>ilosc_uderzen_serca: 150.0</br>bol_klatka_wysilek: 0.0</br>przebieg_st_szczyt: 2.0</br>zwapnienia_miazdzycowe: 1.0</br>proba_ta: 7.0</br>_original_yhat_: 0.42</br>"
          ],
          [
           "</br>id: 30</br>prediction: 0.75</br>max_obnizka_st: 3.4</br></br>wiek: 57.0</br>plec: 1.0</br>typ_bolu_klatka: 3.0</br>cisnienie_krwi_spoczynek: 128.0</br>cholesterol_we_krwi: 229.0</br>cukier_we_krwi: 0.0</br>wynik_ekg_spoczynek: 2.0</br>ilosc_uderzen_serca: 150.0</br>bol_klatka_wysilek: 0.0</br>przebieg_st_szczyt: 2.0</br>zwapnienia_miazdzycowe: 1.0</br>proba_ta: 7.0</br>_original_yhat_: 0.42</br>"
          ],
          [
           "</br>id: 30</br>prediction: 0.75</br>max_obnizka_st: 3.44</br></br>wiek: 57.0</br>plec: 1.0</br>typ_bolu_klatka: 3.0</br>cisnienie_krwi_spoczynek: 128.0</br>cholesterol_we_krwi: 229.0</br>cukier_we_krwi: 0.0</br>wynik_ekg_spoczynek: 2.0</br>ilosc_uderzen_serca: 150.0</br>bol_klatka_wysilek: 0.0</br>przebieg_st_szczyt: 2.0</br>zwapnienia_miazdzycowe: 1.0</br>proba_ta: 7.0</br>_original_yhat_: 0.42</br>"
          ],
          [
           "</br>id: 30</br>prediction: 0.75</br>max_obnizka_st: 3.48</br></br>wiek: 57.0</br>plec: 1.0</br>typ_bolu_klatka: 3.0</br>cisnienie_krwi_spoczynek: 128.0</br>cholesterol_we_krwi: 229.0</br>cukier_we_krwi: 0.0</br>wynik_ekg_spoczynek: 2.0</br>ilosc_uderzen_serca: 150.0</br>bol_klatka_wysilek: 0.0</br>przebieg_st_szczyt: 2.0</br>zwapnienia_miazdzycowe: 1.0</br>proba_ta: 7.0</br>_original_yhat_: 0.42</br>"
          ],
          [
           "</br>id: 30</br>prediction: 0.75</br>max_obnizka_st: 3.52</br></br>wiek: 57.0</br>plec: 1.0</br>typ_bolu_klatka: 3.0</br>cisnienie_krwi_spoczynek: 128.0</br>cholesterol_we_krwi: 229.0</br>cukier_we_krwi: 0.0</br>wynik_ekg_spoczynek: 2.0</br>ilosc_uderzen_serca: 150.0</br>bol_klatka_wysilek: 0.0</br>przebieg_st_szczyt: 2.0</br>zwapnienia_miazdzycowe: 1.0</br>proba_ta: 7.0</br>_original_yhat_: 0.42</br>"
          ],
          [
           "</br>id: 30</br>prediction: 0.75</br>max_obnizka_st: 3.56</br></br>wiek: 57.0</br>plec: 1.0</br>typ_bolu_klatka: 3.0</br>cisnienie_krwi_spoczynek: 128.0</br>cholesterol_we_krwi: 229.0</br>cukier_we_krwi: 0.0</br>wynik_ekg_spoczynek: 2.0</br>ilosc_uderzen_serca: 150.0</br>bol_klatka_wysilek: 0.0</br>przebieg_st_szczyt: 2.0</br>zwapnienia_miazdzycowe: 1.0</br>proba_ta: 7.0</br>_original_yhat_: 0.42</br>"
          ],
          [
           "</br>id: 30</br>prediction: 0.75</br>max_obnizka_st: 3.6</br></br>wiek: 57.0</br>plec: 1.0</br>typ_bolu_klatka: 3.0</br>cisnienie_krwi_spoczynek: 128.0</br>cholesterol_we_krwi: 229.0</br>cukier_we_krwi: 0.0</br>wynik_ekg_spoczynek: 2.0</br>ilosc_uderzen_serca: 150.0</br>bol_klatka_wysilek: 0.0</br>przebieg_st_szczyt: 2.0</br>zwapnienia_miazdzycowe: 1.0</br>proba_ta: 7.0</br>_original_yhat_: 0.42</br>"
          ],
          [
           "</br>id: 30</br>prediction: 0.74</br>max_obnizka_st: 3.64</br></br>wiek: 57.0</br>plec: 1.0</br>typ_bolu_klatka: 3.0</br>cisnienie_krwi_spoczynek: 128.0</br>cholesterol_we_krwi: 229.0</br>cukier_we_krwi: 0.0</br>wynik_ekg_spoczynek: 2.0</br>ilosc_uderzen_serca: 150.0</br>bol_klatka_wysilek: 0.0</br>przebieg_st_szczyt: 2.0</br>zwapnienia_miazdzycowe: 1.0</br>proba_ta: 7.0</br>_original_yhat_: 0.42</br>"
          ],
          [
           "</br>id: 30</br>prediction: 0.73</br>max_obnizka_st: 3.68</br></br>wiek: 57.0</br>plec: 1.0</br>typ_bolu_klatka: 3.0</br>cisnienie_krwi_spoczynek: 128.0</br>cholesterol_we_krwi: 229.0</br>cukier_we_krwi: 0.0</br>wynik_ekg_spoczynek: 2.0</br>ilosc_uderzen_serca: 150.0</br>bol_klatka_wysilek: 0.0</br>przebieg_st_szczyt: 2.0</br>zwapnienia_miazdzycowe: 1.0</br>proba_ta: 7.0</br>_original_yhat_: 0.42</br>"
          ],
          [
           "</br>id: 30</br>prediction: 0.73</br>max_obnizka_st: 3.72</br></br>wiek: 57.0</br>plec: 1.0</br>typ_bolu_klatka: 3.0</br>cisnienie_krwi_spoczynek: 128.0</br>cholesterol_we_krwi: 229.0</br>cukier_we_krwi: 0.0</br>wynik_ekg_spoczynek: 2.0</br>ilosc_uderzen_serca: 150.0</br>bol_klatka_wysilek: 0.0</br>przebieg_st_szczyt: 2.0</br>zwapnienia_miazdzycowe: 1.0</br>proba_ta: 7.0</br>_original_yhat_: 0.42</br>"
          ],
          [
           "</br>id: 30</br>prediction: 0.73</br>max_obnizka_st: 3.7600000000000002</br></br>wiek: 57.0</br>plec: 1.0</br>typ_bolu_klatka: 3.0</br>cisnienie_krwi_spoczynek: 128.0</br>cholesterol_we_krwi: 229.0</br>cukier_we_krwi: 0.0</br>wynik_ekg_spoczynek: 2.0</br>ilosc_uderzen_serca: 150.0</br>bol_klatka_wysilek: 0.0</br>przebieg_st_szczyt: 2.0</br>zwapnienia_miazdzycowe: 1.0</br>proba_ta: 7.0</br>_original_yhat_: 0.42</br>"
          ],
          [
           "</br>id: 30</br>prediction: 0.73</br>max_obnizka_st: 3.8000000000000003</br></br>wiek: 57.0</br>plec: 1.0</br>typ_bolu_klatka: 3.0</br>cisnienie_krwi_spoczynek: 128.0</br>cholesterol_we_krwi: 229.0</br>cukier_we_krwi: 0.0</br>wynik_ekg_spoczynek: 2.0</br>ilosc_uderzen_serca: 150.0</br>bol_klatka_wysilek: 0.0</br>przebieg_st_szczyt: 2.0</br>zwapnienia_miazdzycowe: 1.0</br>proba_ta: 7.0</br>_original_yhat_: 0.42</br>"
          ],
          [
           "</br>id: 30</br>prediction: 0.73</br>max_obnizka_st: 3.84</br></br>wiek: 57.0</br>plec: 1.0</br>typ_bolu_klatka: 3.0</br>cisnienie_krwi_spoczynek: 128.0</br>cholesterol_we_krwi: 229.0</br>cukier_we_krwi: 0.0</br>wynik_ekg_spoczynek: 2.0</br>ilosc_uderzen_serca: 150.0</br>bol_klatka_wysilek: 0.0</br>przebieg_st_szczyt: 2.0</br>zwapnienia_miazdzycowe: 1.0</br>proba_ta: 7.0</br>_original_yhat_: 0.42</br>"
          ],
          [
           "</br>id: 30</br>prediction: 0.73</br>max_obnizka_st: 3.88</br></br>wiek: 57.0</br>plec: 1.0</br>typ_bolu_klatka: 3.0</br>cisnienie_krwi_spoczynek: 128.0</br>cholesterol_we_krwi: 229.0</br>cukier_we_krwi: 0.0</br>wynik_ekg_spoczynek: 2.0</br>ilosc_uderzen_serca: 150.0</br>bol_klatka_wysilek: 0.0</br>przebieg_st_szczyt: 2.0</br>zwapnienia_miazdzycowe: 1.0</br>proba_ta: 7.0</br>_original_yhat_: 0.42</br>"
          ],
          [
           "</br>id: 30</br>prediction: 0.72</br>max_obnizka_st: 3.92</br></br>wiek: 57.0</br>plec: 1.0</br>typ_bolu_klatka: 3.0</br>cisnienie_krwi_spoczynek: 128.0</br>cholesterol_we_krwi: 229.0</br>cukier_we_krwi: 0.0</br>wynik_ekg_spoczynek: 2.0</br>ilosc_uderzen_serca: 150.0</br>bol_klatka_wysilek: 0.0</br>przebieg_st_szczyt: 2.0</br>zwapnienia_miazdzycowe: 1.0</br>proba_ta: 7.0</br>_original_yhat_: 0.42</br>"
          ],
          [
           "</br>id: 30</br>prediction: 0.72</br>max_obnizka_st: 3.96</br></br>wiek: 57.0</br>plec: 1.0</br>typ_bolu_klatka: 3.0</br>cisnienie_krwi_spoczynek: 128.0</br>cholesterol_we_krwi: 229.0</br>cukier_we_krwi: 0.0</br>wynik_ekg_spoczynek: 2.0</br>ilosc_uderzen_serca: 150.0</br>bol_klatka_wysilek: 0.0</br>przebieg_st_szczyt: 2.0</br>zwapnienia_miazdzycowe: 1.0</br>proba_ta: 7.0</br>_original_yhat_: 0.42</br>"
          ],
          [
           "</br>id: 30</br>prediction: 0.71</br>max_obnizka_st: 4.0</br></br>wiek: 57.0</br>plec: 1.0</br>typ_bolu_klatka: 3.0</br>cisnienie_krwi_spoczynek: 128.0</br>cholesterol_we_krwi: 229.0</br>cukier_we_krwi: 0.0</br>wynik_ekg_spoczynek: 2.0</br>ilosc_uderzen_serca: 150.0</br>bol_klatka_wysilek: 0.0</br>przebieg_st_szczyt: 2.0</br>zwapnienia_miazdzycowe: 1.0</br>proba_ta: 7.0</br>_original_yhat_: 0.42</br>"
          ]
         ],
         "hovertemplate": "%{customdata[0]}<extra></extra>",
         "legendgroup": "Model RandomForest dla danych serca",
         "line": {
          "color": "#46bac2",
          "dash": "solid",
          "width": 2
         },
         "marker": {
          "symbol": "circle"
         },
         "mode": "lines",
         "name": "Model RandomForest dla danych serca",
         "opacity": 1,
         "showlegend": false,
         "type": "scattergl",
         "x": [
          0,
          0.04,
          0.08,
          0.12,
          0.16,
          0.2,
          0.24,
          0.28,
          0.32,
          0.36,
          0.4,
          0.44,
          0.48,
          0.52,
          0.56,
          0.6,
          0.64,
          0.68,
          0.72,
          0.76,
          0.8,
          0.84,
          0.88,
          0.92,
          0.96,
          1,
          1.04,
          1.08,
          1.12,
          1.16,
          1.2,
          1.24,
          1.28,
          1.32,
          1.36,
          1.4000000000000001,
          1.44,
          1.48,
          1.52,
          1.56,
          1.6,
          1.6400000000000001,
          1.68,
          1.72,
          1.76,
          1.8,
          1.84,
          1.8800000000000001,
          1.92,
          1.96,
          2,
          2.04,
          2.08,
          2.12,
          2.16,
          2.2,
          2.24,
          2.2800000000000002,
          2.32,
          2.36,
          2.4,
          2.44,
          2.48,
          2.52,
          2.56,
          2.6,
          2.64,
          2.68,
          2.72,
          2.7600000000000002,
          2.8000000000000003,
          2.84,
          2.88,
          2.92,
          2.96,
          3,
          3.04,
          3.08,
          3.12,
          3.16,
          3.2,
          3.24,
          3.2800000000000002,
          3.3200000000000003,
          3.36,
          3.4,
          3.44,
          3.48,
          3.52,
          3.56,
          3.6,
          3.64,
          3.68,
          3.72,
          3.7600000000000002,
          3.8000000000000003,
          3.84,
          3.88,
          3.92,
          3.96,
          4
         ],
         "xaxis": "x6",
         "y": [
          0.41,
          0.41,
          0.41,
          0.42,
          0.43,
          0.43,
          0.43,
          0.43,
          0.43,
          0.42,
          0.42,
          0.42,
          0.44,
          0.44,
          0.45,
          0.46,
          0.46,
          0.45,
          0.46,
          0.47,
          0.47,
          0.49,
          0.53,
          0.53,
          0.53,
          0.53,
          0.53,
          0.53,
          0.53,
          0.53,
          0.53,
          0.53,
          0.53,
          0.54,
          0.53,
          0.53,
          0.53,
          0.54,
          0.54,
          0.55,
          0.54,
          0.54,
          0.54,
          0.56,
          0.56,
          0.56,
          0.56,
          0.6,
          0.66,
          0.66,
          0.66,
          0.69,
          0.69,
          0.69,
          0.69,
          0.7,
          0.7,
          0.69,
          0.69,
          0.69,
          0.69,
          0.69,
          0.73,
          0.74,
          0.74,
          0.74,
          0.74,
          0.74,
          0.75,
          0.75,
          0.75,
          0.75,
          0.75,
          0.75,
          0.75,
          0.75,
          0.75,
          0.76,
          0.76,
          0.76,
          0.75,
          0.75,
          0.75,
          0.75,
          0.75,
          0.75,
          0.75,
          0.75,
          0.75,
          0.75,
          0.75,
          0.74,
          0.73,
          0.73,
          0.73,
          0.73,
          0.73,
          0.73,
          0.72,
          0.72,
          0.71
         ],
         "yaxis": "y6"
        },
        {
         "customdata": [
          [
           "</br>id: 30</br>prediction: 0.38</br>przebieg_st_szczyt: 1.0</br></br>wiek: 57.0</br>plec: 1.0</br>typ_bolu_klatka: 3.0</br>cisnienie_krwi_spoczynek: 128.0</br>cholesterol_we_krwi: 229.0</br>cukier_we_krwi: 0.0</br>wynik_ekg_spoczynek: 2.0</br>ilosc_uderzen_serca: 150.0</br>bol_klatka_wysilek: 0.0</br>max_obnizka_st: 0.4</br>zwapnienia_miazdzycowe: 1.0</br>proba_ta: 7.0</br>_original_yhat_: 0.42</br>"
          ],
          [
           "</br>id: 30</br>prediction: 0.38</br>przebieg_st_szczyt: 1.02</br></br>wiek: 57.0</br>plec: 1.0</br>typ_bolu_klatka: 3.0</br>cisnienie_krwi_spoczynek: 128.0</br>cholesterol_we_krwi: 229.0</br>cukier_we_krwi: 0.0</br>wynik_ekg_spoczynek: 2.0</br>ilosc_uderzen_serca: 150.0</br>bol_klatka_wysilek: 0.0</br>max_obnizka_st: 0.4</br>zwapnienia_miazdzycowe: 1.0</br>proba_ta: 7.0</br>_original_yhat_: 0.42</br>"
          ],
          [
           "</br>id: 30</br>prediction: 0.38</br>przebieg_st_szczyt: 1.04</br></br>wiek: 57.0</br>plec: 1.0</br>typ_bolu_klatka: 3.0</br>cisnienie_krwi_spoczynek: 128.0</br>cholesterol_we_krwi: 229.0</br>cukier_we_krwi: 0.0</br>wynik_ekg_spoczynek: 2.0</br>ilosc_uderzen_serca: 150.0</br>bol_klatka_wysilek: 0.0</br>max_obnizka_st: 0.4</br>zwapnienia_miazdzycowe: 1.0</br>proba_ta: 7.0</br>_original_yhat_: 0.42</br>"
          ],
          [
           "</br>id: 30</br>prediction: 0.38</br>przebieg_st_szczyt: 1.06</br></br>wiek: 57.0</br>plec: 1.0</br>typ_bolu_klatka: 3.0</br>cisnienie_krwi_spoczynek: 128.0</br>cholesterol_we_krwi: 229.0</br>cukier_we_krwi: 0.0</br>wynik_ekg_spoczynek: 2.0</br>ilosc_uderzen_serca: 150.0</br>bol_klatka_wysilek: 0.0</br>max_obnizka_st: 0.4</br>zwapnienia_miazdzycowe: 1.0</br>proba_ta: 7.0</br>_original_yhat_: 0.42</br>"
          ],
          [
           "</br>id: 30</br>prediction: 0.38</br>przebieg_st_szczyt: 1.08</br></br>wiek: 57.0</br>plec: 1.0</br>typ_bolu_klatka: 3.0</br>cisnienie_krwi_spoczynek: 128.0</br>cholesterol_we_krwi: 229.0</br>cukier_we_krwi: 0.0</br>wynik_ekg_spoczynek: 2.0</br>ilosc_uderzen_serca: 150.0</br>bol_klatka_wysilek: 0.0</br>max_obnizka_st: 0.4</br>zwapnienia_miazdzycowe: 1.0</br>proba_ta: 7.0</br>_original_yhat_: 0.42</br>"
          ],
          [
           "</br>id: 30</br>prediction: 0.38</br>przebieg_st_szczyt: 1.1</br></br>wiek: 57.0</br>plec: 1.0</br>typ_bolu_klatka: 3.0</br>cisnienie_krwi_spoczynek: 128.0</br>cholesterol_we_krwi: 229.0</br>cukier_we_krwi: 0.0</br>wynik_ekg_spoczynek: 2.0</br>ilosc_uderzen_serca: 150.0</br>bol_klatka_wysilek: 0.0</br>max_obnizka_st: 0.4</br>zwapnienia_miazdzycowe: 1.0</br>proba_ta: 7.0</br>_original_yhat_: 0.42</br>"
          ],
          [
           "</br>id: 30</br>prediction: 0.38</br>przebieg_st_szczyt: 1.12</br></br>wiek: 57.0</br>plec: 1.0</br>typ_bolu_klatka: 3.0</br>cisnienie_krwi_spoczynek: 128.0</br>cholesterol_we_krwi: 229.0</br>cukier_we_krwi: 0.0</br>wynik_ekg_spoczynek: 2.0</br>ilosc_uderzen_serca: 150.0</br>bol_klatka_wysilek: 0.0</br>max_obnizka_st: 0.4</br>zwapnienia_miazdzycowe: 1.0</br>proba_ta: 7.0</br>_original_yhat_: 0.42</br>"
          ],
          [
           "</br>id: 30</br>prediction: 0.38</br>przebieg_st_szczyt: 1.1400000000000001</br></br>wiek: 57.0</br>plec: 1.0</br>typ_bolu_klatka: 3.0</br>cisnienie_krwi_spoczynek: 128.0</br>cholesterol_we_krwi: 229.0</br>cukier_we_krwi: 0.0</br>wynik_ekg_spoczynek: 2.0</br>ilosc_uderzen_serca: 150.0</br>bol_klatka_wysilek: 0.0</br>max_obnizka_st: 0.4</br>zwapnienia_miazdzycowe: 1.0</br>proba_ta: 7.0</br>_original_yhat_: 0.42</br>"
          ],
          [
           "</br>id: 30</br>prediction: 0.38</br>przebieg_st_szczyt: 1.16</br></br>wiek: 57.0</br>plec: 1.0</br>typ_bolu_klatka: 3.0</br>cisnienie_krwi_spoczynek: 128.0</br>cholesterol_we_krwi: 229.0</br>cukier_we_krwi: 0.0</br>wynik_ekg_spoczynek: 2.0</br>ilosc_uderzen_serca: 150.0</br>bol_klatka_wysilek: 0.0</br>max_obnizka_st: 0.4</br>zwapnienia_miazdzycowe: 1.0</br>proba_ta: 7.0</br>_original_yhat_: 0.42</br>"
          ],
          [
           "</br>id: 30</br>prediction: 0.38</br>przebieg_st_szczyt: 1.18</br></br>wiek: 57.0</br>plec: 1.0</br>typ_bolu_klatka: 3.0</br>cisnienie_krwi_spoczynek: 128.0</br>cholesterol_we_krwi: 229.0</br>cukier_we_krwi: 0.0</br>wynik_ekg_spoczynek: 2.0</br>ilosc_uderzen_serca: 150.0</br>bol_klatka_wysilek: 0.0</br>max_obnizka_st: 0.4</br>zwapnienia_miazdzycowe: 1.0</br>proba_ta: 7.0</br>_original_yhat_: 0.42</br>"
          ],
          [
           "</br>id: 30</br>prediction: 0.38</br>przebieg_st_szczyt: 1.2</br></br>wiek: 57.0</br>plec: 1.0</br>typ_bolu_klatka: 3.0</br>cisnienie_krwi_spoczynek: 128.0</br>cholesterol_we_krwi: 229.0</br>cukier_we_krwi: 0.0</br>wynik_ekg_spoczynek: 2.0</br>ilosc_uderzen_serca: 150.0</br>bol_klatka_wysilek: 0.0</br>max_obnizka_st: 0.4</br>zwapnienia_miazdzycowe: 1.0</br>proba_ta: 7.0</br>_original_yhat_: 0.42</br>"
          ],
          [
           "</br>id: 30</br>prediction: 0.38</br>przebieg_st_szczyt: 1.22</br></br>wiek: 57.0</br>plec: 1.0</br>typ_bolu_klatka: 3.0</br>cisnienie_krwi_spoczynek: 128.0</br>cholesterol_we_krwi: 229.0</br>cukier_we_krwi: 0.0</br>wynik_ekg_spoczynek: 2.0</br>ilosc_uderzen_serca: 150.0</br>bol_klatka_wysilek: 0.0</br>max_obnizka_st: 0.4</br>zwapnienia_miazdzycowe: 1.0</br>proba_ta: 7.0</br>_original_yhat_: 0.42</br>"
          ],
          [
           "</br>id: 30</br>prediction: 0.38</br>przebieg_st_szczyt: 1.24</br></br>wiek: 57.0</br>plec: 1.0</br>typ_bolu_klatka: 3.0</br>cisnienie_krwi_spoczynek: 128.0</br>cholesterol_we_krwi: 229.0</br>cukier_we_krwi: 0.0</br>wynik_ekg_spoczynek: 2.0</br>ilosc_uderzen_serca: 150.0</br>bol_klatka_wysilek: 0.0</br>max_obnizka_st: 0.4</br>zwapnienia_miazdzycowe: 1.0</br>proba_ta: 7.0</br>_original_yhat_: 0.42</br>"
          ],
          [
           "</br>id: 30</br>prediction: 0.38</br>przebieg_st_szczyt: 1.26</br></br>wiek: 57.0</br>plec: 1.0</br>typ_bolu_klatka: 3.0</br>cisnienie_krwi_spoczynek: 128.0</br>cholesterol_we_krwi: 229.0</br>cukier_we_krwi: 0.0</br>wynik_ekg_spoczynek: 2.0</br>ilosc_uderzen_serca: 150.0</br>bol_klatka_wysilek: 0.0</br>max_obnizka_st: 0.4</br>zwapnienia_miazdzycowe: 1.0</br>proba_ta: 7.0</br>_original_yhat_: 0.42</br>"
          ],
          [
           "</br>id: 30</br>prediction: 0.38</br>przebieg_st_szczyt: 1.28</br></br>wiek: 57.0</br>plec: 1.0</br>typ_bolu_klatka: 3.0</br>cisnienie_krwi_spoczynek: 128.0</br>cholesterol_we_krwi: 229.0</br>cukier_we_krwi: 0.0</br>wynik_ekg_spoczynek: 2.0</br>ilosc_uderzen_serca: 150.0</br>bol_klatka_wysilek: 0.0</br>max_obnizka_st: 0.4</br>zwapnienia_miazdzycowe: 1.0</br>proba_ta: 7.0</br>_original_yhat_: 0.42</br>"
          ],
          [
           "</br>id: 30</br>prediction: 0.38</br>przebieg_st_szczyt: 1.3</br></br>wiek: 57.0</br>plec: 1.0</br>typ_bolu_klatka: 3.0</br>cisnienie_krwi_spoczynek: 128.0</br>cholesterol_we_krwi: 229.0</br>cukier_we_krwi: 0.0</br>wynik_ekg_spoczynek: 2.0</br>ilosc_uderzen_serca: 150.0</br>bol_klatka_wysilek: 0.0</br>max_obnizka_st: 0.4</br>zwapnienia_miazdzycowe: 1.0</br>proba_ta: 7.0</br>_original_yhat_: 0.42</br>"
          ],
          [
           "</br>id: 30</br>prediction: 0.38</br>przebieg_st_szczyt: 1.32</br></br>wiek: 57.0</br>plec: 1.0</br>typ_bolu_klatka: 3.0</br>cisnienie_krwi_spoczynek: 128.0</br>cholesterol_we_krwi: 229.0</br>cukier_we_krwi: 0.0</br>wynik_ekg_spoczynek: 2.0</br>ilosc_uderzen_serca: 150.0</br>bol_klatka_wysilek: 0.0</br>max_obnizka_st: 0.4</br>zwapnienia_miazdzycowe: 1.0</br>proba_ta: 7.0</br>_original_yhat_: 0.42</br>"
          ],
          [
           "</br>id: 30</br>prediction: 0.38</br>przebieg_st_szczyt: 1.34</br></br>wiek: 57.0</br>plec: 1.0</br>typ_bolu_klatka: 3.0</br>cisnienie_krwi_spoczynek: 128.0</br>cholesterol_we_krwi: 229.0</br>cukier_we_krwi: 0.0</br>wynik_ekg_spoczynek: 2.0</br>ilosc_uderzen_serca: 150.0</br>bol_klatka_wysilek: 0.0</br>max_obnizka_st: 0.4</br>zwapnienia_miazdzycowe: 1.0</br>proba_ta: 7.0</br>_original_yhat_: 0.42</br>"
          ],
          [
           "</br>id: 30</br>prediction: 0.38</br>przebieg_st_szczyt: 1.3599999999999999</br></br>wiek: 57.0</br>plec: 1.0</br>typ_bolu_klatka: 3.0</br>cisnienie_krwi_spoczynek: 128.0</br>cholesterol_we_krwi: 229.0</br>cukier_we_krwi: 0.0</br>wynik_ekg_spoczynek: 2.0</br>ilosc_uderzen_serca: 150.0</br>bol_klatka_wysilek: 0.0</br>max_obnizka_st: 0.4</br>zwapnienia_miazdzycowe: 1.0</br>proba_ta: 7.0</br>_original_yhat_: 0.42</br>"
          ],
          [
           "</br>id: 30</br>prediction: 0.38</br>przebieg_st_szczyt: 1.38</br></br>wiek: 57.0</br>plec: 1.0</br>typ_bolu_klatka: 3.0</br>cisnienie_krwi_spoczynek: 128.0</br>cholesterol_we_krwi: 229.0</br>cukier_we_krwi: 0.0</br>wynik_ekg_spoczynek: 2.0</br>ilosc_uderzen_serca: 150.0</br>bol_klatka_wysilek: 0.0</br>max_obnizka_st: 0.4</br>zwapnienia_miazdzycowe: 1.0</br>proba_ta: 7.0</br>_original_yhat_: 0.42</br>"
          ],
          [
           "</br>id: 30</br>prediction: 0.38</br>przebieg_st_szczyt: 1.4</br></br>wiek: 57.0</br>plec: 1.0</br>typ_bolu_klatka: 3.0</br>cisnienie_krwi_spoczynek: 128.0</br>cholesterol_we_krwi: 229.0</br>cukier_we_krwi: 0.0</br>wynik_ekg_spoczynek: 2.0</br>ilosc_uderzen_serca: 150.0</br>bol_klatka_wysilek: 0.0</br>max_obnizka_st: 0.4</br>zwapnienia_miazdzycowe: 1.0</br>proba_ta: 7.0</br>_original_yhat_: 0.42</br>"
          ],
          [
           "</br>id: 30</br>prediction: 0.38</br>przebieg_st_szczyt: 1.42</br></br>wiek: 57.0</br>plec: 1.0</br>typ_bolu_klatka: 3.0</br>cisnienie_krwi_spoczynek: 128.0</br>cholesterol_we_krwi: 229.0</br>cukier_we_krwi: 0.0</br>wynik_ekg_spoczynek: 2.0</br>ilosc_uderzen_serca: 150.0</br>bol_klatka_wysilek: 0.0</br>max_obnizka_st: 0.4</br>zwapnienia_miazdzycowe: 1.0</br>proba_ta: 7.0</br>_original_yhat_: 0.42</br>"
          ],
          [
           "</br>id: 30</br>prediction: 0.38</br>przebieg_st_szczyt: 1.44</br></br>wiek: 57.0</br>plec: 1.0</br>typ_bolu_klatka: 3.0</br>cisnienie_krwi_spoczynek: 128.0</br>cholesterol_we_krwi: 229.0</br>cukier_we_krwi: 0.0</br>wynik_ekg_spoczynek: 2.0</br>ilosc_uderzen_serca: 150.0</br>bol_klatka_wysilek: 0.0</br>max_obnizka_st: 0.4</br>zwapnienia_miazdzycowe: 1.0</br>proba_ta: 7.0</br>_original_yhat_: 0.42</br>"
          ],
          [
           "</br>id: 30</br>prediction: 0.38</br>przebieg_st_szczyt: 1.46</br></br>wiek: 57.0</br>plec: 1.0</br>typ_bolu_klatka: 3.0</br>cisnienie_krwi_spoczynek: 128.0</br>cholesterol_we_krwi: 229.0</br>cukier_we_krwi: 0.0</br>wynik_ekg_spoczynek: 2.0</br>ilosc_uderzen_serca: 150.0</br>bol_klatka_wysilek: 0.0</br>max_obnizka_st: 0.4</br>zwapnienia_miazdzycowe: 1.0</br>proba_ta: 7.0</br>_original_yhat_: 0.42</br>"
          ],
          [
           "</br>id: 30</br>prediction: 0.38</br>przebieg_st_szczyt: 1.48</br></br>wiek: 57.0</br>plec: 1.0</br>typ_bolu_klatka: 3.0</br>cisnienie_krwi_spoczynek: 128.0</br>cholesterol_we_krwi: 229.0</br>cukier_we_krwi: 0.0</br>wynik_ekg_spoczynek: 2.0</br>ilosc_uderzen_serca: 150.0</br>bol_klatka_wysilek: 0.0</br>max_obnizka_st: 0.4</br>zwapnienia_miazdzycowe: 1.0</br>proba_ta: 7.0</br>_original_yhat_: 0.42</br>"
          ],
          [
           "</br>id: 30</br>prediction: 0.38</br>przebieg_st_szczyt: 1.5</br></br>wiek: 57.0</br>plec: 1.0</br>typ_bolu_klatka: 3.0</br>cisnienie_krwi_spoczynek: 128.0</br>cholesterol_we_krwi: 229.0</br>cukier_we_krwi: 0.0</br>wynik_ekg_spoczynek: 2.0</br>ilosc_uderzen_serca: 150.0</br>bol_klatka_wysilek: 0.0</br>max_obnizka_st: 0.4</br>zwapnienia_miazdzycowe: 1.0</br>proba_ta: 7.0</br>_original_yhat_: 0.42</br>"
          ],
          [
           "</br>id: 30</br>prediction: 0.42</br>przebieg_st_szczyt: 1.52</br></br>wiek: 57.0</br>plec: 1.0</br>typ_bolu_klatka: 3.0</br>cisnienie_krwi_spoczynek: 128.0</br>cholesterol_we_krwi: 229.0</br>cukier_we_krwi: 0.0</br>wynik_ekg_spoczynek: 2.0</br>ilosc_uderzen_serca: 150.0</br>bol_klatka_wysilek: 0.0</br>max_obnizka_st: 0.4</br>zwapnienia_miazdzycowe: 1.0</br>proba_ta: 7.0</br>_original_yhat_: 0.42</br>"
          ],
          [
           "</br>id: 30</br>prediction: 0.42</br>przebieg_st_szczyt: 1.54</br></br>wiek: 57.0</br>plec: 1.0</br>typ_bolu_klatka: 3.0</br>cisnienie_krwi_spoczynek: 128.0</br>cholesterol_we_krwi: 229.0</br>cukier_we_krwi: 0.0</br>wynik_ekg_spoczynek: 2.0</br>ilosc_uderzen_serca: 150.0</br>bol_klatka_wysilek: 0.0</br>max_obnizka_st: 0.4</br>zwapnienia_miazdzycowe: 1.0</br>proba_ta: 7.0</br>_original_yhat_: 0.42</br>"
          ],
          [
           "</br>id: 30</br>prediction: 0.42</br>przebieg_st_szczyt: 1.56</br></br>wiek: 57.0</br>plec: 1.0</br>typ_bolu_klatka: 3.0</br>cisnienie_krwi_spoczynek: 128.0</br>cholesterol_we_krwi: 229.0</br>cukier_we_krwi: 0.0</br>wynik_ekg_spoczynek: 2.0</br>ilosc_uderzen_serca: 150.0</br>bol_klatka_wysilek: 0.0</br>max_obnizka_st: 0.4</br>zwapnienia_miazdzycowe: 1.0</br>proba_ta: 7.0</br>_original_yhat_: 0.42</br>"
          ],
          [
           "</br>id: 30</br>prediction: 0.42</br>przebieg_st_szczyt: 1.58</br></br>wiek: 57.0</br>plec: 1.0</br>typ_bolu_klatka: 3.0</br>cisnienie_krwi_spoczynek: 128.0</br>cholesterol_we_krwi: 229.0</br>cukier_we_krwi: 0.0</br>wynik_ekg_spoczynek: 2.0</br>ilosc_uderzen_serca: 150.0</br>bol_klatka_wysilek: 0.0</br>max_obnizka_st: 0.4</br>zwapnienia_miazdzycowe: 1.0</br>proba_ta: 7.0</br>_original_yhat_: 0.42</br>"
          ],
          [
           "</br>id: 30</br>prediction: 0.42</br>przebieg_st_szczyt: 1.6</br></br>wiek: 57.0</br>plec: 1.0</br>typ_bolu_klatka: 3.0</br>cisnienie_krwi_spoczynek: 128.0</br>cholesterol_we_krwi: 229.0</br>cukier_we_krwi: 0.0</br>wynik_ekg_spoczynek: 2.0</br>ilosc_uderzen_serca: 150.0</br>bol_klatka_wysilek: 0.0</br>max_obnizka_st: 0.4</br>zwapnienia_miazdzycowe: 1.0</br>proba_ta: 7.0</br>_original_yhat_: 0.42</br>"
          ],
          [
           "</br>id: 30</br>prediction: 0.42</br>przebieg_st_szczyt: 1.62</br></br>wiek: 57.0</br>plec: 1.0</br>typ_bolu_klatka: 3.0</br>cisnienie_krwi_spoczynek: 128.0</br>cholesterol_we_krwi: 229.0</br>cukier_we_krwi: 0.0</br>wynik_ekg_spoczynek: 2.0</br>ilosc_uderzen_serca: 150.0</br>bol_klatka_wysilek: 0.0</br>max_obnizka_st: 0.4</br>zwapnienia_miazdzycowe: 1.0</br>proba_ta: 7.0</br>_original_yhat_: 0.42</br>"
          ],
          [
           "</br>id: 30</br>prediction: 0.42</br>przebieg_st_szczyt: 1.6400000000000001</br></br>wiek: 57.0</br>plec: 1.0</br>typ_bolu_klatka: 3.0</br>cisnienie_krwi_spoczynek: 128.0</br>cholesterol_we_krwi: 229.0</br>cukier_we_krwi: 0.0</br>wynik_ekg_spoczynek: 2.0</br>ilosc_uderzen_serca: 150.0</br>bol_klatka_wysilek: 0.0</br>max_obnizka_st: 0.4</br>zwapnienia_miazdzycowe: 1.0</br>proba_ta: 7.0</br>_original_yhat_: 0.42</br>"
          ],
          [
           "</br>id: 30</br>prediction: 0.42</br>przebieg_st_szczyt: 1.6600000000000001</br></br>wiek: 57.0</br>plec: 1.0</br>typ_bolu_klatka: 3.0</br>cisnienie_krwi_spoczynek: 128.0</br>cholesterol_we_krwi: 229.0</br>cukier_we_krwi: 0.0</br>wynik_ekg_spoczynek: 2.0</br>ilosc_uderzen_serca: 150.0</br>bol_klatka_wysilek: 0.0</br>max_obnizka_st: 0.4</br>zwapnienia_miazdzycowe: 1.0</br>proba_ta: 7.0</br>_original_yhat_: 0.42</br>"
          ],
          [
           "</br>id: 30</br>prediction: 0.42</br>przebieg_st_szczyt: 1.6800000000000002</br></br>wiek: 57.0</br>plec: 1.0</br>typ_bolu_klatka: 3.0</br>cisnienie_krwi_spoczynek: 128.0</br>cholesterol_we_krwi: 229.0</br>cukier_we_krwi: 0.0</br>wynik_ekg_spoczynek: 2.0</br>ilosc_uderzen_serca: 150.0</br>bol_klatka_wysilek: 0.0</br>max_obnizka_st: 0.4</br>zwapnienia_miazdzycowe: 1.0</br>proba_ta: 7.0</br>_original_yhat_: 0.42</br>"
          ],
          [
           "</br>id: 30</br>prediction: 0.42</br>przebieg_st_szczyt: 1.7000000000000002</br></br>wiek: 57.0</br>plec: 1.0</br>typ_bolu_klatka: 3.0</br>cisnienie_krwi_spoczynek: 128.0</br>cholesterol_we_krwi: 229.0</br>cukier_we_krwi: 0.0</br>wynik_ekg_spoczynek: 2.0</br>ilosc_uderzen_serca: 150.0</br>bol_klatka_wysilek: 0.0</br>max_obnizka_st: 0.4</br>zwapnienia_miazdzycowe: 1.0</br>proba_ta: 7.0</br>_original_yhat_: 0.42</br>"
          ],
          [
           "</br>id: 30</br>prediction: 0.42</br>przebieg_st_szczyt: 1.72</br></br>wiek: 57.0</br>plec: 1.0</br>typ_bolu_klatka: 3.0</br>cisnienie_krwi_spoczynek: 128.0</br>cholesterol_we_krwi: 229.0</br>cukier_we_krwi: 0.0</br>wynik_ekg_spoczynek: 2.0</br>ilosc_uderzen_serca: 150.0</br>bol_klatka_wysilek: 0.0</br>max_obnizka_st: 0.4</br>zwapnienia_miazdzycowe: 1.0</br>proba_ta: 7.0</br>_original_yhat_: 0.42</br>"
          ],
          [
           "</br>id: 30</br>prediction: 0.42</br>przebieg_st_szczyt: 1.74</br></br>wiek: 57.0</br>plec: 1.0</br>typ_bolu_klatka: 3.0</br>cisnienie_krwi_spoczynek: 128.0</br>cholesterol_we_krwi: 229.0</br>cukier_we_krwi: 0.0</br>wynik_ekg_spoczynek: 2.0</br>ilosc_uderzen_serca: 150.0</br>bol_klatka_wysilek: 0.0</br>max_obnizka_st: 0.4</br>zwapnienia_miazdzycowe: 1.0</br>proba_ta: 7.0</br>_original_yhat_: 0.42</br>"
          ],
          [
           "</br>id: 30</br>prediction: 0.42</br>przebieg_st_szczyt: 1.76</br></br>wiek: 57.0</br>plec: 1.0</br>typ_bolu_klatka: 3.0</br>cisnienie_krwi_spoczynek: 128.0</br>cholesterol_we_krwi: 229.0</br>cukier_we_krwi: 0.0</br>wynik_ekg_spoczynek: 2.0</br>ilosc_uderzen_serca: 150.0</br>bol_klatka_wysilek: 0.0</br>max_obnizka_st: 0.4</br>zwapnienia_miazdzycowe: 1.0</br>proba_ta: 7.0</br>_original_yhat_: 0.42</br>"
          ],
          [
           "</br>id: 30</br>prediction: 0.42</br>przebieg_st_szczyt: 1.78</br></br>wiek: 57.0</br>plec: 1.0</br>typ_bolu_klatka: 3.0</br>cisnienie_krwi_spoczynek: 128.0</br>cholesterol_we_krwi: 229.0</br>cukier_we_krwi: 0.0</br>wynik_ekg_spoczynek: 2.0</br>ilosc_uderzen_serca: 150.0</br>bol_klatka_wysilek: 0.0</br>max_obnizka_st: 0.4</br>zwapnienia_miazdzycowe: 1.0</br>proba_ta: 7.0</br>_original_yhat_: 0.42</br>"
          ],
          [
           "</br>id: 30</br>prediction: 0.42</br>przebieg_st_szczyt: 1.8</br></br>wiek: 57.0</br>plec: 1.0</br>typ_bolu_klatka: 3.0</br>cisnienie_krwi_spoczynek: 128.0</br>cholesterol_we_krwi: 229.0</br>cukier_we_krwi: 0.0</br>wynik_ekg_spoczynek: 2.0</br>ilosc_uderzen_serca: 150.0</br>bol_klatka_wysilek: 0.0</br>max_obnizka_st: 0.4</br>zwapnienia_miazdzycowe: 1.0</br>proba_ta: 7.0</br>_original_yhat_: 0.42</br>"
          ],
          [
           "</br>id: 30</br>prediction: 0.42</br>przebieg_st_szczyt: 1.82</br></br>wiek: 57.0</br>plec: 1.0</br>typ_bolu_klatka: 3.0</br>cisnienie_krwi_spoczynek: 128.0</br>cholesterol_we_krwi: 229.0</br>cukier_we_krwi: 0.0</br>wynik_ekg_spoczynek: 2.0</br>ilosc_uderzen_serca: 150.0</br>bol_klatka_wysilek: 0.0</br>max_obnizka_st: 0.4</br>zwapnienia_miazdzycowe: 1.0</br>proba_ta: 7.0</br>_original_yhat_: 0.42</br>"
          ],
          [
           "</br>id: 30</br>prediction: 0.42</br>przebieg_st_szczyt: 1.8399999999999999</br></br>wiek: 57.0</br>plec: 1.0</br>typ_bolu_klatka: 3.0</br>cisnienie_krwi_spoczynek: 128.0</br>cholesterol_we_krwi: 229.0</br>cukier_we_krwi: 0.0</br>wynik_ekg_spoczynek: 2.0</br>ilosc_uderzen_serca: 150.0</br>bol_klatka_wysilek: 0.0</br>max_obnizka_st: 0.4</br>zwapnienia_miazdzycowe: 1.0</br>proba_ta: 7.0</br>_original_yhat_: 0.42</br>"
          ],
          [
           "</br>id: 30</br>prediction: 0.42</br>przebieg_st_szczyt: 1.8599999999999999</br></br>wiek: 57.0</br>plec: 1.0</br>typ_bolu_klatka: 3.0</br>cisnienie_krwi_spoczynek: 128.0</br>cholesterol_we_krwi: 229.0</br>cukier_we_krwi: 0.0</br>wynik_ekg_spoczynek: 2.0</br>ilosc_uderzen_serca: 150.0</br>bol_klatka_wysilek: 0.0</br>max_obnizka_st: 0.4</br>zwapnienia_miazdzycowe: 1.0</br>proba_ta: 7.0</br>_original_yhat_: 0.42</br>"
          ],
          [
           "</br>id: 30</br>prediction: 0.42</br>przebieg_st_szczyt: 1.88</br></br>wiek: 57.0</br>plec: 1.0</br>typ_bolu_klatka: 3.0</br>cisnienie_krwi_spoczynek: 128.0</br>cholesterol_we_krwi: 229.0</br>cukier_we_krwi: 0.0</br>wynik_ekg_spoczynek: 2.0</br>ilosc_uderzen_serca: 150.0</br>bol_klatka_wysilek: 0.0</br>max_obnizka_st: 0.4</br>zwapnienia_miazdzycowe: 1.0</br>proba_ta: 7.0</br>_original_yhat_: 0.42</br>"
          ],
          [
           "</br>id: 30</br>prediction: 0.42</br>przebieg_st_szczyt: 1.9</br></br>wiek: 57.0</br>plec: 1.0</br>typ_bolu_klatka: 3.0</br>cisnienie_krwi_spoczynek: 128.0</br>cholesterol_we_krwi: 229.0</br>cukier_we_krwi: 0.0</br>wynik_ekg_spoczynek: 2.0</br>ilosc_uderzen_serca: 150.0</br>bol_klatka_wysilek: 0.0</br>max_obnizka_st: 0.4</br>zwapnienia_miazdzycowe: 1.0</br>proba_ta: 7.0</br>_original_yhat_: 0.42</br>"
          ],
          [
           "</br>id: 30</br>prediction: 0.42</br>przebieg_st_szczyt: 1.92</br></br>wiek: 57.0</br>plec: 1.0</br>typ_bolu_klatka: 3.0</br>cisnienie_krwi_spoczynek: 128.0</br>cholesterol_we_krwi: 229.0</br>cukier_we_krwi: 0.0</br>wynik_ekg_spoczynek: 2.0</br>ilosc_uderzen_serca: 150.0</br>bol_klatka_wysilek: 0.0</br>max_obnizka_st: 0.4</br>zwapnienia_miazdzycowe: 1.0</br>proba_ta: 7.0</br>_original_yhat_: 0.42</br>"
          ],
          [
           "</br>id: 30</br>prediction: 0.42</br>przebieg_st_szczyt: 1.94</br></br>wiek: 57.0</br>plec: 1.0</br>typ_bolu_klatka: 3.0</br>cisnienie_krwi_spoczynek: 128.0</br>cholesterol_we_krwi: 229.0</br>cukier_we_krwi: 0.0</br>wynik_ekg_spoczynek: 2.0</br>ilosc_uderzen_serca: 150.0</br>bol_klatka_wysilek: 0.0</br>max_obnizka_st: 0.4</br>zwapnienia_miazdzycowe: 1.0</br>proba_ta: 7.0</br>_original_yhat_: 0.42</br>"
          ],
          [
           "</br>id: 30</br>prediction: 0.42</br>przebieg_st_szczyt: 1.96</br></br>wiek: 57.0</br>plec: 1.0</br>typ_bolu_klatka: 3.0</br>cisnienie_krwi_spoczynek: 128.0</br>cholesterol_we_krwi: 229.0</br>cukier_we_krwi: 0.0</br>wynik_ekg_spoczynek: 2.0</br>ilosc_uderzen_serca: 150.0</br>bol_klatka_wysilek: 0.0</br>max_obnizka_st: 0.4</br>zwapnienia_miazdzycowe: 1.0</br>proba_ta: 7.0</br>_original_yhat_: 0.42</br>"
          ],
          [
           "</br>id: 30</br>prediction: 0.42</br>przebieg_st_szczyt: 1.98</br></br>wiek: 57.0</br>plec: 1.0</br>typ_bolu_klatka: 3.0</br>cisnienie_krwi_spoczynek: 128.0</br>cholesterol_we_krwi: 229.0</br>cukier_we_krwi: 0.0</br>wynik_ekg_spoczynek: 2.0</br>ilosc_uderzen_serca: 150.0</br>bol_klatka_wysilek: 0.0</br>max_obnizka_st: 0.4</br>zwapnienia_miazdzycowe: 1.0</br>proba_ta: 7.0</br>_original_yhat_: 0.42</br>"
          ],
          [
           "</br>id: 30</br>prediction: 0.42</br>przebieg_st_szczyt: 2.0</br></br>wiek: 57.0</br>plec: 1.0</br>typ_bolu_klatka: 3.0</br>cisnienie_krwi_spoczynek: 128.0</br>cholesterol_we_krwi: 229.0</br>cukier_we_krwi: 0.0</br>wynik_ekg_spoczynek: 2.0</br>ilosc_uderzen_serca: 150.0</br>bol_klatka_wysilek: 0.0</br>max_obnizka_st: 0.4</br>zwapnienia_miazdzycowe: 1.0</br>proba_ta: 7.0</br>_original_yhat_: 0.42</br>"
          ],
          [
           "</br>id: 30</br>prediction: 0.42</br>przebieg_st_szczyt: 2.02</br></br>wiek: 57.0</br>plec: 1.0</br>typ_bolu_klatka: 3.0</br>cisnienie_krwi_spoczynek: 128.0</br>cholesterol_we_krwi: 229.0</br>cukier_we_krwi: 0.0</br>wynik_ekg_spoczynek: 2.0</br>ilosc_uderzen_serca: 150.0</br>bol_klatka_wysilek: 0.0</br>max_obnizka_st: 0.4</br>zwapnienia_miazdzycowe: 1.0</br>proba_ta: 7.0</br>_original_yhat_: 0.42</br>"
          ],
          [
           "</br>id: 30</br>prediction: 0.42</br>przebieg_st_szczyt: 2.04</br></br>wiek: 57.0</br>plec: 1.0</br>typ_bolu_klatka: 3.0</br>cisnienie_krwi_spoczynek: 128.0</br>cholesterol_we_krwi: 229.0</br>cukier_we_krwi: 0.0</br>wynik_ekg_spoczynek: 2.0</br>ilosc_uderzen_serca: 150.0</br>bol_klatka_wysilek: 0.0</br>max_obnizka_st: 0.4</br>zwapnienia_miazdzycowe: 1.0</br>proba_ta: 7.0</br>_original_yhat_: 0.42</br>"
          ],
          [
           "</br>id: 30</br>prediction: 0.42</br>przebieg_st_szczyt: 2.06</br></br>wiek: 57.0</br>plec: 1.0</br>typ_bolu_klatka: 3.0</br>cisnienie_krwi_spoczynek: 128.0</br>cholesterol_we_krwi: 229.0</br>cukier_we_krwi: 0.0</br>wynik_ekg_spoczynek: 2.0</br>ilosc_uderzen_serca: 150.0</br>bol_klatka_wysilek: 0.0</br>max_obnizka_st: 0.4</br>zwapnienia_miazdzycowe: 1.0</br>proba_ta: 7.0</br>_original_yhat_: 0.42</br>"
          ],
          [
           "</br>id: 30</br>prediction: 0.42</br>przebieg_st_szczyt: 2.08</br></br>wiek: 57.0</br>plec: 1.0</br>typ_bolu_klatka: 3.0</br>cisnienie_krwi_spoczynek: 128.0</br>cholesterol_we_krwi: 229.0</br>cukier_we_krwi: 0.0</br>wynik_ekg_spoczynek: 2.0</br>ilosc_uderzen_serca: 150.0</br>bol_klatka_wysilek: 0.0</br>max_obnizka_st: 0.4</br>zwapnienia_miazdzycowe: 1.0</br>proba_ta: 7.0</br>_original_yhat_: 0.42</br>"
          ],
          [
           "</br>id: 30</br>prediction: 0.42</br>przebieg_st_szczyt: 2.1</br></br>wiek: 57.0</br>plec: 1.0</br>typ_bolu_klatka: 3.0</br>cisnienie_krwi_spoczynek: 128.0</br>cholesterol_we_krwi: 229.0</br>cukier_we_krwi: 0.0</br>wynik_ekg_spoczynek: 2.0</br>ilosc_uderzen_serca: 150.0</br>bol_klatka_wysilek: 0.0</br>max_obnizka_st: 0.4</br>zwapnienia_miazdzycowe: 1.0</br>proba_ta: 7.0</br>_original_yhat_: 0.42</br>"
          ],
          [
           "</br>id: 30</br>prediction: 0.42</br>przebieg_st_szczyt: 2.12</br></br>wiek: 57.0</br>plec: 1.0</br>typ_bolu_klatka: 3.0</br>cisnienie_krwi_spoczynek: 128.0</br>cholesterol_we_krwi: 229.0</br>cukier_we_krwi: 0.0</br>wynik_ekg_spoczynek: 2.0</br>ilosc_uderzen_serca: 150.0</br>bol_klatka_wysilek: 0.0</br>max_obnizka_st: 0.4</br>zwapnienia_miazdzycowe: 1.0</br>proba_ta: 7.0</br>_original_yhat_: 0.42</br>"
          ],
          [
           "</br>id: 30</br>prediction: 0.42</br>przebieg_st_szczyt: 2.14</br></br>wiek: 57.0</br>plec: 1.0</br>typ_bolu_klatka: 3.0</br>cisnienie_krwi_spoczynek: 128.0</br>cholesterol_we_krwi: 229.0</br>cukier_we_krwi: 0.0</br>wynik_ekg_spoczynek: 2.0</br>ilosc_uderzen_serca: 150.0</br>bol_klatka_wysilek: 0.0</br>max_obnizka_st: 0.4</br>zwapnienia_miazdzycowe: 1.0</br>proba_ta: 7.0</br>_original_yhat_: 0.42</br>"
          ],
          [
           "</br>id: 30</br>prediction: 0.42</br>przebieg_st_szczyt: 2.16</br></br>wiek: 57.0</br>plec: 1.0</br>typ_bolu_klatka: 3.0</br>cisnienie_krwi_spoczynek: 128.0</br>cholesterol_we_krwi: 229.0</br>cukier_we_krwi: 0.0</br>wynik_ekg_spoczynek: 2.0</br>ilosc_uderzen_serca: 150.0</br>bol_klatka_wysilek: 0.0</br>max_obnizka_st: 0.4</br>zwapnienia_miazdzycowe: 1.0</br>proba_ta: 7.0</br>_original_yhat_: 0.42</br>"
          ],
          [
           "</br>id: 30</br>prediction: 0.42</br>przebieg_st_szczyt: 2.1799999999999997</br></br>wiek: 57.0</br>plec: 1.0</br>typ_bolu_klatka: 3.0</br>cisnienie_krwi_spoczynek: 128.0</br>cholesterol_we_krwi: 229.0</br>cukier_we_krwi: 0.0</br>wynik_ekg_spoczynek: 2.0</br>ilosc_uderzen_serca: 150.0</br>bol_klatka_wysilek: 0.0</br>max_obnizka_st: 0.4</br>zwapnienia_miazdzycowe: 1.0</br>proba_ta: 7.0</br>_original_yhat_: 0.42</br>"
          ],
          [
           "</br>id: 30</br>prediction: 0.42</br>przebieg_st_szczyt: 2.2</br></br>wiek: 57.0</br>plec: 1.0</br>typ_bolu_klatka: 3.0</br>cisnienie_krwi_spoczynek: 128.0</br>cholesterol_we_krwi: 229.0</br>cukier_we_krwi: 0.0</br>wynik_ekg_spoczynek: 2.0</br>ilosc_uderzen_serca: 150.0</br>bol_klatka_wysilek: 0.0</br>max_obnizka_st: 0.4</br>zwapnienia_miazdzycowe: 1.0</br>proba_ta: 7.0</br>_original_yhat_: 0.42</br>"
          ],
          [
           "</br>id: 30</br>prediction: 0.42</br>przebieg_st_szczyt: 2.2199999999999998</br></br>wiek: 57.0</br>plec: 1.0</br>typ_bolu_klatka: 3.0</br>cisnienie_krwi_spoczynek: 128.0</br>cholesterol_we_krwi: 229.0</br>cukier_we_krwi: 0.0</br>wynik_ekg_spoczynek: 2.0</br>ilosc_uderzen_serca: 150.0</br>bol_klatka_wysilek: 0.0</br>max_obnizka_st: 0.4</br>zwapnienia_miazdzycowe: 1.0</br>proba_ta: 7.0</br>_original_yhat_: 0.42</br>"
          ],
          [
           "</br>id: 30</br>prediction: 0.42</br>przebieg_st_szczyt: 2.24</br></br>wiek: 57.0</br>plec: 1.0</br>typ_bolu_klatka: 3.0</br>cisnienie_krwi_spoczynek: 128.0</br>cholesterol_we_krwi: 229.0</br>cukier_we_krwi: 0.0</br>wynik_ekg_spoczynek: 2.0</br>ilosc_uderzen_serca: 150.0</br>bol_klatka_wysilek: 0.0</br>max_obnizka_st: 0.4</br>zwapnienia_miazdzycowe: 1.0</br>proba_ta: 7.0</br>_original_yhat_: 0.42</br>"
          ],
          [
           "</br>id: 30</br>prediction: 0.42</br>przebieg_st_szczyt: 2.26</br></br>wiek: 57.0</br>plec: 1.0</br>typ_bolu_klatka: 3.0</br>cisnienie_krwi_spoczynek: 128.0</br>cholesterol_we_krwi: 229.0</br>cukier_we_krwi: 0.0</br>wynik_ekg_spoczynek: 2.0</br>ilosc_uderzen_serca: 150.0</br>bol_klatka_wysilek: 0.0</br>max_obnizka_st: 0.4</br>zwapnienia_miazdzycowe: 1.0</br>proba_ta: 7.0</br>_original_yhat_: 0.42</br>"
          ],
          [
           "</br>id: 30</br>prediction: 0.42</br>przebieg_st_szczyt: 2.2800000000000002</br></br>wiek: 57.0</br>plec: 1.0</br>typ_bolu_klatka: 3.0</br>cisnienie_krwi_spoczynek: 128.0</br>cholesterol_we_krwi: 229.0</br>cukier_we_krwi: 0.0</br>wynik_ekg_spoczynek: 2.0</br>ilosc_uderzen_serca: 150.0</br>bol_klatka_wysilek: 0.0</br>max_obnizka_st: 0.4</br>zwapnienia_miazdzycowe: 1.0</br>proba_ta: 7.0</br>_original_yhat_: 0.42</br>"
          ],
          [
           "</br>id: 30</br>prediction: 0.42</br>przebieg_st_szczyt: 2.3</br></br>wiek: 57.0</br>plec: 1.0</br>typ_bolu_klatka: 3.0</br>cisnienie_krwi_spoczynek: 128.0</br>cholesterol_we_krwi: 229.0</br>cukier_we_krwi: 0.0</br>wynik_ekg_spoczynek: 2.0</br>ilosc_uderzen_serca: 150.0</br>bol_klatka_wysilek: 0.0</br>max_obnizka_st: 0.4</br>zwapnienia_miazdzycowe: 1.0</br>proba_ta: 7.0</br>_original_yhat_: 0.42</br>"
          ],
          [
           "</br>id: 30</br>prediction: 0.42</br>przebieg_st_szczyt: 2.3200000000000003</br></br>wiek: 57.0</br>plec: 1.0</br>typ_bolu_klatka: 3.0</br>cisnienie_krwi_spoczynek: 128.0</br>cholesterol_we_krwi: 229.0</br>cukier_we_krwi: 0.0</br>wynik_ekg_spoczynek: 2.0</br>ilosc_uderzen_serca: 150.0</br>bol_klatka_wysilek: 0.0</br>max_obnizka_st: 0.4</br>zwapnienia_miazdzycowe: 1.0</br>proba_ta: 7.0</br>_original_yhat_: 0.42</br>"
          ],
          [
           "</br>id: 30</br>prediction: 0.42</br>przebieg_st_szczyt: 2.34</br></br>wiek: 57.0</br>plec: 1.0</br>typ_bolu_klatka: 3.0</br>cisnienie_krwi_spoczynek: 128.0</br>cholesterol_we_krwi: 229.0</br>cukier_we_krwi: 0.0</br>wynik_ekg_spoczynek: 2.0</br>ilosc_uderzen_serca: 150.0</br>bol_klatka_wysilek: 0.0</br>max_obnizka_st: 0.4</br>zwapnienia_miazdzycowe: 1.0</br>proba_ta: 7.0</br>_original_yhat_: 0.42</br>"
          ],
          [
           "</br>id: 30</br>prediction: 0.42</br>przebieg_st_szczyt: 2.3600000000000003</br></br>wiek: 57.0</br>plec: 1.0</br>typ_bolu_klatka: 3.0</br>cisnienie_krwi_spoczynek: 128.0</br>cholesterol_we_krwi: 229.0</br>cukier_we_krwi: 0.0</br>wynik_ekg_spoczynek: 2.0</br>ilosc_uderzen_serca: 150.0</br>bol_klatka_wysilek: 0.0</br>max_obnizka_st: 0.4</br>zwapnienia_miazdzycowe: 1.0</br>proba_ta: 7.0</br>_original_yhat_: 0.42</br>"
          ],
          [
           "</br>id: 30</br>prediction: 0.42</br>przebieg_st_szczyt: 2.38</br></br>wiek: 57.0</br>plec: 1.0</br>typ_bolu_klatka: 3.0</br>cisnienie_krwi_spoczynek: 128.0</br>cholesterol_we_krwi: 229.0</br>cukier_we_krwi: 0.0</br>wynik_ekg_spoczynek: 2.0</br>ilosc_uderzen_serca: 150.0</br>bol_klatka_wysilek: 0.0</br>max_obnizka_st: 0.4</br>zwapnienia_miazdzycowe: 1.0</br>proba_ta: 7.0</br>_original_yhat_: 0.42</br>"
          ],
          [
           "</br>id: 30</br>prediction: 0.42</br>przebieg_st_szczyt: 2.4000000000000004</br></br>wiek: 57.0</br>plec: 1.0</br>typ_bolu_klatka: 3.0</br>cisnienie_krwi_spoczynek: 128.0</br>cholesterol_we_krwi: 229.0</br>cukier_we_krwi: 0.0</br>wynik_ekg_spoczynek: 2.0</br>ilosc_uderzen_serca: 150.0</br>bol_klatka_wysilek: 0.0</br>max_obnizka_st: 0.4</br>zwapnienia_miazdzycowe: 1.0</br>proba_ta: 7.0</br>_original_yhat_: 0.42</br>"
          ],
          [
           "</br>id: 30</br>prediction: 0.42</br>przebieg_st_szczyt: 2.42</br></br>wiek: 57.0</br>plec: 1.0</br>typ_bolu_klatka: 3.0</br>cisnienie_krwi_spoczynek: 128.0</br>cholesterol_we_krwi: 229.0</br>cukier_we_krwi: 0.0</br>wynik_ekg_spoczynek: 2.0</br>ilosc_uderzen_serca: 150.0</br>bol_klatka_wysilek: 0.0</br>max_obnizka_st: 0.4</br>zwapnienia_miazdzycowe: 1.0</br>proba_ta: 7.0</br>_original_yhat_: 0.42</br>"
          ],
          [
           "</br>id: 30</br>prediction: 0.42</br>przebieg_st_szczyt: 2.44</br></br>wiek: 57.0</br>plec: 1.0</br>typ_bolu_klatka: 3.0</br>cisnienie_krwi_spoczynek: 128.0</br>cholesterol_we_krwi: 229.0</br>cukier_we_krwi: 0.0</br>wynik_ekg_spoczynek: 2.0</br>ilosc_uderzen_serca: 150.0</br>bol_klatka_wysilek: 0.0</br>max_obnizka_st: 0.4</br>zwapnienia_miazdzycowe: 1.0</br>proba_ta: 7.0</br>_original_yhat_: 0.42</br>"
          ],
          [
           "</br>id: 30</br>prediction: 0.42</br>przebieg_st_szczyt: 2.46</br></br>wiek: 57.0</br>plec: 1.0</br>typ_bolu_klatka: 3.0</br>cisnienie_krwi_spoczynek: 128.0</br>cholesterol_we_krwi: 229.0</br>cukier_we_krwi: 0.0</br>wynik_ekg_spoczynek: 2.0</br>ilosc_uderzen_serca: 150.0</br>bol_klatka_wysilek: 0.0</br>max_obnizka_st: 0.4</br>zwapnienia_miazdzycowe: 1.0</br>proba_ta: 7.0</br>_original_yhat_: 0.42</br>"
          ],
          [
           "</br>id: 30</br>prediction: 0.42</br>przebieg_st_szczyt: 2.48</br></br>wiek: 57.0</br>plec: 1.0</br>typ_bolu_klatka: 3.0</br>cisnienie_krwi_spoczynek: 128.0</br>cholesterol_we_krwi: 229.0</br>cukier_we_krwi: 0.0</br>wynik_ekg_spoczynek: 2.0</br>ilosc_uderzen_serca: 150.0</br>bol_klatka_wysilek: 0.0</br>max_obnizka_st: 0.4</br>zwapnienia_miazdzycowe: 1.0</br>proba_ta: 7.0</br>_original_yhat_: 0.42</br>"
          ],
          [
           "</br>id: 30</br>prediction: 0.42</br>przebieg_st_szczyt: 2.5</br></br>wiek: 57.0</br>plec: 1.0</br>typ_bolu_klatka: 3.0</br>cisnienie_krwi_spoczynek: 128.0</br>cholesterol_we_krwi: 229.0</br>cukier_we_krwi: 0.0</br>wynik_ekg_spoczynek: 2.0</br>ilosc_uderzen_serca: 150.0</br>bol_klatka_wysilek: 0.0</br>max_obnizka_st: 0.4</br>zwapnienia_miazdzycowe: 1.0</br>proba_ta: 7.0</br>_original_yhat_: 0.42</br>"
          ],
          [
           "</br>id: 30</br>prediction: 0.41</br>przebieg_st_szczyt: 2.52</br></br>wiek: 57.0</br>plec: 1.0</br>typ_bolu_klatka: 3.0</br>cisnienie_krwi_spoczynek: 128.0</br>cholesterol_we_krwi: 229.0</br>cukier_we_krwi: 0.0</br>wynik_ekg_spoczynek: 2.0</br>ilosc_uderzen_serca: 150.0</br>bol_klatka_wysilek: 0.0</br>max_obnizka_st: 0.4</br>zwapnienia_miazdzycowe: 1.0</br>proba_ta: 7.0</br>_original_yhat_: 0.42</br>"
          ],
          [
           "</br>id: 30</br>prediction: 0.41</br>przebieg_st_szczyt: 2.54</br></br>wiek: 57.0</br>plec: 1.0</br>typ_bolu_klatka: 3.0</br>cisnienie_krwi_spoczynek: 128.0</br>cholesterol_we_krwi: 229.0</br>cukier_we_krwi: 0.0</br>wynik_ekg_spoczynek: 2.0</br>ilosc_uderzen_serca: 150.0</br>bol_klatka_wysilek: 0.0</br>max_obnizka_st: 0.4</br>zwapnienia_miazdzycowe: 1.0</br>proba_ta: 7.0</br>_original_yhat_: 0.42</br>"
          ],
          [
           "</br>id: 30</br>prediction: 0.41</br>przebieg_st_szczyt: 2.56</br></br>wiek: 57.0</br>plec: 1.0</br>typ_bolu_klatka: 3.0</br>cisnienie_krwi_spoczynek: 128.0</br>cholesterol_we_krwi: 229.0</br>cukier_we_krwi: 0.0</br>wynik_ekg_spoczynek: 2.0</br>ilosc_uderzen_serca: 150.0</br>bol_klatka_wysilek: 0.0</br>max_obnizka_st: 0.4</br>zwapnienia_miazdzycowe: 1.0</br>proba_ta: 7.0</br>_original_yhat_: 0.42</br>"
          ],
          [
           "</br>id: 30</br>prediction: 0.41</br>przebieg_st_szczyt: 2.58</br></br>wiek: 57.0</br>plec: 1.0</br>typ_bolu_klatka: 3.0</br>cisnienie_krwi_spoczynek: 128.0</br>cholesterol_we_krwi: 229.0</br>cukier_we_krwi: 0.0</br>wynik_ekg_spoczynek: 2.0</br>ilosc_uderzen_serca: 150.0</br>bol_klatka_wysilek: 0.0</br>max_obnizka_st: 0.4</br>zwapnienia_miazdzycowe: 1.0</br>proba_ta: 7.0</br>_original_yhat_: 0.42</br>"
          ],
          [
           "</br>id: 30</br>prediction: 0.41</br>przebieg_st_szczyt: 2.6</br></br>wiek: 57.0</br>plec: 1.0</br>typ_bolu_klatka: 3.0</br>cisnienie_krwi_spoczynek: 128.0</br>cholesterol_we_krwi: 229.0</br>cukier_we_krwi: 0.0</br>wynik_ekg_spoczynek: 2.0</br>ilosc_uderzen_serca: 150.0</br>bol_klatka_wysilek: 0.0</br>max_obnizka_st: 0.4</br>zwapnienia_miazdzycowe: 1.0</br>proba_ta: 7.0</br>_original_yhat_: 0.42</br>"
          ],
          [
           "</br>id: 30</br>prediction: 0.41</br>przebieg_st_szczyt: 2.62</br></br>wiek: 57.0</br>plec: 1.0</br>typ_bolu_klatka: 3.0</br>cisnienie_krwi_spoczynek: 128.0</br>cholesterol_we_krwi: 229.0</br>cukier_we_krwi: 0.0</br>wynik_ekg_spoczynek: 2.0</br>ilosc_uderzen_serca: 150.0</br>bol_klatka_wysilek: 0.0</br>max_obnizka_st: 0.4</br>zwapnienia_miazdzycowe: 1.0</br>proba_ta: 7.0</br>_original_yhat_: 0.42</br>"
          ],
          [
           "</br>id: 30</br>prediction: 0.41</br>przebieg_st_szczyt: 2.64</br></br>wiek: 57.0</br>plec: 1.0</br>typ_bolu_klatka: 3.0</br>cisnienie_krwi_spoczynek: 128.0</br>cholesterol_we_krwi: 229.0</br>cukier_we_krwi: 0.0</br>wynik_ekg_spoczynek: 2.0</br>ilosc_uderzen_serca: 150.0</br>bol_klatka_wysilek: 0.0</br>max_obnizka_st: 0.4</br>zwapnienia_miazdzycowe: 1.0</br>proba_ta: 7.0</br>_original_yhat_: 0.42</br>"
          ],
          [
           "</br>id: 30</br>prediction: 0.41</br>przebieg_st_szczyt: 2.66</br></br>wiek: 57.0</br>plec: 1.0</br>typ_bolu_klatka: 3.0</br>cisnienie_krwi_spoczynek: 128.0</br>cholesterol_we_krwi: 229.0</br>cukier_we_krwi: 0.0</br>wynik_ekg_spoczynek: 2.0</br>ilosc_uderzen_serca: 150.0</br>bol_klatka_wysilek: 0.0</br>max_obnizka_st: 0.4</br>zwapnienia_miazdzycowe: 1.0</br>proba_ta: 7.0</br>_original_yhat_: 0.42</br>"
          ],
          [
           "</br>id: 30</br>prediction: 0.41</br>przebieg_st_szczyt: 2.6799999999999997</br></br>wiek: 57.0</br>plec: 1.0</br>typ_bolu_klatka: 3.0</br>cisnienie_krwi_spoczynek: 128.0</br>cholesterol_we_krwi: 229.0</br>cukier_we_krwi: 0.0</br>wynik_ekg_spoczynek: 2.0</br>ilosc_uderzen_serca: 150.0</br>bol_klatka_wysilek: 0.0</br>max_obnizka_st: 0.4</br>zwapnienia_miazdzycowe: 1.0</br>proba_ta: 7.0</br>_original_yhat_: 0.42</br>"
          ],
          [
           "</br>id: 30</br>prediction: 0.41</br>przebieg_st_szczyt: 2.7</br></br>wiek: 57.0</br>plec: 1.0</br>typ_bolu_klatka: 3.0</br>cisnienie_krwi_spoczynek: 128.0</br>cholesterol_we_krwi: 229.0</br>cukier_we_krwi: 0.0</br>wynik_ekg_spoczynek: 2.0</br>ilosc_uderzen_serca: 150.0</br>bol_klatka_wysilek: 0.0</br>max_obnizka_st: 0.4</br>zwapnienia_miazdzycowe: 1.0</br>proba_ta: 7.0</br>_original_yhat_: 0.42</br>"
          ],
          [
           "</br>id: 30</br>prediction: 0.41</br>przebieg_st_szczyt: 2.7199999999999998</br></br>wiek: 57.0</br>plec: 1.0</br>typ_bolu_klatka: 3.0</br>cisnienie_krwi_spoczynek: 128.0</br>cholesterol_we_krwi: 229.0</br>cukier_we_krwi: 0.0</br>wynik_ekg_spoczynek: 2.0</br>ilosc_uderzen_serca: 150.0</br>bol_klatka_wysilek: 0.0</br>max_obnizka_st: 0.4</br>zwapnienia_miazdzycowe: 1.0</br>proba_ta: 7.0</br>_original_yhat_: 0.42</br>"
          ],
          [
           "</br>id: 30</br>prediction: 0.41</br>przebieg_st_szczyt: 2.74</br></br>wiek: 57.0</br>plec: 1.0</br>typ_bolu_klatka: 3.0</br>cisnienie_krwi_spoczynek: 128.0</br>cholesterol_we_krwi: 229.0</br>cukier_we_krwi: 0.0</br>wynik_ekg_spoczynek: 2.0</br>ilosc_uderzen_serca: 150.0</br>bol_klatka_wysilek: 0.0</br>max_obnizka_st: 0.4</br>zwapnienia_miazdzycowe: 1.0</br>proba_ta: 7.0</br>_original_yhat_: 0.42</br>"
          ],
          [
           "</br>id: 30</br>prediction: 0.41</br>przebieg_st_szczyt: 2.76</br></br>wiek: 57.0</br>plec: 1.0</br>typ_bolu_klatka: 3.0</br>cisnienie_krwi_spoczynek: 128.0</br>cholesterol_we_krwi: 229.0</br>cukier_we_krwi: 0.0</br>wynik_ekg_spoczynek: 2.0</br>ilosc_uderzen_serca: 150.0</br>bol_klatka_wysilek: 0.0</br>max_obnizka_st: 0.4</br>zwapnienia_miazdzycowe: 1.0</br>proba_ta: 7.0</br>_original_yhat_: 0.42</br>"
          ],
          [
           "</br>id: 30</br>prediction: 0.41</br>przebieg_st_szczyt: 2.7800000000000002</br></br>wiek: 57.0</br>plec: 1.0</br>typ_bolu_klatka: 3.0</br>cisnienie_krwi_spoczynek: 128.0</br>cholesterol_we_krwi: 229.0</br>cukier_we_krwi: 0.0</br>wynik_ekg_spoczynek: 2.0</br>ilosc_uderzen_serca: 150.0</br>bol_klatka_wysilek: 0.0</br>max_obnizka_st: 0.4</br>zwapnienia_miazdzycowe: 1.0</br>proba_ta: 7.0</br>_original_yhat_: 0.42</br>"
          ],
          [
           "</br>id: 30</br>prediction: 0.41</br>przebieg_st_szczyt: 2.8</br></br>wiek: 57.0</br>plec: 1.0</br>typ_bolu_klatka: 3.0</br>cisnienie_krwi_spoczynek: 128.0</br>cholesterol_we_krwi: 229.0</br>cukier_we_krwi: 0.0</br>wynik_ekg_spoczynek: 2.0</br>ilosc_uderzen_serca: 150.0</br>bol_klatka_wysilek: 0.0</br>max_obnizka_st: 0.4</br>zwapnienia_miazdzycowe: 1.0</br>proba_ta: 7.0</br>_original_yhat_: 0.42</br>"
          ],
          [
           "</br>id: 30</br>prediction: 0.41</br>przebieg_st_szczyt: 2.8200000000000003</br></br>wiek: 57.0</br>plec: 1.0</br>typ_bolu_klatka: 3.0</br>cisnienie_krwi_spoczynek: 128.0</br>cholesterol_we_krwi: 229.0</br>cukier_we_krwi: 0.0</br>wynik_ekg_spoczynek: 2.0</br>ilosc_uderzen_serca: 150.0</br>bol_klatka_wysilek: 0.0</br>max_obnizka_st: 0.4</br>zwapnienia_miazdzycowe: 1.0</br>proba_ta: 7.0</br>_original_yhat_: 0.42</br>"
          ],
          [
           "</br>id: 30</br>prediction: 0.41</br>przebieg_st_szczyt: 2.84</br></br>wiek: 57.0</br>plec: 1.0</br>typ_bolu_klatka: 3.0</br>cisnienie_krwi_spoczynek: 128.0</br>cholesterol_we_krwi: 229.0</br>cukier_we_krwi: 0.0</br>wynik_ekg_spoczynek: 2.0</br>ilosc_uderzen_serca: 150.0</br>bol_klatka_wysilek: 0.0</br>max_obnizka_st: 0.4</br>zwapnienia_miazdzycowe: 1.0</br>proba_ta: 7.0</br>_original_yhat_: 0.42</br>"
          ],
          [
           "</br>id: 30</br>prediction: 0.41</br>przebieg_st_szczyt: 2.8600000000000003</br></br>wiek: 57.0</br>plec: 1.0</br>typ_bolu_klatka: 3.0</br>cisnienie_krwi_spoczynek: 128.0</br>cholesterol_we_krwi: 229.0</br>cukier_we_krwi: 0.0</br>wynik_ekg_spoczynek: 2.0</br>ilosc_uderzen_serca: 150.0</br>bol_klatka_wysilek: 0.0</br>max_obnizka_st: 0.4</br>zwapnienia_miazdzycowe: 1.0</br>proba_ta: 7.0</br>_original_yhat_: 0.42</br>"
          ],
          [
           "</br>id: 30</br>prediction: 0.41</br>przebieg_st_szczyt: 2.88</br></br>wiek: 57.0</br>plec: 1.0</br>typ_bolu_klatka: 3.0</br>cisnienie_krwi_spoczynek: 128.0</br>cholesterol_we_krwi: 229.0</br>cukier_we_krwi: 0.0</br>wynik_ekg_spoczynek: 2.0</br>ilosc_uderzen_serca: 150.0</br>bol_klatka_wysilek: 0.0</br>max_obnizka_st: 0.4</br>zwapnienia_miazdzycowe: 1.0</br>proba_ta: 7.0</br>_original_yhat_: 0.42</br>"
          ],
          [
           "</br>id: 30</br>prediction: 0.41</br>przebieg_st_szczyt: 2.9000000000000004</br></br>wiek: 57.0</br>plec: 1.0</br>typ_bolu_klatka: 3.0</br>cisnienie_krwi_spoczynek: 128.0</br>cholesterol_we_krwi: 229.0</br>cukier_we_krwi: 0.0</br>wynik_ekg_spoczynek: 2.0</br>ilosc_uderzen_serca: 150.0</br>bol_klatka_wysilek: 0.0</br>max_obnizka_st: 0.4</br>zwapnienia_miazdzycowe: 1.0</br>proba_ta: 7.0</br>_original_yhat_: 0.42</br>"
          ],
          [
           "</br>id: 30</br>prediction: 0.41</br>przebieg_st_szczyt: 2.92</br></br>wiek: 57.0</br>plec: 1.0</br>typ_bolu_klatka: 3.0</br>cisnienie_krwi_spoczynek: 128.0</br>cholesterol_we_krwi: 229.0</br>cukier_we_krwi: 0.0</br>wynik_ekg_spoczynek: 2.0</br>ilosc_uderzen_serca: 150.0</br>bol_klatka_wysilek: 0.0</br>max_obnizka_st: 0.4</br>zwapnienia_miazdzycowe: 1.0</br>proba_ta: 7.0</br>_original_yhat_: 0.42</br>"
          ],
          [
           "</br>id: 30</br>prediction: 0.41</br>przebieg_st_szczyt: 2.94</br></br>wiek: 57.0</br>plec: 1.0</br>typ_bolu_klatka: 3.0</br>cisnienie_krwi_spoczynek: 128.0</br>cholesterol_we_krwi: 229.0</br>cukier_we_krwi: 0.0</br>wynik_ekg_spoczynek: 2.0</br>ilosc_uderzen_serca: 150.0</br>bol_klatka_wysilek: 0.0</br>max_obnizka_st: 0.4</br>zwapnienia_miazdzycowe: 1.0</br>proba_ta: 7.0</br>_original_yhat_: 0.42</br>"
          ],
          [
           "</br>id: 30</br>prediction: 0.41</br>przebieg_st_szczyt: 2.96</br></br>wiek: 57.0</br>plec: 1.0</br>typ_bolu_klatka: 3.0</br>cisnienie_krwi_spoczynek: 128.0</br>cholesterol_we_krwi: 229.0</br>cukier_we_krwi: 0.0</br>wynik_ekg_spoczynek: 2.0</br>ilosc_uderzen_serca: 150.0</br>bol_klatka_wysilek: 0.0</br>max_obnizka_st: 0.4</br>zwapnienia_miazdzycowe: 1.0</br>proba_ta: 7.0</br>_original_yhat_: 0.42</br>"
          ],
          [
           "</br>id: 30</br>prediction: 0.41</br>przebieg_st_szczyt: 2.98</br></br>wiek: 57.0</br>plec: 1.0</br>typ_bolu_klatka: 3.0</br>cisnienie_krwi_spoczynek: 128.0</br>cholesterol_we_krwi: 229.0</br>cukier_we_krwi: 0.0</br>wynik_ekg_spoczynek: 2.0</br>ilosc_uderzen_serca: 150.0</br>bol_klatka_wysilek: 0.0</br>max_obnizka_st: 0.4</br>zwapnienia_miazdzycowe: 1.0</br>proba_ta: 7.0</br>_original_yhat_: 0.42</br>"
          ],
          [
           "</br>id: 30</br>prediction: 0.41</br>przebieg_st_szczyt: 3.0</br></br>wiek: 57.0</br>plec: 1.0</br>typ_bolu_klatka: 3.0</br>cisnienie_krwi_spoczynek: 128.0</br>cholesterol_we_krwi: 229.0</br>cukier_we_krwi: 0.0</br>wynik_ekg_spoczynek: 2.0</br>ilosc_uderzen_serca: 150.0</br>bol_klatka_wysilek: 0.0</br>max_obnizka_st: 0.4</br>zwapnienia_miazdzycowe: 1.0</br>proba_ta: 7.0</br>_original_yhat_: 0.42</br>"
          ]
         ],
         "hovertemplate": "%{customdata[0]}<extra></extra>",
         "legendgroup": "Model RandomForest dla danych serca",
         "line": {
          "color": "#46bac2",
          "dash": "solid",
          "width": 2
         },
         "marker": {
          "symbol": "circle"
         },
         "mode": "lines",
         "name": "Model RandomForest dla danych serca",
         "opacity": 1,
         "showlegend": false,
         "type": "scattergl",
         "x": [
          1,
          1.02,
          1.04,
          1.06,
          1.08,
          1.1,
          1.12,
          1.1400000000000001,
          1.16,
          1.18,
          1.2,
          1.22,
          1.24,
          1.26,
          1.28,
          1.3,
          1.32,
          1.34,
          1.3599999999999999,
          1.38,
          1.4,
          1.42,
          1.44,
          1.46,
          1.48,
          1.5,
          1.52,
          1.54,
          1.56,
          1.58,
          1.6,
          1.62,
          1.6400000000000001,
          1.6600000000000001,
          1.6800000000000002,
          1.7000000000000002,
          1.72,
          1.74,
          1.76,
          1.78,
          1.8,
          1.82,
          1.8399999999999999,
          1.8599999999999999,
          1.88,
          1.9,
          1.92,
          1.94,
          1.96,
          1.98,
          2,
          2.02,
          2.04,
          2.06,
          2.08,
          2.1,
          2.12,
          2.14,
          2.16,
          2.1799999999999997,
          2.2,
          2.2199999999999998,
          2.24,
          2.26,
          2.2800000000000002,
          2.3,
          2.3200000000000003,
          2.34,
          2.3600000000000003,
          2.38,
          2.4000000000000004,
          2.42,
          2.44,
          2.46,
          2.48,
          2.5,
          2.52,
          2.54,
          2.56,
          2.58,
          2.6,
          2.62,
          2.64,
          2.66,
          2.6799999999999997,
          2.7,
          2.7199999999999998,
          2.74,
          2.76,
          2.7800000000000002,
          2.8,
          2.8200000000000003,
          2.84,
          2.8600000000000003,
          2.88,
          2.9000000000000004,
          2.92,
          2.94,
          2.96,
          2.98,
          3
         ],
         "xaxis": "x3",
         "y": [
          0.38,
          0.38,
          0.38,
          0.38,
          0.38,
          0.38,
          0.38,
          0.38,
          0.38,
          0.38,
          0.38,
          0.38,
          0.38,
          0.38,
          0.38,
          0.38,
          0.38,
          0.38,
          0.38,
          0.38,
          0.38,
          0.38,
          0.38,
          0.38,
          0.38,
          0.38,
          0.42,
          0.42,
          0.42,
          0.42,
          0.42,
          0.42,
          0.42,
          0.42,
          0.42,
          0.42,
          0.42,
          0.42,
          0.42,
          0.42,
          0.42,
          0.42,
          0.42,
          0.42,
          0.42,
          0.42,
          0.42,
          0.42,
          0.42,
          0.42,
          0.42,
          0.42,
          0.42,
          0.42,
          0.42,
          0.42,
          0.42,
          0.42,
          0.42,
          0.42,
          0.42,
          0.42,
          0.42,
          0.42,
          0.42,
          0.42,
          0.42,
          0.42,
          0.42,
          0.42,
          0.42,
          0.42,
          0.42,
          0.42,
          0.42,
          0.42,
          0.41,
          0.41,
          0.41,
          0.41,
          0.41,
          0.41,
          0.41,
          0.41,
          0.41,
          0.41,
          0.41,
          0.41,
          0.41,
          0.41,
          0.41,
          0.41,
          0.41,
          0.41,
          0.41,
          0.41,
          0.41,
          0.41,
          0.41,
          0.41,
          0.41
         ],
         "yaxis": "y3"
        },
        {
         "customdata": [
          [
           "</br>id: 30</br>prediction: 0.27</br>zwapnienia_miazdzycowe: 0.0</br></br>wiek: 57.0</br>plec: 1.0</br>typ_bolu_klatka: 3.0</br>cisnienie_krwi_spoczynek: 128.0</br>cholesterol_we_krwi: 229.0</br>cukier_we_krwi: 0.0</br>wynik_ekg_spoczynek: 2.0</br>ilosc_uderzen_serca: 150.0</br>bol_klatka_wysilek: 0.0</br>max_obnizka_st: 0.4</br>przebieg_st_szczyt: 2.0</br>proba_ta: 7.0</br>_original_yhat_: 0.42</br>"
          ],
          [
           "</br>id: 30</br>prediction: 0.27</br>zwapnienia_miazdzycowe: 0.03</br></br>wiek: 57.0</br>plec: 1.0</br>typ_bolu_klatka: 3.0</br>cisnienie_krwi_spoczynek: 128.0</br>cholesterol_we_krwi: 229.0</br>cukier_we_krwi: 0.0</br>wynik_ekg_spoczynek: 2.0</br>ilosc_uderzen_serca: 150.0</br>bol_klatka_wysilek: 0.0</br>max_obnizka_st: 0.4</br>przebieg_st_szczyt: 2.0</br>proba_ta: 7.0</br>_original_yhat_: 0.42</br>"
          ],
          [
           "</br>id: 30</br>prediction: 0.27</br>zwapnienia_miazdzycowe: 0.06</br></br>wiek: 57.0</br>plec: 1.0</br>typ_bolu_klatka: 3.0</br>cisnienie_krwi_spoczynek: 128.0</br>cholesterol_we_krwi: 229.0</br>cukier_we_krwi: 0.0</br>wynik_ekg_spoczynek: 2.0</br>ilosc_uderzen_serca: 150.0</br>bol_klatka_wysilek: 0.0</br>max_obnizka_st: 0.4</br>przebieg_st_szczyt: 2.0</br>proba_ta: 7.0</br>_original_yhat_: 0.42</br>"
          ],
          [
           "</br>id: 30</br>prediction: 0.27</br>zwapnienia_miazdzycowe: 0.09</br></br>wiek: 57.0</br>plec: 1.0</br>typ_bolu_klatka: 3.0</br>cisnienie_krwi_spoczynek: 128.0</br>cholesterol_we_krwi: 229.0</br>cukier_we_krwi: 0.0</br>wynik_ekg_spoczynek: 2.0</br>ilosc_uderzen_serca: 150.0</br>bol_klatka_wysilek: 0.0</br>max_obnizka_st: 0.4</br>przebieg_st_szczyt: 2.0</br>proba_ta: 7.0</br>_original_yhat_: 0.42</br>"
          ],
          [
           "</br>id: 30</br>prediction: 0.27</br>zwapnienia_miazdzycowe: 0.12</br></br>wiek: 57.0</br>plec: 1.0</br>typ_bolu_klatka: 3.0</br>cisnienie_krwi_spoczynek: 128.0</br>cholesterol_we_krwi: 229.0</br>cukier_we_krwi: 0.0</br>wynik_ekg_spoczynek: 2.0</br>ilosc_uderzen_serca: 150.0</br>bol_klatka_wysilek: 0.0</br>max_obnizka_st: 0.4</br>przebieg_st_szczyt: 2.0</br>proba_ta: 7.0</br>_original_yhat_: 0.42</br>"
          ],
          [
           "</br>id: 30</br>prediction: 0.27</br>zwapnienia_miazdzycowe: 0.15</br></br>wiek: 57.0</br>plec: 1.0</br>typ_bolu_klatka: 3.0</br>cisnienie_krwi_spoczynek: 128.0</br>cholesterol_we_krwi: 229.0</br>cukier_we_krwi: 0.0</br>wynik_ekg_spoczynek: 2.0</br>ilosc_uderzen_serca: 150.0</br>bol_klatka_wysilek: 0.0</br>max_obnizka_st: 0.4</br>przebieg_st_szczyt: 2.0</br>proba_ta: 7.0</br>_original_yhat_: 0.42</br>"
          ],
          [
           "</br>id: 30</br>prediction: 0.27</br>zwapnienia_miazdzycowe: 0.18</br></br>wiek: 57.0</br>plec: 1.0</br>typ_bolu_klatka: 3.0</br>cisnienie_krwi_spoczynek: 128.0</br>cholesterol_we_krwi: 229.0</br>cukier_we_krwi: 0.0</br>wynik_ekg_spoczynek: 2.0</br>ilosc_uderzen_serca: 150.0</br>bol_klatka_wysilek: 0.0</br>max_obnizka_st: 0.4</br>przebieg_st_szczyt: 2.0</br>proba_ta: 7.0</br>_original_yhat_: 0.42</br>"
          ],
          [
           "</br>id: 30</br>prediction: 0.27</br>zwapnienia_miazdzycowe: 0.21</br></br>wiek: 57.0</br>plec: 1.0</br>typ_bolu_klatka: 3.0</br>cisnienie_krwi_spoczynek: 128.0</br>cholesterol_we_krwi: 229.0</br>cukier_we_krwi: 0.0</br>wynik_ekg_spoczynek: 2.0</br>ilosc_uderzen_serca: 150.0</br>bol_klatka_wysilek: 0.0</br>max_obnizka_st: 0.4</br>przebieg_st_szczyt: 2.0</br>proba_ta: 7.0</br>_original_yhat_: 0.42</br>"
          ],
          [
           "</br>id: 30</br>prediction: 0.27</br>zwapnienia_miazdzycowe: 0.24</br></br>wiek: 57.0</br>plec: 1.0</br>typ_bolu_klatka: 3.0</br>cisnienie_krwi_spoczynek: 128.0</br>cholesterol_we_krwi: 229.0</br>cukier_we_krwi: 0.0</br>wynik_ekg_spoczynek: 2.0</br>ilosc_uderzen_serca: 150.0</br>bol_klatka_wysilek: 0.0</br>max_obnizka_st: 0.4</br>przebieg_st_szczyt: 2.0</br>proba_ta: 7.0</br>_original_yhat_: 0.42</br>"
          ],
          [
           "</br>id: 30</br>prediction: 0.27</br>zwapnienia_miazdzycowe: 0.27</br></br>wiek: 57.0</br>plec: 1.0</br>typ_bolu_klatka: 3.0</br>cisnienie_krwi_spoczynek: 128.0</br>cholesterol_we_krwi: 229.0</br>cukier_we_krwi: 0.0</br>wynik_ekg_spoczynek: 2.0</br>ilosc_uderzen_serca: 150.0</br>bol_klatka_wysilek: 0.0</br>max_obnizka_st: 0.4</br>przebieg_st_szczyt: 2.0</br>proba_ta: 7.0</br>_original_yhat_: 0.42</br>"
          ],
          [
           "</br>id: 30</br>prediction: 0.27</br>zwapnienia_miazdzycowe: 0.3</br></br>wiek: 57.0</br>plec: 1.0</br>typ_bolu_klatka: 3.0</br>cisnienie_krwi_spoczynek: 128.0</br>cholesterol_we_krwi: 229.0</br>cukier_we_krwi: 0.0</br>wynik_ekg_spoczynek: 2.0</br>ilosc_uderzen_serca: 150.0</br>bol_klatka_wysilek: 0.0</br>max_obnizka_st: 0.4</br>przebieg_st_szczyt: 2.0</br>proba_ta: 7.0</br>_original_yhat_: 0.42</br>"
          ],
          [
           "</br>id: 30</br>prediction: 0.27</br>zwapnienia_miazdzycowe: 0.32999999999999996</br></br>wiek: 57.0</br>plec: 1.0</br>typ_bolu_klatka: 3.0</br>cisnienie_krwi_spoczynek: 128.0</br>cholesterol_we_krwi: 229.0</br>cukier_we_krwi: 0.0</br>wynik_ekg_spoczynek: 2.0</br>ilosc_uderzen_serca: 150.0</br>bol_klatka_wysilek: 0.0</br>max_obnizka_st: 0.4</br>przebieg_st_szczyt: 2.0</br>proba_ta: 7.0</br>_original_yhat_: 0.42</br>"
          ],
          [
           "</br>id: 30</br>prediction: 0.27</br>zwapnienia_miazdzycowe: 0.36</br></br>wiek: 57.0</br>plec: 1.0</br>typ_bolu_klatka: 3.0</br>cisnienie_krwi_spoczynek: 128.0</br>cholesterol_we_krwi: 229.0</br>cukier_we_krwi: 0.0</br>wynik_ekg_spoczynek: 2.0</br>ilosc_uderzen_serca: 150.0</br>bol_klatka_wysilek: 0.0</br>max_obnizka_st: 0.4</br>przebieg_st_szczyt: 2.0</br>proba_ta: 7.0</br>_original_yhat_: 0.42</br>"
          ],
          [
           "</br>id: 30</br>prediction: 0.27</br>zwapnienia_miazdzycowe: 0.39</br></br>wiek: 57.0</br>plec: 1.0</br>typ_bolu_klatka: 3.0</br>cisnienie_krwi_spoczynek: 128.0</br>cholesterol_we_krwi: 229.0</br>cukier_we_krwi: 0.0</br>wynik_ekg_spoczynek: 2.0</br>ilosc_uderzen_serca: 150.0</br>bol_klatka_wysilek: 0.0</br>max_obnizka_st: 0.4</br>przebieg_st_szczyt: 2.0</br>proba_ta: 7.0</br>_original_yhat_: 0.42</br>"
          ],
          [
           "</br>id: 30</br>prediction: 0.27</br>zwapnienia_miazdzycowe: 0.42</br></br>wiek: 57.0</br>plec: 1.0</br>typ_bolu_klatka: 3.0</br>cisnienie_krwi_spoczynek: 128.0</br>cholesterol_we_krwi: 229.0</br>cukier_we_krwi: 0.0</br>wynik_ekg_spoczynek: 2.0</br>ilosc_uderzen_serca: 150.0</br>bol_klatka_wysilek: 0.0</br>max_obnizka_st: 0.4</br>przebieg_st_szczyt: 2.0</br>proba_ta: 7.0</br>_original_yhat_: 0.42</br>"
          ],
          [
           "</br>id: 30</br>prediction: 0.27</br>zwapnienia_miazdzycowe: 0.44999999999999996</br></br>wiek: 57.0</br>plec: 1.0</br>typ_bolu_klatka: 3.0</br>cisnienie_krwi_spoczynek: 128.0</br>cholesterol_we_krwi: 229.0</br>cukier_we_krwi: 0.0</br>wynik_ekg_spoczynek: 2.0</br>ilosc_uderzen_serca: 150.0</br>bol_klatka_wysilek: 0.0</br>max_obnizka_st: 0.4</br>przebieg_st_szczyt: 2.0</br>proba_ta: 7.0</br>_original_yhat_: 0.42</br>"
          ],
          [
           "</br>id: 30</br>prediction: 0.27</br>zwapnienia_miazdzycowe: 0.48</br></br>wiek: 57.0</br>plec: 1.0</br>typ_bolu_klatka: 3.0</br>cisnienie_krwi_spoczynek: 128.0</br>cholesterol_we_krwi: 229.0</br>cukier_we_krwi: 0.0</br>wynik_ekg_spoczynek: 2.0</br>ilosc_uderzen_serca: 150.0</br>bol_klatka_wysilek: 0.0</br>max_obnizka_st: 0.4</br>przebieg_st_szczyt: 2.0</br>proba_ta: 7.0</br>_original_yhat_: 0.42</br>"
          ],
          [
           "</br>id: 30</br>prediction: 0.42</br>zwapnienia_miazdzycowe: 0.51</br></br>wiek: 57.0</br>plec: 1.0</br>typ_bolu_klatka: 3.0</br>cisnienie_krwi_spoczynek: 128.0</br>cholesterol_we_krwi: 229.0</br>cukier_we_krwi: 0.0</br>wynik_ekg_spoczynek: 2.0</br>ilosc_uderzen_serca: 150.0</br>bol_klatka_wysilek: 0.0</br>max_obnizka_st: 0.4</br>przebieg_st_szczyt: 2.0</br>proba_ta: 7.0</br>_original_yhat_: 0.42</br>"
          ],
          [
           "</br>id: 30</br>prediction: 0.42</br>zwapnienia_miazdzycowe: 0.54</br></br>wiek: 57.0</br>plec: 1.0</br>typ_bolu_klatka: 3.0</br>cisnienie_krwi_spoczynek: 128.0</br>cholesterol_we_krwi: 229.0</br>cukier_we_krwi: 0.0</br>wynik_ekg_spoczynek: 2.0</br>ilosc_uderzen_serca: 150.0</br>bol_klatka_wysilek: 0.0</br>max_obnizka_st: 0.4</br>przebieg_st_szczyt: 2.0</br>proba_ta: 7.0</br>_original_yhat_: 0.42</br>"
          ],
          [
           "</br>id: 30</br>prediction: 0.42</br>zwapnienia_miazdzycowe: 0.57</br></br>wiek: 57.0</br>plec: 1.0</br>typ_bolu_klatka: 3.0</br>cisnienie_krwi_spoczynek: 128.0</br>cholesterol_we_krwi: 229.0</br>cukier_we_krwi: 0.0</br>wynik_ekg_spoczynek: 2.0</br>ilosc_uderzen_serca: 150.0</br>bol_klatka_wysilek: 0.0</br>max_obnizka_st: 0.4</br>przebieg_st_szczyt: 2.0</br>proba_ta: 7.0</br>_original_yhat_: 0.42</br>"
          ],
          [
           "</br>id: 30</br>prediction: 0.42</br>zwapnienia_miazdzycowe: 0.6</br></br>wiek: 57.0</br>plec: 1.0</br>typ_bolu_klatka: 3.0</br>cisnienie_krwi_spoczynek: 128.0</br>cholesterol_we_krwi: 229.0</br>cukier_we_krwi: 0.0</br>wynik_ekg_spoczynek: 2.0</br>ilosc_uderzen_serca: 150.0</br>bol_klatka_wysilek: 0.0</br>max_obnizka_st: 0.4</br>przebieg_st_szczyt: 2.0</br>proba_ta: 7.0</br>_original_yhat_: 0.42</br>"
          ],
          [
           "</br>id: 30</br>prediction: 0.42</br>zwapnienia_miazdzycowe: 0.63</br></br>wiek: 57.0</br>plec: 1.0</br>typ_bolu_klatka: 3.0</br>cisnienie_krwi_spoczynek: 128.0</br>cholesterol_we_krwi: 229.0</br>cukier_we_krwi: 0.0</br>wynik_ekg_spoczynek: 2.0</br>ilosc_uderzen_serca: 150.0</br>bol_klatka_wysilek: 0.0</br>max_obnizka_st: 0.4</br>przebieg_st_szczyt: 2.0</br>proba_ta: 7.0</br>_original_yhat_: 0.42</br>"
          ],
          [
           "</br>id: 30</br>prediction: 0.42</br>zwapnienia_miazdzycowe: 0.6599999999999999</br></br>wiek: 57.0</br>plec: 1.0</br>typ_bolu_klatka: 3.0</br>cisnienie_krwi_spoczynek: 128.0</br>cholesterol_we_krwi: 229.0</br>cukier_we_krwi: 0.0</br>wynik_ekg_spoczynek: 2.0</br>ilosc_uderzen_serca: 150.0</br>bol_klatka_wysilek: 0.0</br>max_obnizka_st: 0.4</br>przebieg_st_szczyt: 2.0</br>proba_ta: 7.0</br>_original_yhat_: 0.42</br>"
          ],
          [
           "</br>id: 30</br>prediction: 0.42</br>zwapnienia_miazdzycowe: 0.69</br></br>wiek: 57.0</br>plec: 1.0</br>typ_bolu_klatka: 3.0</br>cisnienie_krwi_spoczynek: 128.0</br>cholesterol_we_krwi: 229.0</br>cukier_we_krwi: 0.0</br>wynik_ekg_spoczynek: 2.0</br>ilosc_uderzen_serca: 150.0</br>bol_klatka_wysilek: 0.0</br>max_obnizka_st: 0.4</br>przebieg_st_szczyt: 2.0</br>proba_ta: 7.0</br>_original_yhat_: 0.42</br>"
          ],
          [
           "</br>id: 30</br>prediction: 0.42</br>zwapnienia_miazdzycowe: 0.72</br></br>wiek: 57.0</br>plec: 1.0</br>typ_bolu_klatka: 3.0</br>cisnienie_krwi_spoczynek: 128.0</br>cholesterol_we_krwi: 229.0</br>cukier_we_krwi: 0.0</br>wynik_ekg_spoczynek: 2.0</br>ilosc_uderzen_serca: 150.0</br>bol_klatka_wysilek: 0.0</br>max_obnizka_st: 0.4</br>przebieg_st_szczyt: 2.0</br>proba_ta: 7.0</br>_original_yhat_: 0.42</br>"
          ],
          [
           "</br>id: 30</br>prediction: 0.42</br>zwapnienia_miazdzycowe: 0.75</br></br>wiek: 57.0</br>plec: 1.0</br>typ_bolu_klatka: 3.0</br>cisnienie_krwi_spoczynek: 128.0</br>cholesterol_we_krwi: 229.0</br>cukier_we_krwi: 0.0</br>wynik_ekg_spoczynek: 2.0</br>ilosc_uderzen_serca: 150.0</br>bol_klatka_wysilek: 0.0</br>max_obnizka_st: 0.4</br>przebieg_st_szczyt: 2.0</br>proba_ta: 7.0</br>_original_yhat_: 0.42</br>"
          ],
          [
           "</br>id: 30</br>prediction: 0.42</br>zwapnienia_miazdzycowe: 0.78</br></br>wiek: 57.0</br>plec: 1.0</br>typ_bolu_klatka: 3.0</br>cisnienie_krwi_spoczynek: 128.0</br>cholesterol_we_krwi: 229.0</br>cukier_we_krwi: 0.0</br>wynik_ekg_spoczynek: 2.0</br>ilosc_uderzen_serca: 150.0</br>bol_klatka_wysilek: 0.0</br>max_obnizka_st: 0.4</br>przebieg_st_szczyt: 2.0</br>proba_ta: 7.0</br>_original_yhat_: 0.42</br>"
          ],
          [
           "</br>id: 30</br>prediction: 0.42</br>zwapnienia_miazdzycowe: 0.8099999999999999</br></br>wiek: 57.0</br>plec: 1.0</br>typ_bolu_klatka: 3.0</br>cisnienie_krwi_spoczynek: 128.0</br>cholesterol_we_krwi: 229.0</br>cukier_we_krwi: 0.0</br>wynik_ekg_spoczynek: 2.0</br>ilosc_uderzen_serca: 150.0</br>bol_klatka_wysilek: 0.0</br>max_obnizka_st: 0.4</br>przebieg_st_szczyt: 2.0</br>proba_ta: 7.0</br>_original_yhat_: 0.42</br>"
          ],
          [
           "</br>id: 30</br>prediction: 0.42</br>zwapnienia_miazdzycowe: 0.84</br></br>wiek: 57.0</br>plec: 1.0</br>typ_bolu_klatka: 3.0</br>cisnienie_krwi_spoczynek: 128.0</br>cholesterol_we_krwi: 229.0</br>cukier_we_krwi: 0.0</br>wynik_ekg_spoczynek: 2.0</br>ilosc_uderzen_serca: 150.0</br>bol_klatka_wysilek: 0.0</br>max_obnizka_st: 0.4</br>przebieg_st_szczyt: 2.0</br>proba_ta: 7.0</br>_original_yhat_: 0.42</br>"
          ],
          [
           "</br>id: 30</br>prediction: 0.42</br>zwapnienia_miazdzycowe: 0.87</br></br>wiek: 57.0</br>plec: 1.0</br>typ_bolu_klatka: 3.0</br>cisnienie_krwi_spoczynek: 128.0</br>cholesterol_we_krwi: 229.0</br>cukier_we_krwi: 0.0</br>wynik_ekg_spoczynek: 2.0</br>ilosc_uderzen_serca: 150.0</br>bol_klatka_wysilek: 0.0</br>max_obnizka_st: 0.4</br>przebieg_st_szczyt: 2.0</br>proba_ta: 7.0</br>_original_yhat_: 0.42</br>"
          ],
          [
           "</br>id: 30</br>prediction: 0.42</br>zwapnienia_miazdzycowe: 0.8999999999999999</br></br>wiek: 57.0</br>plec: 1.0</br>typ_bolu_klatka: 3.0</br>cisnienie_krwi_spoczynek: 128.0</br>cholesterol_we_krwi: 229.0</br>cukier_we_krwi: 0.0</br>wynik_ekg_spoczynek: 2.0</br>ilosc_uderzen_serca: 150.0</br>bol_klatka_wysilek: 0.0</br>max_obnizka_st: 0.4</br>przebieg_st_szczyt: 2.0</br>proba_ta: 7.0</br>_original_yhat_: 0.42</br>"
          ],
          [
           "</br>id: 30</br>prediction: 0.42</br>zwapnienia_miazdzycowe: 0.9299999999999999</br></br>wiek: 57.0</br>plec: 1.0</br>typ_bolu_klatka: 3.0</br>cisnienie_krwi_spoczynek: 128.0</br>cholesterol_we_krwi: 229.0</br>cukier_we_krwi: 0.0</br>wynik_ekg_spoczynek: 2.0</br>ilosc_uderzen_serca: 150.0</br>bol_klatka_wysilek: 0.0</br>max_obnizka_st: 0.4</br>przebieg_st_szczyt: 2.0</br>proba_ta: 7.0</br>_original_yhat_: 0.42</br>"
          ],
          [
           "</br>id: 30</br>prediction: 0.42</br>zwapnienia_miazdzycowe: 0.96</br></br>wiek: 57.0</br>plec: 1.0</br>typ_bolu_klatka: 3.0</br>cisnienie_krwi_spoczynek: 128.0</br>cholesterol_we_krwi: 229.0</br>cukier_we_krwi: 0.0</br>wynik_ekg_spoczynek: 2.0</br>ilosc_uderzen_serca: 150.0</br>bol_klatka_wysilek: 0.0</br>max_obnizka_st: 0.4</br>przebieg_st_szczyt: 2.0</br>proba_ta: 7.0</br>_original_yhat_: 0.42</br>"
          ],
          [
           "</br>id: 30</br>prediction: 0.42</br>zwapnienia_miazdzycowe: 0.99</br></br>wiek: 57.0</br>plec: 1.0</br>typ_bolu_klatka: 3.0</br>cisnienie_krwi_spoczynek: 128.0</br>cholesterol_we_krwi: 229.0</br>cukier_we_krwi: 0.0</br>wynik_ekg_spoczynek: 2.0</br>ilosc_uderzen_serca: 150.0</br>bol_klatka_wysilek: 0.0</br>max_obnizka_st: 0.4</br>przebieg_st_szczyt: 2.0</br>proba_ta: 7.0</br>_original_yhat_: 0.42</br>"
          ],
          [
           "</br>id: 30</br>prediction: 0.42</br>zwapnienia_miazdzycowe: 1.0</br></br>wiek: 57.0</br>plec: 1.0</br>typ_bolu_klatka: 3.0</br>cisnienie_krwi_spoczynek: 128.0</br>cholesterol_we_krwi: 229.0</br>cukier_we_krwi: 0.0</br>wynik_ekg_spoczynek: 2.0</br>ilosc_uderzen_serca: 150.0</br>bol_klatka_wysilek: 0.0</br>max_obnizka_st: 0.4</br>przebieg_st_szczyt: 2.0</br>proba_ta: 7.0</br>_original_yhat_: 0.42</br>"
          ],
          [
           "</br>id: 30</br>prediction: 0.42</br>zwapnienia_miazdzycowe: 1.02</br></br>wiek: 57.0</br>plec: 1.0</br>typ_bolu_klatka: 3.0</br>cisnienie_krwi_spoczynek: 128.0</br>cholesterol_we_krwi: 229.0</br>cukier_we_krwi: 0.0</br>wynik_ekg_spoczynek: 2.0</br>ilosc_uderzen_serca: 150.0</br>bol_klatka_wysilek: 0.0</br>max_obnizka_st: 0.4</br>przebieg_st_szczyt: 2.0</br>proba_ta: 7.0</br>_original_yhat_: 0.42</br>"
          ],
          [
           "</br>id: 30</br>prediction: 0.42</br>zwapnienia_miazdzycowe: 1.05</br></br>wiek: 57.0</br>plec: 1.0</br>typ_bolu_klatka: 3.0</br>cisnienie_krwi_spoczynek: 128.0</br>cholesterol_we_krwi: 229.0</br>cukier_we_krwi: 0.0</br>wynik_ekg_spoczynek: 2.0</br>ilosc_uderzen_serca: 150.0</br>bol_klatka_wysilek: 0.0</br>max_obnizka_st: 0.4</br>przebieg_st_szczyt: 2.0</br>proba_ta: 7.0</br>_original_yhat_: 0.42</br>"
          ],
          [
           "</br>id: 30</br>prediction: 0.42</br>zwapnienia_miazdzycowe: 1.08</br></br>wiek: 57.0</br>plec: 1.0</br>typ_bolu_klatka: 3.0</br>cisnienie_krwi_spoczynek: 128.0</br>cholesterol_we_krwi: 229.0</br>cukier_we_krwi: 0.0</br>wynik_ekg_spoczynek: 2.0</br>ilosc_uderzen_serca: 150.0</br>bol_klatka_wysilek: 0.0</br>max_obnizka_st: 0.4</br>przebieg_st_szczyt: 2.0</br>proba_ta: 7.0</br>_original_yhat_: 0.42</br>"
          ],
          [
           "</br>id: 30</br>prediction: 0.42</br>zwapnienia_miazdzycowe: 1.1099999999999999</br></br>wiek: 57.0</br>plec: 1.0</br>typ_bolu_klatka: 3.0</br>cisnienie_krwi_spoczynek: 128.0</br>cholesterol_we_krwi: 229.0</br>cukier_we_krwi: 0.0</br>wynik_ekg_spoczynek: 2.0</br>ilosc_uderzen_serca: 150.0</br>bol_klatka_wysilek: 0.0</br>max_obnizka_st: 0.4</br>przebieg_st_szczyt: 2.0</br>proba_ta: 7.0</br>_original_yhat_: 0.42</br>"
          ],
          [
           "</br>id: 30</br>prediction: 0.42</br>zwapnienia_miazdzycowe: 1.14</br></br>wiek: 57.0</br>plec: 1.0</br>typ_bolu_klatka: 3.0</br>cisnienie_krwi_spoczynek: 128.0</br>cholesterol_we_krwi: 229.0</br>cukier_we_krwi: 0.0</br>wynik_ekg_spoczynek: 2.0</br>ilosc_uderzen_serca: 150.0</br>bol_klatka_wysilek: 0.0</br>max_obnizka_st: 0.4</br>przebieg_st_szczyt: 2.0</br>proba_ta: 7.0</br>_original_yhat_: 0.42</br>"
          ],
          [
           "</br>id: 30</br>prediction: 0.42</br>zwapnienia_miazdzycowe: 1.17</br></br>wiek: 57.0</br>plec: 1.0</br>typ_bolu_klatka: 3.0</br>cisnienie_krwi_spoczynek: 128.0</br>cholesterol_we_krwi: 229.0</br>cukier_we_krwi: 0.0</br>wynik_ekg_spoczynek: 2.0</br>ilosc_uderzen_serca: 150.0</br>bol_klatka_wysilek: 0.0</br>max_obnizka_st: 0.4</br>przebieg_st_szczyt: 2.0</br>proba_ta: 7.0</br>_original_yhat_: 0.42</br>"
          ],
          [
           "</br>id: 30</br>prediction: 0.42</br>zwapnienia_miazdzycowe: 1.2</br></br>wiek: 57.0</br>plec: 1.0</br>typ_bolu_klatka: 3.0</br>cisnienie_krwi_spoczynek: 128.0</br>cholesterol_we_krwi: 229.0</br>cukier_we_krwi: 0.0</br>wynik_ekg_spoczynek: 2.0</br>ilosc_uderzen_serca: 150.0</br>bol_klatka_wysilek: 0.0</br>max_obnizka_st: 0.4</br>przebieg_st_szczyt: 2.0</br>proba_ta: 7.0</br>_original_yhat_: 0.42</br>"
          ],
          [
           "</br>id: 30</br>prediction: 0.42</br>zwapnienia_miazdzycowe: 1.23</br></br>wiek: 57.0</br>plec: 1.0</br>typ_bolu_klatka: 3.0</br>cisnienie_krwi_spoczynek: 128.0</br>cholesterol_we_krwi: 229.0</br>cukier_we_krwi: 0.0</br>wynik_ekg_spoczynek: 2.0</br>ilosc_uderzen_serca: 150.0</br>bol_klatka_wysilek: 0.0</br>max_obnizka_st: 0.4</br>przebieg_st_szczyt: 2.0</br>proba_ta: 7.0</br>_original_yhat_: 0.42</br>"
          ],
          [
           "</br>id: 30</br>prediction: 0.42</br>zwapnienia_miazdzycowe: 1.26</br></br>wiek: 57.0</br>plec: 1.0</br>typ_bolu_klatka: 3.0</br>cisnienie_krwi_spoczynek: 128.0</br>cholesterol_we_krwi: 229.0</br>cukier_we_krwi: 0.0</br>wynik_ekg_spoczynek: 2.0</br>ilosc_uderzen_serca: 150.0</br>bol_klatka_wysilek: 0.0</br>max_obnizka_st: 0.4</br>przebieg_st_szczyt: 2.0</br>proba_ta: 7.0</br>_original_yhat_: 0.42</br>"
          ],
          [
           "</br>id: 30</br>prediction: 0.42</br>zwapnienia_miazdzycowe: 1.29</br></br>wiek: 57.0</br>plec: 1.0</br>typ_bolu_klatka: 3.0</br>cisnienie_krwi_spoczynek: 128.0</br>cholesterol_we_krwi: 229.0</br>cukier_we_krwi: 0.0</br>wynik_ekg_spoczynek: 2.0</br>ilosc_uderzen_serca: 150.0</br>bol_klatka_wysilek: 0.0</br>max_obnizka_st: 0.4</br>przebieg_st_szczyt: 2.0</br>proba_ta: 7.0</br>_original_yhat_: 0.42</br>"
          ],
          [
           "</br>id: 30</br>prediction: 0.42</br>zwapnienia_miazdzycowe: 1.3199999999999998</br></br>wiek: 57.0</br>plec: 1.0</br>typ_bolu_klatka: 3.0</br>cisnienie_krwi_spoczynek: 128.0</br>cholesterol_we_krwi: 229.0</br>cukier_we_krwi: 0.0</br>wynik_ekg_spoczynek: 2.0</br>ilosc_uderzen_serca: 150.0</br>bol_klatka_wysilek: 0.0</br>max_obnizka_st: 0.4</br>przebieg_st_szczyt: 2.0</br>proba_ta: 7.0</br>_original_yhat_: 0.42</br>"
          ],
          [
           "</br>id: 30</br>prediction: 0.42</br>zwapnienia_miazdzycowe: 1.3499999999999999</br></br>wiek: 57.0</br>plec: 1.0</br>typ_bolu_klatka: 3.0</br>cisnienie_krwi_spoczynek: 128.0</br>cholesterol_we_krwi: 229.0</br>cukier_we_krwi: 0.0</br>wynik_ekg_spoczynek: 2.0</br>ilosc_uderzen_serca: 150.0</br>bol_klatka_wysilek: 0.0</br>max_obnizka_st: 0.4</br>przebieg_st_szczyt: 2.0</br>proba_ta: 7.0</br>_original_yhat_: 0.42</br>"
          ],
          [
           "</br>id: 30</br>prediction: 0.42</br>zwapnienia_miazdzycowe: 1.38</br></br>wiek: 57.0</br>plec: 1.0</br>typ_bolu_klatka: 3.0</br>cisnienie_krwi_spoczynek: 128.0</br>cholesterol_we_krwi: 229.0</br>cukier_we_krwi: 0.0</br>wynik_ekg_spoczynek: 2.0</br>ilosc_uderzen_serca: 150.0</br>bol_klatka_wysilek: 0.0</br>max_obnizka_st: 0.4</br>przebieg_st_szczyt: 2.0</br>proba_ta: 7.0</br>_original_yhat_: 0.42</br>"
          ],
          [
           "</br>id: 30</br>prediction: 0.42</br>zwapnienia_miazdzycowe: 1.41</br></br>wiek: 57.0</br>plec: 1.0</br>typ_bolu_klatka: 3.0</br>cisnienie_krwi_spoczynek: 128.0</br>cholesterol_we_krwi: 229.0</br>cukier_we_krwi: 0.0</br>wynik_ekg_spoczynek: 2.0</br>ilosc_uderzen_serca: 150.0</br>bol_klatka_wysilek: 0.0</br>max_obnizka_st: 0.4</br>przebieg_st_szczyt: 2.0</br>proba_ta: 7.0</br>_original_yhat_: 0.42</br>"
          ],
          [
           "</br>id: 30</br>prediction: 0.42</br>zwapnienia_miazdzycowe: 1.44</br></br>wiek: 57.0</br>plec: 1.0</br>typ_bolu_klatka: 3.0</br>cisnienie_krwi_spoczynek: 128.0</br>cholesterol_we_krwi: 229.0</br>cukier_we_krwi: 0.0</br>wynik_ekg_spoczynek: 2.0</br>ilosc_uderzen_serca: 150.0</br>bol_klatka_wysilek: 0.0</br>max_obnizka_st: 0.4</br>przebieg_st_szczyt: 2.0</br>proba_ta: 7.0</br>_original_yhat_: 0.42</br>"
          ],
          [
           "</br>id: 30</br>prediction: 0.42</br>zwapnienia_miazdzycowe: 1.47</br></br>wiek: 57.0</br>plec: 1.0</br>typ_bolu_klatka: 3.0</br>cisnienie_krwi_spoczynek: 128.0</br>cholesterol_we_krwi: 229.0</br>cukier_we_krwi: 0.0</br>wynik_ekg_spoczynek: 2.0</br>ilosc_uderzen_serca: 150.0</br>bol_klatka_wysilek: 0.0</br>max_obnizka_st: 0.4</br>przebieg_st_szczyt: 2.0</br>proba_ta: 7.0</br>_original_yhat_: 0.42</br>"
          ],
          [
           "</br>id: 30</br>prediction: 0.42</br>zwapnienia_miazdzycowe: 1.5</br></br>wiek: 57.0</br>plec: 1.0</br>typ_bolu_klatka: 3.0</br>cisnienie_krwi_spoczynek: 128.0</br>cholesterol_we_krwi: 229.0</br>cukier_we_krwi: 0.0</br>wynik_ekg_spoczynek: 2.0</br>ilosc_uderzen_serca: 150.0</br>bol_klatka_wysilek: 0.0</br>max_obnizka_st: 0.4</br>przebieg_st_szczyt: 2.0</br>proba_ta: 7.0</br>_original_yhat_: 0.42</br>"
          ],
          [
           "</br>id: 30</br>prediction: 0.47</br>zwapnienia_miazdzycowe: 1.53</br></br>wiek: 57.0</br>plec: 1.0</br>typ_bolu_klatka: 3.0</br>cisnienie_krwi_spoczynek: 128.0</br>cholesterol_we_krwi: 229.0</br>cukier_we_krwi: 0.0</br>wynik_ekg_spoczynek: 2.0</br>ilosc_uderzen_serca: 150.0</br>bol_klatka_wysilek: 0.0</br>max_obnizka_st: 0.4</br>przebieg_st_szczyt: 2.0</br>proba_ta: 7.0</br>_original_yhat_: 0.42</br>"
          ],
          [
           "</br>id: 30</br>prediction: 0.47</br>zwapnienia_miazdzycowe: 1.56</br></br>wiek: 57.0</br>plec: 1.0</br>typ_bolu_klatka: 3.0</br>cisnienie_krwi_spoczynek: 128.0</br>cholesterol_we_krwi: 229.0</br>cukier_we_krwi: 0.0</br>wynik_ekg_spoczynek: 2.0</br>ilosc_uderzen_serca: 150.0</br>bol_klatka_wysilek: 0.0</br>max_obnizka_st: 0.4</br>przebieg_st_szczyt: 2.0</br>proba_ta: 7.0</br>_original_yhat_: 0.42</br>"
          ],
          [
           "</br>id: 30</br>prediction: 0.47</br>zwapnienia_miazdzycowe: 1.5899999999999999</br></br>wiek: 57.0</br>plec: 1.0</br>typ_bolu_klatka: 3.0</br>cisnienie_krwi_spoczynek: 128.0</br>cholesterol_we_krwi: 229.0</br>cukier_we_krwi: 0.0</br>wynik_ekg_spoczynek: 2.0</br>ilosc_uderzen_serca: 150.0</br>bol_klatka_wysilek: 0.0</br>max_obnizka_st: 0.4</br>przebieg_st_szczyt: 2.0</br>proba_ta: 7.0</br>_original_yhat_: 0.42</br>"
          ],
          [
           "</br>id: 30</br>prediction: 0.47</br>zwapnienia_miazdzycowe: 1.6199999999999999</br></br>wiek: 57.0</br>plec: 1.0</br>typ_bolu_klatka: 3.0</br>cisnienie_krwi_spoczynek: 128.0</br>cholesterol_we_krwi: 229.0</br>cukier_we_krwi: 0.0</br>wynik_ekg_spoczynek: 2.0</br>ilosc_uderzen_serca: 150.0</br>bol_klatka_wysilek: 0.0</br>max_obnizka_st: 0.4</br>przebieg_st_szczyt: 2.0</br>proba_ta: 7.0</br>_original_yhat_: 0.42</br>"
          ],
          [
           "</br>id: 30</br>prediction: 0.47</br>zwapnienia_miazdzycowe: 1.65</br></br>wiek: 57.0</br>plec: 1.0</br>typ_bolu_klatka: 3.0</br>cisnienie_krwi_spoczynek: 128.0</br>cholesterol_we_krwi: 229.0</br>cukier_we_krwi: 0.0</br>wynik_ekg_spoczynek: 2.0</br>ilosc_uderzen_serca: 150.0</br>bol_klatka_wysilek: 0.0</br>max_obnizka_st: 0.4</br>przebieg_st_szczyt: 2.0</br>proba_ta: 7.0</br>_original_yhat_: 0.42</br>"
          ],
          [
           "</br>id: 30</br>prediction: 0.47</br>zwapnienia_miazdzycowe: 1.68</br></br>wiek: 57.0</br>plec: 1.0</br>typ_bolu_klatka: 3.0</br>cisnienie_krwi_spoczynek: 128.0</br>cholesterol_we_krwi: 229.0</br>cukier_we_krwi: 0.0</br>wynik_ekg_spoczynek: 2.0</br>ilosc_uderzen_serca: 150.0</br>bol_klatka_wysilek: 0.0</br>max_obnizka_st: 0.4</br>przebieg_st_szczyt: 2.0</br>proba_ta: 7.0</br>_original_yhat_: 0.42</br>"
          ],
          [
           "</br>id: 30</br>prediction: 0.47</br>zwapnienia_miazdzycowe: 1.71</br></br>wiek: 57.0</br>plec: 1.0</br>typ_bolu_klatka: 3.0</br>cisnienie_krwi_spoczynek: 128.0</br>cholesterol_we_krwi: 229.0</br>cukier_we_krwi: 0.0</br>wynik_ekg_spoczynek: 2.0</br>ilosc_uderzen_serca: 150.0</br>bol_klatka_wysilek: 0.0</br>max_obnizka_st: 0.4</br>przebieg_st_szczyt: 2.0</br>proba_ta: 7.0</br>_original_yhat_: 0.42</br>"
          ],
          [
           "</br>id: 30</br>prediction: 0.47</br>zwapnienia_miazdzycowe: 1.74</br></br>wiek: 57.0</br>plec: 1.0</br>typ_bolu_klatka: 3.0</br>cisnienie_krwi_spoczynek: 128.0</br>cholesterol_we_krwi: 229.0</br>cukier_we_krwi: 0.0</br>wynik_ekg_spoczynek: 2.0</br>ilosc_uderzen_serca: 150.0</br>bol_klatka_wysilek: 0.0</br>max_obnizka_st: 0.4</br>przebieg_st_szczyt: 2.0</br>proba_ta: 7.0</br>_original_yhat_: 0.42</br>"
          ],
          [
           "</br>id: 30</br>prediction: 0.47</br>zwapnienia_miazdzycowe: 1.77</br></br>wiek: 57.0</br>plec: 1.0</br>typ_bolu_klatka: 3.0</br>cisnienie_krwi_spoczynek: 128.0</br>cholesterol_we_krwi: 229.0</br>cukier_we_krwi: 0.0</br>wynik_ekg_spoczynek: 2.0</br>ilosc_uderzen_serca: 150.0</br>bol_klatka_wysilek: 0.0</br>max_obnizka_st: 0.4</br>przebieg_st_szczyt: 2.0</br>proba_ta: 7.0</br>_original_yhat_: 0.42</br>"
          ],
          [
           "</br>id: 30</br>prediction: 0.47</br>zwapnienia_miazdzycowe: 1.7999999999999998</br></br>wiek: 57.0</br>plec: 1.0</br>typ_bolu_klatka: 3.0</br>cisnienie_krwi_spoczynek: 128.0</br>cholesterol_we_krwi: 229.0</br>cukier_we_krwi: 0.0</br>wynik_ekg_spoczynek: 2.0</br>ilosc_uderzen_serca: 150.0</br>bol_klatka_wysilek: 0.0</br>max_obnizka_st: 0.4</br>przebieg_st_szczyt: 2.0</br>proba_ta: 7.0</br>_original_yhat_: 0.42</br>"
          ],
          [
           "</br>id: 30</br>prediction: 0.47</br>zwapnienia_miazdzycowe: 1.8299999999999998</br></br>wiek: 57.0</br>plec: 1.0</br>typ_bolu_klatka: 3.0</br>cisnienie_krwi_spoczynek: 128.0</br>cholesterol_we_krwi: 229.0</br>cukier_we_krwi: 0.0</br>wynik_ekg_spoczynek: 2.0</br>ilosc_uderzen_serca: 150.0</br>bol_klatka_wysilek: 0.0</br>max_obnizka_st: 0.4</br>przebieg_st_szczyt: 2.0</br>proba_ta: 7.0</br>_original_yhat_: 0.42</br>"
          ],
          [
           "</br>id: 30</br>prediction: 0.47</br>zwapnienia_miazdzycowe: 1.8599999999999999</br></br>wiek: 57.0</br>plec: 1.0</br>typ_bolu_klatka: 3.0</br>cisnienie_krwi_spoczynek: 128.0</br>cholesterol_we_krwi: 229.0</br>cukier_we_krwi: 0.0</br>wynik_ekg_spoczynek: 2.0</br>ilosc_uderzen_serca: 150.0</br>bol_klatka_wysilek: 0.0</br>max_obnizka_st: 0.4</br>przebieg_st_szczyt: 2.0</br>proba_ta: 7.0</br>_original_yhat_: 0.42</br>"
          ],
          [
           "</br>id: 30</br>prediction: 0.47</br>zwapnienia_miazdzycowe: 1.89</br></br>wiek: 57.0</br>plec: 1.0</br>typ_bolu_klatka: 3.0</br>cisnienie_krwi_spoczynek: 128.0</br>cholesterol_we_krwi: 229.0</br>cukier_we_krwi: 0.0</br>wynik_ekg_spoczynek: 2.0</br>ilosc_uderzen_serca: 150.0</br>bol_klatka_wysilek: 0.0</br>max_obnizka_st: 0.4</br>przebieg_st_szczyt: 2.0</br>proba_ta: 7.0</br>_original_yhat_: 0.42</br>"
          ],
          [
           "</br>id: 30</br>prediction: 0.47</br>zwapnienia_miazdzycowe: 1.92</br></br>wiek: 57.0</br>plec: 1.0</br>typ_bolu_klatka: 3.0</br>cisnienie_krwi_spoczynek: 128.0</br>cholesterol_we_krwi: 229.0</br>cukier_we_krwi: 0.0</br>wynik_ekg_spoczynek: 2.0</br>ilosc_uderzen_serca: 150.0</br>bol_klatka_wysilek: 0.0</br>max_obnizka_st: 0.4</br>przebieg_st_szczyt: 2.0</br>proba_ta: 7.0</br>_original_yhat_: 0.42</br>"
          ],
          [
           "</br>id: 30</br>prediction: 0.47</br>zwapnienia_miazdzycowe: 1.95</br></br>wiek: 57.0</br>plec: 1.0</br>typ_bolu_klatka: 3.0</br>cisnienie_krwi_spoczynek: 128.0</br>cholesterol_we_krwi: 229.0</br>cukier_we_krwi: 0.0</br>wynik_ekg_spoczynek: 2.0</br>ilosc_uderzen_serca: 150.0</br>bol_klatka_wysilek: 0.0</br>max_obnizka_st: 0.4</br>przebieg_st_szczyt: 2.0</br>proba_ta: 7.0</br>_original_yhat_: 0.42</br>"
          ],
          [
           "</br>id: 30</br>prediction: 0.47</br>zwapnienia_miazdzycowe: 1.98</br></br>wiek: 57.0</br>plec: 1.0</br>typ_bolu_klatka: 3.0</br>cisnienie_krwi_spoczynek: 128.0</br>cholesterol_we_krwi: 229.0</br>cukier_we_krwi: 0.0</br>wynik_ekg_spoczynek: 2.0</br>ilosc_uderzen_serca: 150.0</br>bol_klatka_wysilek: 0.0</br>max_obnizka_st: 0.4</br>przebieg_st_szczyt: 2.0</br>proba_ta: 7.0</br>_original_yhat_: 0.42</br>"
          ],
          [
           "</br>id: 30</br>prediction: 0.49</br>zwapnienia_miazdzycowe: 2.01</br></br>wiek: 57.0</br>plec: 1.0</br>typ_bolu_klatka: 3.0</br>cisnienie_krwi_spoczynek: 128.0</br>cholesterol_we_krwi: 229.0</br>cukier_we_krwi: 0.0</br>wynik_ekg_spoczynek: 2.0</br>ilosc_uderzen_serca: 150.0</br>bol_klatka_wysilek: 0.0</br>max_obnizka_st: 0.4</br>przebieg_st_szczyt: 2.0</br>proba_ta: 7.0</br>_original_yhat_: 0.42</br>"
          ],
          [
           "</br>id: 30</br>prediction: 0.49</br>zwapnienia_miazdzycowe: 2.04</br></br>wiek: 57.0</br>plec: 1.0</br>typ_bolu_klatka: 3.0</br>cisnienie_krwi_spoczynek: 128.0</br>cholesterol_we_krwi: 229.0</br>cukier_we_krwi: 0.0</br>wynik_ekg_spoczynek: 2.0</br>ilosc_uderzen_serca: 150.0</br>bol_klatka_wysilek: 0.0</br>max_obnizka_st: 0.4</br>przebieg_st_szczyt: 2.0</br>proba_ta: 7.0</br>_original_yhat_: 0.42</br>"
          ],
          [
           "</br>id: 30</br>prediction: 0.49</br>zwapnienia_miazdzycowe: 2.07</br></br>wiek: 57.0</br>plec: 1.0</br>typ_bolu_klatka: 3.0</br>cisnienie_krwi_spoczynek: 128.0</br>cholesterol_we_krwi: 229.0</br>cukier_we_krwi: 0.0</br>wynik_ekg_spoczynek: 2.0</br>ilosc_uderzen_serca: 150.0</br>bol_klatka_wysilek: 0.0</br>max_obnizka_st: 0.4</br>przebieg_st_szczyt: 2.0</br>proba_ta: 7.0</br>_original_yhat_: 0.42</br>"
          ],
          [
           "</br>id: 30</br>prediction: 0.49</br>zwapnienia_miazdzycowe: 2.1</br></br>wiek: 57.0</br>plec: 1.0</br>typ_bolu_klatka: 3.0</br>cisnienie_krwi_spoczynek: 128.0</br>cholesterol_we_krwi: 229.0</br>cukier_we_krwi: 0.0</br>wynik_ekg_spoczynek: 2.0</br>ilosc_uderzen_serca: 150.0</br>bol_klatka_wysilek: 0.0</br>max_obnizka_st: 0.4</br>przebieg_st_szczyt: 2.0</br>proba_ta: 7.0</br>_original_yhat_: 0.42</br>"
          ],
          [
           "</br>id: 30</br>prediction: 0.49</br>zwapnienia_miazdzycowe: 2.13</br></br>wiek: 57.0</br>plec: 1.0</br>typ_bolu_klatka: 3.0</br>cisnienie_krwi_spoczynek: 128.0</br>cholesterol_we_krwi: 229.0</br>cukier_we_krwi: 0.0</br>wynik_ekg_spoczynek: 2.0</br>ilosc_uderzen_serca: 150.0</br>bol_klatka_wysilek: 0.0</br>max_obnizka_st: 0.4</br>przebieg_st_szczyt: 2.0</br>proba_ta: 7.0</br>_original_yhat_: 0.42</br>"
          ],
          [
           "</br>id: 30</br>prediction: 0.49</br>zwapnienia_miazdzycowe: 2.16</br></br>wiek: 57.0</br>plec: 1.0</br>typ_bolu_klatka: 3.0</br>cisnienie_krwi_spoczynek: 128.0</br>cholesterol_we_krwi: 229.0</br>cukier_we_krwi: 0.0</br>wynik_ekg_spoczynek: 2.0</br>ilosc_uderzen_serca: 150.0</br>bol_klatka_wysilek: 0.0</br>max_obnizka_st: 0.4</br>przebieg_st_szczyt: 2.0</br>proba_ta: 7.0</br>_original_yhat_: 0.42</br>"
          ],
          [
           "</br>id: 30</br>prediction: 0.49</br>zwapnienia_miazdzycowe: 2.19</br></br>wiek: 57.0</br>plec: 1.0</br>typ_bolu_klatka: 3.0</br>cisnienie_krwi_spoczynek: 128.0</br>cholesterol_we_krwi: 229.0</br>cukier_we_krwi: 0.0</br>wynik_ekg_spoczynek: 2.0</br>ilosc_uderzen_serca: 150.0</br>bol_klatka_wysilek: 0.0</br>max_obnizka_st: 0.4</br>przebieg_st_szczyt: 2.0</br>proba_ta: 7.0</br>_original_yhat_: 0.42</br>"
          ],
          [
           "</br>id: 30</br>prediction: 0.49</br>zwapnienia_miazdzycowe: 2.2199999999999998</br></br>wiek: 57.0</br>plec: 1.0</br>typ_bolu_klatka: 3.0</br>cisnienie_krwi_spoczynek: 128.0</br>cholesterol_we_krwi: 229.0</br>cukier_we_krwi: 0.0</br>wynik_ekg_spoczynek: 2.0</br>ilosc_uderzen_serca: 150.0</br>bol_klatka_wysilek: 0.0</br>max_obnizka_st: 0.4</br>przebieg_st_szczyt: 2.0</br>proba_ta: 7.0</br>_original_yhat_: 0.42</br>"
          ],
          [
           "</br>id: 30</br>prediction: 0.49</br>zwapnienia_miazdzycowe: 2.25</br></br>wiek: 57.0</br>plec: 1.0</br>typ_bolu_klatka: 3.0</br>cisnienie_krwi_spoczynek: 128.0</br>cholesterol_we_krwi: 229.0</br>cukier_we_krwi: 0.0</br>wynik_ekg_spoczynek: 2.0</br>ilosc_uderzen_serca: 150.0</br>bol_klatka_wysilek: 0.0</br>max_obnizka_st: 0.4</br>przebieg_st_szczyt: 2.0</br>proba_ta: 7.0</br>_original_yhat_: 0.42</br>"
          ],
          [
           "</br>id: 30</br>prediction: 0.49</br>zwapnienia_miazdzycowe: 2.28</br></br>wiek: 57.0</br>plec: 1.0</br>typ_bolu_klatka: 3.0</br>cisnienie_krwi_spoczynek: 128.0</br>cholesterol_we_krwi: 229.0</br>cukier_we_krwi: 0.0</br>wynik_ekg_spoczynek: 2.0</br>ilosc_uderzen_serca: 150.0</br>bol_klatka_wysilek: 0.0</br>max_obnizka_st: 0.4</br>przebieg_st_szczyt: 2.0</br>proba_ta: 7.0</br>_original_yhat_: 0.42</br>"
          ],
          [
           "</br>id: 30</br>prediction: 0.49</br>zwapnienia_miazdzycowe: 2.31</br></br>wiek: 57.0</br>plec: 1.0</br>typ_bolu_klatka: 3.0</br>cisnienie_krwi_spoczynek: 128.0</br>cholesterol_we_krwi: 229.0</br>cukier_we_krwi: 0.0</br>wynik_ekg_spoczynek: 2.0</br>ilosc_uderzen_serca: 150.0</br>bol_klatka_wysilek: 0.0</br>max_obnizka_st: 0.4</br>przebieg_st_szczyt: 2.0</br>proba_ta: 7.0</br>_original_yhat_: 0.42</br>"
          ],
          [
           "</br>id: 30</br>prediction: 0.49</br>zwapnienia_miazdzycowe: 2.34</br></br>wiek: 57.0</br>plec: 1.0</br>typ_bolu_klatka: 3.0</br>cisnienie_krwi_spoczynek: 128.0</br>cholesterol_we_krwi: 229.0</br>cukier_we_krwi: 0.0</br>wynik_ekg_spoczynek: 2.0</br>ilosc_uderzen_serca: 150.0</br>bol_klatka_wysilek: 0.0</br>max_obnizka_st: 0.4</br>przebieg_st_szczyt: 2.0</br>proba_ta: 7.0</br>_original_yhat_: 0.42</br>"
          ],
          [
           "</br>id: 30</br>prediction: 0.49</br>zwapnienia_miazdzycowe: 2.37</br></br>wiek: 57.0</br>plec: 1.0</br>typ_bolu_klatka: 3.0</br>cisnienie_krwi_spoczynek: 128.0</br>cholesterol_we_krwi: 229.0</br>cukier_we_krwi: 0.0</br>wynik_ekg_spoczynek: 2.0</br>ilosc_uderzen_serca: 150.0</br>bol_klatka_wysilek: 0.0</br>max_obnizka_st: 0.4</br>przebieg_st_szczyt: 2.0</br>proba_ta: 7.0</br>_original_yhat_: 0.42</br>"
          ],
          [
           "</br>id: 30</br>prediction: 0.49</br>zwapnienia_miazdzycowe: 2.4</br></br>wiek: 57.0</br>plec: 1.0</br>typ_bolu_klatka: 3.0</br>cisnienie_krwi_spoczynek: 128.0</br>cholesterol_we_krwi: 229.0</br>cukier_we_krwi: 0.0</br>wynik_ekg_spoczynek: 2.0</br>ilosc_uderzen_serca: 150.0</br>bol_klatka_wysilek: 0.0</br>max_obnizka_st: 0.4</br>przebieg_st_szczyt: 2.0</br>proba_ta: 7.0</br>_original_yhat_: 0.42</br>"
          ],
          [
           "</br>id: 30</br>prediction: 0.49</br>zwapnienia_miazdzycowe: 2.4299999999999997</br></br>wiek: 57.0</br>plec: 1.0</br>typ_bolu_klatka: 3.0</br>cisnienie_krwi_spoczynek: 128.0</br>cholesterol_we_krwi: 229.0</br>cukier_we_krwi: 0.0</br>wynik_ekg_spoczynek: 2.0</br>ilosc_uderzen_serca: 150.0</br>bol_klatka_wysilek: 0.0</br>max_obnizka_st: 0.4</br>przebieg_st_szczyt: 2.0</br>proba_ta: 7.0</br>_original_yhat_: 0.42</br>"
          ],
          [
           "</br>id: 30</br>prediction: 0.49</br>zwapnienia_miazdzycowe: 2.46</br></br>wiek: 57.0</br>plec: 1.0</br>typ_bolu_klatka: 3.0</br>cisnienie_krwi_spoczynek: 128.0</br>cholesterol_we_krwi: 229.0</br>cukier_we_krwi: 0.0</br>wynik_ekg_spoczynek: 2.0</br>ilosc_uderzen_serca: 150.0</br>bol_klatka_wysilek: 0.0</br>max_obnizka_st: 0.4</br>przebieg_st_szczyt: 2.0</br>proba_ta: 7.0</br>_original_yhat_: 0.42</br>"
          ],
          [
           "</br>id: 30</br>prediction: 0.49</br>zwapnienia_miazdzycowe: 2.4899999999999998</br></br>wiek: 57.0</br>plec: 1.0</br>typ_bolu_klatka: 3.0</br>cisnienie_krwi_spoczynek: 128.0</br>cholesterol_we_krwi: 229.0</br>cukier_we_krwi: 0.0</br>wynik_ekg_spoczynek: 2.0</br>ilosc_uderzen_serca: 150.0</br>bol_klatka_wysilek: 0.0</br>max_obnizka_st: 0.4</br>przebieg_st_szczyt: 2.0</br>proba_ta: 7.0</br>_original_yhat_: 0.42</br>"
          ],
          [
           "</br>id: 30</br>prediction: 0.45</br>zwapnienia_miazdzycowe: 2.52</br></br>wiek: 57.0</br>plec: 1.0</br>typ_bolu_klatka: 3.0</br>cisnienie_krwi_spoczynek: 128.0</br>cholesterol_we_krwi: 229.0</br>cukier_we_krwi: 0.0</br>wynik_ekg_spoczynek: 2.0</br>ilosc_uderzen_serca: 150.0</br>bol_klatka_wysilek: 0.0</br>max_obnizka_st: 0.4</br>przebieg_st_szczyt: 2.0</br>proba_ta: 7.0</br>_original_yhat_: 0.42</br>"
          ],
          [
           "</br>id: 30</br>prediction: 0.45</br>zwapnienia_miazdzycowe: 2.55</br></br>wiek: 57.0</br>plec: 1.0</br>typ_bolu_klatka: 3.0</br>cisnienie_krwi_spoczynek: 128.0</br>cholesterol_we_krwi: 229.0</br>cukier_we_krwi: 0.0</br>wynik_ekg_spoczynek: 2.0</br>ilosc_uderzen_serca: 150.0</br>bol_klatka_wysilek: 0.0</br>max_obnizka_st: 0.4</br>przebieg_st_szczyt: 2.0</br>proba_ta: 7.0</br>_original_yhat_: 0.42</br>"
          ],
          [
           "</br>id: 30</br>prediction: 0.45</br>zwapnienia_miazdzycowe: 2.58</br></br>wiek: 57.0</br>plec: 1.0</br>typ_bolu_klatka: 3.0</br>cisnienie_krwi_spoczynek: 128.0</br>cholesterol_we_krwi: 229.0</br>cukier_we_krwi: 0.0</br>wynik_ekg_spoczynek: 2.0</br>ilosc_uderzen_serca: 150.0</br>bol_klatka_wysilek: 0.0</br>max_obnizka_st: 0.4</br>przebieg_st_szczyt: 2.0</br>proba_ta: 7.0</br>_original_yhat_: 0.42</br>"
          ],
          [
           "</br>id: 30</br>prediction: 0.45</br>zwapnienia_miazdzycowe: 2.61</br></br>wiek: 57.0</br>plec: 1.0</br>typ_bolu_klatka: 3.0</br>cisnienie_krwi_spoczynek: 128.0</br>cholesterol_we_krwi: 229.0</br>cukier_we_krwi: 0.0</br>wynik_ekg_spoczynek: 2.0</br>ilosc_uderzen_serca: 150.0</br>bol_klatka_wysilek: 0.0</br>max_obnizka_st: 0.4</br>przebieg_st_szczyt: 2.0</br>proba_ta: 7.0</br>_original_yhat_: 0.42</br>"
          ],
          [
           "</br>id: 30</br>prediction: 0.45</br>zwapnienia_miazdzycowe: 2.6399999999999997</br></br>wiek: 57.0</br>plec: 1.0</br>typ_bolu_klatka: 3.0</br>cisnienie_krwi_spoczynek: 128.0</br>cholesterol_we_krwi: 229.0</br>cukier_we_krwi: 0.0</br>wynik_ekg_spoczynek: 2.0</br>ilosc_uderzen_serca: 150.0</br>bol_klatka_wysilek: 0.0</br>max_obnizka_st: 0.4</br>przebieg_st_szczyt: 2.0</br>proba_ta: 7.0</br>_original_yhat_: 0.42</br>"
          ],
          [
           "</br>id: 30</br>prediction: 0.45</br>zwapnienia_miazdzycowe: 2.67</br></br>wiek: 57.0</br>plec: 1.0</br>typ_bolu_klatka: 3.0</br>cisnienie_krwi_spoczynek: 128.0</br>cholesterol_we_krwi: 229.0</br>cukier_we_krwi: 0.0</br>wynik_ekg_spoczynek: 2.0</br>ilosc_uderzen_serca: 150.0</br>bol_klatka_wysilek: 0.0</br>max_obnizka_st: 0.4</br>przebieg_st_szczyt: 2.0</br>proba_ta: 7.0</br>_original_yhat_: 0.42</br>"
          ],
          [
           "</br>id: 30</br>prediction: 0.45</br>zwapnienia_miazdzycowe: 2.6999999999999997</br></br>wiek: 57.0</br>plec: 1.0</br>typ_bolu_klatka: 3.0</br>cisnienie_krwi_spoczynek: 128.0</br>cholesterol_we_krwi: 229.0</br>cukier_we_krwi: 0.0</br>wynik_ekg_spoczynek: 2.0</br>ilosc_uderzen_serca: 150.0</br>bol_klatka_wysilek: 0.0</br>max_obnizka_st: 0.4</br>przebieg_st_szczyt: 2.0</br>proba_ta: 7.0</br>_original_yhat_: 0.42</br>"
          ],
          [
           "</br>id: 30</br>prediction: 0.45</br>zwapnienia_miazdzycowe: 2.73</br></br>wiek: 57.0</br>plec: 1.0</br>typ_bolu_klatka: 3.0</br>cisnienie_krwi_spoczynek: 128.0</br>cholesterol_we_krwi: 229.0</br>cukier_we_krwi: 0.0</br>wynik_ekg_spoczynek: 2.0</br>ilosc_uderzen_serca: 150.0</br>bol_klatka_wysilek: 0.0</br>max_obnizka_st: 0.4</br>przebieg_st_szczyt: 2.0</br>proba_ta: 7.0</br>_original_yhat_: 0.42</br>"
          ],
          [
           "</br>id: 30</br>prediction: 0.45</br>zwapnienia_miazdzycowe: 2.76</br></br>wiek: 57.0</br>plec: 1.0</br>typ_bolu_klatka: 3.0</br>cisnienie_krwi_spoczynek: 128.0</br>cholesterol_we_krwi: 229.0</br>cukier_we_krwi: 0.0</br>wynik_ekg_spoczynek: 2.0</br>ilosc_uderzen_serca: 150.0</br>bol_klatka_wysilek: 0.0</br>max_obnizka_st: 0.4</br>przebieg_st_szczyt: 2.0</br>proba_ta: 7.0</br>_original_yhat_: 0.42</br>"
          ],
          [
           "</br>id: 30</br>prediction: 0.45</br>zwapnienia_miazdzycowe: 2.79</br></br>wiek: 57.0</br>plec: 1.0</br>typ_bolu_klatka: 3.0</br>cisnienie_krwi_spoczynek: 128.0</br>cholesterol_we_krwi: 229.0</br>cukier_we_krwi: 0.0</br>wynik_ekg_spoczynek: 2.0</br>ilosc_uderzen_serca: 150.0</br>bol_klatka_wysilek: 0.0</br>max_obnizka_st: 0.4</br>przebieg_st_szczyt: 2.0</br>proba_ta: 7.0</br>_original_yhat_: 0.42</br>"
          ],
          [
           "</br>id: 30</br>prediction: 0.45</br>zwapnienia_miazdzycowe: 2.82</br></br>wiek: 57.0</br>plec: 1.0</br>typ_bolu_klatka: 3.0</br>cisnienie_krwi_spoczynek: 128.0</br>cholesterol_we_krwi: 229.0</br>cukier_we_krwi: 0.0</br>wynik_ekg_spoczynek: 2.0</br>ilosc_uderzen_serca: 150.0</br>bol_klatka_wysilek: 0.0</br>max_obnizka_st: 0.4</br>przebieg_st_szczyt: 2.0</br>proba_ta: 7.0</br>_original_yhat_: 0.42</br>"
          ],
          [
           "</br>id: 30</br>prediction: 0.45</br>zwapnienia_miazdzycowe: 2.85</br></br>wiek: 57.0</br>plec: 1.0</br>typ_bolu_klatka: 3.0</br>cisnienie_krwi_spoczynek: 128.0</br>cholesterol_we_krwi: 229.0</br>cukier_we_krwi: 0.0</br>wynik_ekg_spoczynek: 2.0</br>ilosc_uderzen_serca: 150.0</br>bol_klatka_wysilek: 0.0</br>max_obnizka_st: 0.4</br>przebieg_st_szczyt: 2.0</br>proba_ta: 7.0</br>_original_yhat_: 0.42</br>"
          ],
          [
           "</br>id: 30</br>prediction: 0.45</br>zwapnienia_miazdzycowe: 2.88</br></br>wiek: 57.0</br>plec: 1.0</br>typ_bolu_klatka: 3.0</br>cisnienie_krwi_spoczynek: 128.0</br>cholesterol_we_krwi: 229.0</br>cukier_we_krwi: 0.0</br>wynik_ekg_spoczynek: 2.0</br>ilosc_uderzen_serca: 150.0</br>bol_klatka_wysilek: 0.0</br>max_obnizka_st: 0.4</br>przebieg_st_szczyt: 2.0</br>proba_ta: 7.0</br>_original_yhat_: 0.42</br>"
          ],
          [
           "</br>id: 30</br>prediction: 0.45</br>zwapnienia_miazdzycowe: 2.9099999999999997</br></br>wiek: 57.0</br>plec: 1.0</br>typ_bolu_klatka: 3.0</br>cisnienie_krwi_spoczynek: 128.0</br>cholesterol_we_krwi: 229.0</br>cukier_we_krwi: 0.0</br>wynik_ekg_spoczynek: 2.0</br>ilosc_uderzen_serca: 150.0</br>bol_klatka_wysilek: 0.0</br>max_obnizka_st: 0.4</br>przebieg_st_szczyt: 2.0</br>proba_ta: 7.0</br>_original_yhat_: 0.42</br>"
          ],
          [
           "</br>id: 30</br>prediction: 0.45</br>zwapnienia_miazdzycowe: 2.94</br></br>wiek: 57.0</br>plec: 1.0</br>typ_bolu_klatka: 3.0</br>cisnienie_krwi_spoczynek: 128.0</br>cholesterol_we_krwi: 229.0</br>cukier_we_krwi: 0.0</br>wynik_ekg_spoczynek: 2.0</br>ilosc_uderzen_serca: 150.0</br>bol_klatka_wysilek: 0.0</br>max_obnizka_st: 0.4</br>przebieg_st_szczyt: 2.0</br>proba_ta: 7.0</br>_original_yhat_: 0.42</br>"
          ],
          [
           "</br>id: 30</br>prediction: 0.45</br>zwapnienia_miazdzycowe: 2.9699999999999998</br></br>wiek: 57.0</br>plec: 1.0</br>typ_bolu_klatka: 3.0</br>cisnienie_krwi_spoczynek: 128.0</br>cholesterol_we_krwi: 229.0</br>cukier_we_krwi: 0.0</br>wynik_ekg_spoczynek: 2.0</br>ilosc_uderzen_serca: 150.0</br>bol_klatka_wysilek: 0.0</br>max_obnizka_st: 0.4</br>przebieg_st_szczyt: 2.0</br>proba_ta: 7.0</br>_original_yhat_: 0.42</br>"
          ],
          [
           "</br>id: 30</br>prediction: 0.45</br>zwapnienia_miazdzycowe: 3.0</br></br>wiek: 57.0</br>plec: 1.0</br>typ_bolu_klatka: 3.0</br>cisnienie_krwi_spoczynek: 128.0</br>cholesterol_we_krwi: 229.0</br>cukier_we_krwi: 0.0</br>wynik_ekg_spoczynek: 2.0</br>ilosc_uderzen_serca: 150.0</br>bol_klatka_wysilek: 0.0</br>max_obnizka_st: 0.4</br>przebieg_st_szczyt: 2.0</br>proba_ta: 7.0</br>_original_yhat_: 0.42</br>"
          ]
         ],
         "hovertemplate": "%{customdata[0]}<extra></extra>",
         "legendgroup": "Model RandomForest dla danych serca",
         "line": {
          "color": "#46bac2",
          "dash": "solid",
          "width": 2
         },
         "marker": {
          "symbol": "circle"
         },
         "mode": "lines",
         "name": "Model RandomForest dla danych serca",
         "opacity": 1,
         "showlegend": false,
         "type": "scattergl",
         "x": [
          0,
          0.03,
          0.06,
          0.09,
          0.12,
          0.15,
          0.18,
          0.21,
          0.24,
          0.27,
          0.3,
          0.32999999999999996,
          0.36,
          0.39,
          0.42,
          0.44999999999999996,
          0.48,
          0.51,
          0.54,
          0.57,
          0.6,
          0.63,
          0.6599999999999999,
          0.69,
          0.72,
          0.75,
          0.78,
          0.8099999999999999,
          0.84,
          0.87,
          0.8999999999999999,
          0.9299999999999999,
          0.96,
          0.99,
          1,
          1.02,
          1.05,
          1.08,
          1.1099999999999999,
          1.14,
          1.17,
          1.2,
          1.23,
          1.26,
          1.29,
          1.3199999999999998,
          1.3499999999999999,
          1.38,
          1.41,
          1.44,
          1.47,
          1.5,
          1.53,
          1.56,
          1.5899999999999999,
          1.6199999999999999,
          1.65,
          1.68,
          1.71,
          1.74,
          1.77,
          1.7999999999999998,
          1.8299999999999998,
          1.8599999999999999,
          1.89,
          1.92,
          1.95,
          1.98,
          2.01,
          2.04,
          2.07,
          2.1,
          2.13,
          2.16,
          2.19,
          2.2199999999999998,
          2.25,
          2.28,
          2.31,
          2.34,
          2.37,
          2.4,
          2.4299999999999997,
          2.46,
          2.4899999999999998,
          2.52,
          2.55,
          2.58,
          2.61,
          2.6399999999999997,
          2.67,
          2.6999999999999997,
          2.73,
          2.76,
          2.79,
          2.82,
          2.85,
          2.88,
          2.9099999999999997,
          2.94,
          2.9699999999999998,
          3
         ],
         "xaxis": "x4",
         "y": [
          0.27,
          0.27,
          0.27,
          0.27,
          0.27,
          0.27,
          0.27,
          0.27,
          0.27,
          0.27,
          0.27,
          0.27,
          0.27,
          0.27,
          0.27,
          0.27,
          0.27,
          0.42,
          0.42,
          0.42,
          0.42,
          0.42,
          0.42,
          0.42,
          0.42,
          0.42,
          0.42,
          0.42,
          0.42,
          0.42,
          0.42,
          0.42,
          0.42,
          0.42,
          0.42,
          0.42,
          0.42,
          0.42,
          0.42,
          0.42,
          0.42,
          0.42,
          0.42,
          0.42,
          0.42,
          0.42,
          0.42,
          0.42,
          0.42,
          0.42,
          0.42,
          0.42,
          0.47,
          0.47,
          0.47,
          0.47,
          0.47,
          0.47,
          0.47,
          0.47,
          0.47,
          0.47,
          0.47,
          0.47,
          0.47,
          0.47,
          0.47,
          0.47,
          0.49,
          0.49,
          0.49,
          0.49,
          0.49,
          0.49,
          0.49,
          0.49,
          0.49,
          0.49,
          0.49,
          0.49,
          0.49,
          0.49,
          0.49,
          0.49,
          0.49,
          0.45,
          0.45,
          0.45,
          0.45,
          0.45,
          0.45,
          0.45,
          0.45,
          0.45,
          0.45,
          0.45,
          0.45,
          0.45,
          0.45,
          0.45,
          0.45,
          0.45
         ],
         "yaxis": "y4"
        },
        {
         "customdata": [
          [
           "</br>id: 30</br>prediction: 0.2</br>proba_ta: 3.0</br></br>wiek: 57.0</br>plec: 1.0</br>typ_bolu_klatka: 3.0</br>cisnienie_krwi_spoczynek: 128.0</br>cholesterol_we_krwi: 229.0</br>cukier_we_krwi: 0.0</br>wynik_ekg_spoczynek: 2.0</br>ilosc_uderzen_serca: 150.0</br>bol_klatka_wysilek: 0.0</br>max_obnizka_st: 0.4</br>przebieg_st_szczyt: 2.0</br>zwapnienia_miazdzycowe: 1.0</br>_original_yhat_: 0.42</br>"
          ],
          [
           "</br>id: 30</br>prediction: 0.2</br>proba_ta: 3.04</br></br>wiek: 57.0</br>plec: 1.0</br>typ_bolu_klatka: 3.0</br>cisnienie_krwi_spoczynek: 128.0</br>cholesterol_we_krwi: 229.0</br>cukier_we_krwi: 0.0</br>wynik_ekg_spoczynek: 2.0</br>ilosc_uderzen_serca: 150.0</br>bol_klatka_wysilek: 0.0</br>max_obnizka_st: 0.4</br>przebieg_st_szczyt: 2.0</br>zwapnienia_miazdzycowe: 1.0</br>_original_yhat_: 0.42</br>"
          ],
          [
           "</br>id: 30</br>prediction: 0.2</br>proba_ta: 3.08</br></br>wiek: 57.0</br>plec: 1.0</br>typ_bolu_klatka: 3.0</br>cisnienie_krwi_spoczynek: 128.0</br>cholesterol_we_krwi: 229.0</br>cukier_we_krwi: 0.0</br>wynik_ekg_spoczynek: 2.0</br>ilosc_uderzen_serca: 150.0</br>bol_klatka_wysilek: 0.0</br>max_obnizka_st: 0.4</br>przebieg_st_szczyt: 2.0</br>zwapnienia_miazdzycowe: 1.0</br>_original_yhat_: 0.42</br>"
          ],
          [
           "</br>id: 30</br>prediction: 0.2</br>proba_ta: 3.12</br></br>wiek: 57.0</br>plec: 1.0</br>typ_bolu_klatka: 3.0</br>cisnienie_krwi_spoczynek: 128.0</br>cholesterol_we_krwi: 229.0</br>cukier_we_krwi: 0.0</br>wynik_ekg_spoczynek: 2.0</br>ilosc_uderzen_serca: 150.0</br>bol_klatka_wysilek: 0.0</br>max_obnizka_st: 0.4</br>przebieg_st_szczyt: 2.0</br>zwapnienia_miazdzycowe: 1.0</br>_original_yhat_: 0.42</br>"
          ],
          [
           "</br>id: 30</br>prediction: 0.2</br>proba_ta: 3.16</br></br>wiek: 57.0</br>plec: 1.0</br>typ_bolu_klatka: 3.0</br>cisnienie_krwi_spoczynek: 128.0</br>cholesterol_we_krwi: 229.0</br>cukier_we_krwi: 0.0</br>wynik_ekg_spoczynek: 2.0</br>ilosc_uderzen_serca: 150.0</br>bol_klatka_wysilek: 0.0</br>max_obnizka_st: 0.4</br>przebieg_st_szczyt: 2.0</br>zwapnienia_miazdzycowe: 1.0</br>_original_yhat_: 0.42</br>"
          ],
          [
           "</br>id: 30</br>prediction: 0.2</br>proba_ta: 3.2</br></br>wiek: 57.0</br>plec: 1.0</br>typ_bolu_klatka: 3.0</br>cisnienie_krwi_spoczynek: 128.0</br>cholesterol_we_krwi: 229.0</br>cukier_we_krwi: 0.0</br>wynik_ekg_spoczynek: 2.0</br>ilosc_uderzen_serca: 150.0</br>bol_klatka_wysilek: 0.0</br>max_obnizka_st: 0.4</br>przebieg_st_szczyt: 2.0</br>zwapnienia_miazdzycowe: 1.0</br>_original_yhat_: 0.42</br>"
          ],
          [
           "</br>id: 30</br>prediction: 0.2</br>proba_ta: 3.24</br></br>wiek: 57.0</br>plec: 1.0</br>typ_bolu_klatka: 3.0</br>cisnienie_krwi_spoczynek: 128.0</br>cholesterol_we_krwi: 229.0</br>cukier_we_krwi: 0.0</br>wynik_ekg_spoczynek: 2.0</br>ilosc_uderzen_serca: 150.0</br>bol_klatka_wysilek: 0.0</br>max_obnizka_st: 0.4</br>przebieg_st_szczyt: 2.0</br>zwapnienia_miazdzycowe: 1.0</br>_original_yhat_: 0.42</br>"
          ],
          [
           "</br>id: 30</br>prediction: 0.2</br>proba_ta: 3.2800000000000002</br></br>wiek: 57.0</br>plec: 1.0</br>typ_bolu_klatka: 3.0</br>cisnienie_krwi_spoczynek: 128.0</br>cholesterol_we_krwi: 229.0</br>cukier_we_krwi: 0.0</br>wynik_ekg_spoczynek: 2.0</br>ilosc_uderzen_serca: 150.0</br>bol_klatka_wysilek: 0.0</br>max_obnizka_st: 0.4</br>przebieg_st_szczyt: 2.0</br>zwapnienia_miazdzycowe: 1.0</br>_original_yhat_: 0.42</br>"
          ],
          [
           "</br>id: 30</br>prediction: 0.2</br>proba_ta: 3.32</br></br>wiek: 57.0</br>plec: 1.0</br>typ_bolu_klatka: 3.0</br>cisnienie_krwi_spoczynek: 128.0</br>cholesterol_we_krwi: 229.0</br>cukier_we_krwi: 0.0</br>wynik_ekg_spoczynek: 2.0</br>ilosc_uderzen_serca: 150.0</br>bol_klatka_wysilek: 0.0</br>max_obnizka_st: 0.4</br>przebieg_st_szczyt: 2.0</br>zwapnienia_miazdzycowe: 1.0</br>_original_yhat_: 0.42</br>"
          ],
          [
           "</br>id: 30</br>prediction: 0.2</br>proba_ta: 3.36</br></br>wiek: 57.0</br>plec: 1.0</br>typ_bolu_klatka: 3.0</br>cisnienie_krwi_spoczynek: 128.0</br>cholesterol_we_krwi: 229.0</br>cukier_we_krwi: 0.0</br>wynik_ekg_spoczynek: 2.0</br>ilosc_uderzen_serca: 150.0</br>bol_klatka_wysilek: 0.0</br>max_obnizka_st: 0.4</br>przebieg_st_szczyt: 2.0</br>zwapnienia_miazdzycowe: 1.0</br>_original_yhat_: 0.42</br>"
          ],
          [
           "</br>id: 30</br>prediction: 0.2</br>proba_ta: 3.4</br></br>wiek: 57.0</br>plec: 1.0</br>typ_bolu_klatka: 3.0</br>cisnienie_krwi_spoczynek: 128.0</br>cholesterol_we_krwi: 229.0</br>cukier_we_krwi: 0.0</br>wynik_ekg_spoczynek: 2.0</br>ilosc_uderzen_serca: 150.0</br>bol_klatka_wysilek: 0.0</br>max_obnizka_st: 0.4</br>przebieg_st_szczyt: 2.0</br>zwapnienia_miazdzycowe: 1.0</br>_original_yhat_: 0.42</br>"
          ],
          [
           "</br>id: 30</br>prediction: 0.2</br>proba_ta: 3.44</br></br>wiek: 57.0</br>plec: 1.0</br>typ_bolu_klatka: 3.0</br>cisnienie_krwi_spoczynek: 128.0</br>cholesterol_we_krwi: 229.0</br>cukier_we_krwi: 0.0</br>wynik_ekg_spoczynek: 2.0</br>ilosc_uderzen_serca: 150.0</br>bol_klatka_wysilek: 0.0</br>max_obnizka_st: 0.4</br>przebieg_st_szczyt: 2.0</br>zwapnienia_miazdzycowe: 1.0</br>_original_yhat_: 0.42</br>"
          ],
          [
           "</br>id: 30</br>prediction: 0.2</br>proba_ta: 3.48</br></br>wiek: 57.0</br>plec: 1.0</br>typ_bolu_klatka: 3.0</br>cisnienie_krwi_spoczynek: 128.0</br>cholesterol_we_krwi: 229.0</br>cukier_we_krwi: 0.0</br>wynik_ekg_spoczynek: 2.0</br>ilosc_uderzen_serca: 150.0</br>bol_klatka_wysilek: 0.0</br>max_obnizka_st: 0.4</br>przebieg_st_szczyt: 2.0</br>zwapnienia_miazdzycowe: 1.0</br>_original_yhat_: 0.42</br>"
          ],
          [
           "</br>id: 30</br>prediction: 0.2</br>proba_ta: 3.52</br></br>wiek: 57.0</br>plec: 1.0</br>typ_bolu_klatka: 3.0</br>cisnienie_krwi_spoczynek: 128.0</br>cholesterol_we_krwi: 229.0</br>cukier_we_krwi: 0.0</br>wynik_ekg_spoczynek: 2.0</br>ilosc_uderzen_serca: 150.0</br>bol_klatka_wysilek: 0.0</br>max_obnizka_st: 0.4</br>przebieg_st_szczyt: 2.0</br>zwapnienia_miazdzycowe: 1.0</br>_original_yhat_: 0.42</br>"
          ],
          [
           "</br>id: 30</br>prediction: 0.2</br>proba_ta: 3.56</br></br>wiek: 57.0</br>plec: 1.0</br>typ_bolu_klatka: 3.0</br>cisnienie_krwi_spoczynek: 128.0</br>cholesterol_we_krwi: 229.0</br>cukier_we_krwi: 0.0</br>wynik_ekg_spoczynek: 2.0</br>ilosc_uderzen_serca: 150.0</br>bol_klatka_wysilek: 0.0</br>max_obnizka_st: 0.4</br>przebieg_st_szczyt: 2.0</br>zwapnienia_miazdzycowe: 1.0</br>_original_yhat_: 0.42</br>"
          ],
          [
           "</br>id: 30</br>prediction: 0.2</br>proba_ta: 3.6</br></br>wiek: 57.0</br>plec: 1.0</br>typ_bolu_klatka: 3.0</br>cisnienie_krwi_spoczynek: 128.0</br>cholesterol_we_krwi: 229.0</br>cukier_we_krwi: 0.0</br>wynik_ekg_spoczynek: 2.0</br>ilosc_uderzen_serca: 150.0</br>bol_klatka_wysilek: 0.0</br>max_obnizka_st: 0.4</br>przebieg_st_szczyt: 2.0</br>zwapnienia_miazdzycowe: 1.0</br>_original_yhat_: 0.42</br>"
          ],
          [
           "</br>id: 30</br>prediction: 0.2</br>proba_ta: 3.64</br></br>wiek: 57.0</br>plec: 1.0</br>typ_bolu_klatka: 3.0</br>cisnienie_krwi_spoczynek: 128.0</br>cholesterol_we_krwi: 229.0</br>cukier_we_krwi: 0.0</br>wynik_ekg_spoczynek: 2.0</br>ilosc_uderzen_serca: 150.0</br>bol_klatka_wysilek: 0.0</br>max_obnizka_st: 0.4</br>przebieg_st_szczyt: 2.0</br>zwapnienia_miazdzycowe: 1.0</br>_original_yhat_: 0.42</br>"
          ],
          [
           "</br>id: 30</br>prediction: 0.2</br>proba_ta: 3.68</br></br>wiek: 57.0</br>plec: 1.0</br>typ_bolu_klatka: 3.0</br>cisnienie_krwi_spoczynek: 128.0</br>cholesterol_we_krwi: 229.0</br>cukier_we_krwi: 0.0</br>wynik_ekg_spoczynek: 2.0</br>ilosc_uderzen_serca: 150.0</br>bol_klatka_wysilek: 0.0</br>max_obnizka_st: 0.4</br>przebieg_st_szczyt: 2.0</br>zwapnienia_miazdzycowe: 1.0</br>_original_yhat_: 0.42</br>"
          ],
          [
           "</br>id: 30</br>prediction: 0.2</br>proba_ta: 3.7199999999999998</br></br>wiek: 57.0</br>plec: 1.0</br>typ_bolu_klatka: 3.0</br>cisnienie_krwi_spoczynek: 128.0</br>cholesterol_we_krwi: 229.0</br>cukier_we_krwi: 0.0</br>wynik_ekg_spoczynek: 2.0</br>ilosc_uderzen_serca: 150.0</br>bol_klatka_wysilek: 0.0</br>max_obnizka_st: 0.4</br>przebieg_st_szczyt: 2.0</br>zwapnienia_miazdzycowe: 1.0</br>_original_yhat_: 0.42</br>"
          ],
          [
           "</br>id: 30</br>prediction: 0.2</br>proba_ta: 3.76</br></br>wiek: 57.0</br>plec: 1.0</br>typ_bolu_klatka: 3.0</br>cisnienie_krwi_spoczynek: 128.0</br>cholesterol_we_krwi: 229.0</br>cukier_we_krwi: 0.0</br>wynik_ekg_spoczynek: 2.0</br>ilosc_uderzen_serca: 150.0</br>bol_klatka_wysilek: 0.0</br>max_obnizka_st: 0.4</br>przebieg_st_szczyt: 2.0</br>zwapnienia_miazdzycowe: 1.0</br>_original_yhat_: 0.42</br>"
          ],
          [
           "</br>id: 30</br>prediction: 0.2</br>proba_ta: 3.8</br></br>wiek: 57.0</br>plec: 1.0</br>typ_bolu_klatka: 3.0</br>cisnienie_krwi_spoczynek: 128.0</br>cholesterol_we_krwi: 229.0</br>cukier_we_krwi: 0.0</br>wynik_ekg_spoczynek: 2.0</br>ilosc_uderzen_serca: 150.0</br>bol_klatka_wysilek: 0.0</br>max_obnizka_st: 0.4</br>przebieg_st_szczyt: 2.0</br>zwapnienia_miazdzycowe: 1.0</br>_original_yhat_: 0.42</br>"
          ],
          [
           "</br>id: 30</br>prediction: 0.2</br>proba_ta: 3.84</br></br>wiek: 57.0</br>plec: 1.0</br>typ_bolu_klatka: 3.0</br>cisnienie_krwi_spoczynek: 128.0</br>cholesterol_we_krwi: 229.0</br>cukier_we_krwi: 0.0</br>wynik_ekg_spoczynek: 2.0</br>ilosc_uderzen_serca: 150.0</br>bol_klatka_wysilek: 0.0</br>max_obnizka_st: 0.4</br>przebieg_st_szczyt: 2.0</br>zwapnienia_miazdzycowe: 1.0</br>_original_yhat_: 0.42</br>"
          ],
          [
           "</br>id: 30</br>prediction: 0.2</br>proba_ta: 3.88</br></br>wiek: 57.0</br>plec: 1.0</br>typ_bolu_klatka: 3.0</br>cisnienie_krwi_spoczynek: 128.0</br>cholesterol_we_krwi: 229.0</br>cukier_we_krwi: 0.0</br>wynik_ekg_spoczynek: 2.0</br>ilosc_uderzen_serca: 150.0</br>bol_klatka_wysilek: 0.0</br>max_obnizka_st: 0.4</br>przebieg_st_szczyt: 2.0</br>zwapnienia_miazdzycowe: 1.0</br>_original_yhat_: 0.42</br>"
          ],
          [
           "</br>id: 30</br>prediction: 0.2</br>proba_ta: 3.92</br></br>wiek: 57.0</br>plec: 1.0</br>typ_bolu_klatka: 3.0</br>cisnienie_krwi_spoczynek: 128.0</br>cholesterol_we_krwi: 229.0</br>cukier_we_krwi: 0.0</br>wynik_ekg_spoczynek: 2.0</br>ilosc_uderzen_serca: 150.0</br>bol_klatka_wysilek: 0.0</br>max_obnizka_st: 0.4</br>przebieg_st_szczyt: 2.0</br>zwapnienia_miazdzycowe: 1.0</br>_original_yhat_: 0.42</br>"
          ],
          [
           "</br>id: 30</br>prediction: 0.2</br>proba_ta: 3.96</br></br>wiek: 57.0</br>plec: 1.0</br>typ_bolu_klatka: 3.0</br>cisnienie_krwi_spoczynek: 128.0</br>cholesterol_we_krwi: 229.0</br>cukier_we_krwi: 0.0</br>wynik_ekg_spoczynek: 2.0</br>ilosc_uderzen_serca: 150.0</br>bol_klatka_wysilek: 0.0</br>max_obnizka_st: 0.4</br>przebieg_st_szczyt: 2.0</br>zwapnienia_miazdzycowe: 1.0</br>_original_yhat_: 0.42</br>"
          ],
          [
           "</br>id: 30</br>prediction: 0.2</br>proba_ta: 4.0</br></br>wiek: 57.0</br>plec: 1.0</br>typ_bolu_klatka: 3.0</br>cisnienie_krwi_spoczynek: 128.0</br>cholesterol_we_krwi: 229.0</br>cukier_we_krwi: 0.0</br>wynik_ekg_spoczynek: 2.0</br>ilosc_uderzen_serca: 150.0</br>bol_klatka_wysilek: 0.0</br>max_obnizka_st: 0.4</br>przebieg_st_szczyt: 2.0</br>zwapnienia_miazdzycowe: 1.0</br>_original_yhat_: 0.42</br>"
          ],
          [
           "</br>id: 30</br>prediction: 0.2</br>proba_ta: 4.04</br></br>wiek: 57.0</br>plec: 1.0</br>typ_bolu_klatka: 3.0</br>cisnienie_krwi_spoczynek: 128.0</br>cholesterol_we_krwi: 229.0</br>cukier_we_krwi: 0.0</br>wynik_ekg_spoczynek: 2.0</br>ilosc_uderzen_serca: 150.0</br>bol_klatka_wysilek: 0.0</br>max_obnizka_st: 0.4</br>przebieg_st_szczyt: 2.0</br>zwapnienia_miazdzycowe: 1.0</br>_original_yhat_: 0.42</br>"
          ],
          [
           "</br>id: 30</br>prediction: 0.2</br>proba_ta: 4.08</br></br>wiek: 57.0</br>plec: 1.0</br>typ_bolu_klatka: 3.0</br>cisnienie_krwi_spoczynek: 128.0</br>cholesterol_we_krwi: 229.0</br>cukier_we_krwi: 0.0</br>wynik_ekg_spoczynek: 2.0</br>ilosc_uderzen_serca: 150.0</br>bol_klatka_wysilek: 0.0</br>max_obnizka_st: 0.4</br>przebieg_st_szczyt: 2.0</br>zwapnienia_miazdzycowe: 1.0</br>_original_yhat_: 0.42</br>"
          ],
          [
           "</br>id: 30</br>prediction: 0.2</br>proba_ta: 4.12</br></br>wiek: 57.0</br>plec: 1.0</br>typ_bolu_klatka: 3.0</br>cisnienie_krwi_spoczynek: 128.0</br>cholesterol_we_krwi: 229.0</br>cukier_we_krwi: 0.0</br>wynik_ekg_spoczynek: 2.0</br>ilosc_uderzen_serca: 150.0</br>bol_klatka_wysilek: 0.0</br>max_obnizka_st: 0.4</br>przebieg_st_szczyt: 2.0</br>zwapnienia_miazdzycowe: 1.0</br>_original_yhat_: 0.42</br>"
          ],
          [
           "</br>id: 30</br>prediction: 0.2</br>proba_ta: 4.16</br></br>wiek: 57.0</br>plec: 1.0</br>typ_bolu_klatka: 3.0</br>cisnienie_krwi_spoczynek: 128.0</br>cholesterol_we_krwi: 229.0</br>cukier_we_krwi: 0.0</br>wynik_ekg_spoczynek: 2.0</br>ilosc_uderzen_serca: 150.0</br>bol_klatka_wysilek: 0.0</br>max_obnizka_st: 0.4</br>przebieg_st_szczyt: 2.0</br>zwapnienia_miazdzycowe: 1.0</br>_original_yhat_: 0.42</br>"
          ],
          [
           "</br>id: 30</br>prediction: 0.2</br>proba_ta: 4.2</br></br>wiek: 57.0</br>plec: 1.0</br>typ_bolu_klatka: 3.0</br>cisnienie_krwi_spoczynek: 128.0</br>cholesterol_we_krwi: 229.0</br>cukier_we_krwi: 0.0</br>wynik_ekg_spoczynek: 2.0</br>ilosc_uderzen_serca: 150.0</br>bol_klatka_wysilek: 0.0</br>max_obnizka_st: 0.4</br>przebieg_st_szczyt: 2.0</br>zwapnienia_miazdzycowe: 1.0</br>_original_yhat_: 0.42</br>"
          ],
          [
           "</br>id: 30</br>prediction: 0.2</br>proba_ta: 4.24</br></br>wiek: 57.0</br>plec: 1.0</br>typ_bolu_klatka: 3.0</br>cisnienie_krwi_spoczynek: 128.0</br>cholesterol_we_krwi: 229.0</br>cukier_we_krwi: 0.0</br>wynik_ekg_spoczynek: 2.0</br>ilosc_uderzen_serca: 150.0</br>bol_klatka_wysilek: 0.0</br>max_obnizka_st: 0.4</br>przebieg_st_szczyt: 2.0</br>zwapnienia_miazdzycowe: 1.0</br>_original_yhat_: 0.42</br>"
          ],
          [
           "</br>id: 30</br>prediction: 0.2</br>proba_ta: 4.28</br></br>wiek: 57.0</br>plec: 1.0</br>typ_bolu_klatka: 3.0</br>cisnienie_krwi_spoczynek: 128.0</br>cholesterol_we_krwi: 229.0</br>cukier_we_krwi: 0.0</br>wynik_ekg_spoczynek: 2.0</br>ilosc_uderzen_serca: 150.0</br>bol_klatka_wysilek: 0.0</br>max_obnizka_st: 0.4</br>przebieg_st_szczyt: 2.0</br>zwapnienia_miazdzycowe: 1.0</br>_original_yhat_: 0.42</br>"
          ],
          [
           "</br>id: 30</br>prediction: 0.2</br>proba_ta: 4.32</br></br>wiek: 57.0</br>plec: 1.0</br>typ_bolu_klatka: 3.0</br>cisnienie_krwi_spoczynek: 128.0</br>cholesterol_we_krwi: 229.0</br>cukier_we_krwi: 0.0</br>wynik_ekg_spoczynek: 2.0</br>ilosc_uderzen_serca: 150.0</br>bol_klatka_wysilek: 0.0</br>max_obnizka_st: 0.4</br>przebieg_st_szczyt: 2.0</br>zwapnienia_miazdzycowe: 1.0</br>_original_yhat_: 0.42</br>"
          ],
          [
           "</br>id: 30</br>prediction: 0.2</br>proba_ta: 4.36</br></br>wiek: 57.0</br>plec: 1.0</br>typ_bolu_klatka: 3.0</br>cisnienie_krwi_spoczynek: 128.0</br>cholesterol_we_krwi: 229.0</br>cukier_we_krwi: 0.0</br>wynik_ekg_spoczynek: 2.0</br>ilosc_uderzen_serca: 150.0</br>bol_klatka_wysilek: 0.0</br>max_obnizka_st: 0.4</br>przebieg_st_szczyt: 2.0</br>zwapnienia_miazdzycowe: 1.0</br>_original_yhat_: 0.42</br>"
          ],
          [
           "</br>id: 30</br>prediction: 0.2</br>proba_ta: 4.4</br></br>wiek: 57.0</br>plec: 1.0</br>typ_bolu_klatka: 3.0</br>cisnienie_krwi_spoczynek: 128.0</br>cholesterol_we_krwi: 229.0</br>cukier_we_krwi: 0.0</br>wynik_ekg_spoczynek: 2.0</br>ilosc_uderzen_serca: 150.0</br>bol_klatka_wysilek: 0.0</br>max_obnizka_st: 0.4</br>przebieg_st_szczyt: 2.0</br>zwapnienia_miazdzycowe: 1.0</br>_original_yhat_: 0.42</br>"
          ],
          [
           "</br>id: 30</br>prediction: 0.2</br>proba_ta: 4.4399999999999995</br></br>wiek: 57.0</br>plec: 1.0</br>typ_bolu_klatka: 3.0</br>cisnienie_krwi_spoczynek: 128.0</br>cholesterol_we_krwi: 229.0</br>cukier_we_krwi: 0.0</br>wynik_ekg_spoczynek: 2.0</br>ilosc_uderzen_serca: 150.0</br>bol_klatka_wysilek: 0.0</br>max_obnizka_st: 0.4</br>przebieg_st_szczyt: 2.0</br>zwapnienia_miazdzycowe: 1.0</br>_original_yhat_: 0.42</br>"
          ],
          [
           "</br>id: 30</br>prediction: 0.2</br>proba_ta: 4.48</br></br>wiek: 57.0</br>plec: 1.0</br>typ_bolu_klatka: 3.0</br>cisnienie_krwi_spoczynek: 128.0</br>cholesterol_we_krwi: 229.0</br>cukier_we_krwi: 0.0</br>wynik_ekg_spoczynek: 2.0</br>ilosc_uderzen_serca: 150.0</br>bol_klatka_wysilek: 0.0</br>max_obnizka_st: 0.4</br>przebieg_st_szczyt: 2.0</br>zwapnienia_miazdzycowe: 1.0</br>_original_yhat_: 0.42</br>"
          ],
          [
           "</br>id: 30</br>prediction: 0.37</br>proba_ta: 4.52</br></br>wiek: 57.0</br>plec: 1.0</br>typ_bolu_klatka: 3.0</br>cisnienie_krwi_spoczynek: 128.0</br>cholesterol_we_krwi: 229.0</br>cukier_we_krwi: 0.0</br>wynik_ekg_spoczynek: 2.0</br>ilosc_uderzen_serca: 150.0</br>bol_klatka_wysilek: 0.0</br>max_obnizka_st: 0.4</br>przebieg_st_szczyt: 2.0</br>zwapnienia_miazdzycowe: 1.0</br>_original_yhat_: 0.42</br>"
          ],
          [
           "</br>id: 30</br>prediction: 0.37</br>proba_ta: 4.5600000000000005</br></br>wiek: 57.0</br>plec: 1.0</br>typ_bolu_klatka: 3.0</br>cisnienie_krwi_spoczynek: 128.0</br>cholesterol_we_krwi: 229.0</br>cukier_we_krwi: 0.0</br>wynik_ekg_spoczynek: 2.0</br>ilosc_uderzen_serca: 150.0</br>bol_klatka_wysilek: 0.0</br>max_obnizka_st: 0.4</br>przebieg_st_szczyt: 2.0</br>zwapnienia_miazdzycowe: 1.0</br>_original_yhat_: 0.42</br>"
          ],
          [
           "</br>id: 30</br>prediction: 0.37</br>proba_ta: 4.6</br></br>wiek: 57.0</br>plec: 1.0</br>typ_bolu_klatka: 3.0</br>cisnienie_krwi_spoczynek: 128.0</br>cholesterol_we_krwi: 229.0</br>cukier_we_krwi: 0.0</br>wynik_ekg_spoczynek: 2.0</br>ilosc_uderzen_serca: 150.0</br>bol_klatka_wysilek: 0.0</br>max_obnizka_st: 0.4</br>przebieg_st_szczyt: 2.0</br>zwapnienia_miazdzycowe: 1.0</br>_original_yhat_: 0.42</br>"
          ],
          [
           "</br>id: 30</br>prediction: 0.37</br>proba_ta: 4.640000000000001</br></br>wiek: 57.0</br>plec: 1.0</br>typ_bolu_klatka: 3.0</br>cisnienie_krwi_spoczynek: 128.0</br>cholesterol_we_krwi: 229.0</br>cukier_we_krwi: 0.0</br>wynik_ekg_spoczynek: 2.0</br>ilosc_uderzen_serca: 150.0</br>bol_klatka_wysilek: 0.0</br>max_obnizka_st: 0.4</br>przebieg_st_szczyt: 2.0</br>zwapnienia_miazdzycowe: 1.0</br>_original_yhat_: 0.42</br>"
          ],
          [
           "</br>id: 30</br>prediction: 0.37</br>proba_ta: 4.68</br></br>wiek: 57.0</br>plec: 1.0</br>typ_bolu_klatka: 3.0</br>cisnienie_krwi_spoczynek: 128.0</br>cholesterol_we_krwi: 229.0</br>cukier_we_krwi: 0.0</br>wynik_ekg_spoczynek: 2.0</br>ilosc_uderzen_serca: 150.0</br>bol_klatka_wysilek: 0.0</br>max_obnizka_st: 0.4</br>przebieg_st_szczyt: 2.0</br>zwapnienia_miazdzycowe: 1.0</br>_original_yhat_: 0.42</br>"
          ],
          [
           "</br>id: 30</br>prediction: 0.37</br>proba_ta: 4.72</br></br>wiek: 57.0</br>plec: 1.0</br>typ_bolu_klatka: 3.0</br>cisnienie_krwi_spoczynek: 128.0</br>cholesterol_we_krwi: 229.0</br>cukier_we_krwi: 0.0</br>wynik_ekg_spoczynek: 2.0</br>ilosc_uderzen_serca: 150.0</br>bol_klatka_wysilek: 0.0</br>max_obnizka_st: 0.4</br>przebieg_st_szczyt: 2.0</br>zwapnienia_miazdzycowe: 1.0</br>_original_yhat_: 0.42</br>"
          ],
          [
           "</br>id: 30</br>prediction: 0.37</br>proba_ta: 4.76</br></br>wiek: 57.0</br>plec: 1.0</br>typ_bolu_klatka: 3.0</br>cisnienie_krwi_spoczynek: 128.0</br>cholesterol_we_krwi: 229.0</br>cukier_we_krwi: 0.0</br>wynik_ekg_spoczynek: 2.0</br>ilosc_uderzen_serca: 150.0</br>bol_klatka_wysilek: 0.0</br>max_obnizka_st: 0.4</br>przebieg_st_szczyt: 2.0</br>zwapnienia_miazdzycowe: 1.0</br>_original_yhat_: 0.42</br>"
          ],
          [
           "</br>id: 30</br>prediction: 0.37</br>proba_ta: 4.8</br></br>wiek: 57.0</br>plec: 1.0</br>typ_bolu_klatka: 3.0</br>cisnienie_krwi_spoczynek: 128.0</br>cholesterol_we_krwi: 229.0</br>cukier_we_krwi: 0.0</br>wynik_ekg_spoczynek: 2.0</br>ilosc_uderzen_serca: 150.0</br>bol_klatka_wysilek: 0.0</br>max_obnizka_st: 0.4</br>przebieg_st_szczyt: 2.0</br>zwapnienia_miazdzycowe: 1.0</br>_original_yhat_: 0.42</br>"
          ],
          [
           "</br>id: 30</br>prediction: 0.37</br>proba_ta: 4.84</br></br>wiek: 57.0</br>plec: 1.0</br>typ_bolu_klatka: 3.0</br>cisnienie_krwi_spoczynek: 128.0</br>cholesterol_we_krwi: 229.0</br>cukier_we_krwi: 0.0</br>wynik_ekg_spoczynek: 2.0</br>ilosc_uderzen_serca: 150.0</br>bol_klatka_wysilek: 0.0</br>max_obnizka_st: 0.4</br>przebieg_st_szczyt: 2.0</br>zwapnienia_miazdzycowe: 1.0</br>_original_yhat_: 0.42</br>"
          ],
          [
           "</br>id: 30</br>prediction: 0.37</br>proba_ta: 4.88</br></br>wiek: 57.0</br>plec: 1.0</br>typ_bolu_klatka: 3.0</br>cisnienie_krwi_spoczynek: 128.0</br>cholesterol_we_krwi: 229.0</br>cukier_we_krwi: 0.0</br>wynik_ekg_spoczynek: 2.0</br>ilosc_uderzen_serca: 150.0</br>bol_klatka_wysilek: 0.0</br>max_obnizka_st: 0.4</br>przebieg_st_szczyt: 2.0</br>zwapnienia_miazdzycowe: 1.0</br>_original_yhat_: 0.42</br>"
          ],
          [
           "</br>id: 30</br>prediction: 0.37</br>proba_ta: 4.92</br></br>wiek: 57.0</br>plec: 1.0</br>typ_bolu_klatka: 3.0</br>cisnienie_krwi_spoczynek: 128.0</br>cholesterol_we_krwi: 229.0</br>cukier_we_krwi: 0.0</br>wynik_ekg_spoczynek: 2.0</br>ilosc_uderzen_serca: 150.0</br>bol_klatka_wysilek: 0.0</br>max_obnizka_st: 0.4</br>przebieg_st_szczyt: 2.0</br>zwapnienia_miazdzycowe: 1.0</br>_original_yhat_: 0.42</br>"
          ],
          [
           "</br>id: 30</br>prediction: 0.37</br>proba_ta: 4.96</br></br>wiek: 57.0</br>plec: 1.0</br>typ_bolu_klatka: 3.0</br>cisnienie_krwi_spoczynek: 128.0</br>cholesterol_we_krwi: 229.0</br>cukier_we_krwi: 0.0</br>wynik_ekg_spoczynek: 2.0</br>ilosc_uderzen_serca: 150.0</br>bol_klatka_wysilek: 0.0</br>max_obnizka_st: 0.4</br>przebieg_st_szczyt: 2.0</br>zwapnienia_miazdzycowe: 1.0</br>_original_yhat_: 0.42</br>"
          ],
          [
           "</br>id: 30</br>prediction: 0.37</br>proba_ta: 5.0</br></br>wiek: 57.0</br>plec: 1.0</br>typ_bolu_klatka: 3.0</br>cisnienie_krwi_spoczynek: 128.0</br>cholesterol_we_krwi: 229.0</br>cukier_we_krwi: 0.0</br>wynik_ekg_spoczynek: 2.0</br>ilosc_uderzen_serca: 150.0</br>bol_klatka_wysilek: 0.0</br>max_obnizka_st: 0.4</br>przebieg_st_szczyt: 2.0</br>zwapnienia_miazdzycowe: 1.0</br>_original_yhat_: 0.42</br>"
          ],
          [
           "</br>id: 30</br>prediction: 0.39</br>proba_ta: 5.04</br></br>wiek: 57.0</br>plec: 1.0</br>typ_bolu_klatka: 3.0</br>cisnienie_krwi_spoczynek: 128.0</br>cholesterol_we_krwi: 229.0</br>cukier_we_krwi: 0.0</br>wynik_ekg_spoczynek: 2.0</br>ilosc_uderzen_serca: 150.0</br>bol_klatka_wysilek: 0.0</br>max_obnizka_st: 0.4</br>przebieg_st_szczyt: 2.0</br>zwapnienia_miazdzycowe: 1.0</br>_original_yhat_: 0.42</br>"
          ],
          [
           "</br>id: 30</br>prediction: 0.39</br>proba_ta: 5.08</br></br>wiek: 57.0</br>plec: 1.0</br>typ_bolu_klatka: 3.0</br>cisnienie_krwi_spoczynek: 128.0</br>cholesterol_we_krwi: 229.0</br>cukier_we_krwi: 0.0</br>wynik_ekg_spoczynek: 2.0</br>ilosc_uderzen_serca: 150.0</br>bol_klatka_wysilek: 0.0</br>max_obnizka_st: 0.4</br>przebieg_st_szczyt: 2.0</br>zwapnienia_miazdzycowe: 1.0</br>_original_yhat_: 0.42</br>"
          ],
          [
           "</br>id: 30</br>prediction: 0.39</br>proba_ta: 5.12</br></br>wiek: 57.0</br>plec: 1.0</br>typ_bolu_klatka: 3.0</br>cisnienie_krwi_spoczynek: 128.0</br>cholesterol_we_krwi: 229.0</br>cukier_we_krwi: 0.0</br>wynik_ekg_spoczynek: 2.0</br>ilosc_uderzen_serca: 150.0</br>bol_klatka_wysilek: 0.0</br>max_obnizka_st: 0.4</br>przebieg_st_szczyt: 2.0</br>zwapnienia_miazdzycowe: 1.0</br>_original_yhat_: 0.42</br>"
          ],
          [
           "</br>id: 30</br>prediction: 0.39</br>proba_ta: 5.16</br></br>wiek: 57.0</br>plec: 1.0</br>typ_bolu_klatka: 3.0</br>cisnienie_krwi_spoczynek: 128.0</br>cholesterol_we_krwi: 229.0</br>cukier_we_krwi: 0.0</br>wynik_ekg_spoczynek: 2.0</br>ilosc_uderzen_serca: 150.0</br>bol_klatka_wysilek: 0.0</br>max_obnizka_st: 0.4</br>przebieg_st_szczyt: 2.0</br>zwapnienia_miazdzycowe: 1.0</br>_original_yhat_: 0.42</br>"
          ],
          [
           "</br>id: 30</br>prediction: 0.39</br>proba_ta: 5.2</br></br>wiek: 57.0</br>plec: 1.0</br>typ_bolu_klatka: 3.0</br>cisnienie_krwi_spoczynek: 128.0</br>cholesterol_we_krwi: 229.0</br>cukier_we_krwi: 0.0</br>wynik_ekg_spoczynek: 2.0</br>ilosc_uderzen_serca: 150.0</br>bol_klatka_wysilek: 0.0</br>max_obnizka_st: 0.4</br>przebieg_st_szczyt: 2.0</br>zwapnienia_miazdzycowe: 1.0</br>_original_yhat_: 0.42</br>"
          ],
          [
           "</br>id: 30</br>prediction: 0.39</br>proba_ta: 5.24</br></br>wiek: 57.0</br>plec: 1.0</br>typ_bolu_klatka: 3.0</br>cisnienie_krwi_spoczynek: 128.0</br>cholesterol_we_krwi: 229.0</br>cukier_we_krwi: 0.0</br>wynik_ekg_spoczynek: 2.0</br>ilosc_uderzen_serca: 150.0</br>bol_klatka_wysilek: 0.0</br>max_obnizka_st: 0.4</br>przebieg_st_szczyt: 2.0</br>zwapnienia_miazdzycowe: 1.0</br>_original_yhat_: 0.42</br>"
          ],
          [
           "</br>id: 30</br>prediction: 0.39</br>proba_ta: 5.28</br></br>wiek: 57.0</br>plec: 1.0</br>typ_bolu_klatka: 3.0</br>cisnienie_krwi_spoczynek: 128.0</br>cholesterol_we_krwi: 229.0</br>cukier_we_krwi: 0.0</br>wynik_ekg_spoczynek: 2.0</br>ilosc_uderzen_serca: 150.0</br>bol_klatka_wysilek: 0.0</br>max_obnizka_st: 0.4</br>przebieg_st_szczyt: 2.0</br>zwapnienia_miazdzycowe: 1.0</br>_original_yhat_: 0.42</br>"
          ],
          [
           "</br>id: 30</br>prediction: 0.39</br>proba_ta: 5.32</br></br>wiek: 57.0</br>plec: 1.0</br>typ_bolu_klatka: 3.0</br>cisnienie_krwi_spoczynek: 128.0</br>cholesterol_we_krwi: 229.0</br>cukier_we_krwi: 0.0</br>wynik_ekg_spoczynek: 2.0</br>ilosc_uderzen_serca: 150.0</br>bol_klatka_wysilek: 0.0</br>max_obnizka_st: 0.4</br>przebieg_st_szczyt: 2.0</br>zwapnienia_miazdzycowe: 1.0</br>_original_yhat_: 0.42</br>"
          ],
          [
           "</br>id: 30</br>prediction: 0.39</br>proba_ta: 5.359999999999999</br></br>wiek: 57.0</br>plec: 1.0</br>typ_bolu_klatka: 3.0</br>cisnienie_krwi_spoczynek: 128.0</br>cholesterol_we_krwi: 229.0</br>cukier_we_krwi: 0.0</br>wynik_ekg_spoczynek: 2.0</br>ilosc_uderzen_serca: 150.0</br>bol_klatka_wysilek: 0.0</br>max_obnizka_st: 0.4</br>przebieg_st_szczyt: 2.0</br>zwapnienia_miazdzycowe: 1.0</br>_original_yhat_: 0.42</br>"
          ],
          [
           "</br>id: 30</br>prediction: 0.39</br>proba_ta: 5.4</br></br>wiek: 57.0</br>plec: 1.0</br>typ_bolu_klatka: 3.0</br>cisnienie_krwi_spoczynek: 128.0</br>cholesterol_we_krwi: 229.0</br>cukier_we_krwi: 0.0</br>wynik_ekg_spoczynek: 2.0</br>ilosc_uderzen_serca: 150.0</br>bol_klatka_wysilek: 0.0</br>max_obnizka_st: 0.4</br>przebieg_st_szczyt: 2.0</br>zwapnienia_miazdzycowe: 1.0</br>_original_yhat_: 0.42</br>"
          ],
          [
           "</br>id: 30</br>prediction: 0.39</br>proba_ta: 5.4399999999999995</br></br>wiek: 57.0</br>plec: 1.0</br>typ_bolu_klatka: 3.0</br>cisnienie_krwi_spoczynek: 128.0</br>cholesterol_we_krwi: 229.0</br>cukier_we_krwi: 0.0</br>wynik_ekg_spoczynek: 2.0</br>ilosc_uderzen_serca: 150.0</br>bol_klatka_wysilek: 0.0</br>max_obnizka_st: 0.4</br>przebieg_st_szczyt: 2.0</br>zwapnienia_miazdzycowe: 1.0</br>_original_yhat_: 0.42</br>"
          ],
          [
           "</br>id: 30</br>prediction: 0.39</br>proba_ta: 5.48</br></br>wiek: 57.0</br>plec: 1.0</br>typ_bolu_klatka: 3.0</br>cisnienie_krwi_spoczynek: 128.0</br>cholesterol_we_krwi: 229.0</br>cukier_we_krwi: 0.0</br>wynik_ekg_spoczynek: 2.0</br>ilosc_uderzen_serca: 150.0</br>bol_klatka_wysilek: 0.0</br>max_obnizka_st: 0.4</br>przebieg_st_szczyt: 2.0</br>zwapnienia_miazdzycowe: 1.0</br>_original_yhat_: 0.42</br>"
          ],
          [
           "</br>id: 30</br>prediction: 0.39</br>proba_ta: 5.52</br></br>wiek: 57.0</br>plec: 1.0</br>typ_bolu_klatka: 3.0</br>cisnienie_krwi_spoczynek: 128.0</br>cholesterol_we_krwi: 229.0</br>cukier_we_krwi: 0.0</br>wynik_ekg_spoczynek: 2.0</br>ilosc_uderzen_serca: 150.0</br>bol_klatka_wysilek: 0.0</br>max_obnizka_st: 0.4</br>przebieg_st_szczyt: 2.0</br>zwapnienia_miazdzycowe: 1.0</br>_original_yhat_: 0.42</br>"
          ],
          [
           "</br>id: 30</br>prediction: 0.39</br>proba_ta: 5.5600000000000005</br></br>wiek: 57.0</br>plec: 1.0</br>typ_bolu_klatka: 3.0</br>cisnienie_krwi_spoczynek: 128.0</br>cholesterol_we_krwi: 229.0</br>cukier_we_krwi: 0.0</br>wynik_ekg_spoczynek: 2.0</br>ilosc_uderzen_serca: 150.0</br>bol_klatka_wysilek: 0.0</br>max_obnizka_st: 0.4</br>przebieg_st_szczyt: 2.0</br>zwapnienia_miazdzycowe: 1.0</br>_original_yhat_: 0.42</br>"
          ],
          [
           "</br>id: 30</br>prediction: 0.39</br>proba_ta: 5.6</br></br>wiek: 57.0</br>plec: 1.0</br>typ_bolu_klatka: 3.0</br>cisnienie_krwi_spoczynek: 128.0</br>cholesterol_we_krwi: 229.0</br>cukier_we_krwi: 0.0</br>wynik_ekg_spoczynek: 2.0</br>ilosc_uderzen_serca: 150.0</br>bol_klatka_wysilek: 0.0</br>max_obnizka_st: 0.4</br>przebieg_st_szczyt: 2.0</br>zwapnienia_miazdzycowe: 1.0</br>_original_yhat_: 0.42</br>"
          ],
          [
           "</br>id: 30</br>prediction: 0.39</br>proba_ta: 5.640000000000001</br></br>wiek: 57.0</br>plec: 1.0</br>typ_bolu_klatka: 3.0</br>cisnienie_krwi_spoczynek: 128.0</br>cholesterol_we_krwi: 229.0</br>cukier_we_krwi: 0.0</br>wynik_ekg_spoczynek: 2.0</br>ilosc_uderzen_serca: 150.0</br>bol_klatka_wysilek: 0.0</br>max_obnizka_st: 0.4</br>przebieg_st_szczyt: 2.0</br>zwapnienia_miazdzycowe: 1.0</br>_original_yhat_: 0.42</br>"
          ],
          [
           "</br>id: 30</br>prediction: 0.39</br>proba_ta: 5.68</br></br>wiek: 57.0</br>plec: 1.0</br>typ_bolu_klatka: 3.0</br>cisnienie_krwi_spoczynek: 128.0</br>cholesterol_we_krwi: 229.0</br>cukier_we_krwi: 0.0</br>wynik_ekg_spoczynek: 2.0</br>ilosc_uderzen_serca: 150.0</br>bol_klatka_wysilek: 0.0</br>max_obnizka_st: 0.4</br>przebieg_st_szczyt: 2.0</br>zwapnienia_miazdzycowe: 1.0</br>_original_yhat_: 0.42</br>"
          ],
          [
           "</br>id: 30</br>prediction: 0.39</br>proba_ta: 5.720000000000001</br></br>wiek: 57.0</br>plec: 1.0</br>typ_bolu_klatka: 3.0</br>cisnienie_krwi_spoczynek: 128.0</br>cholesterol_we_krwi: 229.0</br>cukier_we_krwi: 0.0</br>wynik_ekg_spoczynek: 2.0</br>ilosc_uderzen_serca: 150.0</br>bol_klatka_wysilek: 0.0</br>max_obnizka_st: 0.4</br>przebieg_st_szczyt: 2.0</br>zwapnienia_miazdzycowe: 1.0</br>_original_yhat_: 0.42</br>"
          ],
          [
           "</br>id: 30</br>prediction: 0.39</br>proba_ta: 5.76</br></br>wiek: 57.0</br>plec: 1.0</br>typ_bolu_klatka: 3.0</br>cisnienie_krwi_spoczynek: 128.0</br>cholesterol_we_krwi: 229.0</br>cukier_we_krwi: 0.0</br>wynik_ekg_spoczynek: 2.0</br>ilosc_uderzen_serca: 150.0</br>bol_klatka_wysilek: 0.0</br>max_obnizka_st: 0.4</br>przebieg_st_szczyt: 2.0</br>zwapnienia_miazdzycowe: 1.0</br>_original_yhat_: 0.42</br>"
          ],
          [
           "</br>id: 30</br>prediction: 0.39</br>proba_ta: 5.800000000000001</br></br>wiek: 57.0</br>plec: 1.0</br>typ_bolu_klatka: 3.0</br>cisnienie_krwi_spoczynek: 128.0</br>cholesterol_we_krwi: 229.0</br>cukier_we_krwi: 0.0</br>wynik_ekg_spoczynek: 2.0</br>ilosc_uderzen_serca: 150.0</br>bol_klatka_wysilek: 0.0</br>max_obnizka_st: 0.4</br>przebieg_st_szczyt: 2.0</br>zwapnienia_miazdzycowe: 1.0</br>_original_yhat_: 0.42</br>"
          ],
          [
           "</br>id: 30</br>prediction: 0.39</br>proba_ta: 5.84</br></br>wiek: 57.0</br>plec: 1.0</br>typ_bolu_klatka: 3.0</br>cisnienie_krwi_spoczynek: 128.0</br>cholesterol_we_krwi: 229.0</br>cukier_we_krwi: 0.0</br>wynik_ekg_spoczynek: 2.0</br>ilosc_uderzen_serca: 150.0</br>bol_klatka_wysilek: 0.0</br>max_obnizka_st: 0.4</br>przebieg_st_szczyt: 2.0</br>zwapnienia_miazdzycowe: 1.0</br>_original_yhat_: 0.42</br>"
          ],
          [
           "</br>id: 30</br>prediction: 0.39</br>proba_ta: 5.88</br></br>wiek: 57.0</br>plec: 1.0</br>typ_bolu_klatka: 3.0</br>cisnienie_krwi_spoczynek: 128.0</br>cholesterol_we_krwi: 229.0</br>cukier_we_krwi: 0.0</br>wynik_ekg_spoczynek: 2.0</br>ilosc_uderzen_serca: 150.0</br>bol_klatka_wysilek: 0.0</br>max_obnizka_st: 0.4</br>przebieg_st_szczyt: 2.0</br>zwapnienia_miazdzycowe: 1.0</br>_original_yhat_: 0.42</br>"
          ],
          [
           "</br>id: 30</br>prediction: 0.39</br>proba_ta: 5.92</br></br>wiek: 57.0</br>plec: 1.0</br>typ_bolu_klatka: 3.0</br>cisnienie_krwi_spoczynek: 128.0</br>cholesterol_we_krwi: 229.0</br>cukier_we_krwi: 0.0</br>wynik_ekg_spoczynek: 2.0</br>ilosc_uderzen_serca: 150.0</br>bol_klatka_wysilek: 0.0</br>max_obnizka_st: 0.4</br>przebieg_st_szczyt: 2.0</br>zwapnienia_miazdzycowe: 1.0</br>_original_yhat_: 0.42</br>"
          ],
          [
           "</br>id: 30</br>prediction: 0.39</br>proba_ta: 5.96</br></br>wiek: 57.0</br>plec: 1.0</br>typ_bolu_klatka: 3.0</br>cisnienie_krwi_spoczynek: 128.0</br>cholesterol_we_krwi: 229.0</br>cukier_we_krwi: 0.0</br>wynik_ekg_spoczynek: 2.0</br>ilosc_uderzen_serca: 150.0</br>bol_klatka_wysilek: 0.0</br>max_obnizka_st: 0.4</br>przebieg_st_szczyt: 2.0</br>zwapnienia_miazdzycowe: 1.0</br>_original_yhat_: 0.42</br>"
          ],
          [
           "</br>id: 30</br>prediction: 0.39</br>proba_ta: 6.0</br></br>wiek: 57.0</br>plec: 1.0</br>typ_bolu_klatka: 3.0</br>cisnienie_krwi_spoczynek: 128.0</br>cholesterol_we_krwi: 229.0</br>cukier_we_krwi: 0.0</br>wynik_ekg_spoczynek: 2.0</br>ilosc_uderzen_serca: 150.0</br>bol_klatka_wysilek: 0.0</br>max_obnizka_st: 0.4</br>przebieg_st_szczyt: 2.0</br>zwapnienia_miazdzycowe: 1.0</br>_original_yhat_: 0.42</br>"
          ],
          [
           "</br>id: 30</br>prediction: 0.39</br>proba_ta: 6.04</br></br>wiek: 57.0</br>plec: 1.0</br>typ_bolu_klatka: 3.0</br>cisnienie_krwi_spoczynek: 128.0</br>cholesterol_we_krwi: 229.0</br>cukier_we_krwi: 0.0</br>wynik_ekg_spoczynek: 2.0</br>ilosc_uderzen_serca: 150.0</br>bol_klatka_wysilek: 0.0</br>max_obnizka_st: 0.4</br>przebieg_st_szczyt: 2.0</br>zwapnienia_miazdzycowe: 1.0</br>_original_yhat_: 0.42</br>"
          ],
          [
           "</br>id: 30</br>prediction: 0.39</br>proba_ta: 6.08</br></br>wiek: 57.0</br>plec: 1.0</br>typ_bolu_klatka: 3.0</br>cisnienie_krwi_spoczynek: 128.0</br>cholesterol_we_krwi: 229.0</br>cukier_we_krwi: 0.0</br>wynik_ekg_spoczynek: 2.0</br>ilosc_uderzen_serca: 150.0</br>bol_klatka_wysilek: 0.0</br>max_obnizka_st: 0.4</br>przebieg_st_szczyt: 2.0</br>zwapnienia_miazdzycowe: 1.0</br>_original_yhat_: 0.42</br>"
          ],
          [
           "</br>id: 30</br>prediction: 0.39</br>proba_ta: 6.12</br></br>wiek: 57.0</br>plec: 1.0</br>typ_bolu_klatka: 3.0</br>cisnienie_krwi_spoczynek: 128.0</br>cholesterol_we_krwi: 229.0</br>cukier_we_krwi: 0.0</br>wynik_ekg_spoczynek: 2.0</br>ilosc_uderzen_serca: 150.0</br>bol_klatka_wysilek: 0.0</br>max_obnizka_st: 0.4</br>przebieg_st_szczyt: 2.0</br>zwapnienia_miazdzycowe: 1.0</br>_original_yhat_: 0.42</br>"
          ],
          [
           "</br>id: 30</br>prediction: 0.39</br>proba_ta: 6.16</br></br>wiek: 57.0</br>plec: 1.0</br>typ_bolu_klatka: 3.0</br>cisnienie_krwi_spoczynek: 128.0</br>cholesterol_we_krwi: 229.0</br>cukier_we_krwi: 0.0</br>wynik_ekg_spoczynek: 2.0</br>ilosc_uderzen_serca: 150.0</br>bol_klatka_wysilek: 0.0</br>max_obnizka_st: 0.4</br>przebieg_st_szczyt: 2.0</br>zwapnienia_miazdzycowe: 1.0</br>_original_yhat_: 0.42</br>"
          ],
          [
           "</br>id: 30</br>prediction: 0.39</br>proba_ta: 6.2</br></br>wiek: 57.0</br>plec: 1.0</br>typ_bolu_klatka: 3.0</br>cisnienie_krwi_spoczynek: 128.0</br>cholesterol_we_krwi: 229.0</br>cukier_we_krwi: 0.0</br>wynik_ekg_spoczynek: 2.0</br>ilosc_uderzen_serca: 150.0</br>bol_klatka_wysilek: 0.0</br>max_obnizka_st: 0.4</br>przebieg_st_szczyt: 2.0</br>zwapnienia_miazdzycowe: 1.0</br>_original_yhat_: 0.42</br>"
          ],
          [
           "</br>id: 30</br>prediction: 0.39</br>proba_ta: 6.24</br></br>wiek: 57.0</br>plec: 1.0</br>typ_bolu_klatka: 3.0</br>cisnienie_krwi_spoczynek: 128.0</br>cholesterol_we_krwi: 229.0</br>cukier_we_krwi: 0.0</br>wynik_ekg_spoczynek: 2.0</br>ilosc_uderzen_serca: 150.0</br>bol_klatka_wysilek: 0.0</br>max_obnizka_st: 0.4</br>przebieg_st_szczyt: 2.0</br>zwapnienia_miazdzycowe: 1.0</br>_original_yhat_: 0.42</br>"
          ],
          [
           "</br>id: 30</br>prediction: 0.39</br>proba_ta: 6.28</br></br>wiek: 57.0</br>plec: 1.0</br>typ_bolu_klatka: 3.0</br>cisnienie_krwi_spoczynek: 128.0</br>cholesterol_we_krwi: 229.0</br>cukier_we_krwi: 0.0</br>wynik_ekg_spoczynek: 2.0</br>ilosc_uderzen_serca: 150.0</br>bol_klatka_wysilek: 0.0</br>max_obnizka_st: 0.4</br>przebieg_st_szczyt: 2.0</br>zwapnienia_miazdzycowe: 1.0</br>_original_yhat_: 0.42</br>"
          ],
          [
           "</br>id: 30</br>prediction: 0.39</br>proba_ta: 6.32</br></br>wiek: 57.0</br>plec: 1.0</br>typ_bolu_klatka: 3.0</br>cisnienie_krwi_spoczynek: 128.0</br>cholesterol_we_krwi: 229.0</br>cukier_we_krwi: 0.0</br>wynik_ekg_spoczynek: 2.0</br>ilosc_uderzen_serca: 150.0</br>bol_klatka_wysilek: 0.0</br>max_obnizka_st: 0.4</br>przebieg_st_szczyt: 2.0</br>zwapnienia_miazdzycowe: 1.0</br>_original_yhat_: 0.42</br>"
          ],
          [
           "</br>id: 30</br>prediction: 0.39</br>proba_ta: 6.359999999999999</br></br>wiek: 57.0</br>plec: 1.0</br>typ_bolu_klatka: 3.0</br>cisnienie_krwi_spoczynek: 128.0</br>cholesterol_we_krwi: 229.0</br>cukier_we_krwi: 0.0</br>wynik_ekg_spoczynek: 2.0</br>ilosc_uderzen_serca: 150.0</br>bol_klatka_wysilek: 0.0</br>max_obnizka_st: 0.4</br>przebieg_st_szczyt: 2.0</br>zwapnienia_miazdzycowe: 1.0</br>_original_yhat_: 0.42</br>"
          ],
          [
           "</br>id: 30</br>prediction: 0.39</br>proba_ta: 6.4</br></br>wiek: 57.0</br>plec: 1.0</br>typ_bolu_klatka: 3.0</br>cisnienie_krwi_spoczynek: 128.0</br>cholesterol_we_krwi: 229.0</br>cukier_we_krwi: 0.0</br>wynik_ekg_spoczynek: 2.0</br>ilosc_uderzen_serca: 150.0</br>bol_klatka_wysilek: 0.0</br>max_obnizka_st: 0.4</br>przebieg_st_szczyt: 2.0</br>zwapnienia_miazdzycowe: 1.0</br>_original_yhat_: 0.42</br>"
          ],
          [
           "</br>id: 30</br>prediction: 0.39</br>proba_ta: 6.4399999999999995</br></br>wiek: 57.0</br>plec: 1.0</br>typ_bolu_klatka: 3.0</br>cisnienie_krwi_spoczynek: 128.0</br>cholesterol_we_krwi: 229.0</br>cukier_we_krwi: 0.0</br>wynik_ekg_spoczynek: 2.0</br>ilosc_uderzen_serca: 150.0</br>bol_klatka_wysilek: 0.0</br>max_obnizka_st: 0.4</br>przebieg_st_szczyt: 2.0</br>zwapnienia_miazdzycowe: 1.0</br>_original_yhat_: 0.42</br>"
          ],
          [
           "</br>id: 30</br>prediction: 0.39</br>proba_ta: 6.48</br></br>wiek: 57.0</br>plec: 1.0</br>typ_bolu_klatka: 3.0</br>cisnienie_krwi_spoczynek: 128.0</br>cholesterol_we_krwi: 229.0</br>cukier_we_krwi: 0.0</br>wynik_ekg_spoczynek: 2.0</br>ilosc_uderzen_serca: 150.0</br>bol_klatka_wysilek: 0.0</br>max_obnizka_st: 0.4</br>przebieg_st_szczyt: 2.0</br>zwapnienia_miazdzycowe: 1.0</br>_original_yhat_: 0.42</br>"
          ],
          [
           "</br>id: 30</br>prediction: 0.42</br>proba_ta: 6.52</br></br>wiek: 57.0</br>plec: 1.0</br>typ_bolu_klatka: 3.0</br>cisnienie_krwi_spoczynek: 128.0</br>cholesterol_we_krwi: 229.0</br>cukier_we_krwi: 0.0</br>wynik_ekg_spoczynek: 2.0</br>ilosc_uderzen_serca: 150.0</br>bol_klatka_wysilek: 0.0</br>max_obnizka_st: 0.4</br>przebieg_st_szczyt: 2.0</br>zwapnienia_miazdzycowe: 1.0</br>_original_yhat_: 0.42</br>"
          ],
          [
           "</br>id: 30</br>prediction: 0.42</br>proba_ta: 6.5600000000000005</br></br>wiek: 57.0</br>plec: 1.0</br>typ_bolu_klatka: 3.0</br>cisnienie_krwi_spoczynek: 128.0</br>cholesterol_we_krwi: 229.0</br>cukier_we_krwi: 0.0</br>wynik_ekg_spoczynek: 2.0</br>ilosc_uderzen_serca: 150.0</br>bol_klatka_wysilek: 0.0</br>max_obnizka_st: 0.4</br>przebieg_st_szczyt: 2.0</br>zwapnienia_miazdzycowe: 1.0</br>_original_yhat_: 0.42</br>"
          ],
          [
           "</br>id: 30</br>prediction: 0.42</br>proba_ta: 6.6</br></br>wiek: 57.0</br>plec: 1.0</br>typ_bolu_klatka: 3.0</br>cisnienie_krwi_spoczynek: 128.0</br>cholesterol_we_krwi: 229.0</br>cukier_we_krwi: 0.0</br>wynik_ekg_spoczynek: 2.0</br>ilosc_uderzen_serca: 150.0</br>bol_klatka_wysilek: 0.0</br>max_obnizka_st: 0.4</br>przebieg_st_szczyt: 2.0</br>zwapnienia_miazdzycowe: 1.0</br>_original_yhat_: 0.42</br>"
          ],
          [
           "</br>id: 30</br>prediction: 0.42</br>proba_ta: 6.640000000000001</br></br>wiek: 57.0</br>plec: 1.0</br>typ_bolu_klatka: 3.0</br>cisnienie_krwi_spoczynek: 128.0</br>cholesterol_we_krwi: 229.0</br>cukier_we_krwi: 0.0</br>wynik_ekg_spoczynek: 2.0</br>ilosc_uderzen_serca: 150.0</br>bol_klatka_wysilek: 0.0</br>max_obnizka_st: 0.4</br>przebieg_st_szczyt: 2.0</br>zwapnienia_miazdzycowe: 1.0</br>_original_yhat_: 0.42</br>"
          ],
          [
           "</br>id: 30</br>prediction: 0.42</br>proba_ta: 6.68</br></br>wiek: 57.0</br>plec: 1.0</br>typ_bolu_klatka: 3.0</br>cisnienie_krwi_spoczynek: 128.0</br>cholesterol_we_krwi: 229.0</br>cukier_we_krwi: 0.0</br>wynik_ekg_spoczynek: 2.0</br>ilosc_uderzen_serca: 150.0</br>bol_klatka_wysilek: 0.0</br>max_obnizka_st: 0.4</br>przebieg_st_szczyt: 2.0</br>zwapnienia_miazdzycowe: 1.0</br>_original_yhat_: 0.42</br>"
          ],
          [
           "</br>id: 30</br>prediction: 0.42</br>proba_ta: 6.720000000000001</br></br>wiek: 57.0</br>plec: 1.0</br>typ_bolu_klatka: 3.0</br>cisnienie_krwi_spoczynek: 128.0</br>cholesterol_we_krwi: 229.0</br>cukier_we_krwi: 0.0</br>wynik_ekg_spoczynek: 2.0</br>ilosc_uderzen_serca: 150.0</br>bol_klatka_wysilek: 0.0</br>max_obnizka_st: 0.4</br>przebieg_st_szczyt: 2.0</br>zwapnienia_miazdzycowe: 1.0</br>_original_yhat_: 0.42</br>"
          ],
          [
           "</br>id: 30</br>prediction: 0.42</br>proba_ta: 6.76</br></br>wiek: 57.0</br>plec: 1.0</br>typ_bolu_klatka: 3.0</br>cisnienie_krwi_spoczynek: 128.0</br>cholesterol_we_krwi: 229.0</br>cukier_we_krwi: 0.0</br>wynik_ekg_spoczynek: 2.0</br>ilosc_uderzen_serca: 150.0</br>bol_klatka_wysilek: 0.0</br>max_obnizka_st: 0.4</br>przebieg_st_szczyt: 2.0</br>zwapnienia_miazdzycowe: 1.0</br>_original_yhat_: 0.42</br>"
          ],
          [
           "</br>id: 30</br>prediction: 0.42</br>proba_ta: 6.800000000000001</br></br>wiek: 57.0</br>plec: 1.0</br>typ_bolu_klatka: 3.0</br>cisnienie_krwi_spoczynek: 128.0</br>cholesterol_we_krwi: 229.0</br>cukier_we_krwi: 0.0</br>wynik_ekg_spoczynek: 2.0</br>ilosc_uderzen_serca: 150.0</br>bol_klatka_wysilek: 0.0</br>max_obnizka_st: 0.4</br>przebieg_st_szczyt: 2.0</br>zwapnienia_miazdzycowe: 1.0</br>_original_yhat_: 0.42</br>"
          ],
          [
           "</br>id: 30</br>prediction: 0.42</br>proba_ta: 6.84</br></br>wiek: 57.0</br>plec: 1.0</br>typ_bolu_klatka: 3.0</br>cisnienie_krwi_spoczynek: 128.0</br>cholesterol_we_krwi: 229.0</br>cukier_we_krwi: 0.0</br>wynik_ekg_spoczynek: 2.0</br>ilosc_uderzen_serca: 150.0</br>bol_klatka_wysilek: 0.0</br>max_obnizka_st: 0.4</br>przebieg_st_szczyt: 2.0</br>zwapnienia_miazdzycowe: 1.0</br>_original_yhat_: 0.42</br>"
          ],
          [
           "</br>id: 30</br>prediction: 0.42</br>proba_ta: 6.88</br></br>wiek: 57.0</br>plec: 1.0</br>typ_bolu_klatka: 3.0</br>cisnienie_krwi_spoczynek: 128.0</br>cholesterol_we_krwi: 229.0</br>cukier_we_krwi: 0.0</br>wynik_ekg_spoczynek: 2.0</br>ilosc_uderzen_serca: 150.0</br>bol_klatka_wysilek: 0.0</br>max_obnizka_st: 0.4</br>przebieg_st_szczyt: 2.0</br>zwapnienia_miazdzycowe: 1.0</br>_original_yhat_: 0.42</br>"
          ],
          [
           "</br>id: 30</br>prediction: 0.42</br>proba_ta: 6.92</br></br>wiek: 57.0</br>plec: 1.0</br>typ_bolu_klatka: 3.0</br>cisnienie_krwi_spoczynek: 128.0</br>cholesterol_we_krwi: 229.0</br>cukier_we_krwi: 0.0</br>wynik_ekg_spoczynek: 2.0</br>ilosc_uderzen_serca: 150.0</br>bol_klatka_wysilek: 0.0</br>max_obnizka_st: 0.4</br>przebieg_st_szczyt: 2.0</br>zwapnienia_miazdzycowe: 1.0</br>_original_yhat_: 0.42</br>"
          ],
          [
           "</br>id: 30</br>prediction: 0.42</br>proba_ta: 6.96</br></br>wiek: 57.0</br>plec: 1.0</br>typ_bolu_klatka: 3.0</br>cisnienie_krwi_spoczynek: 128.0</br>cholesterol_we_krwi: 229.0</br>cukier_we_krwi: 0.0</br>wynik_ekg_spoczynek: 2.0</br>ilosc_uderzen_serca: 150.0</br>bol_klatka_wysilek: 0.0</br>max_obnizka_st: 0.4</br>przebieg_st_szczyt: 2.0</br>zwapnienia_miazdzycowe: 1.0</br>_original_yhat_: 0.42</br>"
          ],
          [
           "</br>id: 30</br>prediction: 0.42</br>proba_ta: 7.0</br></br>wiek: 57.0</br>plec: 1.0</br>typ_bolu_klatka: 3.0</br>cisnienie_krwi_spoczynek: 128.0</br>cholesterol_we_krwi: 229.0</br>cukier_we_krwi: 0.0</br>wynik_ekg_spoczynek: 2.0</br>ilosc_uderzen_serca: 150.0</br>bol_klatka_wysilek: 0.0</br>max_obnizka_st: 0.4</br>przebieg_st_szczyt: 2.0</br>zwapnienia_miazdzycowe: 1.0</br>_original_yhat_: 0.42</br>"
          ]
         ],
         "hovertemplate": "%{customdata[0]}<extra></extra>",
         "legendgroup": "Model RandomForest dla danych serca",
         "line": {
          "color": "#46bac2",
          "dash": "solid",
          "width": 2
         },
         "marker": {
          "symbol": "circle"
         },
         "mode": "lines",
         "name": "Model RandomForest dla danych serca",
         "opacity": 1,
         "showlegend": false,
         "type": "scattergl",
         "x": [
          3,
          3.04,
          3.08,
          3.12,
          3.16,
          3.2,
          3.24,
          3.2800000000000002,
          3.32,
          3.36,
          3.4,
          3.44,
          3.48,
          3.52,
          3.56,
          3.6,
          3.64,
          3.68,
          3.7199999999999998,
          3.76,
          3.8,
          3.84,
          3.88,
          3.92,
          3.96,
          4,
          4.04,
          4.08,
          4.12,
          4.16,
          4.2,
          4.24,
          4.28,
          4.32,
          4.36,
          4.4,
          4.4399999999999995,
          4.48,
          4.52,
          4.5600000000000005,
          4.6,
          4.640000000000001,
          4.68,
          4.72,
          4.76,
          4.8,
          4.84,
          4.88,
          4.92,
          4.96,
          5,
          5.04,
          5.08,
          5.12,
          5.16,
          5.2,
          5.24,
          5.28,
          5.32,
          5.359999999999999,
          5.4,
          5.4399999999999995,
          5.48,
          5.52,
          5.5600000000000005,
          5.6,
          5.640000000000001,
          5.68,
          5.720000000000001,
          5.76,
          5.800000000000001,
          5.84,
          5.88,
          5.92,
          5.96,
          6,
          6.04,
          6.08,
          6.12,
          6.16,
          6.2,
          6.24,
          6.28,
          6.32,
          6.359999999999999,
          6.4,
          6.4399999999999995,
          6.48,
          6.52,
          6.5600000000000005,
          6.6,
          6.640000000000001,
          6.68,
          6.720000000000001,
          6.76,
          6.800000000000001,
          6.84,
          6.88,
          6.92,
          6.96,
          7
         ],
         "xaxis": "x",
         "y": [
          0.2,
          0.2,
          0.2,
          0.2,
          0.2,
          0.2,
          0.2,
          0.2,
          0.2,
          0.2,
          0.2,
          0.2,
          0.2,
          0.2,
          0.2,
          0.2,
          0.2,
          0.2,
          0.2,
          0.2,
          0.2,
          0.2,
          0.2,
          0.2,
          0.2,
          0.2,
          0.2,
          0.2,
          0.2,
          0.2,
          0.2,
          0.2,
          0.2,
          0.2,
          0.2,
          0.2,
          0.2,
          0.2,
          0.37,
          0.37,
          0.37,
          0.37,
          0.37,
          0.37,
          0.37,
          0.37,
          0.37,
          0.37,
          0.37,
          0.37,
          0.37,
          0.39,
          0.39,
          0.39,
          0.39,
          0.39,
          0.39,
          0.39,
          0.39,
          0.39,
          0.39,
          0.39,
          0.39,
          0.39,
          0.39,
          0.39,
          0.39,
          0.39,
          0.39,
          0.39,
          0.39,
          0.39,
          0.39,
          0.39,
          0.39,
          0.39,
          0.39,
          0.39,
          0.39,
          0.39,
          0.39,
          0.39,
          0.39,
          0.39,
          0.39,
          0.39,
          0.39,
          0.39,
          0.42,
          0.42,
          0.42,
          0.42,
          0.42,
          0.42,
          0.42,
          0.42,
          0.42,
          0.42,
          0.42,
          0.42,
          0.42
         ],
         "yaxis": "y"
        },
        {
         "customdata": [
          [
           "</br>id: 30</br>prediction: 0.42</br>wiek: 57.0</br></br>plec: 1.0</br>typ_bolu_klatka: 3.0</br>cisnienie_krwi_spoczynek: 128.0</br>cholesterol_we_krwi: 229.0</br>cukier_we_krwi: 0.0</br>wynik_ekg_spoczynek: 2.0</br>ilosc_uderzen_serca: 150.0</br>bol_klatka_wysilek: 0.0</br>max_obnizka_st: 0.4</br>przebieg_st_szczyt: 2.0</br>zwapnienia_miazdzycowe: 1.0</br>proba_ta: 7.0</br>_original_yhat_: 0.42</br>"
          ]
         ],
         "hovertemplate": "%{customdata[0]}<extra></extra>",
         "legendgroup": "",
         "marker": {
          "color": "#371ea3",
          "size": 10,
          "symbol": "circle"
         },
         "mode": "markers",
         "name": "",
         "opacity": 1,
         "orientation": "v",
         "showlegend": false,
         "type": "scatter",
         "x": [
          57
         ],
         "xaxis": "x13",
         "y": [
          0.42
         ],
         "yaxis": "y13"
        },
        {
         "customdata": [
          [
           "</br>id: 30</br>prediction: 0.42</br>plec: 1.0</br></br>wiek: 57.0</br>typ_bolu_klatka: 3.0</br>cisnienie_krwi_spoczynek: 128.0</br>cholesterol_we_krwi: 229.0</br>cukier_we_krwi: 0.0</br>wynik_ekg_spoczynek: 2.0</br>ilosc_uderzen_serca: 150.0</br>bol_klatka_wysilek: 0.0</br>max_obnizka_st: 0.4</br>przebieg_st_szczyt: 2.0</br>zwapnienia_miazdzycowe: 1.0</br>proba_ta: 7.0</br>_original_yhat_: 0.42</br>"
          ]
         ],
         "hovertemplate": "%{customdata[0]}<extra></extra>",
         "legendgroup": "",
         "marker": {
          "color": "#371ea3",
          "size": 10,
          "symbol": "circle"
         },
         "mode": "markers",
         "name": "",
         "opacity": 1,
         "orientation": "v",
         "showlegend": false,
         "type": "scatter",
         "x": [
          1
         ],
         "xaxis": "x14",
         "y": [
          0.42
         ],
         "yaxis": "y14"
        },
        {
         "customdata": [
          [
           "</br>id: 30</br>prediction: 0.42</br>typ_bolu_klatka: 3.0</br></br>wiek: 57.0</br>plec: 1.0</br>cisnienie_krwi_spoczynek: 128.0</br>cholesterol_we_krwi: 229.0</br>cukier_we_krwi: 0.0</br>wynik_ekg_spoczynek: 2.0</br>ilosc_uderzen_serca: 150.0</br>bol_klatka_wysilek: 0.0</br>max_obnizka_st: 0.4</br>przebieg_st_szczyt: 2.0</br>zwapnienia_miazdzycowe: 1.0</br>proba_ta: 7.0</br>_original_yhat_: 0.42</br>"
          ]
         ],
         "hovertemplate": "%{customdata[0]}<extra></extra>",
         "legendgroup": "",
         "marker": {
          "color": "#371ea3",
          "size": 10,
          "symbol": "circle"
         },
         "mode": "markers",
         "name": "",
         "opacity": 1,
         "orientation": "v",
         "showlegend": false,
         "type": "scatter",
         "x": [
          3
         ],
         "xaxis": "x11",
         "y": [
          0.42
         ],
         "yaxis": "y11"
        },
        {
         "customdata": [
          [
           "</br>id: 30</br>prediction: 0.42</br>cisnienie_krwi_spoczynek: 128.0</br></br>wiek: 57.0</br>plec: 1.0</br>typ_bolu_klatka: 3.0</br>cholesterol_we_krwi: 229.0</br>cukier_we_krwi: 0.0</br>wynik_ekg_spoczynek: 2.0</br>ilosc_uderzen_serca: 150.0</br>bol_klatka_wysilek: 0.0</br>max_obnizka_st: 0.4</br>przebieg_st_szczyt: 2.0</br>zwapnienia_miazdzycowe: 1.0</br>proba_ta: 7.0</br>_original_yhat_: 0.42</br>"
          ]
         ],
         "hovertemplate": "%{customdata[0]}<extra></extra>",
         "legendgroup": "",
         "marker": {
          "color": "#371ea3",
          "size": 10,
          "symbol": "circle"
         },
         "mode": "markers",
         "name": "",
         "opacity": 1,
         "orientation": "v",
         "showlegend": false,
         "type": "scatter",
         "x": [
          128
         ],
         "xaxis": "x12",
         "y": [
          0.42
         ],
         "yaxis": "y12"
        },
        {
         "customdata": [
          [
           "</br>id: 30</br>prediction: 0.42</br>cholesterol_we_krwi: 229.0</br></br>wiek: 57.0</br>plec: 1.0</br>typ_bolu_klatka: 3.0</br>cisnienie_krwi_spoczynek: 128.0</br>cukier_we_krwi: 0.0</br>wynik_ekg_spoczynek: 2.0</br>ilosc_uderzen_serca: 150.0</br>bol_klatka_wysilek: 0.0</br>max_obnizka_st: 0.4</br>przebieg_st_szczyt: 2.0</br>zwapnienia_miazdzycowe: 1.0</br>proba_ta: 7.0</br>_original_yhat_: 0.42</br>"
          ]
         ],
         "hovertemplate": "%{customdata[0]}<extra></extra>",
         "legendgroup": "",
         "marker": {
          "color": "#371ea3",
          "size": 10,
          "symbol": "circle"
         },
         "mode": "markers",
         "name": "",
         "opacity": 1,
         "orientation": "v",
         "showlegend": false,
         "type": "scatter",
         "x": [
          229
         ],
         "xaxis": "x9",
         "y": [
          0.42
         ],
         "yaxis": "y9"
        },
        {
         "customdata": [
          [
           "</br>id: 30</br>prediction: 0.42</br>cukier_we_krwi: 0.0</br></br>wiek: 57.0</br>plec: 1.0</br>typ_bolu_klatka: 3.0</br>cisnienie_krwi_spoczynek: 128.0</br>cholesterol_we_krwi: 229.0</br>wynik_ekg_spoczynek: 2.0</br>ilosc_uderzen_serca: 150.0</br>bol_klatka_wysilek: 0.0</br>max_obnizka_st: 0.4</br>przebieg_st_szczyt: 2.0</br>zwapnienia_miazdzycowe: 1.0</br>proba_ta: 7.0</br>_original_yhat_: 0.42</br>"
          ]
         ],
         "hovertemplate": "%{customdata[0]}<extra></extra>",
         "legendgroup": "",
         "marker": {
          "color": "#371ea3",
          "size": 10,
          "symbol": "circle"
         },
         "mode": "markers",
         "name": "",
         "opacity": 1,
         "orientation": "v",
         "showlegend": false,
         "type": "scatter",
         "x": [
          0
         ],
         "xaxis": "x10",
         "y": [
          0.42
         ],
         "yaxis": "y10"
        },
        {
         "customdata": [
          [
           "</br>id: 30</br>prediction: 0.42</br>wynik_ekg_spoczynek: 2.0</br></br>wiek: 57.0</br>plec: 1.0</br>typ_bolu_klatka: 3.0</br>cisnienie_krwi_spoczynek: 128.0</br>cholesterol_we_krwi: 229.0</br>cukier_we_krwi: 0.0</br>ilosc_uderzen_serca: 150.0</br>bol_klatka_wysilek: 0.0</br>max_obnizka_st: 0.4</br>przebieg_st_szczyt: 2.0</br>zwapnienia_miazdzycowe: 1.0</br>proba_ta: 7.0</br>_original_yhat_: 0.42</br>"
          ]
         ],
         "hovertemplate": "%{customdata[0]}<extra></extra>",
         "legendgroup": "",
         "marker": {
          "color": "#371ea3",
          "size": 10,
          "symbol": "circle"
         },
         "mode": "markers",
         "name": "",
         "opacity": 1,
         "orientation": "v",
         "showlegend": false,
         "type": "scatter",
         "x": [
          2
         ],
         "xaxis": "x7",
         "y": [
          0.42
         ],
         "yaxis": "y7"
        },
        {
         "customdata": [
          [
           "</br>id: 30</br>prediction: 0.42</br>ilosc_uderzen_serca: 150.0</br></br>wiek: 57.0</br>plec: 1.0</br>typ_bolu_klatka: 3.0</br>cisnienie_krwi_spoczynek: 128.0</br>cholesterol_we_krwi: 229.0</br>cukier_we_krwi: 0.0</br>wynik_ekg_spoczynek: 2.0</br>bol_klatka_wysilek: 0.0</br>max_obnizka_st: 0.4</br>przebieg_st_szczyt: 2.0</br>zwapnienia_miazdzycowe: 1.0</br>proba_ta: 7.0</br>_original_yhat_: 0.42</br>"
          ]
         ],
         "hovertemplate": "%{customdata[0]}<extra></extra>",
         "legendgroup": "",
         "marker": {
          "color": "#371ea3",
          "size": 10,
          "symbol": "circle"
         },
         "mode": "markers",
         "name": "",
         "opacity": 1,
         "orientation": "v",
         "showlegend": false,
         "type": "scatter",
         "x": [
          150
         ],
         "xaxis": "x8",
         "y": [
          0.42
         ],
         "yaxis": "y8"
        },
        {
         "customdata": [
          [
           "</br>id: 30</br>prediction: 0.42</br>bol_klatka_wysilek: 0.0</br></br>wiek: 57.0</br>plec: 1.0</br>typ_bolu_klatka: 3.0</br>cisnienie_krwi_spoczynek: 128.0</br>cholesterol_we_krwi: 229.0</br>cukier_we_krwi: 0.0</br>wynik_ekg_spoczynek: 2.0</br>ilosc_uderzen_serca: 150.0</br>max_obnizka_st: 0.4</br>przebieg_st_szczyt: 2.0</br>zwapnienia_miazdzycowe: 1.0</br>proba_ta: 7.0</br>_original_yhat_: 0.42</br>"
          ]
         ],
         "hovertemplate": "%{customdata[0]}<extra></extra>",
         "legendgroup": "",
         "marker": {
          "color": "#371ea3",
          "size": 10,
          "symbol": "circle"
         },
         "mode": "markers",
         "name": "",
         "opacity": 1,
         "orientation": "v",
         "showlegend": false,
         "type": "scatter",
         "x": [
          0
         ],
         "xaxis": "x5",
         "y": [
          0.42
         ],
         "yaxis": "y5"
        },
        {
         "customdata": [
          [
           "</br>id: 30</br>prediction: 0.42</br>max_obnizka_st: 0.4</br></br>wiek: 57.0</br>plec: 1.0</br>typ_bolu_klatka: 3.0</br>cisnienie_krwi_spoczynek: 128.0</br>cholesterol_we_krwi: 229.0</br>cukier_we_krwi: 0.0</br>wynik_ekg_spoczynek: 2.0</br>ilosc_uderzen_serca: 150.0</br>bol_klatka_wysilek: 0.0</br>przebieg_st_szczyt: 2.0</br>zwapnienia_miazdzycowe: 1.0</br>proba_ta: 7.0</br>_original_yhat_: 0.42</br>"
          ]
         ],
         "hovertemplate": "%{customdata[0]}<extra></extra>",
         "legendgroup": "",
         "marker": {
          "color": "#371ea3",
          "size": 10,
          "symbol": "circle"
         },
         "mode": "markers",
         "name": "",
         "opacity": 1,
         "orientation": "v",
         "showlegend": false,
         "type": "scatter",
         "x": [
          0.4
         ],
         "xaxis": "x6",
         "y": [
          0.42
         ],
         "yaxis": "y6"
        },
        {
         "customdata": [
          [
           "</br>id: 30</br>prediction: 0.42</br>przebieg_st_szczyt: 2.0</br></br>wiek: 57.0</br>plec: 1.0</br>typ_bolu_klatka: 3.0</br>cisnienie_krwi_spoczynek: 128.0</br>cholesterol_we_krwi: 229.0</br>cukier_we_krwi: 0.0</br>wynik_ekg_spoczynek: 2.0</br>ilosc_uderzen_serca: 150.0</br>bol_klatka_wysilek: 0.0</br>max_obnizka_st: 0.4</br>zwapnienia_miazdzycowe: 1.0</br>proba_ta: 7.0</br>_original_yhat_: 0.42</br>"
          ]
         ],
         "hovertemplate": "%{customdata[0]}<extra></extra>",
         "legendgroup": "",
         "marker": {
          "color": "#371ea3",
          "size": 10,
          "symbol": "circle"
         },
         "mode": "markers",
         "name": "",
         "opacity": 1,
         "orientation": "v",
         "showlegend": false,
         "type": "scatter",
         "x": [
          2
         ],
         "xaxis": "x3",
         "y": [
          0.42
         ],
         "yaxis": "y3"
        },
        {
         "customdata": [
          [
           "</br>id: 30</br>prediction: 0.42</br>zwapnienia_miazdzycowe: 1.0</br></br>wiek: 57.0</br>plec: 1.0</br>typ_bolu_klatka: 3.0</br>cisnienie_krwi_spoczynek: 128.0</br>cholesterol_we_krwi: 229.0</br>cukier_we_krwi: 0.0</br>wynik_ekg_spoczynek: 2.0</br>ilosc_uderzen_serca: 150.0</br>bol_klatka_wysilek: 0.0</br>max_obnizka_st: 0.4</br>przebieg_st_szczyt: 2.0</br>proba_ta: 7.0</br>_original_yhat_: 0.42</br>"
          ]
         ],
         "hovertemplate": "%{customdata[0]}<extra></extra>",
         "legendgroup": "",
         "marker": {
          "color": "#371ea3",
          "size": 10,
          "symbol": "circle"
         },
         "mode": "markers",
         "name": "",
         "opacity": 1,
         "orientation": "v",
         "showlegend": false,
         "type": "scatter",
         "x": [
          1
         ],
         "xaxis": "x4",
         "y": [
          0.42
         ],
         "yaxis": "y4"
        },
        {
         "customdata": [
          [
           "</br>id: 30</br>prediction: 0.42</br>proba_ta: 7.0</br></br>wiek: 57.0</br>plec: 1.0</br>typ_bolu_klatka: 3.0</br>cisnienie_krwi_spoczynek: 128.0</br>cholesterol_we_krwi: 229.0</br>cukier_we_krwi: 0.0</br>wynik_ekg_spoczynek: 2.0</br>ilosc_uderzen_serca: 150.0</br>bol_klatka_wysilek: 0.0</br>max_obnizka_st: 0.4</br>przebieg_st_szczyt: 2.0</br>zwapnienia_miazdzycowe: 1.0</br>_original_yhat_: 0.42</br>"
          ]
         ],
         "hovertemplate": "%{customdata[0]}<extra></extra>",
         "legendgroup": "",
         "marker": {
          "color": "#371ea3",
          "size": 10,
          "symbol": "circle"
         },
         "mode": "markers",
         "name": "",
         "opacity": 1,
         "orientation": "v",
         "showlegend": false,
         "type": "scatter",
         "x": [
          7
         ],
         "xaxis": "x",
         "y": [
          0.42
         ],
         "yaxis": "y"
        }
       ],
       "layout": {
        "annotations": [
         {
          "font": {
           "size": 13
          },
          "showarrow": false,
          "text": "proba_ta",
          "x": 0.2375,
          "xanchor": "center",
          "xref": "paper",
          "y": 0.10612244897959183,
          "yanchor": "bottom",
          "yref": "paper"
         },
         {
          "font": {
           "size": 13
          },
          "showarrow": false,
          "text": "przebieg_st_szczyt",
          "x": 0.2375,
          "xanchor": "center",
          "xref": "paper",
          "y": 0.25510204081632654,
          "yanchor": "bottom",
          "yref": "paper"
         },
         {
          "font": {
           "size": 13
          },
          "showarrow": false,
          "text": "zwapnienia_miazdzycowe",
          "x": 0.7625,
          "xanchor": "center",
          "xref": "paper",
          "y": 0.25510204081632654,
          "yanchor": "bottom",
          "yref": "paper"
         },
         {
          "font": {
           "size": 13
          },
          "showarrow": false,
          "text": "bol_klatka_wysilek",
          "x": 0.2375,
          "xanchor": "center",
          "xref": "paper",
          "y": 0.40408163265306124,
          "yanchor": "bottom",
          "yref": "paper"
         },
         {
          "font": {
           "size": 13
          },
          "showarrow": false,
          "text": "max_obnizka_st",
          "x": 0.7625,
          "xanchor": "center",
          "xref": "paper",
          "y": 0.40408163265306124,
          "yanchor": "bottom",
          "yref": "paper"
         },
         {
          "font": {
           "size": 13
          },
          "showarrow": false,
          "text": "wynik_ekg_spoczynek",
          "x": 0.2375,
          "xanchor": "center",
          "xref": "paper",
          "y": 0.5530612244897959,
          "yanchor": "bottom",
          "yref": "paper"
         },
         {
          "font": {
           "size": 13
          },
          "showarrow": false,
          "text": "ilosc_uderzen_serca",
          "x": 0.7625,
          "xanchor": "center",
          "xref": "paper",
          "y": 0.5530612244897959,
          "yanchor": "bottom",
          "yref": "paper"
         },
         {
          "font": {
           "size": 13
          },
          "showarrow": false,
          "text": "cholesterol_we_krwi",
          "x": 0.2375,
          "xanchor": "center",
          "xref": "paper",
          "y": 0.7020408163265306,
          "yanchor": "bottom",
          "yref": "paper"
         },
         {
          "font": {
           "size": 13
          },
          "showarrow": false,
          "text": "cukier_we_krwi",
          "x": 0.7625,
          "xanchor": "center",
          "xref": "paper",
          "y": 0.7020408163265306,
          "yanchor": "bottom",
          "yref": "paper"
         },
         {
          "font": {
           "size": 13
          },
          "showarrow": false,
          "text": "typ_bolu_klatka",
          "x": 0.2375,
          "xanchor": "center",
          "xref": "paper",
          "y": 0.8510204081632653,
          "yanchor": "bottom",
          "yref": "paper"
         },
         {
          "font": {
           "size": 13
          },
          "showarrow": false,
          "text": "cisnienie_krwi_spoczynek",
          "x": 0.7625,
          "xanchor": "center",
          "xref": "paper",
          "y": 0.8510204081632653,
          "yanchor": "bottom",
          "yref": "paper"
         },
         {
          "font": {
           "size": 13
          },
          "showarrow": false,
          "text": "wiek",
          "x": 0.2375,
          "xanchor": "center",
          "xref": "paper",
          "y": 0.9999999999999998,
          "yanchor": "bottom",
          "yref": "paper"
         },
         {
          "font": {
           "size": 13
          },
          "showarrow": false,
          "text": "plec",
          "x": 0.7625,
          "xanchor": "center",
          "xref": "paper",
          "y": 0.9999999999999998,
          "yanchor": "bottom",
          "yref": "paper"
         },
         {
          "font": {
           "size": 13
          },
          "showarrow": false,
          "text": "prediction",
          "textangle": -90,
          "x": -0.07,
          "xref": "paper",
          "y": 0.5,
          "yref": "paper"
         }
        ],
        "font": {
         "color": "#371ea3"
        },
        "height": 2529,
        "hoverlabel": {
         "bgcolor": "rgba(0,0,0,0.8)"
        },
        "hovermode": "closest",
        "legend": {
         "font": {
          "size": 11
         },
         "itemsizing": "constant",
         "orientation": "h",
         "title": {
          "font": {
           "size": 12
          },
          "text": "label"
         },
         "tracegroupgap": 0,
         "x": 1,
         "xanchor": "right",
         "y": 1.0118623962040332,
         "yanchor": "bottom"
        },
        "margin": {
         "b": 71,
         "r": 30,
         "t": 78
        },
        "template": {
         "data": {
          "scatter": [
           {
            "type": "scatter"
           }
          ]
         }
        },
        "title": {
         "font": {
          "size": 16
         },
         "text": "Ceteris Paribus Profiles",
         "x": 0.15
        },
        "xaxis": {
         "anchor": "y",
         "automargin": true,
         "domain": [
          0,
          0.475
         ],
         "fixedrange": true,
         "gridwidth": 2,
         "showticklabels": true,
         "tickcolor": "white",
         "ticklen": 3,
         "ticks": "outside",
         "title": {
          "text": ""
         },
         "type": "linear",
         "zeroline": false
        },
        "xaxis10": {
         "anchor": "y10",
         "automargin": true,
         "domain": [
          0.525,
          1
         ],
         "fixedrange": true,
         "gridwidth": 2,
         "showticklabels": true,
         "tickcolor": "white",
         "ticklen": 3,
         "ticks": "outside",
         "title": {
          "text": ""
         },
         "type": "linear",
         "zeroline": false
        },
        "xaxis11": {
         "anchor": "y11",
         "automargin": true,
         "domain": [
          0,
          0.475
         ],
         "fixedrange": true,
         "gridwidth": 2,
         "showticklabels": true,
         "tickcolor": "white",
         "ticklen": 3,
         "ticks": "outside",
         "title": {
          "text": ""
         },
         "type": "linear",
         "zeroline": false
        },
        "xaxis12": {
         "anchor": "y12",
         "automargin": true,
         "domain": [
          0.525,
          1
         ],
         "fixedrange": true,
         "gridwidth": 2,
         "showticklabels": true,
         "tickcolor": "white",
         "ticklen": 3,
         "ticks": "outside",
         "title": {
          "text": ""
         },
         "type": "linear",
         "zeroline": false
        },
        "xaxis13": {
         "anchor": "y13",
         "automargin": true,
         "domain": [
          0,
          0.475
         ],
         "fixedrange": true,
         "gridwidth": 2,
         "showticklabels": true,
         "tickcolor": "white",
         "ticklen": 3,
         "ticks": "outside",
         "title": {
          "text": ""
         },
         "type": "linear",
         "zeroline": false
        },
        "xaxis14": {
         "anchor": "y14",
         "automargin": true,
         "domain": [
          0.525,
          1
         ],
         "fixedrange": true,
         "gridwidth": 2,
         "showticklabels": true,
         "tickcolor": "white",
         "ticklen": 3,
         "ticks": "outside",
         "title": {
          "text": ""
         },
         "type": "linear",
         "zeroline": false
        },
        "xaxis2": {
         "anchor": "y2",
         "automargin": true,
         "domain": [
          0.525,
          1
         ],
         "fixedrange": true,
         "gridwidth": 2,
         "showticklabels": true,
         "tickcolor": "white",
         "ticklen": 3,
         "ticks": "outside",
         "title": {
          "text": ""
         },
         "type": "linear",
         "zeroline": false
        },
        "xaxis3": {
         "anchor": "y3",
         "automargin": true,
         "domain": [
          0,
          0.475
         ],
         "fixedrange": true,
         "gridwidth": 2,
         "showticklabels": true,
         "tickcolor": "white",
         "ticklen": 3,
         "ticks": "outside",
         "title": {
          "text": ""
         },
         "type": "linear",
         "zeroline": false
        },
        "xaxis4": {
         "anchor": "y4",
         "automargin": true,
         "domain": [
          0.525,
          1
         ],
         "fixedrange": true,
         "gridwidth": 2,
         "showticklabels": true,
         "tickcolor": "white",
         "ticklen": 3,
         "ticks": "outside",
         "title": {
          "text": ""
         },
         "type": "linear",
         "zeroline": false
        },
        "xaxis5": {
         "anchor": "y5",
         "automargin": true,
         "domain": [
          0,
          0.475
         ],
         "fixedrange": true,
         "gridwidth": 2,
         "showticklabels": true,
         "tickcolor": "white",
         "ticklen": 3,
         "ticks": "outside",
         "title": {
          "text": ""
         },
         "type": "linear",
         "zeroline": false
        },
        "xaxis6": {
         "anchor": "y6",
         "automargin": true,
         "domain": [
          0.525,
          1
         ],
         "fixedrange": true,
         "gridwidth": 2,
         "showticklabels": true,
         "tickcolor": "white",
         "ticklen": 3,
         "ticks": "outside",
         "title": {
          "text": ""
         },
         "type": "linear",
         "zeroline": false
        },
        "xaxis7": {
         "anchor": "y7",
         "automargin": true,
         "domain": [
          0,
          0.475
         ],
         "fixedrange": true,
         "gridwidth": 2,
         "showticklabels": true,
         "tickcolor": "white",
         "ticklen": 3,
         "ticks": "outside",
         "title": {
          "text": ""
         },
         "type": "linear",
         "zeroline": false
        },
        "xaxis8": {
         "anchor": "y8",
         "automargin": true,
         "domain": [
          0.525,
          1
         ],
         "fixedrange": true,
         "gridwidth": 2,
         "showticklabels": true,
         "tickcolor": "white",
         "ticklen": 3,
         "ticks": "outside",
         "title": {
          "text": ""
         },
         "type": "linear",
         "zeroline": false
        },
        "xaxis9": {
         "anchor": "y9",
         "automargin": true,
         "domain": [
          0,
          0.475
         ],
         "fixedrange": true,
         "gridwidth": 2,
         "showticklabels": true,
         "tickcolor": "white",
         "ticklen": 3,
         "ticks": "outside",
         "title": {
          "text": ""
         },
         "type": "linear",
         "zeroline": false
        },
        "yaxis": {
         "anchor": "x",
         "automargin": true,
         "domain": [
          0,
          0.10612244897959183
         ],
         "fixedrange": true,
         "gridwidth": 2,
         "range": [
          0.14400000000000002,
          0.8160000000000001
         ],
         "tickcolor": "white",
         "ticklen": 3,
         "ticks": "outside",
         "title": {
          "text": ""
         },
         "type": "linear",
         "zeroline": false
        },
        "yaxis10": {
         "anchor": "x10",
         "automargin": true,
         "domain": [
          0.5959183673469388,
          0.7020408163265306
         ],
         "fixedrange": true,
         "gridwidth": 2,
         "matches": "y",
         "range": [
          0.14400000000000002,
          0.8160000000000001
         ],
         "showticklabels": false,
         "tickcolor": "white",
         "ticklen": 3,
         "ticks": "outside",
         "title": {
          "text": ""
         },
         "type": "linear",
         "zeroline": false
        },
        "yaxis11": {
         "anchor": "x11",
         "automargin": true,
         "domain": [
          0.7448979591836734,
          0.8510204081632653
         ],
         "fixedrange": true,
         "gridwidth": 2,
         "matches": "y",
         "range": [
          0.14400000000000002,
          0.8160000000000001
         ],
         "tickcolor": "white",
         "ticklen": 3,
         "ticks": "outside",
         "title": {
          "text": ""
         },
         "type": "linear",
         "zeroline": false
        },
        "yaxis12": {
         "anchor": "x12",
         "automargin": true,
         "domain": [
          0.7448979591836734,
          0.8510204081632653
         ],
         "fixedrange": true,
         "gridwidth": 2,
         "matches": "y",
         "range": [
          0.14400000000000002,
          0.8160000000000001
         ],
         "showticklabels": false,
         "tickcolor": "white",
         "ticklen": 3,
         "ticks": "outside",
         "title": {
          "text": ""
         },
         "type": "linear",
         "zeroline": false
        },
        "yaxis13": {
         "anchor": "x13",
         "automargin": true,
         "domain": [
          0.893877551020408,
          0.9999999999999998
         ],
         "fixedrange": true,
         "gridwidth": 2,
         "matches": "y",
         "range": [
          0.14400000000000002,
          0.8160000000000001
         ],
         "tickcolor": "white",
         "ticklen": 3,
         "ticks": "outside",
         "title": {
          "text": ""
         },
         "type": "linear",
         "zeroline": false
        },
        "yaxis14": {
         "anchor": "x14",
         "automargin": true,
         "domain": [
          0.893877551020408,
          0.9999999999999998
         ],
         "fixedrange": true,
         "gridwidth": 2,
         "matches": "y",
         "range": [
          0.14400000000000002,
          0.8160000000000001
         ],
         "showticklabels": false,
         "tickcolor": "white",
         "ticklen": 3,
         "ticks": "outside",
         "title": {
          "text": ""
         },
         "type": "linear",
         "zeroline": false
        },
        "yaxis2": {
         "anchor": "x2",
         "automargin": true,
         "domain": [
          0,
          0.10612244897959183
         ],
         "fixedrange": true,
         "gridwidth": 2,
         "matches": "y",
         "range": [
          0.14400000000000002,
          0.8160000000000001
         ],
         "showticklabels": false,
         "tickcolor": "white",
         "ticklen": 3,
         "ticks": "outside",
         "title": {
          "text": ""
         },
         "type": "linear",
         "zeroline": false
        },
        "yaxis3": {
         "anchor": "x3",
         "automargin": true,
         "domain": [
          0.1489795918367347,
          0.25510204081632654
         ],
         "fixedrange": true,
         "gridwidth": 2,
         "matches": "y",
         "range": [
          0.14400000000000002,
          0.8160000000000001
         ],
         "tickcolor": "white",
         "ticklen": 3,
         "ticks": "outside",
         "title": {
          "text": ""
         },
         "type": "linear",
         "zeroline": false
        },
        "yaxis4": {
         "anchor": "x4",
         "automargin": true,
         "domain": [
          0.1489795918367347,
          0.25510204081632654
         ],
         "fixedrange": true,
         "gridwidth": 2,
         "matches": "y",
         "range": [
          0.14400000000000002,
          0.8160000000000001
         ],
         "showticklabels": false,
         "tickcolor": "white",
         "ticklen": 3,
         "ticks": "outside",
         "title": {
          "text": ""
         },
         "type": "linear",
         "zeroline": false
        },
        "yaxis5": {
         "anchor": "x5",
         "automargin": true,
         "domain": [
          0.2979591836734694,
          0.40408163265306124
         ],
         "fixedrange": true,
         "gridwidth": 2,
         "matches": "y",
         "range": [
          0.14400000000000002,
          0.8160000000000001
         ],
         "tickcolor": "white",
         "ticklen": 3,
         "ticks": "outside",
         "title": {
          "text": ""
         },
         "type": "linear",
         "zeroline": false
        },
        "yaxis6": {
         "anchor": "x6",
         "automargin": true,
         "domain": [
          0.2979591836734694,
          0.40408163265306124
         ],
         "fixedrange": true,
         "gridwidth": 2,
         "matches": "y",
         "range": [
          0.14400000000000002,
          0.8160000000000001
         ],
         "showticklabels": false,
         "tickcolor": "white",
         "ticklen": 3,
         "ticks": "outside",
         "title": {
          "text": ""
         },
         "type": "linear",
         "zeroline": false
        },
        "yaxis7": {
         "anchor": "x7",
         "automargin": true,
         "domain": [
          0.44693877551020406,
          0.5530612244897959
         ],
         "fixedrange": true,
         "gridwidth": 2,
         "matches": "y",
         "range": [
          0.14400000000000002,
          0.8160000000000001
         ],
         "tickcolor": "white",
         "ticklen": 3,
         "ticks": "outside",
         "title": {
          "text": ""
         },
         "type": "linear",
         "zeroline": false
        },
        "yaxis8": {
         "anchor": "x8",
         "automargin": true,
         "domain": [
          0.44693877551020406,
          0.5530612244897959
         ],
         "fixedrange": true,
         "gridwidth": 2,
         "matches": "y",
         "range": [
          0.14400000000000002,
          0.8160000000000001
         ],
         "showticklabels": false,
         "tickcolor": "white",
         "ticklen": 3,
         "ticks": "outside",
         "title": {
          "text": ""
         },
         "type": "linear",
         "zeroline": false
        },
        "yaxis9": {
         "anchor": "x9",
         "automargin": true,
         "domain": [
          0.5959183673469388,
          0.7020408163265306
         ],
         "fixedrange": true,
         "gridwidth": 2,
         "matches": "y",
         "range": [
          0.14400000000000002,
          0.8160000000000001
         ],
         "tickcolor": "white",
         "ticklen": 3,
         "ticks": "outside",
         "title": {
          "text": ""
         },
         "type": "linear",
         "zeroline": false
        }
       }
      }
     },
     "metadata": {},
     "output_type": "display_data"
    },
    {
     "name": "stdout",
     "output_type": "stream",
     "text": [
      "Accumulated Local Effects\n"
     ]
    },
    {
     "name": "stderr",
     "output_type": "stream",
     "text": [
      "Calculating ceteris paribus: 100%|██████████| 1/1 [00:00<00:00, 12.26it/s]\n",
      "Calculating accumulated dependency: 100%|██████████| 1/1 [00:00<00:00,  9.42it/s]\n"
     ]
    },
    {
     "data": {
      "application/vnd.plotly.v1+json": {
       "config": {
        "displaylogo": false,
        "modeBarButtonsToRemove": [
         "sendDataToCloud",
         "lasso2d",
         "autoScale2d",
         "select2d",
         "zoom2d",
         "pan2d",
         "zoomIn2d",
         "zoomOut2d",
         "resetScale2d",
         "toggleSpikelines",
         "hoverCompareCartesian",
         "hoverClosestCartesian"
        ],
        "plotlyServerURL": "https://plot.ly",
        "staticPlot": false,
        "toImageButtonOptions": {
         "height": null,
         "width": null
        }
       },
       "data": [
        {
         "customdata": [
          [
           0.3746913580246914,
           "Model RandomForest dla danych serca",
           "wiek"
          ],
          [
           0.3746913580246914,
           "Model RandomForest dla danych serca",
           "wiek"
          ],
          [
           0.3746913580246914,
           "Model RandomForest dla danych serca",
           "wiek"
          ],
          [
           0.3746913580246914,
           "Model RandomForest dla danych serca",
           "wiek"
          ],
          [
           0.3746913580246914,
           "Model RandomForest dla danych serca",
           "wiek"
          ],
          [
           0.3746913580246914,
           "Model RandomForest dla danych serca",
           "wiek"
          ],
          [
           0.3746913580246914,
           "Model RandomForest dla danych serca",
           "wiek"
          ],
          [
           0.3746913580246914,
           "Model RandomForest dla danych serca",
           "wiek"
          ],
          [
           0.3746913580246914,
           "Model RandomForest dla danych serca",
           "wiek"
          ],
          [
           0.3746913580246914,
           "Model RandomForest dla danych serca",
           "wiek"
          ],
          [
           0.3746913580246914,
           "Model RandomForest dla danych serca",
           "wiek"
          ],
          [
           0.3746913580246914,
           "Model RandomForest dla danych serca",
           "wiek"
          ],
          [
           0.3746913580246914,
           "Model RandomForest dla danych serca",
           "wiek"
          ],
          [
           0.3746913580246914,
           "Model RandomForest dla danych serca",
           "wiek"
          ],
          [
           0.3746913580246914,
           "Model RandomForest dla danych serca",
           "wiek"
          ],
          [
           0.3746913580246914,
           "Model RandomForest dla danych serca",
           "wiek"
          ],
          [
           0.3746913580246914,
           "Model RandomForest dla danych serca",
           "wiek"
          ],
          [
           0.3746913580246914,
           "Model RandomForest dla danych serca",
           "wiek"
          ],
          [
           0.3746913580246914,
           "Model RandomForest dla danych serca",
           "wiek"
          ],
          [
           0.3746913580246914,
           "Model RandomForest dla danych serca",
           "wiek"
          ],
          [
           0.3746913580246914,
           "Model RandomForest dla danych serca",
           "wiek"
          ],
          [
           0.3746913580246914,
           "Model RandomForest dla danych serca",
           "wiek"
          ],
          [
           0.3746913580246914,
           "Model RandomForest dla danych serca",
           "wiek"
          ],
          [
           0.3746913580246914,
           "Model RandomForest dla danych serca",
           "wiek"
          ],
          [
           0.3746913580246914,
           "Model RandomForest dla danych serca",
           "wiek"
          ],
          [
           0.3746913580246914,
           "Model RandomForest dla danych serca",
           "wiek"
          ],
          [
           0.3746913580246914,
           "Model RandomForest dla danych serca",
           "wiek"
          ],
          [
           0.3746913580246914,
           "Model RandomForest dla danych serca",
           "wiek"
          ],
          [
           0.3746913580246914,
           "Model RandomForest dla danych serca",
           "wiek"
          ],
          [
           0.3746913580246914,
           "Model RandomForest dla danych serca",
           "wiek"
          ],
          [
           0.3746913580246914,
           "Model RandomForest dla danych serca",
           "wiek"
          ],
          [
           0.3746913580246914,
           "Model RandomForest dla danych serca",
           "wiek"
          ],
          [
           0.3746913580246914,
           "Model RandomForest dla danych serca",
           "wiek"
          ],
          [
           0.3746913580246914,
           "Model RandomForest dla danych serca",
           "wiek"
          ],
          [
           0.3746913580246914,
           "Model RandomForest dla danych serca",
           "wiek"
          ],
          [
           0.3746913580246914,
           "Model RandomForest dla danych serca",
           "wiek"
          ],
          [
           0.3746913580246914,
           "Model RandomForest dla danych serca",
           "wiek"
          ],
          [
           0.3746913580246914,
           "Model RandomForest dla danych serca",
           "wiek"
          ],
          [
           0.3746913580246914,
           "Model RandomForest dla danych serca",
           "wiek"
          ],
          [
           0.3746913580246914,
           "Model RandomForest dla danych serca",
           "wiek"
          ],
          [
           0.3746913580246914,
           "Model RandomForest dla danych serca",
           "wiek"
          ],
          [
           0.3746913580246914,
           "Model RandomForest dla danych serca",
           "wiek"
          ],
          [
           0.3746913580246914,
           "Model RandomForest dla danych serca",
           "wiek"
          ],
          [
           0.3746913580246914,
           "Model RandomForest dla danych serca",
           "wiek"
          ],
          [
           0.3746913580246914,
           "Model RandomForest dla danych serca",
           "wiek"
          ],
          [
           0.3746913580246914,
           "Model RandomForest dla danych serca",
           "wiek"
          ],
          [
           0.3746913580246914,
           "Model RandomForest dla danych serca",
           "wiek"
          ],
          [
           0.3746913580246914,
           "Model RandomForest dla danych serca",
           "wiek"
          ],
          [
           0.3746913580246914,
           "Model RandomForest dla danych serca",
           "wiek"
          ],
          [
           0.3746913580246914,
           "Model RandomForest dla danych serca",
           "wiek"
          ],
          [
           0.3746913580246914,
           "Model RandomForest dla danych serca",
           "wiek"
          ],
          [
           0.3746913580246914,
           "Model RandomForest dla danych serca",
           "wiek"
          ],
          [
           0.3746913580246914,
           "Model RandomForest dla danych serca",
           "wiek"
          ],
          [
           0.3746913580246914,
           "Model RandomForest dla danych serca",
           "wiek"
          ],
          [
           0.3746913580246914,
           "Model RandomForest dla danych serca",
           "wiek"
          ],
          [
           0.3746913580246914,
           "Model RandomForest dla danych serca",
           "wiek"
          ],
          [
           0.3746913580246914,
           "Model RandomForest dla danych serca",
           "wiek"
          ],
          [
           0.3746913580246914,
           "Model RandomForest dla danych serca",
           "wiek"
          ],
          [
           0.3746913580246914,
           "Model RandomForest dla danych serca",
           "wiek"
          ],
          [
           0.3746913580246914,
           "Model RandomForest dla danych serca",
           "wiek"
          ],
          [
           0.3746913580246914,
           "Model RandomForest dla danych serca",
           "wiek"
          ],
          [
           0.3746913580246914,
           "Model RandomForest dla danych serca",
           "wiek"
          ],
          [
           0.3746913580246914,
           "Model RandomForest dla danych serca",
           "wiek"
          ],
          [
           0.3746913580246914,
           "Model RandomForest dla danych serca",
           "wiek"
          ],
          [
           0.3746913580246914,
           "Model RandomForest dla danych serca",
           "wiek"
          ],
          [
           0.3746913580246914,
           "Model RandomForest dla danych serca",
           "wiek"
          ],
          [
           0.3746913580246914,
           "Model RandomForest dla danych serca",
           "wiek"
          ],
          [
           0.3746913580246914,
           "Model RandomForest dla danych serca",
           "wiek"
          ],
          [
           0.3746913580246914,
           "Model RandomForest dla danych serca",
           "wiek"
          ],
          [
           0.3746913580246914,
           "Model RandomForest dla danych serca",
           "wiek"
          ],
          [
           0.3746913580246914,
           "Model RandomForest dla danych serca",
           "wiek"
          ],
          [
           0.3746913580246914,
           "Model RandomForest dla danych serca",
           "wiek"
          ],
          [
           0.3746913580246914,
           "Model RandomForest dla danych serca",
           "wiek"
          ],
          [
           0.3746913580246914,
           "Model RandomForest dla danych serca",
           "wiek"
          ],
          [
           0.3746913580246914,
           "Model RandomForest dla danych serca",
           "wiek"
          ],
          [
           0.3746913580246914,
           "Model RandomForest dla danych serca",
           "wiek"
          ],
          [
           0.3746913580246914,
           "Model RandomForest dla danych serca",
           "wiek"
          ],
          [
           0.3746913580246914,
           "Model RandomForest dla danych serca",
           "wiek"
          ],
          [
           0.3746913580246914,
           "Model RandomForest dla danych serca",
           "wiek"
          ],
          [
           0.3746913580246914,
           "Model RandomForest dla danych serca",
           "wiek"
          ],
          [
           0.3746913580246914,
           "Model RandomForest dla danych serca",
           "wiek"
          ],
          [
           0.3746913580246914,
           "Model RandomForest dla danych serca",
           "wiek"
          ],
          [
           0.3746913580246914,
           "Model RandomForest dla danych serca",
           "wiek"
          ],
          [
           0.3746913580246914,
           "Model RandomForest dla danych serca",
           "wiek"
          ],
          [
           0.3746913580246914,
           "Model RandomForest dla danych serca",
           "wiek"
          ],
          [
           0.3746913580246914,
           "Model RandomForest dla danych serca",
           "wiek"
          ],
          [
           0.3746913580246914,
           "Model RandomForest dla danych serca",
           "wiek"
          ],
          [
           0.3746913580246914,
           "Model RandomForest dla danych serca",
           "wiek"
          ],
          [
           0.3746913580246914,
           "Model RandomForest dla danych serca",
           "wiek"
          ],
          [
           0.3746913580246914,
           "Model RandomForest dla danych serca",
           "wiek"
          ],
          [
           0.3746913580246914,
           "Model RandomForest dla danych serca",
           "wiek"
          ],
          [
           0.3746913580246914,
           "Model RandomForest dla danych serca",
           "wiek"
          ],
          [
           0.3746913580246914,
           "Model RandomForest dla danych serca",
           "wiek"
          ],
          [
           0.3746913580246914,
           "Model RandomForest dla danych serca",
           "wiek"
          ],
          [
           0.3746913580246914,
           "Model RandomForest dla danych serca",
           "wiek"
          ],
          [
           0.3746913580246914,
           "Model RandomForest dla danych serca",
           "wiek"
          ],
          [
           0.3746913580246914,
           "Model RandomForest dla danych serca",
           "wiek"
          ],
          [
           0.3746913580246914,
           "Model RandomForest dla danych serca",
           "wiek"
          ],
          [
           0.3746913580246914,
           "Model RandomForest dla danych serca",
           "wiek"
          ],
          [
           0.3746913580246914,
           "Model RandomForest dla danych serca",
           "wiek"
          ],
          [
           0.3746913580246914,
           "Model RandomForest dla danych serca",
           "wiek"
          ]
         ],
         "hovertemplate": "<b>%{hovertext}</b><br><br>prediction=%{y:.3f}<br>mean_prediction=%{customdata[0]:.3f}<extra></extra>",
         "hovertext": [
          "Model RandomForest dla danych serca",
          "Model RandomForest dla danych serca",
          "Model RandomForest dla danych serca",
          "Model RandomForest dla danych serca",
          "Model RandomForest dla danych serca",
          "Model RandomForest dla danych serca",
          "Model RandomForest dla danych serca",
          "Model RandomForest dla danych serca",
          "Model RandomForest dla danych serca",
          "Model RandomForest dla danych serca",
          "Model RandomForest dla danych serca",
          "Model RandomForest dla danych serca",
          "Model RandomForest dla danych serca",
          "Model RandomForest dla danych serca",
          "Model RandomForest dla danych serca",
          "Model RandomForest dla danych serca",
          "Model RandomForest dla danych serca",
          "Model RandomForest dla danych serca",
          "Model RandomForest dla danych serca",
          "Model RandomForest dla danych serca",
          "Model RandomForest dla danych serca",
          "Model RandomForest dla danych serca",
          "Model RandomForest dla danych serca",
          "Model RandomForest dla danych serca",
          "Model RandomForest dla danych serca",
          "Model RandomForest dla danych serca",
          "Model RandomForest dla danych serca",
          "Model RandomForest dla danych serca",
          "Model RandomForest dla danych serca",
          "Model RandomForest dla danych serca",
          "Model RandomForest dla danych serca",
          "Model RandomForest dla danych serca",
          "Model RandomForest dla danych serca",
          "Model RandomForest dla danych serca",
          "Model RandomForest dla danych serca",
          "Model RandomForest dla danych serca",
          "Model RandomForest dla danych serca",
          "Model RandomForest dla danych serca",
          "Model RandomForest dla danych serca",
          "Model RandomForest dla danych serca",
          "Model RandomForest dla danych serca",
          "Model RandomForest dla danych serca",
          "Model RandomForest dla danych serca",
          "Model RandomForest dla danych serca",
          "Model RandomForest dla danych serca",
          "Model RandomForest dla danych serca",
          "Model RandomForest dla danych serca",
          "Model RandomForest dla danych serca",
          "Model RandomForest dla danych serca",
          "Model RandomForest dla danych serca",
          "Model RandomForest dla danych serca",
          "Model RandomForest dla danych serca",
          "Model RandomForest dla danych serca",
          "Model RandomForest dla danych serca",
          "Model RandomForest dla danych serca",
          "Model RandomForest dla danych serca",
          "Model RandomForest dla danych serca",
          "Model RandomForest dla danych serca",
          "Model RandomForest dla danych serca",
          "Model RandomForest dla danych serca",
          "Model RandomForest dla danych serca",
          "Model RandomForest dla danych serca",
          "Model RandomForest dla danych serca",
          "Model RandomForest dla danych serca",
          "Model RandomForest dla danych serca",
          "Model RandomForest dla danych serca",
          "Model RandomForest dla danych serca",
          "Model RandomForest dla danych serca",
          "Model RandomForest dla danych serca",
          "Model RandomForest dla danych serca",
          "Model RandomForest dla danych serca",
          "Model RandomForest dla danych serca",
          "Model RandomForest dla danych serca",
          "Model RandomForest dla danych serca",
          "Model RandomForest dla danych serca",
          "Model RandomForest dla danych serca",
          "Model RandomForest dla danych serca",
          "Model RandomForest dla danych serca",
          "Model RandomForest dla danych serca",
          "Model RandomForest dla danych serca",
          "Model RandomForest dla danych serca",
          "Model RandomForest dla danych serca",
          "Model RandomForest dla danych serca",
          "Model RandomForest dla danych serca",
          "Model RandomForest dla danych serca",
          "Model RandomForest dla danych serca",
          "Model RandomForest dla danych serca",
          "Model RandomForest dla danych serca",
          "Model RandomForest dla danych serca",
          "Model RandomForest dla danych serca",
          "Model RandomForest dla danych serca",
          "Model RandomForest dla danych serca",
          "Model RandomForest dla danych serca",
          "Model RandomForest dla danych serca",
          "Model RandomForest dla danych serca",
          "Model RandomForest dla danych serca",
          "Model RandomForest dla danych serca",
          "Model RandomForest dla danych serca",
          "Model RandomForest dla danych serca",
          "Model RandomForest dla danych serca",
          "Model RandomForest dla danych serca"
         ],
         "legendgroup": "Model RandomForest dla danych serca",
         "line": {
          "color": "#46bac2",
          "dash": "solid",
          "width": 2
         },
         "marker": {
          "symbol": "circle"
         },
         "mode": "lines",
         "name": "Model RandomForest dla danych serca",
         "opacity": 1,
         "orientation": "v",
         "showlegend": true,
         "type": "scatter",
         "x": [
          35,
          35.42,
          35.84,
          36.26,
          36.68,
          37.1,
          37.52,
          37.94,
          38.36,
          38.78,
          39.2,
          39.62,
          40.04,
          40.46,
          40.88,
          41.3,
          41.72,
          42.14,
          42.56,
          42.98,
          43.4,
          43.82,
          44.24,
          44.66,
          45.08,
          45.5,
          45.92,
          46.34,
          46.76,
          47.18,
          47.6,
          48.019999999999996,
          48.44,
          48.86,
          49.28,
          49.7,
          50.12,
          50.54,
          50.96,
          51.379999999999995,
          51.8,
          52.22,
          52.64,
          53.06,
          53.480000000000004,
          53.9,
          54.32,
          54.739999999999995,
          55.16,
          55.58,
          56,
          56.42,
          56.84,
          57.26,
          57.68,
          58.099999999999994,
          58.519999999999996,
          58.94,
          59.36,
          59.78,
          60.2,
          60.62,
          61.04,
          61.459999999999994,
          61.879999999999995,
          62.3,
          62.72,
          63.14,
          63.56,
          63.980000000000004,
          64.4,
          64.82,
          65.24,
          65.66,
          66.08,
          66.5,
          66.92,
          67.34,
          67.75999999999999,
          68.18,
          68.6,
          69.02,
          69.44,
          69.86,
          70.28,
          70.69999999999999,
          71.12,
          71.53999999999999,
          71.96000000000001,
          72.38,
          72.8,
          73.22,
          73.64,
          74.06,
          74.47999999999999,
          74.9,
          75.32,
          75.74000000000001,
          76.16,
          76.58,
          77
         ],
         "xaxis": "x",
         "y": [
          0.38732188270508255,
          0.38732188270508255,
          0.38732188270508255,
          0.386661347629479,
          0.386661347629479,
          0.386661347629479,
          0.386661347629479,
          0.386661347629479,
          0.38169732822947805,
          0.38169732822947805,
          0.3814274300479202,
          0.3825630538653876,
          0.38016957192471584,
          0.38016957192471584,
          0.3674585034456564,
          0.36161986053317774,
          0.354931758799316,
          0.3530596965892127,
          0.35482529708347377,
          0.35482529708347377,
          0.35473943471177816,
          0.35451609620145075,
          0.35557161539279175,
          0.3555647128778973,
          0.3545263808302602,
          0.3545263808302602,
          0.36098789743973925,
          0.3610938679804518,
          0.3653416522745826,
          0.36360737510955915,
          0.3585160910174908,
          0.35526184112353154,
          0.35526184112353154,
          0.3517348565660083,
          0.3493115336076283,
          0.34436765728057084,
          0.34051390341379556,
          0.3398555085262143,
          0.3398555085262143,
          0.33909396964912913,
          0.3368727926735923,
          0.33638549663875134,
          0.3370956999799977,
          0.3381441052201674,
          0.3381441052201674,
          0.33560040606775915,
          0.33724447236717503,
          0.3465551437909779,
          0.3495692181053147,
          0.3571951975422677,
          0.3571951975422677,
          0.3630009704127013,
          0.36686148132065144,
          0.3684256526260893,
          0.3744321537363201,
          0.37858081047713915,
          0.3833810269007023,
          0.3833810269007023,
          0.3808154171789294,
          0.3880481673704127,
          0.39109923403229074,
          0.3996767529369588,
          0.3979842445624621,
          0.3979842445624621,
          0.3940349325623404,
          0.396958719219641,
          0.3927924143260848,
          0.3872093796125103,
          0.3927854459899982,
          0.3927854459899982,
          0.39156731848684484,
          0.3917462592776518,
          0.39498062395884354,
          0.3958602228294128,
          0.3954435248572648,
          0.3954435248572648,
          0.39650457752969565,
          0.3991796097193602,
          0.39859610536384243,
          0.3994532603556597,
          0.3994532603556597,
          0.3994532603556597,
          0.3994532603556597,
          0.39750778628014705,
          0.3963349622820835,
          0.3880403149537758,
          0.3880403149537758,
          0.3880403149537758,
          0.3880403149537758,
          0.3880403149537758,
          0.3880403149537758,
          0.3880403149537758,
          0.3880403149537758,
          0.3880403149537758,
          0.3880403149537758,
          0.3880403149537758,
          0.3880403149537758,
          0.3880403149537758,
          0.3880403149537758,
          0.3880403149537758,
          0.3880403149537758
         ],
         "yaxis": "y"
        }
       ],
       "layout": {
        "annotations": [
         {
          "font": {
           "size": 13
          },
          "showarrow": false,
          "text": "wiek",
          "x": 0.5,
          "xanchor": "center",
          "xref": "paper",
          "y": 1,
          "yanchor": "bottom",
          "yref": "paper"
         },
         {
          "font": {
           "size": 13
          },
          "showarrow": false,
          "text": "prediction",
          "textangle": -90,
          "x": -0.07,
          "xref": "paper",
          "y": 0.5,
          "yref": "paper"
         }
        ],
        "font": {
         "color": "#371ea3"
        },
        "height": 489,
        "hovermode": "x unified",
        "legend": {
         "font": {
          "size": 11
         },
         "itemsizing": "constant",
         "orientation": "h",
         "title": {
          "font": {
           "size": 12
          },
          "text": "label"
         },
         "tracegroupgap": 0,
         "x": 1,
         "xanchor": "right",
         "y": 1.0613496932515338,
         "yanchor": "bottom"
        },
        "margin": {
         "b": 71,
         "r": 30,
         "t": 78
        },
        "template": {
         "data": {
          "scatter": [
           {
            "type": "scatter"
           }
          ]
         }
        },
        "title": {
         "font": {
          "size": 16
         },
         "text": "Aggregated Profiles",
         "x": 0.15
        },
        "xaxis": {
         "anchor": "y",
         "automargin": true,
         "domain": [
          0,
          1
         ],
         "fixedrange": true,
         "gridwidth": 2,
         "showticklabels": true,
         "tickcolor": "white",
         "ticklen": 3,
         "ticks": "outside",
         "title": {
          "text": ""
         },
         "type": "linear",
         "zeroline": false
        },
        "yaxis": {
         "anchor": "x",
         "automargin": true,
         "domain": [
          0,
          1
         ],
         "fixedrange": true,
         "gridwidth": 2,
         "range": [
          0.3291927713808392,
          0.4060843876238788
         ],
         "tickcolor": "white",
         "ticklen": 3,
         "ticks": "outside",
         "title": {
          "text": ""
         },
         "type": "linear",
         "zeroline": false
        }
       }
      }
     },
     "metadata": {},
     "output_type": "display_data"
    }
   ],
   "source": [
    "import pandas as pd\n",
    "from sklearn.model_selection import train_test_split\n",
    "from sklearn.ensemble import RandomForestClassifier\n",
    "import dalex as dx\n",
    "import plotly.express as px\n",
    "\n",
    "# Wczytanie danych z pliku CSV\n",
    "df = pd.read_csv('serce.csv')\n",
    "\n",
    "# Rozdzielenie cech (X) i etykiet (y)\n",
    "X = df.drop('diagnoza', axis=1)  # Wszystkie kolumny poza 'diagnoza'\n",
    "y = df['diagnoza']  # Kolumna diagnozy jako zmienna docelowa\n",
    "\n",
    "# Podział danych na zbiór treningowy i testowy\n",
    "X_train, X_test, y_train, y_test = train_test_split(X, y, test_size=0.3, random_state=42)\n",
    "\n",
    "# Tworzenie modelu RandomForestClassifier\n",
    "rf_model = RandomForestClassifier(random_state=42)\n",
    "rf_model.fit(X_train, y_train)\n",
    "\n",
    "# Tworzenie explainera za pomocą Dalex\n",
    "explainer = dx.Explainer(rf_model, X_test, y_test, label=\"Model RandomForest dla danych serca\")  \n",
    "\n",
    "# Predykcje dla danych testowych\n",
    "predictions = explainer.predict(X_test)\n",
    "\n",
    "# Wyświetlenie wykresu Break Down dla pierwszej obserwacji\n",
    "bd = explainer.predict_parts(X_test.iloc[0], type='break_down')  \n",
    "bd.plot()\n",
    "\n",
    "# Wyświetlenie progów klasyfikacyjnych dla pierwszej obserwacji\n",
    "probabilities = rf_model.predict_proba(X_test.iloc[[0]])[0]\n",
    "thresholds = {f\"Klasa {i}\": prob for i, prob in enumerate(probabilities)}\n",
    "print(\"Progi klasyfikacji dla pierwszej obserwacji:\", thresholds)\n",
    "\n",
    "# Wyświetlenie wykresu Feature Importance\n",
    "fi = explainer.model_parts()  \n",
    "fi.plot()\n",
    "\n",
    "# Wyświetlenie wykresu Partial Dependence Plot (PDP) dla jednej z cech\n",
    "print(\"Partial Dependence Plots\")\n",
    "pdp = explainer.model_profile(variables=['wiek'])  \n",
    "pdp.plot()\n",
    "\n",
    "# Wyświetlenie wykresu Ceteris Paribus dla pierwszej obserwacji\n",
    "print(\"Ceteris Paribus\")\n",
    "cp = explainer.predict_profile(X_test.iloc[0])  \n",
    "cp.plot()\n",
    "\n",
    "# Wyświetlenie wykresu Accumulated Local Effects (ALE) dla jednej z cech\n",
    "print(\"Accumulated Local Effects\")\n",
    "ale = explainer.model_profile(type='accumulated', variables=['wiek']) \n",
    "ale.plot()\n"
   ]
  }
 ],
 "metadata": {
  "kernelspec": {
   "display_name": "Python 3",
   "language": "python",
   "name": "python3"
  },
  "language_info": {
   "codemirror_mode": {
    "name": "ipython",
    "version": 3
   },
   "file_extension": ".py",
   "mimetype": "text/x-python",
   "name": "python",
   "nbconvert_exporter": "python",
   "pygments_lexer": "ipython3",
   "version": "3.11.9"
  }
 },
 "nbformat": 4,
 "nbformat_minor": 2
}
