{
 "cells": [
  {
   "cell_type": "code",
   "execution_count": 3,
   "metadata": {},
   "outputs": [
    {
     "name": "stdout",
     "output_type": "stream",
     "text": [
      "Dokładność RandomForest: 77.25%\n",
      "Dokładność EBM: 77.78%\n"
     ]
    },
    {
     "data": {
      "text/html": [
       "<!-- http://127.0.0.1:7001/2645592615760/ -->\n",
       "<iframe src=\"http://127.0.0.1:7001/2645592615760/\" width=100% height=800 frameBorder=\"0\"></iframe>"
      ]
     },
     "metadata": {},
     "output_type": "display_data"
    },
    {
     "data": {
      "text/html": [
       "<!-- http://127.0.0.1:7001/2645672870352/ -->\n",
       "<iframe src=\"http://127.0.0.1:7001/2645672870352/\" width=100% height=800 frameBorder=\"0\"></iframe>"
      ]
     },
     "metadata": {},
     "output_type": "display_data"
    }
   ],
   "source": [
    "import pandas as pd\n",
    "from sklearn.model_selection import train_test_split\n",
    "from sklearn.ensemble import RandomForestClassifier\n",
    "from interpret.glassbox import ExplainableBoostingClassifier\n",
    "from interpret import show\n",
    "\n",
    "# Wczytanie danych\n",
    "serce = pd.read_csv('serce.csv') \n",
    "X = serce[['wiek', 'plec', 'typ_bolu_klatka', 'cisnienie_krwi_spoczynek', \n",
    "            'cholesterol_we_krwi', 'cukier_we_krwi', \n",
    "            'wynik_ekg_spoczynek', 'ilosc_uderzen_serca', \n",
    "            'bol_klatka_wysilek', 'max_obnizka_st', \n",
    "            'przebieg_st_szczyt', 'zwapnienia_miazdzycowe', \n",
    "            'proba_ta']]\n",
    "\n",
    "y = serce['diagnoza']\n",
    "\n",
    "# Podział danych na zbiór treningowy i testowy\n",
    "X_train, X_test, y_train, y_test = train_test_split(X, y, test_size=0.7, random_state=42)\n",
    "\n",
    "model = RandomForestClassifier(n_estimators=50)\n",
    "model.fit(X_train, y_train)\n",
    "# Utworzenie i wytrenowanie modelu RandomForest\n",
    "rf = RandomForestClassifier()                              \n",
    "rf.fit(X_train, y_train)\n",
    "# Dokonanie predykcji na zbiorze testowym\n",
    "y_pred_rf = rf.predict(X_test)       \n",
    "# Utworzenie i wytrenowanie modelu EBM                       \n",
    "ebm = ExplainableBoostingClassifier()                       \n",
    "ebm.fit(X_train, y_train)\n",
    "# Dokonanie predykcji na zbiorze testowym\n",
    "y_pred_ebm = ebm.predict(X_test)                           \n",
    "\n",
    "# Wyświetlenie dokładności modeli\n",
    "accuracy_rf = rf.score(X_test, y_test)\n",
    "accuracy_ebm = ebm.score(X_test, y_test)\n",
    "print(f\"Dokładność RandomForest: {accuracy_rf*100:.2f}%\")\n",
    "print(f\"Dokładność EBM: {accuracy_ebm*100:.2f}%\")\n",
    "\n",
    "# Wyświetlenie globalnej interpretacji modelu EBM\n",
    "show(ebm.explain_global())      \n",
    "                           \n",
    "# Wyświetlenie lokalnej interpretacji dla próbek od 0 do 50\n",
    "show(ebm.explain_local(X_test[:50], y_test[:50]), 0)\n"
   ]
  }
 ],
 "metadata": {
  "kernelspec": {
   "display_name": "Python 3",
   "language": "python",
   "name": "python3"
  },
  "language_info": {
   "codemirror_mode": {
    "name": "ipython",
    "version": 3
   },
   "file_extension": ".py",
   "mimetype": "text/x-python",
   "name": "python",
   "nbconvert_exporter": "python",
   "pygments_lexer": "ipython3",
   "version": "3.11.9"
  }
 },
 "nbformat": 4,
 "nbformat_minor": 2
}
