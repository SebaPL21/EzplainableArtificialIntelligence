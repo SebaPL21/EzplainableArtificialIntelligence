{
 "cells": [
  {
   "cell_type": "code",
   "execution_count": 4,
   "metadata": {},
   "outputs": [
    {
     "name": "stdout",
     "output_type": "stream",
     "text": [
      "Dokładność RandomForest: 100.00%\n",
      "Dokładność EBM: 100.00%\n"
     ]
    },
    {
     "name": "stderr",
     "output_type": "stream",
     "text": [
      "C:\\Users\\sebas\\AppData\\Local\\Packages\\PythonSoftwareFoundation.Python.3.11_qbz5n2kfra8p0\\LocalCache\\local-packages\\Python311\\site-packages\\interpret\\glassbox\\_ebm\\_ebm.py:995: UserWarning:\n",
      "\n",
      "Detected multiclass problem. Forcing interactions to 0. Multiclass interactions only have local explanations. They are not currently displayed in the global explanation visualizations. Set interactions=0 to disable this warning. If you still want multiclass interactions, this API accepts a list, and the measure_interactions function can be used to detect them.\n",
      "\n"
     ]
    },
    {
     "data": {
      "text/html": [
       "<!-- http://127.0.0.1:7001/1977599990224/ -->\n",
       "<iframe src=\"http://127.0.0.1:7001/1977599990224/\" width=100% height=800 frameBorder=\"0\"></iframe>"
      ]
     },
     "metadata": {},
     "output_type": "display_data"
    }
   ],
   "source": [
    "from sklearn.datasets import load_iris\n",
    "from sklearn.model_selection import train_test_split\n",
    "from sklearn.ensemble import RandomForestClassifier\n",
    "from interpret.glassbox import ExplainableBoostingClassifier\n",
    "from interpret import show\n",
    "# Załadowanie danych iris\n",
    "iris = load_iris()\n",
    "X = iris.data\n",
    "y = iris.target\n",
    "\n",
    "# Podzielenie danych na zbiór treningowy i testowy\n",
    "X_train, X_test, y_train, y_test = train_test_split(X, y, test_size=0.3, random_state=42)\n",
    "\n",
    "# Utworzenie i wytrenowanie modelu RandomForest\n",
    "rf = RandomForestClassifier()\n",
    "rf.fit(X_train, y_train)\n",
    "\n",
    "# Dokonanie predykcji na zbiorze testowym\n",
    "y_pred_rf = rf.predict(X_test)\n",
    "\n",
    "# Utworzenie i wytrenowanie modelu EBM\n",
    "ebm = ExplainableBoostingClassifier()\n",
    "ebm.fit(X_train, y_train)\n",
    "\n",
    "# Dokonanie predykcji na zbiorze testowym\n",
    "y_pred_ebm = ebm.predict(X_test)\n",
    "\n",
    "# Wyświetlenie dokładności modeli\n",
    "accuracy_rf = rf.score(X_test, y_test)\n",
    "accuracy_ebm = ebm.score(X_test, y_test)\n",
    "print(f\"Dokładność RandomForest: {accuracy_rf*100:.2f}%\")\n",
    "print(f\"Dokładność EBM: {accuracy_ebm*100:.2f}%\")\n",
    "\n",
    "# Wyświetlenie globalnej interpretacji modelu EBM\n",
    "show(ebm.explain_global())"
   ]
  },
  {
   "cell_type": "code",
   "execution_count": 8,
   "metadata": {},
   "outputs": [
    {
     "name": "stdout",
     "output_type": "stream",
     "text": [
      "Dokładność RandomForest: 100.00%\n",
      "Dokładność EBM: 100.00%\n"
     ]
    },
    {
     "name": "stderr",
     "output_type": "stream",
     "text": [
      "C:\\Users\\sebas\\AppData\\Local\\Packages\\PythonSoftwareFoundation.Python.3.11_qbz5n2kfra8p0\\LocalCache\\local-packages\\Python311\\site-packages\\interpret\\glassbox\\_ebm\\_ebm.py:995: UserWarning:\n",
      "\n",
      "Detected multiclass problem. Forcing interactions to 0. Multiclass interactions only have local explanations. They are not currently displayed in the global explanation visualizations. Set interactions=0 to disable this warning. If you still want multiclass interactions, this API accepts a list, and the measure_interactions function can be used to detect them.\n",
      "\n"
     ]
    },
    {
     "data": {
      "text/html": [
       "<!-- http://127.0.0.1:7001/1977626882704/ -->\n",
       "<iframe src=\"http://127.0.0.1:7001/1977626882704/\" width=100% height=800 frameBorder=\"0\"></iframe>"
      ]
     },
     "metadata": {},
     "output_type": "display_data"
    },
    {
     "data": {
      "text/html": [
       "<!-- http://127.0.0.1:7001/1977626583824/ -->\n",
       "<iframe src=\"http://127.0.0.1:7001/1977626583824/\" width=100% height=800 frameBorder=\"0\"></iframe>"
      ]
     },
     "metadata": {},
     "output_type": "display_data"
    },
    {
     "data": {
      "text/html": [
       "<!-- http://127.0.0.1:7001/1977627161232/ -->\n",
       "<iframe src=\"http://127.0.0.1:7001/1977627161232/\" width=100% height=800 frameBorder=\"0\"></iframe>"
      ]
     },
     "metadata": {},
     "output_type": "display_data"
    },
    {
     "data": {
      "text/html": [
       "<!-- http://127.0.0.1:7001/1977626067984/ -->\n",
       "<iframe src=\"http://127.0.0.1:7001/1977626067984/\" width=100% height=800 frameBorder=\"0\"></iframe>"
      ]
     },
     "metadata": {},
     "output_type": "display_data"
    }
   ],
   "source": [
    "import pandas as pd\n",
    "from sklearn.datasets import load_iris\n",
    "from sklearn.model_selection import train_test_split\n",
    "from sklearn.ensemble import RandomForestClassifier\n",
    "from interpret.glassbox import ExplainableBoostingClassifier\n",
    "from interpret import show\n",
    "\n",
    "# Załadowanie danych iris\n",
    "iris = pd.read_csv('iris.csv')\n",
    "iris.columns = [\n",
    "    \"sepal.length\", \"sepal.width\", \"petal.length\", \"petal.width\", \"species\"\n",
    "]\n",
    "X = iris.iloc[:, :-1]\n",
    "y = iris.iloc[:, -1]\n",
    "\n",
    "# Podzielenie danych na zbiór treningowy i testowy\n",
    "X_train, X_test, y_train, y_test = train_test_split(X, y, test_size=0.3, random_state=42)\n",
    "\n",
    "# Utworzenie i wytrenowanie modelu RandomForest\n",
    "rf = RandomForestClassifier()\n",
    "rf.fit(X_train, y_train)\n",
    "\n",
    "# Dokonanie predykcji na zbiorze testowym\n",
    "y_pred_rf = rf.predict(X_test)\n",
    "\n",
    "# Utworzenie i wytrenowanie modelu EBM\n",
    "ebm = ExplainableBoostingClassifier()\n",
    "ebm.fit(X_train, y_train)\n",
    "\n",
    "# Dokonanie predykcji na zbiorze testowym\n",
    "y_pred_ebm = ebm.predict(X_test)\n",
    "\n",
    "# Wyświetlenie dokładności modeli\n",
    "accuracy_rf = rf.score(X_test, y_test)\n",
    "accuracy_ebm = ebm.score(X_test, y_test)\n",
    "print(f\"Dokładność RandomForest: {accuracy_rf*100:.2f}%\")\n",
    "print(f\"Dokładność EBM: {accuracy_ebm*100:.2f}%\")\n",
    "\n",
    "# Wyświetlenie globalnej interpretacji modelu EBM\n",
    "show(ebm.explain_global())\n",
    "\n",
    "show(ebm.explain_local(X_test[:5], y_test[:5]), 0)\n",
    "\n",
    "# Wyświetlenie lokalnej interpretacji dla próbek od 60 do 65\n",
    "show(ebm.explain_local(X_test[20:25], y_test[20:25]), 0)\n",
    "\n",
    "# Wyświetlenie lokalnej interpretacji dla próbek od 120 do 125\n",
    "show(ebm.explain_local(X_test[40:45], y_test[40:45]), 0)\n"
   ]
  }
 ],
 "metadata": {
  "kernelspec": {
   "display_name": "Python 3",
   "language": "python",
   "name": "python3"
  },
  "language_info": {
   "codemirror_mode": {
    "name": "ipython",
    "version": 3
   },
   "file_extension": ".py",
   "mimetype": "text/x-python",
   "name": "python",
   "nbconvert_exporter": "python",
   "pygments_lexer": "ipython3",
   "version": "3.11.9"
  }
 },
 "nbformat": 4,
 "nbformat_minor": 2
}
