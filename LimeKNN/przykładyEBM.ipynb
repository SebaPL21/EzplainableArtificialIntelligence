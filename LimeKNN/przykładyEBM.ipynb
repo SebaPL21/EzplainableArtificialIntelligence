{
 "cells": [
  {
   "cell_type": "code",
   "execution_count": 2,
   "metadata": {},
   "outputs": [
    {
     "ename": "SyntaxError",
     "evalue": "invalid syntax (1927086754.py, line 11)",
     "output_type": "error",
     "traceback": [
      "\u001b[1;36m  Cell \u001b[1;32mIn[2], line 11\u001b[1;36m\u001b[0m\n\u001b[1;33m    X_train, X_test, y_train, y_test =\u001b[0m\n\u001b[1;37m                                      ^\u001b[0m\n\u001b[1;31mSyntaxError\u001b[0m\u001b[1;31m:\u001b[0m invalid syntax\n"
     ]
    }
   ],
   "source": [
    "from sklearn.datasets import load_iris\n",
    "from sklearn.model_selection import train_test_split\n",
    "from sklearn.ensemble import RandomForestClassifier\n",
    "from interpret.glassbox import ExplainableBoostingClassifier\n",
    "from interpret import show\n",
    "# Załadowanie danych iris\n",
    "iris = load_iris()\n",
    "X = iris.data\n",
    "y = iris.target\n",
    "\n",
    "X_train, X_test, y_train, y_test = train_test_split(X, y, test_size=0.3, random_state=42)  # Podzielenie danych na zbiór treningowy i testowy\n",
    "\n",
    "rf = RandomForestClassifier()                                                               # Utworzenie i wytrenowanie modelu RandomForest\n",
    "rf.fit(X_train, y_train)\n",
    "\n",
    "\n",
    "y_pred_rf = rf.predict(X_test)                          # Dokonanie predykcji na zbiorze testowym\n",
    "\n",
    "ebm = ExplainableBoostingClassifier()                   # Utworzenie i wytrenowanie modelu EBM\n",
    "ebm.fit(X_train, y_train)\n",
    "\n",
    "y_pred_ebm = ebm.predict(X_test)                        # Dokonanie predykcji na zbiorze testowym\n",
    "\n",
    "accuracy_rf = rf.score(X_test, y_test)                  # Wyświetlenie dokładności modeli\n",
    "accuracy_ebm = ebm.score(X_test, y_test)\n",
    "print(f\"Dokładność RandomForest: {accuracy_rf*100:.2f}%\")\n",
    "print(f\"Dokładność EBM: {accuracy_ebm*100:.2f}%\")\n",
    "\n",
    "# Wyświetlenie globalnej interpretacji modelu EBM\n",
    "show(ebm.explain_global())"
   ]
  },
  {
   "cell_type": "code",
   "execution_count": 8,
   "metadata": {},
   "outputs": [
    {
     "name": "stdout",
     "output_type": "stream",
     "text": [
      "Dokładność RandomForest: 100.00%\n",
      "Dokładność EBM: 100.00%\n"
     ]
    },
    {
     "name": "stderr",
     "output_type": "stream",
     "text": [
      "C:\\Users\\sebas\\AppData\\Local\\Packages\\PythonSoftwareFoundation.Python.3.11_qbz5n2kfra8p0\\LocalCache\\local-packages\\Python311\\site-packages\\interpret\\glassbox\\_ebm\\_ebm.py:995: UserWarning:\n",
      "\n",
      "Detected multiclass problem. Forcing interactions to 0. Multiclass interactions only have local explanations. They are not currently displayed in the global explanation visualizations. Set interactions=0 to disable this warning. If you still want multiclass interactions, this API accepts a list, and the measure_interactions function can be used to detect them.\n",
      "\n"
     ]
    },
    {
     "data": {
      "text/html": [
       "<!-- http://127.0.0.1:7001/1977626882704/ -->\n",
       "<iframe src=\"http://127.0.0.1:7001/1977626882704/\" width=100% height=800 frameBorder=\"0\"></iframe>"
      ]
     },
     "metadata": {},
     "output_type": "display_data"
    },
    {
     "data": {
      "text/html": [
       "<!-- http://127.0.0.1:7001/1977626583824/ -->\n",
       "<iframe src=\"http://127.0.0.1:7001/1977626583824/\" width=100% height=800 frameBorder=\"0\"></iframe>"
      ]
     },
     "metadata": {},
     "output_type": "display_data"
    },
    {
     "data": {
      "text/html": [
       "<!-- http://127.0.0.1:7001/1977627161232/ -->\n",
       "<iframe src=\"http://127.0.0.1:7001/1977627161232/\" width=100% height=800 frameBorder=\"0\"></iframe>"
      ]
     },
     "metadata": {},
     "output_type": "display_data"
    },
    {
     "data": {
      "text/html": [
       "<!-- http://127.0.0.1:7001/1977626067984/ -->\n",
       "<iframe src=\"http://127.0.0.1:7001/1977626067984/\" width=100% height=800 frameBorder=\"0\"></iframe>"
      ]
     },
     "metadata": {},
     "output_type": "display_data"
    }
   ],
   "source": [
    "import pandas as pd\n",
    "from sklearn.datasets import load_iris\n",
    "from sklearn.model_selection import train_test_split\n",
    "from sklearn.ensemble import RandomForestClassifier\n",
    "from interpret.glassbox import ExplainableBoostingClassifier\n",
    "from interpret import show\n",
    "\n",
    "# Załadowanie danych iris\n",
    "iris = pd.read_csv('iris.csv')\n",
    "iris.columns = [\n",
    "    \"sepal.length\", \"sepal.width\", \"petal.length\", \"petal.width\", \"species\"\n",
    "]\n",
    "X = iris.iloc[:, :-1]\n",
    "y = iris.iloc[:, -1]\n",
    "X_train, X_test, y_train, y_test = train_test_split(X, y, test_size=0.3, random_state=42)   # Podzielenie danych na zbiór treningowy i testowy\n",
    "\n",
    "rf = RandomForestClassifier()                                                               # Utworzenie i wytrenowanie modelu RandomForest\n",
    "rf.fit(X_train, y_train)\n",
    "y_pred_rf = rf.predict(X_test)                              # Dokonanie predykcji na zbiorze testowym\n",
    "ebm = ExplainableBoostingClassifier()                       # Utworzenie i wytrenowanie modelu EBM\n",
    "ebm.fit(X_train, y_train)\n",
    "y_pred_ebm = ebm.predict(X_test)                             # Dokonanie predykcji na zbiorze testowym\n",
    "\n",
    "# Wyświetlenie dokładności modeli\n",
    "accuracy_rf = rf.score(X_test, y_test)\n",
    "accuracy_ebm = ebm.score(X_test, y_test)\n",
    "print(f\"Dokładność RandomForest: {accuracy_rf*100:.2f}%\")\n",
    "print(f\"Dokładność EBM: {accuracy_ebm*100:.2f}%\")\n",
    "\n",
    "\n",
    "show(ebm.explain_global())                                   # Wyświetlenie globalnej interpretacji modelu EBM\n",
    "\n",
    "show(ebm.explain_local(X_test[:5], y_test[:5]), 0)\n",
    "                                                  \n",
    "show(ebm.explain_local(X_test[20:25], y_test[20:25]), 0)    # Wyświetlenie lokalnej interpretacji dla próbek od 60 do 65\n",
    "\n",
    "show(ebm.explain_local(X_test[40:45], y_test[40:45]), 0)    # Wyświetlenie lokalnej interpretacji dla próbek od 120 do 125\n"
   ]
  }
 ],
 "metadata": {
  "kernelspec": {
   "display_name": "Python 3",
   "language": "python",
   "name": "python3"
  },
  "language_info": {
   "codemirror_mode": {
    "name": "ipython",
    "version": 3
   },
   "file_extension": ".py",
   "mimetype": "text/x-python",
   "name": "python",
   "nbconvert_exporter": "python",
   "pygments_lexer": "ipython3",
   "version": "3.11.9"
  }
 },
 "nbformat": 4,
 "nbformat_minor": 2
}
