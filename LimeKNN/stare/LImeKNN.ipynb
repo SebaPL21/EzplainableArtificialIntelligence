{
 "cells": [
  {
   "cell_type": "code",
   "execution_count": 1,
   "id": "a6d59c337b0a10a0",
   "metadata": {
    "ExecuteTime": {
     "end_time": "2024-01-19T15:35:49.134890600Z",
     "start_time": "2024-01-19T15:35:49.056276Z"
    },
    "collapsed": false
   },
   "outputs": [
    {
     "ename": "AttributeError",
     "evalue": "'Explanation' object has no attribute 'selector'",
     "output_type": "error",
     "traceback": [
      "\u001b[1;31m---------------------------------------------------------------------------\u001b[0m",
      "\u001b[1;31mAttributeError\u001b[0m                            Traceback (most recent call last)",
      "Cell \u001b[1;32mIn[1], line 46\u001b[0m\n\u001b[0;32m     43\u001b[0m \u001b[38;5;66;03m# Wyjaśnij predykcję dla próbki przy użyciu LIME\u001b[39;00m\n\u001b[0;32m     44\u001b[0m explanation \u001b[38;5;241m=\u001b[39m explainer\u001b[38;5;241m.\u001b[39mexplain_instance(sample, knn_predict, num_features\u001b[38;5;241m=\u001b[39m\u001b[38;5;28mlen\u001b[39m(feature_names))\n\u001b[1;32m---> 46\u001b[0m \u001b[43mshow\u001b[49m\u001b[43m(\u001b[49m\u001b[43mexplanation\u001b[49m\u001b[43m)\u001b[49m\n\u001b[0;32m     47\u001b[0m \u001b[38;5;66;03m# Wyświetl wyjaśnienie\u001b[39;00m\n\u001b[0;32m     48\u001b[0m explanation\u001b[38;5;241m.\u001b[39mshow_in_notebook()  \n",
      "File \u001b[1;32mc:\\Users\\sebas\\AppData\\Local\\Programs\\Python\\Python311\\Lib\\site-packages\\interpret\\visual\\_interactive.py:162\u001b[0m, in \u001b[0;36mshow\u001b[1;34m(explanation, key, **kwargs)\u001b[0m\n\u001b[0;32m    160\u001b[0m \u001b[38;5;28;01mexcept\u001b[39;00m \u001b[38;5;167;01mException\u001b[39;00m \u001b[38;5;28;01mas\u001b[39;00m e:  \u001b[38;5;66;03m# pragma: no cover\u001b[39;00m\n\u001b[0;32m    161\u001b[0m     _log\u001b[38;5;241m.\u001b[39merror(e, exc_info\u001b[38;5;241m=\u001b[39m\u001b[38;5;28;01mTrue\u001b[39;00m)\n\u001b[1;32m--> 162\u001b[0m     \u001b[38;5;28;01mraise\u001b[39;00m e\n",
      "File \u001b[1;32mc:\\Users\\sebas\\AppData\\Local\\Programs\\Python\\Python311\\Lib\\site-packages\\interpret\\visual\\_interactive.py:159\u001b[0m, in \u001b[0;36mshow\u001b[1;34m(explanation, key, **kwargs)\u001b[0m\n\u001b[0;32m    156\u001b[0m         _current_module\u001b[38;5;241m.\u001b[39mvisualize_provider \u001b[38;5;241m=\u001b[39m AutoVisualizeProvider()\n\u001b[0;32m    158\u001b[0m     \u001b[38;5;66;03m# Render\u001b[39;00m\n\u001b[1;32m--> 159\u001b[0m     \u001b[43m_current_module\u001b[49m\u001b[38;5;241;43m.\u001b[39;49m\u001b[43mvisualize_provider\u001b[49m\u001b[38;5;241;43m.\u001b[39;49m\u001b[43mrender\u001b[49m\u001b[43m(\u001b[49m\u001b[43mexplanation\u001b[49m\u001b[43m,\u001b[49m\u001b[43m \u001b[49m\u001b[43mkey\u001b[49m\u001b[38;5;241;43m=\u001b[39;49m\u001b[43mkey\u001b[49m\u001b[43m,\u001b[49m\u001b[43m \u001b[49m\u001b[38;5;241;43m*\u001b[39;49m\u001b[38;5;241;43m*\u001b[39;49m\u001b[43mkwargs\u001b[49m\u001b[43m)\u001b[49m\n\u001b[0;32m    160\u001b[0m \u001b[38;5;28;01mexcept\u001b[39;00m \u001b[38;5;167;01mException\u001b[39;00m \u001b[38;5;28;01mas\u001b[39;00m e:  \u001b[38;5;66;03m# pragma: no cover\u001b[39;00m\n\u001b[0;32m    161\u001b[0m     _log\u001b[38;5;241m.\u001b[39merror(e, exc_info\u001b[38;5;241m=\u001b[39m\u001b[38;5;28;01mTrue\u001b[39;00m)\n",
      "File \u001b[1;32mc:\\Users\\sebas\\AppData\\Local\\Programs\\Python\\Python311\\Lib\\site-packages\\interpret\\provider\\_visualize.py:70\u001b[0m, in \u001b[0;36mAutoVisualizeProvider.render\u001b[1;34m(self, explanation, key, **kwargs)\u001b[0m\n\u001b[0;32m     67\u001b[0m     \u001b[38;5;28mself\u001b[39m\u001b[38;5;241m.\u001b[39m_lazy_initialize()\n\u001b[0;32m     68\u001b[0m     \u001b[38;5;28mself\u001b[39m\u001b[38;5;241m.\u001b[39mhas_initialized \u001b[38;5;241m=\u001b[39m \u001b[38;5;28;01mTrue\u001b[39;00m\n\u001b[1;32m---> 70\u001b[0m \u001b[38;5;28;43mself\u001b[39;49m\u001b[38;5;241;43m.\u001b[39;49m\u001b[43mprovider\u001b[49m\u001b[38;5;241;43m.\u001b[39;49m\u001b[43mrender\u001b[49m\u001b[43m(\u001b[49m\u001b[43mexplanation\u001b[49m\u001b[43m,\u001b[49m\u001b[43m \u001b[49m\u001b[43mkey\u001b[49m\u001b[38;5;241;43m=\u001b[39;49m\u001b[43mkey\u001b[49m\u001b[43m,\u001b[49m\u001b[43m \u001b[49m\u001b[38;5;241;43m*\u001b[39;49m\u001b[38;5;241;43m*\u001b[39;49m\u001b[43mkwargs\u001b[49m\u001b[43m)\u001b[49m\n",
      "File \u001b[1;32mc:\\Users\\sebas\\AppData\\Local\\Programs\\Python\\Python311\\Lib\\site-packages\\interpret\\provider\\_visualize.py:213\u001b[0m, in \u001b[0;36mDashProvider.render\u001b[1;34m(self, explanation, **kwargs)\u001b[0m\n\u001b[0;32m    211\u001b[0m \u001b[38;5;66;03m# Register\u001b[39;00m\n\u001b[0;32m    212\u001b[0m share_tables \u001b[38;5;241m=\u001b[39m kwargs\u001b[38;5;241m.\u001b[39mpop(\u001b[38;5;124m\"\u001b[39m\u001b[38;5;124mshare_tables\u001b[39m\u001b[38;5;124m\"\u001b[39m, \u001b[38;5;28;01mNone\u001b[39;00m)\n\u001b[1;32m--> 213\u001b[0m \u001b[38;5;28;43mself\u001b[39;49m\u001b[38;5;241;43m.\u001b[39;49m\u001b[43mapp_runner\u001b[49m\u001b[38;5;241;43m.\u001b[39;49m\u001b[43mregister\u001b[49m\u001b[43m(\u001b[49m\u001b[43mexplanation\u001b[49m\u001b[43m,\u001b[49m\u001b[43m \u001b[49m\u001b[43mshare_tables\u001b[49m\u001b[38;5;241;43m=\u001b[39;49m\u001b[43mshare_tables\u001b[49m\u001b[43m)\u001b[49m\n\u001b[0;32m    215\u001b[0m \u001b[38;5;66;03m# Display\u001b[39;00m\n\u001b[0;32m    216\u001b[0m open_link \u001b[38;5;241m=\u001b[39m \u001b[38;5;28misinstance\u001b[39m(explanation, \u001b[38;5;28mlist\u001b[39m)\n",
      "File \u001b[1;32mc:\\Users\\sebas\\AppData\\Local\\Programs\\Python\\Python311\\Lib\\site-packages\\interpret\\visual\\dashboard.py:170\u001b[0m, in \u001b[0;36mAppRunner.register\u001b[1;34m(self, ctx, **kwargs)\u001b[0m\n\u001b[0;32m    168\u001b[0m \u001b[38;5;28;01mdef\u001b[39;00m \u001b[38;5;21mregister\u001b[39m(\u001b[38;5;28mself\u001b[39m, ctx, \u001b[38;5;241m*\u001b[39m\u001b[38;5;241m*\u001b[39mkwargs):\n\u001b[0;32m    169\u001b[0m     \u001b[38;5;66;03m# The path to this instance should be id based.\u001b[39;00m\n\u001b[1;32m--> 170\u001b[0m     \u001b[38;5;28;43mself\u001b[39;49m\u001b[38;5;241;43m.\u001b[39;49m\u001b[43mapp\u001b[49m\u001b[38;5;241;43m.\u001b[39;49m\u001b[43mregister\u001b[49m\u001b[43m(\u001b[49m\u001b[43mctx\u001b[49m\u001b[43m,\u001b[49m\u001b[43m \u001b[49m\u001b[38;5;241;43m*\u001b[39;49m\u001b[38;5;241;43m*\u001b[39;49m\u001b[43mkwargs\u001b[49m\u001b[43m)\u001b[49m\n",
      "File \u001b[1;32mc:\\Users\\sebas\\AppData\\Local\\Programs\\Python\\Python311\\Lib\\site-packages\\interpret\\visual\\dashboard.py:241\u001b[0m, in \u001b[0;36mDispatcherApp.register\u001b[1;34m(self, ctx, share_tables)\u001b[0m\n\u001b[0;32m    235\u001b[0m _log\u001b[38;5;241m.\u001b[39minfo(\u001b[38;5;124m\"\u001b[39m\u001b[38;5;124mCreating App Entry: \u001b[39m\u001b[38;5;132;01m{0}\u001b[39;00m\u001b[38;5;124m\"\u001b[39m\u001b[38;5;241m.\u001b[39mformat(ctx_id))\n\u001b[0;32m    236\u001b[0m ctx_path \u001b[38;5;241m=\u001b[39m (\n\u001b[0;32m    237\u001b[0m     \u001b[38;5;124m\"\u001b[39m\u001b[38;5;124m/\u001b[39m\u001b[38;5;132;01m{0}\u001b[39;00m\u001b[38;5;124m/\u001b[39m\u001b[38;5;124m\"\u001b[39m\u001b[38;5;241m.\u001b[39mformat(ctx_id)\n\u001b[0;32m    238\u001b[0m     \u001b[38;5;28;01mif\u001b[39;00m \u001b[38;5;28mself\u001b[39m\u001b[38;5;241m.\u001b[39mbase_url \u001b[38;5;129;01mis\u001b[39;00m \u001b[38;5;28;01mNone\u001b[39;00m\n\u001b[0;32m    239\u001b[0m     \u001b[38;5;28;01melse\u001b[39;00m \u001b[38;5;124m\"\u001b[39m\u001b[38;5;124m/\u001b[39m\u001b[38;5;132;01m{0}\u001b[39;00m\u001b[38;5;124m/\u001b[39m\u001b[38;5;132;01m{1}\u001b[39;00m\u001b[38;5;124m/\u001b[39m\u001b[38;5;124m\"\u001b[39m\u001b[38;5;241m.\u001b[39mformat(\u001b[38;5;28mself\u001b[39m\u001b[38;5;241m.\u001b[39mbase_url, ctx_id)\n\u001b[0;32m    240\u001b[0m )\n\u001b[1;32m--> 241\u001b[0m app \u001b[38;5;241m=\u001b[39m \u001b[43m_udash\u001b[49m\u001b[38;5;241;43m.\u001b[39;49m\u001b[43mgenerate_app\u001b[49m\u001b[43m(\u001b[49m\n\u001b[0;32m    242\u001b[0m \u001b[43m    \u001b[49m\u001b[43mctx\u001b[49m\u001b[43m,\u001b[49m\n\u001b[0;32m    243\u001b[0m \u001b[43m    \u001b[49m\u001b[43m{\u001b[49m\u001b[38;5;124;43m\"\u001b[39;49m\u001b[38;5;124;43mshare_tables\u001b[39;49m\u001b[38;5;124;43m\"\u001b[39;49m\u001b[43m:\u001b[49m\u001b[43m \u001b[49m\u001b[43mshare_tables\u001b[49m\u001b[43m}\u001b[49m\u001b[43m,\u001b[49m\n\u001b[0;32m    244\u001b[0m \u001b[43m    \u001b[49m\u001b[38;5;66;43;03m# url_base_pathname=ctx_path,\u001b[39;49;00m\n\u001b[0;32m    245\u001b[0m \u001b[43m    \u001b[49m\u001b[43mrequests_pathname_prefix\u001b[49m\u001b[38;5;241;43m=\u001b[39;49m\u001b[43mctx_path\u001b[49m\u001b[43m,\u001b[49m\n\u001b[0;32m    246\u001b[0m \u001b[43m    \u001b[49m\u001b[43mroutes_pathname_prefix\u001b[49m\u001b[38;5;241;43m=\u001b[39;49m\u001b[43mctx_path\u001b[49m\u001b[43m,\u001b[49m\n\u001b[0;32m    247\u001b[0m \u001b[43m\u001b[49m\u001b[43m)\u001b[49m\n\u001b[0;32m    248\u001b[0m app\u001b[38;5;241m.\u001b[39mcss\u001b[38;5;241m.\u001b[39mconfig\u001b[38;5;241m.\u001b[39mserve_locally \u001b[38;5;241m=\u001b[39m \u001b[38;5;28;01mTrue\u001b[39;00m\n\u001b[0;32m    249\u001b[0m app\u001b[38;5;241m.\u001b[39mscripts\u001b[38;5;241m.\u001b[39mconfig\u001b[38;5;241m.\u001b[39mserve_locally \u001b[38;5;241m=\u001b[39m \u001b[38;5;28;01mTrue\u001b[39;00m\n",
      "File \u001b[1;32mc:\\Users\\sebas\\AppData\\Local\\Programs\\Python\\Python311\\Lib\\site-packages\\interpret\\visual\\_udash.py:894\u001b[0m, in \u001b[0;36mgenerate_app\u001b[1;34m(ctx, options, url_base_pathname, requests_pathname_prefix, routes_pathname_prefix)\u001b[0m\n\u001b[0;32m    885\u001b[0m \u001b[38;5;28;01mdef\u001b[39;00m \u001b[38;5;21mgenerate_app\u001b[39m(\n\u001b[0;32m    886\u001b[0m     ctx,\n\u001b[0;32m    887\u001b[0m     options,\n\u001b[1;32m   (...)\u001b[0m\n\u001b[0;32m    891\u001b[0m ):\n\u001b[0;32m    892\u001b[0m     \u001b[38;5;66;03m# If we are passed a single explanation as a scalar, generate mini app.\u001b[39;00m\n\u001b[0;32m    893\u001b[0m     \u001b[38;5;28;01mif\u001b[39;00m \u001b[38;5;129;01mnot\u001b[39;00m \u001b[38;5;28misinstance\u001b[39m(ctx, \u001b[38;5;28mlist\u001b[39m):\n\u001b[1;32m--> 894\u001b[0m         new_item \u001b[38;5;241m=\u001b[39m \u001b[43m_expand_ctx_item\u001b[49m\u001b[43m(\u001b[49m\u001b[43mctx\u001b[49m\u001b[43m)\u001b[49m\n\u001b[0;32m    895\u001b[0m         app \u001b[38;5;241m=\u001b[39m generate_app_mini(\n\u001b[0;32m    896\u001b[0m             new_item,\n\u001b[0;32m    897\u001b[0m             url_base_pathname\u001b[38;5;241m=\u001b[39murl_base_pathname,\n\u001b[0;32m    898\u001b[0m             requests_pathname_prefix\u001b[38;5;241m=\u001b[39mrequests_pathname_prefix,\n\u001b[0;32m    899\u001b[0m             routes_pathname_prefix\u001b[38;5;241m=\u001b[39mroutes_pathname_prefix,\n\u001b[0;32m    900\u001b[0m         )\n\u001b[0;32m    901\u001b[0m         \u001b[38;5;28;01mreturn\u001b[39;00m app\n",
      "File \u001b[1;32mc:\\Users\\sebas\\AppData\\Local\\Programs\\Python\\Python311\\Lib\\site-packages\\interpret\\visual\\_udash.py:872\u001b[0m, in \u001b[0;36m_expand_ctx_item\u001b[1;34m(item)\u001b[0m\n\u001b[0;32m    870\u001b[0m \u001b[38;5;28;01melse\u001b[39;00m:\n\u001b[0;32m    871\u001b[0m     explanation \u001b[38;5;241m=\u001b[39m item\n\u001b[1;32m--> 872\u001b[0m     selector \u001b[38;5;241m=\u001b[39m \u001b[43mexplanation\u001b[49m\u001b[38;5;241;43m.\u001b[39;49m\u001b[43mselector\u001b[49m\n\u001b[0;32m    874\u001b[0m \u001b[38;5;28;01mif\u001b[39;00m selector \u001b[38;5;129;01mis\u001b[39;00m \u001b[38;5;129;01mnot\u001b[39;00m \u001b[38;5;28;01mNone\u001b[39;00m:\n\u001b[0;32m    875\u001b[0m     df \u001b[38;5;241m=\u001b[39m selector\u001b[38;5;241m.\u001b[39mcopy()\n",
      "\u001b[1;31mAttributeError\u001b[0m: 'Explanation' object has no attribute 'selector'"
     ]
    }
   ],
   "source": [
    "import numpy as np\n",
    "import pandas as pd\n",
    "from sklearn.neighbors import KNeighborsClassifier\n",
    "from sklearn.model_selection import train_test_split\n",
    "from lime.lime_tabular import LimeTabularExplainer\n",
    "from interpret import show\n",
    "\n",
    "# Wczytaj dane z pliku\n",
    "df = pd.read_csv(\"data.csv\", names=[\"feature_1\", \"feature_2\", \"class\"], skiprows=1)\n",
    "\n",
    "# Przekonwertuj dane na macierz\n",
    "X = df.to_numpy()\n",
    "\n",
    "# Wybierz dane wejściowe i etykiety klas\n",
    "X = X[:, :2]\n",
    "y = df[\"class\"].to_numpy()\n",
    "\n",
    "X = X.astype(float)\n",
    "y = y.astype(float)  # Fix: Change Y to y\n",
    "# Przypisz nazwy cech\n",
    "feature_names = [\"feature_1\", \"feature_2\"]\n",
    "\n",
    "# Nazwa klas\n",
    "class_names = [\"class_0\", \"class_1\"]\n",
    "# Tutaj zakładam, że masz dane w postaci macierzy 'X' i wektora 'y' z etykietami klas\n",
    "X_train, X_test, y_train, y_test = train_test_split(X, y, test_size=0.2, random_state=42)\n",
    "\n",
    "# Utwórz i wytrenuj model k-NN\n",
    "knn_model = KNeighborsClassifier(n_neighbors=3)\n",
    "knn_model.fit(X_train, y_train)\n",
    "\n",
    "# Utwórz funkcję predict dla LIME   \n",
    "def knn_predict(X):\n",
    "    return knn_model.predict_proba(X)\n",
    "\n",
    "# Utwórz instancję explainera LIME\n",
    "explainer = LimeTabularExplainer(X_train, feature_names=feature_names, class_names=class_names, discretize_continuous=True)\n",
    "\n",
    "# Wybierz przykładową próbkę do wyjaśnienia\n",
    "sample_idx = 0\n",
    "sample = X_test[sample_idx]\n",
    "\n",
    "# Wyjaśnij predykcję dla próbki przy użyciu LIME\n",
    "explanation = explainer.explain_instance(sample, knn_predict, num_features=len(feature_names))\n",
    "\n",
    "\n",
    "# Wyświetl wyjaśnienie\n",
    "explanation.show_in_notebook()  \n"
   ]
  },
  {
   "cell_type": "code",
   "execution_count": null,
   "id": "8ff0e26d0c0f1312",
   "metadata": {
    "collapsed": false
   },
   "outputs": [],
   "source": []
  }
 ],
 "metadata": {
  "kernelspec": {
   "display_name": "Python 3",
   "language": "python",
   "name": "python3"
  },
  "language_info": {
   "codemirror_mode": {
    "name": "ipython",
    "version": 3
   },
   "file_extension": ".py",
   "mimetype": "text/x-python",
   "name": "python",
   "nbconvert_exporter": "python",
   "pygments_lexer": "ipython3",
   "version": "3.11.7"
  }
 },
 "nbformat": 4,
 "nbformat_minor": 5
}
