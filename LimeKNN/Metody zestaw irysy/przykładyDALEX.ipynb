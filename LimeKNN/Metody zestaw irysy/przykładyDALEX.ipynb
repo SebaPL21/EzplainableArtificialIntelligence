{
 "cells": [
  {
   "cell_type": "code",
   "execution_count": 15,
   "metadata": {},
   "outputs": [
    {
     "name": "stdout",
     "output_type": "stream",
     "text": [
      "Preparation of a new explainer is initiated\n",
      "\n",
      "  -> data              : 45 rows 4 cols\n",
      "  -> target variable   : 45 values\n",
      "  -> model_class       : sklearn.ensemble._forest.RandomForestClassifier (default)\n",
      "  -> label             : setosa, versicolor, virginica\n",
      "  -> predict function  : <function yhat_proba_default at 0x000002BC9FEA37E0> will be used (default)\n",
      "  -> predict function  : Accepts pandas.DataFrame and numpy.ndarray.\n",
      "  -> predicted values  : min = 0.0, mean = 0.287, max = 1.0\n",
      "  -> model type        : classification will be used (default)\n",
      "  -> residual function : difference between y and yhat (default)\n",
      "  -> residuals         : min = -0.05, mean = 0.579, max = 2.0\n",
      "  -> model_info        : package sklearn\n",
      "\n",
      "A new explainer has been created!\n"
     ]
    },
    {
     "data": {
      "application/vnd.plotly.v1+json": {
       "config": {
        "displaylogo": false,
        "modeBarButtonsToRemove": [
         "sendDataToCloud",
         "lasso2d",
         "autoScale2d",
         "select2d",
         "zoom2d",
         "pan2d",
         "zoomIn2d",
         "zoomOut2d",
         "resetScale2d",
         "toggleSpikelines",
         "hoverCompareCartesian",
         "hoverClosestCartesian"
        ],
        "plotlyServerURL": "https://plot.ly",
        "staticPlot": false,
        "toImageButtonOptions": {
         "height": null,
         "width": null
        }
       },
       "data": [
        {
         "base": 0.2873333333333334,
         "connector": {
          "line": {
           "color": "#371ea3",
           "dash": "solid",
           "width": 1
          },
          "mode": "spanning"
         },
         "decreasing": {
          "marker": {
           "color": "#f05a71"
          }
         },
         "hoverinfo": "text+delta",
         "hoverlabel": {
          "bgcolor": "rgba(0,0,0,0.8)"
         },
         "hovertext": [
          "Average response: 0.287<br>Prediction: 0.97",
          "petal width (cm) = 1.2<br>increases average response by",
          "petal length (cm) = 4.7<br>increases average response by",
          "sepal length (cm) = 6.1<br>increases average response by",
          "sepal width (cm) = 2.8<br>increases average response by",
          "Average response: 0.287<br>Prediction: 0.97"
         ],
         "increasing": {
          "marker": {
           "color": "#8bdcbe"
          }
         },
         "measure": [
          "relative",
          "relative",
          "relative",
          "relative",
          "relative",
          "total"
         ],
         "orientation": "h",
         "showlegend": false,
         "text": [
          "0.287",
          "+0.298",
          "+0.354",
          "+0.027",
          "+0.004",
          "0.97"
         ],
         "textposition": "outside",
         "totals": {
          "marker": {
           "color": "#371ea3"
          }
         },
         "type": "waterfall",
         "x": [
          0,
          0.298,
          0.354,
          0.027,
          0.004,
          0.683
         ],
         "xaxis": "x",
         "y": [
          "intercept",
          "petal width (cm) = 1.2",
          "petal length (cm) = 4.7",
          "sepal length (cm) = 6.1",
          "sepal width (cm) = 2.8",
          "prediction"
         ],
         "yaxis": "y"
        }
       ],
       "layout": {
        "annotations": [
         {
          "font": {
           "size": 16
          },
          "showarrow": false,
          "text": "setosa, versicolor, virginica",
          "x": 0.5,
          "xanchor": "center",
          "xref": "paper",
          "y": 1,
          "yanchor": "bottom",
          "yref": "paper"
         },
         {
          "font": {
           "size": 16
          },
          "showarrow": false,
          "text": "contribution",
          "x": 0.5,
          "xanchor": "center",
          "xref": "paper",
          "y": 0,
          "yanchor": "top",
          "yref": "paper",
          "yshift": -30
         }
        ],
        "font": {
         "color": "#371ea3"
        },
        "height": 273,
        "margin": {
         "b": 71,
         "r": 30,
         "t": 78
        },
        "shapes": [
         {
          "line": {
           "color": "#371ea3",
           "dash": "dot",
           "width": 1.5
          },
          "type": "line",
          "x0": 0.2873333333333334,
          "x1": 0.2873333333333334,
          "xref": "x",
          "y0": -1,
          "y1": 6,
          "yref": "y"
         }
        ],
        "template": {
         "data": {
          "scatter": [
           {
            "type": "scatter"
           }
          ]
         }
        },
        "title": {
         "text": "Break Down",
         "x": 0.15
        },
        "xaxis": {
         "anchor": "y",
         "automargin": true,
         "domain": [
          0,
          1
         ],
         "fixedrange": true,
         "gridwidth": 2,
         "range": [
          0.18455,
          1.07245
         ],
         "tickcolor": "white",
         "ticklen": 3,
         "ticks": "outside",
         "type": "linear",
         "zeroline": false
        },
        "yaxis": {
         "anchor": "x",
         "automargin": true,
         "autorange": "reversed",
         "domain": [
          0,
          1
         ],
         "fixedrange": true,
         "gridwidth": 2,
         "tickcolor": "white",
         "ticklen": 10,
         "ticks": "outside",
         "type": "category"
        }
       }
      }
     },
     "metadata": {},
     "output_type": "display_data"
    },
    {
     "name": "stdout",
     "output_type": "stream",
     "text": [
      "Classification thresholds for the first observation: {'setosa': 0.0, 'versicolor': 0.97, 'virginica': 0.03}\n"
     ]
    },
    {
     "data": {
      "application/vnd.plotly.v1+json": {
       "config": {
        "displaylogo": false,
        "modeBarButtonsToRemove": [
         "sendDataToCloud",
         "lasso2d",
         "autoScale2d",
         "select2d",
         "zoom2d",
         "pan2d",
         "zoomIn2d",
         "zoomOut2d",
         "resetScale2d",
         "toggleSpikelines",
         "hoverCompareCartesian",
         "hoverClosestCartesian"
        ],
        "plotlyServerURL": "https://plot.ly",
        "staticPlot": false,
        "toImageButtonOptions": {
         "height": null,
         "width": null
        }
       },
       "data": [
        {
         "base": -0.34188034188034155,
         "hoverinfo": "text",
         "hoverlabel": {
          "bgcolor": "rgba(0,0,0,0.8)"
         },
         "hovertext": [
          "Model: setosa, versicolor, virginica loss after<br>variable: petal width (cm) is permuted: 0.312<br>Drop-out loss change: +0.654",
          "Model: setosa, versicolor, virginica loss after<br>variable: petal length (cm) is permuted: 0.281<br>Drop-out loss change: +0.623",
          "Model: setosa, versicolor, virginica loss after<br>variable: sepal length (cm) is permuted: 0.128<br>Drop-out loss change: +0.47",
          "Model: setosa, versicolor, virginica loss after<br>variable: sepal width (cm) is permuted: 0.078<br>Drop-out loss change: +0.42"
         ],
         "marker": {
          "color": "#46bac2"
         },
         "orientation": "h",
         "showlegend": false,
         "text": [
          "+0.654",
          "+0.623",
          "+0.47",
          "+0.42"
         ],
         "textposition": "outside",
         "type": "bar",
         "x": [
          0.6538461538461535,
          0.6228632478632476,
          0.47008547008546975,
          0.4196581196581193
         ],
         "xaxis": "x",
         "y": [
          "petal width (cm)",
          "petal length (cm)",
          "sepal length (cm)",
          "sepal width (cm)"
         ],
         "yaxis": "y"
        }
       ],
       "layout": {
        "annotations": [
         {
          "font": {
           "size": 16
          },
          "showarrow": false,
          "text": "setosa, versicolor, virginica",
          "x": 0.5,
          "xanchor": "center",
          "xref": "paper",
          "y": 1,
          "yanchor": "bottom",
          "yref": "paper"
         },
         {
          "font": {
           "size": 16
          },
          "showarrow": false,
          "text": "drop-out loss",
          "x": 0.5,
          "xanchor": "center",
          "xref": "paper",
          "y": 0,
          "yanchor": "top",
          "yref": "paper",
          "yshift": -30
         }
        ],
        "font": {
         "color": "#371ea3"
        },
        "height": 263,
        "margin": {
         "b": 71,
         "r": 30,
         "t": 78
        },
        "shapes": [
         {
          "line": {
           "color": "#371ea3",
           "dash": "dot",
           "width": 1.5
          },
          "type": "line",
          "x0": -0.34188034188034155,
          "x1": -0.34188034188034155,
          "xref": "x",
          "y0": -1,
          "y1": 4,
          "yref": "y"
         }
        ],
        "template": {
         "data": {
          "scatter": [
           {
            "type": "scatter"
           }
          ]
         }
        },
        "title": {
         "text": "Variable Importance",
         "x": 0.15
        },
        "xaxis": {
         "anchor": "y",
         "automargin": true,
         "domain": [
          0,
          1
         ],
         "fixedrange": true,
         "gridwidth": 2,
         "range": [
          -0.43995726495726456,
          0.410042735042735
         ],
         "tickcolor": "white",
         "ticklen": 3,
         "ticks": "outside",
         "type": "linear",
         "zeroline": false
        },
        "yaxis": {
         "anchor": "x",
         "automargin": true,
         "autorange": "reversed",
         "domain": [
          0,
          1
         ],
         "fixedrange": true,
         "gridwidth": 2,
         "tickcolor": "white",
         "ticklen": 10,
         "ticks": "outside",
         "type": "category"
        }
       }
      }
     },
     "metadata": {},
     "output_type": "display_data"
    },
    {
     "name": "stdout",
     "output_type": "stream",
     "text": [
      " Partial Dependence Plots\n"
     ]
    },
    {
     "name": "stderr",
     "output_type": "stream",
     "text": [
      "Calculating ceteris paribus: 100%|██████████| 1/1 [00:00<00:00, 51.25it/s]\n"
     ]
    },
    {
     "data": {
      "application/vnd.plotly.v1+json": {
       "config": {
        "displaylogo": false,
        "modeBarButtonsToRemove": [
         "sendDataToCloud",
         "lasso2d",
         "autoScale2d",
         "select2d",
         "zoom2d",
         "pan2d",
         "zoomIn2d",
         "zoomOut2d",
         "resetScale2d",
         "toggleSpikelines",
         "hoverCompareCartesian",
         "hoverClosestCartesian"
        ],
        "plotlyServerURL": "https://plot.ly",
        "staticPlot": false,
        "toImageButtonOptions": {
         "height": null,
         "width": null
        }
       },
       "data": [
        {
         "customdata": [
          [
           0.2873333333333334,
           "setosa, versicolor, virginica",
           "sepal length (cm)"
          ],
          [
           0.2873333333333334,
           "setosa, versicolor, virginica",
           "sepal length (cm)"
          ],
          [
           0.2873333333333334,
           "setosa, versicolor, virginica",
           "sepal length (cm)"
          ],
          [
           0.2873333333333334,
           "setosa, versicolor, virginica",
           "sepal length (cm)"
          ],
          [
           0.2873333333333334,
           "setosa, versicolor, virginica",
           "sepal length (cm)"
          ],
          [
           0.2873333333333334,
           "setosa, versicolor, virginica",
           "sepal length (cm)"
          ],
          [
           0.2873333333333334,
           "setosa, versicolor, virginica",
           "sepal length (cm)"
          ],
          [
           0.2873333333333334,
           "setosa, versicolor, virginica",
           "sepal length (cm)"
          ],
          [
           0.2873333333333334,
           "setosa, versicolor, virginica",
           "sepal length (cm)"
          ],
          [
           0.2873333333333334,
           "setosa, versicolor, virginica",
           "sepal length (cm)"
          ],
          [
           0.2873333333333334,
           "setosa, versicolor, virginica",
           "sepal length (cm)"
          ],
          [
           0.2873333333333334,
           "setosa, versicolor, virginica",
           "sepal length (cm)"
          ],
          [
           0.2873333333333334,
           "setosa, versicolor, virginica",
           "sepal length (cm)"
          ],
          [
           0.2873333333333334,
           "setosa, versicolor, virginica",
           "sepal length (cm)"
          ],
          [
           0.2873333333333334,
           "setosa, versicolor, virginica",
           "sepal length (cm)"
          ],
          [
           0.2873333333333334,
           "setosa, versicolor, virginica",
           "sepal length (cm)"
          ],
          [
           0.2873333333333334,
           "setosa, versicolor, virginica",
           "sepal length (cm)"
          ],
          [
           0.2873333333333334,
           "setosa, versicolor, virginica",
           "sepal length (cm)"
          ],
          [
           0.2873333333333334,
           "setosa, versicolor, virginica",
           "sepal length (cm)"
          ],
          [
           0.2873333333333334,
           "setosa, versicolor, virginica",
           "sepal length (cm)"
          ],
          [
           0.2873333333333334,
           "setosa, versicolor, virginica",
           "sepal length (cm)"
          ],
          [
           0.2873333333333334,
           "setosa, versicolor, virginica",
           "sepal length (cm)"
          ],
          [
           0.2873333333333334,
           "setosa, versicolor, virginica",
           "sepal length (cm)"
          ],
          [
           0.2873333333333334,
           "setosa, versicolor, virginica",
           "sepal length (cm)"
          ],
          [
           0.2873333333333334,
           "setosa, versicolor, virginica",
           "sepal length (cm)"
          ],
          [
           0.2873333333333334,
           "setosa, versicolor, virginica",
           "sepal length (cm)"
          ],
          [
           0.2873333333333334,
           "setosa, versicolor, virginica",
           "sepal length (cm)"
          ],
          [
           0.2873333333333334,
           "setosa, versicolor, virginica",
           "sepal length (cm)"
          ],
          [
           0.2873333333333334,
           "setosa, versicolor, virginica",
           "sepal length (cm)"
          ],
          [
           0.2873333333333334,
           "setosa, versicolor, virginica",
           "sepal length (cm)"
          ],
          [
           0.2873333333333334,
           "setosa, versicolor, virginica",
           "sepal length (cm)"
          ],
          [
           0.2873333333333334,
           "setosa, versicolor, virginica",
           "sepal length (cm)"
          ],
          [
           0.2873333333333334,
           "setosa, versicolor, virginica",
           "sepal length (cm)"
          ],
          [
           0.2873333333333334,
           "setosa, versicolor, virginica",
           "sepal length (cm)"
          ],
          [
           0.2873333333333334,
           "setosa, versicolor, virginica",
           "sepal length (cm)"
          ],
          [
           0.2873333333333334,
           "setosa, versicolor, virginica",
           "sepal length (cm)"
          ],
          [
           0.2873333333333334,
           "setosa, versicolor, virginica",
           "sepal length (cm)"
          ],
          [
           0.2873333333333334,
           "setosa, versicolor, virginica",
           "sepal length (cm)"
          ],
          [
           0.2873333333333334,
           "setosa, versicolor, virginica",
           "sepal length (cm)"
          ],
          [
           0.2873333333333334,
           "setosa, versicolor, virginica",
           "sepal length (cm)"
          ],
          [
           0.2873333333333334,
           "setosa, versicolor, virginica",
           "sepal length (cm)"
          ],
          [
           0.2873333333333334,
           "setosa, versicolor, virginica",
           "sepal length (cm)"
          ],
          [
           0.2873333333333334,
           "setosa, versicolor, virginica",
           "sepal length (cm)"
          ],
          [
           0.2873333333333334,
           "setosa, versicolor, virginica",
           "sepal length (cm)"
          ],
          [
           0.2873333333333334,
           "setosa, versicolor, virginica",
           "sepal length (cm)"
          ],
          [
           0.2873333333333334,
           "setosa, versicolor, virginica",
           "sepal length (cm)"
          ],
          [
           0.2873333333333334,
           "setosa, versicolor, virginica",
           "sepal length (cm)"
          ],
          [
           0.2873333333333334,
           "setosa, versicolor, virginica",
           "sepal length (cm)"
          ],
          [
           0.2873333333333334,
           "setosa, versicolor, virginica",
           "sepal length (cm)"
          ],
          [
           0.2873333333333334,
           "setosa, versicolor, virginica",
           "sepal length (cm)"
          ],
          [
           0.2873333333333334,
           "setosa, versicolor, virginica",
           "sepal length (cm)"
          ],
          [
           0.2873333333333334,
           "setosa, versicolor, virginica",
           "sepal length (cm)"
          ],
          [
           0.2873333333333334,
           "setosa, versicolor, virginica",
           "sepal length (cm)"
          ],
          [
           0.2873333333333334,
           "setosa, versicolor, virginica",
           "sepal length (cm)"
          ],
          [
           0.2873333333333334,
           "setosa, versicolor, virginica",
           "sepal length (cm)"
          ],
          [
           0.2873333333333334,
           "setosa, versicolor, virginica",
           "sepal length (cm)"
          ],
          [
           0.2873333333333334,
           "setosa, versicolor, virginica",
           "sepal length (cm)"
          ],
          [
           0.2873333333333334,
           "setosa, versicolor, virginica",
           "sepal length (cm)"
          ],
          [
           0.2873333333333334,
           "setosa, versicolor, virginica",
           "sepal length (cm)"
          ],
          [
           0.2873333333333334,
           "setosa, versicolor, virginica",
           "sepal length (cm)"
          ],
          [
           0.2873333333333334,
           "setosa, versicolor, virginica",
           "sepal length (cm)"
          ],
          [
           0.2873333333333334,
           "setosa, versicolor, virginica",
           "sepal length (cm)"
          ],
          [
           0.2873333333333334,
           "setosa, versicolor, virginica",
           "sepal length (cm)"
          ],
          [
           0.2873333333333334,
           "setosa, versicolor, virginica",
           "sepal length (cm)"
          ],
          [
           0.2873333333333334,
           "setosa, versicolor, virginica",
           "sepal length (cm)"
          ],
          [
           0.2873333333333334,
           "setosa, versicolor, virginica",
           "sepal length (cm)"
          ],
          [
           0.2873333333333334,
           "setosa, versicolor, virginica",
           "sepal length (cm)"
          ],
          [
           0.2873333333333334,
           "setosa, versicolor, virginica",
           "sepal length (cm)"
          ],
          [
           0.2873333333333334,
           "setosa, versicolor, virginica",
           "sepal length (cm)"
          ],
          [
           0.2873333333333334,
           "setosa, versicolor, virginica",
           "sepal length (cm)"
          ],
          [
           0.2873333333333334,
           "setosa, versicolor, virginica",
           "sepal length (cm)"
          ],
          [
           0.2873333333333334,
           "setosa, versicolor, virginica",
           "sepal length (cm)"
          ],
          [
           0.2873333333333334,
           "setosa, versicolor, virginica",
           "sepal length (cm)"
          ],
          [
           0.2873333333333334,
           "setosa, versicolor, virginica",
           "sepal length (cm)"
          ],
          [
           0.2873333333333334,
           "setosa, versicolor, virginica",
           "sepal length (cm)"
          ],
          [
           0.2873333333333334,
           "setosa, versicolor, virginica",
           "sepal length (cm)"
          ],
          [
           0.2873333333333334,
           "setosa, versicolor, virginica",
           "sepal length (cm)"
          ],
          [
           0.2873333333333334,
           "setosa, versicolor, virginica",
           "sepal length (cm)"
          ],
          [
           0.2873333333333334,
           "setosa, versicolor, virginica",
           "sepal length (cm)"
          ],
          [
           0.2873333333333334,
           "setosa, versicolor, virginica",
           "sepal length (cm)"
          ],
          [
           0.2873333333333334,
           "setosa, versicolor, virginica",
           "sepal length (cm)"
          ],
          [
           0.2873333333333334,
           "setosa, versicolor, virginica",
           "sepal length (cm)"
          ],
          [
           0.2873333333333334,
           "setosa, versicolor, virginica",
           "sepal length (cm)"
          ],
          [
           0.2873333333333334,
           "setosa, versicolor, virginica",
           "sepal length (cm)"
          ],
          [
           0.2873333333333334,
           "setosa, versicolor, virginica",
           "sepal length (cm)"
          ],
          [
           0.2873333333333334,
           "setosa, versicolor, virginica",
           "sepal length (cm)"
          ],
          [
           0.2873333333333334,
           "setosa, versicolor, virginica",
           "sepal length (cm)"
          ],
          [
           0.2873333333333334,
           "setosa, versicolor, virginica",
           "sepal length (cm)"
          ],
          [
           0.2873333333333334,
           "setosa, versicolor, virginica",
           "sepal length (cm)"
          ],
          [
           0.2873333333333334,
           "setosa, versicolor, virginica",
           "sepal length (cm)"
          ],
          [
           0.2873333333333334,
           "setosa, versicolor, virginica",
           "sepal length (cm)"
          ],
          [
           0.2873333333333334,
           "setosa, versicolor, virginica",
           "sepal length (cm)"
          ],
          [
           0.2873333333333334,
           "setosa, versicolor, virginica",
           "sepal length (cm)"
          ],
          [
           0.2873333333333334,
           "setosa, versicolor, virginica",
           "sepal length (cm)"
          ],
          [
           0.2873333333333334,
           "setosa, versicolor, virginica",
           "sepal length (cm)"
          ],
          [
           0.2873333333333334,
           "setosa, versicolor, virginica",
           "sepal length (cm)"
          ],
          [
           0.2873333333333334,
           "setosa, versicolor, virginica",
           "sepal length (cm)"
          ],
          [
           0.2873333333333334,
           "setosa, versicolor, virginica",
           "sepal length (cm)"
          ],
          [
           0.2873333333333334,
           "setosa, versicolor, virginica",
           "sepal length (cm)"
          ],
          [
           0.2873333333333334,
           "setosa, versicolor, virginica",
           "sepal length (cm)"
          ],
          [
           0.2873333333333334,
           "setosa, versicolor, virginica",
           "sepal length (cm)"
          ]
         ],
         "hovertemplate": "<b>%{hovertext}</b><br><br>prediction=%{y:.3f}<br>mean_prediction=%{customdata[0]:.3f}<extra></extra>",
         "hovertext": [
          "setosa, versicolor, virginica",
          "setosa, versicolor, virginica",
          "setosa, versicolor, virginica",
          "setosa, versicolor, virginica",
          "setosa, versicolor, virginica",
          "setosa, versicolor, virginica",
          "setosa, versicolor, virginica",
          "setosa, versicolor, virginica",
          "setosa, versicolor, virginica",
          "setosa, versicolor, virginica",
          "setosa, versicolor, virginica",
          "setosa, versicolor, virginica",
          "setosa, versicolor, virginica",
          "setosa, versicolor, virginica",
          "setosa, versicolor, virginica",
          "setosa, versicolor, virginica",
          "setosa, versicolor, virginica",
          "setosa, versicolor, virginica",
          "setosa, versicolor, virginica",
          "setosa, versicolor, virginica",
          "setosa, versicolor, virginica",
          "setosa, versicolor, virginica",
          "setosa, versicolor, virginica",
          "setosa, versicolor, virginica",
          "setosa, versicolor, virginica",
          "setosa, versicolor, virginica",
          "setosa, versicolor, virginica",
          "setosa, versicolor, virginica",
          "setosa, versicolor, virginica",
          "setosa, versicolor, virginica",
          "setosa, versicolor, virginica",
          "setosa, versicolor, virginica",
          "setosa, versicolor, virginica",
          "setosa, versicolor, virginica",
          "setosa, versicolor, virginica",
          "setosa, versicolor, virginica",
          "setosa, versicolor, virginica",
          "setosa, versicolor, virginica",
          "setosa, versicolor, virginica",
          "setosa, versicolor, virginica",
          "setosa, versicolor, virginica",
          "setosa, versicolor, virginica",
          "setosa, versicolor, virginica",
          "setosa, versicolor, virginica",
          "setosa, versicolor, virginica",
          "setosa, versicolor, virginica",
          "setosa, versicolor, virginica",
          "setosa, versicolor, virginica",
          "setosa, versicolor, virginica",
          "setosa, versicolor, virginica",
          "setosa, versicolor, virginica",
          "setosa, versicolor, virginica",
          "setosa, versicolor, virginica",
          "setosa, versicolor, virginica",
          "setosa, versicolor, virginica",
          "setosa, versicolor, virginica",
          "setosa, versicolor, virginica",
          "setosa, versicolor, virginica",
          "setosa, versicolor, virginica",
          "setosa, versicolor, virginica",
          "setosa, versicolor, virginica",
          "setosa, versicolor, virginica",
          "setosa, versicolor, virginica",
          "setosa, versicolor, virginica",
          "setosa, versicolor, virginica",
          "setosa, versicolor, virginica",
          "setosa, versicolor, virginica",
          "setosa, versicolor, virginica",
          "setosa, versicolor, virginica",
          "setosa, versicolor, virginica",
          "setosa, versicolor, virginica",
          "setosa, versicolor, virginica",
          "setosa, versicolor, virginica",
          "setosa, versicolor, virginica",
          "setosa, versicolor, virginica",
          "setosa, versicolor, virginica",
          "setosa, versicolor, virginica",
          "setosa, versicolor, virginica",
          "setosa, versicolor, virginica",
          "setosa, versicolor, virginica",
          "setosa, versicolor, virginica",
          "setosa, versicolor, virginica",
          "setosa, versicolor, virginica",
          "setosa, versicolor, virginica",
          "setosa, versicolor, virginica",
          "setosa, versicolor, virginica",
          "setosa, versicolor, virginica",
          "setosa, versicolor, virginica",
          "setosa, versicolor, virginica",
          "setosa, versicolor, virginica",
          "setosa, versicolor, virginica",
          "setosa, versicolor, virginica",
          "setosa, versicolor, virginica",
          "setosa, versicolor, virginica",
          "setosa, versicolor, virginica",
          "setosa, versicolor, virginica",
          "setosa, versicolor, virginica",
          "setosa, versicolor, virginica",
          "setosa, versicolor, virginica",
          "setosa, versicolor, virginica",
          "setosa, versicolor, virginica"
         ],
         "legendgroup": "setosa, versicolor, virginica",
         "line": {
          "color": "#46bac2",
          "dash": "solid",
          "width": 2
         },
         "marker": {
          "symbol": "circle"
         },
         "mode": "lines",
         "name": "setosa, versicolor, virginica",
         "opacity": 1,
         "orientation": "v",
         "showlegend": true,
         "type": "scatter",
         "x": [
          4.4,
          4.4350000000000005,
          4.470000000000001,
          4.505000000000001,
          4.54,
          4.575,
          4.61,
          4.6450000000000005,
          4.680000000000001,
          4.715000000000001,
          4.75,
          4.785,
          4.82,
          4.855,
          4.890000000000001,
          4.925000000000001,
          4.960000000000001,
          4.995,
          5.03,
          5.065,
          5.1000000000000005,
          5.135000000000001,
          5.17,
          5.205,
          5.24,
          5.275,
          5.3100000000000005,
          5.345000000000001,
          5.380000000000001,
          5.415000000000001,
          5.45,
          5.485,
          5.5200000000000005,
          5.555000000000001,
          5.590000000000001,
          5.625,
          5.66,
          5.695,
          5.73,
          5.765000000000001,
          5.800000000000001,
          5.835000000000001,
          5.870000000000001,
          5.905,
          5.94,
          5.9750000000000005,
          6.010000000000001,
          6.045000000000001,
          6.08,
          6.115,
          6.15,
          6.1850000000000005,
          6.220000000000001,
          6.255000000000001,
          6.290000000000001,
          6.325000000000001,
          6.36,
          6.3950000000000005,
          6.430000000000001,
          6.465000000000001,
          6.5,
          6.535,
          6.57,
          6.605,
          6.640000000000001,
          6.675000000000001,
          6.710000000000001,
          6.745000000000001,
          6.780000000000001,
          6.815,
          6.8500000000000005,
          6.885000000000001,
          6.920000000000001,
          6.955,
          6.99,
          7.025,
          7.0600000000000005,
          7.095000000000001,
          7.130000000000001,
          7.165000000000001,
          7.200000000000001,
          7.235000000000001,
          7.2700000000000005,
          7.305000000000001,
          7.340000000000001,
          7.375,
          7.41,
          7.445,
          7.48,
          7.515000000000001,
          7.550000000000001,
          7.585000000000001,
          7.620000000000001,
          7.655000000000001,
          7.690000000000001,
          7.7250000000000005,
          7.760000000000001,
          7.795000000000001,
          7.83,
          7.865,
          7.9
         ],
         "xaxis": "x",
         "y": [
          0.26266666666666666,
          0.26266666666666666,
          0.26266666666666666,
          0.26266666666666666,
          0.26266666666666666,
          0.26266666666666666,
          0.26266666666666666,
          0.26266666666666666,
          0.26266666666666666,
          0.26266666666666666,
          0.26266666666666666,
          0.26266666666666666,
          0.26266666666666666,
          0.26266666666666666,
          0.26266666666666666,
          0.26266666666666666,
          0.29733333333333334,
          0.29733333333333334,
          0.29733333333333334,
          0.29733333333333334,
          0.29733333333333334,
          0.29733333333333334,
          0.30377777777777776,
          0.30377777777777776,
          0.30377777777777776,
          0.31355555555555553,
          0.31355555555555553,
          0.31355555555555553,
          0.3164444444444445,
          0.31777777777777777,
          0.31777777777777777,
          0.3191111111111111,
          0.3191111111111111,
          0.3188888888888889,
          0.3188888888888889,
          0.3188888888888889,
          0.3188888888888889,
          0.3188888888888889,
          0.3188888888888889,
          0.31755555555555554,
          0.31755555555555554,
          0.31755555555555554,
          0.3277777777777778,
          0.32844444444444443,
          0.32844444444444443,
          0.32222222222222224,
          0.32222222222222224,
          0.32222222222222224,
          0.31555555555555553,
          0.3131111111111111,
          0.32733333333333337,
          0.32666666666666666,
          0.3268888888888889,
          0.32933333333333337,
          0.32933333333333337,
          0.32933333333333337,
          0.33511111111111114,
          0.33511111111111114,
          0.3406666666666667,
          0.3406666666666667,
          0.3406666666666667,
          0.34488888888888886,
          0.34488888888888886,
          0.3453333333333334,
          0.3453333333333334,
          0.3453333333333334,
          0.3453333333333334,
          0.3453333333333334,
          0.34488888888888886,
          0.34488888888888886,
          0.34488888888888886,
          0.34488888888888886,
          0.34488888888888886,
          0.34488888888888886,
          0.34488888888888886,
          0.34488888888888886,
          0.34022222222222226,
          0.34022222222222226,
          0.3373333333333333,
          0.3373333333333333,
          0.3373333333333333,
          0.3373333333333333,
          0.3373333333333333,
          0.3373333333333333,
          0.3373333333333333,
          0.3373333333333333,
          0.3373333333333333,
          0.3373333333333333,
          0.3373333333333333,
          0.3373333333333333,
          0.3373333333333333,
          0.3373333333333333,
          0.3373333333333333,
          0.3373333333333333,
          0.3373333333333333,
          0.3373333333333333,
          0.3373333333333333,
          0.3373333333333333,
          0.3373333333333333,
          0.3373333333333333,
          0.3373333333333333
         ],
         "yaxis": "y"
        }
       ],
       "layout": {
        "annotations": [
         {
          "font": {
           "size": 13
          },
          "showarrow": false,
          "text": "sepal length (cm)",
          "x": 0.5,
          "xanchor": "center",
          "xref": "paper",
          "y": 1,
          "yanchor": "bottom",
          "yref": "paper"
         },
         {
          "font": {
           "size": 13
          },
          "showarrow": false,
          "text": "prediction",
          "textangle": -90,
          "x": -0.07,
          "xref": "paper",
          "y": 0.5,
          "yref": "paper"
         }
        ],
        "font": {
         "color": "#371ea3"
        },
        "height": 489,
        "hovermode": "x unified",
        "legend": {
         "font": {
          "size": 11
         },
         "itemsizing": "constant",
         "orientation": "h",
         "title": {
          "font": {
           "size": 12
          },
          "text": "label"
         },
         "tracegroupgap": 0,
         "x": 1,
         "xanchor": "right",
         "y": 1.0613496932515338,
         "yanchor": "bottom"
        },
        "margin": {
         "b": 71,
         "r": 30,
         "t": 78
        },
        "template": {
         "data": {
          "scatter": [
           {
            "type": "scatter"
           }
          ]
         }
        },
        "title": {
         "font": {
          "size": 16
         },
         "text": "Aggregated Profiles",
         "x": 0.15
        },
        "xaxis": {
         "anchor": "y",
         "automargin": true,
         "domain": [
          0,
          1
         ],
         "fixedrange": true,
         "gridwidth": 2,
         "showticklabels": true,
         "tickcolor": "white",
         "ticklen": 3,
         "ticks": "outside",
         "title": {
          "text": ""
         },
         "type": "linear",
         "zeroline": false
        },
        "yaxis": {
         "anchor": "x",
         "automargin": true,
         "domain": [
          0,
          1
         ],
         "fixedrange": true,
         "gridwidth": 2,
         "range": [
          0.25439999999999996,
          0.3536
         ],
         "tickcolor": "white",
         "ticklen": 3,
         "ticks": "outside",
         "title": {
          "text": ""
         },
         "type": "linear",
         "zeroline": false
        }
       }
      }
     },
     "metadata": {},
     "output_type": "display_data"
    },
    {
     "name": "stdout",
     "output_type": "stream",
     "text": [
      "Ceteris Paribus\n"
     ]
    },
    {
     "name": "stderr",
     "output_type": "stream",
     "text": [
      "Calculating ceteris paribus: 100%|██████████| 4/4 [00:00<00:00, 118.18it/s]\n"
     ]
    },
    {
     "data": {
      "application/vnd.plotly.v1+json": {
       "config": {
        "displaylogo": false,
        "modeBarButtonsToRemove": [
         "sendDataToCloud",
         "lasso2d",
         "autoScale2d",
         "select2d",
         "zoom2d",
         "pan2d",
         "zoomIn2d",
         "zoomOut2d",
         "resetScale2d",
         "toggleSpikelines",
         "hoverCompareCartesian",
         "hoverClosestCartesian"
        ],
        "plotlyServerURL": "https://plot.ly",
        "staticPlot": false,
        "toImageButtonOptions": {
         "height": null,
         "width": null
        }
       },
       "data": [
        {
         "customdata": [
          [
           "</br>id: 73</br>prediction: 0.84</br>sepal length (cm): 4.4</br></br>sepal width (cm): 2.8</br>petal length (cm): 4.7</br>petal width (cm): 1.2</br>_original_yhat_: 0.97</br>"
          ],
          [
           "</br>id: 73</br>prediction: 0.84</br>sepal length (cm): 4.4350000000000005</br></br>sepal width (cm): 2.8</br>petal length (cm): 4.7</br>petal width (cm): 1.2</br>_original_yhat_: 0.97</br>"
          ],
          [
           "</br>id: 73</br>prediction: 0.84</br>sepal length (cm): 4.470000000000001</br></br>sepal width (cm): 2.8</br>petal length (cm): 4.7</br>petal width (cm): 1.2</br>_original_yhat_: 0.97</br>"
          ],
          [
           "</br>id: 73</br>prediction: 0.84</br>sepal length (cm): 4.505000000000001</br></br>sepal width (cm): 2.8</br>petal length (cm): 4.7</br>petal width (cm): 1.2</br>_original_yhat_: 0.97</br>"
          ],
          [
           "</br>id: 73</br>prediction: 0.84</br>sepal length (cm): 4.54</br></br>sepal width (cm): 2.8</br>petal length (cm): 4.7</br>petal width (cm): 1.2</br>_original_yhat_: 0.97</br>"
          ],
          [
           "</br>id: 73</br>prediction: 0.84</br>sepal length (cm): 4.575</br></br>sepal width (cm): 2.8</br>petal length (cm): 4.7</br>petal width (cm): 1.2</br>_original_yhat_: 0.97</br>"
          ],
          [
           "</br>id: 73</br>prediction: 0.84</br>sepal length (cm): 4.61</br></br>sepal width (cm): 2.8</br>petal length (cm): 4.7</br>petal width (cm): 1.2</br>_original_yhat_: 0.97</br>"
          ],
          [
           "</br>id: 73</br>prediction: 0.84</br>sepal length (cm): 4.6450000000000005</br></br>sepal width (cm): 2.8</br>petal length (cm): 4.7</br>petal width (cm): 1.2</br>_original_yhat_: 0.97</br>"
          ],
          [
           "</br>id: 73</br>prediction: 0.84</br>sepal length (cm): 4.680000000000001</br></br>sepal width (cm): 2.8</br>petal length (cm): 4.7</br>petal width (cm): 1.2</br>_original_yhat_: 0.97</br>"
          ],
          [
           "</br>id: 73</br>prediction: 0.84</br>sepal length (cm): 4.715000000000001</br></br>sepal width (cm): 2.8</br>petal length (cm): 4.7</br>petal width (cm): 1.2</br>_original_yhat_: 0.97</br>"
          ],
          [
           "</br>id: 73</br>prediction: 0.84</br>sepal length (cm): 4.75</br></br>sepal width (cm): 2.8</br>petal length (cm): 4.7</br>petal width (cm): 1.2</br>_original_yhat_: 0.97</br>"
          ],
          [
           "</br>id: 73</br>prediction: 0.84</br>sepal length (cm): 4.785</br></br>sepal width (cm): 2.8</br>petal length (cm): 4.7</br>petal width (cm): 1.2</br>_original_yhat_: 0.97</br>"
          ],
          [
           "</br>id: 73</br>prediction: 0.84</br>sepal length (cm): 4.82</br></br>sepal width (cm): 2.8</br>petal length (cm): 4.7</br>petal width (cm): 1.2</br>_original_yhat_: 0.97</br>"
          ],
          [
           "</br>id: 73</br>prediction: 0.84</br>sepal length (cm): 4.855</br></br>sepal width (cm): 2.8</br>petal length (cm): 4.7</br>petal width (cm): 1.2</br>_original_yhat_: 0.97</br>"
          ],
          [
           "</br>id: 73</br>prediction: 0.84</br>sepal length (cm): 4.890000000000001</br></br>sepal width (cm): 2.8</br>petal length (cm): 4.7</br>petal width (cm): 1.2</br>_original_yhat_: 0.97</br>"
          ],
          [
           "</br>id: 73</br>prediction: 0.84</br>sepal length (cm): 4.925000000000001</br></br>sepal width (cm): 2.8</br>petal length (cm): 4.7</br>petal width (cm): 1.2</br>_original_yhat_: 0.97</br>"
          ],
          [
           "</br>id: 73</br>prediction: 0.93</br>sepal length (cm): 4.960000000000001</br></br>sepal width (cm): 2.8</br>petal length (cm): 4.7</br>petal width (cm): 1.2</br>_original_yhat_: 0.97</br>"
          ],
          [
           "</br>id: 73</br>prediction: 0.93</br>sepal length (cm): 4.995</br></br>sepal width (cm): 2.8</br>petal length (cm): 4.7</br>petal width (cm): 1.2</br>_original_yhat_: 0.97</br>"
          ],
          [
           "</br>id: 73</br>prediction: 0.93</br>sepal length (cm): 5.03</br></br>sepal width (cm): 2.8</br>petal length (cm): 4.7</br>petal width (cm): 1.2</br>_original_yhat_: 0.97</br>"
          ],
          [
           "</br>id: 73</br>prediction: 0.93</br>sepal length (cm): 5.065</br></br>sepal width (cm): 2.8</br>petal length (cm): 4.7</br>petal width (cm): 1.2</br>_original_yhat_: 0.97</br>"
          ],
          [
           "</br>id: 73</br>prediction: 0.93</br>sepal length (cm): 5.1000000000000005</br></br>sepal width (cm): 2.8</br>petal length (cm): 4.7</br>petal width (cm): 1.2</br>_original_yhat_: 0.97</br>"
          ],
          [
           "</br>id: 73</br>prediction: 0.93</br>sepal length (cm): 5.135000000000001</br></br>sepal width (cm): 2.8</br>petal length (cm): 4.7</br>petal width (cm): 1.2</br>_original_yhat_: 0.97</br>"
          ],
          [
           "</br>id: 73</br>prediction: 0.96</br>sepal length (cm): 5.17</br></br>sepal width (cm): 2.8</br>petal length (cm): 4.7</br>petal width (cm): 1.2</br>_original_yhat_: 0.97</br>"
          ],
          [
           "</br>id: 73</br>prediction: 0.96</br>sepal length (cm): 5.205</br></br>sepal width (cm): 2.8</br>petal length (cm): 4.7</br>petal width (cm): 1.2</br>_original_yhat_: 0.97</br>"
          ],
          [
           "</br>id: 73</br>prediction: 0.96</br>sepal length (cm): 5.24</br></br>sepal width (cm): 2.8</br>petal length (cm): 4.7</br>petal width (cm): 1.2</br>_original_yhat_: 0.97</br>"
          ],
          [
           "</br>id: 73</br>prediction: 0.98</br>sepal length (cm): 5.275</br></br>sepal width (cm): 2.8</br>petal length (cm): 4.7</br>petal width (cm): 1.2</br>_original_yhat_: 0.97</br>"
          ],
          [
           "</br>id: 73</br>prediction: 0.98</br>sepal length (cm): 5.3100000000000005</br></br>sepal width (cm): 2.8</br>petal length (cm): 4.7</br>petal width (cm): 1.2</br>_original_yhat_: 0.97</br>"
          ],
          [
           "</br>id: 73</br>prediction: 0.98</br>sepal length (cm): 5.345000000000001</br></br>sepal width (cm): 2.8</br>petal length (cm): 4.7</br>petal width (cm): 1.2</br>_original_yhat_: 0.97</br>"
          ],
          [
           "</br>id: 73</br>prediction: 0.98</br>sepal length (cm): 5.380000000000001</br></br>sepal width (cm): 2.8</br>petal length (cm): 4.7</br>petal width (cm): 1.2</br>_original_yhat_: 0.97</br>"
          ],
          [
           "</br>id: 73</br>prediction: 0.98</br>sepal length (cm): 5.415000000000001</br></br>sepal width (cm): 2.8</br>petal length (cm): 4.7</br>petal width (cm): 1.2</br>_original_yhat_: 0.97</br>"
          ],
          [
           "</br>id: 73</br>prediction: 0.98</br>sepal length (cm): 5.45</br></br>sepal width (cm): 2.8</br>petal length (cm): 4.7</br>petal width (cm): 1.2</br>_original_yhat_: 0.97</br>"
          ],
          [
           "</br>id: 73</br>prediction: 0.98</br>sepal length (cm): 5.485</br></br>sepal width (cm): 2.8</br>petal length (cm): 4.7</br>petal width (cm): 1.2</br>_original_yhat_: 0.97</br>"
          ],
          [
           "</br>id: 73</br>prediction: 0.98</br>sepal length (cm): 5.5200000000000005</br></br>sepal width (cm): 2.8</br>petal length (cm): 4.7</br>petal width (cm): 1.2</br>_original_yhat_: 0.97</br>"
          ],
          [
           "</br>id: 73</br>prediction: 0.98</br>sepal length (cm): 5.555000000000001</br></br>sepal width (cm): 2.8</br>petal length (cm): 4.7</br>petal width (cm): 1.2</br>_original_yhat_: 0.97</br>"
          ],
          [
           "</br>id: 73</br>prediction: 0.98</br>sepal length (cm): 5.590000000000001</br></br>sepal width (cm): 2.8</br>petal length (cm): 4.7</br>petal width (cm): 1.2</br>_original_yhat_: 0.97</br>"
          ],
          [
           "</br>id: 73</br>prediction: 0.98</br>sepal length (cm): 5.625</br></br>sepal width (cm): 2.8</br>petal length (cm): 4.7</br>petal width (cm): 1.2</br>_original_yhat_: 0.97</br>"
          ],
          [
           "</br>id: 73</br>prediction: 0.98</br>sepal length (cm): 5.66</br></br>sepal width (cm): 2.8</br>petal length (cm): 4.7</br>petal width (cm): 1.2</br>_original_yhat_: 0.97</br>"
          ],
          [
           "</br>id: 73</br>prediction: 0.98</br>sepal length (cm): 5.695</br></br>sepal width (cm): 2.8</br>petal length (cm): 4.7</br>petal width (cm): 1.2</br>_original_yhat_: 0.97</br>"
          ],
          [
           "</br>id: 73</br>prediction: 0.98</br>sepal length (cm): 5.73</br></br>sepal width (cm): 2.8</br>petal length (cm): 4.7</br>petal width (cm): 1.2</br>_original_yhat_: 0.97</br>"
          ],
          [
           "</br>id: 73</br>prediction: 0.98</br>sepal length (cm): 5.765000000000001</br></br>sepal width (cm): 2.8</br>petal length (cm): 4.7</br>petal width (cm): 1.2</br>_original_yhat_: 0.97</br>"
          ],
          [
           "</br>id: 73</br>prediction: 0.98</br>sepal length (cm): 5.800000000000001</br></br>sepal width (cm): 2.8</br>petal length (cm): 4.7</br>petal width (cm): 1.2</br>_original_yhat_: 0.97</br>"
          ],
          [
           "</br>id: 73</br>prediction: 0.98</br>sepal length (cm): 5.835000000000001</br></br>sepal width (cm): 2.8</br>petal length (cm): 4.7</br>petal width (cm): 1.2</br>_original_yhat_: 0.97</br>"
          ],
          [
           "</br>id: 73</br>prediction: 0.98</br>sepal length (cm): 5.870000000000001</br></br>sepal width (cm): 2.8</br>petal length (cm): 4.7</br>petal width (cm): 1.2</br>_original_yhat_: 0.97</br>"
          ],
          [
           "</br>id: 73</br>prediction: 0.98</br>sepal length (cm): 5.905</br></br>sepal width (cm): 2.8</br>petal length (cm): 4.7</br>petal width (cm): 1.2</br>_original_yhat_: 0.97</br>"
          ],
          [
           "</br>id: 73</br>prediction: 0.98</br>sepal length (cm): 5.94</br></br>sepal width (cm): 2.8</br>petal length (cm): 4.7</br>petal width (cm): 1.2</br>_original_yhat_: 0.97</br>"
          ],
          [
           "</br>id: 73</br>prediction: 0.97</br>sepal length (cm): 5.9750000000000005</br></br>sepal width (cm): 2.8</br>petal length (cm): 4.7</br>petal width (cm): 1.2</br>_original_yhat_: 0.97</br>"
          ],
          [
           "</br>id: 73</br>prediction: 0.97</br>sepal length (cm): 6.010000000000001</br></br>sepal width (cm): 2.8</br>petal length (cm): 4.7</br>petal width (cm): 1.2</br>_original_yhat_: 0.97</br>"
          ],
          [
           "</br>id: 73</br>prediction: 0.97</br>sepal length (cm): 6.045000000000001</br></br>sepal width (cm): 2.8</br>petal length (cm): 4.7</br>petal width (cm): 1.2</br>_original_yhat_: 0.97</br>"
          ],
          [
           "</br>id: 73</br>prediction: 0.97</br>sepal length (cm): 6.08</br></br>sepal width (cm): 2.8</br>petal length (cm): 4.7</br>petal width (cm): 1.2</br>_original_yhat_: 0.97</br>"
          ],
          [
           "</br>id: 73</br>prediction: 0.97</br>sepal length (cm): 6.1</br></br>sepal width (cm): 2.8</br>petal length (cm): 4.7</br>petal width (cm): 1.2</br>_original_yhat_: 0.97</br>"
          ],
          [
           "</br>id: 73</br>prediction: 0.97</br>sepal length (cm): 6.115</br></br>sepal width (cm): 2.8</br>petal length (cm): 4.7</br>petal width (cm): 1.2</br>_original_yhat_: 0.97</br>"
          ],
          [
           "</br>id: 73</br>prediction: 0.97</br>sepal length (cm): 6.15</br></br>sepal width (cm): 2.8</br>petal length (cm): 4.7</br>petal width (cm): 1.2</br>_original_yhat_: 0.97</br>"
          ],
          [
           "</br>id: 73</br>prediction: 0.97</br>sepal length (cm): 6.1850000000000005</br></br>sepal width (cm): 2.8</br>petal length (cm): 4.7</br>petal width (cm): 1.2</br>_original_yhat_: 0.97</br>"
          ],
          [
           "</br>id: 73</br>prediction: 0.97</br>sepal length (cm): 6.220000000000001</br></br>sepal width (cm): 2.8</br>petal length (cm): 4.7</br>petal width (cm): 1.2</br>_original_yhat_: 0.97</br>"
          ],
          [
           "</br>id: 73</br>prediction: 0.97</br>sepal length (cm): 6.255000000000001</br></br>sepal width (cm): 2.8</br>petal length (cm): 4.7</br>petal width (cm): 1.2</br>_original_yhat_: 0.97</br>"
          ],
          [
           "</br>id: 73</br>prediction: 0.97</br>sepal length (cm): 6.290000000000001</br></br>sepal width (cm): 2.8</br>petal length (cm): 4.7</br>petal width (cm): 1.2</br>_original_yhat_: 0.97</br>"
          ],
          [
           "</br>id: 73</br>prediction: 0.97</br>sepal length (cm): 6.325000000000001</br></br>sepal width (cm): 2.8</br>petal length (cm): 4.7</br>petal width (cm): 1.2</br>_original_yhat_: 0.97</br>"
          ],
          [
           "</br>id: 73</br>prediction: 0.98</br>sepal length (cm): 6.36</br></br>sepal width (cm): 2.8</br>petal length (cm): 4.7</br>petal width (cm): 1.2</br>_original_yhat_: 0.97</br>"
          ],
          [
           "</br>id: 73</br>prediction: 0.98</br>sepal length (cm): 6.3950000000000005</br></br>sepal width (cm): 2.8</br>petal length (cm): 4.7</br>petal width (cm): 1.2</br>_original_yhat_: 0.97</br>"
          ],
          [
           "</br>id: 73</br>prediction: 0.99</br>sepal length (cm): 6.430000000000001</br></br>sepal width (cm): 2.8</br>petal length (cm): 4.7</br>petal width (cm): 1.2</br>_original_yhat_: 0.97</br>"
          ],
          [
           "</br>id: 73</br>prediction: 0.99</br>sepal length (cm): 6.465000000000001</br></br>sepal width (cm): 2.8</br>petal length (cm): 4.7</br>petal width (cm): 1.2</br>_original_yhat_: 0.97</br>"
          ],
          [
           "</br>id: 73</br>prediction: 0.99</br>sepal length (cm): 6.5</br></br>sepal width (cm): 2.8</br>petal length (cm): 4.7</br>petal width (cm): 1.2</br>_original_yhat_: 0.97</br>"
          ],
          [
           "</br>id: 73</br>prediction: 0.99</br>sepal length (cm): 6.535</br></br>sepal width (cm): 2.8</br>petal length (cm): 4.7</br>petal width (cm): 1.2</br>_original_yhat_: 0.97</br>"
          ],
          [
           "</br>id: 73</br>prediction: 0.99</br>sepal length (cm): 6.57</br></br>sepal width (cm): 2.8</br>petal length (cm): 4.7</br>petal width (cm): 1.2</br>_original_yhat_: 0.97</br>"
          ],
          [
           "</br>id: 73</br>prediction: 0.99</br>sepal length (cm): 6.605</br></br>sepal width (cm): 2.8</br>petal length (cm): 4.7</br>petal width (cm): 1.2</br>_original_yhat_: 0.97</br>"
          ],
          [
           "</br>id: 73</br>prediction: 0.99</br>sepal length (cm): 6.640000000000001</br></br>sepal width (cm): 2.8</br>petal length (cm): 4.7</br>petal width (cm): 1.2</br>_original_yhat_: 0.97</br>"
          ],
          [
           "</br>id: 73</br>prediction: 0.99</br>sepal length (cm): 6.675000000000001</br></br>sepal width (cm): 2.8</br>petal length (cm): 4.7</br>petal width (cm): 1.2</br>_original_yhat_: 0.97</br>"
          ],
          [
           "</br>id: 73</br>prediction: 0.99</br>sepal length (cm): 6.710000000000001</br></br>sepal width (cm): 2.8</br>petal length (cm): 4.7</br>petal width (cm): 1.2</br>_original_yhat_: 0.97</br>"
          ],
          [
           "</br>id: 73</br>prediction: 0.99</br>sepal length (cm): 6.745000000000001</br></br>sepal width (cm): 2.8</br>petal length (cm): 4.7</br>petal width (cm): 1.2</br>_original_yhat_: 0.97</br>"
          ],
          [
           "</br>id: 73</br>prediction: 0.99</br>sepal length (cm): 6.780000000000001</br></br>sepal width (cm): 2.8</br>petal length (cm): 4.7</br>petal width (cm): 1.2</br>_original_yhat_: 0.97</br>"
          ],
          [
           "</br>id: 73</br>prediction: 0.99</br>sepal length (cm): 6.815</br></br>sepal width (cm): 2.8</br>petal length (cm): 4.7</br>petal width (cm): 1.2</br>_original_yhat_: 0.97</br>"
          ],
          [
           "</br>id: 73</br>prediction: 0.99</br>sepal length (cm): 6.8500000000000005</br></br>sepal width (cm): 2.8</br>petal length (cm): 4.7</br>petal width (cm): 1.2</br>_original_yhat_: 0.97</br>"
          ],
          [
           "</br>id: 73</br>prediction: 0.99</br>sepal length (cm): 6.885000000000001</br></br>sepal width (cm): 2.8</br>petal length (cm): 4.7</br>petal width (cm): 1.2</br>_original_yhat_: 0.97</br>"
          ],
          [
           "</br>id: 73</br>prediction: 0.99</br>sepal length (cm): 6.920000000000001</br></br>sepal width (cm): 2.8</br>petal length (cm): 4.7</br>petal width (cm): 1.2</br>_original_yhat_: 0.97</br>"
          ],
          [
           "</br>id: 73</br>prediction: 0.99</br>sepal length (cm): 6.955</br></br>sepal width (cm): 2.8</br>petal length (cm): 4.7</br>petal width (cm): 1.2</br>_original_yhat_: 0.97</br>"
          ],
          [
           "</br>id: 73</br>prediction: 0.99</br>sepal length (cm): 6.99</br></br>sepal width (cm): 2.8</br>petal length (cm): 4.7</br>petal width (cm): 1.2</br>_original_yhat_: 0.97</br>"
          ],
          [
           "</br>id: 73</br>prediction: 0.99</br>sepal length (cm): 7.025</br></br>sepal width (cm): 2.8</br>petal length (cm): 4.7</br>petal width (cm): 1.2</br>_original_yhat_: 0.97</br>"
          ],
          [
           "</br>id: 73</br>prediction: 0.98</br>sepal length (cm): 7.0600000000000005</br></br>sepal width (cm): 2.8</br>petal length (cm): 4.7</br>petal width (cm): 1.2</br>_original_yhat_: 0.97</br>"
          ],
          [
           "</br>id: 73</br>prediction: 0.98</br>sepal length (cm): 7.095000000000001</br></br>sepal width (cm): 2.8</br>petal length (cm): 4.7</br>petal width (cm): 1.2</br>_original_yhat_: 0.97</br>"
          ],
          [
           "</br>id: 73</br>prediction: 0.97</br>sepal length (cm): 7.130000000000001</br></br>sepal width (cm): 2.8</br>petal length (cm): 4.7</br>petal width (cm): 1.2</br>_original_yhat_: 0.97</br>"
          ],
          [
           "</br>id: 73</br>prediction: 0.97</br>sepal length (cm): 7.165000000000001</br></br>sepal width (cm): 2.8</br>petal length (cm): 4.7</br>petal width (cm): 1.2</br>_original_yhat_: 0.97</br>"
          ],
          [
           "</br>id: 73</br>prediction: 0.97</br>sepal length (cm): 7.200000000000001</br></br>sepal width (cm): 2.8</br>petal length (cm): 4.7</br>petal width (cm): 1.2</br>_original_yhat_: 0.97</br>"
          ],
          [
           "</br>id: 73</br>prediction: 0.97</br>sepal length (cm): 7.235000000000001</br></br>sepal width (cm): 2.8</br>petal length (cm): 4.7</br>petal width (cm): 1.2</br>_original_yhat_: 0.97</br>"
          ],
          [
           "</br>id: 73</br>prediction: 0.97</br>sepal length (cm): 7.2700000000000005</br></br>sepal width (cm): 2.8</br>petal length (cm): 4.7</br>petal width (cm): 1.2</br>_original_yhat_: 0.97</br>"
          ],
          [
           "</br>id: 73</br>prediction: 0.97</br>sepal length (cm): 7.305000000000001</br></br>sepal width (cm): 2.8</br>petal length (cm): 4.7</br>petal width (cm): 1.2</br>_original_yhat_: 0.97</br>"
          ],
          [
           "</br>id: 73</br>prediction: 0.97</br>sepal length (cm): 7.340000000000001</br></br>sepal width (cm): 2.8</br>petal length (cm): 4.7</br>petal width (cm): 1.2</br>_original_yhat_: 0.97</br>"
          ],
          [
           "</br>id: 73</br>prediction: 0.97</br>sepal length (cm): 7.375</br></br>sepal width (cm): 2.8</br>petal length (cm): 4.7</br>petal width (cm): 1.2</br>_original_yhat_: 0.97</br>"
          ],
          [
           "</br>id: 73</br>prediction: 0.97</br>sepal length (cm): 7.41</br></br>sepal width (cm): 2.8</br>petal length (cm): 4.7</br>petal width (cm): 1.2</br>_original_yhat_: 0.97</br>"
          ],
          [
           "</br>id: 73</br>prediction: 0.97</br>sepal length (cm): 7.445</br></br>sepal width (cm): 2.8</br>petal length (cm): 4.7</br>petal width (cm): 1.2</br>_original_yhat_: 0.97</br>"
          ],
          [
           "</br>id: 73</br>prediction: 0.97</br>sepal length (cm): 7.48</br></br>sepal width (cm): 2.8</br>petal length (cm): 4.7</br>petal width (cm): 1.2</br>_original_yhat_: 0.97</br>"
          ],
          [
           "</br>id: 73</br>prediction: 0.97</br>sepal length (cm): 7.515000000000001</br></br>sepal width (cm): 2.8</br>petal length (cm): 4.7</br>petal width (cm): 1.2</br>_original_yhat_: 0.97</br>"
          ],
          [
           "</br>id: 73</br>prediction: 0.97</br>sepal length (cm): 7.550000000000001</br></br>sepal width (cm): 2.8</br>petal length (cm): 4.7</br>petal width (cm): 1.2</br>_original_yhat_: 0.97</br>"
          ],
          [
           "</br>id: 73</br>prediction: 0.97</br>sepal length (cm): 7.585000000000001</br></br>sepal width (cm): 2.8</br>petal length (cm): 4.7</br>petal width (cm): 1.2</br>_original_yhat_: 0.97</br>"
          ],
          [
           "</br>id: 73</br>prediction: 0.97</br>sepal length (cm): 7.620000000000001</br></br>sepal width (cm): 2.8</br>petal length (cm): 4.7</br>petal width (cm): 1.2</br>_original_yhat_: 0.97</br>"
          ],
          [
           "</br>id: 73</br>prediction: 0.97</br>sepal length (cm): 7.655000000000001</br></br>sepal width (cm): 2.8</br>petal length (cm): 4.7</br>petal width (cm): 1.2</br>_original_yhat_: 0.97</br>"
          ],
          [
           "</br>id: 73</br>prediction: 0.97</br>sepal length (cm): 7.690000000000001</br></br>sepal width (cm): 2.8</br>petal length (cm): 4.7</br>petal width (cm): 1.2</br>_original_yhat_: 0.97</br>"
          ],
          [
           "</br>id: 73</br>prediction: 0.97</br>sepal length (cm): 7.7250000000000005</br></br>sepal width (cm): 2.8</br>petal length (cm): 4.7</br>petal width (cm): 1.2</br>_original_yhat_: 0.97</br>"
          ],
          [
           "</br>id: 73</br>prediction: 0.97</br>sepal length (cm): 7.760000000000001</br></br>sepal width (cm): 2.8</br>petal length (cm): 4.7</br>petal width (cm): 1.2</br>_original_yhat_: 0.97</br>"
          ],
          [
           "</br>id: 73</br>prediction: 0.97</br>sepal length (cm): 7.795000000000001</br></br>sepal width (cm): 2.8</br>petal length (cm): 4.7</br>petal width (cm): 1.2</br>_original_yhat_: 0.97</br>"
          ],
          [
           "</br>id: 73</br>prediction: 0.97</br>sepal length (cm): 7.83</br></br>sepal width (cm): 2.8</br>petal length (cm): 4.7</br>petal width (cm): 1.2</br>_original_yhat_: 0.97</br>"
          ],
          [
           "</br>id: 73</br>prediction: 0.97</br>sepal length (cm): 7.865</br></br>sepal width (cm): 2.8</br>petal length (cm): 4.7</br>petal width (cm): 1.2</br>_original_yhat_: 0.97</br>"
          ],
          [
           "</br>id: 73</br>prediction: 0.97</br>sepal length (cm): 7.9</br></br>sepal width (cm): 2.8</br>petal length (cm): 4.7</br>petal width (cm): 1.2</br>_original_yhat_: 0.97</br>"
          ]
         ],
         "hovertemplate": "%{customdata[0]}<extra></extra>",
         "legendgroup": "setosa, versicolor, virginica",
         "line": {
          "color": "#46bac2",
          "dash": "solid",
          "width": 2
         },
         "marker": {
          "symbol": "circle"
         },
         "mode": "lines",
         "name": "setosa, versicolor, virginica",
         "opacity": 1,
         "orientation": "v",
         "showlegend": true,
         "type": "scatter",
         "x": [
          4.4,
          4.4350000000000005,
          4.470000000000001,
          4.505000000000001,
          4.54,
          4.575,
          4.61,
          4.6450000000000005,
          4.680000000000001,
          4.715000000000001,
          4.75,
          4.785,
          4.82,
          4.855,
          4.890000000000001,
          4.925000000000001,
          4.960000000000001,
          4.995,
          5.03,
          5.065,
          5.1000000000000005,
          5.135000000000001,
          5.17,
          5.205,
          5.24,
          5.275,
          5.3100000000000005,
          5.345000000000001,
          5.380000000000001,
          5.415000000000001,
          5.45,
          5.485,
          5.5200000000000005,
          5.555000000000001,
          5.590000000000001,
          5.625,
          5.66,
          5.695,
          5.73,
          5.765000000000001,
          5.800000000000001,
          5.835000000000001,
          5.870000000000001,
          5.905,
          5.94,
          5.9750000000000005,
          6.010000000000001,
          6.045000000000001,
          6.08,
          6.1,
          6.115,
          6.15,
          6.1850000000000005,
          6.220000000000001,
          6.255000000000001,
          6.290000000000001,
          6.325000000000001,
          6.36,
          6.3950000000000005,
          6.430000000000001,
          6.465000000000001,
          6.5,
          6.535,
          6.57,
          6.605,
          6.640000000000001,
          6.675000000000001,
          6.710000000000001,
          6.745000000000001,
          6.780000000000001,
          6.815,
          6.8500000000000005,
          6.885000000000001,
          6.920000000000001,
          6.955,
          6.99,
          7.025,
          7.0600000000000005,
          7.095000000000001,
          7.130000000000001,
          7.165000000000001,
          7.200000000000001,
          7.235000000000001,
          7.2700000000000005,
          7.305000000000001,
          7.340000000000001,
          7.375,
          7.41,
          7.445,
          7.48,
          7.515000000000001,
          7.550000000000001,
          7.585000000000001,
          7.620000000000001,
          7.655000000000001,
          7.690000000000001,
          7.7250000000000005,
          7.760000000000001,
          7.795000000000001,
          7.83,
          7.865,
          7.9
         ],
         "xaxis": "x3",
         "y": [
          0.84,
          0.84,
          0.84,
          0.84,
          0.84,
          0.84,
          0.84,
          0.84,
          0.84,
          0.84,
          0.84,
          0.84,
          0.84,
          0.84,
          0.84,
          0.84,
          0.93,
          0.93,
          0.93,
          0.93,
          0.93,
          0.93,
          0.96,
          0.96,
          0.96,
          0.98,
          0.98,
          0.98,
          0.98,
          0.98,
          0.98,
          0.98,
          0.98,
          0.98,
          0.98,
          0.98,
          0.98,
          0.98,
          0.98,
          0.98,
          0.98,
          0.98,
          0.98,
          0.98,
          0.98,
          0.97,
          0.97,
          0.97,
          0.97,
          0.97,
          0.97,
          0.97,
          0.97,
          0.97,
          0.97,
          0.97,
          0.97,
          0.98,
          0.98,
          0.99,
          0.99,
          0.99,
          0.99,
          0.99,
          0.99,
          0.99,
          0.99,
          0.99,
          0.99,
          0.99,
          0.99,
          0.99,
          0.99,
          0.99,
          0.99,
          0.99,
          0.99,
          0.98,
          0.98,
          0.97,
          0.97,
          0.97,
          0.97,
          0.97,
          0.97,
          0.97,
          0.97,
          0.97,
          0.97,
          0.97,
          0.97,
          0.97,
          0.97,
          0.97,
          0.97,
          0.97,
          0.97,
          0.97,
          0.97,
          0.97,
          0.97,
          0.97
         ],
         "yaxis": "y3"
        },
        {
         "customdata": [
          [
           "</br>id: 73</br>prediction: 0.93</br>sepal width (cm): 2.2</br></br>sepal length (cm): 6.1</br>petal length (cm): 4.7</br>petal width (cm): 1.2</br>_original_yhat_: 0.97</br>"
          ],
          [
           "</br>id: 73</br>prediction: 0.93</br>sepal width (cm): 2.222</br></br>sepal length (cm): 6.1</br>petal length (cm): 4.7</br>petal width (cm): 1.2</br>_original_yhat_: 0.97</br>"
          ],
          [
           "</br>id: 73</br>prediction: 0.93</br>sepal width (cm): 2.244</br></br>sepal length (cm): 6.1</br>petal length (cm): 4.7</br>petal width (cm): 1.2</br>_original_yhat_: 0.97</br>"
          ],
          [
           "</br>id: 73</br>prediction: 0.95</br>sepal width (cm): 2.266</br></br>sepal length (cm): 6.1</br>petal length (cm): 4.7</br>petal width (cm): 1.2</br>_original_yhat_: 0.97</br>"
          ],
          [
           "</br>id: 73</br>prediction: 0.95</br>sepal width (cm): 2.2880000000000003</br></br>sepal length (cm): 6.1</br>petal length (cm): 4.7</br>petal width (cm): 1.2</br>_original_yhat_: 0.97</br>"
          ],
          [
           "</br>id: 73</br>prediction: 0.95</br>sepal width (cm): 2.31</br></br>sepal length (cm): 6.1</br>petal length (cm): 4.7</br>petal width (cm): 1.2</br>_original_yhat_: 0.97</br>"
          ],
          [
           "</br>id: 73</br>prediction: 0.95</br>sepal width (cm): 2.3320000000000003</br></br>sepal length (cm): 6.1</br>petal length (cm): 4.7</br>petal width (cm): 1.2</br>_original_yhat_: 0.97</br>"
          ],
          [
           "</br>id: 73</br>prediction: 0.96</br>sepal width (cm): 2.354</br></br>sepal length (cm): 6.1</br>petal length (cm): 4.7</br>petal width (cm): 1.2</br>_original_yhat_: 0.97</br>"
          ],
          [
           "</br>id: 73</br>prediction: 0.96</br>sepal width (cm): 2.3760000000000003</br></br>sepal length (cm): 6.1</br>petal length (cm): 4.7</br>petal width (cm): 1.2</br>_original_yhat_: 0.97</br>"
          ],
          [
           "</br>id: 73</br>prediction: 0.96</br>sepal width (cm): 2.398</br></br>sepal length (cm): 6.1</br>petal length (cm): 4.7</br>petal width (cm): 1.2</br>_original_yhat_: 0.97</br>"
          ],
          [
           "</br>id: 73</br>prediction: 0.96</br>sepal width (cm): 2.4200000000000004</br></br>sepal length (cm): 6.1</br>petal length (cm): 4.7</br>petal width (cm): 1.2</br>_original_yhat_: 0.97</br>"
          ],
          [
           "</br>id: 73</br>prediction: 0.96</br>sepal width (cm): 2.442</br></br>sepal length (cm): 6.1</br>petal length (cm): 4.7</br>petal width (cm): 1.2</br>_original_yhat_: 0.97</br>"
          ],
          [
           "</br>id: 73</br>prediction: 0.96</br>sepal width (cm): 2.4640000000000004</br></br>sepal length (cm): 6.1</br>petal length (cm): 4.7</br>petal width (cm): 1.2</br>_original_yhat_: 0.97</br>"
          ],
          [
           "</br>id: 73</br>prediction: 0.96</br>sepal width (cm): 2.486</br></br>sepal length (cm): 6.1</br>petal length (cm): 4.7</br>petal width (cm): 1.2</br>_original_yhat_: 0.97</br>"
          ],
          [
           "</br>id: 73</br>prediction: 0.96</br>sepal width (cm): 2.508</br></br>sepal length (cm): 6.1</br>petal length (cm): 4.7</br>petal width (cm): 1.2</br>_original_yhat_: 0.97</br>"
          ],
          [
           "</br>id: 73</br>prediction: 0.96</br>sepal width (cm): 2.5300000000000002</br></br>sepal length (cm): 6.1</br>petal length (cm): 4.7</br>petal width (cm): 1.2</br>_original_yhat_: 0.97</br>"
          ],
          [
           "</br>id: 73</br>prediction: 0.95</br>sepal width (cm): 2.552</br></br>sepal length (cm): 6.1</br>petal length (cm): 4.7</br>petal width (cm): 1.2</br>_original_yhat_: 0.97</br>"
          ],
          [
           "</br>id: 73</br>prediction: 0.95</br>sepal width (cm): 2.5740000000000003</br></br>sepal length (cm): 6.1</br>petal length (cm): 4.7</br>petal width (cm): 1.2</br>_original_yhat_: 0.97</br>"
          ],
          [
           "</br>id: 73</br>prediction: 0.95</br>sepal width (cm): 2.596</br></br>sepal length (cm): 6.1</br>petal length (cm): 4.7</br>petal width (cm): 1.2</br>_original_yhat_: 0.97</br>"
          ],
          [
           "</br>id: 73</br>prediction: 0.95</br>sepal width (cm): 2.6180000000000003</br></br>sepal length (cm): 6.1</br>petal length (cm): 4.7</br>petal width (cm): 1.2</br>_original_yhat_: 0.97</br>"
          ],
          [
           "</br>id: 73</br>prediction: 0.95</br>sepal width (cm): 2.64</br></br>sepal length (cm): 6.1</br>petal length (cm): 4.7</br>petal width (cm): 1.2</br>_original_yhat_: 0.97</br>"
          ],
          [
           "</br>id: 73</br>prediction: 0.97</br>sepal width (cm): 2.6620000000000004</br></br>sepal length (cm): 6.1</br>petal length (cm): 4.7</br>petal width (cm): 1.2</br>_original_yhat_: 0.97</br>"
          ],
          [
           "</br>id: 73</br>prediction: 0.97</br>sepal width (cm): 2.684</br></br>sepal length (cm): 6.1</br>petal length (cm): 4.7</br>petal width (cm): 1.2</br>_original_yhat_: 0.97</br>"
          ],
          [
           "</br>id: 73</br>prediction: 0.98</br>sepal width (cm): 2.7060000000000004</br></br>sepal length (cm): 6.1</br>petal length (cm): 4.7</br>petal width (cm): 1.2</br>_original_yhat_: 0.97</br>"
          ],
          [
           "</br>id: 73</br>prediction: 0.98</br>sepal width (cm): 2.728</br></br>sepal length (cm): 6.1</br>petal length (cm): 4.7</br>petal width (cm): 1.2</br>_original_yhat_: 0.97</br>"
          ],
          [
           "</br>id: 73</br>prediction: 0.98</br>sepal width (cm): 2.75</br></br>sepal length (cm): 6.1</br>petal length (cm): 4.7</br>petal width (cm): 1.2</br>_original_yhat_: 0.97</br>"
          ],
          [
           "</br>id: 73</br>prediction: 0.97</br>sepal width (cm): 2.7720000000000002</br></br>sepal length (cm): 6.1</br>petal length (cm): 4.7</br>petal width (cm): 1.2</br>_original_yhat_: 0.97</br>"
          ],
          [
           "</br>id: 73</br>prediction: 0.97</br>sepal width (cm): 2.7940000000000005</br></br>sepal length (cm): 6.1</br>petal length (cm): 4.7</br>petal width (cm): 1.2</br>_original_yhat_: 0.97</br>"
          ],
          [
           "</br>id: 73</br>prediction: 0.97</br>sepal width (cm): 2.8</br></br>sepal length (cm): 6.1</br>petal length (cm): 4.7</br>petal width (cm): 1.2</br>_original_yhat_: 0.97</br>"
          ],
          [
           "</br>id: 73</br>prediction: 0.97</br>sepal width (cm): 2.8160000000000003</br></br>sepal length (cm): 6.1</br>petal length (cm): 4.7</br>petal width (cm): 1.2</br>_original_yhat_: 0.97</br>"
          ],
          [
           "</br>id: 73</br>prediction: 0.97</br>sepal width (cm): 2.838</br></br>sepal length (cm): 6.1</br>petal length (cm): 4.7</br>petal width (cm): 1.2</br>_original_yhat_: 0.97</br>"
          ],
          [
           "</br>id: 73</br>prediction: 1.0</br>sepal width (cm): 2.8600000000000003</br></br>sepal length (cm): 6.1</br>petal length (cm): 4.7</br>petal width (cm): 1.2</br>_original_yhat_: 0.97</br>"
          ],
          [
           "</br>id: 73</br>prediction: 1.0</br>sepal width (cm): 2.882</br></br>sepal length (cm): 6.1</br>petal length (cm): 4.7</br>petal width (cm): 1.2</br>_original_yhat_: 0.97</br>"
          ],
          [
           "</br>id: 73</br>prediction: 1.0</br>sepal width (cm): 2.9040000000000004</br></br>sepal length (cm): 6.1</br>petal length (cm): 4.7</br>petal width (cm): 1.2</br>_original_yhat_: 0.97</br>"
          ],
          [
           "</br>id: 73</br>prediction: 1.0</br>sepal width (cm): 2.926</br></br>sepal length (cm): 6.1</br>petal length (cm): 4.7</br>petal width (cm): 1.2</br>_original_yhat_: 0.97</br>"
          ],
          [
           "</br>id: 73</br>prediction: 1.0</br>sepal width (cm): 2.9480000000000004</br></br>sepal length (cm): 6.1</br>petal length (cm): 4.7</br>petal width (cm): 1.2</br>_original_yhat_: 0.97</br>"
          ],
          [
           "</br>id: 73</br>prediction: 1.0</br>sepal width (cm): 2.97</br></br>sepal length (cm): 6.1</br>petal length (cm): 4.7</br>petal width (cm): 1.2</br>_original_yhat_: 0.97</br>"
          ],
          [
           "</br>id: 73</br>prediction: 1.0</br>sepal width (cm): 2.992</br></br>sepal length (cm): 6.1</br>petal length (cm): 4.7</br>petal width (cm): 1.2</br>_original_yhat_: 0.97</br>"
          ],
          [
           "</br>id: 73</br>prediction: 1.0</br>sepal width (cm): 3.0140000000000002</br></br>sepal length (cm): 6.1</br>petal length (cm): 4.7</br>petal width (cm): 1.2</br>_original_yhat_: 0.97</br>"
          ],
          [
           "</br>id: 73</br>prediction: 1.0</br>sepal width (cm): 3.0360000000000005</br></br>sepal length (cm): 6.1</br>petal length (cm): 4.7</br>petal width (cm): 1.2</br>_original_yhat_: 0.97</br>"
          ],
          [
           "</br>id: 73</br>prediction: 1.0</br>sepal width (cm): 3.0580000000000003</br></br>sepal length (cm): 6.1</br>petal length (cm): 4.7</br>petal width (cm): 1.2</br>_original_yhat_: 0.97</br>"
          ],
          [
           "</br>id: 73</br>prediction: 1.0</br>sepal width (cm): 3.08</br></br>sepal length (cm): 6.1</br>petal length (cm): 4.7</br>petal width (cm): 1.2</br>_original_yhat_: 0.97</br>"
          ],
          [
           "</br>id: 73</br>prediction: 1.0</br>sepal width (cm): 3.1020000000000003</br></br>sepal length (cm): 6.1</br>petal length (cm): 4.7</br>petal width (cm): 1.2</br>_original_yhat_: 0.97</br>"
          ],
          [
           "</br>id: 73</br>prediction: 1.0</br>sepal width (cm): 3.124</br></br>sepal length (cm): 6.1</br>petal length (cm): 4.7</br>petal width (cm): 1.2</br>_original_yhat_: 0.97</br>"
          ],
          [
           "</br>id: 73</br>prediction: 1.0</br>sepal width (cm): 3.1460000000000004</br></br>sepal length (cm): 6.1</br>petal length (cm): 4.7</br>petal width (cm): 1.2</br>_original_yhat_: 0.97</br>"
          ],
          [
           "</br>id: 73</br>prediction: 1.0</br>sepal width (cm): 3.168</br></br>sepal length (cm): 6.1</br>petal length (cm): 4.7</br>petal width (cm): 1.2</br>_original_yhat_: 0.97</br>"
          ],
          [
           "</br>id: 73</br>prediction: 1.0</br>sepal width (cm): 3.1900000000000004</br></br>sepal length (cm): 6.1</br>petal length (cm): 4.7</br>petal width (cm): 1.2</br>_original_yhat_: 0.97</br>"
          ],
          [
           "</br>id: 73</br>prediction: 1.0</br>sepal width (cm): 3.212</br></br>sepal length (cm): 6.1</br>petal length (cm): 4.7</br>petal width (cm): 1.2</br>_original_yhat_: 0.97</br>"
          ],
          [
           "</br>id: 73</br>prediction: 1.0</br>sepal width (cm): 3.234</br></br>sepal length (cm): 6.1</br>petal length (cm): 4.7</br>petal width (cm): 1.2</br>_original_yhat_: 0.97</br>"
          ],
          [
           "</br>id: 73</br>prediction: 0.97</br>sepal width (cm): 3.2560000000000002</br></br>sepal length (cm): 6.1</br>petal length (cm): 4.7</br>petal width (cm): 1.2</br>_original_yhat_: 0.97</br>"
          ],
          [
           "</br>id: 73</br>prediction: 0.97</br>sepal width (cm): 3.2780000000000005</br></br>sepal length (cm): 6.1</br>petal length (cm): 4.7</br>petal width (cm): 1.2</br>_original_yhat_: 0.97</br>"
          ],
          [
           "</br>id: 73</br>prediction: 0.97</br>sepal width (cm): 3.3000000000000003</br></br>sepal length (cm): 6.1</br>petal length (cm): 4.7</br>petal width (cm): 1.2</br>_original_yhat_: 0.97</br>"
          ],
          [
           "</br>id: 73</br>prediction: 0.96</br>sepal width (cm): 3.322</br></br>sepal length (cm): 6.1</br>petal length (cm): 4.7</br>petal width (cm): 1.2</br>_original_yhat_: 0.97</br>"
          ],
          [
           "</br>id: 73</br>prediction: 0.96</br>sepal width (cm): 3.3440000000000003</br></br>sepal length (cm): 6.1</br>petal length (cm): 4.7</br>petal width (cm): 1.2</br>_original_yhat_: 0.97</br>"
          ],
          [
           "</br>id: 73</br>prediction: 0.96</br>sepal width (cm): 3.3660000000000005</br></br>sepal length (cm): 6.1</br>petal length (cm): 4.7</br>petal width (cm): 1.2</br>_original_yhat_: 0.97</br>"
          ],
          [
           "</br>id: 73</br>prediction: 0.96</br>sepal width (cm): 3.3880000000000003</br></br>sepal length (cm): 6.1</br>petal length (cm): 4.7</br>petal width (cm): 1.2</br>_original_yhat_: 0.97</br>"
          ],
          [
           "</br>id: 73</br>prediction: 0.96</br>sepal width (cm): 3.41</br></br>sepal length (cm): 6.1</br>petal length (cm): 4.7</br>petal width (cm): 1.2</br>_original_yhat_: 0.97</br>"
          ],
          [
           "</br>id: 73</br>prediction: 0.96</br>sepal width (cm): 3.4320000000000004</br></br>sepal length (cm): 6.1</br>petal length (cm): 4.7</br>petal width (cm): 1.2</br>_original_yhat_: 0.97</br>"
          ],
          [
           "</br>id: 73</br>prediction: 0.96</br>sepal width (cm): 3.4540000000000006</br></br>sepal length (cm): 6.1</br>petal length (cm): 4.7</br>petal width (cm): 1.2</br>_original_yhat_: 0.97</br>"
          ],
          [
           "</br>id: 73</br>prediction: 0.96</br>sepal width (cm): 3.476</br></br>sepal length (cm): 6.1</br>petal length (cm): 4.7</br>petal width (cm): 1.2</br>_original_yhat_: 0.97</br>"
          ],
          [
           "</br>id: 73</br>prediction: 0.96</br>sepal width (cm): 3.498</br></br>sepal length (cm): 6.1</br>petal length (cm): 4.7</br>petal width (cm): 1.2</br>_original_yhat_: 0.97</br>"
          ],
          [
           "</br>id: 73</br>prediction: 0.94</br>sepal width (cm): 3.5200000000000005</br></br>sepal length (cm): 6.1</br>petal length (cm): 4.7</br>petal width (cm): 1.2</br>_original_yhat_: 0.97</br>"
          ],
          [
           "</br>id: 73</br>prediction: 0.94</br>sepal width (cm): 3.5420000000000003</br></br>sepal length (cm): 6.1</br>petal length (cm): 4.7</br>petal width (cm): 1.2</br>_original_yhat_: 0.97</br>"
          ],
          [
           "</br>id: 73</br>prediction: 0.93</br>sepal width (cm): 3.564</br></br>sepal length (cm): 6.1</br>petal length (cm): 4.7</br>petal width (cm): 1.2</br>_original_yhat_: 0.97</br>"
          ],
          [
           "</br>id: 73</br>prediction: 0.93</br>sepal width (cm): 3.5860000000000003</br></br>sepal length (cm): 6.1</br>petal length (cm): 4.7</br>petal width (cm): 1.2</br>_original_yhat_: 0.97</br>"
          ],
          [
           "</br>id: 73</br>prediction: 0.91</br>sepal width (cm): 3.6080000000000005</br></br>sepal length (cm): 6.1</br>petal length (cm): 4.7</br>petal width (cm): 1.2</br>_original_yhat_: 0.97</br>"
          ],
          [
           "</br>id: 73</br>prediction: 0.91</br>sepal width (cm): 3.6300000000000003</br></br>sepal length (cm): 6.1</br>petal length (cm): 4.7</br>petal width (cm): 1.2</br>_original_yhat_: 0.97</br>"
          ],
          [
           "</br>id: 73</br>prediction: 0.91</br>sepal width (cm): 3.652</br></br>sepal length (cm): 6.1</br>petal length (cm): 4.7</br>petal width (cm): 1.2</br>_original_yhat_: 0.97</br>"
          ],
          [
           "</br>id: 73</br>prediction: 0.91</br>sepal width (cm): 3.6740000000000004</br></br>sepal length (cm): 6.1</br>petal length (cm): 4.7</br>petal width (cm): 1.2</br>_original_yhat_: 0.97</br>"
          ],
          [
           "</br>id: 73</br>prediction: 0.91</br>sepal width (cm): 3.6960000000000006</br></br>sepal length (cm): 6.1</br>petal length (cm): 4.7</br>petal width (cm): 1.2</br>_original_yhat_: 0.97</br>"
          ],
          [
           "</br>id: 73</br>prediction: 0.9</br>sepal width (cm): 3.7180000000000004</br></br>sepal length (cm): 6.1</br>petal length (cm): 4.7</br>petal width (cm): 1.2</br>_original_yhat_: 0.97</br>"
          ],
          [
           "</br>id: 73</br>prediction: 0.9</br>sepal width (cm): 3.74</br></br>sepal length (cm): 6.1</br>petal length (cm): 4.7</br>petal width (cm): 1.2</br>_original_yhat_: 0.97</br>"
          ],
          [
           "</br>id: 73</br>prediction: 0.9</br>sepal width (cm): 3.7620000000000005</br></br>sepal length (cm): 6.1</br>petal length (cm): 4.7</br>petal width (cm): 1.2</br>_original_yhat_: 0.97</br>"
          ],
          [
           "</br>id: 73</br>prediction: 0.9</br>sepal width (cm): 3.7840000000000003</br></br>sepal length (cm): 6.1</br>petal length (cm): 4.7</br>petal width (cm): 1.2</br>_original_yhat_: 0.97</br>"
          ],
          [
           "</br>id: 73</br>prediction: 0.9</br>sepal width (cm): 3.806</br></br>sepal length (cm): 6.1</br>petal length (cm): 4.7</br>petal width (cm): 1.2</br>_original_yhat_: 0.97</br>"
          ],
          [
           "</br>id: 73</br>prediction: 0.9</br>sepal width (cm): 3.8280000000000003</br></br>sepal length (cm): 6.1</br>petal length (cm): 4.7</br>petal width (cm): 1.2</br>_original_yhat_: 0.97</br>"
          ],
          [
           "</br>id: 73</br>prediction: 0.9</br>sepal width (cm): 3.8500000000000005</br></br>sepal length (cm): 6.1</br>petal length (cm): 4.7</br>petal width (cm): 1.2</br>_original_yhat_: 0.97</br>"
          ],
          [
           "</br>id: 73</br>prediction: 0.9</br>sepal width (cm): 3.8720000000000003</br></br>sepal length (cm): 6.1</br>petal length (cm): 4.7</br>petal width (cm): 1.2</br>_original_yhat_: 0.97</br>"
          ],
          [
           "</br>id: 73</br>prediction: 0.9</br>sepal width (cm): 3.894</br></br>sepal length (cm): 6.1</br>petal length (cm): 4.7</br>petal width (cm): 1.2</br>_original_yhat_: 0.97</br>"
          ],
          [
           "</br>id: 73</br>prediction: 0.9</br>sepal width (cm): 3.9160000000000004</br></br>sepal length (cm): 6.1</br>petal length (cm): 4.7</br>petal width (cm): 1.2</br>_original_yhat_: 0.97</br>"
          ],
          [
           "</br>id: 73</br>prediction: 0.9</br>sepal width (cm): 3.9380000000000006</br></br>sepal length (cm): 6.1</br>petal length (cm): 4.7</br>petal width (cm): 1.2</br>_original_yhat_: 0.97</br>"
          ],
          [
           "</br>id: 73</br>prediction: 0.9</br>sepal width (cm): 3.9600000000000004</br></br>sepal length (cm): 6.1</br>petal length (cm): 4.7</br>petal width (cm): 1.2</br>_original_yhat_: 0.97</br>"
          ],
          [
           "</br>id: 73</br>prediction: 0.9</br>sepal width (cm): 3.982</br></br>sepal length (cm): 6.1</br>petal length (cm): 4.7</br>petal width (cm): 1.2</br>_original_yhat_: 0.97</br>"
          ],
          [
           "</br>id: 73</br>prediction: 0.9</br>sepal width (cm): 4.0040000000000004</br></br>sepal length (cm): 6.1</br>petal length (cm): 4.7</br>petal width (cm): 1.2</br>_original_yhat_: 0.97</br>"
          ],
          [
           "</br>id: 73</br>prediction: 0.9</br>sepal width (cm): 4.026000000000001</br></br>sepal length (cm): 6.1</br>petal length (cm): 4.7</br>petal width (cm): 1.2</br>_original_yhat_: 0.97</br>"
          ],
          [
           "</br>id: 73</br>prediction: 0.9</br>sepal width (cm): 4.048</br></br>sepal length (cm): 6.1</br>petal length (cm): 4.7</br>petal width (cm): 1.2</br>_original_yhat_: 0.97</br>"
          ],
          [
           "</br>id: 73</br>prediction: 0.9</br>sepal width (cm): 4.07</br></br>sepal length (cm): 6.1</br>petal length (cm): 4.7</br>petal width (cm): 1.2</br>_original_yhat_: 0.97</br>"
          ],
          [
           "</br>id: 73</br>prediction: 0.9</br>sepal width (cm): 4.0920000000000005</br></br>sepal length (cm): 6.1</br>petal length (cm): 4.7</br>petal width (cm): 1.2</br>_original_yhat_: 0.97</br>"
          ],
          [
           "</br>id: 73</br>prediction: 0.9</br>sepal width (cm): 4.114000000000001</br></br>sepal length (cm): 6.1</br>petal length (cm): 4.7</br>petal width (cm): 1.2</br>_original_yhat_: 0.97</br>"
          ],
          [
           "</br>id: 73</br>prediction: 0.9</br>sepal width (cm): 4.136</br></br>sepal length (cm): 6.1</br>petal length (cm): 4.7</br>petal width (cm): 1.2</br>_original_yhat_: 0.97</br>"
          ],
          [
           "</br>id: 73</br>prediction: 0.9</br>sepal width (cm): 4.158</br></br>sepal length (cm): 6.1</br>petal length (cm): 4.7</br>petal width (cm): 1.2</br>_original_yhat_: 0.97</br>"
          ],
          [
           "</br>id: 73</br>prediction: 0.9</br>sepal width (cm): 4.180000000000001</br></br>sepal length (cm): 6.1</br>petal length (cm): 4.7</br>petal width (cm): 1.2</br>_original_yhat_: 0.97</br>"
          ],
          [
           "</br>id: 73</br>prediction: 0.9</br>sepal width (cm): 4.202</br></br>sepal length (cm): 6.1</br>petal length (cm): 4.7</br>petal width (cm): 1.2</br>_original_yhat_: 0.97</br>"
          ],
          [
           "</br>id: 73</br>prediction: 0.9</br>sepal width (cm): 4.224</br></br>sepal length (cm): 6.1</br>petal length (cm): 4.7</br>petal width (cm): 1.2</br>_original_yhat_: 0.97</br>"
          ],
          [
           "</br>id: 73</br>prediction: 0.9</br>sepal width (cm): 4.246</br></br>sepal length (cm): 6.1</br>petal length (cm): 4.7</br>petal width (cm): 1.2</br>_original_yhat_: 0.97</br>"
          ],
          [
           "</br>id: 73</br>prediction: 0.9</br>sepal width (cm): 4.268000000000001</br></br>sepal length (cm): 6.1</br>petal length (cm): 4.7</br>petal width (cm): 1.2</br>_original_yhat_: 0.97</br>"
          ],
          [
           "</br>id: 73</br>prediction: 0.9</br>sepal width (cm): 4.290000000000001</br></br>sepal length (cm): 6.1</br>petal length (cm): 4.7</br>petal width (cm): 1.2</br>_original_yhat_: 0.97</br>"
          ],
          [
           "</br>id: 73</br>prediction: 0.9</br>sepal width (cm): 4.312</br></br>sepal length (cm): 6.1</br>petal length (cm): 4.7</br>petal width (cm): 1.2</br>_original_yhat_: 0.97</br>"
          ],
          [
           "</br>id: 73</br>prediction: 0.9</br>sepal width (cm): 4.3340000000000005</br></br>sepal length (cm): 6.1</br>petal length (cm): 4.7</br>petal width (cm): 1.2</br>_original_yhat_: 0.97</br>"
          ],
          [
           "</br>id: 73</br>prediction: 0.9</br>sepal width (cm): 4.356</br></br>sepal length (cm): 6.1</br>petal length (cm): 4.7</br>petal width (cm): 1.2</br>_original_yhat_: 0.97</br>"
          ],
          [
           "</br>id: 73</br>prediction: 0.9</br>sepal width (cm): 4.378</br></br>sepal length (cm): 6.1</br>petal length (cm): 4.7</br>petal width (cm): 1.2</br>_original_yhat_: 0.97</br>"
          ],
          [
           "</br>id: 73</br>prediction: 0.9</br>sepal width (cm): 4.4</br></br>sepal length (cm): 6.1</br>petal length (cm): 4.7</br>petal width (cm): 1.2</br>_original_yhat_: 0.97</br>"
          ]
         ],
         "hovertemplate": "%{customdata[0]}<extra></extra>",
         "legendgroup": "setosa, versicolor, virginica",
         "line": {
          "color": "#46bac2",
          "dash": "solid",
          "width": 2
         },
         "marker": {
          "symbol": "circle"
         },
         "mode": "lines",
         "name": "setosa, versicolor, virginica",
         "opacity": 1,
         "orientation": "v",
         "showlegend": false,
         "type": "scatter",
         "x": [
          2.2,
          2.222,
          2.244,
          2.266,
          2.2880000000000003,
          2.31,
          2.3320000000000003,
          2.354,
          2.3760000000000003,
          2.398,
          2.4200000000000004,
          2.442,
          2.4640000000000004,
          2.486,
          2.508,
          2.5300000000000002,
          2.552,
          2.5740000000000003,
          2.596,
          2.6180000000000003,
          2.64,
          2.6620000000000004,
          2.684,
          2.7060000000000004,
          2.728,
          2.75,
          2.7720000000000002,
          2.7940000000000005,
          2.8,
          2.8160000000000003,
          2.838,
          2.8600000000000003,
          2.882,
          2.9040000000000004,
          2.926,
          2.9480000000000004,
          2.97,
          2.992,
          3.0140000000000002,
          3.0360000000000005,
          3.0580000000000003,
          3.08,
          3.1020000000000003,
          3.124,
          3.1460000000000004,
          3.168,
          3.1900000000000004,
          3.212,
          3.234,
          3.2560000000000002,
          3.2780000000000005,
          3.3000000000000003,
          3.322,
          3.3440000000000003,
          3.3660000000000005,
          3.3880000000000003,
          3.41,
          3.4320000000000004,
          3.4540000000000006,
          3.476,
          3.498,
          3.5200000000000005,
          3.5420000000000003,
          3.564,
          3.5860000000000003,
          3.6080000000000005,
          3.6300000000000003,
          3.652,
          3.6740000000000004,
          3.6960000000000006,
          3.7180000000000004,
          3.74,
          3.7620000000000005,
          3.7840000000000003,
          3.806,
          3.8280000000000003,
          3.8500000000000005,
          3.8720000000000003,
          3.894,
          3.9160000000000004,
          3.9380000000000006,
          3.9600000000000004,
          3.982,
          4.0040000000000004,
          4.026000000000001,
          4.048,
          4.07,
          4.0920000000000005,
          4.114000000000001,
          4.136,
          4.158,
          4.180000000000001,
          4.202,
          4.224,
          4.246,
          4.268000000000001,
          4.290000000000001,
          4.312,
          4.3340000000000005,
          4.356,
          4.378,
          4.4
         ],
         "xaxis": "x4",
         "y": [
          0.93,
          0.93,
          0.93,
          0.95,
          0.95,
          0.95,
          0.95,
          0.96,
          0.96,
          0.96,
          0.96,
          0.96,
          0.96,
          0.96,
          0.96,
          0.96,
          0.95,
          0.95,
          0.95,
          0.95,
          0.95,
          0.97,
          0.97,
          0.98,
          0.98,
          0.98,
          0.97,
          0.97,
          0.97,
          0.97,
          0.97,
          1,
          1,
          1,
          1,
          1,
          1,
          1,
          1,
          1,
          1,
          1,
          1,
          1,
          1,
          1,
          1,
          1,
          1,
          0.97,
          0.97,
          0.97,
          0.96,
          0.96,
          0.96,
          0.96,
          0.96,
          0.96,
          0.96,
          0.96,
          0.96,
          0.94,
          0.94,
          0.93,
          0.93,
          0.91,
          0.91,
          0.91,
          0.91,
          0.91,
          0.9,
          0.9,
          0.9,
          0.9,
          0.9,
          0.9,
          0.9,
          0.9,
          0.9,
          0.9,
          0.9,
          0.9,
          0.9,
          0.9,
          0.9,
          0.9,
          0.9,
          0.9,
          0.9,
          0.9,
          0.9,
          0.9,
          0.9,
          0.9,
          0.9,
          0.9,
          0.9,
          0.9,
          0.9,
          0.9,
          0.9,
          0.9
         ],
         "yaxis": "y4"
        },
        {
         "customdata": [
          [
           "</br>id: 73</br>prediction: 0.6</br>petal length (cm): 1.0</br></br>sepal length (cm): 6.1</br>sepal width (cm): 2.8</br>petal width (cm): 1.2</br>_original_yhat_: 0.97</br>"
          ],
          [
           "</br>id: 73</br>prediction: 0.6</br>petal length (cm): 1.059</br></br>sepal length (cm): 6.1</br>sepal width (cm): 2.8</br>petal width (cm): 1.2</br>_original_yhat_: 0.97</br>"
          ],
          [
           "</br>id: 73</br>prediction: 0.6</br>petal length (cm): 1.118</br></br>sepal length (cm): 6.1</br>sepal width (cm): 2.8</br>petal width (cm): 1.2</br>_original_yhat_: 0.97</br>"
          ],
          [
           "</br>id: 73</br>prediction: 0.6</br>petal length (cm): 1.177</br></br>sepal length (cm): 6.1</br>sepal width (cm): 2.8</br>petal width (cm): 1.2</br>_original_yhat_: 0.97</br>"
          ],
          [
           "</br>id: 73</br>prediction: 0.6</br>petal length (cm): 1.236</br></br>sepal length (cm): 6.1</br>sepal width (cm): 2.8</br>petal width (cm): 1.2</br>_original_yhat_: 0.97</br>"
          ],
          [
           "</br>id: 73</br>prediction: 0.6</br>petal length (cm): 1.295</br></br>sepal length (cm): 6.1</br>sepal width (cm): 2.8</br>petal width (cm): 1.2</br>_original_yhat_: 0.97</br>"
          ],
          [
           "</br>id: 73</br>prediction: 0.6</br>petal length (cm): 1.354</br></br>sepal length (cm): 6.1</br>sepal width (cm): 2.8</br>petal width (cm): 1.2</br>_original_yhat_: 0.97</br>"
          ],
          [
           "</br>id: 73</br>prediction: 0.6</br>petal length (cm): 1.413</br></br>sepal length (cm): 6.1</br>sepal width (cm): 2.8</br>petal width (cm): 1.2</br>_original_yhat_: 0.97</br>"
          ],
          [
           "</br>id: 73</br>prediction: 0.6</br>petal length (cm): 1.472</br></br>sepal length (cm): 6.1</br>sepal width (cm): 2.8</br>petal width (cm): 1.2</br>_original_yhat_: 0.97</br>"
          ],
          [
           "</br>id: 73</br>prediction: 0.6</br>petal length (cm): 1.5310000000000001</br></br>sepal length (cm): 6.1</br>sepal width (cm): 2.8</br>petal width (cm): 1.2</br>_original_yhat_: 0.97</br>"
          ],
          [
           "</br>id: 73</br>prediction: 0.6</br>petal length (cm): 1.59</br></br>sepal length (cm): 6.1</br>sepal width (cm): 2.8</br>petal width (cm): 1.2</br>_original_yhat_: 0.97</br>"
          ],
          [
           "</br>id: 73</br>prediction: 0.6</br>petal length (cm): 1.649</br></br>sepal length (cm): 6.1</br>sepal width (cm): 2.8</br>petal width (cm): 1.2</br>_original_yhat_: 0.97</br>"
          ],
          [
           "</br>id: 73</br>prediction: 0.6</br>petal length (cm): 1.7080000000000002</br></br>sepal length (cm): 6.1</br>sepal width (cm): 2.8</br>petal width (cm): 1.2</br>_original_yhat_: 0.97</br>"
          ],
          [
           "</br>id: 73</br>prediction: 0.6</br>petal length (cm): 1.767</br></br>sepal length (cm): 6.1</br>sepal width (cm): 2.8</br>petal width (cm): 1.2</br>_original_yhat_: 0.97</br>"
          ],
          [
           "</br>id: 73</br>prediction: 0.6</br>petal length (cm): 1.826</br></br>sepal length (cm): 6.1</br>sepal width (cm): 2.8</br>petal width (cm): 1.2</br>_original_yhat_: 0.97</br>"
          ],
          [
           "</br>id: 73</br>prediction: 0.6</br>petal length (cm): 1.885</br></br>sepal length (cm): 6.1</br>sepal width (cm): 2.8</br>petal width (cm): 1.2</br>_original_yhat_: 0.97</br>"
          ],
          [
           "</br>id: 73</br>prediction: 0.6</br>petal length (cm): 1.944</br></br>sepal length (cm): 6.1</br>sepal width (cm): 2.8</br>petal width (cm): 1.2</br>_original_yhat_: 0.97</br>"
          ],
          [
           "</br>id: 73</br>prediction: 0.6</br>petal length (cm): 2.003</br></br>sepal length (cm): 6.1</br>sepal width (cm): 2.8</br>petal width (cm): 1.2</br>_original_yhat_: 0.97</br>"
          ],
          [
           "</br>id: 73</br>prediction: 0.6</br>petal length (cm): 2.0620000000000003</br></br>sepal length (cm): 6.1</br>sepal width (cm): 2.8</br>petal width (cm): 1.2</br>_original_yhat_: 0.97</br>"
          ],
          [
           "</br>id: 73</br>prediction: 0.6</br>petal length (cm): 2.121</br></br>sepal length (cm): 6.1</br>sepal width (cm): 2.8</br>petal width (cm): 1.2</br>_original_yhat_: 0.97</br>"
          ],
          [
           "</br>id: 73</br>prediction: 0.6</br>petal length (cm): 2.18</br></br>sepal length (cm): 6.1</br>sepal width (cm): 2.8</br>petal width (cm): 1.2</br>_original_yhat_: 0.97</br>"
          ],
          [
           "</br>id: 73</br>prediction: 0.6</br>petal length (cm): 2.239</br></br>sepal length (cm): 6.1</br>sepal width (cm): 2.8</br>petal width (cm): 1.2</br>_original_yhat_: 0.97</br>"
          ],
          [
           "</br>id: 73</br>prediction: 0.6</br>petal length (cm): 2.298</br></br>sepal length (cm): 6.1</br>sepal width (cm): 2.8</br>petal width (cm): 1.2</br>_original_yhat_: 0.97</br>"
          ],
          [
           "</br>id: 73</br>prediction: 0.63</br>petal length (cm): 2.357</br></br>sepal length (cm): 6.1</br>sepal width (cm): 2.8</br>petal width (cm): 1.2</br>_original_yhat_: 0.97</br>"
          ],
          [
           "</br>id: 73</br>prediction: 0.63</br>petal length (cm): 2.4160000000000004</br></br>sepal length (cm): 6.1</br>sepal width (cm): 2.8</br>petal width (cm): 1.2</br>_original_yhat_: 0.97</br>"
          ],
          [
           "</br>id: 73</br>prediction: 0.83</br>petal length (cm): 2.475</br></br>sepal length (cm): 6.1</br>sepal width (cm): 2.8</br>petal width (cm): 1.2</br>_original_yhat_: 0.97</br>"
          ],
          [
           "</br>id: 73</br>prediction: 0.84</br>petal length (cm): 2.534</br></br>sepal length (cm): 6.1</br>sepal width (cm): 2.8</br>petal width (cm): 1.2</br>_original_yhat_: 0.97</br>"
          ],
          [
           "</br>id: 73</br>prediction: 0.84</br>petal length (cm): 2.593</br></br>sepal length (cm): 6.1</br>sepal width (cm): 2.8</br>petal width (cm): 1.2</br>_original_yhat_: 0.97</br>"
          ],
          [
           "</br>id: 73</br>prediction: 0.99</br>petal length (cm): 2.652</br></br>sepal length (cm): 6.1</br>sepal width (cm): 2.8</br>petal width (cm): 1.2</br>_original_yhat_: 0.97</br>"
          ],
          [
           "</br>id: 73</br>prediction: 1.0</br>petal length (cm): 2.7110000000000003</br></br>sepal length (cm): 6.1</br>sepal width (cm): 2.8</br>petal width (cm): 1.2</br>_original_yhat_: 0.97</br>"
          ],
          [
           "</br>id: 73</br>prediction: 1.0</br>petal length (cm): 2.77</br></br>sepal length (cm): 6.1</br>sepal width (cm): 2.8</br>petal width (cm): 1.2</br>_original_yhat_: 0.97</br>"
          ],
          [
           "</br>id: 73</br>prediction: 1.0</br>petal length (cm): 2.829</br></br>sepal length (cm): 6.1</br>sepal width (cm): 2.8</br>petal width (cm): 1.2</br>_original_yhat_: 0.97</br>"
          ],
          [
           "</br>id: 73</br>prediction: 1.0</br>petal length (cm): 2.888</br></br>sepal length (cm): 6.1</br>sepal width (cm): 2.8</br>petal width (cm): 1.2</br>_original_yhat_: 0.97</br>"
          ],
          [
           "</br>id: 73</br>prediction: 1.0</br>petal length (cm): 2.947</br></br>sepal length (cm): 6.1</br>sepal width (cm): 2.8</br>petal width (cm): 1.2</br>_original_yhat_: 0.97</br>"
          ],
          [
           "</br>id: 73</br>prediction: 1.0</br>petal length (cm): 3.0060000000000002</br></br>sepal length (cm): 6.1</br>sepal width (cm): 2.8</br>petal width (cm): 1.2</br>_original_yhat_: 0.97</br>"
          ],
          [
           "</br>id: 73</br>prediction: 1.0</br>petal length (cm): 3.065</br></br>sepal length (cm): 6.1</br>sepal width (cm): 2.8</br>petal width (cm): 1.2</br>_original_yhat_: 0.97</br>"
          ],
          [
           "</br>id: 73</br>prediction: 1.0</br>petal length (cm): 3.124</br></br>sepal length (cm): 6.1</br>sepal width (cm): 2.8</br>petal width (cm): 1.2</br>_original_yhat_: 0.97</br>"
          ],
          [
           "</br>id: 73</br>prediction: 1.0</br>petal length (cm): 3.1830000000000003</br></br>sepal length (cm): 6.1</br>sepal width (cm): 2.8</br>petal width (cm): 1.2</br>_original_yhat_: 0.97</br>"
          ],
          [
           "</br>id: 73</br>prediction: 1.0</br>petal length (cm): 3.242</br></br>sepal length (cm): 6.1</br>sepal width (cm): 2.8</br>petal width (cm): 1.2</br>_original_yhat_: 0.97</br>"
          ],
          [
           "</br>id: 73</br>prediction: 1.0</br>petal length (cm): 3.301</br></br>sepal length (cm): 6.1</br>sepal width (cm): 2.8</br>petal width (cm): 1.2</br>_original_yhat_: 0.97</br>"
          ],
          [
           "</br>id: 73</br>prediction: 1.0</br>petal length (cm): 3.3600000000000003</br></br>sepal length (cm): 6.1</br>sepal width (cm): 2.8</br>petal width (cm): 1.2</br>_original_yhat_: 0.97</br>"
          ],
          [
           "</br>id: 73</br>prediction: 1.0</br>petal length (cm): 3.419</br></br>sepal length (cm): 6.1</br>sepal width (cm): 2.8</br>petal width (cm): 1.2</br>_original_yhat_: 0.97</br>"
          ],
          [
           "</br>id: 73</br>prediction: 1.0</br>petal length (cm): 3.478</br></br>sepal length (cm): 6.1</br>sepal width (cm): 2.8</br>petal width (cm): 1.2</br>_original_yhat_: 0.97</br>"
          ],
          [
           "</br>id: 73</br>prediction: 1.0</br>petal length (cm): 3.5370000000000004</br></br>sepal length (cm): 6.1</br>sepal width (cm): 2.8</br>petal width (cm): 1.2</br>_original_yhat_: 0.97</br>"
          ],
          [
           "</br>id: 73</br>prediction: 1.0</br>petal length (cm): 3.596</br></br>sepal length (cm): 6.1</br>sepal width (cm): 2.8</br>petal width (cm): 1.2</br>_original_yhat_: 0.97</br>"
          ],
          [
           "</br>id: 73</br>prediction: 1.0</br>petal length (cm): 3.6550000000000002</br></br>sepal length (cm): 6.1</br>sepal width (cm): 2.8</br>petal width (cm): 1.2</br>_original_yhat_: 0.97</br>"
          ],
          [
           "</br>id: 73</br>prediction: 1.0</br>petal length (cm): 3.714</br></br>sepal length (cm): 6.1</br>sepal width (cm): 2.8</br>petal width (cm): 1.2</br>_original_yhat_: 0.97</br>"
          ],
          [
           "</br>id: 73</br>prediction: 1.0</br>petal length (cm): 3.773</br></br>sepal length (cm): 6.1</br>sepal width (cm): 2.8</br>petal width (cm): 1.2</br>_original_yhat_: 0.97</br>"
          ],
          [
           "</br>id: 73</br>prediction: 1.0</br>petal length (cm): 3.8320000000000003</br></br>sepal length (cm): 6.1</br>sepal width (cm): 2.8</br>petal width (cm): 1.2</br>_original_yhat_: 0.97</br>"
          ],
          [
           "</br>id: 73</br>prediction: 1.0</br>petal length (cm): 3.891</br></br>sepal length (cm): 6.1</br>sepal width (cm): 2.8</br>petal width (cm): 1.2</br>_original_yhat_: 0.97</br>"
          ],
          [
           "</br>id: 73</br>prediction: 1.0</br>petal length (cm): 3.95</br></br>sepal length (cm): 6.1</br>sepal width (cm): 2.8</br>petal width (cm): 1.2</br>_original_yhat_: 0.97</br>"
          ],
          [
           "</br>id: 73</br>prediction: 1.0</br>petal length (cm): 4.009</br></br>sepal length (cm): 6.1</br>sepal width (cm): 2.8</br>petal width (cm): 1.2</br>_original_yhat_: 0.97</br>"
          ],
          [
           "</br>id: 73</br>prediction: 1.0</br>petal length (cm): 4.068</br></br>sepal length (cm): 6.1</br>sepal width (cm): 2.8</br>petal width (cm): 1.2</br>_original_yhat_: 0.97</br>"
          ],
          [
           "</br>id: 73</br>prediction: 1.0</br>petal length (cm): 4.127000000000001</br></br>sepal length (cm): 6.1</br>sepal width (cm): 2.8</br>petal width (cm): 1.2</br>_original_yhat_: 0.97</br>"
          ],
          [
           "</br>id: 73</br>prediction: 1.0</br>petal length (cm): 4.186</br></br>sepal length (cm): 6.1</br>sepal width (cm): 2.8</br>petal width (cm): 1.2</br>_original_yhat_: 0.97</br>"
          ],
          [
           "</br>id: 73</br>prediction: 1.0</br>petal length (cm): 4.245</br></br>sepal length (cm): 6.1</br>sepal width (cm): 2.8</br>petal width (cm): 1.2</br>_original_yhat_: 0.97</br>"
          ],
          [
           "</br>id: 73</br>prediction: 1.0</br>petal length (cm): 4.304</br></br>sepal length (cm): 6.1</br>sepal width (cm): 2.8</br>petal width (cm): 1.2</br>_original_yhat_: 0.97</br>"
          ],
          [
           "</br>id: 73</br>prediction: 1.0</br>petal length (cm): 4.363</br></br>sepal length (cm): 6.1</br>sepal width (cm): 2.8</br>petal width (cm): 1.2</br>_original_yhat_: 0.97</br>"
          ],
          [
           "</br>id: 73</br>prediction: 1.0</br>petal length (cm): 4.422000000000001</br></br>sepal length (cm): 6.1</br>sepal width (cm): 2.8</br>petal width (cm): 1.2</br>_original_yhat_: 0.97</br>"
          ],
          [
           "</br>id: 73</br>prediction: 0.98</br>petal length (cm): 4.481</br></br>sepal length (cm): 6.1</br>sepal width (cm): 2.8</br>petal width (cm): 1.2</br>_original_yhat_: 0.97</br>"
          ],
          [
           "</br>id: 73</br>prediction: 0.98</br>petal length (cm): 4.54</br></br>sepal length (cm): 6.1</br>sepal width (cm): 2.8</br>petal width (cm): 1.2</br>_original_yhat_: 0.97</br>"
          ],
          [
           "</br>id: 73</br>prediction: 0.99</br>petal length (cm): 4.599</br></br>sepal length (cm): 6.1</br>sepal width (cm): 2.8</br>petal width (cm): 1.2</br>_original_yhat_: 0.97</br>"
          ],
          [
           "</br>id: 73</br>prediction: 0.97</br>petal length (cm): 4.658</br></br>sepal length (cm): 6.1</br>sepal width (cm): 2.8</br>petal width (cm): 1.2</br>_original_yhat_: 0.97</br>"
          ],
          [
           "</br>id: 73</br>prediction: 0.97</br>petal length (cm): 4.7</br></br>sepal length (cm): 6.1</br>sepal width (cm): 2.8</br>petal width (cm): 1.2</br>_original_yhat_: 0.97</br>"
          ],
          [
           "</br>id: 73</br>prediction: 0.96</br>petal length (cm): 4.7170000000000005</br></br>sepal length (cm): 6.1</br>sepal width (cm): 2.8</br>petal width (cm): 1.2</br>_original_yhat_: 0.97</br>"
          ],
          [
           "</br>id: 73</br>prediction: 0.83</br>petal length (cm): 4.776</br></br>sepal length (cm): 6.1</br>sepal width (cm): 2.8</br>petal width (cm): 1.2</br>_original_yhat_: 0.97</br>"
          ],
          [
           "</br>id: 73</br>prediction: 0.83</br>petal length (cm): 4.835000000000001</br></br>sepal length (cm): 6.1</br>sepal width (cm): 2.8</br>petal width (cm): 1.2</br>_original_yhat_: 0.97</br>"
          ],
          [
           "</br>id: 73</br>prediction: 0.78</br>petal length (cm): 4.894</br></br>sepal length (cm): 6.1</br>sepal width (cm): 2.8</br>petal width (cm): 1.2</br>_original_yhat_: 0.97</br>"
          ],
          [
           "</br>id: 73</br>prediction: 0.59</br>petal length (cm): 4.953</br></br>sepal length (cm): 6.1</br>sepal width (cm): 2.8</br>petal width (cm): 1.2</br>_original_yhat_: 0.97</br>"
          ],
          [
           "</br>id: 73</br>prediction: 0.51</br>petal length (cm): 5.0120000000000005</br></br>sepal length (cm): 6.1</br>sepal width (cm): 2.8</br>petal width (cm): 1.2</br>_original_yhat_: 0.97</br>"
          ],
          [
           "</br>id: 73</br>prediction: 0.44</br>petal length (cm): 5.071000000000001</br></br>sepal length (cm): 6.1</br>sepal width (cm): 2.8</br>petal width (cm): 1.2</br>_original_yhat_: 0.97</br>"
          ],
          [
           "</br>id: 73</br>prediction: 0.44</br>petal length (cm): 5.13</br></br>sepal length (cm): 6.1</br>sepal width (cm): 2.8</br>petal width (cm): 1.2</br>_original_yhat_: 0.97</br>"
          ],
          [
           "</br>id: 73</br>prediction: 0.42</br>petal length (cm): 5.189</br></br>sepal length (cm): 6.1</br>sepal width (cm): 2.8</br>petal width (cm): 1.2</br>_original_yhat_: 0.97</br>"
          ],
          [
           "</br>id: 73</br>prediction: 0.4</br>petal length (cm): 5.248</br></br>sepal length (cm): 6.1</br>sepal width (cm): 2.8</br>petal width (cm): 1.2</br>_original_yhat_: 0.97</br>"
          ],
          [
           "</br>id: 73</br>prediction: 0.35</br>petal length (cm): 5.307</br></br>sepal length (cm): 6.1</br>sepal width (cm): 2.8</br>petal width (cm): 1.2</br>_original_yhat_: 0.97</br>"
          ],
          [
           "</br>id: 73</br>prediction: 0.32</br>petal length (cm): 5.3660000000000005</br></br>sepal length (cm): 6.1</br>sepal width (cm): 2.8</br>petal width (cm): 1.2</br>_original_yhat_: 0.97</br>"
          ],
          [
           "</br>id: 73</br>prediction: 0.32</br>petal length (cm): 5.425000000000001</br></br>sepal length (cm): 6.1</br>sepal width (cm): 2.8</br>petal width (cm): 1.2</br>_original_yhat_: 0.97</br>"
          ],
          [
           "</br>id: 73</br>prediction: 0.29</br>petal length (cm): 5.484</br></br>sepal length (cm): 6.1</br>sepal width (cm): 2.8</br>petal width (cm): 1.2</br>_original_yhat_: 0.97</br>"
          ],
          [
           "</br>id: 73</br>prediction: 0.29</br>petal length (cm): 5.543</br></br>sepal length (cm): 6.1</br>sepal width (cm): 2.8</br>petal width (cm): 1.2</br>_original_yhat_: 0.97</br>"
          ],
          [
           "</br>id: 73</br>prediction: 0.29</br>petal length (cm): 5.602</br></br>sepal length (cm): 6.1</br>sepal width (cm): 2.8</br>petal width (cm): 1.2</br>_original_yhat_: 0.97</br>"
          ],
          [
           "</br>id: 73</br>prediction: 0.29</br>petal length (cm): 5.6610000000000005</br></br>sepal length (cm): 6.1</br>sepal width (cm): 2.8</br>petal width (cm): 1.2</br>_original_yhat_: 0.97</br>"
          ],
          [
           "</br>id: 73</br>prediction: 0.29</br>petal length (cm): 5.720000000000001</br></br>sepal length (cm): 6.1</br>sepal width (cm): 2.8</br>petal width (cm): 1.2</br>_original_yhat_: 0.97</br>"
          ],
          [
           "</br>id: 73</br>prediction: 0.29</br>petal length (cm): 5.779</br></br>sepal length (cm): 6.1</br>sepal width (cm): 2.8</br>petal width (cm): 1.2</br>_original_yhat_: 0.97</br>"
          ],
          [
           "</br>id: 73</br>prediction: 0.29</br>petal length (cm): 5.838</br></br>sepal length (cm): 6.1</br>sepal width (cm): 2.8</br>petal width (cm): 1.2</br>_original_yhat_: 0.97</br>"
          ],
          [
           "</br>id: 73</br>prediction: 0.29</br>petal length (cm): 5.897</br></br>sepal length (cm): 6.1</br>sepal width (cm): 2.8</br>petal width (cm): 1.2</br>_original_yhat_: 0.97</br>"
          ],
          [
           "</br>id: 73</br>prediction: 0.29</br>petal length (cm): 5.956</br></br>sepal length (cm): 6.1</br>sepal width (cm): 2.8</br>petal width (cm): 1.2</br>_original_yhat_: 0.97</br>"
          ],
          [
           "</br>id: 73</br>prediction: 0.29</br>petal length (cm): 6.015000000000001</br></br>sepal length (cm): 6.1</br>sepal width (cm): 2.8</br>petal width (cm): 1.2</br>_original_yhat_: 0.97</br>"
          ],
          [
           "</br>id: 73</br>prediction: 0.29</br>petal length (cm): 6.074000000000001</br></br>sepal length (cm): 6.1</br>sepal width (cm): 2.8</br>petal width (cm): 1.2</br>_original_yhat_: 0.97</br>"
          ],
          [
           "</br>id: 73</br>prediction: 0.29</br>petal length (cm): 6.133</br></br>sepal length (cm): 6.1</br>sepal width (cm): 2.8</br>petal width (cm): 1.2</br>_original_yhat_: 0.97</br>"
          ],
          [
           "</br>id: 73</br>prediction: 0.29</br>petal length (cm): 6.192</br></br>sepal length (cm): 6.1</br>sepal width (cm): 2.8</br>petal width (cm): 1.2</br>_original_yhat_: 0.97</br>"
          ],
          [
           "</br>id: 73</br>prediction: 0.29</br>petal length (cm): 6.251</br></br>sepal length (cm): 6.1</br>sepal width (cm): 2.8</br>petal width (cm): 1.2</br>_original_yhat_: 0.97</br>"
          ],
          [
           "</br>id: 73</br>prediction: 0.29</br>petal length (cm): 6.3100000000000005</br></br>sepal length (cm): 6.1</br>sepal width (cm): 2.8</br>petal width (cm): 1.2</br>_original_yhat_: 0.97</br>"
          ],
          [
           "</br>id: 73</br>prediction: 0.29</br>petal length (cm): 6.369000000000001</br></br>sepal length (cm): 6.1</br>sepal width (cm): 2.8</br>petal width (cm): 1.2</br>_original_yhat_: 0.97</br>"
          ],
          [
           "</br>id: 73</br>prediction: 0.29</br>petal length (cm): 6.428</br></br>sepal length (cm): 6.1</br>sepal width (cm): 2.8</br>petal width (cm): 1.2</br>_original_yhat_: 0.97</br>"
          ],
          [
           "</br>id: 73</br>prediction: 0.29</br>petal length (cm): 6.487</br></br>sepal length (cm): 6.1</br>sepal width (cm): 2.8</br>petal width (cm): 1.2</br>_original_yhat_: 0.97</br>"
          ],
          [
           "</br>id: 73</br>prediction: 0.29</br>petal length (cm): 6.546</br></br>sepal length (cm): 6.1</br>sepal width (cm): 2.8</br>petal width (cm): 1.2</br>_original_yhat_: 0.97</br>"
          ],
          [
           "</br>id: 73</br>prediction: 0.29</br>petal length (cm): 6.605</br></br>sepal length (cm): 6.1</br>sepal width (cm): 2.8</br>petal width (cm): 1.2</br>_original_yhat_: 0.97</br>"
          ],
          [
           "</br>id: 73</br>prediction: 0.29</br>petal length (cm): 6.664000000000001</br></br>sepal length (cm): 6.1</br>sepal width (cm): 2.8</br>petal width (cm): 1.2</br>_original_yhat_: 0.97</br>"
          ],
          [
           "</br>id: 73</br>prediction: 0.29</br>petal length (cm): 6.723000000000001</br></br>sepal length (cm): 6.1</br>sepal width (cm): 2.8</br>petal width (cm): 1.2</br>_original_yhat_: 0.97</br>"
          ],
          [
           "</br>id: 73</br>prediction: 0.29</br>petal length (cm): 6.782</br></br>sepal length (cm): 6.1</br>sepal width (cm): 2.8</br>petal width (cm): 1.2</br>_original_yhat_: 0.97</br>"
          ],
          [
           "</br>id: 73</br>prediction: 0.29</br>petal length (cm): 6.841</br></br>sepal length (cm): 6.1</br>sepal width (cm): 2.8</br>petal width (cm): 1.2</br>_original_yhat_: 0.97</br>"
          ],
          [
           "</br>id: 73</br>prediction: 0.29</br>petal length (cm): 6.9</br></br>sepal length (cm): 6.1</br>sepal width (cm): 2.8</br>petal width (cm): 1.2</br>_original_yhat_: 0.97</br>"
          ]
         ],
         "hovertemplate": "%{customdata[0]}<extra></extra>",
         "legendgroup": "setosa, versicolor, virginica",
         "line": {
          "color": "#46bac2",
          "dash": "solid",
          "width": 2
         },
         "marker": {
          "symbol": "circle"
         },
         "mode": "lines",
         "name": "setosa, versicolor, virginica",
         "opacity": 1,
         "orientation": "v",
         "showlegend": false,
         "type": "scatter",
         "x": [
          1,
          1.059,
          1.118,
          1.177,
          1.236,
          1.295,
          1.354,
          1.413,
          1.472,
          1.5310000000000001,
          1.59,
          1.649,
          1.7080000000000002,
          1.767,
          1.826,
          1.885,
          1.944,
          2.003,
          2.0620000000000003,
          2.121,
          2.18,
          2.239,
          2.298,
          2.357,
          2.4160000000000004,
          2.475,
          2.534,
          2.593,
          2.652,
          2.7110000000000003,
          2.77,
          2.829,
          2.888,
          2.947,
          3.0060000000000002,
          3.065,
          3.124,
          3.1830000000000003,
          3.242,
          3.301,
          3.3600000000000003,
          3.419,
          3.478,
          3.5370000000000004,
          3.596,
          3.6550000000000002,
          3.714,
          3.773,
          3.8320000000000003,
          3.891,
          3.95,
          4.009,
          4.068,
          4.127000000000001,
          4.186,
          4.245,
          4.304,
          4.363,
          4.422000000000001,
          4.481,
          4.54,
          4.599,
          4.658,
          4.7,
          4.7170000000000005,
          4.776,
          4.835000000000001,
          4.894,
          4.953,
          5.0120000000000005,
          5.071000000000001,
          5.13,
          5.189,
          5.248,
          5.307,
          5.3660000000000005,
          5.425000000000001,
          5.484,
          5.543,
          5.602,
          5.6610000000000005,
          5.720000000000001,
          5.779,
          5.838,
          5.897,
          5.956,
          6.015000000000001,
          6.074000000000001,
          6.133,
          6.192,
          6.251,
          6.3100000000000005,
          6.369000000000001,
          6.428,
          6.487,
          6.546,
          6.605,
          6.664000000000001,
          6.723000000000001,
          6.782,
          6.841,
          6.9
         ],
         "xaxis": "x",
         "y": [
          0.6,
          0.6,
          0.6,
          0.6,
          0.6,
          0.6,
          0.6,
          0.6,
          0.6,
          0.6,
          0.6,
          0.6,
          0.6,
          0.6,
          0.6,
          0.6,
          0.6,
          0.6,
          0.6,
          0.6,
          0.6,
          0.6,
          0.6,
          0.63,
          0.63,
          0.83,
          0.84,
          0.84,
          0.99,
          1,
          1,
          1,
          1,
          1,
          1,
          1,
          1,
          1,
          1,
          1,
          1,
          1,
          1,
          1,
          1,
          1,
          1,
          1,
          1,
          1,
          1,
          1,
          1,
          1,
          1,
          1,
          1,
          1,
          1,
          0.98,
          0.98,
          0.99,
          0.97,
          0.97,
          0.96,
          0.83,
          0.83,
          0.78,
          0.59,
          0.51,
          0.44,
          0.44,
          0.42,
          0.4,
          0.35,
          0.32,
          0.32,
          0.29,
          0.29,
          0.29,
          0.29,
          0.29,
          0.29,
          0.29,
          0.29,
          0.29,
          0.29,
          0.29,
          0.29,
          0.29,
          0.29,
          0.29,
          0.29,
          0.29,
          0.29,
          0.29,
          0.29,
          0.29,
          0.29,
          0.29,
          0.29,
          0.29
         ],
         "yaxis": "y"
        },
        {
         "customdata": [
          [
           "</br>id: 73</br>prediction: 0.5</br>petal width (cm): 0.1</br></br>sepal length (cm): 6.1</br>sepal width (cm): 2.8</br>petal length (cm): 4.7</br>_original_yhat_: 0.97</br>"
          ],
          [
           "</br>id: 73</br>prediction: 0.5</br>petal width (cm): 0.122</br></br>sepal length (cm): 6.1</br>sepal width (cm): 2.8</br>petal length (cm): 4.7</br>_original_yhat_: 0.97</br>"
          ],
          [
           "</br>id: 73</br>prediction: 0.5</br>petal width (cm): 0.14400000000000002</br></br>sepal length (cm): 6.1</br>sepal width (cm): 2.8</br>petal length (cm): 4.7</br>_original_yhat_: 0.97</br>"
          ],
          [
           "</br>id: 73</br>prediction: 0.5</br>petal width (cm): 0.166</br></br>sepal length (cm): 6.1</br>sepal width (cm): 2.8</br>petal length (cm): 4.7</br>_original_yhat_: 0.97</br>"
          ],
          [
           "</br>id: 73</br>prediction: 0.5</br>petal width (cm): 0.188</br></br>sepal length (cm): 6.1</br>sepal width (cm): 2.8</br>petal length (cm): 4.7</br>_original_yhat_: 0.97</br>"
          ],
          [
           "</br>id: 73</br>prediction: 0.5</br>petal width (cm): 0.21</br></br>sepal length (cm): 6.1</br>sepal width (cm): 2.8</br>petal length (cm): 4.7</br>_original_yhat_: 0.97</br>"
          ],
          [
           "</br>id: 73</br>prediction: 0.5</br>petal width (cm): 0.232</br></br>sepal length (cm): 6.1</br>sepal width (cm): 2.8</br>petal length (cm): 4.7</br>_original_yhat_: 0.97</br>"
          ],
          [
           "</br>id: 73</br>prediction: 0.5</br>petal width (cm): 0.254</br></br>sepal length (cm): 6.1</br>sepal width (cm): 2.8</br>petal length (cm): 4.7</br>_original_yhat_: 0.97</br>"
          ],
          [
           "</br>id: 73</br>prediction: 0.5</br>petal width (cm): 0.276</br></br>sepal length (cm): 6.1</br>sepal width (cm): 2.8</br>petal length (cm): 4.7</br>_original_yhat_: 0.97</br>"
          ],
          [
           "</br>id: 73</br>prediction: 0.5</br>petal width (cm): 0.298</br></br>sepal length (cm): 6.1</br>sepal width (cm): 2.8</br>petal length (cm): 4.7</br>_original_yhat_: 0.97</br>"
          ],
          [
           "</br>id: 73</br>prediction: 0.5</br>petal width (cm): 0.31999999999999995</br></br>sepal length (cm): 6.1</br>sepal width (cm): 2.8</br>petal length (cm): 4.7</br>_original_yhat_: 0.97</br>"
          ],
          [
           "</br>id: 73</br>prediction: 0.5</br>petal width (cm): 0.34199999999999997</br></br>sepal length (cm): 6.1</br>sepal width (cm): 2.8</br>petal length (cm): 4.7</br>_original_yhat_: 0.97</br>"
          ],
          [
           "</br>id: 73</br>prediction: 0.5</br>petal width (cm): 0.364</br></br>sepal length (cm): 6.1</br>sepal width (cm): 2.8</br>petal length (cm): 4.7</br>_original_yhat_: 0.97</br>"
          ],
          [
           "</br>id: 73</br>prediction: 0.5</br>petal width (cm): 0.386</br></br>sepal length (cm): 6.1</br>sepal width (cm): 2.8</br>petal length (cm): 4.7</br>_original_yhat_: 0.97</br>"
          ],
          [
           "</br>id: 73</br>prediction: 0.5</br>petal width (cm): 0.40800000000000003</br></br>sepal length (cm): 6.1</br>sepal width (cm): 2.8</br>petal length (cm): 4.7</br>_original_yhat_: 0.97</br>"
          ],
          [
           "</br>id: 73</br>prediction: 0.5</br>petal width (cm): 0.42999999999999994</br></br>sepal length (cm): 6.1</br>sepal width (cm): 2.8</br>petal length (cm): 4.7</br>_original_yhat_: 0.97</br>"
          ],
          [
           "</br>id: 73</br>prediction: 0.5</br>petal width (cm): 0.45199999999999996</br></br>sepal length (cm): 6.1</br>sepal width (cm): 2.8</br>petal length (cm): 4.7</br>_original_yhat_: 0.97</br>"
          ],
          [
           "</br>id: 73</br>prediction: 0.5</br>petal width (cm): 0.474</br></br>sepal length (cm): 6.1</br>sepal width (cm): 2.8</br>petal length (cm): 4.7</br>_original_yhat_: 0.97</br>"
          ],
          [
           "</br>id: 73</br>prediction: 0.5</br>petal width (cm): 0.496</br></br>sepal length (cm): 6.1</br>sepal width (cm): 2.8</br>petal length (cm): 4.7</br>_original_yhat_: 0.97</br>"
          ],
          [
           "</br>id: 73</br>prediction: 0.5</br>petal width (cm): 0.518</br></br>sepal length (cm): 6.1</br>sepal width (cm): 2.8</br>petal length (cm): 4.7</br>_original_yhat_: 0.97</br>"
          ],
          [
           "</br>id: 73</br>prediction: 0.5</br>petal width (cm): 0.5399999999999999</br></br>sepal length (cm): 6.1</br>sepal width (cm): 2.8</br>petal length (cm): 4.7</br>_original_yhat_: 0.97</br>"
          ],
          [
           "</br>id: 73</br>prediction: 0.5</br>petal width (cm): 0.5619999999999999</br></br>sepal length (cm): 6.1</br>sepal width (cm): 2.8</br>petal length (cm): 4.7</br>_original_yhat_: 0.97</br>"
          ],
          [
           "</br>id: 73</br>prediction: 0.5</br>petal width (cm): 0.584</br></br>sepal length (cm): 6.1</br>sepal width (cm): 2.8</br>petal length (cm): 4.7</br>_original_yhat_: 0.97</br>"
          ],
          [
           "</br>id: 73</br>prediction: 0.6</br>petal width (cm): 0.606</br></br>sepal length (cm): 6.1</br>sepal width (cm): 2.8</br>petal length (cm): 4.7</br>_original_yhat_: 0.97</br>"
          ],
          [
           "</br>id: 73</br>prediction: 0.6</br>petal width (cm): 0.628</br></br>sepal length (cm): 6.1</br>sepal width (cm): 2.8</br>petal length (cm): 4.7</br>_original_yhat_: 0.97</br>"
          ],
          [
           "</br>id: 73</br>prediction: 0.6</br>petal width (cm): 0.6499999999999999</br></br>sepal length (cm): 6.1</br>sepal width (cm): 2.8</br>petal length (cm): 4.7</br>_original_yhat_: 0.97</br>"
          ],
          [
           "</br>id: 73</br>prediction: 0.6</br>petal width (cm): 0.6719999999999999</br></br>sepal length (cm): 6.1</br>sepal width (cm): 2.8</br>petal length (cm): 4.7</br>_original_yhat_: 0.97</br>"
          ],
          [
           "</br>id: 73</br>prediction: 0.6</br>petal width (cm): 0.694</br></br>sepal length (cm): 6.1</br>sepal width (cm): 2.8</br>petal length (cm): 4.7</br>_original_yhat_: 0.97</br>"
          ],
          [
           "</br>id: 73</br>prediction: 0.64</br>petal width (cm): 0.716</br></br>sepal length (cm): 6.1</br>sepal width (cm): 2.8</br>petal length (cm): 4.7</br>_original_yhat_: 0.97</br>"
          ],
          [
           "</br>id: 73</br>prediction: 0.64</br>petal width (cm): 0.738</br></br>sepal length (cm): 6.1</br>sepal width (cm): 2.8</br>petal length (cm): 4.7</br>_original_yhat_: 0.97</br>"
          ],
          [
           "</br>id: 73</br>prediction: 0.75</br>petal width (cm): 0.7599999999999999</br></br>sepal length (cm): 6.1</br>sepal width (cm): 2.8</br>petal length (cm): 4.7</br>_original_yhat_: 0.97</br>"
          ],
          [
           "</br>id: 73</br>prediction: 0.75</br>petal width (cm): 0.7819999999999999</br></br>sepal length (cm): 6.1</br>sepal width (cm): 2.8</br>petal length (cm): 4.7</br>_original_yhat_: 0.97</br>"
          ],
          [
           "</br>id: 73</br>prediction: 0.97</br>petal width (cm): 0.8039999999999999</br></br>sepal length (cm): 6.1</br>sepal width (cm): 2.8</br>petal length (cm): 4.7</br>_original_yhat_: 0.97</br>"
          ],
          [
           "</br>id: 73</br>prediction: 0.97</br>petal width (cm): 0.826</br></br>sepal length (cm): 6.1</br>sepal width (cm): 2.8</br>petal length (cm): 4.7</br>_original_yhat_: 0.97</br>"
          ],
          [
           "</br>id: 73</br>prediction: 0.97</br>petal width (cm): 0.848</br></br>sepal length (cm): 6.1</br>sepal width (cm): 2.8</br>petal length (cm): 4.7</br>_original_yhat_: 0.97</br>"
          ],
          [
           "</br>id: 73</br>prediction: 0.97</br>petal width (cm): 0.8699999999999999</br></br>sepal length (cm): 6.1</br>sepal width (cm): 2.8</br>petal length (cm): 4.7</br>_original_yhat_: 0.97</br>"
          ],
          [
           "</br>id: 73</br>prediction: 0.97</br>petal width (cm): 0.8919999999999999</br></br>sepal length (cm): 6.1</br>sepal width (cm): 2.8</br>petal length (cm): 4.7</br>_original_yhat_: 0.97</br>"
          ],
          [
           "</br>id: 73</br>prediction: 0.97</br>petal width (cm): 0.9139999999999999</br></br>sepal length (cm): 6.1</br>sepal width (cm): 2.8</br>petal length (cm): 4.7</br>_original_yhat_: 0.97</br>"
          ],
          [
           "</br>id: 73</br>prediction: 0.97</br>petal width (cm): 0.9359999999999999</br></br>sepal length (cm): 6.1</br>sepal width (cm): 2.8</br>petal length (cm): 4.7</br>_original_yhat_: 0.97</br>"
          ],
          [
           "</br>id: 73</br>prediction: 0.97</br>petal width (cm): 0.958</br></br>sepal length (cm): 6.1</br>sepal width (cm): 2.8</br>petal length (cm): 4.7</br>_original_yhat_: 0.97</br>"
          ],
          [
           "</br>id: 73</br>prediction: 0.97</br>petal width (cm): 0.9799999999999999</br></br>sepal length (cm): 6.1</br>sepal width (cm): 2.8</br>petal length (cm): 4.7</br>_original_yhat_: 0.97</br>"
          ],
          [
           "</br>id: 73</br>prediction: 0.97</br>petal width (cm): 1.002</br></br>sepal length (cm): 6.1</br>sepal width (cm): 2.8</br>petal length (cm): 4.7</br>_original_yhat_: 0.97</br>"
          ],
          [
           "</br>id: 73</br>prediction: 0.97</br>petal width (cm): 1.024</br></br>sepal length (cm): 6.1</br>sepal width (cm): 2.8</br>petal length (cm): 4.7</br>_original_yhat_: 0.97</br>"
          ],
          [
           "</br>id: 73</br>prediction: 0.97</br>petal width (cm): 1.046</br></br>sepal length (cm): 6.1</br>sepal width (cm): 2.8</br>petal length (cm): 4.7</br>_original_yhat_: 0.97</br>"
          ],
          [
           "</br>id: 73</br>prediction: 0.97</br>petal width (cm): 1.068</br></br>sepal length (cm): 6.1</br>sepal width (cm): 2.8</br>petal length (cm): 4.7</br>_original_yhat_: 0.97</br>"
          ],
          [
           "</br>id: 73</br>prediction: 0.97</br>petal width (cm): 1.09</br></br>sepal length (cm): 6.1</br>sepal width (cm): 2.8</br>petal length (cm): 4.7</br>_original_yhat_: 0.97</br>"
          ],
          [
           "</br>id: 73</br>prediction: 0.97</br>petal width (cm): 1.112</br></br>sepal length (cm): 6.1</br>sepal width (cm): 2.8</br>petal length (cm): 4.7</br>_original_yhat_: 0.97</br>"
          ],
          [
           "</br>id: 73</br>prediction: 0.97</br>petal width (cm): 1.1340000000000001</br></br>sepal length (cm): 6.1</br>sepal width (cm): 2.8</br>petal length (cm): 4.7</br>_original_yhat_: 0.97</br>"
          ],
          [
           "</br>id: 73</br>prediction: 0.97</br>petal width (cm): 1.1560000000000001</br></br>sepal length (cm): 6.1</br>sepal width (cm): 2.8</br>petal length (cm): 4.7</br>_original_yhat_: 0.97</br>"
          ],
          [
           "</br>id: 73</br>prediction: 0.97</br>petal width (cm): 1.178</br></br>sepal length (cm): 6.1</br>sepal width (cm): 2.8</br>petal length (cm): 4.7</br>_original_yhat_: 0.97</br>"
          ],
          [
           "</br>id: 73</br>prediction: 0.97</br>petal width (cm): 1.2</br></br>sepal length (cm): 6.1</br>sepal width (cm): 2.8</br>petal length (cm): 4.7</br>_original_yhat_: 0.97</br>"
          ],
          [
           "</br>id: 73</br>prediction: 0.97</br>petal width (cm): 1.222</br></br>sepal length (cm): 6.1</br>sepal width (cm): 2.8</br>petal length (cm): 4.7</br>_original_yhat_: 0.97</br>"
          ],
          [
           "</br>id: 73</br>prediction: 0.97</br>petal width (cm): 1.244</br></br>sepal length (cm): 6.1</br>sepal width (cm): 2.8</br>petal length (cm): 4.7</br>_original_yhat_: 0.97</br>"
          ],
          [
           "</br>id: 73</br>prediction: 0.97</br>petal width (cm): 1.266</br></br>sepal length (cm): 6.1</br>sepal width (cm): 2.8</br>petal length (cm): 4.7</br>_original_yhat_: 0.97</br>"
          ],
          [
           "</br>id: 73</br>prediction: 0.97</br>petal width (cm): 1.288</br></br>sepal length (cm): 6.1</br>sepal width (cm): 2.8</br>petal length (cm): 4.7</br>_original_yhat_: 0.97</br>"
          ],
          [
           "</br>id: 73</br>prediction: 0.97</br>petal width (cm): 1.31</br></br>sepal length (cm): 6.1</br>sepal width (cm): 2.8</br>petal length (cm): 4.7</br>_original_yhat_: 0.97</br>"
          ],
          [
           "</br>id: 73</br>prediction: 0.97</br>petal width (cm): 1.332</br></br>sepal length (cm): 6.1</br>sepal width (cm): 2.8</br>petal length (cm): 4.7</br>_original_yhat_: 0.97</br>"
          ],
          [
           "</br>id: 73</br>prediction: 0.95</br>petal width (cm): 1.354</br></br>sepal length (cm): 6.1</br>sepal width (cm): 2.8</br>petal length (cm): 4.7</br>_original_yhat_: 0.97</br>"
          ],
          [
           "</br>id: 73</br>prediction: 0.95</br>petal width (cm): 1.3760000000000001</br></br>sepal length (cm): 6.1</br>sepal width (cm): 2.8</br>petal length (cm): 4.7</br>_original_yhat_: 0.97</br>"
          ],
          [
           "</br>id: 73</br>prediction: 0.95</br>petal width (cm): 1.398</br></br>sepal length (cm): 6.1</br>sepal width (cm): 2.8</br>petal length (cm): 4.7</br>_original_yhat_: 0.97</br>"
          ],
          [
           "</br>id: 73</br>prediction: 0.95</br>petal width (cm): 1.42</br></br>sepal length (cm): 6.1</br>sepal width (cm): 2.8</br>petal length (cm): 4.7</br>_original_yhat_: 0.97</br>"
          ],
          [
           "</br>id: 73</br>prediction: 0.95</br>petal width (cm): 1.442</br></br>sepal length (cm): 6.1</br>sepal width (cm): 2.8</br>petal length (cm): 4.7</br>_original_yhat_: 0.97</br>"
          ],
          [
           "</br>id: 73</br>prediction: 0.93</br>petal width (cm): 1.464</br></br>sepal length (cm): 6.1</br>sepal width (cm): 2.8</br>petal length (cm): 4.7</br>_original_yhat_: 0.97</br>"
          ],
          [
           "</br>id: 73</br>prediction: 0.93</br>petal width (cm): 1.486</br></br>sepal length (cm): 6.1</br>sepal width (cm): 2.8</br>petal length (cm): 4.7</br>_original_yhat_: 0.97</br>"
          ],
          [
           "</br>id: 73</br>prediction: 0.93</br>petal width (cm): 1.508</br></br>sepal length (cm): 6.1</br>sepal width (cm): 2.8</br>petal length (cm): 4.7</br>_original_yhat_: 0.97</br>"
          ],
          [
           "</br>id: 73</br>prediction: 0.93</br>petal width (cm): 1.53</br></br>sepal length (cm): 6.1</br>sepal width (cm): 2.8</br>petal length (cm): 4.7</br>_original_yhat_: 0.97</br>"
          ],
          [
           "</br>id: 73</br>prediction: 0.83</br>petal width (cm): 1.552</br></br>sepal length (cm): 6.1</br>sepal width (cm): 2.8</br>petal length (cm): 4.7</br>_original_yhat_: 0.97</br>"
          ],
          [
           "</br>id: 73</br>prediction: 0.83</br>petal width (cm): 1.574</br></br>sepal length (cm): 6.1</br>sepal width (cm): 2.8</br>petal length (cm): 4.7</br>_original_yhat_: 0.97</br>"
          ],
          [
           "</br>id: 73</br>prediction: 0.83</br>petal width (cm): 1.596</br></br>sepal length (cm): 6.1</br>sepal width (cm): 2.8</br>petal length (cm): 4.7</br>_original_yhat_: 0.97</br>"
          ],
          [
           "</br>id: 73</br>prediction: 0.72</br>petal width (cm): 1.618</br></br>sepal length (cm): 6.1</br>sepal width (cm): 2.8</br>petal length (cm): 4.7</br>_original_yhat_: 0.97</br>"
          ],
          [
           "</br>id: 73</br>prediction: 0.72</br>petal width (cm): 1.64</br></br>sepal length (cm): 6.1</br>sepal width (cm): 2.8</br>petal length (cm): 4.7</br>_original_yhat_: 0.97</br>"
          ],
          [
           "</br>id: 73</br>prediction: 0.62</br>petal width (cm): 1.662</br></br>sepal length (cm): 6.1</br>sepal width (cm): 2.8</br>petal length (cm): 4.7</br>_original_yhat_: 0.97</br>"
          ],
          [
           "</br>id: 73</br>prediction: 0.62</br>petal width (cm): 1.684</br></br>sepal length (cm): 6.1</br>sepal width (cm): 2.8</br>petal length (cm): 4.7</br>_original_yhat_: 0.97</br>"
          ],
          [
           "</br>id: 73</br>prediction: 0.57</br>petal width (cm): 1.706</br></br>sepal length (cm): 6.1</br>sepal width (cm): 2.8</br>petal length (cm): 4.7</br>_original_yhat_: 0.97</br>"
          ],
          [
           "</br>id: 73</br>prediction: 0.57</br>petal width (cm): 1.728</br></br>sepal length (cm): 6.1</br>sepal width (cm): 2.8</br>petal length (cm): 4.7</br>_original_yhat_: 0.97</br>"
          ],
          [
           "</br>id: 73</br>prediction: 0.57</br>petal width (cm): 1.75</br></br>sepal length (cm): 6.1</br>sepal width (cm): 2.8</br>petal length (cm): 4.7</br>_original_yhat_: 0.97</br>"
          ],
          [
           "</br>id: 73</br>prediction: 0.34</br>petal width (cm): 1.772</br></br>sepal length (cm): 6.1</br>sepal width (cm): 2.8</br>petal length (cm): 4.7</br>_original_yhat_: 0.97</br>"
          ],
          [
           "</br>id: 73</br>prediction: 0.34</br>petal width (cm): 1.794</br></br>sepal length (cm): 6.1</br>sepal width (cm): 2.8</br>petal length (cm): 4.7</br>_original_yhat_: 0.97</br>"
          ],
          [
           "</br>id: 73</br>prediction: 0.34</br>petal width (cm): 1.816</br></br>sepal length (cm): 6.1</br>sepal width (cm): 2.8</br>petal length (cm): 4.7</br>_original_yhat_: 0.97</br>"
          ],
          [
           "</br>id: 73</br>prediction: 0.34</br>petal width (cm): 1.838</br></br>sepal length (cm): 6.1</br>sepal width (cm): 2.8</br>petal length (cm): 4.7</br>_original_yhat_: 0.97</br>"
          ],
          [
           "</br>id: 73</br>prediction: 0.33</br>petal width (cm): 1.8599999999999999</br></br>sepal length (cm): 6.1</br>sepal width (cm): 2.8</br>petal length (cm): 4.7</br>_original_yhat_: 0.97</br>"
          ],
          [
           "</br>id: 73</br>prediction: 0.33</br>petal width (cm): 1.882</br></br>sepal length (cm): 6.1</br>sepal width (cm): 2.8</br>petal length (cm): 4.7</br>_original_yhat_: 0.97</br>"
          ],
          [
           "</br>id: 73</br>prediction: 0.33</br>petal width (cm): 1.904</br></br>sepal length (cm): 6.1</br>sepal width (cm): 2.8</br>petal length (cm): 4.7</br>_original_yhat_: 0.97</br>"
          ],
          [
           "</br>id: 73</br>prediction: 0.33</br>petal width (cm): 1.926</br></br>sepal length (cm): 6.1</br>sepal width (cm): 2.8</br>petal length (cm): 4.7</br>_original_yhat_: 0.97</br>"
          ],
          [
           "</br>id: 73</br>prediction: 0.33</br>petal width (cm): 1.948</br></br>sepal length (cm): 6.1</br>sepal width (cm): 2.8</br>petal length (cm): 4.7</br>_original_yhat_: 0.97</br>"
          ],
          [
           "</br>id: 73</br>prediction: 0.33</br>petal width (cm): 1.97</br></br>sepal length (cm): 6.1</br>sepal width (cm): 2.8</br>petal length (cm): 4.7</br>_original_yhat_: 0.97</br>"
          ],
          [
           "</br>id: 73</br>prediction: 0.33</br>petal width (cm): 1.992</br></br>sepal length (cm): 6.1</br>sepal width (cm): 2.8</br>petal length (cm): 4.7</br>_original_yhat_: 0.97</br>"
          ],
          [
           "</br>id: 73</br>prediction: 0.33</br>petal width (cm): 2.014</br></br>sepal length (cm): 6.1</br>sepal width (cm): 2.8</br>petal length (cm): 4.7</br>_original_yhat_: 0.97</br>"
          ],
          [
           "</br>id: 73</br>prediction: 0.33</br>petal width (cm): 2.036</br></br>sepal length (cm): 6.1</br>sepal width (cm): 2.8</br>petal length (cm): 4.7</br>_original_yhat_: 0.97</br>"
          ],
          [
           "</br>id: 73</br>prediction: 0.33</br>petal width (cm): 2.058</br></br>sepal length (cm): 6.1</br>sepal width (cm): 2.8</br>petal length (cm): 4.7</br>_original_yhat_: 0.97</br>"
          ],
          [
           "</br>id: 73</br>prediction: 0.33</br>petal width (cm): 2.08</br></br>sepal length (cm): 6.1</br>sepal width (cm): 2.8</br>petal length (cm): 4.7</br>_original_yhat_: 0.97</br>"
          ],
          [
           "</br>id: 73</br>prediction: 0.33</br>petal width (cm): 2.102</br></br>sepal length (cm): 6.1</br>sepal width (cm): 2.8</br>petal length (cm): 4.7</br>_original_yhat_: 0.97</br>"
          ],
          [
           "</br>id: 73</br>prediction: 0.33</br>petal width (cm): 2.124</br></br>sepal length (cm): 6.1</br>sepal width (cm): 2.8</br>petal length (cm): 4.7</br>_original_yhat_: 0.97</br>"
          ],
          [
           "</br>id: 73</br>prediction: 0.33</br>petal width (cm): 2.146</br></br>sepal length (cm): 6.1</br>sepal width (cm): 2.8</br>petal length (cm): 4.7</br>_original_yhat_: 0.97</br>"
          ],
          [
           "</br>id: 73</br>prediction: 0.33</br>petal width (cm): 2.168</br></br>sepal length (cm): 6.1</br>sepal width (cm): 2.8</br>petal length (cm): 4.7</br>_original_yhat_: 0.97</br>"
          ],
          [
           "</br>id: 73</br>prediction: 0.33</br>petal width (cm): 2.19</br></br>sepal length (cm): 6.1</br>sepal width (cm): 2.8</br>petal length (cm): 4.7</br>_original_yhat_: 0.97</br>"
          ],
          [
           "</br>id: 73</br>prediction: 0.33</br>petal width (cm): 2.212</br></br>sepal length (cm): 6.1</br>sepal width (cm): 2.8</br>petal length (cm): 4.7</br>_original_yhat_: 0.97</br>"
          ],
          [
           "</br>id: 73</br>prediction: 0.33</br>petal width (cm): 2.234</br></br>sepal length (cm): 6.1</br>sepal width (cm): 2.8</br>petal length (cm): 4.7</br>_original_yhat_: 0.97</br>"
          ],
          [
           "</br>id: 73</br>prediction: 0.33</br>petal width (cm): 2.256</br></br>sepal length (cm): 6.1</br>sepal width (cm): 2.8</br>petal length (cm): 4.7</br>_original_yhat_: 0.97</br>"
          ],
          [
           "</br>id: 73</br>prediction: 0.33</br>petal width (cm): 2.278</br></br>sepal length (cm): 6.1</br>sepal width (cm): 2.8</br>petal length (cm): 4.7</br>_original_yhat_: 0.97</br>"
          ],
          [
           "</br>id: 73</br>prediction: 0.33</br>petal width (cm): 2.3</br></br>sepal length (cm): 6.1</br>sepal width (cm): 2.8</br>petal length (cm): 4.7</br>_original_yhat_: 0.97</br>"
          ]
         ],
         "hovertemplate": "%{customdata[0]}<extra></extra>",
         "legendgroup": "setosa, versicolor, virginica",
         "line": {
          "color": "#46bac2",
          "dash": "solid",
          "width": 2
         },
         "marker": {
          "symbol": "circle"
         },
         "mode": "lines",
         "name": "setosa, versicolor, virginica",
         "opacity": 1,
         "orientation": "v",
         "showlegend": false,
         "type": "scatter",
         "x": [
          0.1,
          0.122,
          0.14400000000000002,
          0.166,
          0.188,
          0.21,
          0.232,
          0.254,
          0.276,
          0.298,
          0.31999999999999995,
          0.34199999999999997,
          0.364,
          0.386,
          0.40800000000000003,
          0.42999999999999994,
          0.45199999999999996,
          0.474,
          0.496,
          0.518,
          0.5399999999999999,
          0.5619999999999999,
          0.584,
          0.606,
          0.628,
          0.6499999999999999,
          0.6719999999999999,
          0.694,
          0.716,
          0.738,
          0.7599999999999999,
          0.7819999999999999,
          0.8039999999999999,
          0.826,
          0.848,
          0.8699999999999999,
          0.8919999999999999,
          0.9139999999999999,
          0.9359999999999999,
          0.958,
          0.9799999999999999,
          1.002,
          1.024,
          1.046,
          1.068,
          1.09,
          1.112,
          1.1340000000000001,
          1.1560000000000001,
          1.178,
          1.2,
          1.222,
          1.244,
          1.266,
          1.288,
          1.31,
          1.332,
          1.354,
          1.3760000000000001,
          1.398,
          1.42,
          1.442,
          1.464,
          1.486,
          1.508,
          1.53,
          1.552,
          1.574,
          1.596,
          1.618,
          1.64,
          1.662,
          1.684,
          1.706,
          1.728,
          1.75,
          1.772,
          1.794,
          1.816,
          1.838,
          1.8599999999999999,
          1.882,
          1.904,
          1.926,
          1.948,
          1.97,
          1.992,
          2.014,
          2.036,
          2.058,
          2.08,
          2.102,
          2.124,
          2.146,
          2.168,
          2.19,
          2.212,
          2.234,
          2.256,
          2.278,
          2.3
         ],
         "xaxis": "x2",
         "y": [
          0.5,
          0.5,
          0.5,
          0.5,
          0.5,
          0.5,
          0.5,
          0.5,
          0.5,
          0.5,
          0.5,
          0.5,
          0.5,
          0.5,
          0.5,
          0.5,
          0.5,
          0.5,
          0.5,
          0.5,
          0.5,
          0.5,
          0.5,
          0.6,
          0.6,
          0.6,
          0.6,
          0.6,
          0.64,
          0.64,
          0.75,
          0.75,
          0.97,
          0.97,
          0.97,
          0.97,
          0.97,
          0.97,
          0.97,
          0.97,
          0.97,
          0.97,
          0.97,
          0.97,
          0.97,
          0.97,
          0.97,
          0.97,
          0.97,
          0.97,
          0.97,
          0.97,
          0.97,
          0.97,
          0.97,
          0.97,
          0.97,
          0.95,
          0.95,
          0.95,
          0.95,
          0.95,
          0.93,
          0.93,
          0.93,
          0.93,
          0.83,
          0.83,
          0.83,
          0.72,
          0.72,
          0.62,
          0.62,
          0.57,
          0.57,
          0.57,
          0.34,
          0.34,
          0.34,
          0.34,
          0.33,
          0.33,
          0.33,
          0.33,
          0.33,
          0.33,
          0.33,
          0.33,
          0.33,
          0.33,
          0.33,
          0.33,
          0.33,
          0.33,
          0.33,
          0.33,
          0.33,
          0.33,
          0.33,
          0.33,
          0.33
         ],
         "yaxis": "y2"
        },
        {
         "customdata": [
          [
           "</br>id: 73</br>prediction: 0.97</br>sepal length (cm): 6.1</br></br>sepal width (cm): 2.8</br>petal length (cm): 4.7</br>petal width (cm): 1.2</br>_original_yhat_: 0.97</br>"
          ]
         ],
         "hovertemplate": "%{customdata[0]}<extra></extra>",
         "legendgroup": "",
         "marker": {
          "color": "#371ea3",
          "size": 10,
          "symbol": "circle"
         },
         "mode": "markers",
         "name": "",
         "opacity": 1,
         "orientation": "v",
         "showlegend": false,
         "type": "scatter",
         "x": [
          6.1
         ],
         "xaxis": "x3",
         "y": [
          0.97
         ],
         "yaxis": "y3"
        },
        {
         "customdata": [
          [
           "</br>id: 73</br>prediction: 0.97</br>sepal width (cm): 2.8</br></br>sepal length (cm): 6.1</br>petal length (cm): 4.7</br>petal width (cm): 1.2</br>_original_yhat_: 0.97</br>"
          ]
         ],
         "hovertemplate": "%{customdata[0]}<extra></extra>",
         "legendgroup": "",
         "marker": {
          "color": "#371ea3",
          "size": 10,
          "symbol": "circle"
         },
         "mode": "markers",
         "name": "",
         "opacity": 1,
         "orientation": "v",
         "showlegend": false,
         "type": "scatter",
         "x": [
          2.8
         ],
         "xaxis": "x4",
         "y": [
          0.97
         ],
         "yaxis": "y4"
        },
        {
         "customdata": [
          [
           "</br>id: 73</br>prediction: 0.97</br>petal length (cm): 4.7</br></br>sepal length (cm): 6.1</br>sepal width (cm): 2.8</br>petal width (cm): 1.2</br>_original_yhat_: 0.97</br>"
          ]
         ],
         "hovertemplate": "%{customdata[0]}<extra></extra>",
         "legendgroup": "",
         "marker": {
          "color": "#371ea3",
          "size": 10,
          "symbol": "circle"
         },
         "mode": "markers",
         "name": "",
         "opacity": 1,
         "orientation": "v",
         "showlegend": false,
         "type": "scatter",
         "x": [
          4.7
         ],
         "xaxis": "x",
         "y": [
          0.97
         ],
         "yaxis": "y"
        },
        {
         "customdata": [
          [
           "</br>id: 73</br>prediction: 0.97</br>petal width (cm): 1.2</br></br>sepal length (cm): 6.1</br>sepal width (cm): 2.8</br>petal length (cm): 4.7</br>_original_yhat_: 0.97</br>"
          ]
         ],
         "hovertemplate": "%{customdata[0]}<extra></extra>",
         "legendgroup": "",
         "marker": {
          "color": "#371ea3",
          "size": 10,
          "symbol": "circle"
         },
         "mode": "markers",
         "name": "",
         "opacity": 1,
         "orientation": "v",
         "showlegend": false,
         "type": "scatter",
         "x": [
          1.2
         ],
         "xaxis": "x2",
         "y": [
          0.97
         ],
         "yaxis": "y2"
        }
       ],
       "layout": {
        "annotations": [
         {
          "font": {
           "size": 13
          },
          "showarrow": false,
          "text": "petal length (cm)",
          "x": 0.2375,
          "xanchor": "center",
          "xref": "paper",
          "y": 0.425,
          "yanchor": "bottom",
          "yref": "paper"
         },
         {
          "font": {
           "size": 13
          },
          "showarrow": false,
          "text": "petal width (cm)",
          "x": 0.7625,
          "xanchor": "center",
          "xref": "paper",
          "y": 0.425,
          "yanchor": "bottom",
          "yref": "paper"
         },
         {
          "font": {
           "size": 13
          },
          "showarrow": false,
          "text": "sepal length (cm)",
          "x": 0.2375,
          "xanchor": "center",
          "xref": "paper",
          "y": 1,
          "yanchor": "bottom",
          "yref": "paper"
         },
         {
          "font": {
           "size": 13
          },
          "showarrow": false,
          "text": "sepal width (cm)",
          "x": 0.7625,
          "xanchor": "center",
          "xref": "paper",
          "y": 1,
          "yanchor": "bottom",
          "yref": "paper"
         },
         {
          "font": {
           "size": 13
          },
          "showarrow": false,
          "text": "prediction",
          "textangle": -90,
          "x": -0.07,
          "xref": "paper",
          "y": 0.5,
          "yref": "paper"
         }
        ],
        "font": {
         "color": "#371ea3"
        },
        "height": 829,
        "hoverlabel": {
         "bgcolor": "rgba(0,0,0,0.8)"
        },
        "hovermode": "closest",
        "legend": {
         "font": {
          "size": 11
         },
         "itemsizing": "constant",
         "orientation": "h",
         "title": {
          "font": {
           "size": 12
          },
          "text": "label"
         },
         "tracegroupgap": 0,
         "x": 1,
         "xanchor": "right",
         "y": 1.0361881785283473,
         "yanchor": "bottom"
        },
        "margin": {
         "b": 71,
         "r": 30,
         "t": 78
        },
        "template": {
         "data": {
          "scatter": [
           {
            "type": "scatter"
           }
          ]
         }
        },
        "title": {
         "font": {
          "size": 16
         },
         "text": "Ceteris Paribus Profiles",
         "x": 0.15
        },
        "xaxis": {
         "anchor": "y",
         "automargin": true,
         "domain": [
          0,
          0.475
         ],
         "fixedrange": true,
         "gridwidth": 2,
         "showticklabels": true,
         "tickcolor": "white",
         "ticklen": 3,
         "ticks": "outside",
         "title": {
          "text": ""
         },
         "type": "linear",
         "zeroline": false
        },
        "xaxis2": {
         "anchor": "y2",
         "automargin": true,
         "domain": [
          0.525,
          1
         ],
         "fixedrange": true,
         "gridwidth": 2,
         "showticklabels": true,
         "tickcolor": "white",
         "ticklen": 3,
         "ticks": "outside",
         "title": {
          "text": ""
         },
         "type": "linear",
         "zeroline": false
        },
        "xaxis3": {
         "anchor": "y3",
         "automargin": true,
         "domain": [
          0,
          0.475
         ],
         "fixedrange": true,
         "gridwidth": 2,
         "showticklabels": true,
         "tickcolor": "white",
         "ticklen": 3,
         "ticks": "outside",
         "title": {
          "text": ""
         },
         "type": "linear",
         "zeroline": false
        },
        "xaxis4": {
         "anchor": "y4",
         "automargin": true,
         "domain": [
          0.525,
          1
         ],
         "fixedrange": true,
         "gridwidth": 2,
         "showticklabels": true,
         "tickcolor": "white",
         "ticklen": 3,
         "ticks": "outside",
         "title": {
          "text": ""
         },
         "type": "linear",
         "zeroline": false
        },
        "yaxis": {
         "anchor": "x",
         "automargin": true,
         "domain": [
          0,
          0.425
         ],
         "fixedrange": true,
         "gridwidth": 2,
         "range": [
          0.21899999999999997,
          1.071
         ],
         "tickcolor": "white",
         "ticklen": 3,
         "ticks": "outside",
         "title": {
          "text": ""
         },
         "type": "linear",
         "zeroline": false
        },
        "yaxis2": {
         "anchor": "x2",
         "automargin": true,
         "domain": [
          0,
          0.425
         ],
         "fixedrange": true,
         "gridwidth": 2,
         "matches": "y",
         "range": [
          0.21899999999999997,
          1.071
         ],
         "showticklabels": false,
         "tickcolor": "white",
         "ticklen": 3,
         "ticks": "outside",
         "title": {
          "text": ""
         },
         "type": "linear",
         "zeroline": false
        },
        "yaxis3": {
         "anchor": "x3",
         "automargin": true,
         "domain": [
          0.575,
          1
         ],
         "fixedrange": true,
         "gridwidth": 2,
         "matches": "y",
         "range": [
          0.21899999999999997,
          1.071
         ],
         "tickcolor": "white",
         "ticklen": 3,
         "ticks": "outside",
         "title": {
          "text": ""
         },
         "type": "linear",
         "zeroline": false
        },
        "yaxis4": {
         "anchor": "x4",
         "automargin": true,
         "domain": [
          0.575,
          1
         ],
         "fixedrange": true,
         "gridwidth": 2,
         "matches": "y",
         "range": [
          0.21899999999999997,
          1.071
         ],
         "showticklabels": false,
         "tickcolor": "white",
         "ticklen": 3,
         "ticks": "outside",
         "title": {
          "text": ""
         },
         "type": "linear",
         "zeroline": false
        }
       }
      }
     },
     "metadata": {},
     "output_type": "display_data"
    },
    {
     "name": "stdout",
     "output_type": "stream",
     "text": [
      "Accumulated Local Effects\n"
     ]
    },
    {
     "name": "stderr",
     "output_type": "stream",
     "text": [
      "Calculating ceteris paribus: 100%|██████████| 1/1 [00:00<00:00, 48.16it/s]\n",
      "Calculating accumulated dependency: 100%|██████████| 1/1 [00:00<00:00, 17.98it/s]\n"
     ]
    },
    {
     "data": {
      "application/vnd.plotly.v1+json": {
       "config": {
        "displaylogo": false,
        "modeBarButtonsToRemove": [
         "sendDataToCloud",
         "lasso2d",
         "autoScale2d",
         "select2d",
         "zoom2d",
         "pan2d",
         "zoomIn2d",
         "zoomOut2d",
         "resetScale2d",
         "toggleSpikelines",
         "hoverCompareCartesian",
         "hoverClosestCartesian"
        ],
        "plotlyServerURL": "https://plot.ly",
        "staticPlot": false,
        "toImageButtonOptions": {
         "height": null,
         "width": null
        }
       },
       "data": [
        {
         "customdata": [
          [
           0.28733333333333333,
           "setosa, versicolor, virginica",
           "sepal length (cm)"
          ],
          [
           0.28733333333333333,
           "setosa, versicolor, virginica",
           "sepal length (cm)"
          ],
          [
           0.28733333333333333,
           "setosa, versicolor, virginica",
           "sepal length (cm)"
          ],
          [
           0.28733333333333333,
           "setosa, versicolor, virginica",
           "sepal length (cm)"
          ],
          [
           0.28733333333333333,
           "setosa, versicolor, virginica",
           "sepal length (cm)"
          ],
          [
           0.28733333333333333,
           "setosa, versicolor, virginica",
           "sepal length (cm)"
          ],
          [
           0.28733333333333333,
           "setosa, versicolor, virginica",
           "sepal length (cm)"
          ],
          [
           0.28733333333333333,
           "setosa, versicolor, virginica",
           "sepal length (cm)"
          ],
          [
           0.28733333333333333,
           "setosa, versicolor, virginica",
           "sepal length (cm)"
          ],
          [
           0.28733333333333333,
           "setosa, versicolor, virginica",
           "sepal length (cm)"
          ],
          [
           0.28733333333333333,
           "setosa, versicolor, virginica",
           "sepal length (cm)"
          ],
          [
           0.28733333333333333,
           "setosa, versicolor, virginica",
           "sepal length (cm)"
          ],
          [
           0.28733333333333333,
           "setosa, versicolor, virginica",
           "sepal length (cm)"
          ],
          [
           0.28733333333333333,
           "setosa, versicolor, virginica",
           "sepal length (cm)"
          ],
          [
           0.28733333333333333,
           "setosa, versicolor, virginica",
           "sepal length (cm)"
          ],
          [
           0.28733333333333333,
           "setosa, versicolor, virginica",
           "sepal length (cm)"
          ],
          [
           0.28733333333333333,
           "setosa, versicolor, virginica",
           "sepal length (cm)"
          ],
          [
           0.28733333333333333,
           "setosa, versicolor, virginica",
           "sepal length (cm)"
          ],
          [
           0.28733333333333333,
           "setosa, versicolor, virginica",
           "sepal length (cm)"
          ],
          [
           0.28733333333333333,
           "setosa, versicolor, virginica",
           "sepal length (cm)"
          ],
          [
           0.28733333333333333,
           "setosa, versicolor, virginica",
           "sepal length (cm)"
          ],
          [
           0.28733333333333333,
           "setosa, versicolor, virginica",
           "sepal length (cm)"
          ],
          [
           0.28733333333333333,
           "setosa, versicolor, virginica",
           "sepal length (cm)"
          ],
          [
           0.28733333333333333,
           "setosa, versicolor, virginica",
           "sepal length (cm)"
          ],
          [
           0.28733333333333333,
           "setosa, versicolor, virginica",
           "sepal length (cm)"
          ],
          [
           0.28733333333333333,
           "setosa, versicolor, virginica",
           "sepal length (cm)"
          ],
          [
           0.28733333333333333,
           "setosa, versicolor, virginica",
           "sepal length (cm)"
          ],
          [
           0.28733333333333333,
           "setosa, versicolor, virginica",
           "sepal length (cm)"
          ],
          [
           0.28733333333333333,
           "setosa, versicolor, virginica",
           "sepal length (cm)"
          ],
          [
           0.28733333333333333,
           "setosa, versicolor, virginica",
           "sepal length (cm)"
          ],
          [
           0.28733333333333333,
           "setosa, versicolor, virginica",
           "sepal length (cm)"
          ],
          [
           0.28733333333333333,
           "setosa, versicolor, virginica",
           "sepal length (cm)"
          ],
          [
           0.28733333333333333,
           "setosa, versicolor, virginica",
           "sepal length (cm)"
          ],
          [
           0.28733333333333333,
           "setosa, versicolor, virginica",
           "sepal length (cm)"
          ],
          [
           0.28733333333333333,
           "setosa, versicolor, virginica",
           "sepal length (cm)"
          ],
          [
           0.28733333333333333,
           "setosa, versicolor, virginica",
           "sepal length (cm)"
          ],
          [
           0.28733333333333333,
           "setosa, versicolor, virginica",
           "sepal length (cm)"
          ],
          [
           0.28733333333333333,
           "setosa, versicolor, virginica",
           "sepal length (cm)"
          ],
          [
           0.28733333333333333,
           "setosa, versicolor, virginica",
           "sepal length (cm)"
          ],
          [
           0.28733333333333333,
           "setosa, versicolor, virginica",
           "sepal length (cm)"
          ],
          [
           0.28733333333333333,
           "setosa, versicolor, virginica",
           "sepal length (cm)"
          ],
          [
           0.28733333333333333,
           "setosa, versicolor, virginica",
           "sepal length (cm)"
          ],
          [
           0.28733333333333333,
           "setosa, versicolor, virginica",
           "sepal length (cm)"
          ],
          [
           0.28733333333333333,
           "setosa, versicolor, virginica",
           "sepal length (cm)"
          ],
          [
           0.28733333333333333,
           "setosa, versicolor, virginica",
           "sepal length (cm)"
          ],
          [
           0.28733333333333333,
           "setosa, versicolor, virginica",
           "sepal length (cm)"
          ],
          [
           0.28733333333333333,
           "setosa, versicolor, virginica",
           "sepal length (cm)"
          ],
          [
           0.28733333333333333,
           "setosa, versicolor, virginica",
           "sepal length (cm)"
          ],
          [
           0.28733333333333333,
           "setosa, versicolor, virginica",
           "sepal length (cm)"
          ],
          [
           0.28733333333333333,
           "setosa, versicolor, virginica",
           "sepal length (cm)"
          ],
          [
           0.28733333333333333,
           "setosa, versicolor, virginica",
           "sepal length (cm)"
          ],
          [
           0.28733333333333333,
           "setosa, versicolor, virginica",
           "sepal length (cm)"
          ],
          [
           0.28733333333333333,
           "setosa, versicolor, virginica",
           "sepal length (cm)"
          ],
          [
           0.28733333333333333,
           "setosa, versicolor, virginica",
           "sepal length (cm)"
          ],
          [
           0.28733333333333333,
           "setosa, versicolor, virginica",
           "sepal length (cm)"
          ],
          [
           0.28733333333333333,
           "setosa, versicolor, virginica",
           "sepal length (cm)"
          ],
          [
           0.28733333333333333,
           "setosa, versicolor, virginica",
           "sepal length (cm)"
          ],
          [
           0.28733333333333333,
           "setosa, versicolor, virginica",
           "sepal length (cm)"
          ],
          [
           0.28733333333333333,
           "setosa, versicolor, virginica",
           "sepal length (cm)"
          ],
          [
           0.28733333333333333,
           "setosa, versicolor, virginica",
           "sepal length (cm)"
          ],
          [
           0.28733333333333333,
           "setosa, versicolor, virginica",
           "sepal length (cm)"
          ],
          [
           0.28733333333333333,
           "setosa, versicolor, virginica",
           "sepal length (cm)"
          ],
          [
           0.28733333333333333,
           "setosa, versicolor, virginica",
           "sepal length (cm)"
          ],
          [
           0.28733333333333333,
           "setosa, versicolor, virginica",
           "sepal length (cm)"
          ],
          [
           0.28733333333333333,
           "setosa, versicolor, virginica",
           "sepal length (cm)"
          ],
          [
           0.28733333333333333,
           "setosa, versicolor, virginica",
           "sepal length (cm)"
          ],
          [
           0.28733333333333333,
           "setosa, versicolor, virginica",
           "sepal length (cm)"
          ],
          [
           0.28733333333333333,
           "setosa, versicolor, virginica",
           "sepal length (cm)"
          ],
          [
           0.28733333333333333,
           "setosa, versicolor, virginica",
           "sepal length (cm)"
          ],
          [
           0.28733333333333333,
           "setosa, versicolor, virginica",
           "sepal length (cm)"
          ],
          [
           0.28733333333333333,
           "setosa, versicolor, virginica",
           "sepal length (cm)"
          ],
          [
           0.28733333333333333,
           "setosa, versicolor, virginica",
           "sepal length (cm)"
          ],
          [
           0.28733333333333333,
           "setosa, versicolor, virginica",
           "sepal length (cm)"
          ],
          [
           0.28733333333333333,
           "setosa, versicolor, virginica",
           "sepal length (cm)"
          ],
          [
           0.28733333333333333,
           "setosa, versicolor, virginica",
           "sepal length (cm)"
          ],
          [
           0.28733333333333333,
           "setosa, versicolor, virginica",
           "sepal length (cm)"
          ],
          [
           0.28733333333333333,
           "setosa, versicolor, virginica",
           "sepal length (cm)"
          ],
          [
           0.28733333333333333,
           "setosa, versicolor, virginica",
           "sepal length (cm)"
          ],
          [
           0.28733333333333333,
           "setosa, versicolor, virginica",
           "sepal length (cm)"
          ],
          [
           0.28733333333333333,
           "setosa, versicolor, virginica",
           "sepal length (cm)"
          ],
          [
           0.28733333333333333,
           "setosa, versicolor, virginica",
           "sepal length (cm)"
          ],
          [
           0.28733333333333333,
           "setosa, versicolor, virginica",
           "sepal length (cm)"
          ],
          [
           0.28733333333333333,
           "setosa, versicolor, virginica",
           "sepal length (cm)"
          ],
          [
           0.28733333333333333,
           "setosa, versicolor, virginica",
           "sepal length (cm)"
          ],
          [
           0.28733333333333333,
           "setosa, versicolor, virginica",
           "sepal length (cm)"
          ],
          [
           0.28733333333333333,
           "setosa, versicolor, virginica",
           "sepal length (cm)"
          ],
          [
           0.28733333333333333,
           "setosa, versicolor, virginica",
           "sepal length (cm)"
          ],
          [
           0.28733333333333333,
           "setosa, versicolor, virginica",
           "sepal length (cm)"
          ],
          [
           0.28733333333333333,
           "setosa, versicolor, virginica",
           "sepal length (cm)"
          ],
          [
           0.28733333333333333,
           "setosa, versicolor, virginica",
           "sepal length (cm)"
          ],
          [
           0.28733333333333333,
           "setosa, versicolor, virginica",
           "sepal length (cm)"
          ],
          [
           0.28733333333333333,
           "setosa, versicolor, virginica",
           "sepal length (cm)"
          ],
          [
           0.28733333333333333,
           "setosa, versicolor, virginica",
           "sepal length (cm)"
          ],
          [
           0.28733333333333333,
           "setosa, versicolor, virginica",
           "sepal length (cm)"
          ],
          [
           0.28733333333333333,
           "setosa, versicolor, virginica",
           "sepal length (cm)"
          ],
          [
           0.28733333333333333,
           "setosa, versicolor, virginica",
           "sepal length (cm)"
          ],
          [
           0.28733333333333333,
           "setosa, versicolor, virginica",
           "sepal length (cm)"
          ],
          [
           0.28733333333333333,
           "setosa, versicolor, virginica",
           "sepal length (cm)"
          ],
          [
           0.28733333333333333,
           "setosa, versicolor, virginica",
           "sepal length (cm)"
          ],
          [
           0.28733333333333333,
           "setosa, versicolor, virginica",
           "sepal length (cm)"
          ],
          [
           0.28733333333333333,
           "setosa, versicolor, virginica",
           "sepal length (cm)"
          ]
         ],
         "hovertemplate": "<b>%{hovertext}</b><br><br>prediction=%{y:.3f}<br>mean_prediction=%{customdata[0]:.3f}<extra></extra>",
         "hovertext": [
          "setosa, versicolor, virginica",
          "setosa, versicolor, virginica",
          "setosa, versicolor, virginica",
          "setosa, versicolor, virginica",
          "setosa, versicolor, virginica",
          "setosa, versicolor, virginica",
          "setosa, versicolor, virginica",
          "setosa, versicolor, virginica",
          "setosa, versicolor, virginica",
          "setosa, versicolor, virginica",
          "setosa, versicolor, virginica",
          "setosa, versicolor, virginica",
          "setosa, versicolor, virginica",
          "setosa, versicolor, virginica",
          "setosa, versicolor, virginica",
          "setosa, versicolor, virginica",
          "setosa, versicolor, virginica",
          "setosa, versicolor, virginica",
          "setosa, versicolor, virginica",
          "setosa, versicolor, virginica",
          "setosa, versicolor, virginica",
          "setosa, versicolor, virginica",
          "setosa, versicolor, virginica",
          "setosa, versicolor, virginica",
          "setosa, versicolor, virginica",
          "setosa, versicolor, virginica",
          "setosa, versicolor, virginica",
          "setosa, versicolor, virginica",
          "setosa, versicolor, virginica",
          "setosa, versicolor, virginica",
          "setosa, versicolor, virginica",
          "setosa, versicolor, virginica",
          "setosa, versicolor, virginica",
          "setosa, versicolor, virginica",
          "setosa, versicolor, virginica",
          "setosa, versicolor, virginica",
          "setosa, versicolor, virginica",
          "setosa, versicolor, virginica",
          "setosa, versicolor, virginica",
          "setosa, versicolor, virginica",
          "setosa, versicolor, virginica",
          "setosa, versicolor, virginica",
          "setosa, versicolor, virginica",
          "setosa, versicolor, virginica",
          "setosa, versicolor, virginica",
          "setosa, versicolor, virginica",
          "setosa, versicolor, virginica",
          "setosa, versicolor, virginica",
          "setosa, versicolor, virginica",
          "setosa, versicolor, virginica",
          "setosa, versicolor, virginica",
          "setosa, versicolor, virginica",
          "setosa, versicolor, virginica",
          "setosa, versicolor, virginica",
          "setosa, versicolor, virginica",
          "setosa, versicolor, virginica",
          "setosa, versicolor, virginica",
          "setosa, versicolor, virginica",
          "setosa, versicolor, virginica",
          "setosa, versicolor, virginica",
          "setosa, versicolor, virginica",
          "setosa, versicolor, virginica",
          "setosa, versicolor, virginica",
          "setosa, versicolor, virginica",
          "setosa, versicolor, virginica",
          "setosa, versicolor, virginica",
          "setosa, versicolor, virginica",
          "setosa, versicolor, virginica",
          "setosa, versicolor, virginica",
          "setosa, versicolor, virginica",
          "setosa, versicolor, virginica",
          "setosa, versicolor, virginica",
          "setosa, versicolor, virginica",
          "setosa, versicolor, virginica",
          "setosa, versicolor, virginica",
          "setosa, versicolor, virginica",
          "setosa, versicolor, virginica",
          "setosa, versicolor, virginica",
          "setosa, versicolor, virginica",
          "setosa, versicolor, virginica",
          "setosa, versicolor, virginica",
          "setosa, versicolor, virginica",
          "setosa, versicolor, virginica",
          "setosa, versicolor, virginica",
          "setosa, versicolor, virginica",
          "setosa, versicolor, virginica",
          "setosa, versicolor, virginica",
          "setosa, versicolor, virginica",
          "setosa, versicolor, virginica",
          "setosa, versicolor, virginica",
          "setosa, versicolor, virginica",
          "setosa, versicolor, virginica",
          "setosa, versicolor, virginica",
          "setosa, versicolor, virginica",
          "setosa, versicolor, virginica",
          "setosa, versicolor, virginica",
          "setosa, versicolor, virginica",
          "setosa, versicolor, virginica",
          "setosa, versicolor, virginica",
          "setosa, versicolor, virginica",
          "setosa, versicolor, virginica"
         ],
         "legendgroup": "setosa, versicolor, virginica",
         "line": {
          "color": "#46bac2",
          "dash": "solid",
          "width": 2
         },
         "marker": {
          "symbol": "circle"
         },
         "mode": "lines",
         "name": "setosa, versicolor, virginica",
         "opacity": 1,
         "orientation": "v",
         "showlegend": true,
         "type": "scatter",
         "x": [
          4.4,
          4.4350000000000005,
          4.470000000000001,
          4.505000000000001,
          4.54,
          4.575,
          4.61,
          4.6450000000000005,
          4.680000000000001,
          4.715000000000001,
          4.75,
          4.785,
          4.82,
          4.855,
          4.890000000000001,
          4.925000000000001,
          4.960000000000001,
          4.995,
          5.03,
          5.065,
          5.1000000000000005,
          5.135000000000001,
          5.17,
          5.205,
          5.24,
          5.275,
          5.3100000000000005,
          5.345000000000001,
          5.380000000000001,
          5.415000000000001,
          5.45,
          5.485,
          5.5200000000000005,
          5.555000000000001,
          5.590000000000001,
          5.625,
          5.66,
          5.695,
          5.73,
          5.765000000000001,
          5.800000000000001,
          5.835000000000001,
          5.870000000000001,
          5.905,
          5.94,
          5.9750000000000005,
          6.010000000000001,
          6.045000000000001,
          6.08,
          6.115,
          6.15,
          6.1850000000000005,
          6.220000000000001,
          6.255000000000001,
          6.290000000000001,
          6.325000000000001,
          6.36,
          6.3950000000000005,
          6.430000000000001,
          6.465000000000001,
          6.5,
          6.535,
          6.57,
          6.605,
          6.640000000000001,
          6.675000000000001,
          6.710000000000001,
          6.745000000000001,
          6.780000000000001,
          6.815,
          6.8500000000000005,
          6.885000000000001,
          6.920000000000001,
          6.955,
          6.99,
          7.025,
          7.0600000000000005,
          7.095000000000001,
          7.130000000000001,
          7.165000000000001,
          7.200000000000001,
          7.235000000000001,
          7.2700000000000005,
          7.305000000000001,
          7.340000000000001,
          7.375,
          7.41,
          7.445,
          7.48,
          7.515000000000001,
          7.550000000000001,
          7.585000000000001,
          7.620000000000001,
          7.655000000000001,
          7.690000000000001,
          7.7250000000000005,
          7.760000000000001,
          7.795000000000001,
          7.83,
          7.865,
          7.9
         ],
         "xaxis": "x",
         "y": [
          0.2403082202440265,
          0.2403082202440265,
          0.2403082202440265,
          0.2403082202440265,
          0.2403082202440265,
          0.2403082202440265,
          0.2403082202440265,
          0.2403082202440265,
          0.2403082202440265,
          0.2403082202440265,
          0.2403082202440265,
          0.2403082202440265,
          0.2403082202440265,
          0.2403082202440265,
          0.2403082202440265,
          0.2403082202440265,
          0.26555569884017755,
          0.26555569884017755,
          0.26555569884017755,
          0.26555569884017755,
          0.26555569884017755,
          0.26555569884017755,
          0.27031805413668913,
          0.27031805413668913,
          0.27031805413668913,
          0.2767477033469356,
          0.2767477033469356,
          0.2767477033469356,
          0.27985917117724884,
          0.28120171733541277,
          0.28120171733541277,
          0.2905389295609567,
          0.2905389295609567,
          0.2913574049281485,
          0.2913574049281485,
          0.2913574049281485,
          0.2913574049281485,
          0.2913574049281485,
          0.2913574049281485,
          0.29067198512277304,
          0.29067198512277304,
          0.29067198512277304,
          0.29989898448479824,
          0.3008255184818611,
          0.3008255184818611,
          0.2946334864589099,
          0.2946334864589099,
          0.2946334864589099,
          0.28737085611716645,
          0.28474336195176697,
          0.29526681046715986,
          0.2943848153438544,
          0.2947120542179007,
          0.29267295910943186,
          0.29267295910943186,
          0.29267295910943186,
          0.2986695301132446,
          0.2986695301132446,
          0.30653738107243045,
          0.30653738107243045,
          0.30653738107243045,
          0.3128987171455203,
          0.3128987171455203,
          0.31359111375819704,
          0.31359111375819704,
          0.31359111375819704,
          0.31359111375819704,
          0.31359111375819704,
          0.3129469279571775,
          0.3129469279571775,
          0.3129469279571775,
          0.3129469279571775,
          0.3129469279571775,
          0.3129469279571775,
          0.3129469279571775,
          0.3129469279571775,
          0.3060689622931352,
          0.3060689622931352,
          0.30223208766705284,
          0.30223208766705284,
          0.30223208766705284,
          0.30223208766705284,
          0.30223208766705284,
          0.30223208766705284,
          0.30223208766705284,
          0.30223208766705284,
          0.30223208766705284,
          0.30223208766705284,
          0.30223208766705284,
          0.30223208766705284,
          0.30223208766705284,
          0.30223208766705284,
          0.30223208766705284,
          0.30223208766705284,
          0.30223208766705284,
          0.30223208766705284,
          0.30223208766705284,
          0.30223208766705284,
          0.30223208766705284,
          0.30223208766705284,
          0.30223208766705284
         ],
         "yaxis": "y"
        }
       ],
       "layout": {
        "annotations": [
         {
          "font": {
           "size": 13
          },
          "showarrow": false,
          "text": "sepal length (cm)",
          "x": 0.5,
          "xanchor": "center",
          "xref": "paper",
          "y": 1,
          "yanchor": "bottom",
          "yref": "paper"
         },
         {
          "font": {
           "size": 13
          },
          "showarrow": false,
          "text": "prediction",
          "textangle": -90,
          "x": -0.07,
          "xref": "paper",
          "y": 0.5,
          "yref": "paper"
         }
        ],
        "font": {
         "color": "#371ea3"
        },
        "height": 489,
        "hovermode": "x unified",
        "legend": {
         "font": {
          "size": 11
         },
         "itemsizing": "constant",
         "orientation": "h",
         "title": {
          "font": {
           "size": 12
          },
          "text": "label"
         },
         "tracegroupgap": 0,
         "x": 1,
         "xanchor": "right",
         "y": 1.0613496932515338,
         "yanchor": "bottom"
        },
        "margin": {
         "b": 71,
         "r": 30,
         "t": 78
        },
        "template": {
         "data": {
          "scatter": [
           {
            "type": "scatter"
           }
          ]
         }
        },
        "title": {
         "font": {
          "size": 16
         },
         "text": "Aggregated Profiles",
         "x": 0.15
        },
        "xaxis": {
         "anchor": "y",
         "automargin": true,
         "domain": [
          0,
          1
         ],
         "fixedrange": true,
         "gridwidth": 2,
         "showticklabels": true,
         "tickcolor": "white",
         "ticklen": 3,
         "ticks": "outside",
         "title": {
          "text": ""
         },
         "type": "linear",
         "zeroline": false
        },
        "yaxis": {
         "anchor": "x",
         "automargin": true,
         "domain": [
          0,
          1
         ],
         "fixedrange": true,
         "gridwidth": 2,
         "range": [
          0.23297993089260946,
          0.3209194031096141
         ],
         "tickcolor": "white",
         "ticklen": 3,
         "ticks": "outside",
         "title": {
          "text": ""
         },
         "type": "linear",
         "zeroline": false
        }
       }
      }
     },
     "metadata": {},
     "output_type": "display_data"
    }
   ],
   "source": [
    "from sklearn.ensemble import RandomForestClassifier\n",
    "from sklearn.datasets import load_iris\n",
    "from sklearn.model_selection import train_test_split\n",
    "import pandas as pd\n",
    "import dalex as dx\n",
    "import plotly.express as px\n",
    "\n",
    "# Wczytanie danych \n",
    "iris = load_iris()\n",
    "# Rozdzielenie cech (X) i etykiet (y)\n",
    "X, y = iris.data, iris.target\n",
    "X_df = pd.DataFrame(X, columns=iris.feature_names)      \n",
    "\n",
    "# Podział danych na zbiór treningowy i testowy                                       \n",
    "X_train, X_test, y_train, y_test = train_test_split(X_df, y, test_size=0.3, random_state=42)    \n",
    "\n",
    "# Tworzenie modelu RandomForestClassifier\n",
    "rf_model = RandomForestClassifier(random_state=42)                                              \n",
    "rf_model.fit(X_train, y_train)\n",
    "\n",
    "# Tworzenie explainera za pomocą Dalex\n",
    "explainer = dx.Explainer(rf_model, X_test, y_test, label=\", \".join(iris.target_names))           \n",
    "# Predykcje dla danych testowych\n",
    "predictions = explainer.predict(X_test)     \n",
    "                                                    \n",
    "# Wyświetlenie wykresu Break Down dla pierwszej obserwacji\n",
    "bd = explainer.predict_parts(X_test.iloc[0], type='break_down')                                 \n",
    "bd.plot()\n",
    "\n",
    "# Wyświetlenie progów klasyfikacyjnych dla pierwszej obserwacji\n",
    "probabilities = rf_model.predict_proba(X_test.iloc[[0]])[0]\n",
    "thresholds = {iris.target_names[i]: prob for i, prob in enumerate(probabilities)}\n",
    "print(\"Classification thresholds for the first observation:\", thresholds)\n",
    "\n",
    "# Wyświetlenie wykresu Feature Importance\n",
    "fi = explainer.model_parts()                                                                   \n",
    "fi.plot()\n",
    "\n",
    "# Wyświetlenie wykresu Partial Dependence Plot (PDP) dla jednej z cech\n",
    "print(\" Partial Dependence Plots\")\n",
    "pdp = explainer.model_profile(variables=['sepal length (cm)'])                                  \n",
    "pdp.plot()\n",
    "\n",
    "# Wyświetlenie wykresu Ceteris Paribus dla pierwszej obserwacji\n",
    "print(\"Ceteris Paribus\")\n",
    "cp = explainer.predict_profile(X_test.iloc[0])                                                  \n",
    "cp.plot()\n",
    "# Wyświetlenie wykresu Accumulated Local Effects (ALE) dla jednej z cech\n",
    "print(\"Accumulated Local Effects\")\n",
    "ale = explainer.model_profile(type='accumulated', variables=['sepal length (cm)'])             \n",
    "ale.plot()"
   ]
  }
 ],
 "metadata": {
  "kernelspec": {
   "display_name": "Python 3",
   "language": "python",
   "name": "python3"
  },
  "language_info": {
   "codemirror_mode": {
    "name": "ipython",
    "version": 3
   },
   "file_extension": ".py",
   "mimetype": "text/x-python",
   "name": "python",
   "nbconvert_exporter": "python",
   "pygments_lexer": "ipython3",
   "version": "3.11.9"
  }
 },
 "nbformat": 4,
 "nbformat_minor": 2
}
