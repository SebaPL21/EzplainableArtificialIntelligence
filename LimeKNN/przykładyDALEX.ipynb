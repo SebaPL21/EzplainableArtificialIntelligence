{
 "cells": [
  {
   "cell_type": "code",
   "execution_count": 44,
   "metadata": {},
   "outputs": [
    {
     "name": "stdout",
     "output_type": "stream",
     "text": [
      "Preparation of a new explainer is initiated\n",
      "\n",
      "  -> data              : 45 rows 4 cols\n",
      "  -> target variable   : 45 values\n",
      "  -> model_class       : sklearn.ensemble._forest.RandomForestClassifier (default)\n",
      "  -> label             : setosa, versicolor, virginica\n",
      "  -> predict function  : <function yhat_proba_default at 0x000001BB7C097740> will be used (default)\n",
      "  -> predict function  : Accepts pandas.DataFrame and numpy.ndarray.\n",
      "  -> predicted values  : min = 0.0, mean = 0.287, max = 1.0\n",
      "  -> model type        : classification will be used (default)\n",
      "  -> residual function : difference between y and yhat (default)\n",
      "  -> residuals         : min = -0.05, mean = 0.579, max = 2.0\n",
      "  -> model_info        : package sklearn\n",
      "\n",
      "A new explainer has been created!\n"
     ]
    },
    {
     "data": {
      "application/vnd.plotly.v1+json": {
       "config": {
        "displaylogo": false,
        "modeBarButtonsToRemove": [
         "sendDataToCloud",
         "lasso2d",
         "autoScale2d",
         "select2d",
         "zoom2d",
         "pan2d",
         "zoomIn2d",
         "zoomOut2d",
         "resetScale2d",
         "toggleSpikelines",
         "hoverCompareCartesian",
         "hoverClosestCartesian"
        ],
        "plotlyServerURL": "https://plot.ly",
        "staticPlot": false,
        "toImageButtonOptions": {
         "height": null,
         "width": null
        }
       },
       "data": [
        {
         "base": 0.2873333333333334,
         "connector": {
          "line": {
           "color": "#371ea3",
           "dash": "solid",
           "width": 1
          },
          "mode": "spanning"
         },
         "decreasing": {
          "marker": {
           "color": "#f05a71"
          }
         },
         "hoverinfo": "text+delta",
         "hoverlabel": {
          "bgcolor": "rgba(0,0,0,0.8)"
         },
         "hovertext": [
          "Average response: 0.287<br>Prediction: 0.97",
          "petal width (cm) = 1.2<br>increases average response by",
          "petal length (cm) = 4.7<br>increases average response by",
          "sepal length (cm) = 6.1<br>increases average response by",
          "sepal width (cm) = 2.8<br>increases average response by",
          "Average response: 0.287<br>Prediction: 0.97"
         ],
         "increasing": {
          "marker": {
           "color": "#8bdcbe"
          }
         },
         "measure": [
          "relative",
          "relative",
          "relative",
          "relative",
          "relative",
          "total"
         ],
         "orientation": "h",
         "showlegend": false,
         "text": [
          "0.287",
          "+0.298",
          "+0.354",
          "+0.027",
          "+0.004",
          "0.97"
         ],
         "textposition": "outside",
         "totals": {
          "marker": {
           "color": "#371ea3"
          }
         },
         "type": "waterfall",
         "x": [
          0,
          0.298,
          0.354,
          0.027,
          0.004,
          0.683
         ],
         "xaxis": "x",
         "y": [
          "intercept",
          "petal width (cm) = 1.2",
          "petal length (cm) = 4.7",
          "sepal length (cm) = 6.1",
          "sepal width (cm) = 2.8",
          "prediction"
         ],
         "yaxis": "y"
        }
       ],
       "layout": {
        "annotations": [
         {
          "font": {
           "size": 16
          },
          "showarrow": false,
          "text": "setosa, versicolor, virginica",
          "x": 0.5,
          "xanchor": "center",
          "xref": "paper",
          "y": 1,
          "yanchor": "bottom",
          "yref": "paper"
         },
         {
          "font": {
           "size": 16
          },
          "showarrow": false,
          "text": "contribution",
          "x": 0.5,
          "xanchor": "center",
          "xref": "paper",
          "y": 0,
          "yanchor": "top",
          "yref": "paper",
          "yshift": -30
         }
        ],
        "font": {
         "color": "#371ea3"
        },
        "height": 273,
        "margin": {
         "b": 71,
         "r": 30,
         "t": 78
        },
        "shapes": [
         {
          "line": {
           "color": "#371ea3",
           "dash": "dot",
           "width": 1.5
          },
          "type": "line",
          "x0": 0.2873333333333334,
          "x1": 0.2873333333333334,
          "xref": "x",
          "y0": -1,
          "y1": 6,
          "yref": "y"
         }
        ],
        "template": {
         "data": {
          "scatter": [
           {
            "type": "scatter"
           }
          ]
         }
        },
        "title": {
         "text": "Break Down",
         "x": 0.15
        },
        "xaxis": {
         "anchor": "y",
         "automargin": true,
         "domain": [
          0,
          1
         ],
         "fixedrange": true,
         "gridwidth": 2,
         "range": [
          0.18455,
          1.07245
         ],
         "tickcolor": "white",
         "ticklen": 3,
         "ticks": "outside",
         "type": "linear",
         "zeroline": false
        },
        "yaxis": {
         "anchor": "x",
         "automargin": true,
         "autorange": "reversed",
         "domain": [
          0,
          1
         ],
         "fixedrange": true,
         "gridwidth": 2,
         "tickcolor": "white",
         "ticklen": 10,
         "ticks": "outside",
         "type": "category"
        }
       }
      }
     },
     "metadata": {},
     "output_type": "display_data"
    },
    {
     "name": "stdout",
     "output_type": "stream",
     "text": [
      "Classification thresholds for the first observation: {'setosa': 0.0, 'versicolor': 0.97, 'virginica': 0.03}\n"
     ]
    },
    {
     "data": {
      "application/vnd.plotly.v1+json": {
       "config": {
        "displaylogo": false,
        "modeBarButtonsToRemove": [
         "sendDataToCloud",
         "lasso2d",
         "autoScale2d",
         "select2d",
         "zoom2d",
         "pan2d",
         "zoomIn2d",
         "zoomOut2d",
         "resetScale2d",
         "toggleSpikelines",
         "hoverCompareCartesian",
         "hoverClosestCartesian"
        ],
        "plotlyServerURL": "https://plot.ly",
        "staticPlot": false,
        "toImageButtonOptions": {
         "height": null,
         "width": null
        }
       },
       "data": [
        {
         "base": 0.2873333333333334,
         "hoverinfo": "text",
         "hoverlabel": {
          "bgcolor": "rgba(0,0,0,0.8)"
         },
         "hovertext": [
          "Average response: 0.287<br>Prediction: 0.97<br>petal width (cm) = 1.2<br>increases average response <br>by 0.351",
          "Average response: 0.287<br>Prediction: 0.97<br>petal length (cm) = 4.7<br>increases average response <br>by 0.304",
          "Average response: 0.287<br>Prediction: 0.97<br>sepal length (cm) = 6.1<br>increases average response <br>by 0.026",
          "Average response: 0.287<br>Prediction: 0.97<br>sepal width (cm) = 2.8<br>increases average response <br>by 0.002"
         ],
         "marker": {
          "color": [
           "#8bdcbe",
           "#8bdcbe",
           "#8bdcbe",
           "#8bdcbe"
          ]
         },
         "orientation": "h",
         "showlegend": false,
         "text": [
          "+0.351",
          "+0.304",
          "+0.026",
          "+0.002"
         ],
         "textposition": "outside",
         "type": "bar",
         "x": [
          0.351,
          0.304,
          0.026,
          0.002
         ],
         "xaxis": "x",
         "y": [
          "petal width (cm) = 1.2",
          "petal length (cm) = 4.7",
          "sepal length (cm) = 6.1",
          "sepal width (cm) = 2.8"
         ],
         "yaxis": "y"
        }
       ],
       "layout": {
        "annotations": [
         {
          "font": {
           "size": 16
          },
          "showarrow": false,
          "text": "setosa, versicolor, virginica",
          "x": 0.5,
          "xanchor": "center",
          "xref": "paper",
          "y": 1,
          "yanchor": "bottom",
          "yref": "paper"
         },
         {
          "font": {
           "size": 16
          },
          "showarrow": false,
          "text": "contribution",
          "x": 0.5,
          "xanchor": "center",
          "xref": "paper",
          "y": 0,
          "yanchor": "top",
          "yref": "paper",
          "yshift": -30
         }
        ],
        "font": {
         "color": "#371ea3"
        },
        "height": 233,
        "margin": {
         "b": 71,
         "r": 30,
         "t": 78
        },
        "shapes": [
         {
          "line": {
           "color": "#371ea3",
           "dash": "dot",
           "width": 1.5
          },
          "type": "line",
          "x0": 0.2873333333333334,
          "x1": 0.2873333333333334,
          "xref": "x",
          "y0": -1,
          "y1": 4,
          "yref": "y"
         }
        ],
        "template": {
         "data": {
          "scatter": [
           {
            "type": "scatter"
           }
          ]
         }
        },
        "title": {
         "text": "Shapley Values",
         "x": 0.15
        },
        "xaxis": {
         "anchor": "y",
         "automargin": true,
         "domain": [
          0,
          1
         ],
         "fixedrange": true,
         "gridwidth": 2,
         "range": [
          0.23698333333333338,
          0.6906833333333334
         ],
         "tickcolor": "white",
         "ticklen": 3,
         "ticks": "outside",
         "type": "linear",
         "zeroline": false
        },
        "yaxis": {
         "anchor": "x",
         "automargin": true,
         "autorange": "reversed",
         "domain": [
          0,
          1
         ],
         "fixedrange": true,
         "gridwidth": 2,
         "tickcolor": "white",
         "ticklen": 10,
         "ticks": "outside",
         "type": "category"
        }
       }
      }
     },
     "metadata": {},
     "output_type": "display_data"
    },
    {
     "data": {
      "application/vnd.plotly.v1+json": {
       "config": {
        "displaylogo": false,
        "modeBarButtonsToRemove": [
         "sendDataToCloud",
         "lasso2d",
         "autoScale2d",
         "select2d",
         "zoom2d",
         "pan2d",
         "zoomIn2d",
         "zoomOut2d",
         "resetScale2d",
         "toggleSpikelines",
         "hoverCompareCartesian",
         "hoverClosestCartesian"
        ],
        "plotlyServerURL": "https://plot.ly",
        "staticPlot": false,
        "toImageButtonOptions": {
         "height": null,
         "width": null
        }
       },
       "data": [
        {
         "base": -0.34188034188034155,
         "hoverinfo": "text",
         "hoverlabel": {
          "bgcolor": "rgba(0,0,0,0.8)"
         },
         "hovertext": [
          "Model: setosa, versicolor, virginica loss after<br>variable: petal length (cm) is permuted: 0.293<br>Drop-out loss change: +0.635",
          "Model: setosa, versicolor, virginica loss after<br>variable: petal width (cm) is permuted: 0.287<br>Drop-out loss change: +0.629",
          "Model: setosa, versicolor, virginica loss after<br>variable: sepal width (cm) is permuted: 0.109<br>Drop-out loss change: +0.45",
          "Model: setosa, versicolor, virginica loss after<br>variable: sepal length (cm) is permuted: 0.101<br>Drop-out loss change: +0.443"
         ],
         "marker": {
          "color": "#46bac2"
         },
         "orientation": "h",
         "showlegend": false,
         "text": [
          "+0.635",
          "+0.629",
          "+0.45",
          "+0.443"
         ],
         "textposition": "outside",
         "type": "bar",
         "x": [
          0.6348290598290595,
          0.6290598290598288,
          0.4504273504273501,
          0.4431623931623928
         ],
         "xaxis": "x",
         "y": [
          "petal length (cm)",
          "petal width (cm)",
          "sepal width (cm)",
          "sepal length (cm)"
         ],
         "yaxis": "y"
        }
       ],
       "layout": {
        "annotations": [
         {
          "font": {
           "size": 16
          },
          "showarrow": false,
          "text": "setosa, versicolor, virginica",
          "x": 0.5,
          "xanchor": "center",
          "xref": "paper",
          "y": 1,
          "yanchor": "bottom",
          "yref": "paper"
         },
         {
          "font": {
           "size": 16
          },
          "showarrow": false,
          "text": "drop-out loss",
          "x": 0.5,
          "xanchor": "center",
          "xref": "paper",
          "y": 0,
          "yanchor": "top",
          "yref": "paper",
          "yshift": -30
         }
        ],
        "font": {
         "color": "#371ea3"
        },
        "height": 263,
        "margin": {
         "b": 71,
         "r": 30,
         "t": 78
        },
        "shapes": [
         {
          "line": {
           "color": "#371ea3",
           "dash": "dot",
           "width": 1.5
          },
          "type": "line",
          "x0": -0.34188034188034155,
          "x1": -0.34188034188034155,
          "xref": "x",
          "y0": -1,
          "y1": 4,
          "yref": "y"
         }
        ],
        "template": {
         "data": {
          "scatter": [
           {
            "type": "scatter"
           }
          ]
         }
        },
        "title": {
         "text": "Variable Importance",
         "x": 0.15
        },
        "xaxis": {
         "anchor": "y",
         "automargin": true,
         "domain": [
          0,
          1
         ],
         "fixedrange": true,
         "gridwidth": 2,
         "range": [
          -0.4371047008547005,
          0.38817307692307684
         ],
         "tickcolor": "white",
         "ticklen": 3,
         "ticks": "outside",
         "type": "linear",
         "zeroline": false
        },
        "yaxis": {
         "anchor": "x",
         "automargin": true,
         "autorange": "reversed",
         "domain": [
          0,
          1
         ],
         "fixedrange": true,
         "gridwidth": 2,
         "tickcolor": "white",
         "ticklen": 10,
         "ticks": "outside",
         "type": "category"
        }
       }
      }
     },
     "metadata": {},
     "output_type": "display_data"
    },
    {
     "name": "stderr",
     "output_type": "stream",
     "text": [
      "Calculating ceteris paribus: 100%|██████████| 1/1 [00:00<00:00, 49.72it/s]\n"
     ]
    },
    {
     "data": {
      "application/vnd.plotly.v1+json": {
       "config": {
        "displaylogo": false,
        "modeBarButtonsToRemove": [
         "sendDataToCloud",
         "lasso2d",
         "autoScale2d",
         "select2d",
         "zoom2d",
         "pan2d",
         "zoomIn2d",
         "zoomOut2d",
         "resetScale2d",
         "toggleSpikelines",
         "hoverCompareCartesian",
         "hoverClosestCartesian"
        ],
        "plotlyServerURL": "https://plot.ly",
        "staticPlot": false,
        "toImageButtonOptions": {
         "height": null,
         "width": null
        }
       },
       "data": [
        {
         "customdata": [
          [
           0.2873333333333334,
           "setosa, versicolor, virginica",
           "sepal length (cm)"
          ],
          [
           0.2873333333333334,
           "setosa, versicolor, virginica",
           "sepal length (cm)"
          ],
          [
           0.2873333333333334,
           "setosa, versicolor, virginica",
           "sepal length (cm)"
          ],
          [
           0.2873333333333334,
           "setosa, versicolor, virginica",
           "sepal length (cm)"
          ],
          [
           0.2873333333333334,
           "setosa, versicolor, virginica",
           "sepal length (cm)"
          ],
          [
           0.2873333333333334,
           "setosa, versicolor, virginica",
           "sepal length (cm)"
          ],
          [
           0.2873333333333334,
           "setosa, versicolor, virginica",
           "sepal length (cm)"
          ],
          [
           0.2873333333333334,
           "setosa, versicolor, virginica",
           "sepal length (cm)"
          ],
          [
           0.2873333333333334,
           "setosa, versicolor, virginica",
           "sepal length (cm)"
          ],
          [
           0.2873333333333334,
           "setosa, versicolor, virginica",
           "sepal length (cm)"
          ],
          [
           0.2873333333333334,
           "setosa, versicolor, virginica",
           "sepal length (cm)"
          ],
          [
           0.2873333333333334,
           "setosa, versicolor, virginica",
           "sepal length (cm)"
          ],
          [
           0.2873333333333334,
           "setosa, versicolor, virginica",
           "sepal length (cm)"
          ],
          [
           0.2873333333333334,
           "setosa, versicolor, virginica",
           "sepal length (cm)"
          ],
          [
           0.2873333333333334,
           "setosa, versicolor, virginica",
           "sepal length (cm)"
          ],
          [
           0.2873333333333334,
           "setosa, versicolor, virginica",
           "sepal length (cm)"
          ],
          [
           0.2873333333333334,
           "setosa, versicolor, virginica",
           "sepal length (cm)"
          ],
          [
           0.2873333333333334,
           "setosa, versicolor, virginica",
           "sepal length (cm)"
          ],
          [
           0.2873333333333334,
           "setosa, versicolor, virginica",
           "sepal length (cm)"
          ],
          [
           0.2873333333333334,
           "setosa, versicolor, virginica",
           "sepal length (cm)"
          ],
          [
           0.2873333333333334,
           "setosa, versicolor, virginica",
           "sepal length (cm)"
          ],
          [
           0.2873333333333334,
           "setosa, versicolor, virginica",
           "sepal length (cm)"
          ],
          [
           0.2873333333333334,
           "setosa, versicolor, virginica",
           "sepal length (cm)"
          ],
          [
           0.2873333333333334,
           "setosa, versicolor, virginica",
           "sepal length (cm)"
          ],
          [
           0.2873333333333334,
           "setosa, versicolor, virginica",
           "sepal length (cm)"
          ],
          [
           0.2873333333333334,
           "setosa, versicolor, virginica",
           "sepal length (cm)"
          ],
          [
           0.2873333333333334,
           "setosa, versicolor, virginica",
           "sepal length (cm)"
          ],
          [
           0.2873333333333334,
           "setosa, versicolor, virginica",
           "sepal length (cm)"
          ],
          [
           0.2873333333333334,
           "setosa, versicolor, virginica",
           "sepal length (cm)"
          ],
          [
           0.2873333333333334,
           "setosa, versicolor, virginica",
           "sepal length (cm)"
          ],
          [
           0.2873333333333334,
           "setosa, versicolor, virginica",
           "sepal length (cm)"
          ],
          [
           0.2873333333333334,
           "setosa, versicolor, virginica",
           "sepal length (cm)"
          ],
          [
           0.2873333333333334,
           "setosa, versicolor, virginica",
           "sepal length (cm)"
          ],
          [
           0.2873333333333334,
           "setosa, versicolor, virginica",
           "sepal length (cm)"
          ],
          [
           0.2873333333333334,
           "setosa, versicolor, virginica",
           "sepal length (cm)"
          ],
          [
           0.2873333333333334,
           "setosa, versicolor, virginica",
           "sepal length (cm)"
          ],
          [
           0.2873333333333334,
           "setosa, versicolor, virginica",
           "sepal length (cm)"
          ],
          [
           0.2873333333333334,
           "setosa, versicolor, virginica",
           "sepal length (cm)"
          ],
          [
           0.2873333333333334,
           "setosa, versicolor, virginica",
           "sepal length (cm)"
          ],
          [
           0.2873333333333334,
           "setosa, versicolor, virginica",
           "sepal length (cm)"
          ],
          [
           0.2873333333333334,
           "setosa, versicolor, virginica",
           "sepal length (cm)"
          ],
          [
           0.2873333333333334,
           "setosa, versicolor, virginica",
           "sepal length (cm)"
          ],
          [
           0.2873333333333334,
           "setosa, versicolor, virginica",
           "sepal length (cm)"
          ],
          [
           0.2873333333333334,
           "setosa, versicolor, virginica",
           "sepal length (cm)"
          ],
          [
           0.2873333333333334,
           "setosa, versicolor, virginica",
           "sepal length (cm)"
          ],
          [
           0.2873333333333334,
           "setosa, versicolor, virginica",
           "sepal length (cm)"
          ],
          [
           0.2873333333333334,
           "setosa, versicolor, virginica",
           "sepal length (cm)"
          ],
          [
           0.2873333333333334,
           "setosa, versicolor, virginica",
           "sepal length (cm)"
          ],
          [
           0.2873333333333334,
           "setosa, versicolor, virginica",
           "sepal length (cm)"
          ],
          [
           0.2873333333333334,
           "setosa, versicolor, virginica",
           "sepal length (cm)"
          ],
          [
           0.2873333333333334,
           "setosa, versicolor, virginica",
           "sepal length (cm)"
          ],
          [
           0.2873333333333334,
           "setosa, versicolor, virginica",
           "sepal length (cm)"
          ],
          [
           0.2873333333333334,
           "setosa, versicolor, virginica",
           "sepal length (cm)"
          ],
          [
           0.2873333333333334,
           "setosa, versicolor, virginica",
           "sepal length (cm)"
          ],
          [
           0.2873333333333334,
           "setosa, versicolor, virginica",
           "sepal length (cm)"
          ],
          [
           0.2873333333333334,
           "setosa, versicolor, virginica",
           "sepal length (cm)"
          ],
          [
           0.2873333333333334,
           "setosa, versicolor, virginica",
           "sepal length (cm)"
          ],
          [
           0.2873333333333334,
           "setosa, versicolor, virginica",
           "sepal length (cm)"
          ],
          [
           0.2873333333333334,
           "setosa, versicolor, virginica",
           "sepal length (cm)"
          ],
          [
           0.2873333333333334,
           "setosa, versicolor, virginica",
           "sepal length (cm)"
          ],
          [
           0.2873333333333334,
           "setosa, versicolor, virginica",
           "sepal length (cm)"
          ],
          [
           0.2873333333333334,
           "setosa, versicolor, virginica",
           "sepal length (cm)"
          ],
          [
           0.2873333333333334,
           "setosa, versicolor, virginica",
           "sepal length (cm)"
          ],
          [
           0.2873333333333334,
           "setosa, versicolor, virginica",
           "sepal length (cm)"
          ],
          [
           0.2873333333333334,
           "setosa, versicolor, virginica",
           "sepal length (cm)"
          ],
          [
           0.2873333333333334,
           "setosa, versicolor, virginica",
           "sepal length (cm)"
          ],
          [
           0.2873333333333334,
           "setosa, versicolor, virginica",
           "sepal length (cm)"
          ],
          [
           0.2873333333333334,
           "setosa, versicolor, virginica",
           "sepal length (cm)"
          ],
          [
           0.2873333333333334,
           "setosa, versicolor, virginica",
           "sepal length (cm)"
          ],
          [
           0.2873333333333334,
           "setosa, versicolor, virginica",
           "sepal length (cm)"
          ],
          [
           0.2873333333333334,
           "setosa, versicolor, virginica",
           "sepal length (cm)"
          ],
          [
           0.2873333333333334,
           "setosa, versicolor, virginica",
           "sepal length (cm)"
          ],
          [
           0.2873333333333334,
           "setosa, versicolor, virginica",
           "sepal length (cm)"
          ],
          [
           0.2873333333333334,
           "setosa, versicolor, virginica",
           "sepal length (cm)"
          ],
          [
           0.2873333333333334,
           "setosa, versicolor, virginica",
           "sepal length (cm)"
          ],
          [
           0.2873333333333334,
           "setosa, versicolor, virginica",
           "sepal length (cm)"
          ],
          [
           0.2873333333333334,
           "setosa, versicolor, virginica",
           "sepal length (cm)"
          ],
          [
           0.2873333333333334,
           "setosa, versicolor, virginica",
           "sepal length (cm)"
          ],
          [
           0.2873333333333334,
           "setosa, versicolor, virginica",
           "sepal length (cm)"
          ],
          [
           0.2873333333333334,
           "setosa, versicolor, virginica",
           "sepal length (cm)"
          ],
          [
           0.2873333333333334,
           "setosa, versicolor, virginica",
           "sepal length (cm)"
          ],
          [
           0.2873333333333334,
           "setosa, versicolor, virginica",
           "sepal length (cm)"
          ],
          [
           0.2873333333333334,
           "setosa, versicolor, virginica",
           "sepal length (cm)"
          ],
          [
           0.2873333333333334,
           "setosa, versicolor, virginica",
           "sepal length (cm)"
          ],
          [
           0.2873333333333334,
           "setosa, versicolor, virginica",
           "sepal length (cm)"
          ],
          [
           0.2873333333333334,
           "setosa, versicolor, virginica",
           "sepal length (cm)"
          ],
          [
           0.2873333333333334,
           "setosa, versicolor, virginica",
           "sepal length (cm)"
          ],
          [
           0.2873333333333334,
           "setosa, versicolor, virginica",
           "sepal length (cm)"
          ],
          [
           0.2873333333333334,
           "setosa, versicolor, virginica",
           "sepal length (cm)"
          ],
          [
           0.2873333333333334,
           "setosa, versicolor, virginica",
           "sepal length (cm)"
          ],
          [
           0.2873333333333334,
           "setosa, versicolor, virginica",
           "sepal length (cm)"
          ],
          [
           0.2873333333333334,
           "setosa, versicolor, virginica",
           "sepal length (cm)"
          ],
          [
           0.2873333333333334,
           "setosa, versicolor, virginica",
           "sepal length (cm)"
          ],
          [
           0.2873333333333334,
           "setosa, versicolor, virginica",
           "sepal length (cm)"
          ],
          [
           0.2873333333333334,
           "setosa, versicolor, virginica",
           "sepal length (cm)"
          ],
          [
           0.2873333333333334,
           "setosa, versicolor, virginica",
           "sepal length (cm)"
          ],
          [
           0.2873333333333334,
           "setosa, versicolor, virginica",
           "sepal length (cm)"
          ],
          [
           0.2873333333333334,
           "setosa, versicolor, virginica",
           "sepal length (cm)"
          ],
          [
           0.2873333333333334,
           "setosa, versicolor, virginica",
           "sepal length (cm)"
          ],
          [
           0.2873333333333334,
           "setosa, versicolor, virginica",
           "sepal length (cm)"
          ],
          [
           0.2873333333333334,
           "setosa, versicolor, virginica",
           "sepal length (cm)"
          ]
         ],
         "hovertemplate": "<b>%{hovertext}</b><br><br>prediction=%{y:.3f}<br>mean_prediction=%{customdata[0]:.3f}<extra></extra>",
         "hovertext": [
          "setosa, versicolor, virginica",
          "setosa, versicolor, virginica",
          "setosa, versicolor, virginica",
          "setosa, versicolor, virginica",
          "setosa, versicolor, virginica",
          "setosa, versicolor, virginica",
          "setosa, versicolor, virginica",
          "setosa, versicolor, virginica",
          "setosa, versicolor, virginica",
          "setosa, versicolor, virginica",
          "setosa, versicolor, virginica",
          "setosa, versicolor, virginica",
          "setosa, versicolor, virginica",
          "setosa, versicolor, virginica",
          "setosa, versicolor, virginica",
          "setosa, versicolor, virginica",
          "setosa, versicolor, virginica",
          "setosa, versicolor, virginica",
          "setosa, versicolor, virginica",
          "setosa, versicolor, virginica",
          "setosa, versicolor, virginica",
          "setosa, versicolor, virginica",
          "setosa, versicolor, virginica",
          "setosa, versicolor, virginica",
          "setosa, versicolor, virginica",
          "setosa, versicolor, virginica",
          "setosa, versicolor, virginica",
          "setosa, versicolor, virginica",
          "setosa, versicolor, virginica",
          "setosa, versicolor, virginica",
          "setosa, versicolor, virginica",
          "setosa, versicolor, virginica",
          "setosa, versicolor, virginica",
          "setosa, versicolor, virginica",
          "setosa, versicolor, virginica",
          "setosa, versicolor, virginica",
          "setosa, versicolor, virginica",
          "setosa, versicolor, virginica",
          "setosa, versicolor, virginica",
          "setosa, versicolor, virginica",
          "setosa, versicolor, virginica",
          "setosa, versicolor, virginica",
          "setosa, versicolor, virginica",
          "setosa, versicolor, virginica",
          "setosa, versicolor, virginica",
          "setosa, versicolor, virginica",
          "setosa, versicolor, virginica",
          "setosa, versicolor, virginica",
          "setosa, versicolor, virginica",
          "setosa, versicolor, virginica",
          "setosa, versicolor, virginica",
          "setosa, versicolor, virginica",
          "setosa, versicolor, virginica",
          "setosa, versicolor, virginica",
          "setosa, versicolor, virginica",
          "setosa, versicolor, virginica",
          "setosa, versicolor, virginica",
          "setosa, versicolor, virginica",
          "setosa, versicolor, virginica",
          "setosa, versicolor, virginica",
          "setosa, versicolor, virginica",
          "setosa, versicolor, virginica",
          "setosa, versicolor, virginica",
          "setosa, versicolor, virginica",
          "setosa, versicolor, virginica",
          "setosa, versicolor, virginica",
          "setosa, versicolor, virginica",
          "setosa, versicolor, virginica",
          "setosa, versicolor, virginica",
          "setosa, versicolor, virginica",
          "setosa, versicolor, virginica",
          "setosa, versicolor, virginica",
          "setosa, versicolor, virginica",
          "setosa, versicolor, virginica",
          "setosa, versicolor, virginica",
          "setosa, versicolor, virginica",
          "setosa, versicolor, virginica",
          "setosa, versicolor, virginica",
          "setosa, versicolor, virginica",
          "setosa, versicolor, virginica",
          "setosa, versicolor, virginica",
          "setosa, versicolor, virginica",
          "setosa, versicolor, virginica",
          "setosa, versicolor, virginica",
          "setosa, versicolor, virginica",
          "setosa, versicolor, virginica",
          "setosa, versicolor, virginica",
          "setosa, versicolor, virginica",
          "setosa, versicolor, virginica",
          "setosa, versicolor, virginica",
          "setosa, versicolor, virginica",
          "setosa, versicolor, virginica",
          "setosa, versicolor, virginica",
          "setosa, versicolor, virginica",
          "setosa, versicolor, virginica",
          "setosa, versicolor, virginica",
          "setosa, versicolor, virginica",
          "setosa, versicolor, virginica",
          "setosa, versicolor, virginica",
          "setosa, versicolor, virginica",
          "setosa, versicolor, virginica"
         ],
         "legendgroup": "setosa, versicolor, virginica",
         "line": {
          "color": "#46bac2",
          "dash": "solid",
          "width": 2
         },
         "marker": {
          "symbol": "circle"
         },
         "mode": "lines",
         "name": "setosa, versicolor, virginica",
         "opacity": 1,
         "orientation": "v",
         "showlegend": true,
         "type": "scatter",
         "x": [
          4.4,
          4.4350000000000005,
          4.470000000000001,
          4.505000000000001,
          4.54,
          4.575,
          4.61,
          4.6450000000000005,
          4.680000000000001,
          4.715000000000001,
          4.75,
          4.785,
          4.82,
          4.855,
          4.890000000000001,
          4.925000000000001,
          4.960000000000001,
          4.995,
          5.03,
          5.065,
          5.1000000000000005,
          5.135000000000001,
          5.17,
          5.205,
          5.24,
          5.275,
          5.3100000000000005,
          5.345000000000001,
          5.380000000000001,
          5.415000000000001,
          5.45,
          5.485,
          5.5200000000000005,
          5.555000000000001,
          5.590000000000001,
          5.625,
          5.66,
          5.695,
          5.73,
          5.765000000000001,
          5.800000000000001,
          5.835000000000001,
          5.870000000000001,
          5.905,
          5.94,
          5.9750000000000005,
          6.010000000000001,
          6.045000000000001,
          6.08,
          6.115,
          6.15,
          6.1850000000000005,
          6.220000000000001,
          6.255000000000001,
          6.290000000000001,
          6.325000000000001,
          6.36,
          6.3950000000000005,
          6.430000000000001,
          6.465000000000001,
          6.5,
          6.535,
          6.57,
          6.605,
          6.640000000000001,
          6.675000000000001,
          6.710000000000001,
          6.745000000000001,
          6.780000000000001,
          6.815,
          6.8500000000000005,
          6.885000000000001,
          6.920000000000001,
          6.955,
          6.99,
          7.025,
          7.0600000000000005,
          7.095000000000001,
          7.130000000000001,
          7.165000000000001,
          7.200000000000001,
          7.235000000000001,
          7.2700000000000005,
          7.305000000000001,
          7.340000000000001,
          7.375,
          7.41,
          7.445,
          7.48,
          7.515000000000001,
          7.550000000000001,
          7.585000000000001,
          7.620000000000001,
          7.655000000000001,
          7.690000000000001,
          7.7250000000000005,
          7.760000000000001,
          7.795000000000001,
          7.83,
          7.865,
          7.9
         ],
         "xaxis": "x",
         "y": [
          0.26266666666666666,
          0.26266666666666666,
          0.26266666666666666,
          0.26266666666666666,
          0.26266666666666666,
          0.26266666666666666,
          0.26266666666666666,
          0.26266666666666666,
          0.26266666666666666,
          0.26266666666666666,
          0.26266666666666666,
          0.26266666666666666,
          0.26266666666666666,
          0.26266666666666666,
          0.26266666666666666,
          0.26266666666666666,
          0.29733333333333334,
          0.29733333333333334,
          0.29733333333333334,
          0.29733333333333334,
          0.29733333333333334,
          0.29733333333333334,
          0.30377777777777776,
          0.30377777777777776,
          0.30377777777777776,
          0.31355555555555553,
          0.31355555555555553,
          0.31355555555555553,
          0.3164444444444445,
          0.31777777777777777,
          0.31777777777777777,
          0.3191111111111111,
          0.3191111111111111,
          0.3188888888888889,
          0.3188888888888889,
          0.3188888888888889,
          0.3188888888888889,
          0.3188888888888889,
          0.3188888888888889,
          0.31755555555555554,
          0.31755555555555554,
          0.31755555555555554,
          0.3277777777777778,
          0.32844444444444443,
          0.32844444444444443,
          0.32222222222222224,
          0.32222222222222224,
          0.32222222222222224,
          0.31555555555555553,
          0.3131111111111111,
          0.32733333333333337,
          0.32666666666666666,
          0.3268888888888889,
          0.32933333333333337,
          0.32933333333333337,
          0.32933333333333337,
          0.33511111111111114,
          0.33511111111111114,
          0.3406666666666667,
          0.3406666666666667,
          0.3406666666666667,
          0.34488888888888886,
          0.34488888888888886,
          0.3453333333333333,
          0.3453333333333333,
          0.3453333333333333,
          0.3453333333333333,
          0.3453333333333333,
          0.34488888888888886,
          0.34488888888888886,
          0.34488888888888886,
          0.34488888888888886,
          0.34488888888888886,
          0.34488888888888886,
          0.34488888888888886,
          0.34488888888888886,
          0.34022222222222226,
          0.34022222222222226,
          0.3373333333333333,
          0.3373333333333333,
          0.3373333333333333,
          0.3373333333333333,
          0.3373333333333333,
          0.3373333333333333,
          0.3373333333333333,
          0.3373333333333333,
          0.3373333333333333,
          0.3373333333333333,
          0.3373333333333333,
          0.3373333333333333,
          0.3373333333333333,
          0.3373333333333333,
          0.3373333333333333,
          0.3373333333333333,
          0.3373333333333333,
          0.3373333333333333,
          0.3373333333333333,
          0.3373333333333333,
          0.3373333333333333,
          0.3373333333333333,
          0.3373333333333333
         ],
         "yaxis": "y"
        }
       ],
       "layout": {
        "annotations": [
         {
          "font": {
           "size": 13
          },
          "showarrow": false,
          "text": "sepal length (cm)",
          "x": 0.5,
          "xanchor": "center",
          "xref": "paper",
          "y": 1,
          "yanchor": "bottom",
          "yref": "paper"
         },
         {
          "font": {
           "size": 13
          },
          "showarrow": false,
          "text": "prediction",
          "textangle": -90,
          "x": -0.07,
          "xref": "paper",
          "y": 0.5,
          "yref": "paper"
         }
        ],
        "font": {
         "color": "#371ea3"
        },
        "height": 489,
        "hovermode": "x unified",
        "legend": {
         "font": {
          "size": 11
         },
         "itemsizing": "constant",
         "orientation": "h",
         "title": {
          "font": {
           "size": 12
          },
          "text": "label"
         },
         "tracegroupgap": 0,
         "x": 1,
         "xanchor": "right",
         "y": 1.0613496932515338,
         "yanchor": "bottom"
        },
        "margin": {
         "b": 71,
         "r": 30,
         "t": 78
        },
        "template": {
         "data": {
          "scatter": [
           {
            "type": "scatter"
           }
          ]
         }
        },
        "title": {
         "font": {
          "size": 16
         },
         "text": "Aggregated Profiles",
         "x": 0.15
        },
        "xaxis": {
         "anchor": "y",
         "automargin": true,
         "domain": [
          0,
          1
         ],
         "fixedrange": true,
         "gridwidth": 2,
         "showticklabels": true,
         "tickcolor": "white",
         "ticklen": 3,
         "ticks": "outside",
         "title": {
          "text": ""
         },
         "type": "linear",
         "zeroline": false
        },
        "yaxis": {
         "anchor": "x",
         "automargin": true,
         "domain": [
          0,
          1
         ],
         "fixedrange": true,
         "gridwidth": 2,
         "range": [
          0.2544,
          0.35359999999999997
         ],
         "tickcolor": "white",
         "ticklen": 3,
         "ticks": "outside",
         "title": {
          "text": ""
         },
         "type": "linear",
         "zeroline": false
        }
       }
      }
     },
     "metadata": {},
     "output_type": "display_data"
    },
    {
     "name": "stderr",
     "output_type": "stream",
     "text": [
      "Calculating ceteris paribus: 100%|██████████| 4/4 [00:00<00:00, 46.29it/s]\n"
     ]
    },
    {
     "data": {
      "application/vnd.plotly.v1+json": {
       "config": {
        "displaylogo": false,
        "modeBarButtonsToRemove": [
         "sendDataToCloud",
         "lasso2d",
         "autoScale2d",
         "select2d",
         "zoom2d",
         "pan2d",
         "zoomIn2d",
         "zoomOut2d",
         "resetScale2d",
         "toggleSpikelines",
         "hoverCompareCartesian",
         "hoverClosestCartesian"
        ],
        "plotlyServerURL": "https://plot.ly",
        "staticPlot": false,
        "toImageButtonOptions": {
         "height": null,
         "width": null
        }
       },
       "data": [
        {
         "customdata": [
          [
           "</br>id: 73</br>prediction: 0.84</br>sepal length (cm): 4.4</br></br>sepal width (cm): 2.8</br>petal length (cm): 4.7</br>petal width (cm): 1.2</br>_original_yhat_: 0.97</br>"
          ],
          [
           "</br>id: 73</br>prediction: 0.84</br>sepal length (cm): 4.4350000000000005</br></br>sepal width (cm): 2.8</br>petal length (cm): 4.7</br>petal width (cm): 1.2</br>_original_yhat_: 0.97</br>"
          ],
          [
           "</br>id: 73</br>prediction: 0.84</br>sepal length (cm): 4.470000000000001</br></br>sepal width (cm): 2.8</br>petal length (cm): 4.7</br>petal width (cm): 1.2</br>_original_yhat_: 0.97</br>"
          ],
          [
           "</br>id: 73</br>prediction: 0.84</br>sepal length (cm): 4.505000000000001</br></br>sepal width (cm): 2.8</br>petal length (cm): 4.7</br>petal width (cm): 1.2</br>_original_yhat_: 0.97</br>"
          ],
          [
           "</br>id: 73</br>prediction: 0.84</br>sepal length (cm): 4.54</br></br>sepal width (cm): 2.8</br>petal length (cm): 4.7</br>petal width (cm): 1.2</br>_original_yhat_: 0.97</br>"
          ],
          [
           "</br>id: 73</br>prediction: 0.84</br>sepal length (cm): 4.575</br></br>sepal width (cm): 2.8</br>petal length (cm): 4.7</br>petal width (cm): 1.2</br>_original_yhat_: 0.97</br>"
          ],
          [
           "</br>id: 73</br>prediction: 0.84</br>sepal length (cm): 4.61</br></br>sepal width (cm): 2.8</br>petal length (cm): 4.7</br>petal width (cm): 1.2</br>_original_yhat_: 0.97</br>"
          ],
          [
           "</br>id: 73</br>prediction: 0.84</br>sepal length (cm): 4.6450000000000005</br></br>sepal width (cm): 2.8</br>petal length (cm): 4.7</br>petal width (cm): 1.2</br>_original_yhat_: 0.97</br>"
          ],
          [
           "</br>id: 73</br>prediction: 0.84</br>sepal length (cm): 4.680000000000001</br></br>sepal width (cm): 2.8</br>petal length (cm): 4.7</br>petal width (cm): 1.2</br>_original_yhat_: 0.97</br>"
          ],
          [
           "</br>id: 73</br>prediction: 0.84</br>sepal length (cm): 4.715000000000001</br></br>sepal width (cm): 2.8</br>petal length (cm): 4.7</br>petal width (cm): 1.2</br>_original_yhat_: 0.97</br>"
          ],
          [
           "</br>id: 73</br>prediction: 0.84</br>sepal length (cm): 4.75</br></br>sepal width (cm): 2.8</br>petal length (cm): 4.7</br>petal width (cm): 1.2</br>_original_yhat_: 0.97</br>"
          ],
          [
           "</br>id: 73</br>prediction: 0.84</br>sepal length (cm): 4.785</br></br>sepal width (cm): 2.8</br>petal length (cm): 4.7</br>petal width (cm): 1.2</br>_original_yhat_: 0.97</br>"
          ],
          [
           "</br>id: 73</br>prediction: 0.84</br>sepal length (cm): 4.82</br></br>sepal width (cm): 2.8</br>petal length (cm): 4.7</br>petal width (cm): 1.2</br>_original_yhat_: 0.97</br>"
          ],
          [
           "</br>id: 73</br>prediction: 0.84</br>sepal length (cm): 4.855</br></br>sepal width (cm): 2.8</br>petal length (cm): 4.7</br>petal width (cm): 1.2</br>_original_yhat_: 0.97</br>"
          ],
          [
           "</br>id: 73</br>prediction: 0.84</br>sepal length (cm): 4.890000000000001</br></br>sepal width (cm): 2.8</br>petal length (cm): 4.7</br>petal width (cm): 1.2</br>_original_yhat_: 0.97</br>"
          ],
          [
           "</br>id: 73</br>prediction: 0.84</br>sepal length (cm): 4.925000000000001</br></br>sepal width (cm): 2.8</br>petal length (cm): 4.7</br>petal width (cm): 1.2</br>_original_yhat_: 0.97</br>"
          ],
          [
           "</br>id: 73</br>prediction: 0.93</br>sepal length (cm): 4.960000000000001</br></br>sepal width (cm): 2.8</br>petal length (cm): 4.7</br>petal width (cm): 1.2</br>_original_yhat_: 0.97</br>"
          ],
          [
           "</br>id: 73</br>prediction: 0.93</br>sepal length (cm): 4.995</br></br>sepal width (cm): 2.8</br>petal length (cm): 4.7</br>petal width (cm): 1.2</br>_original_yhat_: 0.97</br>"
          ],
          [
           "</br>id: 73</br>prediction: 0.93</br>sepal length (cm): 5.03</br></br>sepal width (cm): 2.8</br>petal length (cm): 4.7</br>petal width (cm): 1.2</br>_original_yhat_: 0.97</br>"
          ],
          [
           "</br>id: 73</br>prediction: 0.93</br>sepal length (cm): 5.065</br></br>sepal width (cm): 2.8</br>petal length (cm): 4.7</br>petal width (cm): 1.2</br>_original_yhat_: 0.97</br>"
          ],
          [
           "</br>id: 73</br>prediction: 0.93</br>sepal length (cm): 5.1000000000000005</br></br>sepal width (cm): 2.8</br>petal length (cm): 4.7</br>petal width (cm): 1.2</br>_original_yhat_: 0.97</br>"
          ],
          [
           "</br>id: 73</br>prediction: 0.93</br>sepal length (cm): 5.135000000000001</br></br>sepal width (cm): 2.8</br>petal length (cm): 4.7</br>petal width (cm): 1.2</br>_original_yhat_: 0.97</br>"
          ],
          [
           "</br>id: 73</br>prediction: 0.96</br>sepal length (cm): 5.17</br></br>sepal width (cm): 2.8</br>petal length (cm): 4.7</br>petal width (cm): 1.2</br>_original_yhat_: 0.97</br>"
          ],
          [
           "</br>id: 73</br>prediction: 0.96</br>sepal length (cm): 5.205</br></br>sepal width (cm): 2.8</br>petal length (cm): 4.7</br>petal width (cm): 1.2</br>_original_yhat_: 0.97</br>"
          ],
          [
           "</br>id: 73</br>prediction: 0.96</br>sepal length (cm): 5.24</br></br>sepal width (cm): 2.8</br>petal length (cm): 4.7</br>petal width (cm): 1.2</br>_original_yhat_: 0.97</br>"
          ],
          [
           "</br>id: 73</br>prediction: 0.98</br>sepal length (cm): 5.275</br></br>sepal width (cm): 2.8</br>petal length (cm): 4.7</br>petal width (cm): 1.2</br>_original_yhat_: 0.97</br>"
          ],
          [
           "</br>id: 73</br>prediction: 0.98</br>sepal length (cm): 5.3100000000000005</br></br>sepal width (cm): 2.8</br>petal length (cm): 4.7</br>petal width (cm): 1.2</br>_original_yhat_: 0.97</br>"
          ],
          [
           "</br>id: 73</br>prediction: 0.98</br>sepal length (cm): 5.345000000000001</br></br>sepal width (cm): 2.8</br>petal length (cm): 4.7</br>petal width (cm): 1.2</br>_original_yhat_: 0.97</br>"
          ],
          [
           "</br>id: 73</br>prediction: 0.98</br>sepal length (cm): 5.380000000000001</br></br>sepal width (cm): 2.8</br>petal length (cm): 4.7</br>petal width (cm): 1.2</br>_original_yhat_: 0.97</br>"
          ],
          [
           "</br>id: 73</br>prediction: 0.98</br>sepal length (cm): 5.415000000000001</br></br>sepal width (cm): 2.8</br>petal length (cm): 4.7</br>petal width (cm): 1.2</br>_original_yhat_: 0.97</br>"
          ],
          [
           "</br>id: 73</br>prediction: 0.98</br>sepal length (cm): 5.45</br></br>sepal width (cm): 2.8</br>petal length (cm): 4.7</br>petal width (cm): 1.2</br>_original_yhat_: 0.97</br>"
          ],
          [
           "</br>id: 73</br>prediction: 0.98</br>sepal length (cm): 5.485</br></br>sepal width (cm): 2.8</br>petal length (cm): 4.7</br>petal width (cm): 1.2</br>_original_yhat_: 0.97</br>"
          ],
          [
           "</br>id: 73</br>prediction: 0.98</br>sepal length (cm): 5.5200000000000005</br></br>sepal width (cm): 2.8</br>petal length (cm): 4.7</br>petal width (cm): 1.2</br>_original_yhat_: 0.97</br>"
          ],
          [
           "</br>id: 73</br>prediction: 0.98</br>sepal length (cm): 5.555000000000001</br></br>sepal width (cm): 2.8</br>petal length (cm): 4.7</br>petal width (cm): 1.2</br>_original_yhat_: 0.97</br>"
          ],
          [
           "</br>id: 73</br>prediction: 0.98</br>sepal length (cm): 5.590000000000001</br></br>sepal width (cm): 2.8</br>petal length (cm): 4.7</br>petal width (cm): 1.2</br>_original_yhat_: 0.97</br>"
          ],
          [
           "</br>id: 73</br>prediction: 0.98</br>sepal length (cm): 5.625</br></br>sepal width (cm): 2.8</br>petal length (cm): 4.7</br>petal width (cm): 1.2</br>_original_yhat_: 0.97</br>"
          ],
          [
           "</br>id: 73</br>prediction: 0.98</br>sepal length (cm): 5.66</br></br>sepal width (cm): 2.8</br>petal length (cm): 4.7</br>petal width (cm): 1.2</br>_original_yhat_: 0.97</br>"
          ],
          [
           "</br>id: 73</br>prediction: 0.98</br>sepal length (cm): 5.695</br></br>sepal width (cm): 2.8</br>petal length (cm): 4.7</br>petal width (cm): 1.2</br>_original_yhat_: 0.97</br>"
          ],
          [
           "</br>id: 73</br>prediction: 0.98</br>sepal length (cm): 5.73</br></br>sepal width (cm): 2.8</br>petal length (cm): 4.7</br>petal width (cm): 1.2</br>_original_yhat_: 0.97</br>"
          ],
          [
           "</br>id: 73</br>prediction: 0.98</br>sepal length (cm): 5.765000000000001</br></br>sepal width (cm): 2.8</br>petal length (cm): 4.7</br>petal width (cm): 1.2</br>_original_yhat_: 0.97</br>"
          ],
          [
           "</br>id: 73</br>prediction: 0.98</br>sepal length (cm): 5.800000000000001</br></br>sepal width (cm): 2.8</br>petal length (cm): 4.7</br>petal width (cm): 1.2</br>_original_yhat_: 0.97</br>"
          ],
          [
           "</br>id: 73</br>prediction: 0.98</br>sepal length (cm): 5.835000000000001</br></br>sepal width (cm): 2.8</br>petal length (cm): 4.7</br>petal width (cm): 1.2</br>_original_yhat_: 0.97</br>"
          ],
          [
           "</br>id: 73</br>prediction: 0.98</br>sepal length (cm): 5.870000000000001</br></br>sepal width (cm): 2.8</br>petal length (cm): 4.7</br>petal width (cm): 1.2</br>_original_yhat_: 0.97</br>"
          ],
          [
           "</br>id: 73</br>prediction: 0.98</br>sepal length (cm): 5.905</br></br>sepal width (cm): 2.8</br>petal length (cm): 4.7</br>petal width (cm): 1.2</br>_original_yhat_: 0.97</br>"
          ],
          [
           "</br>id: 73</br>prediction: 0.98</br>sepal length (cm): 5.94</br></br>sepal width (cm): 2.8</br>petal length (cm): 4.7</br>petal width (cm): 1.2</br>_original_yhat_: 0.97</br>"
          ],
          [
           "</br>id: 73</br>prediction: 0.97</br>sepal length (cm): 5.9750000000000005</br></br>sepal width (cm): 2.8</br>petal length (cm): 4.7</br>petal width (cm): 1.2</br>_original_yhat_: 0.97</br>"
          ],
          [
           "</br>id: 73</br>prediction: 0.97</br>sepal length (cm): 6.010000000000001</br></br>sepal width (cm): 2.8</br>petal length (cm): 4.7</br>petal width (cm): 1.2</br>_original_yhat_: 0.97</br>"
          ],
          [
           "</br>id: 73</br>prediction: 0.97</br>sepal length (cm): 6.045000000000001</br></br>sepal width (cm): 2.8</br>petal length (cm): 4.7</br>petal width (cm): 1.2</br>_original_yhat_: 0.97</br>"
          ],
          [
           "</br>id: 73</br>prediction: 0.97</br>sepal length (cm): 6.08</br></br>sepal width (cm): 2.8</br>petal length (cm): 4.7</br>petal width (cm): 1.2</br>_original_yhat_: 0.97</br>"
          ],
          [
           "</br>id: 73</br>prediction: 0.97</br>sepal length (cm): 6.1</br></br>sepal width (cm): 2.8</br>petal length (cm): 4.7</br>petal width (cm): 1.2</br>_original_yhat_: 0.97</br>"
          ],
          [
           "</br>id: 73</br>prediction: 0.97</br>sepal length (cm): 6.115</br></br>sepal width (cm): 2.8</br>petal length (cm): 4.7</br>petal width (cm): 1.2</br>_original_yhat_: 0.97</br>"
          ],
          [
           "</br>id: 73</br>prediction: 0.97</br>sepal length (cm): 6.15</br></br>sepal width (cm): 2.8</br>petal length (cm): 4.7</br>petal width (cm): 1.2</br>_original_yhat_: 0.97</br>"
          ],
          [
           "</br>id: 73</br>prediction: 0.97</br>sepal length (cm): 6.1850000000000005</br></br>sepal width (cm): 2.8</br>petal length (cm): 4.7</br>petal width (cm): 1.2</br>_original_yhat_: 0.97</br>"
          ],
          [
           "</br>id: 73</br>prediction: 0.97</br>sepal length (cm): 6.220000000000001</br></br>sepal width (cm): 2.8</br>petal length (cm): 4.7</br>petal width (cm): 1.2</br>_original_yhat_: 0.97</br>"
          ],
          [
           "</br>id: 73</br>prediction: 0.97</br>sepal length (cm): 6.255000000000001</br></br>sepal width (cm): 2.8</br>petal length (cm): 4.7</br>petal width (cm): 1.2</br>_original_yhat_: 0.97</br>"
          ],
          [
           "</br>id: 73</br>prediction: 0.97</br>sepal length (cm): 6.290000000000001</br></br>sepal width (cm): 2.8</br>petal length (cm): 4.7</br>petal width (cm): 1.2</br>_original_yhat_: 0.97</br>"
          ],
          [
           "</br>id: 73</br>prediction: 0.97</br>sepal length (cm): 6.325000000000001</br></br>sepal width (cm): 2.8</br>petal length (cm): 4.7</br>petal width (cm): 1.2</br>_original_yhat_: 0.97</br>"
          ],
          [
           "</br>id: 73</br>prediction: 0.98</br>sepal length (cm): 6.36</br></br>sepal width (cm): 2.8</br>petal length (cm): 4.7</br>petal width (cm): 1.2</br>_original_yhat_: 0.97</br>"
          ],
          [
           "</br>id: 73</br>prediction: 0.98</br>sepal length (cm): 6.3950000000000005</br></br>sepal width (cm): 2.8</br>petal length (cm): 4.7</br>petal width (cm): 1.2</br>_original_yhat_: 0.97</br>"
          ],
          [
           "</br>id: 73</br>prediction: 0.99</br>sepal length (cm): 6.430000000000001</br></br>sepal width (cm): 2.8</br>petal length (cm): 4.7</br>petal width (cm): 1.2</br>_original_yhat_: 0.97</br>"
          ],
          [
           "</br>id: 73</br>prediction: 0.99</br>sepal length (cm): 6.465000000000001</br></br>sepal width (cm): 2.8</br>petal length (cm): 4.7</br>petal width (cm): 1.2</br>_original_yhat_: 0.97</br>"
          ],
          [
           "</br>id: 73</br>prediction: 0.99</br>sepal length (cm): 6.5</br></br>sepal width (cm): 2.8</br>petal length (cm): 4.7</br>petal width (cm): 1.2</br>_original_yhat_: 0.97</br>"
          ],
          [
           "</br>id: 73</br>prediction: 0.99</br>sepal length (cm): 6.535</br></br>sepal width (cm): 2.8</br>petal length (cm): 4.7</br>petal width (cm): 1.2</br>_original_yhat_: 0.97</br>"
          ],
          [
           "</br>id: 73</br>prediction: 0.99</br>sepal length (cm): 6.57</br></br>sepal width (cm): 2.8</br>petal length (cm): 4.7</br>petal width (cm): 1.2</br>_original_yhat_: 0.97</br>"
          ],
          [
           "</br>id: 73</br>prediction: 0.99</br>sepal length (cm): 6.605</br></br>sepal width (cm): 2.8</br>petal length (cm): 4.7</br>petal width (cm): 1.2</br>_original_yhat_: 0.97</br>"
          ],
          [
           "</br>id: 73</br>prediction: 0.99</br>sepal length (cm): 6.640000000000001</br></br>sepal width (cm): 2.8</br>petal length (cm): 4.7</br>petal width (cm): 1.2</br>_original_yhat_: 0.97</br>"
          ],
          [
           "</br>id: 73</br>prediction: 0.99</br>sepal length (cm): 6.675000000000001</br></br>sepal width (cm): 2.8</br>petal length (cm): 4.7</br>petal width (cm): 1.2</br>_original_yhat_: 0.97</br>"
          ],
          [
           "</br>id: 73</br>prediction: 0.99</br>sepal length (cm): 6.710000000000001</br></br>sepal width (cm): 2.8</br>petal length (cm): 4.7</br>petal width (cm): 1.2</br>_original_yhat_: 0.97</br>"
          ],
          [
           "</br>id: 73</br>prediction: 0.99</br>sepal length (cm): 6.745000000000001</br></br>sepal width (cm): 2.8</br>petal length (cm): 4.7</br>petal width (cm): 1.2</br>_original_yhat_: 0.97</br>"
          ],
          [
           "</br>id: 73</br>prediction: 0.99</br>sepal length (cm): 6.780000000000001</br></br>sepal width (cm): 2.8</br>petal length (cm): 4.7</br>petal width (cm): 1.2</br>_original_yhat_: 0.97</br>"
          ],
          [
           "</br>id: 73</br>prediction: 0.99</br>sepal length (cm): 6.815</br></br>sepal width (cm): 2.8</br>petal length (cm): 4.7</br>petal width (cm): 1.2</br>_original_yhat_: 0.97</br>"
          ],
          [
           "</br>id: 73</br>prediction: 0.99</br>sepal length (cm): 6.8500000000000005</br></br>sepal width (cm): 2.8</br>petal length (cm): 4.7</br>petal width (cm): 1.2</br>_original_yhat_: 0.97</br>"
          ],
          [
           "</br>id: 73</br>prediction: 0.99</br>sepal length (cm): 6.885000000000001</br></br>sepal width (cm): 2.8</br>petal length (cm): 4.7</br>petal width (cm): 1.2</br>_original_yhat_: 0.97</br>"
          ],
          [
           "</br>id: 73</br>prediction: 0.99</br>sepal length (cm): 6.920000000000001</br></br>sepal width (cm): 2.8</br>petal length (cm): 4.7</br>petal width (cm): 1.2</br>_original_yhat_: 0.97</br>"
          ],
          [
           "</br>id: 73</br>prediction: 0.99</br>sepal length (cm): 6.955</br></br>sepal width (cm): 2.8</br>petal length (cm): 4.7</br>petal width (cm): 1.2</br>_original_yhat_: 0.97</br>"
          ],
          [
           "</br>id: 73</br>prediction: 0.99</br>sepal length (cm): 6.99</br></br>sepal width (cm): 2.8</br>petal length (cm): 4.7</br>petal width (cm): 1.2</br>_original_yhat_: 0.97</br>"
          ],
          [
           "</br>id: 73</br>prediction: 0.99</br>sepal length (cm): 7.025</br></br>sepal width (cm): 2.8</br>petal length (cm): 4.7</br>petal width (cm): 1.2</br>_original_yhat_: 0.97</br>"
          ],
          [
           "</br>id: 73</br>prediction: 0.98</br>sepal length (cm): 7.0600000000000005</br></br>sepal width (cm): 2.8</br>petal length (cm): 4.7</br>petal width (cm): 1.2</br>_original_yhat_: 0.97</br>"
          ],
          [
           "</br>id: 73</br>prediction: 0.98</br>sepal length (cm): 7.095000000000001</br></br>sepal width (cm): 2.8</br>petal length (cm): 4.7</br>petal width (cm): 1.2</br>_original_yhat_: 0.97</br>"
          ],
          [
           "</br>id: 73</br>prediction: 0.97</br>sepal length (cm): 7.130000000000001</br></br>sepal width (cm): 2.8</br>petal length (cm): 4.7</br>petal width (cm): 1.2</br>_original_yhat_: 0.97</br>"
          ],
          [
           "</br>id: 73</br>prediction: 0.97</br>sepal length (cm): 7.165000000000001</br></br>sepal width (cm): 2.8</br>petal length (cm): 4.7</br>petal width (cm): 1.2</br>_original_yhat_: 0.97</br>"
          ],
          [
           "</br>id: 73</br>prediction: 0.97</br>sepal length (cm): 7.200000000000001</br></br>sepal width (cm): 2.8</br>petal length (cm): 4.7</br>petal width (cm): 1.2</br>_original_yhat_: 0.97</br>"
          ],
          [
           "</br>id: 73</br>prediction: 0.97</br>sepal length (cm): 7.235000000000001</br></br>sepal width (cm): 2.8</br>petal length (cm): 4.7</br>petal width (cm): 1.2</br>_original_yhat_: 0.97</br>"
          ],
          [
           "</br>id: 73</br>prediction: 0.97</br>sepal length (cm): 7.2700000000000005</br></br>sepal width (cm): 2.8</br>petal length (cm): 4.7</br>petal width (cm): 1.2</br>_original_yhat_: 0.97</br>"
          ],
          [
           "</br>id: 73</br>prediction: 0.97</br>sepal length (cm): 7.305000000000001</br></br>sepal width (cm): 2.8</br>petal length (cm): 4.7</br>petal width (cm): 1.2</br>_original_yhat_: 0.97</br>"
          ],
          [
           "</br>id: 73</br>prediction: 0.97</br>sepal length (cm): 7.340000000000001</br></br>sepal width (cm): 2.8</br>petal length (cm): 4.7</br>petal width (cm): 1.2</br>_original_yhat_: 0.97</br>"
          ],
          [
           "</br>id: 73</br>prediction: 0.97</br>sepal length (cm): 7.375</br></br>sepal width (cm): 2.8</br>petal length (cm): 4.7</br>petal width (cm): 1.2</br>_original_yhat_: 0.97</br>"
          ],
          [
           "</br>id: 73</br>prediction: 0.97</br>sepal length (cm): 7.41</br></br>sepal width (cm): 2.8</br>petal length (cm): 4.7</br>petal width (cm): 1.2</br>_original_yhat_: 0.97</br>"
          ],
          [
           "</br>id: 73</br>prediction: 0.97</br>sepal length (cm): 7.445</br></br>sepal width (cm): 2.8</br>petal length (cm): 4.7</br>petal width (cm): 1.2</br>_original_yhat_: 0.97</br>"
          ],
          [
           "</br>id: 73</br>prediction: 0.97</br>sepal length (cm): 7.48</br></br>sepal width (cm): 2.8</br>petal length (cm): 4.7</br>petal width (cm): 1.2</br>_original_yhat_: 0.97</br>"
          ],
          [
           "</br>id: 73</br>prediction: 0.97</br>sepal length (cm): 7.515000000000001</br></br>sepal width (cm): 2.8</br>petal length (cm): 4.7</br>petal width (cm): 1.2</br>_original_yhat_: 0.97</br>"
          ],
          [
           "</br>id: 73</br>prediction: 0.97</br>sepal length (cm): 7.550000000000001</br></br>sepal width (cm): 2.8</br>petal length (cm): 4.7</br>petal width (cm): 1.2</br>_original_yhat_: 0.97</br>"
          ],
          [
           "</br>id: 73</br>prediction: 0.97</br>sepal length (cm): 7.585000000000001</br></br>sepal width (cm): 2.8</br>petal length (cm): 4.7</br>petal width (cm): 1.2</br>_original_yhat_: 0.97</br>"
          ],
          [
           "</br>id: 73</br>prediction: 0.97</br>sepal length (cm): 7.620000000000001</br></br>sepal width (cm): 2.8</br>petal length (cm): 4.7</br>petal width (cm): 1.2</br>_original_yhat_: 0.97</br>"
          ],
          [
           "</br>id: 73</br>prediction: 0.97</br>sepal length (cm): 7.655000000000001</br></br>sepal width (cm): 2.8</br>petal length (cm): 4.7</br>petal width (cm): 1.2</br>_original_yhat_: 0.97</br>"
          ],
          [
           "</br>id: 73</br>prediction: 0.97</br>sepal length (cm): 7.690000000000001</br></br>sepal width (cm): 2.8</br>petal length (cm): 4.7</br>petal width (cm): 1.2</br>_original_yhat_: 0.97</br>"
          ],
          [
           "</br>id: 73</br>prediction: 0.97</br>sepal length (cm): 7.7250000000000005</br></br>sepal width (cm): 2.8</br>petal length (cm): 4.7</br>petal width (cm): 1.2</br>_original_yhat_: 0.97</br>"
          ],
          [
           "</br>id: 73</br>prediction: 0.97</br>sepal length (cm): 7.760000000000001</br></br>sepal width (cm): 2.8</br>petal length (cm): 4.7</br>petal width (cm): 1.2</br>_original_yhat_: 0.97</br>"
          ],
          [
           "</br>id: 73</br>prediction: 0.97</br>sepal length (cm): 7.795000000000001</br></br>sepal width (cm): 2.8</br>petal length (cm): 4.7</br>petal width (cm): 1.2</br>_original_yhat_: 0.97</br>"
          ],
          [
           "</br>id: 73</br>prediction: 0.97</br>sepal length (cm): 7.83</br></br>sepal width (cm): 2.8</br>petal length (cm): 4.7</br>petal width (cm): 1.2</br>_original_yhat_: 0.97</br>"
          ],
          [
           "</br>id: 73</br>prediction: 0.97</br>sepal length (cm): 7.865</br></br>sepal width (cm): 2.8</br>petal length (cm): 4.7</br>petal width (cm): 1.2</br>_original_yhat_: 0.97</br>"
          ],
          [
           "</br>id: 73</br>prediction: 0.97</br>sepal length (cm): 7.9</br></br>sepal width (cm): 2.8</br>petal length (cm): 4.7</br>petal width (cm): 1.2</br>_original_yhat_: 0.97</br>"
          ]
         ],
         "hovertemplate": "%{customdata[0]}<extra></extra>",
         "legendgroup": "setosa, versicolor, virginica",
         "line": {
          "color": "#46bac2",
          "dash": "solid",
          "width": 2
         },
         "marker": {
          "symbol": "circle"
         },
         "mode": "lines",
         "name": "setosa, versicolor, virginica",
         "opacity": 1,
         "orientation": "v",
         "showlegend": true,
         "type": "scatter",
         "x": [
          4.4,
          4.4350000000000005,
          4.470000000000001,
          4.505000000000001,
          4.54,
          4.575,
          4.61,
          4.6450000000000005,
          4.680000000000001,
          4.715000000000001,
          4.75,
          4.785,
          4.82,
          4.855,
          4.890000000000001,
          4.925000000000001,
          4.960000000000001,
          4.995,
          5.03,
          5.065,
          5.1000000000000005,
          5.135000000000001,
          5.17,
          5.205,
          5.24,
          5.275,
          5.3100000000000005,
          5.345000000000001,
          5.380000000000001,
          5.415000000000001,
          5.45,
          5.485,
          5.5200000000000005,
          5.555000000000001,
          5.590000000000001,
          5.625,
          5.66,
          5.695,
          5.73,
          5.765000000000001,
          5.800000000000001,
          5.835000000000001,
          5.870000000000001,
          5.905,
          5.94,
          5.9750000000000005,
          6.010000000000001,
          6.045000000000001,
          6.08,
          6.1,
          6.115,
          6.15,
          6.1850000000000005,
          6.220000000000001,
          6.255000000000001,
          6.290000000000001,
          6.325000000000001,
          6.36,
          6.3950000000000005,
          6.430000000000001,
          6.465000000000001,
          6.5,
          6.535,
          6.57,
          6.605,
          6.640000000000001,
          6.675000000000001,
          6.710000000000001,
          6.745000000000001,
          6.780000000000001,
          6.815,
          6.8500000000000005,
          6.885000000000001,
          6.920000000000001,
          6.955,
          6.99,
          7.025,
          7.0600000000000005,
          7.095000000000001,
          7.130000000000001,
          7.165000000000001,
          7.200000000000001,
          7.235000000000001,
          7.2700000000000005,
          7.305000000000001,
          7.340000000000001,
          7.375,
          7.41,
          7.445,
          7.48,
          7.515000000000001,
          7.550000000000001,
          7.585000000000001,
          7.620000000000001,
          7.655000000000001,
          7.690000000000001,
          7.7250000000000005,
          7.760000000000001,
          7.795000000000001,
          7.83,
          7.865,
          7.9
         ],
         "xaxis": "x3",
         "y": [
          0.84,
          0.84,
          0.84,
          0.84,
          0.84,
          0.84,
          0.84,
          0.84,
          0.84,
          0.84,
          0.84,
          0.84,
          0.84,
          0.84,
          0.84,
          0.84,
          0.93,
          0.93,
          0.93,
          0.93,
          0.93,
          0.93,
          0.96,
          0.96,
          0.96,
          0.98,
          0.98,
          0.98,
          0.98,
          0.98,
          0.98,
          0.98,
          0.98,
          0.98,
          0.98,
          0.98,
          0.98,
          0.98,
          0.98,
          0.98,
          0.98,
          0.98,
          0.98,
          0.98,
          0.98,
          0.97,
          0.97,
          0.97,
          0.97,
          0.97,
          0.97,
          0.97,
          0.97,
          0.97,
          0.97,
          0.97,
          0.97,
          0.98,
          0.98,
          0.99,
          0.99,
          0.99,
          0.99,
          0.99,
          0.99,
          0.99,
          0.99,
          0.99,
          0.99,
          0.99,
          0.99,
          0.99,
          0.99,
          0.99,
          0.99,
          0.99,
          0.99,
          0.98,
          0.98,
          0.97,
          0.97,
          0.97,
          0.97,
          0.97,
          0.97,
          0.97,
          0.97,
          0.97,
          0.97,
          0.97,
          0.97,
          0.97,
          0.97,
          0.97,
          0.97,
          0.97,
          0.97,
          0.97,
          0.97,
          0.97,
          0.97,
          0.97
         ],
         "yaxis": "y3"
        },
        {
         "customdata": [
          [
           "</br>id: 73</br>prediction: 0.93</br>sepal width (cm): 2.2</br></br>sepal length (cm): 6.1</br>petal length (cm): 4.7</br>petal width (cm): 1.2</br>_original_yhat_: 0.97</br>"
          ],
          [
           "</br>id: 73</br>prediction: 0.93</br>sepal width (cm): 2.222</br></br>sepal length (cm): 6.1</br>petal length (cm): 4.7</br>petal width (cm): 1.2</br>_original_yhat_: 0.97</br>"
          ],
          [
           "</br>id: 73</br>prediction: 0.93</br>sepal width (cm): 2.244</br></br>sepal length (cm): 6.1</br>petal length (cm): 4.7</br>petal width (cm): 1.2</br>_original_yhat_: 0.97</br>"
          ],
          [
           "</br>id: 73</br>prediction: 0.95</br>sepal width (cm): 2.266</br></br>sepal length (cm): 6.1</br>petal length (cm): 4.7</br>petal width (cm): 1.2</br>_original_yhat_: 0.97</br>"
          ],
          [
           "</br>id: 73</br>prediction: 0.95</br>sepal width (cm): 2.2880000000000003</br></br>sepal length (cm): 6.1</br>petal length (cm): 4.7</br>petal width (cm): 1.2</br>_original_yhat_: 0.97</br>"
          ],
          [
           "</br>id: 73</br>prediction: 0.95</br>sepal width (cm): 2.31</br></br>sepal length (cm): 6.1</br>petal length (cm): 4.7</br>petal width (cm): 1.2</br>_original_yhat_: 0.97</br>"
          ],
          [
           "</br>id: 73</br>prediction: 0.95</br>sepal width (cm): 2.3320000000000003</br></br>sepal length (cm): 6.1</br>petal length (cm): 4.7</br>petal width (cm): 1.2</br>_original_yhat_: 0.97</br>"
          ],
          [
           "</br>id: 73</br>prediction: 0.96</br>sepal width (cm): 2.354</br></br>sepal length (cm): 6.1</br>petal length (cm): 4.7</br>petal width (cm): 1.2</br>_original_yhat_: 0.97</br>"
          ],
          [
           "</br>id: 73</br>prediction: 0.96</br>sepal width (cm): 2.3760000000000003</br></br>sepal length (cm): 6.1</br>petal length (cm): 4.7</br>petal width (cm): 1.2</br>_original_yhat_: 0.97</br>"
          ],
          [
           "</br>id: 73</br>prediction: 0.96</br>sepal width (cm): 2.398</br></br>sepal length (cm): 6.1</br>petal length (cm): 4.7</br>petal width (cm): 1.2</br>_original_yhat_: 0.97</br>"
          ],
          [
           "</br>id: 73</br>prediction: 0.96</br>sepal width (cm): 2.4200000000000004</br></br>sepal length (cm): 6.1</br>petal length (cm): 4.7</br>petal width (cm): 1.2</br>_original_yhat_: 0.97</br>"
          ],
          [
           "</br>id: 73</br>prediction: 0.96</br>sepal width (cm): 2.442</br></br>sepal length (cm): 6.1</br>petal length (cm): 4.7</br>petal width (cm): 1.2</br>_original_yhat_: 0.97</br>"
          ],
          [
           "</br>id: 73</br>prediction: 0.96</br>sepal width (cm): 2.4640000000000004</br></br>sepal length (cm): 6.1</br>petal length (cm): 4.7</br>petal width (cm): 1.2</br>_original_yhat_: 0.97</br>"
          ],
          [
           "</br>id: 73</br>prediction: 0.96</br>sepal width (cm): 2.486</br></br>sepal length (cm): 6.1</br>petal length (cm): 4.7</br>petal width (cm): 1.2</br>_original_yhat_: 0.97</br>"
          ],
          [
           "</br>id: 73</br>prediction: 0.96</br>sepal width (cm): 2.508</br></br>sepal length (cm): 6.1</br>petal length (cm): 4.7</br>petal width (cm): 1.2</br>_original_yhat_: 0.97</br>"
          ],
          [
           "</br>id: 73</br>prediction: 0.96</br>sepal width (cm): 2.5300000000000002</br></br>sepal length (cm): 6.1</br>petal length (cm): 4.7</br>petal width (cm): 1.2</br>_original_yhat_: 0.97</br>"
          ],
          [
           "</br>id: 73</br>prediction: 0.95</br>sepal width (cm): 2.552</br></br>sepal length (cm): 6.1</br>petal length (cm): 4.7</br>petal width (cm): 1.2</br>_original_yhat_: 0.97</br>"
          ],
          [
           "</br>id: 73</br>prediction: 0.95</br>sepal width (cm): 2.5740000000000003</br></br>sepal length (cm): 6.1</br>petal length (cm): 4.7</br>petal width (cm): 1.2</br>_original_yhat_: 0.97</br>"
          ],
          [
           "</br>id: 73</br>prediction: 0.95</br>sepal width (cm): 2.596</br></br>sepal length (cm): 6.1</br>petal length (cm): 4.7</br>petal width (cm): 1.2</br>_original_yhat_: 0.97</br>"
          ],
          [
           "</br>id: 73</br>prediction: 0.95</br>sepal width (cm): 2.6180000000000003</br></br>sepal length (cm): 6.1</br>petal length (cm): 4.7</br>petal width (cm): 1.2</br>_original_yhat_: 0.97</br>"
          ],
          [
           "</br>id: 73</br>prediction: 0.95</br>sepal width (cm): 2.64</br></br>sepal length (cm): 6.1</br>petal length (cm): 4.7</br>petal width (cm): 1.2</br>_original_yhat_: 0.97</br>"
          ],
          [
           "</br>id: 73</br>prediction: 0.97</br>sepal width (cm): 2.6620000000000004</br></br>sepal length (cm): 6.1</br>petal length (cm): 4.7</br>petal width (cm): 1.2</br>_original_yhat_: 0.97</br>"
          ],
          [
           "</br>id: 73</br>prediction: 0.97</br>sepal width (cm): 2.684</br></br>sepal length (cm): 6.1</br>petal length (cm): 4.7</br>petal width (cm): 1.2</br>_original_yhat_: 0.97</br>"
          ],
          [
           "</br>id: 73</br>prediction: 0.98</br>sepal width (cm): 2.7060000000000004</br></br>sepal length (cm): 6.1</br>petal length (cm): 4.7</br>petal width (cm): 1.2</br>_original_yhat_: 0.97</br>"
          ],
          [
           "</br>id: 73</br>prediction: 0.98</br>sepal width (cm): 2.728</br></br>sepal length (cm): 6.1</br>petal length (cm): 4.7</br>petal width (cm): 1.2</br>_original_yhat_: 0.97</br>"
          ],
          [
           "</br>id: 73</br>prediction: 0.98</br>sepal width (cm): 2.75</br></br>sepal length (cm): 6.1</br>petal length (cm): 4.7</br>petal width (cm): 1.2</br>_original_yhat_: 0.97</br>"
          ],
          [
           "</br>id: 73</br>prediction: 0.97</br>sepal width (cm): 2.7720000000000002</br></br>sepal length (cm): 6.1</br>petal length (cm): 4.7</br>petal width (cm): 1.2</br>_original_yhat_: 0.97</br>"
          ],
          [
           "</br>id: 73</br>prediction: 0.97</br>sepal width (cm): 2.7940000000000005</br></br>sepal length (cm): 6.1</br>petal length (cm): 4.7</br>petal width (cm): 1.2</br>_original_yhat_: 0.97</br>"
          ],
          [
           "</br>id: 73</br>prediction: 0.97</br>sepal width (cm): 2.8</br></br>sepal length (cm): 6.1</br>petal length (cm): 4.7</br>petal width (cm): 1.2</br>_original_yhat_: 0.97</br>"
          ],
          [
           "</br>id: 73</br>prediction: 0.97</br>sepal width (cm): 2.8160000000000003</br></br>sepal length (cm): 6.1</br>petal length (cm): 4.7</br>petal width (cm): 1.2</br>_original_yhat_: 0.97</br>"
          ],
          [
           "</br>id: 73</br>prediction: 0.97</br>sepal width (cm): 2.838</br></br>sepal length (cm): 6.1</br>petal length (cm): 4.7</br>petal width (cm): 1.2</br>_original_yhat_: 0.97</br>"
          ],
          [
           "</br>id: 73</br>prediction: 1.0</br>sepal width (cm): 2.8600000000000003</br></br>sepal length (cm): 6.1</br>petal length (cm): 4.7</br>petal width (cm): 1.2</br>_original_yhat_: 0.97</br>"
          ],
          [
           "</br>id: 73</br>prediction: 1.0</br>sepal width (cm): 2.882</br></br>sepal length (cm): 6.1</br>petal length (cm): 4.7</br>petal width (cm): 1.2</br>_original_yhat_: 0.97</br>"
          ],
          [
           "</br>id: 73</br>prediction: 1.0</br>sepal width (cm): 2.9040000000000004</br></br>sepal length (cm): 6.1</br>petal length (cm): 4.7</br>petal width (cm): 1.2</br>_original_yhat_: 0.97</br>"
          ],
          [
           "</br>id: 73</br>prediction: 1.0</br>sepal width (cm): 2.926</br></br>sepal length (cm): 6.1</br>petal length (cm): 4.7</br>petal width (cm): 1.2</br>_original_yhat_: 0.97</br>"
          ],
          [
           "</br>id: 73</br>prediction: 1.0</br>sepal width (cm): 2.9480000000000004</br></br>sepal length (cm): 6.1</br>petal length (cm): 4.7</br>petal width (cm): 1.2</br>_original_yhat_: 0.97</br>"
          ],
          [
           "</br>id: 73</br>prediction: 1.0</br>sepal width (cm): 2.97</br></br>sepal length (cm): 6.1</br>petal length (cm): 4.7</br>petal width (cm): 1.2</br>_original_yhat_: 0.97</br>"
          ],
          [
           "</br>id: 73</br>prediction: 1.0</br>sepal width (cm): 2.992</br></br>sepal length (cm): 6.1</br>petal length (cm): 4.7</br>petal width (cm): 1.2</br>_original_yhat_: 0.97</br>"
          ],
          [
           "</br>id: 73</br>prediction: 1.0</br>sepal width (cm): 3.0140000000000002</br></br>sepal length (cm): 6.1</br>petal length (cm): 4.7</br>petal width (cm): 1.2</br>_original_yhat_: 0.97</br>"
          ],
          [
           "</br>id: 73</br>prediction: 1.0</br>sepal width (cm): 3.0360000000000005</br></br>sepal length (cm): 6.1</br>petal length (cm): 4.7</br>petal width (cm): 1.2</br>_original_yhat_: 0.97</br>"
          ],
          [
           "</br>id: 73</br>prediction: 1.0</br>sepal width (cm): 3.0580000000000003</br></br>sepal length (cm): 6.1</br>petal length (cm): 4.7</br>petal width (cm): 1.2</br>_original_yhat_: 0.97</br>"
          ],
          [
           "</br>id: 73</br>prediction: 1.0</br>sepal width (cm): 3.08</br></br>sepal length (cm): 6.1</br>petal length (cm): 4.7</br>petal width (cm): 1.2</br>_original_yhat_: 0.97</br>"
          ],
          [
           "</br>id: 73</br>prediction: 1.0</br>sepal width (cm): 3.1020000000000003</br></br>sepal length (cm): 6.1</br>petal length (cm): 4.7</br>petal width (cm): 1.2</br>_original_yhat_: 0.97</br>"
          ],
          [
           "</br>id: 73</br>prediction: 1.0</br>sepal width (cm): 3.124</br></br>sepal length (cm): 6.1</br>petal length (cm): 4.7</br>petal width (cm): 1.2</br>_original_yhat_: 0.97</br>"
          ],
          [
           "</br>id: 73</br>prediction: 1.0</br>sepal width (cm): 3.1460000000000004</br></br>sepal length (cm): 6.1</br>petal length (cm): 4.7</br>petal width (cm): 1.2</br>_original_yhat_: 0.97</br>"
          ],
          [
           "</br>id: 73</br>prediction: 1.0</br>sepal width (cm): 3.168</br></br>sepal length (cm): 6.1</br>petal length (cm): 4.7</br>petal width (cm): 1.2</br>_original_yhat_: 0.97</br>"
          ],
          [
           "</br>id: 73</br>prediction: 1.0</br>sepal width (cm): 3.1900000000000004</br></br>sepal length (cm): 6.1</br>petal length (cm): 4.7</br>petal width (cm): 1.2</br>_original_yhat_: 0.97</br>"
          ],
          [
           "</br>id: 73</br>prediction: 1.0</br>sepal width (cm): 3.212</br></br>sepal length (cm): 6.1</br>petal length (cm): 4.7</br>petal width (cm): 1.2</br>_original_yhat_: 0.97</br>"
          ],
          [
           "</br>id: 73</br>prediction: 1.0</br>sepal width (cm): 3.234</br></br>sepal length (cm): 6.1</br>petal length (cm): 4.7</br>petal width (cm): 1.2</br>_original_yhat_: 0.97</br>"
          ],
          [
           "</br>id: 73</br>prediction: 0.97</br>sepal width (cm): 3.2560000000000002</br></br>sepal length (cm): 6.1</br>petal length (cm): 4.7</br>petal width (cm): 1.2</br>_original_yhat_: 0.97</br>"
          ],
          [
           "</br>id: 73</br>prediction: 0.97</br>sepal width (cm): 3.2780000000000005</br></br>sepal length (cm): 6.1</br>petal length (cm): 4.7</br>petal width (cm): 1.2</br>_original_yhat_: 0.97</br>"
          ],
          [
           "</br>id: 73</br>prediction: 0.97</br>sepal width (cm): 3.3000000000000003</br></br>sepal length (cm): 6.1</br>petal length (cm): 4.7</br>petal width (cm): 1.2</br>_original_yhat_: 0.97</br>"
          ],
          [
           "</br>id: 73</br>prediction: 0.96</br>sepal width (cm): 3.322</br></br>sepal length (cm): 6.1</br>petal length (cm): 4.7</br>petal width (cm): 1.2</br>_original_yhat_: 0.97</br>"
          ],
          [
           "</br>id: 73</br>prediction: 0.96</br>sepal width (cm): 3.3440000000000003</br></br>sepal length (cm): 6.1</br>petal length (cm): 4.7</br>petal width (cm): 1.2</br>_original_yhat_: 0.97</br>"
          ],
          [
           "</br>id: 73</br>prediction: 0.96</br>sepal width (cm): 3.3660000000000005</br></br>sepal length (cm): 6.1</br>petal length (cm): 4.7</br>petal width (cm): 1.2</br>_original_yhat_: 0.97</br>"
          ],
          [
           "</br>id: 73</br>prediction: 0.96</br>sepal width (cm): 3.3880000000000003</br></br>sepal length (cm): 6.1</br>petal length (cm): 4.7</br>petal width (cm): 1.2</br>_original_yhat_: 0.97</br>"
          ],
          [
           "</br>id: 73</br>prediction: 0.96</br>sepal width (cm): 3.41</br></br>sepal length (cm): 6.1</br>petal length (cm): 4.7</br>petal width (cm): 1.2</br>_original_yhat_: 0.97</br>"
          ],
          [
           "</br>id: 73</br>prediction: 0.96</br>sepal width (cm): 3.4320000000000004</br></br>sepal length (cm): 6.1</br>petal length (cm): 4.7</br>petal width (cm): 1.2</br>_original_yhat_: 0.97</br>"
          ],
          [
           "</br>id: 73</br>prediction: 0.96</br>sepal width (cm): 3.4540000000000006</br></br>sepal length (cm): 6.1</br>petal length (cm): 4.7</br>petal width (cm): 1.2</br>_original_yhat_: 0.97</br>"
          ],
          [
           "</br>id: 73</br>prediction: 0.96</br>sepal width (cm): 3.476</br></br>sepal length (cm): 6.1</br>petal length (cm): 4.7</br>petal width (cm): 1.2</br>_original_yhat_: 0.97</br>"
          ],
          [
           "</br>id: 73</br>prediction: 0.96</br>sepal width (cm): 3.498</br></br>sepal length (cm): 6.1</br>petal length (cm): 4.7</br>petal width (cm): 1.2</br>_original_yhat_: 0.97</br>"
          ],
          [
           "</br>id: 73</br>prediction: 0.94</br>sepal width (cm): 3.5200000000000005</br></br>sepal length (cm): 6.1</br>petal length (cm): 4.7</br>petal width (cm): 1.2</br>_original_yhat_: 0.97</br>"
          ],
          [
           "</br>id: 73</br>prediction: 0.94</br>sepal width (cm): 3.5420000000000003</br></br>sepal length (cm): 6.1</br>petal length (cm): 4.7</br>petal width (cm): 1.2</br>_original_yhat_: 0.97</br>"
          ],
          [
           "</br>id: 73</br>prediction: 0.93</br>sepal width (cm): 3.564</br></br>sepal length (cm): 6.1</br>petal length (cm): 4.7</br>petal width (cm): 1.2</br>_original_yhat_: 0.97</br>"
          ],
          [
           "</br>id: 73</br>prediction: 0.93</br>sepal width (cm): 3.5860000000000003</br></br>sepal length (cm): 6.1</br>petal length (cm): 4.7</br>petal width (cm): 1.2</br>_original_yhat_: 0.97</br>"
          ],
          [
           "</br>id: 73</br>prediction: 0.91</br>sepal width (cm): 3.6080000000000005</br></br>sepal length (cm): 6.1</br>petal length (cm): 4.7</br>petal width (cm): 1.2</br>_original_yhat_: 0.97</br>"
          ],
          [
           "</br>id: 73</br>prediction: 0.91</br>sepal width (cm): 3.6300000000000003</br></br>sepal length (cm): 6.1</br>petal length (cm): 4.7</br>petal width (cm): 1.2</br>_original_yhat_: 0.97</br>"
          ],
          [
           "</br>id: 73</br>prediction: 0.91</br>sepal width (cm): 3.652</br></br>sepal length (cm): 6.1</br>petal length (cm): 4.7</br>petal width (cm): 1.2</br>_original_yhat_: 0.97</br>"
          ],
          [
           "</br>id: 73</br>prediction: 0.91</br>sepal width (cm): 3.6740000000000004</br></br>sepal length (cm): 6.1</br>petal length (cm): 4.7</br>petal width (cm): 1.2</br>_original_yhat_: 0.97</br>"
          ],
          [
           "</br>id: 73</br>prediction: 0.91</br>sepal width (cm): 3.6960000000000006</br></br>sepal length (cm): 6.1</br>petal length (cm): 4.7</br>petal width (cm): 1.2</br>_original_yhat_: 0.97</br>"
          ],
          [
           "</br>id: 73</br>prediction: 0.9</br>sepal width (cm): 3.7180000000000004</br></br>sepal length (cm): 6.1</br>petal length (cm): 4.7</br>petal width (cm): 1.2</br>_original_yhat_: 0.97</br>"
          ],
          [
           "</br>id: 73</br>prediction: 0.9</br>sepal width (cm): 3.74</br></br>sepal length (cm): 6.1</br>petal length (cm): 4.7</br>petal width (cm): 1.2</br>_original_yhat_: 0.97</br>"
          ],
          [
           "</br>id: 73</br>prediction: 0.9</br>sepal width (cm): 3.7620000000000005</br></br>sepal length (cm): 6.1</br>petal length (cm): 4.7</br>petal width (cm): 1.2</br>_original_yhat_: 0.97</br>"
          ],
          [
           "</br>id: 73</br>prediction: 0.9</br>sepal width (cm): 3.7840000000000003</br></br>sepal length (cm): 6.1</br>petal length (cm): 4.7</br>petal width (cm): 1.2</br>_original_yhat_: 0.97</br>"
          ],
          [
           "</br>id: 73</br>prediction: 0.9</br>sepal width (cm): 3.806</br></br>sepal length (cm): 6.1</br>petal length (cm): 4.7</br>petal width (cm): 1.2</br>_original_yhat_: 0.97</br>"
          ],
          [
           "</br>id: 73</br>prediction: 0.9</br>sepal width (cm): 3.8280000000000003</br></br>sepal length (cm): 6.1</br>petal length (cm): 4.7</br>petal width (cm): 1.2</br>_original_yhat_: 0.97</br>"
          ],
          [
           "</br>id: 73</br>prediction: 0.9</br>sepal width (cm): 3.8500000000000005</br></br>sepal length (cm): 6.1</br>petal length (cm): 4.7</br>petal width (cm): 1.2</br>_original_yhat_: 0.97</br>"
          ],
          [
           "</br>id: 73</br>prediction: 0.9</br>sepal width (cm): 3.8720000000000003</br></br>sepal length (cm): 6.1</br>petal length (cm): 4.7</br>petal width (cm): 1.2</br>_original_yhat_: 0.97</br>"
          ],
          [
           "</br>id: 73</br>prediction: 0.9</br>sepal width (cm): 3.894</br></br>sepal length (cm): 6.1</br>petal length (cm): 4.7</br>petal width (cm): 1.2</br>_original_yhat_: 0.97</br>"
          ],
          [
           "</br>id: 73</br>prediction: 0.9</br>sepal width (cm): 3.9160000000000004</br></br>sepal length (cm): 6.1</br>petal length (cm): 4.7</br>petal width (cm): 1.2</br>_original_yhat_: 0.97</br>"
          ],
          [
           "</br>id: 73</br>prediction: 0.9</br>sepal width (cm): 3.9380000000000006</br></br>sepal length (cm): 6.1</br>petal length (cm): 4.7</br>petal width (cm): 1.2</br>_original_yhat_: 0.97</br>"
          ],
          [
           "</br>id: 73</br>prediction: 0.9</br>sepal width (cm): 3.9600000000000004</br></br>sepal length (cm): 6.1</br>petal length (cm): 4.7</br>petal width (cm): 1.2</br>_original_yhat_: 0.97</br>"
          ],
          [
           "</br>id: 73</br>prediction: 0.9</br>sepal width (cm): 3.982</br></br>sepal length (cm): 6.1</br>petal length (cm): 4.7</br>petal width (cm): 1.2</br>_original_yhat_: 0.97</br>"
          ],
          [
           "</br>id: 73</br>prediction: 0.9</br>sepal width (cm): 4.0040000000000004</br></br>sepal length (cm): 6.1</br>petal length (cm): 4.7</br>petal width (cm): 1.2</br>_original_yhat_: 0.97</br>"
          ],
          [
           "</br>id: 73</br>prediction: 0.9</br>sepal width (cm): 4.026000000000001</br></br>sepal length (cm): 6.1</br>petal length (cm): 4.7</br>petal width (cm): 1.2</br>_original_yhat_: 0.97</br>"
          ],
          [
           "</br>id: 73</br>prediction: 0.9</br>sepal width (cm): 4.048</br></br>sepal length (cm): 6.1</br>petal length (cm): 4.7</br>petal width (cm): 1.2</br>_original_yhat_: 0.97</br>"
          ],
          [
           "</br>id: 73</br>prediction: 0.9</br>sepal width (cm): 4.07</br></br>sepal length (cm): 6.1</br>petal length (cm): 4.7</br>petal width (cm): 1.2</br>_original_yhat_: 0.97</br>"
          ],
          [
           "</br>id: 73</br>prediction: 0.9</br>sepal width (cm): 4.0920000000000005</br></br>sepal length (cm): 6.1</br>petal length (cm): 4.7</br>petal width (cm): 1.2</br>_original_yhat_: 0.97</br>"
          ],
          [
           "</br>id: 73</br>prediction: 0.9</br>sepal width (cm): 4.114000000000001</br></br>sepal length (cm): 6.1</br>petal length (cm): 4.7</br>petal width (cm): 1.2</br>_original_yhat_: 0.97</br>"
          ],
          [
           "</br>id: 73</br>prediction: 0.9</br>sepal width (cm): 4.136</br></br>sepal length (cm): 6.1</br>petal length (cm): 4.7</br>petal width (cm): 1.2</br>_original_yhat_: 0.97</br>"
          ],
          [
           "</br>id: 73</br>prediction: 0.9</br>sepal width (cm): 4.158</br></br>sepal length (cm): 6.1</br>petal length (cm): 4.7</br>petal width (cm): 1.2</br>_original_yhat_: 0.97</br>"
          ],
          [
           "</br>id: 73</br>prediction: 0.9</br>sepal width (cm): 4.180000000000001</br></br>sepal length (cm): 6.1</br>petal length (cm): 4.7</br>petal width (cm): 1.2</br>_original_yhat_: 0.97</br>"
          ],
          [
           "</br>id: 73</br>prediction: 0.9</br>sepal width (cm): 4.202</br></br>sepal length (cm): 6.1</br>petal length (cm): 4.7</br>petal width (cm): 1.2</br>_original_yhat_: 0.97</br>"
          ],
          [
           "</br>id: 73</br>prediction: 0.9</br>sepal width (cm): 4.224</br></br>sepal length (cm): 6.1</br>petal length (cm): 4.7</br>petal width (cm): 1.2</br>_original_yhat_: 0.97</br>"
          ],
          [
           "</br>id: 73</br>prediction: 0.9</br>sepal width (cm): 4.246</br></br>sepal length (cm): 6.1</br>petal length (cm): 4.7</br>petal width (cm): 1.2</br>_original_yhat_: 0.97</br>"
          ],
          [
           "</br>id: 73</br>prediction: 0.9</br>sepal width (cm): 4.268000000000001</br></br>sepal length (cm): 6.1</br>petal length (cm): 4.7</br>petal width (cm): 1.2</br>_original_yhat_: 0.97</br>"
          ],
          [
           "</br>id: 73</br>prediction: 0.9</br>sepal width (cm): 4.290000000000001</br></br>sepal length (cm): 6.1</br>petal length (cm): 4.7</br>petal width (cm): 1.2</br>_original_yhat_: 0.97</br>"
          ],
          [
           "</br>id: 73</br>prediction: 0.9</br>sepal width (cm): 4.312</br></br>sepal length (cm): 6.1</br>petal length (cm): 4.7</br>petal width (cm): 1.2</br>_original_yhat_: 0.97</br>"
          ],
          [
           "</br>id: 73</br>prediction: 0.9</br>sepal width (cm): 4.3340000000000005</br></br>sepal length (cm): 6.1</br>petal length (cm): 4.7</br>petal width (cm): 1.2</br>_original_yhat_: 0.97</br>"
          ],
          [
           "</br>id: 73</br>prediction: 0.9</br>sepal width (cm): 4.356</br></br>sepal length (cm): 6.1</br>petal length (cm): 4.7</br>petal width (cm): 1.2</br>_original_yhat_: 0.97</br>"
          ],
          [
           "</br>id: 73</br>prediction: 0.9</br>sepal width (cm): 4.378</br></br>sepal length (cm): 6.1</br>petal length (cm): 4.7</br>petal width (cm): 1.2</br>_original_yhat_: 0.97</br>"
          ],
          [
           "</br>id: 73</br>prediction: 0.9</br>sepal width (cm): 4.4</br></br>sepal length (cm): 6.1</br>petal length (cm): 4.7</br>petal width (cm): 1.2</br>_original_yhat_: 0.97</br>"
          ]
         ],
         "hovertemplate": "%{customdata[0]}<extra></extra>",
         "legendgroup": "setosa, versicolor, virginica",
         "line": {
          "color": "#46bac2",
          "dash": "solid",
          "width": 2
         },
         "marker": {
          "symbol": "circle"
         },
         "mode": "lines",
         "name": "setosa, versicolor, virginica",
         "opacity": 1,
         "orientation": "v",
         "showlegend": false,
         "type": "scatter",
         "x": [
          2.2,
          2.222,
          2.244,
          2.266,
          2.2880000000000003,
          2.31,
          2.3320000000000003,
          2.354,
          2.3760000000000003,
          2.398,
          2.4200000000000004,
          2.442,
          2.4640000000000004,
          2.486,
          2.508,
          2.5300000000000002,
          2.552,
          2.5740000000000003,
          2.596,
          2.6180000000000003,
          2.64,
          2.6620000000000004,
          2.684,
          2.7060000000000004,
          2.728,
          2.75,
          2.7720000000000002,
          2.7940000000000005,
          2.8,
          2.8160000000000003,
          2.838,
          2.8600000000000003,
          2.882,
          2.9040000000000004,
          2.926,
          2.9480000000000004,
          2.97,
          2.992,
          3.0140000000000002,
          3.0360000000000005,
          3.0580000000000003,
          3.08,
          3.1020000000000003,
          3.124,
          3.1460000000000004,
          3.168,
          3.1900000000000004,
          3.212,
          3.234,
          3.2560000000000002,
          3.2780000000000005,
          3.3000000000000003,
          3.322,
          3.3440000000000003,
          3.3660000000000005,
          3.3880000000000003,
          3.41,
          3.4320000000000004,
          3.4540000000000006,
          3.476,
          3.498,
          3.5200000000000005,
          3.5420000000000003,
          3.564,
          3.5860000000000003,
          3.6080000000000005,
          3.6300000000000003,
          3.652,
          3.6740000000000004,
          3.6960000000000006,
          3.7180000000000004,
          3.74,
          3.7620000000000005,
          3.7840000000000003,
          3.806,
          3.8280000000000003,
          3.8500000000000005,
          3.8720000000000003,
          3.894,
          3.9160000000000004,
          3.9380000000000006,
          3.9600000000000004,
          3.982,
          4.0040000000000004,
          4.026000000000001,
          4.048,
          4.07,
          4.0920000000000005,
          4.114000000000001,
          4.136,
          4.158,
          4.180000000000001,
          4.202,
          4.224,
          4.246,
          4.268000000000001,
          4.290000000000001,
          4.312,
          4.3340000000000005,
          4.356,
          4.378,
          4.4
         ],
         "xaxis": "x4",
         "y": [
          0.93,
          0.93,
          0.93,
          0.95,
          0.95,
          0.95,
          0.95,
          0.96,
          0.96,
          0.96,
          0.96,
          0.96,
          0.96,
          0.96,
          0.96,
          0.96,
          0.95,
          0.95,
          0.95,
          0.95,
          0.95,
          0.97,
          0.97,
          0.98,
          0.98,
          0.98,
          0.97,
          0.97,
          0.97,
          0.97,
          0.97,
          1,
          1,
          1,
          1,
          1,
          1,
          1,
          1,
          1,
          1,
          1,
          1,
          1,
          1,
          1,
          1,
          1,
          1,
          0.97,
          0.97,
          0.97,
          0.96,
          0.96,
          0.96,
          0.96,
          0.96,
          0.96,
          0.96,
          0.96,
          0.96,
          0.94,
          0.94,
          0.93,
          0.93,
          0.91,
          0.91,
          0.91,
          0.91,
          0.91,
          0.9,
          0.9,
          0.9,
          0.9,
          0.9,
          0.9,
          0.9,
          0.9,
          0.9,
          0.9,
          0.9,
          0.9,
          0.9,
          0.9,
          0.9,
          0.9,
          0.9,
          0.9,
          0.9,
          0.9,
          0.9,
          0.9,
          0.9,
          0.9,
          0.9,
          0.9,
          0.9,
          0.9,
          0.9,
          0.9,
          0.9,
          0.9
         ],
         "yaxis": "y4"
        },
        {
         "customdata": [
          [
           "</br>id: 73</br>prediction: 0.6</br>petal length (cm): 1.0</br></br>sepal length (cm): 6.1</br>sepal width (cm): 2.8</br>petal width (cm): 1.2</br>_original_yhat_: 0.97</br>"
          ],
          [
           "</br>id: 73</br>prediction: 0.6</br>petal length (cm): 1.059</br></br>sepal length (cm): 6.1</br>sepal width (cm): 2.8</br>petal width (cm): 1.2</br>_original_yhat_: 0.97</br>"
          ],
          [
           "</br>id: 73</br>prediction: 0.6</br>petal length (cm): 1.118</br></br>sepal length (cm): 6.1</br>sepal width (cm): 2.8</br>petal width (cm): 1.2</br>_original_yhat_: 0.97</br>"
          ],
          [
           "</br>id: 73</br>prediction: 0.6</br>petal length (cm): 1.177</br></br>sepal length (cm): 6.1</br>sepal width (cm): 2.8</br>petal width (cm): 1.2</br>_original_yhat_: 0.97</br>"
          ],
          [
           "</br>id: 73</br>prediction: 0.6</br>petal length (cm): 1.236</br></br>sepal length (cm): 6.1</br>sepal width (cm): 2.8</br>petal width (cm): 1.2</br>_original_yhat_: 0.97</br>"
          ],
          [
           "</br>id: 73</br>prediction: 0.6</br>petal length (cm): 1.295</br></br>sepal length (cm): 6.1</br>sepal width (cm): 2.8</br>petal width (cm): 1.2</br>_original_yhat_: 0.97</br>"
          ],
          [
           "</br>id: 73</br>prediction: 0.6</br>petal length (cm): 1.354</br></br>sepal length (cm): 6.1</br>sepal width (cm): 2.8</br>petal width (cm): 1.2</br>_original_yhat_: 0.97</br>"
          ],
          [
           "</br>id: 73</br>prediction: 0.6</br>petal length (cm): 1.413</br></br>sepal length (cm): 6.1</br>sepal width (cm): 2.8</br>petal width (cm): 1.2</br>_original_yhat_: 0.97</br>"
          ],
          [
           "</br>id: 73</br>prediction: 0.6</br>petal length (cm): 1.472</br></br>sepal length (cm): 6.1</br>sepal width (cm): 2.8</br>petal width (cm): 1.2</br>_original_yhat_: 0.97</br>"
          ],
          [
           "</br>id: 73</br>prediction: 0.6</br>petal length (cm): 1.5310000000000001</br></br>sepal length (cm): 6.1</br>sepal width (cm): 2.8</br>petal width (cm): 1.2</br>_original_yhat_: 0.97</br>"
          ],
          [
           "</br>id: 73</br>prediction: 0.6</br>petal length (cm): 1.59</br></br>sepal length (cm): 6.1</br>sepal width (cm): 2.8</br>petal width (cm): 1.2</br>_original_yhat_: 0.97</br>"
          ],
          [
           "</br>id: 73</br>prediction: 0.6</br>petal length (cm): 1.649</br></br>sepal length (cm): 6.1</br>sepal width (cm): 2.8</br>petal width (cm): 1.2</br>_original_yhat_: 0.97</br>"
          ],
          [
           "</br>id: 73</br>prediction: 0.6</br>petal length (cm): 1.7080000000000002</br></br>sepal length (cm): 6.1</br>sepal width (cm): 2.8</br>petal width (cm): 1.2</br>_original_yhat_: 0.97</br>"
          ],
          [
           "</br>id: 73</br>prediction: 0.6</br>petal length (cm): 1.767</br></br>sepal length (cm): 6.1</br>sepal width (cm): 2.8</br>petal width (cm): 1.2</br>_original_yhat_: 0.97</br>"
          ],
          [
           "</br>id: 73</br>prediction: 0.6</br>petal length (cm): 1.826</br></br>sepal length (cm): 6.1</br>sepal width (cm): 2.8</br>petal width (cm): 1.2</br>_original_yhat_: 0.97</br>"
          ],
          [
           "</br>id: 73</br>prediction: 0.6</br>petal length (cm): 1.885</br></br>sepal length (cm): 6.1</br>sepal width (cm): 2.8</br>petal width (cm): 1.2</br>_original_yhat_: 0.97</br>"
          ],
          [
           "</br>id: 73</br>prediction: 0.6</br>petal length (cm): 1.944</br></br>sepal length (cm): 6.1</br>sepal width (cm): 2.8</br>petal width (cm): 1.2</br>_original_yhat_: 0.97</br>"
          ],
          [
           "</br>id: 73</br>prediction: 0.6</br>petal length (cm): 2.003</br></br>sepal length (cm): 6.1</br>sepal width (cm): 2.8</br>petal width (cm): 1.2</br>_original_yhat_: 0.97</br>"
          ],
          [
           "</br>id: 73</br>prediction: 0.6</br>petal length (cm): 2.0620000000000003</br></br>sepal length (cm): 6.1</br>sepal width (cm): 2.8</br>petal width (cm): 1.2</br>_original_yhat_: 0.97</br>"
          ],
          [
           "</br>id: 73</br>prediction: 0.6</br>petal length (cm): 2.121</br></br>sepal length (cm): 6.1</br>sepal width (cm): 2.8</br>petal width (cm): 1.2</br>_original_yhat_: 0.97</br>"
          ],
          [
           "</br>id: 73</br>prediction: 0.6</br>petal length (cm): 2.18</br></br>sepal length (cm): 6.1</br>sepal width (cm): 2.8</br>petal width (cm): 1.2</br>_original_yhat_: 0.97</br>"
          ],
          [
           "</br>id: 73</br>prediction: 0.6</br>petal length (cm): 2.239</br></br>sepal length (cm): 6.1</br>sepal width (cm): 2.8</br>petal width (cm): 1.2</br>_original_yhat_: 0.97</br>"
          ],
          [
           "</br>id: 73</br>prediction: 0.6</br>petal length (cm): 2.298</br></br>sepal length (cm): 6.1</br>sepal width (cm): 2.8</br>petal width (cm): 1.2</br>_original_yhat_: 0.97</br>"
          ],
          [
           "</br>id: 73</br>prediction: 0.63</br>petal length (cm): 2.357</br></br>sepal length (cm): 6.1</br>sepal width (cm): 2.8</br>petal width (cm): 1.2</br>_original_yhat_: 0.97</br>"
          ],
          [
           "</br>id: 73</br>prediction: 0.63</br>petal length (cm): 2.4160000000000004</br></br>sepal length (cm): 6.1</br>sepal width (cm): 2.8</br>petal width (cm): 1.2</br>_original_yhat_: 0.97</br>"
          ],
          [
           "</br>id: 73</br>prediction: 0.83</br>petal length (cm): 2.475</br></br>sepal length (cm): 6.1</br>sepal width (cm): 2.8</br>petal width (cm): 1.2</br>_original_yhat_: 0.97</br>"
          ],
          [
           "</br>id: 73</br>prediction: 0.84</br>petal length (cm): 2.534</br></br>sepal length (cm): 6.1</br>sepal width (cm): 2.8</br>petal width (cm): 1.2</br>_original_yhat_: 0.97</br>"
          ],
          [
           "</br>id: 73</br>prediction: 0.84</br>petal length (cm): 2.593</br></br>sepal length (cm): 6.1</br>sepal width (cm): 2.8</br>petal width (cm): 1.2</br>_original_yhat_: 0.97</br>"
          ],
          [
           "</br>id: 73</br>prediction: 0.99</br>petal length (cm): 2.652</br></br>sepal length (cm): 6.1</br>sepal width (cm): 2.8</br>petal width (cm): 1.2</br>_original_yhat_: 0.97</br>"
          ],
          [
           "</br>id: 73</br>prediction: 1.0</br>petal length (cm): 2.7110000000000003</br></br>sepal length (cm): 6.1</br>sepal width (cm): 2.8</br>petal width (cm): 1.2</br>_original_yhat_: 0.97</br>"
          ],
          [
           "</br>id: 73</br>prediction: 1.0</br>petal length (cm): 2.77</br></br>sepal length (cm): 6.1</br>sepal width (cm): 2.8</br>petal width (cm): 1.2</br>_original_yhat_: 0.97</br>"
          ],
          [
           "</br>id: 73</br>prediction: 1.0</br>petal length (cm): 2.829</br></br>sepal length (cm): 6.1</br>sepal width (cm): 2.8</br>petal width (cm): 1.2</br>_original_yhat_: 0.97</br>"
          ],
          [
           "</br>id: 73</br>prediction: 1.0</br>petal length (cm): 2.888</br></br>sepal length (cm): 6.1</br>sepal width (cm): 2.8</br>petal width (cm): 1.2</br>_original_yhat_: 0.97</br>"
          ],
          [
           "</br>id: 73</br>prediction: 1.0</br>petal length (cm): 2.947</br></br>sepal length (cm): 6.1</br>sepal width (cm): 2.8</br>petal width (cm): 1.2</br>_original_yhat_: 0.97</br>"
          ],
          [
           "</br>id: 73</br>prediction: 1.0</br>petal length (cm): 3.0060000000000002</br></br>sepal length (cm): 6.1</br>sepal width (cm): 2.8</br>petal width (cm): 1.2</br>_original_yhat_: 0.97</br>"
          ],
          [
           "</br>id: 73</br>prediction: 1.0</br>petal length (cm): 3.065</br></br>sepal length (cm): 6.1</br>sepal width (cm): 2.8</br>petal width (cm): 1.2</br>_original_yhat_: 0.97</br>"
          ],
          [
           "</br>id: 73</br>prediction: 1.0</br>petal length (cm): 3.124</br></br>sepal length (cm): 6.1</br>sepal width (cm): 2.8</br>petal width (cm): 1.2</br>_original_yhat_: 0.97</br>"
          ],
          [
           "</br>id: 73</br>prediction: 1.0</br>petal length (cm): 3.1830000000000003</br></br>sepal length (cm): 6.1</br>sepal width (cm): 2.8</br>petal width (cm): 1.2</br>_original_yhat_: 0.97</br>"
          ],
          [
           "</br>id: 73</br>prediction: 1.0</br>petal length (cm): 3.242</br></br>sepal length (cm): 6.1</br>sepal width (cm): 2.8</br>petal width (cm): 1.2</br>_original_yhat_: 0.97</br>"
          ],
          [
           "</br>id: 73</br>prediction: 1.0</br>petal length (cm): 3.301</br></br>sepal length (cm): 6.1</br>sepal width (cm): 2.8</br>petal width (cm): 1.2</br>_original_yhat_: 0.97</br>"
          ],
          [
           "</br>id: 73</br>prediction: 1.0</br>petal length (cm): 3.3600000000000003</br></br>sepal length (cm): 6.1</br>sepal width (cm): 2.8</br>petal width (cm): 1.2</br>_original_yhat_: 0.97</br>"
          ],
          [
           "</br>id: 73</br>prediction: 1.0</br>petal length (cm): 3.419</br></br>sepal length (cm): 6.1</br>sepal width (cm): 2.8</br>petal width (cm): 1.2</br>_original_yhat_: 0.97</br>"
          ],
          [
           "</br>id: 73</br>prediction: 1.0</br>petal length (cm): 3.478</br></br>sepal length (cm): 6.1</br>sepal width (cm): 2.8</br>petal width (cm): 1.2</br>_original_yhat_: 0.97</br>"
          ],
          [
           "</br>id: 73</br>prediction: 1.0</br>petal length (cm): 3.5370000000000004</br></br>sepal length (cm): 6.1</br>sepal width (cm): 2.8</br>petal width (cm): 1.2</br>_original_yhat_: 0.97</br>"
          ],
          [
           "</br>id: 73</br>prediction: 1.0</br>petal length (cm): 3.596</br></br>sepal length (cm): 6.1</br>sepal width (cm): 2.8</br>petal width (cm): 1.2</br>_original_yhat_: 0.97</br>"
          ],
          [
           "</br>id: 73</br>prediction: 1.0</br>petal length (cm): 3.6550000000000002</br></br>sepal length (cm): 6.1</br>sepal width (cm): 2.8</br>petal width (cm): 1.2</br>_original_yhat_: 0.97</br>"
          ],
          [
           "</br>id: 73</br>prediction: 1.0</br>petal length (cm): 3.714</br></br>sepal length (cm): 6.1</br>sepal width (cm): 2.8</br>petal width (cm): 1.2</br>_original_yhat_: 0.97</br>"
          ],
          [
           "</br>id: 73</br>prediction: 1.0</br>petal length (cm): 3.773</br></br>sepal length (cm): 6.1</br>sepal width (cm): 2.8</br>petal width (cm): 1.2</br>_original_yhat_: 0.97</br>"
          ],
          [
           "</br>id: 73</br>prediction: 1.0</br>petal length (cm): 3.8320000000000003</br></br>sepal length (cm): 6.1</br>sepal width (cm): 2.8</br>petal width (cm): 1.2</br>_original_yhat_: 0.97</br>"
          ],
          [
           "</br>id: 73</br>prediction: 1.0</br>petal length (cm): 3.891</br></br>sepal length (cm): 6.1</br>sepal width (cm): 2.8</br>petal width (cm): 1.2</br>_original_yhat_: 0.97</br>"
          ],
          [
           "</br>id: 73</br>prediction: 1.0</br>petal length (cm): 3.95</br></br>sepal length (cm): 6.1</br>sepal width (cm): 2.8</br>petal width (cm): 1.2</br>_original_yhat_: 0.97</br>"
          ],
          [
           "</br>id: 73</br>prediction: 1.0</br>petal length (cm): 4.009</br></br>sepal length (cm): 6.1</br>sepal width (cm): 2.8</br>petal width (cm): 1.2</br>_original_yhat_: 0.97</br>"
          ],
          [
           "</br>id: 73</br>prediction: 1.0</br>petal length (cm): 4.068</br></br>sepal length (cm): 6.1</br>sepal width (cm): 2.8</br>petal width (cm): 1.2</br>_original_yhat_: 0.97</br>"
          ],
          [
           "</br>id: 73</br>prediction: 1.0</br>petal length (cm): 4.127000000000001</br></br>sepal length (cm): 6.1</br>sepal width (cm): 2.8</br>petal width (cm): 1.2</br>_original_yhat_: 0.97</br>"
          ],
          [
           "</br>id: 73</br>prediction: 1.0</br>petal length (cm): 4.186</br></br>sepal length (cm): 6.1</br>sepal width (cm): 2.8</br>petal width (cm): 1.2</br>_original_yhat_: 0.97</br>"
          ],
          [
           "</br>id: 73</br>prediction: 1.0</br>petal length (cm): 4.245</br></br>sepal length (cm): 6.1</br>sepal width (cm): 2.8</br>petal width (cm): 1.2</br>_original_yhat_: 0.97</br>"
          ],
          [
           "</br>id: 73</br>prediction: 1.0</br>petal length (cm): 4.304</br></br>sepal length (cm): 6.1</br>sepal width (cm): 2.8</br>petal width (cm): 1.2</br>_original_yhat_: 0.97</br>"
          ],
          [
           "</br>id: 73</br>prediction: 1.0</br>petal length (cm): 4.363</br></br>sepal length (cm): 6.1</br>sepal width (cm): 2.8</br>petal width (cm): 1.2</br>_original_yhat_: 0.97</br>"
          ],
          [
           "</br>id: 73</br>prediction: 1.0</br>petal length (cm): 4.422000000000001</br></br>sepal length (cm): 6.1</br>sepal width (cm): 2.8</br>petal width (cm): 1.2</br>_original_yhat_: 0.97</br>"
          ],
          [
           "</br>id: 73</br>prediction: 0.98</br>petal length (cm): 4.481</br></br>sepal length (cm): 6.1</br>sepal width (cm): 2.8</br>petal width (cm): 1.2</br>_original_yhat_: 0.97</br>"
          ],
          [
           "</br>id: 73</br>prediction: 0.98</br>petal length (cm): 4.54</br></br>sepal length (cm): 6.1</br>sepal width (cm): 2.8</br>petal width (cm): 1.2</br>_original_yhat_: 0.97</br>"
          ],
          [
           "</br>id: 73</br>prediction: 0.99</br>petal length (cm): 4.599</br></br>sepal length (cm): 6.1</br>sepal width (cm): 2.8</br>petal width (cm): 1.2</br>_original_yhat_: 0.97</br>"
          ],
          [
           "</br>id: 73</br>prediction: 0.97</br>petal length (cm): 4.658</br></br>sepal length (cm): 6.1</br>sepal width (cm): 2.8</br>petal width (cm): 1.2</br>_original_yhat_: 0.97</br>"
          ],
          [
           "</br>id: 73</br>prediction: 0.97</br>petal length (cm): 4.7</br></br>sepal length (cm): 6.1</br>sepal width (cm): 2.8</br>petal width (cm): 1.2</br>_original_yhat_: 0.97</br>"
          ],
          [
           "</br>id: 73</br>prediction: 0.96</br>petal length (cm): 4.7170000000000005</br></br>sepal length (cm): 6.1</br>sepal width (cm): 2.8</br>petal width (cm): 1.2</br>_original_yhat_: 0.97</br>"
          ],
          [
           "</br>id: 73</br>prediction: 0.83</br>petal length (cm): 4.776</br></br>sepal length (cm): 6.1</br>sepal width (cm): 2.8</br>petal width (cm): 1.2</br>_original_yhat_: 0.97</br>"
          ],
          [
           "</br>id: 73</br>prediction: 0.83</br>petal length (cm): 4.835000000000001</br></br>sepal length (cm): 6.1</br>sepal width (cm): 2.8</br>petal width (cm): 1.2</br>_original_yhat_: 0.97</br>"
          ],
          [
           "</br>id: 73</br>prediction: 0.78</br>petal length (cm): 4.894</br></br>sepal length (cm): 6.1</br>sepal width (cm): 2.8</br>petal width (cm): 1.2</br>_original_yhat_: 0.97</br>"
          ],
          [
           "</br>id: 73</br>prediction: 0.59</br>petal length (cm): 4.953</br></br>sepal length (cm): 6.1</br>sepal width (cm): 2.8</br>petal width (cm): 1.2</br>_original_yhat_: 0.97</br>"
          ],
          [
           "</br>id: 73</br>prediction: 0.51</br>petal length (cm): 5.0120000000000005</br></br>sepal length (cm): 6.1</br>sepal width (cm): 2.8</br>petal width (cm): 1.2</br>_original_yhat_: 0.97</br>"
          ],
          [
           "</br>id: 73</br>prediction: 0.44</br>petal length (cm): 5.071000000000001</br></br>sepal length (cm): 6.1</br>sepal width (cm): 2.8</br>petal width (cm): 1.2</br>_original_yhat_: 0.97</br>"
          ],
          [
           "</br>id: 73</br>prediction: 0.44</br>petal length (cm): 5.13</br></br>sepal length (cm): 6.1</br>sepal width (cm): 2.8</br>petal width (cm): 1.2</br>_original_yhat_: 0.97</br>"
          ],
          [
           "</br>id: 73</br>prediction: 0.42</br>petal length (cm): 5.189</br></br>sepal length (cm): 6.1</br>sepal width (cm): 2.8</br>petal width (cm): 1.2</br>_original_yhat_: 0.97</br>"
          ],
          [
           "</br>id: 73</br>prediction: 0.4</br>petal length (cm): 5.248</br></br>sepal length (cm): 6.1</br>sepal width (cm): 2.8</br>petal width (cm): 1.2</br>_original_yhat_: 0.97</br>"
          ],
          [
           "</br>id: 73</br>prediction: 0.35</br>petal length (cm): 5.307</br></br>sepal length (cm): 6.1</br>sepal width (cm): 2.8</br>petal width (cm): 1.2</br>_original_yhat_: 0.97</br>"
          ],
          [
           "</br>id: 73</br>prediction: 0.32</br>petal length (cm): 5.3660000000000005</br></br>sepal length (cm): 6.1</br>sepal width (cm): 2.8</br>petal width (cm): 1.2</br>_original_yhat_: 0.97</br>"
          ],
          [
           "</br>id: 73</br>prediction: 0.32</br>petal length (cm): 5.425000000000001</br></br>sepal length (cm): 6.1</br>sepal width (cm): 2.8</br>petal width (cm): 1.2</br>_original_yhat_: 0.97</br>"
          ],
          [
           "</br>id: 73</br>prediction: 0.29</br>petal length (cm): 5.484</br></br>sepal length (cm): 6.1</br>sepal width (cm): 2.8</br>petal width (cm): 1.2</br>_original_yhat_: 0.97</br>"
          ],
          [
           "</br>id: 73</br>prediction: 0.29</br>petal length (cm): 5.543</br></br>sepal length (cm): 6.1</br>sepal width (cm): 2.8</br>petal width (cm): 1.2</br>_original_yhat_: 0.97</br>"
          ],
          [
           "</br>id: 73</br>prediction: 0.29</br>petal length (cm): 5.602</br></br>sepal length (cm): 6.1</br>sepal width (cm): 2.8</br>petal width (cm): 1.2</br>_original_yhat_: 0.97</br>"
          ],
          [
           "</br>id: 73</br>prediction: 0.29</br>petal length (cm): 5.6610000000000005</br></br>sepal length (cm): 6.1</br>sepal width (cm): 2.8</br>petal width (cm): 1.2</br>_original_yhat_: 0.97</br>"
          ],
          [
           "</br>id: 73</br>prediction: 0.29</br>petal length (cm): 5.720000000000001</br></br>sepal length (cm): 6.1</br>sepal width (cm): 2.8</br>petal width (cm): 1.2</br>_original_yhat_: 0.97</br>"
          ],
          [
           "</br>id: 73</br>prediction: 0.29</br>petal length (cm): 5.779</br></br>sepal length (cm): 6.1</br>sepal width (cm): 2.8</br>petal width (cm): 1.2</br>_original_yhat_: 0.97</br>"
          ],
          [
           "</br>id: 73</br>prediction: 0.29</br>petal length (cm): 5.838</br></br>sepal length (cm): 6.1</br>sepal width (cm): 2.8</br>petal width (cm): 1.2</br>_original_yhat_: 0.97</br>"
          ],
          [
           "</br>id: 73</br>prediction: 0.29</br>petal length (cm): 5.897</br></br>sepal length (cm): 6.1</br>sepal width (cm): 2.8</br>petal width (cm): 1.2</br>_original_yhat_: 0.97</br>"
          ],
          [
           "</br>id: 73</br>prediction: 0.29</br>petal length (cm): 5.956</br></br>sepal length (cm): 6.1</br>sepal width (cm): 2.8</br>petal width (cm): 1.2</br>_original_yhat_: 0.97</br>"
          ],
          [
           "</br>id: 73</br>prediction: 0.29</br>petal length (cm): 6.015000000000001</br></br>sepal length (cm): 6.1</br>sepal width (cm): 2.8</br>petal width (cm): 1.2</br>_original_yhat_: 0.97</br>"
          ],
          [
           "</br>id: 73</br>prediction: 0.29</br>petal length (cm): 6.074000000000001</br></br>sepal length (cm): 6.1</br>sepal width (cm): 2.8</br>petal width (cm): 1.2</br>_original_yhat_: 0.97</br>"
          ],
          [
           "</br>id: 73</br>prediction: 0.29</br>petal length (cm): 6.133</br></br>sepal length (cm): 6.1</br>sepal width (cm): 2.8</br>petal width (cm): 1.2</br>_original_yhat_: 0.97</br>"
          ],
          [
           "</br>id: 73</br>prediction: 0.29</br>petal length (cm): 6.192</br></br>sepal length (cm): 6.1</br>sepal width (cm): 2.8</br>petal width (cm): 1.2</br>_original_yhat_: 0.97</br>"
          ],
          [
           "</br>id: 73</br>prediction: 0.29</br>petal length (cm): 6.251</br></br>sepal length (cm): 6.1</br>sepal width (cm): 2.8</br>petal width (cm): 1.2</br>_original_yhat_: 0.97</br>"
          ],
          [
           "</br>id: 73</br>prediction: 0.29</br>petal length (cm): 6.3100000000000005</br></br>sepal length (cm): 6.1</br>sepal width (cm): 2.8</br>petal width (cm): 1.2</br>_original_yhat_: 0.97</br>"
          ],
          [
           "</br>id: 73</br>prediction: 0.29</br>petal length (cm): 6.369000000000001</br></br>sepal length (cm): 6.1</br>sepal width (cm): 2.8</br>petal width (cm): 1.2</br>_original_yhat_: 0.97</br>"
          ],
          [
           "</br>id: 73</br>prediction: 0.29</br>petal length (cm): 6.428</br></br>sepal length (cm): 6.1</br>sepal width (cm): 2.8</br>petal width (cm): 1.2</br>_original_yhat_: 0.97</br>"
          ],
          [
           "</br>id: 73</br>prediction: 0.29</br>petal length (cm): 6.487</br></br>sepal length (cm): 6.1</br>sepal width (cm): 2.8</br>petal width (cm): 1.2</br>_original_yhat_: 0.97</br>"
          ],
          [
           "</br>id: 73</br>prediction: 0.29</br>petal length (cm): 6.546</br></br>sepal length (cm): 6.1</br>sepal width (cm): 2.8</br>petal width (cm): 1.2</br>_original_yhat_: 0.97</br>"
          ],
          [
           "</br>id: 73</br>prediction: 0.29</br>petal length (cm): 6.605</br></br>sepal length (cm): 6.1</br>sepal width (cm): 2.8</br>petal width (cm): 1.2</br>_original_yhat_: 0.97</br>"
          ],
          [
           "</br>id: 73</br>prediction: 0.29</br>petal length (cm): 6.664000000000001</br></br>sepal length (cm): 6.1</br>sepal width (cm): 2.8</br>petal width (cm): 1.2</br>_original_yhat_: 0.97</br>"
          ],
          [
           "</br>id: 73</br>prediction: 0.29</br>petal length (cm): 6.723000000000001</br></br>sepal length (cm): 6.1</br>sepal width (cm): 2.8</br>petal width (cm): 1.2</br>_original_yhat_: 0.97</br>"
          ],
          [
           "</br>id: 73</br>prediction: 0.29</br>petal length (cm): 6.782</br></br>sepal length (cm): 6.1</br>sepal width (cm): 2.8</br>petal width (cm): 1.2</br>_original_yhat_: 0.97</br>"
          ],
          [
           "</br>id: 73</br>prediction: 0.29</br>petal length (cm): 6.841</br></br>sepal length (cm): 6.1</br>sepal width (cm): 2.8</br>petal width (cm): 1.2</br>_original_yhat_: 0.97</br>"
          ],
          [
           "</br>id: 73</br>prediction: 0.29</br>petal length (cm): 6.9</br></br>sepal length (cm): 6.1</br>sepal width (cm): 2.8</br>petal width (cm): 1.2</br>_original_yhat_: 0.97</br>"
          ]
         ],
         "hovertemplate": "%{customdata[0]}<extra></extra>",
         "legendgroup": "setosa, versicolor, virginica",
         "line": {
          "color": "#46bac2",
          "dash": "solid",
          "width": 2
         },
         "marker": {
          "symbol": "circle"
         },
         "mode": "lines",
         "name": "setosa, versicolor, virginica",
         "opacity": 1,
         "orientation": "v",
         "showlegend": false,
         "type": "scatter",
         "x": [
          1,
          1.059,
          1.118,
          1.177,
          1.236,
          1.295,
          1.354,
          1.413,
          1.472,
          1.5310000000000001,
          1.59,
          1.649,
          1.7080000000000002,
          1.767,
          1.826,
          1.885,
          1.944,
          2.003,
          2.0620000000000003,
          2.121,
          2.18,
          2.239,
          2.298,
          2.357,
          2.4160000000000004,
          2.475,
          2.534,
          2.593,
          2.652,
          2.7110000000000003,
          2.77,
          2.829,
          2.888,
          2.947,
          3.0060000000000002,
          3.065,
          3.124,
          3.1830000000000003,
          3.242,
          3.301,
          3.3600000000000003,
          3.419,
          3.478,
          3.5370000000000004,
          3.596,
          3.6550000000000002,
          3.714,
          3.773,
          3.8320000000000003,
          3.891,
          3.95,
          4.009,
          4.068,
          4.127000000000001,
          4.186,
          4.245,
          4.304,
          4.363,
          4.422000000000001,
          4.481,
          4.54,
          4.599,
          4.658,
          4.7,
          4.7170000000000005,
          4.776,
          4.835000000000001,
          4.894,
          4.953,
          5.0120000000000005,
          5.071000000000001,
          5.13,
          5.189,
          5.248,
          5.307,
          5.3660000000000005,
          5.425000000000001,
          5.484,
          5.543,
          5.602,
          5.6610000000000005,
          5.720000000000001,
          5.779,
          5.838,
          5.897,
          5.956,
          6.015000000000001,
          6.074000000000001,
          6.133,
          6.192,
          6.251,
          6.3100000000000005,
          6.369000000000001,
          6.428,
          6.487,
          6.546,
          6.605,
          6.664000000000001,
          6.723000000000001,
          6.782,
          6.841,
          6.9
         ],
         "xaxis": "x",
         "y": [
          0.6,
          0.6,
          0.6,
          0.6,
          0.6,
          0.6,
          0.6,
          0.6,
          0.6,
          0.6,
          0.6,
          0.6,
          0.6,
          0.6,
          0.6,
          0.6,
          0.6,
          0.6,
          0.6,
          0.6,
          0.6,
          0.6,
          0.6,
          0.63,
          0.63,
          0.83,
          0.84,
          0.84,
          0.99,
          1,
          1,
          1,
          1,
          1,
          1,
          1,
          1,
          1,
          1,
          1,
          1,
          1,
          1,
          1,
          1,
          1,
          1,
          1,
          1,
          1,
          1,
          1,
          1,
          1,
          1,
          1,
          1,
          1,
          1,
          0.98,
          0.98,
          0.99,
          0.97,
          0.97,
          0.96,
          0.83,
          0.83,
          0.78,
          0.59,
          0.51,
          0.44,
          0.44,
          0.42,
          0.4,
          0.35,
          0.32,
          0.32,
          0.29,
          0.29,
          0.29,
          0.29,
          0.29,
          0.29,
          0.29,
          0.29,
          0.29,
          0.29,
          0.29,
          0.29,
          0.29,
          0.29,
          0.29,
          0.29,
          0.29,
          0.29,
          0.29,
          0.29,
          0.29,
          0.29,
          0.29,
          0.29,
          0.29
         ],
         "yaxis": "y"
        },
        {
         "customdata": [
          [
           "</br>id: 73</br>prediction: 0.5</br>petal width (cm): 0.1</br></br>sepal length (cm): 6.1</br>sepal width (cm): 2.8</br>petal length (cm): 4.7</br>_original_yhat_: 0.97</br>"
          ],
          [
           "</br>id: 73</br>prediction: 0.5</br>petal width (cm): 0.122</br></br>sepal length (cm): 6.1</br>sepal width (cm): 2.8</br>petal length (cm): 4.7</br>_original_yhat_: 0.97</br>"
          ],
          [
           "</br>id: 73</br>prediction: 0.5</br>petal width (cm): 0.14400000000000002</br></br>sepal length (cm): 6.1</br>sepal width (cm): 2.8</br>petal length (cm): 4.7</br>_original_yhat_: 0.97</br>"
          ],
          [
           "</br>id: 73</br>prediction: 0.5</br>petal width (cm): 0.166</br></br>sepal length (cm): 6.1</br>sepal width (cm): 2.8</br>petal length (cm): 4.7</br>_original_yhat_: 0.97</br>"
          ],
          [
           "</br>id: 73</br>prediction: 0.5</br>petal width (cm): 0.188</br></br>sepal length (cm): 6.1</br>sepal width (cm): 2.8</br>petal length (cm): 4.7</br>_original_yhat_: 0.97</br>"
          ],
          [
           "</br>id: 73</br>prediction: 0.5</br>petal width (cm): 0.21</br></br>sepal length (cm): 6.1</br>sepal width (cm): 2.8</br>petal length (cm): 4.7</br>_original_yhat_: 0.97</br>"
          ],
          [
           "</br>id: 73</br>prediction: 0.5</br>petal width (cm): 0.232</br></br>sepal length (cm): 6.1</br>sepal width (cm): 2.8</br>petal length (cm): 4.7</br>_original_yhat_: 0.97</br>"
          ],
          [
           "</br>id: 73</br>prediction: 0.5</br>petal width (cm): 0.254</br></br>sepal length (cm): 6.1</br>sepal width (cm): 2.8</br>petal length (cm): 4.7</br>_original_yhat_: 0.97</br>"
          ],
          [
           "</br>id: 73</br>prediction: 0.5</br>petal width (cm): 0.276</br></br>sepal length (cm): 6.1</br>sepal width (cm): 2.8</br>petal length (cm): 4.7</br>_original_yhat_: 0.97</br>"
          ],
          [
           "</br>id: 73</br>prediction: 0.5</br>petal width (cm): 0.298</br></br>sepal length (cm): 6.1</br>sepal width (cm): 2.8</br>petal length (cm): 4.7</br>_original_yhat_: 0.97</br>"
          ],
          [
           "</br>id: 73</br>prediction: 0.5</br>petal width (cm): 0.31999999999999995</br></br>sepal length (cm): 6.1</br>sepal width (cm): 2.8</br>petal length (cm): 4.7</br>_original_yhat_: 0.97</br>"
          ],
          [
           "</br>id: 73</br>prediction: 0.5</br>petal width (cm): 0.34199999999999997</br></br>sepal length (cm): 6.1</br>sepal width (cm): 2.8</br>petal length (cm): 4.7</br>_original_yhat_: 0.97</br>"
          ],
          [
           "</br>id: 73</br>prediction: 0.5</br>petal width (cm): 0.364</br></br>sepal length (cm): 6.1</br>sepal width (cm): 2.8</br>petal length (cm): 4.7</br>_original_yhat_: 0.97</br>"
          ],
          [
           "</br>id: 73</br>prediction: 0.5</br>petal width (cm): 0.386</br></br>sepal length (cm): 6.1</br>sepal width (cm): 2.8</br>petal length (cm): 4.7</br>_original_yhat_: 0.97</br>"
          ],
          [
           "</br>id: 73</br>prediction: 0.5</br>petal width (cm): 0.40800000000000003</br></br>sepal length (cm): 6.1</br>sepal width (cm): 2.8</br>petal length (cm): 4.7</br>_original_yhat_: 0.97</br>"
          ],
          [
           "</br>id: 73</br>prediction: 0.5</br>petal width (cm): 0.42999999999999994</br></br>sepal length (cm): 6.1</br>sepal width (cm): 2.8</br>petal length (cm): 4.7</br>_original_yhat_: 0.97</br>"
          ],
          [
           "</br>id: 73</br>prediction: 0.5</br>petal width (cm): 0.45199999999999996</br></br>sepal length (cm): 6.1</br>sepal width (cm): 2.8</br>petal length (cm): 4.7</br>_original_yhat_: 0.97</br>"
          ],
          [
           "</br>id: 73</br>prediction: 0.5</br>petal width (cm): 0.474</br></br>sepal length (cm): 6.1</br>sepal width (cm): 2.8</br>petal length (cm): 4.7</br>_original_yhat_: 0.97</br>"
          ],
          [
           "</br>id: 73</br>prediction: 0.5</br>petal width (cm): 0.496</br></br>sepal length (cm): 6.1</br>sepal width (cm): 2.8</br>petal length (cm): 4.7</br>_original_yhat_: 0.97</br>"
          ],
          [
           "</br>id: 73</br>prediction: 0.5</br>petal width (cm): 0.518</br></br>sepal length (cm): 6.1</br>sepal width (cm): 2.8</br>petal length (cm): 4.7</br>_original_yhat_: 0.97</br>"
          ],
          [
           "</br>id: 73</br>prediction: 0.5</br>petal width (cm): 0.5399999999999999</br></br>sepal length (cm): 6.1</br>sepal width (cm): 2.8</br>petal length (cm): 4.7</br>_original_yhat_: 0.97</br>"
          ],
          [
           "</br>id: 73</br>prediction: 0.5</br>petal width (cm): 0.5619999999999999</br></br>sepal length (cm): 6.1</br>sepal width (cm): 2.8</br>petal length (cm): 4.7</br>_original_yhat_: 0.97</br>"
          ],
          [
           "</br>id: 73</br>prediction: 0.5</br>petal width (cm): 0.584</br></br>sepal length (cm): 6.1</br>sepal width (cm): 2.8</br>petal length (cm): 4.7</br>_original_yhat_: 0.97</br>"
          ],
          [
           "</br>id: 73</br>prediction: 0.6</br>petal width (cm): 0.606</br></br>sepal length (cm): 6.1</br>sepal width (cm): 2.8</br>petal length (cm): 4.7</br>_original_yhat_: 0.97</br>"
          ],
          [
           "</br>id: 73</br>prediction: 0.6</br>petal width (cm): 0.628</br></br>sepal length (cm): 6.1</br>sepal width (cm): 2.8</br>petal length (cm): 4.7</br>_original_yhat_: 0.97</br>"
          ],
          [
           "</br>id: 73</br>prediction: 0.6</br>petal width (cm): 0.6499999999999999</br></br>sepal length (cm): 6.1</br>sepal width (cm): 2.8</br>petal length (cm): 4.7</br>_original_yhat_: 0.97</br>"
          ],
          [
           "</br>id: 73</br>prediction: 0.6</br>petal width (cm): 0.6719999999999999</br></br>sepal length (cm): 6.1</br>sepal width (cm): 2.8</br>petal length (cm): 4.7</br>_original_yhat_: 0.97</br>"
          ],
          [
           "</br>id: 73</br>prediction: 0.6</br>petal width (cm): 0.694</br></br>sepal length (cm): 6.1</br>sepal width (cm): 2.8</br>petal length (cm): 4.7</br>_original_yhat_: 0.97</br>"
          ],
          [
           "</br>id: 73</br>prediction: 0.64</br>petal width (cm): 0.716</br></br>sepal length (cm): 6.1</br>sepal width (cm): 2.8</br>petal length (cm): 4.7</br>_original_yhat_: 0.97</br>"
          ],
          [
           "</br>id: 73</br>prediction: 0.64</br>petal width (cm): 0.738</br></br>sepal length (cm): 6.1</br>sepal width (cm): 2.8</br>petal length (cm): 4.7</br>_original_yhat_: 0.97</br>"
          ],
          [
           "</br>id: 73</br>prediction: 0.75</br>petal width (cm): 0.7599999999999999</br></br>sepal length (cm): 6.1</br>sepal width (cm): 2.8</br>petal length (cm): 4.7</br>_original_yhat_: 0.97</br>"
          ],
          [
           "</br>id: 73</br>prediction: 0.75</br>petal width (cm): 0.7819999999999999</br></br>sepal length (cm): 6.1</br>sepal width (cm): 2.8</br>petal length (cm): 4.7</br>_original_yhat_: 0.97</br>"
          ],
          [
           "</br>id: 73</br>prediction: 0.97</br>petal width (cm): 0.8039999999999999</br></br>sepal length (cm): 6.1</br>sepal width (cm): 2.8</br>petal length (cm): 4.7</br>_original_yhat_: 0.97</br>"
          ],
          [
           "</br>id: 73</br>prediction: 0.97</br>petal width (cm): 0.826</br></br>sepal length (cm): 6.1</br>sepal width (cm): 2.8</br>petal length (cm): 4.7</br>_original_yhat_: 0.97</br>"
          ],
          [
           "</br>id: 73</br>prediction: 0.97</br>petal width (cm): 0.848</br></br>sepal length (cm): 6.1</br>sepal width (cm): 2.8</br>petal length (cm): 4.7</br>_original_yhat_: 0.97</br>"
          ],
          [
           "</br>id: 73</br>prediction: 0.97</br>petal width (cm): 0.8699999999999999</br></br>sepal length (cm): 6.1</br>sepal width (cm): 2.8</br>petal length (cm): 4.7</br>_original_yhat_: 0.97</br>"
          ],
          [
           "</br>id: 73</br>prediction: 0.97</br>petal width (cm): 0.8919999999999999</br></br>sepal length (cm): 6.1</br>sepal width (cm): 2.8</br>petal length (cm): 4.7</br>_original_yhat_: 0.97</br>"
          ],
          [
           "</br>id: 73</br>prediction: 0.97</br>petal width (cm): 0.9139999999999999</br></br>sepal length (cm): 6.1</br>sepal width (cm): 2.8</br>petal length (cm): 4.7</br>_original_yhat_: 0.97</br>"
          ],
          [
           "</br>id: 73</br>prediction: 0.97</br>petal width (cm): 0.9359999999999999</br></br>sepal length (cm): 6.1</br>sepal width (cm): 2.8</br>petal length (cm): 4.7</br>_original_yhat_: 0.97</br>"
          ],
          [
           "</br>id: 73</br>prediction: 0.97</br>petal width (cm): 0.958</br></br>sepal length (cm): 6.1</br>sepal width (cm): 2.8</br>petal length (cm): 4.7</br>_original_yhat_: 0.97</br>"
          ],
          [
           "</br>id: 73</br>prediction: 0.97</br>petal width (cm): 0.9799999999999999</br></br>sepal length (cm): 6.1</br>sepal width (cm): 2.8</br>petal length (cm): 4.7</br>_original_yhat_: 0.97</br>"
          ],
          [
           "</br>id: 73</br>prediction: 0.97</br>petal width (cm): 1.002</br></br>sepal length (cm): 6.1</br>sepal width (cm): 2.8</br>petal length (cm): 4.7</br>_original_yhat_: 0.97</br>"
          ],
          [
           "</br>id: 73</br>prediction: 0.97</br>petal width (cm): 1.024</br></br>sepal length (cm): 6.1</br>sepal width (cm): 2.8</br>petal length (cm): 4.7</br>_original_yhat_: 0.97</br>"
          ],
          [
           "</br>id: 73</br>prediction: 0.97</br>petal width (cm): 1.046</br></br>sepal length (cm): 6.1</br>sepal width (cm): 2.8</br>petal length (cm): 4.7</br>_original_yhat_: 0.97</br>"
          ],
          [
           "</br>id: 73</br>prediction: 0.97</br>petal width (cm): 1.068</br></br>sepal length (cm): 6.1</br>sepal width (cm): 2.8</br>petal length (cm): 4.7</br>_original_yhat_: 0.97</br>"
          ],
          [
           "</br>id: 73</br>prediction: 0.97</br>petal width (cm): 1.09</br></br>sepal length (cm): 6.1</br>sepal width (cm): 2.8</br>petal length (cm): 4.7</br>_original_yhat_: 0.97</br>"
          ],
          [
           "</br>id: 73</br>prediction: 0.97</br>petal width (cm): 1.112</br></br>sepal length (cm): 6.1</br>sepal width (cm): 2.8</br>petal length (cm): 4.7</br>_original_yhat_: 0.97</br>"
          ],
          [
           "</br>id: 73</br>prediction: 0.97</br>petal width (cm): 1.1340000000000001</br></br>sepal length (cm): 6.1</br>sepal width (cm): 2.8</br>petal length (cm): 4.7</br>_original_yhat_: 0.97</br>"
          ],
          [
           "</br>id: 73</br>prediction: 0.97</br>petal width (cm): 1.1560000000000001</br></br>sepal length (cm): 6.1</br>sepal width (cm): 2.8</br>petal length (cm): 4.7</br>_original_yhat_: 0.97</br>"
          ],
          [
           "</br>id: 73</br>prediction: 0.97</br>petal width (cm): 1.178</br></br>sepal length (cm): 6.1</br>sepal width (cm): 2.8</br>petal length (cm): 4.7</br>_original_yhat_: 0.97</br>"
          ],
          [
           "</br>id: 73</br>prediction: 0.97</br>petal width (cm): 1.2</br></br>sepal length (cm): 6.1</br>sepal width (cm): 2.8</br>petal length (cm): 4.7</br>_original_yhat_: 0.97</br>"
          ],
          [
           "</br>id: 73</br>prediction: 0.97</br>petal width (cm): 1.222</br></br>sepal length (cm): 6.1</br>sepal width (cm): 2.8</br>petal length (cm): 4.7</br>_original_yhat_: 0.97</br>"
          ],
          [
           "</br>id: 73</br>prediction: 0.97</br>petal width (cm): 1.244</br></br>sepal length (cm): 6.1</br>sepal width (cm): 2.8</br>petal length (cm): 4.7</br>_original_yhat_: 0.97</br>"
          ],
          [
           "</br>id: 73</br>prediction: 0.97</br>petal width (cm): 1.266</br></br>sepal length (cm): 6.1</br>sepal width (cm): 2.8</br>petal length (cm): 4.7</br>_original_yhat_: 0.97</br>"
          ],
          [
           "</br>id: 73</br>prediction: 0.97</br>petal width (cm): 1.288</br></br>sepal length (cm): 6.1</br>sepal width (cm): 2.8</br>petal length (cm): 4.7</br>_original_yhat_: 0.97</br>"
          ],
          [
           "</br>id: 73</br>prediction: 0.97</br>petal width (cm): 1.31</br></br>sepal length (cm): 6.1</br>sepal width (cm): 2.8</br>petal length (cm): 4.7</br>_original_yhat_: 0.97</br>"
          ],
          [
           "</br>id: 73</br>prediction: 0.97</br>petal width (cm): 1.332</br></br>sepal length (cm): 6.1</br>sepal width (cm): 2.8</br>petal length (cm): 4.7</br>_original_yhat_: 0.97</br>"
          ],
          [
           "</br>id: 73</br>prediction: 0.95</br>petal width (cm): 1.354</br></br>sepal length (cm): 6.1</br>sepal width (cm): 2.8</br>petal length (cm): 4.7</br>_original_yhat_: 0.97</br>"
          ],
          [
           "</br>id: 73</br>prediction: 0.95</br>petal width (cm): 1.3760000000000001</br></br>sepal length (cm): 6.1</br>sepal width (cm): 2.8</br>petal length (cm): 4.7</br>_original_yhat_: 0.97</br>"
          ],
          [
           "</br>id: 73</br>prediction: 0.95</br>petal width (cm): 1.398</br></br>sepal length (cm): 6.1</br>sepal width (cm): 2.8</br>petal length (cm): 4.7</br>_original_yhat_: 0.97</br>"
          ],
          [
           "</br>id: 73</br>prediction: 0.95</br>petal width (cm): 1.42</br></br>sepal length (cm): 6.1</br>sepal width (cm): 2.8</br>petal length (cm): 4.7</br>_original_yhat_: 0.97</br>"
          ],
          [
           "</br>id: 73</br>prediction: 0.95</br>petal width (cm): 1.442</br></br>sepal length (cm): 6.1</br>sepal width (cm): 2.8</br>petal length (cm): 4.7</br>_original_yhat_: 0.97</br>"
          ],
          [
           "</br>id: 73</br>prediction: 0.93</br>petal width (cm): 1.464</br></br>sepal length (cm): 6.1</br>sepal width (cm): 2.8</br>petal length (cm): 4.7</br>_original_yhat_: 0.97</br>"
          ],
          [
           "</br>id: 73</br>prediction: 0.93</br>petal width (cm): 1.486</br></br>sepal length (cm): 6.1</br>sepal width (cm): 2.8</br>petal length (cm): 4.7</br>_original_yhat_: 0.97</br>"
          ],
          [
           "</br>id: 73</br>prediction: 0.93</br>petal width (cm): 1.508</br></br>sepal length (cm): 6.1</br>sepal width (cm): 2.8</br>petal length (cm): 4.7</br>_original_yhat_: 0.97</br>"
          ],
          [
           "</br>id: 73</br>prediction: 0.93</br>petal width (cm): 1.53</br></br>sepal length (cm): 6.1</br>sepal width (cm): 2.8</br>petal length (cm): 4.7</br>_original_yhat_: 0.97</br>"
          ],
          [
           "</br>id: 73</br>prediction: 0.83</br>petal width (cm): 1.552</br></br>sepal length (cm): 6.1</br>sepal width (cm): 2.8</br>petal length (cm): 4.7</br>_original_yhat_: 0.97</br>"
          ],
          [
           "</br>id: 73</br>prediction: 0.83</br>petal width (cm): 1.574</br></br>sepal length (cm): 6.1</br>sepal width (cm): 2.8</br>petal length (cm): 4.7</br>_original_yhat_: 0.97</br>"
          ],
          [
           "</br>id: 73</br>prediction: 0.83</br>petal width (cm): 1.596</br></br>sepal length (cm): 6.1</br>sepal width (cm): 2.8</br>petal length (cm): 4.7</br>_original_yhat_: 0.97</br>"
          ],
          [
           "</br>id: 73</br>prediction: 0.72</br>petal width (cm): 1.618</br></br>sepal length (cm): 6.1</br>sepal width (cm): 2.8</br>petal length (cm): 4.7</br>_original_yhat_: 0.97</br>"
          ],
          [
           "</br>id: 73</br>prediction: 0.72</br>petal width (cm): 1.64</br></br>sepal length (cm): 6.1</br>sepal width (cm): 2.8</br>petal length (cm): 4.7</br>_original_yhat_: 0.97</br>"
          ],
          [
           "</br>id: 73</br>prediction: 0.62</br>petal width (cm): 1.662</br></br>sepal length (cm): 6.1</br>sepal width (cm): 2.8</br>petal length (cm): 4.7</br>_original_yhat_: 0.97</br>"
          ],
          [
           "</br>id: 73</br>prediction: 0.62</br>petal width (cm): 1.684</br></br>sepal length (cm): 6.1</br>sepal width (cm): 2.8</br>petal length (cm): 4.7</br>_original_yhat_: 0.97</br>"
          ],
          [
           "</br>id: 73</br>prediction: 0.57</br>petal width (cm): 1.706</br></br>sepal length (cm): 6.1</br>sepal width (cm): 2.8</br>petal length (cm): 4.7</br>_original_yhat_: 0.97</br>"
          ],
          [
           "</br>id: 73</br>prediction: 0.57</br>petal width (cm): 1.728</br></br>sepal length (cm): 6.1</br>sepal width (cm): 2.8</br>petal length (cm): 4.7</br>_original_yhat_: 0.97</br>"
          ],
          [
           "</br>id: 73</br>prediction: 0.57</br>petal width (cm): 1.75</br></br>sepal length (cm): 6.1</br>sepal width (cm): 2.8</br>petal length (cm): 4.7</br>_original_yhat_: 0.97</br>"
          ],
          [
           "</br>id: 73</br>prediction: 0.34</br>petal width (cm): 1.772</br></br>sepal length (cm): 6.1</br>sepal width (cm): 2.8</br>petal length (cm): 4.7</br>_original_yhat_: 0.97</br>"
          ],
          [
           "</br>id: 73</br>prediction: 0.34</br>petal width (cm): 1.794</br></br>sepal length (cm): 6.1</br>sepal width (cm): 2.8</br>petal length (cm): 4.7</br>_original_yhat_: 0.97</br>"
          ],
          [
           "</br>id: 73</br>prediction: 0.34</br>petal width (cm): 1.816</br></br>sepal length (cm): 6.1</br>sepal width (cm): 2.8</br>petal length (cm): 4.7</br>_original_yhat_: 0.97</br>"
          ],
          [
           "</br>id: 73</br>prediction: 0.34</br>petal width (cm): 1.838</br></br>sepal length (cm): 6.1</br>sepal width (cm): 2.8</br>petal length (cm): 4.7</br>_original_yhat_: 0.97</br>"
          ],
          [
           "</br>id: 73</br>prediction: 0.33</br>petal width (cm): 1.8599999999999999</br></br>sepal length (cm): 6.1</br>sepal width (cm): 2.8</br>petal length (cm): 4.7</br>_original_yhat_: 0.97</br>"
          ],
          [
           "</br>id: 73</br>prediction: 0.33</br>petal width (cm): 1.882</br></br>sepal length (cm): 6.1</br>sepal width (cm): 2.8</br>petal length (cm): 4.7</br>_original_yhat_: 0.97</br>"
          ],
          [
           "</br>id: 73</br>prediction: 0.33</br>petal width (cm): 1.904</br></br>sepal length (cm): 6.1</br>sepal width (cm): 2.8</br>petal length (cm): 4.7</br>_original_yhat_: 0.97</br>"
          ],
          [
           "</br>id: 73</br>prediction: 0.33</br>petal width (cm): 1.926</br></br>sepal length (cm): 6.1</br>sepal width (cm): 2.8</br>petal length (cm): 4.7</br>_original_yhat_: 0.97</br>"
          ],
          [
           "</br>id: 73</br>prediction: 0.33</br>petal width (cm): 1.948</br></br>sepal length (cm): 6.1</br>sepal width (cm): 2.8</br>petal length (cm): 4.7</br>_original_yhat_: 0.97</br>"
          ],
          [
           "</br>id: 73</br>prediction: 0.33</br>petal width (cm): 1.97</br></br>sepal length (cm): 6.1</br>sepal width (cm): 2.8</br>petal length (cm): 4.7</br>_original_yhat_: 0.97</br>"
          ],
          [
           "</br>id: 73</br>prediction: 0.33</br>petal width (cm): 1.992</br></br>sepal length (cm): 6.1</br>sepal width (cm): 2.8</br>petal length (cm): 4.7</br>_original_yhat_: 0.97</br>"
          ],
          [
           "</br>id: 73</br>prediction: 0.33</br>petal width (cm): 2.014</br></br>sepal length (cm): 6.1</br>sepal width (cm): 2.8</br>petal length (cm): 4.7</br>_original_yhat_: 0.97</br>"
          ],
          [
           "</br>id: 73</br>prediction: 0.33</br>petal width (cm): 2.036</br></br>sepal length (cm): 6.1</br>sepal width (cm): 2.8</br>petal length (cm): 4.7</br>_original_yhat_: 0.97</br>"
          ],
          [
           "</br>id: 73</br>prediction: 0.33</br>petal width (cm): 2.058</br></br>sepal length (cm): 6.1</br>sepal width (cm): 2.8</br>petal length (cm): 4.7</br>_original_yhat_: 0.97</br>"
          ],
          [
           "</br>id: 73</br>prediction: 0.33</br>petal width (cm): 2.08</br></br>sepal length (cm): 6.1</br>sepal width (cm): 2.8</br>petal length (cm): 4.7</br>_original_yhat_: 0.97</br>"
          ],
          [
           "</br>id: 73</br>prediction: 0.33</br>petal width (cm): 2.102</br></br>sepal length (cm): 6.1</br>sepal width (cm): 2.8</br>petal length (cm): 4.7</br>_original_yhat_: 0.97</br>"
          ],
          [
           "</br>id: 73</br>prediction: 0.33</br>petal width (cm): 2.124</br></br>sepal length (cm): 6.1</br>sepal width (cm): 2.8</br>petal length (cm): 4.7</br>_original_yhat_: 0.97</br>"
          ],
          [
           "</br>id: 73</br>prediction: 0.33</br>petal width (cm): 2.146</br></br>sepal length (cm): 6.1</br>sepal width (cm): 2.8</br>petal length (cm): 4.7</br>_original_yhat_: 0.97</br>"
          ],
          [
           "</br>id: 73</br>prediction: 0.33</br>petal width (cm): 2.168</br></br>sepal length (cm): 6.1</br>sepal width (cm): 2.8</br>petal length (cm): 4.7</br>_original_yhat_: 0.97</br>"
          ],
          [
           "</br>id: 73</br>prediction: 0.33</br>petal width (cm): 2.19</br></br>sepal length (cm): 6.1</br>sepal width (cm): 2.8</br>petal length (cm): 4.7</br>_original_yhat_: 0.97</br>"
          ],
          [
           "</br>id: 73</br>prediction: 0.33</br>petal width (cm): 2.212</br></br>sepal length (cm): 6.1</br>sepal width (cm): 2.8</br>petal length (cm): 4.7</br>_original_yhat_: 0.97</br>"
          ],
          [
           "</br>id: 73</br>prediction: 0.33</br>petal width (cm): 2.234</br></br>sepal length (cm): 6.1</br>sepal width (cm): 2.8</br>petal length (cm): 4.7</br>_original_yhat_: 0.97</br>"
          ],
          [
           "</br>id: 73</br>prediction: 0.33</br>petal width (cm): 2.256</br></br>sepal length (cm): 6.1</br>sepal width (cm): 2.8</br>petal length (cm): 4.7</br>_original_yhat_: 0.97</br>"
          ],
          [
           "</br>id: 73</br>prediction: 0.33</br>petal width (cm): 2.278</br></br>sepal length (cm): 6.1</br>sepal width (cm): 2.8</br>petal length (cm): 4.7</br>_original_yhat_: 0.97</br>"
          ],
          [
           "</br>id: 73</br>prediction: 0.33</br>petal width (cm): 2.3</br></br>sepal length (cm): 6.1</br>sepal width (cm): 2.8</br>petal length (cm): 4.7</br>_original_yhat_: 0.97</br>"
          ]
         ],
         "hovertemplate": "%{customdata[0]}<extra></extra>",
         "legendgroup": "setosa, versicolor, virginica",
         "line": {
          "color": "#46bac2",
          "dash": "solid",
          "width": 2
         },
         "marker": {
          "symbol": "circle"
         },
         "mode": "lines",
         "name": "setosa, versicolor, virginica",
         "opacity": 1,
         "orientation": "v",
         "showlegend": false,
         "type": "scatter",
         "x": [
          0.1,
          0.122,
          0.14400000000000002,
          0.166,
          0.188,
          0.21,
          0.232,
          0.254,
          0.276,
          0.298,
          0.31999999999999995,
          0.34199999999999997,
          0.364,
          0.386,
          0.40800000000000003,
          0.42999999999999994,
          0.45199999999999996,
          0.474,
          0.496,
          0.518,
          0.5399999999999999,
          0.5619999999999999,
          0.584,
          0.606,
          0.628,
          0.6499999999999999,
          0.6719999999999999,
          0.694,
          0.716,
          0.738,
          0.7599999999999999,
          0.7819999999999999,
          0.8039999999999999,
          0.826,
          0.848,
          0.8699999999999999,
          0.8919999999999999,
          0.9139999999999999,
          0.9359999999999999,
          0.958,
          0.9799999999999999,
          1.002,
          1.024,
          1.046,
          1.068,
          1.09,
          1.112,
          1.1340000000000001,
          1.1560000000000001,
          1.178,
          1.2,
          1.222,
          1.244,
          1.266,
          1.288,
          1.31,
          1.332,
          1.354,
          1.3760000000000001,
          1.398,
          1.42,
          1.442,
          1.464,
          1.486,
          1.508,
          1.53,
          1.552,
          1.574,
          1.596,
          1.618,
          1.64,
          1.662,
          1.684,
          1.706,
          1.728,
          1.75,
          1.772,
          1.794,
          1.816,
          1.838,
          1.8599999999999999,
          1.882,
          1.904,
          1.926,
          1.948,
          1.97,
          1.992,
          2.014,
          2.036,
          2.058,
          2.08,
          2.102,
          2.124,
          2.146,
          2.168,
          2.19,
          2.212,
          2.234,
          2.256,
          2.278,
          2.3
         ],
         "xaxis": "x2",
         "y": [
          0.5,
          0.5,
          0.5,
          0.5,
          0.5,
          0.5,
          0.5,
          0.5,
          0.5,
          0.5,
          0.5,
          0.5,
          0.5,
          0.5,
          0.5,
          0.5,
          0.5,
          0.5,
          0.5,
          0.5,
          0.5,
          0.5,
          0.5,
          0.6,
          0.6,
          0.6,
          0.6,
          0.6,
          0.64,
          0.64,
          0.75,
          0.75,
          0.97,
          0.97,
          0.97,
          0.97,
          0.97,
          0.97,
          0.97,
          0.97,
          0.97,
          0.97,
          0.97,
          0.97,
          0.97,
          0.97,
          0.97,
          0.97,
          0.97,
          0.97,
          0.97,
          0.97,
          0.97,
          0.97,
          0.97,
          0.97,
          0.97,
          0.95,
          0.95,
          0.95,
          0.95,
          0.95,
          0.93,
          0.93,
          0.93,
          0.93,
          0.83,
          0.83,
          0.83,
          0.72,
          0.72,
          0.62,
          0.62,
          0.57,
          0.57,
          0.57,
          0.34,
          0.34,
          0.34,
          0.34,
          0.33,
          0.33,
          0.33,
          0.33,
          0.33,
          0.33,
          0.33,
          0.33,
          0.33,
          0.33,
          0.33,
          0.33,
          0.33,
          0.33,
          0.33,
          0.33,
          0.33,
          0.33,
          0.33,
          0.33,
          0.33
         ],
         "yaxis": "y2"
        },
        {
         "customdata": [
          [
           "</br>id: 73</br>prediction: 0.97</br>sepal length (cm): 6.1</br></br>sepal width (cm): 2.8</br>petal length (cm): 4.7</br>petal width (cm): 1.2</br>_original_yhat_: 0.97</br>"
          ]
         ],
         "hovertemplate": "%{customdata[0]}<extra></extra>",
         "legendgroup": "",
         "marker": {
          "color": "#371ea3",
          "size": 10,
          "symbol": "circle"
         },
         "mode": "markers",
         "name": "",
         "opacity": 1,
         "orientation": "v",
         "showlegend": false,
         "type": "scatter",
         "x": [
          6.1
         ],
         "xaxis": "x3",
         "y": [
          0.97
         ],
         "yaxis": "y3"
        },
        {
         "customdata": [
          [
           "</br>id: 73</br>prediction: 0.97</br>sepal width (cm): 2.8</br></br>sepal length (cm): 6.1</br>petal length (cm): 4.7</br>petal width (cm): 1.2</br>_original_yhat_: 0.97</br>"
          ]
         ],
         "hovertemplate": "%{customdata[0]}<extra></extra>",
         "legendgroup": "",
         "marker": {
          "color": "#371ea3",
          "size": 10,
          "symbol": "circle"
         },
         "mode": "markers",
         "name": "",
         "opacity": 1,
         "orientation": "v",
         "showlegend": false,
         "type": "scatter",
         "x": [
          2.8
         ],
         "xaxis": "x4",
         "y": [
          0.97
         ],
         "yaxis": "y4"
        },
        {
         "customdata": [
          [
           "</br>id: 73</br>prediction: 0.97</br>petal length (cm): 4.7</br></br>sepal length (cm): 6.1</br>sepal width (cm): 2.8</br>petal width (cm): 1.2</br>_original_yhat_: 0.97</br>"
          ]
         ],
         "hovertemplate": "%{customdata[0]}<extra></extra>",
         "legendgroup": "",
         "marker": {
          "color": "#371ea3",
          "size": 10,
          "symbol": "circle"
         },
         "mode": "markers",
         "name": "",
         "opacity": 1,
         "orientation": "v",
         "showlegend": false,
         "type": "scatter",
         "x": [
          4.7
         ],
         "xaxis": "x",
         "y": [
          0.97
         ],
         "yaxis": "y"
        },
        {
         "customdata": [
          [
           "</br>id: 73</br>prediction: 0.97</br>petal width (cm): 1.2</br></br>sepal length (cm): 6.1</br>sepal width (cm): 2.8</br>petal length (cm): 4.7</br>_original_yhat_: 0.97</br>"
          ]
         ],
         "hovertemplate": "%{customdata[0]}<extra></extra>",
         "legendgroup": "",
         "marker": {
          "color": "#371ea3",
          "size": 10,
          "symbol": "circle"
         },
         "mode": "markers",
         "name": "",
         "opacity": 1,
         "orientation": "v",
         "showlegend": false,
         "type": "scatter",
         "x": [
          1.2
         ],
         "xaxis": "x2",
         "y": [
          0.97
         ],
         "yaxis": "y2"
        }
       ],
       "layout": {
        "annotations": [
         {
          "font": {
           "size": 13
          },
          "showarrow": false,
          "text": "petal length (cm)",
          "x": 0.2375,
          "xanchor": "center",
          "xref": "paper",
          "y": 0.425,
          "yanchor": "bottom",
          "yref": "paper"
         },
         {
          "font": {
           "size": 13
          },
          "showarrow": false,
          "text": "petal width (cm)",
          "x": 0.7625,
          "xanchor": "center",
          "xref": "paper",
          "y": 0.425,
          "yanchor": "bottom",
          "yref": "paper"
         },
         {
          "font": {
           "size": 13
          },
          "showarrow": false,
          "text": "sepal length (cm)",
          "x": 0.2375,
          "xanchor": "center",
          "xref": "paper",
          "y": 1,
          "yanchor": "bottom",
          "yref": "paper"
         },
         {
          "font": {
           "size": 13
          },
          "showarrow": false,
          "text": "sepal width (cm)",
          "x": 0.7625,
          "xanchor": "center",
          "xref": "paper",
          "y": 1,
          "yanchor": "bottom",
          "yref": "paper"
         },
         {
          "font": {
           "size": 13
          },
          "showarrow": false,
          "text": "prediction",
          "textangle": -90,
          "x": -0.07,
          "xref": "paper",
          "y": 0.5,
          "yref": "paper"
         }
        ],
        "font": {
         "color": "#371ea3"
        },
        "height": 829,
        "hoverlabel": {
         "bgcolor": "rgba(0,0,0,0.8)"
        },
        "hovermode": "closest",
        "legend": {
         "font": {
          "size": 11
         },
         "itemsizing": "constant",
         "orientation": "h",
         "title": {
          "font": {
           "size": 12
          },
          "text": "label"
         },
         "tracegroupgap": 0,
         "x": 1,
         "xanchor": "right",
         "y": 1.0361881785283473,
         "yanchor": "bottom"
        },
        "margin": {
         "b": 71,
         "r": 30,
         "t": 78
        },
        "template": {
         "data": {
          "scatter": [
           {
            "type": "scatter"
           }
          ]
         }
        },
        "title": {
         "font": {
          "size": 16
         },
         "text": "Ceteris Paribus Profiles",
         "x": 0.15
        },
        "xaxis": {
         "anchor": "y",
         "automargin": true,
         "domain": [
          0,
          0.475
         ],
         "fixedrange": true,
         "gridwidth": 2,
         "showticklabels": true,
         "tickcolor": "white",
         "ticklen": 3,
         "ticks": "outside",
         "title": {
          "text": ""
         },
         "type": "linear",
         "zeroline": false
        },
        "xaxis2": {
         "anchor": "y2",
         "automargin": true,
         "domain": [
          0.525,
          1
         ],
         "fixedrange": true,
         "gridwidth": 2,
         "showticklabels": true,
         "tickcolor": "white",
         "ticklen": 3,
         "ticks": "outside",
         "title": {
          "text": ""
         },
         "type": "linear",
         "zeroline": false
        },
        "xaxis3": {
         "anchor": "y3",
         "automargin": true,
         "domain": [
          0,
          0.475
         ],
         "fixedrange": true,
         "gridwidth": 2,
         "showticklabels": true,
         "tickcolor": "white",
         "ticklen": 3,
         "ticks": "outside",
         "title": {
          "text": ""
         },
         "type": "linear",
         "zeroline": false
        },
        "xaxis4": {
         "anchor": "y4",
         "automargin": true,
         "domain": [
          0.525,
          1
         ],
         "fixedrange": true,
         "gridwidth": 2,
         "showticklabels": true,
         "tickcolor": "white",
         "ticklen": 3,
         "ticks": "outside",
         "title": {
          "text": ""
         },
         "type": "linear",
         "zeroline": false
        },
        "yaxis": {
         "anchor": "x",
         "automargin": true,
         "domain": [
          0,
          0.425
         ],
         "fixedrange": true,
         "gridwidth": 2,
         "range": [
          0.21899999999999997,
          1.071
         ],
         "tickcolor": "white",
         "ticklen": 3,
         "ticks": "outside",
         "title": {
          "text": ""
         },
         "type": "linear",
         "zeroline": false
        },
        "yaxis2": {
         "anchor": "x2",
         "automargin": true,
         "domain": [
          0,
          0.425
         ],
         "fixedrange": true,
         "gridwidth": 2,
         "matches": "y",
         "range": [
          0.21899999999999997,
          1.071
         ],
         "showticklabels": false,
         "tickcolor": "white",
         "ticklen": 3,
         "ticks": "outside",
         "title": {
          "text": ""
         },
         "type": "linear",
         "zeroline": false
        },
        "yaxis3": {
         "anchor": "x3",
         "automargin": true,
         "domain": [
          0.575,
          1
         ],
         "fixedrange": true,
         "gridwidth": 2,
         "matches": "y",
         "range": [
          0.21899999999999997,
          1.071
         ],
         "tickcolor": "white",
         "ticklen": 3,
         "ticks": "outside",
         "title": {
          "text": ""
         },
         "type": "linear",
         "zeroline": false
        },
        "yaxis4": {
         "anchor": "x4",
         "automargin": true,
         "domain": [
          0.575,
          1
         ],
         "fixedrange": true,
         "gridwidth": 2,
         "matches": "y",
         "range": [
          0.21899999999999997,
          1.071
         ],
         "showticklabels": false,
         "tickcolor": "white",
         "ticklen": 3,
         "ticks": "outside",
         "title": {
          "text": ""
         },
         "type": "linear",
         "zeroline": false
        }
       }
      }
     },
     "metadata": {},
     "output_type": "display_data"
    },
    {
     "name": "stderr",
     "output_type": "stream",
     "text": [
      "Calculating ceteris paribus: 100%|██████████| 1/1 [00:00<00:00, 31.39it/s]\n",
      "Calculating accumulated dependency: 100%|██████████| 1/1 [00:00<00:00,  9.91it/s]\n"
     ]
    },
    {
     "data": {
      "application/vnd.plotly.v1+json": {
       "config": {
        "displaylogo": false,
        "modeBarButtonsToRemove": [
         "sendDataToCloud",
         "lasso2d",
         "autoScale2d",
         "select2d",
         "zoom2d",
         "pan2d",
         "zoomIn2d",
         "zoomOut2d",
         "resetScale2d",
         "toggleSpikelines",
         "hoverCompareCartesian",
         "hoverClosestCartesian"
        ],
        "plotlyServerURL": "https://plot.ly",
        "staticPlot": false,
        "toImageButtonOptions": {
         "height": null,
         "width": null
        }
       },
       "data": [
        {
         "customdata": [
          [
           0.28733333333333333,
           "setosa, versicolor, virginica",
           "sepal length (cm)"
          ],
          [
           0.28733333333333333,
           "setosa, versicolor, virginica",
           "sepal length (cm)"
          ],
          [
           0.28733333333333333,
           "setosa, versicolor, virginica",
           "sepal length (cm)"
          ],
          [
           0.28733333333333333,
           "setosa, versicolor, virginica",
           "sepal length (cm)"
          ],
          [
           0.28733333333333333,
           "setosa, versicolor, virginica",
           "sepal length (cm)"
          ],
          [
           0.28733333333333333,
           "setosa, versicolor, virginica",
           "sepal length (cm)"
          ],
          [
           0.28733333333333333,
           "setosa, versicolor, virginica",
           "sepal length (cm)"
          ],
          [
           0.28733333333333333,
           "setosa, versicolor, virginica",
           "sepal length (cm)"
          ],
          [
           0.28733333333333333,
           "setosa, versicolor, virginica",
           "sepal length (cm)"
          ],
          [
           0.28733333333333333,
           "setosa, versicolor, virginica",
           "sepal length (cm)"
          ],
          [
           0.28733333333333333,
           "setosa, versicolor, virginica",
           "sepal length (cm)"
          ],
          [
           0.28733333333333333,
           "setosa, versicolor, virginica",
           "sepal length (cm)"
          ],
          [
           0.28733333333333333,
           "setosa, versicolor, virginica",
           "sepal length (cm)"
          ],
          [
           0.28733333333333333,
           "setosa, versicolor, virginica",
           "sepal length (cm)"
          ],
          [
           0.28733333333333333,
           "setosa, versicolor, virginica",
           "sepal length (cm)"
          ],
          [
           0.28733333333333333,
           "setosa, versicolor, virginica",
           "sepal length (cm)"
          ],
          [
           0.28733333333333333,
           "setosa, versicolor, virginica",
           "sepal length (cm)"
          ],
          [
           0.28733333333333333,
           "setosa, versicolor, virginica",
           "sepal length (cm)"
          ],
          [
           0.28733333333333333,
           "setosa, versicolor, virginica",
           "sepal length (cm)"
          ],
          [
           0.28733333333333333,
           "setosa, versicolor, virginica",
           "sepal length (cm)"
          ],
          [
           0.28733333333333333,
           "setosa, versicolor, virginica",
           "sepal length (cm)"
          ],
          [
           0.28733333333333333,
           "setosa, versicolor, virginica",
           "sepal length (cm)"
          ],
          [
           0.28733333333333333,
           "setosa, versicolor, virginica",
           "sepal length (cm)"
          ],
          [
           0.28733333333333333,
           "setosa, versicolor, virginica",
           "sepal length (cm)"
          ],
          [
           0.28733333333333333,
           "setosa, versicolor, virginica",
           "sepal length (cm)"
          ],
          [
           0.28733333333333333,
           "setosa, versicolor, virginica",
           "sepal length (cm)"
          ],
          [
           0.28733333333333333,
           "setosa, versicolor, virginica",
           "sepal length (cm)"
          ],
          [
           0.28733333333333333,
           "setosa, versicolor, virginica",
           "sepal length (cm)"
          ],
          [
           0.28733333333333333,
           "setosa, versicolor, virginica",
           "sepal length (cm)"
          ],
          [
           0.28733333333333333,
           "setosa, versicolor, virginica",
           "sepal length (cm)"
          ],
          [
           0.28733333333333333,
           "setosa, versicolor, virginica",
           "sepal length (cm)"
          ],
          [
           0.28733333333333333,
           "setosa, versicolor, virginica",
           "sepal length (cm)"
          ],
          [
           0.28733333333333333,
           "setosa, versicolor, virginica",
           "sepal length (cm)"
          ],
          [
           0.28733333333333333,
           "setosa, versicolor, virginica",
           "sepal length (cm)"
          ],
          [
           0.28733333333333333,
           "setosa, versicolor, virginica",
           "sepal length (cm)"
          ],
          [
           0.28733333333333333,
           "setosa, versicolor, virginica",
           "sepal length (cm)"
          ],
          [
           0.28733333333333333,
           "setosa, versicolor, virginica",
           "sepal length (cm)"
          ],
          [
           0.28733333333333333,
           "setosa, versicolor, virginica",
           "sepal length (cm)"
          ],
          [
           0.28733333333333333,
           "setosa, versicolor, virginica",
           "sepal length (cm)"
          ],
          [
           0.28733333333333333,
           "setosa, versicolor, virginica",
           "sepal length (cm)"
          ],
          [
           0.28733333333333333,
           "setosa, versicolor, virginica",
           "sepal length (cm)"
          ],
          [
           0.28733333333333333,
           "setosa, versicolor, virginica",
           "sepal length (cm)"
          ],
          [
           0.28733333333333333,
           "setosa, versicolor, virginica",
           "sepal length (cm)"
          ],
          [
           0.28733333333333333,
           "setosa, versicolor, virginica",
           "sepal length (cm)"
          ],
          [
           0.28733333333333333,
           "setosa, versicolor, virginica",
           "sepal length (cm)"
          ],
          [
           0.28733333333333333,
           "setosa, versicolor, virginica",
           "sepal length (cm)"
          ],
          [
           0.28733333333333333,
           "setosa, versicolor, virginica",
           "sepal length (cm)"
          ],
          [
           0.28733333333333333,
           "setosa, versicolor, virginica",
           "sepal length (cm)"
          ],
          [
           0.28733333333333333,
           "setosa, versicolor, virginica",
           "sepal length (cm)"
          ],
          [
           0.28733333333333333,
           "setosa, versicolor, virginica",
           "sepal length (cm)"
          ],
          [
           0.28733333333333333,
           "setosa, versicolor, virginica",
           "sepal length (cm)"
          ],
          [
           0.28733333333333333,
           "setosa, versicolor, virginica",
           "sepal length (cm)"
          ],
          [
           0.28733333333333333,
           "setosa, versicolor, virginica",
           "sepal length (cm)"
          ],
          [
           0.28733333333333333,
           "setosa, versicolor, virginica",
           "sepal length (cm)"
          ],
          [
           0.28733333333333333,
           "setosa, versicolor, virginica",
           "sepal length (cm)"
          ],
          [
           0.28733333333333333,
           "setosa, versicolor, virginica",
           "sepal length (cm)"
          ],
          [
           0.28733333333333333,
           "setosa, versicolor, virginica",
           "sepal length (cm)"
          ],
          [
           0.28733333333333333,
           "setosa, versicolor, virginica",
           "sepal length (cm)"
          ],
          [
           0.28733333333333333,
           "setosa, versicolor, virginica",
           "sepal length (cm)"
          ],
          [
           0.28733333333333333,
           "setosa, versicolor, virginica",
           "sepal length (cm)"
          ],
          [
           0.28733333333333333,
           "setosa, versicolor, virginica",
           "sepal length (cm)"
          ],
          [
           0.28733333333333333,
           "setosa, versicolor, virginica",
           "sepal length (cm)"
          ],
          [
           0.28733333333333333,
           "setosa, versicolor, virginica",
           "sepal length (cm)"
          ],
          [
           0.28733333333333333,
           "setosa, versicolor, virginica",
           "sepal length (cm)"
          ],
          [
           0.28733333333333333,
           "setosa, versicolor, virginica",
           "sepal length (cm)"
          ],
          [
           0.28733333333333333,
           "setosa, versicolor, virginica",
           "sepal length (cm)"
          ],
          [
           0.28733333333333333,
           "setosa, versicolor, virginica",
           "sepal length (cm)"
          ],
          [
           0.28733333333333333,
           "setosa, versicolor, virginica",
           "sepal length (cm)"
          ],
          [
           0.28733333333333333,
           "setosa, versicolor, virginica",
           "sepal length (cm)"
          ],
          [
           0.28733333333333333,
           "setosa, versicolor, virginica",
           "sepal length (cm)"
          ],
          [
           0.28733333333333333,
           "setosa, versicolor, virginica",
           "sepal length (cm)"
          ],
          [
           0.28733333333333333,
           "setosa, versicolor, virginica",
           "sepal length (cm)"
          ],
          [
           0.28733333333333333,
           "setosa, versicolor, virginica",
           "sepal length (cm)"
          ],
          [
           0.28733333333333333,
           "setosa, versicolor, virginica",
           "sepal length (cm)"
          ],
          [
           0.28733333333333333,
           "setosa, versicolor, virginica",
           "sepal length (cm)"
          ],
          [
           0.28733333333333333,
           "setosa, versicolor, virginica",
           "sepal length (cm)"
          ],
          [
           0.28733333333333333,
           "setosa, versicolor, virginica",
           "sepal length (cm)"
          ],
          [
           0.28733333333333333,
           "setosa, versicolor, virginica",
           "sepal length (cm)"
          ],
          [
           0.28733333333333333,
           "setosa, versicolor, virginica",
           "sepal length (cm)"
          ],
          [
           0.28733333333333333,
           "setosa, versicolor, virginica",
           "sepal length (cm)"
          ],
          [
           0.28733333333333333,
           "setosa, versicolor, virginica",
           "sepal length (cm)"
          ],
          [
           0.28733333333333333,
           "setosa, versicolor, virginica",
           "sepal length (cm)"
          ],
          [
           0.28733333333333333,
           "setosa, versicolor, virginica",
           "sepal length (cm)"
          ],
          [
           0.28733333333333333,
           "setosa, versicolor, virginica",
           "sepal length (cm)"
          ],
          [
           0.28733333333333333,
           "setosa, versicolor, virginica",
           "sepal length (cm)"
          ],
          [
           0.28733333333333333,
           "setosa, versicolor, virginica",
           "sepal length (cm)"
          ],
          [
           0.28733333333333333,
           "setosa, versicolor, virginica",
           "sepal length (cm)"
          ],
          [
           0.28733333333333333,
           "setosa, versicolor, virginica",
           "sepal length (cm)"
          ],
          [
           0.28733333333333333,
           "setosa, versicolor, virginica",
           "sepal length (cm)"
          ],
          [
           0.28733333333333333,
           "setosa, versicolor, virginica",
           "sepal length (cm)"
          ],
          [
           0.28733333333333333,
           "setosa, versicolor, virginica",
           "sepal length (cm)"
          ],
          [
           0.28733333333333333,
           "setosa, versicolor, virginica",
           "sepal length (cm)"
          ],
          [
           0.28733333333333333,
           "setosa, versicolor, virginica",
           "sepal length (cm)"
          ],
          [
           0.28733333333333333,
           "setosa, versicolor, virginica",
           "sepal length (cm)"
          ],
          [
           0.28733333333333333,
           "setosa, versicolor, virginica",
           "sepal length (cm)"
          ],
          [
           0.28733333333333333,
           "setosa, versicolor, virginica",
           "sepal length (cm)"
          ],
          [
           0.28733333333333333,
           "setosa, versicolor, virginica",
           "sepal length (cm)"
          ],
          [
           0.28733333333333333,
           "setosa, versicolor, virginica",
           "sepal length (cm)"
          ],
          [
           0.28733333333333333,
           "setosa, versicolor, virginica",
           "sepal length (cm)"
          ],
          [
           0.28733333333333333,
           "setosa, versicolor, virginica",
           "sepal length (cm)"
          ],
          [
           0.28733333333333333,
           "setosa, versicolor, virginica",
           "sepal length (cm)"
          ]
         ],
         "hovertemplate": "<b>%{hovertext}</b><br><br>prediction=%{y:.3f}<br>mean_prediction=%{customdata[0]:.3f}<extra></extra>",
         "hovertext": [
          "setosa, versicolor, virginica",
          "setosa, versicolor, virginica",
          "setosa, versicolor, virginica",
          "setosa, versicolor, virginica",
          "setosa, versicolor, virginica",
          "setosa, versicolor, virginica",
          "setosa, versicolor, virginica",
          "setosa, versicolor, virginica",
          "setosa, versicolor, virginica",
          "setosa, versicolor, virginica",
          "setosa, versicolor, virginica",
          "setosa, versicolor, virginica",
          "setosa, versicolor, virginica",
          "setosa, versicolor, virginica",
          "setosa, versicolor, virginica",
          "setosa, versicolor, virginica",
          "setosa, versicolor, virginica",
          "setosa, versicolor, virginica",
          "setosa, versicolor, virginica",
          "setosa, versicolor, virginica",
          "setosa, versicolor, virginica",
          "setosa, versicolor, virginica",
          "setosa, versicolor, virginica",
          "setosa, versicolor, virginica",
          "setosa, versicolor, virginica",
          "setosa, versicolor, virginica",
          "setosa, versicolor, virginica",
          "setosa, versicolor, virginica",
          "setosa, versicolor, virginica",
          "setosa, versicolor, virginica",
          "setosa, versicolor, virginica",
          "setosa, versicolor, virginica",
          "setosa, versicolor, virginica",
          "setosa, versicolor, virginica",
          "setosa, versicolor, virginica",
          "setosa, versicolor, virginica",
          "setosa, versicolor, virginica",
          "setosa, versicolor, virginica",
          "setosa, versicolor, virginica",
          "setosa, versicolor, virginica",
          "setosa, versicolor, virginica",
          "setosa, versicolor, virginica",
          "setosa, versicolor, virginica",
          "setosa, versicolor, virginica",
          "setosa, versicolor, virginica",
          "setosa, versicolor, virginica",
          "setosa, versicolor, virginica",
          "setosa, versicolor, virginica",
          "setosa, versicolor, virginica",
          "setosa, versicolor, virginica",
          "setosa, versicolor, virginica",
          "setosa, versicolor, virginica",
          "setosa, versicolor, virginica",
          "setosa, versicolor, virginica",
          "setosa, versicolor, virginica",
          "setosa, versicolor, virginica",
          "setosa, versicolor, virginica",
          "setosa, versicolor, virginica",
          "setosa, versicolor, virginica",
          "setosa, versicolor, virginica",
          "setosa, versicolor, virginica",
          "setosa, versicolor, virginica",
          "setosa, versicolor, virginica",
          "setosa, versicolor, virginica",
          "setosa, versicolor, virginica",
          "setosa, versicolor, virginica",
          "setosa, versicolor, virginica",
          "setosa, versicolor, virginica",
          "setosa, versicolor, virginica",
          "setosa, versicolor, virginica",
          "setosa, versicolor, virginica",
          "setosa, versicolor, virginica",
          "setosa, versicolor, virginica",
          "setosa, versicolor, virginica",
          "setosa, versicolor, virginica",
          "setosa, versicolor, virginica",
          "setosa, versicolor, virginica",
          "setosa, versicolor, virginica",
          "setosa, versicolor, virginica",
          "setosa, versicolor, virginica",
          "setosa, versicolor, virginica",
          "setosa, versicolor, virginica",
          "setosa, versicolor, virginica",
          "setosa, versicolor, virginica",
          "setosa, versicolor, virginica",
          "setosa, versicolor, virginica",
          "setosa, versicolor, virginica",
          "setosa, versicolor, virginica",
          "setosa, versicolor, virginica",
          "setosa, versicolor, virginica",
          "setosa, versicolor, virginica",
          "setosa, versicolor, virginica",
          "setosa, versicolor, virginica",
          "setosa, versicolor, virginica",
          "setosa, versicolor, virginica",
          "setosa, versicolor, virginica",
          "setosa, versicolor, virginica",
          "setosa, versicolor, virginica",
          "setosa, versicolor, virginica",
          "setosa, versicolor, virginica",
          "setosa, versicolor, virginica"
         ],
         "legendgroup": "setosa, versicolor, virginica",
         "line": {
          "color": "#46bac2",
          "dash": "solid",
          "width": 2
         },
         "marker": {
          "symbol": "circle"
         },
         "mode": "lines",
         "name": "setosa, versicolor, virginica",
         "opacity": 1,
         "orientation": "v",
         "showlegend": true,
         "type": "scatter",
         "x": [
          4.4,
          4.4350000000000005,
          4.470000000000001,
          4.505000000000001,
          4.54,
          4.575,
          4.61,
          4.6450000000000005,
          4.680000000000001,
          4.715000000000001,
          4.75,
          4.785,
          4.82,
          4.855,
          4.890000000000001,
          4.925000000000001,
          4.960000000000001,
          4.995,
          5.03,
          5.065,
          5.1000000000000005,
          5.135000000000001,
          5.17,
          5.205,
          5.24,
          5.275,
          5.3100000000000005,
          5.345000000000001,
          5.380000000000001,
          5.415000000000001,
          5.45,
          5.485,
          5.5200000000000005,
          5.555000000000001,
          5.590000000000001,
          5.625,
          5.66,
          5.695,
          5.73,
          5.765000000000001,
          5.800000000000001,
          5.835000000000001,
          5.870000000000001,
          5.905,
          5.94,
          5.9750000000000005,
          6.010000000000001,
          6.045000000000001,
          6.08,
          6.115,
          6.15,
          6.1850000000000005,
          6.220000000000001,
          6.255000000000001,
          6.290000000000001,
          6.325000000000001,
          6.36,
          6.3950000000000005,
          6.430000000000001,
          6.465000000000001,
          6.5,
          6.535,
          6.57,
          6.605,
          6.640000000000001,
          6.675000000000001,
          6.710000000000001,
          6.745000000000001,
          6.780000000000001,
          6.815,
          6.8500000000000005,
          6.885000000000001,
          6.920000000000001,
          6.955,
          6.99,
          7.025,
          7.0600000000000005,
          7.095000000000001,
          7.130000000000001,
          7.165000000000001,
          7.200000000000001,
          7.235000000000001,
          7.2700000000000005,
          7.305000000000001,
          7.340000000000001,
          7.375,
          7.41,
          7.445,
          7.48,
          7.515000000000001,
          7.550000000000001,
          7.585000000000001,
          7.620000000000001,
          7.655000000000001,
          7.690000000000001,
          7.7250000000000005,
          7.760000000000001,
          7.795000000000001,
          7.83,
          7.865,
          7.9
         ],
         "xaxis": "x",
         "y": [
          0.2403082202440265,
          0.2403082202440265,
          0.2403082202440265,
          0.2403082202440265,
          0.2403082202440265,
          0.2403082202440265,
          0.2403082202440265,
          0.2403082202440265,
          0.2403082202440265,
          0.2403082202440265,
          0.2403082202440265,
          0.2403082202440265,
          0.2403082202440265,
          0.2403082202440265,
          0.2403082202440265,
          0.2403082202440265,
          0.26555569884017755,
          0.26555569884017755,
          0.26555569884017755,
          0.26555569884017755,
          0.26555569884017755,
          0.26555569884017755,
          0.27031805413668913,
          0.27031805413668913,
          0.27031805413668913,
          0.2767477033469356,
          0.2767477033469356,
          0.2767477033469356,
          0.2798591711772489,
          0.28120171733541277,
          0.28120171733541277,
          0.2905389295609567,
          0.2905389295609567,
          0.2913574049281485,
          0.2913574049281485,
          0.2913574049281485,
          0.2913574049281485,
          0.2913574049281485,
          0.2913574049281485,
          0.29067198512277304,
          0.29067198512277304,
          0.29067198512277304,
          0.29989898448479824,
          0.3008255184818611,
          0.3008255184818611,
          0.2946334864589099,
          0.2946334864589099,
          0.2946334864589099,
          0.28737085611716645,
          0.28474336195176697,
          0.29526681046715986,
          0.2943848153438544,
          0.2947120542179007,
          0.29267295910943186,
          0.29267295910943186,
          0.29267295910943186,
          0.2986695301132446,
          0.2986695301132446,
          0.30653738107243045,
          0.30653738107243045,
          0.30653738107243045,
          0.3128987171455203,
          0.3128987171455203,
          0.31359111375819704,
          0.31359111375819704,
          0.31359111375819704,
          0.31359111375819704,
          0.31359111375819704,
          0.3129469279571775,
          0.3129469279571775,
          0.3129469279571775,
          0.3129469279571775,
          0.3129469279571775,
          0.3129469279571775,
          0.3129469279571775,
          0.3129469279571775,
          0.3060689622931352,
          0.3060689622931352,
          0.30223208766705284,
          0.30223208766705284,
          0.30223208766705284,
          0.30223208766705284,
          0.30223208766705284,
          0.30223208766705284,
          0.30223208766705284,
          0.30223208766705284,
          0.30223208766705284,
          0.30223208766705284,
          0.30223208766705284,
          0.30223208766705284,
          0.30223208766705284,
          0.30223208766705284,
          0.30223208766705284,
          0.30223208766705284,
          0.30223208766705284,
          0.30223208766705284,
          0.30223208766705284,
          0.30223208766705284,
          0.30223208766705284,
          0.30223208766705284,
          0.30223208766705284
         ],
         "yaxis": "y"
        }
       ],
       "layout": {
        "annotations": [
         {
          "font": {
           "size": 13
          },
          "showarrow": false,
          "text": "sepal length (cm)",
          "x": 0.5,
          "xanchor": "center",
          "xref": "paper",
          "y": 1,
          "yanchor": "bottom",
          "yref": "paper"
         },
         {
          "font": {
           "size": 13
          },
          "showarrow": false,
          "text": "prediction",
          "textangle": -90,
          "x": -0.07,
          "xref": "paper",
          "y": 0.5,
          "yref": "paper"
         }
        ],
        "font": {
         "color": "#371ea3"
        },
        "height": 489,
        "hovermode": "x unified",
        "legend": {
         "font": {
          "size": 11
         },
         "itemsizing": "constant",
         "orientation": "h",
         "title": {
          "font": {
           "size": 12
          },
          "text": "label"
         },
         "tracegroupgap": 0,
         "x": 1,
         "xanchor": "right",
         "y": 1.0613496932515338,
         "yanchor": "bottom"
        },
        "margin": {
         "b": 71,
         "r": 30,
         "t": 78
        },
        "template": {
         "data": {
          "scatter": [
           {
            "type": "scatter"
           }
          ]
         }
        },
        "title": {
         "font": {
          "size": 16
         },
         "text": "Aggregated Profiles",
         "x": 0.15
        },
        "xaxis": {
         "anchor": "y",
         "automargin": true,
         "domain": [
          0,
          1
         ],
         "fixedrange": true,
         "gridwidth": 2,
         "showticklabels": true,
         "tickcolor": "white",
         "ticklen": 3,
         "ticks": "outside",
         "title": {
          "text": ""
         },
         "type": "linear",
         "zeroline": false
        },
        "yaxis": {
         "anchor": "x",
         "automargin": true,
         "domain": [
          0,
          1
         ],
         "fixedrange": true,
         "gridwidth": 2,
         "range": [
          0.23297993089260946,
          0.3209194031096141
         ],
         "tickcolor": "white",
         "ticklen": 3,
         "ticks": "outside",
         "title": {
          "text": ""
         },
         "type": "linear",
         "zeroline": false
        }
       }
      }
     },
     "metadata": {},
     "output_type": "display_data"
    },
    {
     "name": "stderr",
     "output_type": "stream",
     "text": [
      "Calculating ceteris paribus: 100%|██████████| 1/1 [00:00<00:00, 51.67it/s]\n",
      "Calculating conditional dependency: 100%|██████████| 1/1 [00:00<00:00, 17.89it/s]\n"
     ]
    },
    {
     "data": {
      "application/vnd.plotly.v1+json": {
       "config": {
        "displaylogo": false,
        "modeBarButtonsToRemove": [
         "sendDataToCloud",
         "lasso2d",
         "autoScale2d",
         "select2d",
         "zoom2d",
         "pan2d",
         "zoomIn2d",
         "zoomOut2d",
         "resetScale2d",
         "toggleSpikelines",
         "hoverCompareCartesian",
         "hoverClosestCartesian"
        ],
        "plotlyServerURL": "https://plot.ly",
        "staticPlot": false,
        "toImageButtonOptions": {
         "height": null,
         "width": null
        }
       },
       "data": [
        {
         "customdata": [
          [
           0.28733333333333333,
           "setosa, versicolor, virginica",
           "sepal length (cm)"
          ],
          [
           0.28733333333333333,
           "setosa, versicolor, virginica",
           "sepal length (cm)"
          ],
          [
           0.28733333333333333,
           "setosa, versicolor, virginica",
           "sepal length (cm)"
          ],
          [
           0.28733333333333333,
           "setosa, versicolor, virginica",
           "sepal length (cm)"
          ],
          [
           0.28733333333333333,
           "setosa, versicolor, virginica",
           "sepal length (cm)"
          ],
          [
           0.28733333333333333,
           "setosa, versicolor, virginica",
           "sepal length (cm)"
          ],
          [
           0.28733333333333333,
           "setosa, versicolor, virginica",
           "sepal length (cm)"
          ],
          [
           0.28733333333333333,
           "setosa, versicolor, virginica",
           "sepal length (cm)"
          ],
          [
           0.28733333333333333,
           "setosa, versicolor, virginica",
           "sepal length (cm)"
          ],
          [
           0.28733333333333333,
           "setosa, versicolor, virginica",
           "sepal length (cm)"
          ],
          [
           0.28733333333333333,
           "setosa, versicolor, virginica",
           "sepal length (cm)"
          ],
          [
           0.28733333333333333,
           "setosa, versicolor, virginica",
           "sepal length (cm)"
          ],
          [
           0.28733333333333333,
           "setosa, versicolor, virginica",
           "sepal length (cm)"
          ],
          [
           0.28733333333333333,
           "setosa, versicolor, virginica",
           "sepal length (cm)"
          ],
          [
           0.28733333333333333,
           "setosa, versicolor, virginica",
           "sepal length (cm)"
          ],
          [
           0.28733333333333333,
           "setosa, versicolor, virginica",
           "sepal length (cm)"
          ],
          [
           0.28733333333333333,
           "setosa, versicolor, virginica",
           "sepal length (cm)"
          ],
          [
           0.28733333333333333,
           "setosa, versicolor, virginica",
           "sepal length (cm)"
          ],
          [
           0.28733333333333333,
           "setosa, versicolor, virginica",
           "sepal length (cm)"
          ],
          [
           0.28733333333333333,
           "setosa, versicolor, virginica",
           "sepal length (cm)"
          ],
          [
           0.28733333333333333,
           "setosa, versicolor, virginica",
           "sepal length (cm)"
          ],
          [
           0.28733333333333333,
           "setosa, versicolor, virginica",
           "sepal length (cm)"
          ],
          [
           0.28733333333333333,
           "setosa, versicolor, virginica",
           "sepal length (cm)"
          ],
          [
           0.28733333333333333,
           "setosa, versicolor, virginica",
           "sepal length (cm)"
          ],
          [
           0.28733333333333333,
           "setosa, versicolor, virginica",
           "sepal length (cm)"
          ],
          [
           0.28733333333333333,
           "setosa, versicolor, virginica",
           "sepal length (cm)"
          ],
          [
           0.28733333333333333,
           "setosa, versicolor, virginica",
           "sepal length (cm)"
          ],
          [
           0.28733333333333333,
           "setosa, versicolor, virginica",
           "sepal length (cm)"
          ],
          [
           0.28733333333333333,
           "setosa, versicolor, virginica",
           "sepal length (cm)"
          ],
          [
           0.28733333333333333,
           "setosa, versicolor, virginica",
           "sepal length (cm)"
          ],
          [
           0.28733333333333333,
           "setosa, versicolor, virginica",
           "sepal length (cm)"
          ],
          [
           0.28733333333333333,
           "setosa, versicolor, virginica",
           "sepal length (cm)"
          ],
          [
           0.28733333333333333,
           "setosa, versicolor, virginica",
           "sepal length (cm)"
          ],
          [
           0.28733333333333333,
           "setosa, versicolor, virginica",
           "sepal length (cm)"
          ],
          [
           0.28733333333333333,
           "setosa, versicolor, virginica",
           "sepal length (cm)"
          ],
          [
           0.28733333333333333,
           "setosa, versicolor, virginica",
           "sepal length (cm)"
          ],
          [
           0.28733333333333333,
           "setosa, versicolor, virginica",
           "sepal length (cm)"
          ],
          [
           0.28733333333333333,
           "setosa, versicolor, virginica",
           "sepal length (cm)"
          ],
          [
           0.28733333333333333,
           "setosa, versicolor, virginica",
           "sepal length (cm)"
          ],
          [
           0.28733333333333333,
           "setosa, versicolor, virginica",
           "sepal length (cm)"
          ],
          [
           0.28733333333333333,
           "setosa, versicolor, virginica",
           "sepal length (cm)"
          ],
          [
           0.28733333333333333,
           "setosa, versicolor, virginica",
           "sepal length (cm)"
          ],
          [
           0.28733333333333333,
           "setosa, versicolor, virginica",
           "sepal length (cm)"
          ],
          [
           0.28733333333333333,
           "setosa, versicolor, virginica",
           "sepal length (cm)"
          ],
          [
           0.28733333333333333,
           "setosa, versicolor, virginica",
           "sepal length (cm)"
          ],
          [
           0.28733333333333333,
           "setosa, versicolor, virginica",
           "sepal length (cm)"
          ],
          [
           0.28733333333333333,
           "setosa, versicolor, virginica",
           "sepal length (cm)"
          ],
          [
           0.28733333333333333,
           "setosa, versicolor, virginica",
           "sepal length (cm)"
          ],
          [
           0.28733333333333333,
           "setosa, versicolor, virginica",
           "sepal length (cm)"
          ],
          [
           0.28733333333333333,
           "setosa, versicolor, virginica",
           "sepal length (cm)"
          ],
          [
           0.28733333333333333,
           "setosa, versicolor, virginica",
           "sepal length (cm)"
          ],
          [
           0.28733333333333333,
           "setosa, versicolor, virginica",
           "sepal length (cm)"
          ],
          [
           0.28733333333333333,
           "setosa, versicolor, virginica",
           "sepal length (cm)"
          ],
          [
           0.28733333333333333,
           "setosa, versicolor, virginica",
           "sepal length (cm)"
          ],
          [
           0.28733333333333333,
           "setosa, versicolor, virginica",
           "sepal length (cm)"
          ],
          [
           0.28733333333333333,
           "setosa, versicolor, virginica",
           "sepal length (cm)"
          ],
          [
           0.28733333333333333,
           "setosa, versicolor, virginica",
           "sepal length (cm)"
          ],
          [
           0.28733333333333333,
           "setosa, versicolor, virginica",
           "sepal length (cm)"
          ],
          [
           0.28733333333333333,
           "setosa, versicolor, virginica",
           "sepal length (cm)"
          ],
          [
           0.28733333333333333,
           "setosa, versicolor, virginica",
           "sepal length (cm)"
          ],
          [
           0.28733333333333333,
           "setosa, versicolor, virginica",
           "sepal length (cm)"
          ],
          [
           0.28733333333333333,
           "setosa, versicolor, virginica",
           "sepal length (cm)"
          ],
          [
           0.28733333333333333,
           "setosa, versicolor, virginica",
           "sepal length (cm)"
          ],
          [
           0.28733333333333333,
           "setosa, versicolor, virginica",
           "sepal length (cm)"
          ],
          [
           0.28733333333333333,
           "setosa, versicolor, virginica",
           "sepal length (cm)"
          ],
          [
           0.28733333333333333,
           "setosa, versicolor, virginica",
           "sepal length (cm)"
          ],
          [
           0.28733333333333333,
           "setosa, versicolor, virginica",
           "sepal length (cm)"
          ],
          [
           0.28733333333333333,
           "setosa, versicolor, virginica",
           "sepal length (cm)"
          ],
          [
           0.28733333333333333,
           "setosa, versicolor, virginica",
           "sepal length (cm)"
          ],
          [
           0.28733333333333333,
           "setosa, versicolor, virginica",
           "sepal length (cm)"
          ],
          [
           0.28733333333333333,
           "setosa, versicolor, virginica",
           "sepal length (cm)"
          ],
          [
           0.28733333333333333,
           "setosa, versicolor, virginica",
           "sepal length (cm)"
          ],
          [
           0.28733333333333333,
           "setosa, versicolor, virginica",
           "sepal length (cm)"
          ],
          [
           0.28733333333333333,
           "setosa, versicolor, virginica",
           "sepal length (cm)"
          ],
          [
           0.28733333333333333,
           "setosa, versicolor, virginica",
           "sepal length (cm)"
          ],
          [
           0.28733333333333333,
           "setosa, versicolor, virginica",
           "sepal length (cm)"
          ],
          [
           0.28733333333333333,
           "setosa, versicolor, virginica",
           "sepal length (cm)"
          ],
          [
           0.28733333333333333,
           "setosa, versicolor, virginica",
           "sepal length (cm)"
          ],
          [
           0.28733333333333333,
           "setosa, versicolor, virginica",
           "sepal length (cm)"
          ],
          [
           0.28733333333333333,
           "setosa, versicolor, virginica",
           "sepal length (cm)"
          ],
          [
           0.28733333333333333,
           "setosa, versicolor, virginica",
           "sepal length (cm)"
          ],
          [
           0.28733333333333333,
           "setosa, versicolor, virginica",
           "sepal length (cm)"
          ],
          [
           0.28733333333333333,
           "setosa, versicolor, virginica",
           "sepal length (cm)"
          ],
          [
           0.28733333333333333,
           "setosa, versicolor, virginica",
           "sepal length (cm)"
          ],
          [
           0.28733333333333333,
           "setosa, versicolor, virginica",
           "sepal length (cm)"
          ],
          [
           0.28733333333333333,
           "setosa, versicolor, virginica",
           "sepal length (cm)"
          ],
          [
           0.28733333333333333,
           "setosa, versicolor, virginica",
           "sepal length (cm)"
          ],
          [
           0.28733333333333333,
           "setosa, versicolor, virginica",
           "sepal length (cm)"
          ],
          [
           0.28733333333333333,
           "setosa, versicolor, virginica",
           "sepal length (cm)"
          ],
          [
           0.28733333333333333,
           "setosa, versicolor, virginica",
           "sepal length (cm)"
          ],
          [
           0.28733333333333333,
           "setosa, versicolor, virginica",
           "sepal length (cm)"
          ],
          [
           0.28733333333333333,
           "setosa, versicolor, virginica",
           "sepal length (cm)"
          ],
          [
           0.28733333333333333,
           "setosa, versicolor, virginica",
           "sepal length (cm)"
          ],
          [
           0.28733333333333333,
           "setosa, versicolor, virginica",
           "sepal length (cm)"
          ],
          [
           0.28733333333333333,
           "setosa, versicolor, virginica",
           "sepal length (cm)"
          ],
          [
           0.28733333333333333,
           "setosa, versicolor, virginica",
           "sepal length (cm)"
          ],
          [
           0.28733333333333333,
           "setosa, versicolor, virginica",
           "sepal length (cm)"
          ],
          [
           0.28733333333333333,
           "setosa, versicolor, virginica",
           "sepal length (cm)"
          ],
          [
           0.28733333333333333,
           "setosa, versicolor, virginica",
           "sepal length (cm)"
          ],
          [
           0.28733333333333333,
           "setosa, versicolor, virginica",
           "sepal length (cm)"
          ],
          [
           0.28733333333333333,
           "setosa, versicolor, virginica",
           "sepal length (cm)"
          ]
         ],
         "hovertemplate": "<b>%{hovertext}</b><br><br>prediction=%{y:.3f}<br>mean_prediction=%{customdata[0]:.3f}<extra></extra>",
         "hovertext": [
          "setosa, versicolor, virginica",
          "setosa, versicolor, virginica",
          "setosa, versicolor, virginica",
          "setosa, versicolor, virginica",
          "setosa, versicolor, virginica",
          "setosa, versicolor, virginica",
          "setosa, versicolor, virginica",
          "setosa, versicolor, virginica",
          "setosa, versicolor, virginica",
          "setosa, versicolor, virginica",
          "setosa, versicolor, virginica",
          "setosa, versicolor, virginica",
          "setosa, versicolor, virginica",
          "setosa, versicolor, virginica",
          "setosa, versicolor, virginica",
          "setosa, versicolor, virginica",
          "setosa, versicolor, virginica",
          "setosa, versicolor, virginica",
          "setosa, versicolor, virginica",
          "setosa, versicolor, virginica",
          "setosa, versicolor, virginica",
          "setosa, versicolor, virginica",
          "setosa, versicolor, virginica",
          "setosa, versicolor, virginica",
          "setosa, versicolor, virginica",
          "setosa, versicolor, virginica",
          "setosa, versicolor, virginica",
          "setosa, versicolor, virginica",
          "setosa, versicolor, virginica",
          "setosa, versicolor, virginica",
          "setosa, versicolor, virginica",
          "setosa, versicolor, virginica",
          "setosa, versicolor, virginica",
          "setosa, versicolor, virginica",
          "setosa, versicolor, virginica",
          "setosa, versicolor, virginica",
          "setosa, versicolor, virginica",
          "setosa, versicolor, virginica",
          "setosa, versicolor, virginica",
          "setosa, versicolor, virginica",
          "setosa, versicolor, virginica",
          "setosa, versicolor, virginica",
          "setosa, versicolor, virginica",
          "setosa, versicolor, virginica",
          "setosa, versicolor, virginica",
          "setosa, versicolor, virginica",
          "setosa, versicolor, virginica",
          "setosa, versicolor, virginica",
          "setosa, versicolor, virginica",
          "setosa, versicolor, virginica",
          "setosa, versicolor, virginica",
          "setosa, versicolor, virginica",
          "setosa, versicolor, virginica",
          "setosa, versicolor, virginica",
          "setosa, versicolor, virginica",
          "setosa, versicolor, virginica",
          "setosa, versicolor, virginica",
          "setosa, versicolor, virginica",
          "setosa, versicolor, virginica",
          "setosa, versicolor, virginica",
          "setosa, versicolor, virginica",
          "setosa, versicolor, virginica",
          "setosa, versicolor, virginica",
          "setosa, versicolor, virginica",
          "setosa, versicolor, virginica",
          "setosa, versicolor, virginica",
          "setosa, versicolor, virginica",
          "setosa, versicolor, virginica",
          "setosa, versicolor, virginica",
          "setosa, versicolor, virginica",
          "setosa, versicolor, virginica",
          "setosa, versicolor, virginica",
          "setosa, versicolor, virginica",
          "setosa, versicolor, virginica",
          "setosa, versicolor, virginica",
          "setosa, versicolor, virginica",
          "setosa, versicolor, virginica",
          "setosa, versicolor, virginica",
          "setosa, versicolor, virginica",
          "setosa, versicolor, virginica",
          "setosa, versicolor, virginica",
          "setosa, versicolor, virginica",
          "setosa, versicolor, virginica",
          "setosa, versicolor, virginica",
          "setosa, versicolor, virginica",
          "setosa, versicolor, virginica",
          "setosa, versicolor, virginica",
          "setosa, versicolor, virginica",
          "setosa, versicolor, virginica",
          "setosa, versicolor, virginica",
          "setosa, versicolor, virginica",
          "setosa, versicolor, virginica",
          "setosa, versicolor, virginica",
          "setosa, versicolor, virginica",
          "setosa, versicolor, virginica",
          "setosa, versicolor, virginica",
          "setosa, versicolor, virginica",
          "setosa, versicolor, virginica",
          "setosa, versicolor, virginica",
          "setosa, versicolor, virginica",
          "setosa, versicolor, virginica"
         ],
         "legendgroup": "setosa, versicolor, virginica",
         "line": {
          "color": "#46bac2",
          "dash": "solid",
          "width": 2
         },
         "marker": {
          "symbol": "circle"
         },
         "mode": "lines",
         "name": "setosa, versicolor, virginica",
         "opacity": 1,
         "orientation": "v",
         "showlegend": true,
         "type": "scatter",
         "x": [
          4.4,
          4.4350000000000005,
          4.470000000000001,
          4.505000000000001,
          4.54,
          4.575,
          4.61,
          4.6450000000000005,
          4.680000000000001,
          4.715000000000001,
          4.75,
          4.785,
          4.82,
          4.855,
          4.890000000000001,
          4.925000000000001,
          4.960000000000001,
          4.995,
          5.03,
          5.065,
          5.1000000000000005,
          5.135000000000001,
          5.17,
          5.205,
          5.24,
          5.275,
          5.3100000000000005,
          5.345000000000001,
          5.380000000000001,
          5.415000000000001,
          5.45,
          5.485,
          5.5200000000000005,
          5.555000000000001,
          5.590000000000001,
          5.625,
          5.66,
          5.695,
          5.73,
          5.765000000000001,
          5.800000000000001,
          5.835000000000001,
          5.870000000000001,
          5.905,
          5.94,
          5.9750000000000005,
          6.010000000000001,
          6.045000000000001,
          6.08,
          6.115,
          6.15,
          6.1850000000000005,
          6.220000000000001,
          6.255000000000001,
          6.290000000000001,
          6.325000000000001,
          6.36,
          6.3950000000000005,
          6.430000000000001,
          6.465000000000001,
          6.5,
          6.535,
          6.57,
          6.605,
          6.640000000000001,
          6.675000000000001,
          6.710000000000001,
          6.745000000000001,
          6.780000000000001,
          6.815,
          6.8500000000000005,
          6.885000000000001,
          6.920000000000001,
          6.955,
          6.99,
          7.025,
          7.0600000000000005,
          7.095000000000001,
          7.130000000000001,
          7.165000000000001,
          7.200000000000001,
          7.235000000000001,
          7.2700000000000005,
          7.305000000000001,
          7.340000000000001,
          7.375,
          7.41,
          7.445,
          7.48,
          7.515000000000001,
          7.550000000000001,
          7.585000000000001,
          7.620000000000001,
          7.655000000000001,
          7.690000000000001,
          7.7250000000000005,
          7.760000000000001,
          7.795000000000001,
          7.83,
          7.865,
          7.9
         ],
         "xaxis": "x",
         "y": [
          0.11863423625918222,
          0.12252192737030525,
          0.1264910198757976,
          0.13054018955452237,
          0.13466787753735487,
          0.13887228273377897,
          0.1431513550393808,
          0.14750278943537357,
          0.1519240210921223,
          0.15641222158808002,
          0.1609642963534326,
          0.16557688344395324,
          0.17024635374496314,
          0.17496881269779746,
          0.17974010363170825,
          0.18455581277268843,
          0.21465875458341238,
          0.2201245562726515,
          0.22562640813686985,
          0.23115835110278873,
          0.23671418765640373,
          0.24228749893723003,
          0.25263401907355326,
          0.2583649388670313,
          0.2640942411889867,
          0.2762443119350394,
          0.2821547329358052,
          0.2880441548866916,
          0.2970163289473608,
          0.3041669154434138,
          0.3099651546337275,
          0.3250491453242976,
          0.32991174091111697,
          0.33552363056804146,
          0.34008693131954587,
          0.34456637177562516,
          0.34895538509312585,
          0.3532476036871315,
          0.35743688299323173,
          0.36083190364785633,
          0.3645522178399405,
          0.3681528726896767,
          0.380856038553132,
          0.385174273208367,
          0.38843229489775294,
          0.38536271537622824,
          0.3881879945140444,
          0.3908704789144929,
          0.3861447428328788,
          0.38575599595563276,
          0.3983131652810286,
          0.39906365340362293,
          0.40085768434060437,
          0.400140446132815,
          0.40104329815976564,
          0.4018025163401699,
          0.4084144284650312,
          0.40883364852732884,
          0.41697582422366775,
          0.4171467312784217,
          0.4171695128781683,
          0.4234060392500543,
          0.42319479003769106,
          0.4235268402566756,
          0.42302639430871686,
          0.42237809964131184,
          0.421582769249508,
          0.4206412436363015,
          0.41891019311227906,
          0.4176827049109425,
          0.41631201875584883,
          0.4147989715928335,
          0.4131443835221209,
          0.41134905422697876,
          0.4094137612875796,
          0.4073392604212716,
          0.3982483220105666,
          0.39591257336422453,
          0.3896062346942025,
          0.3870264881119562,
          0.3843160354507067,
          0.3814756007160615,
          0.378505939390875,
          0.37540785312576197,
          0.3721822058796199,
          0.3688299413624488,
          0.3653521016097734,
          0.3617498464946849,
          0.35802447396020504,
          0.3541774407317713,
          0.35021038324762793,
          0.34612513852432736,
          0.3419237646560426,
          0.3376085606306352,
          0.3331820851331333,
          0.3286471739991941,
          0.3240069559779534,
          0.3192648664661239,
          0.3144246588838633,
          0.30949041337833544,
          0.3044665425633699
         ],
         "yaxis": "y"
        }
       ],
       "layout": {
        "annotations": [
         {
          "font": {
           "size": 13
          },
          "showarrow": false,
          "text": "sepal length (cm)",
          "x": 0.5,
          "xanchor": "center",
          "xref": "paper",
          "y": 1,
          "yanchor": "bottom",
          "yref": "paper"
         },
         {
          "font": {
           "size": 13
          },
          "showarrow": false,
          "text": "prediction",
          "textangle": -90,
          "x": -0.07,
          "xref": "paper",
          "y": 0.5,
          "yref": "paper"
         }
        ],
        "font": {
         "color": "#371ea3"
        },
        "height": 489,
        "hovermode": "x unified",
        "legend": {
         "font": {
          "size": 11
         },
         "itemsizing": "constant",
         "orientation": "h",
         "title": {
          "font": {
           "size": 12
          },
          "text": "label"
         },
         "tracegroupgap": 0,
         "x": 1,
         "xanchor": "right",
         "y": 1.0613496932515338,
         "yanchor": "bottom"
        },
        "margin": {
         "b": 71,
         "r": 30,
         "t": 78
        },
        "template": {
         "data": {
          "scatter": [
           {
            "type": "scatter"
           }
          ]
         }
        },
        "title": {
         "font": {
          "size": 16
         },
         "text": "Aggregated Profiles",
         "x": 0.15
        },
        "xaxis": {
         "anchor": "y",
         "automargin": true,
         "domain": [
          0,
          1
         ],
         "fixedrange": true,
         "gridwidth": 2,
         "showticklabels": true,
         "tickcolor": "white",
         "ticklen": 3,
         "ticks": "outside",
         "title": {
          "text": ""
         },
         "type": "linear",
         "zeroline": false
        },
        "yaxis": {
         "anchor": "x",
         "automargin": true,
         "domain": [
          0,
          1
         ],
         "fixedrange": true,
         "gridwidth": 2,
         "range": [
          0.08814497585943289,
          0.45401610065642495
         ],
         "tickcolor": "white",
         "ticklen": 3,
         "ticks": "outside",
         "title": {
          "text": ""
         },
         "type": "linear",
         "zeroline": false
        }
       }
      }
     },
     "metadata": {},
     "output_type": "display_data"
    }
   ],
   "source": [
    "from sklearn.ensemble import RandomForestClassifier\n",
    "from sklearn.datasets import load_iris\n",
    "from sklearn.model_selection import train_test_split\n",
    "import pandas as pd\n",
    "import dalex as dx\n",
    "import plotly.express as px\n",
    "\n",
    "\n",
    "iris = load_iris()\n",
    "X, y = iris.data, iris.target\n",
    "X_df = pd.DataFrame(X, columns=iris.feature_names)                                              # Convert to DataFrame to include feature names\n",
    "X_train, X_test, y_train, y_test = train_test_split(X_df, y, test_size=0.3, random_state=42)    # Split the dataset into training and testing sets\n",
    "\n",
    "\n",
    "rf_model = RandomForestClassifier(random_state=42)                                              # Build the random forest model\n",
    "rf_model.fit(X_train, y_train)\n",
    "\n",
    "explainer = dx.Explainer(rf_model, X_test, y_test, label=\", \".join(iris.target_names))          # Create a DALEX explainer\n",
    "predictions = explainer.predict(X_test)                                                   # Generate predictions for the first 10 observations\n",
    "\n",
    "\n",
    "bd = explainer.predict_parts(X_test.iloc[0], type='break_down')                                 # Generate Break Down plot for the first observation\n",
    "bd.plot()\n",
    "\n",
    "probabilities = rf_model.predict_proba(X_test.iloc[[0]])[0]\n",
    "thresholds = {iris.target_names[i]: prob for i, prob in enumerate(probabilities)}\n",
    "print(\"Classification thresholds for the first observation:\", thresholds)\n",
    "\n",
    "\n",
    "shap = explainer.predict_parts(X_test.iloc[0], type='shap')                                     # Generate Shapley plot for the first observation\n",
    "shap.plot()\n",
    "\n",
    "fi = explainer.model_parts()                                                                    # Generate Feature Importance plot\n",
    "fi.plot()\n",
    "\n",
    "performance = explainer.model_performance()                                                     # Evaluate model performance\n",
    "performance.plot()\n",
    "\n",
    "pdp = explainer.model_profile(variables=['sepal length (cm)'])                                  # Generate Partial Dependence Plots (PDP)\n",
    "pdp.plot()\n",
    "\n",
    "cp = explainer.predict_profile(X_test.iloc[0])                                                  # Generate Ceteris Paribus plot for the first observation\n",
    "cp.plot()\n",
    "\n",
    "ale = explainer.model_profile(type='accumulated', variables=['sepal length (cm)'])              # Generate Accumulated Local Effects (ALE) plot\n",
    "ale.plot()\n",
    "\n",
    "ale = explainer.model_profile(type='conditional', variables=['sepal length (cm)'])              # Generate Accumulated Local Effects (ALE) plot\n",
    "ale.plot()\n"
   ]
  },
  {
   "cell_type": "code",
   "execution_count": 30,
   "metadata": {},
   "outputs": [
    {
     "data": {
      "application/vnd.plotly.v1+json": {
       "config": {
        "plotlyServerURL": "https://plot.ly"
       },
       "data": [
        {
         "line": {
          "shape": "hv"
         },
         "marker": {
          "color": "#46bac2"
         },
         "name": "setosa, versicolor, virginica",
         "type": "scatter",
         "x": [
          0,
          0.010000000000000009,
          0.020000000000000018,
          0.030000000000000027,
          0.05,
          0.07999999999999996,
          0.09999999999999998,
          0.13,
          0.15000000000000002,
          1.91,
          1.93,
          1.94,
          1.95,
          1.97,
          1.98,
          2
         ],
         "y": [
          0.5111111111111111,
          0.4666666666666667,
          0.4222222222222223,
          0.4,
          0.37777777777777777,
          0.3555555555555555,
          0.33333333333333337,
          0.3111111111111111,
          0.28888888888888886,
          0.2666666666666667,
          0.2222222222222222,
          0.19999999999999996,
          0.1777777777777778,
          0.15555555555555556,
          0.0888888888888889,
          0
         ]
        }
       ],
       "layout": {
        "font": {
         "color": "#371ea3"
        },
        "margin": {
         "b": 71,
         "r": 30,
         "t": 78
        },
        "template": {
         "data": {
          "scatter": [
           {
            "type": "scatter"
           }
          ]
         }
        },
        "title": {
         "text": "Reverse cumulative distribution of |residual|",
         "x": 0.15
        },
        "xaxis": {
         "automargin": true,
         "fixedrange": true,
         "gridwidth": 2,
         "tickcolor": "white",
         "ticklen": 10,
         "ticks": "outside",
         "title": {
          "text": "|residual|"
         },
         "type": "linear",
         "zeroline": false
        },
        "yaxis": {
         "automargin": true,
         "fixedrange": true,
         "gridwidth": 2,
         "tickcolor": "white",
         "tickformat": ",.0%",
         "ticklen": 10,
         "ticks": "outside",
         "type": "linear",
         "zeroline": false
        }
       }
      }
     },
     "metadata": {},
     "output_type": "display_data"
    }
   ],
   "source": [
    "performance = explainer.model_performance()                                                     # Evaluate model performance\n",
    "performance.plot()"
   ]
  },
  {
   "cell_type": "code",
   "execution_count": 39,
   "metadata": {},
   "outputs": [
    {
     "name": "stderr",
     "output_type": "stream",
     "text": [
      "Calculating ceteris paribus: 100%|██████████| 4/4 [00:00<00:00, 100.36it/s]"
     ]
    },
    {
     "name": "stderr",
     "output_type": "stream",
     "text": [
      "\n"
     ]
    },
    {
     "data": {
      "application/vnd.plotly.v1+json": {
       "config": {
        "displaylogo": false,
        "modeBarButtonsToRemove": [
         "sendDataToCloud",
         "lasso2d",
         "autoScale2d",
         "select2d",
         "zoom2d",
         "pan2d",
         "zoomIn2d",
         "zoomOut2d",
         "resetScale2d",
         "toggleSpikelines",
         "hoverCompareCartesian",
         "hoverClosestCartesian"
        ],
        "plotlyServerURL": "https://plot.ly",
        "staticPlot": false,
        "toImageButtonOptions": {
         "height": null,
         "width": null
        }
       },
       "data": [
        {
         "customdata": [
          [
           "</br>id: 22</br>prediction: 0.0</br>sepal length (cm): 4.4</br></br>sepal width (cm): 3.6</br>petal length (cm): 1.0</br>petal width (cm): 0.2</br>_original_yhat_: 0.0</br>"
          ],
          [
           "</br>id: 22</br>prediction: 0.0</br>sepal length (cm): 4.4350000000000005</br></br>sepal width (cm): 3.6</br>petal length (cm): 1.0</br>petal width (cm): 0.2</br>_original_yhat_: 0.0</br>"
          ],
          [
           "</br>id: 22</br>prediction: 0.0</br>sepal length (cm): 4.470000000000001</br></br>sepal width (cm): 3.6</br>petal length (cm): 1.0</br>petal width (cm): 0.2</br>_original_yhat_: 0.0</br>"
          ],
          [
           "</br>id: 22</br>prediction: 0.0</br>sepal length (cm): 4.505000000000001</br></br>sepal width (cm): 3.6</br>petal length (cm): 1.0</br>petal width (cm): 0.2</br>_original_yhat_: 0.0</br>"
          ],
          [
           "</br>id: 22</br>prediction: 0.0</br>sepal length (cm): 4.54</br></br>sepal width (cm): 3.6</br>petal length (cm): 1.0</br>petal width (cm): 0.2</br>_original_yhat_: 0.0</br>"
          ],
          [
           "</br>id: 22</br>prediction: 0.0</br>sepal length (cm): 4.575</br></br>sepal width (cm): 3.6</br>petal length (cm): 1.0</br>petal width (cm): 0.2</br>_original_yhat_: 0.0</br>"
          ],
          [
           "</br>id: 22</br>prediction: 0.0</br>sepal length (cm): 4.6</br></br>sepal width (cm): 3.6</br>petal length (cm): 1.0</br>petal width (cm): 0.2</br>_original_yhat_: 0.0</br>"
          ],
          [
           "</br>id: 22</br>prediction: 0.0</br>sepal length (cm): 4.61</br></br>sepal width (cm): 3.6</br>petal length (cm): 1.0</br>petal width (cm): 0.2</br>_original_yhat_: 0.0</br>"
          ],
          [
           "</br>id: 22</br>prediction: 0.0</br>sepal length (cm): 4.6450000000000005</br></br>sepal width (cm): 3.6</br>petal length (cm): 1.0</br>petal width (cm): 0.2</br>_original_yhat_: 0.0</br>"
          ],
          [
           "</br>id: 22</br>prediction: 0.0</br>sepal length (cm): 4.680000000000001</br></br>sepal width (cm): 3.6</br>petal length (cm): 1.0</br>petal width (cm): 0.2</br>_original_yhat_: 0.0</br>"
          ],
          [
           "</br>id: 22</br>prediction: 0.0</br>sepal length (cm): 4.715000000000001</br></br>sepal width (cm): 3.6</br>petal length (cm): 1.0</br>petal width (cm): 0.2</br>_original_yhat_: 0.0</br>"
          ],
          [
           "</br>id: 22</br>prediction: 0.0</br>sepal length (cm): 4.75</br></br>sepal width (cm): 3.6</br>petal length (cm): 1.0</br>petal width (cm): 0.2</br>_original_yhat_: 0.0</br>"
          ],
          [
           "</br>id: 22</br>prediction: 0.0</br>sepal length (cm): 4.785</br></br>sepal width (cm): 3.6</br>petal length (cm): 1.0</br>petal width (cm): 0.2</br>_original_yhat_: 0.0</br>"
          ],
          [
           "</br>id: 22</br>prediction: 0.0</br>sepal length (cm): 4.82</br></br>sepal width (cm): 3.6</br>petal length (cm): 1.0</br>petal width (cm): 0.2</br>_original_yhat_: 0.0</br>"
          ],
          [
           "</br>id: 22</br>prediction: 0.0</br>sepal length (cm): 4.855</br></br>sepal width (cm): 3.6</br>petal length (cm): 1.0</br>petal width (cm): 0.2</br>_original_yhat_: 0.0</br>"
          ],
          [
           "</br>id: 22</br>prediction: 0.0</br>sepal length (cm): 4.890000000000001</br></br>sepal width (cm): 3.6</br>petal length (cm): 1.0</br>petal width (cm): 0.2</br>_original_yhat_: 0.0</br>"
          ],
          [
           "</br>id: 22</br>prediction: 0.0</br>sepal length (cm): 4.925000000000001</br></br>sepal width (cm): 3.6</br>petal length (cm): 1.0</br>petal width (cm): 0.2</br>_original_yhat_: 0.0</br>"
          ],
          [
           "</br>id: 22</br>prediction: 0.0</br>sepal length (cm): 4.960000000000001</br></br>sepal width (cm): 3.6</br>petal length (cm): 1.0</br>petal width (cm): 0.2</br>_original_yhat_: 0.0</br>"
          ],
          [
           "</br>id: 22</br>prediction: 0.0</br>sepal length (cm): 4.995</br></br>sepal width (cm): 3.6</br>petal length (cm): 1.0</br>petal width (cm): 0.2</br>_original_yhat_: 0.0</br>"
          ],
          [
           "</br>id: 22</br>prediction: 0.0</br>sepal length (cm): 5.03</br></br>sepal width (cm): 3.6</br>petal length (cm): 1.0</br>petal width (cm): 0.2</br>_original_yhat_: 0.0</br>"
          ],
          [
           "</br>id: 22</br>prediction: 0.0</br>sepal length (cm): 5.065</br></br>sepal width (cm): 3.6</br>petal length (cm): 1.0</br>petal width (cm): 0.2</br>_original_yhat_: 0.0</br>"
          ],
          [
           "</br>id: 22</br>prediction: 0.0</br>sepal length (cm): 5.1000000000000005</br></br>sepal width (cm): 3.6</br>petal length (cm): 1.0</br>petal width (cm): 0.2</br>_original_yhat_: 0.0</br>"
          ],
          [
           "</br>id: 22</br>prediction: 0.0</br>sepal length (cm): 5.135000000000001</br></br>sepal width (cm): 3.6</br>petal length (cm): 1.0</br>petal width (cm): 0.2</br>_original_yhat_: 0.0</br>"
          ],
          [
           "</br>id: 22</br>prediction: 0.0</br>sepal length (cm): 5.17</br></br>sepal width (cm): 3.6</br>petal length (cm): 1.0</br>petal width (cm): 0.2</br>_original_yhat_: 0.0</br>"
          ],
          [
           "</br>id: 22</br>prediction: 0.0</br>sepal length (cm): 5.205</br></br>sepal width (cm): 3.6</br>petal length (cm): 1.0</br>petal width (cm): 0.2</br>_original_yhat_: 0.0</br>"
          ],
          [
           "</br>id: 22</br>prediction: 0.0</br>sepal length (cm): 5.24</br></br>sepal width (cm): 3.6</br>petal length (cm): 1.0</br>petal width (cm): 0.2</br>_original_yhat_: 0.0</br>"
          ],
          [
           "</br>id: 22</br>prediction: 0.0</br>sepal length (cm): 5.275</br></br>sepal width (cm): 3.6</br>petal length (cm): 1.0</br>petal width (cm): 0.2</br>_original_yhat_: 0.0</br>"
          ],
          [
           "</br>id: 22</br>prediction: 0.0</br>sepal length (cm): 5.3100000000000005</br></br>sepal width (cm): 3.6</br>petal length (cm): 1.0</br>petal width (cm): 0.2</br>_original_yhat_: 0.0</br>"
          ],
          [
           "</br>id: 22</br>prediction: 0.0</br>sepal length (cm): 5.345000000000001</br></br>sepal width (cm): 3.6</br>petal length (cm): 1.0</br>petal width (cm): 0.2</br>_original_yhat_: 0.0</br>"
          ],
          [
           "</br>id: 22</br>prediction: 0.0</br>sepal length (cm): 5.380000000000001</br></br>sepal width (cm): 3.6</br>petal length (cm): 1.0</br>petal width (cm): 0.2</br>_original_yhat_: 0.0</br>"
          ],
          [
           "</br>id: 22</br>prediction: 0.0</br>sepal length (cm): 5.415000000000001</br></br>sepal width (cm): 3.6</br>petal length (cm): 1.0</br>petal width (cm): 0.2</br>_original_yhat_: 0.0</br>"
          ],
          [
           "</br>id: 22</br>prediction: 0.0</br>sepal length (cm): 5.45</br></br>sepal width (cm): 3.6</br>petal length (cm): 1.0</br>petal width (cm): 0.2</br>_original_yhat_: 0.0</br>"
          ],
          [
           "</br>id: 22</br>prediction: 0.03</br>sepal length (cm): 5.485</br></br>sepal width (cm): 3.6</br>petal length (cm): 1.0</br>petal width (cm): 0.2</br>_original_yhat_: 0.0</br>"
          ],
          [
           "</br>id: 22</br>prediction: 0.03</br>sepal length (cm): 5.5200000000000005</br></br>sepal width (cm): 3.6</br>petal length (cm): 1.0</br>petal width (cm): 0.2</br>_original_yhat_: 0.0</br>"
          ],
          [
           "</br>id: 22</br>prediction: 0.03</br>sepal length (cm): 5.555000000000001</br></br>sepal width (cm): 3.6</br>petal length (cm): 1.0</br>petal width (cm): 0.2</br>_original_yhat_: 0.0</br>"
          ],
          [
           "</br>id: 22</br>prediction: 0.03</br>sepal length (cm): 5.590000000000001</br></br>sepal width (cm): 3.6</br>petal length (cm): 1.0</br>petal width (cm): 0.2</br>_original_yhat_: 0.0</br>"
          ],
          [
           "</br>id: 22</br>prediction: 0.03</br>sepal length (cm): 5.625</br></br>sepal width (cm): 3.6</br>petal length (cm): 1.0</br>petal width (cm): 0.2</br>_original_yhat_: 0.0</br>"
          ],
          [
           "</br>id: 22</br>prediction: 0.03</br>sepal length (cm): 5.66</br></br>sepal width (cm): 3.6</br>petal length (cm): 1.0</br>petal width (cm): 0.2</br>_original_yhat_: 0.0</br>"
          ],
          [
           "</br>id: 22</br>prediction: 0.03</br>sepal length (cm): 5.695</br></br>sepal width (cm): 3.6</br>petal length (cm): 1.0</br>petal width (cm): 0.2</br>_original_yhat_: 0.0</br>"
          ],
          [
           "</br>id: 22</br>prediction: 0.03</br>sepal length (cm): 5.73</br></br>sepal width (cm): 3.6</br>petal length (cm): 1.0</br>petal width (cm): 0.2</br>_original_yhat_: 0.0</br>"
          ],
          [
           "</br>id: 22</br>prediction: 0.04</br>sepal length (cm): 5.765000000000001</br></br>sepal width (cm): 3.6</br>petal length (cm): 1.0</br>petal width (cm): 0.2</br>_original_yhat_: 0.0</br>"
          ],
          [
           "</br>id: 22</br>prediction: 0.04</br>sepal length (cm): 5.800000000000001</br></br>sepal width (cm): 3.6</br>petal length (cm): 1.0</br>petal width (cm): 0.2</br>_original_yhat_: 0.0</br>"
          ],
          [
           "</br>id: 22</br>prediction: 0.04</br>sepal length (cm): 5.835000000000001</br></br>sepal width (cm): 3.6</br>petal length (cm): 1.0</br>petal width (cm): 0.2</br>_original_yhat_: 0.0</br>"
          ],
          [
           "</br>id: 22</br>prediction: 0.05</br>sepal length (cm): 5.870000000000001</br></br>sepal width (cm): 3.6</br>petal length (cm): 1.0</br>petal width (cm): 0.2</br>_original_yhat_: 0.0</br>"
          ],
          [
           "</br>id: 22</br>prediction: 0.05</br>sepal length (cm): 5.905</br></br>sepal width (cm): 3.6</br>petal length (cm): 1.0</br>petal width (cm): 0.2</br>_original_yhat_: 0.0</br>"
          ],
          [
           "</br>id: 22</br>prediction: 0.05</br>sepal length (cm): 5.94</br></br>sepal width (cm): 3.6</br>petal length (cm): 1.0</br>petal width (cm): 0.2</br>_original_yhat_: 0.0</br>"
          ],
          [
           "</br>id: 22</br>prediction: 0.05</br>sepal length (cm): 5.9750000000000005</br></br>sepal width (cm): 3.6</br>petal length (cm): 1.0</br>petal width (cm): 0.2</br>_original_yhat_: 0.0</br>"
          ],
          [
           "</br>id: 22</br>prediction: 0.05</br>sepal length (cm): 6.010000000000001</br></br>sepal width (cm): 3.6</br>petal length (cm): 1.0</br>petal width (cm): 0.2</br>_original_yhat_: 0.0</br>"
          ],
          [
           "</br>id: 22</br>prediction: 0.05</br>sepal length (cm): 6.045000000000001</br></br>sepal width (cm): 3.6</br>petal length (cm): 1.0</br>petal width (cm): 0.2</br>_original_yhat_: 0.0</br>"
          ],
          [
           "</br>id: 22</br>prediction: 0.05</br>sepal length (cm): 6.08</br></br>sepal width (cm): 3.6</br>petal length (cm): 1.0</br>petal width (cm): 0.2</br>_original_yhat_: 0.0</br>"
          ],
          [
           "</br>id: 22</br>prediction: 0.05</br>sepal length (cm): 6.115</br></br>sepal width (cm): 3.6</br>petal length (cm): 1.0</br>petal width (cm): 0.2</br>_original_yhat_: 0.0</br>"
          ],
          [
           "</br>id: 22</br>prediction: 0.08</br>sepal length (cm): 6.15</br></br>sepal width (cm): 3.6</br>petal length (cm): 1.0</br>petal width (cm): 0.2</br>_original_yhat_: 0.0</br>"
          ],
          [
           "</br>id: 22</br>prediction: 0.08</br>sepal length (cm): 6.1850000000000005</br></br>sepal width (cm): 3.6</br>petal length (cm): 1.0</br>petal width (cm): 0.2</br>_original_yhat_: 0.0</br>"
          ],
          [
           "</br>id: 22</br>prediction: 0.08</br>sepal length (cm): 6.220000000000001</br></br>sepal width (cm): 3.6</br>petal length (cm): 1.0</br>petal width (cm): 0.2</br>_original_yhat_: 0.0</br>"
          ],
          [
           "</br>id: 22</br>prediction: 0.1</br>sepal length (cm): 6.255000000000001</br></br>sepal width (cm): 3.6</br>petal length (cm): 1.0</br>petal width (cm): 0.2</br>_original_yhat_: 0.0</br>"
          ],
          [
           "</br>id: 22</br>prediction: 0.1</br>sepal length (cm): 6.290000000000001</br></br>sepal width (cm): 3.6</br>petal length (cm): 1.0</br>petal width (cm): 0.2</br>_original_yhat_: 0.0</br>"
          ],
          [
           "</br>id: 22</br>prediction: 0.1</br>sepal length (cm): 6.325000000000001</br></br>sepal width (cm): 3.6</br>petal length (cm): 1.0</br>petal width (cm): 0.2</br>_original_yhat_: 0.0</br>"
          ],
          [
           "</br>id: 22</br>prediction: 0.11</br>sepal length (cm): 6.36</br></br>sepal width (cm): 3.6</br>petal length (cm): 1.0</br>petal width (cm): 0.2</br>_original_yhat_: 0.0</br>"
          ],
          [
           "</br>id: 22</br>prediction: 0.11</br>sepal length (cm): 6.3950000000000005</br></br>sepal width (cm): 3.6</br>petal length (cm): 1.0</br>petal width (cm): 0.2</br>_original_yhat_: 0.0</br>"
          ],
          [
           "</br>id: 22</br>prediction: 0.11</br>sepal length (cm): 6.430000000000001</br></br>sepal width (cm): 3.6</br>petal length (cm): 1.0</br>petal width (cm): 0.2</br>_original_yhat_: 0.0</br>"
          ],
          [
           "</br>id: 22</br>prediction: 0.11</br>sepal length (cm): 6.465000000000001</br></br>sepal width (cm): 3.6</br>petal length (cm): 1.0</br>petal width (cm): 0.2</br>_original_yhat_: 0.0</br>"
          ],
          [
           "</br>id: 22</br>prediction: 0.11</br>sepal length (cm): 6.5</br></br>sepal width (cm): 3.6</br>petal length (cm): 1.0</br>petal width (cm): 0.2</br>_original_yhat_: 0.0</br>"
          ],
          [
           "</br>id: 22</br>prediction: 0.11</br>sepal length (cm): 6.535</br></br>sepal width (cm): 3.6</br>petal length (cm): 1.0</br>petal width (cm): 0.2</br>_original_yhat_: 0.0</br>"
          ],
          [
           "</br>id: 22</br>prediction: 0.11</br>sepal length (cm): 6.57</br></br>sepal width (cm): 3.6</br>petal length (cm): 1.0</br>petal width (cm): 0.2</br>_original_yhat_: 0.0</br>"
          ],
          [
           "</br>id: 22</br>prediction: 0.11</br>sepal length (cm): 6.605</br></br>sepal width (cm): 3.6</br>petal length (cm): 1.0</br>petal width (cm): 0.2</br>_original_yhat_: 0.0</br>"
          ],
          [
           "</br>id: 22</br>prediction: 0.11</br>sepal length (cm): 6.640000000000001</br></br>sepal width (cm): 3.6</br>petal length (cm): 1.0</br>petal width (cm): 0.2</br>_original_yhat_: 0.0</br>"
          ],
          [
           "</br>id: 22</br>prediction: 0.11</br>sepal length (cm): 6.675000000000001</br></br>sepal width (cm): 3.6</br>petal length (cm): 1.0</br>petal width (cm): 0.2</br>_original_yhat_: 0.0</br>"
          ],
          [
           "</br>id: 22</br>prediction: 0.11</br>sepal length (cm): 6.710000000000001</br></br>sepal width (cm): 3.6</br>petal length (cm): 1.0</br>petal width (cm): 0.2</br>_original_yhat_: 0.0</br>"
          ],
          [
           "</br>id: 22</br>prediction: 0.11</br>sepal length (cm): 6.745000000000001</br></br>sepal width (cm): 3.6</br>petal length (cm): 1.0</br>petal width (cm): 0.2</br>_original_yhat_: 0.0</br>"
          ],
          [
           "</br>id: 22</br>prediction: 0.11</br>sepal length (cm): 6.780000000000001</br></br>sepal width (cm): 3.6</br>petal length (cm): 1.0</br>petal width (cm): 0.2</br>_original_yhat_: 0.0</br>"
          ],
          [
           "</br>id: 22</br>prediction: 0.11</br>sepal length (cm): 6.815</br></br>sepal width (cm): 3.6</br>petal length (cm): 1.0</br>petal width (cm): 0.2</br>_original_yhat_: 0.0</br>"
          ],
          [
           "</br>id: 22</br>prediction: 0.11</br>sepal length (cm): 6.8500000000000005</br></br>sepal width (cm): 3.6</br>petal length (cm): 1.0</br>petal width (cm): 0.2</br>_original_yhat_: 0.0</br>"
          ],
          [
           "</br>id: 22</br>prediction: 0.11</br>sepal length (cm): 6.885000000000001</br></br>sepal width (cm): 3.6</br>petal length (cm): 1.0</br>petal width (cm): 0.2</br>_original_yhat_: 0.0</br>"
          ],
          [
           "</br>id: 22</br>prediction: 0.11</br>sepal length (cm): 6.920000000000001</br></br>sepal width (cm): 3.6</br>petal length (cm): 1.0</br>petal width (cm): 0.2</br>_original_yhat_: 0.0</br>"
          ],
          [
           "</br>id: 22</br>prediction: 0.11</br>sepal length (cm): 6.955</br></br>sepal width (cm): 3.6</br>petal length (cm): 1.0</br>petal width (cm): 0.2</br>_original_yhat_: 0.0</br>"
          ],
          [
           "</br>id: 22</br>prediction: 0.11</br>sepal length (cm): 6.99</br></br>sepal width (cm): 3.6</br>petal length (cm): 1.0</br>petal width (cm): 0.2</br>_original_yhat_: 0.0</br>"
          ],
          [
           "</br>id: 22</br>prediction: 0.11</br>sepal length (cm): 7.025</br></br>sepal width (cm): 3.6</br>petal length (cm): 1.0</br>petal width (cm): 0.2</br>_original_yhat_: 0.0</br>"
          ],
          [
           "</br>id: 22</br>prediction: 0.11</br>sepal length (cm): 7.0600000000000005</br></br>sepal width (cm): 3.6</br>petal length (cm): 1.0</br>petal width (cm): 0.2</br>_original_yhat_: 0.0</br>"
          ],
          [
           "</br>id: 22</br>prediction: 0.11</br>sepal length (cm): 7.095000000000001</br></br>sepal width (cm): 3.6</br>petal length (cm): 1.0</br>petal width (cm): 0.2</br>_original_yhat_: 0.0</br>"
          ],
          [
           "</br>id: 22</br>prediction: 0.11</br>sepal length (cm): 7.130000000000001</br></br>sepal width (cm): 3.6</br>petal length (cm): 1.0</br>petal width (cm): 0.2</br>_original_yhat_: 0.0</br>"
          ],
          [
           "</br>id: 22</br>prediction: 0.11</br>sepal length (cm): 7.165000000000001</br></br>sepal width (cm): 3.6</br>petal length (cm): 1.0</br>petal width (cm): 0.2</br>_original_yhat_: 0.0</br>"
          ],
          [
           "</br>id: 22</br>prediction: 0.11</br>sepal length (cm): 7.200000000000001</br></br>sepal width (cm): 3.6</br>petal length (cm): 1.0</br>petal width (cm): 0.2</br>_original_yhat_: 0.0</br>"
          ],
          [
           "</br>id: 22</br>prediction: 0.11</br>sepal length (cm): 7.235000000000001</br></br>sepal width (cm): 3.6</br>petal length (cm): 1.0</br>petal width (cm): 0.2</br>_original_yhat_: 0.0</br>"
          ],
          [
           "</br>id: 22</br>prediction: 0.11</br>sepal length (cm): 7.2700000000000005</br></br>sepal width (cm): 3.6</br>petal length (cm): 1.0</br>petal width (cm): 0.2</br>_original_yhat_: 0.0</br>"
          ],
          [
           "</br>id: 22</br>prediction: 0.11</br>sepal length (cm): 7.305000000000001</br></br>sepal width (cm): 3.6</br>petal length (cm): 1.0</br>petal width (cm): 0.2</br>_original_yhat_: 0.0</br>"
          ],
          [
           "</br>id: 22</br>prediction: 0.11</br>sepal length (cm): 7.340000000000001</br></br>sepal width (cm): 3.6</br>petal length (cm): 1.0</br>petal width (cm): 0.2</br>_original_yhat_: 0.0</br>"
          ],
          [
           "</br>id: 22</br>prediction: 0.11</br>sepal length (cm): 7.375</br></br>sepal width (cm): 3.6</br>petal length (cm): 1.0</br>petal width (cm): 0.2</br>_original_yhat_: 0.0</br>"
          ],
          [
           "</br>id: 22</br>prediction: 0.11</br>sepal length (cm): 7.41</br></br>sepal width (cm): 3.6</br>petal length (cm): 1.0</br>petal width (cm): 0.2</br>_original_yhat_: 0.0</br>"
          ],
          [
           "</br>id: 22</br>prediction: 0.11</br>sepal length (cm): 7.445</br></br>sepal width (cm): 3.6</br>petal length (cm): 1.0</br>petal width (cm): 0.2</br>_original_yhat_: 0.0</br>"
          ],
          [
           "</br>id: 22</br>prediction: 0.11</br>sepal length (cm): 7.48</br></br>sepal width (cm): 3.6</br>petal length (cm): 1.0</br>petal width (cm): 0.2</br>_original_yhat_: 0.0</br>"
          ],
          [
           "</br>id: 22</br>prediction: 0.11</br>sepal length (cm): 7.515000000000001</br></br>sepal width (cm): 3.6</br>petal length (cm): 1.0</br>petal width (cm): 0.2</br>_original_yhat_: 0.0</br>"
          ],
          [
           "</br>id: 22</br>prediction: 0.11</br>sepal length (cm): 7.550000000000001</br></br>sepal width (cm): 3.6</br>petal length (cm): 1.0</br>petal width (cm): 0.2</br>_original_yhat_: 0.0</br>"
          ],
          [
           "</br>id: 22</br>prediction: 0.11</br>sepal length (cm): 7.585000000000001</br></br>sepal width (cm): 3.6</br>petal length (cm): 1.0</br>petal width (cm): 0.2</br>_original_yhat_: 0.0</br>"
          ],
          [
           "</br>id: 22</br>prediction: 0.11</br>sepal length (cm): 7.620000000000001</br></br>sepal width (cm): 3.6</br>petal length (cm): 1.0</br>petal width (cm): 0.2</br>_original_yhat_: 0.0</br>"
          ],
          [
           "</br>id: 22</br>prediction: 0.11</br>sepal length (cm): 7.655000000000001</br></br>sepal width (cm): 3.6</br>petal length (cm): 1.0</br>petal width (cm): 0.2</br>_original_yhat_: 0.0</br>"
          ],
          [
           "</br>id: 22</br>prediction: 0.11</br>sepal length (cm): 7.690000000000001</br></br>sepal width (cm): 3.6</br>petal length (cm): 1.0</br>petal width (cm): 0.2</br>_original_yhat_: 0.0</br>"
          ],
          [
           "</br>id: 22</br>prediction: 0.11</br>sepal length (cm): 7.7250000000000005</br></br>sepal width (cm): 3.6</br>petal length (cm): 1.0</br>petal width (cm): 0.2</br>_original_yhat_: 0.0</br>"
          ],
          [
           "</br>id: 22</br>prediction: 0.11</br>sepal length (cm): 7.760000000000001</br></br>sepal width (cm): 3.6</br>petal length (cm): 1.0</br>petal width (cm): 0.2</br>_original_yhat_: 0.0</br>"
          ],
          [
           "</br>id: 22</br>prediction: 0.11</br>sepal length (cm): 7.795000000000001</br></br>sepal width (cm): 3.6</br>petal length (cm): 1.0</br>petal width (cm): 0.2</br>_original_yhat_: 0.0</br>"
          ],
          [
           "</br>id: 22</br>prediction: 0.11</br>sepal length (cm): 7.83</br></br>sepal width (cm): 3.6</br>petal length (cm): 1.0</br>petal width (cm): 0.2</br>_original_yhat_: 0.0</br>"
          ],
          [
           "</br>id: 22</br>prediction: 0.11</br>sepal length (cm): 7.865</br></br>sepal width (cm): 3.6</br>petal length (cm): 1.0</br>petal width (cm): 0.2</br>_original_yhat_: 0.0</br>"
          ],
          [
           "</br>id: 22</br>prediction: 0.11</br>sepal length (cm): 7.9</br></br>sepal width (cm): 3.6</br>petal length (cm): 1.0</br>petal width (cm): 0.2</br>_original_yhat_: 0.0</br>"
          ]
         ],
         "hovertemplate": "%{customdata[0]}<extra></extra>",
         "legendgroup": "setosa, versicolor, virginica",
         "line": {
          "color": "#46bac2",
          "dash": "solid",
          "width": 2
         },
         "marker": {
          "symbol": "circle"
         },
         "mode": "lines",
         "name": "setosa, versicolor, virginica",
         "opacity": 1,
         "orientation": "v",
         "showlegend": true,
         "type": "scatter",
         "x": [
          4.4,
          4.4350000000000005,
          4.470000000000001,
          4.505000000000001,
          4.54,
          4.575,
          4.6,
          4.61,
          4.6450000000000005,
          4.680000000000001,
          4.715000000000001,
          4.75,
          4.785,
          4.82,
          4.855,
          4.890000000000001,
          4.925000000000001,
          4.960000000000001,
          4.995,
          5.03,
          5.065,
          5.1000000000000005,
          5.135000000000001,
          5.17,
          5.205,
          5.24,
          5.275,
          5.3100000000000005,
          5.345000000000001,
          5.380000000000001,
          5.415000000000001,
          5.45,
          5.485,
          5.5200000000000005,
          5.555000000000001,
          5.590000000000001,
          5.625,
          5.66,
          5.695,
          5.73,
          5.765000000000001,
          5.800000000000001,
          5.835000000000001,
          5.870000000000001,
          5.905,
          5.94,
          5.9750000000000005,
          6.010000000000001,
          6.045000000000001,
          6.08,
          6.115,
          6.15,
          6.1850000000000005,
          6.220000000000001,
          6.255000000000001,
          6.290000000000001,
          6.325000000000001,
          6.36,
          6.3950000000000005,
          6.430000000000001,
          6.465000000000001,
          6.5,
          6.535,
          6.57,
          6.605,
          6.640000000000001,
          6.675000000000001,
          6.710000000000001,
          6.745000000000001,
          6.780000000000001,
          6.815,
          6.8500000000000005,
          6.885000000000001,
          6.920000000000001,
          6.955,
          6.99,
          7.025,
          7.0600000000000005,
          7.095000000000001,
          7.130000000000001,
          7.165000000000001,
          7.200000000000001,
          7.235000000000001,
          7.2700000000000005,
          7.305000000000001,
          7.340000000000001,
          7.375,
          7.41,
          7.445,
          7.48,
          7.515000000000001,
          7.550000000000001,
          7.585000000000001,
          7.620000000000001,
          7.655000000000001,
          7.690000000000001,
          7.7250000000000005,
          7.760000000000001,
          7.795000000000001,
          7.83,
          7.865,
          7.9
         ],
         "xaxis": "x3",
         "y": [
          0,
          0,
          0,
          0,
          0,
          0,
          0,
          0,
          0,
          0,
          0,
          0,
          0,
          0,
          0,
          0,
          0,
          0,
          0,
          0,
          0,
          0,
          0,
          0,
          0,
          0,
          0,
          0,
          0,
          0,
          0,
          0,
          0.03,
          0.03,
          0.03,
          0.03,
          0.03,
          0.03,
          0.03,
          0.03,
          0.04,
          0.04,
          0.04,
          0.05,
          0.05,
          0.05,
          0.05,
          0.05,
          0.05,
          0.05,
          0.05,
          0.08,
          0.08,
          0.08,
          0.1,
          0.1,
          0.1,
          0.11,
          0.11,
          0.11,
          0.11,
          0.11,
          0.11,
          0.11,
          0.11,
          0.11,
          0.11,
          0.11,
          0.11,
          0.11,
          0.11,
          0.11,
          0.11,
          0.11,
          0.11,
          0.11,
          0.11,
          0.11,
          0.11,
          0.11,
          0.11,
          0.11,
          0.11,
          0.11,
          0.11,
          0.11,
          0.11,
          0.11,
          0.11,
          0.11,
          0.11,
          0.11,
          0.11,
          0.11,
          0.11,
          0.11,
          0.11,
          0.11,
          0.11,
          0.11,
          0.11,
          0.11
         ],
         "yaxis": "y3"
        },
        {
         "customdata": [
          [
           "</br>id: 22</br>prediction: 0.01</br>sepal width (cm): 2.2</br></br>sepal length (cm): 4.6</br>petal length (cm): 1.0</br>petal width (cm): 0.2</br>_original_yhat_: 0.0</br>"
          ],
          [
           "</br>id: 22</br>prediction: 0.01</br>sepal width (cm): 2.222</br></br>sepal length (cm): 4.6</br>petal length (cm): 1.0</br>petal width (cm): 0.2</br>_original_yhat_: 0.0</br>"
          ],
          [
           "</br>id: 22</br>prediction: 0.01</br>sepal width (cm): 2.244</br></br>sepal length (cm): 4.6</br>petal length (cm): 1.0</br>petal width (cm): 0.2</br>_original_yhat_: 0.0</br>"
          ],
          [
           "</br>id: 22</br>prediction: 0.01</br>sepal width (cm): 2.266</br></br>sepal length (cm): 4.6</br>petal length (cm): 1.0</br>petal width (cm): 0.2</br>_original_yhat_: 0.0</br>"
          ],
          [
           "</br>id: 22</br>prediction: 0.01</br>sepal width (cm): 2.2880000000000003</br></br>sepal length (cm): 4.6</br>petal length (cm): 1.0</br>petal width (cm): 0.2</br>_original_yhat_: 0.0</br>"
          ],
          [
           "</br>id: 22</br>prediction: 0.01</br>sepal width (cm): 2.31</br></br>sepal length (cm): 4.6</br>petal length (cm): 1.0</br>petal width (cm): 0.2</br>_original_yhat_: 0.0</br>"
          ],
          [
           "</br>id: 22</br>prediction: 0.01</br>sepal width (cm): 2.3320000000000003</br></br>sepal length (cm): 4.6</br>petal length (cm): 1.0</br>petal width (cm): 0.2</br>_original_yhat_: 0.0</br>"
          ],
          [
           "</br>id: 22</br>prediction: 0.01</br>sepal width (cm): 2.354</br></br>sepal length (cm): 4.6</br>petal length (cm): 1.0</br>petal width (cm): 0.2</br>_original_yhat_: 0.0</br>"
          ],
          [
           "</br>id: 22</br>prediction: 0.01</br>sepal width (cm): 2.3760000000000003</br></br>sepal length (cm): 4.6</br>petal length (cm): 1.0</br>petal width (cm): 0.2</br>_original_yhat_: 0.0</br>"
          ],
          [
           "</br>id: 22</br>prediction: 0.01</br>sepal width (cm): 2.398</br></br>sepal length (cm): 4.6</br>petal length (cm): 1.0</br>petal width (cm): 0.2</br>_original_yhat_: 0.0</br>"
          ],
          [
           "</br>id: 22</br>prediction: 0.01</br>sepal width (cm): 2.4200000000000004</br></br>sepal length (cm): 4.6</br>petal length (cm): 1.0</br>petal width (cm): 0.2</br>_original_yhat_: 0.0</br>"
          ],
          [
           "</br>id: 22</br>prediction: 0.01</br>sepal width (cm): 2.442</br></br>sepal length (cm): 4.6</br>petal length (cm): 1.0</br>petal width (cm): 0.2</br>_original_yhat_: 0.0</br>"
          ],
          [
           "</br>id: 22</br>prediction: 0.01</br>sepal width (cm): 2.4640000000000004</br></br>sepal length (cm): 4.6</br>petal length (cm): 1.0</br>petal width (cm): 0.2</br>_original_yhat_: 0.0</br>"
          ],
          [
           "</br>id: 22</br>prediction: 0.01</br>sepal width (cm): 2.486</br></br>sepal length (cm): 4.6</br>petal length (cm): 1.0</br>petal width (cm): 0.2</br>_original_yhat_: 0.0</br>"
          ],
          [
           "</br>id: 22</br>prediction: 0.01</br>sepal width (cm): 2.508</br></br>sepal length (cm): 4.6</br>petal length (cm): 1.0</br>petal width (cm): 0.2</br>_original_yhat_: 0.0</br>"
          ],
          [
           "</br>id: 22</br>prediction: 0.01</br>sepal width (cm): 2.5300000000000002</br></br>sepal length (cm): 4.6</br>petal length (cm): 1.0</br>petal width (cm): 0.2</br>_original_yhat_: 0.0</br>"
          ],
          [
           "</br>id: 22</br>prediction: 0.01</br>sepal width (cm): 2.552</br></br>sepal length (cm): 4.6</br>petal length (cm): 1.0</br>petal width (cm): 0.2</br>_original_yhat_: 0.0</br>"
          ],
          [
           "</br>id: 22</br>prediction: 0.01</br>sepal width (cm): 2.5740000000000003</br></br>sepal length (cm): 4.6</br>petal length (cm): 1.0</br>petal width (cm): 0.2</br>_original_yhat_: 0.0</br>"
          ],
          [
           "</br>id: 22</br>prediction: 0.01</br>sepal width (cm): 2.596</br></br>sepal length (cm): 4.6</br>petal length (cm): 1.0</br>petal width (cm): 0.2</br>_original_yhat_: 0.0</br>"
          ],
          [
           "</br>id: 22</br>prediction: 0.01</br>sepal width (cm): 2.6180000000000003</br></br>sepal length (cm): 4.6</br>petal length (cm): 1.0</br>petal width (cm): 0.2</br>_original_yhat_: 0.0</br>"
          ],
          [
           "</br>id: 22</br>prediction: 0.01</br>sepal width (cm): 2.64</br></br>sepal length (cm): 4.6</br>petal length (cm): 1.0</br>petal width (cm): 0.2</br>_original_yhat_: 0.0</br>"
          ],
          [
           "</br>id: 22</br>prediction: 0.01</br>sepal width (cm): 2.6620000000000004</br></br>sepal length (cm): 4.6</br>petal length (cm): 1.0</br>petal width (cm): 0.2</br>_original_yhat_: 0.0</br>"
          ],
          [
           "</br>id: 22</br>prediction: 0.01</br>sepal width (cm): 2.684</br></br>sepal length (cm): 4.6</br>petal length (cm): 1.0</br>petal width (cm): 0.2</br>_original_yhat_: 0.0</br>"
          ],
          [
           "</br>id: 22</br>prediction: 0.01</br>sepal width (cm): 2.7060000000000004</br></br>sepal length (cm): 4.6</br>petal length (cm): 1.0</br>petal width (cm): 0.2</br>_original_yhat_: 0.0</br>"
          ],
          [
           "</br>id: 22</br>prediction: 0.01</br>sepal width (cm): 2.728</br></br>sepal length (cm): 4.6</br>petal length (cm): 1.0</br>petal width (cm): 0.2</br>_original_yhat_: 0.0</br>"
          ],
          [
           "</br>id: 22</br>prediction: 0.01</br>sepal width (cm): 2.75</br></br>sepal length (cm): 4.6</br>petal length (cm): 1.0</br>petal width (cm): 0.2</br>_original_yhat_: 0.0</br>"
          ],
          [
           "</br>id: 22</br>prediction: 0.01</br>sepal width (cm): 2.7720000000000002</br></br>sepal length (cm): 4.6</br>petal length (cm): 1.0</br>petal width (cm): 0.2</br>_original_yhat_: 0.0</br>"
          ],
          [
           "</br>id: 22</br>prediction: 0.01</br>sepal width (cm): 2.7940000000000005</br></br>sepal length (cm): 4.6</br>petal length (cm): 1.0</br>petal width (cm): 0.2</br>_original_yhat_: 0.0</br>"
          ],
          [
           "</br>id: 22</br>prediction: 0.01</br>sepal width (cm): 2.8160000000000003</br></br>sepal length (cm): 4.6</br>petal length (cm): 1.0</br>petal width (cm): 0.2</br>_original_yhat_: 0.0</br>"
          ],
          [
           "</br>id: 22</br>prediction: 0.01</br>sepal width (cm): 2.838</br></br>sepal length (cm): 4.6</br>petal length (cm): 1.0</br>petal width (cm): 0.2</br>_original_yhat_: 0.0</br>"
          ],
          [
           "</br>id: 22</br>prediction: 0.01</br>sepal width (cm): 2.8600000000000003</br></br>sepal length (cm): 4.6</br>petal length (cm): 1.0</br>petal width (cm): 0.2</br>_original_yhat_: 0.0</br>"
          ],
          [
           "</br>id: 22</br>prediction: 0.01</br>sepal width (cm): 2.882</br></br>sepal length (cm): 4.6</br>petal length (cm): 1.0</br>petal width (cm): 0.2</br>_original_yhat_: 0.0</br>"
          ],
          [
           "</br>id: 22</br>prediction: 0.01</br>sepal width (cm): 2.9040000000000004</br></br>sepal length (cm): 4.6</br>petal length (cm): 1.0</br>petal width (cm): 0.2</br>_original_yhat_: 0.0</br>"
          ],
          [
           "</br>id: 22</br>prediction: 0.01</br>sepal width (cm): 2.926</br></br>sepal length (cm): 4.6</br>petal length (cm): 1.0</br>petal width (cm): 0.2</br>_original_yhat_: 0.0</br>"
          ],
          [
           "</br>id: 22</br>prediction: 0.01</br>sepal width (cm): 2.9480000000000004</br></br>sepal length (cm): 4.6</br>petal length (cm): 1.0</br>petal width (cm): 0.2</br>_original_yhat_: 0.0</br>"
          ],
          [
           "</br>id: 22</br>prediction: 0.0</br>sepal width (cm): 2.97</br></br>sepal length (cm): 4.6</br>petal length (cm): 1.0</br>petal width (cm): 0.2</br>_original_yhat_: 0.0</br>"
          ],
          [
           "</br>id: 22</br>prediction: 0.0</br>sepal width (cm): 2.992</br></br>sepal length (cm): 4.6</br>petal length (cm): 1.0</br>petal width (cm): 0.2</br>_original_yhat_: 0.0</br>"
          ],
          [
           "</br>id: 22</br>prediction: 0.0</br>sepal width (cm): 3.0140000000000002</br></br>sepal length (cm): 4.6</br>petal length (cm): 1.0</br>petal width (cm): 0.2</br>_original_yhat_: 0.0</br>"
          ],
          [
           "</br>id: 22</br>prediction: 0.0</br>sepal width (cm): 3.0360000000000005</br></br>sepal length (cm): 4.6</br>petal length (cm): 1.0</br>petal width (cm): 0.2</br>_original_yhat_: 0.0</br>"
          ],
          [
           "</br>id: 22</br>prediction: 0.0</br>sepal width (cm): 3.0580000000000003</br></br>sepal length (cm): 4.6</br>petal length (cm): 1.0</br>petal width (cm): 0.2</br>_original_yhat_: 0.0</br>"
          ],
          [
           "</br>id: 22</br>prediction: 0.0</br>sepal width (cm): 3.08</br></br>sepal length (cm): 4.6</br>petal length (cm): 1.0</br>petal width (cm): 0.2</br>_original_yhat_: 0.0</br>"
          ],
          [
           "</br>id: 22</br>prediction: 0.0</br>sepal width (cm): 3.1020000000000003</br></br>sepal length (cm): 4.6</br>petal length (cm): 1.0</br>petal width (cm): 0.2</br>_original_yhat_: 0.0</br>"
          ],
          [
           "</br>id: 22</br>prediction: 0.0</br>sepal width (cm): 3.124</br></br>sepal length (cm): 4.6</br>petal length (cm): 1.0</br>petal width (cm): 0.2</br>_original_yhat_: 0.0</br>"
          ],
          [
           "</br>id: 22</br>prediction: 0.0</br>sepal width (cm): 3.1460000000000004</br></br>sepal length (cm): 4.6</br>petal length (cm): 1.0</br>petal width (cm): 0.2</br>_original_yhat_: 0.0</br>"
          ],
          [
           "</br>id: 22</br>prediction: 0.0</br>sepal width (cm): 3.168</br></br>sepal length (cm): 4.6</br>petal length (cm): 1.0</br>petal width (cm): 0.2</br>_original_yhat_: 0.0</br>"
          ],
          [
           "</br>id: 22</br>prediction: 0.0</br>sepal width (cm): 3.1900000000000004</br></br>sepal length (cm): 4.6</br>petal length (cm): 1.0</br>petal width (cm): 0.2</br>_original_yhat_: 0.0</br>"
          ],
          [
           "</br>id: 22</br>prediction: 0.0</br>sepal width (cm): 3.212</br></br>sepal length (cm): 4.6</br>petal length (cm): 1.0</br>petal width (cm): 0.2</br>_original_yhat_: 0.0</br>"
          ],
          [
           "</br>id: 22</br>prediction: 0.0</br>sepal width (cm): 3.234</br></br>sepal length (cm): 4.6</br>petal length (cm): 1.0</br>petal width (cm): 0.2</br>_original_yhat_: 0.0</br>"
          ],
          [
           "</br>id: 22</br>prediction: 0.0</br>sepal width (cm): 3.2560000000000002</br></br>sepal length (cm): 4.6</br>petal length (cm): 1.0</br>petal width (cm): 0.2</br>_original_yhat_: 0.0</br>"
          ],
          [
           "</br>id: 22</br>prediction: 0.0</br>sepal width (cm): 3.2780000000000005</br></br>sepal length (cm): 4.6</br>petal length (cm): 1.0</br>petal width (cm): 0.2</br>_original_yhat_: 0.0</br>"
          ],
          [
           "</br>id: 22</br>prediction: 0.0</br>sepal width (cm): 3.3000000000000003</br></br>sepal length (cm): 4.6</br>petal length (cm): 1.0</br>petal width (cm): 0.2</br>_original_yhat_: 0.0</br>"
          ],
          [
           "</br>id: 22</br>prediction: 0.0</br>sepal width (cm): 3.322</br></br>sepal length (cm): 4.6</br>petal length (cm): 1.0</br>petal width (cm): 0.2</br>_original_yhat_: 0.0</br>"
          ],
          [
           "</br>id: 22</br>prediction: 0.0</br>sepal width (cm): 3.3440000000000003</br></br>sepal length (cm): 4.6</br>petal length (cm): 1.0</br>petal width (cm): 0.2</br>_original_yhat_: 0.0</br>"
          ],
          [
           "</br>id: 22</br>prediction: 0.0</br>sepal width (cm): 3.3660000000000005</br></br>sepal length (cm): 4.6</br>petal length (cm): 1.0</br>petal width (cm): 0.2</br>_original_yhat_: 0.0</br>"
          ],
          [
           "</br>id: 22</br>prediction: 0.0</br>sepal width (cm): 3.3880000000000003</br></br>sepal length (cm): 4.6</br>petal length (cm): 1.0</br>petal width (cm): 0.2</br>_original_yhat_: 0.0</br>"
          ],
          [
           "</br>id: 22</br>prediction: 0.0</br>sepal width (cm): 3.41</br></br>sepal length (cm): 4.6</br>petal length (cm): 1.0</br>petal width (cm): 0.2</br>_original_yhat_: 0.0</br>"
          ],
          [
           "</br>id: 22</br>prediction: 0.0</br>sepal width (cm): 3.4320000000000004</br></br>sepal length (cm): 4.6</br>petal length (cm): 1.0</br>petal width (cm): 0.2</br>_original_yhat_: 0.0</br>"
          ],
          [
           "</br>id: 22</br>prediction: 0.0</br>sepal width (cm): 3.4540000000000006</br></br>sepal length (cm): 4.6</br>petal length (cm): 1.0</br>petal width (cm): 0.2</br>_original_yhat_: 0.0</br>"
          ],
          [
           "</br>id: 22</br>prediction: 0.0</br>sepal width (cm): 3.476</br></br>sepal length (cm): 4.6</br>petal length (cm): 1.0</br>petal width (cm): 0.2</br>_original_yhat_: 0.0</br>"
          ],
          [
           "</br>id: 22</br>prediction: 0.0</br>sepal width (cm): 3.498</br></br>sepal length (cm): 4.6</br>petal length (cm): 1.0</br>petal width (cm): 0.2</br>_original_yhat_: 0.0</br>"
          ],
          [
           "</br>id: 22</br>prediction: 0.0</br>sepal width (cm): 3.5200000000000005</br></br>sepal length (cm): 4.6</br>petal length (cm): 1.0</br>petal width (cm): 0.2</br>_original_yhat_: 0.0</br>"
          ],
          [
           "</br>id: 22</br>prediction: 0.0</br>sepal width (cm): 3.5420000000000003</br></br>sepal length (cm): 4.6</br>petal length (cm): 1.0</br>petal width (cm): 0.2</br>_original_yhat_: 0.0</br>"
          ],
          [
           "</br>id: 22</br>prediction: 0.0</br>sepal width (cm): 3.564</br></br>sepal length (cm): 4.6</br>petal length (cm): 1.0</br>petal width (cm): 0.2</br>_original_yhat_: 0.0</br>"
          ],
          [
           "</br>id: 22</br>prediction: 0.0</br>sepal width (cm): 3.5860000000000003</br></br>sepal length (cm): 4.6</br>petal length (cm): 1.0</br>petal width (cm): 0.2</br>_original_yhat_: 0.0</br>"
          ],
          [
           "</br>id: 22</br>prediction: 0.0</br>sepal width (cm): 3.6</br></br>sepal length (cm): 4.6</br>petal length (cm): 1.0</br>petal width (cm): 0.2</br>_original_yhat_: 0.0</br>"
          ],
          [
           "</br>id: 22</br>prediction: 0.0</br>sepal width (cm): 3.6080000000000005</br></br>sepal length (cm): 4.6</br>petal length (cm): 1.0</br>petal width (cm): 0.2</br>_original_yhat_: 0.0</br>"
          ],
          [
           "</br>id: 22</br>prediction: 0.0</br>sepal width (cm): 3.6300000000000003</br></br>sepal length (cm): 4.6</br>petal length (cm): 1.0</br>petal width (cm): 0.2</br>_original_yhat_: 0.0</br>"
          ],
          [
           "</br>id: 22</br>prediction: 0.0</br>sepal width (cm): 3.652</br></br>sepal length (cm): 4.6</br>petal length (cm): 1.0</br>petal width (cm): 0.2</br>_original_yhat_: 0.0</br>"
          ],
          [
           "</br>id: 22</br>prediction: 0.0</br>sepal width (cm): 3.6740000000000004</br></br>sepal length (cm): 4.6</br>petal length (cm): 1.0</br>petal width (cm): 0.2</br>_original_yhat_: 0.0</br>"
          ],
          [
           "</br>id: 22</br>prediction: 0.0</br>sepal width (cm): 3.6960000000000006</br></br>sepal length (cm): 4.6</br>petal length (cm): 1.0</br>petal width (cm): 0.2</br>_original_yhat_: 0.0</br>"
          ],
          [
           "</br>id: 22</br>prediction: 0.0</br>sepal width (cm): 3.7180000000000004</br></br>sepal length (cm): 4.6</br>petal length (cm): 1.0</br>petal width (cm): 0.2</br>_original_yhat_: 0.0</br>"
          ],
          [
           "</br>id: 22</br>prediction: 0.0</br>sepal width (cm): 3.74</br></br>sepal length (cm): 4.6</br>petal length (cm): 1.0</br>petal width (cm): 0.2</br>_original_yhat_: 0.0</br>"
          ],
          [
           "</br>id: 22</br>prediction: 0.0</br>sepal width (cm): 3.7620000000000005</br></br>sepal length (cm): 4.6</br>petal length (cm): 1.0</br>petal width (cm): 0.2</br>_original_yhat_: 0.0</br>"
          ],
          [
           "</br>id: 22</br>prediction: 0.0</br>sepal width (cm): 3.7840000000000003</br></br>sepal length (cm): 4.6</br>petal length (cm): 1.0</br>petal width (cm): 0.2</br>_original_yhat_: 0.0</br>"
          ],
          [
           "</br>id: 22</br>prediction: 0.0</br>sepal width (cm): 3.806</br></br>sepal length (cm): 4.6</br>petal length (cm): 1.0</br>petal width (cm): 0.2</br>_original_yhat_: 0.0</br>"
          ],
          [
           "</br>id: 22</br>prediction: 0.0</br>sepal width (cm): 3.8280000000000003</br></br>sepal length (cm): 4.6</br>petal length (cm): 1.0</br>petal width (cm): 0.2</br>_original_yhat_: 0.0</br>"
          ],
          [
           "</br>id: 22</br>prediction: 0.0</br>sepal width (cm): 3.8500000000000005</br></br>sepal length (cm): 4.6</br>petal length (cm): 1.0</br>petal width (cm): 0.2</br>_original_yhat_: 0.0</br>"
          ],
          [
           "</br>id: 22</br>prediction: 0.0</br>sepal width (cm): 3.8720000000000003</br></br>sepal length (cm): 4.6</br>petal length (cm): 1.0</br>petal width (cm): 0.2</br>_original_yhat_: 0.0</br>"
          ],
          [
           "</br>id: 22</br>prediction: 0.0</br>sepal width (cm): 3.894</br></br>sepal length (cm): 4.6</br>petal length (cm): 1.0</br>petal width (cm): 0.2</br>_original_yhat_: 0.0</br>"
          ],
          [
           "</br>id: 22</br>prediction: 0.0</br>sepal width (cm): 3.9160000000000004</br></br>sepal length (cm): 4.6</br>petal length (cm): 1.0</br>petal width (cm): 0.2</br>_original_yhat_: 0.0</br>"
          ],
          [
           "</br>id: 22</br>prediction: 0.0</br>sepal width (cm): 3.9380000000000006</br></br>sepal length (cm): 4.6</br>petal length (cm): 1.0</br>petal width (cm): 0.2</br>_original_yhat_: 0.0</br>"
          ],
          [
           "</br>id: 22</br>prediction: 0.0</br>sepal width (cm): 3.9600000000000004</br></br>sepal length (cm): 4.6</br>petal length (cm): 1.0</br>petal width (cm): 0.2</br>_original_yhat_: 0.0</br>"
          ],
          [
           "</br>id: 22</br>prediction: 0.0</br>sepal width (cm): 3.982</br></br>sepal length (cm): 4.6</br>petal length (cm): 1.0</br>petal width (cm): 0.2</br>_original_yhat_: 0.0</br>"
          ],
          [
           "</br>id: 22</br>prediction: 0.0</br>sepal width (cm): 4.0040000000000004</br></br>sepal length (cm): 4.6</br>petal length (cm): 1.0</br>petal width (cm): 0.2</br>_original_yhat_: 0.0</br>"
          ],
          [
           "</br>id: 22</br>prediction: 0.0</br>sepal width (cm): 4.026000000000001</br></br>sepal length (cm): 4.6</br>petal length (cm): 1.0</br>petal width (cm): 0.2</br>_original_yhat_: 0.0</br>"
          ],
          [
           "</br>id: 22</br>prediction: 0.0</br>sepal width (cm): 4.048</br></br>sepal length (cm): 4.6</br>petal length (cm): 1.0</br>petal width (cm): 0.2</br>_original_yhat_: 0.0</br>"
          ],
          [
           "</br>id: 22</br>prediction: 0.0</br>sepal width (cm): 4.07</br></br>sepal length (cm): 4.6</br>petal length (cm): 1.0</br>petal width (cm): 0.2</br>_original_yhat_: 0.0</br>"
          ],
          [
           "</br>id: 22</br>prediction: 0.0</br>sepal width (cm): 4.0920000000000005</br></br>sepal length (cm): 4.6</br>petal length (cm): 1.0</br>petal width (cm): 0.2</br>_original_yhat_: 0.0</br>"
          ],
          [
           "</br>id: 22</br>prediction: 0.0</br>sepal width (cm): 4.114000000000001</br></br>sepal length (cm): 4.6</br>petal length (cm): 1.0</br>petal width (cm): 0.2</br>_original_yhat_: 0.0</br>"
          ],
          [
           "</br>id: 22</br>prediction: 0.0</br>sepal width (cm): 4.136</br></br>sepal length (cm): 4.6</br>petal length (cm): 1.0</br>petal width (cm): 0.2</br>_original_yhat_: 0.0</br>"
          ],
          [
           "</br>id: 22</br>prediction: 0.0</br>sepal width (cm): 4.158</br></br>sepal length (cm): 4.6</br>petal length (cm): 1.0</br>petal width (cm): 0.2</br>_original_yhat_: 0.0</br>"
          ],
          [
           "</br>id: 22</br>prediction: 0.0</br>sepal width (cm): 4.180000000000001</br></br>sepal length (cm): 4.6</br>petal length (cm): 1.0</br>petal width (cm): 0.2</br>_original_yhat_: 0.0</br>"
          ],
          [
           "</br>id: 22</br>prediction: 0.0</br>sepal width (cm): 4.202</br></br>sepal length (cm): 4.6</br>petal length (cm): 1.0</br>petal width (cm): 0.2</br>_original_yhat_: 0.0</br>"
          ],
          [
           "</br>id: 22</br>prediction: 0.0</br>sepal width (cm): 4.224</br></br>sepal length (cm): 4.6</br>petal length (cm): 1.0</br>petal width (cm): 0.2</br>_original_yhat_: 0.0</br>"
          ],
          [
           "</br>id: 22</br>prediction: 0.0</br>sepal width (cm): 4.246</br></br>sepal length (cm): 4.6</br>petal length (cm): 1.0</br>petal width (cm): 0.2</br>_original_yhat_: 0.0</br>"
          ],
          [
           "</br>id: 22</br>prediction: 0.0</br>sepal width (cm): 4.268000000000001</br></br>sepal length (cm): 4.6</br>petal length (cm): 1.0</br>petal width (cm): 0.2</br>_original_yhat_: 0.0</br>"
          ],
          [
           "</br>id: 22</br>prediction: 0.0</br>sepal width (cm): 4.290000000000001</br></br>sepal length (cm): 4.6</br>petal length (cm): 1.0</br>petal width (cm): 0.2</br>_original_yhat_: 0.0</br>"
          ],
          [
           "</br>id: 22</br>prediction: 0.0</br>sepal width (cm): 4.312</br></br>sepal length (cm): 4.6</br>petal length (cm): 1.0</br>petal width (cm): 0.2</br>_original_yhat_: 0.0</br>"
          ],
          [
           "</br>id: 22</br>prediction: 0.0</br>sepal width (cm): 4.3340000000000005</br></br>sepal length (cm): 4.6</br>petal length (cm): 1.0</br>petal width (cm): 0.2</br>_original_yhat_: 0.0</br>"
          ],
          [
           "</br>id: 22</br>prediction: 0.0</br>sepal width (cm): 4.356</br></br>sepal length (cm): 4.6</br>petal length (cm): 1.0</br>petal width (cm): 0.2</br>_original_yhat_: 0.0</br>"
          ],
          [
           "</br>id: 22</br>prediction: 0.0</br>sepal width (cm): 4.378</br></br>sepal length (cm): 4.6</br>petal length (cm): 1.0</br>petal width (cm): 0.2</br>_original_yhat_: 0.0</br>"
          ],
          [
           "</br>id: 22</br>prediction: 0.0</br>sepal width (cm): 4.4</br></br>sepal length (cm): 4.6</br>petal length (cm): 1.0</br>petal width (cm): 0.2</br>_original_yhat_: 0.0</br>"
          ]
         ],
         "hovertemplate": "%{customdata[0]}<extra></extra>",
         "legendgroup": "setosa, versicolor, virginica",
         "line": {
          "color": "#46bac2",
          "dash": "solid",
          "width": 2
         },
         "marker": {
          "symbol": "circle"
         },
         "mode": "lines",
         "name": "setosa, versicolor, virginica",
         "opacity": 1,
         "orientation": "v",
         "showlegend": false,
         "type": "scatter",
         "x": [
          2.2,
          2.222,
          2.244,
          2.266,
          2.2880000000000003,
          2.31,
          2.3320000000000003,
          2.354,
          2.3760000000000003,
          2.398,
          2.4200000000000004,
          2.442,
          2.4640000000000004,
          2.486,
          2.508,
          2.5300000000000002,
          2.552,
          2.5740000000000003,
          2.596,
          2.6180000000000003,
          2.64,
          2.6620000000000004,
          2.684,
          2.7060000000000004,
          2.728,
          2.75,
          2.7720000000000002,
          2.7940000000000005,
          2.8160000000000003,
          2.838,
          2.8600000000000003,
          2.882,
          2.9040000000000004,
          2.926,
          2.9480000000000004,
          2.97,
          2.992,
          3.0140000000000002,
          3.0360000000000005,
          3.0580000000000003,
          3.08,
          3.1020000000000003,
          3.124,
          3.1460000000000004,
          3.168,
          3.1900000000000004,
          3.212,
          3.234,
          3.2560000000000002,
          3.2780000000000005,
          3.3000000000000003,
          3.322,
          3.3440000000000003,
          3.3660000000000005,
          3.3880000000000003,
          3.41,
          3.4320000000000004,
          3.4540000000000006,
          3.476,
          3.498,
          3.5200000000000005,
          3.5420000000000003,
          3.564,
          3.5860000000000003,
          3.6,
          3.6080000000000005,
          3.6300000000000003,
          3.652,
          3.6740000000000004,
          3.6960000000000006,
          3.7180000000000004,
          3.74,
          3.7620000000000005,
          3.7840000000000003,
          3.806,
          3.8280000000000003,
          3.8500000000000005,
          3.8720000000000003,
          3.894,
          3.9160000000000004,
          3.9380000000000006,
          3.9600000000000004,
          3.982,
          4.0040000000000004,
          4.026000000000001,
          4.048,
          4.07,
          4.0920000000000005,
          4.114000000000001,
          4.136,
          4.158,
          4.180000000000001,
          4.202,
          4.224,
          4.246,
          4.268000000000001,
          4.290000000000001,
          4.312,
          4.3340000000000005,
          4.356,
          4.378,
          4.4
         ],
         "xaxis": "x4",
         "y": [
          0.01,
          0.01,
          0.01,
          0.01,
          0.01,
          0.01,
          0.01,
          0.01,
          0.01,
          0.01,
          0.01,
          0.01,
          0.01,
          0.01,
          0.01,
          0.01,
          0.01,
          0.01,
          0.01,
          0.01,
          0.01,
          0.01,
          0.01,
          0.01,
          0.01,
          0.01,
          0.01,
          0.01,
          0.01,
          0.01,
          0.01,
          0.01,
          0.01,
          0.01,
          0.01,
          0,
          0,
          0,
          0,
          0,
          0,
          0,
          0,
          0,
          0,
          0,
          0,
          0,
          0,
          0,
          0,
          0,
          0,
          0,
          0,
          0,
          0,
          0,
          0,
          0,
          0,
          0,
          0,
          0,
          0,
          0,
          0,
          0,
          0,
          0,
          0,
          0,
          0,
          0,
          0,
          0,
          0,
          0,
          0,
          0,
          0,
          0,
          0,
          0,
          0,
          0,
          0,
          0,
          0,
          0,
          0,
          0,
          0,
          0,
          0,
          0,
          0,
          0,
          0,
          0,
          0,
          0
         ],
         "yaxis": "y4"
        },
        {
         "customdata": [
          [
           "</br>id: 22</br>prediction: 0.0</br>petal length (cm): 1.0</br></br>sepal length (cm): 4.6</br>sepal width (cm): 3.6</br>petal width (cm): 0.2</br>_original_yhat_: 0.0</br>"
          ],
          [
           "</br>id: 22</br>prediction: 0.0</br>petal length (cm): 1.059</br></br>sepal length (cm): 4.6</br>sepal width (cm): 3.6</br>petal width (cm): 0.2</br>_original_yhat_: 0.0</br>"
          ],
          [
           "</br>id: 22</br>prediction: 0.0</br>petal length (cm): 1.118</br></br>sepal length (cm): 4.6</br>sepal width (cm): 3.6</br>petal width (cm): 0.2</br>_original_yhat_: 0.0</br>"
          ],
          [
           "</br>id: 22</br>prediction: 0.0</br>petal length (cm): 1.177</br></br>sepal length (cm): 4.6</br>sepal width (cm): 3.6</br>petal width (cm): 0.2</br>_original_yhat_: 0.0</br>"
          ],
          [
           "</br>id: 22</br>prediction: 0.0</br>petal length (cm): 1.236</br></br>sepal length (cm): 4.6</br>sepal width (cm): 3.6</br>petal width (cm): 0.2</br>_original_yhat_: 0.0</br>"
          ],
          [
           "</br>id: 22</br>prediction: 0.0</br>petal length (cm): 1.295</br></br>sepal length (cm): 4.6</br>sepal width (cm): 3.6</br>petal width (cm): 0.2</br>_original_yhat_: 0.0</br>"
          ],
          [
           "</br>id: 22</br>prediction: 0.0</br>petal length (cm): 1.354</br></br>sepal length (cm): 4.6</br>sepal width (cm): 3.6</br>petal width (cm): 0.2</br>_original_yhat_: 0.0</br>"
          ],
          [
           "</br>id: 22</br>prediction: 0.0</br>petal length (cm): 1.413</br></br>sepal length (cm): 4.6</br>sepal width (cm): 3.6</br>petal width (cm): 0.2</br>_original_yhat_: 0.0</br>"
          ],
          [
           "</br>id: 22</br>prediction: 0.0</br>petal length (cm): 1.472</br></br>sepal length (cm): 4.6</br>sepal width (cm): 3.6</br>petal width (cm): 0.2</br>_original_yhat_: 0.0</br>"
          ],
          [
           "</br>id: 22</br>prediction: 0.0</br>petal length (cm): 1.5310000000000001</br></br>sepal length (cm): 4.6</br>sepal width (cm): 3.6</br>petal width (cm): 0.2</br>_original_yhat_: 0.0</br>"
          ],
          [
           "</br>id: 22</br>prediction: 0.0</br>petal length (cm): 1.59</br></br>sepal length (cm): 4.6</br>sepal width (cm): 3.6</br>petal width (cm): 0.2</br>_original_yhat_: 0.0</br>"
          ],
          [
           "</br>id: 22</br>prediction: 0.0</br>petal length (cm): 1.649</br></br>sepal length (cm): 4.6</br>sepal width (cm): 3.6</br>petal width (cm): 0.2</br>_original_yhat_: 0.0</br>"
          ],
          [
           "</br>id: 22</br>prediction: 0.0</br>petal length (cm): 1.7080000000000002</br></br>sepal length (cm): 4.6</br>sepal width (cm): 3.6</br>petal width (cm): 0.2</br>_original_yhat_: 0.0</br>"
          ],
          [
           "</br>id: 22</br>prediction: 0.0</br>petal length (cm): 1.767</br></br>sepal length (cm): 4.6</br>sepal width (cm): 3.6</br>petal width (cm): 0.2</br>_original_yhat_: 0.0</br>"
          ],
          [
           "</br>id: 22</br>prediction: 0.0</br>petal length (cm): 1.826</br></br>sepal length (cm): 4.6</br>sepal width (cm): 3.6</br>petal width (cm): 0.2</br>_original_yhat_: 0.0</br>"
          ],
          [
           "</br>id: 22</br>prediction: 0.0</br>petal length (cm): 1.885</br></br>sepal length (cm): 4.6</br>sepal width (cm): 3.6</br>petal width (cm): 0.2</br>_original_yhat_: 0.0</br>"
          ],
          [
           "</br>id: 22</br>prediction: 0.0</br>petal length (cm): 1.944</br></br>sepal length (cm): 4.6</br>sepal width (cm): 3.6</br>petal width (cm): 0.2</br>_original_yhat_: 0.0</br>"
          ],
          [
           "</br>id: 22</br>prediction: 0.0</br>petal length (cm): 2.003</br></br>sepal length (cm): 4.6</br>sepal width (cm): 3.6</br>petal width (cm): 0.2</br>_original_yhat_: 0.0</br>"
          ],
          [
           "</br>id: 22</br>prediction: 0.0</br>petal length (cm): 2.0620000000000003</br></br>sepal length (cm): 4.6</br>sepal width (cm): 3.6</br>petal width (cm): 0.2</br>_original_yhat_: 0.0</br>"
          ],
          [
           "</br>id: 22</br>prediction: 0.0</br>petal length (cm): 2.121</br></br>sepal length (cm): 4.6</br>sepal width (cm): 3.6</br>petal width (cm): 0.2</br>_original_yhat_: 0.0</br>"
          ],
          [
           "</br>id: 22</br>prediction: 0.0</br>petal length (cm): 2.18</br></br>sepal length (cm): 4.6</br>sepal width (cm): 3.6</br>petal width (cm): 0.2</br>_original_yhat_: 0.0</br>"
          ],
          [
           "</br>id: 22</br>prediction: 0.0</br>petal length (cm): 2.239</br></br>sepal length (cm): 4.6</br>sepal width (cm): 3.6</br>petal width (cm): 0.2</br>_original_yhat_: 0.0</br>"
          ],
          [
           "</br>id: 22</br>prediction: 0.0</br>petal length (cm): 2.298</br></br>sepal length (cm): 4.6</br>sepal width (cm): 3.6</br>petal width (cm): 0.2</br>_original_yhat_: 0.0</br>"
          ],
          [
           "</br>id: 22</br>prediction: 0.03</br>petal length (cm): 2.357</br></br>sepal length (cm): 4.6</br>sepal width (cm): 3.6</br>petal width (cm): 0.2</br>_original_yhat_: 0.0</br>"
          ],
          [
           "</br>id: 22</br>prediction: 0.03</br>petal length (cm): 2.4160000000000004</br></br>sepal length (cm): 4.6</br>sepal width (cm): 3.6</br>petal width (cm): 0.2</br>_original_yhat_: 0.0</br>"
          ],
          [
           "</br>id: 22</br>prediction: 0.25</br>petal length (cm): 2.475</br></br>sepal length (cm): 4.6</br>sepal width (cm): 3.6</br>petal width (cm): 0.2</br>_original_yhat_: 0.0</br>"
          ],
          [
           "</br>id: 22</br>prediction: 0.27</br>petal length (cm): 2.534</br></br>sepal length (cm): 4.6</br>sepal width (cm): 3.6</br>petal width (cm): 0.2</br>_original_yhat_: 0.0</br>"
          ],
          [
           "</br>id: 22</br>prediction: 0.27</br>petal length (cm): 2.593</br></br>sepal length (cm): 4.6</br>sepal width (cm): 3.6</br>petal width (cm): 0.2</br>_original_yhat_: 0.0</br>"
          ],
          [
           "</br>id: 22</br>prediction: 0.41</br>petal length (cm): 2.652</br></br>sepal length (cm): 4.6</br>sepal width (cm): 3.6</br>petal width (cm): 0.2</br>_original_yhat_: 0.0</br>"
          ],
          [
           "</br>id: 22</br>prediction: 0.42</br>petal length (cm): 2.7110000000000003</br></br>sepal length (cm): 4.6</br>sepal width (cm): 3.6</br>petal width (cm): 0.2</br>_original_yhat_: 0.0</br>"
          ],
          [
           "</br>id: 22</br>prediction: 0.42</br>petal length (cm): 2.77</br></br>sepal length (cm): 4.6</br>sepal width (cm): 3.6</br>petal width (cm): 0.2</br>_original_yhat_: 0.0</br>"
          ],
          [
           "</br>id: 22</br>prediction: 0.42</br>petal length (cm): 2.829</br></br>sepal length (cm): 4.6</br>sepal width (cm): 3.6</br>petal width (cm): 0.2</br>_original_yhat_: 0.0</br>"
          ],
          [
           "</br>id: 22</br>prediction: 0.42</br>petal length (cm): 2.888</br></br>sepal length (cm): 4.6</br>sepal width (cm): 3.6</br>petal width (cm): 0.2</br>_original_yhat_: 0.0</br>"
          ],
          [
           "</br>id: 22</br>prediction: 0.42</br>petal length (cm): 2.947</br></br>sepal length (cm): 4.6</br>sepal width (cm): 3.6</br>petal width (cm): 0.2</br>_original_yhat_: 0.0</br>"
          ],
          [
           "</br>id: 22</br>prediction: 0.42</br>petal length (cm): 3.0060000000000002</br></br>sepal length (cm): 4.6</br>sepal width (cm): 3.6</br>petal width (cm): 0.2</br>_original_yhat_: 0.0</br>"
          ],
          [
           "</br>id: 22</br>prediction: 0.42</br>petal length (cm): 3.065</br></br>sepal length (cm): 4.6</br>sepal width (cm): 3.6</br>petal width (cm): 0.2</br>_original_yhat_: 0.0</br>"
          ],
          [
           "</br>id: 22</br>prediction: 0.42</br>petal length (cm): 3.124</br></br>sepal length (cm): 4.6</br>sepal width (cm): 3.6</br>petal width (cm): 0.2</br>_original_yhat_: 0.0</br>"
          ],
          [
           "</br>id: 22</br>prediction: 0.42</br>petal length (cm): 3.1830000000000003</br></br>sepal length (cm): 4.6</br>sepal width (cm): 3.6</br>petal width (cm): 0.2</br>_original_yhat_: 0.0</br>"
          ],
          [
           "</br>id: 22</br>prediction: 0.42</br>petal length (cm): 3.242</br></br>sepal length (cm): 4.6</br>sepal width (cm): 3.6</br>petal width (cm): 0.2</br>_original_yhat_: 0.0</br>"
          ],
          [
           "</br>id: 22</br>prediction: 0.44</br>petal length (cm): 3.301</br></br>sepal length (cm): 4.6</br>sepal width (cm): 3.6</br>petal width (cm): 0.2</br>_original_yhat_: 0.0</br>"
          ],
          [
           "</br>id: 22</br>prediction: 0.44</br>petal length (cm): 3.3600000000000003</br></br>sepal length (cm): 4.6</br>sepal width (cm): 3.6</br>petal width (cm): 0.2</br>_original_yhat_: 0.0</br>"
          ],
          [
           "</br>id: 22</br>prediction: 0.44</br>petal length (cm): 3.419</br></br>sepal length (cm): 4.6</br>sepal width (cm): 3.6</br>petal width (cm): 0.2</br>_original_yhat_: 0.0</br>"
          ],
          [
           "</br>id: 22</br>prediction: 0.44</br>petal length (cm): 3.478</br></br>sepal length (cm): 4.6</br>sepal width (cm): 3.6</br>petal width (cm): 0.2</br>_original_yhat_: 0.0</br>"
          ],
          [
           "</br>id: 22</br>prediction: 0.44</br>petal length (cm): 3.5370000000000004</br></br>sepal length (cm): 4.6</br>sepal width (cm): 3.6</br>petal width (cm): 0.2</br>_original_yhat_: 0.0</br>"
          ],
          [
           "</br>id: 22</br>prediction: 0.44</br>petal length (cm): 3.596</br></br>sepal length (cm): 4.6</br>sepal width (cm): 3.6</br>petal width (cm): 0.2</br>_original_yhat_: 0.0</br>"
          ],
          [
           "</br>id: 22</br>prediction: 0.44</br>petal length (cm): 3.6550000000000002</br></br>sepal length (cm): 4.6</br>sepal width (cm): 3.6</br>petal width (cm): 0.2</br>_original_yhat_: 0.0</br>"
          ],
          [
           "</br>id: 22</br>prediction: 0.44</br>petal length (cm): 3.714</br></br>sepal length (cm): 4.6</br>sepal width (cm): 3.6</br>petal width (cm): 0.2</br>_original_yhat_: 0.0</br>"
          ],
          [
           "</br>id: 22</br>prediction: 0.44</br>petal length (cm): 3.773</br></br>sepal length (cm): 4.6</br>sepal width (cm): 3.6</br>petal width (cm): 0.2</br>_original_yhat_: 0.0</br>"
          ],
          [
           "</br>id: 22</br>prediction: 0.44</br>petal length (cm): 3.8320000000000003</br></br>sepal length (cm): 4.6</br>sepal width (cm): 3.6</br>petal width (cm): 0.2</br>_original_yhat_: 0.0</br>"
          ],
          [
           "</br>id: 22</br>prediction: 0.44</br>petal length (cm): 3.891</br></br>sepal length (cm): 4.6</br>sepal width (cm): 3.6</br>petal width (cm): 0.2</br>_original_yhat_: 0.0</br>"
          ],
          [
           "</br>id: 22</br>prediction: 0.44</br>petal length (cm): 3.95</br></br>sepal length (cm): 4.6</br>sepal width (cm): 3.6</br>petal width (cm): 0.2</br>_original_yhat_: 0.0</br>"
          ],
          [
           "</br>id: 22</br>prediction: 0.43</br>petal length (cm): 4.009</br></br>sepal length (cm): 4.6</br>sepal width (cm): 3.6</br>petal width (cm): 0.2</br>_original_yhat_: 0.0</br>"
          ],
          [
           "</br>id: 22</br>prediction: 0.43</br>petal length (cm): 4.068</br></br>sepal length (cm): 4.6</br>sepal width (cm): 3.6</br>petal width (cm): 0.2</br>_original_yhat_: 0.0</br>"
          ],
          [
           "</br>id: 22</br>prediction: 0.43</br>petal length (cm): 4.127000000000001</br></br>sepal length (cm): 4.6</br>sepal width (cm): 3.6</br>petal width (cm): 0.2</br>_original_yhat_: 0.0</br>"
          ],
          [
           "</br>id: 22</br>prediction: 0.43</br>petal length (cm): 4.186</br></br>sepal length (cm): 4.6</br>sepal width (cm): 3.6</br>petal width (cm): 0.2</br>_original_yhat_: 0.0</br>"
          ],
          [
           "</br>id: 22</br>prediction: 0.43</br>petal length (cm): 4.245</br></br>sepal length (cm): 4.6</br>sepal width (cm): 3.6</br>petal width (cm): 0.2</br>_original_yhat_: 0.0</br>"
          ],
          [
           "</br>id: 22</br>prediction: 0.43</br>petal length (cm): 4.304</br></br>sepal length (cm): 4.6</br>sepal width (cm): 3.6</br>petal width (cm): 0.2</br>_original_yhat_: 0.0</br>"
          ],
          [
           "</br>id: 22</br>prediction: 0.43</br>petal length (cm): 4.363</br></br>sepal length (cm): 4.6</br>sepal width (cm): 3.6</br>petal width (cm): 0.2</br>_original_yhat_: 0.0</br>"
          ],
          [
           "</br>id: 22</br>prediction: 0.43</br>petal length (cm): 4.422000000000001</br></br>sepal length (cm): 4.6</br>sepal width (cm): 3.6</br>petal width (cm): 0.2</br>_original_yhat_: 0.0</br>"
          ],
          [
           "</br>id: 22</br>prediction: 0.4</br>petal length (cm): 4.481</br></br>sepal length (cm): 4.6</br>sepal width (cm): 3.6</br>petal width (cm): 0.2</br>_original_yhat_: 0.0</br>"
          ],
          [
           "</br>id: 22</br>prediction: 0.4</br>petal length (cm): 4.54</br></br>sepal length (cm): 4.6</br>sepal width (cm): 3.6</br>petal width (cm): 0.2</br>_original_yhat_: 0.0</br>"
          ],
          [
           "</br>id: 22</br>prediction: 0.41</br>petal length (cm): 4.599</br></br>sepal length (cm): 4.6</br>sepal width (cm): 3.6</br>petal width (cm): 0.2</br>_original_yhat_: 0.0</br>"
          ],
          [
           "</br>id: 22</br>prediction: 0.41</br>petal length (cm): 4.658</br></br>sepal length (cm): 4.6</br>sepal width (cm): 3.6</br>petal width (cm): 0.2</br>_original_yhat_: 0.0</br>"
          ],
          [
           "</br>id: 22</br>prediction: 0.41</br>petal length (cm): 4.7170000000000005</br></br>sepal length (cm): 4.6</br>sepal width (cm): 3.6</br>petal width (cm): 0.2</br>_original_yhat_: 0.0</br>"
          ],
          [
           "</br>id: 22</br>prediction: 0.41</br>petal length (cm): 4.776</br></br>sepal length (cm): 4.6</br>sepal width (cm): 3.6</br>petal width (cm): 0.2</br>_original_yhat_: 0.0</br>"
          ],
          [
           "</br>id: 22</br>prediction: 0.41</br>petal length (cm): 4.835000000000001</br></br>sepal length (cm): 4.6</br>sepal width (cm): 3.6</br>petal width (cm): 0.2</br>_original_yhat_: 0.0</br>"
          ],
          [
           "</br>id: 22</br>prediction: 0.4</br>petal length (cm): 4.894</br></br>sepal length (cm): 4.6</br>sepal width (cm): 3.6</br>petal width (cm): 0.2</br>_original_yhat_: 0.0</br>"
          ],
          [
           "</br>id: 22</br>prediction: 0.34</br>petal length (cm): 4.953</br></br>sepal length (cm): 4.6</br>sepal width (cm): 3.6</br>petal width (cm): 0.2</br>_original_yhat_: 0.0</br>"
          ],
          [
           "</br>id: 22</br>prediction: 0.29</br>petal length (cm): 5.0120000000000005</br></br>sepal length (cm): 4.6</br>sepal width (cm): 3.6</br>petal width (cm): 0.2</br>_original_yhat_: 0.0</br>"
          ],
          [
           "</br>id: 22</br>prediction: 0.3</br>petal length (cm): 5.071000000000001</br></br>sepal length (cm): 4.6</br>sepal width (cm): 3.6</br>petal width (cm): 0.2</br>_original_yhat_: 0.0</br>"
          ],
          [
           "</br>id: 22</br>prediction: 0.3</br>petal length (cm): 5.13</br></br>sepal length (cm): 4.6</br>sepal width (cm): 3.6</br>petal width (cm): 0.2</br>_original_yhat_: 0.0</br>"
          ],
          [
           "</br>id: 22</br>prediction: 0.29</br>petal length (cm): 5.189</br></br>sepal length (cm): 4.6</br>sepal width (cm): 3.6</br>petal width (cm): 0.2</br>_original_yhat_: 0.0</br>"
          ],
          [
           "</br>id: 22</br>prediction: 0.28</br>petal length (cm): 5.248</br></br>sepal length (cm): 4.6</br>sepal width (cm): 3.6</br>petal width (cm): 0.2</br>_original_yhat_: 0.0</br>"
          ],
          [
           "</br>id: 22</br>prediction: 0.24</br>petal length (cm): 5.307</br></br>sepal length (cm): 4.6</br>sepal width (cm): 3.6</br>petal width (cm): 0.2</br>_original_yhat_: 0.0</br>"
          ],
          [
           "</br>id: 22</br>prediction: 0.23</br>petal length (cm): 5.3660000000000005</br></br>sepal length (cm): 4.6</br>sepal width (cm): 3.6</br>petal width (cm): 0.2</br>_original_yhat_: 0.0</br>"
          ],
          [
           "</br>id: 22</br>prediction: 0.23</br>petal length (cm): 5.425000000000001</br></br>sepal length (cm): 4.6</br>sepal width (cm): 3.6</br>petal width (cm): 0.2</br>_original_yhat_: 0.0</br>"
          ],
          [
           "</br>id: 22</br>prediction: 0.22</br>petal length (cm): 5.484</br></br>sepal length (cm): 4.6</br>sepal width (cm): 3.6</br>petal width (cm): 0.2</br>_original_yhat_: 0.0</br>"
          ],
          [
           "</br>id: 22</br>prediction: 0.22</br>petal length (cm): 5.543</br></br>sepal length (cm): 4.6</br>sepal width (cm): 3.6</br>petal width (cm): 0.2</br>_original_yhat_: 0.0</br>"
          ],
          [
           "</br>id: 22</br>prediction: 0.22</br>petal length (cm): 5.602</br></br>sepal length (cm): 4.6</br>sepal width (cm): 3.6</br>petal width (cm): 0.2</br>_original_yhat_: 0.0</br>"
          ],
          [
           "</br>id: 22</br>prediction: 0.22</br>petal length (cm): 5.6610000000000005</br></br>sepal length (cm): 4.6</br>sepal width (cm): 3.6</br>petal width (cm): 0.2</br>_original_yhat_: 0.0</br>"
          ],
          [
           "</br>id: 22</br>prediction: 0.22</br>petal length (cm): 5.720000000000001</br></br>sepal length (cm): 4.6</br>sepal width (cm): 3.6</br>petal width (cm): 0.2</br>_original_yhat_: 0.0</br>"
          ],
          [
           "</br>id: 22</br>prediction: 0.22</br>petal length (cm): 5.779</br></br>sepal length (cm): 4.6</br>sepal width (cm): 3.6</br>petal width (cm): 0.2</br>_original_yhat_: 0.0</br>"
          ],
          [
           "</br>id: 22</br>prediction: 0.22</br>petal length (cm): 5.838</br></br>sepal length (cm): 4.6</br>sepal width (cm): 3.6</br>petal width (cm): 0.2</br>_original_yhat_: 0.0</br>"
          ],
          [
           "</br>id: 22</br>prediction: 0.22</br>petal length (cm): 5.897</br></br>sepal length (cm): 4.6</br>sepal width (cm): 3.6</br>petal width (cm): 0.2</br>_original_yhat_: 0.0</br>"
          ],
          [
           "</br>id: 22</br>prediction: 0.22</br>petal length (cm): 5.956</br></br>sepal length (cm): 4.6</br>sepal width (cm): 3.6</br>petal width (cm): 0.2</br>_original_yhat_: 0.0</br>"
          ],
          [
           "</br>id: 22</br>prediction: 0.22</br>petal length (cm): 6.015000000000001</br></br>sepal length (cm): 4.6</br>sepal width (cm): 3.6</br>petal width (cm): 0.2</br>_original_yhat_: 0.0</br>"
          ],
          [
           "</br>id: 22</br>prediction: 0.22</br>petal length (cm): 6.074000000000001</br></br>sepal length (cm): 4.6</br>sepal width (cm): 3.6</br>petal width (cm): 0.2</br>_original_yhat_: 0.0</br>"
          ],
          [
           "</br>id: 22</br>prediction: 0.22</br>petal length (cm): 6.133</br></br>sepal length (cm): 4.6</br>sepal width (cm): 3.6</br>petal width (cm): 0.2</br>_original_yhat_: 0.0</br>"
          ],
          [
           "</br>id: 22</br>prediction: 0.22</br>petal length (cm): 6.192</br></br>sepal length (cm): 4.6</br>sepal width (cm): 3.6</br>petal width (cm): 0.2</br>_original_yhat_: 0.0</br>"
          ],
          [
           "</br>id: 22</br>prediction: 0.22</br>petal length (cm): 6.251</br></br>sepal length (cm): 4.6</br>sepal width (cm): 3.6</br>petal width (cm): 0.2</br>_original_yhat_: 0.0</br>"
          ],
          [
           "</br>id: 22</br>prediction: 0.22</br>petal length (cm): 6.3100000000000005</br></br>sepal length (cm): 4.6</br>sepal width (cm): 3.6</br>petal width (cm): 0.2</br>_original_yhat_: 0.0</br>"
          ],
          [
           "</br>id: 22</br>prediction: 0.22</br>petal length (cm): 6.369000000000001</br></br>sepal length (cm): 4.6</br>sepal width (cm): 3.6</br>petal width (cm): 0.2</br>_original_yhat_: 0.0</br>"
          ],
          [
           "</br>id: 22</br>prediction: 0.22</br>petal length (cm): 6.428</br></br>sepal length (cm): 4.6</br>sepal width (cm): 3.6</br>petal width (cm): 0.2</br>_original_yhat_: 0.0</br>"
          ],
          [
           "</br>id: 22</br>prediction: 0.22</br>petal length (cm): 6.487</br></br>sepal length (cm): 4.6</br>sepal width (cm): 3.6</br>petal width (cm): 0.2</br>_original_yhat_: 0.0</br>"
          ],
          [
           "</br>id: 22</br>prediction: 0.22</br>petal length (cm): 6.546</br></br>sepal length (cm): 4.6</br>sepal width (cm): 3.6</br>petal width (cm): 0.2</br>_original_yhat_: 0.0</br>"
          ],
          [
           "</br>id: 22</br>prediction: 0.22</br>petal length (cm): 6.605</br></br>sepal length (cm): 4.6</br>sepal width (cm): 3.6</br>petal width (cm): 0.2</br>_original_yhat_: 0.0</br>"
          ],
          [
           "</br>id: 22</br>prediction: 0.22</br>petal length (cm): 6.664000000000001</br></br>sepal length (cm): 4.6</br>sepal width (cm): 3.6</br>petal width (cm): 0.2</br>_original_yhat_: 0.0</br>"
          ],
          [
           "</br>id: 22</br>prediction: 0.22</br>petal length (cm): 6.723000000000001</br></br>sepal length (cm): 4.6</br>sepal width (cm): 3.6</br>petal width (cm): 0.2</br>_original_yhat_: 0.0</br>"
          ],
          [
           "</br>id: 22</br>prediction: 0.22</br>petal length (cm): 6.782</br></br>sepal length (cm): 4.6</br>sepal width (cm): 3.6</br>petal width (cm): 0.2</br>_original_yhat_: 0.0</br>"
          ],
          [
           "</br>id: 22</br>prediction: 0.22</br>petal length (cm): 6.841</br></br>sepal length (cm): 4.6</br>sepal width (cm): 3.6</br>petal width (cm): 0.2</br>_original_yhat_: 0.0</br>"
          ],
          [
           "</br>id: 22</br>prediction: 0.22</br>petal length (cm): 6.9</br></br>sepal length (cm): 4.6</br>sepal width (cm): 3.6</br>petal width (cm): 0.2</br>_original_yhat_: 0.0</br>"
          ]
         ],
         "hovertemplate": "%{customdata[0]}<extra></extra>",
         "legendgroup": "setosa, versicolor, virginica",
         "line": {
          "color": "#46bac2",
          "dash": "solid",
          "width": 2
         },
         "marker": {
          "symbol": "circle"
         },
         "mode": "lines",
         "name": "setosa, versicolor, virginica",
         "opacity": 1,
         "orientation": "v",
         "showlegend": false,
         "type": "scatter",
         "x": [
          1,
          1.059,
          1.118,
          1.177,
          1.236,
          1.295,
          1.354,
          1.413,
          1.472,
          1.5310000000000001,
          1.59,
          1.649,
          1.7080000000000002,
          1.767,
          1.826,
          1.885,
          1.944,
          2.003,
          2.0620000000000003,
          2.121,
          2.18,
          2.239,
          2.298,
          2.357,
          2.4160000000000004,
          2.475,
          2.534,
          2.593,
          2.652,
          2.7110000000000003,
          2.77,
          2.829,
          2.888,
          2.947,
          3.0060000000000002,
          3.065,
          3.124,
          3.1830000000000003,
          3.242,
          3.301,
          3.3600000000000003,
          3.419,
          3.478,
          3.5370000000000004,
          3.596,
          3.6550000000000002,
          3.714,
          3.773,
          3.8320000000000003,
          3.891,
          3.95,
          4.009,
          4.068,
          4.127000000000001,
          4.186,
          4.245,
          4.304,
          4.363,
          4.422000000000001,
          4.481,
          4.54,
          4.599,
          4.658,
          4.7170000000000005,
          4.776,
          4.835000000000001,
          4.894,
          4.953,
          5.0120000000000005,
          5.071000000000001,
          5.13,
          5.189,
          5.248,
          5.307,
          5.3660000000000005,
          5.425000000000001,
          5.484,
          5.543,
          5.602,
          5.6610000000000005,
          5.720000000000001,
          5.779,
          5.838,
          5.897,
          5.956,
          6.015000000000001,
          6.074000000000001,
          6.133,
          6.192,
          6.251,
          6.3100000000000005,
          6.369000000000001,
          6.428,
          6.487,
          6.546,
          6.605,
          6.664000000000001,
          6.723000000000001,
          6.782,
          6.841,
          6.9
         ],
         "xaxis": "x",
         "y": [
          0,
          0,
          0,
          0,
          0,
          0,
          0,
          0,
          0,
          0,
          0,
          0,
          0,
          0,
          0,
          0,
          0,
          0,
          0,
          0,
          0,
          0,
          0,
          0.03,
          0.03,
          0.25,
          0.27,
          0.27,
          0.41,
          0.42,
          0.42,
          0.42,
          0.42,
          0.42,
          0.42,
          0.42,
          0.42,
          0.42,
          0.42,
          0.44,
          0.44,
          0.44,
          0.44,
          0.44,
          0.44,
          0.44,
          0.44,
          0.44,
          0.44,
          0.44,
          0.44,
          0.43,
          0.43,
          0.43,
          0.43,
          0.43,
          0.43,
          0.43,
          0.43,
          0.4,
          0.4,
          0.41,
          0.41,
          0.41,
          0.41,
          0.41,
          0.4,
          0.34,
          0.29,
          0.3,
          0.3,
          0.29,
          0.28,
          0.24,
          0.23,
          0.23,
          0.22,
          0.22,
          0.22,
          0.22,
          0.22,
          0.22,
          0.22,
          0.22,
          0.22,
          0.22,
          0.22,
          0.22,
          0.22,
          0.22,
          0.22,
          0.22,
          0.22,
          0.22,
          0.22,
          0.22,
          0.22,
          0.22,
          0.22,
          0.22,
          0.22
         ],
         "yaxis": "y"
        },
        {
         "customdata": [
          [
           "</br>id: 22</br>prediction: 0.0</br>petal width (cm): 0.1</br></br>sepal length (cm): 4.6</br>sepal width (cm): 3.6</br>petal length (cm): 1.0</br>_original_yhat_: 0.0</br>"
          ],
          [
           "</br>id: 22</br>prediction: 0.0</br>petal width (cm): 0.122</br></br>sepal length (cm): 4.6</br>sepal width (cm): 3.6</br>petal length (cm): 1.0</br>_original_yhat_: 0.0</br>"
          ],
          [
           "</br>id: 22</br>prediction: 0.0</br>petal width (cm): 0.14400000000000002</br></br>sepal length (cm): 4.6</br>sepal width (cm): 3.6</br>petal length (cm): 1.0</br>_original_yhat_: 0.0</br>"
          ],
          [
           "</br>id: 22</br>prediction: 0.0</br>petal width (cm): 0.166</br></br>sepal length (cm): 4.6</br>sepal width (cm): 3.6</br>petal length (cm): 1.0</br>_original_yhat_: 0.0</br>"
          ],
          [
           "</br>id: 22</br>prediction: 0.0</br>petal width (cm): 0.188</br></br>sepal length (cm): 4.6</br>sepal width (cm): 3.6</br>petal length (cm): 1.0</br>_original_yhat_: 0.0</br>"
          ],
          [
           "</br>id: 22</br>prediction: 0.0</br>petal width (cm): 0.2</br></br>sepal length (cm): 4.6</br>sepal width (cm): 3.6</br>petal length (cm): 1.0</br>_original_yhat_: 0.0</br>"
          ],
          [
           "</br>id: 22</br>prediction: 0.0</br>petal width (cm): 0.21</br></br>sepal length (cm): 4.6</br>sepal width (cm): 3.6</br>petal length (cm): 1.0</br>_original_yhat_: 0.0</br>"
          ],
          [
           "</br>id: 22</br>prediction: 0.0</br>petal width (cm): 0.232</br></br>sepal length (cm): 4.6</br>sepal width (cm): 3.6</br>petal length (cm): 1.0</br>_original_yhat_: 0.0</br>"
          ],
          [
           "</br>id: 22</br>prediction: 0.0</br>petal width (cm): 0.254</br></br>sepal length (cm): 4.6</br>sepal width (cm): 3.6</br>petal length (cm): 1.0</br>_original_yhat_: 0.0</br>"
          ],
          [
           "</br>id: 22</br>prediction: 0.0</br>petal width (cm): 0.276</br></br>sepal length (cm): 4.6</br>sepal width (cm): 3.6</br>petal length (cm): 1.0</br>_original_yhat_: 0.0</br>"
          ],
          [
           "</br>id: 22</br>prediction: 0.0</br>petal width (cm): 0.298</br></br>sepal length (cm): 4.6</br>sepal width (cm): 3.6</br>petal length (cm): 1.0</br>_original_yhat_: 0.0</br>"
          ],
          [
           "</br>id: 22</br>prediction: 0.0</br>petal width (cm): 0.31999999999999995</br></br>sepal length (cm): 4.6</br>sepal width (cm): 3.6</br>petal length (cm): 1.0</br>_original_yhat_: 0.0</br>"
          ],
          [
           "</br>id: 22</br>prediction: 0.0</br>petal width (cm): 0.34199999999999997</br></br>sepal length (cm): 4.6</br>sepal width (cm): 3.6</br>petal length (cm): 1.0</br>_original_yhat_: 0.0</br>"
          ],
          [
           "</br>id: 22</br>prediction: 0.0</br>petal width (cm): 0.364</br></br>sepal length (cm): 4.6</br>sepal width (cm): 3.6</br>petal length (cm): 1.0</br>_original_yhat_: 0.0</br>"
          ],
          [
           "</br>id: 22</br>prediction: 0.0</br>petal width (cm): 0.386</br></br>sepal length (cm): 4.6</br>sepal width (cm): 3.6</br>petal length (cm): 1.0</br>_original_yhat_: 0.0</br>"
          ],
          [
           "</br>id: 22</br>prediction: 0.0</br>petal width (cm): 0.40800000000000003</br></br>sepal length (cm): 4.6</br>sepal width (cm): 3.6</br>petal length (cm): 1.0</br>_original_yhat_: 0.0</br>"
          ],
          [
           "</br>id: 22</br>prediction: 0.0</br>petal width (cm): 0.42999999999999994</br></br>sepal length (cm): 4.6</br>sepal width (cm): 3.6</br>petal length (cm): 1.0</br>_original_yhat_: 0.0</br>"
          ],
          [
           "</br>id: 22</br>prediction: 0.0</br>petal width (cm): 0.45199999999999996</br></br>sepal length (cm): 4.6</br>sepal width (cm): 3.6</br>petal length (cm): 1.0</br>_original_yhat_: 0.0</br>"
          ],
          [
           "</br>id: 22</br>prediction: 0.0</br>petal width (cm): 0.474</br></br>sepal length (cm): 4.6</br>sepal width (cm): 3.6</br>petal length (cm): 1.0</br>_original_yhat_: 0.0</br>"
          ],
          [
           "</br>id: 22</br>prediction: 0.0</br>petal width (cm): 0.496</br></br>sepal length (cm): 4.6</br>sepal width (cm): 3.6</br>petal length (cm): 1.0</br>_original_yhat_: 0.0</br>"
          ],
          [
           "</br>id: 22</br>prediction: 0.0</br>petal width (cm): 0.518</br></br>sepal length (cm): 4.6</br>sepal width (cm): 3.6</br>petal length (cm): 1.0</br>_original_yhat_: 0.0</br>"
          ],
          [
           "</br>id: 22</br>prediction: 0.0</br>petal width (cm): 0.5399999999999999</br></br>sepal length (cm): 4.6</br>sepal width (cm): 3.6</br>petal length (cm): 1.0</br>_original_yhat_: 0.0</br>"
          ],
          [
           "</br>id: 22</br>prediction: 0.0</br>petal width (cm): 0.5619999999999999</br></br>sepal length (cm): 4.6</br>sepal width (cm): 3.6</br>petal length (cm): 1.0</br>_original_yhat_: 0.0</br>"
          ],
          [
           "</br>id: 22</br>prediction: 0.0</br>petal width (cm): 0.584</br></br>sepal length (cm): 4.6</br>sepal width (cm): 3.6</br>petal length (cm): 1.0</br>_original_yhat_: 0.0</br>"
          ],
          [
           "</br>id: 22</br>prediction: 0.0</br>petal width (cm): 0.606</br></br>sepal length (cm): 4.6</br>sepal width (cm): 3.6</br>petal length (cm): 1.0</br>_original_yhat_: 0.0</br>"
          ],
          [
           "</br>id: 22</br>prediction: 0.0</br>petal width (cm): 0.628</br></br>sepal length (cm): 4.6</br>sepal width (cm): 3.6</br>petal length (cm): 1.0</br>_original_yhat_: 0.0</br>"
          ],
          [
           "</br>id: 22</br>prediction: 0.0</br>petal width (cm): 0.6499999999999999</br></br>sepal length (cm): 4.6</br>sepal width (cm): 3.6</br>petal length (cm): 1.0</br>_original_yhat_: 0.0</br>"
          ],
          [
           "</br>id: 22</br>prediction: 0.0</br>petal width (cm): 0.6719999999999999</br></br>sepal length (cm): 4.6</br>sepal width (cm): 3.6</br>petal length (cm): 1.0</br>_original_yhat_: 0.0</br>"
          ],
          [
           "</br>id: 22</br>prediction: 0.0</br>petal width (cm): 0.694</br></br>sepal length (cm): 4.6</br>sepal width (cm): 3.6</br>petal length (cm): 1.0</br>_original_yhat_: 0.0</br>"
          ],
          [
           "</br>id: 22</br>prediction: 0.04</br>petal width (cm): 0.716</br></br>sepal length (cm): 4.6</br>sepal width (cm): 3.6</br>petal length (cm): 1.0</br>_original_yhat_: 0.0</br>"
          ],
          [
           "</br>id: 22</br>prediction: 0.04</br>petal width (cm): 0.738</br></br>sepal length (cm): 4.6</br>sepal width (cm): 3.6</br>petal length (cm): 1.0</br>_original_yhat_: 0.0</br>"
          ],
          [
           "</br>id: 22</br>prediction: 0.18</br>petal width (cm): 0.7599999999999999</br></br>sepal length (cm): 4.6</br>sepal width (cm): 3.6</br>petal length (cm): 1.0</br>_original_yhat_: 0.0</br>"
          ],
          [
           "</br>id: 22</br>prediction: 0.18</br>petal width (cm): 0.7819999999999999</br></br>sepal length (cm): 4.6</br>sepal width (cm): 3.6</br>petal length (cm): 1.0</br>_original_yhat_: 0.0</br>"
          ],
          [
           "</br>id: 22</br>prediction: 0.42</br>petal width (cm): 0.8039999999999999</br></br>sepal length (cm): 4.6</br>sepal width (cm): 3.6</br>petal length (cm): 1.0</br>_original_yhat_: 0.0</br>"
          ],
          [
           "</br>id: 22</br>prediction: 0.42</br>petal width (cm): 0.826</br></br>sepal length (cm): 4.6</br>sepal width (cm): 3.6</br>petal length (cm): 1.0</br>_original_yhat_: 0.0</br>"
          ],
          [
           "</br>id: 22</br>prediction: 0.42</br>petal width (cm): 0.848</br></br>sepal length (cm): 4.6</br>sepal width (cm): 3.6</br>petal length (cm): 1.0</br>_original_yhat_: 0.0</br>"
          ],
          [
           "</br>id: 22</br>prediction: 0.42</br>petal width (cm): 0.8699999999999999</br></br>sepal length (cm): 4.6</br>sepal width (cm): 3.6</br>petal length (cm): 1.0</br>_original_yhat_: 0.0</br>"
          ],
          [
           "</br>id: 22</br>prediction: 0.42</br>petal width (cm): 0.8919999999999999</br></br>sepal length (cm): 4.6</br>sepal width (cm): 3.6</br>petal length (cm): 1.0</br>_original_yhat_: 0.0</br>"
          ],
          [
           "</br>id: 22</br>prediction: 0.42</br>petal width (cm): 0.9139999999999999</br></br>sepal length (cm): 4.6</br>sepal width (cm): 3.6</br>petal length (cm): 1.0</br>_original_yhat_: 0.0</br>"
          ],
          [
           "</br>id: 22</br>prediction: 0.42</br>petal width (cm): 0.9359999999999999</br></br>sepal length (cm): 4.6</br>sepal width (cm): 3.6</br>petal length (cm): 1.0</br>_original_yhat_: 0.0</br>"
          ],
          [
           "</br>id: 22</br>prediction: 0.42</br>petal width (cm): 0.958</br></br>sepal length (cm): 4.6</br>sepal width (cm): 3.6</br>petal length (cm): 1.0</br>_original_yhat_: 0.0</br>"
          ],
          [
           "</br>id: 22</br>prediction: 0.42</br>petal width (cm): 0.9799999999999999</br></br>sepal length (cm): 4.6</br>sepal width (cm): 3.6</br>petal length (cm): 1.0</br>_original_yhat_: 0.0</br>"
          ],
          [
           "</br>id: 22</br>prediction: 0.42</br>petal width (cm): 1.002</br></br>sepal length (cm): 4.6</br>sepal width (cm): 3.6</br>petal length (cm): 1.0</br>_original_yhat_: 0.0</br>"
          ],
          [
           "</br>id: 22</br>prediction: 0.42</br>petal width (cm): 1.024</br></br>sepal length (cm): 4.6</br>sepal width (cm): 3.6</br>petal length (cm): 1.0</br>_original_yhat_: 0.0</br>"
          ],
          [
           "</br>id: 22</br>prediction: 0.42</br>petal width (cm): 1.046</br></br>sepal length (cm): 4.6</br>sepal width (cm): 3.6</br>petal length (cm): 1.0</br>_original_yhat_: 0.0</br>"
          ],
          [
           "</br>id: 22</br>prediction: 0.42</br>petal width (cm): 1.068</br></br>sepal length (cm): 4.6</br>sepal width (cm): 3.6</br>petal length (cm): 1.0</br>_original_yhat_: 0.0</br>"
          ],
          [
           "</br>id: 22</br>prediction: 0.42</br>petal width (cm): 1.09</br></br>sepal length (cm): 4.6</br>sepal width (cm): 3.6</br>petal length (cm): 1.0</br>_original_yhat_: 0.0</br>"
          ],
          [
           "</br>id: 22</br>prediction: 0.42</br>petal width (cm): 1.112</br></br>sepal length (cm): 4.6</br>sepal width (cm): 3.6</br>petal length (cm): 1.0</br>_original_yhat_: 0.0</br>"
          ],
          [
           "</br>id: 22</br>prediction: 0.42</br>petal width (cm): 1.1340000000000001</br></br>sepal length (cm): 4.6</br>sepal width (cm): 3.6</br>petal length (cm): 1.0</br>_original_yhat_: 0.0</br>"
          ],
          [
           "</br>id: 22</br>prediction: 0.42</br>petal width (cm): 1.1560000000000001</br></br>sepal length (cm): 4.6</br>sepal width (cm): 3.6</br>petal length (cm): 1.0</br>_original_yhat_: 0.0</br>"
          ],
          [
           "</br>id: 22</br>prediction: 0.42</br>petal width (cm): 1.178</br></br>sepal length (cm): 4.6</br>sepal width (cm): 3.6</br>petal length (cm): 1.0</br>_original_yhat_: 0.0</br>"
          ],
          [
           "</br>id: 22</br>prediction: 0.42</br>petal width (cm): 1.2</br></br>sepal length (cm): 4.6</br>sepal width (cm): 3.6</br>petal length (cm): 1.0</br>_original_yhat_: 0.0</br>"
          ],
          [
           "</br>id: 22</br>prediction: 0.42</br>petal width (cm): 1.222</br></br>sepal length (cm): 4.6</br>sepal width (cm): 3.6</br>petal length (cm): 1.0</br>_original_yhat_: 0.0</br>"
          ],
          [
           "</br>id: 22</br>prediction: 0.42</br>petal width (cm): 1.244</br></br>sepal length (cm): 4.6</br>sepal width (cm): 3.6</br>petal length (cm): 1.0</br>_original_yhat_: 0.0</br>"
          ],
          [
           "</br>id: 22</br>prediction: 0.42</br>petal width (cm): 1.266</br></br>sepal length (cm): 4.6</br>sepal width (cm): 3.6</br>petal length (cm): 1.0</br>_original_yhat_: 0.0</br>"
          ],
          [
           "</br>id: 22</br>prediction: 0.42</br>petal width (cm): 1.288</br></br>sepal length (cm): 4.6</br>sepal width (cm): 3.6</br>petal length (cm): 1.0</br>_original_yhat_: 0.0</br>"
          ],
          [
           "</br>id: 22</br>prediction: 0.42</br>petal width (cm): 1.31</br></br>sepal length (cm): 4.6</br>sepal width (cm): 3.6</br>petal length (cm): 1.0</br>_original_yhat_: 0.0</br>"
          ],
          [
           "</br>id: 22</br>prediction: 0.42</br>petal width (cm): 1.332</br></br>sepal length (cm): 4.6</br>sepal width (cm): 3.6</br>petal length (cm): 1.0</br>_original_yhat_: 0.0</br>"
          ],
          [
           "</br>id: 22</br>prediction: 0.42</br>petal width (cm): 1.354</br></br>sepal length (cm): 4.6</br>sepal width (cm): 3.6</br>petal length (cm): 1.0</br>_original_yhat_: 0.0</br>"
          ],
          [
           "</br>id: 22</br>prediction: 0.42</br>petal width (cm): 1.3760000000000001</br></br>sepal length (cm): 4.6</br>sepal width (cm): 3.6</br>petal length (cm): 1.0</br>_original_yhat_: 0.0</br>"
          ],
          [
           "</br>id: 22</br>prediction: 0.42</br>petal width (cm): 1.398</br></br>sepal length (cm): 4.6</br>sepal width (cm): 3.6</br>petal length (cm): 1.0</br>_original_yhat_: 0.0</br>"
          ],
          [
           "</br>id: 22</br>prediction: 0.41</br>petal width (cm): 1.42</br></br>sepal length (cm): 4.6</br>sepal width (cm): 3.6</br>petal length (cm): 1.0</br>_original_yhat_: 0.0</br>"
          ],
          [
           "</br>id: 22</br>prediction: 0.41</br>petal width (cm): 1.442</br></br>sepal length (cm): 4.6</br>sepal width (cm): 3.6</br>petal length (cm): 1.0</br>_original_yhat_: 0.0</br>"
          ],
          [
           "</br>id: 22</br>prediction: 0.41</br>petal width (cm): 1.464</br></br>sepal length (cm): 4.6</br>sepal width (cm): 3.6</br>petal length (cm): 1.0</br>_original_yhat_: 0.0</br>"
          ],
          [
           "</br>id: 22</br>prediction: 0.41</br>petal width (cm): 1.486</br></br>sepal length (cm): 4.6</br>sepal width (cm): 3.6</br>petal length (cm): 1.0</br>_original_yhat_: 0.0</br>"
          ],
          [
           "</br>id: 22</br>prediction: 0.41</br>petal width (cm): 1.508</br></br>sepal length (cm): 4.6</br>sepal width (cm): 3.6</br>petal length (cm): 1.0</br>_original_yhat_: 0.0</br>"
          ],
          [
           "</br>id: 22</br>prediction: 0.41</br>petal width (cm): 1.53</br></br>sepal length (cm): 4.6</br>sepal width (cm): 3.6</br>petal length (cm): 1.0</br>_original_yhat_: 0.0</br>"
          ],
          [
           "</br>id: 22</br>prediction: 0.39</br>petal width (cm): 1.552</br></br>sepal length (cm): 4.6</br>sepal width (cm): 3.6</br>petal length (cm): 1.0</br>_original_yhat_: 0.0</br>"
          ],
          [
           "</br>id: 22</br>prediction: 0.39</br>petal width (cm): 1.574</br></br>sepal length (cm): 4.6</br>sepal width (cm): 3.6</br>petal length (cm): 1.0</br>_original_yhat_: 0.0</br>"
          ],
          [
           "</br>id: 22</br>prediction: 0.39</br>petal width (cm): 1.596</br></br>sepal length (cm): 4.6</br>sepal width (cm): 3.6</br>petal length (cm): 1.0</br>_original_yhat_: 0.0</br>"
          ],
          [
           "</br>id: 22</br>prediction: 0.36</br>petal width (cm): 1.618</br></br>sepal length (cm): 4.6</br>sepal width (cm): 3.6</br>petal length (cm): 1.0</br>_original_yhat_: 0.0</br>"
          ],
          [
           "</br>id: 22</br>prediction: 0.36</br>petal width (cm): 1.64</br></br>sepal length (cm): 4.6</br>sepal width (cm): 3.6</br>petal length (cm): 1.0</br>_original_yhat_: 0.0</br>"
          ],
          [
           "</br>id: 22</br>prediction: 0.32</br>petal width (cm): 1.662</br></br>sepal length (cm): 4.6</br>sepal width (cm): 3.6</br>petal length (cm): 1.0</br>_original_yhat_: 0.0</br>"
          ],
          [
           "</br>id: 22</br>prediction: 0.32</br>petal width (cm): 1.684</br></br>sepal length (cm): 4.6</br>sepal width (cm): 3.6</br>petal length (cm): 1.0</br>_original_yhat_: 0.0</br>"
          ],
          [
           "</br>id: 22</br>prediction: 0.32</br>petal width (cm): 1.706</br></br>sepal length (cm): 4.6</br>sepal width (cm): 3.6</br>petal length (cm): 1.0</br>_original_yhat_: 0.0</br>"
          ],
          [
           "</br>id: 22</br>prediction: 0.32</br>petal width (cm): 1.728</br></br>sepal length (cm): 4.6</br>sepal width (cm): 3.6</br>petal length (cm): 1.0</br>_original_yhat_: 0.0</br>"
          ],
          [
           "</br>id: 22</br>prediction: 0.32</br>petal width (cm): 1.75</br></br>sepal length (cm): 4.6</br>sepal width (cm): 3.6</br>petal length (cm): 1.0</br>_original_yhat_: 0.0</br>"
          ],
          [
           "</br>id: 22</br>prediction: 0.3</br>petal width (cm): 1.772</br></br>sepal length (cm): 4.6</br>sepal width (cm): 3.6</br>petal length (cm): 1.0</br>_original_yhat_: 0.0</br>"
          ],
          [
           "</br>id: 22</br>prediction: 0.3</br>petal width (cm): 1.794</br></br>sepal length (cm): 4.6</br>sepal width (cm): 3.6</br>petal length (cm): 1.0</br>_original_yhat_: 0.0</br>"
          ],
          [
           "</br>id: 22</br>prediction: 0.3</br>petal width (cm): 1.816</br></br>sepal length (cm): 4.6</br>sepal width (cm): 3.6</br>petal length (cm): 1.0</br>_original_yhat_: 0.0</br>"
          ],
          [
           "</br>id: 22</br>prediction: 0.3</br>petal width (cm): 1.838</br></br>sepal length (cm): 4.6</br>sepal width (cm): 3.6</br>petal length (cm): 1.0</br>_original_yhat_: 0.0</br>"
          ],
          [
           "</br>id: 22</br>prediction: 0.29</br>petal width (cm): 1.8599999999999999</br></br>sepal length (cm): 4.6</br>sepal width (cm): 3.6</br>petal length (cm): 1.0</br>_original_yhat_: 0.0</br>"
          ],
          [
           "</br>id: 22</br>prediction: 0.29</br>petal width (cm): 1.882</br></br>sepal length (cm): 4.6</br>sepal width (cm): 3.6</br>petal length (cm): 1.0</br>_original_yhat_: 0.0</br>"
          ],
          [
           "</br>id: 22</br>prediction: 0.27</br>petal width (cm): 1.904</br></br>sepal length (cm): 4.6</br>sepal width (cm): 3.6</br>petal length (cm): 1.0</br>_original_yhat_: 0.0</br>"
          ],
          [
           "</br>id: 22</br>prediction: 0.27</br>petal width (cm): 1.926</br></br>sepal length (cm): 4.6</br>sepal width (cm): 3.6</br>petal length (cm): 1.0</br>_original_yhat_: 0.0</br>"
          ],
          [
           "</br>id: 22</br>prediction: 0.27</br>petal width (cm): 1.948</br></br>sepal length (cm): 4.6</br>sepal width (cm): 3.6</br>petal length (cm): 1.0</br>_original_yhat_: 0.0</br>"
          ],
          [
           "</br>id: 22</br>prediction: 0.27</br>petal width (cm): 1.97</br></br>sepal length (cm): 4.6</br>sepal width (cm): 3.6</br>petal length (cm): 1.0</br>_original_yhat_: 0.0</br>"
          ],
          [
           "</br>id: 22</br>prediction: 0.27</br>petal width (cm): 1.992</br></br>sepal length (cm): 4.6</br>sepal width (cm): 3.6</br>petal length (cm): 1.0</br>_original_yhat_: 0.0</br>"
          ],
          [
           "</br>id: 22</br>prediction: 0.26</br>petal width (cm): 2.014</br></br>sepal length (cm): 4.6</br>sepal width (cm): 3.6</br>petal length (cm): 1.0</br>_original_yhat_: 0.0</br>"
          ],
          [
           "</br>id: 22</br>prediction: 0.26</br>petal width (cm): 2.036</br></br>sepal length (cm): 4.6</br>sepal width (cm): 3.6</br>petal length (cm): 1.0</br>_original_yhat_: 0.0</br>"
          ],
          [
           "</br>id: 22</br>prediction: 0.26</br>petal width (cm): 2.058</br></br>sepal length (cm): 4.6</br>sepal width (cm): 3.6</br>petal length (cm): 1.0</br>_original_yhat_: 0.0</br>"
          ],
          [
           "</br>id: 22</br>prediction: 0.26</br>petal width (cm): 2.08</br></br>sepal length (cm): 4.6</br>sepal width (cm): 3.6</br>petal length (cm): 1.0</br>_original_yhat_: 0.0</br>"
          ],
          [
           "</br>id: 22</br>prediction: 0.26</br>petal width (cm): 2.102</br></br>sepal length (cm): 4.6</br>sepal width (cm): 3.6</br>petal length (cm): 1.0</br>_original_yhat_: 0.0</br>"
          ],
          [
           "</br>id: 22</br>prediction: 0.26</br>petal width (cm): 2.124</br></br>sepal length (cm): 4.6</br>sepal width (cm): 3.6</br>petal length (cm): 1.0</br>_original_yhat_: 0.0</br>"
          ],
          [
           "</br>id: 22</br>prediction: 0.26</br>petal width (cm): 2.146</br></br>sepal length (cm): 4.6</br>sepal width (cm): 3.6</br>petal length (cm): 1.0</br>_original_yhat_: 0.0</br>"
          ],
          [
           "</br>id: 22</br>prediction: 0.26</br>petal width (cm): 2.168</br></br>sepal length (cm): 4.6</br>sepal width (cm): 3.6</br>petal length (cm): 1.0</br>_original_yhat_: 0.0</br>"
          ],
          [
           "</br>id: 22</br>prediction: 0.26</br>petal width (cm): 2.19</br></br>sepal length (cm): 4.6</br>sepal width (cm): 3.6</br>petal length (cm): 1.0</br>_original_yhat_: 0.0</br>"
          ],
          [
           "</br>id: 22</br>prediction: 0.26</br>petal width (cm): 2.212</br></br>sepal length (cm): 4.6</br>sepal width (cm): 3.6</br>petal length (cm): 1.0</br>_original_yhat_: 0.0</br>"
          ],
          [
           "</br>id: 22</br>prediction: 0.26</br>petal width (cm): 2.234</br></br>sepal length (cm): 4.6</br>sepal width (cm): 3.6</br>petal length (cm): 1.0</br>_original_yhat_: 0.0</br>"
          ],
          [
           "</br>id: 22</br>prediction: 0.26</br>petal width (cm): 2.256</br></br>sepal length (cm): 4.6</br>sepal width (cm): 3.6</br>petal length (cm): 1.0</br>_original_yhat_: 0.0</br>"
          ],
          [
           "</br>id: 22</br>prediction: 0.26</br>petal width (cm): 2.278</br></br>sepal length (cm): 4.6</br>sepal width (cm): 3.6</br>petal length (cm): 1.0</br>_original_yhat_: 0.0</br>"
          ],
          [
           "</br>id: 22</br>prediction: 0.26</br>petal width (cm): 2.3</br></br>sepal length (cm): 4.6</br>sepal width (cm): 3.6</br>petal length (cm): 1.0</br>_original_yhat_: 0.0</br>"
          ]
         ],
         "hovertemplate": "%{customdata[0]}<extra></extra>",
         "legendgroup": "setosa, versicolor, virginica",
         "line": {
          "color": "#46bac2",
          "dash": "solid",
          "width": 2
         },
         "marker": {
          "symbol": "circle"
         },
         "mode": "lines",
         "name": "setosa, versicolor, virginica",
         "opacity": 1,
         "orientation": "v",
         "showlegend": false,
         "type": "scatter",
         "x": [
          0.1,
          0.122,
          0.14400000000000002,
          0.166,
          0.188,
          0.2,
          0.21,
          0.232,
          0.254,
          0.276,
          0.298,
          0.31999999999999995,
          0.34199999999999997,
          0.364,
          0.386,
          0.40800000000000003,
          0.42999999999999994,
          0.45199999999999996,
          0.474,
          0.496,
          0.518,
          0.5399999999999999,
          0.5619999999999999,
          0.584,
          0.606,
          0.628,
          0.6499999999999999,
          0.6719999999999999,
          0.694,
          0.716,
          0.738,
          0.7599999999999999,
          0.7819999999999999,
          0.8039999999999999,
          0.826,
          0.848,
          0.8699999999999999,
          0.8919999999999999,
          0.9139999999999999,
          0.9359999999999999,
          0.958,
          0.9799999999999999,
          1.002,
          1.024,
          1.046,
          1.068,
          1.09,
          1.112,
          1.1340000000000001,
          1.1560000000000001,
          1.178,
          1.2,
          1.222,
          1.244,
          1.266,
          1.288,
          1.31,
          1.332,
          1.354,
          1.3760000000000001,
          1.398,
          1.42,
          1.442,
          1.464,
          1.486,
          1.508,
          1.53,
          1.552,
          1.574,
          1.596,
          1.618,
          1.64,
          1.662,
          1.684,
          1.706,
          1.728,
          1.75,
          1.772,
          1.794,
          1.816,
          1.838,
          1.8599999999999999,
          1.882,
          1.904,
          1.926,
          1.948,
          1.97,
          1.992,
          2.014,
          2.036,
          2.058,
          2.08,
          2.102,
          2.124,
          2.146,
          2.168,
          2.19,
          2.212,
          2.234,
          2.256,
          2.278,
          2.3
         ],
         "xaxis": "x2",
         "y": [
          0,
          0,
          0,
          0,
          0,
          0,
          0,
          0,
          0,
          0,
          0,
          0,
          0,
          0,
          0,
          0,
          0,
          0,
          0,
          0,
          0,
          0,
          0,
          0,
          0,
          0,
          0,
          0,
          0,
          0.04,
          0.04,
          0.18,
          0.18,
          0.42,
          0.42,
          0.42,
          0.42,
          0.42,
          0.42,
          0.42,
          0.42,
          0.42,
          0.42,
          0.42,
          0.42,
          0.42,
          0.42,
          0.42,
          0.42,
          0.42,
          0.42,
          0.42,
          0.42,
          0.42,
          0.42,
          0.42,
          0.42,
          0.42,
          0.42,
          0.42,
          0.42,
          0.41,
          0.41,
          0.41,
          0.41,
          0.41,
          0.41,
          0.39,
          0.39,
          0.39,
          0.36,
          0.36,
          0.32,
          0.32,
          0.32,
          0.32,
          0.32,
          0.3,
          0.3,
          0.3,
          0.3,
          0.29,
          0.29,
          0.27,
          0.27,
          0.27,
          0.27,
          0.27,
          0.26,
          0.26,
          0.26,
          0.26,
          0.26,
          0.26,
          0.26,
          0.26,
          0.26,
          0.26,
          0.26,
          0.26,
          0.26,
          0.26
         ],
         "yaxis": "y2"
        },
        {
         "customdata": [
          [
           "</br>id: 22</br>prediction: 0.0</br>sepal length (cm): 4.6</br></br>sepal width (cm): 3.6</br>petal length (cm): 1.0</br>petal width (cm): 0.2</br>_original_yhat_: 0.0</br>"
          ]
         ],
         "hovertemplate": "%{customdata[0]}<extra></extra>",
         "legendgroup": "",
         "marker": {
          "color": "#371ea3",
          "size": 10,
          "symbol": "circle"
         },
         "mode": "markers",
         "name": "",
         "opacity": 1,
         "orientation": "v",
         "showlegend": false,
         "type": "scatter",
         "x": [
          4.6
         ],
         "xaxis": "x3",
         "y": [
          0
         ],
         "yaxis": "y3"
        },
        {
         "customdata": [
          [
           "</br>id: 22</br>prediction: 0.0</br>sepal width (cm): 3.6</br></br>sepal length (cm): 4.6</br>petal length (cm): 1.0</br>petal width (cm): 0.2</br>_original_yhat_: 0.0</br>"
          ]
         ],
         "hovertemplate": "%{customdata[0]}<extra></extra>",
         "legendgroup": "",
         "marker": {
          "color": "#371ea3",
          "size": 10,
          "symbol": "circle"
         },
         "mode": "markers",
         "name": "",
         "opacity": 1,
         "orientation": "v",
         "showlegend": false,
         "type": "scatter",
         "x": [
          3.6
         ],
         "xaxis": "x4",
         "y": [
          0
         ],
         "yaxis": "y4"
        },
        {
         "customdata": [
          [
           "</br>id: 22</br>prediction: 0.0</br>petal length (cm): 1.0</br></br>sepal length (cm): 4.6</br>sepal width (cm): 3.6</br>petal width (cm): 0.2</br>_original_yhat_: 0.0</br>"
          ]
         ],
         "hovertemplate": "%{customdata[0]}<extra></extra>",
         "legendgroup": "",
         "marker": {
          "color": "#371ea3",
          "size": 10,
          "symbol": "circle"
         },
         "mode": "markers",
         "name": "",
         "opacity": 1,
         "orientation": "v",
         "showlegend": false,
         "type": "scatter",
         "x": [
          1
         ],
         "xaxis": "x",
         "y": [
          0
         ],
         "yaxis": "y"
        },
        {
         "customdata": [
          [
           "</br>id: 22</br>prediction: 0.0</br>petal width (cm): 0.2</br></br>sepal length (cm): 4.6</br>sepal width (cm): 3.6</br>petal length (cm): 1.0</br>_original_yhat_: 0.0</br>"
          ]
         ],
         "hovertemplate": "%{customdata[0]}<extra></extra>",
         "legendgroup": "",
         "marker": {
          "color": "#371ea3",
          "size": 10,
          "symbol": "circle"
         },
         "mode": "markers",
         "name": "",
         "opacity": 1,
         "orientation": "v",
         "showlegend": false,
         "type": "scatter",
         "x": [
          0.2
         ],
         "xaxis": "x2",
         "y": [
          0
         ],
         "yaxis": "y2"
        }
       ],
       "layout": {
        "annotations": [
         {
          "font": {
           "size": 13
          },
          "showarrow": false,
          "text": "petal length (cm)",
          "x": 0.2375,
          "xanchor": "center",
          "xref": "paper",
          "y": 0.425,
          "yanchor": "bottom",
          "yref": "paper"
         },
         {
          "font": {
           "size": 13
          },
          "showarrow": false,
          "text": "petal width (cm)",
          "x": 0.7625,
          "xanchor": "center",
          "xref": "paper",
          "y": 0.425,
          "yanchor": "bottom",
          "yref": "paper"
         },
         {
          "font": {
           "size": 13
          },
          "showarrow": false,
          "text": "sepal length (cm)",
          "x": 0.2375,
          "xanchor": "center",
          "xref": "paper",
          "y": 1,
          "yanchor": "bottom",
          "yref": "paper"
         },
         {
          "font": {
           "size": 13
          },
          "showarrow": false,
          "text": "sepal width (cm)",
          "x": 0.7625,
          "xanchor": "center",
          "xref": "paper",
          "y": 1,
          "yanchor": "bottom",
          "yref": "paper"
         },
         {
          "font": {
           "size": 13
          },
          "showarrow": false,
          "text": "prediction",
          "textangle": -90,
          "x": -0.07,
          "xref": "paper",
          "y": 0.5,
          "yref": "paper"
         }
        ],
        "font": {
         "color": "#371ea3"
        },
        "height": 829,
        "hoverlabel": {
         "bgcolor": "rgba(0,0,0,0.8)"
        },
        "hovermode": "closest",
        "legend": {
         "font": {
          "size": 11
         },
         "itemsizing": "constant",
         "orientation": "h",
         "title": {
          "font": {
           "size": 12
          },
          "text": "label"
         },
         "tracegroupgap": 0,
         "x": 1,
         "xanchor": "right",
         "y": 1.0361881785283473,
         "yanchor": "bottom"
        },
        "margin": {
         "b": 71,
         "r": 30,
         "t": 78
        },
        "template": {
         "data": {
          "scatter": [
           {
            "type": "scatter"
           }
          ]
         }
        },
        "title": {
         "font": {
          "size": 16
         },
         "text": "Ceteris Paribus Profiles",
         "x": 0.15
        },
        "xaxis": {
         "anchor": "y",
         "automargin": true,
         "domain": [
          0,
          0.475
         ],
         "fixedrange": true,
         "gridwidth": 2,
         "showticklabels": true,
         "tickcolor": "white",
         "ticklen": 3,
         "ticks": "outside",
         "title": {
          "text": ""
         },
         "type": "linear",
         "zeroline": false
        },
        "xaxis2": {
         "anchor": "y2",
         "automargin": true,
         "domain": [
          0.525,
          1
         ],
         "fixedrange": true,
         "gridwidth": 2,
         "showticklabels": true,
         "tickcolor": "white",
         "ticklen": 3,
         "ticks": "outside",
         "title": {
          "text": ""
         },
         "type": "linear",
         "zeroline": false
        },
        "xaxis3": {
         "anchor": "y3",
         "automargin": true,
         "domain": [
          0,
          0.475
         ],
         "fixedrange": true,
         "gridwidth": 2,
         "showticklabels": true,
         "tickcolor": "white",
         "ticklen": 3,
         "ticks": "outside",
         "title": {
          "text": ""
         },
         "type": "linear",
         "zeroline": false
        },
        "xaxis4": {
         "anchor": "y4",
         "automargin": true,
         "domain": [
          0.525,
          1
         ],
         "fixedrange": true,
         "gridwidth": 2,
         "showticklabels": true,
         "tickcolor": "white",
         "ticklen": 3,
         "ticks": "outside",
         "title": {
          "text": ""
         },
         "type": "linear",
         "zeroline": false
        },
        "yaxis": {
         "anchor": "x",
         "automargin": true,
         "domain": [
          0,
          0.425
         ],
         "fixedrange": true,
         "gridwidth": 2,
         "range": [
          -0.044000000000000004,
          0.484
         ],
         "tickcolor": "white",
         "ticklen": 3,
         "ticks": "outside",
         "title": {
          "text": ""
         },
         "type": "linear",
         "zeroline": false
        },
        "yaxis2": {
         "anchor": "x2",
         "automargin": true,
         "domain": [
          0,
          0.425
         ],
         "fixedrange": true,
         "gridwidth": 2,
         "matches": "y",
         "range": [
          -0.044000000000000004,
          0.484
         ],
         "showticklabels": false,
         "tickcolor": "white",
         "ticklen": 3,
         "ticks": "outside",
         "title": {
          "text": ""
         },
         "type": "linear",
         "zeroline": false
        },
        "yaxis3": {
         "anchor": "x3",
         "automargin": true,
         "domain": [
          0.575,
          1
         ],
         "fixedrange": true,
         "gridwidth": 2,
         "matches": "y",
         "range": [
          -0.044000000000000004,
          0.484
         ],
         "tickcolor": "white",
         "ticklen": 3,
         "ticks": "outside",
         "title": {
          "text": ""
         },
         "type": "linear",
         "zeroline": false
        },
        "yaxis4": {
         "anchor": "x4",
         "automargin": true,
         "domain": [
          0.575,
          1
         ],
         "fixedrange": true,
         "gridwidth": 2,
         "matches": "y",
         "range": [
          -0.044000000000000004,
          0.484
         ],
         "showticklabels": false,
         "tickcolor": "white",
         "ticklen": 3,
         "ticks": "outside",
         "title": {
          "text": ""
         },
         "type": "linear",
         "zeroline": false
        }
       }
      }
     },
     "metadata": {},
     "output_type": "display_data"
    }
   ],
   "source": [
    "cp = explainer.predict_profile(X_test.iloc[30])                                                  # Generate Ceteris Paribus plot for the first observation\n",
    "cp.plot()"
   ]
  },
  {
   "cell_type": "code",
   "execution_count": 29,
   "metadata": {},
   "outputs": [
    {
     "name": "stdout",
     "output_type": "stream",
     "text": [
      "Preparation of a new explainer is initiated\n",
      "\n",
      "  -> data              : 45 rows 4 cols\n",
      "  -> target variable   : 45 values\n",
      "  -> model_class       : sklearn.ensemble._forest.RandomForestClassifier (default)\n",
      "  -> label             : Random Forest\n",
      "  -> predict function  : <function yhat_proba_default at 0x000002190C19F7E0> will be used (default)\n",
      "  -> predict function  : Accepts pandas.DataFrame and numpy.ndarray.\n",
      "  -> predicted values  : min = 0.0, mean = 0.287, max = 1.0\n",
      "  -> model type        : classification will be used (default)\n",
      "  -> residual function : difference between y and yhat (default)\n",
      "  -> residuals         : min = -0.05, mean = 0.579, max = 2.0\n",
      "  -> model_info        : package sklearn\n",
      "\n",
      "A new explainer has been created!\n",
      "Preparation of a new explainer is initiated\n",
      "\n",
      "  -> data              : 45 rows 4 cols\n",
      "  -> target variable   : 45 values\n",
      "  -> model_class       : sklearn.linear_model._logistic.LogisticRegression (default)\n",
      "  -> label             : Logistic Regression\n",
      "  -> predict function  : <function yhat_proba_default at 0x000002190C19F7E0> will be used (default)\n",
      "  -> predict function  : Accepts pandas.DataFrame and numpy.ndarray.\n",
      "  -> predicted values  : min = 0.00209, mean = 0.284, max = 0.945\n",
      "  -> model type        : classification will be used (default)\n",
      "  -> residual function : difference between y and yhat (default)\n",
      "  -> residuals         : min = -0.058, mean = 0.583, max = 2.0\n",
      "  -> model_info        : package sklearn\n",
      "\n",
      "A new explainer has been created!\n"
     ]
    },
    {
     "data": {
      "application/vnd.plotly.v1+json": {
       "config": {
        "displaylogo": false,
        "modeBarButtonsToRemove": [
         "sendDataToCloud",
         "lasso2d",
         "autoScale2d",
         "select2d",
         "zoom2d",
         "pan2d",
         "zoomIn2d",
         "zoomOut2d",
         "resetScale2d",
         "toggleSpikelines",
         "hoverCompareCartesian",
         "hoverClosestCartesian"
        ],
        "plotlyServerURL": "https://plot.ly",
        "staticPlot": false,
        "toImageButtonOptions": {
         "height": null,
         "width": null
        }
       },
       "data": [
        {
         "base": 0.2873333333333334,
         "connector": {
          "line": {
           "color": "#371ea3",
           "dash": "solid",
           "width": 1
          },
          "mode": "spanning"
         },
         "decreasing": {
          "marker": {
           "color": "#f05a71"
          }
         },
         "hoverinfo": "text+delta",
         "hoverlabel": {
          "bgcolor": "rgba(0,0,0,0.8)"
         },
         "hovertext": [
          "Average response: 0.287<br>Prediction: 0.97",
          "petal width (cm) = 1.2<br>increases average response by",
          "petal length (cm) = 4.7<br>increases average response by",
          "sepal length (cm) = 6.1<br>increases average response by",
          "sepal width (cm) = 2.8<br>increases average response by",
          "Average response: 0.287<br>Prediction: 0.97"
         ],
         "increasing": {
          "marker": {
           "color": "#8bdcbe"
          }
         },
         "measure": [
          "relative",
          "relative",
          "relative",
          "relative",
          "relative",
          "total"
         ],
         "orientation": "h",
         "showlegend": false,
         "text": [
          "0.287",
          "+0.298",
          "+0.354",
          "+0.027",
          "+0.004",
          "0.97"
         ],
         "textposition": "outside",
         "totals": {
          "marker": {
           "color": "#371ea3"
          }
         },
         "type": "waterfall",
         "x": [
          0,
          0.298,
          0.354,
          0.027,
          0.004,
          0.683
         ],
         "xaxis": "x",
         "y": [
          "intercept",
          "petal width (cm) = 1.2",
          "petal length (cm) = 4.7",
          "sepal length (cm) = 6.1",
          "sepal width (cm) = 2.8",
          "prediction"
         ],
         "yaxis": "y"
        }
       ],
       "layout": {
        "annotations": [
         {
          "font": {
           "size": 16
          },
          "showarrow": false,
          "text": "Random Forest",
          "x": 0.5,
          "xanchor": "center",
          "xref": "paper",
          "y": 1,
          "yanchor": "bottom",
          "yref": "paper"
         },
         {
          "font": {
           "size": 16
          },
          "showarrow": false,
          "text": "contribution",
          "x": 0.5,
          "xanchor": "center",
          "xref": "paper",
          "y": 0,
          "yanchor": "top",
          "yref": "paper",
          "yshift": -30
         }
        ],
        "font": {
         "color": "#371ea3"
        },
        "height": 273,
        "margin": {
         "b": 71,
         "r": 30,
         "t": 78
        },
        "shapes": [
         {
          "line": {
           "color": "#371ea3",
           "dash": "dot",
           "width": 1.5
          },
          "type": "line",
          "x0": 0.2873333333333334,
          "x1": 0.2873333333333334,
          "xref": "x",
          "y0": -1,
          "y1": 6,
          "yref": "y"
         }
        ],
        "template": {
         "data": {
          "scatter": [
           {
            "type": "scatter"
           }
          ]
         }
        },
        "title": {
         "text": "Break Down",
         "x": 0.15
        },
        "xaxis": {
         "anchor": "y",
         "automargin": true,
         "domain": [
          0,
          1
         ],
         "fixedrange": true,
         "gridwidth": 2,
         "range": [
          0.18455,
          1.07245
         ],
         "tickcolor": "white",
         "ticklen": 3,
         "ticks": "outside",
         "type": "linear",
         "zeroline": false
        },
        "yaxis": {
         "anchor": "x",
         "automargin": true,
         "autorange": "reversed",
         "domain": [
          0,
          1
         ],
         "fixedrange": true,
         "gridwidth": 2,
         "tickcolor": "white",
         "ticklen": 10,
         "ticks": "outside",
         "type": "category"
        }
       }
      }
     },
     "metadata": {},
     "output_type": "display_data"
    },
    {
     "data": {
      "application/vnd.plotly.v1+json": {
       "config": {
        "displaylogo": false,
        "modeBarButtonsToRemove": [
         "sendDataToCloud",
         "lasso2d",
         "autoScale2d",
         "select2d",
         "zoom2d",
         "pan2d",
         "zoomIn2d",
         "zoomOut2d",
         "resetScale2d",
         "toggleSpikelines",
         "hoverCompareCartesian",
         "hoverClosestCartesian"
        ],
        "plotlyServerURL": "https://plot.ly",
        "staticPlot": false,
        "toImageButtonOptions": {
         "height": null,
         "width": null
        }
       },
       "data": [
        {
         "base": 0.2873333333333334,
         "hoverinfo": "text",
         "hoverlabel": {
          "bgcolor": "rgba(0,0,0,0.8)"
         },
         "hovertext": [
          "Average response: 0.287<br>Prediction: 0.97<br>petal width (cm) = 1.2<br>increases average response <br>by 0.353",
          "Average response: 0.287<br>Prediction: 0.97<br>petal length (cm) = 4.7<br>increases average response <br>by 0.3",
          "Average response: 0.287<br>Prediction: 0.97<br>sepal length (cm) = 6.1<br>increases average response <br>by 0.027",
          "Average response: 0.287<br>Prediction: 0.97<br>sepal width (cm) = 2.8<br>increases average response <br>by 0.003"
         ],
         "marker": {
          "color": [
           "#8bdcbe",
           "#8bdcbe",
           "#8bdcbe",
           "#8bdcbe"
          ]
         },
         "orientation": "h",
         "showlegend": false,
         "text": [
          "+0.353",
          "+0.3",
          "+0.027",
          "+0.003"
         ],
         "textposition": "outside",
         "type": "bar",
         "x": [
          0.353,
          0.3,
          0.027,
          0.003
         ],
         "xaxis": "x",
         "y": [
          "petal width (cm) = 1.2",
          "petal length (cm) = 4.7",
          "sepal length (cm) = 6.1",
          "sepal width (cm) = 2.8"
         ],
         "yaxis": "y"
        }
       ],
       "layout": {
        "annotations": [
         {
          "font": {
           "size": 16
          },
          "showarrow": false,
          "text": "Random Forest",
          "x": 0.5,
          "xanchor": "center",
          "xref": "paper",
          "y": 1,
          "yanchor": "bottom",
          "yref": "paper"
         },
         {
          "font": {
           "size": 16
          },
          "showarrow": false,
          "text": "contribution",
          "x": 0.5,
          "xanchor": "center",
          "xref": "paper",
          "y": 0,
          "yanchor": "top",
          "yref": "paper",
          "yshift": -30
         }
        ],
        "font": {
         "color": "#371ea3"
        },
        "height": 233,
        "margin": {
         "b": 71,
         "r": 30,
         "t": 78
        },
        "shapes": [
         {
          "line": {
           "color": "#371ea3",
           "dash": "dot",
           "width": 1.5
          },
          "type": "line",
          "x0": 0.2873333333333334,
          "x1": 0.2873333333333334,
          "xref": "x",
          "y0": -1,
          "y1": 4,
          "yref": "y"
         }
        ],
        "template": {
         "data": {
          "scatter": [
           {
            "type": "scatter"
           }
          ]
         }
        },
        "title": {
         "text": "Shapley Values",
         "x": 0.15
        },
        "xaxis": {
         "anchor": "y",
         "automargin": true,
         "domain": [
          0,
          1
         ],
         "fixedrange": true,
         "gridwidth": 2,
         "range": [
          0.2378333333333334,
          0.6928333333333334
         ],
         "tickcolor": "white",
         "ticklen": 3,
         "ticks": "outside",
         "type": "linear",
         "zeroline": false
        },
        "yaxis": {
         "anchor": "x",
         "automargin": true,
         "autorange": "reversed",
         "domain": [
          0,
          1
         ],
         "fixedrange": true,
         "gridwidth": 2,
         "tickcolor": "white",
         "ticklen": 10,
         "ticks": "outside",
         "type": "category"
        }
       }
      }
     },
     "metadata": {},
     "output_type": "display_data"
    },
    {
     "data": {
      "application/vnd.plotly.v1+json": {
       "config": {
        "displaylogo": false,
        "modeBarButtonsToRemove": [
         "sendDataToCloud",
         "lasso2d",
         "autoScale2d",
         "select2d",
         "zoom2d",
         "pan2d",
         "zoomIn2d",
         "zoomOut2d",
         "resetScale2d",
         "toggleSpikelines",
         "hoverCompareCartesian",
         "hoverClosestCartesian"
        ],
        "plotlyServerURL": "https://plot.ly",
        "staticPlot": false,
        "toImageButtonOptions": {
         "height": null,
         "width": null
        }
       },
       "data": [
        {
         "base": -0.34188034188034155,
         "hoverinfo": "text",
         "hoverlabel": {
          "bgcolor": "rgba(0,0,0,0.8)"
         },
         "hovertext": [
          "Model: Random Forest loss after<br>variable: petal width (cm) is permuted: 0.327<br>Drop-out loss change: +0.669",
          "Model: Random Forest loss after<br>variable: petal length (cm) is permuted: 0.244<br>Drop-out loss change: +0.586",
          "Model: Random Forest loss after<br>variable: sepal length (cm) is permuted: 0.103<br>Drop-out loss change: +0.444",
          "Model: Random Forest loss after<br>variable: sepal width (cm) is permuted: 0.031<br>Drop-out loss change: +0.373"
         ],
         "marker": {
          "color": "#46bac2"
         },
         "orientation": "h",
         "showlegend": false,
         "text": [
          "+0.669",
          "+0.586",
          "+0.444",
          "+0.373"
         ],
         "textposition": "outside",
         "type": "bar",
         "x": [
          0.6685897435897433,
          0.5858974358974356,
          0.4444444444444441,
          0.37264957264957227
         ],
         "xaxis": "x",
         "y": [
          "petal width (cm)",
          "petal length (cm)",
          "sepal length (cm)",
          "sepal width (cm)"
         ],
         "yaxis": "y"
        }
       ],
       "layout": {
        "annotations": [
         {
          "font": {
           "size": 16
          },
          "showarrow": false,
          "text": "Random Forest",
          "x": 0.5,
          "xanchor": "center",
          "xref": "paper",
          "y": 1,
          "yanchor": "bottom",
          "yref": "paper"
         },
         {
          "font": {
           "size": 16
          },
          "showarrow": false,
          "text": "drop-out loss",
          "x": 0.5,
          "xanchor": "center",
          "xref": "paper",
          "y": 0,
          "yanchor": "top",
          "yref": "paper",
          "yshift": -30
         }
        ],
        "font": {
         "color": "#371ea3"
        },
        "height": 263,
        "margin": {
         "b": 71,
         "r": 30,
         "t": 78
        },
        "shapes": [
         {
          "line": {
           "color": "#371ea3",
           "dash": "dot",
           "width": 1.5
          },
          "type": "line",
          "x0": -0.34188034188034155,
          "x1": -0.34188034188034155,
          "xref": "x",
          "y0": -1,
          "y1": 4,
          "yref": "y"
         }
        ],
        "template": {
         "data": {
          "scatter": [
           {
            "type": "scatter"
           }
          ]
         }
        },
        "title": {
         "text": "Variable Importance",
         "x": 0.15
        },
        "xaxis": {
         "anchor": "y",
         "automargin": true,
         "domain": [
          0,
          1
         ],
         "fixedrange": true,
         "gridwidth": 2,
         "range": [
          -0.44216880341880305,
          0.42699786324786326
         ],
         "tickcolor": "white",
         "ticklen": 3,
         "ticks": "outside",
         "type": "linear",
         "zeroline": false
        },
        "yaxis": {
         "anchor": "x",
         "automargin": true,
         "autorange": "reversed",
         "domain": [
          0,
          1
         ],
         "fixedrange": true,
         "gridwidth": 2,
         "tickcolor": "white",
         "ticklen": 10,
         "ticks": "outside",
         "type": "category"
        }
       }
      }
     },
     "metadata": {},
     "output_type": "display_data"
    },
    {
     "name": "stdout",
     "output_type": "stream",
     "text": [
      "Random Forest\n",
      "Logistic Regression\n"
     ]
    },
    {
     "name": "stderr",
     "output_type": "stream",
     "text": [
      "Calculating ceteris paribus: 100%|██████████| 1/1 [00:00<00:00, 43.97it/s]\n"
     ]
    },
    {
     "data": {
      "application/vnd.plotly.v1+json": {
       "config": {
        "displaylogo": false,
        "modeBarButtonsToRemove": [
         "sendDataToCloud",
         "lasso2d",
         "autoScale2d",
         "select2d",
         "zoom2d",
         "pan2d",
         "zoomIn2d",
         "zoomOut2d",
         "resetScale2d",
         "toggleSpikelines",
         "hoverCompareCartesian",
         "hoverClosestCartesian"
        ],
        "plotlyServerURL": "https://plot.ly",
        "staticPlot": false,
        "toImageButtonOptions": {
         "height": null,
         "width": null
        }
       },
       "data": [
        {
         "customdata": [
          [
           0.28733333333333333,
           "Random Forest",
           "sepal length (cm)"
          ],
          [
           0.28733333333333333,
           "Random Forest",
           "sepal length (cm)"
          ],
          [
           0.28733333333333333,
           "Random Forest",
           "sepal length (cm)"
          ],
          [
           0.28733333333333333,
           "Random Forest",
           "sepal length (cm)"
          ],
          [
           0.28733333333333333,
           "Random Forest",
           "sepal length (cm)"
          ],
          [
           0.28733333333333333,
           "Random Forest",
           "sepal length (cm)"
          ],
          [
           0.28733333333333333,
           "Random Forest",
           "sepal length (cm)"
          ],
          [
           0.28733333333333333,
           "Random Forest",
           "sepal length (cm)"
          ],
          [
           0.28733333333333333,
           "Random Forest",
           "sepal length (cm)"
          ],
          [
           0.28733333333333333,
           "Random Forest",
           "sepal length (cm)"
          ],
          [
           0.28733333333333333,
           "Random Forest",
           "sepal length (cm)"
          ],
          [
           0.28733333333333333,
           "Random Forest",
           "sepal length (cm)"
          ],
          [
           0.28733333333333333,
           "Random Forest",
           "sepal length (cm)"
          ],
          [
           0.28733333333333333,
           "Random Forest",
           "sepal length (cm)"
          ],
          [
           0.28733333333333333,
           "Random Forest",
           "sepal length (cm)"
          ],
          [
           0.28733333333333333,
           "Random Forest",
           "sepal length (cm)"
          ],
          [
           0.28733333333333333,
           "Random Forest",
           "sepal length (cm)"
          ],
          [
           0.28733333333333333,
           "Random Forest",
           "sepal length (cm)"
          ],
          [
           0.28733333333333333,
           "Random Forest",
           "sepal length (cm)"
          ],
          [
           0.28733333333333333,
           "Random Forest",
           "sepal length (cm)"
          ],
          [
           0.28733333333333333,
           "Random Forest",
           "sepal length (cm)"
          ],
          [
           0.28733333333333333,
           "Random Forest",
           "sepal length (cm)"
          ],
          [
           0.28733333333333333,
           "Random Forest",
           "sepal length (cm)"
          ],
          [
           0.28733333333333333,
           "Random Forest",
           "sepal length (cm)"
          ],
          [
           0.28733333333333333,
           "Random Forest",
           "sepal length (cm)"
          ],
          [
           0.28733333333333333,
           "Random Forest",
           "sepal length (cm)"
          ],
          [
           0.28733333333333333,
           "Random Forest",
           "sepal length (cm)"
          ],
          [
           0.28733333333333333,
           "Random Forest",
           "sepal length (cm)"
          ],
          [
           0.28733333333333333,
           "Random Forest",
           "sepal length (cm)"
          ],
          [
           0.28733333333333333,
           "Random Forest",
           "sepal length (cm)"
          ],
          [
           0.28733333333333333,
           "Random Forest",
           "sepal length (cm)"
          ],
          [
           0.28733333333333333,
           "Random Forest",
           "sepal length (cm)"
          ],
          [
           0.28733333333333333,
           "Random Forest",
           "sepal length (cm)"
          ],
          [
           0.28733333333333333,
           "Random Forest",
           "sepal length (cm)"
          ],
          [
           0.28733333333333333,
           "Random Forest",
           "sepal length (cm)"
          ],
          [
           0.28733333333333333,
           "Random Forest",
           "sepal length (cm)"
          ],
          [
           0.28733333333333333,
           "Random Forest",
           "sepal length (cm)"
          ],
          [
           0.28733333333333333,
           "Random Forest",
           "sepal length (cm)"
          ],
          [
           0.28733333333333333,
           "Random Forest",
           "sepal length (cm)"
          ],
          [
           0.28733333333333333,
           "Random Forest",
           "sepal length (cm)"
          ],
          [
           0.28733333333333333,
           "Random Forest",
           "sepal length (cm)"
          ],
          [
           0.28733333333333333,
           "Random Forest",
           "sepal length (cm)"
          ],
          [
           0.28733333333333333,
           "Random Forest",
           "sepal length (cm)"
          ],
          [
           0.28733333333333333,
           "Random Forest",
           "sepal length (cm)"
          ],
          [
           0.28733333333333333,
           "Random Forest",
           "sepal length (cm)"
          ],
          [
           0.28733333333333333,
           "Random Forest",
           "sepal length (cm)"
          ],
          [
           0.28733333333333333,
           "Random Forest",
           "sepal length (cm)"
          ],
          [
           0.28733333333333333,
           "Random Forest",
           "sepal length (cm)"
          ],
          [
           0.28733333333333333,
           "Random Forest",
           "sepal length (cm)"
          ],
          [
           0.28733333333333333,
           "Random Forest",
           "sepal length (cm)"
          ],
          [
           0.28733333333333333,
           "Random Forest",
           "sepal length (cm)"
          ],
          [
           0.28733333333333333,
           "Random Forest",
           "sepal length (cm)"
          ],
          [
           0.28733333333333333,
           "Random Forest",
           "sepal length (cm)"
          ],
          [
           0.28733333333333333,
           "Random Forest",
           "sepal length (cm)"
          ],
          [
           0.28733333333333333,
           "Random Forest",
           "sepal length (cm)"
          ],
          [
           0.28733333333333333,
           "Random Forest",
           "sepal length (cm)"
          ],
          [
           0.28733333333333333,
           "Random Forest",
           "sepal length (cm)"
          ],
          [
           0.28733333333333333,
           "Random Forest",
           "sepal length (cm)"
          ],
          [
           0.28733333333333333,
           "Random Forest",
           "sepal length (cm)"
          ],
          [
           0.28733333333333333,
           "Random Forest",
           "sepal length (cm)"
          ],
          [
           0.28733333333333333,
           "Random Forest",
           "sepal length (cm)"
          ],
          [
           0.28733333333333333,
           "Random Forest",
           "sepal length (cm)"
          ],
          [
           0.28733333333333333,
           "Random Forest",
           "sepal length (cm)"
          ],
          [
           0.28733333333333333,
           "Random Forest",
           "sepal length (cm)"
          ],
          [
           0.28733333333333333,
           "Random Forest",
           "sepal length (cm)"
          ],
          [
           0.28733333333333333,
           "Random Forest",
           "sepal length (cm)"
          ],
          [
           0.28733333333333333,
           "Random Forest",
           "sepal length (cm)"
          ],
          [
           0.28733333333333333,
           "Random Forest",
           "sepal length (cm)"
          ],
          [
           0.28733333333333333,
           "Random Forest",
           "sepal length (cm)"
          ],
          [
           0.28733333333333333,
           "Random Forest",
           "sepal length (cm)"
          ],
          [
           0.28733333333333333,
           "Random Forest",
           "sepal length (cm)"
          ],
          [
           0.28733333333333333,
           "Random Forest",
           "sepal length (cm)"
          ],
          [
           0.28733333333333333,
           "Random Forest",
           "sepal length (cm)"
          ],
          [
           0.28733333333333333,
           "Random Forest",
           "sepal length (cm)"
          ],
          [
           0.28733333333333333,
           "Random Forest",
           "sepal length (cm)"
          ],
          [
           0.28733333333333333,
           "Random Forest",
           "sepal length (cm)"
          ],
          [
           0.28733333333333333,
           "Random Forest",
           "sepal length (cm)"
          ],
          [
           0.28733333333333333,
           "Random Forest",
           "sepal length (cm)"
          ],
          [
           0.28733333333333333,
           "Random Forest",
           "sepal length (cm)"
          ],
          [
           0.28733333333333333,
           "Random Forest",
           "sepal length (cm)"
          ],
          [
           0.28733333333333333,
           "Random Forest",
           "sepal length (cm)"
          ],
          [
           0.28733333333333333,
           "Random Forest",
           "sepal length (cm)"
          ],
          [
           0.28733333333333333,
           "Random Forest",
           "sepal length (cm)"
          ],
          [
           0.28733333333333333,
           "Random Forest",
           "sepal length (cm)"
          ],
          [
           0.28733333333333333,
           "Random Forest",
           "sepal length (cm)"
          ],
          [
           0.28733333333333333,
           "Random Forest",
           "sepal length (cm)"
          ],
          [
           0.28733333333333333,
           "Random Forest",
           "sepal length (cm)"
          ],
          [
           0.28733333333333333,
           "Random Forest",
           "sepal length (cm)"
          ],
          [
           0.28733333333333333,
           "Random Forest",
           "sepal length (cm)"
          ],
          [
           0.28733333333333333,
           "Random Forest",
           "sepal length (cm)"
          ],
          [
           0.28733333333333333,
           "Random Forest",
           "sepal length (cm)"
          ],
          [
           0.28733333333333333,
           "Random Forest",
           "sepal length (cm)"
          ],
          [
           0.28733333333333333,
           "Random Forest",
           "sepal length (cm)"
          ],
          [
           0.28733333333333333,
           "Random Forest",
           "sepal length (cm)"
          ],
          [
           0.28733333333333333,
           "Random Forest",
           "sepal length (cm)"
          ],
          [
           0.28733333333333333,
           "Random Forest",
           "sepal length (cm)"
          ],
          [
           0.28733333333333333,
           "Random Forest",
           "sepal length (cm)"
          ],
          [
           0.28733333333333333,
           "Random Forest",
           "sepal length (cm)"
          ],
          [
           0.28733333333333333,
           "Random Forest",
           "sepal length (cm)"
          ],
          [
           0.28733333333333333,
           "Random Forest",
           "sepal length (cm)"
          ],
          [
           0.28733333333333333,
           "Random Forest",
           "sepal length (cm)"
          ]
         ],
         "hovertemplate": "<b>%{hovertext}</b><br><br>prediction=%{y:.3f}<br>mean_prediction=%{customdata[0]:.3f}<extra></extra>",
         "hovertext": [
          "Random Forest",
          "Random Forest",
          "Random Forest",
          "Random Forest",
          "Random Forest",
          "Random Forest",
          "Random Forest",
          "Random Forest",
          "Random Forest",
          "Random Forest",
          "Random Forest",
          "Random Forest",
          "Random Forest",
          "Random Forest",
          "Random Forest",
          "Random Forest",
          "Random Forest",
          "Random Forest",
          "Random Forest",
          "Random Forest",
          "Random Forest",
          "Random Forest",
          "Random Forest",
          "Random Forest",
          "Random Forest",
          "Random Forest",
          "Random Forest",
          "Random Forest",
          "Random Forest",
          "Random Forest",
          "Random Forest",
          "Random Forest",
          "Random Forest",
          "Random Forest",
          "Random Forest",
          "Random Forest",
          "Random Forest",
          "Random Forest",
          "Random Forest",
          "Random Forest",
          "Random Forest",
          "Random Forest",
          "Random Forest",
          "Random Forest",
          "Random Forest",
          "Random Forest",
          "Random Forest",
          "Random Forest",
          "Random Forest",
          "Random Forest",
          "Random Forest",
          "Random Forest",
          "Random Forest",
          "Random Forest",
          "Random Forest",
          "Random Forest",
          "Random Forest",
          "Random Forest",
          "Random Forest",
          "Random Forest",
          "Random Forest",
          "Random Forest",
          "Random Forest",
          "Random Forest",
          "Random Forest",
          "Random Forest",
          "Random Forest",
          "Random Forest",
          "Random Forest",
          "Random Forest",
          "Random Forest",
          "Random Forest",
          "Random Forest",
          "Random Forest",
          "Random Forest",
          "Random Forest",
          "Random Forest",
          "Random Forest",
          "Random Forest",
          "Random Forest",
          "Random Forest",
          "Random Forest",
          "Random Forest",
          "Random Forest",
          "Random Forest",
          "Random Forest",
          "Random Forest",
          "Random Forest",
          "Random Forest",
          "Random Forest",
          "Random Forest",
          "Random Forest",
          "Random Forest",
          "Random Forest",
          "Random Forest",
          "Random Forest",
          "Random Forest",
          "Random Forest",
          "Random Forest",
          "Random Forest",
          "Random Forest"
         ],
         "legendgroup": "Random Forest",
         "line": {
          "color": "#46bac2",
          "dash": "solid",
          "width": 2
         },
         "marker": {
          "symbol": "circle"
         },
         "mode": "lines",
         "name": "Random Forest",
         "opacity": 1,
         "orientation": "v",
         "showlegend": true,
         "type": "scatter",
         "x": [
          4.4,
          4.4350000000000005,
          4.470000000000001,
          4.505000000000001,
          4.54,
          4.575,
          4.61,
          4.6450000000000005,
          4.680000000000001,
          4.715000000000001,
          4.75,
          4.785,
          4.82,
          4.855,
          4.890000000000001,
          4.925000000000001,
          4.960000000000001,
          4.995,
          5.03,
          5.065,
          5.1000000000000005,
          5.135000000000001,
          5.17,
          5.205,
          5.24,
          5.275,
          5.3100000000000005,
          5.345000000000001,
          5.380000000000001,
          5.415000000000001,
          5.45,
          5.485,
          5.5200000000000005,
          5.555000000000001,
          5.590000000000001,
          5.625,
          5.66,
          5.695,
          5.73,
          5.765000000000001,
          5.800000000000001,
          5.835000000000001,
          5.870000000000001,
          5.905,
          5.94,
          5.9750000000000005,
          6.010000000000001,
          6.045000000000001,
          6.08,
          6.115,
          6.15,
          6.1850000000000005,
          6.220000000000001,
          6.255000000000001,
          6.290000000000001,
          6.325000000000001,
          6.36,
          6.3950000000000005,
          6.430000000000001,
          6.465000000000001,
          6.5,
          6.535,
          6.57,
          6.605,
          6.640000000000001,
          6.675000000000001,
          6.710000000000001,
          6.745000000000001,
          6.780000000000001,
          6.815,
          6.8500000000000005,
          6.885000000000001,
          6.920000000000001,
          6.955,
          6.99,
          7.025,
          7.0600000000000005,
          7.095000000000001,
          7.130000000000001,
          7.165000000000001,
          7.200000000000001,
          7.235000000000001,
          7.2700000000000005,
          7.305000000000001,
          7.340000000000001,
          7.375,
          7.41,
          7.445,
          7.48,
          7.515000000000001,
          7.550000000000001,
          7.585000000000001,
          7.620000000000001,
          7.655000000000001,
          7.690000000000001,
          7.7250000000000005,
          7.760000000000001,
          7.795000000000001,
          7.83,
          7.865,
          7.9
         ],
         "xaxis": "x",
         "y": [
          0.26266666666666666,
          0.26266666666666666,
          0.26266666666666666,
          0.26266666666666666,
          0.26266666666666666,
          0.26266666666666666,
          0.26266666666666666,
          0.26266666666666666,
          0.26266666666666666,
          0.26266666666666666,
          0.26266666666666666,
          0.26266666666666666,
          0.26266666666666666,
          0.26266666666666666,
          0.26266666666666666,
          0.26266666666666666,
          0.29733333333333334,
          0.29733333333333334,
          0.29733333333333334,
          0.29733333333333334,
          0.29733333333333334,
          0.29733333333333334,
          0.30377777777777776,
          0.30377777777777776,
          0.30377777777777776,
          0.31355555555555553,
          0.31355555555555553,
          0.31355555555555553,
          0.3164444444444445,
          0.31777777777777777,
          0.31777777777777777,
          0.3191111111111111,
          0.3191111111111111,
          0.3188888888888889,
          0.3188888888888889,
          0.3188888888888889,
          0.3188888888888889,
          0.3188888888888889,
          0.3188888888888889,
          0.31755555555555554,
          0.31755555555555554,
          0.31755555555555554,
          0.3277777777777778,
          0.32844444444444443,
          0.32844444444444443,
          0.32222222222222224,
          0.32222222222222224,
          0.32222222222222224,
          0.31555555555555553,
          0.3131111111111111,
          0.32733333333333337,
          0.32666666666666666,
          0.3268888888888889,
          0.32933333333333337,
          0.32933333333333337,
          0.32933333333333337,
          0.33511111111111114,
          0.33511111111111114,
          0.3406666666666667,
          0.3406666666666667,
          0.3406666666666667,
          0.34488888888888886,
          0.34488888888888886,
          0.3453333333333333,
          0.3453333333333333,
          0.3453333333333333,
          0.3453333333333333,
          0.3453333333333333,
          0.34488888888888886,
          0.34488888888888886,
          0.34488888888888886,
          0.34488888888888886,
          0.34488888888888886,
          0.34488888888888886,
          0.34488888888888886,
          0.34488888888888886,
          0.34022222222222226,
          0.34022222222222226,
          0.3373333333333333,
          0.3373333333333333,
          0.3373333333333333,
          0.3373333333333333,
          0.3373333333333333,
          0.3373333333333333,
          0.3373333333333333,
          0.3373333333333333,
          0.3373333333333333,
          0.3373333333333333,
          0.3373333333333333,
          0.3373333333333333,
          0.3373333333333333,
          0.3373333333333333,
          0.3373333333333333,
          0.3373333333333333,
          0.3373333333333333,
          0.3373333333333333,
          0.3373333333333333,
          0.3373333333333333,
          0.3373333333333333,
          0.3373333333333333,
          0.3373333333333333
         ],
         "yaxis": "y"
        }
       ],
       "layout": {
        "annotations": [
         {
          "font": {
           "size": 13
          },
          "showarrow": false,
          "text": "sepal length (cm)",
          "x": 0.5,
          "xanchor": "center",
          "xref": "paper",
          "y": 1,
          "yanchor": "bottom",
          "yref": "paper"
         },
         {
          "font": {
           "size": 13
          },
          "showarrow": false,
          "text": "prediction",
          "textangle": -90,
          "x": -0.07,
          "xref": "paper",
          "y": 0.5,
          "yref": "paper"
         }
        ],
        "font": {
         "color": "#371ea3"
        },
        "height": 489,
        "hovermode": "x unified",
        "legend": {
         "font": {
          "size": 11
         },
         "itemsizing": "constant",
         "orientation": "h",
         "title": {
          "font": {
           "size": 12
          },
          "text": "label"
         },
         "tracegroupgap": 0,
         "x": 1,
         "xanchor": "right",
         "y": 1.0613496932515338,
         "yanchor": "bottom"
        },
        "margin": {
         "b": 71,
         "r": 30,
         "t": 78
        },
        "template": {
         "data": {
          "scatter": [
           {
            "type": "scatter"
           }
          ]
         }
        },
        "title": {
         "font": {
          "size": 16
         },
         "text": "Aggregated Profiles",
         "x": 0.15
        },
        "xaxis": {
         "anchor": "y",
         "automargin": true,
         "domain": [
          0,
          1
         ],
         "fixedrange": true,
         "gridwidth": 2,
         "showticklabels": true,
         "tickcolor": "white",
         "ticklen": 3,
         "ticks": "outside",
         "title": {
          "text": ""
         },
         "type": "linear",
         "zeroline": false
        },
        "yaxis": {
         "anchor": "x",
         "automargin": true,
         "domain": [
          0,
          1
         ],
         "fixedrange": true,
         "gridwidth": 2,
         "range": [
          0.2544,
          0.35359999999999997
         ],
         "tickcolor": "white",
         "ticklen": 3,
         "ticks": "outside",
         "title": {
          "text": ""
         },
         "type": "linear",
         "zeroline": false
        }
       }
      }
     },
     "metadata": {},
     "output_type": "display_data"
    },
    {
     "name": "stderr",
     "output_type": "stream",
     "text": [
      "Calculating ceteris paribus: 100%|██████████| 1/1 [00:00<00:00, 176.53it/s]\n"
     ]
    },
    {
     "data": {
      "application/vnd.plotly.v1+json": {
       "config": {
        "displaylogo": false,
        "modeBarButtonsToRemove": [
         "sendDataToCloud",
         "lasso2d",
         "autoScale2d",
         "select2d",
         "zoom2d",
         "pan2d",
         "zoomIn2d",
         "zoomOut2d",
         "resetScale2d",
         "toggleSpikelines",
         "hoverCompareCartesian",
         "hoverClosestCartesian"
        ],
        "plotlyServerURL": "https://plot.ly",
        "staticPlot": false,
        "toImageButtonOptions": {
         "height": null,
         "width": null
        }
       },
       "data": [
        {
         "customdata": [
          [
           0.2840298587733561,
           "Logistic Regression",
           "sepal length (cm)"
          ],
          [
           0.2840298587733561,
           "Logistic Regression",
           "sepal length (cm)"
          ],
          [
           0.2840298587733561,
           "Logistic Regression",
           "sepal length (cm)"
          ],
          [
           0.2840298587733561,
           "Logistic Regression",
           "sepal length (cm)"
          ],
          [
           0.2840298587733561,
           "Logistic Regression",
           "sepal length (cm)"
          ],
          [
           0.2840298587733561,
           "Logistic Regression",
           "sepal length (cm)"
          ],
          [
           0.2840298587733561,
           "Logistic Regression",
           "sepal length (cm)"
          ],
          [
           0.2840298587733561,
           "Logistic Regression",
           "sepal length (cm)"
          ],
          [
           0.2840298587733561,
           "Logistic Regression",
           "sepal length (cm)"
          ],
          [
           0.2840298587733561,
           "Logistic Regression",
           "sepal length (cm)"
          ],
          [
           0.2840298587733561,
           "Logistic Regression",
           "sepal length (cm)"
          ],
          [
           0.2840298587733561,
           "Logistic Regression",
           "sepal length (cm)"
          ],
          [
           0.2840298587733561,
           "Logistic Regression",
           "sepal length (cm)"
          ],
          [
           0.2840298587733561,
           "Logistic Regression",
           "sepal length (cm)"
          ],
          [
           0.2840298587733561,
           "Logistic Regression",
           "sepal length (cm)"
          ],
          [
           0.2840298587733561,
           "Logistic Regression",
           "sepal length (cm)"
          ],
          [
           0.2840298587733561,
           "Logistic Regression",
           "sepal length (cm)"
          ],
          [
           0.2840298587733561,
           "Logistic Regression",
           "sepal length (cm)"
          ],
          [
           0.2840298587733561,
           "Logistic Regression",
           "sepal length (cm)"
          ],
          [
           0.2840298587733561,
           "Logistic Regression",
           "sepal length (cm)"
          ],
          [
           0.2840298587733561,
           "Logistic Regression",
           "sepal length (cm)"
          ],
          [
           0.2840298587733561,
           "Logistic Regression",
           "sepal length (cm)"
          ],
          [
           0.2840298587733561,
           "Logistic Regression",
           "sepal length (cm)"
          ],
          [
           0.2840298587733561,
           "Logistic Regression",
           "sepal length (cm)"
          ],
          [
           0.2840298587733561,
           "Logistic Regression",
           "sepal length (cm)"
          ],
          [
           0.2840298587733561,
           "Logistic Regression",
           "sepal length (cm)"
          ],
          [
           0.2840298587733561,
           "Logistic Regression",
           "sepal length (cm)"
          ],
          [
           0.2840298587733561,
           "Logistic Regression",
           "sepal length (cm)"
          ],
          [
           0.2840298587733561,
           "Logistic Regression",
           "sepal length (cm)"
          ],
          [
           0.2840298587733561,
           "Logistic Regression",
           "sepal length (cm)"
          ],
          [
           0.2840298587733561,
           "Logistic Regression",
           "sepal length (cm)"
          ],
          [
           0.2840298587733561,
           "Logistic Regression",
           "sepal length (cm)"
          ],
          [
           0.2840298587733561,
           "Logistic Regression",
           "sepal length (cm)"
          ],
          [
           0.2840298587733561,
           "Logistic Regression",
           "sepal length (cm)"
          ],
          [
           0.2840298587733561,
           "Logistic Regression",
           "sepal length (cm)"
          ],
          [
           0.2840298587733561,
           "Logistic Regression",
           "sepal length (cm)"
          ],
          [
           0.2840298587733561,
           "Logistic Regression",
           "sepal length (cm)"
          ],
          [
           0.2840298587733561,
           "Logistic Regression",
           "sepal length (cm)"
          ],
          [
           0.2840298587733561,
           "Logistic Regression",
           "sepal length (cm)"
          ],
          [
           0.2840298587733561,
           "Logistic Regression",
           "sepal length (cm)"
          ],
          [
           0.2840298587733561,
           "Logistic Regression",
           "sepal length (cm)"
          ],
          [
           0.2840298587733561,
           "Logistic Regression",
           "sepal length (cm)"
          ],
          [
           0.2840298587733561,
           "Logistic Regression",
           "sepal length (cm)"
          ],
          [
           0.2840298587733561,
           "Logistic Regression",
           "sepal length (cm)"
          ],
          [
           0.2840298587733561,
           "Logistic Regression",
           "sepal length (cm)"
          ],
          [
           0.2840298587733561,
           "Logistic Regression",
           "sepal length (cm)"
          ],
          [
           0.2840298587733561,
           "Logistic Regression",
           "sepal length (cm)"
          ],
          [
           0.2840298587733561,
           "Logistic Regression",
           "sepal length (cm)"
          ],
          [
           0.2840298587733561,
           "Logistic Regression",
           "sepal length (cm)"
          ],
          [
           0.2840298587733561,
           "Logistic Regression",
           "sepal length (cm)"
          ],
          [
           0.2840298587733561,
           "Logistic Regression",
           "sepal length (cm)"
          ],
          [
           0.2840298587733561,
           "Logistic Regression",
           "sepal length (cm)"
          ],
          [
           0.2840298587733561,
           "Logistic Regression",
           "sepal length (cm)"
          ],
          [
           0.2840298587733561,
           "Logistic Regression",
           "sepal length (cm)"
          ],
          [
           0.2840298587733561,
           "Logistic Regression",
           "sepal length (cm)"
          ],
          [
           0.2840298587733561,
           "Logistic Regression",
           "sepal length (cm)"
          ],
          [
           0.2840298587733561,
           "Logistic Regression",
           "sepal length (cm)"
          ],
          [
           0.2840298587733561,
           "Logistic Regression",
           "sepal length (cm)"
          ],
          [
           0.2840298587733561,
           "Logistic Regression",
           "sepal length (cm)"
          ],
          [
           0.2840298587733561,
           "Logistic Regression",
           "sepal length (cm)"
          ],
          [
           0.2840298587733561,
           "Logistic Regression",
           "sepal length (cm)"
          ],
          [
           0.2840298587733561,
           "Logistic Regression",
           "sepal length (cm)"
          ],
          [
           0.2840298587733561,
           "Logistic Regression",
           "sepal length (cm)"
          ],
          [
           0.2840298587733561,
           "Logistic Regression",
           "sepal length (cm)"
          ],
          [
           0.2840298587733561,
           "Logistic Regression",
           "sepal length (cm)"
          ],
          [
           0.2840298587733561,
           "Logistic Regression",
           "sepal length (cm)"
          ],
          [
           0.2840298587733561,
           "Logistic Regression",
           "sepal length (cm)"
          ],
          [
           0.2840298587733561,
           "Logistic Regression",
           "sepal length (cm)"
          ],
          [
           0.2840298587733561,
           "Logistic Regression",
           "sepal length (cm)"
          ],
          [
           0.2840298587733561,
           "Logistic Regression",
           "sepal length (cm)"
          ],
          [
           0.2840298587733561,
           "Logistic Regression",
           "sepal length (cm)"
          ],
          [
           0.2840298587733561,
           "Logistic Regression",
           "sepal length (cm)"
          ],
          [
           0.2840298587733561,
           "Logistic Regression",
           "sepal length (cm)"
          ],
          [
           0.2840298587733561,
           "Logistic Regression",
           "sepal length (cm)"
          ],
          [
           0.2840298587733561,
           "Logistic Regression",
           "sepal length (cm)"
          ],
          [
           0.2840298587733561,
           "Logistic Regression",
           "sepal length (cm)"
          ],
          [
           0.2840298587733561,
           "Logistic Regression",
           "sepal length (cm)"
          ],
          [
           0.2840298587733561,
           "Logistic Regression",
           "sepal length (cm)"
          ],
          [
           0.2840298587733561,
           "Logistic Regression",
           "sepal length (cm)"
          ],
          [
           0.2840298587733561,
           "Logistic Regression",
           "sepal length (cm)"
          ],
          [
           0.2840298587733561,
           "Logistic Regression",
           "sepal length (cm)"
          ],
          [
           0.2840298587733561,
           "Logistic Regression",
           "sepal length (cm)"
          ],
          [
           0.2840298587733561,
           "Logistic Regression",
           "sepal length (cm)"
          ],
          [
           0.2840298587733561,
           "Logistic Regression",
           "sepal length (cm)"
          ],
          [
           0.2840298587733561,
           "Logistic Regression",
           "sepal length (cm)"
          ],
          [
           0.2840298587733561,
           "Logistic Regression",
           "sepal length (cm)"
          ],
          [
           0.2840298587733561,
           "Logistic Regression",
           "sepal length (cm)"
          ],
          [
           0.2840298587733561,
           "Logistic Regression",
           "sepal length (cm)"
          ],
          [
           0.2840298587733561,
           "Logistic Regression",
           "sepal length (cm)"
          ],
          [
           0.2840298587733561,
           "Logistic Regression",
           "sepal length (cm)"
          ],
          [
           0.2840298587733561,
           "Logistic Regression",
           "sepal length (cm)"
          ],
          [
           0.2840298587733561,
           "Logistic Regression",
           "sepal length (cm)"
          ],
          [
           0.2840298587733561,
           "Logistic Regression",
           "sepal length (cm)"
          ],
          [
           0.2840298587733561,
           "Logistic Regression",
           "sepal length (cm)"
          ],
          [
           0.2840298587733561,
           "Logistic Regression",
           "sepal length (cm)"
          ],
          [
           0.2840298587733561,
           "Logistic Regression",
           "sepal length (cm)"
          ],
          [
           0.2840298587733561,
           "Logistic Regression",
           "sepal length (cm)"
          ],
          [
           0.2840298587733561,
           "Logistic Regression",
           "sepal length (cm)"
          ],
          [
           0.2840298587733561,
           "Logistic Regression",
           "sepal length (cm)"
          ],
          [
           0.2840298587733561,
           "Logistic Regression",
           "sepal length (cm)"
          ],
          [
           0.2840298587733561,
           "Logistic Regression",
           "sepal length (cm)"
          ]
         ],
         "hovertemplate": "<b>%{hovertext}</b><br><br>prediction=%{y:.3f}<br>mean_prediction=%{customdata[0]:.3f}<extra></extra>",
         "hovertext": [
          "Logistic Regression",
          "Logistic Regression",
          "Logistic Regression",
          "Logistic Regression",
          "Logistic Regression",
          "Logistic Regression",
          "Logistic Regression",
          "Logistic Regression",
          "Logistic Regression",
          "Logistic Regression",
          "Logistic Regression",
          "Logistic Regression",
          "Logistic Regression",
          "Logistic Regression",
          "Logistic Regression",
          "Logistic Regression",
          "Logistic Regression",
          "Logistic Regression",
          "Logistic Regression",
          "Logistic Regression",
          "Logistic Regression",
          "Logistic Regression",
          "Logistic Regression",
          "Logistic Regression",
          "Logistic Regression",
          "Logistic Regression",
          "Logistic Regression",
          "Logistic Regression",
          "Logistic Regression",
          "Logistic Regression",
          "Logistic Regression",
          "Logistic Regression",
          "Logistic Regression",
          "Logistic Regression",
          "Logistic Regression",
          "Logistic Regression",
          "Logistic Regression",
          "Logistic Regression",
          "Logistic Regression",
          "Logistic Regression",
          "Logistic Regression",
          "Logistic Regression",
          "Logistic Regression",
          "Logistic Regression",
          "Logistic Regression",
          "Logistic Regression",
          "Logistic Regression",
          "Logistic Regression",
          "Logistic Regression",
          "Logistic Regression",
          "Logistic Regression",
          "Logistic Regression",
          "Logistic Regression",
          "Logistic Regression",
          "Logistic Regression",
          "Logistic Regression",
          "Logistic Regression",
          "Logistic Regression",
          "Logistic Regression",
          "Logistic Regression",
          "Logistic Regression",
          "Logistic Regression",
          "Logistic Regression",
          "Logistic Regression",
          "Logistic Regression",
          "Logistic Regression",
          "Logistic Regression",
          "Logistic Regression",
          "Logistic Regression",
          "Logistic Regression",
          "Logistic Regression",
          "Logistic Regression",
          "Logistic Regression",
          "Logistic Regression",
          "Logistic Regression",
          "Logistic Regression",
          "Logistic Regression",
          "Logistic Regression",
          "Logistic Regression",
          "Logistic Regression",
          "Logistic Regression",
          "Logistic Regression",
          "Logistic Regression",
          "Logistic Regression",
          "Logistic Regression",
          "Logistic Regression",
          "Logistic Regression",
          "Logistic Regression",
          "Logistic Regression",
          "Logistic Regression",
          "Logistic Regression",
          "Logistic Regression",
          "Logistic Regression",
          "Logistic Regression",
          "Logistic Regression",
          "Logistic Regression",
          "Logistic Regression",
          "Logistic Regression",
          "Logistic Regression",
          "Logistic Regression",
          "Logistic Regression"
         ],
         "legendgroup": "Logistic Regression",
         "line": {
          "color": "#46bac2",
          "dash": "solid",
          "width": 2
         },
         "marker": {
          "symbol": "circle"
         },
         "mode": "lines",
         "name": "Logistic Regression",
         "opacity": 1,
         "orientation": "v",
         "showlegend": true,
         "type": "scatter",
         "x": [
          4.4,
          4.4350000000000005,
          4.470000000000001,
          4.505000000000001,
          4.54,
          4.575,
          4.61,
          4.6450000000000005,
          4.680000000000001,
          4.715000000000001,
          4.75,
          4.785,
          4.82,
          4.855,
          4.890000000000001,
          4.925000000000001,
          4.960000000000001,
          4.995,
          5.03,
          5.065,
          5.1000000000000005,
          5.135000000000001,
          5.17,
          5.205,
          5.24,
          5.275,
          5.3100000000000005,
          5.345000000000001,
          5.380000000000001,
          5.415000000000001,
          5.45,
          5.485,
          5.5200000000000005,
          5.555000000000001,
          5.590000000000001,
          5.625,
          5.66,
          5.695,
          5.73,
          5.765000000000001,
          5.800000000000001,
          5.835000000000001,
          5.870000000000001,
          5.905,
          5.94,
          5.9750000000000005,
          6.010000000000001,
          6.045000000000001,
          6.08,
          6.115,
          6.15,
          6.1850000000000005,
          6.220000000000001,
          6.255000000000001,
          6.290000000000001,
          6.325000000000001,
          6.36,
          6.3950000000000005,
          6.430000000000001,
          6.465000000000001,
          6.5,
          6.535,
          6.57,
          6.605,
          6.640000000000001,
          6.675000000000001,
          6.710000000000001,
          6.745000000000001,
          6.780000000000001,
          6.815,
          6.8500000000000005,
          6.885000000000001,
          6.920000000000001,
          6.955,
          6.99,
          7.025,
          7.0600000000000005,
          7.095000000000001,
          7.130000000000001,
          7.165000000000001,
          7.200000000000001,
          7.235000000000001,
          7.2700000000000005,
          7.305000000000001,
          7.340000000000001,
          7.375,
          7.41,
          7.445,
          7.48,
          7.515000000000001,
          7.550000000000001,
          7.585000000000001,
          7.620000000000001,
          7.655000000000001,
          7.690000000000001,
          7.7250000000000005,
          7.760000000000001,
          7.795000000000001,
          7.83,
          7.865,
          7.9
         ],
         "xaxis": "x",
         "y": [
          0.20453597286870343,
          0.2062705038542154,
          0.2080082027396915,
          0.20974919639776668,
          0.21149362031089547,
          0.21324161859115312,
          0.21499334399763018,
          0.21674895795134996,
          0.21850863054761197,
          0.22027254056564094,
          0.22204087547539286,
          0.22381383144134612,
          0.225591613323077,
          0.2273744346723956,
          0.22916251772678986,
          0.23095609339890089,
          0.23275540126172597,
          0.23456068952922113,
          0.23637221503194902,
          0.2381902431873928,
          0.24001504796453416,
          0.24184691184226612,
          0.24368612576119167,
          0.24553298906833312,
          0.2473878094542577,
          0.24925090288210103,
          0.2511225935079528,
          0.25300321359204514,
          0.2548931034001705,
          0.256792611094735,
          0.25870209261483834,
          0.2606219115447582,
          0.26255243897020036,
          0.264494053321669,
          0.2664471402042976,
          0.26841209221347645,
          0.27038930873560485,
          0.272379195733294,
          0.2743821655143467,
          0.2763986364838385,
          0.2784290328786336,
          0.28047378448367394,
          0.2825333263293915,
          0.28460809836960843,
          0.28669854513930826,
          0.28880511539168185,
          0.29092826171388003,
          0.2930684401209334,
          0.29522610962733575,
          0.29740173179582663,
          0.2995957702629547,
          0.3018086902410499,
          0.3040409579962917,
          0.30629304030261756,
          0.3085654038712831,
          0.310858514755957,
          0.31317283773330984,
          0.31550883565914084,
          0.3178669688001723,
          0.32024769414173904,
          0.32265146467169664,
          0.32507872864098125,
          0.3275299288013603,
          0.3300055016210334,
          0.3325058764788596,
          0.3350314748381136,
          0.3375827094008028,
          0.3401599832437089,
          0.3427636889374513,
          0.3453942076500114,
          0.3480519082362926,
          0.35073714631543146,
          0.3534502633377191,
          0.3561915856431282,
          0.35896142351358107,
          0.36176007022122914,
          0.36458780107514727,
          0.36744487246897245,
          0.3703315209321391,
          0.37324796218747797,
          0.37619439021805107,
          0.3791709763461945,
          0.3821778683278287,
          0.3852151894651688,
          0.3882830377410352,
          0.3913814849780105,
          0.39451057602572914,
          0.39767032797960034,
          0.4008607294342742,
          0.40408173977514344,
          0.4073332885111433,
          0.4106152746520637,
          0.413927566133519,
          0.41726999929263114,
          0.4206423783973815,
          0.42404447523245437,
          0.42747602874425805,
          0.4309367447476405,
          0.43442629569664115,
          0.4379443205214207,
          0.44149042453329407
         ],
         "yaxis": "y"
        }
       ],
       "layout": {
        "annotations": [
         {
          "font": {
           "size": 13
          },
          "showarrow": false,
          "text": "sepal length (cm)",
          "x": 0.5,
          "xanchor": "center",
          "xref": "paper",
          "y": 1,
          "yanchor": "bottom",
          "yref": "paper"
         },
         {
          "font": {
           "size": 13
          },
          "showarrow": false,
          "text": "prediction",
          "textangle": -90,
          "x": -0.07,
          "xref": "paper",
          "y": 0.5,
          "yref": "paper"
         }
        ],
        "font": {
         "color": "#371ea3"
        },
        "height": 489,
        "hovermode": "x unified",
        "legend": {
         "font": {
          "size": 11
         },
         "itemsizing": "constant",
         "orientation": "h",
         "title": {
          "font": {
           "size": 12
          },
          "text": "label"
         },
         "tracegroupgap": 0,
         "x": 1,
         "xanchor": "right",
         "y": 1.0613496932515338,
         "yanchor": "bottom"
        },
        "margin": {
         "b": 71,
         "r": 30,
         "t": 78
        },
        "template": {
         "data": {
          "scatter": [
           {
            "type": "scatter"
           }
          ]
         }
        },
        "title": {
         "font": {
          "size": 16
         },
         "text": "Aggregated Profiles",
         "x": 0.15
        },
        "xaxis": {
         "anchor": "y",
         "automargin": true,
         "domain": [
          0,
          1
         ],
         "fixedrange": true,
         "gridwidth": 2,
         "showticklabels": true,
         "tickcolor": "white",
         "ticklen": 3,
         "ticks": "outside",
         "title": {
          "text": ""
         },
         "type": "linear",
         "zeroline": false
        },
        "yaxis": {
         "anchor": "x",
         "automargin": true,
         "domain": [
          0,
          1
         ],
         "fixedrange": true,
         "gridwidth": 2,
         "range": [
          0.18084052770224435,
          0.4651858696997531
         ],
         "tickcolor": "white",
         "ticklen": 3,
         "ticks": "outside",
         "title": {
          "text": ""
         },
         "type": "linear",
         "zeroline": false
        }
       }
      }
     },
     "metadata": {},
     "output_type": "display_data"
    },
    {
     "name": "stderr",
     "output_type": "stream",
     "text": [
      "Calculating ceteris paribus: 100%|██████████| 4/4 [00:00<00:00, 62.84it/s]\n"
     ]
    },
    {
     "data": {
      "application/vnd.plotly.v1+json": {
       "config": {
        "displaylogo": false,
        "modeBarButtonsToRemove": [
         "sendDataToCloud",
         "lasso2d",
         "autoScale2d",
         "select2d",
         "zoom2d",
         "pan2d",
         "zoomIn2d",
         "zoomOut2d",
         "resetScale2d",
         "toggleSpikelines",
         "hoverCompareCartesian",
         "hoverClosestCartesian"
        ],
        "plotlyServerURL": "https://plot.ly",
        "staticPlot": false,
        "toImageButtonOptions": {
         "height": null,
         "width": null
        }
       },
       "data": [
        {
         "customdata": [
          [
           "</br>id: 73</br>prediction: 0.84</br>sepal length (cm): 4.4</br></br>sepal width (cm): 2.8</br>petal length (cm): 4.7</br>petal width (cm): 1.2</br>_original_yhat_: 0.97</br>"
          ],
          [
           "</br>id: 73</br>prediction: 0.84</br>sepal length (cm): 4.4350000000000005</br></br>sepal width (cm): 2.8</br>petal length (cm): 4.7</br>petal width (cm): 1.2</br>_original_yhat_: 0.97</br>"
          ],
          [
           "</br>id: 73</br>prediction: 0.84</br>sepal length (cm): 4.470000000000001</br></br>sepal width (cm): 2.8</br>petal length (cm): 4.7</br>petal width (cm): 1.2</br>_original_yhat_: 0.97</br>"
          ],
          [
           "</br>id: 73</br>prediction: 0.84</br>sepal length (cm): 4.505000000000001</br></br>sepal width (cm): 2.8</br>petal length (cm): 4.7</br>petal width (cm): 1.2</br>_original_yhat_: 0.97</br>"
          ],
          [
           "</br>id: 73</br>prediction: 0.84</br>sepal length (cm): 4.54</br></br>sepal width (cm): 2.8</br>petal length (cm): 4.7</br>petal width (cm): 1.2</br>_original_yhat_: 0.97</br>"
          ],
          [
           "</br>id: 73</br>prediction: 0.84</br>sepal length (cm): 4.575</br></br>sepal width (cm): 2.8</br>petal length (cm): 4.7</br>petal width (cm): 1.2</br>_original_yhat_: 0.97</br>"
          ],
          [
           "</br>id: 73</br>prediction: 0.84</br>sepal length (cm): 4.61</br></br>sepal width (cm): 2.8</br>petal length (cm): 4.7</br>petal width (cm): 1.2</br>_original_yhat_: 0.97</br>"
          ],
          [
           "</br>id: 73</br>prediction: 0.84</br>sepal length (cm): 4.6450000000000005</br></br>sepal width (cm): 2.8</br>petal length (cm): 4.7</br>petal width (cm): 1.2</br>_original_yhat_: 0.97</br>"
          ],
          [
           "</br>id: 73</br>prediction: 0.84</br>sepal length (cm): 4.680000000000001</br></br>sepal width (cm): 2.8</br>petal length (cm): 4.7</br>petal width (cm): 1.2</br>_original_yhat_: 0.97</br>"
          ],
          [
           "</br>id: 73</br>prediction: 0.84</br>sepal length (cm): 4.715000000000001</br></br>sepal width (cm): 2.8</br>petal length (cm): 4.7</br>petal width (cm): 1.2</br>_original_yhat_: 0.97</br>"
          ],
          [
           "</br>id: 73</br>prediction: 0.84</br>sepal length (cm): 4.75</br></br>sepal width (cm): 2.8</br>petal length (cm): 4.7</br>petal width (cm): 1.2</br>_original_yhat_: 0.97</br>"
          ],
          [
           "</br>id: 73</br>prediction: 0.84</br>sepal length (cm): 4.785</br></br>sepal width (cm): 2.8</br>petal length (cm): 4.7</br>petal width (cm): 1.2</br>_original_yhat_: 0.97</br>"
          ],
          [
           "</br>id: 73</br>prediction: 0.84</br>sepal length (cm): 4.82</br></br>sepal width (cm): 2.8</br>petal length (cm): 4.7</br>petal width (cm): 1.2</br>_original_yhat_: 0.97</br>"
          ],
          [
           "</br>id: 73</br>prediction: 0.84</br>sepal length (cm): 4.855</br></br>sepal width (cm): 2.8</br>petal length (cm): 4.7</br>petal width (cm): 1.2</br>_original_yhat_: 0.97</br>"
          ],
          [
           "</br>id: 73</br>prediction: 0.84</br>sepal length (cm): 4.890000000000001</br></br>sepal width (cm): 2.8</br>petal length (cm): 4.7</br>petal width (cm): 1.2</br>_original_yhat_: 0.97</br>"
          ],
          [
           "</br>id: 73</br>prediction: 0.84</br>sepal length (cm): 4.925000000000001</br></br>sepal width (cm): 2.8</br>petal length (cm): 4.7</br>petal width (cm): 1.2</br>_original_yhat_: 0.97</br>"
          ],
          [
           "</br>id: 73</br>prediction: 0.93</br>sepal length (cm): 4.960000000000001</br></br>sepal width (cm): 2.8</br>petal length (cm): 4.7</br>petal width (cm): 1.2</br>_original_yhat_: 0.97</br>"
          ],
          [
           "</br>id: 73</br>prediction: 0.93</br>sepal length (cm): 4.995</br></br>sepal width (cm): 2.8</br>petal length (cm): 4.7</br>petal width (cm): 1.2</br>_original_yhat_: 0.97</br>"
          ],
          [
           "</br>id: 73</br>prediction: 0.93</br>sepal length (cm): 5.03</br></br>sepal width (cm): 2.8</br>petal length (cm): 4.7</br>petal width (cm): 1.2</br>_original_yhat_: 0.97</br>"
          ],
          [
           "</br>id: 73</br>prediction: 0.93</br>sepal length (cm): 5.065</br></br>sepal width (cm): 2.8</br>petal length (cm): 4.7</br>petal width (cm): 1.2</br>_original_yhat_: 0.97</br>"
          ],
          [
           "</br>id: 73</br>prediction: 0.93</br>sepal length (cm): 5.1000000000000005</br></br>sepal width (cm): 2.8</br>petal length (cm): 4.7</br>petal width (cm): 1.2</br>_original_yhat_: 0.97</br>"
          ],
          [
           "</br>id: 73</br>prediction: 0.93</br>sepal length (cm): 5.135000000000001</br></br>sepal width (cm): 2.8</br>petal length (cm): 4.7</br>petal width (cm): 1.2</br>_original_yhat_: 0.97</br>"
          ],
          [
           "</br>id: 73</br>prediction: 0.96</br>sepal length (cm): 5.17</br></br>sepal width (cm): 2.8</br>petal length (cm): 4.7</br>petal width (cm): 1.2</br>_original_yhat_: 0.97</br>"
          ],
          [
           "</br>id: 73</br>prediction: 0.96</br>sepal length (cm): 5.205</br></br>sepal width (cm): 2.8</br>petal length (cm): 4.7</br>petal width (cm): 1.2</br>_original_yhat_: 0.97</br>"
          ],
          [
           "</br>id: 73</br>prediction: 0.96</br>sepal length (cm): 5.24</br></br>sepal width (cm): 2.8</br>petal length (cm): 4.7</br>petal width (cm): 1.2</br>_original_yhat_: 0.97</br>"
          ],
          [
           "</br>id: 73</br>prediction: 0.98</br>sepal length (cm): 5.275</br></br>sepal width (cm): 2.8</br>petal length (cm): 4.7</br>petal width (cm): 1.2</br>_original_yhat_: 0.97</br>"
          ],
          [
           "</br>id: 73</br>prediction: 0.98</br>sepal length (cm): 5.3100000000000005</br></br>sepal width (cm): 2.8</br>petal length (cm): 4.7</br>petal width (cm): 1.2</br>_original_yhat_: 0.97</br>"
          ],
          [
           "</br>id: 73</br>prediction: 0.98</br>sepal length (cm): 5.345000000000001</br></br>sepal width (cm): 2.8</br>petal length (cm): 4.7</br>petal width (cm): 1.2</br>_original_yhat_: 0.97</br>"
          ],
          [
           "</br>id: 73</br>prediction: 0.98</br>sepal length (cm): 5.380000000000001</br></br>sepal width (cm): 2.8</br>petal length (cm): 4.7</br>petal width (cm): 1.2</br>_original_yhat_: 0.97</br>"
          ],
          [
           "</br>id: 73</br>prediction: 0.98</br>sepal length (cm): 5.415000000000001</br></br>sepal width (cm): 2.8</br>petal length (cm): 4.7</br>petal width (cm): 1.2</br>_original_yhat_: 0.97</br>"
          ],
          [
           "</br>id: 73</br>prediction: 0.98</br>sepal length (cm): 5.45</br></br>sepal width (cm): 2.8</br>petal length (cm): 4.7</br>petal width (cm): 1.2</br>_original_yhat_: 0.97</br>"
          ],
          [
           "</br>id: 73</br>prediction: 0.98</br>sepal length (cm): 5.485</br></br>sepal width (cm): 2.8</br>petal length (cm): 4.7</br>petal width (cm): 1.2</br>_original_yhat_: 0.97</br>"
          ],
          [
           "</br>id: 73</br>prediction: 0.98</br>sepal length (cm): 5.5200000000000005</br></br>sepal width (cm): 2.8</br>petal length (cm): 4.7</br>petal width (cm): 1.2</br>_original_yhat_: 0.97</br>"
          ],
          [
           "</br>id: 73</br>prediction: 0.98</br>sepal length (cm): 5.555000000000001</br></br>sepal width (cm): 2.8</br>petal length (cm): 4.7</br>petal width (cm): 1.2</br>_original_yhat_: 0.97</br>"
          ],
          [
           "</br>id: 73</br>prediction: 0.98</br>sepal length (cm): 5.590000000000001</br></br>sepal width (cm): 2.8</br>petal length (cm): 4.7</br>petal width (cm): 1.2</br>_original_yhat_: 0.97</br>"
          ],
          [
           "</br>id: 73</br>prediction: 0.98</br>sepal length (cm): 5.625</br></br>sepal width (cm): 2.8</br>petal length (cm): 4.7</br>petal width (cm): 1.2</br>_original_yhat_: 0.97</br>"
          ],
          [
           "</br>id: 73</br>prediction: 0.98</br>sepal length (cm): 5.66</br></br>sepal width (cm): 2.8</br>petal length (cm): 4.7</br>petal width (cm): 1.2</br>_original_yhat_: 0.97</br>"
          ],
          [
           "</br>id: 73</br>prediction: 0.98</br>sepal length (cm): 5.695</br></br>sepal width (cm): 2.8</br>petal length (cm): 4.7</br>petal width (cm): 1.2</br>_original_yhat_: 0.97</br>"
          ],
          [
           "</br>id: 73</br>prediction: 0.98</br>sepal length (cm): 5.73</br></br>sepal width (cm): 2.8</br>petal length (cm): 4.7</br>petal width (cm): 1.2</br>_original_yhat_: 0.97</br>"
          ],
          [
           "</br>id: 73</br>prediction: 0.98</br>sepal length (cm): 5.765000000000001</br></br>sepal width (cm): 2.8</br>petal length (cm): 4.7</br>petal width (cm): 1.2</br>_original_yhat_: 0.97</br>"
          ],
          [
           "</br>id: 73</br>prediction: 0.98</br>sepal length (cm): 5.800000000000001</br></br>sepal width (cm): 2.8</br>petal length (cm): 4.7</br>petal width (cm): 1.2</br>_original_yhat_: 0.97</br>"
          ],
          [
           "</br>id: 73</br>prediction: 0.98</br>sepal length (cm): 5.835000000000001</br></br>sepal width (cm): 2.8</br>petal length (cm): 4.7</br>petal width (cm): 1.2</br>_original_yhat_: 0.97</br>"
          ],
          [
           "</br>id: 73</br>prediction: 0.98</br>sepal length (cm): 5.870000000000001</br></br>sepal width (cm): 2.8</br>petal length (cm): 4.7</br>petal width (cm): 1.2</br>_original_yhat_: 0.97</br>"
          ],
          [
           "</br>id: 73</br>prediction: 0.98</br>sepal length (cm): 5.905</br></br>sepal width (cm): 2.8</br>petal length (cm): 4.7</br>petal width (cm): 1.2</br>_original_yhat_: 0.97</br>"
          ],
          [
           "</br>id: 73</br>prediction: 0.98</br>sepal length (cm): 5.94</br></br>sepal width (cm): 2.8</br>petal length (cm): 4.7</br>petal width (cm): 1.2</br>_original_yhat_: 0.97</br>"
          ],
          [
           "</br>id: 73</br>prediction: 0.97</br>sepal length (cm): 5.9750000000000005</br></br>sepal width (cm): 2.8</br>petal length (cm): 4.7</br>petal width (cm): 1.2</br>_original_yhat_: 0.97</br>"
          ],
          [
           "</br>id: 73</br>prediction: 0.97</br>sepal length (cm): 6.010000000000001</br></br>sepal width (cm): 2.8</br>petal length (cm): 4.7</br>petal width (cm): 1.2</br>_original_yhat_: 0.97</br>"
          ],
          [
           "</br>id: 73</br>prediction: 0.97</br>sepal length (cm): 6.045000000000001</br></br>sepal width (cm): 2.8</br>petal length (cm): 4.7</br>petal width (cm): 1.2</br>_original_yhat_: 0.97</br>"
          ],
          [
           "</br>id: 73</br>prediction: 0.97</br>sepal length (cm): 6.08</br></br>sepal width (cm): 2.8</br>petal length (cm): 4.7</br>petal width (cm): 1.2</br>_original_yhat_: 0.97</br>"
          ],
          [
           "</br>id: 73</br>prediction: 0.97</br>sepal length (cm): 6.1</br></br>sepal width (cm): 2.8</br>petal length (cm): 4.7</br>petal width (cm): 1.2</br>_original_yhat_: 0.97</br>"
          ],
          [
           "</br>id: 73</br>prediction: 0.97</br>sepal length (cm): 6.115</br></br>sepal width (cm): 2.8</br>petal length (cm): 4.7</br>petal width (cm): 1.2</br>_original_yhat_: 0.97</br>"
          ],
          [
           "</br>id: 73</br>prediction: 0.97</br>sepal length (cm): 6.15</br></br>sepal width (cm): 2.8</br>petal length (cm): 4.7</br>petal width (cm): 1.2</br>_original_yhat_: 0.97</br>"
          ],
          [
           "</br>id: 73</br>prediction: 0.97</br>sepal length (cm): 6.1850000000000005</br></br>sepal width (cm): 2.8</br>petal length (cm): 4.7</br>petal width (cm): 1.2</br>_original_yhat_: 0.97</br>"
          ],
          [
           "</br>id: 73</br>prediction: 0.97</br>sepal length (cm): 6.220000000000001</br></br>sepal width (cm): 2.8</br>petal length (cm): 4.7</br>petal width (cm): 1.2</br>_original_yhat_: 0.97</br>"
          ],
          [
           "</br>id: 73</br>prediction: 0.97</br>sepal length (cm): 6.255000000000001</br></br>sepal width (cm): 2.8</br>petal length (cm): 4.7</br>petal width (cm): 1.2</br>_original_yhat_: 0.97</br>"
          ],
          [
           "</br>id: 73</br>prediction: 0.97</br>sepal length (cm): 6.290000000000001</br></br>sepal width (cm): 2.8</br>petal length (cm): 4.7</br>petal width (cm): 1.2</br>_original_yhat_: 0.97</br>"
          ],
          [
           "</br>id: 73</br>prediction: 0.97</br>sepal length (cm): 6.325000000000001</br></br>sepal width (cm): 2.8</br>petal length (cm): 4.7</br>petal width (cm): 1.2</br>_original_yhat_: 0.97</br>"
          ],
          [
           "</br>id: 73</br>prediction: 0.98</br>sepal length (cm): 6.36</br></br>sepal width (cm): 2.8</br>petal length (cm): 4.7</br>petal width (cm): 1.2</br>_original_yhat_: 0.97</br>"
          ],
          [
           "</br>id: 73</br>prediction: 0.98</br>sepal length (cm): 6.3950000000000005</br></br>sepal width (cm): 2.8</br>petal length (cm): 4.7</br>petal width (cm): 1.2</br>_original_yhat_: 0.97</br>"
          ],
          [
           "</br>id: 73</br>prediction: 0.99</br>sepal length (cm): 6.430000000000001</br></br>sepal width (cm): 2.8</br>petal length (cm): 4.7</br>petal width (cm): 1.2</br>_original_yhat_: 0.97</br>"
          ],
          [
           "</br>id: 73</br>prediction: 0.99</br>sepal length (cm): 6.465000000000001</br></br>sepal width (cm): 2.8</br>petal length (cm): 4.7</br>petal width (cm): 1.2</br>_original_yhat_: 0.97</br>"
          ],
          [
           "</br>id: 73</br>prediction: 0.99</br>sepal length (cm): 6.5</br></br>sepal width (cm): 2.8</br>petal length (cm): 4.7</br>petal width (cm): 1.2</br>_original_yhat_: 0.97</br>"
          ],
          [
           "</br>id: 73</br>prediction: 0.99</br>sepal length (cm): 6.535</br></br>sepal width (cm): 2.8</br>petal length (cm): 4.7</br>petal width (cm): 1.2</br>_original_yhat_: 0.97</br>"
          ],
          [
           "</br>id: 73</br>prediction: 0.99</br>sepal length (cm): 6.57</br></br>sepal width (cm): 2.8</br>petal length (cm): 4.7</br>petal width (cm): 1.2</br>_original_yhat_: 0.97</br>"
          ],
          [
           "</br>id: 73</br>prediction: 0.99</br>sepal length (cm): 6.605</br></br>sepal width (cm): 2.8</br>petal length (cm): 4.7</br>petal width (cm): 1.2</br>_original_yhat_: 0.97</br>"
          ],
          [
           "</br>id: 73</br>prediction: 0.99</br>sepal length (cm): 6.640000000000001</br></br>sepal width (cm): 2.8</br>petal length (cm): 4.7</br>petal width (cm): 1.2</br>_original_yhat_: 0.97</br>"
          ],
          [
           "</br>id: 73</br>prediction: 0.99</br>sepal length (cm): 6.675000000000001</br></br>sepal width (cm): 2.8</br>petal length (cm): 4.7</br>petal width (cm): 1.2</br>_original_yhat_: 0.97</br>"
          ],
          [
           "</br>id: 73</br>prediction: 0.99</br>sepal length (cm): 6.710000000000001</br></br>sepal width (cm): 2.8</br>petal length (cm): 4.7</br>petal width (cm): 1.2</br>_original_yhat_: 0.97</br>"
          ],
          [
           "</br>id: 73</br>prediction: 0.99</br>sepal length (cm): 6.745000000000001</br></br>sepal width (cm): 2.8</br>petal length (cm): 4.7</br>petal width (cm): 1.2</br>_original_yhat_: 0.97</br>"
          ],
          [
           "</br>id: 73</br>prediction: 0.99</br>sepal length (cm): 6.780000000000001</br></br>sepal width (cm): 2.8</br>petal length (cm): 4.7</br>petal width (cm): 1.2</br>_original_yhat_: 0.97</br>"
          ],
          [
           "</br>id: 73</br>prediction: 0.99</br>sepal length (cm): 6.815</br></br>sepal width (cm): 2.8</br>petal length (cm): 4.7</br>petal width (cm): 1.2</br>_original_yhat_: 0.97</br>"
          ],
          [
           "</br>id: 73</br>prediction: 0.99</br>sepal length (cm): 6.8500000000000005</br></br>sepal width (cm): 2.8</br>petal length (cm): 4.7</br>petal width (cm): 1.2</br>_original_yhat_: 0.97</br>"
          ],
          [
           "</br>id: 73</br>prediction: 0.99</br>sepal length (cm): 6.885000000000001</br></br>sepal width (cm): 2.8</br>petal length (cm): 4.7</br>petal width (cm): 1.2</br>_original_yhat_: 0.97</br>"
          ],
          [
           "</br>id: 73</br>prediction: 0.99</br>sepal length (cm): 6.920000000000001</br></br>sepal width (cm): 2.8</br>petal length (cm): 4.7</br>petal width (cm): 1.2</br>_original_yhat_: 0.97</br>"
          ],
          [
           "</br>id: 73</br>prediction: 0.99</br>sepal length (cm): 6.955</br></br>sepal width (cm): 2.8</br>petal length (cm): 4.7</br>petal width (cm): 1.2</br>_original_yhat_: 0.97</br>"
          ],
          [
           "</br>id: 73</br>prediction: 0.99</br>sepal length (cm): 6.99</br></br>sepal width (cm): 2.8</br>petal length (cm): 4.7</br>petal width (cm): 1.2</br>_original_yhat_: 0.97</br>"
          ],
          [
           "</br>id: 73</br>prediction: 0.99</br>sepal length (cm): 7.025</br></br>sepal width (cm): 2.8</br>petal length (cm): 4.7</br>petal width (cm): 1.2</br>_original_yhat_: 0.97</br>"
          ],
          [
           "</br>id: 73</br>prediction: 0.98</br>sepal length (cm): 7.0600000000000005</br></br>sepal width (cm): 2.8</br>petal length (cm): 4.7</br>petal width (cm): 1.2</br>_original_yhat_: 0.97</br>"
          ],
          [
           "</br>id: 73</br>prediction: 0.98</br>sepal length (cm): 7.095000000000001</br></br>sepal width (cm): 2.8</br>petal length (cm): 4.7</br>petal width (cm): 1.2</br>_original_yhat_: 0.97</br>"
          ],
          [
           "</br>id: 73</br>prediction: 0.97</br>sepal length (cm): 7.130000000000001</br></br>sepal width (cm): 2.8</br>petal length (cm): 4.7</br>petal width (cm): 1.2</br>_original_yhat_: 0.97</br>"
          ],
          [
           "</br>id: 73</br>prediction: 0.97</br>sepal length (cm): 7.165000000000001</br></br>sepal width (cm): 2.8</br>petal length (cm): 4.7</br>petal width (cm): 1.2</br>_original_yhat_: 0.97</br>"
          ],
          [
           "</br>id: 73</br>prediction: 0.97</br>sepal length (cm): 7.200000000000001</br></br>sepal width (cm): 2.8</br>petal length (cm): 4.7</br>petal width (cm): 1.2</br>_original_yhat_: 0.97</br>"
          ],
          [
           "</br>id: 73</br>prediction: 0.97</br>sepal length (cm): 7.235000000000001</br></br>sepal width (cm): 2.8</br>petal length (cm): 4.7</br>petal width (cm): 1.2</br>_original_yhat_: 0.97</br>"
          ],
          [
           "</br>id: 73</br>prediction: 0.97</br>sepal length (cm): 7.2700000000000005</br></br>sepal width (cm): 2.8</br>petal length (cm): 4.7</br>petal width (cm): 1.2</br>_original_yhat_: 0.97</br>"
          ],
          [
           "</br>id: 73</br>prediction: 0.97</br>sepal length (cm): 7.305000000000001</br></br>sepal width (cm): 2.8</br>petal length (cm): 4.7</br>petal width (cm): 1.2</br>_original_yhat_: 0.97</br>"
          ],
          [
           "</br>id: 73</br>prediction: 0.97</br>sepal length (cm): 7.340000000000001</br></br>sepal width (cm): 2.8</br>petal length (cm): 4.7</br>petal width (cm): 1.2</br>_original_yhat_: 0.97</br>"
          ],
          [
           "</br>id: 73</br>prediction: 0.97</br>sepal length (cm): 7.375</br></br>sepal width (cm): 2.8</br>petal length (cm): 4.7</br>petal width (cm): 1.2</br>_original_yhat_: 0.97</br>"
          ],
          [
           "</br>id: 73</br>prediction: 0.97</br>sepal length (cm): 7.41</br></br>sepal width (cm): 2.8</br>petal length (cm): 4.7</br>petal width (cm): 1.2</br>_original_yhat_: 0.97</br>"
          ],
          [
           "</br>id: 73</br>prediction: 0.97</br>sepal length (cm): 7.445</br></br>sepal width (cm): 2.8</br>petal length (cm): 4.7</br>petal width (cm): 1.2</br>_original_yhat_: 0.97</br>"
          ],
          [
           "</br>id: 73</br>prediction: 0.97</br>sepal length (cm): 7.48</br></br>sepal width (cm): 2.8</br>petal length (cm): 4.7</br>petal width (cm): 1.2</br>_original_yhat_: 0.97</br>"
          ],
          [
           "</br>id: 73</br>prediction: 0.97</br>sepal length (cm): 7.515000000000001</br></br>sepal width (cm): 2.8</br>petal length (cm): 4.7</br>petal width (cm): 1.2</br>_original_yhat_: 0.97</br>"
          ],
          [
           "</br>id: 73</br>prediction: 0.97</br>sepal length (cm): 7.550000000000001</br></br>sepal width (cm): 2.8</br>petal length (cm): 4.7</br>petal width (cm): 1.2</br>_original_yhat_: 0.97</br>"
          ],
          [
           "</br>id: 73</br>prediction: 0.97</br>sepal length (cm): 7.585000000000001</br></br>sepal width (cm): 2.8</br>petal length (cm): 4.7</br>petal width (cm): 1.2</br>_original_yhat_: 0.97</br>"
          ],
          [
           "</br>id: 73</br>prediction: 0.97</br>sepal length (cm): 7.620000000000001</br></br>sepal width (cm): 2.8</br>petal length (cm): 4.7</br>petal width (cm): 1.2</br>_original_yhat_: 0.97</br>"
          ],
          [
           "</br>id: 73</br>prediction: 0.97</br>sepal length (cm): 7.655000000000001</br></br>sepal width (cm): 2.8</br>petal length (cm): 4.7</br>petal width (cm): 1.2</br>_original_yhat_: 0.97</br>"
          ],
          [
           "</br>id: 73</br>prediction: 0.97</br>sepal length (cm): 7.690000000000001</br></br>sepal width (cm): 2.8</br>petal length (cm): 4.7</br>petal width (cm): 1.2</br>_original_yhat_: 0.97</br>"
          ],
          [
           "</br>id: 73</br>prediction: 0.97</br>sepal length (cm): 7.7250000000000005</br></br>sepal width (cm): 2.8</br>petal length (cm): 4.7</br>petal width (cm): 1.2</br>_original_yhat_: 0.97</br>"
          ],
          [
           "</br>id: 73</br>prediction: 0.97</br>sepal length (cm): 7.760000000000001</br></br>sepal width (cm): 2.8</br>petal length (cm): 4.7</br>petal width (cm): 1.2</br>_original_yhat_: 0.97</br>"
          ],
          [
           "</br>id: 73</br>prediction: 0.97</br>sepal length (cm): 7.795000000000001</br></br>sepal width (cm): 2.8</br>petal length (cm): 4.7</br>petal width (cm): 1.2</br>_original_yhat_: 0.97</br>"
          ],
          [
           "</br>id: 73</br>prediction: 0.97</br>sepal length (cm): 7.83</br></br>sepal width (cm): 2.8</br>petal length (cm): 4.7</br>petal width (cm): 1.2</br>_original_yhat_: 0.97</br>"
          ],
          [
           "</br>id: 73</br>prediction: 0.97</br>sepal length (cm): 7.865</br></br>sepal width (cm): 2.8</br>petal length (cm): 4.7</br>petal width (cm): 1.2</br>_original_yhat_: 0.97</br>"
          ],
          [
           "</br>id: 73</br>prediction: 0.97</br>sepal length (cm): 7.9</br></br>sepal width (cm): 2.8</br>petal length (cm): 4.7</br>petal width (cm): 1.2</br>_original_yhat_: 0.97</br>"
          ]
         ],
         "hovertemplate": "%{customdata[0]}<extra></extra>",
         "legendgroup": "Random Forest",
         "line": {
          "color": "#46bac2",
          "dash": "solid",
          "width": 2
         },
         "marker": {
          "symbol": "circle"
         },
         "mode": "lines",
         "name": "Random Forest",
         "opacity": 1,
         "orientation": "v",
         "showlegend": true,
         "type": "scatter",
         "x": [
          4.4,
          4.4350000000000005,
          4.470000000000001,
          4.505000000000001,
          4.54,
          4.575,
          4.61,
          4.6450000000000005,
          4.680000000000001,
          4.715000000000001,
          4.75,
          4.785,
          4.82,
          4.855,
          4.890000000000001,
          4.925000000000001,
          4.960000000000001,
          4.995,
          5.03,
          5.065,
          5.1000000000000005,
          5.135000000000001,
          5.17,
          5.205,
          5.24,
          5.275,
          5.3100000000000005,
          5.345000000000001,
          5.380000000000001,
          5.415000000000001,
          5.45,
          5.485,
          5.5200000000000005,
          5.555000000000001,
          5.590000000000001,
          5.625,
          5.66,
          5.695,
          5.73,
          5.765000000000001,
          5.800000000000001,
          5.835000000000001,
          5.870000000000001,
          5.905,
          5.94,
          5.9750000000000005,
          6.010000000000001,
          6.045000000000001,
          6.08,
          6.1,
          6.115,
          6.15,
          6.1850000000000005,
          6.220000000000001,
          6.255000000000001,
          6.290000000000001,
          6.325000000000001,
          6.36,
          6.3950000000000005,
          6.430000000000001,
          6.465000000000001,
          6.5,
          6.535,
          6.57,
          6.605,
          6.640000000000001,
          6.675000000000001,
          6.710000000000001,
          6.745000000000001,
          6.780000000000001,
          6.815,
          6.8500000000000005,
          6.885000000000001,
          6.920000000000001,
          6.955,
          6.99,
          7.025,
          7.0600000000000005,
          7.095000000000001,
          7.130000000000001,
          7.165000000000001,
          7.200000000000001,
          7.235000000000001,
          7.2700000000000005,
          7.305000000000001,
          7.340000000000001,
          7.375,
          7.41,
          7.445,
          7.48,
          7.515000000000001,
          7.550000000000001,
          7.585000000000001,
          7.620000000000001,
          7.655000000000001,
          7.690000000000001,
          7.7250000000000005,
          7.760000000000001,
          7.795000000000001,
          7.83,
          7.865,
          7.9
         ],
         "xaxis": "x3",
         "y": [
          0.84,
          0.84,
          0.84,
          0.84,
          0.84,
          0.84,
          0.84,
          0.84,
          0.84,
          0.84,
          0.84,
          0.84,
          0.84,
          0.84,
          0.84,
          0.84,
          0.93,
          0.93,
          0.93,
          0.93,
          0.93,
          0.93,
          0.96,
          0.96,
          0.96,
          0.98,
          0.98,
          0.98,
          0.98,
          0.98,
          0.98,
          0.98,
          0.98,
          0.98,
          0.98,
          0.98,
          0.98,
          0.98,
          0.98,
          0.98,
          0.98,
          0.98,
          0.98,
          0.98,
          0.98,
          0.97,
          0.97,
          0.97,
          0.97,
          0.97,
          0.97,
          0.97,
          0.97,
          0.97,
          0.97,
          0.97,
          0.97,
          0.98,
          0.98,
          0.99,
          0.99,
          0.99,
          0.99,
          0.99,
          0.99,
          0.99,
          0.99,
          0.99,
          0.99,
          0.99,
          0.99,
          0.99,
          0.99,
          0.99,
          0.99,
          0.99,
          0.99,
          0.98,
          0.98,
          0.97,
          0.97,
          0.97,
          0.97,
          0.97,
          0.97,
          0.97,
          0.97,
          0.97,
          0.97,
          0.97,
          0.97,
          0.97,
          0.97,
          0.97,
          0.97,
          0.97,
          0.97,
          0.97,
          0.97,
          0.97,
          0.97,
          0.97
         ],
         "yaxis": "y3"
        },
        {
         "customdata": [
          [
           "</br>id: 73</br>prediction: 0.93</br>sepal width (cm): 2.2</br></br>sepal length (cm): 6.1</br>petal length (cm): 4.7</br>petal width (cm): 1.2</br>_original_yhat_: 0.97</br>"
          ],
          [
           "</br>id: 73</br>prediction: 0.93</br>sepal width (cm): 2.222</br></br>sepal length (cm): 6.1</br>petal length (cm): 4.7</br>petal width (cm): 1.2</br>_original_yhat_: 0.97</br>"
          ],
          [
           "</br>id: 73</br>prediction: 0.93</br>sepal width (cm): 2.244</br></br>sepal length (cm): 6.1</br>petal length (cm): 4.7</br>petal width (cm): 1.2</br>_original_yhat_: 0.97</br>"
          ],
          [
           "</br>id: 73</br>prediction: 0.95</br>sepal width (cm): 2.266</br></br>sepal length (cm): 6.1</br>petal length (cm): 4.7</br>petal width (cm): 1.2</br>_original_yhat_: 0.97</br>"
          ],
          [
           "</br>id: 73</br>prediction: 0.95</br>sepal width (cm): 2.2880000000000003</br></br>sepal length (cm): 6.1</br>petal length (cm): 4.7</br>petal width (cm): 1.2</br>_original_yhat_: 0.97</br>"
          ],
          [
           "</br>id: 73</br>prediction: 0.95</br>sepal width (cm): 2.31</br></br>sepal length (cm): 6.1</br>petal length (cm): 4.7</br>petal width (cm): 1.2</br>_original_yhat_: 0.97</br>"
          ],
          [
           "</br>id: 73</br>prediction: 0.95</br>sepal width (cm): 2.3320000000000003</br></br>sepal length (cm): 6.1</br>petal length (cm): 4.7</br>petal width (cm): 1.2</br>_original_yhat_: 0.97</br>"
          ],
          [
           "</br>id: 73</br>prediction: 0.96</br>sepal width (cm): 2.354</br></br>sepal length (cm): 6.1</br>petal length (cm): 4.7</br>petal width (cm): 1.2</br>_original_yhat_: 0.97</br>"
          ],
          [
           "</br>id: 73</br>prediction: 0.96</br>sepal width (cm): 2.3760000000000003</br></br>sepal length (cm): 6.1</br>petal length (cm): 4.7</br>petal width (cm): 1.2</br>_original_yhat_: 0.97</br>"
          ],
          [
           "</br>id: 73</br>prediction: 0.96</br>sepal width (cm): 2.398</br></br>sepal length (cm): 6.1</br>petal length (cm): 4.7</br>petal width (cm): 1.2</br>_original_yhat_: 0.97</br>"
          ],
          [
           "</br>id: 73</br>prediction: 0.96</br>sepal width (cm): 2.4200000000000004</br></br>sepal length (cm): 6.1</br>petal length (cm): 4.7</br>petal width (cm): 1.2</br>_original_yhat_: 0.97</br>"
          ],
          [
           "</br>id: 73</br>prediction: 0.96</br>sepal width (cm): 2.442</br></br>sepal length (cm): 6.1</br>petal length (cm): 4.7</br>petal width (cm): 1.2</br>_original_yhat_: 0.97</br>"
          ],
          [
           "</br>id: 73</br>prediction: 0.96</br>sepal width (cm): 2.4640000000000004</br></br>sepal length (cm): 6.1</br>petal length (cm): 4.7</br>petal width (cm): 1.2</br>_original_yhat_: 0.97</br>"
          ],
          [
           "</br>id: 73</br>prediction: 0.96</br>sepal width (cm): 2.486</br></br>sepal length (cm): 6.1</br>petal length (cm): 4.7</br>petal width (cm): 1.2</br>_original_yhat_: 0.97</br>"
          ],
          [
           "</br>id: 73</br>prediction: 0.96</br>sepal width (cm): 2.508</br></br>sepal length (cm): 6.1</br>petal length (cm): 4.7</br>petal width (cm): 1.2</br>_original_yhat_: 0.97</br>"
          ],
          [
           "</br>id: 73</br>prediction: 0.96</br>sepal width (cm): 2.5300000000000002</br></br>sepal length (cm): 6.1</br>petal length (cm): 4.7</br>petal width (cm): 1.2</br>_original_yhat_: 0.97</br>"
          ],
          [
           "</br>id: 73</br>prediction: 0.95</br>sepal width (cm): 2.552</br></br>sepal length (cm): 6.1</br>petal length (cm): 4.7</br>petal width (cm): 1.2</br>_original_yhat_: 0.97</br>"
          ],
          [
           "</br>id: 73</br>prediction: 0.95</br>sepal width (cm): 2.5740000000000003</br></br>sepal length (cm): 6.1</br>petal length (cm): 4.7</br>petal width (cm): 1.2</br>_original_yhat_: 0.97</br>"
          ],
          [
           "</br>id: 73</br>prediction: 0.95</br>sepal width (cm): 2.596</br></br>sepal length (cm): 6.1</br>petal length (cm): 4.7</br>petal width (cm): 1.2</br>_original_yhat_: 0.97</br>"
          ],
          [
           "</br>id: 73</br>prediction: 0.95</br>sepal width (cm): 2.6180000000000003</br></br>sepal length (cm): 6.1</br>petal length (cm): 4.7</br>petal width (cm): 1.2</br>_original_yhat_: 0.97</br>"
          ],
          [
           "</br>id: 73</br>prediction: 0.95</br>sepal width (cm): 2.64</br></br>sepal length (cm): 6.1</br>petal length (cm): 4.7</br>petal width (cm): 1.2</br>_original_yhat_: 0.97</br>"
          ],
          [
           "</br>id: 73</br>prediction: 0.97</br>sepal width (cm): 2.6620000000000004</br></br>sepal length (cm): 6.1</br>petal length (cm): 4.7</br>petal width (cm): 1.2</br>_original_yhat_: 0.97</br>"
          ],
          [
           "</br>id: 73</br>prediction: 0.97</br>sepal width (cm): 2.684</br></br>sepal length (cm): 6.1</br>petal length (cm): 4.7</br>petal width (cm): 1.2</br>_original_yhat_: 0.97</br>"
          ],
          [
           "</br>id: 73</br>prediction: 0.98</br>sepal width (cm): 2.7060000000000004</br></br>sepal length (cm): 6.1</br>petal length (cm): 4.7</br>petal width (cm): 1.2</br>_original_yhat_: 0.97</br>"
          ],
          [
           "</br>id: 73</br>prediction: 0.98</br>sepal width (cm): 2.728</br></br>sepal length (cm): 6.1</br>petal length (cm): 4.7</br>petal width (cm): 1.2</br>_original_yhat_: 0.97</br>"
          ],
          [
           "</br>id: 73</br>prediction: 0.98</br>sepal width (cm): 2.75</br></br>sepal length (cm): 6.1</br>petal length (cm): 4.7</br>petal width (cm): 1.2</br>_original_yhat_: 0.97</br>"
          ],
          [
           "</br>id: 73</br>prediction: 0.97</br>sepal width (cm): 2.7720000000000002</br></br>sepal length (cm): 6.1</br>petal length (cm): 4.7</br>petal width (cm): 1.2</br>_original_yhat_: 0.97</br>"
          ],
          [
           "</br>id: 73</br>prediction: 0.97</br>sepal width (cm): 2.7940000000000005</br></br>sepal length (cm): 6.1</br>petal length (cm): 4.7</br>petal width (cm): 1.2</br>_original_yhat_: 0.97</br>"
          ],
          [
           "</br>id: 73</br>prediction: 0.97</br>sepal width (cm): 2.8</br></br>sepal length (cm): 6.1</br>petal length (cm): 4.7</br>petal width (cm): 1.2</br>_original_yhat_: 0.97</br>"
          ],
          [
           "</br>id: 73</br>prediction: 0.97</br>sepal width (cm): 2.8160000000000003</br></br>sepal length (cm): 6.1</br>petal length (cm): 4.7</br>petal width (cm): 1.2</br>_original_yhat_: 0.97</br>"
          ],
          [
           "</br>id: 73</br>prediction: 0.97</br>sepal width (cm): 2.838</br></br>sepal length (cm): 6.1</br>petal length (cm): 4.7</br>petal width (cm): 1.2</br>_original_yhat_: 0.97</br>"
          ],
          [
           "</br>id: 73</br>prediction: 1.0</br>sepal width (cm): 2.8600000000000003</br></br>sepal length (cm): 6.1</br>petal length (cm): 4.7</br>petal width (cm): 1.2</br>_original_yhat_: 0.97</br>"
          ],
          [
           "</br>id: 73</br>prediction: 1.0</br>sepal width (cm): 2.882</br></br>sepal length (cm): 6.1</br>petal length (cm): 4.7</br>petal width (cm): 1.2</br>_original_yhat_: 0.97</br>"
          ],
          [
           "</br>id: 73</br>prediction: 1.0</br>sepal width (cm): 2.9040000000000004</br></br>sepal length (cm): 6.1</br>petal length (cm): 4.7</br>petal width (cm): 1.2</br>_original_yhat_: 0.97</br>"
          ],
          [
           "</br>id: 73</br>prediction: 1.0</br>sepal width (cm): 2.926</br></br>sepal length (cm): 6.1</br>petal length (cm): 4.7</br>petal width (cm): 1.2</br>_original_yhat_: 0.97</br>"
          ],
          [
           "</br>id: 73</br>prediction: 1.0</br>sepal width (cm): 2.9480000000000004</br></br>sepal length (cm): 6.1</br>petal length (cm): 4.7</br>petal width (cm): 1.2</br>_original_yhat_: 0.97</br>"
          ],
          [
           "</br>id: 73</br>prediction: 1.0</br>sepal width (cm): 2.97</br></br>sepal length (cm): 6.1</br>petal length (cm): 4.7</br>petal width (cm): 1.2</br>_original_yhat_: 0.97</br>"
          ],
          [
           "</br>id: 73</br>prediction: 1.0</br>sepal width (cm): 2.992</br></br>sepal length (cm): 6.1</br>petal length (cm): 4.7</br>petal width (cm): 1.2</br>_original_yhat_: 0.97</br>"
          ],
          [
           "</br>id: 73</br>prediction: 1.0</br>sepal width (cm): 3.0140000000000002</br></br>sepal length (cm): 6.1</br>petal length (cm): 4.7</br>petal width (cm): 1.2</br>_original_yhat_: 0.97</br>"
          ],
          [
           "</br>id: 73</br>prediction: 1.0</br>sepal width (cm): 3.0360000000000005</br></br>sepal length (cm): 6.1</br>petal length (cm): 4.7</br>petal width (cm): 1.2</br>_original_yhat_: 0.97</br>"
          ],
          [
           "</br>id: 73</br>prediction: 1.0</br>sepal width (cm): 3.0580000000000003</br></br>sepal length (cm): 6.1</br>petal length (cm): 4.7</br>petal width (cm): 1.2</br>_original_yhat_: 0.97</br>"
          ],
          [
           "</br>id: 73</br>prediction: 1.0</br>sepal width (cm): 3.08</br></br>sepal length (cm): 6.1</br>petal length (cm): 4.7</br>petal width (cm): 1.2</br>_original_yhat_: 0.97</br>"
          ],
          [
           "</br>id: 73</br>prediction: 1.0</br>sepal width (cm): 3.1020000000000003</br></br>sepal length (cm): 6.1</br>petal length (cm): 4.7</br>petal width (cm): 1.2</br>_original_yhat_: 0.97</br>"
          ],
          [
           "</br>id: 73</br>prediction: 1.0</br>sepal width (cm): 3.124</br></br>sepal length (cm): 6.1</br>petal length (cm): 4.7</br>petal width (cm): 1.2</br>_original_yhat_: 0.97</br>"
          ],
          [
           "</br>id: 73</br>prediction: 1.0</br>sepal width (cm): 3.1460000000000004</br></br>sepal length (cm): 6.1</br>petal length (cm): 4.7</br>petal width (cm): 1.2</br>_original_yhat_: 0.97</br>"
          ],
          [
           "</br>id: 73</br>prediction: 1.0</br>sepal width (cm): 3.168</br></br>sepal length (cm): 6.1</br>petal length (cm): 4.7</br>petal width (cm): 1.2</br>_original_yhat_: 0.97</br>"
          ],
          [
           "</br>id: 73</br>prediction: 1.0</br>sepal width (cm): 3.1900000000000004</br></br>sepal length (cm): 6.1</br>petal length (cm): 4.7</br>petal width (cm): 1.2</br>_original_yhat_: 0.97</br>"
          ],
          [
           "</br>id: 73</br>prediction: 1.0</br>sepal width (cm): 3.212</br></br>sepal length (cm): 6.1</br>petal length (cm): 4.7</br>petal width (cm): 1.2</br>_original_yhat_: 0.97</br>"
          ],
          [
           "</br>id: 73</br>prediction: 1.0</br>sepal width (cm): 3.234</br></br>sepal length (cm): 6.1</br>petal length (cm): 4.7</br>petal width (cm): 1.2</br>_original_yhat_: 0.97</br>"
          ],
          [
           "</br>id: 73</br>prediction: 0.97</br>sepal width (cm): 3.2560000000000002</br></br>sepal length (cm): 6.1</br>petal length (cm): 4.7</br>petal width (cm): 1.2</br>_original_yhat_: 0.97</br>"
          ],
          [
           "</br>id: 73</br>prediction: 0.97</br>sepal width (cm): 3.2780000000000005</br></br>sepal length (cm): 6.1</br>petal length (cm): 4.7</br>petal width (cm): 1.2</br>_original_yhat_: 0.97</br>"
          ],
          [
           "</br>id: 73</br>prediction: 0.97</br>sepal width (cm): 3.3000000000000003</br></br>sepal length (cm): 6.1</br>petal length (cm): 4.7</br>petal width (cm): 1.2</br>_original_yhat_: 0.97</br>"
          ],
          [
           "</br>id: 73</br>prediction: 0.96</br>sepal width (cm): 3.322</br></br>sepal length (cm): 6.1</br>petal length (cm): 4.7</br>petal width (cm): 1.2</br>_original_yhat_: 0.97</br>"
          ],
          [
           "</br>id: 73</br>prediction: 0.96</br>sepal width (cm): 3.3440000000000003</br></br>sepal length (cm): 6.1</br>petal length (cm): 4.7</br>petal width (cm): 1.2</br>_original_yhat_: 0.97</br>"
          ],
          [
           "</br>id: 73</br>prediction: 0.96</br>sepal width (cm): 3.3660000000000005</br></br>sepal length (cm): 6.1</br>petal length (cm): 4.7</br>petal width (cm): 1.2</br>_original_yhat_: 0.97</br>"
          ],
          [
           "</br>id: 73</br>prediction: 0.96</br>sepal width (cm): 3.3880000000000003</br></br>sepal length (cm): 6.1</br>petal length (cm): 4.7</br>petal width (cm): 1.2</br>_original_yhat_: 0.97</br>"
          ],
          [
           "</br>id: 73</br>prediction: 0.96</br>sepal width (cm): 3.41</br></br>sepal length (cm): 6.1</br>petal length (cm): 4.7</br>petal width (cm): 1.2</br>_original_yhat_: 0.97</br>"
          ],
          [
           "</br>id: 73</br>prediction: 0.96</br>sepal width (cm): 3.4320000000000004</br></br>sepal length (cm): 6.1</br>petal length (cm): 4.7</br>petal width (cm): 1.2</br>_original_yhat_: 0.97</br>"
          ],
          [
           "</br>id: 73</br>prediction: 0.96</br>sepal width (cm): 3.4540000000000006</br></br>sepal length (cm): 6.1</br>petal length (cm): 4.7</br>petal width (cm): 1.2</br>_original_yhat_: 0.97</br>"
          ],
          [
           "</br>id: 73</br>prediction: 0.96</br>sepal width (cm): 3.476</br></br>sepal length (cm): 6.1</br>petal length (cm): 4.7</br>petal width (cm): 1.2</br>_original_yhat_: 0.97</br>"
          ],
          [
           "</br>id: 73</br>prediction: 0.96</br>sepal width (cm): 3.498</br></br>sepal length (cm): 6.1</br>petal length (cm): 4.7</br>petal width (cm): 1.2</br>_original_yhat_: 0.97</br>"
          ],
          [
           "</br>id: 73</br>prediction: 0.94</br>sepal width (cm): 3.5200000000000005</br></br>sepal length (cm): 6.1</br>petal length (cm): 4.7</br>petal width (cm): 1.2</br>_original_yhat_: 0.97</br>"
          ],
          [
           "</br>id: 73</br>prediction: 0.94</br>sepal width (cm): 3.5420000000000003</br></br>sepal length (cm): 6.1</br>petal length (cm): 4.7</br>petal width (cm): 1.2</br>_original_yhat_: 0.97</br>"
          ],
          [
           "</br>id: 73</br>prediction: 0.93</br>sepal width (cm): 3.564</br></br>sepal length (cm): 6.1</br>petal length (cm): 4.7</br>petal width (cm): 1.2</br>_original_yhat_: 0.97</br>"
          ],
          [
           "</br>id: 73</br>prediction: 0.93</br>sepal width (cm): 3.5860000000000003</br></br>sepal length (cm): 6.1</br>petal length (cm): 4.7</br>petal width (cm): 1.2</br>_original_yhat_: 0.97</br>"
          ],
          [
           "</br>id: 73</br>prediction: 0.91</br>sepal width (cm): 3.6080000000000005</br></br>sepal length (cm): 6.1</br>petal length (cm): 4.7</br>petal width (cm): 1.2</br>_original_yhat_: 0.97</br>"
          ],
          [
           "</br>id: 73</br>prediction: 0.91</br>sepal width (cm): 3.6300000000000003</br></br>sepal length (cm): 6.1</br>petal length (cm): 4.7</br>petal width (cm): 1.2</br>_original_yhat_: 0.97</br>"
          ],
          [
           "</br>id: 73</br>prediction: 0.91</br>sepal width (cm): 3.652</br></br>sepal length (cm): 6.1</br>petal length (cm): 4.7</br>petal width (cm): 1.2</br>_original_yhat_: 0.97</br>"
          ],
          [
           "</br>id: 73</br>prediction: 0.91</br>sepal width (cm): 3.6740000000000004</br></br>sepal length (cm): 6.1</br>petal length (cm): 4.7</br>petal width (cm): 1.2</br>_original_yhat_: 0.97</br>"
          ],
          [
           "</br>id: 73</br>prediction: 0.91</br>sepal width (cm): 3.6960000000000006</br></br>sepal length (cm): 6.1</br>petal length (cm): 4.7</br>petal width (cm): 1.2</br>_original_yhat_: 0.97</br>"
          ],
          [
           "</br>id: 73</br>prediction: 0.9</br>sepal width (cm): 3.7180000000000004</br></br>sepal length (cm): 6.1</br>petal length (cm): 4.7</br>petal width (cm): 1.2</br>_original_yhat_: 0.97</br>"
          ],
          [
           "</br>id: 73</br>prediction: 0.9</br>sepal width (cm): 3.74</br></br>sepal length (cm): 6.1</br>petal length (cm): 4.7</br>petal width (cm): 1.2</br>_original_yhat_: 0.97</br>"
          ],
          [
           "</br>id: 73</br>prediction: 0.9</br>sepal width (cm): 3.7620000000000005</br></br>sepal length (cm): 6.1</br>petal length (cm): 4.7</br>petal width (cm): 1.2</br>_original_yhat_: 0.97</br>"
          ],
          [
           "</br>id: 73</br>prediction: 0.9</br>sepal width (cm): 3.7840000000000003</br></br>sepal length (cm): 6.1</br>petal length (cm): 4.7</br>petal width (cm): 1.2</br>_original_yhat_: 0.97</br>"
          ],
          [
           "</br>id: 73</br>prediction: 0.9</br>sepal width (cm): 3.806</br></br>sepal length (cm): 6.1</br>petal length (cm): 4.7</br>petal width (cm): 1.2</br>_original_yhat_: 0.97</br>"
          ],
          [
           "</br>id: 73</br>prediction: 0.9</br>sepal width (cm): 3.8280000000000003</br></br>sepal length (cm): 6.1</br>petal length (cm): 4.7</br>petal width (cm): 1.2</br>_original_yhat_: 0.97</br>"
          ],
          [
           "</br>id: 73</br>prediction: 0.9</br>sepal width (cm): 3.8500000000000005</br></br>sepal length (cm): 6.1</br>petal length (cm): 4.7</br>petal width (cm): 1.2</br>_original_yhat_: 0.97</br>"
          ],
          [
           "</br>id: 73</br>prediction: 0.9</br>sepal width (cm): 3.8720000000000003</br></br>sepal length (cm): 6.1</br>petal length (cm): 4.7</br>petal width (cm): 1.2</br>_original_yhat_: 0.97</br>"
          ],
          [
           "</br>id: 73</br>prediction: 0.9</br>sepal width (cm): 3.894</br></br>sepal length (cm): 6.1</br>petal length (cm): 4.7</br>petal width (cm): 1.2</br>_original_yhat_: 0.97</br>"
          ],
          [
           "</br>id: 73</br>prediction: 0.9</br>sepal width (cm): 3.9160000000000004</br></br>sepal length (cm): 6.1</br>petal length (cm): 4.7</br>petal width (cm): 1.2</br>_original_yhat_: 0.97</br>"
          ],
          [
           "</br>id: 73</br>prediction: 0.9</br>sepal width (cm): 3.9380000000000006</br></br>sepal length (cm): 6.1</br>petal length (cm): 4.7</br>petal width (cm): 1.2</br>_original_yhat_: 0.97</br>"
          ],
          [
           "</br>id: 73</br>prediction: 0.9</br>sepal width (cm): 3.9600000000000004</br></br>sepal length (cm): 6.1</br>petal length (cm): 4.7</br>petal width (cm): 1.2</br>_original_yhat_: 0.97</br>"
          ],
          [
           "</br>id: 73</br>prediction: 0.9</br>sepal width (cm): 3.982</br></br>sepal length (cm): 6.1</br>petal length (cm): 4.7</br>petal width (cm): 1.2</br>_original_yhat_: 0.97</br>"
          ],
          [
           "</br>id: 73</br>prediction: 0.9</br>sepal width (cm): 4.0040000000000004</br></br>sepal length (cm): 6.1</br>petal length (cm): 4.7</br>petal width (cm): 1.2</br>_original_yhat_: 0.97</br>"
          ],
          [
           "</br>id: 73</br>prediction: 0.9</br>sepal width (cm): 4.026000000000001</br></br>sepal length (cm): 6.1</br>petal length (cm): 4.7</br>petal width (cm): 1.2</br>_original_yhat_: 0.97</br>"
          ],
          [
           "</br>id: 73</br>prediction: 0.9</br>sepal width (cm): 4.048</br></br>sepal length (cm): 6.1</br>petal length (cm): 4.7</br>petal width (cm): 1.2</br>_original_yhat_: 0.97</br>"
          ],
          [
           "</br>id: 73</br>prediction: 0.9</br>sepal width (cm): 4.07</br></br>sepal length (cm): 6.1</br>petal length (cm): 4.7</br>petal width (cm): 1.2</br>_original_yhat_: 0.97</br>"
          ],
          [
           "</br>id: 73</br>prediction: 0.9</br>sepal width (cm): 4.0920000000000005</br></br>sepal length (cm): 6.1</br>petal length (cm): 4.7</br>petal width (cm): 1.2</br>_original_yhat_: 0.97</br>"
          ],
          [
           "</br>id: 73</br>prediction: 0.9</br>sepal width (cm): 4.114000000000001</br></br>sepal length (cm): 6.1</br>petal length (cm): 4.7</br>petal width (cm): 1.2</br>_original_yhat_: 0.97</br>"
          ],
          [
           "</br>id: 73</br>prediction: 0.9</br>sepal width (cm): 4.136</br></br>sepal length (cm): 6.1</br>petal length (cm): 4.7</br>petal width (cm): 1.2</br>_original_yhat_: 0.97</br>"
          ],
          [
           "</br>id: 73</br>prediction: 0.9</br>sepal width (cm): 4.158</br></br>sepal length (cm): 6.1</br>petal length (cm): 4.7</br>petal width (cm): 1.2</br>_original_yhat_: 0.97</br>"
          ],
          [
           "</br>id: 73</br>prediction: 0.9</br>sepal width (cm): 4.180000000000001</br></br>sepal length (cm): 6.1</br>petal length (cm): 4.7</br>petal width (cm): 1.2</br>_original_yhat_: 0.97</br>"
          ],
          [
           "</br>id: 73</br>prediction: 0.9</br>sepal width (cm): 4.202</br></br>sepal length (cm): 6.1</br>petal length (cm): 4.7</br>petal width (cm): 1.2</br>_original_yhat_: 0.97</br>"
          ],
          [
           "</br>id: 73</br>prediction: 0.9</br>sepal width (cm): 4.224</br></br>sepal length (cm): 6.1</br>petal length (cm): 4.7</br>petal width (cm): 1.2</br>_original_yhat_: 0.97</br>"
          ],
          [
           "</br>id: 73</br>prediction: 0.9</br>sepal width (cm): 4.246</br></br>sepal length (cm): 6.1</br>petal length (cm): 4.7</br>petal width (cm): 1.2</br>_original_yhat_: 0.97</br>"
          ],
          [
           "</br>id: 73</br>prediction: 0.9</br>sepal width (cm): 4.268000000000001</br></br>sepal length (cm): 6.1</br>petal length (cm): 4.7</br>petal width (cm): 1.2</br>_original_yhat_: 0.97</br>"
          ],
          [
           "</br>id: 73</br>prediction: 0.9</br>sepal width (cm): 4.290000000000001</br></br>sepal length (cm): 6.1</br>petal length (cm): 4.7</br>petal width (cm): 1.2</br>_original_yhat_: 0.97</br>"
          ],
          [
           "</br>id: 73</br>prediction: 0.9</br>sepal width (cm): 4.312</br></br>sepal length (cm): 6.1</br>petal length (cm): 4.7</br>petal width (cm): 1.2</br>_original_yhat_: 0.97</br>"
          ],
          [
           "</br>id: 73</br>prediction: 0.9</br>sepal width (cm): 4.3340000000000005</br></br>sepal length (cm): 6.1</br>petal length (cm): 4.7</br>petal width (cm): 1.2</br>_original_yhat_: 0.97</br>"
          ],
          [
           "</br>id: 73</br>prediction: 0.9</br>sepal width (cm): 4.356</br></br>sepal length (cm): 6.1</br>petal length (cm): 4.7</br>petal width (cm): 1.2</br>_original_yhat_: 0.97</br>"
          ],
          [
           "</br>id: 73</br>prediction: 0.9</br>sepal width (cm): 4.378</br></br>sepal length (cm): 6.1</br>petal length (cm): 4.7</br>petal width (cm): 1.2</br>_original_yhat_: 0.97</br>"
          ],
          [
           "</br>id: 73</br>prediction: 0.9</br>sepal width (cm): 4.4</br></br>sepal length (cm): 6.1</br>petal length (cm): 4.7</br>petal width (cm): 1.2</br>_original_yhat_: 0.97</br>"
          ]
         ],
         "hovertemplate": "%{customdata[0]}<extra></extra>",
         "legendgroup": "Random Forest",
         "line": {
          "color": "#46bac2",
          "dash": "solid",
          "width": 2
         },
         "marker": {
          "symbol": "circle"
         },
         "mode": "lines",
         "name": "Random Forest",
         "opacity": 1,
         "orientation": "v",
         "showlegend": false,
         "type": "scatter",
         "x": [
          2.2,
          2.222,
          2.244,
          2.266,
          2.2880000000000003,
          2.31,
          2.3320000000000003,
          2.354,
          2.3760000000000003,
          2.398,
          2.4200000000000004,
          2.442,
          2.4640000000000004,
          2.486,
          2.508,
          2.5300000000000002,
          2.552,
          2.5740000000000003,
          2.596,
          2.6180000000000003,
          2.64,
          2.6620000000000004,
          2.684,
          2.7060000000000004,
          2.728,
          2.75,
          2.7720000000000002,
          2.7940000000000005,
          2.8,
          2.8160000000000003,
          2.838,
          2.8600000000000003,
          2.882,
          2.9040000000000004,
          2.926,
          2.9480000000000004,
          2.97,
          2.992,
          3.0140000000000002,
          3.0360000000000005,
          3.0580000000000003,
          3.08,
          3.1020000000000003,
          3.124,
          3.1460000000000004,
          3.168,
          3.1900000000000004,
          3.212,
          3.234,
          3.2560000000000002,
          3.2780000000000005,
          3.3000000000000003,
          3.322,
          3.3440000000000003,
          3.3660000000000005,
          3.3880000000000003,
          3.41,
          3.4320000000000004,
          3.4540000000000006,
          3.476,
          3.498,
          3.5200000000000005,
          3.5420000000000003,
          3.564,
          3.5860000000000003,
          3.6080000000000005,
          3.6300000000000003,
          3.652,
          3.6740000000000004,
          3.6960000000000006,
          3.7180000000000004,
          3.74,
          3.7620000000000005,
          3.7840000000000003,
          3.806,
          3.8280000000000003,
          3.8500000000000005,
          3.8720000000000003,
          3.894,
          3.9160000000000004,
          3.9380000000000006,
          3.9600000000000004,
          3.982,
          4.0040000000000004,
          4.026000000000001,
          4.048,
          4.07,
          4.0920000000000005,
          4.114000000000001,
          4.136,
          4.158,
          4.180000000000001,
          4.202,
          4.224,
          4.246,
          4.268000000000001,
          4.290000000000001,
          4.312,
          4.3340000000000005,
          4.356,
          4.378,
          4.4
         ],
         "xaxis": "x4",
         "y": [
          0.93,
          0.93,
          0.93,
          0.95,
          0.95,
          0.95,
          0.95,
          0.96,
          0.96,
          0.96,
          0.96,
          0.96,
          0.96,
          0.96,
          0.96,
          0.96,
          0.95,
          0.95,
          0.95,
          0.95,
          0.95,
          0.97,
          0.97,
          0.98,
          0.98,
          0.98,
          0.97,
          0.97,
          0.97,
          0.97,
          0.97,
          1,
          1,
          1,
          1,
          1,
          1,
          1,
          1,
          1,
          1,
          1,
          1,
          1,
          1,
          1,
          1,
          1,
          1,
          0.97,
          0.97,
          0.97,
          0.96,
          0.96,
          0.96,
          0.96,
          0.96,
          0.96,
          0.96,
          0.96,
          0.96,
          0.94,
          0.94,
          0.93,
          0.93,
          0.91,
          0.91,
          0.91,
          0.91,
          0.91,
          0.9,
          0.9,
          0.9,
          0.9,
          0.9,
          0.9,
          0.9,
          0.9,
          0.9,
          0.9,
          0.9,
          0.9,
          0.9,
          0.9,
          0.9,
          0.9,
          0.9,
          0.9,
          0.9,
          0.9,
          0.9,
          0.9,
          0.9,
          0.9,
          0.9,
          0.9,
          0.9,
          0.9,
          0.9,
          0.9,
          0.9,
          0.9
         ],
         "yaxis": "y4"
        },
        {
         "customdata": [
          [
           "</br>id: 73</br>prediction: 0.6</br>petal length (cm): 1.0</br></br>sepal length (cm): 6.1</br>sepal width (cm): 2.8</br>petal width (cm): 1.2</br>_original_yhat_: 0.97</br>"
          ],
          [
           "</br>id: 73</br>prediction: 0.6</br>petal length (cm): 1.059</br></br>sepal length (cm): 6.1</br>sepal width (cm): 2.8</br>petal width (cm): 1.2</br>_original_yhat_: 0.97</br>"
          ],
          [
           "</br>id: 73</br>prediction: 0.6</br>petal length (cm): 1.118</br></br>sepal length (cm): 6.1</br>sepal width (cm): 2.8</br>petal width (cm): 1.2</br>_original_yhat_: 0.97</br>"
          ],
          [
           "</br>id: 73</br>prediction: 0.6</br>petal length (cm): 1.177</br></br>sepal length (cm): 6.1</br>sepal width (cm): 2.8</br>petal width (cm): 1.2</br>_original_yhat_: 0.97</br>"
          ],
          [
           "</br>id: 73</br>prediction: 0.6</br>petal length (cm): 1.236</br></br>sepal length (cm): 6.1</br>sepal width (cm): 2.8</br>petal width (cm): 1.2</br>_original_yhat_: 0.97</br>"
          ],
          [
           "</br>id: 73</br>prediction: 0.6</br>petal length (cm): 1.295</br></br>sepal length (cm): 6.1</br>sepal width (cm): 2.8</br>petal width (cm): 1.2</br>_original_yhat_: 0.97</br>"
          ],
          [
           "</br>id: 73</br>prediction: 0.6</br>petal length (cm): 1.354</br></br>sepal length (cm): 6.1</br>sepal width (cm): 2.8</br>petal width (cm): 1.2</br>_original_yhat_: 0.97</br>"
          ],
          [
           "</br>id: 73</br>prediction: 0.6</br>petal length (cm): 1.413</br></br>sepal length (cm): 6.1</br>sepal width (cm): 2.8</br>petal width (cm): 1.2</br>_original_yhat_: 0.97</br>"
          ],
          [
           "</br>id: 73</br>prediction: 0.6</br>petal length (cm): 1.472</br></br>sepal length (cm): 6.1</br>sepal width (cm): 2.8</br>petal width (cm): 1.2</br>_original_yhat_: 0.97</br>"
          ],
          [
           "</br>id: 73</br>prediction: 0.6</br>petal length (cm): 1.5310000000000001</br></br>sepal length (cm): 6.1</br>sepal width (cm): 2.8</br>petal width (cm): 1.2</br>_original_yhat_: 0.97</br>"
          ],
          [
           "</br>id: 73</br>prediction: 0.6</br>petal length (cm): 1.59</br></br>sepal length (cm): 6.1</br>sepal width (cm): 2.8</br>petal width (cm): 1.2</br>_original_yhat_: 0.97</br>"
          ],
          [
           "</br>id: 73</br>prediction: 0.6</br>petal length (cm): 1.649</br></br>sepal length (cm): 6.1</br>sepal width (cm): 2.8</br>petal width (cm): 1.2</br>_original_yhat_: 0.97</br>"
          ],
          [
           "</br>id: 73</br>prediction: 0.6</br>petal length (cm): 1.7080000000000002</br></br>sepal length (cm): 6.1</br>sepal width (cm): 2.8</br>petal width (cm): 1.2</br>_original_yhat_: 0.97</br>"
          ],
          [
           "</br>id: 73</br>prediction: 0.6</br>petal length (cm): 1.767</br></br>sepal length (cm): 6.1</br>sepal width (cm): 2.8</br>petal width (cm): 1.2</br>_original_yhat_: 0.97</br>"
          ],
          [
           "</br>id: 73</br>prediction: 0.6</br>petal length (cm): 1.826</br></br>sepal length (cm): 6.1</br>sepal width (cm): 2.8</br>petal width (cm): 1.2</br>_original_yhat_: 0.97</br>"
          ],
          [
           "</br>id: 73</br>prediction: 0.6</br>petal length (cm): 1.885</br></br>sepal length (cm): 6.1</br>sepal width (cm): 2.8</br>petal width (cm): 1.2</br>_original_yhat_: 0.97</br>"
          ],
          [
           "</br>id: 73</br>prediction: 0.6</br>petal length (cm): 1.944</br></br>sepal length (cm): 6.1</br>sepal width (cm): 2.8</br>petal width (cm): 1.2</br>_original_yhat_: 0.97</br>"
          ],
          [
           "</br>id: 73</br>prediction: 0.6</br>petal length (cm): 2.003</br></br>sepal length (cm): 6.1</br>sepal width (cm): 2.8</br>petal width (cm): 1.2</br>_original_yhat_: 0.97</br>"
          ],
          [
           "</br>id: 73</br>prediction: 0.6</br>petal length (cm): 2.0620000000000003</br></br>sepal length (cm): 6.1</br>sepal width (cm): 2.8</br>petal width (cm): 1.2</br>_original_yhat_: 0.97</br>"
          ],
          [
           "</br>id: 73</br>prediction: 0.6</br>petal length (cm): 2.121</br></br>sepal length (cm): 6.1</br>sepal width (cm): 2.8</br>petal width (cm): 1.2</br>_original_yhat_: 0.97</br>"
          ],
          [
           "</br>id: 73</br>prediction: 0.6</br>petal length (cm): 2.18</br></br>sepal length (cm): 6.1</br>sepal width (cm): 2.8</br>petal width (cm): 1.2</br>_original_yhat_: 0.97</br>"
          ],
          [
           "</br>id: 73</br>prediction: 0.6</br>petal length (cm): 2.239</br></br>sepal length (cm): 6.1</br>sepal width (cm): 2.8</br>petal width (cm): 1.2</br>_original_yhat_: 0.97</br>"
          ],
          [
           "</br>id: 73</br>prediction: 0.6</br>petal length (cm): 2.298</br></br>sepal length (cm): 6.1</br>sepal width (cm): 2.8</br>petal width (cm): 1.2</br>_original_yhat_: 0.97</br>"
          ],
          [
           "</br>id: 73</br>prediction: 0.63</br>petal length (cm): 2.357</br></br>sepal length (cm): 6.1</br>sepal width (cm): 2.8</br>petal width (cm): 1.2</br>_original_yhat_: 0.97</br>"
          ],
          [
           "</br>id: 73</br>prediction: 0.63</br>petal length (cm): 2.4160000000000004</br></br>sepal length (cm): 6.1</br>sepal width (cm): 2.8</br>petal width (cm): 1.2</br>_original_yhat_: 0.97</br>"
          ],
          [
           "</br>id: 73</br>prediction: 0.83</br>petal length (cm): 2.475</br></br>sepal length (cm): 6.1</br>sepal width (cm): 2.8</br>petal width (cm): 1.2</br>_original_yhat_: 0.97</br>"
          ],
          [
           "</br>id: 73</br>prediction: 0.84</br>petal length (cm): 2.534</br></br>sepal length (cm): 6.1</br>sepal width (cm): 2.8</br>petal width (cm): 1.2</br>_original_yhat_: 0.97</br>"
          ],
          [
           "</br>id: 73</br>prediction: 0.84</br>petal length (cm): 2.593</br></br>sepal length (cm): 6.1</br>sepal width (cm): 2.8</br>petal width (cm): 1.2</br>_original_yhat_: 0.97</br>"
          ],
          [
           "</br>id: 73</br>prediction: 0.99</br>petal length (cm): 2.652</br></br>sepal length (cm): 6.1</br>sepal width (cm): 2.8</br>petal width (cm): 1.2</br>_original_yhat_: 0.97</br>"
          ],
          [
           "</br>id: 73</br>prediction: 1.0</br>petal length (cm): 2.7110000000000003</br></br>sepal length (cm): 6.1</br>sepal width (cm): 2.8</br>petal width (cm): 1.2</br>_original_yhat_: 0.97</br>"
          ],
          [
           "</br>id: 73</br>prediction: 1.0</br>petal length (cm): 2.77</br></br>sepal length (cm): 6.1</br>sepal width (cm): 2.8</br>petal width (cm): 1.2</br>_original_yhat_: 0.97</br>"
          ],
          [
           "</br>id: 73</br>prediction: 1.0</br>petal length (cm): 2.829</br></br>sepal length (cm): 6.1</br>sepal width (cm): 2.8</br>petal width (cm): 1.2</br>_original_yhat_: 0.97</br>"
          ],
          [
           "</br>id: 73</br>prediction: 1.0</br>petal length (cm): 2.888</br></br>sepal length (cm): 6.1</br>sepal width (cm): 2.8</br>petal width (cm): 1.2</br>_original_yhat_: 0.97</br>"
          ],
          [
           "</br>id: 73</br>prediction: 1.0</br>petal length (cm): 2.947</br></br>sepal length (cm): 6.1</br>sepal width (cm): 2.8</br>petal width (cm): 1.2</br>_original_yhat_: 0.97</br>"
          ],
          [
           "</br>id: 73</br>prediction: 1.0</br>petal length (cm): 3.0060000000000002</br></br>sepal length (cm): 6.1</br>sepal width (cm): 2.8</br>petal width (cm): 1.2</br>_original_yhat_: 0.97</br>"
          ],
          [
           "</br>id: 73</br>prediction: 1.0</br>petal length (cm): 3.065</br></br>sepal length (cm): 6.1</br>sepal width (cm): 2.8</br>petal width (cm): 1.2</br>_original_yhat_: 0.97</br>"
          ],
          [
           "</br>id: 73</br>prediction: 1.0</br>petal length (cm): 3.124</br></br>sepal length (cm): 6.1</br>sepal width (cm): 2.8</br>petal width (cm): 1.2</br>_original_yhat_: 0.97</br>"
          ],
          [
           "</br>id: 73</br>prediction: 1.0</br>petal length (cm): 3.1830000000000003</br></br>sepal length (cm): 6.1</br>sepal width (cm): 2.8</br>petal width (cm): 1.2</br>_original_yhat_: 0.97</br>"
          ],
          [
           "</br>id: 73</br>prediction: 1.0</br>petal length (cm): 3.242</br></br>sepal length (cm): 6.1</br>sepal width (cm): 2.8</br>petal width (cm): 1.2</br>_original_yhat_: 0.97</br>"
          ],
          [
           "</br>id: 73</br>prediction: 1.0</br>petal length (cm): 3.301</br></br>sepal length (cm): 6.1</br>sepal width (cm): 2.8</br>petal width (cm): 1.2</br>_original_yhat_: 0.97</br>"
          ],
          [
           "</br>id: 73</br>prediction: 1.0</br>petal length (cm): 3.3600000000000003</br></br>sepal length (cm): 6.1</br>sepal width (cm): 2.8</br>petal width (cm): 1.2</br>_original_yhat_: 0.97</br>"
          ],
          [
           "</br>id: 73</br>prediction: 1.0</br>petal length (cm): 3.419</br></br>sepal length (cm): 6.1</br>sepal width (cm): 2.8</br>petal width (cm): 1.2</br>_original_yhat_: 0.97</br>"
          ],
          [
           "</br>id: 73</br>prediction: 1.0</br>petal length (cm): 3.478</br></br>sepal length (cm): 6.1</br>sepal width (cm): 2.8</br>petal width (cm): 1.2</br>_original_yhat_: 0.97</br>"
          ],
          [
           "</br>id: 73</br>prediction: 1.0</br>petal length (cm): 3.5370000000000004</br></br>sepal length (cm): 6.1</br>sepal width (cm): 2.8</br>petal width (cm): 1.2</br>_original_yhat_: 0.97</br>"
          ],
          [
           "</br>id: 73</br>prediction: 1.0</br>petal length (cm): 3.596</br></br>sepal length (cm): 6.1</br>sepal width (cm): 2.8</br>petal width (cm): 1.2</br>_original_yhat_: 0.97</br>"
          ],
          [
           "</br>id: 73</br>prediction: 1.0</br>petal length (cm): 3.6550000000000002</br></br>sepal length (cm): 6.1</br>sepal width (cm): 2.8</br>petal width (cm): 1.2</br>_original_yhat_: 0.97</br>"
          ],
          [
           "</br>id: 73</br>prediction: 1.0</br>petal length (cm): 3.714</br></br>sepal length (cm): 6.1</br>sepal width (cm): 2.8</br>petal width (cm): 1.2</br>_original_yhat_: 0.97</br>"
          ],
          [
           "</br>id: 73</br>prediction: 1.0</br>petal length (cm): 3.773</br></br>sepal length (cm): 6.1</br>sepal width (cm): 2.8</br>petal width (cm): 1.2</br>_original_yhat_: 0.97</br>"
          ],
          [
           "</br>id: 73</br>prediction: 1.0</br>petal length (cm): 3.8320000000000003</br></br>sepal length (cm): 6.1</br>sepal width (cm): 2.8</br>petal width (cm): 1.2</br>_original_yhat_: 0.97</br>"
          ],
          [
           "</br>id: 73</br>prediction: 1.0</br>petal length (cm): 3.891</br></br>sepal length (cm): 6.1</br>sepal width (cm): 2.8</br>petal width (cm): 1.2</br>_original_yhat_: 0.97</br>"
          ],
          [
           "</br>id: 73</br>prediction: 1.0</br>petal length (cm): 3.95</br></br>sepal length (cm): 6.1</br>sepal width (cm): 2.8</br>petal width (cm): 1.2</br>_original_yhat_: 0.97</br>"
          ],
          [
           "</br>id: 73</br>prediction: 1.0</br>petal length (cm): 4.009</br></br>sepal length (cm): 6.1</br>sepal width (cm): 2.8</br>petal width (cm): 1.2</br>_original_yhat_: 0.97</br>"
          ],
          [
           "</br>id: 73</br>prediction: 1.0</br>petal length (cm): 4.068</br></br>sepal length (cm): 6.1</br>sepal width (cm): 2.8</br>petal width (cm): 1.2</br>_original_yhat_: 0.97</br>"
          ],
          [
           "</br>id: 73</br>prediction: 1.0</br>petal length (cm): 4.127000000000001</br></br>sepal length (cm): 6.1</br>sepal width (cm): 2.8</br>petal width (cm): 1.2</br>_original_yhat_: 0.97</br>"
          ],
          [
           "</br>id: 73</br>prediction: 1.0</br>petal length (cm): 4.186</br></br>sepal length (cm): 6.1</br>sepal width (cm): 2.8</br>petal width (cm): 1.2</br>_original_yhat_: 0.97</br>"
          ],
          [
           "</br>id: 73</br>prediction: 1.0</br>petal length (cm): 4.245</br></br>sepal length (cm): 6.1</br>sepal width (cm): 2.8</br>petal width (cm): 1.2</br>_original_yhat_: 0.97</br>"
          ],
          [
           "</br>id: 73</br>prediction: 1.0</br>petal length (cm): 4.304</br></br>sepal length (cm): 6.1</br>sepal width (cm): 2.8</br>petal width (cm): 1.2</br>_original_yhat_: 0.97</br>"
          ],
          [
           "</br>id: 73</br>prediction: 1.0</br>petal length (cm): 4.363</br></br>sepal length (cm): 6.1</br>sepal width (cm): 2.8</br>petal width (cm): 1.2</br>_original_yhat_: 0.97</br>"
          ],
          [
           "</br>id: 73</br>prediction: 1.0</br>petal length (cm): 4.422000000000001</br></br>sepal length (cm): 6.1</br>sepal width (cm): 2.8</br>petal width (cm): 1.2</br>_original_yhat_: 0.97</br>"
          ],
          [
           "</br>id: 73</br>prediction: 0.98</br>petal length (cm): 4.481</br></br>sepal length (cm): 6.1</br>sepal width (cm): 2.8</br>petal width (cm): 1.2</br>_original_yhat_: 0.97</br>"
          ],
          [
           "</br>id: 73</br>prediction: 0.98</br>petal length (cm): 4.54</br></br>sepal length (cm): 6.1</br>sepal width (cm): 2.8</br>petal width (cm): 1.2</br>_original_yhat_: 0.97</br>"
          ],
          [
           "</br>id: 73</br>prediction: 0.99</br>petal length (cm): 4.599</br></br>sepal length (cm): 6.1</br>sepal width (cm): 2.8</br>petal width (cm): 1.2</br>_original_yhat_: 0.97</br>"
          ],
          [
           "</br>id: 73</br>prediction: 0.97</br>petal length (cm): 4.658</br></br>sepal length (cm): 6.1</br>sepal width (cm): 2.8</br>petal width (cm): 1.2</br>_original_yhat_: 0.97</br>"
          ],
          [
           "</br>id: 73</br>prediction: 0.97</br>petal length (cm): 4.7</br></br>sepal length (cm): 6.1</br>sepal width (cm): 2.8</br>petal width (cm): 1.2</br>_original_yhat_: 0.97</br>"
          ],
          [
           "</br>id: 73</br>prediction: 0.96</br>petal length (cm): 4.7170000000000005</br></br>sepal length (cm): 6.1</br>sepal width (cm): 2.8</br>petal width (cm): 1.2</br>_original_yhat_: 0.97</br>"
          ],
          [
           "</br>id: 73</br>prediction: 0.83</br>petal length (cm): 4.776</br></br>sepal length (cm): 6.1</br>sepal width (cm): 2.8</br>petal width (cm): 1.2</br>_original_yhat_: 0.97</br>"
          ],
          [
           "</br>id: 73</br>prediction: 0.83</br>petal length (cm): 4.835000000000001</br></br>sepal length (cm): 6.1</br>sepal width (cm): 2.8</br>petal width (cm): 1.2</br>_original_yhat_: 0.97</br>"
          ],
          [
           "</br>id: 73</br>prediction: 0.78</br>petal length (cm): 4.894</br></br>sepal length (cm): 6.1</br>sepal width (cm): 2.8</br>petal width (cm): 1.2</br>_original_yhat_: 0.97</br>"
          ],
          [
           "</br>id: 73</br>prediction: 0.59</br>petal length (cm): 4.953</br></br>sepal length (cm): 6.1</br>sepal width (cm): 2.8</br>petal width (cm): 1.2</br>_original_yhat_: 0.97</br>"
          ],
          [
           "</br>id: 73</br>prediction: 0.51</br>petal length (cm): 5.0120000000000005</br></br>sepal length (cm): 6.1</br>sepal width (cm): 2.8</br>petal width (cm): 1.2</br>_original_yhat_: 0.97</br>"
          ],
          [
           "</br>id: 73</br>prediction: 0.44</br>petal length (cm): 5.071000000000001</br></br>sepal length (cm): 6.1</br>sepal width (cm): 2.8</br>petal width (cm): 1.2</br>_original_yhat_: 0.97</br>"
          ],
          [
           "</br>id: 73</br>prediction: 0.44</br>petal length (cm): 5.13</br></br>sepal length (cm): 6.1</br>sepal width (cm): 2.8</br>petal width (cm): 1.2</br>_original_yhat_: 0.97</br>"
          ],
          [
           "</br>id: 73</br>prediction: 0.42</br>petal length (cm): 5.189</br></br>sepal length (cm): 6.1</br>sepal width (cm): 2.8</br>petal width (cm): 1.2</br>_original_yhat_: 0.97</br>"
          ],
          [
           "</br>id: 73</br>prediction: 0.4</br>petal length (cm): 5.248</br></br>sepal length (cm): 6.1</br>sepal width (cm): 2.8</br>petal width (cm): 1.2</br>_original_yhat_: 0.97</br>"
          ],
          [
           "</br>id: 73</br>prediction: 0.35</br>petal length (cm): 5.307</br></br>sepal length (cm): 6.1</br>sepal width (cm): 2.8</br>petal width (cm): 1.2</br>_original_yhat_: 0.97</br>"
          ],
          [
           "</br>id: 73</br>prediction: 0.32</br>petal length (cm): 5.3660000000000005</br></br>sepal length (cm): 6.1</br>sepal width (cm): 2.8</br>petal width (cm): 1.2</br>_original_yhat_: 0.97</br>"
          ],
          [
           "</br>id: 73</br>prediction: 0.32</br>petal length (cm): 5.425000000000001</br></br>sepal length (cm): 6.1</br>sepal width (cm): 2.8</br>petal width (cm): 1.2</br>_original_yhat_: 0.97</br>"
          ],
          [
           "</br>id: 73</br>prediction: 0.29</br>petal length (cm): 5.484</br></br>sepal length (cm): 6.1</br>sepal width (cm): 2.8</br>petal width (cm): 1.2</br>_original_yhat_: 0.97</br>"
          ],
          [
           "</br>id: 73</br>prediction: 0.29</br>petal length (cm): 5.543</br></br>sepal length (cm): 6.1</br>sepal width (cm): 2.8</br>petal width (cm): 1.2</br>_original_yhat_: 0.97</br>"
          ],
          [
           "</br>id: 73</br>prediction: 0.29</br>petal length (cm): 5.602</br></br>sepal length (cm): 6.1</br>sepal width (cm): 2.8</br>petal width (cm): 1.2</br>_original_yhat_: 0.97</br>"
          ],
          [
           "</br>id: 73</br>prediction: 0.29</br>petal length (cm): 5.6610000000000005</br></br>sepal length (cm): 6.1</br>sepal width (cm): 2.8</br>petal width (cm): 1.2</br>_original_yhat_: 0.97</br>"
          ],
          [
           "</br>id: 73</br>prediction: 0.29</br>petal length (cm): 5.720000000000001</br></br>sepal length (cm): 6.1</br>sepal width (cm): 2.8</br>petal width (cm): 1.2</br>_original_yhat_: 0.97</br>"
          ],
          [
           "</br>id: 73</br>prediction: 0.29</br>petal length (cm): 5.779</br></br>sepal length (cm): 6.1</br>sepal width (cm): 2.8</br>petal width (cm): 1.2</br>_original_yhat_: 0.97</br>"
          ],
          [
           "</br>id: 73</br>prediction: 0.29</br>petal length (cm): 5.838</br></br>sepal length (cm): 6.1</br>sepal width (cm): 2.8</br>petal width (cm): 1.2</br>_original_yhat_: 0.97</br>"
          ],
          [
           "</br>id: 73</br>prediction: 0.29</br>petal length (cm): 5.897</br></br>sepal length (cm): 6.1</br>sepal width (cm): 2.8</br>petal width (cm): 1.2</br>_original_yhat_: 0.97</br>"
          ],
          [
           "</br>id: 73</br>prediction: 0.29</br>petal length (cm): 5.956</br></br>sepal length (cm): 6.1</br>sepal width (cm): 2.8</br>petal width (cm): 1.2</br>_original_yhat_: 0.97</br>"
          ],
          [
           "</br>id: 73</br>prediction: 0.29</br>petal length (cm): 6.015000000000001</br></br>sepal length (cm): 6.1</br>sepal width (cm): 2.8</br>petal width (cm): 1.2</br>_original_yhat_: 0.97</br>"
          ],
          [
           "</br>id: 73</br>prediction: 0.29</br>petal length (cm): 6.074000000000001</br></br>sepal length (cm): 6.1</br>sepal width (cm): 2.8</br>petal width (cm): 1.2</br>_original_yhat_: 0.97</br>"
          ],
          [
           "</br>id: 73</br>prediction: 0.29</br>petal length (cm): 6.133</br></br>sepal length (cm): 6.1</br>sepal width (cm): 2.8</br>petal width (cm): 1.2</br>_original_yhat_: 0.97</br>"
          ],
          [
           "</br>id: 73</br>prediction: 0.29</br>petal length (cm): 6.192</br></br>sepal length (cm): 6.1</br>sepal width (cm): 2.8</br>petal width (cm): 1.2</br>_original_yhat_: 0.97</br>"
          ],
          [
           "</br>id: 73</br>prediction: 0.29</br>petal length (cm): 6.251</br></br>sepal length (cm): 6.1</br>sepal width (cm): 2.8</br>petal width (cm): 1.2</br>_original_yhat_: 0.97</br>"
          ],
          [
           "</br>id: 73</br>prediction: 0.29</br>petal length (cm): 6.3100000000000005</br></br>sepal length (cm): 6.1</br>sepal width (cm): 2.8</br>petal width (cm): 1.2</br>_original_yhat_: 0.97</br>"
          ],
          [
           "</br>id: 73</br>prediction: 0.29</br>petal length (cm): 6.369000000000001</br></br>sepal length (cm): 6.1</br>sepal width (cm): 2.8</br>petal width (cm): 1.2</br>_original_yhat_: 0.97</br>"
          ],
          [
           "</br>id: 73</br>prediction: 0.29</br>petal length (cm): 6.428</br></br>sepal length (cm): 6.1</br>sepal width (cm): 2.8</br>petal width (cm): 1.2</br>_original_yhat_: 0.97</br>"
          ],
          [
           "</br>id: 73</br>prediction: 0.29</br>petal length (cm): 6.487</br></br>sepal length (cm): 6.1</br>sepal width (cm): 2.8</br>petal width (cm): 1.2</br>_original_yhat_: 0.97</br>"
          ],
          [
           "</br>id: 73</br>prediction: 0.29</br>petal length (cm): 6.546</br></br>sepal length (cm): 6.1</br>sepal width (cm): 2.8</br>petal width (cm): 1.2</br>_original_yhat_: 0.97</br>"
          ],
          [
           "</br>id: 73</br>prediction: 0.29</br>petal length (cm): 6.605</br></br>sepal length (cm): 6.1</br>sepal width (cm): 2.8</br>petal width (cm): 1.2</br>_original_yhat_: 0.97</br>"
          ],
          [
           "</br>id: 73</br>prediction: 0.29</br>petal length (cm): 6.664000000000001</br></br>sepal length (cm): 6.1</br>sepal width (cm): 2.8</br>petal width (cm): 1.2</br>_original_yhat_: 0.97</br>"
          ],
          [
           "</br>id: 73</br>prediction: 0.29</br>petal length (cm): 6.723000000000001</br></br>sepal length (cm): 6.1</br>sepal width (cm): 2.8</br>petal width (cm): 1.2</br>_original_yhat_: 0.97</br>"
          ],
          [
           "</br>id: 73</br>prediction: 0.29</br>petal length (cm): 6.782</br></br>sepal length (cm): 6.1</br>sepal width (cm): 2.8</br>petal width (cm): 1.2</br>_original_yhat_: 0.97</br>"
          ],
          [
           "</br>id: 73</br>prediction: 0.29</br>petal length (cm): 6.841</br></br>sepal length (cm): 6.1</br>sepal width (cm): 2.8</br>petal width (cm): 1.2</br>_original_yhat_: 0.97</br>"
          ],
          [
           "</br>id: 73</br>prediction: 0.29</br>petal length (cm): 6.9</br></br>sepal length (cm): 6.1</br>sepal width (cm): 2.8</br>petal width (cm): 1.2</br>_original_yhat_: 0.97</br>"
          ]
         ],
         "hovertemplate": "%{customdata[0]}<extra></extra>",
         "legendgroup": "Random Forest",
         "line": {
          "color": "#46bac2",
          "dash": "solid",
          "width": 2
         },
         "marker": {
          "symbol": "circle"
         },
         "mode": "lines",
         "name": "Random Forest",
         "opacity": 1,
         "orientation": "v",
         "showlegend": false,
         "type": "scatter",
         "x": [
          1,
          1.059,
          1.118,
          1.177,
          1.236,
          1.295,
          1.354,
          1.413,
          1.472,
          1.5310000000000001,
          1.59,
          1.649,
          1.7080000000000002,
          1.767,
          1.826,
          1.885,
          1.944,
          2.003,
          2.0620000000000003,
          2.121,
          2.18,
          2.239,
          2.298,
          2.357,
          2.4160000000000004,
          2.475,
          2.534,
          2.593,
          2.652,
          2.7110000000000003,
          2.77,
          2.829,
          2.888,
          2.947,
          3.0060000000000002,
          3.065,
          3.124,
          3.1830000000000003,
          3.242,
          3.301,
          3.3600000000000003,
          3.419,
          3.478,
          3.5370000000000004,
          3.596,
          3.6550000000000002,
          3.714,
          3.773,
          3.8320000000000003,
          3.891,
          3.95,
          4.009,
          4.068,
          4.127000000000001,
          4.186,
          4.245,
          4.304,
          4.363,
          4.422000000000001,
          4.481,
          4.54,
          4.599,
          4.658,
          4.7,
          4.7170000000000005,
          4.776,
          4.835000000000001,
          4.894,
          4.953,
          5.0120000000000005,
          5.071000000000001,
          5.13,
          5.189,
          5.248,
          5.307,
          5.3660000000000005,
          5.425000000000001,
          5.484,
          5.543,
          5.602,
          5.6610000000000005,
          5.720000000000001,
          5.779,
          5.838,
          5.897,
          5.956,
          6.015000000000001,
          6.074000000000001,
          6.133,
          6.192,
          6.251,
          6.3100000000000005,
          6.369000000000001,
          6.428,
          6.487,
          6.546,
          6.605,
          6.664000000000001,
          6.723000000000001,
          6.782,
          6.841,
          6.9
         ],
         "xaxis": "x",
         "y": [
          0.6,
          0.6,
          0.6,
          0.6,
          0.6,
          0.6,
          0.6,
          0.6,
          0.6,
          0.6,
          0.6,
          0.6,
          0.6,
          0.6,
          0.6,
          0.6,
          0.6,
          0.6,
          0.6,
          0.6,
          0.6,
          0.6,
          0.6,
          0.63,
          0.63,
          0.83,
          0.84,
          0.84,
          0.99,
          1,
          1,
          1,
          1,
          1,
          1,
          1,
          1,
          1,
          1,
          1,
          1,
          1,
          1,
          1,
          1,
          1,
          1,
          1,
          1,
          1,
          1,
          1,
          1,
          1,
          1,
          1,
          1,
          1,
          1,
          0.98,
          0.98,
          0.99,
          0.97,
          0.97,
          0.96,
          0.83,
          0.83,
          0.78,
          0.59,
          0.51,
          0.44,
          0.44,
          0.42,
          0.4,
          0.35,
          0.32,
          0.32,
          0.29,
          0.29,
          0.29,
          0.29,
          0.29,
          0.29,
          0.29,
          0.29,
          0.29,
          0.29,
          0.29,
          0.29,
          0.29,
          0.29,
          0.29,
          0.29,
          0.29,
          0.29,
          0.29,
          0.29,
          0.29,
          0.29,
          0.29,
          0.29,
          0.29
         ],
         "yaxis": "y"
        },
        {
         "customdata": [
          [
           "</br>id: 73</br>prediction: 0.5</br>petal width (cm): 0.1</br></br>sepal length (cm): 6.1</br>sepal width (cm): 2.8</br>petal length (cm): 4.7</br>_original_yhat_: 0.97</br>"
          ],
          [
           "</br>id: 73</br>prediction: 0.5</br>petal width (cm): 0.122</br></br>sepal length (cm): 6.1</br>sepal width (cm): 2.8</br>petal length (cm): 4.7</br>_original_yhat_: 0.97</br>"
          ],
          [
           "</br>id: 73</br>prediction: 0.5</br>petal width (cm): 0.14400000000000002</br></br>sepal length (cm): 6.1</br>sepal width (cm): 2.8</br>petal length (cm): 4.7</br>_original_yhat_: 0.97</br>"
          ],
          [
           "</br>id: 73</br>prediction: 0.5</br>petal width (cm): 0.166</br></br>sepal length (cm): 6.1</br>sepal width (cm): 2.8</br>petal length (cm): 4.7</br>_original_yhat_: 0.97</br>"
          ],
          [
           "</br>id: 73</br>prediction: 0.5</br>petal width (cm): 0.188</br></br>sepal length (cm): 6.1</br>sepal width (cm): 2.8</br>petal length (cm): 4.7</br>_original_yhat_: 0.97</br>"
          ],
          [
           "</br>id: 73</br>prediction: 0.5</br>petal width (cm): 0.21</br></br>sepal length (cm): 6.1</br>sepal width (cm): 2.8</br>petal length (cm): 4.7</br>_original_yhat_: 0.97</br>"
          ],
          [
           "</br>id: 73</br>prediction: 0.5</br>petal width (cm): 0.232</br></br>sepal length (cm): 6.1</br>sepal width (cm): 2.8</br>petal length (cm): 4.7</br>_original_yhat_: 0.97</br>"
          ],
          [
           "</br>id: 73</br>prediction: 0.5</br>petal width (cm): 0.254</br></br>sepal length (cm): 6.1</br>sepal width (cm): 2.8</br>petal length (cm): 4.7</br>_original_yhat_: 0.97</br>"
          ],
          [
           "</br>id: 73</br>prediction: 0.5</br>petal width (cm): 0.276</br></br>sepal length (cm): 6.1</br>sepal width (cm): 2.8</br>petal length (cm): 4.7</br>_original_yhat_: 0.97</br>"
          ],
          [
           "</br>id: 73</br>prediction: 0.5</br>petal width (cm): 0.298</br></br>sepal length (cm): 6.1</br>sepal width (cm): 2.8</br>petal length (cm): 4.7</br>_original_yhat_: 0.97</br>"
          ],
          [
           "</br>id: 73</br>prediction: 0.5</br>petal width (cm): 0.31999999999999995</br></br>sepal length (cm): 6.1</br>sepal width (cm): 2.8</br>petal length (cm): 4.7</br>_original_yhat_: 0.97</br>"
          ],
          [
           "</br>id: 73</br>prediction: 0.5</br>petal width (cm): 0.34199999999999997</br></br>sepal length (cm): 6.1</br>sepal width (cm): 2.8</br>petal length (cm): 4.7</br>_original_yhat_: 0.97</br>"
          ],
          [
           "</br>id: 73</br>prediction: 0.5</br>petal width (cm): 0.364</br></br>sepal length (cm): 6.1</br>sepal width (cm): 2.8</br>petal length (cm): 4.7</br>_original_yhat_: 0.97</br>"
          ],
          [
           "</br>id: 73</br>prediction: 0.5</br>petal width (cm): 0.386</br></br>sepal length (cm): 6.1</br>sepal width (cm): 2.8</br>petal length (cm): 4.7</br>_original_yhat_: 0.97</br>"
          ],
          [
           "</br>id: 73</br>prediction: 0.5</br>petal width (cm): 0.40800000000000003</br></br>sepal length (cm): 6.1</br>sepal width (cm): 2.8</br>petal length (cm): 4.7</br>_original_yhat_: 0.97</br>"
          ],
          [
           "</br>id: 73</br>prediction: 0.5</br>petal width (cm): 0.42999999999999994</br></br>sepal length (cm): 6.1</br>sepal width (cm): 2.8</br>petal length (cm): 4.7</br>_original_yhat_: 0.97</br>"
          ],
          [
           "</br>id: 73</br>prediction: 0.5</br>petal width (cm): 0.45199999999999996</br></br>sepal length (cm): 6.1</br>sepal width (cm): 2.8</br>petal length (cm): 4.7</br>_original_yhat_: 0.97</br>"
          ],
          [
           "</br>id: 73</br>prediction: 0.5</br>petal width (cm): 0.474</br></br>sepal length (cm): 6.1</br>sepal width (cm): 2.8</br>petal length (cm): 4.7</br>_original_yhat_: 0.97</br>"
          ],
          [
           "</br>id: 73</br>prediction: 0.5</br>petal width (cm): 0.496</br></br>sepal length (cm): 6.1</br>sepal width (cm): 2.8</br>petal length (cm): 4.7</br>_original_yhat_: 0.97</br>"
          ],
          [
           "</br>id: 73</br>prediction: 0.5</br>petal width (cm): 0.518</br></br>sepal length (cm): 6.1</br>sepal width (cm): 2.8</br>petal length (cm): 4.7</br>_original_yhat_: 0.97</br>"
          ],
          [
           "</br>id: 73</br>prediction: 0.5</br>petal width (cm): 0.5399999999999999</br></br>sepal length (cm): 6.1</br>sepal width (cm): 2.8</br>petal length (cm): 4.7</br>_original_yhat_: 0.97</br>"
          ],
          [
           "</br>id: 73</br>prediction: 0.5</br>petal width (cm): 0.5619999999999999</br></br>sepal length (cm): 6.1</br>sepal width (cm): 2.8</br>petal length (cm): 4.7</br>_original_yhat_: 0.97</br>"
          ],
          [
           "</br>id: 73</br>prediction: 0.5</br>petal width (cm): 0.584</br></br>sepal length (cm): 6.1</br>sepal width (cm): 2.8</br>petal length (cm): 4.7</br>_original_yhat_: 0.97</br>"
          ],
          [
           "</br>id: 73</br>prediction: 0.6</br>petal width (cm): 0.606</br></br>sepal length (cm): 6.1</br>sepal width (cm): 2.8</br>petal length (cm): 4.7</br>_original_yhat_: 0.97</br>"
          ],
          [
           "</br>id: 73</br>prediction: 0.6</br>petal width (cm): 0.628</br></br>sepal length (cm): 6.1</br>sepal width (cm): 2.8</br>petal length (cm): 4.7</br>_original_yhat_: 0.97</br>"
          ],
          [
           "</br>id: 73</br>prediction: 0.6</br>petal width (cm): 0.6499999999999999</br></br>sepal length (cm): 6.1</br>sepal width (cm): 2.8</br>petal length (cm): 4.7</br>_original_yhat_: 0.97</br>"
          ],
          [
           "</br>id: 73</br>prediction: 0.6</br>petal width (cm): 0.6719999999999999</br></br>sepal length (cm): 6.1</br>sepal width (cm): 2.8</br>petal length (cm): 4.7</br>_original_yhat_: 0.97</br>"
          ],
          [
           "</br>id: 73</br>prediction: 0.6</br>petal width (cm): 0.694</br></br>sepal length (cm): 6.1</br>sepal width (cm): 2.8</br>petal length (cm): 4.7</br>_original_yhat_: 0.97</br>"
          ],
          [
           "</br>id: 73</br>prediction: 0.64</br>petal width (cm): 0.716</br></br>sepal length (cm): 6.1</br>sepal width (cm): 2.8</br>petal length (cm): 4.7</br>_original_yhat_: 0.97</br>"
          ],
          [
           "</br>id: 73</br>prediction: 0.64</br>petal width (cm): 0.738</br></br>sepal length (cm): 6.1</br>sepal width (cm): 2.8</br>petal length (cm): 4.7</br>_original_yhat_: 0.97</br>"
          ],
          [
           "</br>id: 73</br>prediction: 0.75</br>petal width (cm): 0.7599999999999999</br></br>sepal length (cm): 6.1</br>sepal width (cm): 2.8</br>petal length (cm): 4.7</br>_original_yhat_: 0.97</br>"
          ],
          [
           "</br>id: 73</br>prediction: 0.75</br>petal width (cm): 0.7819999999999999</br></br>sepal length (cm): 6.1</br>sepal width (cm): 2.8</br>petal length (cm): 4.7</br>_original_yhat_: 0.97</br>"
          ],
          [
           "</br>id: 73</br>prediction: 0.97</br>petal width (cm): 0.8039999999999999</br></br>sepal length (cm): 6.1</br>sepal width (cm): 2.8</br>petal length (cm): 4.7</br>_original_yhat_: 0.97</br>"
          ],
          [
           "</br>id: 73</br>prediction: 0.97</br>petal width (cm): 0.826</br></br>sepal length (cm): 6.1</br>sepal width (cm): 2.8</br>petal length (cm): 4.7</br>_original_yhat_: 0.97</br>"
          ],
          [
           "</br>id: 73</br>prediction: 0.97</br>petal width (cm): 0.848</br></br>sepal length (cm): 6.1</br>sepal width (cm): 2.8</br>petal length (cm): 4.7</br>_original_yhat_: 0.97</br>"
          ],
          [
           "</br>id: 73</br>prediction: 0.97</br>petal width (cm): 0.8699999999999999</br></br>sepal length (cm): 6.1</br>sepal width (cm): 2.8</br>petal length (cm): 4.7</br>_original_yhat_: 0.97</br>"
          ],
          [
           "</br>id: 73</br>prediction: 0.97</br>petal width (cm): 0.8919999999999999</br></br>sepal length (cm): 6.1</br>sepal width (cm): 2.8</br>petal length (cm): 4.7</br>_original_yhat_: 0.97</br>"
          ],
          [
           "</br>id: 73</br>prediction: 0.97</br>petal width (cm): 0.9139999999999999</br></br>sepal length (cm): 6.1</br>sepal width (cm): 2.8</br>petal length (cm): 4.7</br>_original_yhat_: 0.97</br>"
          ],
          [
           "</br>id: 73</br>prediction: 0.97</br>petal width (cm): 0.9359999999999999</br></br>sepal length (cm): 6.1</br>sepal width (cm): 2.8</br>petal length (cm): 4.7</br>_original_yhat_: 0.97</br>"
          ],
          [
           "</br>id: 73</br>prediction: 0.97</br>petal width (cm): 0.958</br></br>sepal length (cm): 6.1</br>sepal width (cm): 2.8</br>petal length (cm): 4.7</br>_original_yhat_: 0.97</br>"
          ],
          [
           "</br>id: 73</br>prediction: 0.97</br>petal width (cm): 0.9799999999999999</br></br>sepal length (cm): 6.1</br>sepal width (cm): 2.8</br>petal length (cm): 4.7</br>_original_yhat_: 0.97</br>"
          ],
          [
           "</br>id: 73</br>prediction: 0.97</br>petal width (cm): 1.002</br></br>sepal length (cm): 6.1</br>sepal width (cm): 2.8</br>petal length (cm): 4.7</br>_original_yhat_: 0.97</br>"
          ],
          [
           "</br>id: 73</br>prediction: 0.97</br>petal width (cm): 1.024</br></br>sepal length (cm): 6.1</br>sepal width (cm): 2.8</br>petal length (cm): 4.7</br>_original_yhat_: 0.97</br>"
          ],
          [
           "</br>id: 73</br>prediction: 0.97</br>petal width (cm): 1.046</br></br>sepal length (cm): 6.1</br>sepal width (cm): 2.8</br>petal length (cm): 4.7</br>_original_yhat_: 0.97</br>"
          ],
          [
           "</br>id: 73</br>prediction: 0.97</br>petal width (cm): 1.068</br></br>sepal length (cm): 6.1</br>sepal width (cm): 2.8</br>petal length (cm): 4.7</br>_original_yhat_: 0.97</br>"
          ],
          [
           "</br>id: 73</br>prediction: 0.97</br>petal width (cm): 1.09</br></br>sepal length (cm): 6.1</br>sepal width (cm): 2.8</br>petal length (cm): 4.7</br>_original_yhat_: 0.97</br>"
          ],
          [
           "</br>id: 73</br>prediction: 0.97</br>petal width (cm): 1.112</br></br>sepal length (cm): 6.1</br>sepal width (cm): 2.8</br>petal length (cm): 4.7</br>_original_yhat_: 0.97</br>"
          ],
          [
           "</br>id: 73</br>prediction: 0.97</br>petal width (cm): 1.1340000000000001</br></br>sepal length (cm): 6.1</br>sepal width (cm): 2.8</br>petal length (cm): 4.7</br>_original_yhat_: 0.97</br>"
          ],
          [
           "</br>id: 73</br>prediction: 0.97</br>petal width (cm): 1.1560000000000001</br></br>sepal length (cm): 6.1</br>sepal width (cm): 2.8</br>petal length (cm): 4.7</br>_original_yhat_: 0.97</br>"
          ],
          [
           "</br>id: 73</br>prediction: 0.97</br>petal width (cm): 1.178</br></br>sepal length (cm): 6.1</br>sepal width (cm): 2.8</br>petal length (cm): 4.7</br>_original_yhat_: 0.97</br>"
          ],
          [
           "</br>id: 73</br>prediction: 0.97</br>petal width (cm): 1.2</br></br>sepal length (cm): 6.1</br>sepal width (cm): 2.8</br>petal length (cm): 4.7</br>_original_yhat_: 0.97</br>"
          ],
          [
           "</br>id: 73</br>prediction: 0.97</br>petal width (cm): 1.222</br></br>sepal length (cm): 6.1</br>sepal width (cm): 2.8</br>petal length (cm): 4.7</br>_original_yhat_: 0.97</br>"
          ],
          [
           "</br>id: 73</br>prediction: 0.97</br>petal width (cm): 1.244</br></br>sepal length (cm): 6.1</br>sepal width (cm): 2.8</br>petal length (cm): 4.7</br>_original_yhat_: 0.97</br>"
          ],
          [
           "</br>id: 73</br>prediction: 0.97</br>petal width (cm): 1.266</br></br>sepal length (cm): 6.1</br>sepal width (cm): 2.8</br>petal length (cm): 4.7</br>_original_yhat_: 0.97</br>"
          ],
          [
           "</br>id: 73</br>prediction: 0.97</br>petal width (cm): 1.288</br></br>sepal length (cm): 6.1</br>sepal width (cm): 2.8</br>petal length (cm): 4.7</br>_original_yhat_: 0.97</br>"
          ],
          [
           "</br>id: 73</br>prediction: 0.97</br>petal width (cm): 1.31</br></br>sepal length (cm): 6.1</br>sepal width (cm): 2.8</br>petal length (cm): 4.7</br>_original_yhat_: 0.97</br>"
          ],
          [
           "</br>id: 73</br>prediction: 0.97</br>petal width (cm): 1.332</br></br>sepal length (cm): 6.1</br>sepal width (cm): 2.8</br>petal length (cm): 4.7</br>_original_yhat_: 0.97</br>"
          ],
          [
           "</br>id: 73</br>prediction: 0.95</br>petal width (cm): 1.354</br></br>sepal length (cm): 6.1</br>sepal width (cm): 2.8</br>petal length (cm): 4.7</br>_original_yhat_: 0.97</br>"
          ],
          [
           "</br>id: 73</br>prediction: 0.95</br>petal width (cm): 1.3760000000000001</br></br>sepal length (cm): 6.1</br>sepal width (cm): 2.8</br>petal length (cm): 4.7</br>_original_yhat_: 0.97</br>"
          ],
          [
           "</br>id: 73</br>prediction: 0.95</br>petal width (cm): 1.398</br></br>sepal length (cm): 6.1</br>sepal width (cm): 2.8</br>petal length (cm): 4.7</br>_original_yhat_: 0.97</br>"
          ],
          [
           "</br>id: 73</br>prediction: 0.95</br>petal width (cm): 1.42</br></br>sepal length (cm): 6.1</br>sepal width (cm): 2.8</br>petal length (cm): 4.7</br>_original_yhat_: 0.97</br>"
          ],
          [
           "</br>id: 73</br>prediction: 0.95</br>petal width (cm): 1.442</br></br>sepal length (cm): 6.1</br>sepal width (cm): 2.8</br>petal length (cm): 4.7</br>_original_yhat_: 0.97</br>"
          ],
          [
           "</br>id: 73</br>prediction: 0.93</br>petal width (cm): 1.464</br></br>sepal length (cm): 6.1</br>sepal width (cm): 2.8</br>petal length (cm): 4.7</br>_original_yhat_: 0.97</br>"
          ],
          [
           "</br>id: 73</br>prediction: 0.93</br>petal width (cm): 1.486</br></br>sepal length (cm): 6.1</br>sepal width (cm): 2.8</br>petal length (cm): 4.7</br>_original_yhat_: 0.97</br>"
          ],
          [
           "</br>id: 73</br>prediction: 0.93</br>petal width (cm): 1.508</br></br>sepal length (cm): 6.1</br>sepal width (cm): 2.8</br>petal length (cm): 4.7</br>_original_yhat_: 0.97</br>"
          ],
          [
           "</br>id: 73</br>prediction: 0.93</br>petal width (cm): 1.53</br></br>sepal length (cm): 6.1</br>sepal width (cm): 2.8</br>petal length (cm): 4.7</br>_original_yhat_: 0.97</br>"
          ],
          [
           "</br>id: 73</br>prediction: 0.83</br>petal width (cm): 1.552</br></br>sepal length (cm): 6.1</br>sepal width (cm): 2.8</br>petal length (cm): 4.7</br>_original_yhat_: 0.97</br>"
          ],
          [
           "</br>id: 73</br>prediction: 0.83</br>petal width (cm): 1.574</br></br>sepal length (cm): 6.1</br>sepal width (cm): 2.8</br>petal length (cm): 4.7</br>_original_yhat_: 0.97</br>"
          ],
          [
           "</br>id: 73</br>prediction: 0.83</br>petal width (cm): 1.596</br></br>sepal length (cm): 6.1</br>sepal width (cm): 2.8</br>petal length (cm): 4.7</br>_original_yhat_: 0.97</br>"
          ],
          [
           "</br>id: 73</br>prediction: 0.72</br>petal width (cm): 1.618</br></br>sepal length (cm): 6.1</br>sepal width (cm): 2.8</br>petal length (cm): 4.7</br>_original_yhat_: 0.97</br>"
          ],
          [
           "</br>id: 73</br>prediction: 0.72</br>petal width (cm): 1.64</br></br>sepal length (cm): 6.1</br>sepal width (cm): 2.8</br>petal length (cm): 4.7</br>_original_yhat_: 0.97</br>"
          ],
          [
           "</br>id: 73</br>prediction: 0.62</br>petal width (cm): 1.662</br></br>sepal length (cm): 6.1</br>sepal width (cm): 2.8</br>petal length (cm): 4.7</br>_original_yhat_: 0.97</br>"
          ],
          [
           "</br>id: 73</br>prediction: 0.62</br>petal width (cm): 1.684</br></br>sepal length (cm): 6.1</br>sepal width (cm): 2.8</br>petal length (cm): 4.7</br>_original_yhat_: 0.97</br>"
          ],
          [
           "</br>id: 73</br>prediction: 0.57</br>petal width (cm): 1.706</br></br>sepal length (cm): 6.1</br>sepal width (cm): 2.8</br>petal length (cm): 4.7</br>_original_yhat_: 0.97</br>"
          ],
          [
           "</br>id: 73</br>prediction: 0.57</br>petal width (cm): 1.728</br></br>sepal length (cm): 6.1</br>sepal width (cm): 2.8</br>petal length (cm): 4.7</br>_original_yhat_: 0.97</br>"
          ],
          [
           "</br>id: 73</br>prediction: 0.57</br>petal width (cm): 1.75</br></br>sepal length (cm): 6.1</br>sepal width (cm): 2.8</br>petal length (cm): 4.7</br>_original_yhat_: 0.97</br>"
          ],
          [
           "</br>id: 73</br>prediction: 0.34</br>petal width (cm): 1.772</br></br>sepal length (cm): 6.1</br>sepal width (cm): 2.8</br>petal length (cm): 4.7</br>_original_yhat_: 0.97</br>"
          ],
          [
           "</br>id: 73</br>prediction: 0.34</br>petal width (cm): 1.794</br></br>sepal length (cm): 6.1</br>sepal width (cm): 2.8</br>petal length (cm): 4.7</br>_original_yhat_: 0.97</br>"
          ],
          [
           "</br>id: 73</br>prediction: 0.34</br>petal width (cm): 1.816</br></br>sepal length (cm): 6.1</br>sepal width (cm): 2.8</br>petal length (cm): 4.7</br>_original_yhat_: 0.97</br>"
          ],
          [
           "</br>id: 73</br>prediction: 0.34</br>petal width (cm): 1.838</br></br>sepal length (cm): 6.1</br>sepal width (cm): 2.8</br>petal length (cm): 4.7</br>_original_yhat_: 0.97</br>"
          ],
          [
           "</br>id: 73</br>prediction: 0.33</br>petal width (cm): 1.8599999999999999</br></br>sepal length (cm): 6.1</br>sepal width (cm): 2.8</br>petal length (cm): 4.7</br>_original_yhat_: 0.97</br>"
          ],
          [
           "</br>id: 73</br>prediction: 0.33</br>petal width (cm): 1.882</br></br>sepal length (cm): 6.1</br>sepal width (cm): 2.8</br>petal length (cm): 4.7</br>_original_yhat_: 0.97</br>"
          ],
          [
           "</br>id: 73</br>prediction: 0.33</br>petal width (cm): 1.904</br></br>sepal length (cm): 6.1</br>sepal width (cm): 2.8</br>petal length (cm): 4.7</br>_original_yhat_: 0.97</br>"
          ],
          [
           "</br>id: 73</br>prediction: 0.33</br>petal width (cm): 1.926</br></br>sepal length (cm): 6.1</br>sepal width (cm): 2.8</br>petal length (cm): 4.7</br>_original_yhat_: 0.97</br>"
          ],
          [
           "</br>id: 73</br>prediction: 0.33</br>petal width (cm): 1.948</br></br>sepal length (cm): 6.1</br>sepal width (cm): 2.8</br>petal length (cm): 4.7</br>_original_yhat_: 0.97</br>"
          ],
          [
           "</br>id: 73</br>prediction: 0.33</br>petal width (cm): 1.97</br></br>sepal length (cm): 6.1</br>sepal width (cm): 2.8</br>petal length (cm): 4.7</br>_original_yhat_: 0.97</br>"
          ],
          [
           "</br>id: 73</br>prediction: 0.33</br>petal width (cm): 1.992</br></br>sepal length (cm): 6.1</br>sepal width (cm): 2.8</br>petal length (cm): 4.7</br>_original_yhat_: 0.97</br>"
          ],
          [
           "</br>id: 73</br>prediction: 0.33</br>petal width (cm): 2.014</br></br>sepal length (cm): 6.1</br>sepal width (cm): 2.8</br>petal length (cm): 4.7</br>_original_yhat_: 0.97</br>"
          ],
          [
           "</br>id: 73</br>prediction: 0.33</br>petal width (cm): 2.036</br></br>sepal length (cm): 6.1</br>sepal width (cm): 2.8</br>petal length (cm): 4.7</br>_original_yhat_: 0.97</br>"
          ],
          [
           "</br>id: 73</br>prediction: 0.33</br>petal width (cm): 2.058</br></br>sepal length (cm): 6.1</br>sepal width (cm): 2.8</br>petal length (cm): 4.7</br>_original_yhat_: 0.97</br>"
          ],
          [
           "</br>id: 73</br>prediction: 0.33</br>petal width (cm): 2.08</br></br>sepal length (cm): 6.1</br>sepal width (cm): 2.8</br>petal length (cm): 4.7</br>_original_yhat_: 0.97</br>"
          ],
          [
           "</br>id: 73</br>prediction: 0.33</br>petal width (cm): 2.102</br></br>sepal length (cm): 6.1</br>sepal width (cm): 2.8</br>petal length (cm): 4.7</br>_original_yhat_: 0.97</br>"
          ],
          [
           "</br>id: 73</br>prediction: 0.33</br>petal width (cm): 2.124</br></br>sepal length (cm): 6.1</br>sepal width (cm): 2.8</br>petal length (cm): 4.7</br>_original_yhat_: 0.97</br>"
          ],
          [
           "</br>id: 73</br>prediction: 0.33</br>petal width (cm): 2.146</br></br>sepal length (cm): 6.1</br>sepal width (cm): 2.8</br>petal length (cm): 4.7</br>_original_yhat_: 0.97</br>"
          ],
          [
           "</br>id: 73</br>prediction: 0.33</br>petal width (cm): 2.168</br></br>sepal length (cm): 6.1</br>sepal width (cm): 2.8</br>petal length (cm): 4.7</br>_original_yhat_: 0.97</br>"
          ],
          [
           "</br>id: 73</br>prediction: 0.33</br>petal width (cm): 2.19</br></br>sepal length (cm): 6.1</br>sepal width (cm): 2.8</br>petal length (cm): 4.7</br>_original_yhat_: 0.97</br>"
          ],
          [
           "</br>id: 73</br>prediction: 0.33</br>petal width (cm): 2.212</br></br>sepal length (cm): 6.1</br>sepal width (cm): 2.8</br>petal length (cm): 4.7</br>_original_yhat_: 0.97</br>"
          ],
          [
           "</br>id: 73</br>prediction: 0.33</br>petal width (cm): 2.234</br></br>sepal length (cm): 6.1</br>sepal width (cm): 2.8</br>petal length (cm): 4.7</br>_original_yhat_: 0.97</br>"
          ],
          [
           "</br>id: 73</br>prediction: 0.33</br>petal width (cm): 2.256</br></br>sepal length (cm): 6.1</br>sepal width (cm): 2.8</br>petal length (cm): 4.7</br>_original_yhat_: 0.97</br>"
          ],
          [
           "</br>id: 73</br>prediction: 0.33</br>petal width (cm): 2.278</br></br>sepal length (cm): 6.1</br>sepal width (cm): 2.8</br>petal length (cm): 4.7</br>_original_yhat_: 0.97</br>"
          ],
          [
           "</br>id: 73</br>prediction: 0.33</br>petal width (cm): 2.3</br></br>sepal length (cm): 6.1</br>sepal width (cm): 2.8</br>petal length (cm): 4.7</br>_original_yhat_: 0.97</br>"
          ]
         ],
         "hovertemplate": "%{customdata[0]}<extra></extra>",
         "legendgroup": "Random Forest",
         "line": {
          "color": "#46bac2",
          "dash": "solid",
          "width": 2
         },
         "marker": {
          "symbol": "circle"
         },
         "mode": "lines",
         "name": "Random Forest",
         "opacity": 1,
         "orientation": "v",
         "showlegend": false,
         "type": "scatter",
         "x": [
          0.1,
          0.122,
          0.14400000000000002,
          0.166,
          0.188,
          0.21,
          0.232,
          0.254,
          0.276,
          0.298,
          0.31999999999999995,
          0.34199999999999997,
          0.364,
          0.386,
          0.40800000000000003,
          0.42999999999999994,
          0.45199999999999996,
          0.474,
          0.496,
          0.518,
          0.5399999999999999,
          0.5619999999999999,
          0.584,
          0.606,
          0.628,
          0.6499999999999999,
          0.6719999999999999,
          0.694,
          0.716,
          0.738,
          0.7599999999999999,
          0.7819999999999999,
          0.8039999999999999,
          0.826,
          0.848,
          0.8699999999999999,
          0.8919999999999999,
          0.9139999999999999,
          0.9359999999999999,
          0.958,
          0.9799999999999999,
          1.002,
          1.024,
          1.046,
          1.068,
          1.09,
          1.112,
          1.1340000000000001,
          1.1560000000000001,
          1.178,
          1.2,
          1.222,
          1.244,
          1.266,
          1.288,
          1.31,
          1.332,
          1.354,
          1.3760000000000001,
          1.398,
          1.42,
          1.442,
          1.464,
          1.486,
          1.508,
          1.53,
          1.552,
          1.574,
          1.596,
          1.618,
          1.64,
          1.662,
          1.684,
          1.706,
          1.728,
          1.75,
          1.772,
          1.794,
          1.816,
          1.838,
          1.8599999999999999,
          1.882,
          1.904,
          1.926,
          1.948,
          1.97,
          1.992,
          2.014,
          2.036,
          2.058,
          2.08,
          2.102,
          2.124,
          2.146,
          2.168,
          2.19,
          2.212,
          2.234,
          2.256,
          2.278,
          2.3
         ],
         "xaxis": "x2",
         "y": [
          0.5,
          0.5,
          0.5,
          0.5,
          0.5,
          0.5,
          0.5,
          0.5,
          0.5,
          0.5,
          0.5,
          0.5,
          0.5,
          0.5,
          0.5,
          0.5,
          0.5,
          0.5,
          0.5,
          0.5,
          0.5,
          0.5,
          0.5,
          0.6,
          0.6,
          0.6,
          0.6,
          0.6,
          0.64,
          0.64,
          0.75,
          0.75,
          0.97,
          0.97,
          0.97,
          0.97,
          0.97,
          0.97,
          0.97,
          0.97,
          0.97,
          0.97,
          0.97,
          0.97,
          0.97,
          0.97,
          0.97,
          0.97,
          0.97,
          0.97,
          0.97,
          0.97,
          0.97,
          0.97,
          0.97,
          0.97,
          0.97,
          0.95,
          0.95,
          0.95,
          0.95,
          0.95,
          0.93,
          0.93,
          0.93,
          0.93,
          0.83,
          0.83,
          0.83,
          0.72,
          0.72,
          0.62,
          0.62,
          0.57,
          0.57,
          0.57,
          0.34,
          0.34,
          0.34,
          0.34,
          0.33,
          0.33,
          0.33,
          0.33,
          0.33,
          0.33,
          0.33,
          0.33,
          0.33,
          0.33,
          0.33,
          0.33,
          0.33,
          0.33,
          0.33,
          0.33,
          0.33,
          0.33,
          0.33,
          0.33,
          0.33
         ],
         "yaxis": "y2"
        },
        {
         "customdata": [
          [
           "</br>id: 73</br>prediction: 0.97</br>sepal length (cm): 6.1</br></br>sepal width (cm): 2.8</br>petal length (cm): 4.7</br>petal width (cm): 1.2</br>_original_yhat_: 0.97</br>"
          ]
         ],
         "hovertemplate": "%{customdata[0]}<extra></extra>",
         "legendgroup": "",
         "marker": {
          "color": "#371ea3",
          "size": 10,
          "symbol": "circle"
         },
         "mode": "markers",
         "name": "",
         "opacity": 1,
         "orientation": "v",
         "showlegend": false,
         "type": "scatter",
         "x": [
          6.1
         ],
         "xaxis": "x3",
         "y": [
          0.97
         ],
         "yaxis": "y3"
        },
        {
         "customdata": [
          [
           "</br>id: 73</br>prediction: 0.97</br>sepal width (cm): 2.8</br></br>sepal length (cm): 6.1</br>petal length (cm): 4.7</br>petal width (cm): 1.2</br>_original_yhat_: 0.97</br>"
          ]
         ],
         "hovertemplate": "%{customdata[0]}<extra></extra>",
         "legendgroup": "",
         "marker": {
          "color": "#371ea3",
          "size": 10,
          "symbol": "circle"
         },
         "mode": "markers",
         "name": "",
         "opacity": 1,
         "orientation": "v",
         "showlegend": false,
         "type": "scatter",
         "x": [
          2.8
         ],
         "xaxis": "x4",
         "y": [
          0.97
         ],
         "yaxis": "y4"
        },
        {
         "customdata": [
          [
           "</br>id: 73</br>prediction: 0.97</br>petal length (cm): 4.7</br></br>sepal length (cm): 6.1</br>sepal width (cm): 2.8</br>petal width (cm): 1.2</br>_original_yhat_: 0.97</br>"
          ]
         ],
         "hovertemplate": "%{customdata[0]}<extra></extra>",
         "legendgroup": "",
         "marker": {
          "color": "#371ea3",
          "size": 10,
          "symbol": "circle"
         },
         "mode": "markers",
         "name": "",
         "opacity": 1,
         "orientation": "v",
         "showlegend": false,
         "type": "scatter",
         "x": [
          4.7
         ],
         "xaxis": "x",
         "y": [
          0.97
         ],
         "yaxis": "y"
        },
        {
         "customdata": [
          [
           "</br>id: 73</br>prediction: 0.97</br>petal width (cm): 1.2</br></br>sepal length (cm): 6.1</br>sepal width (cm): 2.8</br>petal length (cm): 4.7</br>_original_yhat_: 0.97</br>"
          ]
         ],
         "hovertemplate": "%{customdata[0]}<extra></extra>",
         "legendgroup": "",
         "marker": {
          "color": "#371ea3",
          "size": 10,
          "symbol": "circle"
         },
         "mode": "markers",
         "name": "",
         "opacity": 1,
         "orientation": "v",
         "showlegend": false,
         "type": "scatter",
         "x": [
          1.2
         ],
         "xaxis": "x2",
         "y": [
          0.97
         ],
         "yaxis": "y2"
        }
       ],
       "layout": {
        "annotations": [
         {
          "font": {
           "size": 13
          },
          "showarrow": false,
          "text": "petal length (cm)",
          "x": 0.2375,
          "xanchor": "center",
          "xref": "paper",
          "y": 0.425,
          "yanchor": "bottom",
          "yref": "paper"
         },
         {
          "font": {
           "size": 13
          },
          "showarrow": false,
          "text": "petal width (cm)",
          "x": 0.7625,
          "xanchor": "center",
          "xref": "paper",
          "y": 0.425,
          "yanchor": "bottom",
          "yref": "paper"
         },
         {
          "font": {
           "size": 13
          },
          "showarrow": false,
          "text": "sepal length (cm)",
          "x": 0.2375,
          "xanchor": "center",
          "xref": "paper",
          "y": 1,
          "yanchor": "bottom",
          "yref": "paper"
         },
         {
          "font": {
           "size": 13
          },
          "showarrow": false,
          "text": "sepal width (cm)",
          "x": 0.7625,
          "xanchor": "center",
          "xref": "paper",
          "y": 1,
          "yanchor": "bottom",
          "yref": "paper"
         },
         {
          "font": {
           "size": 13
          },
          "showarrow": false,
          "text": "prediction",
          "textangle": -90,
          "x": -0.07,
          "xref": "paper",
          "y": 0.5,
          "yref": "paper"
         }
        ],
        "font": {
         "color": "#371ea3"
        },
        "height": 829,
        "hoverlabel": {
         "bgcolor": "rgba(0,0,0,0.8)"
        },
        "hovermode": "closest",
        "legend": {
         "font": {
          "size": 11
         },
         "itemsizing": "constant",
         "orientation": "h",
         "title": {
          "font": {
           "size": 12
          },
          "text": "label"
         },
         "tracegroupgap": 0,
         "x": 1,
         "xanchor": "right",
         "y": 1.0361881785283473,
         "yanchor": "bottom"
        },
        "margin": {
         "b": 71,
         "r": 30,
         "t": 78
        },
        "template": {
         "data": {
          "scatter": [
           {
            "type": "scatter"
           }
          ]
         }
        },
        "title": {
         "font": {
          "size": 16
         },
         "text": "Ceteris Paribus Profiles",
         "x": 0.15
        },
        "xaxis": {
         "anchor": "y",
         "automargin": true,
         "domain": [
          0,
          0.475
         ],
         "fixedrange": true,
         "gridwidth": 2,
         "showticklabels": true,
         "tickcolor": "white",
         "ticklen": 3,
         "ticks": "outside",
         "title": {
          "text": ""
         },
         "type": "linear",
         "zeroline": false
        },
        "xaxis2": {
         "anchor": "y2",
         "automargin": true,
         "domain": [
          0.525,
          1
         ],
         "fixedrange": true,
         "gridwidth": 2,
         "showticklabels": true,
         "tickcolor": "white",
         "ticklen": 3,
         "ticks": "outside",
         "title": {
          "text": ""
         },
         "type": "linear",
         "zeroline": false
        },
        "xaxis3": {
         "anchor": "y3",
         "automargin": true,
         "domain": [
          0,
          0.475
         ],
         "fixedrange": true,
         "gridwidth": 2,
         "showticklabels": true,
         "tickcolor": "white",
         "ticklen": 3,
         "ticks": "outside",
         "title": {
          "text": ""
         },
         "type": "linear",
         "zeroline": false
        },
        "xaxis4": {
         "anchor": "y4",
         "automargin": true,
         "domain": [
          0.525,
          1
         ],
         "fixedrange": true,
         "gridwidth": 2,
         "showticklabels": true,
         "tickcolor": "white",
         "ticklen": 3,
         "ticks": "outside",
         "title": {
          "text": ""
         },
         "type": "linear",
         "zeroline": false
        },
        "yaxis": {
         "anchor": "x",
         "automargin": true,
         "domain": [
          0,
          0.425
         ],
         "fixedrange": true,
         "gridwidth": 2,
         "range": [
          0.21899999999999997,
          1.071
         ],
         "tickcolor": "white",
         "ticklen": 3,
         "ticks": "outside",
         "title": {
          "text": ""
         },
         "type": "linear",
         "zeroline": false
        },
        "yaxis2": {
         "anchor": "x2",
         "automargin": true,
         "domain": [
          0,
          0.425
         ],
         "fixedrange": true,
         "gridwidth": 2,
         "matches": "y",
         "range": [
          0.21899999999999997,
          1.071
         ],
         "showticklabels": false,
         "tickcolor": "white",
         "ticklen": 3,
         "ticks": "outside",
         "title": {
          "text": ""
         },
         "type": "linear",
         "zeroline": false
        },
        "yaxis3": {
         "anchor": "x3",
         "automargin": true,
         "domain": [
          0.575,
          1
         ],
         "fixedrange": true,
         "gridwidth": 2,
         "matches": "y",
         "range": [
          0.21899999999999997,
          1.071
         ],
         "tickcolor": "white",
         "ticklen": 3,
         "ticks": "outside",
         "title": {
          "text": ""
         },
         "type": "linear",
         "zeroline": false
        },
        "yaxis4": {
         "anchor": "x4",
         "automargin": true,
         "domain": [
          0.575,
          1
         ],
         "fixedrange": true,
         "gridwidth": 2,
         "matches": "y",
         "range": [
          0.21899999999999997,
          1.071
         ],
         "showticklabels": false,
         "tickcolor": "white",
         "ticklen": 3,
         "ticks": "outside",
         "title": {
          "text": ""
         },
         "type": "linear",
         "zeroline": false
        }
       }
      }
     },
     "metadata": {},
     "output_type": "display_data"
    },
    {
     "name": "stderr",
     "output_type": "stream",
     "text": [
      "Calculating ceteris paribus: 100%|██████████| 4/4 [00:00<00:00, 315.55it/s]\n"
     ]
    },
    {
     "data": {
      "application/vnd.plotly.v1+json": {
       "config": {
        "displaylogo": false,
        "modeBarButtonsToRemove": [
         "sendDataToCloud",
         "lasso2d",
         "autoScale2d",
         "select2d",
         "zoom2d",
         "pan2d",
         "zoomIn2d",
         "zoomOut2d",
         "resetScale2d",
         "toggleSpikelines",
         "hoverCompareCartesian",
         "hoverClosestCartesian"
        ],
        "plotlyServerURL": "https://plot.ly",
        "staticPlot": false,
        "toImageButtonOptions": {
         "height": null,
         "width": null
        }
       },
       "data": [
        {
         "customdata": [
          [
           "</br>id: 73</br>prediction: 0.634</br>sepal length (cm): 4.4</br></br>sepal width (cm): 2.8</br>petal length (cm): 4.7</br>petal width (cm): 1.2</br>_original_yhat_: 0.8123438363032037</br>"
          ],
          [
           "</br>id: 73</br>prediction: 0.639</br>sepal length (cm): 4.4350000000000005</br></br>sepal width (cm): 2.8</br>petal length (cm): 4.7</br>petal width (cm): 1.2</br>_original_yhat_: 0.8123438363032037</br>"
          ],
          [
           "</br>id: 73</br>prediction: 0.643</br>sepal length (cm): 4.470000000000001</br></br>sepal width (cm): 2.8</br>petal length (cm): 4.7</br>petal width (cm): 1.2</br>_original_yhat_: 0.8123438363032037</br>"
          ],
          [
           "</br>id: 73</br>prediction: 0.648</br>sepal length (cm): 4.505000000000001</br></br>sepal width (cm): 2.8</br>petal length (cm): 4.7</br>petal width (cm): 1.2</br>_original_yhat_: 0.8123438363032037</br>"
          ],
          [
           "</br>id: 73</br>prediction: 0.652</br>sepal length (cm): 4.54</br></br>sepal width (cm): 2.8</br>petal length (cm): 4.7</br>petal width (cm): 1.2</br>_original_yhat_: 0.8123438363032037</br>"
          ],
          [
           "</br>id: 73</br>prediction: 0.656</br>sepal length (cm): 4.575</br></br>sepal width (cm): 2.8</br>petal length (cm): 4.7</br>petal width (cm): 1.2</br>_original_yhat_: 0.8123438363032037</br>"
          ],
          [
           "</br>id: 73</br>prediction: 0.66</br>sepal length (cm): 4.61</br></br>sepal width (cm): 2.8</br>petal length (cm): 4.7</br>petal width (cm): 1.2</br>_original_yhat_: 0.8123438363032037</br>"
          ],
          [
           "</br>id: 73</br>prediction: 0.665</br>sepal length (cm): 4.6450000000000005</br></br>sepal width (cm): 2.8</br>petal length (cm): 4.7</br>petal width (cm): 1.2</br>_original_yhat_: 0.8123438363032037</br>"
          ],
          [
           "</br>id: 73</br>prediction: 0.669</br>sepal length (cm): 4.680000000000001</br></br>sepal width (cm): 2.8</br>petal length (cm): 4.7</br>petal width (cm): 1.2</br>_original_yhat_: 0.8123438363032037</br>"
          ],
          [
           "</br>id: 73</br>prediction: 0.673</br>sepal length (cm): 4.715000000000001</br></br>sepal width (cm): 2.8</br>petal length (cm): 4.7</br>petal width (cm): 1.2</br>_original_yhat_: 0.8123438363032037</br>"
          ],
          [
           "</br>id: 73</br>prediction: 0.677</br>sepal length (cm): 4.75</br></br>sepal width (cm): 2.8</br>petal length (cm): 4.7</br>petal width (cm): 1.2</br>_original_yhat_: 0.8123438363032037</br>"
          ],
          [
           "</br>id: 73</br>prediction: 0.681</br>sepal length (cm): 4.785</br></br>sepal width (cm): 2.8</br>petal length (cm): 4.7</br>petal width (cm): 1.2</br>_original_yhat_: 0.8123438363032037</br>"
          ],
          [
           "</br>id: 73</br>prediction: 0.685</br>sepal length (cm): 4.82</br></br>sepal width (cm): 2.8</br>petal length (cm): 4.7</br>petal width (cm): 1.2</br>_original_yhat_: 0.8123438363032037</br>"
          ],
          [
           "</br>id: 73</br>prediction: 0.689</br>sepal length (cm): 4.855</br></br>sepal width (cm): 2.8</br>petal length (cm): 4.7</br>petal width (cm): 1.2</br>_original_yhat_: 0.8123438363032037</br>"
          ],
          [
           "</br>id: 73</br>prediction: 0.693</br>sepal length (cm): 4.890000000000001</br></br>sepal width (cm): 2.8</br>petal length (cm): 4.7</br>petal width (cm): 1.2</br>_original_yhat_: 0.8123438363032037</br>"
          ],
          [
           "</br>id: 73</br>prediction: 0.697</br>sepal length (cm): 4.925000000000001</br></br>sepal width (cm): 2.8</br>petal length (cm): 4.7</br>petal width (cm): 1.2</br>_original_yhat_: 0.8123438363032037</br>"
          ],
          [
           "</br>id: 73</br>prediction: 0.701</br>sepal length (cm): 4.960000000000001</br></br>sepal width (cm): 2.8</br>petal length (cm): 4.7</br>petal width (cm): 1.2</br>_original_yhat_: 0.8123438363032037</br>"
          ],
          [
           "</br>id: 73</br>prediction: 0.705</br>sepal length (cm): 4.995</br></br>sepal width (cm): 2.8</br>petal length (cm): 4.7</br>petal width (cm): 1.2</br>_original_yhat_: 0.8123438363032037</br>"
          ],
          [
           "</br>id: 73</br>prediction: 0.709</br>sepal length (cm): 5.03</br></br>sepal width (cm): 2.8</br>petal length (cm): 4.7</br>petal width (cm): 1.2</br>_original_yhat_: 0.8123438363032037</br>"
          ],
          [
           "</br>id: 73</br>prediction: 0.713</br>sepal length (cm): 5.065</br></br>sepal width (cm): 2.8</br>petal length (cm): 4.7</br>petal width (cm): 1.2</br>_original_yhat_: 0.8123438363032037</br>"
          ],
          [
           "</br>id: 73</br>prediction: 0.717</br>sepal length (cm): 5.1000000000000005</br></br>sepal width (cm): 2.8</br>petal length (cm): 4.7</br>petal width (cm): 1.2</br>_original_yhat_: 0.8123438363032037</br>"
          ],
          [
           "</br>id: 73</br>prediction: 0.721</br>sepal length (cm): 5.135000000000001</br></br>sepal width (cm): 2.8</br>petal length (cm): 4.7</br>petal width (cm): 1.2</br>_original_yhat_: 0.8123438363032037</br>"
          ],
          [
           "</br>id: 73</br>prediction: 0.724</br>sepal length (cm): 5.17</br></br>sepal width (cm): 2.8</br>petal length (cm): 4.7</br>petal width (cm): 1.2</br>_original_yhat_: 0.8123438363032037</br>"
          ],
          [
           "</br>id: 73</br>prediction: 0.728</br>sepal length (cm): 5.205</br></br>sepal width (cm): 2.8</br>petal length (cm): 4.7</br>petal width (cm): 1.2</br>_original_yhat_: 0.8123438363032037</br>"
          ],
          [
           "</br>id: 73</br>prediction: 0.732</br>sepal length (cm): 5.24</br></br>sepal width (cm): 2.8</br>petal length (cm): 4.7</br>petal width (cm): 1.2</br>_original_yhat_: 0.8123438363032037</br>"
          ],
          [
           "</br>id: 73</br>prediction: 0.736</br>sepal length (cm): 5.275</br></br>sepal width (cm): 2.8</br>petal length (cm): 4.7</br>petal width (cm): 1.2</br>_original_yhat_: 0.8123438363032037</br>"
          ],
          [
           "</br>id: 73</br>prediction: 0.739</br>sepal length (cm): 5.3100000000000005</br></br>sepal width (cm): 2.8</br>petal length (cm): 4.7</br>petal width (cm): 1.2</br>_original_yhat_: 0.8123438363032037</br>"
          ],
          [
           "</br>id: 73</br>prediction: 0.743</br>sepal length (cm): 5.345000000000001</br></br>sepal width (cm): 2.8</br>petal length (cm): 4.7</br>petal width (cm): 1.2</br>_original_yhat_: 0.8123438363032037</br>"
          ],
          [
           "</br>id: 73</br>prediction: 0.746</br>sepal length (cm): 5.380000000000001</br></br>sepal width (cm): 2.8</br>petal length (cm): 4.7</br>petal width (cm): 1.2</br>_original_yhat_: 0.8123438363032037</br>"
          ],
          [
           "</br>id: 73</br>prediction: 0.75</br>sepal length (cm): 5.415000000000001</br></br>sepal width (cm): 2.8</br>petal length (cm): 4.7</br>petal width (cm): 1.2</br>_original_yhat_: 0.8123438363032037</br>"
          ],
          [
           "</br>id: 73</br>prediction: 0.753</br>sepal length (cm): 5.45</br></br>sepal width (cm): 2.8</br>petal length (cm): 4.7</br>petal width (cm): 1.2</br>_original_yhat_: 0.8123438363032037</br>"
          ],
          [
           "</br>id: 73</br>prediction: 0.757</br>sepal length (cm): 5.485</br></br>sepal width (cm): 2.8</br>petal length (cm): 4.7</br>petal width (cm): 1.2</br>_original_yhat_: 0.8123438363032037</br>"
          ],
          [
           "</br>id: 73</br>prediction: 0.76</br>sepal length (cm): 5.5200000000000005</br></br>sepal width (cm): 2.8</br>petal length (cm): 4.7</br>petal width (cm): 1.2</br>_original_yhat_: 0.8123438363032037</br>"
          ],
          [
           "</br>id: 73</br>prediction: 0.764</br>sepal length (cm): 5.555000000000001</br></br>sepal width (cm): 2.8</br>petal length (cm): 4.7</br>petal width (cm): 1.2</br>_original_yhat_: 0.8123438363032037</br>"
          ],
          [
           "</br>id: 73</br>prediction: 0.767</br>sepal length (cm): 5.590000000000001</br></br>sepal width (cm): 2.8</br>petal length (cm): 4.7</br>petal width (cm): 1.2</br>_original_yhat_: 0.8123438363032037</br>"
          ],
          [
           "</br>id: 73</br>prediction: 0.77</br>sepal length (cm): 5.625</br></br>sepal width (cm): 2.8</br>petal length (cm): 4.7</br>petal width (cm): 1.2</br>_original_yhat_: 0.8123438363032037</br>"
          ],
          [
           "</br>id: 73</br>prediction: 0.774</br>sepal length (cm): 5.66</br></br>sepal width (cm): 2.8</br>petal length (cm): 4.7</br>petal width (cm): 1.2</br>_original_yhat_: 0.8123438363032037</br>"
          ],
          [
           "</br>id: 73</br>prediction: 0.777</br>sepal length (cm): 5.695</br></br>sepal width (cm): 2.8</br>petal length (cm): 4.7</br>petal width (cm): 1.2</br>_original_yhat_: 0.8123438363032037</br>"
          ],
          [
           "</br>id: 73</br>prediction: 0.78</br>sepal length (cm): 5.73</br></br>sepal width (cm): 2.8</br>petal length (cm): 4.7</br>petal width (cm): 1.2</br>_original_yhat_: 0.8123438363032037</br>"
          ],
          [
           "</br>id: 73</br>prediction: 0.783</br>sepal length (cm): 5.765000000000001</br></br>sepal width (cm): 2.8</br>petal length (cm): 4.7</br>petal width (cm): 1.2</br>_original_yhat_: 0.8123438363032037</br>"
          ],
          [
           "</br>id: 73</br>prediction: 0.787</br>sepal length (cm): 5.800000000000001</br></br>sepal width (cm): 2.8</br>petal length (cm): 4.7</br>petal width (cm): 1.2</br>_original_yhat_: 0.8123438363032037</br>"
          ],
          [
           "</br>id: 73</br>prediction: 0.79</br>sepal length (cm): 5.835000000000001</br></br>sepal width (cm): 2.8</br>petal length (cm): 4.7</br>petal width (cm): 1.2</br>_original_yhat_: 0.8123438363032037</br>"
          ],
          [
           "</br>id: 73</br>prediction: 0.793</br>sepal length (cm): 5.870000000000001</br></br>sepal width (cm): 2.8</br>petal length (cm): 4.7</br>petal width (cm): 1.2</br>_original_yhat_: 0.8123438363032037</br>"
          ],
          [
           "</br>id: 73</br>prediction: 0.796</br>sepal length (cm): 5.905</br></br>sepal width (cm): 2.8</br>petal length (cm): 4.7</br>petal width (cm): 1.2</br>_original_yhat_: 0.8123438363032037</br>"
          ],
          [
           "</br>id: 73</br>prediction: 0.799</br>sepal length (cm): 5.94</br></br>sepal width (cm): 2.8</br>petal length (cm): 4.7</br>petal width (cm): 1.2</br>_original_yhat_: 0.8123438363032037</br>"
          ],
          [
           "</br>id: 73</br>prediction: 0.802</br>sepal length (cm): 5.9750000000000005</br></br>sepal width (cm): 2.8</br>petal length (cm): 4.7</br>petal width (cm): 1.2</br>_original_yhat_: 0.8123438363032037</br>"
          ],
          [
           "</br>id: 73</br>prediction: 0.805</br>sepal length (cm): 6.010000000000001</br></br>sepal width (cm): 2.8</br>petal length (cm): 4.7</br>petal width (cm): 1.2</br>_original_yhat_: 0.8123438363032037</br>"
          ],
          [
           "</br>id: 73</br>prediction: 0.808</br>sepal length (cm): 6.045000000000001</br></br>sepal width (cm): 2.8</br>petal length (cm): 4.7</br>petal width (cm): 1.2</br>_original_yhat_: 0.8123438363032037</br>"
          ],
          [
           "</br>id: 73</br>prediction: 0.811</br>sepal length (cm): 6.08</br></br>sepal width (cm): 2.8</br>petal length (cm): 4.7</br>petal width (cm): 1.2</br>_original_yhat_: 0.8123438363032037</br>"
          ],
          [
           "</br>id: 73</br>prediction: 0.812</br>sepal length (cm): 6.1</br></br>sepal width (cm): 2.8</br>petal length (cm): 4.7</br>petal width (cm): 1.2</br>_original_yhat_: 0.8123438363032037</br>"
          ],
          [
           "</br>id: 73</br>prediction: 0.814</br>sepal length (cm): 6.115</br></br>sepal width (cm): 2.8</br>petal length (cm): 4.7</br>petal width (cm): 1.2</br>_original_yhat_: 0.8123438363032037</br>"
          ],
          [
           "</br>id: 73</br>prediction: 0.816</br>sepal length (cm): 6.15</br></br>sepal width (cm): 2.8</br>petal length (cm): 4.7</br>petal width (cm): 1.2</br>_original_yhat_: 0.8123438363032037</br>"
          ],
          [
           "</br>id: 73</br>prediction: 0.819</br>sepal length (cm): 6.1850000000000005</br></br>sepal width (cm): 2.8</br>petal length (cm): 4.7</br>petal width (cm): 1.2</br>_original_yhat_: 0.8123438363032037</br>"
          ],
          [
           "</br>id: 73</br>prediction: 0.822</br>sepal length (cm): 6.220000000000001</br></br>sepal width (cm): 2.8</br>petal length (cm): 4.7</br>petal width (cm): 1.2</br>_original_yhat_: 0.8123438363032037</br>"
          ],
          [
           "</br>id: 73</br>prediction: 0.825</br>sepal length (cm): 6.255000000000001</br></br>sepal width (cm): 2.8</br>petal length (cm): 4.7</br>petal width (cm): 1.2</br>_original_yhat_: 0.8123438363032037</br>"
          ],
          [
           "</br>id: 73</br>prediction: 0.827</br>sepal length (cm): 6.290000000000001</br></br>sepal width (cm): 2.8</br>petal length (cm): 4.7</br>petal width (cm): 1.2</br>_original_yhat_: 0.8123438363032037</br>"
          ],
          [
           "</br>id: 73</br>prediction: 0.83</br>sepal length (cm): 6.325000000000001</br></br>sepal width (cm): 2.8</br>petal length (cm): 4.7</br>petal width (cm): 1.2</br>_original_yhat_: 0.8123438363032037</br>"
          ],
          [
           "</br>id: 73</br>prediction: 0.833</br>sepal length (cm): 6.36</br></br>sepal width (cm): 2.8</br>petal length (cm): 4.7</br>petal width (cm): 1.2</br>_original_yhat_: 0.8123438363032037</br>"
          ],
          [
           "</br>id: 73</br>prediction: 0.835</br>sepal length (cm): 6.3950000000000005</br></br>sepal width (cm): 2.8</br>petal length (cm): 4.7</br>petal width (cm): 1.2</br>_original_yhat_: 0.8123438363032037</br>"
          ],
          [
           "</br>id: 73</br>prediction: 0.838</br>sepal length (cm): 6.430000000000001</br></br>sepal width (cm): 2.8</br>petal length (cm): 4.7</br>petal width (cm): 1.2</br>_original_yhat_: 0.8123438363032037</br>"
          ],
          [
           "</br>id: 73</br>prediction: 0.84</br>sepal length (cm): 6.465000000000001</br></br>sepal width (cm): 2.8</br>petal length (cm): 4.7</br>petal width (cm): 1.2</br>_original_yhat_: 0.8123438363032037</br>"
          ],
          [
           "</br>id: 73</br>prediction: 0.843</br>sepal length (cm): 6.5</br></br>sepal width (cm): 2.8</br>petal length (cm): 4.7</br>petal width (cm): 1.2</br>_original_yhat_: 0.8123438363032037</br>"
          ],
          [
           "</br>id: 73</br>prediction: 0.845</br>sepal length (cm): 6.535</br></br>sepal width (cm): 2.8</br>petal length (cm): 4.7</br>petal width (cm): 1.2</br>_original_yhat_: 0.8123438363032037</br>"
          ],
          [
           "</br>id: 73</br>prediction: 0.848</br>sepal length (cm): 6.57</br></br>sepal width (cm): 2.8</br>petal length (cm): 4.7</br>petal width (cm): 1.2</br>_original_yhat_: 0.8123438363032037</br>"
          ],
          [
           "</br>id: 73</br>prediction: 0.85</br>sepal length (cm): 6.605</br></br>sepal width (cm): 2.8</br>petal length (cm): 4.7</br>petal width (cm): 1.2</br>_original_yhat_: 0.8123438363032037</br>"
          ],
          [
           "</br>id: 73</br>prediction: 0.852</br>sepal length (cm): 6.640000000000001</br></br>sepal width (cm): 2.8</br>petal length (cm): 4.7</br>petal width (cm): 1.2</br>_original_yhat_: 0.8123438363032037</br>"
          ],
          [
           "</br>id: 73</br>prediction: 0.855</br>sepal length (cm): 6.675000000000001</br></br>sepal width (cm): 2.8</br>petal length (cm): 4.7</br>petal width (cm): 1.2</br>_original_yhat_: 0.8123438363032037</br>"
          ],
          [
           "</br>id: 73</br>prediction: 0.857</br>sepal length (cm): 6.710000000000001</br></br>sepal width (cm): 2.8</br>petal length (cm): 4.7</br>petal width (cm): 1.2</br>_original_yhat_: 0.8123438363032037</br>"
          ],
          [
           "</br>id: 73</br>prediction: 0.859</br>sepal length (cm): 6.745000000000001</br></br>sepal width (cm): 2.8</br>petal length (cm): 4.7</br>petal width (cm): 1.2</br>_original_yhat_: 0.8123438363032037</br>"
          ],
          [
           "</br>id: 73</br>prediction: 0.862</br>sepal length (cm): 6.780000000000001</br></br>sepal width (cm): 2.8</br>petal length (cm): 4.7</br>petal width (cm): 1.2</br>_original_yhat_: 0.8123438363032037</br>"
          ],
          [
           "</br>id: 73</br>prediction: 0.864</br>sepal length (cm): 6.815</br></br>sepal width (cm): 2.8</br>petal length (cm): 4.7</br>petal width (cm): 1.2</br>_original_yhat_: 0.8123438363032037</br>"
          ],
          [
           "</br>id: 73</br>prediction: 0.866</br>sepal length (cm): 6.8500000000000005</br></br>sepal width (cm): 2.8</br>petal length (cm): 4.7</br>petal width (cm): 1.2</br>_original_yhat_: 0.8123438363032037</br>"
          ],
          [
           "</br>id: 73</br>prediction: 0.868</br>sepal length (cm): 6.885000000000001</br></br>sepal width (cm): 2.8</br>petal length (cm): 4.7</br>petal width (cm): 1.2</br>_original_yhat_: 0.8123438363032037</br>"
          ],
          [
           "</br>id: 73</br>prediction: 0.87</br>sepal length (cm): 6.920000000000001</br></br>sepal width (cm): 2.8</br>petal length (cm): 4.7</br>petal width (cm): 1.2</br>_original_yhat_: 0.8123438363032037</br>"
          ],
          [
           "</br>id: 73</br>prediction: 0.872</br>sepal length (cm): 6.955</br></br>sepal width (cm): 2.8</br>petal length (cm): 4.7</br>petal width (cm): 1.2</br>_original_yhat_: 0.8123438363032037</br>"
          ],
          [
           "</br>id: 73</br>prediction: 0.874</br>sepal length (cm): 6.99</br></br>sepal width (cm): 2.8</br>petal length (cm): 4.7</br>petal width (cm): 1.2</br>_original_yhat_: 0.8123438363032037</br>"
          ],
          [
           "</br>id: 73</br>prediction: 0.876</br>sepal length (cm): 7.025</br></br>sepal width (cm): 2.8</br>petal length (cm): 4.7</br>petal width (cm): 1.2</br>_original_yhat_: 0.8123438363032037</br>"
          ],
          [
           "</br>id: 73</br>prediction: 0.878</br>sepal length (cm): 7.0600000000000005</br></br>sepal width (cm): 2.8</br>petal length (cm): 4.7</br>petal width (cm): 1.2</br>_original_yhat_: 0.8123438363032037</br>"
          ],
          [
           "</br>id: 73</br>prediction: 0.88</br>sepal length (cm): 7.095000000000001</br></br>sepal width (cm): 2.8</br>petal length (cm): 4.7</br>petal width (cm): 1.2</br>_original_yhat_: 0.8123438363032037</br>"
          ],
          [
           "</br>id: 73</br>prediction: 0.882</br>sepal length (cm): 7.130000000000001</br></br>sepal width (cm): 2.8</br>petal length (cm): 4.7</br>petal width (cm): 1.2</br>_original_yhat_: 0.8123438363032037</br>"
          ],
          [
           "</br>id: 73</br>prediction: 0.884</br>sepal length (cm): 7.165000000000001</br></br>sepal width (cm): 2.8</br>petal length (cm): 4.7</br>petal width (cm): 1.2</br>_original_yhat_: 0.8123438363032037</br>"
          ],
          [
           "</br>id: 73</br>prediction: 0.886</br>sepal length (cm): 7.200000000000001</br></br>sepal width (cm): 2.8</br>petal length (cm): 4.7</br>petal width (cm): 1.2</br>_original_yhat_: 0.8123438363032037</br>"
          ],
          [
           "</br>id: 73</br>prediction: 0.888</br>sepal length (cm): 7.235000000000001</br></br>sepal width (cm): 2.8</br>petal length (cm): 4.7</br>petal width (cm): 1.2</br>_original_yhat_: 0.8123438363032037</br>"
          ],
          [
           "</br>id: 73</br>prediction: 0.89</br>sepal length (cm): 7.2700000000000005</br></br>sepal width (cm): 2.8</br>petal length (cm): 4.7</br>petal width (cm): 1.2</br>_original_yhat_: 0.8123438363032037</br>"
          ],
          [
           "</br>id: 73</br>prediction: 0.892</br>sepal length (cm): 7.305000000000001</br></br>sepal width (cm): 2.8</br>petal length (cm): 4.7</br>petal width (cm): 1.2</br>_original_yhat_: 0.8123438363032037</br>"
          ],
          [
           "</br>id: 73</br>prediction: 0.893</br>sepal length (cm): 7.340000000000001</br></br>sepal width (cm): 2.8</br>petal length (cm): 4.7</br>petal width (cm): 1.2</br>_original_yhat_: 0.8123438363032037</br>"
          ],
          [
           "</br>id: 73</br>prediction: 0.895</br>sepal length (cm): 7.375</br></br>sepal width (cm): 2.8</br>petal length (cm): 4.7</br>petal width (cm): 1.2</br>_original_yhat_: 0.8123438363032037</br>"
          ],
          [
           "</br>id: 73</br>prediction: 0.897</br>sepal length (cm): 7.41</br></br>sepal width (cm): 2.8</br>petal length (cm): 4.7</br>petal width (cm): 1.2</br>_original_yhat_: 0.8123438363032037</br>"
          ],
          [
           "</br>id: 73</br>prediction: 0.899</br>sepal length (cm): 7.445</br></br>sepal width (cm): 2.8</br>petal length (cm): 4.7</br>petal width (cm): 1.2</br>_original_yhat_: 0.8123438363032037</br>"
          ],
          [
           "</br>id: 73</br>prediction: 0.9</br>sepal length (cm): 7.48</br></br>sepal width (cm): 2.8</br>petal length (cm): 4.7</br>petal width (cm): 1.2</br>_original_yhat_: 0.8123438363032037</br>"
          ],
          [
           "</br>id: 73</br>prediction: 0.902</br>sepal length (cm): 7.515000000000001</br></br>sepal width (cm): 2.8</br>petal length (cm): 4.7</br>petal width (cm): 1.2</br>_original_yhat_: 0.8123438363032037</br>"
          ],
          [
           "</br>id: 73</br>prediction: 0.904</br>sepal length (cm): 7.550000000000001</br></br>sepal width (cm): 2.8</br>petal length (cm): 4.7</br>petal width (cm): 1.2</br>_original_yhat_: 0.8123438363032037</br>"
          ],
          [
           "</br>id: 73</br>prediction: 0.905</br>sepal length (cm): 7.585000000000001</br></br>sepal width (cm): 2.8</br>petal length (cm): 4.7</br>petal width (cm): 1.2</br>_original_yhat_: 0.8123438363032037</br>"
          ],
          [
           "</br>id: 73</br>prediction: 0.907</br>sepal length (cm): 7.620000000000001</br></br>sepal width (cm): 2.8</br>petal length (cm): 4.7</br>petal width (cm): 1.2</br>_original_yhat_: 0.8123438363032037</br>"
          ],
          [
           "</br>id: 73</br>prediction: 0.908</br>sepal length (cm): 7.655000000000001</br></br>sepal width (cm): 2.8</br>petal length (cm): 4.7</br>petal width (cm): 1.2</br>_original_yhat_: 0.8123438363032037</br>"
          ],
          [
           "</br>id: 73</br>prediction: 0.91</br>sepal length (cm): 7.690000000000001</br></br>sepal width (cm): 2.8</br>petal length (cm): 4.7</br>petal width (cm): 1.2</br>_original_yhat_: 0.8123438363032037</br>"
          ],
          [
           "</br>id: 73</br>prediction: 0.911</br>sepal length (cm): 7.7250000000000005</br></br>sepal width (cm): 2.8</br>petal length (cm): 4.7</br>petal width (cm): 1.2</br>_original_yhat_: 0.8123438363032037</br>"
          ],
          [
           "</br>id: 73</br>prediction: 0.913</br>sepal length (cm): 7.760000000000001</br></br>sepal width (cm): 2.8</br>petal length (cm): 4.7</br>petal width (cm): 1.2</br>_original_yhat_: 0.8123438363032037</br>"
          ],
          [
           "</br>id: 73</br>prediction: 0.914</br>sepal length (cm): 7.795000000000001</br></br>sepal width (cm): 2.8</br>petal length (cm): 4.7</br>petal width (cm): 1.2</br>_original_yhat_: 0.8123438363032037</br>"
          ],
          [
           "</br>id: 73</br>prediction: 0.916</br>sepal length (cm): 7.83</br></br>sepal width (cm): 2.8</br>petal length (cm): 4.7</br>petal width (cm): 1.2</br>_original_yhat_: 0.8123438363032037</br>"
          ],
          [
           "</br>id: 73</br>prediction: 0.917</br>sepal length (cm): 7.865</br></br>sepal width (cm): 2.8</br>petal length (cm): 4.7</br>petal width (cm): 1.2</br>_original_yhat_: 0.8123438363032037</br>"
          ],
          [
           "</br>id: 73</br>prediction: 0.919</br>sepal length (cm): 7.9</br></br>sepal width (cm): 2.8</br>petal length (cm): 4.7</br>petal width (cm): 1.2</br>_original_yhat_: 0.8123438363032037</br>"
          ]
         ],
         "hovertemplate": "%{customdata[0]}<extra></extra>",
         "legendgroup": "Logistic Regression",
         "line": {
          "color": "#46bac2",
          "dash": "solid",
          "width": 2
         },
         "marker": {
          "symbol": "circle"
         },
         "mode": "lines",
         "name": "Logistic Regression",
         "opacity": 1,
         "orientation": "v",
         "showlegend": true,
         "type": "scatter",
         "x": [
          4.4,
          4.4350000000000005,
          4.470000000000001,
          4.505000000000001,
          4.54,
          4.575,
          4.61,
          4.6450000000000005,
          4.680000000000001,
          4.715000000000001,
          4.75,
          4.785,
          4.82,
          4.855,
          4.890000000000001,
          4.925000000000001,
          4.960000000000001,
          4.995,
          5.03,
          5.065,
          5.1000000000000005,
          5.135000000000001,
          5.17,
          5.205,
          5.24,
          5.275,
          5.3100000000000005,
          5.345000000000001,
          5.380000000000001,
          5.415000000000001,
          5.45,
          5.485,
          5.5200000000000005,
          5.555000000000001,
          5.590000000000001,
          5.625,
          5.66,
          5.695,
          5.73,
          5.765000000000001,
          5.800000000000001,
          5.835000000000001,
          5.870000000000001,
          5.905,
          5.94,
          5.9750000000000005,
          6.010000000000001,
          6.045000000000001,
          6.08,
          6.1,
          6.115,
          6.15,
          6.1850000000000005,
          6.220000000000001,
          6.255000000000001,
          6.290000000000001,
          6.325000000000001,
          6.36,
          6.3950000000000005,
          6.430000000000001,
          6.465000000000001,
          6.5,
          6.535,
          6.57,
          6.605,
          6.640000000000001,
          6.675000000000001,
          6.710000000000001,
          6.745000000000001,
          6.780000000000001,
          6.815,
          6.8500000000000005,
          6.885000000000001,
          6.920000000000001,
          6.955,
          6.99,
          7.025,
          7.0600000000000005,
          7.095000000000001,
          7.130000000000001,
          7.165000000000001,
          7.200000000000001,
          7.235000000000001,
          7.2700000000000005,
          7.305000000000001,
          7.340000000000001,
          7.375,
          7.41,
          7.445,
          7.48,
          7.515000000000001,
          7.550000000000001,
          7.585000000000001,
          7.620000000000001,
          7.655000000000001,
          7.690000000000001,
          7.7250000000000005,
          7.760000000000001,
          7.795000000000001,
          7.83,
          7.865,
          7.9
         ],
         "xaxis": "x3",
         "y": [
          0.6344562836497489,
          0.6388337652759045,
          0.6431870845709694,
          0.6475156815076527,
          0.6518190113561697,
          0.6560965448620922,
          0.6603477684058573,
          0.6645721841440211,
          0.6687693101323898,
          0.6729386804311868,
          0.6770798451924364,
          0.6811923707297934,
          0.6852758395710571,
          0.689329850493642,
          0.693354018543308,
          0.6973479750364691,
          0.7013113675464208,
          0.7052438598738614,
          0.7091451320020855,
          0.713014880037251,
          0.7168528161341499,
          0.720658668407908,
          0.7244321808320698,
          0.7281731131235265,
          0.7318812406147637,
          0.7355563541139063,
          0.7391982597530574,
          0.7428067788254237,
          0.7463817476117294,
          0.7499230171964301,
          0.7534304532742346,
          0.7569039359474413,
          0.7603433595146061,
          0.763748632251053,
          0.7671196761817303,
          0.7704564268469237,
          0.7737588330613299,
          0.7770268566669776,
          0.7802604722805034,
          0.7834596670352497,
          0.786624440318676,
          0.7897548035055458,
          0.7928507796873482,
          0.7959124033984084,
          0.7989397203391285,
          0.8019327870967797,
          0.8048916708642778,
          0.8078164491573372,
          0.8107072095304048,
          0.8123438363032037,
          0.8135640492917553,
          0.8163870752181193,
          0.8191764032691954,
          0.8219321583024011,
          0.8246544737881844,
          0.8273434915262182,
          0.8299993613627813,
          0.8326222409096171,
          0.8352122952645463,
          0.8377696967340996,
          0.8402946245584214,
          0.8427872646386774,
          0.845247809267198,
          0.8476764568605639,
          0.8500734116958318,
          0.8524388836500905,
          0.8547730879435166,
          0.8570762448860929,
          0.8593485796281408,
          0.8615903219148004,
          0.8638017058445867,
          0.8659829696321388,
          0.8681343553752617,
          0.8702561088263606,
          0.8723484791683468,
          0.8744117187950889,
          0.8764460830964785,
          0.8784518302481592,
          0.8804292210059691,
          0.882378518505132,
          0.8842999880642329,
          0.886193896993987,
          0.8880605144108304,
          0.8899001110553318,
          0.8917129591154246,
          0.8934993320544583,
          0.8952595044440516,
          0.8969937518017321,
          0.898702350433338,
          0.900385577280152,
          0.9020437097707333,
          0.9036770256774117,
          0.9052858029773975,
          0.9068703197184623,
          0.9084308538891408,
          0.9099676832933962,
          0.9114810854296956,
          0.9129713373744346,
          0.9144387156696441,
          0.9158834962149193,
          0.9173059541635007,
          0.9187063638224355
         ],
         "yaxis": "y3"
        },
        {
         "customdata": [
          [
           "</br>id: 73</br>prediction: 0.803</br>sepal width (cm): 2.2</br></br>sepal length (cm): 6.1</br>petal length (cm): 4.7</br>petal width (cm): 1.2</br>_original_yhat_: 0.8123438363032037</br>"
          ],
          [
           "</br>id: 73</br>prediction: 0.804</br>sepal width (cm): 2.222</br></br>sepal length (cm): 6.1</br>petal length (cm): 4.7</br>petal width (cm): 1.2</br>_original_yhat_: 0.8123438363032037</br>"
          ],
          [
           "</br>id: 73</br>prediction: 0.804</br>sepal width (cm): 2.244</br></br>sepal length (cm): 6.1</br>petal length (cm): 4.7</br>petal width (cm): 1.2</br>_original_yhat_: 0.8123438363032037</br>"
          ],
          [
           "</br>id: 73</br>prediction: 0.804</br>sepal width (cm): 2.266</br></br>sepal length (cm): 6.1</br>petal length (cm): 4.7</br>petal width (cm): 1.2</br>_original_yhat_: 0.8123438363032037</br>"
          ],
          [
           "</br>id: 73</br>prediction: 0.805</br>sepal width (cm): 2.2880000000000003</br></br>sepal length (cm): 6.1</br>petal length (cm): 4.7</br>petal width (cm): 1.2</br>_original_yhat_: 0.8123438363032037</br>"
          ],
          [
           "</br>id: 73</br>prediction: 0.805</br>sepal width (cm): 2.31</br></br>sepal length (cm): 6.1</br>petal length (cm): 4.7</br>petal width (cm): 1.2</br>_original_yhat_: 0.8123438363032037</br>"
          ],
          [
           "</br>id: 73</br>prediction: 0.805</br>sepal width (cm): 2.3320000000000003</br></br>sepal length (cm): 6.1</br>petal length (cm): 4.7</br>petal width (cm): 1.2</br>_original_yhat_: 0.8123438363032037</br>"
          ],
          [
           "</br>id: 73</br>prediction: 0.806</br>sepal width (cm): 2.354</br></br>sepal length (cm): 6.1</br>petal length (cm): 4.7</br>petal width (cm): 1.2</br>_original_yhat_: 0.8123438363032037</br>"
          ],
          [
           "</br>id: 73</br>prediction: 0.806</br>sepal width (cm): 2.3760000000000003</br></br>sepal length (cm): 6.1</br>petal length (cm): 4.7</br>petal width (cm): 1.2</br>_original_yhat_: 0.8123438363032037</br>"
          ],
          [
           "</br>id: 73</br>prediction: 0.806</br>sepal width (cm): 2.398</br></br>sepal length (cm): 6.1</br>petal length (cm): 4.7</br>petal width (cm): 1.2</br>_original_yhat_: 0.8123438363032037</br>"
          ],
          [
           "</br>id: 73</br>prediction: 0.807</br>sepal width (cm): 2.4200000000000004</br></br>sepal length (cm): 6.1</br>petal length (cm): 4.7</br>petal width (cm): 1.2</br>_original_yhat_: 0.8123438363032037</br>"
          ],
          [
           "</br>id: 73</br>prediction: 0.807</br>sepal width (cm): 2.442</br></br>sepal length (cm): 6.1</br>petal length (cm): 4.7</br>petal width (cm): 1.2</br>_original_yhat_: 0.8123438363032037</br>"
          ],
          [
           "</br>id: 73</br>prediction: 0.807</br>sepal width (cm): 2.4640000000000004</br></br>sepal length (cm): 6.1</br>petal length (cm): 4.7</br>petal width (cm): 1.2</br>_original_yhat_: 0.8123438363032037</br>"
          ],
          [
           "</br>id: 73</br>prediction: 0.808</br>sepal width (cm): 2.486</br></br>sepal length (cm): 6.1</br>petal length (cm): 4.7</br>petal width (cm): 1.2</br>_original_yhat_: 0.8123438363032037</br>"
          ],
          [
           "</br>id: 73</br>prediction: 0.808</br>sepal width (cm): 2.508</br></br>sepal length (cm): 6.1</br>petal length (cm): 4.7</br>petal width (cm): 1.2</br>_original_yhat_: 0.8123438363032037</br>"
          ],
          [
           "</br>id: 73</br>prediction: 0.808</br>sepal width (cm): 2.5300000000000002</br></br>sepal length (cm): 6.1</br>petal length (cm): 4.7</br>petal width (cm): 1.2</br>_original_yhat_: 0.8123438363032037</br>"
          ],
          [
           "</br>id: 73</br>prediction: 0.809</br>sepal width (cm): 2.552</br></br>sepal length (cm): 6.1</br>petal length (cm): 4.7</br>petal width (cm): 1.2</br>_original_yhat_: 0.8123438363032037</br>"
          ],
          [
           "</br>id: 73</br>prediction: 0.809</br>sepal width (cm): 2.5740000000000003</br></br>sepal length (cm): 6.1</br>petal length (cm): 4.7</br>petal width (cm): 1.2</br>_original_yhat_: 0.8123438363032037</br>"
          ],
          [
           "</br>id: 73</br>prediction: 0.809</br>sepal width (cm): 2.596</br></br>sepal length (cm): 6.1</br>petal length (cm): 4.7</br>petal width (cm): 1.2</br>_original_yhat_: 0.8123438363032037</br>"
          ],
          [
           "</br>id: 73</br>prediction: 0.81</br>sepal width (cm): 2.6180000000000003</br></br>sepal length (cm): 6.1</br>petal length (cm): 4.7</br>petal width (cm): 1.2</br>_original_yhat_: 0.8123438363032037</br>"
          ],
          [
           "</br>id: 73</br>prediction: 0.81</br>sepal width (cm): 2.64</br></br>sepal length (cm): 6.1</br>petal length (cm): 4.7</br>petal width (cm): 1.2</br>_original_yhat_: 0.8123438363032037</br>"
          ],
          [
           "</br>id: 73</br>prediction: 0.81</br>sepal width (cm): 2.6620000000000004</br></br>sepal length (cm): 6.1</br>petal length (cm): 4.7</br>petal width (cm): 1.2</br>_original_yhat_: 0.8123438363032037</br>"
          ],
          [
           "</br>id: 73</br>prediction: 0.811</br>sepal width (cm): 2.684</br></br>sepal length (cm): 6.1</br>petal length (cm): 4.7</br>petal width (cm): 1.2</br>_original_yhat_: 0.8123438363032037</br>"
          ],
          [
           "</br>id: 73</br>prediction: 0.811</br>sepal width (cm): 2.7060000000000004</br></br>sepal length (cm): 6.1</br>petal length (cm): 4.7</br>petal width (cm): 1.2</br>_original_yhat_: 0.8123438363032037</br>"
          ],
          [
           "</br>id: 73</br>prediction: 0.811</br>sepal width (cm): 2.728</br></br>sepal length (cm): 6.1</br>petal length (cm): 4.7</br>petal width (cm): 1.2</br>_original_yhat_: 0.8123438363032037</br>"
          ],
          [
           "</br>id: 73</br>prediction: 0.812</br>sepal width (cm): 2.75</br></br>sepal length (cm): 6.1</br>petal length (cm): 4.7</br>petal width (cm): 1.2</br>_original_yhat_: 0.8123438363032037</br>"
          ],
          [
           "</br>id: 73</br>prediction: 0.812</br>sepal width (cm): 2.7720000000000002</br></br>sepal length (cm): 6.1</br>petal length (cm): 4.7</br>petal width (cm): 1.2</br>_original_yhat_: 0.8123438363032037</br>"
          ],
          [
           "</br>id: 73</br>prediction: 0.812</br>sepal width (cm): 2.7940000000000005</br></br>sepal length (cm): 6.1</br>petal length (cm): 4.7</br>petal width (cm): 1.2</br>_original_yhat_: 0.8123438363032037</br>"
          ],
          [
           "</br>id: 73</br>prediction: 0.812</br>sepal width (cm): 2.8</br></br>sepal length (cm): 6.1</br>petal length (cm): 4.7</br>petal width (cm): 1.2</br>_original_yhat_: 0.8123438363032037</br>"
          ],
          [
           "</br>id: 73</br>prediction: 0.813</br>sepal width (cm): 2.8160000000000003</br></br>sepal length (cm): 6.1</br>petal length (cm): 4.7</br>petal width (cm): 1.2</br>_original_yhat_: 0.8123438363032037</br>"
          ],
          [
           "</br>id: 73</br>prediction: 0.813</br>sepal width (cm): 2.838</br></br>sepal length (cm): 6.1</br>petal length (cm): 4.7</br>petal width (cm): 1.2</br>_original_yhat_: 0.8123438363032037</br>"
          ],
          [
           "</br>id: 73</br>prediction: 0.813</br>sepal width (cm): 2.8600000000000003</br></br>sepal length (cm): 6.1</br>petal length (cm): 4.7</br>petal width (cm): 1.2</br>_original_yhat_: 0.8123438363032037</br>"
          ],
          [
           "</br>id: 73</br>prediction: 0.813</br>sepal width (cm): 2.882</br></br>sepal length (cm): 6.1</br>petal length (cm): 4.7</br>petal width (cm): 1.2</br>_original_yhat_: 0.8123438363032037</br>"
          ],
          [
           "</br>id: 73</br>prediction: 0.814</br>sepal width (cm): 2.9040000000000004</br></br>sepal length (cm): 6.1</br>petal length (cm): 4.7</br>petal width (cm): 1.2</br>_original_yhat_: 0.8123438363032037</br>"
          ],
          [
           "</br>id: 73</br>prediction: 0.814</br>sepal width (cm): 2.926</br></br>sepal length (cm): 6.1</br>petal length (cm): 4.7</br>petal width (cm): 1.2</br>_original_yhat_: 0.8123438363032037</br>"
          ],
          [
           "</br>id: 73</br>prediction: 0.814</br>sepal width (cm): 2.9480000000000004</br></br>sepal length (cm): 6.1</br>petal length (cm): 4.7</br>petal width (cm): 1.2</br>_original_yhat_: 0.8123438363032037</br>"
          ],
          [
           "</br>id: 73</br>prediction: 0.815</br>sepal width (cm): 2.97</br></br>sepal length (cm): 6.1</br>petal length (cm): 4.7</br>petal width (cm): 1.2</br>_original_yhat_: 0.8123438363032037</br>"
          ],
          [
           "</br>id: 73</br>prediction: 0.815</br>sepal width (cm): 2.992</br></br>sepal length (cm): 6.1</br>petal length (cm): 4.7</br>petal width (cm): 1.2</br>_original_yhat_: 0.8123438363032037</br>"
          ],
          [
           "</br>id: 73</br>prediction: 0.815</br>sepal width (cm): 3.0140000000000002</br></br>sepal length (cm): 6.1</br>petal length (cm): 4.7</br>petal width (cm): 1.2</br>_original_yhat_: 0.8123438363032037</br>"
          ],
          [
           "</br>id: 73</br>prediction: 0.815</br>sepal width (cm): 3.0360000000000005</br></br>sepal length (cm): 6.1</br>petal length (cm): 4.7</br>petal width (cm): 1.2</br>_original_yhat_: 0.8123438363032037</br>"
          ],
          [
           "</br>id: 73</br>prediction: 0.816</br>sepal width (cm): 3.0580000000000003</br></br>sepal length (cm): 6.1</br>petal length (cm): 4.7</br>petal width (cm): 1.2</br>_original_yhat_: 0.8123438363032037</br>"
          ],
          [
           "</br>id: 73</br>prediction: 0.816</br>sepal width (cm): 3.08</br></br>sepal length (cm): 6.1</br>petal length (cm): 4.7</br>petal width (cm): 1.2</br>_original_yhat_: 0.8123438363032037</br>"
          ],
          [
           "</br>id: 73</br>prediction: 0.816</br>sepal width (cm): 3.1020000000000003</br></br>sepal length (cm): 6.1</br>petal length (cm): 4.7</br>petal width (cm): 1.2</br>_original_yhat_: 0.8123438363032037</br>"
          ],
          [
           "</br>id: 73</br>prediction: 0.816</br>sepal width (cm): 3.124</br></br>sepal length (cm): 6.1</br>petal length (cm): 4.7</br>petal width (cm): 1.2</br>_original_yhat_: 0.8123438363032037</br>"
          ],
          [
           "</br>id: 73</br>prediction: 0.817</br>sepal width (cm): 3.1460000000000004</br></br>sepal length (cm): 6.1</br>petal length (cm): 4.7</br>petal width (cm): 1.2</br>_original_yhat_: 0.8123438363032037</br>"
          ],
          [
           "</br>id: 73</br>prediction: 0.817</br>sepal width (cm): 3.168</br></br>sepal length (cm): 6.1</br>petal length (cm): 4.7</br>petal width (cm): 1.2</br>_original_yhat_: 0.8123438363032037</br>"
          ],
          [
           "</br>id: 73</br>prediction: 0.817</br>sepal width (cm): 3.1900000000000004</br></br>sepal length (cm): 6.1</br>petal length (cm): 4.7</br>petal width (cm): 1.2</br>_original_yhat_: 0.8123438363032037</br>"
          ],
          [
           "</br>id: 73</br>prediction: 0.817</br>sepal width (cm): 3.212</br></br>sepal length (cm): 6.1</br>petal length (cm): 4.7</br>petal width (cm): 1.2</br>_original_yhat_: 0.8123438363032037</br>"
          ],
          [
           "</br>id: 73</br>prediction: 0.818</br>sepal width (cm): 3.234</br></br>sepal length (cm): 6.1</br>petal length (cm): 4.7</br>petal width (cm): 1.2</br>_original_yhat_: 0.8123438363032037</br>"
          ],
          [
           "</br>id: 73</br>prediction: 0.818</br>sepal width (cm): 3.2560000000000002</br></br>sepal length (cm): 6.1</br>petal length (cm): 4.7</br>petal width (cm): 1.2</br>_original_yhat_: 0.8123438363032037</br>"
          ],
          [
           "</br>id: 73</br>prediction: 0.818</br>sepal width (cm): 3.2780000000000005</br></br>sepal length (cm): 6.1</br>petal length (cm): 4.7</br>petal width (cm): 1.2</br>_original_yhat_: 0.8123438363032037</br>"
          ],
          [
           "</br>id: 73</br>prediction: 0.818</br>sepal width (cm): 3.3000000000000003</br></br>sepal length (cm): 6.1</br>petal length (cm): 4.7</br>petal width (cm): 1.2</br>_original_yhat_: 0.8123438363032037</br>"
          ],
          [
           "</br>id: 73</br>prediction: 0.818</br>sepal width (cm): 3.322</br></br>sepal length (cm): 6.1</br>petal length (cm): 4.7</br>petal width (cm): 1.2</br>_original_yhat_: 0.8123438363032037</br>"
          ],
          [
           "</br>id: 73</br>prediction: 0.819</br>sepal width (cm): 3.3440000000000003</br></br>sepal length (cm): 6.1</br>petal length (cm): 4.7</br>petal width (cm): 1.2</br>_original_yhat_: 0.8123438363032037</br>"
          ],
          [
           "</br>id: 73</br>prediction: 0.819</br>sepal width (cm): 3.3660000000000005</br></br>sepal length (cm): 6.1</br>petal length (cm): 4.7</br>petal width (cm): 1.2</br>_original_yhat_: 0.8123438363032037</br>"
          ],
          [
           "</br>id: 73</br>prediction: 0.819</br>sepal width (cm): 3.3880000000000003</br></br>sepal length (cm): 6.1</br>petal length (cm): 4.7</br>petal width (cm): 1.2</br>_original_yhat_: 0.8123438363032037</br>"
          ],
          [
           "</br>id: 73</br>prediction: 0.819</br>sepal width (cm): 3.41</br></br>sepal length (cm): 6.1</br>petal length (cm): 4.7</br>petal width (cm): 1.2</br>_original_yhat_: 0.8123438363032037</br>"
          ],
          [
           "</br>id: 73</br>prediction: 0.819</br>sepal width (cm): 3.4320000000000004</br></br>sepal length (cm): 6.1</br>petal length (cm): 4.7</br>petal width (cm): 1.2</br>_original_yhat_: 0.8123438363032037</br>"
          ],
          [
           "</br>id: 73</br>prediction: 0.819</br>sepal width (cm): 3.4540000000000006</br></br>sepal length (cm): 6.1</br>petal length (cm): 4.7</br>petal width (cm): 1.2</br>_original_yhat_: 0.8123438363032037</br>"
          ],
          [
           "</br>id: 73</br>prediction: 0.82</br>sepal width (cm): 3.476</br></br>sepal length (cm): 6.1</br>petal length (cm): 4.7</br>petal width (cm): 1.2</br>_original_yhat_: 0.8123438363032037</br>"
          ],
          [
           "</br>id: 73</br>prediction: 0.82</br>sepal width (cm): 3.498</br></br>sepal length (cm): 6.1</br>petal length (cm): 4.7</br>petal width (cm): 1.2</br>_original_yhat_: 0.8123438363032037</br>"
          ],
          [
           "</br>id: 73</br>prediction: 0.82</br>sepal width (cm): 3.5200000000000005</br></br>sepal length (cm): 6.1</br>petal length (cm): 4.7</br>petal width (cm): 1.2</br>_original_yhat_: 0.8123438363032037</br>"
          ],
          [
           "</br>id: 73</br>prediction: 0.82</br>sepal width (cm): 3.5420000000000003</br></br>sepal length (cm): 6.1</br>petal length (cm): 4.7</br>petal width (cm): 1.2</br>_original_yhat_: 0.8123438363032037</br>"
          ],
          [
           "</br>id: 73</br>prediction: 0.82</br>sepal width (cm): 3.564</br></br>sepal length (cm): 6.1</br>petal length (cm): 4.7</br>petal width (cm): 1.2</br>_original_yhat_: 0.8123438363032037</br>"
          ],
          [
           "</br>id: 73</br>prediction: 0.82</br>sepal width (cm): 3.5860000000000003</br></br>sepal length (cm): 6.1</br>petal length (cm): 4.7</br>petal width (cm): 1.2</br>_original_yhat_: 0.8123438363032037</br>"
          ],
          [
           "</br>id: 73</br>prediction: 0.82</br>sepal width (cm): 3.6080000000000005</br></br>sepal length (cm): 6.1</br>petal length (cm): 4.7</br>petal width (cm): 1.2</br>_original_yhat_: 0.8123438363032037</br>"
          ],
          [
           "</br>id: 73</br>prediction: 0.82</br>sepal width (cm): 3.6300000000000003</br></br>sepal length (cm): 6.1</br>petal length (cm): 4.7</br>petal width (cm): 1.2</br>_original_yhat_: 0.8123438363032037</br>"
          ],
          [
           "</br>id: 73</br>prediction: 0.821</br>sepal width (cm): 3.652</br></br>sepal length (cm): 6.1</br>petal length (cm): 4.7</br>petal width (cm): 1.2</br>_original_yhat_: 0.8123438363032037</br>"
          ],
          [
           "</br>id: 73</br>prediction: 0.821</br>sepal width (cm): 3.6740000000000004</br></br>sepal length (cm): 6.1</br>petal length (cm): 4.7</br>petal width (cm): 1.2</br>_original_yhat_: 0.8123438363032037</br>"
          ],
          [
           "</br>id: 73</br>prediction: 0.821</br>sepal width (cm): 3.6960000000000006</br></br>sepal length (cm): 6.1</br>petal length (cm): 4.7</br>petal width (cm): 1.2</br>_original_yhat_: 0.8123438363032037</br>"
          ],
          [
           "</br>id: 73</br>prediction: 0.821</br>sepal width (cm): 3.7180000000000004</br></br>sepal length (cm): 6.1</br>petal length (cm): 4.7</br>petal width (cm): 1.2</br>_original_yhat_: 0.8123438363032037</br>"
          ],
          [
           "</br>id: 73</br>prediction: 0.821</br>sepal width (cm): 3.74</br></br>sepal length (cm): 6.1</br>petal length (cm): 4.7</br>petal width (cm): 1.2</br>_original_yhat_: 0.8123438363032037</br>"
          ],
          [
           "</br>id: 73</br>prediction: 0.821</br>sepal width (cm): 3.7620000000000005</br></br>sepal length (cm): 6.1</br>petal length (cm): 4.7</br>petal width (cm): 1.2</br>_original_yhat_: 0.8123438363032037</br>"
          ],
          [
           "</br>id: 73</br>prediction: 0.821</br>sepal width (cm): 3.7840000000000003</br></br>sepal length (cm): 6.1</br>petal length (cm): 4.7</br>petal width (cm): 1.2</br>_original_yhat_: 0.8123438363032037</br>"
          ],
          [
           "</br>id: 73</br>prediction: 0.821</br>sepal width (cm): 3.806</br></br>sepal length (cm): 6.1</br>petal length (cm): 4.7</br>petal width (cm): 1.2</br>_original_yhat_: 0.8123438363032037</br>"
          ],
          [
           "</br>id: 73</br>prediction: 0.821</br>sepal width (cm): 3.8280000000000003</br></br>sepal length (cm): 6.1</br>petal length (cm): 4.7</br>petal width (cm): 1.2</br>_original_yhat_: 0.8123438363032037</br>"
          ],
          [
           "</br>id: 73</br>prediction: 0.821</br>sepal width (cm): 3.8500000000000005</br></br>sepal length (cm): 6.1</br>petal length (cm): 4.7</br>petal width (cm): 1.2</br>_original_yhat_: 0.8123438363032037</br>"
          ],
          [
           "</br>id: 73</br>prediction: 0.821</br>sepal width (cm): 3.8720000000000003</br></br>sepal length (cm): 6.1</br>petal length (cm): 4.7</br>petal width (cm): 1.2</br>_original_yhat_: 0.8123438363032037</br>"
          ],
          [
           "</br>id: 73</br>prediction: 0.821</br>sepal width (cm): 3.894</br></br>sepal length (cm): 6.1</br>petal length (cm): 4.7</br>petal width (cm): 1.2</br>_original_yhat_: 0.8123438363032037</br>"
          ],
          [
           "</br>id: 73</br>prediction: 0.821</br>sepal width (cm): 3.9160000000000004</br></br>sepal length (cm): 6.1</br>petal length (cm): 4.7</br>petal width (cm): 1.2</br>_original_yhat_: 0.8123438363032037</br>"
          ],
          [
           "</br>id: 73</br>prediction: 0.821</br>sepal width (cm): 3.9380000000000006</br></br>sepal length (cm): 6.1</br>petal length (cm): 4.7</br>petal width (cm): 1.2</br>_original_yhat_: 0.8123438363032037</br>"
          ],
          [
           "</br>id: 73</br>prediction: 0.821</br>sepal width (cm): 3.9600000000000004</br></br>sepal length (cm): 6.1</br>petal length (cm): 4.7</br>petal width (cm): 1.2</br>_original_yhat_: 0.8123438363032037</br>"
          ],
          [
           "</br>id: 73</br>prediction: 0.821</br>sepal width (cm): 3.982</br></br>sepal length (cm): 6.1</br>petal length (cm): 4.7</br>petal width (cm): 1.2</br>_original_yhat_: 0.8123438363032037</br>"
          ],
          [
           "</br>id: 73</br>prediction: 0.821</br>sepal width (cm): 4.0040000000000004</br></br>sepal length (cm): 6.1</br>petal length (cm): 4.7</br>petal width (cm): 1.2</br>_original_yhat_: 0.8123438363032037</br>"
          ],
          [
           "</br>id: 73</br>prediction: 0.821</br>sepal width (cm): 4.026000000000001</br></br>sepal length (cm): 6.1</br>petal length (cm): 4.7</br>petal width (cm): 1.2</br>_original_yhat_: 0.8123438363032037</br>"
          ],
          [
           "</br>id: 73</br>prediction: 0.821</br>sepal width (cm): 4.048</br></br>sepal length (cm): 6.1</br>petal length (cm): 4.7</br>petal width (cm): 1.2</br>_original_yhat_: 0.8123438363032037</br>"
          ],
          [
           "</br>id: 73</br>prediction: 0.821</br>sepal width (cm): 4.07</br></br>sepal length (cm): 6.1</br>petal length (cm): 4.7</br>petal width (cm): 1.2</br>_original_yhat_: 0.8123438363032037</br>"
          ],
          [
           "</br>id: 73</br>prediction: 0.82</br>sepal width (cm): 4.0920000000000005</br></br>sepal length (cm): 6.1</br>petal length (cm): 4.7</br>petal width (cm): 1.2</br>_original_yhat_: 0.8123438363032037</br>"
          ],
          [
           "</br>id: 73</br>prediction: 0.82</br>sepal width (cm): 4.114000000000001</br></br>sepal length (cm): 6.1</br>petal length (cm): 4.7</br>petal width (cm): 1.2</br>_original_yhat_: 0.8123438363032037</br>"
          ],
          [
           "</br>id: 73</br>prediction: 0.82</br>sepal width (cm): 4.136</br></br>sepal length (cm): 6.1</br>petal length (cm): 4.7</br>petal width (cm): 1.2</br>_original_yhat_: 0.8123438363032037</br>"
          ],
          [
           "</br>id: 73</br>prediction: 0.82</br>sepal width (cm): 4.158</br></br>sepal length (cm): 6.1</br>petal length (cm): 4.7</br>petal width (cm): 1.2</br>_original_yhat_: 0.8123438363032037</br>"
          ],
          [
           "</br>id: 73</br>prediction: 0.82</br>sepal width (cm): 4.180000000000001</br></br>sepal length (cm): 6.1</br>petal length (cm): 4.7</br>petal width (cm): 1.2</br>_original_yhat_: 0.8123438363032037</br>"
          ],
          [
           "</br>id: 73</br>prediction: 0.82</br>sepal width (cm): 4.202</br></br>sepal length (cm): 6.1</br>petal length (cm): 4.7</br>petal width (cm): 1.2</br>_original_yhat_: 0.8123438363032037</br>"
          ],
          [
           "</br>id: 73</br>prediction: 0.819</br>sepal width (cm): 4.224</br></br>sepal length (cm): 6.1</br>petal length (cm): 4.7</br>petal width (cm): 1.2</br>_original_yhat_: 0.8123438363032037</br>"
          ],
          [
           "</br>id: 73</br>prediction: 0.819</br>sepal width (cm): 4.246</br></br>sepal length (cm): 6.1</br>petal length (cm): 4.7</br>petal width (cm): 1.2</br>_original_yhat_: 0.8123438363032037</br>"
          ],
          [
           "</br>id: 73</br>prediction: 0.819</br>sepal width (cm): 4.268000000000001</br></br>sepal length (cm): 6.1</br>petal length (cm): 4.7</br>petal width (cm): 1.2</br>_original_yhat_: 0.8123438363032037</br>"
          ],
          [
           "</br>id: 73</br>prediction: 0.819</br>sepal width (cm): 4.290000000000001</br></br>sepal length (cm): 6.1</br>petal length (cm): 4.7</br>petal width (cm): 1.2</br>_original_yhat_: 0.8123438363032037</br>"
          ],
          [
           "</br>id: 73</br>prediction: 0.818</br>sepal width (cm): 4.312</br></br>sepal length (cm): 6.1</br>petal length (cm): 4.7</br>petal width (cm): 1.2</br>_original_yhat_: 0.8123438363032037</br>"
          ],
          [
           "</br>id: 73</br>prediction: 0.818</br>sepal width (cm): 4.3340000000000005</br></br>sepal length (cm): 6.1</br>petal length (cm): 4.7</br>petal width (cm): 1.2</br>_original_yhat_: 0.8123438363032037</br>"
          ],
          [
           "</br>id: 73</br>prediction: 0.818</br>sepal width (cm): 4.356</br></br>sepal length (cm): 6.1</br>petal length (cm): 4.7</br>petal width (cm): 1.2</br>_original_yhat_: 0.8123438363032037</br>"
          ],
          [
           "</br>id: 73</br>prediction: 0.818</br>sepal width (cm): 4.378</br></br>sepal length (cm): 6.1</br>petal length (cm): 4.7</br>petal width (cm): 1.2</br>_original_yhat_: 0.8123438363032037</br>"
          ],
          [
           "</br>id: 73</br>prediction: 0.817</br>sepal width (cm): 4.4</br></br>sepal length (cm): 6.1</br>petal length (cm): 4.7</br>petal width (cm): 1.2</br>_original_yhat_: 0.8123438363032037</br>"
          ]
         ],
         "hovertemplate": "%{customdata[0]}<extra></extra>",
         "legendgroup": "Logistic Regression",
         "line": {
          "color": "#46bac2",
          "dash": "solid",
          "width": 2
         },
         "marker": {
          "symbol": "circle"
         },
         "mode": "lines",
         "name": "Logistic Regression",
         "opacity": 1,
         "orientation": "v",
         "showlegend": false,
         "type": "scatter",
         "x": [
          2.2,
          2.222,
          2.244,
          2.266,
          2.2880000000000003,
          2.31,
          2.3320000000000003,
          2.354,
          2.3760000000000003,
          2.398,
          2.4200000000000004,
          2.442,
          2.4640000000000004,
          2.486,
          2.508,
          2.5300000000000002,
          2.552,
          2.5740000000000003,
          2.596,
          2.6180000000000003,
          2.64,
          2.6620000000000004,
          2.684,
          2.7060000000000004,
          2.728,
          2.75,
          2.7720000000000002,
          2.7940000000000005,
          2.8,
          2.8160000000000003,
          2.838,
          2.8600000000000003,
          2.882,
          2.9040000000000004,
          2.926,
          2.9480000000000004,
          2.97,
          2.992,
          3.0140000000000002,
          3.0360000000000005,
          3.0580000000000003,
          3.08,
          3.1020000000000003,
          3.124,
          3.1460000000000004,
          3.168,
          3.1900000000000004,
          3.212,
          3.234,
          3.2560000000000002,
          3.2780000000000005,
          3.3000000000000003,
          3.322,
          3.3440000000000003,
          3.3660000000000005,
          3.3880000000000003,
          3.41,
          3.4320000000000004,
          3.4540000000000006,
          3.476,
          3.498,
          3.5200000000000005,
          3.5420000000000003,
          3.564,
          3.5860000000000003,
          3.6080000000000005,
          3.6300000000000003,
          3.652,
          3.6740000000000004,
          3.6960000000000006,
          3.7180000000000004,
          3.74,
          3.7620000000000005,
          3.7840000000000003,
          3.806,
          3.8280000000000003,
          3.8500000000000005,
          3.8720000000000003,
          3.894,
          3.9160000000000004,
          3.9380000000000006,
          3.9600000000000004,
          3.982,
          4.0040000000000004,
          4.026000000000001,
          4.048,
          4.07,
          4.0920000000000005,
          4.114000000000001,
          4.136,
          4.158,
          4.180000000000001,
          4.202,
          4.224,
          4.246,
          4.268000000000001,
          4.290000000000001,
          4.312,
          4.3340000000000005,
          4.356,
          4.378,
          4.4
         ],
         "xaxis": "x4",
         "y": [
          0.8031487231084582,
          0.8035159731981214,
          0.8038812941298045,
          0.804244649956773,
          0.8046060037211237,
          0.8049653174257871,
          0.8053225520057864,
          0.8056776672987391,
          0.8060306220145775,
          0.8063813737044749,
          0.8067298787289561,
          0.8070760922251702,
          0.8074199680733132,
          0.8077614588621709,
          0.8081005158537719,
          0.8084370889471202,
          0.8087711266409952,
          0.8091025759957902,
          0.8094313825943752,
          0.8097574905019541,
          0.8100808422249026,
          0.8104013786685561,
          0.810719039093932,
          0.8110337610733575,
          0.8113454804449843,
          0.8116541312661634,
          0.8119596457656582,
          0.8122619542946715,
          0.8123438363032037,
          0.8125609852766612,
          0.8128566651559225,
          0.8131489183449104,
          0.8134376671702794,
          0.8137228318176137,
          0.8140043302748268,
          0.8142820782742015,
          0.8145559892330494,
          0.8148259741929639,
          0.8150919417576398,
          0.8153537980292411,
          0.8156114465432861,
          0.81586478820203,
          0.8161137212063204,
          0.8163581409859023,
          0.816597940128149,
          0.8168330083051981,
          0.8170632321994693,
          0.8172884954275429,
          0.817508678462379,
          0.8177236585538579,
          0.8179333096476223,
          0.8181375023022017,
          0.8183361036044067,
          0.8185289770829723,
          0.8187159826204403,
          0.8188969763632642,
          0.8190718106301272,
          0.8192403338184652,
          0.8194023903091825,
          0.8195578203695587,
          0.8197064600543403,
          0.819848141105018,
          0.819982690847288,
          0.8201099320867038,
          0.8202296830025223,
          0.8203417570397584,
          0.8204459627994554,
          0.8205421039271933,
          0.8206299789998508,
          0.8207093814106501,
          0.8207800992525086,
          0.8208419151997347,
          0.820894606388103,
          0.8209379442933542,
          0.8209716946081689,
          0.8209956171176676,
          0.8210094655734997,
          0.8210129875665906,
          0.8210059243986154,
          0.8209880109522885,
          0.8209589755605526,
          0.8209185398747684,
          0.8208664187320062,
          0.8208023200215621,
          0.8207259445508148,
          0.8206369859105652,
          0.8205351303399975,
          0.8204200565914225,
          0.8202914357949675,
          0.8201489313233956,
          0.819992198657242,
          0.8198208852504767,
          0.8196346303969124,
          0.8194330650975881,
          0.8192158119293798,
          0.8189824849151026,
          0.8187326893953811,
          0.8184660219025903,
          0.8181820700371769,
          0.8178804123466978,
          0.8175606182079236,
          0.8172222477123835
         ],
         "yaxis": "y4"
        },
        {
         "customdata": [
          [
           "</br>id: 73</br>prediction: 0.08</br>petal length (cm): 1.0</br></br>sepal length (cm): 6.1</br>sepal width (cm): 2.8</br>petal width (cm): 1.2</br>_original_yhat_: 0.8123438363032037</br>"
          ],
          [
           "</br>id: 73</br>prediction: 0.089</br>petal length (cm): 1.059</br></br>sepal length (cm): 6.1</br>sepal width (cm): 2.8</br>petal width (cm): 1.2</br>_original_yhat_: 0.8123438363032037</br>"
          ],
          [
           "</br>id: 73</br>prediction: 0.1</br>petal length (cm): 1.118</br></br>sepal length (cm): 6.1</br>sepal width (cm): 2.8</br>petal width (cm): 1.2</br>_original_yhat_: 0.8123438363032037</br>"
          ],
          [
           "</br>id: 73</br>prediction: 0.111</br>petal length (cm): 1.177</br></br>sepal length (cm): 6.1</br>sepal width (cm): 2.8</br>petal width (cm): 1.2</br>_original_yhat_: 0.8123438363032037</br>"
          ],
          [
           "</br>id: 73</br>prediction: 0.124</br>petal length (cm): 1.236</br></br>sepal length (cm): 6.1</br>sepal width (cm): 2.8</br>petal width (cm): 1.2</br>_original_yhat_: 0.8123438363032037</br>"
          ],
          [
           "</br>id: 73</br>prediction: 0.138</br>petal length (cm): 1.295</br></br>sepal length (cm): 6.1</br>sepal width (cm): 2.8</br>petal width (cm): 1.2</br>_original_yhat_: 0.8123438363032037</br>"
          ],
          [
           "</br>id: 73</br>prediction: 0.154</br>petal length (cm): 1.354</br></br>sepal length (cm): 6.1</br>sepal width (cm): 2.8</br>petal width (cm): 1.2</br>_original_yhat_: 0.8123438363032037</br>"
          ],
          [
           "</br>id: 73</br>prediction: 0.17</br>petal length (cm): 1.413</br></br>sepal length (cm): 6.1</br>sepal width (cm): 2.8</br>petal width (cm): 1.2</br>_original_yhat_: 0.8123438363032037</br>"
          ],
          [
           "</br>id: 73</br>prediction: 0.189</br>petal length (cm): 1.472</br></br>sepal length (cm): 6.1</br>sepal width (cm): 2.8</br>petal width (cm): 1.2</br>_original_yhat_: 0.8123438363032037</br>"
          ],
          [
           "</br>id: 73</br>prediction: 0.208</br>petal length (cm): 1.5310000000000001</br></br>sepal length (cm): 6.1</br>sepal width (cm): 2.8</br>petal width (cm): 1.2</br>_original_yhat_: 0.8123438363032037</br>"
          ],
          [
           "</br>id: 73</br>prediction: 0.229</br>petal length (cm): 1.59</br></br>sepal length (cm): 6.1</br>sepal width (cm): 2.8</br>petal width (cm): 1.2</br>_original_yhat_: 0.8123438363032037</br>"
          ],
          [
           "</br>id: 73</br>prediction: 0.252</br>petal length (cm): 1.649</br></br>sepal length (cm): 6.1</br>sepal width (cm): 2.8</br>petal width (cm): 1.2</br>_original_yhat_: 0.8123438363032037</br>"
          ],
          [
           "</br>id: 73</br>prediction: 0.276</br>petal length (cm): 1.7080000000000002</br></br>sepal length (cm): 6.1</br>sepal width (cm): 2.8</br>petal width (cm): 1.2</br>_original_yhat_: 0.8123438363032037</br>"
          ],
          [
           "</br>id: 73</br>prediction: 0.301</br>petal length (cm): 1.767</br></br>sepal length (cm): 6.1</br>sepal width (cm): 2.8</br>petal width (cm): 1.2</br>_original_yhat_: 0.8123438363032037</br>"
          ],
          [
           "</br>id: 73</br>prediction: 0.328</br>petal length (cm): 1.826</br></br>sepal length (cm): 6.1</br>sepal width (cm): 2.8</br>petal width (cm): 1.2</br>_original_yhat_: 0.8123438363032037</br>"
          ],
          [
           "</br>id: 73</br>prediction: 0.355</br>petal length (cm): 1.885</br></br>sepal length (cm): 6.1</br>sepal width (cm): 2.8</br>petal width (cm): 1.2</br>_original_yhat_: 0.8123438363032037</br>"
          ],
          [
           "</br>id: 73</br>prediction: 0.384</br>petal length (cm): 1.944</br></br>sepal length (cm): 6.1</br>sepal width (cm): 2.8</br>petal width (cm): 1.2</br>_original_yhat_: 0.8123438363032037</br>"
          ],
          [
           "</br>id: 73</br>prediction: 0.414</br>petal length (cm): 2.003</br></br>sepal length (cm): 6.1</br>sepal width (cm): 2.8</br>petal width (cm): 1.2</br>_original_yhat_: 0.8123438363032037</br>"
          ],
          [
           "</br>id: 73</br>prediction: 0.444</br>petal length (cm): 2.0620000000000003</br></br>sepal length (cm): 6.1</br>sepal width (cm): 2.8</br>petal width (cm): 1.2</br>_original_yhat_: 0.8123438363032037</br>"
          ],
          [
           "</br>id: 73</br>prediction: 0.474</br>petal length (cm): 2.121</br></br>sepal length (cm): 6.1</br>sepal width (cm): 2.8</br>petal width (cm): 1.2</br>_original_yhat_: 0.8123438363032037</br>"
          ],
          [
           "</br>id: 73</br>prediction: 0.505</br>petal length (cm): 2.18</br></br>sepal length (cm): 6.1</br>sepal width (cm): 2.8</br>petal width (cm): 1.2</br>_original_yhat_: 0.8123438363032037</br>"
          ],
          [
           "</br>id: 73</br>prediction: 0.536</br>petal length (cm): 2.239</br></br>sepal length (cm): 6.1</br>sepal width (cm): 2.8</br>petal width (cm): 1.2</br>_original_yhat_: 0.8123438363032037</br>"
          ],
          [
           "</br>id: 73</br>prediction: 0.566</br>petal length (cm): 2.298</br></br>sepal length (cm): 6.1</br>sepal width (cm): 2.8</br>petal width (cm): 1.2</br>_original_yhat_: 0.8123438363032037</br>"
          ],
          [
           "</br>id: 73</br>prediction: 0.596</br>petal length (cm): 2.357</br></br>sepal length (cm): 6.1</br>sepal width (cm): 2.8</br>petal width (cm): 1.2</br>_original_yhat_: 0.8123438363032037</br>"
          ],
          [
           "</br>id: 73</br>prediction: 0.626</br>petal length (cm): 2.4160000000000004</br></br>sepal length (cm): 6.1</br>sepal width (cm): 2.8</br>petal width (cm): 1.2</br>_original_yhat_: 0.8123438363032037</br>"
          ],
          [
           "</br>id: 73</br>prediction: 0.654</br>petal length (cm): 2.475</br></br>sepal length (cm): 6.1</br>sepal width (cm): 2.8</br>petal width (cm): 1.2</br>_original_yhat_: 0.8123438363032037</br>"
          ],
          [
           "</br>id: 73</br>prediction: 0.681</br>petal length (cm): 2.534</br></br>sepal length (cm): 6.1</br>sepal width (cm): 2.8</br>petal width (cm): 1.2</br>_original_yhat_: 0.8123438363032037</br>"
          ],
          [
           "</br>id: 73</br>prediction: 0.707</br>petal length (cm): 2.593</br></br>sepal length (cm): 6.1</br>sepal width (cm): 2.8</br>petal width (cm): 1.2</br>_original_yhat_: 0.8123438363032037</br>"
          ],
          [
           "</br>id: 73</br>prediction: 0.732</br>petal length (cm): 2.652</br></br>sepal length (cm): 6.1</br>sepal width (cm): 2.8</br>petal width (cm): 1.2</br>_original_yhat_: 0.8123438363032037</br>"
          ],
          [
           "</br>id: 73</br>prediction: 0.755</br>petal length (cm): 2.7110000000000003</br></br>sepal length (cm): 6.1</br>sepal width (cm): 2.8</br>petal width (cm): 1.2</br>_original_yhat_: 0.8123438363032037</br>"
          ],
          [
           "</br>id: 73</br>prediction: 0.777</br>petal length (cm): 2.77</br></br>sepal length (cm): 6.1</br>sepal width (cm): 2.8</br>petal width (cm): 1.2</br>_original_yhat_: 0.8123438363032037</br>"
          ],
          [
           "</br>id: 73</br>prediction: 0.798</br>petal length (cm): 2.829</br></br>sepal length (cm): 6.1</br>sepal width (cm): 2.8</br>petal width (cm): 1.2</br>_original_yhat_: 0.8123438363032037</br>"
          ],
          [
           "</br>id: 73</br>prediction: 0.817</br>petal length (cm): 2.888</br></br>sepal length (cm): 6.1</br>sepal width (cm): 2.8</br>petal width (cm): 1.2</br>_original_yhat_: 0.8123438363032037</br>"
          ],
          [
           "</br>id: 73</br>prediction: 0.834</br>petal length (cm): 2.947</br></br>sepal length (cm): 6.1</br>sepal width (cm): 2.8</br>petal width (cm): 1.2</br>_original_yhat_: 0.8123438363032037</br>"
          ],
          [
           "</br>id: 73</br>prediction: 0.85</br>petal length (cm): 3.0060000000000002</br></br>sepal length (cm): 6.1</br>sepal width (cm): 2.8</br>petal width (cm): 1.2</br>_original_yhat_: 0.8123438363032037</br>"
          ],
          [
           "</br>id: 73</br>prediction: 0.864</br>petal length (cm): 3.065</br></br>sepal length (cm): 6.1</br>sepal width (cm): 2.8</br>petal width (cm): 1.2</br>_original_yhat_: 0.8123438363032037</br>"
          ],
          [
           "</br>id: 73</br>prediction: 0.878</br>petal length (cm): 3.124</br></br>sepal length (cm): 6.1</br>sepal width (cm): 2.8</br>petal width (cm): 1.2</br>_original_yhat_: 0.8123438363032037</br>"
          ],
          [
           "</br>id: 73</br>prediction: 0.889</br>petal length (cm): 3.1830000000000003</br></br>sepal length (cm): 6.1</br>sepal width (cm): 2.8</br>petal width (cm): 1.2</br>_original_yhat_: 0.8123438363032037</br>"
          ],
          [
           "</br>id: 73</br>prediction: 0.9</br>petal length (cm): 3.242</br></br>sepal length (cm): 6.1</br>sepal width (cm): 2.8</br>petal width (cm): 1.2</br>_original_yhat_: 0.8123438363032037</br>"
          ],
          [
           "</br>id: 73</br>prediction: 0.909</br>petal length (cm): 3.301</br></br>sepal length (cm): 6.1</br>sepal width (cm): 2.8</br>petal width (cm): 1.2</br>_original_yhat_: 0.8123438363032037</br>"
          ],
          [
           "</br>id: 73</br>prediction: 0.918</br>petal length (cm): 3.3600000000000003</br></br>sepal length (cm): 6.1</br>sepal width (cm): 2.8</br>petal width (cm): 1.2</br>_original_yhat_: 0.8123438363032037</br>"
          ],
          [
           "</br>id: 73</br>prediction: 0.925</br>petal length (cm): 3.419</br></br>sepal length (cm): 6.1</br>sepal width (cm): 2.8</br>petal width (cm): 1.2</br>_original_yhat_: 0.8123438363032037</br>"
          ],
          [
           "</br>id: 73</br>prediction: 0.931</br>petal length (cm): 3.478</br></br>sepal length (cm): 6.1</br>sepal width (cm): 2.8</br>petal width (cm): 1.2</br>_original_yhat_: 0.8123438363032037</br>"
          ],
          [
           "</br>id: 73</br>prediction: 0.937</br>petal length (cm): 3.5370000000000004</br></br>sepal length (cm): 6.1</br>sepal width (cm): 2.8</br>petal width (cm): 1.2</br>_original_yhat_: 0.8123438363032037</br>"
          ],
          [
           "</br>id: 73</br>prediction: 0.941</br>petal length (cm): 3.596</br></br>sepal length (cm): 6.1</br>sepal width (cm): 2.8</br>petal width (cm): 1.2</br>_original_yhat_: 0.8123438363032037</br>"
          ],
          [
           "</br>id: 73</br>prediction: 0.944</br>petal length (cm): 3.6550000000000002</br></br>sepal length (cm): 6.1</br>sepal width (cm): 2.8</br>petal width (cm): 1.2</br>_original_yhat_: 0.8123438363032037</br>"
          ],
          [
           "</br>id: 73</br>prediction: 0.947</br>petal length (cm): 3.714</br></br>sepal length (cm): 6.1</br>sepal width (cm): 2.8</br>petal width (cm): 1.2</br>_original_yhat_: 0.8123438363032037</br>"
          ],
          [
           "</br>id: 73</br>prediction: 0.948</br>petal length (cm): 3.773</br></br>sepal length (cm): 6.1</br>sepal width (cm): 2.8</br>petal width (cm): 1.2</br>_original_yhat_: 0.8123438363032037</br>"
          ],
          [
           "</br>id: 73</br>prediction: 0.949</br>petal length (cm): 3.8320000000000003</br></br>sepal length (cm): 6.1</br>sepal width (cm): 2.8</br>petal width (cm): 1.2</br>_original_yhat_: 0.8123438363032037</br>"
          ],
          [
           "</br>id: 73</br>prediction: 0.949</br>petal length (cm): 3.891</br></br>sepal length (cm): 6.1</br>sepal width (cm): 2.8</br>petal width (cm): 1.2</br>_original_yhat_: 0.8123438363032037</br>"
          ],
          [
           "</br>id: 73</br>prediction: 0.948</br>petal length (cm): 3.95</br></br>sepal length (cm): 6.1</br>sepal width (cm): 2.8</br>petal width (cm): 1.2</br>_original_yhat_: 0.8123438363032037</br>"
          ],
          [
           "</br>id: 73</br>prediction: 0.946</br>petal length (cm): 4.009</br></br>sepal length (cm): 6.1</br>sepal width (cm): 2.8</br>petal width (cm): 1.2</br>_original_yhat_: 0.8123438363032037</br>"
          ],
          [
           "</br>id: 73</br>prediction: 0.942</br>petal length (cm): 4.068</br></br>sepal length (cm): 6.1</br>sepal width (cm): 2.8</br>petal width (cm): 1.2</br>_original_yhat_: 0.8123438363032037</br>"
          ],
          [
           "</br>id: 73</br>prediction: 0.938</br>petal length (cm): 4.127000000000001</br></br>sepal length (cm): 6.1</br>sepal width (cm): 2.8</br>petal width (cm): 1.2</br>_original_yhat_: 0.8123438363032037</br>"
          ],
          [
           "</br>id: 73</br>prediction: 0.932</br>petal length (cm): 4.186</br></br>sepal length (cm): 6.1</br>sepal width (cm): 2.8</br>petal width (cm): 1.2</br>_original_yhat_: 0.8123438363032037</br>"
          ],
          [
           "</br>id: 73</br>prediction: 0.925</br>petal length (cm): 4.245</br></br>sepal length (cm): 6.1</br>sepal width (cm): 2.8</br>petal width (cm): 1.2</br>_original_yhat_: 0.8123438363032037</br>"
          ],
          [
           "</br>id: 73</br>prediction: 0.917</br>petal length (cm): 4.304</br></br>sepal length (cm): 6.1</br>sepal width (cm): 2.8</br>petal width (cm): 1.2</br>_original_yhat_: 0.8123438363032037</br>"
          ],
          [
           "</br>id: 73</br>prediction: 0.907</br>petal length (cm): 4.363</br></br>sepal length (cm): 6.1</br>sepal width (cm): 2.8</br>petal width (cm): 1.2</br>_original_yhat_: 0.8123438363032037</br>"
          ],
          [
           "</br>id: 73</br>prediction: 0.895</br>petal length (cm): 4.422000000000001</br></br>sepal length (cm): 6.1</br>sepal width (cm): 2.8</br>petal width (cm): 1.2</br>_original_yhat_: 0.8123438363032037</br>"
          ],
          [
           "</br>id: 73</br>prediction: 0.882</br>petal length (cm): 4.481</br></br>sepal length (cm): 6.1</br>sepal width (cm): 2.8</br>petal width (cm): 1.2</br>_original_yhat_: 0.8123438363032037</br>"
          ],
          [
           "</br>id: 73</br>prediction: 0.866</br>petal length (cm): 4.54</br></br>sepal length (cm): 6.1</br>sepal width (cm): 2.8</br>petal width (cm): 1.2</br>_original_yhat_: 0.8123438363032037</br>"
          ],
          [
           "</br>id: 73</br>prediction: 0.848</br>petal length (cm): 4.599</br></br>sepal length (cm): 6.1</br>sepal width (cm): 2.8</br>petal width (cm): 1.2</br>_original_yhat_: 0.8123438363032037</br>"
          ],
          [
           "</br>id: 73</br>prediction: 0.828</br>petal length (cm): 4.658</br></br>sepal length (cm): 6.1</br>sepal width (cm): 2.8</br>petal width (cm): 1.2</br>_original_yhat_: 0.8123438363032037</br>"
          ],
          [
           "</br>id: 73</br>prediction: 0.812</br>petal length (cm): 4.7</br></br>sepal length (cm): 6.1</br>sepal width (cm): 2.8</br>petal width (cm): 1.2</br>_original_yhat_: 0.8123438363032037</br>"
          ],
          [
           "</br>id: 73</br>prediction: 0.806</br>petal length (cm): 4.7170000000000005</br></br>sepal length (cm): 6.1</br>sepal width (cm): 2.8</br>petal width (cm): 1.2</br>_original_yhat_: 0.8123438363032037</br>"
          ],
          [
           "</br>id: 73</br>prediction: 0.781</br>petal length (cm): 4.776</br></br>sepal length (cm): 6.1</br>sepal width (cm): 2.8</br>petal width (cm): 1.2</br>_original_yhat_: 0.8123438363032037</br>"
          ],
          [
           "</br>id: 73</br>prediction: 0.754</br>petal length (cm): 4.835000000000001</br></br>sepal length (cm): 6.1</br>sepal width (cm): 2.8</br>petal width (cm): 1.2</br>_original_yhat_: 0.8123438363032037</br>"
          ],
          [
           "</br>id: 73</br>prediction: 0.724</br>petal length (cm): 4.894</br></br>sepal length (cm): 6.1</br>sepal width (cm): 2.8</br>petal width (cm): 1.2</br>_original_yhat_: 0.8123438363032037</br>"
          ],
          [
           "</br>id: 73</br>prediction: 0.692</br>petal length (cm): 4.953</br></br>sepal length (cm): 6.1</br>sepal width (cm): 2.8</br>petal width (cm): 1.2</br>_original_yhat_: 0.8123438363032037</br>"
          ],
          [
           "</br>id: 73</br>prediction: 0.658</br>petal length (cm): 5.0120000000000005</br></br>sepal length (cm): 6.1</br>sepal width (cm): 2.8</br>petal width (cm): 1.2</br>_original_yhat_: 0.8123438363032037</br>"
          ],
          [
           "</br>id: 73</br>prediction: 0.622</br>petal length (cm): 5.071000000000001</br></br>sepal length (cm): 6.1</br>sepal width (cm): 2.8</br>petal width (cm): 1.2</br>_original_yhat_: 0.8123438363032037</br>"
          ],
          [
           "</br>id: 73</br>prediction: 0.585</br>petal length (cm): 5.13</br></br>sepal length (cm): 6.1</br>sepal width (cm): 2.8</br>petal width (cm): 1.2</br>_original_yhat_: 0.8123438363032037</br>"
          ],
          [
           "</br>id: 73</br>prediction: 0.547</br>petal length (cm): 5.189</br></br>sepal length (cm): 6.1</br>sepal width (cm): 2.8</br>petal width (cm): 1.2</br>_original_yhat_: 0.8123438363032037</br>"
          ],
          [
           "</br>id: 73</br>prediction: 0.508</br>petal length (cm): 5.248</br></br>sepal length (cm): 6.1</br>sepal width (cm): 2.8</br>petal width (cm): 1.2</br>_original_yhat_: 0.8123438363032037</br>"
          ],
          [
           "</br>id: 73</br>prediction: 0.469</br>petal length (cm): 5.307</br></br>sepal length (cm): 6.1</br>sepal width (cm): 2.8</br>petal width (cm): 1.2</br>_original_yhat_: 0.8123438363032037</br>"
          ],
          [
           "</br>id: 73</br>prediction: 0.43</br>petal length (cm): 5.3660000000000005</br></br>sepal length (cm): 6.1</br>sepal width (cm): 2.8</br>petal width (cm): 1.2</br>_original_yhat_: 0.8123438363032037</br>"
          ],
          [
           "</br>id: 73</br>prediction: 0.393</br>petal length (cm): 5.425000000000001</br></br>sepal length (cm): 6.1</br>sepal width (cm): 2.8</br>petal width (cm): 1.2</br>_original_yhat_: 0.8123438363032037</br>"
          ],
          [
           "</br>id: 73</br>prediction: 0.356</br>petal length (cm): 5.484</br></br>sepal length (cm): 6.1</br>sepal width (cm): 2.8</br>petal width (cm): 1.2</br>_original_yhat_: 0.8123438363032037</br>"
          ],
          [
           "</br>id: 73</br>prediction: 0.321</br>petal length (cm): 5.543</br></br>sepal length (cm): 6.1</br>sepal width (cm): 2.8</br>petal width (cm): 1.2</br>_original_yhat_: 0.8123438363032037</br>"
          ],
          [
           "</br>id: 73</br>prediction: 0.288</br>petal length (cm): 5.602</br></br>sepal length (cm): 6.1</br>sepal width (cm): 2.8</br>petal width (cm): 1.2</br>_original_yhat_: 0.8123438363032037</br>"
          ],
          [
           "</br>id: 73</br>prediction: 0.257</br>petal length (cm): 5.6610000000000005</br></br>sepal length (cm): 6.1</br>sepal width (cm): 2.8</br>petal width (cm): 1.2</br>_original_yhat_: 0.8123438363032037</br>"
          ],
          [
           "</br>id: 73</br>prediction: 0.228</br>petal length (cm): 5.720000000000001</br></br>sepal length (cm): 6.1</br>sepal width (cm): 2.8</br>petal width (cm): 1.2</br>_original_yhat_: 0.8123438363032037</br>"
          ],
          [
           "</br>id: 73</br>prediction: 0.202</br>petal length (cm): 5.779</br></br>sepal length (cm): 6.1</br>sepal width (cm): 2.8</br>petal width (cm): 1.2</br>_original_yhat_: 0.8123438363032037</br>"
          ],
          [
           "</br>id: 73</br>prediction: 0.178</br>petal length (cm): 5.838</br></br>sepal length (cm): 6.1</br>sepal width (cm): 2.8</br>petal width (cm): 1.2</br>_original_yhat_: 0.8123438363032037</br>"
          ],
          [
           "</br>id: 73</br>prediction: 0.156</br>petal length (cm): 5.897</br></br>sepal length (cm): 6.1</br>sepal width (cm): 2.8</br>petal width (cm): 1.2</br>_original_yhat_: 0.8123438363032037</br>"
          ],
          [
           "</br>id: 73</br>prediction: 0.137</br>petal length (cm): 5.956</br></br>sepal length (cm): 6.1</br>sepal width (cm): 2.8</br>petal width (cm): 1.2</br>_original_yhat_: 0.8123438363032037</br>"
          ],
          [
           "</br>id: 73</br>prediction: 0.119</br>petal length (cm): 6.015000000000001</br></br>sepal length (cm): 6.1</br>sepal width (cm): 2.8</br>petal width (cm): 1.2</br>_original_yhat_: 0.8123438363032037</br>"
          ],
          [
           "</br>id: 73</br>prediction: 0.104</br>petal length (cm): 6.074000000000001</br></br>sepal length (cm): 6.1</br>sepal width (cm): 2.8</br>petal width (cm): 1.2</br>_original_yhat_: 0.8123438363032037</br>"
          ],
          [
           "</br>id: 73</br>prediction: 0.09</br>petal length (cm): 6.133</br></br>sepal length (cm): 6.1</br>sepal width (cm): 2.8</br>petal width (cm): 1.2</br>_original_yhat_: 0.8123438363032037</br>"
          ],
          [
           "</br>id: 73</br>prediction: 0.078</br>petal length (cm): 6.192</br></br>sepal length (cm): 6.1</br>sepal width (cm): 2.8</br>petal width (cm): 1.2</br>_original_yhat_: 0.8123438363032037</br>"
          ],
          [
           "</br>id: 73</br>prediction: 0.067</br>petal length (cm): 6.251</br></br>sepal length (cm): 6.1</br>sepal width (cm): 2.8</br>petal width (cm): 1.2</br>_original_yhat_: 0.8123438363032037</br>"
          ],
          [
           "</br>id: 73</br>prediction: 0.058</br>petal length (cm): 6.3100000000000005</br></br>sepal length (cm): 6.1</br>sepal width (cm): 2.8</br>petal width (cm): 1.2</br>_original_yhat_: 0.8123438363032037</br>"
          ],
          [
           "</br>id: 73</br>prediction: 0.05</br>petal length (cm): 6.369000000000001</br></br>sepal length (cm): 6.1</br>sepal width (cm): 2.8</br>petal width (cm): 1.2</br>_original_yhat_: 0.8123438363032037</br>"
          ],
          [
           "</br>id: 73</br>prediction: 0.043</br>petal length (cm): 6.428</br></br>sepal length (cm): 6.1</br>sepal width (cm): 2.8</br>petal width (cm): 1.2</br>_original_yhat_: 0.8123438363032037</br>"
          ],
          [
           "</br>id: 73</br>prediction: 0.037</br>petal length (cm): 6.487</br></br>sepal length (cm): 6.1</br>sepal width (cm): 2.8</br>petal width (cm): 1.2</br>_original_yhat_: 0.8123438363032037</br>"
          ],
          [
           "</br>id: 73</br>prediction: 0.032</br>petal length (cm): 6.546</br></br>sepal length (cm): 6.1</br>sepal width (cm): 2.8</br>petal width (cm): 1.2</br>_original_yhat_: 0.8123438363032037</br>"
          ],
          [
           "</br>id: 73</br>prediction: 0.027</br>petal length (cm): 6.605</br></br>sepal length (cm): 6.1</br>sepal width (cm): 2.8</br>petal width (cm): 1.2</br>_original_yhat_: 0.8123438363032037</br>"
          ],
          [
           "</br>id: 73</br>prediction: 0.024</br>petal length (cm): 6.664000000000001</br></br>sepal length (cm): 6.1</br>sepal width (cm): 2.8</br>petal width (cm): 1.2</br>_original_yhat_: 0.8123438363032037</br>"
          ],
          [
           "</br>id: 73</br>prediction: 0.02</br>petal length (cm): 6.723000000000001</br></br>sepal length (cm): 6.1</br>sepal width (cm): 2.8</br>petal width (cm): 1.2</br>_original_yhat_: 0.8123438363032037</br>"
          ],
          [
           "</br>id: 73</br>prediction: 0.017</br>petal length (cm): 6.782</br></br>sepal length (cm): 6.1</br>sepal width (cm): 2.8</br>petal width (cm): 1.2</br>_original_yhat_: 0.8123438363032037</br>"
          ],
          [
           "</br>id: 73</br>prediction: 0.015</br>petal length (cm): 6.841</br></br>sepal length (cm): 6.1</br>sepal width (cm): 2.8</br>petal width (cm): 1.2</br>_original_yhat_: 0.8123438363032037</br>"
          ],
          [
           "</br>id: 73</br>prediction: 0.013</br>petal length (cm): 6.9</br></br>sepal length (cm): 6.1</br>sepal width (cm): 2.8</br>petal width (cm): 1.2</br>_original_yhat_: 0.8123438363032037</br>"
          ]
         ],
         "hovertemplate": "%{customdata[0]}<extra></extra>",
         "legendgroup": "Logistic Regression",
         "line": {
          "color": "#46bac2",
          "dash": "solid",
          "width": 2
         },
         "marker": {
          "symbol": "circle"
         },
         "mode": "lines",
         "name": "Logistic Regression",
         "opacity": 1,
         "orientation": "v",
         "showlegend": false,
         "type": "scatter",
         "x": [
          1,
          1.059,
          1.118,
          1.177,
          1.236,
          1.295,
          1.354,
          1.413,
          1.472,
          1.5310000000000001,
          1.59,
          1.649,
          1.7080000000000002,
          1.767,
          1.826,
          1.885,
          1.944,
          2.003,
          2.0620000000000003,
          2.121,
          2.18,
          2.239,
          2.298,
          2.357,
          2.4160000000000004,
          2.475,
          2.534,
          2.593,
          2.652,
          2.7110000000000003,
          2.77,
          2.829,
          2.888,
          2.947,
          3.0060000000000002,
          3.065,
          3.124,
          3.1830000000000003,
          3.242,
          3.301,
          3.3600000000000003,
          3.419,
          3.478,
          3.5370000000000004,
          3.596,
          3.6550000000000002,
          3.714,
          3.773,
          3.8320000000000003,
          3.891,
          3.95,
          4.009,
          4.068,
          4.127000000000001,
          4.186,
          4.245,
          4.304,
          4.363,
          4.422000000000001,
          4.481,
          4.54,
          4.599,
          4.658,
          4.7,
          4.7170000000000005,
          4.776,
          4.835000000000001,
          4.894,
          4.953,
          5.0120000000000005,
          5.071000000000001,
          5.13,
          5.189,
          5.248,
          5.307,
          5.3660000000000005,
          5.425000000000001,
          5.484,
          5.543,
          5.602,
          5.6610000000000005,
          5.720000000000001,
          5.779,
          5.838,
          5.897,
          5.956,
          6.015000000000001,
          6.074000000000001,
          6.133,
          6.192,
          6.251,
          6.3100000000000005,
          6.369000000000001,
          6.428,
          6.487,
          6.546,
          6.605,
          6.664000000000001,
          6.723000000000001,
          6.782,
          6.841,
          6.9
         ],
         "xaxis": "x",
         "y": [
          0.07976460670412272,
          0.08929975531140717,
          0.099851056304613,
          0.11149640951555577,
          0.1243123415416063,
          0.13837194894649973,
          0.15374246487881074,
          0.17048246880969814,
          0.18863879077473247,
          0.20824319976763736,
          0.22930900877382093,
          0.25182777278434193,
          0.27576629580322676,
          0.30106419179518723,
          0.3276322554948353,
          0.3553518852874967,
          0.38407575726202325,
          0.413629875921142,
          0.443817026678715,
          0.4744215372739708,
          0.5052151333221453,
          0.5359635638029413,
          0.5664335915015372,
          0.5963999038746561,
          0.6256515078726358,
          0.6539972265798961,
          0.6812700074300335,
          0.7073298670513889,
          0.7320654199092786,
          0.7553940510395245,
          0.7772608849883579,
          0.7976367662733876,
          0.8165154992393279,
          0.8339105995908185,
          0.8498517917162808,
          0.8643814522204428,
          0.8775511579682158,
          0.8894184525705572,
          0.900043903284706,
          0.9094884838012629,
          0.91781128892064,
          0.9250675650937457,
          0.9313070258348183,
          0.9365724122752429,
          0.9408982556118644,
          0.9443097989398698,
          0.9468220401408205,
          0.9484388645481452,
          0.9491522457236706,
          0.9489415047894287,
          0.9477726335225362,
          0.9455977041368251,
          0.942354409684264,
          0.9379658035401981,
          0.9323403343816061,
          0.9253723036752382,
          0.9169429041636628,
          0.9069220268413593,
          0.8951710450823385,
          0.8815467901155044,
          0.865906911661911,
          0.8481167591264159,
          0.8280578100700045,
          0.8123438363032037,
          0.8056375047486919,
          0.7808001172884163,
          0.7535380184981472,
          0.7239023946496217,
          0.6920122345298078,
          0.658060254637168,
          0.6223144741801256,
          0.5851144334977936,
          0.5468615826565031,
          0.5080040970909154,
          0.46901718241489077,
          0.43038064423080885,
          0.3925559545667723,
          0.3559651311613054,
          0.3209734376813331,
          0.2878772899399226,
          0.2568979653603604,
          0.228180933181732,
          0.20179999614687477,
          0.1777650443734475,
          0.15603208356431789,
          0.1365142726001678,
          0.11909292009282338,
          0.1036276710728059,
          0.08996540171758188,
          0.07794759061390232,
          0.06741612899361894,
          0.058217665562471814,
          0.050206660271252326,
          0.043247357014697445,
          0.03721489024382189,
          0.031995726052664014,
          0.027487613353859415,
          0.023599191688912523,
          0.020249373204367926,
          0.01736658978919202,
          0.014887973479588626,
          0.01275851933451274
         ],
         "yaxis": "y"
        },
        {
         "customdata": [
          [
           "</br>id: 73</br>prediction: 0.978</br>petal width (cm): 0.1</br></br>sepal length (cm): 6.1</br>sepal width (cm): 2.8</br>petal length (cm): 4.7</br>_original_yhat_: 0.8123438363032037</br>"
          ],
          [
           "</br>id: 73</br>prediction: 0.977</br>petal width (cm): 0.122</br></br>sepal length (cm): 6.1</br>sepal width (cm): 2.8</br>petal length (cm): 4.7</br>_original_yhat_: 0.8123438363032037</br>"
          ],
          [
           "</br>id: 73</br>prediction: 0.976</br>petal width (cm): 0.14400000000000002</br></br>sepal length (cm): 6.1</br>sepal width (cm): 2.8</br>petal length (cm): 4.7</br>_original_yhat_: 0.8123438363032037</br>"
          ],
          [
           "</br>id: 73</br>prediction: 0.975</br>petal width (cm): 0.166</br></br>sepal length (cm): 6.1</br>sepal width (cm): 2.8</br>petal length (cm): 4.7</br>_original_yhat_: 0.8123438363032037</br>"
          ],
          [
           "</br>id: 73</br>prediction: 0.974</br>petal width (cm): 0.188</br></br>sepal length (cm): 6.1</br>sepal width (cm): 2.8</br>petal length (cm): 4.7</br>_original_yhat_: 0.8123438363032037</br>"
          ],
          [
           "</br>id: 73</br>prediction: 0.973</br>petal width (cm): 0.21</br></br>sepal length (cm): 6.1</br>sepal width (cm): 2.8</br>petal length (cm): 4.7</br>_original_yhat_: 0.8123438363032037</br>"
          ],
          [
           "</br>id: 73</br>prediction: 0.972</br>petal width (cm): 0.232</br></br>sepal length (cm): 6.1</br>sepal width (cm): 2.8</br>petal length (cm): 4.7</br>_original_yhat_: 0.8123438363032037</br>"
          ],
          [
           "</br>id: 73</br>prediction: 0.971</br>petal width (cm): 0.254</br></br>sepal length (cm): 6.1</br>sepal width (cm): 2.8</br>petal length (cm): 4.7</br>_original_yhat_: 0.8123438363032037</br>"
          ],
          [
           "</br>id: 73</br>prediction: 0.97</br>petal width (cm): 0.276</br></br>sepal length (cm): 6.1</br>sepal width (cm): 2.8</br>petal length (cm): 4.7</br>_original_yhat_: 0.8123438363032037</br>"
          ],
          [
           "</br>id: 73</br>prediction: 0.969</br>petal width (cm): 0.298</br></br>sepal length (cm): 6.1</br>sepal width (cm): 2.8</br>petal length (cm): 4.7</br>_original_yhat_: 0.8123438363032037</br>"
          ],
          [
           "</br>id: 73</br>prediction: 0.968</br>petal width (cm): 0.31999999999999995</br></br>sepal length (cm): 6.1</br>sepal width (cm): 2.8</br>petal length (cm): 4.7</br>_original_yhat_: 0.8123438363032037</br>"
          ],
          [
           "</br>id: 73</br>prediction: 0.966</br>petal width (cm): 0.34199999999999997</br></br>sepal length (cm): 6.1</br>sepal width (cm): 2.8</br>petal length (cm): 4.7</br>_original_yhat_: 0.8123438363032037</br>"
          ],
          [
           "</br>id: 73</br>prediction: 0.965</br>petal width (cm): 0.364</br></br>sepal length (cm): 6.1</br>sepal width (cm): 2.8</br>petal length (cm): 4.7</br>_original_yhat_: 0.8123438363032037</br>"
          ],
          [
           "</br>id: 73</br>prediction: 0.963</br>petal width (cm): 0.386</br></br>sepal length (cm): 6.1</br>sepal width (cm): 2.8</br>petal length (cm): 4.7</br>_original_yhat_: 0.8123438363032037</br>"
          ],
          [
           "</br>id: 73</br>prediction: 0.962</br>petal width (cm): 0.40800000000000003</br></br>sepal length (cm): 6.1</br>sepal width (cm): 2.8</br>petal length (cm): 4.7</br>_original_yhat_: 0.8123438363032037</br>"
          ],
          [
           "</br>id: 73</br>prediction: 0.96</br>petal width (cm): 0.42999999999999994</br></br>sepal length (cm): 6.1</br>sepal width (cm): 2.8</br>petal length (cm): 4.7</br>_original_yhat_: 0.8123438363032037</br>"
          ],
          [
           "</br>id: 73</br>prediction: 0.958</br>petal width (cm): 0.45199999999999996</br></br>sepal length (cm): 6.1</br>sepal width (cm): 2.8</br>petal length (cm): 4.7</br>_original_yhat_: 0.8123438363032037</br>"
          ],
          [
           "</br>id: 73</br>prediction: 0.956</br>petal width (cm): 0.474</br></br>sepal length (cm): 6.1</br>sepal width (cm): 2.8</br>petal length (cm): 4.7</br>_original_yhat_: 0.8123438363032037</br>"
          ],
          [
           "</br>id: 73</br>prediction: 0.954</br>petal width (cm): 0.496</br></br>sepal length (cm): 6.1</br>sepal width (cm): 2.8</br>petal length (cm): 4.7</br>_original_yhat_: 0.8123438363032037</br>"
          ],
          [
           "</br>id: 73</br>prediction: 0.952</br>petal width (cm): 0.518</br></br>sepal length (cm): 6.1</br>sepal width (cm): 2.8</br>petal length (cm): 4.7</br>_original_yhat_: 0.8123438363032037</br>"
          ],
          [
           "</br>id: 73</br>prediction: 0.95</br>petal width (cm): 0.5399999999999999</br></br>sepal length (cm): 6.1</br>sepal width (cm): 2.8</br>petal length (cm): 4.7</br>_original_yhat_: 0.8123438363032037</br>"
          ],
          [
           "</br>id: 73</br>prediction: 0.948</br>petal width (cm): 0.5619999999999999</br></br>sepal length (cm): 6.1</br>sepal width (cm): 2.8</br>petal length (cm): 4.7</br>_original_yhat_: 0.8123438363032037</br>"
          ],
          [
           "</br>id: 73</br>prediction: 0.946</br>petal width (cm): 0.584</br></br>sepal length (cm): 6.1</br>sepal width (cm): 2.8</br>petal length (cm): 4.7</br>_original_yhat_: 0.8123438363032037</br>"
          ],
          [
           "</br>id: 73</br>prediction: 0.943</br>petal width (cm): 0.606</br></br>sepal length (cm): 6.1</br>sepal width (cm): 2.8</br>petal length (cm): 4.7</br>_original_yhat_: 0.8123438363032037</br>"
          ],
          [
           "</br>id: 73</br>prediction: 0.941</br>petal width (cm): 0.628</br></br>sepal length (cm): 6.1</br>sepal width (cm): 2.8</br>petal length (cm): 4.7</br>_original_yhat_: 0.8123438363032037</br>"
          ],
          [
           "</br>id: 73</br>prediction: 0.938</br>petal width (cm): 0.6499999999999999</br></br>sepal length (cm): 6.1</br>sepal width (cm): 2.8</br>petal length (cm): 4.7</br>_original_yhat_: 0.8123438363032037</br>"
          ],
          [
           "</br>id: 73</br>prediction: 0.935</br>petal width (cm): 0.6719999999999999</br></br>sepal length (cm): 6.1</br>sepal width (cm): 2.8</br>petal length (cm): 4.7</br>_original_yhat_: 0.8123438363032037</br>"
          ],
          [
           "</br>id: 73</br>prediction: 0.932</br>petal width (cm): 0.694</br></br>sepal length (cm): 6.1</br>sepal width (cm): 2.8</br>petal length (cm): 4.7</br>_original_yhat_: 0.8123438363032037</br>"
          ],
          [
           "</br>id: 73</br>prediction: 0.929</br>petal width (cm): 0.716</br></br>sepal length (cm): 6.1</br>sepal width (cm): 2.8</br>petal length (cm): 4.7</br>_original_yhat_: 0.8123438363032037</br>"
          ],
          [
           "</br>id: 73</br>prediction: 0.926</br>petal width (cm): 0.738</br></br>sepal length (cm): 6.1</br>sepal width (cm): 2.8</br>petal length (cm): 4.7</br>_original_yhat_: 0.8123438363032037</br>"
          ],
          [
           "</br>id: 73</br>prediction: 0.922</br>petal width (cm): 0.7599999999999999</br></br>sepal length (cm): 6.1</br>sepal width (cm): 2.8</br>petal length (cm): 4.7</br>_original_yhat_: 0.8123438363032037</br>"
          ],
          [
           "</br>id: 73</br>prediction: 0.919</br>petal width (cm): 0.7819999999999999</br></br>sepal length (cm): 6.1</br>sepal width (cm): 2.8</br>petal length (cm): 4.7</br>_original_yhat_: 0.8123438363032037</br>"
          ],
          [
           "</br>id: 73</br>prediction: 0.915</br>petal width (cm): 0.8039999999999999</br></br>sepal length (cm): 6.1</br>sepal width (cm): 2.8</br>petal length (cm): 4.7</br>_original_yhat_: 0.8123438363032037</br>"
          ],
          [
           "</br>id: 73</br>prediction: 0.911</br>petal width (cm): 0.826</br></br>sepal length (cm): 6.1</br>sepal width (cm): 2.8</br>petal length (cm): 4.7</br>_original_yhat_: 0.8123438363032037</br>"
          ],
          [
           "</br>id: 73</br>prediction: 0.907</br>petal width (cm): 0.848</br></br>sepal length (cm): 6.1</br>sepal width (cm): 2.8</br>petal length (cm): 4.7</br>_original_yhat_: 0.8123438363032037</br>"
          ],
          [
           "</br>id: 73</br>prediction: 0.903</br>petal width (cm): 0.8699999999999999</br></br>sepal length (cm): 6.1</br>sepal width (cm): 2.8</br>petal length (cm): 4.7</br>_original_yhat_: 0.8123438363032037</br>"
          ],
          [
           "</br>id: 73</br>prediction: 0.898</br>petal width (cm): 0.8919999999999999</br></br>sepal length (cm): 6.1</br>sepal width (cm): 2.8</br>petal length (cm): 4.7</br>_original_yhat_: 0.8123438363032037</br>"
          ],
          [
           "</br>id: 73</br>prediction: 0.894</br>petal width (cm): 0.9139999999999999</br></br>sepal length (cm): 6.1</br>sepal width (cm): 2.8</br>petal length (cm): 4.7</br>_original_yhat_: 0.8123438363032037</br>"
          ],
          [
           "</br>id: 73</br>prediction: 0.889</br>petal width (cm): 0.9359999999999999</br></br>sepal length (cm): 6.1</br>sepal width (cm): 2.8</br>petal length (cm): 4.7</br>_original_yhat_: 0.8123438363032037</br>"
          ],
          [
           "</br>id: 73</br>prediction: 0.884</br>petal width (cm): 0.958</br></br>sepal length (cm): 6.1</br>sepal width (cm): 2.8</br>petal length (cm): 4.7</br>_original_yhat_: 0.8123438363032037</br>"
          ],
          [
           "</br>id: 73</br>prediction: 0.878</br>petal width (cm): 0.9799999999999999</br></br>sepal length (cm): 6.1</br>sepal width (cm): 2.8</br>petal length (cm): 4.7</br>_original_yhat_: 0.8123438363032037</br>"
          ],
          [
           "</br>id: 73</br>prediction: 0.873</br>petal width (cm): 1.002</br></br>sepal length (cm): 6.1</br>sepal width (cm): 2.8</br>petal length (cm): 4.7</br>_original_yhat_: 0.8123438363032037</br>"
          ],
          [
           "</br>id: 73</br>prediction: 0.867</br>petal width (cm): 1.024</br></br>sepal length (cm): 6.1</br>sepal width (cm): 2.8</br>petal length (cm): 4.7</br>_original_yhat_: 0.8123438363032037</br>"
          ],
          [
           "</br>id: 73</br>prediction: 0.861</br>petal width (cm): 1.046</br></br>sepal length (cm): 6.1</br>sepal width (cm): 2.8</br>petal length (cm): 4.7</br>_original_yhat_: 0.8123438363032037</br>"
          ],
          [
           "</br>id: 73</br>prediction: 0.855</br>petal width (cm): 1.068</br></br>sepal length (cm): 6.1</br>sepal width (cm): 2.8</br>petal length (cm): 4.7</br>_original_yhat_: 0.8123438363032037</br>"
          ],
          [
           "</br>id: 73</br>prediction: 0.848</br>petal width (cm): 1.09</br></br>sepal length (cm): 6.1</br>sepal width (cm): 2.8</br>petal length (cm): 4.7</br>_original_yhat_: 0.8123438363032037</br>"
          ],
          [
           "</br>id: 73</br>prediction: 0.842</br>petal width (cm): 1.112</br></br>sepal length (cm): 6.1</br>sepal width (cm): 2.8</br>petal length (cm): 4.7</br>_original_yhat_: 0.8123438363032037</br>"
          ],
          [
           "</br>id: 73</br>prediction: 0.835</br>petal width (cm): 1.1340000000000001</br></br>sepal length (cm): 6.1</br>sepal width (cm): 2.8</br>petal length (cm): 4.7</br>_original_yhat_: 0.8123438363032037</br>"
          ],
          [
           "</br>id: 73</br>prediction: 0.828</br>petal width (cm): 1.1560000000000001</br></br>sepal length (cm): 6.1</br>sepal width (cm): 2.8</br>petal length (cm): 4.7</br>_original_yhat_: 0.8123438363032037</br>"
          ],
          [
           "</br>id: 73</br>prediction: 0.82</br>petal width (cm): 1.178</br></br>sepal length (cm): 6.1</br>sepal width (cm): 2.8</br>petal length (cm): 4.7</br>_original_yhat_: 0.8123438363032037</br>"
          ],
          [
           "</br>id: 73</br>prediction: 0.812</br>petal width (cm): 1.2</br></br>sepal length (cm): 6.1</br>sepal width (cm): 2.8</br>petal length (cm): 4.7</br>_original_yhat_: 0.8123438363032037</br>"
          ],
          [
           "</br>id: 73</br>prediction: 0.804</br>petal width (cm): 1.222</br></br>sepal length (cm): 6.1</br>sepal width (cm): 2.8</br>petal length (cm): 4.7</br>_original_yhat_: 0.8123438363032037</br>"
          ],
          [
           "</br>id: 73</br>prediction: 0.796</br>petal width (cm): 1.244</br></br>sepal length (cm): 6.1</br>sepal width (cm): 2.8</br>petal length (cm): 4.7</br>_original_yhat_: 0.8123438363032037</br>"
          ],
          [
           "</br>id: 73</br>prediction: 0.788</br>petal width (cm): 1.266</br></br>sepal length (cm): 6.1</br>sepal width (cm): 2.8</br>petal length (cm): 4.7</br>_original_yhat_: 0.8123438363032037</br>"
          ],
          [
           "</br>id: 73</br>prediction: 0.779</br>petal width (cm): 1.288</br></br>sepal length (cm): 6.1</br>sepal width (cm): 2.8</br>petal length (cm): 4.7</br>_original_yhat_: 0.8123438363032037</br>"
          ],
          [
           "</br>id: 73</br>prediction: 0.77</br>petal width (cm): 1.31</br></br>sepal length (cm): 6.1</br>sepal width (cm): 2.8</br>petal length (cm): 4.7</br>_original_yhat_: 0.8123438363032037</br>"
          ],
          [
           "</br>id: 73</br>prediction: 0.76</br>petal width (cm): 1.332</br></br>sepal length (cm): 6.1</br>sepal width (cm): 2.8</br>petal length (cm): 4.7</br>_original_yhat_: 0.8123438363032037</br>"
          ],
          [
           "</br>id: 73</br>prediction: 0.751</br>petal width (cm): 1.354</br></br>sepal length (cm): 6.1</br>sepal width (cm): 2.8</br>petal length (cm): 4.7</br>_original_yhat_: 0.8123438363032037</br>"
          ],
          [
           "</br>id: 73</br>prediction: 0.741</br>petal width (cm): 1.3760000000000001</br></br>sepal length (cm): 6.1</br>sepal width (cm): 2.8</br>petal length (cm): 4.7</br>_original_yhat_: 0.8123438363032037</br>"
          ],
          [
           "</br>id: 73</br>prediction: 0.731</br>petal width (cm): 1.398</br></br>sepal length (cm): 6.1</br>sepal width (cm): 2.8</br>petal length (cm): 4.7</br>_original_yhat_: 0.8123438363032037</br>"
          ],
          [
           "</br>id: 73</br>prediction: 0.721</br>petal width (cm): 1.42</br></br>sepal length (cm): 6.1</br>sepal width (cm): 2.8</br>petal length (cm): 4.7</br>_original_yhat_: 0.8123438363032037</br>"
          ],
          [
           "</br>id: 73</br>prediction: 0.71</br>petal width (cm): 1.442</br></br>sepal length (cm): 6.1</br>sepal width (cm): 2.8</br>petal length (cm): 4.7</br>_original_yhat_: 0.8123438363032037</br>"
          ],
          [
           "</br>id: 73</br>prediction: 0.699</br>petal width (cm): 1.464</br></br>sepal length (cm): 6.1</br>sepal width (cm): 2.8</br>petal length (cm): 4.7</br>_original_yhat_: 0.8123438363032037</br>"
          ],
          [
           "</br>id: 73</br>prediction: 0.688</br>petal width (cm): 1.486</br></br>sepal length (cm): 6.1</br>sepal width (cm): 2.8</br>petal length (cm): 4.7</br>_original_yhat_: 0.8123438363032037</br>"
          ],
          [
           "</br>id: 73</br>prediction: 0.677</br>petal width (cm): 1.508</br></br>sepal length (cm): 6.1</br>sepal width (cm): 2.8</br>petal length (cm): 4.7</br>_original_yhat_: 0.8123438363032037</br>"
          ],
          [
           "</br>id: 73</br>prediction: 0.665</br>petal width (cm): 1.53</br></br>sepal length (cm): 6.1</br>sepal width (cm): 2.8</br>petal length (cm): 4.7</br>_original_yhat_: 0.8123438363032037</br>"
          ],
          [
           "</br>id: 73</br>prediction: 0.653</br>petal width (cm): 1.552</br></br>sepal length (cm): 6.1</br>sepal width (cm): 2.8</br>petal length (cm): 4.7</br>_original_yhat_: 0.8123438363032037</br>"
          ],
          [
           "</br>id: 73</br>prediction: 0.641</br>petal width (cm): 1.574</br></br>sepal length (cm): 6.1</br>sepal width (cm): 2.8</br>petal length (cm): 4.7</br>_original_yhat_: 0.8123438363032037</br>"
          ],
          [
           "</br>id: 73</br>prediction: 0.629</br>petal width (cm): 1.596</br></br>sepal length (cm): 6.1</br>sepal width (cm): 2.8</br>petal length (cm): 4.7</br>_original_yhat_: 0.8123438363032037</br>"
          ],
          [
           "</br>id: 73</br>prediction: 0.617</br>petal width (cm): 1.618</br></br>sepal length (cm): 6.1</br>sepal width (cm): 2.8</br>petal length (cm): 4.7</br>_original_yhat_: 0.8123438363032037</br>"
          ],
          [
           "</br>id: 73</br>prediction: 0.605</br>petal width (cm): 1.64</br></br>sepal length (cm): 6.1</br>sepal width (cm): 2.8</br>petal length (cm): 4.7</br>_original_yhat_: 0.8123438363032037</br>"
          ],
          [
           "</br>id: 73</br>prediction: 0.592</br>petal width (cm): 1.662</br></br>sepal length (cm): 6.1</br>sepal width (cm): 2.8</br>petal length (cm): 4.7</br>_original_yhat_: 0.8123438363032037</br>"
          ],
          [
           "</br>id: 73</br>prediction: 0.579</br>petal width (cm): 1.684</br></br>sepal length (cm): 6.1</br>sepal width (cm): 2.8</br>petal length (cm): 4.7</br>_original_yhat_: 0.8123438363032037</br>"
          ],
          [
           "</br>id: 73</br>prediction: 0.566</br>petal width (cm): 1.706</br></br>sepal length (cm): 6.1</br>sepal width (cm): 2.8</br>petal length (cm): 4.7</br>_original_yhat_: 0.8123438363032037</br>"
          ],
          [
           "</br>id: 73</br>prediction: 0.554</br>petal width (cm): 1.728</br></br>sepal length (cm): 6.1</br>sepal width (cm): 2.8</br>petal length (cm): 4.7</br>_original_yhat_: 0.8123438363032037</br>"
          ],
          [
           "</br>id: 73</br>prediction: 0.541</br>petal width (cm): 1.75</br></br>sepal length (cm): 6.1</br>sepal width (cm): 2.8</br>petal length (cm): 4.7</br>_original_yhat_: 0.8123438363032037</br>"
          ],
          [
           "</br>id: 73</br>prediction: 0.527</br>petal width (cm): 1.772</br></br>sepal length (cm): 6.1</br>sepal width (cm): 2.8</br>petal length (cm): 4.7</br>_original_yhat_: 0.8123438363032037</br>"
          ],
          [
           "</br>id: 73</br>prediction: 0.514</br>petal width (cm): 1.794</br></br>sepal length (cm): 6.1</br>sepal width (cm): 2.8</br>petal length (cm): 4.7</br>_original_yhat_: 0.8123438363032037</br>"
          ],
          [
           "</br>id: 73</br>prediction: 0.501</br>petal width (cm): 1.816</br></br>sepal length (cm): 6.1</br>sepal width (cm): 2.8</br>petal length (cm): 4.7</br>_original_yhat_: 0.8123438363032037</br>"
          ],
          [
           "</br>id: 73</br>prediction: 0.488</br>petal width (cm): 1.838</br></br>sepal length (cm): 6.1</br>sepal width (cm): 2.8</br>petal length (cm): 4.7</br>_original_yhat_: 0.8123438363032037</br>"
          ],
          [
           "</br>id: 73</br>prediction: 0.475</br>petal width (cm): 1.8599999999999999</br></br>sepal length (cm): 6.1</br>sepal width (cm): 2.8</br>petal length (cm): 4.7</br>_original_yhat_: 0.8123438363032037</br>"
          ],
          [
           "</br>id: 73</br>prediction: 0.462</br>petal width (cm): 1.882</br></br>sepal length (cm): 6.1</br>sepal width (cm): 2.8</br>petal length (cm): 4.7</br>_original_yhat_: 0.8123438363032037</br>"
          ],
          [
           "</br>id: 73</br>prediction: 0.449</br>petal width (cm): 1.904</br></br>sepal length (cm): 6.1</br>sepal width (cm): 2.8</br>petal length (cm): 4.7</br>_original_yhat_: 0.8123438363032037</br>"
          ],
          [
           "</br>id: 73</br>prediction: 0.436</br>petal width (cm): 1.926</br></br>sepal length (cm): 6.1</br>sepal width (cm): 2.8</br>petal length (cm): 4.7</br>_original_yhat_: 0.8123438363032037</br>"
          ],
          [
           "</br>id: 73</br>prediction: 0.423</br>petal width (cm): 1.948</br></br>sepal length (cm): 6.1</br>sepal width (cm): 2.8</br>petal length (cm): 4.7</br>_original_yhat_: 0.8123438363032037</br>"
          ],
          [
           "</br>id: 73</br>prediction: 0.41</br>petal width (cm): 1.97</br></br>sepal length (cm): 6.1</br>sepal width (cm): 2.8</br>petal length (cm): 4.7</br>_original_yhat_: 0.8123438363032037</br>"
          ],
          [
           "</br>id: 73</br>prediction: 0.398</br>petal width (cm): 1.992</br></br>sepal length (cm): 6.1</br>sepal width (cm): 2.8</br>petal length (cm): 4.7</br>_original_yhat_: 0.8123438363032037</br>"
          ],
          [
           "</br>id: 73</br>prediction: 0.385</br>petal width (cm): 2.014</br></br>sepal length (cm): 6.1</br>sepal width (cm): 2.8</br>petal length (cm): 4.7</br>_original_yhat_: 0.8123438363032037</br>"
          ],
          [
           "</br>id: 73</br>prediction: 0.373</br>petal width (cm): 2.036</br></br>sepal length (cm): 6.1</br>sepal width (cm): 2.8</br>petal length (cm): 4.7</br>_original_yhat_: 0.8123438363032037</br>"
          ],
          [
           "</br>id: 73</br>prediction: 0.36</br>petal width (cm): 2.058</br></br>sepal length (cm): 6.1</br>sepal width (cm): 2.8</br>petal length (cm): 4.7</br>_original_yhat_: 0.8123438363032037</br>"
          ],
          [
           "</br>id: 73</br>prediction: 0.348</br>petal width (cm): 2.08</br></br>sepal length (cm): 6.1</br>sepal width (cm): 2.8</br>petal length (cm): 4.7</br>_original_yhat_: 0.8123438363032037</br>"
          ],
          [
           "</br>id: 73</br>prediction: 0.337</br>petal width (cm): 2.102</br></br>sepal length (cm): 6.1</br>sepal width (cm): 2.8</br>petal length (cm): 4.7</br>_original_yhat_: 0.8123438363032037</br>"
          ],
          [
           "</br>id: 73</br>prediction: 0.325</br>petal width (cm): 2.124</br></br>sepal length (cm): 6.1</br>sepal width (cm): 2.8</br>petal length (cm): 4.7</br>_original_yhat_: 0.8123438363032037</br>"
          ],
          [
           "</br>id: 73</br>prediction: 0.313</br>petal width (cm): 2.146</br></br>sepal length (cm): 6.1</br>sepal width (cm): 2.8</br>petal length (cm): 4.7</br>_original_yhat_: 0.8123438363032037</br>"
          ],
          [
           "</br>id: 73</br>prediction: 0.302</br>petal width (cm): 2.168</br></br>sepal length (cm): 6.1</br>sepal width (cm): 2.8</br>petal length (cm): 4.7</br>_original_yhat_: 0.8123438363032037</br>"
          ],
          [
           "</br>id: 73</br>prediction: 0.291</br>petal width (cm): 2.19</br></br>sepal length (cm): 6.1</br>sepal width (cm): 2.8</br>petal length (cm): 4.7</br>_original_yhat_: 0.8123438363032037</br>"
          ],
          [
           "</br>id: 73</br>prediction: 0.28</br>petal width (cm): 2.212</br></br>sepal length (cm): 6.1</br>sepal width (cm): 2.8</br>petal length (cm): 4.7</br>_original_yhat_: 0.8123438363032037</br>"
          ],
          [
           "</br>id: 73</br>prediction: 0.27</br>petal width (cm): 2.234</br></br>sepal length (cm): 6.1</br>sepal width (cm): 2.8</br>petal length (cm): 4.7</br>_original_yhat_: 0.8123438363032037</br>"
          ],
          [
           "</br>id: 73</br>prediction: 0.26</br>petal width (cm): 2.256</br></br>sepal length (cm): 6.1</br>sepal width (cm): 2.8</br>petal length (cm): 4.7</br>_original_yhat_: 0.8123438363032037</br>"
          ],
          [
           "</br>id: 73</br>prediction: 0.25</br>petal width (cm): 2.278</br></br>sepal length (cm): 6.1</br>sepal width (cm): 2.8</br>petal length (cm): 4.7</br>_original_yhat_: 0.8123438363032037</br>"
          ],
          [
           "</br>id: 73</br>prediction: 0.24</br>petal width (cm): 2.3</br></br>sepal length (cm): 6.1</br>sepal width (cm): 2.8</br>petal length (cm): 4.7</br>_original_yhat_: 0.8123438363032037</br>"
          ]
         ],
         "hovertemplate": "%{customdata[0]}<extra></extra>",
         "legendgroup": "Logistic Regression",
         "line": {
          "color": "#46bac2",
          "dash": "solid",
          "width": 2
         },
         "marker": {
          "symbol": "circle"
         },
         "mode": "lines",
         "name": "Logistic Regression",
         "opacity": 1,
         "orientation": "v",
         "showlegend": false,
         "type": "scatter",
         "x": [
          0.1,
          0.122,
          0.14400000000000002,
          0.166,
          0.188,
          0.21,
          0.232,
          0.254,
          0.276,
          0.298,
          0.31999999999999995,
          0.34199999999999997,
          0.364,
          0.386,
          0.40800000000000003,
          0.42999999999999994,
          0.45199999999999996,
          0.474,
          0.496,
          0.518,
          0.5399999999999999,
          0.5619999999999999,
          0.584,
          0.606,
          0.628,
          0.6499999999999999,
          0.6719999999999999,
          0.694,
          0.716,
          0.738,
          0.7599999999999999,
          0.7819999999999999,
          0.8039999999999999,
          0.826,
          0.848,
          0.8699999999999999,
          0.8919999999999999,
          0.9139999999999999,
          0.9359999999999999,
          0.958,
          0.9799999999999999,
          1.002,
          1.024,
          1.046,
          1.068,
          1.09,
          1.112,
          1.1340000000000001,
          1.1560000000000001,
          1.178,
          1.2,
          1.222,
          1.244,
          1.266,
          1.288,
          1.31,
          1.332,
          1.354,
          1.3760000000000001,
          1.398,
          1.42,
          1.442,
          1.464,
          1.486,
          1.508,
          1.53,
          1.552,
          1.574,
          1.596,
          1.618,
          1.64,
          1.662,
          1.684,
          1.706,
          1.728,
          1.75,
          1.772,
          1.794,
          1.816,
          1.838,
          1.8599999999999999,
          1.882,
          1.904,
          1.926,
          1.948,
          1.97,
          1.992,
          2.014,
          2.036,
          2.058,
          2.08,
          2.102,
          2.124,
          2.146,
          2.168,
          2.19,
          2.212,
          2.234,
          2.256,
          2.278,
          2.3
         ],
         "xaxis": "x2",
         "y": [
          0.9778271637087171,
          0.9770238470832906,
          0.9761765036452591,
          0.9752829223836046,
          0.9743407902044577,
          0.9733476882621518,
          0.9723010882784073,
          0.9711983488664742,
          0.9700367118793893,
          0.9688132988040431,
          0.9675251072254937,
          0.9661690073889504,
          0.9647417388900372,
          0.9632399075273813,
          0.9616599823552431,
          0.9599982929777924,
          0.9582510271307653,
          0.9564142286005758,
          0.9544837955354964,
          0.9524554792082524,
          0.9503248832942421,
          0.9480874637345957,
          0.9457385292583421,
          0.9432732426430317,
          0.9406866227981829,
          0.9379735477608128,
          0.9351287586969576,
          0.9321468650074176,
          0.9290223506398079,
          0.9257495817122344,
          0.9223228155563958,
          0.9187362112894351,
          0.9149838420242477,
          0.911059708826993,
          0.9069577565279984,
          0.9026718914878835,
          0.8981960014142968,
          0.8935239773158961,
          0.8886497376688686,
          0.8835672548571217,
          0.8782705839300599,
          0.872753893701363,
          0.8670115001882492,
          0.8610379023631869,
          0.8548278201588682,
          0.8483762346324475,
          0.8416784301567013,
          0.8347300384640549,
          0.8275270843246686,
          0.820066032592414,
          0.8123438363032037,
          0.804357985459463,
          0.7961065560834746,
          0.7875882590719175,
          0.778802488335327,
          0.7697493676607938,
          0.7604297956953993,
          0.7508454884131901,
          0.7409990184015169,
          0.7308938502848462,
          0.72053437159726,
          0.7099259184201724,
          0.6990747951205808,
          0.6879882875584036,
          0.6766746691798546,
          0.6651431994776557,
          0.6534041143780986,
          0.6414686082089566,
          0.6293488070099048,
          0.6170577330668824,
          0.6046092606815734,
          0.592018063324364,
          0.5792995524607572,
          0.5664698084839492,
          0.5535455043265992,
          0.5405438224590202,
          0.5274823661054705,
          0.5143790656214122,
          0.5012520810692928,
          0.4881197021058121,
          0.47500024634747795,
          0.461911957411885,
          0.44887290383865597,
          0.43590088007612443,
          0.4230133106782061,
          0.41022715879175126,
          0.39755883992994506,
          0.38502414192457546,
          0.3726381518322128,
          0.3604151904399358,
          0.34836875487876595,
          0.3365114697111441,
          0.32485504671619875,
          0.31341025345669044,
          0.3021868905775348,
          0.2911937776604963,
          0.2804387473453701,
          0.2699286473265855,
          0.25966934974702827,
          0.24966576743884059,
          0.23992187640436272
         ],
         "yaxis": "y2"
        },
        {
         "customdata": [
          [
           "</br>id: 73</br>prediction: 0.812</br>sepal length (cm): 6.1</br></br>sepal width (cm): 2.8</br>petal length (cm): 4.7</br>petal width (cm): 1.2</br>_original_yhat_: 0.8123438363032037</br>"
          ]
         ],
         "hovertemplate": "%{customdata[0]}<extra></extra>",
         "legendgroup": "",
         "marker": {
          "color": "#371ea3",
          "size": 10,
          "symbol": "circle"
         },
         "mode": "markers",
         "name": "",
         "opacity": 1,
         "orientation": "v",
         "showlegend": false,
         "type": "scatter",
         "x": [
          6.1
         ],
         "xaxis": "x3",
         "y": [
          0.8123438363032037
         ],
         "yaxis": "y3"
        },
        {
         "customdata": [
          [
           "</br>id: 73</br>prediction: 0.812</br>sepal width (cm): 2.8</br></br>sepal length (cm): 6.1</br>petal length (cm): 4.7</br>petal width (cm): 1.2</br>_original_yhat_: 0.8123438363032037</br>"
          ]
         ],
         "hovertemplate": "%{customdata[0]}<extra></extra>",
         "legendgroup": "",
         "marker": {
          "color": "#371ea3",
          "size": 10,
          "symbol": "circle"
         },
         "mode": "markers",
         "name": "",
         "opacity": 1,
         "orientation": "v",
         "showlegend": false,
         "type": "scatter",
         "x": [
          2.8
         ],
         "xaxis": "x4",
         "y": [
          0.8123438363032037
         ],
         "yaxis": "y4"
        },
        {
         "customdata": [
          [
           "</br>id: 73</br>prediction: 0.812</br>petal length (cm): 4.7</br></br>sepal length (cm): 6.1</br>sepal width (cm): 2.8</br>petal width (cm): 1.2</br>_original_yhat_: 0.8123438363032037</br>"
          ]
         ],
         "hovertemplate": "%{customdata[0]}<extra></extra>",
         "legendgroup": "",
         "marker": {
          "color": "#371ea3",
          "size": 10,
          "symbol": "circle"
         },
         "mode": "markers",
         "name": "",
         "opacity": 1,
         "orientation": "v",
         "showlegend": false,
         "type": "scatter",
         "x": [
          4.7
         ],
         "xaxis": "x",
         "y": [
          0.8123438363032037
         ],
         "yaxis": "y"
        },
        {
         "customdata": [
          [
           "</br>id: 73</br>prediction: 0.812</br>petal width (cm): 1.2</br></br>sepal length (cm): 6.1</br>sepal width (cm): 2.8</br>petal length (cm): 4.7</br>_original_yhat_: 0.8123438363032037</br>"
          ]
         ],
         "hovertemplate": "%{customdata[0]}<extra></extra>",
         "legendgroup": "",
         "marker": {
          "color": "#371ea3",
          "size": 10,
          "symbol": "circle"
         },
         "mode": "markers",
         "name": "",
         "opacity": 1,
         "orientation": "v",
         "showlegend": false,
         "type": "scatter",
         "x": [
          1.2
         ],
         "xaxis": "x2",
         "y": [
          0.8123438363032037
         ],
         "yaxis": "y2"
        }
       ],
       "layout": {
        "annotations": [
         {
          "font": {
           "size": 13
          },
          "showarrow": false,
          "text": "petal length (cm)",
          "x": 0.2375,
          "xanchor": "center",
          "xref": "paper",
          "y": 0.425,
          "yanchor": "bottom",
          "yref": "paper"
         },
         {
          "font": {
           "size": 13
          },
          "showarrow": false,
          "text": "petal width (cm)",
          "x": 0.7625,
          "xanchor": "center",
          "xref": "paper",
          "y": 0.425,
          "yanchor": "bottom",
          "yref": "paper"
         },
         {
          "font": {
           "size": 13
          },
          "showarrow": false,
          "text": "sepal length (cm)",
          "x": 0.2375,
          "xanchor": "center",
          "xref": "paper",
          "y": 1,
          "yanchor": "bottom",
          "yref": "paper"
         },
         {
          "font": {
           "size": 13
          },
          "showarrow": false,
          "text": "sepal width (cm)",
          "x": 0.7625,
          "xanchor": "center",
          "xref": "paper",
          "y": 1,
          "yanchor": "bottom",
          "yref": "paper"
         },
         {
          "font": {
           "size": 13
          },
          "showarrow": false,
          "text": "prediction",
          "textangle": -90,
          "x": -0.07,
          "xref": "paper",
          "y": 0.5,
          "yref": "paper"
         }
        ],
        "font": {
         "color": "#371ea3"
        },
        "height": 829,
        "hoverlabel": {
         "bgcolor": "rgba(0,0,0,0.8)"
        },
        "hovermode": "closest",
        "legend": {
         "font": {
          "size": 11
         },
         "itemsizing": "constant",
         "orientation": "h",
         "title": {
          "font": {
           "size": 12
          },
          "text": "label"
         },
         "tracegroupgap": 0,
         "x": 1,
         "xanchor": "right",
         "y": 1.0361881785283473,
         "yanchor": "bottom"
        },
        "margin": {
         "b": 71,
         "r": 30,
         "t": 78
        },
        "template": {
         "data": {
          "scatter": [
           {
            "type": "scatter"
           }
          ]
         }
        },
        "title": {
         "font": {
          "size": 16
         },
         "text": "Ceteris Paribus Profiles",
         "x": 0.15
        },
        "xaxis": {
         "anchor": "y",
         "automargin": true,
         "domain": [
          0,
          0.475
         ],
         "fixedrange": true,
         "gridwidth": 2,
         "showticklabels": true,
         "tickcolor": "white",
         "ticklen": 3,
         "ticks": "outside",
         "title": {
          "text": ""
         },
         "type": "linear",
         "zeroline": false
        },
        "xaxis2": {
         "anchor": "y2",
         "automargin": true,
         "domain": [
          0.525,
          1
         ],
         "fixedrange": true,
         "gridwidth": 2,
         "showticklabels": true,
         "tickcolor": "white",
         "ticklen": 3,
         "ticks": "outside",
         "title": {
          "text": ""
         },
         "type": "linear",
         "zeroline": false
        },
        "xaxis3": {
         "anchor": "y3",
         "automargin": true,
         "domain": [
          0,
          0.475
         ],
         "fixedrange": true,
         "gridwidth": 2,
         "showticklabels": true,
         "tickcolor": "white",
         "ticklen": 3,
         "ticks": "outside",
         "title": {
          "text": ""
         },
         "type": "linear",
         "zeroline": false
        },
        "xaxis4": {
         "anchor": "y4",
         "automargin": true,
         "domain": [
          0.525,
          1
         ],
         "fixedrange": true,
         "gridwidth": 2,
         "showticklabels": true,
         "tickcolor": "white",
         "ticklen": 3,
         "ticks": "outside",
         "title": {
          "text": ""
         },
         "type": "linear",
         "zeroline": false
        },
        "yaxis": {
         "anchor": "x",
         "automargin": true,
         "domain": [
          0,
          0.425
         ],
         "fixedrange": true,
         "gridwidth": 2,
         "range": [
          -0.08374834510290771,
          1.0743340281461375
         ],
         "tickcolor": "white",
         "ticklen": 3,
         "ticks": "outside",
         "title": {
          "text": ""
         },
         "type": "linear",
         "zeroline": false
        },
        "yaxis2": {
         "anchor": "x2",
         "automargin": true,
         "domain": [
          0,
          0.425
         ],
         "fixedrange": true,
         "gridwidth": 2,
         "matches": "y",
         "range": [
          -0.08374834510290771,
          1.0743340281461375
         ],
         "showticklabels": false,
         "tickcolor": "white",
         "ticklen": 3,
         "ticks": "outside",
         "title": {
          "text": ""
         },
         "type": "linear",
         "zeroline": false
        },
        "yaxis3": {
         "anchor": "x3",
         "automargin": true,
         "domain": [
          0.575,
          1
         ],
         "fixedrange": true,
         "gridwidth": 2,
         "matches": "y",
         "range": [
          -0.08374834510290771,
          1.0743340281461375
         ],
         "tickcolor": "white",
         "ticklen": 3,
         "ticks": "outside",
         "title": {
          "text": ""
         },
         "type": "linear",
         "zeroline": false
        },
        "yaxis4": {
         "anchor": "x4",
         "automargin": true,
         "domain": [
          0.575,
          1
         ],
         "fixedrange": true,
         "gridwidth": 2,
         "matches": "y",
         "range": [
          -0.08374834510290771,
          1.0743340281461375
         ],
         "showticklabels": false,
         "tickcolor": "white",
         "ticklen": 3,
         "ticks": "outside",
         "title": {
          "text": ""
         },
         "type": "linear",
         "zeroline": false
        }
       }
      }
     },
     "metadata": {},
     "output_type": "display_data"
    },
    {
     "name": "stderr",
     "output_type": "stream",
     "text": [
      "Calculating ceteris paribus: 100%|██████████| 1/1 [00:00<00:00,  9.12it/s]\n",
      "Calculating accumulated dependency: 100%|██████████| 1/1 [00:00<00:00,  8.91it/s]\n"
     ]
    },
    {
     "data": {
      "application/vnd.plotly.v1+json": {
       "config": {
        "displaylogo": false,
        "modeBarButtonsToRemove": [
         "sendDataToCloud",
         "lasso2d",
         "autoScale2d",
         "select2d",
         "zoom2d",
         "pan2d",
         "zoomIn2d",
         "zoomOut2d",
         "resetScale2d",
         "toggleSpikelines",
         "hoverCompareCartesian",
         "hoverClosestCartesian"
        ],
        "plotlyServerURL": "https://plot.ly",
        "staticPlot": false,
        "toImageButtonOptions": {
         "height": null,
         "width": null
        }
       },
       "data": [
        {
         "customdata": [
          [
           0.28733333333333333,
           "Random Forest",
           "sepal length (cm)"
          ],
          [
           0.28733333333333333,
           "Random Forest",
           "sepal length (cm)"
          ],
          [
           0.28733333333333333,
           "Random Forest",
           "sepal length (cm)"
          ],
          [
           0.28733333333333333,
           "Random Forest",
           "sepal length (cm)"
          ],
          [
           0.28733333333333333,
           "Random Forest",
           "sepal length (cm)"
          ],
          [
           0.28733333333333333,
           "Random Forest",
           "sepal length (cm)"
          ],
          [
           0.28733333333333333,
           "Random Forest",
           "sepal length (cm)"
          ],
          [
           0.28733333333333333,
           "Random Forest",
           "sepal length (cm)"
          ],
          [
           0.28733333333333333,
           "Random Forest",
           "sepal length (cm)"
          ],
          [
           0.28733333333333333,
           "Random Forest",
           "sepal length (cm)"
          ],
          [
           0.28733333333333333,
           "Random Forest",
           "sepal length (cm)"
          ],
          [
           0.28733333333333333,
           "Random Forest",
           "sepal length (cm)"
          ],
          [
           0.28733333333333333,
           "Random Forest",
           "sepal length (cm)"
          ],
          [
           0.28733333333333333,
           "Random Forest",
           "sepal length (cm)"
          ],
          [
           0.28733333333333333,
           "Random Forest",
           "sepal length (cm)"
          ],
          [
           0.28733333333333333,
           "Random Forest",
           "sepal length (cm)"
          ],
          [
           0.28733333333333333,
           "Random Forest",
           "sepal length (cm)"
          ],
          [
           0.28733333333333333,
           "Random Forest",
           "sepal length (cm)"
          ],
          [
           0.28733333333333333,
           "Random Forest",
           "sepal length (cm)"
          ],
          [
           0.28733333333333333,
           "Random Forest",
           "sepal length (cm)"
          ],
          [
           0.28733333333333333,
           "Random Forest",
           "sepal length (cm)"
          ],
          [
           0.28733333333333333,
           "Random Forest",
           "sepal length (cm)"
          ],
          [
           0.28733333333333333,
           "Random Forest",
           "sepal length (cm)"
          ],
          [
           0.28733333333333333,
           "Random Forest",
           "sepal length (cm)"
          ],
          [
           0.28733333333333333,
           "Random Forest",
           "sepal length (cm)"
          ],
          [
           0.28733333333333333,
           "Random Forest",
           "sepal length (cm)"
          ],
          [
           0.28733333333333333,
           "Random Forest",
           "sepal length (cm)"
          ],
          [
           0.28733333333333333,
           "Random Forest",
           "sepal length (cm)"
          ],
          [
           0.28733333333333333,
           "Random Forest",
           "sepal length (cm)"
          ],
          [
           0.28733333333333333,
           "Random Forest",
           "sepal length (cm)"
          ],
          [
           0.28733333333333333,
           "Random Forest",
           "sepal length (cm)"
          ],
          [
           0.28733333333333333,
           "Random Forest",
           "sepal length (cm)"
          ],
          [
           0.28733333333333333,
           "Random Forest",
           "sepal length (cm)"
          ],
          [
           0.28733333333333333,
           "Random Forest",
           "sepal length (cm)"
          ],
          [
           0.28733333333333333,
           "Random Forest",
           "sepal length (cm)"
          ],
          [
           0.28733333333333333,
           "Random Forest",
           "sepal length (cm)"
          ],
          [
           0.28733333333333333,
           "Random Forest",
           "sepal length (cm)"
          ],
          [
           0.28733333333333333,
           "Random Forest",
           "sepal length (cm)"
          ],
          [
           0.28733333333333333,
           "Random Forest",
           "sepal length (cm)"
          ],
          [
           0.28733333333333333,
           "Random Forest",
           "sepal length (cm)"
          ],
          [
           0.28733333333333333,
           "Random Forest",
           "sepal length (cm)"
          ],
          [
           0.28733333333333333,
           "Random Forest",
           "sepal length (cm)"
          ],
          [
           0.28733333333333333,
           "Random Forest",
           "sepal length (cm)"
          ],
          [
           0.28733333333333333,
           "Random Forest",
           "sepal length (cm)"
          ],
          [
           0.28733333333333333,
           "Random Forest",
           "sepal length (cm)"
          ],
          [
           0.28733333333333333,
           "Random Forest",
           "sepal length (cm)"
          ],
          [
           0.28733333333333333,
           "Random Forest",
           "sepal length (cm)"
          ],
          [
           0.28733333333333333,
           "Random Forest",
           "sepal length (cm)"
          ],
          [
           0.28733333333333333,
           "Random Forest",
           "sepal length (cm)"
          ],
          [
           0.28733333333333333,
           "Random Forest",
           "sepal length (cm)"
          ],
          [
           0.28733333333333333,
           "Random Forest",
           "sepal length (cm)"
          ],
          [
           0.28733333333333333,
           "Random Forest",
           "sepal length (cm)"
          ],
          [
           0.28733333333333333,
           "Random Forest",
           "sepal length (cm)"
          ],
          [
           0.28733333333333333,
           "Random Forest",
           "sepal length (cm)"
          ],
          [
           0.28733333333333333,
           "Random Forest",
           "sepal length (cm)"
          ],
          [
           0.28733333333333333,
           "Random Forest",
           "sepal length (cm)"
          ],
          [
           0.28733333333333333,
           "Random Forest",
           "sepal length (cm)"
          ],
          [
           0.28733333333333333,
           "Random Forest",
           "sepal length (cm)"
          ],
          [
           0.28733333333333333,
           "Random Forest",
           "sepal length (cm)"
          ],
          [
           0.28733333333333333,
           "Random Forest",
           "sepal length (cm)"
          ],
          [
           0.28733333333333333,
           "Random Forest",
           "sepal length (cm)"
          ],
          [
           0.28733333333333333,
           "Random Forest",
           "sepal length (cm)"
          ],
          [
           0.28733333333333333,
           "Random Forest",
           "sepal length (cm)"
          ],
          [
           0.28733333333333333,
           "Random Forest",
           "sepal length (cm)"
          ],
          [
           0.28733333333333333,
           "Random Forest",
           "sepal length (cm)"
          ],
          [
           0.28733333333333333,
           "Random Forest",
           "sepal length (cm)"
          ],
          [
           0.28733333333333333,
           "Random Forest",
           "sepal length (cm)"
          ],
          [
           0.28733333333333333,
           "Random Forest",
           "sepal length (cm)"
          ],
          [
           0.28733333333333333,
           "Random Forest",
           "sepal length (cm)"
          ],
          [
           0.28733333333333333,
           "Random Forest",
           "sepal length (cm)"
          ],
          [
           0.28733333333333333,
           "Random Forest",
           "sepal length (cm)"
          ],
          [
           0.28733333333333333,
           "Random Forest",
           "sepal length (cm)"
          ],
          [
           0.28733333333333333,
           "Random Forest",
           "sepal length (cm)"
          ],
          [
           0.28733333333333333,
           "Random Forest",
           "sepal length (cm)"
          ],
          [
           0.28733333333333333,
           "Random Forest",
           "sepal length (cm)"
          ],
          [
           0.28733333333333333,
           "Random Forest",
           "sepal length (cm)"
          ],
          [
           0.28733333333333333,
           "Random Forest",
           "sepal length (cm)"
          ],
          [
           0.28733333333333333,
           "Random Forest",
           "sepal length (cm)"
          ],
          [
           0.28733333333333333,
           "Random Forest",
           "sepal length (cm)"
          ],
          [
           0.28733333333333333,
           "Random Forest",
           "sepal length (cm)"
          ],
          [
           0.28733333333333333,
           "Random Forest",
           "sepal length (cm)"
          ],
          [
           0.28733333333333333,
           "Random Forest",
           "sepal length (cm)"
          ],
          [
           0.28733333333333333,
           "Random Forest",
           "sepal length (cm)"
          ],
          [
           0.28733333333333333,
           "Random Forest",
           "sepal length (cm)"
          ],
          [
           0.28733333333333333,
           "Random Forest",
           "sepal length (cm)"
          ],
          [
           0.28733333333333333,
           "Random Forest",
           "sepal length (cm)"
          ],
          [
           0.28733333333333333,
           "Random Forest",
           "sepal length (cm)"
          ],
          [
           0.28733333333333333,
           "Random Forest",
           "sepal length (cm)"
          ],
          [
           0.28733333333333333,
           "Random Forest",
           "sepal length (cm)"
          ],
          [
           0.28733333333333333,
           "Random Forest",
           "sepal length (cm)"
          ],
          [
           0.28733333333333333,
           "Random Forest",
           "sepal length (cm)"
          ],
          [
           0.28733333333333333,
           "Random Forest",
           "sepal length (cm)"
          ],
          [
           0.28733333333333333,
           "Random Forest",
           "sepal length (cm)"
          ],
          [
           0.28733333333333333,
           "Random Forest",
           "sepal length (cm)"
          ],
          [
           0.28733333333333333,
           "Random Forest",
           "sepal length (cm)"
          ],
          [
           0.28733333333333333,
           "Random Forest",
           "sepal length (cm)"
          ],
          [
           0.28733333333333333,
           "Random Forest",
           "sepal length (cm)"
          ],
          [
           0.28733333333333333,
           "Random Forest",
           "sepal length (cm)"
          ],
          [
           0.28733333333333333,
           "Random Forest",
           "sepal length (cm)"
          ],
          [
           0.28733333333333333,
           "Random Forest",
           "sepal length (cm)"
          ],
          [
           0.28733333333333333,
           "Random Forest",
           "sepal length (cm)"
          ]
         ],
         "hovertemplate": "<b>%{hovertext}</b><br><br>prediction=%{y:.3f}<br>mean_prediction=%{customdata[0]:.3f}<extra></extra>",
         "hovertext": [
          "Random Forest",
          "Random Forest",
          "Random Forest",
          "Random Forest",
          "Random Forest",
          "Random Forest",
          "Random Forest",
          "Random Forest",
          "Random Forest",
          "Random Forest",
          "Random Forest",
          "Random Forest",
          "Random Forest",
          "Random Forest",
          "Random Forest",
          "Random Forest",
          "Random Forest",
          "Random Forest",
          "Random Forest",
          "Random Forest",
          "Random Forest",
          "Random Forest",
          "Random Forest",
          "Random Forest",
          "Random Forest",
          "Random Forest",
          "Random Forest",
          "Random Forest",
          "Random Forest",
          "Random Forest",
          "Random Forest",
          "Random Forest",
          "Random Forest",
          "Random Forest",
          "Random Forest",
          "Random Forest",
          "Random Forest",
          "Random Forest",
          "Random Forest",
          "Random Forest",
          "Random Forest",
          "Random Forest",
          "Random Forest",
          "Random Forest",
          "Random Forest",
          "Random Forest",
          "Random Forest",
          "Random Forest",
          "Random Forest",
          "Random Forest",
          "Random Forest",
          "Random Forest",
          "Random Forest",
          "Random Forest",
          "Random Forest",
          "Random Forest",
          "Random Forest",
          "Random Forest",
          "Random Forest",
          "Random Forest",
          "Random Forest",
          "Random Forest",
          "Random Forest",
          "Random Forest",
          "Random Forest",
          "Random Forest",
          "Random Forest",
          "Random Forest",
          "Random Forest",
          "Random Forest",
          "Random Forest",
          "Random Forest",
          "Random Forest",
          "Random Forest",
          "Random Forest",
          "Random Forest",
          "Random Forest",
          "Random Forest",
          "Random Forest",
          "Random Forest",
          "Random Forest",
          "Random Forest",
          "Random Forest",
          "Random Forest",
          "Random Forest",
          "Random Forest",
          "Random Forest",
          "Random Forest",
          "Random Forest",
          "Random Forest",
          "Random Forest",
          "Random Forest",
          "Random Forest",
          "Random Forest",
          "Random Forest",
          "Random Forest",
          "Random Forest",
          "Random Forest",
          "Random Forest",
          "Random Forest",
          "Random Forest"
         ],
         "legendgroup": "Random Forest",
         "line": {
          "color": "#46bac2",
          "dash": "solid",
          "width": 2
         },
         "marker": {
          "symbol": "circle"
         },
         "mode": "lines",
         "name": "Random Forest",
         "opacity": 1,
         "orientation": "v",
         "showlegend": true,
         "type": "scatter",
         "x": [
          4.4,
          4.4350000000000005,
          4.470000000000001,
          4.505000000000001,
          4.54,
          4.575,
          4.61,
          4.6450000000000005,
          4.680000000000001,
          4.715000000000001,
          4.75,
          4.785,
          4.82,
          4.855,
          4.890000000000001,
          4.925000000000001,
          4.960000000000001,
          4.995,
          5.03,
          5.065,
          5.1000000000000005,
          5.135000000000001,
          5.17,
          5.205,
          5.24,
          5.275,
          5.3100000000000005,
          5.345000000000001,
          5.380000000000001,
          5.415000000000001,
          5.45,
          5.485,
          5.5200000000000005,
          5.555000000000001,
          5.590000000000001,
          5.625,
          5.66,
          5.695,
          5.73,
          5.765000000000001,
          5.800000000000001,
          5.835000000000001,
          5.870000000000001,
          5.905,
          5.94,
          5.9750000000000005,
          6.010000000000001,
          6.045000000000001,
          6.08,
          6.115,
          6.15,
          6.1850000000000005,
          6.220000000000001,
          6.255000000000001,
          6.290000000000001,
          6.325000000000001,
          6.36,
          6.3950000000000005,
          6.430000000000001,
          6.465000000000001,
          6.5,
          6.535,
          6.57,
          6.605,
          6.640000000000001,
          6.675000000000001,
          6.710000000000001,
          6.745000000000001,
          6.780000000000001,
          6.815,
          6.8500000000000005,
          6.885000000000001,
          6.920000000000001,
          6.955,
          6.99,
          7.025,
          7.0600000000000005,
          7.095000000000001,
          7.130000000000001,
          7.165000000000001,
          7.200000000000001,
          7.235000000000001,
          7.2700000000000005,
          7.305000000000001,
          7.340000000000001,
          7.375,
          7.41,
          7.445,
          7.48,
          7.515000000000001,
          7.550000000000001,
          7.585000000000001,
          7.620000000000001,
          7.655000000000001,
          7.690000000000001,
          7.7250000000000005,
          7.760000000000001,
          7.795000000000001,
          7.83,
          7.865,
          7.9
         ],
         "xaxis": "x",
         "y": [
          0.2403082202440265,
          0.2403082202440265,
          0.2403082202440265,
          0.2403082202440265,
          0.2403082202440265,
          0.2403082202440265,
          0.2403082202440265,
          0.2403082202440265,
          0.2403082202440265,
          0.2403082202440265,
          0.2403082202440265,
          0.2403082202440265,
          0.2403082202440265,
          0.2403082202440265,
          0.2403082202440265,
          0.2403082202440265,
          0.26555569884017755,
          0.26555569884017755,
          0.26555569884017755,
          0.26555569884017755,
          0.26555569884017755,
          0.26555569884017755,
          0.27031805413668913,
          0.27031805413668913,
          0.27031805413668913,
          0.2767477033469356,
          0.2767477033469356,
          0.2767477033469356,
          0.2798591711772489,
          0.28120171733541277,
          0.28120171733541277,
          0.2905389295609567,
          0.2905389295609567,
          0.2913574049281485,
          0.2913574049281485,
          0.2913574049281485,
          0.2913574049281485,
          0.2913574049281485,
          0.2913574049281485,
          0.29067198512277304,
          0.29067198512277304,
          0.29067198512277304,
          0.29989898448479824,
          0.3008255184818611,
          0.3008255184818611,
          0.2946334864589099,
          0.2946334864589099,
          0.2946334864589099,
          0.28737085611716645,
          0.28474336195176697,
          0.29526681046715986,
          0.29438481534385447,
          0.2947120542179007,
          0.2926729591094319,
          0.2926729591094319,
          0.2926729591094319,
          0.2986695301132446,
          0.2986695301132446,
          0.30653738107243045,
          0.30653738107243045,
          0.30653738107243045,
          0.3128987171455203,
          0.3128987171455203,
          0.31359111375819704,
          0.31359111375819704,
          0.31359111375819704,
          0.31359111375819704,
          0.31359111375819704,
          0.31294692795717755,
          0.31294692795717755,
          0.31294692795717755,
          0.31294692795717755,
          0.31294692795717755,
          0.31294692795717755,
          0.31294692795717755,
          0.31294692795717755,
          0.3060689622931352,
          0.3060689622931352,
          0.3022320876670529,
          0.3022320876670529,
          0.3022320876670529,
          0.3022320876670529,
          0.3022320876670529,
          0.3022320876670529,
          0.3022320876670529,
          0.3022320876670529,
          0.3022320876670529,
          0.3022320876670529,
          0.3022320876670529,
          0.3022320876670529,
          0.3022320876670529,
          0.3022320876670529,
          0.3022320876670529,
          0.3022320876670529,
          0.3022320876670529,
          0.3022320876670529,
          0.3022320876670529,
          0.3022320876670529,
          0.3022320876670529,
          0.3022320876670529,
          0.3022320876670529
         ],
         "yaxis": "y"
        }
       ],
       "layout": {
        "annotations": [
         {
          "font": {
           "size": 13
          },
          "showarrow": false,
          "text": "sepal length (cm)",
          "x": 0.5,
          "xanchor": "center",
          "xref": "paper",
          "y": 1,
          "yanchor": "bottom",
          "yref": "paper"
         },
         {
          "font": {
           "size": 13
          },
          "showarrow": false,
          "text": "prediction",
          "textangle": -90,
          "x": -0.07,
          "xref": "paper",
          "y": 0.5,
          "yref": "paper"
         }
        ],
        "font": {
         "color": "#371ea3"
        },
        "height": 489,
        "hovermode": "x unified",
        "legend": {
         "font": {
          "size": 11
         },
         "itemsizing": "constant",
         "orientation": "h",
         "title": {
          "font": {
           "size": 12
          },
          "text": "label"
         },
         "tracegroupgap": 0,
         "x": 1,
         "xanchor": "right",
         "y": 1.0613496932515338,
         "yanchor": "bottom"
        },
        "margin": {
         "b": 71,
         "r": 30,
         "t": 78
        },
        "template": {
         "data": {
          "scatter": [
           {
            "type": "scatter"
           }
          ]
         }
        },
        "title": {
         "font": {
          "size": 16
         },
         "text": "Aggregated Profiles",
         "x": 0.15
        },
        "xaxis": {
         "anchor": "y",
         "automargin": true,
         "domain": [
          0,
          1
         ],
         "fixedrange": true,
         "gridwidth": 2,
         "showticklabels": true,
         "tickcolor": "white",
         "ticklen": 3,
         "ticks": "outside",
         "title": {
          "text": ""
         },
         "type": "linear",
         "zeroline": false
        },
        "yaxis": {
         "anchor": "x",
         "automargin": true,
         "domain": [
          0,
          1
         ],
         "fixedrange": true,
         "gridwidth": 2,
         "range": [
          0.23297993089260946,
          0.3209194031096141
         ],
         "tickcolor": "white",
         "ticklen": 3,
         "ticks": "outside",
         "title": {
          "text": ""
         },
         "type": "linear",
         "zeroline": false
        }
       }
      }
     },
     "metadata": {},
     "output_type": "display_data"
    },
    {
     "name": "stderr",
     "output_type": "stream",
     "text": [
      "Calculating ceteris paribus: 100%|██████████| 1/1 [00:00<00:00, 200.59it/s]\n",
      "Calculating accumulated dependency: 100%|██████████| 1/1 [00:00<00:00, 15.66it/s]\n"
     ]
    },
    {
     "data": {
      "application/vnd.plotly.v1+json": {
       "config": {
        "displaylogo": false,
        "modeBarButtonsToRemove": [
         "sendDataToCloud",
         "lasso2d",
         "autoScale2d",
         "select2d",
         "zoom2d",
         "pan2d",
         "zoomIn2d",
         "zoomOut2d",
         "resetScale2d",
         "toggleSpikelines",
         "hoverCompareCartesian",
         "hoverClosestCartesian"
        ],
        "plotlyServerURL": "https://plot.ly",
        "staticPlot": false,
        "toImageButtonOptions": {
         "height": null,
         "width": null
        }
       },
       "data": [
        {
         "customdata": [
          [
           0.2840298587733561,
           "Logistic Regression",
           "sepal length (cm)"
          ],
          [
           0.2840298587733561,
           "Logistic Regression",
           "sepal length (cm)"
          ],
          [
           0.2840298587733561,
           "Logistic Regression",
           "sepal length (cm)"
          ],
          [
           0.2840298587733561,
           "Logistic Regression",
           "sepal length (cm)"
          ],
          [
           0.2840298587733561,
           "Logistic Regression",
           "sepal length (cm)"
          ],
          [
           0.2840298587733561,
           "Logistic Regression",
           "sepal length (cm)"
          ],
          [
           0.2840298587733561,
           "Logistic Regression",
           "sepal length (cm)"
          ],
          [
           0.2840298587733561,
           "Logistic Regression",
           "sepal length (cm)"
          ],
          [
           0.2840298587733561,
           "Logistic Regression",
           "sepal length (cm)"
          ],
          [
           0.2840298587733561,
           "Logistic Regression",
           "sepal length (cm)"
          ],
          [
           0.2840298587733561,
           "Logistic Regression",
           "sepal length (cm)"
          ],
          [
           0.2840298587733561,
           "Logistic Regression",
           "sepal length (cm)"
          ],
          [
           0.2840298587733561,
           "Logistic Regression",
           "sepal length (cm)"
          ],
          [
           0.2840298587733561,
           "Logistic Regression",
           "sepal length (cm)"
          ],
          [
           0.2840298587733561,
           "Logistic Regression",
           "sepal length (cm)"
          ],
          [
           0.2840298587733561,
           "Logistic Regression",
           "sepal length (cm)"
          ],
          [
           0.2840298587733561,
           "Logistic Regression",
           "sepal length (cm)"
          ],
          [
           0.2840298587733561,
           "Logistic Regression",
           "sepal length (cm)"
          ],
          [
           0.2840298587733561,
           "Logistic Regression",
           "sepal length (cm)"
          ],
          [
           0.2840298587733561,
           "Logistic Regression",
           "sepal length (cm)"
          ],
          [
           0.2840298587733561,
           "Logistic Regression",
           "sepal length (cm)"
          ],
          [
           0.2840298587733561,
           "Logistic Regression",
           "sepal length (cm)"
          ],
          [
           0.2840298587733561,
           "Logistic Regression",
           "sepal length (cm)"
          ],
          [
           0.2840298587733561,
           "Logistic Regression",
           "sepal length (cm)"
          ],
          [
           0.2840298587733561,
           "Logistic Regression",
           "sepal length (cm)"
          ],
          [
           0.2840298587733561,
           "Logistic Regression",
           "sepal length (cm)"
          ],
          [
           0.2840298587733561,
           "Logistic Regression",
           "sepal length (cm)"
          ],
          [
           0.2840298587733561,
           "Logistic Regression",
           "sepal length (cm)"
          ],
          [
           0.2840298587733561,
           "Logistic Regression",
           "sepal length (cm)"
          ],
          [
           0.2840298587733561,
           "Logistic Regression",
           "sepal length (cm)"
          ],
          [
           0.2840298587733561,
           "Logistic Regression",
           "sepal length (cm)"
          ],
          [
           0.2840298587733561,
           "Logistic Regression",
           "sepal length (cm)"
          ],
          [
           0.2840298587733561,
           "Logistic Regression",
           "sepal length (cm)"
          ],
          [
           0.2840298587733561,
           "Logistic Regression",
           "sepal length (cm)"
          ],
          [
           0.2840298587733561,
           "Logistic Regression",
           "sepal length (cm)"
          ],
          [
           0.2840298587733561,
           "Logistic Regression",
           "sepal length (cm)"
          ],
          [
           0.2840298587733561,
           "Logistic Regression",
           "sepal length (cm)"
          ],
          [
           0.2840298587733561,
           "Logistic Regression",
           "sepal length (cm)"
          ],
          [
           0.2840298587733561,
           "Logistic Regression",
           "sepal length (cm)"
          ],
          [
           0.2840298587733561,
           "Logistic Regression",
           "sepal length (cm)"
          ],
          [
           0.2840298587733561,
           "Logistic Regression",
           "sepal length (cm)"
          ],
          [
           0.2840298587733561,
           "Logistic Regression",
           "sepal length (cm)"
          ],
          [
           0.2840298587733561,
           "Logistic Regression",
           "sepal length (cm)"
          ],
          [
           0.2840298587733561,
           "Logistic Regression",
           "sepal length (cm)"
          ],
          [
           0.2840298587733561,
           "Logistic Regression",
           "sepal length (cm)"
          ],
          [
           0.2840298587733561,
           "Logistic Regression",
           "sepal length (cm)"
          ],
          [
           0.2840298587733561,
           "Logistic Regression",
           "sepal length (cm)"
          ],
          [
           0.2840298587733561,
           "Logistic Regression",
           "sepal length (cm)"
          ],
          [
           0.2840298587733561,
           "Logistic Regression",
           "sepal length (cm)"
          ],
          [
           0.2840298587733561,
           "Logistic Regression",
           "sepal length (cm)"
          ],
          [
           0.2840298587733561,
           "Logistic Regression",
           "sepal length (cm)"
          ],
          [
           0.2840298587733561,
           "Logistic Regression",
           "sepal length (cm)"
          ],
          [
           0.2840298587733561,
           "Logistic Regression",
           "sepal length (cm)"
          ],
          [
           0.2840298587733561,
           "Logistic Regression",
           "sepal length (cm)"
          ],
          [
           0.2840298587733561,
           "Logistic Regression",
           "sepal length (cm)"
          ],
          [
           0.2840298587733561,
           "Logistic Regression",
           "sepal length (cm)"
          ],
          [
           0.2840298587733561,
           "Logistic Regression",
           "sepal length (cm)"
          ],
          [
           0.2840298587733561,
           "Logistic Regression",
           "sepal length (cm)"
          ],
          [
           0.2840298587733561,
           "Logistic Regression",
           "sepal length (cm)"
          ],
          [
           0.2840298587733561,
           "Logistic Regression",
           "sepal length (cm)"
          ],
          [
           0.2840298587733561,
           "Logistic Regression",
           "sepal length (cm)"
          ],
          [
           0.2840298587733561,
           "Logistic Regression",
           "sepal length (cm)"
          ],
          [
           0.2840298587733561,
           "Logistic Regression",
           "sepal length (cm)"
          ],
          [
           0.2840298587733561,
           "Logistic Regression",
           "sepal length (cm)"
          ],
          [
           0.2840298587733561,
           "Logistic Regression",
           "sepal length (cm)"
          ],
          [
           0.2840298587733561,
           "Logistic Regression",
           "sepal length (cm)"
          ],
          [
           0.2840298587733561,
           "Logistic Regression",
           "sepal length (cm)"
          ],
          [
           0.2840298587733561,
           "Logistic Regression",
           "sepal length (cm)"
          ],
          [
           0.2840298587733561,
           "Logistic Regression",
           "sepal length (cm)"
          ],
          [
           0.2840298587733561,
           "Logistic Regression",
           "sepal length (cm)"
          ],
          [
           0.2840298587733561,
           "Logistic Regression",
           "sepal length (cm)"
          ],
          [
           0.2840298587733561,
           "Logistic Regression",
           "sepal length (cm)"
          ],
          [
           0.2840298587733561,
           "Logistic Regression",
           "sepal length (cm)"
          ],
          [
           0.2840298587733561,
           "Logistic Regression",
           "sepal length (cm)"
          ],
          [
           0.2840298587733561,
           "Logistic Regression",
           "sepal length (cm)"
          ],
          [
           0.2840298587733561,
           "Logistic Regression",
           "sepal length (cm)"
          ],
          [
           0.2840298587733561,
           "Logistic Regression",
           "sepal length (cm)"
          ],
          [
           0.2840298587733561,
           "Logistic Regression",
           "sepal length (cm)"
          ],
          [
           0.2840298587733561,
           "Logistic Regression",
           "sepal length (cm)"
          ],
          [
           0.2840298587733561,
           "Logistic Regression",
           "sepal length (cm)"
          ],
          [
           0.2840298587733561,
           "Logistic Regression",
           "sepal length (cm)"
          ],
          [
           0.2840298587733561,
           "Logistic Regression",
           "sepal length (cm)"
          ],
          [
           0.2840298587733561,
           "Logistic Regression",
           "sepal length (cm)"
          ],
          [
           0.2840298587733561,
           "Logistic Regression",
           "sepal length (cm)"
          ],
          [
           0.2840298587733561,
           "Logistic Regression",
           "sepal length (cm)"
          ],
          [
           0.2840298587733561,
           "Logistic Regression",
           "sepal length (cm)"
          ],
          [
           0.2840298587733561,
           "Logistic Regression",
           "sepal length (cm)"
          ],
          [
           0.2840298587733561,
           "Logistic Regression",
           "sepal length (cm)"
          ],
          [
           0.2840298587733561,
           "Logistic Regression",
           "sepal length (cm)"
          ],
          [
           0.2840298587733561,
           "Logistic Regression",
           "sepal length (cm)"
          ],
          [
           0.2840298587733561,
           "Logistic Regression",
           "sepal length (cm)"
          ],
          [
           0.2840298587733561,
           "Logistic Regression",
           "sepal length (cm)"
          ],
          [
           0.2840298587733561,
           "Logistic Regression",
           "sepal length (cm)"
          ],
          [
           0.2840298587733561,
           "Logistic Regression",
           "sepal length (cm)"
          ],
          [
           0.2840298587733561,
           "Logistic Regression",
           "sepal length (cm)"
          ],
          [
           0.2840298587733561,
           "Logistic Regression",
           "sepal length (cm)"
          ],
          [
           0.2840298587733561,
           "Logistic Regression",
           "sepal length (cm)"
          ],
          [
           0.2840298587733561,
           "Logistic Regression",
           "sepal length (cm)"
          ],
          [
           0.2840298587733561,
           "Logistic Regression",
           "sepal length (cm)"
          ],
          [
           0.2840298587733561,
           "Logistic Regression",
           "sepal length (cm)"
          ],
          [
           0.2840298587733561,
           "Logistic Regression",
           "sepal length (cm)"
          ]
         ],
         "hovertemplate": "<b>%{hovertext}</b><br><br>prediction=%{y:.3f}<br>mean_prediction=%{customdata[0]:.3f}<extra></extra>",
         "hovertext": [
          "Logistic Regression",
          "Logistic Regression",
          "Logistic Regression",
          "Logistic Regression",
          "Logistic Regression",
          "Logistic Regression",
          "Logistic Regression",
          "Logistic Regression",
          "Logistic Regression",
          "Logistic Regression",
          "Logistic Regression",
          "Logistic Regression",
          "Logistic Regression",
          "Logistic Regression",
          "Logistic Regression",
          "Logistic Regression",
          "Logistic Regression",
          "Logistic Regression",
          "Logistic Regression",
          "Logistic Regression",
          "Logistic Regression",
          "Logistic Regression",
          "Logistic Regression",
          "Logistic Regression",
          "Logistic Regression",
          "Logistic Regression",
          "Logistic Regression",
          "Logistic Regression",
          "Logistic Regression",
          "Logistic Regression",
          "Logistic Regression",
          "Logistic Regression",
          "Logistic Regression",
          "Logistic Regression",
          "Logistic Regression",
          "Logistic Regression",
          "Logistic Regression",
          "Logistic Regression",
          "Logistic Regression",
          "Logistic Regression",
          "Logistic Regression",
          "Logistic Regression",
          "Logistic Regression",
          "Logistic Regression",
          "Logistic Regression",
          "Logistic Regression",
          "Logistic Regression",
          "Logistic Regression",
          "Logistic Regression",
          "Logistic Regression",
          "Logistic Regression",
          "Logistic Regression",
          "Logistic Regression",
          "Logistic Regression",
          "Logistic Regression",
          "Logistic Regression",
          "Logistic Regression",
          "Logistic Regression",
          "Logistic Regression",
          "Logistic Regression",
          "Logistic Regression",
          "Logistic Regression",
          "Logistic Regression",
          "Logistic Regression",
          "Logistic Regression",
          "Logistic Regression",
          "Logistic Regression",
          "Logistic Regression",
          "Logistic Regression",
          "Logistic Regression",
          "Logistic Regression",
          "Logistic Regression",
          "Logistic Regression",
          "Logistic Regression",
          "Logistic Regression",
          "Logistic Regression",
          "Logistic Regression",
          "Logistic Regression",
          "Logistic Regression",
          "Logistic Regression",
          "Logistic Regression",
          "Logistic Regression",
          "Logistic Regression",
          "Logistic Regression",
          "Logistic Regression",
          "Logistic Regression",
          "Logistic Regression",
          "Logistic Regression",
          "Logistic Regression",
          "Logistic Regression",
          "Logistic Regression",
          "Logistic Regression",
          "Logistic Regression",
          "Logistic Regression",
          "Logistic Regression",
          "Logistic Regression",
          "Logistic Regression",
          "Logistic Regression",
          "Logistic Regression",
          "Logistic Regression",
          "Logistic Regression"
         ],
         "legendgroup": "Logistic Regression",
         "line": {
          "color": "#46bac2",
          "dash": "solid",
          "width": 2
         },
         "marker": {
          "symbol": "circle"
         },
         "mode": "lines",
         "name": "Logistic Regression",
         "opacity": 1,
         "orientation": "v",
         "showlegend": true,
         "type": "scatter",
         "x": [
          4.4,
          4.4350000000000005,
          4.470000000000001,
          4.505000000000001,
          4.54,
          4.575,
          4.61,
          4.6450000000000005,
          4.680000000000001,
          4.715000000000001,
          4.75,
          4.785,
          4.82,
          4.855,
          4.890000000000001,
          4.925000000000001,
          4.960000000000001,
          4.995,
          5.03,
          5.065,
          5.1000000000000005,
          5.135000000000001,
          5.17,
          5.205,
          5.24,
          5.275,
          5.3100000000000005,
          5.345000000000001,
          5.380000000000001,
          5.415000000000001,
          5.45,
          5.485,
          5.5200000000000005,
          5.555000000000001,
          5.590000000000001,
          5.625,
          5.66,
          5.695,
          5.73,
          5.765000000000001,
          5.800000000000001,
          5.835000000000001,
          5.870000000000001,
          5.905,
          5.94,
          5.9750000000000005,
          6.010000000000001,
          6.045000000000001,
          6.08,
          6.115,
          6.15,
          6.1850000000000005,
          6.220000000000001,
          6.255000000000001,
          6.290000000000001,
          6.325000000000001,
          6.36,
          6.3950000000000005,
          6.430000000000001,
          6.465000000000001,
          6.5,
          6.535,
          6.57,
          6.605,
          6.640000000000001,
          6.675000000000001,
          6.710000000000001,
          6.745000000000001,
          6.780000000000001,
          6.815,
          6.8500000000000005,
          6.885000000000001,
          6.920000000000001,
          6.955,
          6.99,
          7.025,
          7.0600000000000005,
          7.095000000000001,
          7.130000000000001,
          7.165000000000001,
          7.200000000000001,
          7.235000000000001,
          7.2700000000000005,
          7.305000000000001,
          7.340000000000001,
          7.375,
          7.41,
          7.445,
          7.48,
          7.515000000000001,
          7.550000000000001,
          7.585000000000001,
          7.620000000000001,
          7.655000000000001,
          7.690000000000001,
          7.7250000000000005,
          7.760000000000001,
          7.795000000000001,
          7.83,
          7.865,
          7.9
         ],
         "xaxis": "x",
         "y": [
          0.19166058417269982,
          0.1928086072180752,
          0.19398329894356997,
          0.19518492198417492,
          0.19641372251574535,
          0.19766992902565517,
          0.198953751065614,
          0.20026537799225486,
          0.20160497770167726,
          0.20297269536469575,
          0.20436865217008174,
          0.20579294408359602,
          0.2072456406310686,
          0.20872678371419298,
          0.21023638646804282,
          0.21177443216958575,
          0.2133408732066479,
          0.21493563011686712,
          0.21655859070614797,
          0.21820960925599786,
          0.219888505828867,
          0.22159506568023457,
          0.22332903878567617,
          0.22509013949051204,
          0.2268780462888747,
          0.22869240173814936,
          0.23053281251374502,
          0.23239884960804563,
          0.23429004867619685,
          0.23620591053010406,
          0.23814590178067788,
          0.24010945562697772,
          0.24209597278949677,
          0.24410482258341706,
          0.24613534412627103,
          0.2481868476730918,
          0.2502586160708451,
          0.2523499063227264,
          0.25445995125180704,
          0.2565879612525239,
          0.2587331261176706,
          0.26089461692784277,
          0.2630715879897636,
          0.265263178809542,
          0.2674685160867254,
          0.2696867157149834,
          0.271916884775409,
          0.2741581235087357,
          0.27640952725324164,
          0.2786701883357287,
          0.2809391979037156,
          0.28321564768785723,
          0.285498631684577,
          0.28778724774996106,
          0.2900805990970957,
          0.2923777956902159,
          0.29467795553024917,
          0.2969802058275831,
          0.299283684059123,
          0.3015875389079413,
          0.3038909310850243,
          0.306193034033799,
          0.3084930345192423,
          0.31079013310445525,
          0.3130835445185897,
          0.31537249792096606,
          0.31765623706709095,
          0.3199340203830917,
          0.32220512095580633,
          0.3244688264464236,
          0.3267244389361441,
          0.3289712747128282,
          0.3312086640080307,
          0.33343595069416204,
          0.33565249195180136,
          0.33785765791737954,
          0.3400508313215844,
          0.3422314071288841,
          0.3443987921885456,
          0.34655240490741285,
          0.34869167495452824,
          0.3508160430074022,
          0.3529249605493806,
          0.35501788972709897,
          0.3570943032764678,
          0.35915368452497554,
          0.3611955274773445,
          0.3632193369907102,
          0.36522462904452346,
          0.36721093110929903,
          0.3691777826171472,
          0.3711247355357413,
          0.3730513550459937,
          0.37495722032224865,
          0.37684192541226824,
          0.37870508021269533,
          0.38054631153405905,
          0.3823652642477544,
          0.38416160250581205,
          0.38593501102270644,
          0.3876851964069558
         ],
         "yaxis": "y"
        }
       ],
       "layout": {
        "annotations": [
         {
          "font": {
           "size": 13
          },
          "showarrow": false,
          "text": "sepal length (cm)",
          "x": 0.5,
          "xanchor": "center",
          "xref": "paper",
          "y": 1,
          "yanchor": "bottom",
          "yref": "paper"
         },
         {
          "font": {
           "size": 13
          },
          "showarrow": false,
          "text": "prediction",
          "textangle": -90,
          "x": -0.07,
          "xref": "paper",
          "y": 0.5,
          "yref": "paper"
         }
        ],
        "font": {
         "color": "#371ea3"
        },
        "height": 489,
        "hovermode": "x unified",
        "legend": {
         "font": {
          "size": 11
         },
         "itemsizing": "constant",
         "orientation": "h",
         "title": {
          "font": {
           "size": 12
          },
          "text": "label"
         },
         "tracegroupgap": 0,
         "x": 1,
         "xanchor": "right",
         "y": 1.0613496932515338,
         "yanchor": "bottom"
        },
        "margin": {
         "b": 71,
         "r": 30,
         "t": 78
        },
        "template": {
         "data": {
          "scatter": [
           {
            "type": "scatter"
           }
          ]
         }
        },
        "title": {
         "font": {
          "size": 16
         },
         "text": "Aggregated Profiles",
         "x": 0.15
        },
        "xaxis": {
         "anchor": "y",
         "automargin": true,
         "domain": [
          0,
          1
         ],
         "fixedrange": true,
         "gridwidth": 2,
         "showticklabels": true,
         "tickcolor": "white",
         "ticklen": 3,
         "ticks": "outside",
         "title": {
          "text": ""
         },
         "type": "linear",
         "zeroline": false
        },
        "yaxis": {
         "anchor": "x",
         "automargin": true,
         "domain": [
          0,
          1
         ],
         "fixedrange": true,
         "gridwidth": 2,
         "range": [
          0.17205812294927422,
          0.40728765763038144
         ],
         "tickcolor": "white",
         "ticklen": 3,
         "ticks": "outside",
         "title": {
          "text": ""
         },
         "type": "linear",
         "zeroline": false
        }
       }
      }
     },
     "metadata": {},
     "output_type": "display_data"
    },
    {
     "name": "stderr",
     "output_type": "stream",
     "text": [
      "Calculating ceteris paribus: 100%|██████████| 1/1 [00:00<00:00, 87.49it/s]\n"
     ]
    },
    {
     "data": {
      "application/vnd.plotly.v1+json": {
       "config": {
        "displaylogo": false,
        "modeBarButtonsToRemove": [
         "sendDataToCloud",
         "lasso2d",
         "autoScale2d",
         "select2d",
         "zoom2d",
         "pan2d",
         "zoomIn2d",
         "zoomOut2d",
         "resetScale2d",
         "toggleSpikelines",
         "hoverCompareCartesian",
         "hoverClosestCartesian"
        ],
        "plotlyServerURL": "https://plot.ly",
        "staticPlot": false,
        "toImageButtonOptions": {
         "height": null,
         "width": null
        }
       },
       "data": [
        {
         "customdata": [
          [
           "</br>id: 73</br>prediction: 0.6</br>petal length (cm): 1.0</br></br>sepal length (cm): 6.1</br>sepal width (cm): 2.8</br>petal width (cm): 1.2</br>_original_yhat_: 0.97</br>"
          ],
          [
           "</br>id: 73</br>prediction: 0.6</br>petal length (cm): 1.059</br></br>sepal length (cm): 6.1</br>sepal width (cm): 2.8</br>petal width (cm): 1.2</br>_original_yhat_: 0.97</br>"
          ],
          [
           "</br>id: 73</br>prediction: 0.6</br>petal length (cm): 1.118</br></br>sepal length (cm): 6.1</br>sepal width (cm): 2.8</br>petal width (cm): 1.2</br>_original_yhat_: 0.97</br>"
          ],
          [
           "</br>id: 73</br>prediction: 0.6</br>petal length (cm): 1.177</br></br>sepal length (cm): 6.1</br>sepal width (cm): 2.8</br>petal width (cm): 1.2</br>_original_yhat_: 0.97</br>"
          ],
          [
           "</br>id: 73</br>prediction: 0.6</br>petal length (cm): 1.236</br></br>sepal length (cm): 6.1</br>sepal width (cm): 2.8</br>petal width (cm): 1.2</br>_original_yhat_: 0.97</br>"
          ],
          [
           "</br>id: 73</br>prediction: 0.6</br>petal length (cm): 1.295</br></br>sepal length (cm): 6.1</br>sepal width (cm): 2.8</br>petal width (cm): 1.2</br>_original_yhat_: 0.97</br>"
          ],
          [
           "</br>id: 73</br>prediction: 0.6</br>petal length (cm): 1.354</br></br>sepal length (cm): 6.1</br>sepal width (cm): 2.8</br>petal width (cm): 1.2</br>_original_yhat_: 0.97</br>"
          ],
          [
           "</br>id: 73</br>prediction: 0.6</br>petal length (cm): 1.413</br></br>sepal length (cm): 6.1</br>sepal width (cm): 2.8</br>petal width (cm): 1.2</br>_original_yhat_: 0.97</br>"
          ],
          [
           "</br>id: 73</br>prediction: 0.6</br>petal length (cm): 1.472</br></br>sepal length (cm): 6.1</br>sepal width (cm): 2.8</br>petal width (cm): 1.2</br>_original_yhat_: 0.97</br>"
          ],
          [
           "</br>id: 73</br>prediction: 0.6</br>petal length (cm): 1.5310000000000001</br></br>sepal length (cm): 6.1</br>sepal width (cm): 2.8</br>petal width (cm): 1.2</br>_original_yhat_: 0.97</br>"
          ],
          [
           "</br>id: 73</br>prediction: 0.6</br>petal length (cm): 1.59</br></br>sepal length (cm): 6.1</br>sepal width (cm): 2.8</br>petal width (cm): 1.2</br>_original_yhat_: 0.97</br>"
          ],
          [
           "</br>id: 73</br>prediction: 0.6</br>petal length (cm): 1.649</br></br>sepal length (cm): 6.1</br>sepal width (cm): 2.8</br>petal width (cm): 1.2</br>_original_yhat_: 0.97</br>"
          ],
          [
           "</br>id: 73</br>prediction: 0.6</br>petal length (cm): 1.7080000000000002</br></br>sepal length (cm): 6.1</br>sepal width (cm): 2.8</br>petal width (cm): 1.2</br>_original_yhat_: 0.97</br>"
          ],
          [
           "</br>id: 73</br>prediction: 0.6</br>petal length (cm): 1.767</br></br>sepal length (cm): 6.1</br>sepal width (cm): 2.8</br>petal width (cm): 1.2</br>_original_yhat_: 0.97</br>"
          ],
          [
           "</br>id: 73</br>prediction: 0.6</br>petal length (cm): 1.826</br></br>sepal length (cm): 6.1</br>sepal width (cm): 2.8</br>petal width (cm): 1.2</br>_original_yhat_: 0.97</br>"
          ],
          [
           "</br>id: 73</br>prediction: 0.6</br>petal length (cm): 1.885</br></br>sepal length (cm): 6.1</br>sepal width (cm): 2.8</br>petal width (cm): 1.2</br>_original_yhat_: 0.97</br>"
          ],
          [
           "</br>id: 73</br>prediction: 0.6</br>petal length (cm): 1.944</br></br>sepal length (cm): 6.1</br>sepal width (cm): 2.8</br>petal width (cm): 1.2</br>_original_yhat_: 0.97</br>"
          ],
          [
           "</br>id: 73</br>prediction: 0.6</br>petal length (cm): 2.003</br></br>sepal length (cm): 6.1</br>sepal width (cm): 2.8</br>petal width (cm): 1.2</br>_original_yhat_: 0.97</br>"
          ],
          [
           "</br>id: 73</br>prediction: 0.6</br>petal length (cm): 2.0620000000000003</br></br>sepal length (cm): 6.1</br>sepal width (cm): 2.8</br>petal width (cm): 1.2</br>_original_yhat_: 0.97</br>"
          ],
          [
           "</br>id: 73</br>prediction: 0.6</br>petal length (cm): 2.121</br></br>sepal length (cm): 6.1</br>sepal width (cm): 2.8</br>petal width (cm): 1.2</br>_original_yhat_: 0.97</br>"
          ],
          [
           "</br>id: 73</br>prediction: 0.6</br>petal length (cm): 2.18</br></br>sepal length (cm): 6.1</br>sepal width (cm): 2.8</br>petal width (cm): 1.2</br>_original_yhat_: 0.97</br>"
          ],
          [
           "</br>id: 73</br>prediction: 0.6</br>petal length (cm): 2.239</br></br>sepal length (cm): 6.1</br>sepal width (cm): 2.8</br>petal width (cm): 1.2</br>_original_yhat_: 0.97</br>"
          ],
          [
           "</br>id: 73</br>prediction: 0.6</br>petal length (cm): 2.298</br></br>sepal length (cm): 6.1</br>sepal width (cm): 2.8</br>petal width (cm): 1.2</br>_original_yhat_: 0.97</br>"
          ],
          [
           "</br>id: 73</br>prediction: 0.63</br>petal length (cm): 2.357</br></br>sepal length (cm): 6.1</br>sepal width (cm): 2.8</br>petal width (cm): 1.2</br>_original_yhat_: 0.97</br>"
          ],
          [
           "</br>id: 73</br>prediction: 0.63</br>petal length (cm): 2.4160000000000004</br></br>sepal length (cm): 6.1</br>sepal width (cm): 2.8</br>petal width (cm): 1.2</br>_original_yhat_: 0.97</br>"
          ],
          [
           "</br>id: 73</br>prediction: 0.83</br>petal length (cm): 2.475</br></br>sepal length (cm): 6.1</br>sepal width (cm): 2.8</br>petal width (cm): 1.2</br>_original_yhat_: 0.97</br>"
          ],
          [
           "</br>id: 73</br>prediction: 0.84</br>petal length (cm): 2.534</br></br>sepal length (cm): 6.1</br>sepal width (cm): 2.8</br>petal width (cm): 1.2</br>_original_yhat_: 0.97</br>"
          ],
          [
           "</br>id: 73</br>prediction: 0.84</br>petal length (cm): 2.593</br></br>sepal length (cm): 6.1</br>sepal width (cm): 2.8</br>petal width (cm): 1.2</br>_original_yhat_: 0.97</br>"
          ],
          [
           "</br>id: 73</br>prediction: 0.99</br>petal length (cm): 2.652</br></br>sepal length (cm): 6.1</br>sepal width (cm): 2.8</br>petal width (cm): 1.2</br>_original_yhat_: 0.97</br>"
          ],
          [
           "</br>id: 73</br>prediction: 1.0</br>petal length (cm): 2.7110000000000003</br></br>sepal length (cm): 6.1</br>sepal width (cm): 2.8</br>petal width (cm): 1.2</br>_original_yhat_: 0.97</br>"
          ],
          [
           "</br>id: 73</br>prediction: 1.0</br>petal length (cm): 2.77</br></br>sepal length (cm): 6.1</br>sepal width (cm): 2.8</br>petal width (cm): 1.2</br>_original_yhat_: 0.97</br>"
          ],
          [
           "</br>id: 73</br>prediction: 1.0</br>petal length (cm): 2.829</br></br>sepal length (cm): 6.1</br>sepal width (cm): 2.8</br>petal width (cm): 1.2</br>_original_yhat_: 0.97</br>"
          ],
          [
           "</br>id: 73</br>prediction: 1.0</br>petal length (cm): 2.888</br></br>sepal length (cm): 6.1</br>sepal width (cm): 2.8</br>petal width (cm): 1.2</br>_original_yhat_: 0.97</br>"
          ],
          [
           "</br>id: 73</br>prediction: 1.0</br>petal length (cm): 2.947</br></br>sepal length (cm): 6.1</br>sepal width (cm): 2.8</br>petal width (cm): 1.2</br>_original_yhat_: 0.97</br>"
          ],
          [
           "</br>id: 73</br>prediction: 1.0</br>petal length (cm): 3.0060000000000002</br></br>sepal length (cm): 6.1</br>sepal width (cm): 2.8</br>petal width (cm): 1.2</br>_original_yhat_: 0.97</br>"
          ],
          [
           "</br>id: 73</br>prediction: 1.0</br>petal length (cm): 3.065</br></br>sepal length (cm): 6.1</br>sepal width (cm): 2.8</br>petal width (cm): 1.2</br>_original_yhat_: 0.97</br>"
          ],
          [
           "</br>id: 73</br>prediction: 1.0</br>petal length (cm): 3.124</br></br>sepal length (cm): 6.1</br>sepal width (cm): 2.8</br>petal width (cm): 1.2</br>_original_yhat_: 0.97</br>"
          ],
          [
           "</br>id: 73</br>prediction: 1.0</br>petal length (cm): 3.1830000000000003</br></br>sepal length (cm): 6.1</br>sepal width (cm): 2.8</br>petal width (cm): 1.2</br>_original_yhat_: 0.97</br>"
          ],
          [
           "</br>id: 73</br>prediction: 1.0</br>petal length (cm): 3.242</br></br>sepal length (cm): 6.1</br>sepal width (cm): 2.8</br>petal width (cm): 1.2</br>_original_yhat_: 0.97</br>"
          ],
          [
           "</br>id: 73</br>prediction: 1.0</br>petal length (cm): 3.301</br></br>sepal length (cm): 6.1</br>sepal width (cm): 2.8</br>petal width (cm): 1.2</br>_original_yhat_: 0.97</br>"
          ],
          [
           "</br>id: 73</br>prediction: 1.0</br>petal length (cm): 3.3600000000000003</br></br>sepal length (cm): 6.1</br>sepal width (cm): 2.8</br>petal width (cm): 1.2</br>_original_yhat_: 0.97</br>"
          ],
          [
           "</br>id: 73</br>prediction: 1.0</br>petal length (cm): 3.419</br></br>sepal length (cm): 6.1</br>sepal width (cm): 2.8</br>petal width (cm): 1.2</br>_original_yhat_: 0.97</br>"
          ],
          [
           "</br>id: 73</br>prediction: 1.0</br>petal length (cm): 3.478</br></br>sepal length (cm): 6.1</br>sepal width (cm): 2.8</br>petal width (cm): 1.2</br>_original_yhat_: 0.97</br>"
          ],
          [
           "</br>id: 73</br>prediction: 1.0</br>petal length (cm): 3.5370000000000004</br></br>sepal length (cm): 6.1</br>sepal width (cm): 2.8</br>petal width (cm): 1.2</br>_original_yhat_: 0.97</br>"
          ],
          [
           "</br>id: 73</br>prediction: 1.0</br>petal length (cm): 3.596</br></br>sepal length (cm): 6.1</br>sepal width (cm): 2.8</br>petal width (cm): 1.2</br>_original_yhat_: 0.97</br>"
          ],
          [
           "</br>id: 73</br>prediction: 1.0</br>petal length (cm): 3.6550000000000002</br></br>sepal length (cm): 6.1</br>sepal width (cm): 2.8</br>petal width (cm): 1.2</br>_original_yhat_: 0.97</br>"
          ],
          [
           "</br>id: 73</br>prediction: 1.0</br>petal length (cm): 3.714</br></br>sepal length (cm): 6.1</br>sepal width (cm): 2.8</br>petal width (cm): 1.2</br>_original_yhat_: 0.97</br>"
          ],
          [
           "</br>id: 73</br>prediction: 1.0</br>petal length (cm): 3.773</br></br>sepal length (cm): 6.1</br>sepal width (cm): 2.8</br>petal width (cm): 1.2</br>_original_yhat_: 0.97</br>"
          ],
          [
           "</br>id: 73</br>prediction: 1.0</br>petal length (cm): 3.8320000000000003</br></br>sepal length (cm): 6.1</br>sepal width (cm): 2.8</br>petal width (cm): 1.2</br>_original_yhat_: 0.97</br>"
          ],
          [
           "</br>id: 73</br>prediction: 1.0</br>petal length (cm): 3.891</br></br>sepal length (cm): 6.1</br>sepal width (cm): 2.8</br>petal width (cm): 1.2</br>_original_yhat_: 0.97</br>"
          ],
          [
           "</br>id: 73</br>prediction: 1.0</br>petal length (cm): 3.95</br></br>sepal length (cm): 6.1</br>sepal width (cm): 2.8</br>petal width (cm): 1.2</br>_original_yhat_: 0.97</br>"
          ],
          [
           "</br>id: 73</br>prediction: 1.0</br>petal length (cm): 4.009</br></br>sepal length (cm): 6.1</br>sepal width (cm): 2.8</br>petal width (cm): 1.2</br>_original_yhat_: 0.97</br>"
          ],
          [
           "</br>id: 73</br>prediction: 1.0</br>petal length (cm): 4.068</br></br>sepal length (cm): 6.1</br>sepal width (cm): 2.8</br>petal width (cm): 1.2</br>_original_yhat_: 0.97</br>"
          ],
          [
           "</br>id: 73</br>prediction: 1.0</br>petal length (cm): 4.127000000000001</br></br>sepal length (cm): 6.1</br>sepal width (cm): 2.8</br>petal width (cm): 1.2</br>_original_yhat_: 0.97</br>"
          ],
          [
           "</br>id: 73</br>prediction: 1.0</br>petal length (cm): 4.186</br></br>sepal length (cm): 6.1</br>sepal width (cm): 2.8</br>petal width (cm): 1.2</br>_original_yhat_: 0.97</br>"
          ],
          [
           "</br>id: 73</br>prediction: 1.0</br>petal length (cm): 4.245</br></br>sepal length (cm): 6.1</br>sepal width (cm): 2.8</br>petal width (cm): 1.2</br>_original_yhat_: 0.97</br>"
          ],
          [
           "</br>id: 73</br>prediction: 1.0</br>petal length (cm): 4.304</br></br>sepal length (cm): 6.1</br>sepal width (cm): 2.8</br>petal width (cm): 1.2</br>_original_yhat_: 0.97</br>"
          ],
          [
           "</br>id: 73</br>prediction: 1.0</br>petal length (cm): 4.363</br></br>sepal length (cm): 6.1</br>sepal width (cm): 2.8</br>petal width (cm): 1.2</br>_original_yhat_: 0.97</br>"
          ],
          [
           "</br>id: 73</br>prediction: 1.0</br>petal length (cm): 4.422000000000001</br></br>sepal length (cm): 6.1</br>sepal width (cm): 2.8</br>petal width (cm): 1.2</br>_original_yhat_: 0.97</br>"
          ],
          [
           "</br>id: 73</br>prediction: 0.98</br>petal length (cm): 4.481</br></br>sepal length (cm): 6.1</br>sepal width (cm): 2.8</br>petal width (cm): 1.2</br>_original_yhat_: 0.97</br>"
          ],
          [
           "</br>id: 73</br>prediction: 0.98</br>petal length (cm): 4.54</br></br>sepal length (cm): 6.1</br>sepal width (cm): 2.8</br>petal width (cm): 1.2</br>_original_yhat_: 0.97</br>"
          ],
          [
           "</br>id: 73</br>prediction: 0.99</br>petal length (cm): 4.599</br></br>sepal length (cm): 6.1</br>sepal width (cm): 2.8</br>petal width (cm): 1.2</br>_original_yhat_: 0.97</br>"
          ],
          [
           "</br>id: 73</br>prediction: 0.97</br>petal length (cm): 4.658</br></br>sepal length (cm): 6.1</br>sepal width (cm): 2.8</br>petal width (cm): 1.2</br>_original_yhat_: 0.97</br>"
          ],
          [
           "</br>id: 73</br>prediction: 0.97</br>petal length (cm): 4.7</br></br>sepal length (cm): 6.1</br>sepal width (cm): 2.8</br>petal width (cm): 1.2</br>_original_yhat_: 0.97</br>"
          ],
          [
           "</br>id: 73</br>prediction: 0.96</br>petal length (cm): 4.7170000000000005</br></br>sepal length (cm): 6.1</br>sepal width (cm): 2.8</br>petal width (cm): 1.2</br>_original_yhat_: 0.97</br>"
          ],
          [
           "</br>id: 73</br>prediction: 0.83</br>petal length (cm): 4.776</br></br>sepal length (cm): 6.1</br>sepal width (cm): 2.8</br>petal width (cm): 1.2</br>_original_yhat_: 0.97</br>"
          ],
          [
           "</br>id: 73</br>prediction: 0.83</br>petal length (cm): 4.835000000000001</br></br>sepal length (cm): 6.1</br>sepal width (cm): 2.8</br>petal width (cm): 1.2</br>_original_yhat_: 0.97</br>"
          ],
          [
           "</br>id: 73</br>prediction: 0.78</br>petal length (cm): 4.894</br></br>sepal length (cm): 6.1</br>sepal width (cm): 2.8</br>petal width (cm): 1.2</br>_original_yhat_: 0.97</br>"
          ],
          [
           "</br>id: 73</br>prediction: 0.59</br>petal length (cm): 4.953</br></br>sepal length (cm): 6.1</br>sepal width (cm): 2.8</br>petal width (cm): 1.2</br>_original_yhat_: 0.97</br>"
          ],
          [
           "</br>id: 73</br>prediction: 0.51</br>petal length (cm): 5.0120000000000005</br></br>sepal length (cm): 6.1</br>sepal width (cm): 2.8</br>petal width (cm): 1.2</br>_original_yhat_: 0.97</br>"
          ],
          [
           "</br>id: 73</br>prediction: 0.44</br>petal length (cm): 5.071000000000001</br></br>sepal length (cm): 6.1</br>sepal width (cm): 2.8</br>petal width (cm): 1.2</br>_original_yhat_: 0.97</br>"
          ],
          [
           "</br>id: 73</br>prediction: 0.44</br>petal length (cm): 5.13</br></br>sepal length (cm): 6.1</br>sepal width (cm): 2.8</br>petal width (cm): 1.2</br>_original_yhat_: 0.97</br>"
          ],
          [
           "</br>id: 73</br>prediction: 0.42</br>petal length (cm): 5.189</br></br>sepal length (cm): 6.1</br>sepal width (cm): 2.8</br>petal width (cm): 1.2</br>_original_yhat_: 0.97</br>"
          ],
          [
           "</br>id: 73</br>prediction: 0.4</br>petal length (cm): 5.248</br></br>sepal length (cm): 6.1</br>sepal width (cm): 2.8</br>petal width (cm): 1.2</br>_original_yhat_: 0.97</br>"
          ],
          [
           "</br>id: 73</br>prediction: 0.35</br>petal length (cm): 5.307</br></br>sepal length (cm): 6.1</br>sepal width (cm): 2.8</br>petal width (cm): 1.2</br>_original_yhat_: 0.97</br>"
          ],
          [
           "</br>id: 73</br>prediction: 0.32</br>petal length (cm): 5.3660000000000005</br></br>sepal length (cm): 6.1</br>sepal width (cm): 2.8</br>petal width (cm): 1.2</br>_original_yhat_: 0.97</br>"
          ],
          [
           "</br>id: 73</br>prediction: 0.32</br>petal length (cm): 5.425000000000001</br></br>sepal length (cm): 6.1</br>sepal width (cm): 2.8</br>petal width (cm): 1.2</br>_original_yhat_: 0.97</br>"
          ],
          [
           "</br>id: 73</br>prediction: 0.29</br>petal length (cm): 5.484</br></br>sepal length (cm): 6.1</br>sepal width (cm): 2.8</br>petal width (cm): 1.2</br>_original_yhat_: 0.97</br>"
          ],
          [
           "</br>id: 73</br>prediction: 0.29</br>petal length (cm): 5.543</br></br>sepal length (cm): 6.1</br>sepal width (cm): 2.8</br>petal width (cm): 1.2</br>_original_yhat_: 0.97</br>"
          ],
          [
           "</br>id: 73</br>prediction: 0.29</br>petal length (cm): 5.602</br></br>sepal length (cm): 6.1</br>sepal width (cm): 2.8</br>petal width (cm): 1.2</br>_original_yhat_: 0.97</br>"
          ],
          [
           "</br>id: 73</br>prediction: 0.29</br>petal length (cm): 5.6610000000000005</br></br>sepal length (cm): 6.1</br>sepal width (cm): 2.8</br>petal width (cm): 1.2</br>_original_yhat_: 0.97</br>"
          ],
          [
           "</br>id: 73</br>prediction: 0.29</br>petal length (cm): 5.720000000000001</br></br>sepal length (cm): 6.1</br>sepal width (cm): 2.8</br>petal width (cm): 1.2</br>_original_yhat_: 0.97</br>"
          ],
          [
           "</br>id: 73</br>prediction: 0.29</br>petal length (cm): 5.779</br></br>sepal length (cm): 6.1</br>sepal width (cm): 2.8</br>petal width (cm): 1.2</br>_original_yhat_: 0.97</br>"
          ],
          [
           "</br>id: 73</br>prediction: 0.29</br>petal length (cm): 5.838</br></br>sepal length (cm): 6.1</br>sepal width (cm): 2.8</br>petal width (cm): 1.2</br>_original_yhat_: 0.97</br>"
          ],
          [
           "</br>id: 73</br>prediction: 0.29</br>petal length (cm): 5.897</br></br>sepal length (cm): 6.1</br>sepal width (cm): 2.8</br>petal width (cm): 1.2</br>_original_yhat_: 0.97</br>"
          ],
          [
           "</br>id: 73</br>prediction: 0.29</br>petal length (cm): 5.956</br></br>sepal length (cm): 6.1</br>sepal width (cm): 2.8</br>petal width (cm): 1.2</br>_original_yhat_: 0.97</br>"
          ],
          [
           "</br>id: 73</br>prediction: 0.29</br>petal length (cm): 6.015000000000001</br></br>sepal length (cm): 6.1</br>sepal width (cm): 2.8</br>petal width (cm): 1.2</br>_original_yhat_: 0.97</br>"
          ],
          [
           "</br>id: 73</br>prediction: 0.29</br>petal length (cm): 6.074000000000001</br></br>sepal length (cm): 6.1</br>sepal width (cm): 2.8</br>petal width (cm): 1.2</br>_original_yhat_: 0.97</br>"
          ],
          [
           "</br>id: 73</br>prediction: 0.29</br>petal length (cm): 6.133</br></br>sepal length (cm): 6.1</br>sepal width (cm): 2.8</br>petal width (cm): 1.2</br>_original_yhat_: 0.97</br>"
          ],
          [
           "</br>id: 73</br>prediction: 0.29</br>petal length (cm): 6.192</br></br>sepal length (cm): 6.1</br>sepal width (cm): 2.8</br>petal width (cm): 1.2</br>_original_yhat_: 0.97</br>"
          ],
          [
           "</br>id: 73</br>prediction: 0.29</br>petal length (cm): 6.251</br></br>sepal length (cm): 6.1</br>sepal width (cm): 2.8</br>petal width (cm): 1.2</br>_original_yhat_: 0.97</br>"
          ],
          [
           "</br>id: 73</br>prediction: 0.29</br>petal length (cm): 6.3100000000000005</br></br>sepal length (cm): 6.1</br>sepal width (cm): 2.8</br>petal width (cm): 1.2</br>_original_yhat_: 0.97</br>"
          ],
          [
           "</br>id: 73</br>prediction: 0.29</br>petal length (cm): 6.369000000000001</br></br>sepal length (cm): 6.1</br>sepal width (cm): 2.8</br>petal width (cm): 1.2</br>_original_yhat_: 0.97</br>"
          ],
          [
           "</br>id: 73</br>prediction: 0.29</br>petal length (cm): 6.428</br></br>sepal length (cm): 6.1</br>sepal width (cm): 2.8</br>petal width (cm): 1.2</br>_original_yhat_: 0.97</br>"
          ],
          [
           "</br>id: 73</br>prediction: 0.29</br>petal length (cm): 6.487</br></br>sepal length (cm): 6.1</br>sepal width (cm): 2.8</br>petal width (cm): 1.2</br>_original_yhat_: 0.97</br>"
          ],
          [
           "</br>id: 73</br>prediction: 0.29</br>petal length (cm): 6.546</br></br>sepal length (cm): 6.1</br>sepal width (cm): 2.8</br>petal width (cm): 1.2</br>_original_yhat_: 0.97</br>"
          ],
          [
           "</br>id: 73</br>prediction: 0.29</br>petal length (cm): 6.605</br></br>sepal length (cm): 6.1</br>sepal width (cm): 2.8</br>petal width (cm): 1.2</br>_original_yhat_: 0.97</br>"
          ],
          [
           "</br>id: 73</br>prediction: 0.29</br>petal length (cm): 6.664000000000001</br></br>sepal length (cm): 6.1</br>sepal width (cm): 2.8</br>petal width (cm): 1.2</br>_original_yhat_: 0.97</br>"
          ],
          [
           "</br>id: 73</br>prediction: 0.29</br>petal length (cm): 6.723000000000001</br></br>sepal length (cm): 6.1</br>sepal width (cm): 2.8</br>petal width (cm): 1.2</br>_original_yhat_: 0.97</br>"
          ],
          [
           "</br>id: 73</br>prediction: 0.29</br>petal length (cm): 6.782</br></br>sepal length (cm): 6.1</br>sepal width (cm): 2.8</br>petal width (cm): 1.2</br>_original_yhat_: 0.97</br>"
          ],
          [
           "</br>id: 73</br>prediction: 0.29</br>petal length (cm): 6.841</br></br>sepal length (cm): 6.1</br>sepal width (cm): 2.8</br>petal width (cm): 1.2</br>_original_yhat_: 0.97</br>"
          ],
          [
           "</br>id: 73</br>prediction: 0.29</br>petal length (cm): 6.9</br></br>sepal length (cm): 6.1</br>sepal width (cm): 2.8</br>petal width (cm): 1.2</br>_original_yhat_: 0.97</br>"
          ]
         ],
         "hovertemplate": "%{customdata[0]}<extra></extra>",
         "legendgroup": "Random Forest",
         "line": {
          "color": "#46bac2",
          "dash": "solid",
          "width": 2
         },
         "marker": {
          "symbol": "circle"
         },
         "mode": "lines",
         "name": "Random Forest",
         "opacity": 1,
         "orientation": "v",
         "showlegend": true,
         "type": "scatter",
         "x": [
          1,
          1.059,
          1.118,
          1.177,
          1.236,
          1.295,
          1.354,
          1.413,
          1.472,
          1.5310000000000001,
          1.59,
          1.649,
          1.7080000000000002,
          1.767,
          1.826,
          1.885,
          1.944,
          2.003,
          2.0620000000000003,
          2.121,
          2.18,
          2.239,
          2.298,
          2.357,
          2.4160000000000004,
          2.475,
          2.534,
          2.593,
          2.652,
          2.7110000000000003,
          2.77,
          2.829,
          2.888,
          2.947,
          3.0060000000000002,
          3.065,
          3.124,
          3.1830000000000003,
          3.242,
          3.301,
          3.3600000000000003,
          3.419,
          3.478,
          3.5370000000000004,
          3.596,
          3.6550000000000002,
          3.714,
          3.773,
          3.8320000000000003,
          3.891,
          3.95,
          4.009,
          4.068,
          4.127000000000001,
          4.186,
          4.245,
          4.304,
          4.363,
          4.422000000000001,
          4.481,
          4.54,
          4.599,
          4.658,
          4.7,
          4.7170000000000005,
          4.776,
          4.835000000000001,
          4.894,
          4.953,
          5.0120000000000005,
          5.071000000000001,
          5.13,
          5.189,
          5.248,
          5.307,
          5.3660000000000005,
          5.425000000000001,
          5.484,
          5.543,
          5.602,
          5.6610000000000005,
          5.720000000000001,
          5.779,
          5.838,
          5.897,
          5.956,
          6.015000000000001,
          6.074000000000001,
          6.133,
          6.192,
          6.251,
          6.3100000000000005,
          6.369000000000001,
          6.428,
          6.487,
          6.546,
          6.605,
          6.664000000000001,
          6.723000000000001,
          6.782,
          6.841,
          6.9
         ],
         "xaxis": "x",
         "y": [
          0.6,
          0.6,
          0.6,
          0.6,
          0.6,
          0.6,
          0.6,
          0.6,
          0.6,
          0.6,
          0.6,
          0.6,
          0.6,
          0.6,
          0.6,
          0.6,
          0.6,
          0.6,
          0.6,
          0.6,
          0.6,
          0.6,
          0.6,
          0.63,
          0.63,
          0.83,
          0.84,
          0.84,
          0.99,
          1,
          1,
          1,
          1,
          1,
          1,
          1,
          1,
          1,
          1,
          1,
          1,
          1,
          1,
          1,
          1,
          1,
          1,
          1,
          1,
          1,
          1,
          1,
          1,
          1,
          1,
          1,
          1,
          1,
          1,
          0.98,
          0.98,
          0.99,
          0.97,
          0.97,
          0.96,
          0.83,
          0.83,
          0.78,
          0.59,
          0.51,
          0.44,
          0.44,
          0.42,
          0.4,
          0.35,
          0.32,
          0.32,
          0.29,
          0.29,
          0.29,
          0.29,
          0.29,
          0.29,
          0.29,
          0.29,
          0.29,
          0.29,
          0.29,
          0.29,
          0.29,
          0.29,
          0.29,
          0.29,
          0.29,
          0.29,
          0.29,
          0.29,
          0.29,
          0.29,
          0.29,
          0.29,
          0.29
         ],
         "yaxis": "y"
        },
        {
         "customdata": [
          [
           "</br>id: 73</br>prediction: 0.97</br>petal length (cm): 4.7</br></br>sepal length (cm): 6.1</br>sepal width (cm): 2.8</br>petal width (cm): 1.2</br>_original_yhat_: 0.97</br>"
          ]
         ],
         "hovertemplate": "%{customdata[0]}<extra></extra>",
         "legendgroup": "",
         "marker": {
          "color": "#371ea3",
          "size": 10,
          "symbol": "circle"
         },
         "mode": "markers",
         "name": "",
         "opacity": 1,
         "orientation": "v",
         "showlegend": false,
         "type": "scatter",
         "x": [
          4.7
         ],
         "xaxis": "x",
         "y": [
          0.97
         ],
         "yaxis": "y"
        }
       ],
       "layout": {
        "annotations": [
         {
          "font": {
           "size": 13
          },
          "showarrow": false,
          "text": "petal length (cm)",
          "x": 0.5,
          "xanchor": "center",
          "xref": "paper",
          "y": 1,
          "yanchor": "bottom",
          "yref": "paper"
         },
         {
          "font": {
           "size": 13
          },
          "showarrow": false,
          "text": "prediction",
          "textangle": -90,
          "x": -0.07,
          "xref": "paper",
          "y": 0.5,
          "yref": "paper"
         }
        ],
        "font": {
         "color": "#371ea3"
        },
        "height": 489,
        "hoverlabel": {
         "bgcolor": "rgba(0,0,0,0.8)"
        },
        "hovermode": "closest",
        "legend": {
         "font": {
          "size": 11
         },
         "itemsizing": "constant",
         "orientation": "h",
         "title": {
          "font": {
           "size": 12
          },
          "text": "label"
         },
         "tracegroupgap": 0,
         "x": 1,
         "xanchor": "right",
         "y": 1.0613496932515338,
         "yanchor": "bottom"
        },
        "margin": {
         "b": 71,
         "r": 30,
         "t": 78
        },
        "template": {
         "data": {
          "scatter": [
           {
            "type": "scatter"
           }
          ]
         }
        },
        "title": {
         "font": {
          "size": 16
         },
         "text": "Ceteris Paribus Profiles",
         "x": 0.15
        },
        "xaxis": {
         "anchor": "y",
         "automargin": true,
         "domain": [
          0,
          1
         ],
         "fixedrange": true,
         "gridwidth": 2,
         "showticklabels": true,
         "tickcolor": "white",
         "ticklen": 3,
         "ticks": "outside",
         "title": {
          "text": ""
         },
         "type": "linear",
         "zeroline": false
        },
        "yaxis": {
         "anchor": "x",
         "automargin": true,
         "domain": [
          0,
          1
         ],
         "fixedrange": true,
         "gridwidth": 2,
         "range": [
          0.21899999999999997,
          1.071
         ],
         "tickcolor": "white",
         "ticklen": 3,
         "ticks": "outside",
         "title": {
          "text": ""
         },
         "type": "linear",
         "zeroline": false
        }
       }
      }
     },
     "metadata": {},
     "output_type": "display_data"
    },
    {
     "name": "stderr",
     "output_type": "stream",
     "text": [
      "Calculating ceteris paribus: 100%|██████████| 1/1 [00:00<00:00, 245.93it/s]\n"
     ]
    },
    {
     "data": {
      "application/vnd.plotly.v1+json": {
       "config": {
        "displaylogo": false,
        "modeBarButtonsToRemove": [
         "sendDataToCloud",
         "lasso2d",
         "autoScale2d",
         "select2d",
         "zoom2d",
         "pan2d",
         "zoomIn2d",
         "zoomOut2d",
         "resetScale2d",
         "toggleSpikelines",
         "hoverCompareCartesian",
         "hoverClosestCartesian"
        ],
        "plotlyServerURL": "https://plot.ly",
        "staticPlot": false,
        "toImageButtonOptions": {
         "height": null,
         "width": null
        }
       },
       "data": [
        {
         "customdata": [
          [
           "</br>id: 73</br>prediction: 0.08</br>petal length (cm): 1.0</br></br>sepal length (cm): 6.1</br>sepal width (cm): 2.8</br>petal width (cm): 1.2</br>_original_yhat_: 0.8123438363032037</br>"
          ],
          [
           "</br>id: 73</br>prediction: 0.089</br>petal length (cm): 1.059</br></br>sepal length (cm): 6.1</br>sepal width (cm): 2.8</br>petal width (cm): 1.2</br>_original_yhat_: 0.8123438363032037</br>"
          ],
          [
           "</br>id: 73</br>prediction: 0.1</br>petal length (cm): 1.118</br></br>sepal length (cm): 6.1</br>sepal width (cm): 2.8</br>petal width (cm): 1.2</br>_original_yhat_: 0.8123438363032037</br>"
          ],
          [
           "</br>id: 73</br>prediction: 0.111</br>petal length (cm): 1.177</br></br>sepal length (cm): 6.1</br>sepal width (cm): 2.8</br>petal width (cm): 1.2</br>_original_yhat_: 0.8123438363032037</br>"
          ],
          [
           "</br>id: 73</br>prediction: 0.124</br>petal length (cm): 1.236</br></br>sepal length (cm): 6.1</br>sepal width (cm): 2.8</br>petal width (cm): 1.2</br>_original_yhat_: 0.8123438363032037</br>"
          ],
          [
           "</br>id: 73</br>prediction: 0.138</br>petal length (cm): 1.295</br></br>sepal length (cm): 6.1</br>sepal width (cm): 2.8</br>petal width (cm): 1.2</br>_original_yhat_: 0.8123438363032037</br>"
          ],
          [
           "</br>id: 73</br>prediction: 0.154</br>petal length (cm): 1.354</br></br>sepal length (cm): 6.1</br>sepal width (cm): 2.8</br>petal width (cm): 1.2</br>_original_yhat_: 0.8123438363032037</br>"
          ],
          [
           "</br>id: 73</br>prediction: 0.17</br>petal length (cm): 1.413</br></br>sepal length (cm): 6.1</br>sepal width (cm): 2.8</br>petal width (cm): 1.2</br>_original_yhat_: 0.8123438363032037</br>"
          ],
          [
           "</br>id: 73</br>prediction: 0.189</br>petal length (cm): 1.472</br></br>sepal length (cm): 6.1</br>sepal width (cm): 2.8</br>petal width (cm): 1.2</br>_original_yhat_: 0.8123438363032037</br>"
          ],
          [
           "</br>id: 73</br>prediction: 0.208</br>petal length (cm): 1.5310000000000001</br></br>sepal length (cm): 6.1</br>sepal width (cm): 2.8</br>petal width (cm): 1.2</br>_original_yhat_: 0.8123438363032037</br>"
          ],
          [
           "</br>id: 73</br>prediction: 0.229</br>petal length (cm): 1.59</br></br>sepal length (cm): 6.1</br>sepal width (cm): 2.8</br>petal width (cm): 1.2</br>_original_yhat_: 0.8123438363032037</br>"
          ],
          [
           "</br>id: 73</br>prediction: 0.252</br>petal length (cm): 1.649</br></br>sepal length (cm): 6.1</br>sepal width (cm): 2.8</br>petal width (cm): 1.2</br>_original_yhat_: 0.8123438363032037</br>"
          ],
          [
           "</br>id: 73</br>prediction: 0.276</br>petal length (cm): 1.7080000000000002</br></br>sepal length (cm): 6.1</br>sepal width (cm): 2.8</br>petal width (cm): 1.2</br>_original_yhat_: 0.8123438363032037</br>"
          ],
          [
           "</br>id: 73</br>prediction: 0.301</br>petal length (cm): 1.767</br></br>sepal length (cm): 6.1</br>sepal width (cm): 2.8</br>petal width (cm): 1.2</br>_original_yhat_: 0.8123438363032037</br>"
          ],
          [
           "</br>id: 73</br>prediction: 0.328</br>petal length (cm): 1.826</br></br>sepal length (cm): 6.1</br>sepal width (cm): 2.8</br>petal width (cm): 1.2</br>_original_yhat_: 0.8123438363032037</br>"
          ],
          [
           "</br>id: 73</br>prediction: 0.355</br>petal length (cm): 1.885</br></br>sepal length (cm): 6.1</br>sepal width (cm): 2.8</br>petal width (cm): 1.2</br>_original_yhat_: 0.8123438363032037</br>"
          ],
          [
           "</br>id: 73</br>prediction: 0.384</br>petal length (cm): 1.944</br></br>sepal length (cm): 6.1</br>sepal width (cm): 2.8</br>petal width (cm): 1.2</br>_original_yhat_: 0.8123438363032037</br>"
          ],
          [
           "</br>id: 73</br>prediction: 0.414</br>petal length (cm): 2.003</br></br>sepal length (cm): 6.1</br>sepal width (cm): 2.8</br>petal width (cm): 1.2</br>_original_yhat_: 0.8123438363032037</br>"
          ],
          [
           "</br>id: 73</br>prediction: 0.444</br>petal length (cm): 2.0620000000000003</br></br>sepal length (cm): 6.1</br>sepal width (cm): 2.8</br>petal width (cm): 1.2</br>_original_yhat_: 0.8123438363032037</br>"
          ],
          [
           "</br>id: 73</br>prediction: 0.474</br>petal length (cm): 2.121</br></br>sepal length (cm): 6.1</br>sepal width (cm): 2.8</br>petal width (cm): 1.2</br>_original_yhat_: 0.8123438363032037</br>"
          ],
          [
           "</br>id: 73</br>prediction: 0.505</br>petal length (cm): 2.18</br></br>sepal length (cm): 6.1</br>sepal width (cm): 2.8</br>petal width (cm): 1.2</br>_original_yhat_: 0.8123438363032037</br>"
          ],
          [
           "</br>id: 73</br>prediction: 0.536</br>petal length (cm): 2.239</br></br>sepal length (cm): 6.1</br>sepal width (cm): 2.8</br>petal width (cm): 1.2</br>_original_yhat_: 0.8123438363032037</br>"
          ],
          [
           "</br>id: 73</br>prediction: 0.566</br>petal length (cm): 2.298</br></br>sepal length (cm): 6.1</br>sepal width (cm): 2.8</br>petal width (cm): 1.2</br>_original_yhat_: 0.8123438363032037</br>"
          ],
          [
           "</br>id: 73</br>prediction: 0.596</br>petal length (cm): 2.357</br></br>sepal length (cm): 6.1</br>sepal width (cm): 2.8</br>petal width (cm): 1.2</br>_original_yhat_: 0.8123438363032037</br>"
          ],
          [
           "</br>id: 73</br>prediction: 0.626</br>petal length (cm): 2.4160000000000004</br></br>sepal length (cm): 6.1</br>sepal width (cm): 2.8</br>petal width (cm): 1.2</br>_original_yhat_: 0.8123438363032037</br>"
          ],
          [
           "</br>id: 73</br>prediction: 0.654</br>petal length (cm): 2.475</br></br>sepal length (cm): 6.1</br>sepal width (cm): 2.8</br>petal width (cm): 1.2</br>_original_yhat_: 0.8123438363032037</br>"
          ],
          [
           "</br>id: 73</br>prediction: 0.681</br>petal length (cm): 2.534</br></br>sepal length (cm): 6.1</br>sepal width (cm): 2.8</br>petal width (cm): 1.2</br>_original_yhat_: 0.8123438363032037</br>"
          ],
          [
           "</br>id: 73</br>prediction: 0.707</br>petal length (cm): 2.593</br></br>sepal length (cm): 6.1</br>sepal width (cm): 2.8</br>petal width (cm): 1.2</br>_original_yhat_: 0.8123438363032037</br>"
          ],
          [
           "</br>id: 73</br>prediction: 0.732</br>petal length (cm): 2.652</br></br>sepal length (cm): 6.1</br>sepal width (cm): 2.8</br>petal width (cm): 1.2</br>_original_yhat_: 0.8123438363032037</br>"
          ],
          [
           "</br>id: 73</br>prediction: 0.755</br>petal length (cm): 2.7110000000000003</br></br>sepal length (cm): 6.1</br>sepal width (cm): 2.8</br>petal width (cm): 1.2</br>_original_yhat_: 0.8123438363032037</br>"
          ],
          [
           "</br>id: 73</br>prediction: 0.777</br>petal length (cm): 2.77</br></br>sepal length (cm): 6.1</br>sepal width (cm): 2.8</br>petal width (cm): 1.2</br>_original_yhat_: 0.8123438363032037</br>"
          ],
          [
           "</br>id: 73</br>prediction: 0.798</br>petal length (cm): 2.829</br></br>sepal length (cm): 6.1</br>sepal width (cm): 2.8</br>petal width (cm): 1.2</br>_original_yhat_: 0.8123438363032037</br>"
          ],
          [
           "</br>id: 73</br>prediction: 0.817</br>petal length (cm): 2.888</br></br>sepal length (cm): 6.1</br>sepal width (cm): 2.8</br>petal width (cm): 1.2</br>_original_yhat_: 0.8123438363032037</br>"
          ],
          [
           "</br>id: 73</br>prediction: 0.834</br>petal length (cm): 2.947</br></br>sepal length (cm): 6.1</br>sepal width (cm): 2.8</br>petal width (cm): 1.2</br>_original_yhat_: 0.8123438363032037</br>"
          ],
          [
           "</br>id: 73</br>prediction: 0.85</br>petal length (cm): 3.0060000000000002</br></br>sepal length (cm): 6.1</br>sepal width (cm): 2.8</br>petal width (cm): 1.2</br>_original_yhat_: 0.8123438363032037</br>"
          ],
          [
           "</br>id: 73</br>prediction: 0.864</br>petal length (cm): 3.065</br></br>sepal length (cm): 6.1</br>sepal width (cm): 2.8</br>petal width (cm): 1.2</br>_original_yhat_: 0.8123438363032037</br>"
          ],
          [
           "</br>id: 73</br>prediction: 0.878</br>petal length (cm): 3.124</br></br>sepal length (cm): 6.1</br>sepal width (cm): 2.8</br>petal width (cm): 1.2</br>_original_yhat_: 0.8123438363032037</br>"
          ],
          [
           "</br>id: 73</br>prediction: 0.889</br>petal length (cm): 3.1830000000000003</br></br>sepal length (cm): 6.1</br>sepal width (cm): 2.8</br>petal width (cm): 1.2</br>_original_yhat_: 0.8123438363032037</br>"
          ],
          [
           "</br>id: 73</br>prediction: 0.9</br>petal length (cm): 3.242</br></br>sepal length (cm): 6.1</br>sepal width (cm): 2.8</br>petal width (cm): 1.2</br>_original_yhat_: 0.8123438363032037</br>"
          ],
          [
           "</br>id: 73</br>prediction: 0.909</br>petal length (cm): 3.301</br></br>sepal length (cm): 6.1</br>sepal width (cm): 2.8</br>petal width (cm): 1.2</br>_original_yhat_: 0.8123438363032037</br>"
          ],
          [
           "</br>id: 73</br>prediction: 0.918</br>petal length (cm): 3.3600000000000003</br></br>sepal length (cm): 6.1</br>sepal width (cm): 2.8</br>petal width (cm): 1.2</br>_original_yhat_: 0.8123438363032037</br>"
          ],
          [
           "</br>id: 73</br>prediction: 0.925</br>petal length (cm): 3.419</br></br>sepal length (cm): 6.1</br>sepal width (cm): 2.8</br>petal width (cm): 1.2</br>_original_yhat_: 0.8123438363032037</br>"
          ],
          [
           "</br>id: 73</br>prediction: 0.931</br>petal length (cm): 3.478</br></br>sepal length (cm): 6.1</br>sepal width (cm): 2.8</br>petal width (cm): 1.2</br>_original_yhat_: 0.8123438363032037</br>"
          ],
          [
           "</br>id: 73</br>prediction: 0.937</br>petal length (cm): 3.5370000000000004</br></br>sepal length (cm): 6.1</br>sepal width (cm): 2.8</br>petal width (cm): 1.2</br>_original_yhat_: 0.8123438363032037</br>"
          ],
          [
           "</br>id: 73</br>prediction: 0.941</br>petal length (cm): 3.596</br></br>sepal length (cm): 6.1</br>sepal width (cm): 2.8</br>petal width (cm): 1.2</br>_original_yhat_: 0.8123438363032037</br>"
          ],
          [
           "</br>id: 73</br>prediction: 0.944</br>petal length (cm): 3.6550000000000002</br></br>sepal length (cm): 6.1</br>sepal width (cm): 2.8</br>petal width (cm): 1.2</br>_original_yhat_: 0.8123438363032037</br>"
          ],
          [
           "</br>id: 73</br>prediction: 0.947</br>petal length (cm): 3.714</br></br>sepal length (cm): 6.1</br>sepal width (cm): 2.8</br>petal width (cm): 1.2</br>_original_yhat_: 0.8123438363032037</br>"
          ],
          [
           "</br>id: 73</br>prediction: 0.948</br>petal length (cm): 3.773</br></br>sepal length (cm): 6.1</br>sepal width (cm): 2.8</br>petal width (cm): 1.2</br>_original_yhat_: 0.8123438363032037</br>"
          ],
          [
           "</br>id: 73</br>prediction: 0.949</br>petal length (cm): 3.8320000000000003</br></br>sepal length (cm): 6.1</br>sepal width (cm): 2.8</br>petal width (cm): 1.2</br>_original_yhat_: 0.8123438363032037</br>"
          ],
          [
           "</br>id: 73</br>prediction: 0.949</br>petal length (cm): 3.891</br></br>sepal length (cm): 6.1</br>sepal width (cm): 2.8</br>petal width (cm): 1.2</br>_original_yhat_: 0.8123438363032037</br>"
          ],
          [
           "</br>id: 73</br>prediction: 0.948</br>petal length (cm): 3.95</br></br>sepal length (cm): 6.1</br>sepal width (cm): 2.8</br>petal width (cm): 1.2</br>_original_yhat_: 0.8123438363032037</br>"
          ],
          [
           "</br>id: 73</br>prediction: 0.946</br>petal length (cm): 4.009</br></br>sepal length (cm): 6.1</br>sepal width (cm): 2.8</br>petal width (cm): 1.2</br>_original_yhat_: 0.8123438363032037</br>"
          ],
          [
           "</br>id: 73</br>prediction: 0.942</br>petal length (cm): 4.068</br></br>sepal length (cm): 6.1</br>sepal width (cm): 2.8</br>petal width (cm): 1.2</br>_original_yhat_: 0.8123438363032037</br>"
          ],
          [
           "</br>id: 73</br>prediction: 0.938</br>petal length (cm): 4.127000000000001</br></br>sepal length (cm): 6.1</br>sepal width (cm): 2.8</br>petal width (cm): 1.2</br>_original_yhat_: 0.8123438363032037</br>"
          ],
          [
           "</br>id: 73</br>prediction: 0.932</br>petal length (cm): 4.186</br></br>sepal length (cm): 6.1</br>sepal width (cm): 2.8</br>petal width (cm): 1.2</br>_original_yhat_: 0.8123438363032037</br>"
          ],
          [
           "</br>id: 73</br>prediction: 0.925</br>petal length (cm): 4.245</br></br>sepal length (cm): 6.1</br>sepal width (cm): 2.8</br>petal width (cm): 1.2</br>_original_yhat_: 0.8123438363032037</br>"
          ],
          [
           "</br>id: 73</br>prediction: 0.917</br>petal length (cm): 4.304</br></br>sepal length (cm): 6.1</br>sepal width (cm): 2.8</br>petal width (cm): 1.2</br>_original_yhat_: 0.8123438363032037</br>"
          ],
          [
           "</br>id: 73</br>prediction: 0.907</br>petal length (cm): 4.363</br></br>sepal length (cm): 6.1</br>sepal width (cm): 2.8</br>petal width (cm): 1.2</br>_original_yhat_: 0.8123438363032037</br>"
          ],
          [
           "</br>id: 73</br>prediction: 0.895</br>petal length (cm): 4.422000000000001</br></br>sepal length (cm): 6.1</br>sepal width (cm): 2.8</br>petal width (cm): 1.2</br>_original_yhat_: 0.8123438363032037</br>"
          ],
          [
           "</br>id: 73</br>prediction: 0.882</br>petal length (cm): 4.481</br></br>sepal length (cm): 6.1</br>sepal width (cm): 2.8</br>petal width (cm): 1.2</br>_original_yhat_: 0.8123438363032037</br>"
          ],
          [
           "</br>id: 73</br>prediction: 0.866</br>petal length (cm): 4.54</br></br>sepal length (cm): 6.1</br>sepal width (cm): 2.8</br>petal width (cm): 1.2</br>_original_yhat_: 0.8123438363032037</br>"
          ],
          [
           "</br>id: 73</br>prediction: 0.848</br>petal length (cm): 4.599</br></br>sepal length (cm): 6.1</br>sepal width (cm): 2.8</br>petal width (cm): 1.2</br>_original_yhat_: 0.8123438363032037</br>"
          ],
          [
           "</br>id: 73</br>prediction: 0.828</br>petal length (cm): 4.658</br></br>sepal length (cm): 6.1</br>sepal width (cm): 2.8</br>petal width (cm): 1.2</br>_original_yhat_: 0.8123438363032037</br>"
          ],
          [
           "</br>id: 73</br>prediction: 0.812</br>petal length (cm): 4.7</br></br>sepal length (cm): 6.1</br>sepal width (cm): 2.8</br>petal width (cm): 1.2</br>_original_yhat_: 0.8123438363032037</br>"
          ],
          [
           "</br>id: 73</br>prediction: 0.806</br>petal length (cm): 4.7170000000000005</br></br>sepal length (cm): 6.1</br>sepal width (cm): 2.8</br>petal width (cm): 1.2</br>_original_yhat_: 0.8123438363032037</br>"
          ],
          [
           "</br>id: 73</br>prediction: 0.781</br>petal length (cm): 4.776</br></br>sepal length (cm): 6.1</br>sepal width (cm): 2.8</br>petal width (cm): 1.2</br>_original_yhat_: 0.8123438363032037</br>"
          ],
          [
           "</br>id: 73</br>prediction: 0.754</br>petal length (cm): 4.835000000000001</br></br>sepal length (cm): 6.1</br>sepal width (cm): 2.8</br>petal width (cm): 1.2</br>_original_yhat_: 0.8123438363032037</br>"
          ],
          [
           "</br>id: 73</br>prediction: 0.724</br>petal length (cm): 4.894</br></br>sepal length (cm): 6.1</br>sepal width (cm): 2.8</br>petal width (cm): 1.2</br>_original_yhat_: 0.8123438363032037</br>"
          ],
          [
           "</br>id: 73</br>prediction: 0.692</br>petal length (cm): 4.953</br></br>sepal length (cm): 6.1</br>sepal width (cm): 2.8</br>petal width (cm): 1.2</br>_original_yhat_: 0.8123438363032037</br>"
          ],
          [
           "</br>id: 73</br>prediction: 0.658</br>petal length (cm): 5.0120000000000005</br></br>sepal length (cm): 6.1</br>sepal width (cm): 2.8</br>petal width (cm): 1.2</br>_original_yhat_: 0.8123438363032037</br>"
          ],
          [
           "</br>id: 73</br>prediction: 0.622</br>petal length (cm): 5.071000000000001</br></br>sepal length (cm): 6.1</br>sepal width (cm): 2.8</br>petal width (cm): 1.2</br>_original_yhat_: 0.8123438363032037</br>"
          ],
          [
           "</br>id: 73</br>prediction: 0.585</br>petal length (cm): 5.13</br></br>sepal length (cm): 6.1</br>sepal width (cm): 2.8</br>petal width (cm): 1.2</br>_original_yhat_: 0.8123438363032037</br>"
          ],
          [
           "</br>id: 73</br>prediction: 0.547</br>petal length (cm): 5.189</br></br>sepal length (cm): 6.1</br>sepal width (cm): 2.8</br>petal width (cm): 1.2</br>_original_yhat_: 0.8123438363032037</br>"
          ],
          [
           "</br>id: 73</br>prediction: 0.508</br>petal length (cm): 5.248</br></br>sepal length (cm): 6.1</br>sepal width (cm): 2.8</br>petal width (cm): 1.2</br>_original_yhat_: 0.8123438363032037</br>"
          ],
          [
           "</br>id: 73</br>prediction: 0.469</br>petal length (cm): 5.307</br></br>sepal length (cm): 6.1</br>sepal width (cm): 2.8</br>petal width (cm): 1.2</br>_original_yhat_: 0.8123438363032037</br>"
          ],
          [
           "</br>id: 73</br>prediction: 0.43</br>petal length (cm): 5.3660000000000005</br></br>sepal length (cm): 6.1</br>sepal width (cm): 2.8</br>petal width (cm): 1.2</br>_original_yhat_: 0.8123438363032037</br>"
          ],
          [
           "</br>id: 73</br>prediction: 0.393</br>petal length (cm): 5.425000000000001</br></br>sepal length (cm): 6.1</br>sepal width (cm): 2.8</br>petal width (cm): 1.2</br>_original_yhat_: 0.8123438363032037</br>"
          ],
          [
           "</br>id: 73</br>prediction: 0.356</br>petal length (cm): 5.484</br></br>sepal length (cm): 6.1</br>sepal width (cm): 2.8</br>petal width (cm): 1.2</br>_original_yhat_: 0.8123438363032037</br>"
          ],
          [
           "</br>id: 73</br>prediction: 0.321</br>petal length (cm): 5.543</br></br>sepal length (cm): 6.1</br>sepal width (cm): 2.8</br>petal width (cm): 1.2</br>_original_yhat_: 0.8123438363032037</br>"
          ],
          [
           "</br>id: 73</br>prediction: 0.288</br>petal length (cm): 5.602</br></br>sepal length (cm): 6.1</br>sepal width (cm): 2.8</br>petal width (cm): 1.2</br>_original_yhat_: 0.8123438363032037</br>"
          ],
          [
           "</br>id: 73</br>prediction: 0.257</br>petal length (cm): 5.6610000000000005</br></br>sepal length (cm): 6.1</br>sepal width (cm): 2.8</br>petal width (cm): 1.2</br>_original_yhat_: 0.8123438363032037</br>"
          ],
          [
           "</br>id: 73</br>prediction: 0.228</br>petal length (cm): 5.720000000000001</br></br>sepal length (cm): 6.1</br>sepal width (cm): 2.8</br>petal width (cm): 1.2</br>_original_yhat_: 0.8123438363032037</br>"
          ],
          [
           "</br>id: 73</br>prediction: 0.202</br>petal length (cm): 5.779</br></br>sepal length (cm): 6.1</br>sepal width (cm): 2.8</br>petal width (cm): 1.2</br>_original_yhat_: 0.8123438363032037</br>"
          ],
          [
           "</br>id: 73</br>prediction: 0.178</br>petal length (cm): 5.838</br></br>sepal length (cm): 6.1</br>sepal width (cm): 2.8</br>petal width (cm): 1.2</br>_original_yhat_: 0.8123438363032037</br>"
          ],
          [
           "</br>id: 73</br>prediction: 0.156</br>petal length (cm): 5.897</br></br>sepal length (cm): 6.1</br>sepal width (cm): 2.8</br>petal width (cm): 1.2</br>_original_yhat_: 0.8123438363032037</br>"
          ],
          [
           "</br>id: 73</br>prediction: 0.137</br>petal length (cm): 5.956</br></br>sepal length (cm): 6.1</br>sepal width (cm): 2.8</br>petal width (cm): 1.2</br>_original_yhat_: 0.8123438363032037</br>"
          ],
          [
           "</br>id: 73</br>prediction: 0.119</br>petal length (cm): 6.015000000000001</br></br>sepal length (cm): 6.1</br>sepal width (cm): 2.8</br>petal width (cm): 1.2</br>_original_yhat_: 0.8123438363032037</br>"
          ],
          [
           "</br>id: 73</br>prediction: 0.104</br>petal length (cm): 6.074000000000001</br></br>sepal length (cm): 6.1</br>sepal width (cm): 2.8</br>petal width (cm): 1.2</br>_original_yhat_: 0.8123438363032037</br>"
          ],
          [
           "</br>id: 73</br>prediction: 0.09</br>petal length (cm): 6.133</br></br>sepal length (cm): 6.1</br>sepal width (cm): 2.8</br>petal width (cm): 1.2</br>_original_yhat_: 0.8123438363032037</br>"
          ],
          [
           "</br>id: 73</br>prediction: 0.078</br>petal length (cm): 6.192</br></br>sepal length (cm): 6.1</br>sepal width (cm): 2.8</br>petal width (cm): 1.2</br>_original_yhat_: 0.8123438363032037</br>"
          ],
          [
           "</br>id: 73</br>prediction: 0.067</br>petal length (cm): 6.251</br></br>sepal length (cm): 6.1</br>sepal width (cm): 2.8</br>petal width (cm): 1.2</br>_original_yhat_: 0.8123438363032037</br>"
          ],
          [
           "</br>id: 73</br>prediction: 0.058</br>petal length (cm): 6.3100000000000005</br></br>sepal length (cm): 6.1</br>sepal width (cm): 2.8</br>petal width (cm): 1.2</br>_original_yhat_: 0.8123438363032037</br>"
          ],
          [
           "</br>id: 73</br>prediction: 0.05</br>petal length (cm): 6.369000000000001</br></br>sepal length (cm): 6.1</br>sepal width (cm): 2.8</br>petal width (cm): 1.2</br>_original_yhat_: 0.8123438363032037</br>"
          ],
          [
           "</br>id: 73</br>prediction: 0.043</br>petal length (cm): 6.428</br></br>sepal length (cm): 6.1</br>sepal width (cm): 2.8</br>petal width (cm): 1.2</br>_original_yhat_: 0.8123438363032037</br>"
          ],
          [
           "</br>id: 73</br>prediction: 0.037</br>petal length (cm): 6.487</br></br>sepal length (cm): 6.1</br>sepal width (cm): 2.8</br>petal width (cm): 1.2</br>_original_yhat_: 0.8123438363032037</br>"
          ],
          [
           "</br>id: 73</br>prediction: 0.032</br>petal length (cm): 6.546</br></br>sepal length (cm): 6.1</br>sepal width (cm): 2.8</br>petal width (cm): 1.2</br>_original_yhat_: 0.8123438363032037</br>"
          ],
          [
           "</br>id: 73</br>prediction: 0.027</br>petal length (cm): 6.605</br></br>sepal length (cm): 6.1</br>sepal width (cm): 2.8</br>petal width (cm): 1.2</br>_original_yhat_: 0.8123438363032037</br>"
          ],
          [
           "</br>id: 73</br>prediction: 0.024</br>petal length (cm): 6.664000000000001</br></br>sepal length (cm): 6.1</br>sepal width (cm): 2.8</br>petal width (cm): 1.2</br>_original_yhat_: 0.8123438363032037</br>"
          ],
          [
           "</br>id: 73</br>prediction: 0.02</br>petal length (cm): 6.723000000000001</br></br>sepal length (cm): 6.1</br>sepal width (cm): 2.8</br>petal width (cm): 1.2</br>_original_yhat_: 0.8123438363032037</br>"
          ],
          [
           "</br>id: 73</br>prediction: 0.017</br>petal length (cm): 6.782</br></br>sepal length (cm): 6.1</br>sepal width (cm): 2.8</br>petal width (cm): 1.2</br>_original_yhat_: 0.8123438363032037</br>"
          ],
          [
           "</br>id: 73</br>prediction: 0.015</br>petal length (cm): 6.841</br></br>sepal length (cm): 6.1</br>sepal width (cm): 2.8</br>petal width (cm): 1.2</br>_original_yhat_: 0.8123438363032037</br>"
          ],
          [
           "</br>id: 73</br>prediction: 0.013</br>petal length (cm): 6.9</br></br>sepal length (cm): 6.1</br>sepal width (cm): 2.8</br>petal width (cm): 1.2</br>_original_yhat_: 0.8123438363032037</br>"
          ]
         ],
         "hovertemplate": "%{customdata[0]}<extra></extra>",
         "legendgroup": "Logistic Regression",
         "line": {
          "color": "#46bac2",
          "dash": "solid",
          "width": 2
         },
         "marker": {
          "symbol": "circle"
         },
         "mode": "lines",
         "name": "Logistic Regression",
         "opacity": 1,
         "orientation": "v",
         "showlegend": true,
         "type": "scatter",
         "x": [
          1,
          1.059,
          1.118,
          1.177,
          1.236,
          1.295,
          1.354,
          1.413,
          1.472,
          1.5310000000000001,
          1.59,
          1.649,
          1.7080000000000002,
          1.767,
          1.826,
          1.885,
          1.944,
          2.003,
          2.0620000000000003,
          2.121,
          2.18,
          2.239,
          2.298,
          2.357,
          2.4160000000000004,
          2.475,
          2.534,
          2.593,
          2.652,
          2.7110000000000003,
          2.77,
          2.829,
          2.888,
          2.947,
          3.0060000000000002,
          3.065,
          3.124,
          3.1830000000000003,
          3.242,
          3.301,
          3.3600000000000003,
          3.419,
          3.478,
          3.5370000000000004,
          3.596,
          3.6550000000000002,
          3.714,
          3.773,
          3.8320000000000003,
          3.891,
          3.95,
          4.009,
          4.068,
          4.127000000000001,
          4.186,
          4.245,
          4.304,
          4.363,
          4.422000000000001,
          4.481,
          4.54,
          4.599,
          4.658,
          4.7,
          4.7170000000000005,
          4.776,
          4.835000000000001,
          4.894,
          4.953,
          5.0120000000000005,
          5.071000000000001,
          5.13,
          5.189,
          5.248,
          5.307,
          5.3660000000000005,
          5.425000000000001,
          5.484,
          5.543,
          5.602,
          5.6610000000000005,
          5.720000000000001,
          5.779,
          5.838,
          5.897,
          5.956,
          6.015000000000001,
          6.074000000000001,
          6.133,
          6.192,
          6.251,
          6.3100000000000005,
          6.369000000000001,
          6.428,
          6.487,
          6.546,
          6.605,
          6.664000000000001,
          6.723000000000001,
          6.782,
          6.841,
          6.9
         ],
         "xaxis": "x",
         "y": [
          0.07976460670412272,
          0.08929975531140717,
          0.099851056304613,
          0.11149640951555577,
          0.1243123415416063,
          0.13837194894649973,
          0.15374246487881074,
          0.17048246880969814,
          0.18863879077473247,
          0.20824319976763736,
          0.22930900877382093,
          0.25182777278434193,
          0.27576629580322676,
          0.30106419179518723,
          0.3276322554948353,
          0.3553518852874967,
          0.38407575726202325,
          0.413629875921142,
          0.443817026678715,
          0.4744215372739708,
          0.5052151333221453,
          0.5359635638029413,
          0.5664335915015372,
          0.5963999038746561,
          0.6256515078726358,
          0.6539972265798961,
          0.6812700074300335,
          0.7073298670513889,
          0.7320654199092786,
          0.7553940510395245,
          0.7772608849883579,
          0.7976367662733876,
          0.8165154992393279,
          0.8339105995908185,
          0.8498517917162808,
          0.8643814522204428,
          0.8775511579682158,
          0.8894184525705572,
          0.900043903284706,
          0.9094884838012629,
          0.91781128892064,
          0.9250675650937457,
          0.9313070258348183,
          0.9365724122752429,
          0.9408982556118644,
          0.9443097989398698,
          0.9468220401408205,
          0.9484388645481452,
          0.9491522457236706,
          0.9489415047894287,
          0.9477726335225362,
          0.9455977041368251,
          0.942354409684264,
          0.9379658035401981,
          0.9323403343816061,
          0.9253723036752382,
          0.9169429041636628,
          0.9069220268413593,
          0.8951710450823385,
          0.8815467901155044,
          0.865906911661911,
          0.8481167591264159,
          0.8280578100700045,
          0.8123438363032037,
          0.8056375047486919,
          0.7808001172884163,
          0.7535380184981472,
          0.7239023946496217,
          0.6920122345298078,
          0.658060254637168,
          0.6223144741801256,
          0.5851144334977936,
          0.5468615826565031,
          0.5080040970909154,
          0.46901718241489077,
          0.43038064423080885,
          0.3925559545667723,
          0.3559651311613054,
          0.3209734376813331,
          0.2878772899399226,
          0.2568979653603604,
          0.228180933181732,
          0.20179999614687477,
          0.1777650443734475,
          0.15603208356431789,
          0.1365142726001678,
          0.11909292009282338,
          0.1036276710728059,
          0.08996540171758188,
          0.07794759061390232,
          0.06741612899361894,
          0.058217665562471814,
          0.050206660271252326,
          0.043247357014697445,
          0.03721489024382189,
          0.031995726052664014,
          0.027487613353859415,
          0.023599191688912523,
          0.020249373204367926,
          0.01736658978919202,
          0.014887973479588626,
          0.01275851933451274
         ],
         "yaxis": "y"
        },
        {
         "customdata": [
          [
           "</br>id: 73</br>prediction: 0.812</br>petal length (cm): 4.7</br></br>sepal length (cm): 6.1</br>sepal width (cm): 2.8</br>petal width (cm): 1.2</br>_original_yhat_: 0.8123438363032037</br>"
          ]
         ],
         "hovertemplate": "%{customdata[0]}<extra></extra>",
         "legendgroup": "",
         "marker": {
          "color": "#371ea3",
          "size": 10,
          "symbol": "circle"
         },
         "mode": "markers",
         "name": "",
         "opacity": 1,
         "orientation": "v",
         "showlegend": false,
         "type": "scatter",
         "x": [
          4.7
         ],
         "xaxis": "x",
         "y": [
          0.8123438363032037
         ],
         "yaxis": "y"
        }
       ],
       "layout": {
        "annotations": [
         {
          "font": {
           "size": 13
          },
          "showarrow": false,
          "text": "petal length (cm)",
          "x": 0.5,
          "xanchor": "center",
          "xref": "paper",
          "y": 1,
          "yanchor": "bottom",
          "yref": "paper"
         },
         {
          "font": {
           "size": 13
          },
          "showarrow": false,
          "text": "prediction",
          "textangle": -90,
          "x": -0.07,
          "xref": "paper",
          "y": 0.5,
          "yref": "paper"
         }
        ],
        "font": {
         "color": "#371ea3"
        },
        "height": 489,
        "hoverlabel": {
         "bgcolor": "rgba(0,0,0,0.8)"
        },
        "hovermode": "closest",
        "legend": {
         "font": {
          "size": 11
         },
         "itemsizing": "constant",
         "orientation": "h",
         "title": {
          "font": {
           "size": 12
          },
          "text": "label"
         },
         "tracegroupgap": 0,
         "x": 1,
         "xanchor": "right",
         "y": 1.0613496932515338,
         "yanchor": "bottom"
        },
        "margin": {
         "b": 71,
         "r": 30,
         "t": 78
        },
        "template": {
         "data": {
          "scatter": [
           {
            "type": "scatter"
           }
          ]
         }
        },
        "title": {
         "font": {
          "size": 16
         },
         "text": "Ceteris Paribus Profiles",
         "x": 0.15
        },
        "xaxis": {
         "anchor": "y",
         "automargin": true,
         "domain": [
          0,
          1
         ],
         "fixedrange": true,
         "gridwidth": 2,
         "showticklabels": true,
         "tickcolor": "white",
         "ticklen": 3,
         "ticks": "outside",
         "title": {
          "text": ""
         },
         "type": "linear",
         "zeroline": false
        },
        "yaxis": {
         "anchor": "x",
         "automargin": true,
         "domain": [
          0,
          1
         ],
         "fixedrange": true,
         "gridwidth": 2,
         "range": [
          -0.08088085330440306,
          1.0427916183625865
         ],
         "tickcolor": "white",
         "ticklen": 3,
         "ticks": "outside",
         "title": {
          "text": ""
         },
         "type": "linear",
         "zeroline": false
        }
       }
      }
     },
     "metadata": {},
     "output_type": "display_data"
    },
    {
     "name": "stderr",
     "output_type": "stream",
     "text": [
      "Calculating ceteris paribus: 100%|██████████| 1/1 [00:00<00:00, 42.41it/s]\n",
      "Calculating accumulated dependency: 100%|██████████| 1/1 [00:00<00:00, 16.24it/s]\n"
     ]
    },
    {
     "data": {
      "application/vnd.plotly.v1+json": {
       "config": {
        "displaylogo": false,
        "modeBarButtonsToRemove": [
         "sendDataToCloud",
         "lasso2d",
         "autoScale2d",
         "select2d",
         "zoom2d",
         "pan2d",
         "zoomIn2d",
         "zoomOut2d",
         "resetScale2d",
         "toggleSpikelines",
         "hoverCompareCartesian",
         "hoverClosestCartesian"
        ],
        "plotlyServerURL": "https://plot.ly",
        "staticPlot": false,
        "toImageButtonOptions": {
         "height": null,
         "width": null
        }
       },
       "data": [
        {
         "customdata": [
          [
           0.28733333333333333,
           "Random Forest",
           "petal length (cm)"
          ],
          [
           0.28733333333333333,
           "Random Forest",
           "petal length (cm)"
          ],
          [
           0.28733333333333333,
           "Random Forest",
           "petal length (cm)"
          ],
          [
           0.28733333333333333,
           "Random Forest",
           "petal length (cm)"
          ],
          [
           0.28733333333333333,
           "Random Forest",
           "petal length (cm)"
          ],
          [
           0.28733333333333333,
           "Random Forest",
           "petal length (cm)"
          ],
          [
           0.28733333333333333,
           "Random Forest",
           "petal length (cm)"
          ],
          [
           0.28733333333333333,
           "Random Forest",
           "petal length (cm)"
          ],
          [
           0.28733333333333333,
           "Random Forest",
           "petal length (cm)"
          ],
          [
           0.28733333333333333,
           "Random Forest",
           "petal length (cm)"
          ],
          [
           0.28733333333333333,
           "Random Forest",
           "petal length (cm)"
          ],
          [
           0.28733333333333333,
           "Random Forest",
           "petal length (cm)"
          ],
          [
           0.28733333333333333,
           "Random Forest",
           "petal length (cm)"
          ],
          [
           0.28733333333333333,
           "Random Forest",
           "petal length (cm)"
          ],
          [
           0.28733333333333333,
           "Random Forest",
           "petal length (cm)"
          ],
          [
           0.28733333333333333,
           "Random Forest",
           "petal length (cm)"
          ],
          [
           0.28733333333333333,
           "Random Forest",
           "petal length (cm)"
          ],
          [
           0.28733333333333333,
           "Random Forest",
           "petal length (cm)"
          ],
          [
           0.28733333333333333,
           "Random Forest",
           "petal length (cm)"
          ],
          [
           0.28733333333333333,
           "Random Forest",
           "petal length (cm)"
          ],
          [
           0.28733333333333333,
           "Random Forest",
           "petal length (cm)"
          ],
          [
           0.28733333333333333,
           "Random Forest",
           "petal length (cm)"
          ],
          [
           0.28733333333333333,
           "Random Forest",
           "petal length (cm)"
          ],
          [
           0.28733333333333333,
           "Random Forest",
           "petal length (cm)"
          ],
          [
           0.28733333333333333,
           "Random Forest",
           "petal length (cm)"
          ],
          [
           0.28733333333333333,
           "Random Forest",
           "petal length (cm)"
          ],
          [
           0.28733333333333333,
           "Random Forest",
           "petal length (cm)"
          ],
          [
           0.28733333333333333,
           "Random Forest",
           "petal length (cm)"
          ],
          [
           0.28733333333333333,
           "Random Forest",
           "petal length (cm)"
          ],
          [
           0.28733333333333333,
           "Random Forest",
           "petal length (cm)"
          ],
          [
           0.28733333333333333,
           "Random Forest",
           "petal length (cm)"
          ],
          [
           0.28733333333333333,
           "Random Forest",
           "petal length (cm)"
          ],
          [
           0.28733333333333333,
           "Random Forest",
           "petal length (cm)"
          ],
          [
           0.28733333333333333,
           "Random Forest",
           "petal length (cm)"
          ],
          [
           0.28733333333333333,
           "Random Forest",
           "petal length (cm)"
          ],
          [
           0.28733333333333333,
           "Random Forest",
           "petal length (cm)"
          ],
          [
           0.28733333333333333,
           "Random Forest",
           "petal length (cm)"
          ],
          [
           0.28733333333333333,
           "Random Forest",
           "petal length (cm)"
          ],
          [
           0.28733333333333333,
           "Random Forest",
           "petal length (cm)"
          ],
          [
           0.28733333333333333,
           "Random Forest",
           "petal length (cm)"
          ],
          [
           0.28733333333333333,
           "Random Forest",
           "petal length (cm)"
          ],
          [
           0.28733333333333333,
           "Random Forest",
           "petal length (cm)"
          ],
          [
           0.28733333333333333,
           "Random Forest",
           "petal length (cm)"
          ],
          [
           0.28733333333333333,
           "Random Forest",
           "petal length (cm)"
          ],
          [
           0.28733333333333333,
           "Random Forest",
           "petal length (cm)"
          ],
          [
           0.28733333333333333,
           "Random Forest",
           "petal length (cm)"
          ],
          [
           0.28733333333333333,
           "Random Forest",
           "petal length (cm)"
          ],
          [
           0.28733333333333333,
           "Random Forest",
           "petal length (cm)"
          ],
          [
           0.28733333333333333,
           "Random Forest",
           "petal length (cm)"
          ],
          [
           0.28733333333333333,
           "Random Forest",
           "petal length (cm)"
          ],
          [
           0.28733333333333333,
           "Random Forest",
           "petal length (cm)"
          ],
          [
           0.28733333333333333,
           "Random Forest",
           "petal length (cm)"
          ],
          [
           0.28733333333333333,
           "Random Forest",
           "petal length (cm)"
          ],
          [
           0.28733333333333333,
           "Random Forest",
           "petal length (cm)"
          ],
          [
           0.28733333333333333,
           "Random Forest",
           "petal length (cm)"
          ],
          [
           0.28733333333333333,
           "Random Forest",
           "petal length (cm)"
          ],
          [
           0.28733333333333333,
           "Random Forest",
           "petal length (cm)"
          ],
          [
           0.28733333333333333,
           "Random Forest",
           "petal length (cm)"
          ],
          [
           0.28733333333333333,
           "Random Forest",
           "petal length (cm)"
          ],
          [
           0.28733333333333333,
           "Random Forest",
           "petal length (cm)"
          ],
          [
           0.28733333333333333,
           "Random Forest",
           "petal length (cm)"
          ],
          [
           0.28733333333333333,
           "Random Forest",
           "petal length (cm)"
          ],
          [
           0.28733333333333333,
           "Random Forest",
           "petal length (cm)"
          ],
          [
           0.28733333333333333,
           "Random Forest",
           "petal length (cm)"
          ],
          [
           0.28733333333333333,
           "Random Forest",
           "petal length (cm)"
          ],
          [
           0.28733333333333333,
           "Random Forest",
           "petal length (cm)"
          ],
          [
           0.28733333333333333,
           "Random Forest",
           "petal length (cm)"
          ],
          [
           0.28733333333333333,
           "Random Forest",
           "petal length (cm)"
          ],
          [
           0.28733333333333333,
           "Random Forest",
           "petal length (cm)"
          ],
          [
           0.28733333333333333,
           "Random Forest",
           "petal length (cm)"
          ],
          [
           0.28733333333333333,
           "Random Forest",
           "petal length (cm)"
          ],
          [
           0.28733333333333333,
           "Random Forest",
           "petal length (cm)"
          ],
          [
           0.28733333333333333,
           "Random Forest",
           "petal length (cm)"
          ],
          [
           0.28733333333333333,
           "Random Forest",
           "petal length (cm)"
          ],
          [
           0.28733333333333333,
           "Random Forest",
           "petal length (cm)"
          ],
          [
           0.28733333333333333,
           "Random Forest",
           "petal length (cm)"
          ],
          [
           0.28733333333333333,
           "Random Forest",
           "petal length (cm)"
          ],
          [
           0.28733333333333333,
           "Random Forest",
           "petal length (cm)"
          ],
          [
           0.28733333333333333,
           "Random Forest",
           "petal length (cm)"
          ],
          [
           0.28733333333333333,
           "Random Forest",
           "petal length (cm)"
          ],
          [
           0.28733333333333333,
           "Random Forest",
           "petal length (cm)"
          ],
          [
           0.28733333333333333,
           "Random Forest",
           "petal length (cm)"
          ],
          [
           0.28733333333333333,
           "Random Forest",
           "petal length (cm)"
          ],
          [
           0.28733333333333333,
           "Random Forest",
           "petal length (cm)"
          ],
          [
           0.28733333333333333,
           "Random Forest",
           "petal length (cm)"
          ],
          [
           0.28733333333333333,
           "Random Forest",
           "petal length (cm)"
          ],
          [
           0.28733333333333333,
           "Random Forest",
           "petal length (cm)"
          ],
          [
           0.28733333333333333,
           "Random Forest",
           "petal length (cm)"
          ],
          [
           0.28733333333333333,
           "Random Forest",
           "petal length (cm)"
          ],
          [
           0.28733333333333333,
           "Random Forest",
           "petal length (cm)"
          ],
          [
           0.28733333333333333,
           "Random Forest",
           "petal length (cm)"
          ],
          [
           0.28733333333333333,
           "Random Forest",
           "petal length (cm)"
          ],
          [
           0.28733333333333333,
           "Random Forest",
           "petal length (cm)"
          ],
          [
           0.28733333333333333,
           "Random Forest",
           "petal length (cm)"
          ],
          [
           0.28733333333333333,
           "Random Forest",
           "petal length (cm)"
          ],
          [
           0.28733333333333333,
           "Random Forest",
           "petal length (cm)"
          ],
          [
           0.28733333333333333,
           "Random Forest",
           "petal length (cm)"
          ],
          [
           0.28733333333333333,
           "Random Forest",
           "petal length (cm)"
          ],
          [
           0.28733333333333333,
           "Random Forest",
           "petal length (cm)"
          ],
          [
           0.28733333333333333,
           "Random Forest",
           "petal length (cm)"
          ],
          [
           0.28733333333333333,
           "Random Forest",
           "petal length (cm)"
          ]
         ],
         "hovertemplate": "<b>%{hovertext}</b><br><br>prediction=%{y:.3f}<br>mean_prediction=%{customdata[0]:.3f}<extra></extra>",
         "hovertext": [
          "Random Forest",
          "Random Forest",
          "Random Forest",
          "Random Forest",
          "Random Forest",
          "Random Forest",
          "Random Forest",
          "Random Forest",
          "Random Forest",
          "Random Forest",
          "Random Forest",
          "Random Forest",
          "Random Forest",
          "Random Forest",
          "Random Forest",
          "Random Forest",
          "Random Forest",
          "Random Forest",
          "Random Forest",
          "Random Forest",
          "Random Forest",
          "Random Forest",
          "Random Forest",
          "Random Forest",
          "Random Forest",
          "Random Forest",
          "Random Forest",
          "Random Forest",
          "Random Forest",
          "Random Forest",
          "Random Forest",
          "Random Forest",
          "Random Forest",
          "Random Forest",
          "Random Forest",
          "Random Forest",
          "Random Forest",
          "Random Forest",
          "Random Forest",
          "Random Forest",
          "Random Forest",
          "Random Forest",
          "Random Forest",
          "Random Forest",
          "Random Forest",
          "Random Forest",
          "Random Forest",
          "Random Forest",
          "Random Forest",
          "Random Forest",
          "Random Forest",
          "Random Forest",
          "Random Forest",
          "Random Forest",
          "Random Forest",
          "Random Forest",
          "Random Forest",
          "Random Forest",
          "Random Forest",
          "Random Forest",
          "Random Forest",
          "Random Forest",
          "Random Forest",
          "Random Forest",
          "Random Forest",
          "Random Forest",
          "Random Forest",
          "Random Forest",
          "Random Forest",
          "Random Forest",
          "Random Forest",
          "Random Forest",
          "Random Forest",
          "Random Forest",
          "Random Forest",
          "Random Forest",
          "Random Forest",
          "Random Forest",
          "Random Forest",
          "Random Forest",
          "Random Forest",
          "Random Forest",
          "Random Forest",
          "Random Forest",
          "Random Forest",
          "Random Forest",
          "Random Forest",
          "Random Forest",
          "Random Forest",
          "Random Forest",
          "Random Forest",
          "Random Forest",
          "Random Forest",
          "Random Forest",
          "Random Forest",
          "Random Forest",
          "Random Forest",
          "Random Forest",
          "Random Forest",
          "Random Forest",
          "Random Forest"
         ],
         "legendgroup": "Random Forest",
         "line": {
          "color": "#46bac2",
          "dash": "solid",
          "width": 2
         },
         "marker": {
          "symbol": "circle"
         },
         "mode": "lines",
         "name": "Random Forest",
         "opacity": 1,
         "orientation": "v",
         "showlegend": true,
         "type": "scatter",
         "x": [
          1,
          1.059,
          1.118,
          1.177,
          1.236,
          1.295,
          1.354,
          1.413,
          1.472,
          1.5310000000000001,
          1.59,
          1.649,
          1.7080000000000002,
          1.767,
          1.826,
          1.885,
          1.944,
          2.003,
          2.0620000000000003,
          2.121,
          2.18,
          2.239,
          2.298,
          2.357,
          2.4160000000000004,
          2.475,
          2.534,
          2.593,
          2.652,
          2.7110000000000003,
          2.77,
          2.829,
          2.888,
          2.947,
          3.0060000000000002,
          3.065,
          3.124,
          3.1830000000000003,
          3.242,
          3.301,
          3.3600000000000003,
          3.419,
          3.478,
          3.5370000000000004,
          3.596,
          3.6550000000000002,
          3.714,
          3.773,
          3.8320000000000003,
          3.891,
          3.95,
          4.009,
          4.068,
          4.127000000000001,
          4.186,
          4.245,
          4.304,
          4.363,
          4.422000000000001,
          4.481,
          4.54,
          4.599,
          4.658,
          4.7170000000000005,
          4.776,
          4.835000000000001,
          4.894,
          4.953,
          5.0120000000000005,
          5.071000000000001,
          5.13,
          5.189,
          5.248,
          5.307,
          5.3660000000000005,
          5.425000000000001,
          5.484,
          5.543,
          5.602,
          5.6610000000000005,
          5.720000000000001,
          5.779,
          5.838,
          5.897,
          5.956,
          6.015000000000001,
          6.074000000000001,
          6.133,
          6.192,
          6.251,
          6.3100000000000005,
          6.369000000000001,
          6.428,
          6.487,
          6.546,
          6.605,
          6.664000000000001,
          6.723000000000001,
          6.782,
          6.841,
          6.9
         ],
         "xaxis": "x",
         "y": [
          0.15764118286087397,
          0.15764118286087397,
          0.15764118286087397,
          0.15764118286087397,
          0.15764118286087397,
          0.15764118286087397,
          0.15764118286087397,
          0.15764118286087397,
          0.15764118286087397,
          0.15764118286087397,
          0.15764118286087397,
          0.15764118286087397,
          0.15764118286087397,
          0.15764118286087397,
          0.15764118286087397,
          0.15764118286087397,
          0.15764118286087397,
          0.15764118286087397,
          0.15764118286087397,
          0.15764118286087397,
          0.15764118286087397,
          0.15764118286087397,
          0.15764118286087397,
          0.18680776530480553,
          0.18680776530480553,
          0.39004023812649247,
          0.40479281346136675,
          0.40479281346136675,
          0.5525058228181853,
          0.5616350780930917,
          0.5616350780930917,
          0.5635534754834586,
          0.5635534754834586,
          0.5635534754834586,
          0.5635534754834586,
          0.5635534754834586,
          0.5635534754834586,
          0.5635534754834586,
          0.5635534754834586,
          0.5729023082481011,
          0.5729023082481011,
          0.5729023082481011,
          0.5729023082481011,
          0.5729023082481011,
          0.5729023082481011,
          0.5729023082481011,
          0.5729023082481011,
          0.5729023082481011,
          0.5729023082481011,
          0.5729023082481011,
          0.5729023082481011,
          0.5718795252184325,
          0.5718795252184325,
          0.5718795252184325,
          0.5718795252184325,
          0.5718795252184325,
          0.5714755593209194,
          0.5714755593209194,
          0.5714755593209194,
          0.550162021738575,
          0.550162021738575,
          0.560162021738575,
          0.5567440430096624,
          0.5408828177491465,
          0.4240562869586956,
          0.42372326543355104,
          0.3809324315257601,
          0.28140304593845017,
          0.24143121907558673,
          0.148012916077702,
          0.13816803587074025,
          0.11442112589828113,
          0.09669412493366841,
          0.06902220410193377,
          0.055123931753654265,
          0.05270927802153558,
          0.040200459509578595,
          0.040200459509578595,
          0.040200459509578595,
          0.040200459509578595,
          0.040200459509578595,
          0.040200459509578595,
          0.040200459509578595,
          0.040200459509578595,
          0.040200459509578595,
          0.040200459509578595,
          0.040200459509578595,
          0.040200459509578595,
          0.040200459509578595,
          0.040200459509578595,
          0.040200459509578595,
          0.040200459509578595,
          0.040200459509578595,
          0.040200459509578595,
          0.040200459509578595,
          0.040200459509578595,
          0.040200459509578595,
          0.040200459509578595,
          0.040200459509578595,
          0.040200459509578595,
          0.040200459509578595
         ],
         "yaxis": "y"
        }
       ],
       "layout": {
        "annotations": [
         {
          "font": {
           "size": 13
          },
          "showarrow": false,
          "text": "petal length (cm)",
          "x": 0.5,
          "xanchor": "center",
          "xref": "paper",
          "y": 1,
          "yanchor": "bottom",
          "yref": "paper"
         },
         {
          "font": {
           "size": 13
          },
          "showarrow": false,
          "text": "prediction",
          "textangle": -90,
          "x": -0.07,
          "xref": "paper",
          "y": 0.5,
          "yref": "paper"
         }
        ],
        "font": {
         "color": "#371ea3"
        },
        "height": 489,
        "hovermode": "x unified",
        "legend": {
         "font": {
          "size": 11
         },
         "itemsizing": "constant",
         "orientation": "h",
         "title": {
          "font": {
           "size": 12
          },
          "text": "label"
         },
         "tracegroupgap": 0,
         "x": 1,
         "xanchor": "right",
         "y": 1.0613496932515338,
         "yanchor": "bottom"
        },
        "margin": {
         "b": 71,
         "r": 30,
         "t": 78
        },
        "template": {
         "data": {
          "scatter": [
           {
            "type": "scatter"
           }
          ]
         }
        },
        "title": {
         "font": {
          "size": 16
         },
         "text": "Aggregated Profiles",
         "x": 0.15
        },
        "xaxis": {
         "anchor": "y",
         "automargin": true,
         "domain": [
          0,
          1
         ],
         "fixedrange": true,
         "gridwidth": 2,
         "showticklabels": true,
         "tickcolor": "white",
         "ticklen": 3,
         "ticks": "outside",
         "title": {
          "text": ""
         },
         "type": "linear",
         "zeroline": false
        },
        "yaxis": {
         "anchor": "x",
         "automargin": true,
         "domain": [
          0,
          1
         ],
         "fixedrange": true,
         "gridwidth": 2,
         "range": [
          -0.01306972536427365,
          0.6261724931219533
         ],
         "tickcolor": "white",
         "ticklen": 3,
         "ticks": "outside",
         "title": {
          "text": ""
         },
         "type": "linear",
         "zeroline": false
        }
       }
      }
     },
     "metadata": {},
     "output_type": "display_data"
    },
    {
     "name": "stderr",
     "output_type": "stream",
     "text": [
      "Calculating ceteris paribus: 100%|██████████| 1/1 [00:00<00:00, 241.66it/s]\n",
      "Calculating accumulated dependency: 100%|██████████| 1/1 [00:00<00:00, 15.14it/s]\n"
     ]
    },
    {
     "data": {
      "application/vnd.plotly.v1+json": {
       "config": {
        "displaylogo": false,
        "modeBarButtonsToRemove": [
         "sendDataToCloud",
         "lasso2d",
         "autoScale2d",
         "select2d",
         "zoom2d",
         "pan2d",
         "zoomIn2d",
         "zoomOut2d",
         "resetScale2d",
         "toggleSpikelines",
         "hoverCompareCartesian",
         "hoverClosestCartesian"
        ],
        "plotlyServerURL": "https://plot.ly",
        "staticPlot": false,
        "toImageButtonOptions": {
         "height": null,
         "width": null
        }
       },
       "data": [
        {
         "customdata": [
          [
           0.2840298587733561,
           "Logistic Regression",
           "petal length (cm)"
          ],
          [
           0.2840298587733561,
           "Logistic Regression",
           "petal length (cm)"
          ],
          [
           0.2840298587733561,
           "Logistic Regression",
           "petal length (cm)"
          ],
          [
           0.2840298587733561,
           "Logistic Regression",
           "petal length (cm)"
          ],
          [
           0.2840298587733561,
           "Logistic Regression",
           "petal length (cm)"
          ],
          [
           0.2840298587733561,
           "Logistic Regression",
           "petal length (cm)"
          ],
          [
           0.2840298587733561,
           "Logistic Regression",
           "petal length (cm)"
          ],
          [
           0.2840298587733561,
           "Logistic Regression",
           "petal length (cm)"
          ],
          [
           0.2840298587733561,
           "Logistic Regression",
           "petal length (cm)"
          ],
          [
           0.2840298587733561,
           "Logistic Regression",
           "petal length (cm)"
          ],
          [
           0.2840298587733561,
           "Logistic Regression",
           "petal length (cm)"
          ],
          [
           0.2840298587733561,
           "Logistic Regression",
           "petal length (cm)"
          ],
          [
           0.2840298587733561,
           "Logistic Regression",
           "petal length (cm)"
          ],
          [
           0.2840298587733561,
           "Logistic Regression",
           "petal length (cm)"
          ],
          [
           0.2840298587733561,
           "Logistic Regression",
           "petal length (cm)"
          ],
          [
           0.2840298587733561,
           "Logistic Regression",
           "petal length (cm)"
          ],
          [
           0.2840298587733561,
           "Logistic Regression",
           "petal length (cm)"
          ],
          [
           0.2840298587733561,
           "Logistic Regression",
           "petal length (cm)"
          ],
          [
           0.2840298587733561,
           "Logistic Regression",
           "petal length (cm)"
          ],
          [
           0.2840298587733561,
           "Logistic Regression",
           "petal length (cm)"
          ],
          [
           0.2840298587733561,
           "Logistic Regression",
           "petal length (cm)"
          ],
          [
           0.2840298587733561,
           "Logistic Regression",
           "petal length (cm)"
          ],
          [
           0.2840298587733561,
           "Logistic Regression",
           "petal length (cm)"
          ],
          [
           0.2840298587733561,
           "Logistic Regression",
           "petal length (cm)"
          ],
          [
           0.2840298587733561,
           "Logistic Regression",
           "petal length (cm)"
          ],
          [
           0.2840298587733561,
           "Logistic Regression",
           "petal length (cm)"
          ],
          [
           0.2840298587733561,
           "Logistic Regression",
           "petal length (cm)"
          ],
          [
           0.2840298587733561,
           "Logistic Regression",
           "petal length (cm)"
          ],
          [
           0.2840298587733561,
           "Logistic Regression",
           "petal length (cm)"
          ],
          [
           0.2840298587733561,
           "Logistic Regression",
           "petal length (cm)"
          ],
          [
           0.2840298587733561,
           "Logistic Regression",
           "petal length (cm)"
          ],
          [
           0.2840298587733561,
           "Logistic Regression",
           "petal length (cm)"
          ],
          [
           0.2840298587733561,
           "Logistic Regression",
           "petal length (cm)"
          ],
          [
           0.2840298587733561,
           "Logistic Regression",
           "petal length (cm)"
          ],
          [
           0.2840298587733561,
           "Logistic Regression",
           "petal length (cm)"
          ],
          [
           0.2840298587733561,
           "Logistic Regression",
           "petal length (cm)"
          ],
          [
           0.2840298587733561,
           "Logistic Regression",
           "petal length (cm)"
          ],
          [
           0.2840298587733561,
           "Logistic Regression",
           "petal length (cm)"
          ],
          [
           0.2840298587733561,
           "Logistic Regression",
           "petal length (cm)"
          ],
          [
           0.2840298587733561,
           "Logistic Regression",
           "petal length (cm)"
          ],
          [
           0.2840298587733561,
           "Logistic Regression",
           "petal length (cm)"
          ],
          [
           0.2840298587733561,
           "Logistic Regression",
           "petal length (cm)"
          ],
          [
           0.2840298587733561,
           "Logistic Regression",
           "petal length (cm)"
          ],
          [
           0.2840298587733561,
           "Logistic Regression",
           "petal length (cm)"
          ],
          [
           0.2840298587733561,
           "Logistic Regression",
           "petal length (cm)"
          ],
          [
           0.2840298587733561,
           "Logistic Regression",
           "petal length (cm)"
          ],
          [
           0.2840298587733561,
           "Logistic Regression",
           "petal length (cm)"
          ],
          [
           0.2840298587733561,
           "Logistic Regression",
           "petal length (cm)"
          ],
          [
           0.2840298587733561,
           "Logistic Regression",
           "petal length (cm)"
          ],
          [
           0.2840298587733561,
           "Logistic Regression",
           "petal length (cm)"
          ],
          [
           0.2840298587733561,
           "Logistic Regression",
           "petal length (cm)"
          ],
          [
           0.2840298587733561,
           "Logistic Regression",
           "petal length (cm)"
          ],
          [
           0.2840298587733561,
           "Logistic Regression",
           "petal length (cm)"
          ],
          [
           0.2840298587733561,
           "Logistic Regression",
           "petal length (cm)"
          ],
          [
           0.2840298587733561,
           "Logistic Regression",
           "petal length (cm)"
          ],
          [
           0.2840298587733561,
           "Logistic Regression",
           "petal length (cm)"
          ],
          [
           0.2840298587733561,
           "Logistic Regression",
           "petal length (cm)"
          ],
          [
           0.2840298587733561,
           "Logistic Regression",
           "petal length (cm)"
          ],
          [
           0.2840298587733561,
           "Logistic Regression",
           "petal length (cm)"
          ],
          [
           0.2840298587733561,
           "Logistic Regression",
           "petal length (cm)"
          ],
          [
           0.2840298587733561,
           "Logistic Regression",
           "petal length (cm)"
          ],
          [
           0.2840298587733561,
           "Logistic Regression",
           "petal length (cm)"
          ],
          [
           0.2840298587733561,
           "Logistic Regression",
           "petal length (cm)"
          ],
          [
           0.2840298587733561,
           "Logistic Regression",
           "petal length (cm)"
          ],
          [
           0.2840298587733561,
           "Logistic Regression",
           "petal length (cm)"
          ],
          [
           0.2840298587733561,
           "Logistic Regression",
           "petal length (cm)"
          ],
          [
           0.2840298587733561,
           "Logistic Regression",
           "petal length (cm)"
          ],
          [
           0.2840298587733561,
           "Logistic Regression",
           "petal length (cm)"
          ],
          [
           0.2840298587733561,
           "Logistic Regression",
           "petal length (cm)"
          ],
          [
           0.2840298587733561,
           "Logistic Regression",
           "petal length (cm)"
          ],
          [
           0.2840298587733561,
           "Logistic Regression",
           "petal length (cm)"
          ],
          [
           0.2840298587733561,
           "Logistic Regression",
           "petal length (cm)"
          ],
          [
           0.2840298587733561,
           "Logistic Regression",
           "petal length (cm)"
          ],
          [
           0.2840298587733561,
           "Logistic Regression",
           "petal length (cm)"
          ],
          [
           0.2840298587733561,
           "Logistic Regression",
           "petal length (cm)"
          ],
          [
           0.2840298587733561,
           "Logistic Regression",
           "petal length (cm)"
          ],
          [
           0.2840298587733561,
           "Logistic Regression",
           "petal length (cm)"
          ],
          [
           0.2840298587733561,
           "Logistic Regression",
           "petal length (cm)"
          ],
          [
           0.2840298587733561,
           "Logistic Regression",
           "petal length (cm)"
          ],
          [
           0.2840298587733561,
           "Logistic Regression",
           "petal length (cm)"
          ],
          [
           0.2840298587733561,
           "Logistic Regression",
           "petal length (cm)"
          ],
          [
           0.2840298587733561,
           "Logistic Regression",
           "petal length (cm)"
          ],
          [
           0.2840298587733561,
           "Logistic Regression",
           "petal length (cm)"
          ],
          [
           0.2840298587733561,
           "Logistic Regression",
           "petal length (cm)"
          ],
          [
           0.2840298587733561,
           "Logistic Regression",
           "petal length (cm)"
          ],
          [
           0.2840298587733561,
           "Logistic Regression",
           "petal length (cm)"
          ],
          [
           0.2840298587733561,
           "Logistic Regression",
           "petal length (cm)"
          ],
          [
           0.2840298587733561,
           "Logistic Regression",
           "petal length (cm)"
          ],
          [
           0.2840298587733561,
           "Logistic Regression",
           "petal length (cm)"
          ],
          [
           0.2840298587733561,
           "Logistic Regression",
           "petal length (cm)"
          ],
          [
           0.2840298587733561,
           "Logistic Regression",
           "petal length (cm)"
          ],
          [
           0.2840298587733561,
           "Logistic Regression",
           "petal length (cm)"
          ],
          [
           0.2840298587733561,
           "Logistic Regression",
           "petal length (cm)"
          ],
          [
           0.2840298587733561,
           "Logistic Regression",
           "petal length (cm)"
          ],
          [
           0.2840298587733561,
           "Logistic Regression",
           "petal length (cm)"
          ],
          [
           0.2840298587733561,
           "Logistic Regression",
           "petal length (cm)"
          ],
          [
           0.2840298587733561,
           "Logistic Regression",
           "petal length (cm)"
          ],
          [
           0.2840298587733561,
           "Logistic Regression",
           "petal length (cm)"
          ],
          [
           0.2840298587733561,
           "Logistic Regression",
           "petal length (cm)"
          ],
          [
           0.2840298587733561,
           "Logistic Regression",
           "petal length (cm)"
          ],
          [
           0.2840298587733561,
           "Logistic Regression",
           "petal length (cm)"
          ]
         ],
         "hovertemplate": "<b>%{hovertext}</b><br><br>prediction=%{y:.3f}<br>mean_prediction=%{customdata[0]:.3f}<extra></extra>",
         "hovertext": [
          "Logistic Regression",
          "Logistic Regression",
          "Logistic Regression",
          "Logistic Regression",
          "Logistic Regression",
          "Logistic Regression",
          "Logistic Regression",
          "Logistic Regression",
          "Logistic Regression",
          "Logistic Regression",
          "Logistic Regression",
          "Logistic Regression",
          "Logistic Regression",
          "Logistic Regression",
          "Logistic Regression",
          "Logistic Regression",
          "Logistic Regression",
          "Logistic Regression",
          "Logistic Regression",
          "Logistic Regression",
          "Logistic Regression",
          "Logistic Regression",
          "Logistic Regression",
          "Logistic Regression",
          "Logistic Regression",
          "Logistic Regression",
          "Logistic Regression",
          "Logistic Regression",
          "Logistic Regression",
          "Logistic Regression",
          "Logistic Regression",
          "Logistic Regression",
          "Logistic Regression",
          "Logistic Regression",
          "Logistic Regression",
          "Logistic Regression",
          "Logistic Regression",
          "Logistic Regression",
          "Logistic Regression",
          "Logistic Regression",
          "Logistic Regression",
          "Logistic Regression",
          "Logistic Regression",
          "Logistic Regression",
          "Logistic Regression",
          "Logistic Regression",
          "Logistic Regression",
          "Logistic Regression",
          "Logistic Regression",
          "Logistic Regression",
          "Logistic Regression",
          "Logistic Regression",
          "Logistic Regression",
          "Logistic Regression",
          "Logistic Regression",
          "Logistic Regression",
          "Logistic Regression",
          "Logistic Regression",
          "Logistic Regression",
          "Logistic Regression",
          "Logistic Regression",
          "Logistic Regression",
          "Logistic Regression",
          "Logistic Regression",
          "Logistic Regression",
          "Logistic Regression",
          "Logistic Regression",
          "Logistic Regression",
          "Logistic Regression",
          "Logistic Regression",
          "Logistic Regression",
          "Logistic Regression",
          "Logistic Regression",
          "Logistic Regression",
          "Logistic Regression",
          "Logistic Regression",
          "Logistic Regression",
          "Logistic Regression",
          "Logistic Regression",
          "Logistic Regression",
          "Logistic Regression",
          "Logistic Regression",
          "Logistic Regression",
          "Logistic Regression",
          "Logistic Regression",
          "Logistic Regression",
          "Logistic Regression",
          "Logistic Regression",
          "Logistic Regression",
          "Logistic Regression",
          "Logistic Regression",
          "Logistic Regression",
          "Logistic Regression",
          "Logistic Regression",
          "Logistic Regression",
          "Logistic Regression",
          "Logistic Regression",
          "Logistic Regression",
          "Logistic Regression",
          "Logistic Regression",
          "Logistic Regression"
         ],
         "legendgroup": "Logistic Regression",
         "line": {
          "color": "#46bac2",
          "dash": "solid",
          "width": 2
         },
         "marker": {
          "symbol": "circle"
         },
         "mode": "lines",
         "name": "Logistic Regression",
         "opacity": 1,
         "orientation": "v",
         "showlegend": true,
         "type": "scatter",
         "x": [
          1,
          1.059,
          1.118,
          1.177,
          1.236,
          1.295,
          1.354,
          1.413,
          1.472,
          1.5310000000000001,
          1.59,
          1.649,
          1.7080000000000002,
          1.767,
          1.826,
          1.885,
          1.944,
          2.003,
          2.0620000000000003,
          2.121,
          2.18,
          2.239,
          2.298,
          2.357,
          2.4160000000000004,
          2.475,
          2.534,
          2.593,
          2.652,
          2.7110000000000003,
          2.77,
          2.829,
          2.888,
          2.947,
          3.0060000000000002,
          3.065,
          3.124,
          3.1830000000000003,
          3.242,
          3.301,
          3.3600000000000003,
          3.419,
          3.478,
          3.5370000000000004,
          3.596,
          3.6550000000000002,
          3.714,
          3.773,
          3.8320000000000003,
          3.891,
          3.95,
          4.009,
          4.068,
          4.127000000000001,
          4.186,
          4.245,
          4.304,
          4.363,
          4.422000000000001,
          4.481,
          4.54,
          4.599,
          4.658,
          4.7170000000000005,
          4.776,
          4.835000000000001,
          4.894,
          4.953,
          5.0120000000000005,
          5.071000000000001,
          5.13,
          5.189,
          5.248,
          5.307,
          5.3660000000000005,
          5.425000000000001,
          5.484,
          5.543,
          5.602,
          5.6610000000000005,
          5.720000000000001,
          5.779,
          5.838,
          5.897,
          5.956,
          6.015000000000001,
          6.074000000000001,
          6.133,
          6.192,
          6.251,
          6.3100000000000005,
          6.369000000000001,
          6.428,
          6.487,
          6.546,
          6.605,
          6.664000000000001,
          6.723000000000001,
          6.782,
          6.841,
          6.9
         ],
         "xaxis": "x",
         "y": [
          0.07601480352478712,
          0.07811282478145473,
          0.08050827325339721,
          0.08324081556021787,
          0.08635432525837528,
          0.08989697557499671,
          0.0939212206949338,
          0.09848363393620116,
          0.10364456961754448,
          0.10946761579164915,
          0.11601880787269536,
          0.123365579041682,
          0.13157543252133763,
          0.1407143334694177,
          0.15084483408538182,
          0.1620239638766867,
          0.1743009367570138,
          0.1877147462256015,
          0.20229173752704185,
          0.21804325960733742,
          0.23496350830169246,
          0.25302767445601443,
          0.2721905062219737,
          0.29238538389924507,
          0.3135239892891114,
          0.3354966306571798,
          0.3581732600335982,
          0.3814051922641388,
          0.40502750508326835,
          0.4288620664339102,
          0.45272109952079886,
          0.4764111587303543,
          0.49973735295447397,
          0.5225076207772907,
          0.5445368391739235,
          0.5656505387330288,
          0.585688007912468,
          0.6045045984374331,
          0.6219730929316869,
          0.6379840607053913,
          0.6524452024733751,
          0.6652797624995019,
          0.6764241600032863,
          0.6858250543625879,
          0.6934361061490553,
          0.6992147256899819,
          0.7031191115874356,
          0.7051058732700832,
          0.705128504182744,
          0.7031369252688031,
          0.6990782513364506,
          0.6928988456357825,
          0.6845476224806555,
          0.6739804398435936,
          0.6611653045065042,
          0.6460880075539042,
          0.6287577363868295,
          0.609212187643946,
          0.5875217422116792,
          0.5637923549539615,
          0.5381669399686871,
          0.5108251690375218,
          0.4819817168495455,
          0.4518830606616074,
          0.4208029700674096,
          0.38903681869185835,
          0.3568948409790274,
          0.3246944726062478,
          0.2927519706290838,
          0.2613736082580346,
          0.23084685772847513,
          0.2014320776469456,
          0.17335527096450193,
          0.14680244943776283,
          0.12191602295205708,
          0.09879344271362292,
          0.07748809953971669,
          0.05801225440975549,
          0.04034159747058702,
          0.02442092083787961,
          0.010170359360147041,
          -0.0025083055553182243,
          -0.013725690814301972,
          -0.02359949688047963,
          -0.03225000199973849,
          -0.03979642599705974,
          -0.04635414148232542,
          -0.05203265561064596,
          -0.05693425626186016,
          -0.06115320695100285,
          -0.06477537844497916,
          -0.06787821613062078,
          -0.07053095631634493,
          -0.07279501911541464,
          -0.07472451894380039,
          -0.0763668454560596,
          -0.07776327790699739,
          -0.07894960461742184,
          -0.07995672661017977,
          -0.08081123069843416,
          -0.08153592244341529
         ],
         "yaxis": "y"
        }
       ],
       "layout": {
        "annotations": [
         {
          "font": {
           "size": 13
          },
          "showarrow": false,
          "text": "petal length (cm)",
          "x": 0.5,
          "xanchor": "center",
          "xref": "paper",
          "y": 1,
          "yanchor": "bottom",
          "yref": "paper"
         },
         {
          "font": {
           "size": 13
          },
          "showarrow": false,
          "text": "prediction",
          "textangle": -90,
          "x": -0.07,
          "xref": "paper",
          "y": 0.5,
          "yref": "paper"
         }
        ],
        "font": {
         "color": "#371ea3"
        },
        "height": 489,
        "hovermode": "x unified",
        "legend": {
         "font": {
          "size": 11
         },
         "itemsizing": "constant",
         "orientation": "h",
         "title": {
          "font": {
           "size": 12
          },
          "text": "label"
         },
         "tracegroupgap": 0,
         "x": 1,
         "xanchor": "right",
         "y": 1.0613496932515338,
         "yanchor": "bottom"
        },
        "margin": {
         "b": 71,
         "r": 30,
         "t": 78
        },
        "template": {
         "data": {
          "scatter": [
           {
            "type": "scatter"
           }
          ]
         }
        },
        "title": {
         "font": {
          "size": 16
         },
         "text": "Aggregated Profiles",
         "x": 0.15
        },
        "xaxis": {
         "anchor": "y",
         "automargin": true,
         "domain": [
          0,
          1
         ],
         "fixedrange": true,
         "gridwidth": 2,
         "showticklabels": true,
         "tickcolor": "white",
         "ticklen": 3,
         "ticks": "outside",
         "title": {
          "text": ""
         },
         "type": "linear",
         "zeroline": false
        },
        "yaxis": {
         "anchor": "x",
         "automargin": true,
         "domain": [
          0,
          1
         ],
         "fixedrange": true,
         "gridwidth": 2,
         "range": [
          -0.16020236510603122,
          0.7837949468453599
         ],
         "tickcolor": "white",
         "ticklen": 3,
         "ticks": "outside",
         "title": {
          "text": ""
         },
         "type": "linear",
         "zeroline": false
        }
       }
      }
     },
     "metadata": {},
     "output_type": "display_data"
    }
   ],
   "source": [
    "# Import necessary libraries\n",
    "from sklearn.ensemble import RandomForestClassifier\n",
    "from sklearn.datasets import load_iris\n",
    "from sklearn.model_selection import train_test_split\n",
    "from sklearn.linear_model import LogisticRegression\n",
    "import pandas as pd\n",
    "import dalex as dx\n",
    "import plotly.express as px\n",
    "\n",
    "# Load the iris dataset\n",
    "iris = load_iris()\n",
    "X, y = iris.data, iris.target\n",
    "\n",
    "# Convert to DataFrame to include feature names\n",
    "X_df = pd.DataFrame(X, columns=iris.feature_names)\n",
    "\n",
    "# Split the dataset into training and testing sets\n",
    "X_train, X_test, y_train, y_test = train_test_split(X_df, y, test_size=0.3, random_state=42)\n",
    "\n",
    "# Build the random forest model\n",
    "rf_model = RandomForestClassifier(random_state=42)\n",
    "rf_model.fit(X_train, y_train)\n",
    "\n",
    "# Create a DALEX explainer for the random forest model\n",
    "explainer_rf = dx.Explainer(rf_model, X_test, y_test, label=\"Random Forest\")\n",
    "\n",
    "# Build a logistic regression model\n",
    "lr_model = LogisticRegression(random_state=42)\n",
    "lr_model.fit(X_train, y_train)\n",
    "\n",
    "# Create another DALEX explainer for the logistic regression model\n",
    "explainer_lr = dx.Explainer(lr_model, X_test, y_test, label=\"Logistic Regression\")\n",
    "\n",
    "# Generate predictions for the first 10 observations\n",
    "predictions = explainer_rf.predict(X_test)[0:10]\n",
    "\n",
    "# Generate Break Down plot for the first observation\n",
    "bd = explainer_rf.predict_parts(X_test.iloc[0], type='break_down')\n",
    "bd.plot()\n",
    "\n",
    "# Generate Shapley plot for the first observation\n",
    "shap = explainer_rf.predict_parts(X_test.iloc[0], type='shap')\n",
    "shap.plot()\n",
    "\n",
    "# Generate Feature Importance plot for the random forest model\n",
    "fi_rf = explainer_rf.model_parts()\n",
    "fi_rf.plot()\n",
    "\n",
    "# Evaluate model performance for both models\n",
    "performance_rf = explainer_rf.model_performance()\n",
    "performance_lr = explainer_lr.model_performance()\n",
    "\n",
    "# Plot and compare model performances\n",
    "print(\"Random Forest\")\n",
    "performance_rf.plot()\n",
    "print(\"Logistic Regression\")\n",
    "performance_lr.plot()\n",
    "\n",
    "# Generate Partial Dependence Plots (PDP)\n",
    "pdp = explainer_rf.model_profile(variables=['sepal length (cm)'])\n",
    "pdp.plot()\n",
    "\n",
    "pdp = explainer_lr.model_profile(variables=['sepal length (cm)'])\n",
    "pdp.plot()\n",
    "\n",
    "# Generate Ceteris Paribus plot for the first observation\n",
    "cp = explainer_rf.predict_profile(X_test.iloc[0])\n",
    "cp.plot()\n",
    "\n",
    "cp = explainer_lr.predict_profile(X_test.iloc[0])\n",
    "cp.plot()\n",
    "# Generate Accumulated Local Effects (ALE) plot\n",
    "ale = explainer_rf.model_profile(type='accumulated', variables=['sepal length (cm)'])\n",
    "ale.plot()\n",
    "ale = explainer_lr.model_profile(type='accumulated', variables=['sepal length (cm)'])\n",
    "ale.plot()\n",
    "\n",
    "# Generate Residuals plot\n",
    "residuals = explainer_rf.model_performance()\n",
    "residuals.plot()\n",
    "residuals = explainer_lr.model_performance()\n",
    "residuals.plot()\n",
    "\n",
    "# Advanced Feature Analysis - Ceteris Paribus and ALE for another feature\n",
    "cp_petal = explainer_rf.predict_profile(X_test.iloc[0], variables=['petal length (cm)'])\n",
    "cp_petal.plot()\n",
    "cp_petal = explainer_lr.predict_profile(X_test.iloc[0], variables=['petal length (cm)'])\n",
    "cp_petal.plot()\n",
    "\n",
    "ale_petal = explainer_rf.model_profile(type='accumulated', variables=['petal length (cm)'])\n",
    "ale_petal.plot()\n",
    "ale_petal = explainer_lr.model_profile(type='accumulated', variables=['petal length (cm)'])\n",
    "ale_petal.plot()\n"
   ]
  }
 ],
 "metadata": {
  "kernelspec": {
   "display_name": "Python 3",
   "language": "python",
   "name": "python3"
  },
  "language_info": {
   "codemirror_mode": {
    "name": "ipython",
    "version": 3
   },
   "file_extension": ".py",
   "mimetype": "text/x-python",
   "name": "python",
   "nbconvert_exporter": "python",
   "pygments_lexer": "ipython3",
   "version": "3.11.9"
  }
 },
 "nbformat": 4,
 "nbformat_minor": 2
}
